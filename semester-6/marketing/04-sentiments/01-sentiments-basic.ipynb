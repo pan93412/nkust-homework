{
 "cells": [
  {
   "cell_type": "markdown",
   "metadata": {},
   "source": [
    "# 情緒分析基本用法"
   ]
  },
  {
   "cell_type": "code",
   "execution_count": 1,
   "metadata": {},
   "outputs": [],
   "source": [
    "from snownlp import SnowNLP"
   ]
  },
  {
   "cell_type": "markdown",
   "metadata": {},
   "source": [
    "## 一句範例"
   ]
  },
  {
   "cell_type": "code",
   "execution_count": 2,
   "metadata": {},
   "outputs": [
    {
     "data": {
      "text/plain": [
       "0.41709449987497127"
      ]
     },
     "execution_count": 2,
     "metadata": {},
     "output_type": "execute_result"
    }
   ],
   "source": [
    "onesentence = \"我覺得那家餐廳服務很不好\"\n",
    "\n",
    "# 計算情緒分數\n",
    "nlp = SnowNLP(onesentence)\n",
    "nlp.sentiments  # 很不好這個詞的判斷會有失準"
   ]
  },
  {
   "cell_type": "code",
   "execution_count": 3,
   "metadata": {},
   "outputs": [
    {
     "data": {
      "text/plain": [
       "0.2783442094948876"
      ]
     },
     "execution_count": 3,
     "metadata": {},
     "output_type": "execute_result"
    }
   ],
   "source": [
    "onesentence = \"我覺得那家餐廳服務不好\"\n",
    "\n",
    "# 計算情緒分數\n",
    "s1 = SnowNLP(onesentence)\n",
    "s1.sentiments  # 不好的這個詞判斷則準"
   ]
  },
  {
   "cell_type": "markdown",
   "metadata": {},
   "source": [
    "## 多句範例"
   ]
  },
  {
   "cell_type": "code",
   "execution_count": 4,
   "metadata": {},
   "outputs": [
    {
     "name": "stdout",
     "output_type": "stream",
     "text": [
      "情緒分數: 0.9127024762571652\n",
      "\n"
     ]
    }
   ],
   "source": [
    "sentence_example = (\n",
    "    \"我今天要到高雄小港機場搭飛機出差，黛安芬運動內衣很好穿，我覺得那家餐廳很糟糕\"\n",
    ")\n",
    "# sentence_example='我今天要到高雄小港機場搭飛機出差黛安芬運動內衣很好穿我覺得那家餐廳很糟糕' #有沒有標點符號沒差\n",
    "\n",
    "# 計算情緒分數\n",
    "nlp = SnowNLP(sentence_example)\n",
    "print(f\"情緒分數: {nlp.sentiments}\\n\")  # 整個句子情緒分數"
   ]
  },
  {
   "cell_type": "markdown",
   "metadata": {},
   "source": [
    "標點符號不影響情緒分析的判斷。"
   ]
  },
  {
   "cell_type": "code",
   "execution_count": 5,
   "metadata": {},
   "outputs": [
    {
     "name": "stdout",
     "output_type": "stream",
     "text": [
      "情緒分數: 0.9127024762571652\n",
      "\n"
     ]
    }
   ],
   "source": [
    "sentence_example = \"我今天要到高雄小港機場搭飛機出差黛安芬運動內衣很好穿我覺得那家餐廳很糟糕\"  # 有沒有標點符號沒差\n",
    "\n",
    "# 計算情緒分數\n",
    "nlp = SnowNLP(sentence_example)\n",
    "print(f\"情緒分數: {nlp.sentiments}\\n\")  # 整個句子情緒分數"
   ]
  },
  {
   "cell_type": "markdown",
   "metadata": {},
   "source": [
    "## 其他用法"
   ]
  },
  {
   "cell_type": "markdown",
   "metadata": {},
   "source": [
    "切成幾個字詞，斷詞結果，常見是單字為主（snownlp 的分詞器較簡單）。"
   ]
  },
  {
   "cell_type": "code",
   "execution_count": 6,
   "metadata": {},
   "outputs": [
    {
     "data": {
      "text/plain": [
       "['我',\n",
       " '今天',\n",
       " '要',\n",
       " '到',\n",
       " '高雄',\n",
       " '小',\n",
       " '港',\n",
       " '機',\n",
       " '場',\n",
       " '搭',\n",
       " '飛',\n",
       " '機',\n",
       " '出差',\n",
       " '黛',\n",
       " '安',\n",
       " '芬',\n",
       " '運',\n",
       " '動',\n",
       " '內衣',\n",
       " '很',\n",
       " '好',\n",
       " '穿',\n",
       " '我',\n",
       " '覺得',\n",
       " '那',\n",
       " '家',\n",
       " '餐',\n",
       " '廳',\n",
       " '很',\n",
       " '糟糕']"
      ]
     },
     "execution_count": 6,
     "metadata": {},
     "output_type": "execute_result"
    }
   ],
   "source": [
    "nlp.words"
   ]
  },
  {
   "cell_type": "markdown",
   "metadata": {},
   "source": [
    "句子明細，自動切割的句子，根據標點符號與語意分隔。"
   ]
  },
  {
   "cell_type": "code",
   "execution_count": 7,
   "metadata": {},
   "outputs": [
    {
     "data": {
      "text/plain": [
       "['我今天要到高雄小港機場搭飛機出差黛安芬運動內衣很好穿我覺得那家餐廳很糟糕']"
      ]
     },
     "execution_count": 7,
     "metadata": {},
     "output_type": "execute_result"
    }
   ],
   "source": [
    "nlp.sentences"
   ]
  },
  {
   "cell_type": "markdown",
   "metadata": {},
   "source": [
    "句子存放型態。"
   ]
  },
  {
   "cell_type": "code",
   "execution_count": 8,
   "metadata": {},
   "outputs": [
    {
     "data": {
      "text/plain": [
       "list"
      ]
     },
     "execution_count": 8,
     "metadata": {},
     "output_type": "execute_result"
    }
   ],
   "source": [
    "type(nlp.sentences)"
   ]
  },
  {
   "cell_type": "markdown",
   "metadata": {},
   "source": [
    "幾個句子？"
   ]
  },
  {
   "cell_type": "code",
   "execution_count": 9,
   "metadata": {},
   "outputs": [
    {
     "data": {
      "text/plain": [
       "1"
      ]
     },
     "execution_count": 9,
     "metadata": {},
     "output_type": "execute_result"
    }
   ],
   "source": [
    "len(nlp.sentences)"
   ]
  },
  {
   "cell_type": "markdown",
   "metadata": {},
   "source": [
    "## 練習：個別句子的情緒分數如何取得？"
   ]
  },
  {
   "cell_type": "code",
   "execution_count": 11,
   "metadata": {},
   "outputs": [
    {
     "name": "stdout",
     "output_type": "stream",
     "text": [
      "我今天要到高雄小港機場搭飛機出差 情緒分數 : 0.15\n",
      "黛安芬運動內衣很好穿 情緒分數 : 0.97\n",
      "我覺得那家餐廳很糟糕 情緒分數 : 0.72\n"
     ]
    }
   ],
   "source": [
    "\"\"\"\n",
    "# 我今天要到高雄小港機場搭飛機出差 情緒分數 : 0.15\n",
    "# 黛安芬運動內衣很好穿 情緒分數 : 0.98\n",
    "#我覺得那家餐廳很糟糕 情緒分數 : 0.72\"\"\"\n",
    "\n",
    "stmts = [\n",
    "    \"我今天要到高雄小港機場搭飛機出差\",\n",
    "    \"黛安芬運動內衣很好穿\",\n",
    "    \"我覺得那家餐廳很糟糕\"\n",
    "]\n",
    "\n",
    "for stmt in stmts:\n",
    "    nlp = SnowNLP(stmt)\n",
    "    print(f'{stmt} 情緒分數 : {nlp.sentiments:.2f}')"
   ]
  },
  {
   "cell_type": "markdown",
   "metadata": {},
   "source": [
    "## 多句識別範例（用 list 傳入）"
   ]
  },
  {
   "cell_type": "code",
   "execution_count": 13,
   "metadata": {},
   "outputs": [
    {
     "name": "stdout",
     "output_type": "stream",
     "text": [
      "正面情感:卧槽\t0.5\n",
      "正面情感:牛逼\t0.6923786120385603\n",
      "負面情感:他妈的\t0.3124999999999998\n",
      "負面情感:打死你\t0.3150105708245242\n",
      "正面情感:优秀\t0.8703703703703702\n",
      "正面情感:哈哈哈哈哈啊哈\t0.8684210526315791\n",
      "正面情感:好评\t0.44578313253012036\n",
      "負面情感:信不信我弄死你啊\t0.07091943747997087\n",
      "正面情感:强强强强强强强强\t0.421874597530976\n"
     ]
    }
   ],
   "source": [
    "l = [\n",
    "    \"卧槽\",\n",
    "    \"牛逼\",\n",
    "    \"他妈的\",\n",
    "    \"打死你\",\n",
    "    \"优秀\",\n",
    "    \"哈哈哈哈哈啊哈\",\n",
    "    \"好评\",\n",
    "    \"信不信我弄死你啊\",\n",
    "    \"强强强强强强强强\",\n",
    "]\n",
    "\n",
    "\n",
    "for j in l:\n",
    "    s = SnowNLP(j)\n",
    "    if s.sentiments <= 0.4:\n",
    "        print(\"負面情感:\" + j + \"\\t\" + str(s.sentiments))\n",
    "    else:\n",
    "        print(\"正面情感:\" + j + \"\\t\" + str(s.sentiments))"
   ]
  },
  {
   "cell_type": "markdown",
   "metadata": {},
   "source": [
    "## 多句識別範例（用長字串傳入）"
   ]
  },
  {
   "cell_type": "code",
   "execution_count": 14,
   "metadata": {},
   "outputs": [
    {
     "name": "stdout",
     "output_type": "stream",
     "text": [
      "情緒分數:0.998583617054737\n",
      "切割句子:['自然語言處理是電腦科學領域與人工智慧領域中的一個重要方向', '它研究能實現人與計算機之間用自然語言進行有效通訊的各種理論和方法', '自然語言處理是一門融語言學、電腦科學、數學於一體的科學', '因此', '這一領域的研究將涉及自然語言', '即人們日常使用的語言', '所以它與語言學的研究有著密切的聯絡', '但又有重要的區別', '自然語言處理並不是一般地研究自然語言', '而在於研製能有效地實現自然語言通訊的計算機系統', '特別是其中的軟體系統', '因而它是電腦科學的一部分']\n",
      "關鍵詞:['語言', '自然', '學']\n",
      "['自然語言處理是電腦科學領域與人工智慧領域中的一個重要方向', '因而它是電腦科學的一部分']\n",
      "自然語言處理是電腦科學領域與人工智慧領域中的一個重要方向\n",
      "因而它是電腦科學的一部分\n"
     ]
    }
   ],
   "source": [
    "text = \"\"\"\n",
    "自然語言處理是電腦科學領域與人工智慧領域中的一個重要方向。\n",
    "它研究能實現人與計算機之間用自然語言進行有效通訊的各種理論和方法。\n",
    "自然語言處理是一門融語言學、電腦科學、數學於一體的科學。\n",
    "因此，這一領域的研究將涉及自然語言，即人們日常使用的語言，\n",
    "所以它與語言學的研究有著密切的聯絡，但又有重要的區別。\n",
    "自然語言處理並不是一般地研究自然語言，\n",
    "而在於研製能有效地實現自然語言通訊的計算機系統，\n",
    "特別是其中的軟體系統。因而它是電腦科學的一部分。\n",
    "\"\"\"\n",
    "\n",
    "s = SnowNLP(text)\n",
    "\n",
    "print(f\"情緒分數:{s.sentiments}\")  # 整段情緒\n",
    "print(f\"切割句子:{s.sentences}\")  # 句子\n",
    "print(\n",
    "    f\"關鍵詞:{s.keywords(limit=3)}\"\n",
    ")  # 關鍵詞提取,效果比較不好。建議用jieba.analyse比較好\n",
    "\n",
    "# 文章摘要\n",
    "summary = s.summary(limit=2)\n",
    "print(summary)\n",
    "for i in summary:\n",
    "    print(i)"
   ]
  },
  {
   "cell_type": "markdown",
   "metadata": {},
   "source": [
    "### 與 Jieba 比較 (TF-IDF)"
   ]
  },
  {
   "cell_type": "code",
   "execution_count": 15,
   "metadata": {},
   "outputs": [
    {
     "name": "stderr",
     "output_type": "stream",
     "text": [
      "/Volumes/Dev/nkust/nkust-homework/semester-6/marketing/04-sentiments/.venv/lib/python3.12/site-packages/jieba/__init__.py:44: SyntaxWarning: invalid escape sequence '\\.'\n",
      "  re_han_default = re.compile(\"([\\u4E00-\\u9FD5a-zA-Z0-9+#&\\._%\\-]+)\", re.U)\n",
      "/Volumes/Dev/nkust/nkust-homework/semester-6/marketing/04-sentiments/.venv/lib/python3.12/site-packages/jieba/__init__.py:46: SyntaxWarning: invalid escape sequence '\\s'\n",
      "  re_skip_default = re.compile(\"(\\r\\n|\\s)\", re.U)\n",
      "/Volumes/Dev/nkust/nkust-homework/semester-6/marketing/04-sentiments/.venv/lib/python3.12/site-packages/jieba/finalseg/__init__.py:78: SyntaxWarning: invalid escape sequence '\\.'\n",
      "  re_skip = re.compile(\"([a-zA-Z0-9]+(?:\\.\\d+)?%?)\")\n",
      "/Volumes/Dev/nkust/nkust-homework/semester-6/marketing/04-sentiments/.venv/lib/python3.12/site-packages/jieba/posseg/__init__.py:16: SyntaxWarning: invalid escape sequence '\\.'\n",
      "  re_skip_detail = re.compile(\"([\\.0-9]+|[a-zA-Z0-9]+)\")\n",
      "/Volumes/Dev/nkust/nkust-homework/semester-6/marketing/04-sentiments/.venv/lib/python3.12/site-packages/jieba/posseg/__init__.py:17: SyntaxWarning: invalid escape sequence '\\.'\n",
      "  re_han_internal = re.compile(\"([\\u4E00-\\u9FD5a-zA-Z0-9+#&\\._]+)\")\n",
      "/Volumes/Dev/nkust/nkust-homework/semester-6/marketing/04-sentiments/.venv/lib/python3.12/site-packages/jieba/posseg/__init__.py:18: SyntaxWarning: invalid escape sequence '\\s'\n",
      "  re_skip_internal = re.compile(\"(\\r\\n|\\s)\")\n",
      "/Volumes/Dev/nkust/nkust-homework/semester-6/marketing/04-sentiments/.venv/lib/python3.12/site-packages/jieba/posseg/__init__.py:21: SyntaxWarning: invalid escape sequence '\\.'\n",
      "  re_num = re.compile(\"[\\.0-9]+\")\n",
      "Building prefix dict from the default dictionary ...\n",
      "Dumping model to file cache /var/folders/qj/62r8d09n5hn3nm_bdzf0dcpr0000gn/T/jieba.cache\n",
      "Loading model cost 0.237 seconds.\n",
      "Prefix dict has been built successfully.\n"
     ]
    },
    {
     "data": {
      "text/plain": [
       "[('語言', 0.9693054732081081),\n",
       " ('科學', 0.6462036488054054),\n",
       " ('電腦', 0.48465273660405406)]"
      ]
     },
     "execution_count": 15,
     "metadata": {},
     "output_type": "execute_result"
    }
   ],
   "source": [
    "import jieba.analyse\n",
    "\n",
    "keywords_top = jieba.analyse.extract_tags(\n",
    "    text, topK=3, withWeight=True\n",
    ")  # 基于TF-IDF算法進行關鍵詞抽取\n",
    "keywords_top"
   ]
  },
  {
   "cell_type": "markdown",
   "metadata": {},
   "source": [
    "## 練習：請將下列句子用上述方法做一遍，計算情緒分數，切割句子，關鍵詞，文章摘要"
   ]
  },
  {
   "cell_type": "code",
   "execution_count": 23,
   "metadata": {},
   "outputs": [
    {
     "name": "stdout",
     "output_type": "stream",
     "text": [
      "情緒分數：\t0.03803159211868101\n",
      "切割句子：\t['《蝙蝠俠》將聚焦於一個年輕版本的布魯斯韋恩', '並從中檢視他在面罩之下的靈魂', '羅伯派汀森將在新版《蝙蝠俠》中飾演這位DC超級英雄', '電影是由《猩球崛起：終極決戰》導演麥特李維斯（Matt Reeves）所執導']\n",
      "關鍵詞：\t\t['演', '中', '導']\n",
      "文章摘要：\t\n",
      "《蝙蝠俠》將聚焦於一個年輕版本的布魯斯韋恩\n",
      "並從中檢視他在面罩之下的靈魂\n",
      "Jieba 關鍵詞：\t['蝙蝠', '一個', '布魯斯']\n"
     ]
    }
   ],
   "source": [
    "Synopsis = \"\"\"《蝙蝠俠》將聚焦於一個年輕版本的布魯斯韋恩，並從中檢視他在面罩之下的靈魂。\n",
    "羅伯派汀森將在新版《蝙蝠俠》中飾演這位DC超級英雄，電影是由《猩球崛起：終極決戰》導演麥特李維斯（Matt Reeves）所執導。\"\"\"\n",
    "\n",
    "nlp = SnowNLP(Synopsis)\n",
    "\n",
    "print(f\"情緒分數：\\t{nlp.sentiments}\")\n",
    "print(f\"切割句子：\\t{nlp.sentences}\")\n",
    "print(f\"關鍵詞：\\t\\t{nlp.keywords(limit=3)}\")\n",
    "print(f\"文章摘要：\\t\\n{\"\\n\".join(nlp.summary(limit=2))}\")\n",
    "\n",
    "keywords_top = jieba.analyse.extract_tags(Synopsis, topK=3)\n",
    "print(f\"Jieba 關鍵詞：\\t{keywords_top}\")"
   ]
  }
 ],
 "metadata": {
  "kernelspec": {
   "display_name": ".venv",
   "language": "python",
   "name": "python3"
  },
  "language_info": {
   "codemirror_mode": {
    "name": "ipython",
    "version": 3
   },
   "file_extension": ".py",
   "mimetype": "text/x-python",
   "name": "python",
   "nbconvert_exporter": "python",
   "pygments_lexer": "ipython3",
   "version": "3.12.5"
  }
 },
 "nbformat": 4,
 "nbformat_minor": 2
}
