{
 "cells": [
  {
   "cell_type": "markdown",
   "metadata": {},
   "source": [
    "# PTT 運動內衣資料分析\n",
    "\n",
    "本筆記本用於分析從 PTT 收集的運動內衣相關資料。"
   ]
  },
  {
   "cell_type": "markdown",
   "metadata": {},
   "source": [
    "## 載入相關套件"
   ]
  },
  {
   "cell_type": "code",
   "execution_count": 1,
   "metadata": {},
   "outputs": [],
   "source": [
    "# 載入相關套件\n",
    "import pandas as pd"
   ]
  },
  {
   "cell_type": "markdown",
   "metadata": {},
   "source": [
    "## 讀取和預處理資料"
   ]
  },
  {
   "cell_type": "code",
   "execution_count": 2,
   "metadata": {},
   "outputs": [],
   "source": [
    "# 讀取運動內衣原始資料\n",
    "ptt_data = pd.read_csv(\"datasets/PTT_運動內衣_onepage資料.csv\")"
   ]
  },
  {
   "cell_type": "code",
   "execution_count": 3,
   "metadata": {},
   "outputs": [],
   "source": [
    "# 將重複與空白訊息去除\n",
    "ptt_data = ptt_data.drop_duplicates()\n",
    "ptt_data = ptt_data.dropna()"
   ]
  },
  {
   "cell_type": "markdown",
   "metadata": {},
   "source": [
    "## 資料類型轉換與處理"
   ]
  },
  {
   "cell_type": "code",
   "execution_count": 4,
   "metadata": {},
   "outputs": [
    {
     "name": "stdout",
     "output_type": "stream",
     "text": [
      "<class 'pandas.core.frame.DataFrame'>\n",
      "RangeIndex: 21 entries, 0 to 20\n",
      "Data columns (total 14 columns):\n",
      " #   Column      Non-Null Count  Dtype \n",
      "---  ------      --------------  ----- \n",
      " 0   Unnamed: 0  21 non-null     int64 \n",
      " 1   標題          21 non-null     object\n",
      " 2   時間          21 non-null     object\n",
      " 3   內容          21 non-null     object\n",
      " 4   類別          21 non-null     object\n",
      " 5   版名          21 non-null     object\n",
      " 6   文章ID        21 non-null     object\n",
      " 7   作者          21 non-null     object\n",
      " 8   IP          21 non-null     object\n",
      " 9   總留言數        21 non-null     int64 \n",
      " 10  留言內容        21 non-null     object\n",
      " 11  推推總數        21 non-null     int64 \n",
      " 12  噓聲總數        21 non-null     int64 \n",
      " 13  中立總數        21 non-null     int64 \n",
      "dtypes: int64(5), object(9)\n",
      "memory usage: 2.4+ KB\n"
     ]
    }
   ],
   "source": [
    "# 檢視資料資訊\n",
    "ptt_data.info()"
   ]
  },
  {
   "cell_type": "code",
   "execution_count": 5,
   "metadata": {},
   "outputs": [
    {
     "name": "stdout",
     "output_type": "stream",
     "text": [
      "<class 'pandas.core.frame.DataFrame'>\n",
      "RangeIndex: 21 entries, 0 to 20\n",
      "Data columns (total 14 columns):\n",
      " #   Column      Non-Null Count  Dtype         \n",
      "---  ------      --------------  -----         \n",
      " 0   Unnamed: 0  21 non-null     int64         \n",
      " 1   標題          21 non-null     object        \n",
      " 2   時間          21 non-null     datetime64[ns]\n",
      " 3   內容          21 non-null     object        \n",
      " 4   類別          21 non-null     object        \n",
      " 5   版名          21 non-null     object        \n",
      " 6   文章ID        21 non-null     object        \n",
      " 7   作者          21 non-null     object        \n",
      " 8   IP          21 non-null     object        \n",
      " 9   總留言數        21 non-null     int64         \n",
      " 10  留言內容        21 non-null     object        \n",
      " 11  推推總數        21 non-null     int64         \n",
      " 12  噓聲總數        21 non-null     int64         \n",
      " 13  中立總數        21 non-null     int64         \n",
      "dtypes: datetime64[ns](1), int64(5), object(8)\n",
      "memory usage: 2.4+ KB\n"
     ]
    }
   ],
   "source": [
    "# 改時間格式\n",
    "ptt_data[\"時間\"] = pd.to_datetime(ptt_data[\"時間\"])\n",
    "ptt_data.info()"
   ]
  },
  {
   "cell_type": "code",
   "execution_count": 6,
   "metadata": {},
   "outputs": [],
   "source": [
    "# 計算留言總數\n",
    "ptt_data[\"留言總數\"] = (\n",
    "    ptt_data[\"推推總數\"] + ptt_data[\"噓聲總數\"] + ptt_data[\"中立總數\"]\n",
    ")"
   ]
  },
  {
   "cell_type": "code",
   "execution_count": 7,
   "metadata": {},
   "outputs": [],
   "source": [
    "# 將分類為【公告】的去除\n",
    "ptt_data = ptt_data[ptt_data[\"類別\"] != \"公告\"]"
   ]
  },
  {
   "cell_type": "markdown",
   "metadata": {},
   "source": [
    "## 文字內容處理"
   ]
  },
  {
   "cell_type": "code",
   "execution_count": 8,
   "metadata": {},
   "outputs": [],
   "source": [
    "# 將「內容」與「所有留言」文字內容合併，創造一欄位 - 「所有文」\n",
    "ptt_data[\"所有文\"] = ptt_data[\"標題\"] + ptt_data[\"內容\"]"
   ]
  },
  {
   "cell_type": "code",
   "execution_count": 9,
   "metadata": {},
   "outputs": [],
   "source": [
    "# 去除無意義字元，先進行無意義字元列表，可以自行新增\n",
    "removeword = [\n",
    "    \"span\",\n",
    "    \"class\",\n",
    "    \"f3\",\n",
    "    \"https\",\n",
    "    \"imgur\",\n",
    "    \"h1\",\n",
    "    \"_   blank\",\n",
    "    \"href\",\n",
    "    \"rel\",\n",
    "    \"nofollow\",\n",
    "    \"target\",\n",
    "    \"cdn\",\n",
    "    \"cgi\",\n",
    "    \"b4\",\n",
    "    \"jpg\",\n",
    "    \"hl\",\n",
    "    \"b1\",\n",
    "    \"f5\",\n",
    "    \"f4\",\n",
    "    \"goo.gl\",\n",
    "    \"f2\",\n",
    "    \"email\",\n",
    "    \"map\",\n",
    "    \"f1\",\n",
    "    \"f6\",\n",
    "    \"__cf___\",\n",
    "    \"data\",\n",
    "    \"bbshtml\",\n",
    "    \"cf\",\n",
    "    \"f0\",\n",
    "    \"b2\",\n",
    "    \"b3\",\n",
    "    \"b5\",\n",
    "    \"b6\",\n",
    "    \"原文內容\",\n",
    "    \"原文連結\",\n",
    "    \"作者標題\",\n",
    "    \"時間\",\n",
    "    \"看板\",\n",
    "    \"<\",\n",
    "    \">\",\n",
    "    \"，\",\n",
    "    \"。\",\n",
    "    \"？\",\n",
    "    \"—\",\n",
    "    \"閒聊\",\n",
    "    \"・\",\n",
    "    \"/\",\n",
    "    \" \",\n",
    "    \"=\",\n",
    "    '\"',\n",
    "    \"\\n\",\n",
    "    \"」\",\n",
    "    \"「\",\n",
    "    \"！\",\n",
    "    \"[\",\n",
    "    \"]\",\n",
    "    \"：\",\n",
    "    \"‧\",\n",
    "    \"╦\",\n",
    "    \"╔\",\n",
    "    \"╗\",\n",
    "    \"║\",\n",
    "    \"╠\",\n",
    "    \"╬\",\n",
    "    \"╬\",\n",
    "    \":\",\n",
    "    \"╰\",\n",
    "    \"╩\",\n",
    "    \"╯\",\n",
    "    \"╭\",\n",
    "    \"╮\",\n",
    "    \"│\",\n",
    "    \"╪\",\n",
    "    \"─\",\n",
    "    \"《\",\n",
    "    \"》\",\n",
    "    \".\",\n",
    "    \"、\",\n",
    "    \"（\",\n",
    "    \"）\",\n",
    "    \"　\",\n",
    "    \"*\",\n",
    "    \"※\",\n",
    "    \"~\",\n",
    "    \"○\",\n",
    "    '\"',\n",
    "    '\"',\n",
    "    \"～\",\n",
    "    \"@\",\n",
    "    \"＋\",\n",
    "    \"\\r\",\n",
    "    \"▁\",\n",
    "    \")\",\n",
    "    \"(\",\n",
    "    \"-\",\n",
    "    \"═\",\n",
    "    \"?\",\n",
    "    \",\",\n",
    "    \"!\",\n",
    "    \"…\",\n",
    "    \"&\",\n",
    "    \";\",\n",
    "    \"『\",\n",
    "    \"』\",\n",
    "    \"#\",\n",
    "    \"＝\",\n",
    "    \"＃\",\n",
    "    \"\\\\\",\n",
    "    \"\\\\n\",\n",
    "    '\"',\n",
    "    \"的\",\n",
    "    \"^\",\n",
    "    \"︿\",\n",
    "    \"＠\",\n",
    "    \"$\",\n",
    "    \"＄\",\n",
    "    \"%\",\n",
    "    \"％\",\n",
    "    \"＆\",\n",
    "    \"＊\",\n",
    "    \"＿\",\n",
    "    \"+\",\n",
    "    \"'\",\n",
    "    \"{\",\n",
    "    \"}\",\n",
    "    \"｛\",\n",
    "    \"｝\",\n",
    "    \"|\",\n",
    "    \"｜\",\n",
    "    \"．\",\n",
    "    \"‵\",\n",
    "    \"`\",\n",
    "    \"；\",\n",
    "    \"●\",\n",
    "    \"§\",\n",
    "    \"※\",\n",
    "    \"○\",\n",
    "    \"△\",\n",
    "    \"▲\",\n",
    "    \"◎\",\n",
    "    \"☆\",\n",
    "    \"★\",\n",
    "    \"◇\",\n",
    "    \"◆\",\n",
    "    \"□\",\n",
    "    \"■\",\n",
    "    \"▽\",\n",
    "    \"▼\",\n",
    "    \"㊣\",\n",
    "    \"↑\",\n",
    "    \"↓\",\n",
    "    \"←\",\n",
    "    \"→\",\n",
    "    \"↖\",\n",
    "    \"XD\",\n",
    "    \"XDD\",\n",
    "    \"QQ\",\n",
    "    \"【\",\n",
    "    \"】\",\n",
    "]\n",
    "\n",
    "for word in removeword:\n",
    "    ptt_data[\"所有文\"] = ptt_data[\"所有文\"].str.replace(word, \"\")"
   ]
  },
  {
   "cell_type": "markdown",
   "metadata": {},
   "source": [
    "## 使用 jieba 進行中文斷詞"
   ]
  },
  {
   "cell_type": "code",
   "execution_count": 10,
   "metadata": {},
   "outputs": [
    {
     "name": "stderr",
     "output_type": "stream",
     "text": [
      "Building prefix dict from /Volumes/Dev/nkust/nkust-homework/semester-6/marketing/01-scrapers/dict/dict.txt.big ...\n",
      "Loading model from cache /var/folders/qj/62r8d09n5hn3nm_bdzf0dcpr0000gn/T/jieba.u29065df1b72c0fc2cbec4ddb88c2e368.cache\n",
      "Loading model cost 0.171 seconds.\n",
      "Prefix dict has been built successfully.\n"
     ]
    }
   ],
   "source": [
    "# 所有文關鍵字萃取\n",
    "import jieba\n",
    "\n",
    "jieba.set_dictionary(\"dict/dict.txt.big\")\n",
    "ptt_data = ptt_data.dropna(subset=[\"所有文\"])\n",
    "ptt_data[\"關鍵字\"] = ptt_data[\"所有文\"].apply(lambda x: list(jieba.cut(x)))"
   ]
  },
  {
   "cell_type": "code",
   "execution_count": 11,
   "metadata": {},
   "outputs": [
    {
     "name": "stdout",
     "output_type": "stream",
     "text": [
      "<class 'pandas.core.frame.DataFrame'>\n",
      "Index: 17 entries, 4 to 20\n",
      "Data columns (total 17 columns):\n",
      " #   Column      Non-Null Count  Dtype         \n",
      "---  ------      --------------  -----         \n",
      " 0   Unnamed: 0  17 non-null     int64         \n",
      " 1   標題          17 non-null     object        \n",
      " 2   時間          17 non-null     datetime64[ns]\n",
      " 3   內容          17 non-null     object        \n",
      " 4   類別          17 non-null     object        \n",
      " 5   版名          17 non-null     object        \n",
      " 6   文章ID        17 non-null     object        \n",
      " 7   作者          17 non-null     object        \n",
      " 8   IP          17 non-null     object        \n",
      " 9   總留言數        17 non-null     int64         \n",
      " 10  留言內容        17 non-null     object        \n",
      " 11  推推總數        17 non-null     int64         \n",
      " 12  噓聲總數        17 non-null     int64         \n",
      " 13  中立總數        17 non-null     int64         \n",
      " 14  留言總數        17 non-null     int64         \n",
      " 15  所有文         17 non-null     object        \n",
      " 16  關鍵字         17 non-null     object        \n",
      "dtypes: datetime64[ns](1), int64(6), object(10)\n",
      "memory usage: 2.4+ KB\n"
     ]
    }
   ],
   "source": [
    "# 檢視處理後的資料資訊\n",
    "ptt_data.info()"
   ]
  },
  {
   "cell_type": "markdown",
   "metadata": {},
   "source": [
    "## 儲存處理後的資料"
   ]
  },
  {
   "cell_type": "code",
   "execution_count": 12,
   "metadata": {},
   "outputs": [],
   "source": [
    "# 存檔csv\n",
    "ptt_data.to_csv(\"output/PTT_運動內衣_onepage資料clear.csv\", encoding=\"UTF-8-sig\")"
   ]
  },
  {
   "cell_type": "markdown",
   "metadata": {},
   "source": [
    "## 處理留言資料"
   ]
  },
  {
   "cell_type": "code",
   "execution_count": 13,
   "metadata": {},
   "outputs": [
    {
     "data": {
      "text/html": [
       "<div>\n",
       "<style scoped>\n",
       "    .dataframe tbody tr th:only-of-type {\n",
       "        vertical-align: middle;\n",
       "    }\n",
       "\n",
       "    .dataframe tbody tr th {\n",
       "        vertical-align: top;\n",
       "    }\n",
       "\n",
       "    .dataframe thead th {\n",
       "        text-align: right;\n",
       "    }\n",
       "</style>\n",
       "<table border=\"1\" class=\"dataframe\">\n",
       "  <thead>\n",
       "    <tr style=\"text-align: right;\">\n",
       "      <th></th>\n",
       "      <th>type</th>\n",
       "      <th>user</th>\n",
       "      <th>content</th>\n",
       "      <th>ipdatetime</th>\n",
       "    </tr>\n",
       "  </thead>\n",
       "  <tbody>\n",
       "    <tr>\n",
       "      <th>0</th>\n",
       "      <td>推</td>\n",
       "      <td>yalisa61037</td>\n",
       "      <td>美美的</td>\n",
       "      <td>02/23 23:52</td>\n",
       "    </tr>\n",
       "    <tr>\n",
       "      <th>1</th>\n",
       "      <td>推</td>\n",
       "      <td>wenyu66</td>\n",
       "      <td>真的都很美欸 不能再看了嗚嗚嗚 好想買</td>\n",
       "      <td>02/24 00:23</td>\n",
       "    </tr>\n",
       "    <tr>\n",
       "      <th>2</th>\n",
       "      <td>推</td>\n",
       "      <td>sd929598</td>\n",
       "      <td>感覺穿起來會刺刺的</td>\n",
       "      <td>02/24 01:27</td>\n",
       "    </tr>\n",
       "    <tr>\n",
       "      <th>3</th>\n",
       "      <td>推</td>\n",
       "      <td>mocc</td>\n",
       "      <td>*\\(^o^)/*</td>\n",
       "      <td>02/24 09:23</td>\n",
       "    </tr>\n",
       "    <tr>\n",
       "      <th>4</th>\n",
       "      <td>推</td>\n",
       "      <td>Valentine17</td>\n",
       "      <td>樓樓上sd 大 莎露的蕾絲真的穿起來不會刺！這大概也</td>\n",
       "      <td>02/24 12:15</td>\n",
       "    </tr>\n",
       "    <tr>\n",
       "      <th>5</th>\n",
       "      <td>→</td>\n",
       "      <td>Valentine17</td>\n",
       "      <td>是為什麼可以賣這麼貴的原因XD</td>\n",
       "      <td>02/24 12:15</td>\n",
       "    </tr>\n",
       "    <tr>\n",
       "      <th>6</th>\n",
       "      <td>推</td>\n",
       "      <td>r40296</td>\n",
       "      <td>有了第一套就會有第三套第四套～</td>\n",
       "      <td>02/24 12:42</td>\n",
       "    </tr>\n",
       "    <tr>\n",
       "      <th>7</th>\n",
       "      <td>推</td>\n",
       "      <td>pchome0503</td>\n",
       "      <td>符合我要的尺寸 又是華麗的龍袍內衣～</td>\n",
       "      <td>02/24 13:13</td>\n",
       "    </tr>\n",
       "    <tr>\n",
       "      <th>8</th>\n",
       "      <td>→</td>\n",
       "      <td>hjkl369</td>\n",
       "      <td>莎露穿起來真的完全不刺，非常親膚，再加上版型很適合我</td>\n",
       "      <td>02/24 15:51</td>\n",
       "    </tr>\n",
       "    <tr>\n",
       "      <th>9</th>\n",
       "      <td>→</td>\n",
       "      <td>hjkl369</td>\n",
       "      <td>，所以覺得錢花得值得</td>\n",
       "      <td>02/24 15:51</td>\n",
       "    </tr>\n",
       "    <tr>\n",
       "      <th>10</th>\n",
       "      <td>推</td>\n",
       "      <td>sodahaini</td>\n",
       "      <td>粉色的好美好春天</td>\n",
       "      <td>02/24 22:21</td>\n",
       "    </tr>\n",
       "    <tr>\n",
       "      <th>11</th>\n",
       "      <td>推</td>\n",
       "      <td>alpha6eta</td>\n",
       "      <td>刺繡好美喔，原po穿起來超美。</td>\n",
       "      <td>02/24 22:49</td>\n",
       "    </tr>\n",
       "    <tr>\n",
       "      <th>12</th>\n",
       "      <td>→</td>\n",
       "      <td>mavis825</td>\n",
       "      <td>2、3套好美</td>\n",
       "      <td>02/25 10:19</td>\n",
       "    </tr>\n",
       "    <tr>\n",
       "      <th>13</th>\n",
       "      <td>推</td>\n",
       "      <td>liberating</td>\n",
       "      <td>這肩帶應該外露也很漂亮 我如果不穿內衣會垂 但夏天</td>\n",
       "      <td>02/25 15:39</td>\n",
       "    </tr>\n",
       "    <tr>\n",
       "      <th>14</th>\n",
       "      <td>→</td>\n",
       "      <td>liberating</td>\n",
       "      <td>一來真的想細肩帶直接穿出門</td>\n",
       "      <td>02/25 15:39</td>\n",
       "    </tr>\n",
       "    <tr>\n",
       "      <th>15</th>\n",
       "      <td>→</td>\n",
       "      <td>standby</td>\n",
       "      <td>每套都好美!</td>\n",
       "      <td>02/26 11:49</td>\n",
       "    </tr>\n",
       "  </tbody>\n",
       "</table>\n",
       "</div>"
      ],
      "text/plain": [
       "   type         user                     content   ipdatetime\n",
       "0     推  yalisa61037                         美美的  02/23 23:52\n",
       "1     推      wenyu66         真的都很美欸 不能再看了嗚嗚嗚 好想買  02/24 00:23\n",
       "2     推     sd929598                   感覺穿起來會刺刺的  02/24 01:27\n",
       "3     推         mocc                   *\\(^o^)/*  02/24 09:23\n",
       "4     推  Valentine17  樓樓上sd 大 莎露的蕾絲真的穿起來不會刺！這大概也  02/24 12:15\n",
       "5     →  Valentine17             是為什麼可以賣這麼貴的原因XD  02/24 12:15\n",
       "6     推       r40296             有了第一套就會有第三套第四套～  02/24 12:42\n",
       "7     推   pchome0503          符合我要的尺寸 又是華麗的龍袍內衣～  02/24 13:13\n",
       "8     →      hjkl369  莎露穿起來真的完全不刺，非常親膚，再加上版型很適合我  02/24 15:51\n",
       "9     →      hjkl369                  ，所以覺得錢花得值得  02/24 15:51\n",
       "10    推    sodahaini                    粉色的好美好春天  02/24 22:21\n",
       "11    推    alpha6eta             刺繡好美喔，原po穿起來超美。  02/24 22:49\n",
       "12    →     mavis825                      2、3套好美  02/25 10:19\n",
       "13    推   liberating   這肩帶應該外露也很漂亮 我如果不穿內衣會垂 但夏天  02/25 15:39\n",
       "14    →   liberating               一來真的想細肩帶直接穿出門  02/25 15:39\n",
       "15    →      standby                      每套都好美!  02/26 11:49"
      ]
     },
     "execution_count": 13,
     "metadata": {},
     "output_type": "execute_result"
    }
   ],
   "source": [
    "# 第一個貼文留言資料展開\n",
    "comment = ptt_data[\"留言內容\"].iloc[1]  # 此為str type\n",
    "comment1 = eval(comment)  # 此為list type\n",
    "new = pd.DataFrame(comment1)\n",
    "new"
   ]
  },
  {
   "cell_type": "code",
   "execution_count": 14,
   "metadata": {},
   "outputs": [],
   "source": [
    "# 所有貼文留言資料展開\n",
    "newlist = []\n",
    "for i in range(len(ptt_data)):\n",
    "    new = pd.DataFrame(eval(ptt_data[\"留言內容\"].iloc[i]))\n",
    "    newlist.append(new)"
   ]
  },
  {
   "cell_type": "code",
   "execution_count": 15,
   "metadata": {},
   "outputs": [],
   "source": [
    "# 將留言合併成dataframe\n",
    "ptt_comment = pd.concat(newlist)"
   ]
  },
  {
   "cell_type": "code",
   "execution_count": 16,
   "metadata": {},
   "outputs": [],
   "source": [
    "# 存檔\n",
    "ptt_comment.to_csv(\"output/PTT_運動內衣_onepage資料留言內容.csv\", encoding=\"UTF-8-sig\")"
   ]
  }
 ],
 "metadata": {
  "kernelspec": {
   "display_name": ".venv",
   "language": "python",
   "name": "python3"
  },
  "language_info": {
   "codemirror_mode": {
    "name": "ipython",
    "version": 3
   },
   "file_extension": ".py",
   "mimetype": "text/x-python",
   "name": "python",
   "nbconvert_exporter": "python",
   "pygments_lexer": "ipython3",
   "version": "3.12.5"
  }
 },
 "nbformat": 4,
 "nbformat_minor": 4
}
