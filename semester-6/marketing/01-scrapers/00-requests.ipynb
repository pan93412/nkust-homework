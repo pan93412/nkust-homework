{
 "cells": [
  {
   "cell_type": "markdown",
   "metadata": {},
   "source": [
    "# 00 - requests usage"
   ]
  },
  {
   "cell_type": "code",
   "execution_count": 24,
   "metadata": {},
   "outputs": [],
   "source": [
    "import requests\n",
    "from bs4 import BeautifulSoup"
   ]
  },
  {
   "cell_type": "markdown",
   "metadata": {},
   "source": [
    "## 基本 requests 使用"
   ]
  },
  {
   "cell_type": "markdown",
   "metadata": {},
   "source": [
    "### Success case (2xx)"
   ]
  },
  {
   "cell_type": "code",
   "execution_count": 25,
   "metadata": {},
   "outputs": [
    {
     "name": "stdout",
     "output_type": "stream",
     "text": [
      "200\n",
      "Request success with status code: 200\n"
     ]
    }
   ],
   "source": [
    "url = \"https://jwlin.github.io/py-scraping-analysis-book/ch1/connect.html\"\n",
    "resp = requests.get(url)\n",
    "print(resp.status_code)\n",
    "\n",
    "if resp.status_code == 200:\n",
    "    print(\"Request success with status code:\", resp.status_code)\n",
    "else:\n",
    "    print(\"Request failed with status code:\", resp.status_code)"
   ]
  },
  {
   "cell_type": "markdown",
   "metadata": {},
   "source": [
    "### Failed Case (not 2xx)"
   ]
  },
  {
   "cell_type": "code",
   "execution_count": 26,
   "metadata": {},
   "outputs": [
    {
     "name": "stdout",
     "output_type": "stream",
     "text": [
      "404\n",
      "Request failed with status code: 404\n"
     ]
    }
   ],
   "source": [
    "url = \"https://jwlin.github.io/py-scraping-analysis-book/ch1/connect.html2\"\n",
    "resp = requests.get(url)\n",
    "print(resp.status_code)\n",
    "\n",
    "if resp.status_code == 200:\n",
    "    print(\"Request success with status code:\", resp.status_code)\n",
    "else:\n",
    "    print(\"Request failed with status code:\", resp.status_code)"
   ]
  },
  {
   "cell_type": "markdown",
   "metadata": {},
   "source": [
    "## BeautifulSoup - 載入"
   ]
  },
  {
   "cell_type": "markdown",
   "metadata": {},
   "source": [
    "### Print out the DOM tree"
   ]
  },
  {
   "cell_type": "code",
   "execution_count": 27,
   "metadata": {},
   "outputs": [
    {
     "name": "stdout",
     "output_type": "stream",
     "text": [
      "200\n"
     ]
    },
    {
     "data": {
      "text/plain": [
       "<!DOCTYPE html>\n",
       "\n",
       "<html lang=\"en\">\n",
       "<head>\n",
       "<meta charset=\"utf-8\"/>\n",
       "<meta content=\"IE=edge\" http-equiv=\"X-UA-Compatible\"/>\n",
       "<meta content=\"width=device-width, initial-scale=1\" name=\"viewport\"/>\n",
       "<!-- The above 3 meta tags *must* come first in the head; any other head content must come *after* these tags -->\n",
       "<meta content=\"\" name=\"description\"/>\n",
       "<meta content=\"\" name=\"author\"/>\n",
       "<title>Pycone 松果城市</title>\n",
       "<!-- Bootstrap core CSS -->\n",
       "<link href=\"bootstrap.min.css\" rel=\"stylesheet\"/>\n",
       "<!-- IE10 viewport hack for Surface/desktop Windows 8 bug -->\n",
       "<link href=\"https://getbootstrap.com/assets/css/ie10-viewport-bug-workaround.css\" rel=\"stylesheet\"/>\n",
       "<!-- Custom styles for this template -->\n",
       "<link href=\"https://getbootstrap.com/examples/sticky-footer/sticky-footer.css\" rel=\"stylesheet\"/>\n",
       "<!-- Just for debugging purposes. Don't actually copy these 2 lines! -->\n",
       "<!--[if lt IE 9]><script src=\"../../assets/js/ie8-responsive-file-warning.js\"></script><![endif]-->\n",
       "<script src=\"https://getbootstrap.com/assets/js/ie-emulation-modes-warning.js\"></script>\n",
       "<!-- HTML5 shim and Respond.js for IE8 support of HTML5 elements and media queries -->\n",
       "<!--[if lt IE 9]>\n",
       "      <script src=\"https://oss.maxcdn.com/html5shiv/3.7.3/html5shiv.min.js\"></script>\n",
       "      <script src=\"https://oss.maxcdn.com/respond/1.4.2/respond.min.js\"></script>\n",
       "    <![endif]-->\n",
       "</head>\n",
       "<body>\n",
       "<!-- Begin page content -->\n",
       "<div class=\"container\">\n",
       "<div class=\"page-header\">\n",
       "<h1>歡迎來到 Pycone 松果城市！</h1>\n",
       "</div>\n",
       "<p class=\"lead\">Python是非常強的的程式語言, 簡潔友好的語法特別容易上手, 又有許多第三方函式庫的支援。Python是完全物件導向的語言, 有益於減少程式碼的重複性。Python的設計哲學是優雅, 明確, 簡單。 Python的設計風格, 使其成為易讀, 易維護且具有廣泛用途的程式語言。Python的應用範圍相當廣泛, 例如web後端開發, 機器學習, 資料分析, 自然語言處理, 網頁爬蟲與遊戲等等。如果自己常常翻閱書籍卻無法掌握重點, 上網收集資料卻覺得太過片段, 想要自己動手寫寫看卻不知道如何開始。 這們課會從最基本的環境架設開始教起, 讓所有同學都可以深入淺出一窺Python的奧妙,更透過實務專題練習的方式,使學生可以應用課堂所學來完成一個Python軟體。</p>\n",
       "<p><a href=\"http://www.pycone.com/\">了解更多</a></p>\n",
       "</div>\n",
       "<footer class=\"footer\">\n",
       "<div class=\"container\">\n",
       "<p class=\"text-muted\">Pycone (c) 2017</p>\n",
       "</div>\n",
       "</footer>\n",
       "<!-- IE10 viewport hack for Surface/desktop Windows 8 bug -->\n",
       "<script src=\"http://getbootstrap.com/assets/js/ie10-viewport-bug-workaround.js\"></script>\n",
       "</body>\n",
       "</html>"
      ]
     },
     "execution_count": 27,
     "metadata": {},
     "output_type": "execute_result"
    }
   ],
   "source": [
    "url = \"https://jwlin.github.io/py-scraping-analysis-book/ch1/connect.html\"  # 設定網頁網址，此為測試網頁\n",
    "resp = requests.get(url)  # 模擬 get 請求\n",
    "print(resp.status_code)\n",
    "\n",
    "soup = BeautifulSoup(resp.text, \"html.parser\")  # 將網頁格式檔放入 bs4 樹\n",
    "soup  # 印出 dom 文件樹"
   ]
  },
  {
   "cell_type": "markdown",
   "metadata": {},
   "source": [
    "### requests with header"
   ]
  },
  {
   "cell_type": "code",
   "execution_count": 28,
   "metadata": {},
   "outputs": [
    {
     "name": "stdout",
     "output_type": "stream",
     "text": [
      "200\n"
     ]
    },
    {
     "data": {
      "text/plain": [
       "<!DOCTYPE html>\n",
       "\n",
       "<html lang=\"en\">\n",
       "<head>\n",
       "<meta charset=\"utf-8\"/>\n",
       "<meta content=\"IE=edge\" http-equiv=\"X-UA-Compatible\"/>\n",
       "<meta content=\"width=device-width, initial-scale=1\" name=\"viewport\"/>\n",
       "<!-- The above 3 meta tags *must* come first in the head; any other head content must come *after* these tags -->\n",
       "<meta content=\"\" name=\"description\"/>\n",
       "<meta content=\"\" name=\"author\"/>\n",
       "<title>Pycone 松果城市</title>\n",
       "<!-- Bootstrap core CSS -->\n",
       "<link href=\"bootstrap.min.css\" rel=\"stylesheet\"/>\n",
       "<!-- IE10 viewport hack for Surface/desktop Windows 8 bug -->\n",
       "<link href=\"https://getbootstrap.com/assets/css/ie10-viewport-bug-workaround.css\" rel=\"stylesheet\"/>\n",
       "<!-- Custom styles for this template -->\n",
       "<link href=\"https://getbootstrap.com/examples/sticky-footer/sticky-footer.css\" rel=\"stylesheet\"/>\n",
       "<!-- Just for debugging purposes. Don't actually copy these 2 lines! -->\n",
       "<!--[if lt IE 9]><script src=\"../../assets/js/ie8-responsive-file-warning.js\"></script><![endif]-->\n",
       "<script src=\"https://getbootstrap.com/assets/js/ie-emulation-modes-warning.js\"></script>\n",
       "<!-- HTML5 shim and Respond.js for IE8 support of HTML5 elements and media queries -->\n",
       "<!--[if lt IE 9]>\n",
       "      <script src=\"https://oss.maxcdn.com/html5shiv/3.7.3/html5shiv.min.js\"></script>\n",
       "      <script src=\"https://oss.maxcdn.com/respond/1.4.2/respond.min.js\"></script>\n",
       "    <![endif]-->\n",
       "</head>\n",
       "<body>\n",
       "<!-- Begin page content -->\n",
       "<div class=\"container\">\n",
       "<div class=\"page-header\">\n",
       "<h1>歡迎來到 Pycone 松果城市！</h1>\n",
       "</div>\n",
       "<p class=\"lead\">Python是非常強的的程式語言, 簡潔友好的語法特別容易上手, 又有許多第三方函式庫的支援。Python是完全物件導向的語言, 有益於減少程式碼的重複性。Python的設計哲學是優雅, 明確, 簡單。 Python的設計風格, 使其成為易讀, 易維護且具有廣泛用途的程式語言。Python的應用範圍相當廣泛, 例如web後端開發, 機器學習, 資料分析, 自然語言處理, 網頁爬蟲與遊戲等等。如果自己常常翻閱書籍卻無法掌握重點, 上網收集資料卻覺得太過片段, 想要自己動手寫寫看卻不知道如何開始。 這們課會從最基本的環境架設開始教起, 讓所有同學都可以深入淺出一窺Python的奧妙,更透過實務專題練習的方式,使學生可以應用課堂所學來完成一個Python軟體。</p>\n",
       "<p><a href=\"http://www.pycone.com/\">了解更多</a></p>\n",
       "</div>\n",
       "<footer class=\"footer\">\n",
       "<div class=\"container\">\n",
       "<p class=\"text-muted\">Pycone (c) 2017</p>\n",
       "</div>\n",
       "</footer>\n",
       "<!-- IE10 viewport hack for Surface/desktop Windows 8 bug -->\n",
       "<script src=\"http://getbootstrap.com/assets/js/ie10-viewport-bug-workaround.js\"></script>\n",
       "</body>\n",
       "</html>"
      ]
     },
     "execution_count": 28,
     "metadata": {},
     "output_type": "execute_result"
    }
   ],
   "source": [
    "url = \"https://jwlin.github.io/py-scraping-analysis-book/ch1/connect.html\"  # 設定網頁網址，此為測試網頁\n",
    "headers = {\n",
    "    \"User-Agent\": \"Mozilla/5.0 (Windows NT 10.0; Win64; x64) AppleWebKit/537.36 (KHTML, like Gecko) Chrome/91.0.4472.124 Safari/537.36\"\n",
    "}\n",
    "resp = requests.get(url, headers)  # 模擬 get 請求\n",
    "print(resp.status_code)\n",
    "soup = BeautifulSoup(resp.text, \"html.parser\")  # 將網頁格式檔放入 bs4 樹\n",
    "soup # 印出 dom 文件樹"
   ]
  },
  {
   "cell_type": "markdown",
   "metadata": {},
   "source": [
    "### Practice 1\n",
    "\n",
    "用 requests 抓網頁 (ptt stock 版)，並印出 DOM 文件樹，不要有 header，印出 response code，並判斷是否連線成功。連線成功才印出 DOM 文件樹，否則則印出 \"連線失敗\"。"
   ]
  },
  {
   "cell_type": "code",
   "execution_count": 29,
   "metadata": {},
   "outputs": [
    {
     "name": "stdout",
     "output_type": "stream",
     "text": [
      "Status code: 200\n",
      "Connection successful\n",
      "<!DOCTYPE html>\n",
      "\n",
      "<html>\n",
      "<head>\n",
      "<meta charset=\"utf-8\"/>\n",
      "<meta content=\"width=device-width, initial-scale=1\" name=\"viewport\"/>\n",
      "<title>看板 Stock 文章列表 - 批踢踢實業坊</title>\n",
      "<link href=\"//images.ptt.cc/bbs/v2.27/bbs-common.css\" rel=\"stylesheet\" type=\"text/css\"/>\n",
      "<link href=\"//images.ptt.cc/bbs/v2.27/bbs-base.css\" media=\"screen\" rel=\"stylesheet\" type=\"text/css\"/>\n",
      "<link href=\"//images.ptt.cc/bbs/v2.27/bbs-custom.css\" rel=\"stylesheet\" type=\"text/css\"/>\n",
      "<link href=\"//images.ptt.cc/bbs/v2.27/pushstream.css\" media=\"screen\" rel=\"stylesheet\" type=\"text/css\"/>\n",
      "<link href=\"//images.ptt.cc/bbs/v2.27/bbs-print.css\" media=\"print\" rel=\"stylesheet\" type=\"text/css\"/>\n",
      "</head>\n",
      "<body>\n",
      "<div id=\"topbar-container\">\n",
      "<div class=\"bbs-content\" id=\"topbar\">\n",
      "<a href=\"/bbs/\" id=\"logo\">批踢踢實業坊</a>\n",
      "<span>›</span>\n",
      "<a class=\"board\" href=\"/bbs/Stock/index.html\"><span class=\"board-label\">看板 </span>Stock</a>\n",
      "<a class=\"right small\" href=\"/about.html\">關於我們</a>\n",
      "<a class=\"right small\" href=\"/contact.html\">聯絡資訊</a>\n",
      "</div>\n",
      "</div>\n",
      "<div id=\"main-container\">\n",
      "<div id=\"action-bar-container\">\n",
      "<div class=\"action-bar\">\n",
      "<div class=\"btn-group btn-group-dir\">\n",
      "<a class=\"btn selected\" href=\"/bbs/Stock/index.html\">看板</a>\n",
      "<a class=\"btn\" href=\"/man/Stock/index.html\">精華區</a>\n",
      "</div>\n",
      "<div class=\"btn-group btn-group-paging\">\n",
      "<a class=\"btn wide\" href=\"/bbs/Stock/index1.html\">最舊</a>\n",
      "<a class=\"btn wide\" href=\"/bbs/Stock/index8497.html\">‹ 上頁</a>\n",
      "<a class=\"btn wide disabled\">下頁 ›</a>\n",
      "<a class=\"btn wide\" href=\"/bbs/Stock/index.html\">最新</a>\n",
      "</div>\n",
      "</div>\n",
      "</div>\n",
      "<div class=\"r-list-container action-bar-margin bbs-screen\">\n",
      "<div class=\"search-bar\">\n",
      "<form action=\"search\" id=\"search-bar\" type=\"get\">\n",
      "<input class=\"query\" name=\"q\" placeholder=\"搜尋文章⋯\" type=\"text\" value=\"\"/>\n",
      "</form>\n",
      "</div>\n",
      "<div class=\"r-ent\">\n",
      "<div class=\"nrec\"><span class=\"hl f2\">6</span></div>\n",
      "<div class=\"title\">\n",
      "<a href=\"/bbs/Stock/M.1742778699.A.271.html\">[情報] 華爾街大摩計畫裁員2000人以控制成本</a>\n",
      "</div>\n",
      "<div class=\"meta\">\n",
      "<div class=\"author\">gothmog</div>\n",
      "<div class=\"article-menu\">\n",
      "<div class=\"trigger\">⋯</div>\n",
      "<div class=\"dropdown\">\n",
      "<div class=\"item\"><a href=\"/bbs/Stock/search?q=thread%3A%5B%E6%83%85%E5%A0%B1%5D+%E8%8F%AF%E7%88%BE%E8%A1%97%E5%A4%A7%E6%91%A9%E8%A8%88%E7%95%AB%E8%A3%81%E5%93%A12000%E4%BA%BA%E4%BB%A5%E6%8E%A7%E5%88%B6%E6%88%90%E6%9C%AC\">搜尋同標題文章</a></div>\n",
      "<div class=\"item\"><a href=\"/bbs/Stock/search?q=author%3Agothmog\">搜尋看板內 gothmog 的文章</a></div>\n",
      "</div>\n",
      "</div>\n",
      "<div class=\"date\"> 3/24</div>\n",
      "<div class=\"mark\"></div>\n",
      "</div>\n",
      "</div>\n",
      "<div class=\"r-ent\">\n",
      "<div class=\"nrec\"></div>\n",
      "<div class=\"title\">\n",
      "<a href=\"/bbs/Stock/M.1742780152.A.90E.html\">Re: [新聞] 馬斯克:特斯拉人形機器人Optimus今年試</a>\n",
      "</div>\n",
      "<div class=\"meta\">\n",
      "<div class=\"author\">weegee</div>\n",
      "<div class=\"article-menu\">\n",
      "<div class=\"trigger\">⋯</div>\n",
      "<div class=\"dropdown\">\n",
      "<div class=\"item\"><a href=\"/bbs/Stock/search?q=thread%3A%5B%E6%96%B0%E8%81%9E%5D+%E9%A6%AC%E6%96%AF%E5%85%8B%3A%E7%89%B9%E6%96%AF%E6%8B%89%E4%BA%BA%E5%BD%A2%E6%A9%9F%E5%99%A8%E4%BA%BAOptimus%E4%BB%8A%E5%B9%B4%E8%A9%A6\">搜尋同標題文章</a></div>\n",
      "<div class=\"item\"><a href=\"/bbs/Stock/search?q=author%3Aweegee\">搜尋看板內 weegee 的文章</a></div>\n",
      "</div>\n",
      "</div>\n",
      "<div class=\"date\"> 3/24</div>\n",
      "<div class=\"mark\"></div>\n",
      "</div>\n",
      "</div>\n",
      "<div class=\"r-list-sep\"></div>\n",
      "<div class=\"r-ent\">\n",
      "<div class=\"nrec\"></div>\n",
      "<div class=\"title\">\n",
      "<a href=\"/bbs/Stock/M.1719872231.A.9BA.html\">[公告] 股票板板規 v4.7 (2024/10/06 修正)</a>\n",
      "</div>\n",
      "<div class=\"meta\">\n",
      "<div class=\"author\">rayccccc</div>\n",
      "<div class=\"article-menu\">\n",
      "<div class=\"trigger\">⋯</div>\n",
      "<div class=\"dropdown\">\n",
      "<div class=\"item\"><a href=\"/bbs/Stock/search?q=thread%3A%5B%E5%85%AC%E5%91%8A%5D+%E8%82%A1%E7%A5%A8%E6%9D%BF%E6%9D%BF%E8%A6%8F+v4.7+%282024%2F10%2F06+%E4%BF%AE%E6%AD%A3%29\">搜尋同標題文章</a></div>\n",
      "<div class=\"item\"><a href=\"/bbs/Stock/search?q=author%3Arayccccc\">搜尋看板內 rayccccc 的文章</a></div>\n",
      "</div>\n",
      "</div>\n",
      "<div class=\"date\"> 7/02</div>\n",
      "<div class=\"mark\">!</div>\n",
      "</div>\n",
      "</div>\n",
      "<div class=\"r-ent\">\n",
      "<div class=\"nrec\"><span class=\"hl f1\">爆</span></div>\n",
      "<div class=\"title\">\n",
      "<a href=\"/bbs/Stock/M.1730738309.A.238.html\">Fw: [公告] 請留意新註冊帳號使用信件詐騙</a>\n",
      "</div>\n",
      "<div class=\"meta\">\n",
      "<div class=\"author\">rayccccc</div>\n",
      "<div class=\"article-menu\">\n",
      "<div class=\"trigger\">⋯</div>\n",
      "<div class=\"dropdown\">\n",
      "<div class=\"item\"><a href=\"/bbs/Stock/search?q=thread%3A%5B%E5%85%AC%E5%91%8A%5D+%E8%AB%8B%E7%95%99%E6%84%8F%E6%96%B0%E8%A8%BB%E5%86%8A%E5%B8%B3%E8%99%9F%E4%BD%BF%E7%94%A8%E4%BF%A1%E4%BB%B6%E8%A9%90%E9%A8%99\">搜尋同標題文章</a></div>\n",
      "<div class=\"item\"><a href=\"/bbs/Stock/search?q=author%3Arayccccc\">搜尋看板內 rayccccc 的文章</a></div>\n",
      "</div>\n",
      "</div>\n",
      "<div class=\"date\">11/05</div>\n",
      "<div class=\"mark\">!</div>\n",
      "</div>\n",
      "</div>\n",
      "<div class=\"r-ent\">\n",
      "<div class=\"nrec\"><span class=\"hl f2\">9</span></div>\n",
      "<div class=\"title\">\n",
      "<a href=\"/bbs/Stock/M.1739730011.A.267.html\">[公告] 4-6-1的初犯罰則在三個月內將加重至30天</a>\n",
      "</div>\n",
      "<div class=\"meta\">\n",
      "<div class=\"author\">Paul1021</div>\n",
      "<div class=\"article-menu\">\n",
      "<div class=\"trigger\">⋯</div>\n",
      "<div class=\"dropdown\">\n",
      "<div class=\"item\"><a href=\"/bbs/Stock/search?q=thread%3A%5B%E5%85%AC%E5%91%8A%5D+4-6-1%E7%9A%84%E5%88%9D%E7%8A%AF%E7%BD%B0%E5%89%87%E5%9C%A8%E4%B8%89%E5%80%8B%E6%9C%88%E5%85%A7%E5%B0%87%E5%8A%A0%E9%87%8D%E8%87%B330%E5%A4%A9\">搜尋同標題文章</a></div>\n",
      "<div class=\"item\"><a href=\"/bbs/Stock/search?q=author%3APaul1021\">搜尋看板內 Paul1021 的文章</a></div>\n",
      "</div>\n",
      "</div>\n",
      "<div class=\"date\"> 2/17</div>\n",
      "<div class=\"mark\">!</div>\n",
      "</div>\n",
      "</div>\n",
      "<div class=\"r-ent\">\n",
      "<div class=\"nrec\"><span class=\"hl f1\">爆</span></div>\n",
      "<div class=\"title\">\n",
      "<a href=\"/bbs/Stock/M.1742776202.A.3CC.html\">[閒聊] 2025/03/24 盤中閒聊</a>\n",
      "</div>\n",
      "<div class=\"meta\">\n",
      "<div class=\"author\">laptic</div>\n",
      "<div class=\"article-menu\">\n",
      "<div class=\"trigger\">⋯</div>\n",
      "<div class=\"dropdown\">\n",
      "<div class=\"item\"><a href=\"/bbs/Stock/search?q=thread%3A%5B%E9%96%92%E8%81%8A%5D+2025%2F03%2F24+%E7%9B%A4%E4%B8%AD%E9%96%92%E8%81%8A\">搜尋同標題文章</a></div>\n",
      "<div class=\"item\"><a href=\"/bbs/Stock/search?q=author%3Alaptic\">搜尋看板內 laptic 的文章</a></div>\n",
      "</div>\n",
      "</div>\n",
      "<div class=\"date\"> 3/24</div>\n",
      "<div class=\"mark\"></div>\n",
      "</div>\n",
      "</div>\n",
      "</div>\n",
      "</div>\n",
      "<script async=\"\" src=\"https://www.googletagmanager.com/gtag/js?id=G-DZ6Y3BY9GW\"></script>\n",
      "<script>\n",
      "      window.dataLayer = window.dataLayer || [];\n",
      "      function gtag(){dataLayer.push(arguments);}\n",
      "      gtag('js', new Date());\n",
      "\n",
      "      gtag('config', 'G-DZ6Y3BY9GW');\n",
      "</script>\n",
      "<script>\n",
      "  (function(i,s,o,g,r,a,m){i['GoogleAnalyticsObject']=r;i[r]=i[r]||function(){\n",
      "  (i[r].q=i[r].q||[]).push(arguments)},i[r].l=1*new Date();a=s.createElement(o),\n",
      "  m=s.getElementsByTagName(o)[0];a.async=1;a.src=g;m.parentNode.insertBefore(a,m)\n",
      "  })(window,document,'script','https://www.google-analytics.com/analytics.js','ga');\n",
      "\n",
      "  ga('create', 'UA-32365737-1', {\n",
      "    cookieDomain: 'ptt.cc',\n",
      "    legacyCookieDomain: 'ptt.cc'\n",
      "  });\n",
      "  ga('send', 'pageview');\n",
      "</script>\n",
      "<script src=\"//ajax.googleapis.com/ajax/libs/jquery/2.1.1/jquery.min.js\"></script>\n",
      "<script src=\"//images.ptt.cc/bbs/v2.27/bbs.js\"></script>\n",
      "<script>(function(){function c(){var b=a.contentDocument||a.contentWindow.document;if(b){var d=b.createElement('script');d.innerHTML=\"window.__CF$cv$params={r:'925273171eb52f69',t:'MTc0Mjc4MDMxMi4wMDAwMDA='};var a=document.createElement('script');a.nonce='';a.src='/cdn-cgi/challenge-platform/scripts/jsd/main.js';document.getElementsByTagName('head')[0].appendChild(a);\";b.getElementsByTagName('head')[0].appendChild(d)}}if(document.body){var a=document.createElement('iframe');a.height=1;a.width=1;a.style.position='absolute';a.style.top=0;a.style.left=0;a.style.border='none';a.style.visibility='hidden';document.body.appendChild(a);if('loading'!==document.readyState)c();else if(window.addEventListener)document.addEventListener('DOMContentLoaded',c);else{var e=document.onreadystatechange||function(){};document.onreadystatechange=function(b){e(b);'loading'!==document.readyState&&(document.onreadystatechange=e,c())}}}})();</script></body>\n",
      "</html>\n",
      "\n"
     ]
    }
   ],
   "source": [
    "url = \"https://www.ptt.cc/bbs/stock/index.html\"\n",
    "\n",
    "resp = requests.get(url)\n",
    "print(\"Status code:\", resp.status_code)\n",
    "\n",
    "if resp.status_code == 200:\n",
    "    print(\"Connection successful\")\n",
    "    soup = BeautifulSoup(resp.text, \"html.parser\")\n",
    "    print(soup)\n",
    "else:\n",
    "    print(\"連線失敗\")\n"
   ]
  },
  {
   "cell_type": "markdown",
   "metadata": {},
   "source": [
    "### Practice 2\n",
    "\n",
    "問題：用 requests 抓網頁 (dcard 版) 並印出 DOM 文件樹，要 header: User-Agent，印出 response code，並判斷是否連線成功。連線成功才印出 DOM 文件樹，否則則印出 \"連線失敗\"。"
   ]
  },
  {
   "cell_type": "code",
   "execution_count": 30,
   "metadata": {},
   "outputs": [
    {
     "name": "stdout",
     "output_type": "stream",
     "text": [
      "Status code: 403\n",
      "連線失敗\n"
     ]
    }
   ],
   "source": [
    "url = \"https://www.dcard.tw/f/relationship\" # Dcard 感情版網址\n",
    "ua = \"Mozilla/5.0 (Macintosh; Intel Mac OS X 10_15_7) AppleWebKit/537.36 (KHTML, like Gecko) Chrome/134.0.0.0 Safari/537.36\"\n",
    "\n",
    "resp = requests.get(url, headers={\n",
    "    \"User-Agent\": ua\n",
    "})\n",
    "print(\"Status code:\", resp.status_code)\n",
    "\n",
    "if resp.status_code == 200:\n",
    "    print(\"Connection successful\")\n",
    "    soup = BeautifulSoup(resp.text, \"html.parser\")\n",
    "    print(soup)\n",
    "else:\n",
    "    print(\"連線失敗\")\n"
   ]
  },
  {
   "cell_type": "markdown",
   "metadata": {},
   "source": [
    "## BeautifulSoup - 使用"
   ]
  },
  {
   "cell_type": "code",
   "execution_count": 31,
   "metadata": {},
   "outputs": [],
   "source": [
    "from bs4 import Tag"
   ]
  },
  {
   "cell_type": "code",
   "execution_count": 32,
   "metadata": {},
   "outputs": [],
   "source": [
    "url = \"http://jwlin.github.io/py-scraping-analysis-book/ch2/blog/blog.html\"  # 設定網頁網址\n",
    "resp = requests.get(url)  # 模擬get請求\n",
    "soup = BeautifulSoup(resp.text, \"html.parser\")"
   ]
  },
  {
   "cell_type": "markdown",
   "metadata": {},
   "source": [
    "### 取得第一篇 blog 主標題HTML結構 (h4)"
   ]
  },
  {
   "cell_type": "code",
   "execution_count": 33,
   "metadata": {},
   "outputs": [
    {
     "data": {
      "text/plain": [
       "<h4 class=\"card-title\">\n",
       "<a href=\"http://www.pycone.com/blogs#pablo\">Mac使用者</a>\n",
       "</h4>"
      ]
     },
     "execution_count": 33,
     "metadata": {},
     "output_type": "execute_result"
    }
   ],
   "source": [
    "soup.find('h4')"
   ]
  },
  {
   "cell_type": "code",
   "execution_count": 34,
   "metadata": {},
   "outputs": [
    {
     "data": {
      "text/plain": [
       "<h4 class=\"card-title\">\n",
       "<a href=\"http://www.pycone.com/blogs#pablo\">Mac使用者</a>\n",
       "</h4>"
      ]
     },
     "execution_count": 34,
     "metadata": {},
     "output_type": "execute_result"
    }
   ],
   "source": [
    "soup.h4"
   ]
  },
  {
   "cell_type": "markdown",
   "metadata": {},
   "source": [
    "### 取得第一篇 blog 主標題"
   ]
  },
  {
   "cell_type": "code",
   "execution_count": 35,
   "metadata": {},
   "outputs": [
    {
     "data": {
      "text/plain": [
       "'Mac使用者'"
      ]
     },
     "execution_count": 35,
     "metadata": {},
     "output_type": "execute_result"
    }
   ],
   "source": [
    "def get_first_blog_title(soup: BeautifulSoup) -> str:\n",
    "    h4 = soup.find('h4')\n",
    "    assert h4 is not None\n",
    "    a = h4.find('a')\n",
    "    assert isinstance(a, Tag)\n",
    "    return a.text\n",
    "\n",
    "get_first_blog_title(soup)"
   ]
  },
  {
   "cell_type": "code",
   "execution_count": 36,
   "metadata": {},
   "outputs": [
    {
     "data": {
      "text/plain": [
       "'Mac使用者'"
      ]
     },
     "execution_count": 36,
     "metadata": {},
     "output_type": "execute_result"
    }
   ],
   "source": [
    "def get_first_blog_title_method_2(soup: BeautifulSoup) -> str:\n",
    "    h4 = soup.h4\n",
    "    assert h4 is not None\n",
    "    a = h4.a\n",
    "    assert isinstance(a, Tag)\n",
    "    return a.text\n",
    "\n",
    "get_first_blog_title(soup)"
   ]
  },
  {
   "cell_type": "markdown",
   "metadata": {},
   "source": [
    "### 取得所有 blog 主標題, 使用 tag"
   ]
  },
  {
   "cell_type": "code",
   "execution_count": 37,
   "metadata": {},
   "outputs": [
    {
     "data": {
      "text/plain": [
       "['Mac使用者',\n",
       " '給初學者的 Python 網頁爬蟲與資料分析',\n",
       " '給初學者的 Python 網頁爬蟲與資料分析',\n",
       " '給初學者的 Python 網頁爬蟲與資料分析',\n",
       " '給初學者的 Python 網頁爬蟲與資料分析',\n",
       " '給初學者的 Python 網頁爬蟲與資料分析']"
      ]
     },
     "execution_count": 37,
     "metadata": {},
     "output_type": "execute_result"
    }
   ],
   "source": [
    "def get_all_blog_titles(soup: BeautifulSoup) -> list[str]:\n",
    "    titles = soup.find_all('h4')\n",
    "    return [title.find('a').text for title in titles]\n",
    "\n",
    "get_all_blog_titles(soup)"
   ]
  },
  {
   "cell_type": "code",
   "execution_count": 38,
   "metadata": {},
   "outputs": [
    {
     "data": {
      "text/plain": [
       "['Mac使用者',\n",
       " '給初學者的 Python 網頁爬蟲與資料分析',\n",
       " '給初學者的 Python 網頁爬蟲與資料分析',\n",
       " '給初學者的 Python 網頁爬蟲與資料分析',\n",
       " '給初學者的 Python 網頁爬蟲與資料分析',\n",
       " '給初學者的 Python 網頁爬蟲與資料分析']"
      ]
     },
     "execution_count": 38,
     "metadata": {},
     "output_type": "execute_result"
    }
   ],
   "source": [
    "def get_all_blog_titles_method_2(soup: BeautifulSoup) -> list[str]:\n",
    "    titles = soup.find_all('h4')\n",
    "    return [title.a.text for title in titles]\n",
    "\n",
    "get_all_blog_titles(soup)"
   ]
  },
  {
   "cell_type": "markdown",
   "metadata": {},
   "source": [
    "### 取得各篇 blog 的所有文字"
   ]
  },
  {
   "cell_type": "code",
   "execution_count": 39,
   "metadata": {},
   "outputs": [
    {
     "data": {
      "text/plain": [
       "<div class=\"content\">\n",
       "<h6 class=\"category text-muted\">開發環境設定</h6>\n",
       "<h4 class=\"card-title\">\n",
       "<a href=\"http://www.pycone.com/blogs#pablo\">Mac使用者</a>\n",
       "</h4>\n",
       "<p class=\"card-description\" id=\"mac-p\">\n",
       "                                    在Mac環境下安裝Python與Sublime Text3<a data-foo=\"mac-foo\" href=\"http://www.pycone.com/blogs/mac-python-environment\"> <br/>Read More </a>\n",
       "</p>\n",
       "</div>"
      ]
     },
     "execution_count": 39,
     "metadata": {},
     "output_type": "execute_result"
    }
   ],
   "source": [
    "divs = soup.find_all(\"div\", class_=\"content\")\n",
    "divs[0]"
   ]
  },
  {
   "cell_type": "code",
   "execution_count": 40,
   "metadata": {},
   "outputs": [
    {
     "name": "stdout",
     "output_type": "stream",
     "text": [
      "開發環境設定 Mac使用者 在Mac環境下安裝Python與Sublime Text3 Read More\n",
      "資料科學 給初學者的 Python 網頁爬蟲與資料分析 (1) 前言 Read More\n",
      "資料科學 給初學者的 Python 網頁爬蟲與資料分析 (2) 套件安裝與啟動網頁爬蟲 Read More\n",
      "資料科學 給初學者的 Python 網頁爬蟲與資料分析 (3) 解構並擷取網頁資料 Read More\n",
      "資料科學 給初學者的 Python 網頁爬蟲與資料分析 (4) 擷取資料及下載圖片 Read More\n",
      "資料科學 給初學者的 Python 網頁爬蟲與資料分析 (5) 資料分析及展示 Read More\n"
     ]
    }
   ],
   "source": [
    "for div in divs:\n",
    "    print(div.h6.text.strip(), div.h4.a.text.strip(), div.p.text.strip())"
   ]
  },
  {
   "cell_type": "markdown",
   "metadata": {},
   "source": [
    "### 讀取以下網址，逐行輸出書名"
   ]
  },
  {
   "cell_type": "code",
   "execution_count": 41,
   "metadata": {},
   "outputs": [],
   "source": [
    "resp = requests.get(\n",
    "    \"http://jwlin.github.io/py-scraping-analysis-book/ch2/table/table.html\"\n",
    ")\n",
    "soup = BeautifulSoup(resp.text, \"html.parser\")"
   ]
  },
  {
   "cell_type": "code",
   "execution_count": 42,
   "metadata": {},
   "outputs": [
    {
     "data": {
      "text/plain": [
       "<tbody>\n",
       "<tr><td>初心者 - Python入門</td><td>初學者</td><td>1490</td><td><a href=\"http://www.pycone.com\"><img alt=\"python™\" class=\"python-logo\" src=\"img/python-logo.png\"/></a></td></tr>\n",
       "<tr><td>Python 網頁爬蟲入門實戰</td><td>有程式基礎的初學者</td><td>1890</td><td><a href=\"http://www.pycone.com\"><img alt=\"python™\" class=\"python-logo\" src=\"img/python-logo.png\"/></a></td></tr>\n",
       "<tr><td>Python 機器學習入門實戰 (預計)</td><td>有程式基礎的初學者</td><td>1890</td><td><a href=\"http://www.pycone.com\"><img alt=\"python™\" class=\"python-logo\" src=\"img/python-logo.png\"/></a></td></tr>\n",
       "<tr><td>Python 資料科學入門實戰 (預計)</td><td>有程式基礎的初學者</td><td>1890</td><td><a href=\"http://www.pycone.com\"><img alt=\"python™\" class=\"python-logo\" src=\"img/python-logo.png\"/></a></td></tr>\n",
       "<tr><td>Python 資料視覺化入門實戰 (預計)</td><td>有程式基礎的初學者</td><td>1890</td><td><a href=\"http://www.pycone.com\"><img alt=\"python™\" class=\"python-logo\" src=\"img/python-logo.png\"/></a></td></tr>\n",
       "<tr><td>Python 網站架設入門實戰 (預計)</td><td>有程式基礎的初學者</td><td>1890</td><td><a><img alt=\"python™\" class=\"python-logo\" src=\"img/python-logo.png\"/></a></td></tr>\n",
       "</tbody>"
      ]
     },
     "execution_count": 42,
     "metadata": {},
     "output_type": "execute_result"
    }
   ],
   "source": [
    "table_body = soup.tbody\n",
    "\n",
    "table_body"
   ]
  },
  {
   "cell_type": "code",
   "execution_count": 43,
   "metadata": {},
   "outputs": [
    {
     "data": {
      "text/plain": [
       "[<tr><td>初心者 - Python入門</td><td>初學者</td><td>1490</td><td><a href=\"http://www.pycone.com\"><img alt=\"python™\" class=\"python-logo\" src=\"img/python-logo.png\"/></a></td></tr>,\n",
       " <tr><td>Python 網頁爬蟲入門實戰</td><td>有程式基礎的初學者</td><td>1890</td><td><a href=\"http://www.pycone.com\"><img alt=\"python™\" class=\"python-logo\" src=\"img/python-logo.png\"/></a></td></tr>]"
      ]
     },
     "execution_count": 43,
     "metadata": {},
     "output_type": "execute_result"
    }
   ],
   "source": [
    "assert table_body is not None\n",
    "\n",
    "rows = table_body.find_all(\"tr\")\n",
    "rows[0:2]"
   ]
  },
  {
   "cell_type": "code",
   "execution_count": 44,
   "metadata": {},
   "outputs": [
    {
     "name": "stdout",
     "output_type": "stream",
     "text": [
      "初心者 - Python入門\n",
      "Python 網頁爬蟲入門實戰\n",
      "Python 機器學習入門實戰 (預計)\n",
      "Python 資料科學入門實戰 (預計)\n",
      "Python 資料視覺化入門實戰 (預計)\n",
      "Python 網站架設入門實戰 (預計)\n"
     ]
    }
   ],
   "source": [
    "# 第一種呈現書名的方法\n",
    "for row in rows:\n",
    "    td = row.find(\"td\").text\n",
    "    print(td)"
   ]
  },
  {
   "cell_type": "code",
   "execution_count": 45,
   "metadata": {},
   "outputs": [
    {
     "name": "stdout",
     "output_type": "stream",
     "text": [
      "初心者 - Python入門\n",
      "Python 網頁爬蟲入門實戰\n",
      "Python 機器學習入門實戰 (預計)\n",
      "Python 資料科學入門實戰 (預計)\n",
      "Python 資料視覺化入門實戰 (預計)\n",
      "Python 網站架設入門實戰 (預計)\n"
     ]
    }
   ],
   "source": [
    "# 第二種呈現書名的方法\n",
    "for row in rows:\n",
    "    tds = row.find_all(\"td\")[0].text\n",
    "    print(tds)"
   ]
  },
  {
   "cell_type": "markdown",
   "metadata": {},
   "source": [
    "### Question: 讀取以下網址，逐行輸出書名、售價，以及最後一行印出平均價格"
   ]
  },
  {
   "cell_type": "code",
   "execution_count": 46,
   "metadata": {},
   "outputs": [],
   "source": [
    "import pandas as pd"
   ]
  },
  {
   "cell_type": "code",
   "execution_count": 47,
   "metadata": {},
   "outputs": [],
   "source": [
    "resp = requests.get('http://jwlin.github.io/py-scraping-analysis-book/ch2/table/table.html')\n",
    "soup = BeautifulSoup(resp.text, 'html.parser')"
   ]
  },
  {
   "cell_type": "code",
   "execution_count": 52,
   "metadata": {},
   "outputs": [
    {
     "data": {
      "text/html": [
       "<div>\n",
       "<style scoped>\n",
       "    .dataframe tbody tr th:only-of-type {\n",
       "        vertical-align: middle;\n",
       "    }\n",
       "\n",
       "    .dataframe tbody tr th {\n",
       "        vertical-align: top;\n",
       "    }\n",
       "\n",
       "    .dataframe thead th {\n",
       "        text-align: right;\n",
       "    }\n",
       "</style>\n",
       "<table border=\"1\" class=\"dataframe\">\n",
       "  <thead>\n",
       "    <tr style=\"text-align: right;\">\n",
       "      <th></th>\n",
       "      <th>課程名稱</th>\n",
       "      <th>適合對象</th>\n",
       "      <th>售價</th>\n",
       "      <th>課程連結</th>\n",
       "    </tr>\n",
       "  </thead>\n",
       "  <tbody>\n",
       "    <tr>\n",
       "      <th>0</th>\n",
       "      <td>初心者 - Python入門</td>\n",
       "      <td>初學者</td>\n",
       "      <td>1490</td>\n",
       "      <td>http://www.pycone.com</td>\n",
       "    </tr>\n",
       "    <tr>\n",
       "      <th>1</th>\n",
       "      <td>Python 網頁爬蟲入門實戰</td>\n",
       "      <td>有程式基礎的初學者</td>\n",
       "      <td>1890</td>\n",
       "      <td>http://www.pycone.com</td>\n",
       "    </tr>\n",
       "    <tr>\n",
       "      <th>2</th>\n",
       "      <td>Python 機器學習入門實戰 (預計)</td>\n",
       "      <td>有程式基礎的初學者</td>\n",
       "      <td>1890</td>\n",
       "      <td>http://www.pycone.com</td>\n",
       "    </tr>\n",
       "    <tr>\n",
       "      <th>3</th>\n",
       "      <td>Python 資料科學入門實戰 (預計)</td>\n",
       "      <td>有程式基礎的初學者</td>\n",
       "      <td>1890</td>\n",
       "      <td>http://www.pycone.com</td>\n",
       "    </tr>\n",
       "    <tr>\n",
       "      <th>4</th>\n",
       "      <td>Python 資料視覺化入門實戰 (預計)</td>\n",
       "      <td>有程式基礎的初學者</td>\n",
       "      <td>1890</td>\n",
       "      <td>http://www.pycone.com</td>\n",
       "    </tr>\n",
       "    <tr>\n",
       "      <th>5</th>\n",
       "      <td>Python 網站架設入門實戰 (預計)</td>\n",
       "      <td>有程式基礎的初學者</td>\n",
       "      <td>1890</td>\n",
       "      <td></td>\n",
       "    </tr>\n",
       "  </tbody>\n",
       "</table>\n",
       "</div>"
      ],
      "text/plain": [
       "                    課程名稱       適合對象    售價                   課程連結\n",
       "0         初心者 - Python入門        初學者  1490  http://www.pycone.com\n",
       "1        Python 網頁爬蟲入門實戰  有程式基礎的初學者  1890  http://www.pycone.com\n",
       "2   Python 機器學習入門實戰 (預計)  有程式基礎的初學者  1890  http://www.pycone.com\n",
       "3   Python 資料科學入門實戰 (預計)  有程式基礎的初學者  1890  http://www.pycone.com\n",
       "4  Python 資料視覺化入門實戰 (預計)  有程式基礎的初學者  1890  http://www.pycone.com\n",
       "5   Python 網站架設入門實戰 (預計)  有程式基礎的初學者  1890                       "
      ]
     },
     "execution_count": 52,
     "metadata": {},
     "output_type": "execute_result"
    }
   ],
   "source": [
    "# get table\n",
    "table = soup.table\n",
    "assert table is not None\n",
    "\n",
    "# get table body\n",
    "table_body = table.tbody\n",
    "assert table_body is not None\n",
    "\n",
    "result: dict[str, list[str]] = {\n",
    "    \"課程名稱\": [],\n",
    "    \"適合對象\": [],\n",
    "    \"售價\": [],\n",
    "    \"課程連結\": [],\n",
    "}\n",
    "\n",
    "# get rows\n",
    "rows = table_body.find_all('tr')\n",
    "for row in rows:\n",
    "    assert isinstance(row, Tag)\n",
    "\n",
    "    tds = row.find_all('td')\n",
    "    link_td = tds[3]\n",
    "    assert isinstance(link_td, Tag)\n",
    "    link = link_td.a\n",
    "    assert isinstance(link, Tag)\n",
    "    href = link.get('href')\n",
    "    assert href is None or isinstance(href, str)\n",
    "\n",
    "    result[\"課程名稱\"].append(tds[0].text)\n",
    "    result[\"適合對象\"].append(tds[1].text)\n",
    "    result[\"售價\"].append(tds[2].text)\n",
    "    result[\"課程連結\"].append(href or '')\n",
    "\n",
    "pd.DataFrame(result)\n"
   ]
  },
  {
   "cell_type": "markdown",
   "metadata": {},
   "source": []
  }
 ],
 "metadata": {
  "kernelspec": {
   "display_name": ".venv",
   "language": "python",
   "name": "python3"
  },
  "language_info": {
   "codemirror_mode": {
    "name": "ipython",
    "version": 3
   },
   "file_extension": ".py",
   "mimetype": "text/x-python",
   "name": "python",
   "nbconvert_exporter": "python",
   "pygments_lexer": "ipython3",
   "version": "3.12.5"
  }
 },
 "nbformat": 4,
 "nbformat_minor": 2
}
