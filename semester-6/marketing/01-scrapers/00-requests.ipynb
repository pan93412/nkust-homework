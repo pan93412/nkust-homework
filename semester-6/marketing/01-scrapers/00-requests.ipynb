{
 "cells": [
  {
   "cell_type": "markdown",
   "metadata": {},
   "source": [
    "# 00 - requests usage"
   ]
  },
  {
   "cell_type": "code",
   "execution_count": 1,
   "metadata": {},
   "outputs": [],
   "source": [
    "import requests\n",
    "from bs4 import BeautifulSoup"
   ]
  },
  {
   "cell_type": "markdown",
   "metadata": {},
   "source": [
    "## 基本 requests 使用"
   ]
  },
  {
   "cell_type": "markdown",
   "metadata": {},
   "source": [
    "### Success case (2xx)"
   ]
  },
  {
   "cell_type": "code",
   "execution_count": 2,
   "metadata": {},
   "outputs": [
    {
     "name": "stdout",
     "output_type": "stream",
     "text": [
      "200\n",
      "Request success with status code: 200\n"
     ]
    }
   ],
   "source": [
    "url = \"https://jwlin.github.io/py-scraping-analysis-book/ch1/connect.html\"\n",
    "resp = requests.get(url)\n",
    "print(resp.status_code)\n",
    "\n",
    "if resp.status_code == 200:\n",
    "    print(\"Request success with status code:\", resp.status_code)\n",
    "else:\n",
    "    print(\"Request failed with status code:\", resp.status_code)"
   ]
  },
  {
   "cell_type": "markdown",
   "metadata": {},
   "source": [
    "### Failed Case (not 2xx)"
   ]
  },
  {
   "cell_type": "code",
   "execution_count": 3,
   "metadata": {},
   "outputs": [
    {
     "name": "stdout",
     "output_type": "stream",
     "text": [
      "404\n",
      "Request failed with status code: 404\n"
     ]
    }
   ],
   "source": [
    "url = \"https://jwlin.github.io/py-scraping-analysis-book/ch1/connect.html2\"\n",
    "resp = requests.get(url)\n",
    "print(resp.status_code)\n",
    "\n",
    "if resp.status_code == 200:\n",
    "    print(\"Request success with status code:\", resp.status_code)\n",
    "else:\n",
    "    print(\"Request failed with status code:\", resp.status_code)"
   ]
  },
  {
   "cell_type": "markdown",
   "metadata": {},
   "source": [
    "## BeautifulSoup - 載入"
   ]
  },
  {
   "cell_type": "markdown",
   "metadata": {},
   "source": [
    "### Print out the DOM tree"
   ]
  },
  {
   "cell_type": "code",
   "execution_count": 4,
   "metadata": {},
   "outputs": [
    {
     "name": "stdout",
     "output_type": "stream",
     "text": [
      "200\n"
     ]
    },
    {
     "data": {
      "text/plain": [
       "<!DOCTYPE html>\n",
       "\n",
       "<html lang=\"en\">\n",
       "<head>\n",
       "<meta charset=\"utf-8\"/>\n",
       "<meta content=\"IE=edge\" http-equiv=\"X-UA-Compatible\"/>\n",
       "<meta content=\"width=device-width, initial-scale=1\" name=\"viewport\"/>\n",
       "<!-- The above 3 meta tags *must* come first in the head; any other head content must come *after* these tags -->\n",
       "<meta content=\"\" name=\"description\"/>\n",
       "<meta content=\"\" name=\"author\"/>\n",
       "<title>Pycone 松果城市</title>\n",
       "<!-- Bootstrap core CSS -->\n",
       "<link href=\"bootstrap.min.css\" rel=\"stylesheet\"/>\n",
       "<!-- IE10 viewport hack for Surface/desktop Windows 8 bug -->\n",
       "<link href=\"https://getbootstrap.com/assets/css/ie10-viewport-bug-workaround.css\" rel=\"stylesheet\"/>\n",
       "<!-- Custom styles for this template -->\n",
       "<link href=\"https://getbootstrap.com/examples/sticky-footer/sticky-footer.css\" rel=\"stylesheet\"/>\n",
       "<!-- Just for debugging purposes. Don't actually copy these 2 lines! -->\n",
       "<!--[if lt IE 9]><script src=\"../../assets/js/ie8-responsive-file-warning.js\"></script><![endif]-->\n",
       "<script src=\"https://getbootstrap.com/assets/js/ie-emulation-modes-warning.js\"></script>\n",
       "<!-- HTML5 shim and Respond.js for IE8 support of HTML5 elements and media queries -->\n",
       "<!--[if lt IE 9]>\n",
       "      <script src=\"https://oss.maxcdn.com/html5shiv/3.7.3/html5shiv.min.js\"></script>\n",
       "      <script src=\"https://oss.maxcdn.com/respond/1.4.2/respond.min.js\"></script>\n",
       "    <![endif]-->\n",
       "</head>\n",
       "<body>\n",
       "<!-- Begin page content -->\n",
       "<div class=\"container\">\n",
       "<div class=\"page-header\">\n",
       "<h1>歡迎來到 Pycone 松果城市！</h1>\n",
       "</div>\n",
       "<p class=\"lead\">Python是非常強的的程式語言, 簡潔友好的語法特別容易上手, 又有許多第三方函式庫的支援。Python是完全物件導向的語言, 有益於減少程式碼的重複性。Python的設計哲學是優雅, 明確, 簡單。 Python的設計風格, 使其成為易讀, 易維護且具有廣泛用途的程式語言。Python的應用範圍相當廣泛, 例如web後端開發, 機器學習, 資料分析, 自然語言處理, 網頁爬蟲與遊戲等等。如果自己常常翻閱書籍卻無法掌握重點, 上網收集資料卻覺得太過片段, 想要自己動手寫寫看卻不知道如何開始。 這們課會從最基本的環境架設開始教起, 讓所有同學都可以深入淺出一窺Python的奧妙,更透過實務專題練習的方式,使學生可以應用課堂所學來完成一個Python軟體。</p>\n",
       "<p><a href=\"http://www.pycone.com/\">了解更多</a></p>\n",
       "</div>\n",
       "<footer class=\"footer\">\n",
       "<div class=\"container\">\n",
       "<p class=\"text-muted\">Pycone (c) 2017</p>\n",
       "</div>\n",
       "</footer>\n",
       "<!-- IE10 viewport hack for Surface/desktop Windows 8 bug -->\n",
       "<script src=\"http://getbootstrap.com/assets/js/ie10-viewport-bug-workaround.js\"></script>\n",
       "</body>\n",
       "</html>"
      ]
     },
     "execution_count": 4,
     "metadata": {},
     "output_type": "execute_result"
    }
   ],
   "source": [
    "url = \"https://jwlin.github.io/py-scraping-analysis-book/ch1/connect.html\"  # 設定網頁網址，此為測試網頁\n",
    "resp = requests.get(url)  # 模擬 get 請求\n",
    "print(resp.status_code)\n",
    "\n",
    "soup = BeautifulSoup(resp.text, \"html.parser\")  # 將網頁格式檔放入 bs4 樹\n",
    "soup  # 印出 dom 文件樹"
   ]
  },
  {
   "cell_type": "markdown",
   "metadata": {},
   "source": [
    "### requests with header"
   ]
  },
  {
   "cell_type": "code",
   "execution_count": 5,
   "metadata": {},
   "outputs": [
    {
     "name": "stdout",
     "output_type": "stream",
     "text": [
      "200\n"
     ]
    },
    {
     "data": {
      "text/plain": [
       "<!DOCTYPE html>\n",
       "\n",
       "<html lang=\"en\">\n",
       "<head>\n",
       "<meta charset=\"utf-8\"/>\n",
       "<meta content=\"IE=edge\" http-equiv=\"X-UA-Compatible\"/>\n",
       "<meta content=\"width=device-width, initial-scale=1\" name=\"viewport\"/>\n",
       "<!-- The above 3 meta tags *must* come first in the head; any other head content must come *after* these tags -->\n",
       "<meta content=\"\" name=\"description\"/>\n",
       "<meta content=\"\" name=\"author\"/>\n",
       "<title>Pycone 松果城市</title>\n",
       "<!-- Bootstrap core CSS -->\n",
       "<link href=\"bootstrap.min.css\" rel=\"stylesheet\"/>\n",
       "<!-- IE10 viewport hack for Surface/desktop Windows 8 bug -->\n",
       "<link href=\"https://getbootstrap.com/assets/css/ie10-viewport-bug-workaround.css\" rel=\"stylesheet\"/>\n",
       "<!-- Custom styles for this template -->\n",
       "<link href=\"https://getbootstrap.com/examples/sticky-footer/sticky-footer.css\" rel=\"stylesheet\"/>\n",
       "<!-- Just for debugging purposes. Don't actually copy these 2 lines! -->\n",
       "<!--[if lt IE 9]><script src=\"../../assets/js/ie8-responsive-file-warning.js\"></script><![endif]-->\n",
       "<script src=\"https://getbootstrap.com/assets/js/ie-emulation-modes-warning.js\"></script>\n",
       "<!-- HTML5 shim and Respond.js for IE8 support of HTML5 elements and media queries -->\n",
       "<!--[if lt IE 9]>\n",
       "      <script src=\"https://oss.maxcdn.com/html5shiv/3.7.3/html5shiv.min.js\"></script>\n",
       "      <script src=\"https://oss.maxcdn.com/respond/1.4.2/respond.min.js\"></script>\n",
       "    <![endif]-->\n",
       "</head>\n",
       "<body>\n",
       "<!-- Begin page content -->\n",
       "<div class=\"container\">\n",
       "<div class=\"page-header\">\n",
       "<h1>歡迎來到 Pycone 松果城市！</h1>\n",
       "</div>\n",
       "<p class=\"lead\">Python是非常強的的程式語言, 簡潔友好的語法特別容易上手, 又有許多第三方函式庫的支援。Python是完全物件導向的語言, 有益於減少程式碼的重複性。Python的設計哲學是優雅, 明確, 簡單。 Python的設計風格, 使其成為易讀, 易維護且具有廣泛用途的程式語言。Python的應用範圍相當廣泛, 例如web後端開發, 機器學習, 資料分析, 自然語言處理, 網頁爬蟲與遊戲等等。如果自己常常翻閱書籍卻無法掌握重點, 上網收集資料卻覺得太過片段, 想要自己動手寫寫看卻不知道如何開始。 這們課會從最基本的環境架設開始教起, 讓所有同學都可以深入淺出一窺Python的奧妙,更透過實務專題練習的方式,使學生可以應用課堂所學來完成一個Python軟體。</p>\n",
       "<p><a href=\"http://www.pycone.com/\">了解更多</a></p>\n",
       "</div>\n",
       "<footer class=\"footer\">\n",
       "<div class=\"container\">\n",
       "<p class=\"text-muted\">Pycone (c) 2017</p>\n",
       "</div>\n",
       "</footer>\n",
       "<!-- IE10 viewport hack for Surface/desktop Windows 8 bug -->\n",
       "<script src=\"http://getbootstrap.com/assets/js/ie10-viewport-bug-workaround.js\"></script>\n",
       "</body>\n",
       "</html>"
      ]
     },
     "execution_count": 5,
     "metadata": {},
     "output_type": "execute_result"
    }
   ],
   "source": [
    "url = \"https://jwlin.github.io/py-scraping-analysis-book/ch1/connect.html\"  # 設定網頁網址，此為測試網頁\n",
    "headers = {\n",
    "    \"User-Agent\": \"Mozilla/5.0 (Windows NT 10.0; Win64; x64) AppleWebKit/537.36 (KHTML, like Gecko) Chrome/91.0.4472.124 Safari/537.36\"\n",
    "}\n",
    "resp = requests.get(url, headers)  # 模擬 get 請求\n",
    "print(resp.status_code)\n",
    "soup = BeautifulSoup(resp.text, \"html.parser\")  # 將網頁格式檔放入 bs4 樹\n",
    "soup # 印出 dom 文件樹"
   ]
  },
  {
   "cell_type": "markdown",
   "metadata": {},
   "source": [
    "### Practice 1\n",
    "\n",
    "用 requests 抓網頁 (ptt stock 版)，並印出 DOM 文件樹，不要有 header，印出 response code，並判斷是否連線成功。連線成功才印出 DOM 文件樹，否則則印出 \"連線失敗\"。"
   ]
  },
  {
   "cell_type": "code",
   "execution_count": 6,
   "metadata": {},
   "outputs": [
    {
     "name": "stdout",
     "output_type": "stream",
     "text": [
      "Status code: 200\n",
      "Connection successful\n",
      "<!DOCTYPE html>\n",
      "\n",
      "<html>\n",
      "<head>\n",
      "<meta charset=\"utf-8\"/>\n",
      "<meta content=\"width=device-width, initial-scale=1\" name=\"viewport\"/>\n",
      "<title>看板 Stock 文章列表 - 批踢踢實業坊</title>\n",
      "<link href=\"//images.ptt.cc/bbs/v2.27/bbs-common.css\" rel=\"stylesheet\" type=\"text/css\"/>\n",
      "<link href=\"//images.ptt.cc/bbs/v2.27/bbs-base.css\" media=\"screen\" rel=\"stylesheet\" type=\"text/css\"/>\n",
      "<link href=\"//images.ptt.cc/bbs/v2.27/bbs-custom.css\" rel=\"stylesheet\" type=\"text/css\"/>\n",
      "<link href=\"//images.ptt.cc/bbs/v2.27/pushstream.css\" media=\"screen\" rel=\"stylesheet\" type=\"text/css\"/>\n",
      "<link href=\"//images.ptt.cc/bbs/v2.27/bbs-print.css\" media=\"print\" rel=\"stylesheet\" type=\"text/css\"/>\n",
      "</head>\n",
      "<body>\n",
      "<div id=\"topbar-container\">\n",
      "<div class=\"bbs-content\" id=\"topbar\">\n",
      "<a href=\"/bbs/\" id=\"logo\">批踢踢實業坊</a>\n",
      "<span>›</span>\n",
      "<a class=\"board\" href=\"/bbs/Stock/index.html\"><span class=\"board-label\">看板 </span>Stock</a>\n",
      "<a class=\"right small\" href=\"/about.html\">關於我們</a>\n",
      "<a class=\"right small\" href=\"/contact.html\">聯絡資訊</a>\n",
      "</div>\n",
      "</div>\n",
      "<div id=\"main-container\">\n",
      "<div id=\"action-bar-container\">\n",
      "<div class=\"action-bar\">\n",
      "<div class=\"btn-group btn-group-dir\">\n",
      "<a class=\"btn selected\" href=\"/bbs/Stock/index.html\">看板</a>\n",
      "<a class=\"btn\" href=\"/man/Stock/index.html\">精華區</a>\n",
      "</div>\n",
      "<div class=\"btn-group btn-group-paging\">\n",
      "<a class=\"btn wide\" href=\"/bbs/Stock/index1.html\">最舊</a>\n",
      "<a class=\"btn wide\" href=\"/bbs/Stock/index8497.html\">‹ 上頁</a>\n",
      "<a class=\"btn wide disabled\">下頁 ›</a>\n",
      "<a class=\"btn wide\" href=\"/bbs/Stock/index.html\">最新</a>\n",
      "</div>\n",
      "</div>\n",
      "</div>\n",
      "<div class=\"r-list-container action-bar-margin bbs-screen\">\n",
      "<div class=\"search-bar\">\n",
      "<form action=\"search\" id=\"search-bar\" type=\"get\">\n",
      "<input class=\"query\" name=\"q\" placeholder=\"搜尋文章⋯\" type=\"text\" value=\"\"/>\n",
      "</form>\n",
      "</div>\n",
      "<div class=\"r-ent\">\n",
      "<div class=\"nrec\"><span class=\"hl f2\">8</span></div>\n",
      "<div class=\"title\">\n",
      "<a href=\"/bbs/Stock/M.1742778699.A.271.html\">[情報] 華爾街大摩計畫裁員2000人以控制成本</a>\n",
      "</div>\n",
      "<div class=\"meta\">\n",
      "<div class=\"author\">gothmog</div>\n",
      "<div class=\"article-menu\">\n",
      "<div class=\"trigger\">⋯</div>\n",
      "<div class=\"dropdown\">\n",
      "<div class=\"item\"><a href=\"/bbs/Stock/search?q=thread%3A%5B%E6%83%85%E5%A0%B1%5D+%E8%8F%AF%E7%88%BE%E8%A1%97%E5%A4%A7%E6%91%A9%E8%A8%88%E7%95%AB%E8%A3%81%E5%93%A12000%E4%BA%BA%E4%BB%A5%E6%8E%A7%E5%88%B6%E6%88%90%E6%9C%AC\">搜尋同標題文章</a></div>\n",
      "<div class=\"item\"><a href=\"/bbs/Stock/search?q=author%3Agothmog\">搜尋看板內 gothmog 的文章</a></div>\n",
      "</div>\n",
      "</div>\n",
      "<div class=\"date\"> 3/24</div>\n",
      "<div class=\"mark\"></div>\n",
      "</div>\n",
      "</div>\n",
      "<div class=\"r-ent\">\n",
      "<div class=\"nrec\"></div>\n",
      "<div class=\"title\">\n",
      "<a href=\"/bbs/Stock/M.1742780152.A.90E.html\">Re: [新聞] 馬斯克:特斯拉人形機器人Optimus今年試</a>\n",
      "</div>\n",
      "<div class=\"meta\">\n",
      "<div class=\"author\">weegee</div>\n",
      "<div class=\"article-menu\">\n",
      "<div class=\"trigger\">⋯</div>\n",
      "<div class=\"dropdown\">\n",
      "<div class=\"item\"><a href=\"/bbs/Stock/search?q=thread%3A%5B%E6%96%B0%E8%81%9E%5D+%E9%A6%AC%E6%96%AF%E5%85%8B%3A%E7%89%B9%E6%96%AF%E6%8B%89%E4%BA%BA%E5%BD%A2%E6%A9%9F%E5%99%A8%E4%BA%BAOptimus%E4%BB%8A%E5%B9%B4%E8%A9%A6\">搜尋同標題文章</a></div>\n",
      "<div class=\"item\"><a href=\"/bbs/Stock/search?q=author%3Aweegee\">搜尋看板內 weegee 的文章</a></div>\n",
      "</div>\n",
      "</div>\n",
      "<div class=\"date\"> 3/24</div>\n",
      "<div class=\"mark\"></div>\n",
      "</div>\n",
      "</div>\n",
      "<div class=\"r-ent\">\n",
      "<div class=\"nrec\"><span class=\"hl f2\">5</span></div>\n",
      "<div class=\"title\">\n",
      "<a href=\"/bbs/Stock/M.1742780739.A.396.html\">[新聞] 移民金卡計畫成功？ 美商務部長喜揭「買</a>\n",
      "</div>\n",
      "<div class=\"meta\">\n",
      "<div class=\"author\">jeff0025</div>\n",
      "<div class=\"article-menu\">\n",
      "<div class=\"trigger\">⋯</div>\n",
      "<div class=\"dropdown\">\n",
      "<div class=\"item\"><a href=\"/bbs/Stock/search?q=thread%3A%5B%E6%96%B0%E8%81%9E%5D+%E7%A7%BB%E6%B0%91%E9%87%91%E5%8D%A1%E8%A8%88%E7%95%AB%E6%88%90%E5%8A%9F%EF%BC%9F+%E7%BE%8E%E5%95%86%E5%8B%99%E9%83%A8%E9%95%B7%E5%96%9C%E6%8F%AD%E3%80%8C%E8%B2%B7\">搜尋同標題文章</a></div>\n",
      "<div class=\"item\"><a href=\"/bbs/Stock/search?q=author%3Ajeff0025\">搜尋看板內 jeff0025 的文章</a></div>\n",
      "</div>\n",
      "</div>\n",
      "<div class=\"date\"> 3/24</div>\n",
      "<div class=\"mark\"></div>\n",
      "</div>\n",
      "</div>\n",
      "<div class=\"r-list-sep\"></div>\n",
      "<div class=\"r-ent\">\n",
      "<div class=\"nrec\"></div>\n",
      "<div class=\"title\">\n",
      "<a href=\"/bbs/Stock/M.1719872231.A.9BA.html\">[公告] 股票板板規 v4.7 (2024/10/06 修正)</a>\n",
      "</div>\n",
      "<div class=\"meta\">\n",
      "<div class=\"author\">rayccccc</div>\n",
      "<div class=\"article-menu\">\n",
      "<div class=\"trigger\">⋯</div>\n",
      "<div class=\"dropdown\">\n",
      "<div class=\"item\"><a href=\"/bbs/Stock/search?q=thread%3A%5B%E5%85%AC%E5%91%8A%5D+%E8%82%A1%E7%A5%A8%E6%9D%BF%E6%9D%BF%E8%A6%8F+v4.7+%282024%2F10%2F06+%E4%BF%AE%E6%AD%A3%29\">搜尋同標題文章</a></div>\n",
      "<div class=\"item\"><a href=\"/bbs/Stock/search?q=author%3Arayccccc\">搜尋看板內 rayccccc 的文章</a></div>\n",
      "</div>\n",
      "</div>\n",
      "<div class=\"date\"> 7/02</div>\n",
      "<div class=\"mark\">!</div>\n",
      "</div>\n",
      "</div>\n",
      "<div class=\"r-ent\">\n",
      "<div class=\"nrec\"><span class=\"hl f1\">爆</span></div>\n",
      "<div class=\"title\">\n",
      "<a href=\"/bbs/Stock/M.1730738309.A.238.html\">Fw: [公告] 請留意新註冊帳號使用信件詐騙</a>\n",
      "</div>\n",
      "<div class=\"meta\">\n",
      "<div class=\"author\">rayccccc</div>\n",
      "<div class=\"article-menu\">\n",
      "<div class=\"trigger\">⋯</div>\n",
      "<div class=\"dropdown\">\n",
      "<div class=\"item\"><a href=\"/bbs/Stock/search?q=thread%3A%5B%E5%85%AC%E5%91%8A%5D+%E8%AB%8B%E7%95%99%E6%84%8F%E6%96%B0%E8%A8%BB%E5%86%8A%E5%B8%B3%E8%99%9F%E4%BD%BF%E7%94%A8%E4%BF%A1%E4%BB%B6%E8%A9%90%E9%A8%99\">搜尋同標題文章</a></div>\n",
      "<div class=\"item\"><a href=\"/bbs/Stock/search?q=author%3Arayccccc\">搜尋看板內 rayccccc 的文章</a></div>\n",
      "</div>\n",
      "</div>\n",
      "<div class=\"date\">11/05</div>\n",
      "<div class=\"mark\">!</div>\n",
      "</div>\n",
      "</div>\n",
      "<div class=\"r-ent\">\n",
      "<div class=\"nrec\"><span class=\"hl f2\">9</span></div>\n",
      "<div class=\"title\">\n",
      "<a href=\"/bbs/Stock/M.1739730011.A.267.html\">[公告] 4-6-1的初犯罰則在三個月內將加重至30天</a>\n",
      "</div>\n",
      "<div class=\"meta\">\n",
      "<div class=\"author\">Paul1021</div>\n",
      "<div class=\"article-menu\">\n",
      "<div class=\"trigger\">⋯</div>\n",
      "<div class=\"dropdown\">\n",
      "<div class=\"item\"><a href=\"/bbs/Stock/search?q=thread%3A%5B%E5%85%AC%E5%91%8A%5D+4-6-1%E7%9A%84%E5%88%9D%E7%8A%AF%E7%BD%B0%E5%89%87%E5%9C%A8%E4%B8%89%E5%80%8B%E6%9C%88%E5%85%A7%E5%B0%87%E5%8A%A0%E9%87%8D%E8%87%B330%E5%A4%A9\">搜尋同標題文章</a></div>\n",
      "<div class=\"item\"><a href=\"/bbs/Stock/search?q=author%3APaul1021\">搜尋看板內 Paul1021 的文章</a></div>\n",
      "</div>\n",
      "</div>\n",
      "<div class=\"date\"> 2/17</div>\n",
      "<div class=\"mark\">!</div>\n",
      "</div>\n",
      "</div>\n",
      "<div class=\"r-ent\">\n",
      "<div class=\"nrec\"><span class=\"hl f1\">爆</span></div>\n",
      "<div class=\"title\">\n",
      "<a href=\"/bbs/Stock/M.1742776202.A.3CC.html\">[閒聊] 2025/03/24 盤中閒聊</a>\n",
      "</div>\n",
      "<div class=\"meta\">\n",
      "<div class=\"author\">laptic</div>\n",
      "<div class=\"article-menu\">\n",
      "<div class=\"trigger\">⋯</div>\n",
      "<div class=\"dropdown\">\n",
      "<div class=\"item\"><a href=\"/bbs/Stock/search?q=thread%3A%5B%E9%96%92%E8%81%8A%5D+2025%2F03%2F24+%E7%9B%A4%E4%B8%AD%E9%96%92%E8%81%8A\">搜尋同標題文章</a></div>\n",
      "<div class=\"item\"><a href=\"/bbs/Stock/search?q=author%3Alaptic\">搜尋看板內 laptic 的文章</a></div>\n",
      "</div>\n",
      "</div>\n",
      "<div class=\"date\"> 3/24</div>\n",
      "<div class=\"mark\"></div>\n",
      "</div>\n",
      "</div>\n",
      "</div>\n",
      "</div>\n",
      "<script async=\"\" src=\"https://www.googletagmanager.com/gtag/js?id=G-DZ6Y3BY9GW\"></script>\n",
      "<script>\n",
      "      window.dataLayer = window.dataLayer || [];\n",
      "      function gtag(){dataLayer.push(arguments);}\n",
      "      gtag('js', new Date());\n",
      "\n",
      "      gtag('config', 'G-DZ6Y3BY9GW');\n",
      "</script>\n",
      "<script>\n",
      "  (function(i,s,o,g,r,a,m){i['GoogleAnalyticsObject']=r;i[r]=i[r]||function(){\n",
      "  (i[r].q=i[r].q||[]).push(arguments)},i[r].l=1*new Date();a=s.createElement(o),\n",
      "  m=s.getElementsByTagName(o)[0];a.async=1;a.src=g;m.parentNode.insertBefore(a,m)\n",
      "  })(window,document,'script','https://www.google-analytics.com/analytics.js','ga');\n",
      "\n",
      "  ga('create', 'UA-32365737-1', {\n",
      "    cookieDomain: 'ptt.cc',\n",
      "    legacyCookieDomain: 'ptt.cc'\n",
      "  });\n",
      "  ga('send', 'pageview');\n",
      "</script>\n",
      "<script src=\"//ajax.googleapis.com/ajax/libs/jquery/2.1.1/jquery.min.js\"></script>\n",
      "<script src=\"//images.ptt.cc/bbs/v2.27/bbs.js\"></script>\n",
      "<script>(function(){function c(){var b=a.contentDocument||a.contentWindow.document;if(b){var d=b.createElement('script');d.innerHTML=\"window.__CF$cv$params={r:'9252892d5f0b293a',t:'MTc0Mjc4MTIxNy4wMDAwMDA='};var a=document.createElement('script');a.nonce='';a.src='/cdn-cgi/challenge-platform/scripts/jsd/main.js';document.getElementsByTagName('head')[0].appendChild(a);\";b.getElementsByTagName('head')[0].appendChild(d)}}if(document.body){var a=document.createElement('iframe');a.height=1;a.width=1;a.style.position='absolute';a.style.top=0;a.style.left=0;a.style.border='none';a.style.visibility='hidden';document.body.appendChild(a);if('loading'!==document.readyState)c();else if(window.addEventListener)document.addEventListener('DOMContentLoaded',c);else{var e=document.onreadystatechange||function(){};document.onreadystatechange=function(b){e(b);'loading'!==document.readyState&&(document.onreadystatechange=e,c())}}}})();</script></body>\n",
      "</html>\n",
      "\n"
     ]
    }
   ],
   "source": [
    "url = \"https://www.ptt.cc/bbs/stock/index.html\"\n",
    "\n",
    "resp = requests.get(url)\n",
    "print(\"Status code:\", resp.status_code)\n",
    "\n",
    "if resp.status_code == 200:\n",
    "    print(\"Connection successful\")\n",
    "    soup = BeautifulSoup(resp.text, \"html.parser\")\n",
    "    print(soup)\n",
    "else:\n",
    "    print(\"連線失敗\")\n"
   ]
  },
  {
   "cell_type": "markdown",
   "metadata": {},
   "source": [
    "### Practice 2\n",
    "\n",
    "問題：用 requests 抓網頁 (dcard 版) 並印出 DOM 文件樹，要 header: User-Agent，印出 response code，並判斷是否連線成功。連線成功才印出 DOM 文件樹，否則則印出 \"連線失敗\"。"
   ]
  },
  {
   "cell_type": "code",
   "execution_count": 7,
   "metadata": {},
   "outputs": [
    {
     "name": "stdout",
     "output_type": "stream",
     "text": [
      "Status code: 403\n",
      "連線失敗\n"
     ]
    }
   ],
   "source": [
    "url = \"https://www.dcard.tw/f/relationship\" # Dcard 感情版網址\n",
    "ua = \"Mozilla/5.0 (Macintosh; Intel Mac OS X 10_15_7) AppleWebKit/537.36 (KHTML, like Gecko) Chrome/134.0.0.0 Safari/537.36\"\n",
    "\n",
    "resp = requests.get(url, headers={\n",
    "    \"User-Agent\": ua\n",
    "})\n",
    "print(\"Status code:\", resp.status_code)\n",
    "\n",
    "if resp.status_code == 200:\n",
    "    print(\"Connection successful\")\n",
    "    soup = BeautifulSoup(resp.text, \"html.parser\")\n",
    "    print(soup)\n",
    "else:\n",
    "    print(\"連線失敗\")\n"
   ]
  },
  {
   "cell_type": "markdown",
   "metadata": {},
   "source": [
    "## BeautifulSoup - 使用"
   ]
  },
  {
   "cell_type": "code",
   "execution_count": 8,
   "metadata": {},
   "outputs": [],
   "source": [
    "from bs4 import Tag"
   ]
  },
  {
   "cell_type": "code",
   "execution_count": 9,
   "metadata": {},
   "outputs": [],
   "source": [
    "url = \"http://jwlin.github.io/py-scraping-analysis-book/ch2/blog/blog.html\"  # 設定網頁網址\n",
    "resp = requests.get(url)  # 模擬get請求\n",
    "soup = BeautifulSoup(resp.text, \"html.parser\")"
   ]
  },
  {
   "cell_type": "markdown",
   "metadata": {},
   "source": [
    "### 取得第一篇 blog 主標題HTML結構 (h4)"
   ]
  },
  {
   "cell_type": "code",
   "execution_count": 10,
   "metadata": {},
   "outputs": [
    {
     "data": {
      "text/plain": [
       "<h4 class=\"card-title\">\n",
       "<a href=\"http://www.pycone.com/blogs#pablo\">Mac使用者</a>\n",
       "</h4>"
      ]
     },
     "execution_count": 10,
     "metadata": {},
     "output_type": "execute_result"
    }
   ],
   "source": [
    "soup.find('h4')"
   ]
  },
  {
   "cell_type": "code",
   "execution_count": 11,
   "metadata": {},
   "outputs": [
    {
     "data": {
      "text/plain": [
       "<h4 class=\"card-title\">\n",
       "<a href=\"http://www.pycone.com/blogs#pablo\">Mac使用者</a>\n",
       "</h4>"
      ]
     },
     "execution_count": 11,
     "metadata": {},
     "output_type": "execute_result"
    }
   ],
   "source": [
    "soup.h4"
   ]
  },
  {
   "cell_type": "markdown",
   "metadata": {},
   "source": [
    "### 取得第一篇 blog 主標題"
   ]
  },
  {
   "cell_type": "code",
   "execution_count": 12,
   "metadata": {},
   "outputs": [
    {
     "data": {
      "text/plain": [
       "'Mac使用者'"
      ]
     },
     "execution_count": 12,
     "metadata": {},
     "output_type": "execute_result"
    }
   ],
   "source": [
    "def get_first_blog_title(soup: BeautifulSoup) -> str:\n",
    "    h4 = soup.find('h4')\n",
    "    assert h4 is not None\n",
    "    a = h4.find('a')\n",
    "    assert isinstance(a, Tag)\n",
    "    return a.text\n",
    "\n",
    "get_first_blog_title(soup)"
   ]
  },
  {
   "cell_type": "code",
   "execution_count": 13,
   "metadata": {},
   "outputs": [
    {
     "data": {
      "text/plain": [
       "'Mac使用者'"
      ]
     },
     "execution_count": 13,
     "metadata": {},
     "output_type": "execute_result"
    }
   ],
   "source": [
    "def get_first_blog_title_method_2(soup: BeautifulSoup) -> str:\n",
    "    h4 = soup.h4\n",
    "    assert h4 is not None\n",
    "    a = h4.a\n",
    "    assert isinstance(a, Tag)\n",
    "    return a.text\n",
    "\n",
    "get_first_blog_title(soup)"
   ]
  },
  {
   "cell_type": "markdown",
   "metadata": {},
   "source": [
    "### 取得所有 blog 主標題, 使用 tag"
   ]
  },
  {
   "cell_type": "code",
   "execution_count": 14,
   "metadata": {},
   "outputs": [
    {
     "data": {
      "text/plain": [
       "['Mac使用者',\n",
       " '給初學者的 Python 網頁爬蟲與資料分析',\n",
       " '給初學者的 Python 網頁爬蟲與資料分析',\n",
       " '給初學者的 Python 網頁爬蟲與資料分析',\n",
       " '給初學者的 Python 網頁爬蟲與資料分析',\n",
       " '給初學者的 Python 網頁爬蟲與資料分析']"
      ]
     },
     "execution_count": 14,
     "metadata": {},
     "output_type": "execute_result"
    }
   ],
   "source": [
    "def get_all_blog_titles(soup: BeautifulSoup) -> list[str]:\n",
    "    titles = soup.find_all('h4')\n",
    "    return [title.find('a').text for title in titles]\n",
    "\n",
    "get_all_blog_titles(soup)"
   ]
  },
  {
   "cell_type": "code",
   "execution_count": 15,
   "metadata": {},
   "outputs": [
    {
     "data": {
      "text/plain": [
       "['Mac使用者',\n",
       " '給初學者的 Python 網頁爬蟲與資料分析',\n",
       " '給初學者的 Python 網頁爬蟲與資料分析',\n",
       " '給初學者的 Python 網頁爬蟲與資料分析',\n",
       " '給初學者的 Python 網頁爬蟲與資料分析',\n",
       " '給初學者的 Python 網頁爬蟲與資料分析']"
      ]
     },
     "execution_count": 15,
     "metadata": {},
     "output_type": "execute_result"
    }
   ],
   "source": [
    "def get_all_blog_titles_method_2(soup: BeautifulSoup) -> list[str]:\n",
    "    titles = soup.find_all('h4')\n",
    "    return [title.a.text for title in titles]\n",
    "\n",
    "get_all_blog_titles(soup)"
   ]
  },
  {
   "cell_type": "markdown",
   "metadata": {},
   "source": [
    "### 取得各篇 blog 的所有文字"
   ]
  },
  {
   "cell_type": "code",
   "execution_count": 16,
   "metadata": {},
   "outputs": [
    {
     "data": {
      "text/plain": [
       "<div class=\"content\">\n",
       "<h6 class=\"category text-muted\">開發環境設定</h6>\n",
       "<h4 class=\"card-title\">\n",
       "<a href=\"http://www.pycone.com/blogs#pablo\">Mac使用者</a>\n",
       "</h4>\n",
       "<p class=\"card-description\" id=\"mac-p\">\n",
       "                                    在Mac環境下安裝Python與Sublime Text3<a data-foo=\"mac-foo\" href=\"http://www.pycone.com/blogs/mac-python-environment\"> <br/>Read More </a>\n",
       "</p>\n",
       "</div>"
      ]
     },
     "execution_count": 16,
     "metadata": {},
     "output_type": "execute_result"
    }
   ],
   "source": [
    "divs = soup.find_all(\"div\", class_=\"content\")\n",
    "divs[0]"
   ]
  },
  {
   "cell_type": "code",
   "execution_count": 17,
   "metadata": {},
   "outputs": [
    {
     "name": "stdout",
     "output_type": "stream",
     "text": [
      "開發環境設定 Mac使用者 在Mac環境下安裝Python與Sublime Text3 Read More\n",
      "資料科學 給初學者的 Python 網頁爬蟲與資料分析 (1) 前言 Read More\n",
      "資料科學 給初學者的 Python 網頁爬蟲與資料分析 (2) 套件安裝與啟動網頁爬蟲 Read More\n",
      "資料科學 給初學者的 Python 網頁爬蟲與資料分析 (3) 解構並擷取網頁資料 Read More\n",
      "資料科學 給初學者的 Python 網頁爬蟲與資料分析 (4) 擷取資料及下載圖片 Read More\n",
      "資料科學 給初學者的 Python 網頁爬蟲與資料分析 (5) 資料分析及展示 Read More\n"
     ]
    }
   ],
   "source": [
    "for div in divs:\n",
    "    print(div.h6.text.strip(), div.h4.a.text.strip(), div.p.text.strip())"
   ]
  },
  {
   "cell_type": "markdown",
   "metadata": {},
   "source": [
    "### 讀取以下網址，逐行輸出書名"
   ]
  },
  {
   "cell_type": "code",
   "execution_count": 18,
   "metadata": {},
   "outputs": [],
   "source": [
    "resp = requests.get(\n",
    "    \"http://jwlin.github.io/py-scraping-analysis-book/ch2/table/table.html\"\n",
    ")\n",
    "soup = BeautifulSoup(resp.text, \"html.parser\")"
   ]
  },
  {
   "cell_type": "code",
   "execution_count": 19,
   "metadata": {},
   "outputs": [
    {
     "data": {
      "text/plain": [
       "<tbody>\n",
       "<tr><td>初心者 - Python入門</td><td>初學者</td><td>1490</td><td><a href=\"http://www.pycone.com\"><img alt=\"python™\" class=\"python-logo\" src=\"img/python-logo.png\"/></a></td></tr>\n",
       "<tr><td>Python 網頁爬蟲入門實戰</td><td>有程式基礎的初學者</td><td>1890</td><td><a href=\"http://www.pycone.com\"><img alt=\"python™\" class=\"python-logo\" src=\"img/python-logo.png\"/></a></td></tr>\n",
       "<tr><td>Python 機器學習入門實戰 (預計)</td><td>有程式基礎的初學者</td><td>1890</td><td><a href=\"http://www.pycone.com\"><img alt=\"python™\" class=\"python-logo\" src=\"img/python-logo.png\"/></a></td></tr>\n",
       "<tr><td>Python 資料科學入門實戰 (預計)</td><td>有程式基礎的初學者</td><td>1890</td><td><a href=\"http://www.pycone.com\"><img alt=\"python™\" class=\"python-logo\" src=\"img/python-logo.png\"/></a></td></tr>\n",
       "<tr><td>Python 資料視覺化入門實戰 (預計)</td><td>有程式基礎的初學者</td><td>1890</td><td><a href=\"http://www.pycone.com\"><img alt=\"python™\" class=\"python-logo\" src=\"img/python-logo.png\"/></a></td></tr>\n",
       "<tr><td>Python 網站架設入門實戰 (預計)</td><td>有程式基礎的初學者</td><td>1890</td><td><a><img alt=\"python™\" class=\"python-logo\" src=\"img/python-logo.png\"/></a></td></tr>\n",
       "</tbody>"
      ]
     },
     "execution_count": 19,
     "metadata": {},
     "output_type": "execute_result"
    }
   ],
   "source": [
    "table_body = soup.tbody\n",
    "\n",
    "table_body"
   ]
  },
  {
   "cell_type": "code",
   "execution_count": 20,
   "metadata": {},
   "outputs": [
    {
     "data": {
      "text/plain": [
       "[<tr><td>初心者 - Python入門</td><td>初學者</td><td>1490</td><td><a href=\"http://www.pycone.com\"><img alt=\"python™\" class=\"python-logo\" src=\"img/python-logo.png\"/></a></td></tr>,\n",
       " <tr><td>Python 網頁爬蟲入門實戰</td><td>有程式基礎的初學者</td><td>1890</td><td><a href=\"http://www.pycone.com\"><img alt=\"python™\" class=\"python-logo\" src=\"img/python-logo.png\"/></a></td></tr>]"
      ]
     },
     "execution_count": 20,
     "metadata": {},
     "output_type": "execute_result"
    }
   ],
   "source": [
    "assert table_body is not None\n",
    "\n",
    "rows = table_body.find_all(\"tr\")\n",
    "rows[0:2]"
   ]
  },
  {
   "cell_type": "code",
   "execution_count": 21,
   "metadata": {},
   "outputs": [
    {
     "name": "stdout",
     "output_type": "stream",
     "text": [
      "初心者 - Python入門\n",
      "Python 網頁爬蟲入門實戰\n",
      "Python 機器學習入門實戰 (預計)\n",
      "Python 資料科學入門實戰 (預計)\n",
      "Python 資料視覺化入門實戰 (預計)\n",
      "Python 網站架設入門實戰 (預計)\n"
     ]
    }
   ],
   "source": [
    "# 第一種呈現書名的方法\n",
    "for row in rows:\n",
    "    td = row.find(\"td\").text\n",
    "    print(td)"
   ]
  },
  {
   "cell_type": "code",
   "execution_count": 22,
   "metadata": {},
   "outputs": [
    {
     "name": "stdout",
     "output_type": "stream",
     "text": [
      "初心者 - Python入門\n",
      "Python 網頁爬蟲入門實戰\n",
      "Python 機器學習入門實戰 (預計)\n",
      "Python 資料科學入門實戰 (預計)\n",
      "Python 資料視覺化入門實戰 (預計)\n",
      "Python 網站架設入門實戰 (預計)\n"
     ]
    }
   ],
   "source": [
    "# 第二種呈現書名的方法\n",
    "for row in rows:\n",
    "    tds = row.find_all(\"td\")[0].text\n",
    "    print(tds)"
   ]
  },
  {
   "cell_type": "markdown",
   "metadata": {},
   "source": [
    "### Question: 讀取以下網址，逐行輸出書名、售價，以及最後一行印出平均價格"
   ]
  },
  {
   "cell_type": "code",
   "execution_count": 23,
   "metadata": {},
   "outputs": [],
   "source": [
    "import pandas as pd"
   ]
  },
  {
   "cell_type": "code",
   "execution_count": 24,
   "metadata": {},
   "outputs": [],
   "source": [
    "resp = requests.get('http://jwlin.github.io/py-scraping-analysis-book/ch2/table/table.html')\n",
    "soup = BeautifulSoup(resp.text, 'html.parser')"
   ]
  },
  {
   "cell_type": "code",
   "execution_count": 25,
   "metadata": {},
   "outputs": [
    {
     "data": {
      "text/html": [
       "<div>\n",
       "<style scoped>\n",
       "    .dataframe tbody tr th:only-of-type {\n",
       "        vertical-align: middle;\n",
       "    }\n",
       "\n",
       "    .dataframe tbody tr th {\n",
       "        vertical-align: top;\n",
       "    }\n",
       "\n",
       "    .dataframe thead th {\n",
       "        text-align: right;\n",
       "    }\n",
       "</style>\n",
       "<table border=\"1\" class=\"dataframe\">\n",
       "  <thead>\n",
       "    <tr style=\"text-align: right;\">\n",
       "      <th></th>\n",
       "      <th>課程名稱</th>\n",
       "      <th>售價</th>\n",
       "    </tr>\n",
       "  </thead>\n",
       "  <tbody>\n",
       "    <tr>\n",
       "      <th>0</th>\n",
       "      <td>初心者 - Python入門</td>\n",
       "      <td>1490</td>\n",
       "    </tr>\n",
       "    <tr>\n",
       "      <th>1</th>\n",
       "      <td>Python 網頁爬蟲入門實戰</td>\n",
       "      <td>1890</td>\n",
       "    </tr>\n",
       "    <tr>\n",
       "      <th>2</th>\n",
       "      <td>Python 機器學習入門實戰 (預計)</td>\n",
       "      <td>1890</td>\n",
       "    </tr>\n",
       "    <tr>\n",
       "      <th>3</th>\n",
       "      <td>Python 資料科學入門實戰 (預計)</td>\n",
       "      <td>1890</td>\n",
       "    </tr>\n",
       "    <tr>\n",
       "      <th>4</th>\n",
       "      <td>Python 資料視覺化入門實戰 (預計)</td>\n",
       "      <td>1890</td>\n",
       "    </tr>\n",
       "    <tr>\n",
       "      <th>5</th>\n",
       "      <td>Python 網站架設入門實戰 (預計)</td>\n",
       "      <td>1890</td>\n",
       "    </tr>\n",
       "  </tbody>\n",
       "</table>\n",
       "</div>"
      ],
      "text/plain": [
       "                    課程名稱    售價\n",
       "0         初心者 - Python入門  1490\n",
       "1        Python 網頁爬蟲入門實戰  1890\n",
       "2   Python 機器學習入門實戰 (預計)  1890\n",
       "3   Python 資料科學入門實戰 (預計)  1890\n",
       "4  Python 資料視覺化入門實戰 (預計)  1890\n",
       "5   Python 網站架設入門實戰 (預計)  1890"
      ]
     },
     "execution_count": 25,
     "metadata": {},
     "output_type": "execute_result"
    }
   ],
   "source": [
    "# get table\n",
    "table = soup.table\n",
    "assert table is not None\n",
    "\n",
    "# get table body\n",
    "table_body = table.tbody\n",
    "assert table_body is not None\n",
    "\n",
    "result: dict[str, list[str]] = {\n",
    "    \"課程名稱\": [],\n",
    "    \"售價\": [],\n",
    "}\n",
    "\n",
    "# get rows\n",
    "rows = table_body.find_all('tr')\n",
    "for row in rows:\n",
    "    assert isinstance(row, Tag)\n",
    "\n",
    "    tds = row.find_all('td')\n",
    "    result[\"課程名稱\"].append(tds[0].text)\n",
    "    result[\"售價\"].append(tds[2].text)\n",
    "\n",
    "result_df = pd.DataFrame(result)\n",
    "result_df\n"
   ]
  },
  {
   "cell_type": "code",
   "execution_count": 26,
   "metadata": {},
   "outputs": [
    {
     "data": {
      "text/plain": [
       "np.float64(1823.3333333333333)"
      ]
     },
     "execution_count": 26,
     "metadata": {},
     "output_type": "execute_result"
    }
   ],
   "source": [
    "result_df[\"售價\"].astype(float).mean()"
   ]
  },
  {
   "cell_type": "markdown",
   "metadata": {},
   "source": [
    "## BeautifulSoup - PTT"
   ]
  },
  {
   "cell_type": "markdown",
   "metadata": {},
   "source": [
    "### 抓取 PTT 以下網址的標題"
   ]
  },
  {
   "cell_type": "code",
   "execution_count": 27,
   "metadata": {},
   "outputs": [
    {
     "data": {
      "text/plain": [
       "[<div class=\"title\">\n",
       " <a href=\"/bbs/Stock/M.1742778699.A.271.html\">[情報] 華爾街大摩計畫裁員2000人以控制成本</a>\n",
       " </div>,\n",
       " <div class=\"title\">\n",
       " <a href=\"/bbs/Stock/M.1742780152.A.90E.html\">Re: [新聞] 馬斯克:特斯拉人形機器人Optimus今年試</a>\n",
       " </div>,\n",
       " <div class=\"title\">\n",
       " <a href=\"/bbs/Stock/M.1742780739.A.396.html\">[新聞] 移民金卡計畫成功？ 美商務部長喜揭「買</a>\n",
       " </div>,\n",
       " <div class=\"title\">\n",
       " <a href=\"/bbs/Stock/M.1719872231.A.9BA.html\">[公告] 股票板板規 v4.7 (2024/10/06 修正)</a>\n",
       " </div>,\n",
       " <div class=\"title\">\n",
       " <a href=\"/bbs/Stock/M.1730738309.A.238.html\">Fw: [公告] 請留意新註冊帳號使用信件詐騙</a>\n",
       " </div>,\n",
       " <div class=\"title\">\n",
       " <a href=\"/bbs/Stock/M.1739730011.A.267.html\">[公告] 4-6-1的初犯罰則在三個月內將加重至30天</a>\n",
       " </div>,\n",
       " <div class=\"title\">\n",
       " <a href=\"/bbs/Stock/M.1742776202.A.3CC.html\">[閒聊] 2025/03/24 盤中閒聊</a>\n",
       " </div>]"
      ]
     },
     "execution_count": 27,
     "metadata": {},
     "output_type": "execute_result"
    }
   ],
   "source": [
    "url = \"https://www.ptt.cc/bbs/stock/index.html\"\n",
    "response = requests.get(url)  # 模擬get請求\n",
    "soup = BeautifulSoup(response.text, \"html.parser\")\n",
    "\n",
    "# 取得文章標題\n",
    "tags = soup.find_all(\"div\", class_=\"title\")  # 搜尋class屬性是title的所有標籤\n",
    "tags"
   ]
  },
  {
   "cell_type": "code",
   "execution_count": 28,
   "metadata": {},
   "outputs": [
    {
     "name": "stdout",
     "output_type": "stream",
     "text": [
      "[情報] 華爾街大摩計畫裁員2000人以控制成本\n",
      "Re: [新聞] 馬斯克:特斯拉人形機器人Optimus今年試\n",
      "[新聞] 移民金卡計畫成功？ 美商務部長喜揭「買\n",
      "[公告] 股票板板規 v4.7 (2024/10/06 修正)\n",
      "Fw: [公告] 請留意新註冊帳號使用信件詐騙\n",
      "[公告] 4-6-1的初犯罰則在三個月內將加重至30天\n",
      "[閒聊] 2025/03/24 盤中閒聊\n"
     ]
    }
   ],
   "source": [
    "for tag in tags:\n",
    "    print(tag.text.strip())  # 取得標籤文字"
   ]
  },
  {
   "cell_type": "markdown",
   "metadata": {},
   "source": [
    "### 問題：續上題， 抓取上題\"上一頁\"標題"
   ]
  },
  {
   "cell_type": "code",
   "execution_count": 29,
   "metadata": {},
   "outputs": [
    {
     "data": {
      "text/plain": [
       "'/bbs/Stock/index8497.html'"
      ]
     },
     "execution_count": 29,
     "metadata": {},
     "output_type": "execute_result"
    }
   ],
   "source": [
    "url = \"https://www.ptt.cc/bbs/stock/index.html\"\n",
    "response = requests.get(url)  # 模擬get請求\n",
    "soup = BeautifulSoup(response.text, \"html.parser\")\n",
    "\n",
    "# 抓取 innerText 是 '‹ 上頁' 的元素\n",
    "prev_page_link = soup.find(lambda tag: tag.name == 'a' and tag.text == '‹ 上頁')\n",
    "assert prev_page_link is not None\n",
    "\n",
    "prev_page_path = prev_page_link.get('href')\n",
    "assert prev_page_path is not None\n",
    "\n",
    "prev_page_path"
   ]
  },
  {
   "cell_type": "code",
   "execution_count": 32,
   "metadata": {},
   "outputs": [
    {
     "name": "stdout",
     "output_type": "stream",
     "text": [
      "[新聞] 雲豹能源 今年開啟高成長元年\n",
      "Re: [心得] 0050 VS 00713 報酬率比較\n",
      "Re: [新聞] 馬斯克:特斯拉人形機器人Optimus今年試\n",
      "[標的] WM.US 美國垃圾太多美股FIRE多\n",
      "[新聞] 不是合資，英特爾要併購台積電？\n",
      "Re: [新聞] 馬斯克:特斯拉人形機器人Optimus今年試\n",
      "Re: [標的] 6725矽科宏晟 高手分點介入.和淞第二 多\n",
      "[新聞] 川普說話了！破壞特斯拉可判刑20年 恐送\n",
      "Re: [新聞] 馬斯克:特斯拉人形機器人Optimus今年試\n",
      "Re: [新聞] 馬斯克:特斯拉人形機器人Optimus今年試\n",
      "[心得] 03月當沖心得-已畢業\n",
      "[新聞] 合庫：房價恐修正5%至10%\n",
      "[新聞] 傳台積寶山2奈米將量產iPhone 18 Pro 季\n",
      "Re: [新聞] 傳台積寶山2奈米將量產iPhone 18 Pro 季\n",
      "[新聞] 聯準會維持年內降2碼預估 債市買點浮現\n",
      "[新聞] 「印度製造」挫敗！3產業難敵陸輾壓...\n",
      "Re: [新聞] 馬斯克：特斯拉人形機器人Optimus今年試\n",
      "(本文已被刪除) [greattower]\n",
      "[標的] 港股推不動  大盤空手\n",
      "[閒聊] 2025/03/24 盤中閒聊\n"
     ]
    }
   ],
   "source": [
    "assert isinstance(prev_page_path, str)\n",
    "\n",
    "# 抓取上頁的標題\n",
    "response = requests.get(\"https://www.ptt.cc\" + prev_page_path)\n",
    "soup = BeautifulSoup(response.text, \"html.parser\")\n",
    "\n",
    "for tag in soup.find_all(\"div\", class_=\"title\"):\n",
    "    print(tag.text.strip())"
   ]
  },
  {
   "cell_type": "markdown",
   "metadata": {},
   "source": [
    "## 抓自由時報\"所有\"新聞標題"
   ]
  },
  {
   "cell_type": "code",
   "execution_count": 33,
   "metadata": {},
   "outputs": [],
   "source": [
    "url = \"https://www.ltn.com.tw/\"  # 設定網頁網址\n",
    "resp = requests.get(url)  # 模擬get請求\n",
    "soup = BeautifulSoup(resp.text, \"html.parser\")  # 將網頁格式檔放入bs4中"
   ]
  },
  {
   "cell_type": "code",
   "execution_count": 34,
   "metadata": {},
   "outputs": [
    {
     "data": {
      "text/plain": [
       "[<h3>\n",
       "                         不會被 Android 吐槽了？傳蘋果 iPhone 17 螢幕終於要補上這規格                                            </h3>,\n",
       " <h3>\n",
       "                         焦點股》穩懋：擠進輝達CPO供應鏈 法人力挺                                            </h3>,\n",
       " <h3>\n",
       "                         窮人為何依然貧窮? 羅伯特清崎：主因是因為「它」                                            </h3>,\n",
       " <h3>\n",
       "                         獨家》3千病患不再是遊牧民族 骨科名醫黃鐙樂醫院啟用                                            </h3>,\n",
       " <h3>\n",
       "                         「來恆春擁抱宇宙」首波成功 還有3週觀星主題活動吸引人潮                                            </h3>,\n",
       " <h3>\n",
       "                         華南銀行響應Earth Hour關燈一小時 串連全臺分行連續關燈3天                                            </h3>,\n",
       " <h3>\n",
       "                         重大轉變！日本研擬不依靠美軍 自主發射長程飛彈                                            </h3>,\n",
       " <h3>\n",
       "                         彰縣議員賴清美借派出所停車爭議延燒 稱遭網友騷擾擬提告                                            </h3>,\n",
       " <h3>\n",
       "                         館長撂驚語  「女的在健身房被壓死算了，沒人要救」                                            </h3>,\n",
       " <h3>\n",
       "                         高溫上看30度熱到星期四 週末北台轉濕涼「冬衣還不能收」                                            </h3>,\n",
       " <h3>\n",
       "                         Google 證實搞丟用戶「時間軸」紀錄！搶救方法曝光                                            </h3>,\n",
       " <h3>\n",
       "                         自由開講》自己選的自己罷                                            </h3>,\n",
       " <h3>\n",
       "                         MLB》菅野智之進入金鶯先發輪值 開幕4連戰對藍鳥迎來大聯盟首秀                                            </h3>,\n",
       " <h3>\n",
       "                         MLB》悲情！受傷就被釋出 水手掰了生涯130轟明星外野手                                            </h3>,\n",
       " <h3>\n",
       "                         MLB》台美混血好手卡洛爾連6場比賽敲安！「費仔」打擊率持續探低                                            </h3>,\n",
       " <h3>\n",
       "                         將有第3家航空公司飛澎湖？ 陳光復和楊曜說法不同調                                            </h3>,\n",
       " <h3>\n",
       "                         JHVL》苗栗苑裡高中國中部全勝封王 連奪5大賽金盃空前紀錄                                            </h3>,\n",
       " <h3>\n",
       "                         檢舉直行車占道 他不爽警察沒開單幫全台求償被駁                                            </h3>,\n",
       " <h3>\n",
       "                         中華電信斥資46億元投資E2A海纜建設 強化亞洲北美數位連接                                            </h3>,\n",
       " <h3>\n",
       "                         台股開盤》台積電大反攻 指數漲171點朝22400點挺進                                            </h3>,\n",
       " <h3>\n",
       "                         遵守法院裁定 NJZ宣布全面暫停活動                                            </h3>,\n",
       " <h3>\n",
       "                 財經週報〉ETF熱潮輪動 今年市值型ETF當家                            </h3>,\n",
       " <h3>\n",
       "                 團結抗川普！加拿大總理卡尼：4/28提前國會大選                            </h3>,\n",
       " <h3>\n",
       "                 股市若續跌......嬰兒潮世代恐成海嘯第1排                            </h3>,\n",
       " <h3>\n",
       "                 50年傳統斷了！日《產經》台灣雙十特輯 因我預算遭砍停刊                            </h3>,\n",
       " <h3>\n",
       "                 TPBL捕捉超兇正妹 核彈級雪乳呼之欲出                            </h3>,\n",
       " <h3>\n",
       "                 華南銀行響應Earth Hour關燈一小時 串連全臺分行連續關燈3天                            </h3>,\n",
       " <h3>\n",
       "                 今暖熱如夏！西半部上看30度 各地早晚溫差大                            </h3>,\n",
       " <h3>\n",
       "                 健康網》鳳梨釋迦不是鳳梨親戚！                            </h3>,\n",
       " <h3>\n",
       "                 傳台積寶山2奈米將量產iPhone 18 Pro 季辛格急問<span class=\"title_colorful\">這件事</span> </h3>,\n",
       " <h3>\n",
       "                 TPBL》夢想家、攻城獅爆<span class=\"title_colorful\">揮拳</span>衝突！                            </h3>,\n",
       " <h3 class=\"videoLiveTit\">\n",
       " <img alt=\"videoIcon\" class=\"videoIcon\" src=\"assets/images/video01.svg\"/>\n",
       "                                 自由說新聞》史書華赴民眾黨「人民要當家」邀黃國昌連署遭推倒！四叉貓估：現場僅有300人！                            </h3>,\n",
       " <h3 class=\"videoLiveTit\">\n",
       " <img alt=\"videoIcon\" class=\"videoIcon\" src=\"assets/images/video01.svg\"/>\n",
       "                                 卓榮泰23日台南宣講 對統戰滲透宣示「3個一定」（民進黨中央黨部提供）                            </h3>,\n",
       " <h3 class=\"videoLiveTit\">\n",
       " <img alt=\"videoIcon\" class=\"videoIcon\" src=\"assets/images/video01.svg\"/>\n",
       "                                 獨家》中國快艇無籍船23日侵入澎湖延繩釣海域 竊取漁民漁獲（民眾提供）                            </h3>,\n",
       " <h3 class=\"videoLiveTit\">\n",
       " <img alt=\"videoIcon\" class=\"videoIcon\" src=\"assets/images/video01.svg\"/>\n",
       "                                 港人23日譴責港府跨境鎮壓 籲台灣人看清「維尼不懷好意」                            </h3>,\n",
       " <h3 class=\"videoLiveTit\">\n",
       " <img alt=\"videoIcon\" class=\"videoIcon\" src=\"assets/images/video01.svg\"/>\n",
       "                                 憾！玉山男女山友墜380米深谷遭雪埋 23日下切尋獲不幸雙亡吊掛下山（南投縣消防局／玉管處提供）                            </h3>,\n",
       " <h3 class=\"videoLiveTit\">自由說新聞》史書華赴民眾黨「人民要當家」邀黃國昌連署遭推倒！四叉貓估：現場僅有300人！</h3>,\n",
       " <h3 class=\"videoLiveTit\">卓榮泰23日台南宣講 對統戰滲透宣示「3個一定」（民進黨中央黨部提供）</h3>,\n",
       " <h3 class=\"videoLiveTit\">獨家》中國快艇無籍船23日侵入澎湖延繩釣海域 竊取漁民漁獲（民眾提供）</h3>,\n",
       " <h3 class=\"videoLiveTit\">港人23日譴責港府跨境鎮壓 籲台灣人看清「維尼不懷好意」</h3>,\n",
       " <h3 class=\"videoLiveTit\">憾！玉山男女山友墜380米深谷遭雪埋 23日下切尋獲不幸雙亡吊掛下山（南投縣消防局／玉管處提供）</h3>,\n",
       " <h3 class=\"videoLiveTit\">中國大咖直播「瘋狂小楊哥」 近3億台幣罰款全繳清</h3>,\n",
       " <h3>\n",
       "                         不會被 Android 吐槽了？傳蘋果 iPhone 17 螢幕終於要補上這規格                                            </h3>,\n",
       " <h3>\n",
       "                         焦點股》穩懋：擠進輝達CPO供應鏈 法人力挺                                            </h3>,\n",
       " <h3>\n",
       "                         窮人為何依然貧窮? 羅伯特清崎：主因是因為「它」                                            </h3>,\n",
       " <h3>\n",
       "                         獨家》3千病患不再是遊牧民族 骨科名醫黃鐙樂醫院啟用                                            </h3>,\n",
       " <h3>\n",
       "                         「來恆春擁抱宇宙」首波成功 還有3週觀星主題活動吸引人潮                                            </h3>,\n",
       " <h3>\n",
       "                         華南銀行響應Earth Hour關燈一小時 串連全臺分行連續關燈3天                                            </h3>,\n",
       " <h3>\n",
       "                         重大轉變！日本研擬不依靠美軍 自主發射長程飛彈                                            </h3>,\n",
       " <h3>\n",
       "                         彰縣議員賴清美借派出所停車爭議延燒 稱遭網友騷擾擬提告                                            </h3>,\n",
       " <h3>\n",
       "                         館長撂驚語  「女的在健身房被壓死算了，沒人要救」                                            </h3>,\n",
       " <h3>\n",
       "                         高溫上看30度熱到星期四 週末北台轉濕涼「冬衣還不能收」                                            </h3>,\n",
       " <h3>\n",
       "                         Google 證實搞丟用戶「時間軸」紀錄！搶救方法曝光                                            </h3>,\n",
       " <h3>\n",
       "                         自由開講》自己選的自己罷                                            </h3>,\n",
       " <h3>\n",
       "                         MLB》菅野智之進入金鶯先發輪值 開幕4連戰對藍鳥迎來大聯盟首秀                                            </h3>,\n",
       " <h3>\n",
       "                         MLB》悲情！受傷就被釋出 水手掰了生涯130轟明星外野手                                            </h3>,\n",
       " <h3>\n",
       "                         MLB》台美混血好手卡洛爾連6場比賽敲安！「費仔」打擊率持續探低                                            </h3>,\n",
       " <h3>\n",
       "                         將有第3家航空公司飛澎湖？ 陳光復和楊曜說法不同調                                            </h3>,\n",
       " <h3>\n",
       "                         JHVL》苗栗苑裡高中國中部全勝封王 連奪5大賽金盃空前紀錄                                            </h3>,\n",
       " <h3>\n",
       "                         檢舉直行車占道 他不爽警察沒開單幫全台求償被駁                                            </h3>,\n",
       " <h3>\n",
       "                         中華電信斥資46億元投資E2A海纜建設 強化亞洲北美數位連接                                            </h3>,\n",
       " <h3>\n",
       "                         台股開盤》台積電大反攻 指數漲171點朝22400點挺進                                            </h3>,\n",
       " <h3>\n",
       "                         遵守法院裁定 NJZ宣布全面暫停活動                                            </h3>,\n",
       " <h3>\n",
       "                     鼓吹武統2中配直播互取暖  得知限期離境瞬間臉垮讓網熱議                                        </h3>,\n",
       " <h3>\n",
       "                     彰縣議員賴清美借派出所停車遭警轟出 警局長陳明君要查真相                                        </h3>,\n",
       " <h3>\n",
       "                     股市若續跌怎麼辦？嬰兒潮世代恐成海嘯第1排                                        </h3>,\n",
       " <h3>\n",
       "                     中職》任意引退後改開吊車 呂偉晟重返球場直呼神奇                                        </h3>,\n",
       " <h3>\n",
       "                     糗！民眾黨邀公務員宣講 他上台轟亂刪預算：吳春城最壞示範                                        </h3>,\n",
       " <h3>\n",
       "                     NBA》公牛後衛「準大四喜」締史上第1人壯舉！賞湖人41年難堪紀錄                                        </h3>,\n",
       " <h3>自由說新聞》史書華赴民眾黨「人民要當家」邀黃國昌連署遭推倒！四叉貓估：現場僅有300人！</h3>,\n",
       " <h3>卓榮泰23日台南宣講 對統戰滲透宣示「3個一定」（民進黨中央黨部提供）</h3>,\n",
       " <h3>獨家》中國快艇無籍船23日侵入澎湖延繩釣海域 竊取漁民漁獲（民眾提供）</h3>,\n",
       " <h3>港人23日譴責港府跨境鎮壓 籲台灣人看清「維尼不懷好意」</h3>,\n",
       " <h3>憾！玉山男女山友墜380米深谷遭雪埋 23日下切尋獲不幸雙亡吊掛下山（南投縣消防局／玉管處提供）</h3>,\n",
       " <h3>自由說新聞》閩南狼秀證據嗆爆紅統派！藍委被酸「太廢」學者也吐槽</h3>,\n",
       " <h3>恭喜！楊祐寧老婆懷第3胎 水某摸凸肚報喜</h3>,\n",
       " <h3>家寧昔稱戀愛0經驗！寇乃馨當場「一句話狠打臉」</h3>,\n",
       " <h3>放鳥高雄被他取代？金秀賢違約要賠台幣3000萬 主辦單位回應了</h3>,\n",
       " <h3>49歲林心如遭批「腫臉大嬸」 親露面高EQ回應：不能有一次失誤</h3>,\n",
       " <h3>中國大咖直播「瘋狂小楊哥」 近3億台幣罰款全繳清</h3>,\n",
       " <h3>22歲女偶像偷拍AV被抓到！爸爸氣炸要她「馬上辭退」</h3>,\n",
       " <h3>韓啦啦隊21歲怪物新人打敗李珠珢 球場新女神</h3>,\n",
       " <h3>朴寶劍《苦盡柑來》第8集就消失！劇迷超崩潰 官方回應了</h3>,\n",
       " <h3>MLB》菅野智之進入金鶯先發輪值 開幕4連戰對藍鳥迎來大聯盟首秀</h3>,\n",
       " <h3>MLB》悲情！受傷就被釋出 水手掰了生涯130轟明星外野手</h3>,\n",
       " <h3>MLB》台美混血好手卡洛爾連6場比賽敲安！「費仔」打擊率持續探低</h3>,\n",
       " <h3>JHVL》苗栗苑裡高中國中部全勝封王 連奪5大賽金盃空前紀錄</h3>,\n",
       " <h3>清代天子禮物「戴」動時尚   故宮郎世寧名畫加3物後秒懂</h3>,\n",
       " <h3>【藝術文化】故宮揭密「清代天子禮物」耐人尋味  哈密瓜、櫻桃也現蹤</h3>,\n",
       " <h3>【藝術文化】台北愛樂青年合唱團3/29首訪宜蘭 〈希望彌撒曲〉結合〈望春風〉</h3>,\n",
       " <h3>【藝術文化】「工藝入校．藝創教案」徵選啟動  最高挹注8萬元</h3>,\n",
       " <h3>俄軍新型無人機戰術襲擊烏克蘭 城市傷亡慘重</h3>,\n",
       " <h3>重大轉變！日本研擬不依靠美軍 自主發射長程飛彈</h3>,\n",
       " <h3>《空降神兵》記錄航特部80載 發表會前涼山、特戰將官重磅與會</h3>,\n",
       " <h3>美菲「肩並肩」軍演火力全開！ 將領放話：讓中國徹夜難眠</h3>,\n",
       " <h3>「來恆春擁抱宇宙」首波成功 還有3週觀星主題活動吸引人潮</h3>,\n",
       " <h3>彰縣議員賴清美借派出所停車爭議延燒 稱遭網友騷擾擬提告</h3>,\n",
       " <h3>將有第3家航空公司飛澎湖？ 陳光復和楊曜說法不同調</h3>,\n",
       " <h3>檢舉直行車占道 他不爽警察沒開單幫全台求償被駁</h3>,\n",
       " <h3>福斯新一代 T-Roc 預告 9 月正式發表！首搭油電混合動力對抗日系車廠</h3>,\n",
       " <h3>Nissan 親民小休旅左駕版中東上市 60 萬有找！台灣導入與否有待評估</h3>,\n",
       " <h3>Mazda 全新跨界最快明年登場命名 CX-20！空間更充裕取代 CX-3 市場定位</h3>,\n",
       " <h3>最親民 Honda 入門小車將推大改款！導入新世代設計語彙與油電科技</h3>,\n",
       " <h3>Jisoo桃園開唱披未曝光過短洋裝火辣寵粉！會後PO台灣伴手禮超用心</h3>,\n",
       " <h3>IKEA這款收納櫃容量足夠還能當展示牆！盲盒、公仔買再多都不怕空間爆炸</h3>,\n",
       " <h3>時尚名人一週間》Lisa日本街頭拍片一轉身背部全裸、楊謹華信義區大秀纖腰</h3>,\n",
       " <h3>維多利亞貝克漢私藏小紅水！每天百萬人使用、連續30年銷售冠軍成傳奇經典</h3>,\n",
       " <h3>不會被 Android 吐槽了？傳蘋果 iPhone 17 螢幕終於要補上這規格</h3>,\n",
       " <h3>Google 證實搞丟用戶「時間軸」紀錄！搶救方法曝光</h3>,\n",
       " <h3>3C酷玩意超有哏   科技不再冷冰冰</h3>,\n",
       " <h3>《本週5大科技新聞》LINE 史詩級更新釋出！Google 平價版 Pixel 9 登台</h3>,\n",
       " <h3>【桃園】八德大湳生活圈 綠線開通在即 房價起漲</h3>,\n",
       " <h3>降價不等於崩盤？高雄、台中降價物件狂飆  專家解析關鍵密碼</h3>,\n",
       " <h3>平轉賠售能買嗎？專家教戰！三步驟評估、注意三風險</h3>,\n",
       " <h3>【高雄】捷運路網與成熟商圈、優質學區加持 大陽明生活圈輕豪宅市場潛力十足</h3>,\n",
       " <h3>旅行的另一種趣味  機場新亮點   美食住宿大升級</h3>,\n",
       " <h3>桑延同款「難哄蛋糕」全家開賣！6吋芋泥布丁口味抽幸運兒免費吃</h3>,\n",
       " <h3>從莫臥兒宮廷到分治時代　台南香格里拉７道印度菜帶你穿越百年</h3>,\n",
       " <h3>全家霜淇淋、咖啡買一送一迎回暖好天氣！循環杯租借新制享飲品半價</h3>,\n",
       " <h3>飛蚊症不可逆、４症狀要注意！專家教護眼３營養素比葉黃素更好</h3>,\n",
       " <h3>小孩不挑食！達人示範蛋包飯變賞心悅目「布丁造型咖哩飯」</h3>,\n",
       " <h3>「泰式紅咖哩魚餅」軟嫩鮮香做法超簡單！氣炸鍋也能做</h3>,\n",
       " <h3>2025春分節氣到！４大養生飲食改善昏沉疲勞、春睏倦怠</h3>,\n",
       " <h3>郭瑤琪主動脈剝離》不只胸痛 背部痛如刀割也是警訊</h3>,\n",
       " <h3>郭瑤琪主動脈剝離 國健署點「這群人」最危險</h3>,\n",
       " <h3>糖尿病好似燒鍋爐 中醫：這情況會「臭火焦」</h3>,\n",
       " <h3>乳房摸到腫塊！ 6情況快就醫檢查</h3>,\n",
       " <h3>窮人為何依然貧窮? 羅伯特清崎：主因是因為「它」</h3>,\n",
       " <h3>焦點股》穩懋：擠進輝達CPO供應鏈 法人力挺</h3>,\n",
       " <h3>中華電信斥資46億元投資E2A海纜建設 強化亞洲北美數位連接</h3>,\n",
       " <h3>台股開盤》台積電大反攻 指數漲171點朝22400點挺進</h3>,\n",
       " <h3>\n",
       "                             數位部長黃彥男蒞臨視察遠傳「打詐智靈」                        </h3>,\n",
       " <h3>\n",
       "                             破解迷思！專家揭換屋隱藏成本 「廣宇大涵」切入3~4房真空帶                        </h3>,\n",
       " <h3>\n",
       "                             環泥水澐開工熱銷 再推二期「環泥水澍」 璀璨登場！                        </h3>,\n",
       " <h3>\n",
       "                             華南銀行響應Earth Hour關燈一小時 串連全臺分行連續關燈3天                        </h3>,\n",
       " <h3>’Flying over Berlin’ on Europe’s highest swing／搭著歐洲最高的鞦韆「在柏林上空飛」</h3>,\n",
       " <h3>Robotaxis frustrate sleepless residents with constant honking／機器人計程車不斷鳴喇叭 讓失眠的居民感到沮喪</h3>,\n",
       " <h3>Japanese, Koreans bottom of global love life survey／日本、韓國人在全球愛情生活調查中墊底</h3>]"
      ]
     },
     "execution_count": 34,
     "metadata": {},
     "output_type": "execute_result"
    }
   ],
   "source": [
    "# 抓取所有新聞標題\n",
    "tags = soup.find_all(\"h3\")  # 找出所有 h3 標籤（一般新聞標題）\n",
    "tags"
   ]
  },
  {
   "cell_type": "code",
   "execution_count": 35,
   "metadata": {},
   "outputs": [
    {
     "name": "stdout",
     "output_type": "stream",
     "text": [
      "所有新聞標題\n",
      "不會被 Android 吐槽了？傳蘋果 iPhone 17 螢幕終於要補上這規格\n",
      "焦點股》穩懋：擠進輝達CPO供應鏈 法人力挺\n",
      "窮人為何依然貧窮? 羅伯特清崎：主因是因為「它」\n",
      "獨家》3千病患不再是遊牧民族 骨科名醫黃鐙樂醫院啟用\n",
      "「來恆春擁抱宇宙」首波成功 還有3週觀星主題活動吸引人潮\n",
      "華南銀行響應Earth Hour關燈一小時 串連全臺分行連續關燈3天\n",
      "重大轉變！日本研擬不依靠美軍 自主發射長程飛彈\n",
      "彰縣議員賴清美借派出所停車爭議延燒 稱遭網友騷擾擬提告\n",
      "館長撂驚語  「女的在健身房被壓死算了，沒人要救」\n",
      "高溫上看30度熱到星期四 週末北台轉濕涼「冬衣還不能收」\n",
      "Google 證實搞丟用戶「時間軸」紀錄！搶救方法曝光\n",
      "自由開講》自己選的自己罷\n",
      "MLB》菅野智之進入金鶯先發輪值 開幕4連戰對藍鳥迎來大聯盟首秀\n",
      "MLB》悲情！受傷就被釋出 水手掰了生涯130轟明星外野手\n",
      "MLB》台美混血好手卡洛爾連6場比賽敲安！「費仔」打擊率持續探低\n",
      "將有第3家航空公司飛澎湖？ 陳光復和楊曜說法不同調\n",
      "JHVL》苗栗苑裡高中國中部全勝封王 連奪5大賽金盃空前紀錄\n",
      "檢舉直行車占道 他不爽警察沒開單幫全台求償被駁\n",
      "中華電信斥資46億元投資E2A海纜建設 強化亞洲北美數位連接\n",
      "台股開盤》台積電大反攻 指數漲171點朝22400點挺進\n",
      "遵守法院裁定 NJZ宣布全面暫停活動\n",
      "財經週報〉ETF熱潮輪動 今年市值型ETF當家\n",
      "團結抗川普！加拿大總理卡尼：4/28提前國會大選\n",
      "股市若續跌......嬰兒潮世代恐成海嘯第1排\n",
      "50年傳統斷了！日《產經》台灣雙十特輯 因我預算遭砍停刊\n",
      "TPBL捕捉超兇正妹 核彈級雪乳呼之欲出\n",
      "華南銀行響應Earth Hour關燈一小時 串連全臺分行連續關燈3天\n",
      "今暖熱如夏！西半部上看30度 各地早晚溫差大\n",
      "健康網》鳳梨釋迦不是鳳梨親戚！\n",
      "傳台積寶山2奈米將量產iPhone 18 Pro 季辛格急問這件事\n",
      "TPBL》夢想家、攻城獅爆揮拳衝突！\n",
      "自由說新聞》史書華赴民眾黨「人民要當家」邀黃國昌連署遭推倒！四叉貓估：現場僅有300人！\n",
      "卓榮泰23日台南宣講 對統戰滲透宣示「3個一定」（民進黨中央黨部提供）\n",
      "獨家》中國快艇無籍船23日侵入澎湖延繩釣海域 竊取漁民漁獲（民眾提供）\n",
      "港人23日譴責港府跨境鎮壓 籲台灣人看清「維尼不懷好意」\n",
      "憾！玉山男女山友墜380米深谷遭雪埋 23日下切尋獲不幸雙亡吊掛下山（南投縣消防局／玉管處提供）\n",
      "自由說新聞》史書華赴民眾黨「人民要當家」邀黃國昌連署遭推倒！四叉貓估：現場僅有300人！\n",
      "卓榮泰23日台南宣講 對統戰滲透宣示「3個一定」（民進黨中央黨部提供）\n",
      "獨家》中國快艇無籍船23日侵入澎湖延繩釣海域 竊取漁民漁獲（民眾提供）\n",
      "港人23日譴責港府跨境鎮壓 籲台灣人看清「維尼不懷好意」\n",
      "憾！玉山男女山友墜380米深谷遭雪埋 23日下切尋獲不幸雙亡吊掛下山（南投縣消防局／玉管處提供）\n",
      "中國大咖直播「瘋狂小楊哥」 近3億台幣罰款全繳清\n",
      "不會被 Android 吐槽了？傳蘋果 iPhone 17 螢幕終於要補上這規格\n",
      "焦點股》穩懋：擠進輝達CPO供應鏈 法人力挺\n",
      "窮人為何依然貧窮? 羅伯特清崎：主因是因為「它」\n",
      "獨家》3千病患不再是遊牧民族 骨科名醫黃鐙樂醫院啟用\n",
      "「來恆春擁抱宇宙」首波成功 還有3週觀星主題活動吸引人潮\n",
      "華南銀行響應Earth Hour關燈一小時 串連全臺分行連續關燈3天\n",
      "重大轉變！日本研擬不依靠美軍 自主發射長程飛彈\n",
      "彰縣議員賴清美借派出所停車爭議延燒 稱遭網友騷擾擬提告\n",
      "館長撂驚語  「女的在健身房被壓死算了，沒人要救」\n",
      "高溫上看30度熱到星期四 週末北台轉濕涼「冬衣還不能收」\n",
      "Google 證實搞丟用戶「時間軸」紀錄！搶救方法曝光\n",
      "自由開講》自己選的自己罷\n",
      "MLB》菅野智之進入金鶯先發輪值 開幕4連戰對藍鳥迎來大聯盟首秀\n",
      "MLB》悲情！受傷就被釋出 水手掰了生涯130轟明星外野手\n",
      "MLB》台美混血好手卡洛爾連6場比賽敲安！「費仔」打擊率持續探低\n",
      "將有第3家航空公司飛澎湖？ 陳光復和楊曜說法不同調\n",
      "JHVL》苗栗苑裡高中國中部全勝封王 連奪5大賽金盃空前紀錄\n",
      "檢舉直行車占道 他不爽警察沒開單幫全台求償被駁\n",
      "中華電信斥資46億元投資E2A海纜建設 強化亞洲北美數位連接\n",
      "台股開盤》台積電大反攻 指數漲171點朝22400點挺進\n",
      "遵守法院裁定 NJZ宣布全面暫停活動\n",
      "鼓吹武統2中配直播互取暖  得知限期離境瞬間臉垮讓網熱議\n",
      "彰縣議員賴清美借派出所停車遭警轟出 警局長陳明君要查真相\n",
      "股市若續跌怎麼辦？嬰兒潮世代恐成海嘯第1排\n",
      "中職》任意引退後改開吊車 呂偉晟重返球場直呼神奇\n",
      "糗！民眾黨邀公務員宣講 他上台轟亂刪預算：吳春城最壞示範\n",
      "NBA》公牛後衛「準大四喜」締史上第1人壯舉！賞湖人41年難堪紀錄\n",
      "自由說新聞》史書華赴民眾黨「人民要當家」邀黃國昌連署遭推倒！四叉貓估：現場僅有300人！\n",
      "卓榮泰23日台南宣講 對統戰滲透宣示「3個一定」（民進黨中央黨部提供）\n",
      "獨家》中國快艇無籍船23日侵入澎湖延繩釣海域 竊取漁民漁獲（民眾提供）\n",
      "港人23日譴責港府跨境鎮壓 籲台灣人看清「維尼不懷好意」\n",
      "憾！玉山男女山友墜380米深谷遭雪埋 23日下切尋獲不幸雙亡吊掛下山（南投縣消防局／玉管處提供）\n",
      "自由說新聞》閩南狼秀證據嗆爆紅統派！藍委被酸「太廢」學者也吐槽\n",
      "恭喜！楊祐寧老婆懷第3胎 水某摸凸肚報喜\n",
      "家寧昔稱戀愛0經驗！寇乃馨當場「一句話狠打臉」\n",
      "放鳥高雄被他取代？金秀賢違約要賠台幣3000萬 主辦單位回應了\n",
      "49歲林心如遭批「腫臉大嬸」 親露面高EQ回應：不能有一次失誤\n",
      "中國大咖直播「瘋狂小楊哥」 近3億台幣罰款全繳清\n",
      "22歲女偶像偷拍AV被抓到！爸爸氣炸要她「馬上辭退」\n",
      "韓啦啦隊21歲怪物新人打敗李珠珢 球場新女神\n",
      "朴寶劍《苦盡柑來》第8集就消失！劇迷超崩潰 官方回應了\n",
      "MLB》菅野智之進入金鶯先發輪值 開幕4連戰對藍鳥迎來大聯盟首秀\n",
      "MLB》悲情！受傷就被釋出 水手掰了生涯130轟明星外野手\n",
      "MLB》台美混血好手卡洛爾連6場比賽敲安！「費仔」打擊率持續探低\n",
      "JHVL》苗栗苑裡高中國中部全勝封王 連奪5大賽金盃空前紀錄\n",
      "清代天子禮物「戴」動時尚   故宮郎世寧名畫加3物後秒懂\n",
      "【藝術文化】故宮揭密「清代天子禮物」耐人尋味  哈密瓜、櫻桃也現蹤\n",
      "【藝術文化】台北愛樂青年合唱團3/29首訪宜蘭 〈希望彌撒曲〉結合〈望春風〉\n",
      "【藝術文化】「工藝入校．藝創教案」徵選啟動  最高挹注8萬元\n",
      "俄軍新型無人機戰術襲擊烏克蘭 城市傷亡慘重\n",
      "重大轉變！日本研擬不依靠美軍 自主發射長程飛彈\n",
      "《空降神兵》記錄航特部80載 發表會前涼山、特戰將官重磅與會\n",
      "美菲「肩並肩」軍演火力全開！ 將領放話：讓中國徹夜難眠\n",
      "「來恆春擁抱宇宙」首波成功 還有3週觀星主題活動吸引人潮\n",
      "彰縣議員賴清美借派出所停車爭議延燒 稱遭網友騷擾擬提告\n",
      "將有第3家航空公司飛澎湖？ 陳光復和楊曜說法不同調\n",
      "檢舉直行車占道 他不爽警察沒開單幫全台求償被駁\n",
      "福斯新一代 T-Roc 預告 9 月正式發表！首搭油電混合動力對抗日系車廠\n",
      "Nissan 親民小休旅左駕版中東上市 60 萬有找！台灣導入與否有待評估\n",
      "Mazda 全新跨界最快明年登場命名 CX-20！空間更充裕取代 CX-3 市場定位\n",
      "最親民 Honda 入門小車將推大改款！導入新世代設計語彙與油電科技\n",
      "Jisoo桃園開唱披未曝光過短洋裝火辣寵粉！會後PO台灣伴手禮超用心\n",
      "IKEA這款收納櫃容量足夠還能當展示牆！盲盒、公仔買再多都不怕空間爆炸\n",
      "時尚名人一週間》Lisa日本街頭拍片一轉身背部全裸、楊謹華信義區大秀纖腰\n",
      "維多利亞貝克漢私藏小紅水！每天百萬人使用、連續30年銷售冠軍成傳奇經典\n",
      "不會被 Android 吐槽了？傳蘋果 iPhone 17 螢幕終於要補上這規格\n",
      "Google 證實搞丟用戶「時間軸」紀錄！搶救方法曝光\n",
      "3C酷玩意超有哏   科技不再冷冰冰\n",
      "《本週5大科技新聞》LINE 史詩級更新釋出！Google 平價版 Pixel 9 登台\n",
      "【桃園】八德大湳生活圈 綠線開通在即 房價起漲\n",
      "降價不等於崩盤？高雄、台中降價物件狂飆  專家解析關鍵密碼\n",
      "平轉賠售能買嗎？專家教戰！三步驟評估、注意三風險\n",
      "【高雄】捷運路網與成熟商圈、優質學區加持 大陽明生活圈輕豪宅市場潛力十足\n",
      "旅行的另一種趣味  機場新亮點   美食住宿大升級\n",
      "桑延同款「難哄蛋糕」全家開賣！6吋芋泥布丁口味抽幸運兒免費吃\n",
      "從莫臥兒宮廷到分治時代　台南香格里拉７道印度菜帶你穿越百年\n",
      "全家霜淇淋、咖啡買一送一迎回暖好天氣！循環杯租借新制享飲品半價\n",
      "飛蚊症不可逆、４症狀要注意！專家教護眼３營養素比葉黃素更好\n",
      "小孩不挑食！達人示範蛋包飯變賞心悅目「布丁造型咖哩飯」\n",
      "「泰式紅咖哩魚餅」軟嫩鮮香做法超簡單！氣炸鍋也能做\n",
      "2025春分節氣到！４大養生飲食改善昏沉疲勞、春睏倦怠\n",
      "郭瑤琪主動脈剝離》不只胸痛 背部痛如刀割也是警訊\n",
      "郭瑤琪主動脈剝離 國健署點「這群人」最危險\n",
      "糖尿病好似燒鍋爐 中醫：這情況會「臭火焦」\n",
      "乳房摸到腫塊！ 6情況快就醫檢查\n",
      "窮人為何依然貧窮? 羅伯特清崎：主因是因為「它」\n",
      "焦點股》穩懋：擠進輝達CPO供應鏈 法人力挺\n",
      "中華電信斥資46億元投資E2A海纜建設 強化亞洲北美數位連接\n",
      "台股開盤》台積電大反攻 指數漲171點朝22400點挺進\n",
      "數位部長黃彥男蒞臨視察遠傳「打詐智靈」\n",
      "破解迷思！專家揭換屋隱藏成本 「廣宇大涵」切入3~4房真空帶\n",
      "環泥水澐開工熱銷 再推二期「環泥水澍」 璀璨登場！\n",
      "華南銀行響應Earth Hour關燈一小時 串連全臺分行連續關燈3天\n",
      "’Flying over Berlin’ on Europe’s highest swing／搭著歐洲最高的鞦韆「在柏林上空飛」\n",
      "Robotaxis frustrate sleepless residents with constant honking／機器人計程車不斷鳴喇叭 讓失眠的居民感到沮喪\n",
      "Japanese, Koreans bottom of global love life survey／日本、韓國人在全球愛情生活調查中墊底\n"
     ]
    }
   ],
   "source": [
    "# 顯示標題\n",
    "for tag in tags:\n",
    "    print(tag.get_text(strip=True))"
   ]
  },
  {
   "cell_type": "markdown",
   "metadata": {},
   "source": [
    "### 問題：抓自由時報\"即時\"新聞標題"
   ]
  },
  {
   "cell_type": "code",
   "execution_count": 37,
   "metadata": {},
   "outputs": [],
   "source": [
    "url = \"https://www.ltn.com.tw/\"  # 設定網頁網址\n",
    "resp = requests.get(url)  # 模擬get請求\n",
    "soup = BeautifulSoup(resp.text, \"html.parser\")  # 將網頁格式檔放入bs4"
   ]
  },
  {
   "cell_type": "code",
   "execution_count": 40,
   "metadata": {},
   "outputs": [
    {
     "name": "stdout",
     "output_type": "stream",
     "text": [
      "米可白愛犬錢錢罹胃癌 昔被侯友宜叫錯現身打氣\n",
      "爆徐巧芯便宜借場地卻擺著不用 吳靜怡酸：來辦德州撲克大賽好了\n",
      "尹錫悅命運風向球！ 代理總統韓悳洙彈劾案被駁回\n",
      "不會被 Android 吐槽了？傳蘋果 iPhone 17 螢幕終於要補上這規格\n",
      "焦點股》穩懋：擠進輝達CPO供應鏈 法人力挺\n",
      "華南銀行響應Earth Hour關燈一小時 串連全臺分行連續關燈3天\n",
      "窮人為何依然貧窮? 羅伯特清崎：主因是因為「它」\n",
      "獨家》3千病患不再是遊牧民族 骨科名醫黃鐙樂醫院啟用\n",
      "「來恆春擁抱宇宙」首波成功 還有3週觀星主題活動吸引人潮\n",
      "重大轉變！日本研擬不依靠美軍 自主發射長程飛彈\n",
      "彰縣議員賴清美借派出所停車爭議延燒 稱遭網友騷擾擬提告\n",
      "館長撂驚語  「女的在健身房被壓死算了，沒人要救」\n",
      "高溫上看30度熱到星期四 週末北台轉濕涼「冬衣還不能收」\n",
      "Google 證實搞丟用戶「時間軸」紀錄！搶救方法曝光\n",
      "自由開講》自己選的自己罷\n",
      "MLB》菅野智之進入金鶯先發輪值 開幕4連戰對藍鳥迎來大聯盟首秀\n",
      "MLB》悲情！受傷就被釋出 水手掰了生涯130轟明星外野手\n",
      "MLB》台美混血好手卡洛爾連6場比賽敲安！「費仔」打擊率持續探低\n",
      "將有第3家航空公司飛澎湖？ 陳光復和楊曜說法不同調\n",
      "JHVL》苗栗苑裡高中國中部全勝封王 連奪5大賽金盃空前紀錄\n",
      "檢舉直行車占道 他不爽警察沒開單幫全台求償被駁\n"
     ]
    }
   ],
   "source": [
    "# 取得「即時清單」\n",
    "breaking_news = soup.find(\"div\", attrs={\"data-desc\": \"即時清單\"})\n",
    "assert breaking_news is not None\n",
    "\n",
    "# 取得「即時清單」中的所有標題\n",
    "titles = breaking_news.find_all(\"h3\")\n",
    "\n",
    "for title in titles:\n",
    "    print(title.get_text(strip=True))\n"
   ]
  }
 ],
 "metadata": {
  "kernelspec": {
   "display_name": ".venv",
   "language": "python",
   "name": "python3"
  },
  "language_info": {
   "codemirror_mode": {
    "name": "ipython",
    "version": 3
   },
   "file_extension": ".py",
   "mimetype": "text/x-python",
   "name": "python",
   "nbconvert_exporter": "python",
   "pygments_lexer": "ipython3",
   "version": "3.12.5"
  }
 },
 "nbformat": 4,
 "nbformat_minor": 2
}
