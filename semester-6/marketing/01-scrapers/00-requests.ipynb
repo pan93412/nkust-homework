{
 "cells": [
  {
   "cell_type": "markdown",
   "metadata": {},
   "source": [
    "# 00 - requests usage"
   ]
  },
  {
   "cell_type": "code",
   "execution_count": 1,
   "metadata": {},
   "outputs": [],
   "source": [
    "import requests\n",
    "from bs4 import BeautifulSoup"
   ]
  },
  {
   "cell_type": "markdown",
   "metadata": {},
   "source": [
    "## 基本 requests 使用"
   ]
  },
  {
   "cell_type": "markdown",
   "metadata": {},
   "source": [
    "### Success case (2xx)"
   ]
  },
  {
   "cell_type": "code",
   "execution_count": 2,
   "metadata": {},
   "outputs": [
    {
     "name": "stdout",
     "output_type": "stream",
     "text": [
      "200\n",
      "Request success with status code: 200\n"
     ]
    }
   ],
   "source": [
    "url = \"https://jwlin.github.io/py-scraping-analysis-book/ch1/connect.html\"\n",
    "resp = requests.get(url)\n",
    "print(resp.status_code)\n",
    "\n",
    "if resp.status_code == 200:\n",
    "    print(\"Request success with status code:\", resp.status_code)\n",
    "else:\n",
    "    print(\"Request failed with status code:\", resp.status_code)"
   ]
  },
  {
   "cell_type": "markdown",
   "metadata": {},
   "source": [
    "### Failed Case (not 2xx)"
   ]
  },
  {
   "cell_type": "code",
   "execution_count": 3,
   "metadata": {},
   "outputs": [
    {
     "name": "stdout",
     "output_type": "stream",
     "text": [
      "404\n",
      "Request failed with status code: 404\n"
     ]
    }
   ],
   "source": [
    "url = \"https://jwlin.github.io/py-scraping-analysis-book/ch1/connect.html2\"\n",
    "resp = requests.get(url)\n",
    "print(resp.status_code)\n",
    "\n",
    "if resp.status_code == 200:\n",
    "    print(\"Request success with status code:\", resp.status_code)\n",
    "else:\n",
    "    print(\"Request failed with status code:\", resp.status_code)"
   ]
  },
  {
   "cell_type": "markdown",
   "metadata": {},
   "source": [
    "## BeautifulSoup - 載入"
   ]
  },
  {
   "cell_type": "markdown",
   "metadata": {},
   "source": [
    "### Print out the DOM tree"
   ]
  },
  {
   "cell_type": "code",
   "execution_count": 4,
   "metadata": {},
   "outputs": [
    {
     "name": "stdout",
     "output_type": "stream",
     "text": [
      "200\n"
     ]
    },
    {
     "data": {
      "text/plain": [
       "<!DOCTYPE html>\n",
       "\n",
       "<html lang=\"en\">\n",
       "<head>\n",
       "<meta charset=\"utf-8\"/>\n",
       "<meta content=\"IE=edge\" http-equiv=\"X-UA-Compatible\"/>\n",
       "<meta content=\"width=device-width, initial-scale=1\" name=\"viewport\"/>\n",
       "<!-- The above 3 meta tags *must* come first in the head; any other head content must come *after* these tags -->\n",
       "<meta content=\"\" name=\"description\"/>\n",
       "<meta content=\"\" name=\"author\"/>\n",
       "<title>Pycone 松果城市</title>\n",
       "<!-- Bootstrap core CSS -->\n",
       "<link href=\"bootstrap.min.css\" rel=\"stylesheet\"/>\n",
       "<!-- IE10 viewport hack for Surface/desktop Windows 8 bug -->\n",
       "<link href=\"https://getbootstrap.com/assets/css/ie10-viewport-bug-workaround.css\" rel=\"stylesheet\"/>\n",
       "<!-- Custom styles for this template -->\n",
       "<link href=\"https://getbootstrap.com/examples/sticky-footer/sticky-footer.css\" rel=\"stylesheet\"/>\n",
       "<!-- Just for debugging purposes. Don't actually copy these 2 lines! -->\n",
       "<!--[if lt IE 9]><script src=\"../../assets/js/ie8-responsive-file-warning.js\"></script><![endif]-->\n",
       "<script src=\"https://getbootstrap.com/assets/js/ie-emulation-modes-warning.js\"></script>\n",
       "<!-- HTML5 shim and Respond.js for IE8 support of HTML5 elements and media queries -->\n",
       "<!--[if lt IE 9]>\n",
       "      <script src=\"https://oss.maxcdn.com/html5shiv/3.7.3/html5shiv.min.js\"></script>\n",
       "      <script src=\"https://oss.maxcdn.com/respond/1.4.2/respond.min.js\"></script>\n",
       "    <![endif]-->\n",
       "</head>\n",
       "<body>\n",
       "<!-- Begin page content -->\n",
       "<div class=\"container\">\n",
       "<div class=\"page-header\">\n",
       "<h1>歡迎來到 Pycone 松果城市！</h1>\n",
       "</div>\n",
       "<p class=\"lead\">Python是非常強的的程式語言, 簡潔友好的語法特別容易上手, 又有許多第三方函式庫的支援。Python是完全物件導向的語言, 有益於減少程式碼的重複性。Python的設計哲學是優雅, 明確, 簡單。 Python的設計風格, 使其成為易讀, 易維護且具有廣泛用途的程式語言。Python的應用範圍相當廣泛, 例如web後端開發, 機器學習, 資料分析, 自然語言處理, 網頁爬蟲與遊戲等等。如果自己常常翻閱書籍卻無法掌握重點, 上網收集資料卻覺得太過片段, 想要自己動手寫寫看卻不知道如何開始。 這們課會從最基本的環境架設開始教起, 讓所有同學都可以深入淺出一窺Python的奧妙,更透過實務專題練習的方式,使學生可以應用課堂所學來完成一個Python軟體。</p>\n",
       "<p><a href=\"http://www.pycone.com/\">了解更多</a></p>\n",
       "</div>\n",
       "<footer class=\"footer\">\n",
       "<div class=\"container\">\n",
       "<p class=\"text-muted\">Pycone (c) 2017</p>\n",
       "</div>\n",
       "</footer>\n",
       "<!-- IE10 viewport hack for Surface/desktop Windows 8 bug -->\n",
       "<script src=\"http://getbootstrap.com/assets/js/ie10-viewport-bug-workaround.js\"></script>\n",
       "</body>\n",
       "</html>"
      ]
     },
     "execution_count": 4,
     "metadata": {},
     "output_type": "execute_result"
    }
   ],
   "source": [
    "url = \"https://jwlin.github.io/py-scraping-analysis-book/ch1/connect.html\"  # 設定網頁網址，此為測試網頁\n",
    "resp = requests.get(url)  # 模擬 get 請求\n",
    "print(resp.status_code)\n",
    "\n",
    "soup = BeautifulSoup(resp.text, \"html.parser\")  # 將網頁格式檔放入 bs4 樹\n",
    "soup  # 印出 dom 文件樹"
   ]
  },
  {
   "cell_type": "markdown",
   "metadata": {},
   "source": [
    "### requests with header"
   ]
  },
  {
   "cell_type": "code",
   "execution_count": 5,
   "metadata": {},
   "outputs": [
    {
     "name": "stdout",
     "output_type": "stream",
     "text": [
      "200\n"
     ]
    },
    {
     "data": {
      "text/plain": [
       "<!DOCTYPE html>\n",
       "\n",
       "<html lang=\"en\">\n",
       "<head>\n",
       "<meta charset=\"utf-8\"/>\n",
       "<meta content=\"IE=edge\" http-equiv=\"X-UA-Compatible\"/>\n",
       "<meta content=\"width=device-width, initial-scale=1\" name=\"viewport\"/>\n",
       "<!-- The above 3 meta tags *must* come first in the head; any other head content must come *after* these tags -->\n",
       "<meta content=\"\" name=\"description\"/>\n",
       "<meta content=\"\" name=\"author\"/>\n",
       "<title>Pycone 松果城市</title>\n",
       "<!-- Bootstrap core CSS -->\n",
       "<link href=\"bootstrap.min.css\" rel=\"stylesheet\"/>\n",
       "<!-- IE10 viewport hack for Surface/desktop Windows 8 bug -->\n",
       "<link href=\"https://getbootstrap.com/assets/css/ie10-viewport-bug-workaround.css\" rel=\"stylesheet\"/>\n",
       "<!-- Custom styles for this template -->\n",
       "<link href=\"https://getbootstrap.com/examples/sticky-footer/sticky-footer.css\" rel=\"stylesheet\"/>\n",
       "<!-- Just for debugging purposes. Don't actually copy these 2 lines! -->\n",
       "<!--[if lt IE 9]><script src=\"../../assets/js/ie8-responsive-file-warning.js\"></script><![endif]-->\n",
       "<script src=\"https://getbootstrap.com/assets/js/ie-emulation-modes-warning.js\"></script>\n",
       "<!-- HTML5 shim and Respond.js for IE8 support of HTML5 elements and media queries -->\n",
       "<!--[if lt IE 9]>\n",
       "      <script src=\"https://oss.maxcdn.com/html5shiv/3.7.3/html5shiv.min.js\"></script>\n",
       "      <script src=\"https://oss.maxcdn.com/respond/1.4.2/respond.min.js\"></script>\n",
       "    <![endif]-->\n",
       "</head>\n",
       "<body>\n",
       "<!-- Begin page content -->\n",
       "<div class=\"container\">\n",
       "<div class=\"page-header\">\n",
       "<h1>歡迎來到 Pycone 松果城市！</h1>\n",
       "</div>\n",
       "<p class=\"lead\">Python是非常強的的程式語言, 簡潔友好的語法特別容易上手, 又有許多第三方函式庫的支援。Python是完全物件導向的語言, 有益於減少程式碼的重複性。Python的設計哲學是優雅, 明確, 簡單。 Python的設計風格, 使其成為易讀, 易維護且具有廣泛用途的程式語言。Python的應用範圍相當廣泛, 例如web後端開發, 機器學習, 資料分析, 自然語言處理, 網頁爬蟲與遊戲等等。如果自己常常翻閱書籍卻無法掌握重點, 上網收集資料卻覺得太過片段, 想要自己動手寫寫看卻不知道如何開始。 這們課會從最基本的環境架設開始教起, 讓所有同學都可以深入淺出一窺Python的奧妙,更透過實務專題練習的方式,使學生可以應用課堂所學來完成一個Python軟體。</p>\n",
       "<p><a href=\"http://www.pycone.com/\">了解更多</a></p>\n",
       "</div>\n",
       "<footer class=\"footer\">\n",
       "<div class=\"container\">\n",
       "<p class=\"text-muted\">Pycone (c) 2017</p>\n",
       "</div>\n",
       "</footer>\n",
       "<!-- IE10 viewport hack for Surface/desktop Windows 8 bug -->\n",
       "<script src=\"http://getbootstrap.com/assets/js/ie10-viewport-bug-workaround.js\"></script>\n",
       "</body>\n",
       "</html>"
      ]
     },
     "execution_count": 5,
     "metadata": {},
     "output_type": "execute_result"
    }
   ],
   "source": [
    "url = \"https://jwlin.github.io/py-scraping-analysis-book/ch1/connect.html\"  # 設定網頁網址，此為測試網頁\n",
    "headers = {\n",
    "    \"User-Agent\": \"Mozilla/5.0 (Windows NT 10.0; Win64; x64) AppleWebKit/537.36 (KHTML, like Gecko) Chrome/91.0.4472.124 Safari/537.36\"\n",
    "}\n",
    "resp = requests.get(url, headers)  # 模擬 get 請求\n",
    "print(resp.status_code)\n",
    "soup = BeautifulSoup(resp.text, \"html.parser\")  # 將網頁格式檔放入 bs4 樹\n",
    "soup # 印出 dom 文件樹"
   ]
  },
  {
   "cell_type": "markdown",
   "metadata": {},
   "source": [
    "### Practice 1\n",
    "\n",
    "用 requests 抓網頁 (ptt stock 版)，並印出 DOM 文件樹，不要有 header，印出 response code，並判斷是否連線成功。連線成功才印出 DOM 文件樹，否則則印出 \"連線失敗\"。"
   ]
  },
  {
   "cell_type": "code",
   "execution_count": 6,
   "metadata": {},
   "outputs": [
    {
     "name": "stdout",
     "output_type": "stream",
     "text": [
      "Status code: 200\n",
      "Connection successful\n",
      "<!DOCTYPE html>\n",
      "<html>\n",
      " <head>\n",
      "  <meta charset=\"utf-8\"/>\n",
      "  <meta content=\"width=device-width, initial-scale=1\" name=\"viewport\"/>\n",
      "  <title>\n",
      "   看板 Stock 文章列表 - 批踢踢實業坊\n",
      "  </title>\n",
      "  <link href=\"//images.ptt.cc/bbs/v2.27/bbs-common.css\" rel=\"stylesheet\" type=\"text/css\"/>\n",
      "  <link href=\"//images.ptt.cc/bbs/v2.27/bbs-base.css\" media=\"screen\" rel=\"stylesheet\" type=\"text/css\"/>\n",
      "  <link href=\"//images.ptt.cc/bbs/v2.27/bbs-custom.css\" rel=\"stylesheet\" type=\"text/css\"/>\n",
      "  <link href=\"//images.ptt.cc/bbs/v2.27/pushstream.css\" media=\"screen\" rel=\"stylesheet\" type=\"text/css\"/>\n",
      "  <link href=\"//images.ptt.cc/bbs/v2.27/bbs-print.css\" media=\"print\" rel=\"stylesheet\" type=\"text/css\"/>\n",
      " </head>\n",
      " <body>\n",
      "  <div id=\"topbar-container\">\n",
      "   <div class=\"bbs-content\" id=\"topbar\">\n",
      "    <a href=\"/bbs/\" id=\"logo\">\n",
      "     批踢踢實業坊\n",
      "    </a>\n",
      "    <span>\n",
      "     ›\n",
      "    </span>\n",
      "    <a class=\"board\" href=\"/bbs/Stock/index.html\">\n",
      "     <span class=\"board-label\">\n",
      "      看板\n",
      "     </span>\n",
      "     Stock\n",
      "    </a>\n",
      "    <a class=\"right small\" href=\"/about.html\">\n",
      "     關於我們\n",
      "    </a>\n",
      "    <a class=\"right small\" href=\"/contact.html\">\n",
      "     聯絡資訊\n",
      "    </a>\n",
      "   </div>\n",
      "  </div>\n",
      "  <div id=\"main-container\">\n",
      "   <div id=\"action-bar-container\">\n",
      "    <div class=\"action-bar\">\n",
      "     <div class=\"btn-group btn-group-dir\">\n",
      "      <a class=\"btn selected\" href=\"/bbs/Stock/index.html\">\n",
      "       看板\n",
      "      </a>\n",
      "      <a class=\"btn\" href=\"/man/Stock/index.html\">\n",
      "       精華區\n",
      "      </a>\n",
      "     </div>\n",
      "     <div class=\"btn-group btn-group-paging\">\n",
      "      <a class=\"btn wide\" href=\"/bbs/Stock/index1.html\">\n",
      "       最舊\n",
      "      </a>\n",
      "      <a class=\"btn wide\" href=\"/bbs/Stock/index8498.html\">\n",
      "       ‹ 上頁\n",
      "      </a>\n",
      "      <a class=\"btn wide disabled\">\n",
      "       下頁 ›\n",
      "      </a>\n",
      "      <a class=\"btn wide\" href=\"/bbs/Stock/index.html\">\n",
      "       最新\n",
      "      </a>\n",
      "     </div>\n",
      "    </div>\n",
      "   </div>\n",
      "   <div class=\"r-list-container action-bar-margin bbs-screen\">\n",
      "    <div class=\"search-bar\">\n",
      "     <form action=\"search\" id=\"search-bar\" type=\"get\">\n",
      "      <input class=\"query\" name=\"q\" placeholder=\"搜尋文章⋯\" type=\"text\" value=\"\"/>\n",
      "     </form>\n",
      "    </div>\n",
      "    <div class=\"r-ent\">\n",
      "     <div class=\"nrec\">\n",
      "      <span class=\"hl f3\">\n",
      "       70\n",
      "      </span>\n",
      "     </div>\n",
      "     <div class=\"title\">\n",
      "      <a href=\"/bbs/Stock/M.1742795217.A.7C6.html\">\n",
      "       [新聞] 今年通膨又要破二了？主計長：調漲電價\n",
      "      </a>\n",
      "     </div>\n",
      "     <div class=\"meta\">\n",
      "      <div class=\"author\">\n",
      "       ChanHoPark\n",
      "      </div>\n",
      "      <div class=\"article-menu\">\n",
      "       <div class=\"trigger\">\n",
      "        ⋯\n",
      "       </div>\n",
      "       <div class=\"dropdown\">\n",
      "        <div class=\"item\">\n",
      "         <a href=\"/bbs/Stock/search?q=thread%3A%5B%E6%96%B0%E8%81%9E%5D+%E4%BB%8A%E5%B9%B4%E9%80%9A%E8%86%A8%E5%8F%88%E8%A6%81%E7%A0%B4%E4%BA%8C%E4%BA%86%EF%BC%9F%E4%B8%BB%E8%A8%88%E9%95%B7%EF%BC%9A%E8%AA%BF%E6%BC%B2%E9%9B%BB%E5%83%B9+\">\n",
      "          搜尋同標題文章\n",
      "         </a>\n",
      "        </div>\n",
      "        <div class=\"item\">\n",
      "         <a href=\"/bbs/Stock/search?q=author%3AChanHoPark\">\n",
      "          搜尋看板內 ChanHoPark 的文章\n",
      "         </a>\n",
      "        </div>\n",
      "       </div>\n",
      "      </div>\n",
      "      <div class=\"date\">\n",
      "       3/24\n",
      "      </div>\n",
      "      <div class=\"mark\">\n",
      "      </div>\n",
      "     </div>\n",
      "    </div>\n",
      "    <div class=\"r-ent\">\n",
      "     <div class=\"nrec\">\n",
      "      <span class=\"hl f3\">\n",
      "       39\n",
      "      </span>\n",
      "     </div>\n",
      "     <div class=\"title\">\n",
      "      <a href=\"/bbs/Stock/M.1742796008.A.EFB.html\">\n",
      "       [閒聊] 2025/03/24 盤後閒聊\n",
      "      </a>\n",
      "     </div>\n",
      "     <div class=\"meta\">\n",
      "      <div class=\"author\">\n",
      "       laptic\n",
      "      </div>\n",
      "      <div class=\"article-menu\">\n",
      "       <div class=\"trigger\">\n",
      "        ⋯\n",
      "       </div>\n",
      "       <div class=\"dropdown\">\n",
      "        <div class=\"item\">\n",
      "         <a href=\"/bbs/Stock/search?q=thread%3A%5B%E9%96%92%E8%81%8A%5D+2025%2F03%2F24+%E7%9B%A4%E5%BE%8C%E9%96%92%E8%81%8A\">\n",
      "          搜尋同標題文章\n",
      "         </a>\n",
      "        </div>\n",
      "        <div class=\"item\">\n",
      "         <a href=\"/bbs/Stock/search?q=author%3Alaptic\">\n",
      "          搜尋看板內 laptic 的文章\n",
      "         </a>\n",
      "        </div>\n",
      "       </div>\n",
      "      </div>\n",
      "      <div class=\"date\">\n",
      "       3/24\n",
      "      </div>\n",
      "      <div class=\"mark\">\n",
      "       M\n",
      "      </div>\n",
      "     </div>\n",
      "    </div>\n",
      "    <div class=\"r-ent\">\n",
      "     <div class=\"nrec\">\n",
      "      <span class=\"hl f2\">\n",
      "       5\n",
      "      </span>\n",
      "     </div>\n",
      "     <div class=\"title\">\n",
      "      <a href=\"/bbs/Stock/M.1742796633.A.6F1.html\">\n",
      "       [新聞] 個股：台積電(2330)嘉義CoWoS廠傳第三季\n",
      "      </a>\n",
      "     </div>\n",
      "     <div class=\"meta\">\n",
      "      <div class=\"author\">\n",
      "       longman12579\n",
      "      </div>\n",
      "      <div class=\"article-menu\">\n",
      "       <div class=\"trigger\">\n",
      "        ⋯\n",
      "       </div>\n",
      "       <div class=\"dropdown\">\n",
      "        <div class=\"item\">\n",
      "         <a href=\"/bbs/Stock/search?q=thread%3A%5B%E6%96%B0%E8%81%9E%5D+%E5%80%8B%E8%82%A1%EF%BC%9A%E5%8F%B0%E7%A9%8D%E9%9B%BB%282330%29%E5%98%89%E7%BE%A9CoWoS%E5%BB%A0%E5%82%B3%E7%AC%AC%E4%B8%89%E5%AD%A3\">\n",
      "          搜尋同標題文章\n",
      "         </a>\n",
      "        </div>\n",
      "        <div class=\"item\">\n",
      "         <a href=\"/bbs/Stock/search?q=author%3Alongman12579\">\n",
      "          搜尋看板內 longman12579 的文章\n",
      "         </a>\n",
      "        </div>\n",
      "       </div>\n",
      "      </div>\n",
      "      <div class=\"date\">\n",
      "       3/24\n",
      "      </div>\n",
      "      <div class=\"mark\">\n",
      "      </div>\n",
      "     </div>\n",
      "    </div>\n",
      "    <div class=\"r-ent\">\n",
      "     <div class=\"nrec\">\n",
      "      <span class=\"hl f3\">\n",
      "       10\n",
      "      </span>\n",
      "     </div>\n",
      "     <div class=\"title\">\n",
      "      <a href=\"/bbs/Stock/M.1742797729.A.D48.html\">\n",
      "       Re: [新聞] 今年通膨又要破二了？主計長：調漲電價\n",
      "      </a>\n",
      "     </div>\n",
      "     <div class=\"meta\">\n",
      "      <div class=\"author\">\n",
      "       howzming\n",
      "      </div>\n",
      "      <div class=\"article-menu\">\n",
      "       <div class=\"trigger\">\n",
      "        ⋯\n",
      "       </div>\n",
      "       <div class=\"dropdown\">\n",
      "        <div class=\"item\">\n",
      "         <a href=\"/bbs/Stock/search?q=thread%3A%5B%E6%96%B0%E8%81%9E%5D+%E4%BB%8A%E5%B9%B4%E9%80%9A%E8%86%A8%E5%8F%88%E8%A6%81%E7%A0%B4%E4%BA%8C%E4%BA%86%EF%BC%9F%E4%B8%BB%E8%A8%88%E9%95%B7%EF%BC%9A%E8%AA%BF%E6%BC%B2%E9%9B%BB%E5%83%B9+\">\n",
      "          搜尋同標題文章\n",
      "         </a>\n",
      "        </div>\n",
      "        <div class=\"item\">\n",
      "         <a href=\"/bbs/Stock/search?q=author%3Ahowzming\">\n",
      "          搜尋看板內 howzming 的文章\n",
      "         </a>\n",
      "        </div>\n",
      "       </div>\n",
      "      </div>\n",
      "      <div class=\"date\">\n",
      "       3/24\n",
      "      </div>\n",
      "      <div class=\"mark\">\n",
      "      </div>\n",
      "     </div>\n",
      "    </div>\n",
      "    <div class=\"r-ent\">\n",
      "     <div class=\"nrec\">\n",
      "      <span class=\"hl f3\">\n",
      "       18\n",
      "      </span>\n",
      "     </div>\n",
      "     <div class=\"title\">\n",
      "      <a href=\"/bbs/Stock/M.1742798040.A.DB7.html\">\n",
      "       Re: [請益] 清流君不建議重壓00757\n",
      "      </a>\n",
      "     </div>\n",
      "     <div class=\"meta\">\n",
      "      <div class=\"author\">\n",
      "       LDPC\n",
      "      </div>\n",
      "      <div class=\"article-menu\">\n",
      "       <div class=\"trigger\">\n",
      "        ⋯\n",
      "       </div>\n",
      "       <div class=\"dropdown\">\n",
      "        <div class=\"item\">\n",
      "         <a href=\"/bbs/Stock/search?q=thread%3A%5B%E8%AB%8B%E7%9B%8A%5D+%E6%B8%85%E6%B5%81%E5%90%9B%E4%B8%8D%E5%BB%BA%E8%AD%B0%E9%87%8D%E5%A3%9300757\">\n",
      "          搜尋同標題文章\n",
      "         </a>\n",
      "        </div>\n",
      "        <div class=\"item\">\n",
      "         <a href=\"/bbs/Stock/search?q=author%3ALDPC\">\n",
      "          搜尋看板內 LDPC 的文章\n",
      "         </a>\n",
      "        </div>\n",
      "       </div>\n",
      "      </div>\n",
      "      <div class=\"date\">\n",
      "       3/24\n",
      "      </div>\n",
      "      <div class=\"mark\">\n",
      "      </div>\n",
      "     </div>\n",
      "    </div>\n",
      "    <div class=\"r-ent\">\n",
      "     <div class=\"nrec\">\n",
      "      <span class=\"hl f2\">\n",
      "       7\n",
      "      </span>\n",
      "     </div>\n",
      "     <div class=\"title\">\n",
      "      <a href=\"/bbs/Stock/M.1742799484.A.F03.html\">\n",
      "       [情報] 0324 上市投信買賣超排行\n",
      "      </a>\n",
      "     </div>\n",
      "     <div class=\"meta\">\n",
      "      <div class=\"author\">\n",
      "       saber50116\n",
      "      </div>\n",
      "      <div class=\"article-menu\">\n",
      "       <div class=\"trigger\">\n",
      "        ⋯\n",
      "       </div>\n",
      "       <div class=\"dropdown\">\n",
      "        <div class=\"item\">\n",
      "         <a href=\"/bbs/Stock/search?q=thread%3A%5B%E6%83%85%E5%A0%B1%5D+0324+%E4%B8%8A%E5%B8%82%E6%8A%95%E4%BF%A1%E8%B2%B7%E8%B3%A3%E8%B6%85%E6%8E%92%E8%A1%8C\">\n",
      "          搜尋同標題文章\n",
      "         </a>\n",
      "        </div>\n",
      "        <div class=\"item\">\n",
      "         <a href=\"/bbs/Stock/search?q=author%3Asaber50116\">\n",
      "          搜尋看板內 saber50116 的文章\n",
      "         </a>\n",
      "        </div>\n",
      "       </div>\n",
      "      </div>\n",
      "      <div class=\"date\">\n",
      "       3/24\n",
      "      </div>\n",
      "      <div class=\"mark\">\n",
      "      </div>\n",
      "     </div>\n",
      "    </div>\n",
      "    <div class=\"r-ent\">\n",
      "     <div class=\"nrec\">\n",
      "      <span class=\"hl f2\">\n",
      "       4\n",
      "      </span>\n",
      "     </div>\n",
      "     <div class=\"title\">\n",
      "      <a href=\"/bbs/Stock/M.1742799806.A.8F9.html\">\n",
      "       [情報] 1215 卜蜂 113年股利 4.5 除息日 5/28\n",
      "      </a>\n",
      "     </div>\n",
      "     <div class=\"meta\">\n",
      "      <div class=\"author\">\n",
      "       q1a1\n",
      "      </div>\n",
      "      <div class=\"article-menu\">\n",
      "       <div class=\"trigger\">\n",
      "        ⋯\n",
      "       </div>\n",
      "       <div class=\"dropdown\">\n",
      "        <div class=\"item\">\n",
      "         <a href=\"/bbs/Stock/search?q=thread%3A%5B%E6%83%85%E5%A0%B1%5D+1215+%E5%8D%9C%E8%9C%82+113%E5%B9%B4%E8%82%A1%E5%88%A9+4.5+%E9%99%A4%E6%81%AF%E6%97%A5+5%2F28\">\n",
      "          搜尋同標題文章\n",
      "         </a>\n",
      "        </div>\n",
      "        <div class=\"item\">\n",
      "         <a href=\"/bbs/Stock/search?q=author%3Aq1a1\">\n",
      "          搜尋看板內 q1a1 的文章\n",
      "         </a>\n",
      "        </div>\n",
      "       </div>\n",
      "      </div>\n",
      "      <div class=\"date\">\n",
      "       3/24\n",
      "      </div>\n",
      "      <div class=\"mark\">\n",
      "      </div>\n",
      "     </div>\n",
      "    </div>\n",
      "    <div class=\"r-ent\">\n",
      "     <div class=\"nrec\">\n",
      "      <span class=\"hl f2\">\n",
      "       8\n",
      "      </span>\n",
      "     </div>\n",
      "     <div class=\"title\">\n",
      "      <a href=\"/bbs/Stock/M.1742800414.A.293.html\">\n",
      "       [情報] 114年03月24日 三大法人買賣金額統計表\n",
      "      </a>\n",
      "     </div>\n",
      "     <div class=\"meta\">\n",
      "      <div class=\"author\">\n",
      "       coconing\n",
      "      </div>\n",
      "      <div class=\"article-menu\">\n",
      "       <div class=\"trigger\">\n",
      "        ⋯\n",
      "       </div>\n",
      "       <div class=\"dropdown\">\n",
      "        <div class=\"item\">\n",
      "         <a href=\"/bbs/Stock/search?q=thread%3A%5B%E6%83%85%E5%A0%B1%5D+114%E5%B9%B403%E6%9C%8824%E6%97%A5+%E4%B8%89%E5%A4%A7%E6%B3%95%E4%BA%BA%E8%B2%B7%E8%B3%A3%E9%87%91%E9%A1%8D%E7%B5%B1%E8%A8%88%E8%A1%A8\">\n",
      "          搜尋同標題文章\n",
      "         </a>\n",
      "        </div>\n",
      "        <div class=\"item\">\n",
      "         <a href=\"/bbs/Stock/search?q=author%3Acoconing\">\n",
      "          搜尋看板內 coconing 的文章\n",
      "         </a>\n",
      "        </div>\n",
      "       </div>\n",
      "      </div>\n",
      "      <div class=\"date\">\n",
      "       3/24\n",
      "      </div>\n",
      "      <div class=\"mark\">\n",
      "      </div>\n",
      "     </div>\n",
      "    </div>\n",
      "    <div class=\"r-list-sep\">\n",
      "    </div>\n",
      "    <div class=\"r-ent\">\n",
      "     <div class=\"nrec\">\n",
      "     </div>\n",
      "     <div class=\"title\">\n",
      "      <a href=\"/bbs/Stock/M.1719872231.A.9BA.html\">\n",
      "       [公告] 股票板板規 v4.7 (2024/10/06 修正)\n",
      "      </a>\n",
      "     </div>\n",
      "     <div class=\"meta\">\n",
      "      <div class=\"author\">\n",
      "       rayccccc\n",
      "      </div>\n",
      "      <div class=\"article-menu\">\n",
      "       <div class=\"trigger\">\n",
      "        ⋯\n",
      "       </div>\n",
      "       <div class=\"dropdown\">\n",
      "        <div class=\"item\">\n",
      "         <a href=\"/bbs/Stock/search?q=thread%3A%5B%E5%85%AC%E5%91%8A%5D+%E8%82%A1%E7%A5%A8%E6%9D%BF%E6%9D%BF%E8%A6%8F+v4.7+%282024%2F10%2F06+%E4%BF%AE%E6%AD%A3%29\">\n",
      "          搜尋同標題文章\n",
      "         </a>\n",
      "        </div>\n",
      "        <div class=\"item\">\n",
      "         <a href=\"/bbs/Stock/search?q=author%3Arayccccc\">\n",
      "          搜尋看板內 rayccccc 的文章\n",
      "         </a>\n",
      "        </div>\n",
      "       </div>\n",
      "      </div>\n",
      "      <div class=\"date\">\n",
      "       7/02\n",
      "      </div>\n",
      "      <div class=\"mark\">\n",
      "       !\n",
      "      </div>\n",
      "     </div>\n",
      "    </div>\n",
      "    <div class=\"r-ent\">\n",
      "     <div class=\"nrec\">\n",
      "      <span class=\"hl f1\">\n",
      "       爆\n",
      "      </span>\n",
      "     </div>\n",
      "     <div class=\"title\">\n",
      "      <a href=\"/bbs/Stock/M.1730738309.A.238.html\">\n",
      "       Fw: [公告] 請留意新註冊帳號使用信件詐騙\n",
      "      </a>\n",
      "     </div>\n",
      "     <div class=\"meta\">\n",
      "      <div class=\"author\">\n",
      "       rayccccc\n",
      "      </div>\n",
      "      <div class=\"article-menu\">\n",
      "       <div class=\"trigger\">\n",
      "        ⋯\n",
      "       </div>\n",
      "       <div class=\"dropdown\">\n",
      "        <div class=\"item\">\n",
      "         <a href=\"/bbs/Stock/search?q=thread%3A%5B%E5%85%AC%E5%91%8A%5D+%E8%AB%8B%E7%95%99%E6%84%8F%E6%96%B0%E8%A8%BB%E5%86%8A%E5%B8%B3%E8%99%9F%E4%BD%BF%E7%94%A8%E4%BF%A1%E4%BB%B6%E8%A9%90%E9%A8%99\">\n",
      "          搜尋同標題文章\n",
      "         </a>\n",
      "        </div>\n",
      "        <div class=\"item\">\n",
      "         <a href=\"/bbs/Stock/search?q=author%3Arayccccc\">\n",
      "          搜尋看板內 rayccccc 的文章\n",
      "         </a>\n",
      "        </div>\n",
      "       </div>\n",
      "      </div>\n",
      "      <div class=\"date\">\n",
      "       11/05\n",
      "      </div>\n",
      "      <div class=\"mark\">\n",
      "       !\n",
      "      </div>\n",
      "     </div>\n",
      "    </div>\n",
      "    <div class=\"r-ent\">\n",
      "     <div class=\"nrec\">\n",
      "      <span class=\"hl f2\">\n",
      "       9\n",
      "      </span>\n",
      "     </div>\n",
      "     <div class=\"title\">\n",
      "      <a href=\"/bbs/Stock/M.1739730011.A.267.html\">\n",
      "       [公告] 4-6-1的初犯罰則在三個月內將加重至30天\n",
      "      </a>\n",
      "     </div>\n",
      "     <div class=\"meta\">\n",
      "      <div class=\"author\">\n",
      "       Paul1021\n",
      "      </div>\n",
      "      <div class=\"article-menu\">\n",
      "       <div class=\"trigger\">\n",
      "        ⋯\n",
      "       </div>\n",
      "       <div class=\"dropdown\">\n",
      "        <div class=\"item\">\n",
      "         <a href=\"/bbs/Stock/search?q=thread%3A%5B%E5%85%AC%E5%91%8A%5D+4-6-1%E7%9A%84%E5%88%9D%E7%8A%AF%E7%BD%B0%E5%89%87%E5%9C%A8%E4%B8%89%E5%80%8B%E6%9C%88%E5%85%A7%E5%B0%87%E5%8A%A0%E9%87%8D%E8%87%B330%E5%A4%A9\">\n",
      "          搜尋同標題文章\n",
      "         </a>\n",
      "        </div>\n",
      "        <div class=\"item\">\n",
      "         <a href=\"/bbs/Stock/search?q=author%3APaul1021\">\n",
      "          搜尋看板內 Paul1021 的文章\n",
      "         </a>\n",
      "        </div>\n",
      "       </div>\n",
      "      </div>\n",
      "      <div class=\"date\">\n",
      "       2/17\n",
      "      </div>\n",
      "      <div class=\"mark\">\n",
      "       !\n",
      "      </div>\n",
      "     </div>\n",
      "    </div>\n",
      "    <div class=\"r-ent\">\n",
      "     <div class=\"nrec\">\n",
      "      <span class=\"hl f1\">\n",
      "       爆\n",
      "      </span>\n",
      "     </div>\n",
      "     <div class=\"title\">\n",
      "      <a href=\"/bbs/Stock/M.1742796008.A.EFB.html\">\n",
      "       [閒聊] 2025/03/24 盤後閒聊\n",
      "      </a>\n",
      "     </div>\n",
      "     <div class=\"meta\">\n",
      "      <div class=\"author\">\n",
      "       laptic\n",
      "      </div>\n",
      "      <div class=\"article-menu\">\n",
      "       <div class=\"trigger\">\n",
      "        ⋯\n",
      "       </div>\n",
      "       <div class=\"dropdown\">\n",
      "        <div class=\"item\">\n",
      "         <a href=\"/bbs/Stock/search?q=thread%3A%5B%E9%96%92%E8%81%8A%5D+2025%2F03%2F24+%E7%9B%A4%E5%BE%8C%E9%96%92%E8%81%8A\">\n",
      "          搜尋同標題文章\n",
      "         </a>\n",
      "        </div>\n",
      "        <div class=\"item\">\n",
      "         <a href=\"/bbs/Stock/search?q=author%3Alaptic\">\n",
      "          搜尋看板內 laptic 的文章\n",
      "         </a>\n",
      "        </div>\n",
      "       </div>\n",
      "      </div>\n",
      "      <div class=\"date\">\n",
      "       3/24\n",
      "      </div>\n",
      "      <div class=\"mark\">\n",
      "      </div>\n",
      "     </div>\n",
      "    </div>\n",
      "   </div>\n",
      "  </div>\n",
      "  <script async=\"\" src=\"https://www.googletagmanager.com/gtag/js?id=G-DZ6Y3BY9GW\">\n",
      "  </script>\n",
      "  <script>\n",
      "   window.dataLayer = window.dataLayer || [];\n",
      "      function gtag(){dataLayer.push(arguments);}\n",
      "      gtag('js', new Date());\n",
      "\n",
      "      gtag('config', 'G-DZ6Y3BY9GW');\n",
      "  </script>\n",
      "  <script>\n",
      "   (function(i,s,o,g,r,a,m){i['GoogleAnalyticsObject']=r;i[r]=i[r]||function(){\n",
      "  (i[r].q=i[r].q||[]).push(arguments)},i[r].l=1*new Date();a=s.createElement(o),\n",
      "  m=s.getElementsByTagName(o)[0];a.async=1;a.src=g;m.parentNode.insertBefore(a,m)\n",
      "  })(window,document,'script','https://www.google-analytics.com/analytics.js','ga');\n",
      "\n",
      "  ga('create', 'UA-32365737-1', {\n",
      "    cookieDomain: 'ptt.cc',\n",
      "    legacyCookieDomain: 'ptt.cc'\n",
      "  });\n",
      "  ga('send', 'pageview');\n",
      "  </script>\n",
      "  <script src=\"//ajax.googleapis.com/ajax/libs/jquery/2.1.1/jquery.min.js\">\n",
      "  </script>\n",
      "  <script src=\"//images.ptt.cc/bbs/v2.27/bbs.js\">\n",
      "  </script>\n",
      "  <script>\n",
      "   (function(){function c(){var b=a.contentDocument||a.contentWindow.document;if(b){var d=b.createElement('script');d.innerHTML=\"window.__CF$cv$params={r:'925462d6c9bfcba8',t:'MTc0MjgwMDYxOC4wMDAwMDA='};var a=document.createElement('script');a.nonce='';a.src='/cdn-cgi/challenge-platform/scripts/jsd/main.js';document.getElementsByTagName('head')[0].appendChild(a);\";b.getElementsByTagName('head')[0].appendChild(d)}}if(document.body){var a=document.createElement('iframe');a.height=1;a.width=1;a.style.position='absolute';a.style.top=0;a.style.left=0;a.style.border='none';a.style.visibility='hidden';document.body.appendChild(a);if('loading'!==document.readyState)c();else if(window.addEventListener)document.addEventListener('DOMContentLoaded',c);else{var e=document.onreadystatechange||function(){};document.onreadystatechange=function(b){e(b);'loading'!==document.readyState&&(document.onreadystatechange=e,c())}}}})();\n",
      "  </script>\n",
      " </body>\n",
      "</html>\n",
      "\n"
     ]
    }
   ],
   "source": [
    "url = \"https://www.ptt.cc/bbs/stock/index.html\"\n",
    "\n",
    "resp = requests.get(url)\n",
    "print(\"Status code:\", resp.status_code)\n",
    "\n",
    "if resp.status_code == 200:\n",
    "    print(\"Connection successful\")\n",
    "    soup = BeautifulSoup(resp.text, \"html.parser\")\n",
    "    print(soup.prettify())\n",
    "else:\n",
    "    print(\"連線失敗\")\n"
   ]
  },
  {
   "cell_type": "markdown",
   "metadata": {},
   "source": [
    "### Practice 2\n",
    "\n",
    "問題：用 requests 抓網頁 (dcard 版) 並印出 DOM 文件樹，要 header: User-Agent，印出 response code，並判斷是否連線成功。連線成功才印出 DOM 文件樹，否則則印出 \"連線失敗\"。"
   ]
  },
  {
   "cell_type": "code",
   "execution_count": 7,
   "metadata": {},
   "outputs": [
    {
     "name": "stdout",
     "output_type": "stream",
     "text": [
      "Status code: 403\n",
      "連線失敗\n"
     ]
    }
   ],
   "source": [
    "url = \"https://www.dcard.tw/f/relationship\" # Dcard 感情版網址\n",
    "ua = \"Mozilla/5.0 (Macintosh; Intel Mac OS X 10_15_7) AppleWebKit/537.36 (KHTML, like Gecko) Chrome/134.0.0.0 Safari/537.36\"\n",
    "\n",
    "resp = requests.get(url, headers={\n",
    "    \"User-Agent\": ua\n",
    "})\n",
    "print(\"Status code:\", resp.status_code)\n",
    "\n",
    "if resp.status_code == 200:\n",
    "    print(\"Connection successful\")\n",
    "    soup = BeautifulSoup(resp.text, \"html.parser\")\n",
    "    print(soup)\n",
    "else:\n",
    "    print(\"連線失敗\")\n"
   ]
  },
  {
   "cell_type": "markdown",
   "metadata": {},
   "source": [
    "## BeautifulSoup - 使用"
   ]
  },
  {
   "cell_type": "code",
   "execution_count": 8,
   "metadata": {},
   "outputs": [],
   "source": [
    "from bs4 import Tag"
   ]
  },
  {
   "cell_type": "code",
   "execution_count": 9,
   "metadata": {},
   "outputs": [],
   "source": [
    "url = \"http://jwlin.github.io/py-scraping-analysis-book/ch2/blog/blog.html\"  # 設定網頁網址\n",
    "resp = requests.get(url)  # 模擬get請求\n",
    "soup = BeautifulSoup(resp.text, \"html.parser\")"
   ]
  },
  {
   "cell_type": "markdown",
   "metadata": {},
   "source": [
    "### 取得第一篇 blog 主標題HTML結構 (h4)"
   ]
  },
  {
   "cell_type": "code",
   "execution_count": 10,
   "metadata": {},
   "outputs": [
    {
     "data": {
      "text/plain": [
       "<h4 class=\"card-title\">\n",
       "<a href=\"http://www.pycone.com/blogs#pablo\">Mac使用者</a>\n",
       "</h4>"
      ]
     },
     "execution_count": 10,
     "metadata": {},
     "output_type": "execute_result"
    }
   ],
   "source": [
    "soup.find('h4')"
   ]
  },
  {
   "cell_type": "code",
   "execution_count": 11,
   "metadata": {},
   "outputs": [
    {
     "data": {
      "text/plain": [
       "<h4 class=\"card-title\">\n",
       "<a href=\"http://www.pycone.com/blogs#pablo\">Mac使用者</a>\n",
       "</h4>"
      ]
     },
     "execution_count": 11,
     "metadata": {},
     "output_type": "execute_result"
    }
   ],
   "source": [
    "soup.h4"
   ]
  },
  {
   "cell_type": "markdown",
   "metadata": {},
   "source": [
    "### 取得第一篇 blog 主標題"
   ]
  },
  {
   "cell_type": "code",
   "execution_count": 12,
   "metadata": {},
   "outputs": [
    {
     "data": {
      "text/plain": [
       "'Mac使用者'"
      ]
     },
     "execution_count": 12,
     "metadata": {},
     "output_type": "execute_result"
    }
   ],
   "source": [
    "def get_first_blog_title(soup: BeautifulSoup) -> str:\n",
    "    h4 = soup.find('h4')\n",
    "    assert h4 is not None\n",
    "    a = h4.find('a')\n",
    "    assert isinstance(a, Tag)\n",
    "    return a.text\n",
    "\n",
    "get_first_blog_title(soup)"
   ]
  },
  {
   "cell_type": "code",
   "execution_count": 13,
   "metadata": {},
   "outputs": [
    {
     "data": {
      "text/plain": [
       "'Mac使用者'"
      ]
     },
     "execution_count": 13,
     "metadata": {},
     "output_type": "execute_result"
    }
   ],
   "source": [
    "def get_first_blog_title_method_2(soup: BeautifulSoup) -> str:\n",
    "    h4 = soup.h4\n",
    "    assert h4 is not None\n",
    "    a = h4.a\n",
    "    assert isinstance(a, Tag)\n",
    "    return a.text\n",
    "\n",
    "get_first_blog_title(soup)"
   ]
  },
  {
   "cell_type": "markdown",
   "metadata": {},
   "source": [
    "### 取得所有 blog 主標題, 使用 tag"
   ]
  },
  {
   "cell_type": "code",
   "execution_count": 14,
   "metadata": {},
   "outputs": [
    {
     "data": {
      "text/plain": [
       "['Mac使用者',\n",
       " '給初學者的 Python 網頁爬蟲與資料分析',\n",
       " '給初學者的 Python 網頁爬蟲與資料分析',\n",
       " '給初學者的 Python 網頁爬蟲與資料分析',\n",
       " '給初學者的 Python 網頁爬蟲與資料分析',\n",
       " '給初學者的 Python 網頁爬蟲與資料分析']"
      ]
     },
     "execution_count": 14,
     "metadata": {},
     "output_type": "execute_result"
    }
   ],
   "source": [
    "def get_all_blog_titles(soup: BeautifulSoup) -> list[str]:\n",
    "    titles = soup.find_all('h4')\n",
    "    return [title.find('a').text for title in titles]\n",
    "\n",
    "get_all_blog_titles(soup)"
   ]
  },
  {
   "cell_type": "code",
   "execution_count": 15,
   "metadata": {},
   "outputs": [
    {
     "data": {
      "text/plain": [
       "['Mac使用者',\n",
       " '給初學者的 Python 網頁爬蟲與資料分析',\n",
       " '給初學者的 Python 網頁爬蟲與資料分析',\n",
       " '給初學者的 Python 網頁爬蟲與資料分析',\n",
       " '給初學者的 Python 網頁爬蟲與資料分析',\n",
       " '給初學者的 Python 網頁爬蟲與資料分析']"
      ]
     },
     "execution_count": 15,
     "metadata": {},
     "output_type": "execute_result"
    }
   ],
   "source": [
    "def get_all_blog_titles_method_2(soup: BeautifulSoup) -> list[str]:\n",
    "    titles = soup.find_all('h4')\n",
    "    return [title.a.text for title in titles]\n",
    "\n",
    "get_all_blog_titles(soup)"
   ]
  },
  {
   "cell_type": "markdown",
   "metadata": {},
   "source": [
    "### 取得各篇 blog 的所有文字"
   ]
  },
  {
   "cell_type": "code",
   "execution_count": 16,
   "metadata": {},
   "outputs": [
    {
     "data": {
      "text/plain": [
       "<div class=\"content\">\n",
       "<h6 class=\"category text-muted\">開發環境設定</h6>\n",
       "<h4 class=\"card-title\">\n",
       "<a href=\"http://www.pycone.com/blogs#pablo\">Mac使用者</a>\n",
       "</h4>\n",
       "<p class=\"card-description\" id=\"mac-p\">\n",
       "                                    在Mac環境下安裝Python與Sublime Text3<a data-foo=\"mac-foo\" href=\"http://www.pycone.com/blogs/mac-python-environment\"> <br/>Read More </a>\n",
       "</p>\n",
       "</div>"
      ]
     },
     "execution_count": 16,
     "metadata": {},
     "output_type": "execute_result"
    }
   ],
   "source": [
    "divs = soup.find_all(\"div\", class_=\"content\")\n",
    "divs[0]"
   ]
  },
  {
   "cell_type": "code",
   "execution_count": 17,
   "metadata": {},
   "outputs": [
    {
     "name": "stdout",
     "output_type": "stream",
     "text": [
      "開發環境設定 Mac使用者 在Mac環境下安裝Python與Sublime Text3 Read More\n",
      "資料科學 給初學者的 Python 網頁爬蟲與資料分析 (1) 前言 Read More\n",
      "資料科學 給初學者的 Python 網頁爬蟲與資料分析 (2) 套件安裝與啟動網頁爬蟲 Read More\n",
      "資料科學 給初學者的 Python 網頁爬蟲與資料分析 (3) 解構並擷取網頁資料 Read More\n",
      "資料科學 給初學者的 Python 網頁爬蟲與資料分析 (4) 擷取資料及下載圖片 Read More\n",
      "資料科學 給初學者的 Python 網頁爬蟲與資料分析 (5) 資料分析及展示 Read More\n"
     ]
    }
   ],
   "source": [
    "for div in divs:\n",
    "    print(div.h6.text.strip(), div.h4.a.text.strip(), div.p.text.strip())"
   ]
  },
  {
   "cell_type": "markdown",
   "metadata": {},
   "source": [
    "### 讀取以下網址，逐行輸出書名"
   ]
  },
  {
   "cell_type": "code",
   "execution_count": 18,
   "metadata": {},
   "outputs": [],
   "source": [
    "resp = requests.get(\n",
    "    \"http://jwlin.github.io/py-scraping-analysis-book/ch2/table/table.html\"\n",
    ")\n",
    "soup = BeautifulSoup(resp.text, \"html.parser\")"
   ]
  },
  {
   "cell_type": "code",
   "execution_count": 19,
   "metadata": {},
   "outputs": [
    {
     "data": {
      "text/plain": [
       "<tbody>\n",
       "<tr><td>初心者 - Python入門</td><td>初學者</td><td>1490</td><td><a href=\"http://www.pycone.com\"><img alt=\"python™\" class=\"python-logo\" src=\"img/python-logo.png\"/></a></td></tr>\n",
       "<tr><td>Python 網頁爬蟲入門實戰</td><td>有程式基礎的初學者</td><td>1890</td><td><a href=\"http://www.pycone.com\"><img alt=\"python™\" class=\"python-logo\" src=\"img/python-logo.png\"/></a></td></tr>\n",
       "<tr><td>Python 機器學習入門實戰 (預計)</td><td>有程式基礎的初學者</td><td>1890</td><td><a href=\"http://www.pycone.com\"><img alt=\"python™\" class=\"python-logo\" src=\"img/python-logo.png\"/></a></td></tr>\n",
       "<tr><td>Python 資料科學入門實戰 (預計)</td><td>有程式基礎的初學者</td><td>1890</td><td><a href=\"http://www.pycone.com\"><img alt=\"python™\" class=\"python-logo\" src=\"img/python-logo.png\"/></a></td></tr>\n",
       "<tr><td>Python 資料視覺化入門實戰 (預計)</td><td>有程式基礎的初學者</td><td>1890</td><td><a href=\"http://www.pycone.com\"><img alt=\"python™\" class=\"python-logo\" src=\"img/python-logo.png\"/></a></td></tr>\n",
       "<tr><td>Python 網站架設入門實戰 (預計)</td><td>有程式基礎的初學者</td><td>1890</td><td><a><img alt=\"python™\" class=\"python-logo\" src=\"img/python-logo.png\"/></a></td></tr>\n",
       "</tbody>"
      ]
     },
     "execution_count": 19,
     "metadata": {},
     "output_type": "execute_result"
    }
   ],
   "source": [
    "table_body = soup.tbody\n",
    "\n",
    "table_body"
   ]
  },
  {
   "cell_type": "code",
   "execution_count": 20,
   "metadata": {},
   "outputs": [
    {
     "data": {
      "text/plain": [
       "[<tr><td>初心者 - Python入門</td><td>初學者</td><td>1490</td><td><a href=\"http://www.pycone.com\"><img alt=\"python™\" class=\"python-logo\" src=\"img/python-logo.png\"/></a></td></tr>,\n",
       " <tr><td>Python 網頁爬蟲入門實戰</td><td>有程式基礎的初學者</td><td>1890</td><td><a href=\"http://www.pycone.com\"><img alt=\"python™\" class=\"python-logo\" src=\"img/python-logo.png\"/></a></td></tr>]"
      ]
     },
     "execution_count": 20,
     "metadata": {},
     "output_type": "execute_result"
    }
   ],
   "source": [
    "assert table_body is not None\n",
    "\n",
    "rows = table_body.find_all(\"tr\")\n",
    "rows[0:2]"
   ]
  },
  {
   "cell_type": "code",
   "execution_count": 21,
   "metadata": {},
   "outputs": [
    {
     "name": "stdout",
     "output_type": "stream",
     "text": [
      "初心者 - Python入門\n",
      "Python 網頁爬蟲入門實戰\n",
      "Python 機器學習入門實戰 (預計)\n",
      "Python 資料科學入門實戰 (預計)\n",
      "Python 資料視覺化入門實戰 (預計)\n",
      "Python 網站架設入門實戰 (預計)\n"
     ]
    }
   ],
   "source": [
    "# 第一種呈現書名的方法\n",
    "for row in rows:\n",
    "    td = row.find(\"td\").text\n",
    "    print(td)"
   ]
  },
  {
   "cell_type": "code",
   "execution_count": 22,
   "metadata": {},
   "outputs": [
    {
     "name": "stdout",
     "output_type": "stream",
     "text": [
      "初心者 - Python入門\n",
      "Python 網頁爬蟲入門實戰\n",
      "Python 機器學習入門實戰 (預計)\n",
      "Python 資料科學入門實戰 (預計)\n",
      "Python 資料視覺化入門實戰 (預計)\n",
      "Python 網站架設入門實戰 (預計)\n"
     ]
    }
   ],
   "source": [
    "# 第二種呈現書名的方法\n",
    "for row in rows:\n",
    "    tds = row.find_all(\"td\")[0].text\n",
    "    print(tds)"
   ]
  },
  {
   "cell_type": "markdown",
   "metadata": {},
   "source": [
    "### Question: 讀取以下網址，逐行輸出書名、售價，以及最後一行印出平均價格"
   ]
  },
  {
   "cell_type": "code",
   "execution_count": 23,
   "metadata": {},
   "outputs": [],
   "source": [
    "import pandas as pd"
   ]
  },
  {
   "cell_type": "code",
   "execution_count": 24,
   "metadata": {},
   "outputs": [],
   "source": [
    "resp = requests.get('http://jwlin.github.io/py-scraping-analysis-book/ch2/table/table.html')\n",
    "soup = BeautifulSoup(resp.text, 'html.parser')"
   ]
  },
  {
   "cell_type": "code",
   "execution_count": 25,
   "metadata": {},
   "outputs": [
    {
     "name": "stdout",
     "output_type": "stream",
     "text": [
      "書名: 初心者 - Python入門, 售價: 1490\n",
      "書名: Python 網頁爬蟲入門實戰, 售價: 1890\n",
      "書名: Python 機器學習入門實戰 (預計), 售價: 1890\n",
      "書名: Python 資料科學入門實戰 (預計), 售價: 1890\n",
      "書名: Python 資料視覺化入門實戰 (預計), 售價: 1890\n",
      "書名: Python 網站架設入門實戰 (預計), 售價: 1890\n"
     ]
    }
   ],
   "source": [
    "# get table\n",
    "table = soup.table\n",
    "assert table is not None\n",
    "\n",
    "# get table body\n",
    "table_body = table.tbody\n",
    "assert table_body is not None\n",
    "\n",
    "result: dict[str, list[str]] = {\n",
    "    \"書名\": [],\n",
    "    \"售價\": [],\n",
    "}\n",
    "\n",
    "# get rows\n",
    "rows = table_body.find_all('tr')\n",
    "for row in rows:\n",
    "    assert isinstance(row, Tag)\n",
    "\n",
    "    tds = row.find_all('td')\n",
    "    result[\"書名\"].append(tds[0].text)\n",
    "    result[\"售價\"].append(tds[2].text)\n",
    "\n",
    "result_df = pd.DataFrame(result)\n",
    "\n",
    "for _, row in result_df.iterrows():\n",
    "    print(f\"書名: {row['書名']}, 售價: {row['售價']}\")\n"
   ]
  },
  {
   "cell_type": "code",
   "execution_count": 26,
   "metadata": {},
   "outputs": [
    {
     "data": {
      "text/plain": [
       "np.float64(1823.3333333333333)"
      ]
     },
     "execution_count": 26,
     "metadata": {},
     "output_type": "execute_result"
    }
   ],
   "source": [
    "result_df[\"售價\"].astype(float).mean()"
   ]
  },
  {
   "cell_type": "markdown",
   "metadata": {},
   "source": [
    "## BeautifulSoup - PTT"
   ]
  },
  {
   "cell_type": "markdown",
   "metadata": {},
   "source": [
    "### 抓取 PTT 以下網址的標題"
   ]
  },
  {
   "cell_type": "code",
   "execution_count": 27,
   "metadata": {},
   "outputs": [
    {
     "data": {
      "text/plain": [
       "[<div class=\"title\">\n",
       " <a href=\"/bbs/Stock/M.1742795217.A.7C6.html\">[新聞] 今年通膨又要破二了？主計長：調漲電價 </a>\n",
       " </div>,\n",
       " <div class=\"title\">\n",
       " <a href=\"/bbs/Stock/M.1742796008.A.EFB.html\">[閒聊] 2025/03/24 盤後閒聊</a>\n",
       " </div>,\n",
       " <div class=\"title\">\n",
       " <a href=\"/bbs/Stock/M.1742796633.A.6F1.html\">[新聞] 個股：台積電(2330)嘉義CoWoS廠傳第三季</a>\n",
       " </div>,\n",
       " <div class=\"title\">\n",
       " <a href=\"/bbs/Stock/M.1742797729.A.D48.html\">Re: [新聞] 今年通膨又要破二了？主計長：調漲電價 </a>\n",
       " </div>,\n",
       " <div class=\"title\">\n",
       " <a href=\"/bbs/Stock/M.1742798040.A.DB7.html\">Re: [請益] 清流君不建議重壓00757</a>\n",
       " </div>,\n",
       " <div class=\"title\">\n",
       " <a href=\"/bbs/Stock/M.1742799484.A.F03.html\">[情報] 0324 上市投信買賣超排行</a>\n",
       " </div>,\n",
       " <div class=\"title\">\n",
       " <a href=\"/bbs/Stock/M.1742799806.A.8F9.html\">[情報] 1215 卜蜂 113年股利 4.5 除息日 5/28</a>\n",
       " </div>,\n",
       " <div class=\"title\">\n",
       " <a href=\"/bbs/Stock/M.1742800414.A.293.html\">[情報] 114年03月24日 三大法人買賣金額統計表</a>\n",
       " </div>,\n",
       " <div class=\"title\">\n",
       " <a href=\"/bbs/Stock/M.1742800566.A.8E5.html\">[新聞] 外資圈瘋傳台積電350億美元入股英特爾　</a>\n",
       " </div>,\n",
       " <div class=\"title\">\n",
       " <a href=\"/bbs/Stock/M.1719872231.A.9BA.html\">[公告] 股票板板規 v4.7 (2024/10/06 修正)</a>\n",
       " </div>,\n",
       " <div class=\"title\">\n",
       " <a href=\"/bbs/Stock/M.1730738309.A.238.html\">Fw: [公告] 請留意新註冊帳號使用信件詐騙</a>\n",
       " </div>,\n",
       " <div class=\"title\">\n",
       " <a href=\"/bbs/Stock/M.1739730011.A.267.html\">[公告] 4-6-1的初犯罰則在三個月內將加重至30天</a>\n",
       " </div>,\n",
       " <div class=\"title\">\n",
       " <a href=\"/bbs/Stock/M.1742796008.A.EFB.html\">[閒聊] 2025/03/24 盤後閒聊</a>\n",
       " </div>]"
      ]
     },
     "execution_count": 27,
     "metadata": {},
     "output_type": "execute_result"
    }
   ],
   "source": [
    "url = \"https://www.ptt.cc/bbs/stock/index.html\"\n",
    "response = requests.get(url)  # 模擬get請求\n",
    "soup = BeautifulSoup(response.text, \"html.parser\")\n",
    "\n",
    "# 取得文章標題\n",
    "tags = soup.find_all(\"div\", class_=\"title\")  # 搜尋class屬性是title的所有標籤\n",
    "tags"
   ]
  },
  {
   "cell_type": "code",
   "execution_count": 28,
   "metadata": {},
   "outputs": [
    {
     "name": "stdout",
     "output_type": "stream",
     "text": [
      "[新聞] 今年通膨又要破二了？主計長：調漲電價\n",
      "[閒聊] 2025/03/24 盤後閒聊\n",
      "[新聞] 個股：台積電(2330)嘉義CoWoS廠傳第三季\n",
      "Re: [新聞] 今年通膨又要破二了？主計長：調漲電價\n",
      "Re: [請益] 清流君不建議重壓00757\n",
      "[情報] 0324 上市投信買賣超排行\n",
      "[情報] 1215 卜蜂 113年股利 4.5 除息日 5/28\n",
      "[情報] 114年03月24日 三大法人買賣金額統計表\n",
      "[新聞] 外資圈瘋傳台積電350億美元入股英特爾\n",
      "[公告] 股票板板規 v4.7 (2024/10/06 修正)\n",
      "Fw: [公告] 請留意新註冊帳號使用信件詐騙\n",
      "[公告] 4-6-1的初犯罰則在三個月內將加重至30天\n",
      "[閒聊] 2025/03/24 盤後閒聊\n"
     ]
    }
   ],
   "source": [
    "for tag in tags:\n",
    "    print(tag.text.strip())  # 取得標籤文字"
   ]
  },
  {
   "cell_type": "markdown",
   "metadata": {},
   "source": [
    "### 問題：續上題， 抓取上題\"上一頁\"標題"
   ]
  },
  {
   "cell_type": "code",
   "execution_count": 29,
   "metadata": {},
   "outputs": [
    {
     "data": {
      "text/plain": [
       "'/bbs/Stock/index8498.html'"
      ]
     },
     "execution_count": 29,
     "metadata": {},
     "output_type": "execute_result"
    }
   ],
   "source": [
    "url = \"https://www.ptt.cc/bbs/stock/index.html\"\n",
    "response = requests.get(url)\n",
    "soup = BeautifulSoup(response.text, \"html.parser\")\n",
    "\n",
    "# 抓取 innerText 是 '‹ 上頁' 的元素\n",
    "prev_page_link = soup.find(lambda tag: tag.name == 'a' and tag.text == '‹ 上頁')\n",
    "assert prev_page_link is not None\n",
    "\n",
    "prev_page_path = prev_page_link.get('href')\n",
    "assert prev_page_path is not None\n",
    "\n",
    "prev_page_path"
   ]
  },
  {
   "cell_type": "code",
   "execution_count": 30,
   "metadata": {},
   "outputs": [
    {
     "name": "stdout",
     "output_type": "stream",
     "text": [
      "[情報] 華爾街大摩計畫裁員2000人以控制成本\n",
      "Re: [新聞] 馬斯克:特斯拉人形機器人Optimus今年試\n",
      "[新聞] 移民金卡計畫成功？ 美商務部長喜揭「買\n",
      "[心得] PVC 相關指數反彈，全球塑膠上漲\n",
      "Re: [標的] 長虹5534 屌打美債的物件 分享\n",
      "[新聞] 漲電價 雲豹能源大受惠？  郭智輝：這應該是不具影響力\n",
      "Re: [新聞] 移民金卡計畫成功？ 美商務部長喜揭\n",
      "Re: [標的] 6757台灣虎航-多\n",
      "Re: [標的] 長虹5534 二十一張更新未實現獲利\n",
      "Re: [新聞] 移民金卡計畫成功？ 美商務部長喜揭「買\n",
      "Re: [標的] 2610華航 空運很夯送錢多\n",
      "Re: [新聞] 馬斯克:特斯拉人形機器人Optimus今年試\n",
      "Re: [心得] 03月當沖心得-已畢業\n",
      "Re: [新聞] 馬斯克:特斯拉人形機器人Optimus今年試\n",
      "[情報] 1612 宏泰 113年股利2.1\n",
      "Re: [新聞] 馬斯克:特斯拉人形機器人Optimus今年試\n",
      "[新聞] 彭博：美對等關稅 目標明確\n",
      "[請益] 清流君不建議重壓00757\n",
      "[新聞] 台揚第6根跌停！天天「開盤即收盤」已狂4\n",
      "Re: [標的] 6757.TW 台灣虎航  插翅虎多\n"
     ]
    }
   ],
   "source": [
    "assert isinstance(prev_page_path, str)\n",
    "\n",
    "# 抓取上頁的標題\n",
    "response = requests.get(\"https://www.ptt.cc\" + prev_page_path)\n",
    "soup = BeautifulSoup(response.text, \"html.parser\")\n",
    "\n",
    "for tag in soup.find_all(\"div\", class_=\"title\"):\n",
    "    print(tag.text.strip())"
   ]
  },
  {
   "cell_type": "markdown",
   "metadata": {},
   "source": [
    "## 抓自由時報\"所有\"新聞標題"
   ]
  },
  {
   "cell_type": "code",
   "execution_count": 31,
   "metadata": {},
   "outputs": [],
   "source": [
    "url = \"https://www.ltn.com.tw/\"  # 設定網頁網址\n",
    "resp = requests.get(url)  # 模擬get請求\n",
    "soup = BeautifulSoup(resp.text, \"html.parser\")  # 將網頁格式檔放入bs4中"
   ]
  },
  {
   "cell_type": "code",
   "execution_count": 32,
   "metadata": {},
   "outputs": [
    {
     "data": {
      "text/plain": [
       "[<h3>\n",
       "                         解決水上運動與水上遊憩衝突 宜縣冬山河將劃設「慢車道」                                            </h3>,\n",
       " <h3>\n",
       "                         Tesla 爆發拋售潮！不認同馬斯克行為更擔心愛車遭攻擊                                            </h3>,\n",
       " <h3>\n",
       "                         嘉義縣國本學堂赴日交流 創新農業發展                                            </h3>,\n",
       " <h3>\n",
       "                         蔡學良母陳情 總統府：資料交國防部積極處理                                            </h3>,\n",
       " <h3>\n",
       "                         買塔位也能多元支付 苗縣苑裡鎮公所便民服務再升級                                            </h3>,\n",
       " <h3>\n",
       "                         挺台灣遭封殺一年無戲可拍 台派演員陳慕義挺台立場不變                                            </h3>,\n",
       " <h3>\n",
       "                         健康網》小小一粒卻超高纖！ 醫列1食物順「便」好護腸                                            </h3>,\n",
       " <h3>\n",
       "                         5月COMPUTEX登場 輝達黃仁勳、高通艾蒙擔任Keynote講者                                            </h3>,\n",
       " <h3>\n",
       "                         東京櫻花開了！ 氣象廳正式宣布開花 比去年早5天                                            </h3>,\n",
       " <h3>\n",
       "                         自由開講》武統台灣說 「公政公約」言論自由的例外                                            </h3>,\n",
       " <h3>\n",
       "                         核三廠3/6火警調查說明會 台電承諾改善恆春在地通報                                            </h3>,\n",
       " <h3>\n",
       "                         林口社團貼罷免洪孟楷資訊竟見牛煦庭按讚 洪：要不要去問他？                                            </h3>,\n",
       " <h3>\n",
       "                         癌症治療現曙光！科學家找到癌細胞「自毀」密碼                                            </h3>,\n",
       " <h3>\n",
       "                         泰國限量版潮牌包太夯「民眾上演大亂鬥 」 品牌方宣布無限期停賣                         <i class=\"v_icon\"><img alt=\"videoIcon\" src=\"assets/images/video01.svg\" title=\"videoIcon\"/></i> </h3>,\n",
       " <h3>\n",
       "                         注意！北市清查房屋稅及地價稅籍 變更土地務必申報                                            </h3>,\n",
       " <h3>\n",
       "                         中國民眾求救！戒網癮學校侵害人權卻逍遙法外 影片震撼數百萬人                                            </h3>,\n",
       " <h3>\n",
       "                         高雄市國賓飯店危老重建開發案 今通過環評大會審查                                            </h3>,\n",
       " <h3>\n",
       "                         MLB》「我的要求比外界期望還要高」 史基斯今年挑戰史上第2人壯舉                                            </h3>,\n",
       " <h3>\n",
       "                         軍武新知》「獅鷲」戰機加上AI系統輔助 視距外接戰效率再進化                                            </h3>,\n",
       " <h3>\n",
       "                         花蓮罷團高壓水槍洗出「裁傅自由」疑遭刁難 警局長還原現場「依法行政」                                            </h3>,\n",
       " <h3>\n",
       "                         再等等！ 能高越嶺步道西段預計10月底全線搶通                                            </h3>,\n",
       " <h3>\n",
       "                         美股4月明牌搶先看！投行奧本海默欽點好市多 AI只看好這檔                                            </h3>,\n",
       " <h3>\n",
       "                 台中<span class=\"title_colorful\">雙桶屍</span>命案主謀徐德益死刑撤銷 發回更審                            </h3>,\n",
       " <h3>\n",
       "                 財富自由》投資大師選股-高科技股策略專家                            </h3>,\n",
       " <h3>\n",
       "                 嘉義縣國本學堂赴日交流 創新農業發展                            </h3>,\n",
       " <h3>\n",
       "                 LTN投票箱》若寵物惡犬攻擊傷人 贊不贊成將牠安樂死？                            </h3>,\n",
       " <h3>\n",
       "                 11-12月統一發票  千萬大獎1張未領、200萬特獎4張未領                            </h3>,\n",
       " <h3>\n",
       "                 挺台灣遭封殺一年無戲可拍 台派演員陳慕義挺台立場不變                            </h3>,\n",
       " <h3>\n",
       "                 日本研擬不依靠美軍 自主發射長程飛彈                            </h3>,\n",
       " <h3>\n",
       "                 尹錫悅命運風向球 代總統韓悳洙彈劾案被駁回                            </h3>,\n",
       " <h3>\n",
       "                 以色列空襲加薩醫院釀5死 包含哈瑪斯政治局委員                            </h3>,\n",
       " <h3>\n",
       "                 日本頻傳諾羅感染！千葉旅館集體上吐下瀉 疑鮑魚釀禍                            </h3>,\n",
       " <h3 class=\"videoLiveTit\">\n",
       " <img alt=\"videoIcon\" class=\"videoIcon\" src=\"assets/images/video01.svg\"/>\n",
       "                                 自由說新聞》賴抗中「藍狂扯戒嚴」挨轟！明居正靈魂拷問打臉：荒唐！                            </h3>,\n",
       " <h3 class=\"videoLiveTit\">\n",
       " <img alt=\"videoIcon\" class=\"videoIcon\" src=\"assets/images/video01.svg\"/>\n",
       "                                 屏東竹田24日清晨大火！鐵皮屋燒融變形 4人送醫（屏東小鎮資訊粉絲／屏東縣消防局提供）                            </h3>,\n",
       " <h3 class=\"videoLiveTit\">\n",
       " <img alt=\"videoIcon\" class=\"videoIcon\" src=\"assets/images/video01.svg\"/>\n",
       "                                 藍委提「還錢於民」常態化 柯建銘轟：違憲、買票若通過將提釋憲                            </h3>,\n",
       " <h3 class=\"videoLiveTit\">\n",
       " <img alt=\"videoIcon\" class=\"videoIcon\" src=\"assets/images/video01.svg\"/>\n",
       "                                 揭國民黨死亡連署高達1748人 民進黨：唯一可能就是抄名冊！                            </h3>,\n",
       " <h3 class=\"videoLiveTit\">\n",
       " <img alt=\"videoIcon\" class=\"videoIcon\" src=\"assets/images/video01.svg\"/>\n",
       "                                 卓榮泰23日台南宣講 對統戰滲透宣示「3個一定」（民進黨中央黨部提供）                            </h3>,\n",
       " <h3 class=\"videoLiveTit\">自由說新聞》賴抗中「藍狂扯戒嚴」挨轟！明居正靈魂拷問打臉：荒唐！</h3>,\n",
       " <h3 class=\"videoLiveTit\">屏東竹田24日清晨大火！鐵皮屋燒融變形 4人送醫（屏東小鎮資訊粉絲／屏東縣消防局提供）</h3>,\n",
       " <h3 class=\"videoLiveTit\">藍委提「還錢於民」常態化 柯建銘轟：違憲、買票若通過將提釋憲</h3>,\n",
       " <h3 class=\"videoLiveTit\">揭國民黨死亡連署高達1748人 民進黨：唯一可能就是抄名冊！</h3>,\n",
       " <h3 class=\"videoLiveTit\">卓榮泰23日台南宣講 對統戰滲透宣示「3個一定」（民進黨中央黨部提供）</h3>,\n",
       " <h3 class=\"videoLiveTit\">MLB》透露佐佐木朗希使用說明書！ 道奇主帥讚嘆：有奪下塞揚的實力</h3>,\n",
       " <h3>\n",
       "                         解決水上運動與水上遊憩衝突 宜縣冬山河將劃設「慢車道」                                            </h3>,\n",
       " <h3>\n",
       "                         Tesla 爆發拋售潮！不認同馬斯克行為更擔心愛車遭攻擊                                            </h3>,\n",
       " <h3>\n",
       "                         嘉義縣國本學堂赴日交流 創新農業發展                                            </h3>,\n",
       " <h3>\n",
       "                         蔡學良母陳情 總統府：資料交國防部積極處理                                            </h3>,\n",
       " <h3>\n",
       "                         買塔位也能多元支付 苗縣苑裡鎮公所便民服務再升級                                            </h3>,\n",
       " <h3>\n",
       "                         挺台灣遭封殺一年無戲可拍 台派演員陳慕義挺台立場不變                                            </h3>,\n",
       " <h3>\n",
       "                         健康網》小小一粒卻超高纖！ 醫列1食物順「便」好護腸                                            </h3>,\n",
       " <h3>\n",
       "                         5月COMPUTEX登場 輝達黃仁勳、高通艾蒙擔任Keynote講者                                            </h3>,\n",
       " <h3>\n",
       "                         東京櫻花開了！ 氣象廳正式宣布開花 比去年早5天                                            </h3>,\n",
       " <h3>\n",
       "                         自由開講》武統台灣說 「公政公約」言論自由的例外                                            </h3>,\n",
       " <h3>\n",
       "                         核三廠3/6火警調查說明會 台電承諾改善恆春在地通報                                            </h3>,\n",
       " <h3>\n",
       "                         林口社團貼罷免洪孟楷資訊竟見牛煦庭按讚 洪：要不要去問他？                                            </h3>,\n",
       " <h3>\n",
       "                         癌症治療現曙光！科學家找到癌細胞「自毀」密碼                                            </h3>,\n",
       " <h3>\n",
       "                         泰國限量版潮牌包太夯「民眾上演大亂鬥 」 品牌方宣布無限期停賣                         <i class=\"v_icon\"><img alt=\"videoIcon\" src=\"assets/images/video01.svg\" title=\"videoIcon\"/></i> </h3>,\n",
       " <h3>\n",
       "                         注意！北市清查房屋稅及地價稅籍 變更土地務必申報                                            </h3>,\n",
       " <h3>\n",
       "                         中國民眾求救！戒網癮學校侵害人權卻逍遙法外 影片震撼數百萬人                                            </h3>,\n",
       " <h3>\n",
       "                         高雄市國賓飯店危老重建開發案 今通過環評大會審查                                            </h3>,\n",
       " <h3>\n",
       "                         MLB》「我的要求比外界期望還要高」 史基斯今年挑戰史上第2人壯舉                                            </h3>,\n",
       " <h3>\n",
       "                         軍武新知》「獅鷲」戰機加上AI系統輔助 視距外接戰效率再進化                                            </h3>,\n",
       " <h3>\n",
       "                         花蓮罷團高壓水槍洗出「裁傅自由」疑遭刁難 警局長還原現場「依法行政」                                            </h3>,\n",
       " <h3>\n",
       "                         再等等！ 能高越嶺步道西段預計10月底全線搶通                                            </h3>,\n",
       " <h3>\n",
       "                         美股4月明牌搶先看！投行奧本海默欽點好市多 AI只看好這檔                                            </h3>,\n",
       " <h3>\n",
       "                     鼓吹武統2中配直播互取暖  得知限期離境瞬間臉垮讓網熱議                                        </h3>,\n",
       " <h3>\n",
       "                     彰縣議員賴清美借派出所停車遭警轟出 警局長陳明君要查真相                                        </h3>,\n",
       " <h3>\n",
       "                     股市若續跌怎麼辦？嬰兒潮世代恐成海嘯第1排                                        </h3>,\n",
       " <h3>\n",
       "                     中職》任意引退後改開吊車 呂偉晟重返球場直呼神奇                                        </h3>,\n",
       " <h3>\n",
       "                     糗！民眾黨邀公務員宣講 他上台轟亂刪預算：吳春城最壞示範                                        </h3>,\n",
       " <h3>\n",
       "                     傳台積寶山2奈米將量產iPhone 18 Pro  季辛格急問「這件事」                                        </h3>,\n",
       " <h3>自由說新聞》賴抗中「藍狂扯戒嚴」挨轟！明居正靈魂拷問打臉：荒唐！</h3>,\n",
       " <h3>屏東竹田24日清晨大火！鐵皮屋燒融變形 4人送醫（屏東小鎮資訊粉絲／屏東縣消防局提供）</h3>,\n",
       " <h3>藍委提「還錢於民」常態化 柯建銘轟：違憲、買票若通過將提釋憲</h3>,\n",
       " <h3>揭國民黨死亡連署高達1748人 民進黨：唯一可能就是抄名冊！</h3>,\n",
       " <h3>卓榮泰23日台南宣講 對統戰滲透宣示「3個一定」（民進黨中央黨部提供）</h3>,\n",
       " <h3>自由說新聞》史書華赴民眾黨「人民要當家」邀黃國昌連署遭推倒！四叉貓估：現場僅有300人！</h3>,\n",
       " <h3>恭喜！楊祐寧老婆懷第3胎 水某摸凸肚報喜</h3>,\n",
       " <h3>家寧昔稱戀愛0經驗！寇乃馨當場「一句話狠打臉」</h3>,\n",
       " <h3>放鳥高雄被他取代？金秀賢違約要賠台幣3000萬 主辦單位回應了</h3>,\n",
       " <h3>49歲林心如遭批「腫臉大嬸」 親露面高EQ回應：不能有一次失誤</h3>,\n",
       " <h3>中國大咖直播「瘋狂小楊哥」 近3億台幣罰款全繳清</h3>,\n",
       " <h3>韓啦啦隊21歲怪物新人打敗李珠珢 球場新女神</h3>,\n",
       " <h3>為蔡英文抱屈？夢多怒飆台灣國罵 譙爆日首相「超爛X雞X」</h3>,\n",
       " <h3>修車廠辣妹「薄紗丁字褲」UU全看光！網瘋求地址</h3>,\n",
       " <h3>MLB》透露佐佐木朗希使用說明書！ 道奇主帥讚嘆：有奪下塞揚的實力</h3>,\n",
       " <h3>MLB》「我的要求比外界期望還要高」 史基斯今年挑戰史上第2人壯舉</h3>,\n",
       " <h3>雷霆擊敗快艇收下6連勝 今日NBA戰績</h3>,\n",
       " <h3>BCL》真拚！領航猿首戰大馬球隊登錄名單出爐 盧峻翔還是有登錄</h3>,\n",
       " <h3>新北土地分區證明當天就到手！秀北開發區優先試行</h3>,\n",
       " <h3>台北101進軍台中！斥資45億打造萬坪新商場 估2030年亮相</h3>,\n",
       " <h3>高雄逾30層超高層景觀住宅大樓規劃增多  高低價差單坪可逾10萬元  坪數呈縮小趨勢</h3>,\n",
       " <h3>想轉賣父遺產發現「無建物權狀」 財產分配得重來？「這文件」救了大家</h3>,\n",
       " <h3>苗栗賞繡球花海吃美食！柴燒無菜單料理、最美民宿嚐客家風味６間推薦</h3>,\n",
       " <h3>星巴克買一送一、第二杯半價優惠接力！伯朗咖啡館同樣免費多喝一杯</h3>,\n",
       " <h3>嘉義長榮文苑五週年優惠！身分證2個5免費入住、5位同行1人免費吃美食</h3>,\n",
       " <h3>旅行的另一種趣味  機場新亮點   美食住宿大升級</h3>,\n",
       " <h3>飛蚊症不可逆、４症狀要注意！專家教護眼３營養素比葉黃素更好</h3>,\n",
       " <h3>小孩不挑食！達人示範蛋包飯變賞心悅目「布丁造型咖哩飯」</h3>,\n",
       " <h3>「泰式紅咖哩魚餅」軟嫩鮮香做法超簡單！氣炸鍋也能做</h3>,\n",
       " <h3>2025春分節氣到！４大養生飲食改善昏沉疲勞、春睏倦怠</h3>,\n",
       " <h3>小小一粒卻超高纖！ 醫列1食物順「便」好護腸</h3>,\n",
       " <h3>醫呼籲：別為時辰 要醫師半夜剖腹產！</h3>,\n",
       " <h3>翻來覆去睡不著？ 研究曝「2飲食」一夜好眠</h3>,\n",
       " <h3>癌症治療現曙光！科學家找到癌細胞「自毀」密碼\n",
       " </h3>,\n",
       " <h3>台股收盤》台積電殺尾盤、AI翻車 指數收跌102點勉強守22100點</h3>,\n",
       " <h3>5月COMPUTEX登場 輝達黃仁勳、高通艾蒙擔任Keynote講者</h3>,\n",
       " <h3>注意！北市清查房屋稅及地價稅籍 變更土地務必申報</h3>,\n",
       " <h3>高雄市國賓飯店危老重建開發案 今通過環評大會審查</h3>,\n",
       " <h3>苗縣獲日本兒童畫展11件特優  鍾東錦肯定學生用藝術說故事</h3>,\n",
       " <h3>竹縣世界閱讀日3/29起跑 首創AI縣長領軍勇闖閱讀海</h3>,\n",
       " <h3>藝次元～王瑋名數位藝術個展  展現數位奇幻藝術</h3>,\n",
       " <h3>【藝術文化】故宮揭密「清代天子禮物」耐人尋味  哈密瓜、櫻桃也現蹤</h3>,\n",
       " <h3>美菲「肩並肩」操演下月登場 但很強的泰風、布拉莫斯飛彈不打實彈</h3>,\n",
       " <h3>軍武新知》「獅鷲」戰機加上AI系統輔助 視距外接戰效率再進化</h3>,\n",
       " <h3>影片曝光 俄軍「神準」滑翔炸彈失靈 烏克蘭干擾奏效</h3>,\n",
       " <h3>港口爆炸又逢海嘯 全社會韌性實地演練27日台南首登場</h3>,\n",
       " <h3>買塔位也能多元支付 苗縣苑裡鎮公所便民服務再升級</h3>,\n",
       " <h3>解決水上運動與水上遊憩衝突 宜縣冬山河將劃設「慢車道」</h3>,\n",
       " <h3>核三廠3/6火警調查說明會 台電承諾改善恆春在地通報</h3>,\n",
       " <h3>林口社團貼罷免洪孟楷資訊竟見牛煦庭按讚 洪：要不要去問他？</h3>,\n",
       " <h3>Tesla 爆發拋售潮！不認同馬斯克行為更擔心愛車遭攻擊</h3>,\n",
       " <h3>不實報導造成傷害  Kymco 光陽發正式聲明</h3>,\n",
       " <h3>Lexus 跨界新作有望「台灣製造」！豪華遊艇 LY680 明年交付</h3>,\n",
       " <h3>SYM 油電混合速克達專利曝光！有望是 CU 系列新車 續航破 300 公里</h3>,\n",
       " <h3>日本女生自己到藥妝店買什麼？原來化妝包必備是這些</h3>,\n",
       " <h3>炎亞綸不被切割獲「老朋友」力挺 品牌坦言憑著這一點重獲青睞 </h3>,\n",
       " <h3>孫藝真「勾勾手」的男人竟不是玄彬！現身《黑白大廚》安成宰新餐廳甜喊：非常幸福</h3>,\n",
       " <h3>朴信惠「肩上超短髮」任韓職棒開球嘉賓！棒球衣穿上身簡直大學生</h3>,\n",
       " <h3>有問題不用再 Google！Android 兩大 AI 新功能解決日常疑難雜症</h3>,\n",
       " <h3>開價直逼七萬元？傳蘋果首款 iPhone Ultra 明年問世</h3>,\n",
       " <h3>傳蘋果 Apple Watch 將加入相機鏡頭！但不是拿來拍照</h3>,\n",
       " <h3>不會被 Android 吐槽了？傳蘋果 iPhone 17 螢幕要補上這規格</h3>,\n",
       " <h3>\n",
       "                             遠傳助臺中市全面換裝節能路燈                        </h3>,\n",
       " <h3>\n",
       "                             嘉義縣國本學堂赴日交流 創新農業發展                        </h3>,\n",
       " <h3>\n",
       "                             健康台灣中台灣論壇 聚焦智慧醫療與健保改革                        </h3>,\n",
       " <h3>\n",
       "                             數位部長黃彥男蒞臨視察遠傳「打詐智靈」                        </h3>,\n",
       " <h3>’Flying over Berlin’ on Europe’s highest swing／搭著歐洲最高的鞦韆「在柏林上空飛」</h3>,\n",
       " <h3>Robotaxis frustrate sleepless residents with constant honking／機器人計程車不斷鳴喇叭 讓失眠的居民感到沮喪</h3>,\n",
       " <h3>Japanese, Koreans bottom of global love life survey／日本、韓國人在全球愛情生活調查中墊底</h3>]"
      ]
     },
     "execution_count": 32,
     "metadata": {},
     "output_type": "execute_result"
    }
   ],
   "source": [
    "# 抓取所有新聞標題\n",
    "tags = soup.find_all(\"h3\")  # 找出所有 h3 標籤（一般新聞標題）\n",
    "tags"
   ]
  },
  {
   "cell_type": "code",
   "execution_count": 33,
   "metadata": {},
   "outputs": [
    {
     "name": "stdout",
     "output_type": "stream",
     "text": [
      "解決水上運動與水上遊憩衝突 宜縣冬山河將劃設「慢車道」\n",
      "Tesla 爆發拋售潮！不認同馬斯克行為更擔心愛車遭攻擊\n",
      "嘉義縣國本學堂赴日交流 創新農業發展\n",
      "蔡學良母陳情 總統府：資料交國防部積極處理\n",
      "買塔位也能多元支付 苗縣苑裡鎮公所便民服務再升級\n",
      "挺台灣遭封殺一年無戲可拍 台派演員陳慕義挺台立場不變\n",
      "健康網》小小一粒卻超高纖！ 醫列1食物順「便」好護腸\n",
      "5月COMPUTEX登場 輝達黃仁勳、高通艾蒙擔任Keynote講者\n",
      "東京櫻花開了！ 氣象廳正式宣布開花 比去年早5天\n",
      "自由開講》武統台灣說 「公政公約」言論自由的例外\n",
      "核三廠3/6火警調查說明會 台電承諾改善恆春在地通報\n",
      "林口社團貼罷免洪孟楷資訊竟見牛煦庭按讚 洪：要不要去問他？\n",
      "癌症治療現曙光！科學家找到癌細胞「自毀」密碼\n",
      "泰國限量版潮牌包太夯「民眾上演大亂鬥 」 品牌方宣布無限期停賣\n",
      "注意！北市清查房屋稅及地價稅籍 變更土地務必申報\n",
      "中國民眾求救！戒網癮學校侵害人權卻逍遙法外 影片震撼數百萬人\n",
      "高雄市國賓飯店危老重建開發案 今通過環評大會審查\n",
      "MLB》「我的要求比外界期望還要高」 史基斯今年挑戰史上第2人壯舉\n",
      "軍武新知》「獅鷲」戰機加上AI系統輔助 視距外接戰效率再進化\n",
      "花蓮罷團高壓水槍洗出「裁傅自由」疑遭刁難 警局長還原現場「依法行政」\n",
      "再等等！ 能高越嶺步道西段預計10月底全線搶通\n",
      "美股4月明牌搶先看！投行奧本海默欽點好市多 AI只看好這檔\n",
      "台中雙桶屍命案主謀徐德益死刑撤銷 發回更審\n",
      "財富自由》投資大師選股-高科技股策略專家\n",
      "嘉義縣國本學堂赴日交流 創新農業發展\n",
      "LTN投票箱》若寵物惡犬攻擊傷人 贊不贊成將牠安樂死？\n",
      "11-12月統一發票  千萬大獎1張未領、200萬特獎4張未領\n",
      "挺台灣遭封殺一年無戲可拍 台派演員陳慕義挺台立場不變\n",
      "日本研擬不依靠美軍 自主發射長程飛彈\n",
      "尹錫悅命運風向球 代總統韓悳洙彈劾案被駁回\n",
      "以色列空襲加薩醫院釀5死 包含哈瑪斯政治局委員\n",
      "日本頻傳諾羅感染！千葉旅館集體上吐下瀉 疑鮑魚釀禍\n",
      "自由說新聞》賴抗中「藍狂扯戒嚴」挨轟！明居正靈魂拷問打臉：荒唐！\n",
      "屏東竹田24日清晨大火！鐵皮屋燒融變形 4人送醫（屏東小鎮資訊粉絲／屏東縣消防局提供）\n",
      "藍委提「還錢於民」常態化 柯建銘轟：違憲、買票若通過將提釋憲\n",
      "揭國民黨死亡連署高達1748人 民進黨：唯一可能就是抄名冊！\n",
      "卓榮泰23日台南宣講 對統戰滲透宣示「3個一定」（民進黨中央黨部提供）\n",
      "自由說新聞》賴抗中「藍狂扯戒嚴」挨轟！明居正靈魂拷問打臉：荒唐！\n",
      "屏東竹田24日清晨大火！鐵皮屋燒融變形 4人送醫（屏東小鎮資訊粉絲／屏東縣消防局提供）\n",
      "藍委提「還錢於民」常態化 柯建銘轟：違憲、買票若通過將提釋憲\n",
      "揭國民黨死亡連署高達1748人 民進黨：唯一可能就是抄名冊！\n",
      "卓榮泰23日台南宣講 對統戰滲透宣示「3個一定」（民進黨中央黨部提供）\n",
      "MLB》透露佐佐木朗希使用說明書！ 道奇主帥讚嘆：有奪下塞揚的實力\n",
      "解決水上運動與水上遊憩衝突 宜縣冬山河將劃設「慢車道」\n",
      "Tesla 爆發拋售潮！不認同馬斯克行為更擔心愛車遭攻擊\n",
      "嘉義縣國本學堂赴日交流 創新農業發展\n",
      "蔡學良母陳情 總統府：資料交國防部積極處理\n",
      "買塔位也能多元支付 苗縣苑裡鎮公所便民服務再升級\n",
      "挺台灣遭封殺一年無戲可拍 台派演員陳慕義挺台立場不變\n",
      "健康網》小小一粒卻超高纖！ 醫列1食物順「便」好護腸\n",
      "5月COMPUTEX登場 輝達黃仁勳、高通艾蒙擔任Keynote講者\n",
      "東京櫻花開了！ 氣象廳正式宣布開花 比去年早5天\n",
      "自由開講》武統台灣說 「公政公約」言論自由的例外\n",
      "核三廠3/6火警調查說明會 台電承諾改善恆春在地通報\n",
      "林口社團貼罷免洪孟楷資訊竟見牛煦庭按讚 洪：要不要去問他？\n",
      "癌症治療現曙光！科學家找到癌細胞「自毀」密碼\n",
      "泰國限量版潮牌包太夯「民眾上演大亂鬥 」 品牌方宣布無限期停賣\n",
      "注意！北市清查房屋稅及地價稅籍 變更土地務必申報\n",
      "中國民眾求救！戒網癮學校侵害人權卻逍遙法外 影片震撼數百萬人\n",
      "高雄市國賓飯店危老重建開發案 今通過環評大會審查\n",
      "MLB》「我的要求比外界期望還要高」 史基斯今年挑戰史上第2人壯舉\n",
      "軍武新知》「獅鷲」戰機加上AI系統輔助 視距外接戰效率再進化\n",
      "花蓮罷團高壓水槍洗出「裁傅自由」疑遭刁難 警局長還原現場「依法行政」\n",
      "再等等！ 能高越嶺步道西段預計10月底全線搶通\n",
      "美股4月明牌搶先看！投行奧本海默欽點好市多 AI只看好這檔\n",
      "鼓吹武統2中配直播互取暖  得知限期離境瞬間臉垮讓網熱議\n",
      "彰縣議員賴清美借派出所停車遭警轟出 警局長陳明君要查真相\n",
      "股市若續跌怎麼辦？嬰兒潮世代恐成海嘯第1排\n",
      "中職》任意引退後改開吊車 呂偉晟重返球場直呼神奇\n",
      "糗！民眾黨邀公務員宣講 他上台轟亂刪預算：吳春城最壞示範\n",
      "傳台積寶山2奈米將量產iPhone 18 Pro  季辛格急問「這件事」\n",
      "自由說新聞》賴抗中「藍狂扯戒嚴」挨轟！明居正靈魂拷問打臉：荒唐！\n",
      "屏東竹田24日清晨大火！鐵皮屋燒融變形 4人送醫（屏東小鎮資訊粉絲／屏東縣消防局提供）\n",
      "藍委提「還錢於民」常態化 柯建銘轟：違憲、買票若通過將提釋憲\n",
      "揭國民黨死亡連署高達1748人 民進黨：唯一可能就是抄名冊！\n",
      "卓榮泰23日台南宣講 對統戰滲透宣示「3個一定」（民進黨中央黨部提供）\n",
      "自由說新聞》史書華赴民眾黨「人民要當家」邀黃國昌連署遭推倒！四叉貓估：現場僅有300人！\n",
      "恭喜！楊祐寧老婆懷第3胎 水某摸凸肚報喜\n",
      "家寧昔稱戀愛0經驗！寇乃馨當場「一句話狠打臉」\n",
      "放鳥高雄被他取代？金秀賢違約要賠台幣3000萬 主辦單位回應了\n",
      "49歲林心如遭批「腫臉大嬸」 親露面高EQ回應：不能有一次失誤\n",
      "中國大咖直播「瘋狂小楊哥」 近3億台幣罰款全繳清\n",
      "韓啦啦隊21歲怪物新人打敗李珠珢 球場新女神\n",
      "為蔡英文抱屈？夢多怒飆台灣國罵 譙爆日首相「超爛X雞X」\n",
      "修車廠辣妹「薄紗丁字褲」UU全看光！網瘋求地址\n",
      "MLB》透露佐佐木朗希使用說明書！ 道奇主帥讚嘆：有奪下塞揚的實力\n",
      "MLB》「我的要求比外界期望還要高」 史基斯今年挑戰史上第2人壯舉\n",
      "雷霆擊敗快艇收下6連勝 今日NBA戰績\n",
      "BCL》真拚！領航猿首戰大馬球隊登錄名單出爐 盧峻翔還是有登錄\n",
      "新北土地分區證明當天就到手！秀北開發區優先試行\n",
      "台北101進軍台中！斥資45億打造萬坪新商場 估2030年亮相\n",
      "高雄逾30層超高層景觀住宅大樓規劃增多  高低價差單坪可逾10萬元  坪數呈縮小趨勢\n",
      "想轉賣父遺產發現「無建物權狀」 財產分配得重來？「這文件」救了大家\n",
      "苗栗賞繡球花海吃美食！柴燒無菜單料理、最美民宿嚐客家風味６間推薦\n",
      "星巴克買一送一、第二杯半價優惠接力！伯朗咖啡館同樣免費多喝一杯\n",
      "嘉義長榮文苑五週年優惠！身分證2個5免費入住、5位同行1人免費吃美食\n",
      "旅行的另一種趣味  機場新亮點   美食住宿大升級\n",
      "飛蚊症不可逆、４症狀要注意！專家教護眼３營養素比葉黃素更好\n",
      "小孩不挑食！達人示範蛋包飯變賞心悅目「布丁造型咖哩飯」\n",
      "「泰式紅咖哩魚餅」軟嫩鮮香做法超簡單！氣炸鍋也能做\n",
      "2025春分節氣到！４大養生飲食改善昏沉疲勞、春睏倦怠\n",
      "小小一粒卻超高纖！ 醫列1食物順「便」好護腸\n",
      "醫呼籲：別為時辰 要醫師半夜剖腹產！\n",
      "翻來覆去睡不著？ 研究曝「2飲食」一夜好眠\n",
      "癌症治療現曙光！科學家找到癌細胞「自毀」密碼\n",
      "台股收盤》台積電殺尾盤、AI翻車 指數收跌102點勉強守22100點\n",
      "5月COMPUTEX登場 輝達黃仁勳、高通艾蒙擔任Keynote講者\n",
      "注意！北市清查房屋稅及地價稅籍 變更土地務必申報\n",
      "高雄市國賓飯店危老重建開發案 今通過環評大會審查\n",
      "苗縣獲日本兒童畫展11件特優  鍾東錦肯定學生用藝術說故事\n",
      "竹縣世界閱讀日3/29起跑 首創AI縣長領軍勇闖閱讀海\n",
      "藝次元～王瑋名數位藝術個展  展現數位奇幻藝術\n",
      "【藝術文化】故宮揭密「清代天子禮物」耐人尋味  哈密瓜、櫻桃也現蹤\n",
      "美菲「肩並肩」操演下月登場 但很強的泰風、布拉莫斯飛彈不打實彈\n",
      "軍武新知》「獅鷲」戰機加上AI系統輔助 視距外接戰效率再進化\n",
      "影片曝光 俄軍「神準」滑翔炸彈失靈 烏克蘭干擾奏效\n",
      "港口爆炸又逢海嘯 全社會韌性實地演練27日台南首登場\n",
      "買塔位也能多元支付 苗縣苑裡鎮公所便民服務再升級\n",
      "解決水上運動與水上遊憩衝突 宜縣冬山河將劃設「慢車道」\n",
      "核三廠3/6火警調查說明會 台電承諾改善恆春在地通報\n",
      "林口社團貼罷免洪孟楷資訊竟見牛煦庭按讚 洪：要不要去問他？\n",
      "Tesla 爆發拋售潮！不認同馬斯克行為更擔心愛車遭攻擊\n",
      "不實報導造成傷害  Kymco 光陽發正式聲明\n",
      "Lexus 跨界新作有望「台灣製造」！豪華遊艇 LY680 明年交付\n",
      "SYM 油電混合速克達專利曝光！有望是 CU 系列新車 續航破 300 公里\n",
      "日本女生自己到藥妝店買什麼？原來化妝包必備是這些\n",
      "炎亞綸不被切割獲「老朋友」力挺 品牌坦言憑著這一點重獲青睞\n",
      "孫藝真「勾勾手」的男人竟不是玄彬！現身《黑白大廚》安成宰新餐廳甜喊：非常幸福\n",
      "朴信惠「肩上超短髮」任韓職棒開球嘉賓！棒球衣穿上身簡直大學生\n",
      "有問題不用再 Google！Android 兩大 AI 新功能解決日常疑難雜症\n",
      "開價直逼七萬元？傳蘋果首款 iPhone Ultra 明年問世\n",
      "傳蘋果 Apple Watch 將加入相機鏡頭！但不是拿來拍照\n",
      "不會被 Android 吐槽了？傳蘋果 iPhone 17 螢幕要補上這規格\n",
      "遠傳助臺中市全面換裝節能路燈\n",
      "嘉義縣國本學堂赴日交流 創新農業發展\n",
      "健康台灣中台灣論壇 聚焦智慧醫療與健保改革\n",
      "數位部長黃彥男蒞臨視察遠傳「打詐智靈」\n",
      "’Flying over Berlin’ on Europe’s highest swing／搭著歐洲最高的鞦韆「在柏林上空飛」\n",
      "Robotaxis frustrate sleepless residents with constant honking／機器人計程車不斷鳴喇叭 讓失眠的居民感到沮喪\n",
      "Japanese, Koreans bottom of global love life survey／日本、韓國人在全球愛情生活調查中墊底\n"
     ]
    }
   ],
   "source": [
    "# 顯示標題\n",
    "for tag in tags:\n",
    "    print(tag.get_text(strip=True))"
   ]
  },
  {
   "cell_type": "markdown",
   "metadata": {},
   "source": [
    "### 問題：抓自由時報\"即時\"新聞標題"
   ]
  },
  {
   "cell_type": "code",
   "execution_count": 34,
   "metadata": {},
   "outputs": [],
   "source": [
    "url = \"https://www.ltn.com.tw/\"  # 設定網頁網址\n",
    "resp = requests.get(url)  # 模擬get請求\n",
    "soup = BeautifulSoup(resp.text, \"html.parser\")  # 將網頁格式檔放入bs4"
   ]
  },
  {
   "cell_type": "code",
   "execution_count": 35,
   "metadata": {},
   "outputs": [
    {
     "name": "stdout",
     "output_type": "stream",
     "text": [
      "解決水上運動與水上遊憩衝突 宜縣冬山河將劃設「慢車道」\n",
      "Tesla 爆發拋售潮！不認同馬斯克行為更擔心愛車遭攻擊\n",
      "嘉義縣國本學堂赴日交流 創新農業發展\n",
      "蔡學良母陳情 總統府：資料交國防部積極處理\n",
      "買塔位也能多元支付 苗縣苑裡鎮公所便民服務再升級\n",
      "挺台灣遭封殺一年無戲可拍 台派演員陳慕義挺台立場不變\n",
      "健康網》小小一粒卻超高纖！ 醫列1食物順「便」好護腸\n",
      "5月COMPUTEX登場 輝達黃仁勳、高通艾蒙擔任Keynote講者\n",
      "東京櫻花開了！ 氣象廳正式宣布開花 比去年早5天\n",
      "自由開講》武統台灣說 「公政公約」言論自由的例外\n",
      "核三廠3/6火警調查說明會 台電承諾改善恆春在地通報\n",
      "林口社團貼罷免洪孟楷資訊竟見牛煦庭按讚 洪：要不要去問他？\n",
      "癌症治療現曙光！科學家找到癌細胞「自毀」密碼\n",
      "泰國限量版潮牌包太夯「民眾上演大亂鬥 」 品牌方宣布無限期停賣\n",
      "注意！北市清查房屋稅及地價稅籍 變更土地務必申報\n",
      "中國民眾求救！戒網癮學校侵害人權卻逍遙法外 影片震撼數百萬人\n",
      "高雄市國賓飯店危老重建開發案 今通過環評大會審查\n",
      "MLB》「我的要求比外界期望還要高」 史基斯今年挑戰史上第2人壯舉\n",
      "軍武新知》「獅鷲」戰機加上AI系統輔助 視距外接戰效率再進化\n",
      "花蓮罷團高壓水槍洗出「裁傅自由」疑遭刁難 警局長還原現場「依法行政」\n",
      "再等等！ 能高越嶺步道西段預計10月底全線搶通\n",
      "美股4月明牌搶先看！投行奧本海默欽點好市多 AI只看好這檔\n"
     ]
    }
   ],
   "source": [
    "# 取得「即時清單」\n",
    "breaking_news = soup.find(\"div\", attrs={\"data-desc\": \"即時清單\"})\n",
    "assert breaking_news is not None\n",
    "\n",
    "# 取得「即時清單」中的所有標題\n",
    "titles = breaking_news.find_all(\"h3\")\n",
    "\n",
    "for title in titles:\n",
    "    print(title.get_text(strip=True))\n"
   ]
  }
 ],
 "metadata": {
  "kernelspec": {
   "display_name": ".venv",
   "language": "python",
   "name": "python3"
  },
  "language_info": {
   "codemirror_mode": {
    "name": "ipython",
    "version": 3
   },
   "file_extension": ".py",
   "mimetype": "text/x-python",
   "name": "python",
   "nbconvert_exporter": "python",
   "pygments_lexer": "ipython3",
   "version": "3.12.5"
  }
 },
 "nbformat": 4,
 "nbformat_minor": 2
}
