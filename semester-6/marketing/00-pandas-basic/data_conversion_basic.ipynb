{
 "cells": [
  {
   "cell_type": "markdown",
   "metadata": {},
   "source": [
    "# 資料轉換基礎 (Data Conversion Basics)"
   ]
  },
  {
   "cell_type": "code",
   "execution_count": 1,
   "metadata": {},
   "outputs": [],
   "source": [
    "import pandas as pd"
   ]
  },
  {
   "cell_type": "markdown",
   "metadata": {},
   "source": [
    "## 資料格式轉換"
   ]
  },
  {
   "cell_type": "markdown",
   "metadata": {},
   "source": [
    "### List變DataFrame"
   ]
  },
  {
   "cell_type": "code",
   "execution_count": 2,
   "metadata": {},
   "outputs": [
    {
     "data": {
      "text/html": [
       "<div>\n",
       "<style scoped>\n",
       "    .dataframe tbody tr th:only-of-type {\n",
       "        vertical-align: middle;\n",
       "    }\n",
       "\n",
       "    .dataframe tbody tr th {\n",
       "        vertical-align: top;\n",
       "    }\n",
       "\n",
       "    .dataframe thead th {\n",
       "        text-align: right;\n",
       "    }\n",
       "</style>\n",
       "<table border=\"1\" class=\"dataframe\">\n",
       "  <thead>\n",
       "    <tr style=\"text-align: right;\">\n",
       "      <th></th>\n",
       "      <th>0</th>\n",
       "    </tr>\n",
       "  </thead>\n",
       "  <tbody>\n",
       "    <tr>\n",
       "      <th>0</th>\n",
       "      <td>UA</td>\n",
       "    </tr>\n",
       "    <tr>\n",
       "      <th>1</th>\n",
       "      <td>健身運動</td>\n",
       "    </tr>\n",
       "    <tr>\n",
       "      <th>2</th>\n",
       "      <td>好穿好看</td>\n",
       "    </tr>\n",
       "  </tbody>\n",
       "</table>\n",
       "</div>"
      ],
      "text/plain": [
       "      0\n",
       "0    UA\n",
       "1  健身運動\n",
       "2  好穿好看"
      ]
     },
     "execution_count": 2,
     "metadata": {},
     "output_type": "execute_result"
    }
   ],
   "source": [
    "# list變dataframe\n",
    "i = [\"UA\", \"健身運動\", \"好穿好看\"]\n",
    "i_df = pd.DataFrame(i)\n",
    "i_df"
   ]
  },
  {
   "cell_type": "code",
   "execution_count": 3,
   "metadata": {},
   "outputs": [
    {
     "data": {
      "text/html": [
       "<div>\n",
       "<style scoped>\n",
       "    .dataframe tbody tr th:only-of-type {\n",
       "        vertical-align: middle;\n",
       "    }\n",
       "\n",
       "    .dataframe tbody tr th {\n",
       "        vertical-align: top;\n",
       "    }\n",
       "\n",
       "    .dataframe thead th {\n",
       "        text-align: right;\n",
       "    }\n",
       "</style>\n",
       "<table border=\"1\" class=\"dataframe\">\n",
       "  <thead>\n",
       "    <tr style=\"text-align: right;\">\n",
       "      <th></th>\n",
       "      <th>tag</th>\n",
       "    </tr>\n",
       "  </thead>\n",
       "  <tbody>\n",
       "    <tr>\n",
       "      <th>0</th>\n",
       "      <td>UA</td>\n",
       "    </tr>\n",
       "    <tr>\n",
       "      <th>1</th>\n",
       "      <td>健身運動</td>\n",
       "    </tr>\n",
       "    <tr>\n",
       "      <th>2</th>\n",
       "      <td>好穿好看</td>\n",
       "    </tr>\n",
       "  </tbody>\n",
       "</table>\n",
       "</div>"
      ],
      "text/plain": [
       "    tag\n",
       "0    UA\n",
       "1  健身運動\n",
       "2  好穿好看"
      ]
     },
     "execution_count": 3,
     "metadata": {},
     "output_type": "execute_result"
    }
   ],
   "source": [
    "i_df = pd.DataFrame(i, columns=([\"tag\"]))\n",
    "i_df"
   ]
  },
  {
   "cell_type": "markdown",
   "metadata": {},
   "source": [
    "### String變List，再變DataFrame"
   ]
  },
  {
   "cell_type": "code",
   "execution_count": 4,
   "metadata": {},
   "outputs": [
    {
     "data": {
      "text/plain": [
       "['UA', '健身運動', '運動內衣']"
      ]
     },
     "execution_count": 4,
     "metadata": {},
     "output_type": "execute_result"
    }
   ],
   "source": [
    "# str變list, 再變df\n",
    "i = \"UA,健身運動,運動內衣\"\n",
    "i_list = i.split(\",\")  # str, list\n",
    "i_list"
   ]
  },
  {
   "cell_type": "code",
   "execution_count": 5,
   "metadata": {},
   "outputs": [
    {
     "data": {
      "text/html": [
       "<div>\n",
       "<style scoped>\n",
       "    .dataframe tbody tr th:only-of-type {\n",
       "        vertical-align: middle;\n",
       "    }\n",
       "\n",
       "    .dataframe tbody tr th {\n",
       "        vertical-align: top;\n",
       "    }\n",
       "\n",
       "    .dataframe thead th {\n",
       "        text-align: right;\n",
       "    }\n",
       "</style>\n",
       "<table border=\"1\" class=\"dataframe\">\n",
       "  <thead>\n",
       "    <tr style=\"text-align: right;\">\n",
       "      <th></th>\n",
       "      <th>0</th>\n",
       "    </tr>\n",
       "  </thead>\n",
       "  <tbody>\n",
       "    <tr>\n",
       "      <th>0</th>\n",
       "      <td>UA</td>\n",
       "    </tr>\n",
       "    <tr>\n",
       "      <th>1</th>\n",
       "      <td>健身運動</td>\n",
       "    </tr>\n",
       "    <tr>\n",
       "      <th>2</th>\n",
       "      <td>運動內衣</td>\n",
       "    </tr>\n",
       "  </tbody>\n",
       "</table>\n",
       "</div>"
      ],
      "text/plain": [
       "      0\n",
       "0    UA\n",
       "1  健身運動\n",
       "2  運動內衣"
      ]
     },
     "execution_count": 5,
     "metadata": {},
     "output_type": "execute_result"
    }
   ],
   "source": [
    "i_df = pd.DataFrame(i_list)\n",
    "i_df"
   ]
  },
  {
   "cell_type": "code",
   "execution_count": 6,
   "metadata": {},
   "outputs": [
    {
     "data": {
      "text/html": [
       "<div>\n",
       "<style scoped>\n",
       "    .dataframe tbody tr th:only-of-type {\n",
       "        vertical-align: middle;\n",
       "    }\n",
       "\n",
       "    .dataframe tbody tr th {\n",
       "        vertical-align: top;\n",
       "    }\n",
       "\n",
       "    .dataframe thead th {\n",
       "        text-align: right;\n",
       "    }\n",
       "</style>\n",
       "<table border=\"1\" class=\"dataframe\">\n",
       "  <thead>\n",
       "    <tr style=\"text-align: right;\">\n",
       "      <th></th>\n",
       "      <th>標籤</th>\n",
       "    </tr>\n",
       "  </thead>\n",
       "  <tbody>\n",
       "    <tr>\n",
       "      <th>0</th>\n",
       "      <td>UA</td>\n",
       "    </tr>\n",
       "    <tr>\n",
       "      <th>1</th>\n",
       "      <td>健身運動</td>\n",
       "    </tr>\n",
       "    <tr>\n",
       "      <th>2</th>\n",
       "      <td>運動內衣</td>\n",
       "    </tr>\n",
       "  </tbody>\n",
       "</table>\n",
       "</div>"
      ],
      "text/plain": [
       "     標籤\n",
       "0    UA\n",
       "1  健身運動\n",
       "2  運動內衣"
      ]
     },
     "execution_count": 6,
     "metadata": {},
     "output_type": "execute_result"
    }
   ],
   "source": [
    "i_df = pd.DataFrame(i_list, columns=([\"標籤\"]))\n",
    "i_df"
   ]
  },
  {
   "cell_type": "markdown",
   "metadata": {},
   "source": [
    "### List變String"
   ]
  },
  {
   "cell_type": "code",
   "execution_count": 7,
   "metadata": {},
   "outputs": [
    {
     "data": {
      "text/plain": [
       "'UA/健身運動/好穿好看'"
      ]
     },
     "execution_count": 7,
     "metadata": {},
     "output_type": "execute_result"
    }
   ],
   "source": [
    "# list變str\n",
    "i = [\"UA\", \"健身運動\", \"好穿好看\"]\n",
    "\"/\".join(i)"
   ]
  },
  {
   "cell_type": "code",
   "execution_count": 8,
   "metadata": {},
   "outputs": [
    {
     "data": {
      "text/plain": [
       "'UA健身運動好穿好看'"
      ]
     },
     "execution_count": 8,
     "metadata": {},
     "output_type": "execute_result"
    }
   ],
   "source": [
    "\"\".join(i)"
   ]
  },
  {
   "cell_type": "markdown",
   "metadata": {},
   "source": [
    "### 問題: 把下列list結合成str, 中間不要隔開"
   ]
  },
  {
   "cell_type": "code",
   "execution_count": 9,
   "metadata": {},
   "outputs": [
    {
     "data": {
      "text/plain": [
       "'今天天氣很好'"
      ]
     },
     "execution_count": 9,
     "metadata": {},
     "output_type": "execute_result"
    }
   ],
   "source": [
    "j = [\"今天\", \"天氣\", \"很好\"]\n",
    "# 請在這裡解答\n",
    "\n",
    "\"\".join(j)"
   ]
  },
  {
   "cell_type": "markdown",
   "metadata": {},
   "source": [
    "## eval用法\n",
    "\n",
    "eval是Python的一個內建函式，這個函式的作用是，返回傳入字串的表示式的結果"
   ]
  },
  {
   "cell_type": "code",
   "execution_count": 10,
   "metadata": {},
   "outputs": [
    {
     "data": {
      "text/plain": [
       "[[1, 2], [3, 4], [5, 6], [7, 8], [9, 0]]"
      ]
     },
     "execution_count": 10,
     "metadata": {},
     "output_type": "execute_result"
    }
   ],
   "source": [
    "a = \"[[1,2], [3,4], [5,6], [7,8], [9,0]]\"\n",
    "b = eval(a)\n",
    "b"
   ]
  },
  {
   "cell_type": "code",
   "execution_count": 11,
   "metadata": {},
   "outputs": [
    {
     "data": {
      "text/plain": [
       "list"
      ]
     },
     "execution_count": 11,
     "metadata": {},
     "output_type": "execute_result"
    }
   ],
   "source": [
    "type(b)"
   ]
  },
  {
   "cell_type": "code",
   "execution_count": 12,
   "metadata": {},
   "outputs": [
    {
     "data": {
      "text/plain": [
       "{1: 'a', 2: 'b'}"
      ]
     },
     "execution_count": 12,
     "metadata": {},
     "output_type": "execute_result"
    }
   ],
   "source": [
    "a = \"{1: 'a', 2: 'b'}\"\n",
    "b = eval(a)\n",
    "b"
   ]
  },
  {
   "cell_type": "code",
   "execution_count": 13,
   "metadata": {},
   "outputs": [
    {
     "data": {
      "text/plain": [
       "dict"
      ]
     },
     "execution_count": 13,
     "metadata": {},
     "output_type": "execute_result"
    }
   ],
   "source": [
    "type(b)"
   ]
  },
  {
   "cell_type": "code",
   "execution_count": 14,
   "metadata": {},
   "outputs": [
    {
     "data": {
      "text/plain": [
       "([1, 2], [3, 4], [5, 6], [7, 8], [9, 0])"
      ]
     },
     "execution_count": 14,
     "metadata": {},
     "output_type": "execute_result"
    }
   ],
   "source": [
    "a = \"([1,2], [3,4], [5,6], [7,8], [9,0])\"\n",
    "b = eval(a)\n",
    "b"
   ]
  },
  {
   "cell_type": "code",
   "execution_count": 15,
   "metadata": {},
   "outputs": [
    {
     "data": {
      "text/plain": [
       "tuple"
      ]
     },
     "execution_count": 15,
     "metadata": {},
     "output_type": "execute_result"
    }
   ],
   "source": [
    "type(b)"
   ]
  },
  {
   "cell_type": "code",
   "execution_count": 16,
   "metadata": {},
   "outputs": [
    {
     "data": {
      "text/plain": [
       "('UA', '健身運動', '運動內衣')"
      ]
     },
     "execution_count": 16,
     "metadata": {},
     "output_type": "execute_result"
    }
   ],
   "source": [
    "j = \"('UA','健身運動','運動內衣')\"\n",
    "j_tuple = eval(j)  # str->tuple\n",
    "j_tuple"
   ]
  },
  {
   "cell_type": "code",
   "execution_count": 17,
   "metadata": {},
   "outputs": [
    {
     "data": {
      "text/html": [
       "<div>\n",
       "<style scoped>\n",
       "    .dataframe tbody tr th:only-of-type {\n",
       "        vertical-align: middle;\n",
       "    }\n",
       "\n",
       "    .dataframe tbody tr th {\n",
       "        vertical-align: top;\n",
       "    }\n",
       "\n",
       "    .dataframe thead th {\n",
       "        text-align: right;\n",
       "    }\n",
       "</style>\n",
       "<table border=\"1\" class=\"dataframe\">\n",
       "  <thead>\n",
       "    <tr style=\"text-align: right;\">\n",
       "      <th></th>\n",
       "      <th>0</th>\n",
       "    </tr>\n",
       "  </thead>\n",
       "  <tbody>\n",
       "    <tr>\n",
       "      <th>0</th>\n",
       "      <td>UA</td>\n",
       "    </tr>\n",
       "    <tr>\n",
       "      <th>1</th>\n",
       "      <td>健身運動</td>\n",
       "    </tr>\n",
       "    <tr>\n",
       "      <th>2</th>\n",
       "      <td>運動內衣</td>\n",
       "    </tr>\n",
       "  </tbody>\n",
       "</table>\n",
       "</div>"
      ],
      "text/plain": [
       "      0\n",
       "0    UA\n",
       "1  健身運動\n",
       "2  運動內衣"
      ]
     },
     "execution_count": 17,
     "metadata": {},
     "output_type": "execute_result"
    }
   ],
   "source": [
    "j_df = pd.DataFrame(j_tuple)  # tuple->df\n",
    "j_df"
   ]
  },
  {
   "cell_type": "markdown",
   "metadata": {},
   "source": [
    "### eval應用與資料格式轉換"
   ]
  },
  {
   "cell_type": "code",
   "execution_count": 18,
   "metadata": {},
   "outputs": [
    {
     "data": {
      "text/plain": [
       "[{'user': 'ammou', 'content': '覺得真的頗亂？'}, {'user': 'mary', 'content': '我很開心'}]"
      ]
     },
     "execution_count": 18,
     "metadata": {},
     "output_type": "execute_result"
    }
   ],
   "source": [
    "liststr = \"[{'user': 'ammou', 'content': '覺得真的頗亂？'},{'user': 'mary', 'content': '我很開心'}]\"\n",
    "\n",
    "liststr_list = eval(liststr)  # eval傳回字串表示式結果, 即一個list\n",
    "liststr_list"
   ]
  },
  {
   "cell_type": "code",
   "execution_count": 19,
   "metadata": {},
   "outputs": [
    {
     "data": {
      "text/html": [
       "<div>\n",
       "<style scoped>\n",
       "    .dataframe tbody tr th:only-of-type {\n",
       "        vertical-align: middle;\n",
       "    }\n",
       "\n",
       "    .dataframe tbody tr th {\n",
       "        vertical-align: top;\n",
       "    }\n",
       "\n",
       "    .dataframe thead th {\n",
       "        text-align: right;\n",
       "    }\n",
       "</style>\n",
       "<table border=\"1\" class=\"dataframe\">\n",
       "  <thead>\n",
       "    <tr style=\"text-align: right;\">\n",
       "      <th></th>\n",
       "      <th>user</th>\n",
       "      <th>content</th>\n",
       "    </tr>\n",
       "  </thead>\n",
       "  <tbody>\n",
       "    <tr>\n",
       "      <th>0</th>\n",
       "      <td>ammou</td>\n",
       "      <td>覺得真的頗亂？</td>\n",
       "    </tr>\n",
       "    <tr>\n",
       "      <th>1</th>\n",
       "      <td>mary</td>\n",
       "      <td>我很開心</td>\n",
       "    </tr>\n",
       "  </tbody>\n",
       "</table>\n",
       "</div>"
      ],
      "text/plain": [
       "    user  content\n",
       "0  ammou  覺得真的頗亂？\n",
       "1   mary     我很開心"
      ]
     },
     "execution_count": 19,
     "metadata": {},
     "output_type": "execute_result"
    }
   ],
   "source": [
    "liststr_list_df = pd.DataFrame(liststr_list)  # list轉換為DataFrame\n",
    "liststr_list_df"
   ]
  },
  {
   "cell_type": "markdown",
   "metadata": {},
   "source": [
    "### 問題:請讀入PTT_運動內衣_onepage資料.csv後，第一列留言資料展開"
   ]
  },
  {
   "cell_type": "code",
   "execution_count": 20,
   "metadata": {},
   "outputs": [
    {
     "data": {
      "text/plain": [
       "[{'type': '推',\n",
       "  'user': 'justoncetime',\n",
       "  'content': '可惡的亂板人 (#‵′)凸',\n",
       "  'ipdatetime': '05/30 22:50'},\n",
       " {'type': '推',\n",
       "  'user': 'sukiyasuki',\n",
       "  'content': '看了這個公告讓我好害怕0.0感謝版主提醒，再次去撤照',\n",
       "  'ipdatetime': '05/30 22:52'},\n",
       " {'type': '→',\n",
       "  'user': 'sukiyasuki',\n",
       "  'content': '片！',\n",
       "  'ipdatetime': '05/30 22:52'},\n",
       " {'type': '推',\n",
       "  'user': 'zebra1986',\n",
       "  'content': '版主辛苦了！',\n",
       "  'ipdatetime': '05/30 23:01'},\n",
       " {'type': '推', 'user': 'fakeID', 'content': '唉。', 'ipdatetime': '05/30 23:40'},\n",
       " {'type': '→', 'user': 'jqk910', 'content': '無奈', 'ipdatetime': '05/30 23:50'},\n",
       " {'type': '→',\n",
       "  'user': 'orgasm5566',\n",
       "  'content': '騷擾的人到底是存什麼心態啊，就不能單純欣賞內衣的',\n",
       "  'ipdatetime': '05/31 00:25'},\n",
       " {'type': '→',\n",
       "  'user': 'orgasm5566',\n",
       "  'content': '美，給予真誠的讚美就好嗎，你們的舉動都正在一點一滴',\n",
       "  'ipdatetime': '05/31 00:26'},\n",
       " {'type': '→',\n",
       "  'user': 'orgasm5566',\n",
       "  'content': '地澆熄板友的熱情與信任。一點都不尊重發文者，最後就',\n",
       "  'ipdatetime': '05/31 00:26'},\n",
       " {'type': '→',\n",
       "  'user': 'orgasm5566',\n",
       "  'content': '是不會再有任何一篇心得文',\n",
       "  'ipdatetime': '05/31 00:26'},\n",
       " {'type': '推',\n",
       "  'user': 'oldsummer',\n",
       "  'content': '高調',\n",
       "  'ipdatetime': '05/31 00:32'},\n",
       " {'type': '推',\n",
       "  'user': 'milkyogurt',\n",
       "  'content': '感覺好可怕',\n",
       "  'ipdatetime': '05/31 01:27'},\n",
       " {'type': '推',\n",
       "  'user': 'yorurin',\n",
       "  'content': '幫高調',\n",
       "  'ipdatetime': '05/31 08:06'},\n",
       " {'type': '推',\n",
       "  'user': 'su06231112',\n",
       "  'content': '哎',\n",
       "  'ipdatetime': '05/31 08:15'},\n",
       " {'type': '→',\n",
       "  'user': 'lookeye',\n",
       "  'content': '好誇張',\n",
       "  'ipdatetime': '05/31 08:24'},\n",
       " {'type': '推',\n",
       "  'user': 'touchofgreen',\n",
       "  'content': '同意高潮5566~給予真誠的讚美就是對分享者最大的鼓',\n",
       "  'ipdatetime': '05/31 10:11'},\n",
       " {'type': '→',\n",
       "  'user': 'touchofgreen',\n",
       "  'content': '勵！我還碰過裝女生的男生來信問我私密問題',\n",
       "  'ipdatetime': '05/31 10:12'},\n",
       " {'type': '→',\n",
       "  'user': 'touchofgreen',\n",
       "  'content': '真的很無言！',\n",
       "  'ipdatetime': '05/31 10:13'},\n",
       " {'type': '→',\n",
       "  'user': 'touchofgreen',\n",
       "  'content': '還碰過有女友/老婆的男生騷擾，我真的不懂都已經有',\n",
       "  'ipdatetime': '05/31 10:14'},\n",
       " {'type': '→',\n",
       "  'user': 'touchofgreen',\n",
       "  'content': '另一半了還騷擾板上女生的居心到底是什麼？',\n",
       "  'ipdatetime': '05/31 10:14'},\n",
       " {'type': '推',\n",
       "  'user': 'jqk910',\n",
       "  'content': '苦了一把青大了',\n",
       "  'ipdatetime': '05/31 10:30'},\n",
       " {'type': '推',\n",
       "  'user': 'chuben',\n",
       "  'content': '變態...',\n",
       "  'ipdatetime': '05/31 10:30'},\n",
       " {'type': '推',\n",
       "  'user': 'chupiggy',\n",
       "  'content': '高潮56自己也是男的吧，之前某篇還問板友網誌的密碼',\n",
       "  'ipdatetime': '05/31 10:36'},\n",
       " {'type': '推',\n",
       "  'user': 'fakeID',\n",
       "  'content': '身為男生的我，也很難了解會想在這騷擾的同性在想什麼呢。',\n",
       "  'ipdatetime': '05/31 11:05'},\n",
       " {'type': '推',\n",
       "  'user': 'orgasm5566',\n",
       "  'content': '我是男是女有很重要嗎，密碼至少我敢在推文問，我又沒',\n",
       "  'ipdatetime': '05/31 13:43'},\n",
       " {'type': '→',\n",
       "  'user': 'orgasm5566',\n",
       "  'content': '有騷擾任何人，沒必要因為性別而去扣人家帽子(?',\n",
       "  'ipdatetime': '05/31 13:43'},\n",
       " {'type': '→',\n",
       "  'user': 'purpleboy01',\n",
       "  'content': '很多男板友其實也只是欣賞啦 不是男生就有什麼意圖~',\n",
       "  'ipdatetime': '05/31 14:39'},\n",
       " {'type': '→',\n",
       "  'user': 'purpleboy01',\n",
       "  'content': '騷擾的就超過了',\n",
       "  'ipdatetime': '05/31 14:40'},\n",
       " {'type': '推',\n",
       "  'user': 'sukiyasuki',\n",
       "  'content': 'Orgasm大只是在推文中說想看而已啦～他知道原po只給女',\n",
       "  'ipdatetime': '05/31 14:53'},\n",
       " {'type': '→',\n",
       "  'user': 'sukiyasuki',\n",
       "  'content': '生網誌密碼後連站內信也沒寄～他是內衣版很棒的支持',\n",
       "  'ipdatetime': '05/31 14:53'},\n",
       " {'type': '→',\n",
       "  'user': 'sukiyasuki',\n",
       "  'content': '者！',\n",
       "  'ipdatetime': '05/31 14:53'},\n",
       " {'type': '推',\n",
       "  'user': 'jiahueihong',\n",
       "  'content': '真的很討厭騷擾的人，我也被寄信是怎樣 XD',\n",
       "  'ipdatetime': '05/31 15:56'},\n",
       " {'type': '推',\n",
       "  'user': 'bittywind',\n",
       "  'content': '所有願意分享的女生辛苦了，真的很討厭少數亂來的..',\n",
       "  'ipdatetime': '05/31 16:21'},\n",
       " {'type': '推',\n",
       "  'user': 'seagirl715',\n",
       "  'content': '我想版主的意思應該不只是純粹有人會寄信騷擾，也要',\n",
       "  'ipdatetime': '05/31 18:13'},\n",
       " {'type': '推',\n",
       "  'user': 'seagirl715',\n",
       "  'content': '擔心看起來是女生的帳號，畢竟我們不知道電腦前是誰',\n",
       "  'ipdatetime': '05/31 18:16'},\n",
       " {'type': '→',\n",
       "  'user': 'seagirl715',\n",
       "  'content': '男生和女生不一樣,女生會手牽手去廁所或聊私人事情',\n",
       "  'ipdatetime': '05/31 18:16'},\n",
       " {'type': '→',\n",
       "  'user': 'seagirl715',\n",
       "  'content': '這樣的習性可能讓男生偽裝成女生和我們互動,使女生',\n",
       "  'ipdatetime': '05/31 18:18'},\n",
       " {'type': '→',\n",
       "  'user': 'seagirl715',\n",
       "  'content': '分享了自己穿內衣的美照,即便對方傳了內衣照回來,也',\n",
       "  'ipdatetime': '05/31 18:19'},\n",
       " {'type': '→',\n",
       "  'user': 'seagirl715',\n",
       "  'content': '很可能是網路抓的,所以不論是看起來男性還是女性的帳',\n",
       "  'ipdatetime': '05/31 18:19'},\n",
       " {'type': '→',\n",
       "  'user': 'seagirl715',\n",
       "  'content': '號,只要他是陌生的未見面的,都應當要當心!畢竟我們',\n",
       "  'ipdatetime': '05/31 18:20'},\n",
       " {'type': '→',\n",
       "  'user': 'seagirl715',\n",
       "  'content': '不知道這個陌生帳號的背後是什麼樣子的人!',\n",
       "  'ipdatetime': '05/31 18:21'},\n",
       " {'type': '→',\n",
       "  'user': 'touchofgreen',\n",
       "  'content': '我在板上發完文章後，有人寄信過來只寫了五個字',\n",
       "  'ipdatetime': '05/31 18:42'},\n",
       " {'type': '→',\n",
       "  'user': 'touchofgreen',\n",
       "  'content': '「一把青好看」，我又不是在TaiwanDrama版發文',\n",
       "  'ipdatetime': '05/31 18:42'},\n",
       " {'type': '→',\n",
       "  'user': 'touchofgreen',\n",
       "  'content': '令人哭笑不得XD',\n",
       "  'ipdatetime': '05/31 18:42'},\n",
       " {'type': '推',\n",
       "  'user': 'purpleboy01',\n",
       "  'content': 'XDDDD',\n",
       "  'ipdatetime': '05/31 19:44'},\n",
       " {'type': '推',\n",
       "  'user': 'aurora1859',\n",
       "  'content': '還好我都沒被騷擾過哈哈～',\n",
       "  'ipdatetime': '05/31 20:47'},\n",
       " {'type': '推',\n",
       "  'user': 'Missnanako',\n",
       "  'content': '今天買了新內衣，本來想分享，但是想到上次發文的站內',\n",
       "  'ipdatetime': '05/31 22:08'},\n",
       " {'type': '→',\n",
       "  'user': 'Missnanako',\n",
       "  'content': '信就覺得還是算了。',\n",
       "  'ipdatetime': '05/31 22:08'},\n",
       " {'type': '推',\n",
       "  'user': 'SANDRAHO',\n",
       "  'content': '我也碰過要買舊內衣的男生，說要收藏…是有病嗎？！我',\n",
       "  'ipdatetime': '05/31 23:15'},\n",
       " {'type': '→',\n",
       "  'user': 'SANDRAHO',\n",
       "  'content': '說我都穿到爛穿到破才丟…',\n",
       "  'ipdatetime': '05/31 23:15'},\n",
       " {'type': '→',\n",
       "  'user': 'piqnts',\n",
       "  'content': '你們都太廢 只有我有辦法拿到看到 的心態吧',\n",
       "  'ipdatetime': '05/31 23:17'},\n",
       " {'type': '推',\n",
       "  'user': 'GaNH3',\n",
       "  'content': '我也有遇過...超過兩年前po過實穿照結果被沒有ptt帳號的男',\n",
       "  'ipdatetime': '05/31 23:50'},\n",
       " {'type': '→',\n",
       "  'user': 'GaNH3',\n",
       "  'content': '生找到我的臉書跑來私訊我說謝謝我的照片(?!)還說照片已經',\n",
       "  'ipdatetime': '05/31 23:51'},\n",
       " {'type': '→',\n",
       "  'user': 'GaNH3',\n",
       "  'content': '流到某些社團/論壇(?)撤了也沒用QQ',\n",
       "  'ipdatetime': '05/31 23:51'},\n",
       " {'type': '→',\n",
       "  'user': 'justoncetime',\n",
       "  'content': '如果不是照片加註ID得知,那傳播者可能是報復心態 唉',\n",
       "  'ipdatetime': '06/01 00:51'},\n",
       " {'type': '推',\n",
       "  'user': 'mamajustgo',\n",
       "  'content': '看過他板對這裡的評論後，決定無法匿名的話，絕不發',\n",
       "  'ipdatetime': '06/01 01:46'},\n",
       " {'type': '→',\n",
       "  'user': 'mamajustgo',\n",
       "  'content': '石川照，沒有盲腸總不會有盲腸炎XD',\n",
       "  'ipdatetime': '06/01 01:46'},\n",
       " {'type': '推',\n",
       "  'user': 'coco15683',\n",
       "  'content': '想知道mama大說的評論~',\n",
       "  'ipdatetime': '06/01 02:27'},\n",
       " {'type': '→',\n",
       "  'user': 'hsiao28',\n",
       "  'content': '樓樓上，板上有匿名帳可以使用喔',\n",
       "  'ipdatetime': '06/01 09:04'},\n",
       " {'type': '推',\n",
       "  'user': 'touchofgreen',\n",
       "  'content': '想知道mama大說的評論～',\n",
       "  'ipdatetime': '06/01 10:55'},\n",
       " {'type': '推',\n",
       "  'user': 'Ryuji',\n",
       "  'content': '在想應該跟之前表特版的情況類似，不想上表特的女生照片',\n",
       "  'ipdatetime': '06/01 11:35'},\n",
       " {'type': '→',\n",
       "  'user': 'ffwind',\n",
       "  'content': '不好意思，在下也是表特板主 orz',\n",
       "  'ipdatetime': '06/01 11:40'},\n",
       " {'type': '推',\n",
       "  'user': 'Ryuji',\n",
       "  'content': '被人po上表特版或是FB可連結觀賞的論壇～曝露其個人隱私',\n",
       "  'ipdatetime': '06/01 11:43'},\n",
       " {'type': '→',\n",
       "  'user': 'Ryuji',\n",
       "  'content': '剛好我在工作回應…我也正想睡說我有發現妳也是表特版主',\n",
       "  'ipdatetime': '06/01 11:45'},\n",
       " {'type': '推',\n",
       "  'user': 'Ryuji',\n",
       "  'content': '從上次有男姓裝女姓來版上想騙女生開群組求實穿照',\n",
       "  'ipdatetime': '06/01 11:55'},\n",
       " {'type': '推',\n",
       "  'user': 'Ryuji',\n",
       "  'content': '自己身為男姓就該懂得尊重外，也要懂得避嫌～',\n",
       "  'ipdatetime': '06/01 11:57'},\n",
       " {'type': '推',\n",
       "  'user': 'Ryuji',\n",
       "  'content': '自問當分享者用匿名分享，而自己無意間知道對方的隱私',\n",
       "  'ipdatetime': '06/01 11:59'},\n",
       " {'type': '→',\n",
       "  'user': 'Ryuji',\n",
       "  'content': '換成是我自己，我真的會覺得渾身不自在…',\n",
       "  'ipdatetime': '06/01 12:00'},\n",
       " {'type': '→',\n",
       "  'user': 'Ryuji',\n",
       "  'content': '分享是很好的事，但真的自己也要懂得保護好自己！',\n",
       "  'ipdatetime': '06/01 12:01'},\n",
       " {'type': '推',\n",
       "  'user': 'mamajustgo',\n",
       "  'content': '大意是，沒有想約之流的意圖，怎麼會po姿態煽情的內',\n",
       "  'ipdatetime': '06/01 15:09'},\n",
       " {'type': '→',\n",
       "  'user': 'mamajustgo',\n",
       "  'content': '衣照。因為那陣子板上確實有些尺度非常大方的照片出現',\n",
       "  'ipdatetime': '06/01 15:09'},\n",
       " {'type': '→',\n",
       "  'user': 'mamajustgo',\n",
       "  'content': '，所以就覺得，算了，反正不是非po不可，不想給自己',\n",
       "  'ipdatetime': '06/01 15:09'},\n",
       " {'type': '→',\n",
       "  'user': 'mamajustgo',\n",
       "  'content': '找麻煩XD',\n",
       "  'ipdatetime': '06/01 15:10'},\n",
       " {'type': '→',\n",
       "  'user': 'jqk910',\n",
       "  'content': 'Po者無心，觀者有意吧',\n",
       "  'ipdatetime': '06/01 15:14'},\n",
       " {'type': '推',\n",
       "  'user': 'touchofgreen',\n",
       "  'content': '女生看女生的內衣照 我只會覺得哇好美哦～',\n",
       "  'ipdatetime': '06/01 15:21'},\n",
       " {'type': '→',\n",
       "  'user': 'touchofgreen',\n",
       "  'content': '果然兩性的腦袋組成大不相同XDDD',\n",
       "  'ipdatetime': '06/01 15:21'},\n",
       " {'type': '推',\n",
       "  'user': 'justin61417',\n",
       "  'content': '推推',\n",
       "  'ipdatetime': '06/01 17:17'},\n",
       " {'type': '推',\n",
       "  'user': 'acps89188',\n",
       "  'content': '難道那些人就不能安分守己，用欣賞的角度去看嗎？說真',\n",
       "  'ipdatetime': '06/02 00:36'},\n",
       " {'type': '→',\n",
       "  'user': 'acps89188',\n",
       "  'content': '的只拍內衣照和實穿照，我也是希望有實穿照，能襯托出',\n",
       "  'ipdatetime': '06/02 00:36'},\n",
       " {'type': '→',\n",
       "  'user': 'acps89188',\n",
       "  'content': '內衣的美（生火就很想買啊！剁手），不能當作一般試穿',\n",
       "  'ipdatetime': '06/02 00:36'},\n",
       " {'type': '→',\n",
       "  'user': 'acps89188',\n",
       "  'content': '衣服看待嗎？一定要用有色角度去看嗎？那就都不要有麻',\n",
       "  'ipdatetime': '06/02 00:36'},\n",
       " {'type': '→',\n",
       "  'user': 'acps89188',\n",
       "  'content': '豆穿內衣的廣告了',\n",
       "  'ipdatetime': '06/02 00:36'},\n",
       " {'type': '推',\n",
       "  'user': 'mamajustgo',\n",
       "  'content': '啊！我目小，謝謝hs大～不過看起來被使用頻率不高？',\n",
       "  'ipdatetime': '06/02 00:41'},\n",
       " {'type': '→',\n",
       "  'user': 'mamajustgo',\n",
       "  'content': '挫挫的XD我看石川照都在看透不透、會不會需要胸貼之',\n",
       "  'ipdatetime': '06/02 00:41'},\n",
       " {'type': '→',\n",
       "  'user': 'mamajustgo',\n",
       "  'content': '類的，所以對我而言其實很實用啊……',\n",
       "  'ipdatetime': '06/02 00:41'},\n",
       " {'type': '推',\n",
       "  'user': 'bake047',\n",
       "  'content': '還是只能冀望某些人自重囉',\n",
       "  'ipdatetime': '06/02 05:36'},\n",
       " {'type': '推',\n",
       "  'user': 'spadej69171',\n",
       "  'content': 'Ga大  好可怕QQ',\n",
       "  'ipdatetime': '06/02 13:40'},\n",
       " {'type': '→',\n",
       "  'user': 'sichi',\n",
       "  'content': '希望那些檢舉需要幫忙的  沒有半個是之前說點沒遮ok的',\n",
       "  'ipdatetime': '06/03 13:56'},\n",
       " {'type': '→',\n",
       "  'user': 'sichi',\n",
       "  'content': '心得文  還是可以po啊  內衣照還是可以放啊  只要不是實穿',\n",
       "  'ipdatetime': '06/03 13:57'},\n",
       " {'type': '→',\n",
       "  'user': 'sichi',\n",
       "  'content': '或是實穿  但是外加小可愛或T恤啊  還不是一樣可以',\n",
       "  'ipdatetime': '06/03 13:57'},\n",
       " {'type': '推',\n",
       "  'user': 'almondchoco',\n",
       "  'content': '這些男的真的很噁心 想看情色照為何不去看A片啊？',\n",
       "  'ipdatetime': '06/08 22:51'},\n",
       " {'type': '推',\n",
       "  'user': 'akiracomw',\n",
       "  'content': 'http://i.imgur.com/bEnXtFe.jpg   可以參考女性性版',\n",
       "  'ipdatetime': '06/18 18:42'},\n",
       " {'type': '推',\n",
       "  'user': 'lookptt',\n",
       "  'content': '用匿名板貼啊',\n",
       "  'ipdatetime': '06/24 00:30'},\n",
       " {'type': '推',\n",
       "  'user': 'zdlnmuyl',\n",
       "  'content': '唉…本來想分享這次網購的曼黛瑪蓮，看到這個…嗯，好哦',\n",
       "  'ipdatetime': '12/07 23:50'},\n",
       " {'type': '推',\n",
       "  'user': 'imaclone',\n",
       "  'content': '請問是連沒有拍到臉的都不行嗎？',\n",
       "  'ipdatetime': '12/18 13:40'},\n",
       " {'type': '→',\n",
       "  'user': 'chiinlin',\n",
       "  'content': '像isuck生理為女性',\n",
       "  'ipdatetime': '11/09 09:43'},\n",
       " {'type': '推',\n",
       "  'user': 'paralupi',\n",
       "  'content': 'https://i.imgur.com/E9Zgh8L.jpg',\n",
       "  'ipdatetime': '11/14 17:34'},\n",
       " {'type': '推',\n",
       "  'user': 'reya1017',\n",
       "  'content': '昨天剛發完文   早上就收到騷擾信  這些人是白癡嗎？',\n",
       "  'ipdatetime': '12/11 12:04'},\n",
       " {'type': '推',\n",
       "  'user': 'AmerieBB',\n",
       "  'content': '小心有人會站內信先發自己的內衣照（可能是網路抓圖），',\n",
       "  'ipdatetime': '08/06 12:14'},\n",
       " {'type': '→',\n",
       "  'user': 'AmerieBB',\n",
       "  'content': '然後說好奇妳穿xx牌的胸型可不可以傳圖給他看，請警覺。',\n",
       "  'ipdatetime': '08/06 12:14'},\n",
       " {'type': '推',\n",
       "  'user': 'bibikklmm76',\n",
       "  'content': 'Chante',\n",
       "  'ipdatetime': '05/30 00:48'},\n",
       " {'type': '→',\n",
       "  'user': 'rerun',\n",
       "  'content': 'swear 思薇爾',\n",
       "  'ipdatetime': '07/16 15:42'}]"
      ]
     },
     "execution_count": 20,
     "metadata": {},
     "output_type": "execute_result"
    }
   ],
   "source": [
    "underwearData = pd.read_csv(\"PTT_運動內衣_onepage資料.csv\")\n",
    "test = underwearData[\"留言內容\"].iloc[0]\n",
    "\n",
    "eval(test)"
   ]
  },
  {
   "cell_type": "markdown",
   "metadata": {},
   "source": [
    "## List, Dict, Str變DataFrame"
   ]
  },
  {
   "cell_type": "markdown",
   "metadata": {},
   "source": [
    "### Dict包含一筆資料"
   ]
  },
  {
   "cell_type": "code",
   "execution_count": 21,
   "metadata": {},
   "outputs": [],
   "source": [
    "dic = {\n",
    "    \"type\": \"推\",\n",
    "    \"user\": \"ammou\",\n",
    "    \"content\": \"覺得真的頗亂，所以20%以上什麼都無法領嗎？\",\n",
    "    \"ipdatetime\": \"07/25 11:24\",\n",
    "}"
   ]
  },
  {
   "cell_type": "markdown",
   "metadata": {},
   "source": [
    "### 問題: 請將上述dic轉為df"
   ]
  },
  {
   "cell_type": "code",
   "execution_count": 22,
   "metadata": {},
   "outputs": [
    {
     "data": {
      "text/html": [
       "<div>\n",
       "<style scoped>\n",
       "    .dataframe tbody tr th:only-of-type {\n",
       "        vertical-align: middle;\n",
       "    }\n",
       "\n",
       "    .dataframe tbody tr th {\n",
       "        vertical-align: top;\n",
       "    }\n",
       "\n",
       "    .dataframe thead th {\n",
       "        text-align: right;\n",
       "    }\n",
       "</style>\n",
       "<table border=\"1\" class=\"dataframe\">\n",
       "  <thead>\n",
       "    <tr style=\"text-align: right;\">\n",
       "      <th></th>\n",
       "      <th>type</th>\n",
       "      <th>user</th>\n",
       "      <th>content</th>\n",
       "      <th>ipdatetime</th>\n",
       "    </tr>\n",
       "  </thead>\n",
       "  <tbody>\n",
       "    <tr>\n",
       "      <th>0</th>\n",
       "      <td>推</td>\n",
       "      <td>ammou</td>\n",
       "      <td>覺得真的頗亂，所以20%以上什麼都無法領嗎？</td>\n",
       "      <td>07/25 11:24</td>\n",
       "    </tr>\n",
       "  </tbody>\n",
       "</table>\n",
       "</div>"
      ],
      "text/plain": [
       "  type   user                 content   ipdatetime\n",
       "0    推  ammou  覺得真的頗亂，所以20%以上什麼都無法領嗎？  07/25 11:24"
      ]
     },
     "execution_count": 22,
     "metadata": {},
     "output_type": "execute_result"
    }
   ],
   "source": [
    "# 請在這裡解答\n",
    "\n",
    "dic_df = pd.DataFrame([dic])\n",
    "dic_df"
   ]
  },
  {
   "cell_type": "markdown",
   "metadata": {},
   "source": [
    "### Dict包含一筆資料，Dict格式以str表示"
   ]
  },
  {
   "cell_type": "code",
   "execution_count": 23,
   "metadata": {},
   "outputs": [],
   "source": [
    "strdic = \"{'type': '推', 'user': 'ammou', 'content': '覺得真的頗亂，所以20%以上什麼都無法領嗎？', 'ipdatetime': '07/25 11:24'}\""
   ]
  },
  {
   "cell_type": "markdown",
   "metadata": {},
   "source": [
    "### 請將str-dic轉成DataFrame"
   ]
  },
  {
   "cell_type": "code",
   "execution_count": 24,
   "metadata": {},
   "outputs": [
    {
     "data": {
      "text/plain": [
       "{'type': '推',\n",
       " 'user': 'ammou',\n",
       " 'content': '覺得真的頗亂，所以20%以上什麼都無法領嗎？',\n",
       " 'ipdatetime': '07/25 11:24'}"
      ]
     },
     "execution_count": 24,
     "metadata": {},
     "output_type": "execute_result"
    }
   ],
   "source": [
    "eval(strdic)"
   ]
  },
  {
   "cell_type": "code",
   "execution_count": 25,
   "metadata": {},
   "outputs": [
    {
     "data": {
      "text/html": [
       "<div>\n",
       "<style scoped>\n",
       "    .dataframe tbody tr th:only-of-type {\n",
       "        vertical-align: middle;\n",
       "    }\n",
       "\n",
       "    .dataframe tbody tr th {\n",
       "        vertical-align: top;\n",
       "    }\n",
       "\n",
       "    .dataframe thead th {\n",
       "        text-align: right;\n",
       "    }\n",
       "</style>\n",
       "<table border=\"1\" class=\"dataframe\">\n",
       "  <thead>\n",
       "    <tr style=\"text-align: right;\">\n",
       "      <th></th>\n",
       "      <th>type</th>\n",
       "      <th>user</th>\n",
       "      <th>content</th>\n",
       "      <th>ipdatetime</th>\n",
       "    </tr>\n",
       "  </thead>\n",
       "  <tbody>\n",
       "    <tr>\n",
       "      <th>0</th>\n",
       "      <td>推</td>\n",
       "      <td>ammou</td>\n",
       "      <td>覺得真的頗亂，所以20%以上什麼都無法領嗎？</td>\n",
       "      <td>07/25 11:24</td>\n",
       "    </tr>\n",
       "  </tbody>\n",
       "</table>\n",
       "</div>"
      ],
      "text/plain": [
       "  type   user                 content   ipdatetime\n",
       "0    推  ammou  覺得真的頗亂，所以20%以上什麼都無法領嗎？  07/25 11:24"
      ]
     },
     "execution_count": 25,
     "metadata": {},
     "output_type": "execute_result"
    }
   ],
   "source": [
    "new2 = pd.DataFrame([eval(strdic)])  # 將str-dic-df\n",
    "new2"
   ]
  },
  {
   "cell_type": "markdown",
   "metadata": {},
   "source": [
    "### Dict List包含二筆資料"
   ]
  },
  {
   "cell_type": "code",
   "execution_count": 26,
   "metadata": {},
   "outputs": [],
   "source": [
    "diclist = [\n",
    "    {\n",
    "        \"type\": \"推\",\n",
    "        \"user\": \"ammou\",\n",
    "        \"content\": \"覺得真的頗亂，所以20%以上什麼都無法領嗎？\",\n",
    "        \"ipdatetime\": \"07/25 11:24\",\n",
    "    },\n",
    "    {\n",
    "        \"type\": \"推\",\n",
    "        \"user\": \"mary\",\n",
    "        \"content\": \"覺得很開心，大家太棒了\",\n",
    "        \"ipdatetime\": \"07/26 12:00\",\n",
    "    },\n",
    "]"
   ]
  },
  {
   "cell_type": "markdown",
   "metadata": {},
   "source": [
    "### 請將diclist變成DataFrame"
   ]
  },
  {
   "cell_type": "code",
   "execution_count": 27,
   "metadata": {},
   "outputs": [
    {
     "data": {
      "text/html": [
       "<div>\n",
       "<style scoped>\n",
       "    .dataframe tbody tr th:only-of-type {\n",
       "        vertical-align: middle;\n",
       "    }\n",
       "\n",
       "    .dataframe tbody tr th {\n",
       "        vertical-align: top;\n",
       "    }\n",
       "\n",
       "    .dataframe thead th {\n",
       "        text-align: right;\n",
       "    }\n",
       "</style>\n",
       "<table border=\"1\" class=\"dataframe\">\n",
       "  <thead>\n",
       "    <tr style=\"text-align: right;\">\n",
       "      <th></th>\n",
       "      <th>type</th>\n",
       "      <th>user</th>\n",
       "      <th>content</th>\n",
       "      <th>ipdatetime</th>\n",
       "    </tr>\n",
       "  </thead>\n",
       "  <tbody>\n",
       "    <tr>\n",
       "      <th>0</th>\n",
       "      <td>推</td>\n",
       "      <td>ammou</td>\n",
       "      <td>覺得真的頗亂，所以20%以上什麼都無法領嗎？</td>\n",
       "      <td>07/25 11:24</td>\n",
       "    </tr>\n",
       "    <tr>\n",
       "      <th>1</th>\n",
       "      <td>推</td>\n",
       "      <td>mary</td>\n",
       "      <td>覺得很開心，大家太棒了</td>\n",
       "      <td>07/26 12:00</td>\n",
       "    </tr>\n",
       "  </tbody>\n",
       "</table>\n",
       "</div>"
      ],
      "text/plain": [
       "  type   user                 content   ipdatetime\n",
       "0    推  ammou  覺得真的頗亂，所以20%以上什麼都無法領嗎？  07/25 11:24\n",
       "1    推   mary             覺得很開心，大家太棒了  07/26 12:00"
      ]
     },
     "execution_count": 27,
     "metadata": {},
     "output_type": "execute_result"
    }
   ],
   "source": [
    "new3 = pd.DataFrame(diclist)  # list轉為df\n",
    "new3"
   ]
  },
  {
   "cell_type": "markdown",
   "metadata": {},
   "source": [
    "### Dict List包含二筆資料, Dict格式以str表示"
   ]
  },
  {
   "cell_type": "code",
   "execution_count": 28,
   "metadata": {},
   "outputs": [],
   "source": [
    "dicliststr = str(\n",
    "    [\n",
    "        {\n",
    "            \"type\": \"推\",\n",
    "            \"user\": \"ammou\",\n",
    "            \"content\": \"覺得真的頗亂，所以20%以上什麼都無法領嗎？\",\n",
    "            \"ipdatetime\": \"07/25 11:24\",\n",
    "        },\n",
    "        {\n",
    "            \"type\": \"推\",\n",
    "            \"user\": \"mary\",\n",
    "            \"content\": \"覺得很開心，大家太棒了\",\n",
    "            \"ipdatetime\": \"07/26 12:00\",\n",
    "        },\n",
    "    ]\n",
    ")"
   ]
  },
  {
   "cell_type": "markdown",
   "metadata": {},
   "source": [
    "### 請將dicliststr變成DataFrame"
   ]
  },
  {
   "cell_type": "code",
   "execution_count": 29,
   "metadata": {},
   "outputs": [
    {
     "data": {
      "text/html": [
       "<div>\n",
       "<style scoped>\n",
       "    .dataframe tbody tr th:only-of-type {\n",
       "        vertical-align: middle;\n",
       "    }\n",
       "\n",
       "    .dataframe tbody tr th {\n",
       "        vertical-align: top;\n",
       "    }\n",
       "\n",
       "    .dataframe thead th {\n",
       "        text-align: right;\n",
       "    }\n",
       "</style>\n",
       "<table border=\"1\" class=\"dataframe\">\n",
       "  <thead>\n",
       "    <tr style=\"text-align: right;\">\n",
       "      <th></th>\n",
       "      <th>type</th>\n",
       "      <th>user</th>\n",
       "      <th>content</th>\n",
       "      <th>ipdatetime</th>\n",
       "    </tr>\n",
       "  </thead>\n",
       "  <tbody>\n",
       "    <tr>\n",
       "      <th>0</th>\n",
       "      <td>推</td>\n",
       "      <td>ammou</td>\n",
       "      <td>覺得真的頗亂，所以20%以上什麼都無法領嗎？</td>\n",
       "      <td>07/25 11:24</td>\n",
       "    </tr>\n",
       "    <tr>\n",
       "      <th>1</th>\n",
       "      <td>推</td>\n",
       "      <td>mary</td>\n",
       "      <td>覺得很開心，大家太棒了</td>\n",
       "      <td>07/26 12:00</td>\n",
       "    </tr>\n",
       "  </tbody>\n",
       "</table>\n",
       "</div>"
      ],
      "text/plain": [
       "  type   user                 content   ipdatetime\n",
       "0    推  ammou  覺得真的頗亂，所以20%以上什麼都無法領嗎？  07/25 11:24\n",
       "1    推   mary             覺得很開心，大家太棒了  07/26 12:00"
      ]
     },
     "execution_count": 29,
     "metadata": {},
     "output_type": "execute_result"
    }
   ],
   "source": [
    "new4 = pd.DataFrame(eval(dicliststr))  # 將str->list->df\n",
    "new4"
   ]
  },
  {
   "cell_type": "markdown",
   "metadata": {},
   "source": [
    "### 問題: 請將以下dic轉為DataFrame"
   ]
  },
  {
   "cell_type": "code",
   "execution_count": 30,
   "metadata": {},
   "outputs": [
    {
     "data": {
      "text/html": [
       "<div>\n",
       "<style scoped>\n",
       "    .dataframe tbody tr th:only-of-type {\n",
       "        vertical-align: middle;\n",
       "    }\n",
       "\n",
       "    .dataframe tbody tr th {\n",
       "        vertical-align: top;\n",
       "    }\n",
       "\n",
       "    .dataframe thead th {\n",
       "        text-align: right;\n",
       "    }\n",
       "</style>\n",
       "<table border=\"1\" class=\"dataframe\">\n",
       "  <thead>\n",
       "    <tr style=\"text-align: right;\">\n",
       "      <th></th>\n",
       "      <th>uid</th>\n",
       "      <th>name</th>\n",
       "      <th>age</th>\n",
       "    </tr>\n",
       "  </thead>\n",
       "  <tbody>\n",
       "    <tr>\n",
       "      <th>0</th>\n",
       "      <td>1</td>\n",
       "      <td>Howard</td>\n",
       "      <td>25</td>\n",
       "    </tr>\n",
       "    <tr>\n",
       "      <th>1</th>\n",
       "      <td>2</td>\n",
       "      <td>Lily</td>\n",
       "      <td>21</td>\n",
       "    </tr>\n",
       "    <tr>\n",
       "      <th>2</th>\n",
       "      <td>3</td>\n",
       "      <td>Kai</td>\n",
       "      <td>35</td>\n",
       "    </tr>\n",
       "    <tr>\n",
       "      <th>3</th>\n",
       "      <td>4</td>\n",
       "      <td>Jojo</td>\n",
       "      <td>18</td>\n",
       "    </tr>\n",
       "    <tr>\n",
       "      <th>4</th>\n",
       "      <td>5</td>\n",
       "      <td>Ivan</td>\n",
       "      <td>15</td>\n",
       "    </tr>\n",
       "  </tbody>\n",
       "</table>\n",
       "</div>"
      ],
      "text/plain": [
       "   uid    name  age\n",
       "0    1  Howard   25\n",
       "1    2    Lily   21\n",
       "2    3     Kai   35\n",
       "3    4    Jojo   18\n",
       "4    5    Ivan   15"
      ]
     },
     "execution_count": 30,
     "metadata": {},
     "output_type": "execute_result"
    }
   ],
   "source": [
    "data = {\n",
    "    \"uid\": [1, 2, 3, 4, 5],\n",
    "    \"name\": [\"Howard\", \"Lily\", \"Kai\", \"Jojo\", \"Ivan\"],\n",
    "    \"age\": [25, 21, 35, 18, 15],\n",
    "}\n",
    "# 請在這裡解答\n",
    "\n",
    "data_df = pd.DataFrame(data)\n",
    "data_df"
   ]
  },
  {
   "cell_type": "markdown",
   "metadata": {},
   "source": [
    "### 問題: 請將以下字串變為df"
   ]
  },
  {
   "cell_type": "code",
   "execution_count": 31,
   "metadata": {},
   "outputs": [
    {
     "data": {
      "text/html": [
       "<div>\n",
       "<style scoped>\n",
       "    .dataframe tbody tr th:only-of-type {\n",
       "        vertical-align: middle;\n",
       "    }\n",
       "\n",
       "    .dataframe tbody tr th {\n",
       "        vertical-align: top;\n",
       "    }\n",
       "\n",
       "    .dataframe thead th {\n",
       "        text-align: right;\n",
       "    }\n",
       "</style>\n",
       "<table border=\"1\" class=\"dataframe\">\n",
       "  <thead>\n",
       "    <tr style=\"text-align: right;\">\n",
       "      <th></th>\n",
       "      <th>uid</th>\n",
       "      <th>name</th>\n",
       "      <th>grade</th>\n",
       "    </tr>\n",
       "  </thead>\n",
       "  <tbody>\n",
       "    <tr>\n",
       "      <th>0</th>\n",
       "      <td>001</td>\n",
       "      <td>John</td>\n",
       "      <td>A</td>\n",
       "    </tr>\n",
       "    <tr>\n",
       "      <th>1</th>\n",
       "      <td>002</td>\n",
       "      <td>mary</td>\n",
       "      <td>B</td>\n",
       "    </tr>\n",
       "  </tbody>\n",
       "</table>\n",
       "</div>"
      ],
      "text/plain": [
       "   uid  name grade\n",
       "0  001  John     A\n",
       "1  002  mary     B"
      ]
     },
     "execution_count": 31,
     "metadata": {},
     "output_type": "execute_result"
    }
   ],
   "source": [
    "str1 = str(\n",
    "    [\n",
    "        {\"uid\": \"001\", \"name\": \"John\", \"grade\": \"A\"},\n",
    "        {\"uid\": \"002\", \"name\": \"mary\", \"grade\": \"B\"},\n",
    "    ]\n",
    ")\n",
    "# 請在這裡解答\n",
    "\n",
    "str1_df = pd.DataFrame(eval(str1))\n",
    "str1_df"
   ]
  },
  {
   "cell_type": "markdown",
   "metadata": {},
   "source": [
    "## 迴圈運用"
   ]
  },
  {
   "cell_type": "markdown",
   "metadata": {},
   "source": [
    "### 串列與迴圈"
   ]
  },
  {
   "cell_type": "code",
   "execution_count": 32,
   "metadata": {},
   "outputs": [
    {
     "name": "stdout",
     "output_type": "stream",
     "text": [
      "dog\n",
      "cat\n",
      "tiger\n"
     ]
    }
   ],
   "source": [
    "listloop = [\"dog\", \"cat\", \"tiger\"]\n",
    "for value in listloop:\n",
    "    print(value)"
   ]
  },
  {
   "cell_type": "markdown",
   "metadata": {},
   "source": [
    "### 單迴圈,將listloop1都乘以2存到listloop2"
   ]
  },
  {
   "cell_type": "code",
   "execution_count": 33,
   "metadata": {},
   "outputs": [
    {
     "name": "stdout",
     "output_type": "stream",
     "text": [
      "[2, 4, 6, 8]\n"
     ]
    }
   ],
   "source": [
    "listloop1 = [1, 2, 3, 4]\n",
    "\n",
    "listloop2 = []\n",
    "for i in listloop1:\n",
    "    j = i * 2\n",
    "    listloop2.append(j)\n",
    "print(listloop2)"
   ]
  },
  {
   "cell_type": "markdown",
   "metadata": {},
   "source": [
    "### 單迴圈"
   ]
  },
  {
   "cell_type": "code",
   "execution_count": 34,
   "metadata": {},
   "outputs": [
    {
     "name": "stdout",
     "output_type": "stream",
     "text": [
      "['', '#', '##', '###', '####']\n"
     ]
    }
   ],
   "source": [
    "firstlist = []\n",
    "for j in range(5):\n",
    "    firstlist.append(j * \"#\")\n",
    "print(firstlist)"
   ]
  },
  {
   "cell_type": "markdown",
   "metadata": {},
   "source": [
    "### 問題: 出現\"#\",\"##\",\"###\""
   ]
  },
  {
   "cell_type": "code",
   "execution_count": 35,
   "metadata": {},
   "outputs": [
    {
     "data": {
      "text/plain": [
       "['#', '##', '###']"
      ]
     },
     "execution_count": 35,
     "metadata": {},
     "output_type": "execute_result"
    }
   ],
   "source": [
    "# 請在這裡解答\n",
    "\n",
    "[\"#\" * i for i in range(1, 4)]"
   ]
  },
  {
   "cell_type": "markdown",
   "metadata": {},
   "source": [
    "### 雙重迴圈"
   ]
  },
  {
   "cell_type": "code",
   "execution_count": 36,
   "metadata": {},
   "outputs": [
    {
     "name": "stdout",
     "output_type": "stream",
     "text": [
      "[['', '#', '##', '###', '####'], ['', '#', '##', '###', '####'], ['', '#', '##', '###', '####']]\n"
     ]
    }
   ],
   "source": [
    "secondlist = []\n",
    "for i in range(3):\n",
    "    firstlist = []\n",
    "    for j in range(5):\n",
    "        firstlist.append(j * \"#\")\n",
    "    secondlist.append(firstlist)\n",
    "print(secondlist)"
   ]
  },
  {
   "cell_type": "markdown",
   "metadata": {},
   "source": [
    "### 問題:請列出以下結果[['#', '##', '###', '####'], ['#', '##', '###', '####']]"
   ]
  },
  {
   "cell_type": "code",
   "execution_count": 37,
   "metadata": {},
   "outputs": [
    {
     "data": {
      "text/plain": [
       "[['#', '##', '###', '####'], ['#', '##', '###', '####']]"
      ]
     },
     "execution_count": 37,
     "metadata": {},
     "output_type": "execute_result"
    }
   ],
   "source": [
    "# 請在這裡解答\n",
    "\n",
    "[[\"#\" * i for i in range(1, 5)] for _ in range(2)]"
   ]
  },
  {
   "cell_type": "markdown",
   "metadata": {},
   "source": [
    "### 問題: 請印出以下九九乘法結果\n",
    "\n",
    "```\n",
    "[[1, 2, 3, 4, 5, 6, 7, 8, 9], [2, 4, 6, 8, 10, 12, 14, 16, 18], [3, 6, 9, 12, 15, 18, 21, 24, 27],\n",
    "[4, 8, 12, 16, 20, 24, 28, 32, 36], [5, 10, 15, 20, 25, 30, 35, 40, 45], [6, 12, 18, 24, 30, 36, 42, 48, 54],\n",
    "[7, 14, 21, 28, 35, 42, 49, 56, 63], [8, 16, 24, 32, 40, 48, 56, 64, 72], [9, 18, 27, 36, 45, 54, 63, 72, 81]]\n",
    "```"
   ]
  },
  {
   "cell_type": "code",
   "execution_count": 38,
   "metadata": {},
   "outputs": [
    {
     "data": {
      "text/plain": [
       "[[1, 2, 3, 4, 5, 6, 7, 8, 9],\n",
       " [2, 4, 6, 8, 10, 12, 14, 16, 18],\n",
       " [3, 6, 9, 12, 15, 18, 21, 24, 27],\n",
       " [4, 8, 12, 16, 20, 24, 28, 32, 36],\n",
       " [5, 10, 15, 20, 25, 30, 35, 40, 45],\n",
       " [6, 12, 18, 24, 30, 36, 42, 48, 54],\n",
       " [7, 14, 21, 28, 35, 42, 49, 56, 63],\n",
       " [8, 16, 24, 32, 40, 48, 56, 64, 72],\n",
       " [9, 18, 27, 36, 45, 54, 63, 72, 81]]"
      ]
     },
     "execution_count": 38,
     "metadata": {},
     "output_type": "execute_result"
    }
   ],
   "source": [
    "# 請在這裡解答\n",
    "\n",
    "[[i * j for j in range(1, 10)] for i in range(1, 10)]"
   ]
  },
  {
   "cell_type": "markdown",
   "metadata": {},
   "source": [
    "## Str應用"
   ]
  },
  {
   "cell_type": "markdown",
   "metadata": {},
   "source": [
    "### 分割字串並取出字串某部分"
   ]
  },
  {
   "cell_type": "code",
   "execution_count": 39,
   "metadata": {},
   "outputs": [
    {
     "data": {
      "text/plain": [
       "['sandrahsu33', 'nkust.edu.tw']"
      ]
     },
     "execution_count": 39,
     "metadata": {},
     "output_type": "execute_result"
    }
   ],
   "source": [
    "email = \"sandrahsu33@nkust.edu.tw\"\n",
    "email.split(\"@\")"
   ]
  },
  {
   "cell_type": "code",
   "execution_count": 40,
   "metadata": {},
   "outputs": [
    {
     "data": {
      "text/plain": [
       "'sandrahsu33'"
      ]
     },
     "execution_count": 40,
     "metadata": {},
     "output_type": "execute_result"
    }
   ],
   "source": [
    "# 請取出@之前的文字\n",
    "email.split(\"@\")[0]"
   ]
  },
  {
   "cell_type": "markdown",
   "metadata": {},
   "source": [
    "### 問題:請取出@之後的文字"
   ]
  },
  {
   "cell_type": "code",
   "execution_count": 41,
   "metadata": {},
   "outputs": [
    {
     "data": {
      "text/plain": [
       "'nkust.edu.tw'"
      ]
     },
     "execution_count": 41,
     "metadata": {},
     "output_type": "execute_result"
    }
   ],
   "source": [
    "email.split(\"@\")[1]"
   ]
  },
  {
   "cell_type": "markdown",
   "metadata": {},
   "source": [
    "### 請去除下列str中無意義的字元, @"
   ]
  },
  {
   "cell_type": "code",
   "execution_count": 42,
   "metadata": {},
   "outputs": [
    {
     "data": {
      "text/plain": [
       "'空拍機好看'"
      ]
     },
     "execution_count": 42,
     "metadata": {},
     "output_type": "execute_result"
    }
   ],
   "source": [
    "liststr1 = \"@@@@空拍機好看\"\n",
    "liststr1 = liststr1.replace(\"@\", \"\")\n",
    "liststr1"
   ]
  },
  {
   "cell_type": "markdown",
   "metadata": {},
   "source": [
    "### 請去除下列list中無意義的字元, @"
   ]
  },
  {
   "cell_type": "code",
   "execution_count": 43,
   "metadata": {},
   "outputs": [
    {
     "name": "stdout",
     "output_type": "stream",
     "text": [
      "['空拍機好看', '高雄燈光很美']\n"
     ]
    }
   ],
   "source": [
    "liststr2 = [\"@@@@空拍機好看\", \"高雄燈光很美@\"]\n",
    "\n",
    "listtemp = []\n",
    "for i in liststr2:\n",
    "    listtemp.append(i.replace(\"@\", \"\"))\n",
    "\n",
    "print(listtemp)"
   ]
  },
  {
   "cell_type": "markdown",
   "metadata": {},
   "source": [
    "### 問題: 請去除下列list中無意義的字元, @#%, 讓[\"@@@@空拍機好看#%\",\"#%高雄燈光很美@\"]變為[['空拍機好看'], ['高雄燈光很美']]"
   ]
  },
  {
   "cell_type": "code",
   "execution_count": 44,
   "metadata": {},
   "outputs": [
    {
     "data": {
      "text/plain": [
       "['空拍機好看', '高雄燈光很美']"
      ]
     },
     "execution_count": 44,
     "metadata": {},
     "output_type": "execute_result"
    }
   ],
   "source": [
    "liststr3 = [\"@@@@空拍機好看#%\", \"#%高雄燈光很美@\"]\n",
    "\n",
    "removeword = [\"@\", \"#\", \"%\"]\n",
    "# 請在這裡解答\n",
    "\n",
    "import functools\n",
    "\n",
    "[functools.reduce(lambda s, w: s.replace(w, \"\"), removeword, s) for s in liststr3]"
   ]
  }
 ],
 "metadata": {
  "kernelspec": {
   "display_name": ".venv",
   "language": "python",
   "name": "python3"
  },
  "language_info": {
   "codemirror_mode": {
    "name": "ipython",
    "version": 3
   },
   "file_extension": ".py",
   "mimetype": "text/x-python",
   "name": "python",
   "nbconvert_exporter": "python",
   "pygments_lexer": "ipython3",
   "version": "3.12.5"
  }
 },
 "nbformat": 4,
 "nbformat_minor": 4
}
