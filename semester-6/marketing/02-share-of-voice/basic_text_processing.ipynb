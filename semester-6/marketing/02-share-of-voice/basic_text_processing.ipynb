{
 "cells": [
  {
   "cell_type": "markdown",
   "metadata": {},
   "source": [
    "# 基本文字處理"
   ]
  },
  {
   "cell_type": "code",
   "execution_count": 1,
   "metadata": {},
   "outputs": [],
   "source": [
    "import pandas as pd"
   ]
  },
  {
   "cell_type": "markdown",
   "metadata": {},
   "source": [
    "## 計算文字次數"
   ]
  },
  {
   "cell_type": "markdown",
   "metadata": {},
   "source": [
    "### 計算某個詞在字串中出現的次數"
   ]
  },
  {
   "cell_type": "code",
   "execution_count": 2,
   "metadata": {},
   "outputs": [
    {
     "data": {
      "text/html": [
       "<div>\n",
       "<style scoped>\n",
       "    .dataframe tbody tr th:only-of-type {\n",
       "        vertical-align: middle;\n",
       "    }\n",
       "\n",
       "    .dataframe tbody tr th {\n",
       "        vertical-align: top;\n",
       "    }\n",
       "\n",
       "    .dataframe thead th {\n",
       "        text-align: right;\n",
       "    }\n",
       "</style>\n",
       "<table border=\"1\" class=\"dataframe\">\n",
       "  <thead>\n",
       "    <tr style=\"text-align: right;\">\n",
       "      <th></th>\n",
       "      <th>words</th>\n",
       "      <th>voice</th>\n",
       "    </tr>\n",
       "  </thead>\n",
       "  <tbody>\n",
       "    <tr>\n",
       "      <th>0</th>\n",
       "      <td>我</td>\n",
       "      <td>1</td>\n",
       "    </tr>\n",
       "    <tr>\n",
       "      <th>1</th>\n",
       "      <td>你</td>\n",
       "      <td>4</td>\n",
       "    </tr>\n",
       "  </tbody>\n",
       "</table>\n",
       "</div>"
      ],
      "text/plain": [
       "  words  voice\n",
       "0     我      1\n",
       "1     你      4"
      ]
     },
     "execution_count": 2,
     "metadata": {},
     "output_type": "execute_result"
    }
   ],
   "source": [
    "list1 = [\"我\", \"你\", \"他\", \"你\", \"你\", \"你\"]\n",
    "target = [\"我\", \"你\"]\n",
    "\n",
    "list_voice = []\n",
    "for i in target:\n",
    "    voice = list1.count(i)\n",
    "    list_voice.append(voice)\n",
    "\n",
    "dic = {\"words\": target, \"voice\": list_voice}\n",
    "voice_df = pd.DataFrame(dic)\n",
    "voice_df"
   ]
  },
  {
   "cell_type": "code",
   "execution_count": 3,
   "metadata": {},
   "outputs": [
    {
     "data": {
      "text/plain": [
       "[('我', 1), ('你', 4)]"
      ]
     },
     "execution_count": 3,
     "metadata": {},
     "output_type": "execute_result"
    }
   ],
   "source": [
    "list(zip(target, list_voice))"
   ]
  },
  {
   "cell_type": "code",
   "execution_count": 4,
   "metadata": {},
   "outputs": [
    {
     "data": {
      "text/html": [
       "<div>\n",
       "<style scoped>\n",
       "    .dataframe tbody tr th:only-of-type {\n",
       "        vertical-align: middle;\n",
       "    }\n",
       "\n",
       "    .dataframe tbody tr th {\n",
       "        vertical-align: top;\n",
       "    }\n",
       "\n",
       "    .dataframe thead th {\n",
       "        text-align: right;\n",
       "    }\n",
       "</style>\n",
       "<table border=\"1\" class=\"dataframe\">\n",
       "  <thead>\n",
       "    <tr style=\"text-align: right;\">\n",
       "      <th></th>\n",
       "      <th>關鍵字</th>\n",
       "      <th>次數</th>\n",
       "    </tr>\n",
       "  </thead>\n",
       "  <tbody>\n",
       "    <tr>\n",
       "      <th>0</th>\n",
       "      <td>我</td>\n",
       "      <td>1</td>\n",
       "    </tr>\n",
       "    <tr>\n",
       "      <th>1</th>\n",
       "      <td>你</td>\n",
       "      <td>4</td>\n",
       "    </tr>\n",
       "  </tbody>\n",
       "</table>\n",
       "</div>"
      ],
      "text/plain": [
       "  關鍵字  次數\n",
       "0   我   1\n",
       "1   你   4"
      ]
     },
     "execution_count": 4,
     "metadata": {},
     "output_type": "execute_result"
    }
   ],
   "source": [
    "listvoice_df = pd.DataFrame(list(zip(target, list_voice)), columns=([\"關鍵字\", \"次數\"]))\n",
    "listvoice_df"
   ]
  },
  {
   "cell_type": "markdown",
   "metadata": {},
   "source": [
    "### Exercise 1: 請計算下列各字出現的次數"
   ]
  },
  {
   "cell_type": "code",
   "execution_count": 5,
   "metadata": {},
   "outputs": [
    {
     "data": {
      "text/plain": [
       "{'我': 1, '你': 4, '他': 1}"
      ]
     },
     "execution_count": 5,
     "metadata": {},
     "output_type": "execute_result"
    }
   ],
   "source": [
    "from collections import Counter\n",
    "\n",
    "list2 = [\"我\", \"你\", \"他\", \"你\", \"你\", \"你\"]\n",
    "\n",
    "dict(Counter(list2))"
   ]
  },
  {
   "cell_type": "markdown",
   "metadata": {},
   "source": [
    "## 欄位讀取"
   ]
  },
  {
   "cell_type": "markdown",
   "metadata": {},
   "source": [
    "### DataFrame 逐列讀取"
   ]
  },
  {
   "cell_type": "code",
   "execution_count": 6,
   "metadata": {},
   "outputs": [
    {
     "name": "stdout",
     "output_type": "stream",
     "text": [
      "關鍵字:  我   聲量: 1\n",
      "關鍵字:  你   聲量: 4\n"
     ]
    }
   ],
   "source": [
    "for  i in range(len(voice_df)):\n",
    "    print(f\"關鍵字:  {voice_df.words.iloc[i]}   聲量: {voice_df.voice.iloc[i]}\")  "
   ]
  },
  {
   "cell_type": "markdown",
   "metadata": {},
   "source": [
    "### 請將下列資料 `df` 以列存取進 `alllist` 串列中"
   ]
  },
  {
   "cell_type": "code",
   "execution_count": 7,
   "metadata": {},
   "outputs": [
    {
     "data": {
      "text/html": [
       "<div>\n",
       "<style scoped>\n",
       "    .dataframe tbody tr th:only-of-type {\n",
       "        vertical-align: middle;\n",
       "    }\n",
       "\n",
       "    .dataframe tbody tr th {\n",
       "        vertical-align: top;\n",
       "    }\n",
       "\n",
       "    .dataframe thead th {\n",
       "        text-align: right;\n",
       "    }\n",
       "</style>\n",
       "<table border=\"1\" class=\"dataframe\">\n",
       "  <thead>\n",
       "    <tr style=\"text-align: right;\">\n",
       "      <th></th>\n",
       "      <th>電影</th>\n",
       "      <th>關鍵字</th>\n",
       "    </tr>\n",
       "  </thead>\n",
       "  <tbody>\n",
       "    <tr>\n",
       "      <th>0</th>\n",
       "      <td>成為王的男人</td>\n",
       "      <td>預告</td>\n",
       "    </tr>\n",
       "    <tr>\n",
       "      <th>1</th>\n",
       "      <td>皇后的品格</td>\n",
       "      <td>中字</td>\n",
       "    </tr>\n",
       "    <tr>\n",
       "      <th>2</th>\n",
       "      <td>赤月青日</td>\n",
       "      <td>媽媽</td>\n",
       "    </tr>\n",
       "    <tr>\n",
       "      <th>3</th>\n",
       "      <td>神的測驗</td>\n",
       "      <td>官網</td>\n",
       "    </tr>\n",
       "    <tr>\n",
       "      <th>4</th>\n",
       "      <td>死之詠讚</td>\n",
       "      <td>刑警</td>\n",
       "    </tr>\n",
       "    <tr>\n",
       "      <th>5</th>\n",
       "      <td>加油吧威基基</td>\n",
       "      <td>韓國</td>\n",
       "    </tr>\n",
       "    <tr>\n",
       "      <th>6</th>\n",
       "      <td>皮諾丘</td>\n",
       "      <td>預告</td>\n",
       "    </tr>\n",
       "    <tr>\n",
       "      <th>7</th>\n",
       "      <td>魔女寶鑑</td>\n",
       "      <td>中字</td>\n",
       "    </tr>\n",
       "    <tr>\n",
       "      <th>8</th>\n",
       "      <td>男朋友</td>\n",
       "      <td>媽媽</td>\n",
       "    </tr>\n",
       "    <tr>\n",
       "      <th>9</th>\n",
       "      <td>來自星星的你</td>\n",
       "      <td>官網銷售</td>\n",
       "    </tr>\n",
       "    <tr>\n",
       "      <th>10</th>\n",
       "      <td>成為王的男人</td>\n",
       "      <td>預告</td>\n",
       "    </tr>\n",
       "    <tr>\n",
       "      <th>11</th>\n",
       "      <td>皇后的品格</td>\n",
       "      <td>預告</td>\n",
       "    </tr>\n",
       "  </tbody>\n",
       "</table>\n",
       "</div>"
      ],
      "text/plain": [
       "        電影   關鍵字\n",
       "0   成為王的男人    預告\n",
       "1    皇后的品格    中字\n",
       "2     赤月青日    媽媽\n",
       "3     神的測驗    官網\n",
       "4     死之詠讚    刑警\n",
       "5   加油吧威基基    韓國\n",
       "6      皮諾丘    預告\n",
       "7     魔女寶鑑    中字\n",
       "8      男朋友    媽媽\n",
       "9   來自星星的你  官網銷售\n",
       "10  成為王的男人    預告\n",
       "11   皇后的品格    預告"
      ]
     },
     "execution_count": 7,
     "metadata": {},
     "output_type": "execute_result"
    }
   ],
   "source": [
    "movielist = [\n",
    "    [\"成為王的男人\", \"預告\"],\n",
    "    [\"皇后的品格\", \"中字\"],\n",
    "    [\"赤月青日\", \"媽媽\"],\n",
    "    [\"神的測驗\", \"官網\"],\n",
    "    [\"死之詠讚\", \"刑警\"],\n",
    "    [\"加油吧威基基\", \"韓國\"],\n",
    "    [\"皮諾丘\", \"預告\"],\n",
    "    [\"魔女寶鑑\", \"中字\"],\n",
    "    [\"男朋友\", \"媽媽\"],\n",
    "    [\"來自星星的你\", \"官網銷售\"],\n",
    "    [\"成為王的男人\", \"預告\"],\n",
    "    [\"皇后的品格\", \"預告\"],\n",
    "]\n",
    "KoreaDrama = pd.DataFrame(movielist, columns=([\"電影\", \"關鍵字\"]))\n",
    "KoreaDrama"
   ]
  },
  {
   "cell_type": "markdown",
   "metadata": {},
   "source": [
    "將上述 `korea_drama_df` 轉為原本的 list"
   ]
  },
  {
   "cell_type": "code",
   "execution_count": 8,
   "metadata": {},
   "outputs": [
    {
     "data": {
      "text/plain": [
       "[['成為王的男人', '預告'],\n",
       " ['皇后的品格', '中字'],\n",
       " ['赤月青日', '媽媽'],\n",
       " ['神的測驗', '官網'],\n",
       " ['死之詠讚', '刑警'],\n",
       " ['加油吧威基基', '韓國'],\n",
       " ['皮諾丘', '預告'],\n",
       " ['魔女寶鑑', '中字'],\n",
       " ['男朋友', '媽媽'],\n",
       " ['來自星星的你', '官網銷售'],\n",
       " ['成為王的男人', '預告'],\n",
       " ['皇后的品格', '預告']]"
      ]
     },
     "execution_count": 8,
     "metadata": {},
     "output_type": "execute_result"
    }
   ],
   "source": [
    "alllist = KoreaDrama.values.tolist()\n",
    "alllist"
   ]
  },
  {
   "cell_type": "markdown",
   "metadata": {},
   "source": [
    "### 請找出關鍵字有哪些字詞？"
   ]
  },
  {
   "cell_type": "code",
   "execution_count": 9,
   "metadata": {},
   "outputs": [
    {
     "data": {
      "text/plain": [
       "array(['預告', '中字', '媽媽', '官網', '刑警', '韓國', '官網銷售'], dtype=object)"
      ]
     },
     "execution_count": 9,
     "metadata": {},
     "output_type": "execute_result"
    }
   ],
   "source": [
    "KoreaDrama[\"關鍵字\"].unique()"
   ]
  },
  {
   "cell_type": "markdown",
   "metadata": {},
   "source": [
    "## 資料篩選"
   ]
  },
  {
   "cell_type": "markdown",
   "metadata": {},
   "source": [
    "### 挑選符合完整字詞的資料"
   ]
  },
  {
   "cell_type": "code",
   "execution_count": 10,
   "metadata": {},
   "outputs": [
    {
     "data": {
      "text/plain": [
       "0      True\n",
       "1     False\n",
       "2     False\n",
       "3     False\n",
       "4     False\n",
       "5     False\n",
       "6     False\n",
       "7     False\n",
       "8     False\n",
       "9     False\n",
       "10     True\n",
       "11    False\n",
       "Name: 電影, dtype: bool"
      ]
     },
     "execution_count": 10,
     "metadata": {},
     "output_type": "execute_result"
    }
   ],
   "source": [
    "KoreaDrama[\"電影\"]==\"成為王的男人\""
   ]
  },
  {
   "cell_type": "code",
   "execution_count": 11,
   "metadata": {},
   "outputs": [
    {
     "data": {
      "text/html": [
       "<div>\n",
       "<style scoped>\n",
       "    .dataframe tbody tr th:only-of-type {\n",
       "        vertical-align: middle;\n",
       "    }\n",
       "\n",
       "    .dataframe tbody tr th {\n",
       "        vertical-align: top;\n",
       "    }\n",
       "\n",
       "    .dataframe thead th {\n",
       "        text-align: right;\n",
       "    }\n",
       "</style>\n",
       "<table border=\"1\" class=\"dataframe\">\n",
       "  <thead>\n",
       "    <tr style=\"text-align: right;\">\n",
       "      <th></th>\n",
       "      <th>電影</th>\n",
       "      <th>關鍵字</th>\n",
       "    </tr>\n",
       "  </thead>\n",
       "  <tbody>\n",
       "    <tr>\n",
       "      <th>0</th>\n",
       "      <td>成為王的男人</td>\n",
       "      <td>預告</td>\n",
       "    </tr>\n",
       "    <tr>\n",
       "      <th>10</th>\n",
       "      <td>成為王的男人</td>\n",
       "      <td>預告</td>\n",
       "    </tr>\n",
       "  </tbody>\n",
       "</table>\n",
       "</div>"
      ],
      "text/plain": [
       "        電影 關鍵字\n",
       "0   成為王的男人  預告\n",
       "10  成為王的男人  預告"
      ]
     },
     "execution_count": 11,
     "metadata": {},
     "output_type": "execute_result"
    }
   ],
   "source": [
    "KoreaDrama[KoreaDrama[\"電影\"]==\"成為王的男人\"]"
   ]
  },
  {
   "cell_type": "markdown",
   "metadata": {},
   "source": [
    "#### Exercise 2: 請找出 KoreaDrama 中「男朋友」這部片的資料?"
   ]
  },
  {
   "cell_type": "code",
   "execution_count": 12,
   "metadata": {},
   "outputs": [
    {
     "data": {
      "text/html": [
       "<div>\n",
       "<style scoped>\n",
       "    .dataframe tbody tr th:only-of-type {\n",
       "        vertical-align: middle;\n",
       "    }\n",
       "\n",
       "    .dataframe tbody tr th {\n",
       "        vertical-align: top;\n",
       "    }\n",
       "\n",
       "    .dataframe thead th {\n",
       "        text-align: right;\n",
       "    }\n",
       "</style>\n",
       "<table border=\"1\" class=\"dataframe\">\n",
       "  <thead>\n",
       "    <tr style=\"text-align: right;\">\n",
       "      <th></th>\n",
       "      <th>電影</th>\n",
       "      <th>關鍵字</th>\n",
       "    </tr>\n",
       "  </thead>\n",
       "  <tbody>\n",
       "    <tr>\n",
       "      <th>8</th>\n",
       "      <td>男朋友</td>\n",
       "      <td>媽媽</td>\n",
       "    </tr>\n",
       "  </tbody>\n",
       "</table>\n",
       "</div>"
      ],
      "text/plain": [
       "    電影 關鍵字\n",
       "8  男朋友  媽媽"
      ]
     },
     "execution_count": 12,
     "metadata": {},
     "output_type": "execute_result"
    }
   ],
   "source": [
    "KoreaDrama[KoreaDrama[\"電影\"]==\"男朋友\"]"
   ]
  },
  {
   "cell_type": "markdown",
   "metadata": {},
   "source": [
    "### 挑選符合部分字詞的資料"
   ]
  },
  {
   "cell_type": "code",
   "execution_count": 13,
   "metadata": {},
   "outputs": [
    {
     "data": {
      "text/plain": [
       "0      True\n",
       "1      True\n",
       "2     False\n",
       "3     False\n",
       "4     False\n",
       "5     False\n",
       "6     False\n",
       "7     False\n",
       "8     False\n",
       "9     False\n",
       "10     True\n",
       "11     True\n",
       "Name: 電影, dtype: bool"
      ]
     },
     "execution_count": 13,
     "metadata": {},
     "output_type": "execute_result"
    }
   ],
   "source": [
    "KoreaDrama[\"電影\"].str.contains(\"王的|皇后\")"
   ]
  },
  {
   "cell_type": "code",
   "execution_count": 14,
   "metadata": {},
   "outputs": [
    {
     "data": {
      "text/html": [
       "<div>\n",
       "<style scoped>\n",
       "    .dataframe tbody tr th:only-of-type {\n",
       "        vertical-align: middle;\n",
       "    }\n",
       "\n",
       "    .dataframe tbody tr th {\n",
       "        vertical-align: top;\n",
       "    }\n",
       "\n",
       "    .dataframe thead th {\n",
       "        text-align: right;\n",
       "    }\n",
       "</style>\n",
       "<table border=\"1\" class=\"dataframe\">\n",
       "  <thead>\n",
       "    <tr style=\"text-align: right;\">\n",
       "      <th></th>\n",
       "      <th>電影</th>\n",
       "      <th>關鍵字</th>\n",
       "    </tr>\n",
       "  </thead>\n",
       "  <tbody>\n",
       "    <tr>\n",
       "      <th>0</th>\n",
       "      <td>成為王的男人</td>\n",
       "      <td>預告</td>\n",
       "    </tr>\n",
       "    <tr>\n",
       "      <th>1</th>\n",
       "      <td>皇后的品格</td>\n",
       "      <td>中字</td>\n",
       "    </tr>\n",
       "    <tr>\n",
       "      <th>10</th>\n",
       "      <td>成為王的男人</td>\n",
       "      <td>預告</td>\n",
       "    </tr>\n",
       "    <tr>\n",
       "      <th>11</th>\n",
       "      <td>皇后的品格</td>\n",
       "      <td>預告</td>\n",
       "    </tr>\n",
       "  </tbody>\n",
       "</table>\n",
       "</div>"
      ],
      "text/plain": [
       "        電影 關鍵字\n",
       "0   成為王的男人  預告\n",
       "1    皇后的品格  中字\n",
       "10  成為王的男人  預告\n",
       "11   皇后的品格  預告"
      ]
     },
     "execution_count": 14,
     "metadata": {},
     "output_type": "execute_result"
    }
   ],
   "source": [
    "KoreaDrama[KoreaDrama[\"電影\"].str.contains(\"王的|皇后\")]"
   ]
  },
  {
   "cell_type": "markdown",
   "metadata": {},
   "source": [
    "#### Exercise 3: 請找出關鍵字有\"網\"或\"國\"的資料?"
   ]
  },
  {
   "cell_type": "code",
   "execution_count": 15,
   "metadata": {},
   "outputs": [
    {
     "data": {
      "text/html": [
       "<div>\n",
       "<style scoped>\n",
       "    .dataframe tbody tr th:only-of-type {\n",
       "        vertical-align: middle;\n",
       "    }\n",
       "\n",
       "    .dataframe tbody tr th {\n",
       "        vertical-align: top;\n",
       "    }\n",
       "\n",
       "    .dataframe thead th {\n",
       "        text-align: right;\n",
       "    }\n",
       "</style>\n",
       "<table border=\"1\" class=\"dataframe\">\n",
       "  <thead>\n",
       "    <tr style=\"text-align: right;\">\n",
       "      <th></th>\n",
       "      <th>電影</th>\n",
       "      <th>關鍵字</th>\n",
       "    </tr>\n",
       "  </thead>\n",
       "  <tbody>\n",
       "    <tr>\n",
       "      <th>3</th>\n",
       "      <td>神的測驗</td>\n",
       "      <td>官網</td>\n",
       "    </tr>\n",
       "    <tr>\n",
       "      <th>5</th>\n",
       "      <td>加油吧威基基</td>\n",
       "      <td>韓國</td>\n",
       "    </tr>\n",
       "    <tr>\n",
       "      <th>9</th>\n",
       "      <td>來自星星的你</td>\n",
       "      <td>官網銷售</td>\n",
       "    </tr>\n",
       "  </tbody>\n",
       "</table>\n",
       "</div>"
      ],
      "text/plain": [
       "       電影   關鍵字\n",
       "3    神的測驗    官網\n",
       "5  加油吧威基基    韓國\n",
       "9  來自星星的你  官網銷售"
      ]
     },
     "execution_count": 15,
     "metadata": {},
     "output_type": "execute_result"
    }
   ],
   "source": [
    "KoreaDrama[KoreaDrama[\"關鍵字\"].str.contains(\"網|國\")]"
   ]
  },
  {
   "cell_type": "markdown",
   "metadata": {},
   "source": [
    "### Exercise 4: 請找出KoreaDrama中符合以下電影的資料\n",
    "\n",
    "`['成為王的男人','皇后的品格']`"
   ]
  },
  {
   "cell_type": "code",
   "execution_count": 16,
   "metadata": {},
   "outputs": [
    {
     "data": {
      "text/html": [
       "<div>\n",
       "<style scoped>\n",
       "    .dataframe tbody tr th:only-of-type {\n",
       "        vertical-align: middle;\n",
       "    }\n",
       "\n",
       "    .dataframe tbody tr th {\n",
       "        vertical-align: top;\n",
       "    }\n",
       "\n",
       "    .dataframe thead th {\n",
       "        text-align: right;\n",
       "    }\n",
       "</style>\n",
       "<table border=\"1\" class=\"dataframe\">\n",
       "  <thead>\n",
       "    <tr style=\"text-align: right;\">\n",
       "      <th></th>\n",
       "      <th>電影</th>\n",
       "      <th>關鍵字</th>\n",
       "    </tr>\n",
       "  </thead>\n",
       "  <tbody>\n",
       "    <tr>\n",
       "      <th>0</th>\n",
       "      <td>成為王的男人</td>\n",
       "      <td>預告</td>\n",
       "    </tr>\n",
       "    <tr>\n",
       "      <th>1</th>\n",
       "      <td>皇后的品格</td>\n",
       "      <td>中字</td>\n",
       "    </tr>\n",
       "    <tr>\n",
       "      <th>10</th>\n",
       "      <td>成為王的男人</td>\n",
       "      <td>預告</td>\n",
       "    </tr>\n",
       "    <tr>\n",
       "      <th>11</th>\n",
       "      <td>皇后的品格</td>\n",
       "      <td>預告</td>\n",
       "    </tr>\n",
       "  </tbody>\n",
       "</table>\n",
       "</div>"
      ],
      "text/plain": [
       "        電影 關鍵字\n",
       "0   成為王的男人  預告\n",
       "1    皇后的品格  中字\n",
       "10  成為王的男人  預告\n",
       "11   皇后的品格  預告"
      ]
     },
     "execution_count": 16,
     "metadata": {},
     "output_type": "execute_result"
    }
   ],
   "source": [
    "KoreaDrama[KoreaDrama[\"電影\"].isin([\"成為王的男人\", \"皇后的品格\"])]"
   ]
  },
  {
   "cell_type": "markdown",
   "metadata": {},
   "source": [
    "### Exercise 5 Advanced: 找出\"關鍵字\"欄位中包含\"官網\"但不包含\"銷售\"的資料 "
   ]
  },
  {
   "cell_type": "code",
   "execution_count": 17,
   "metadata": {},
   "outputs": [
    {
     "data": {
      "text/html": [
       "<div>\n",
       "<style scoped>\n",
       "    .dataframe tbody tr th:only-of-type {\n",
       "        vertical-align: middle;\n",
       "    }\n",
       "\n",
       "    .dataframe tbody tr th {\n",
       "        vertical-align: top;\n",
       "    }\n",
       "\n",
       "    .dataframe thead th {\n",
       "        text-align: right;\n",
       "    }\n",
       "</style>\n",
       "<table border=\"1\" class=\"dataframe\">\n",
       "  <thead>\n",
       "    <tr style=\"text-align: right;\">\n",
       "      <th></th>\n",
       "      <th>電影</th>\n",
       "      <th>關鍵字</th>\n",
       "    </tr>\n",
       "  </thead>\n",
       "  <tbody>\n",
       "    <tr>\n",
       "      <th>3</th>\n",
       "      <td>神的測驗</td>\n",
       "      <td>官網</td>\n",
       "    </tr>\n",
       "  </tbody>\n",
       "</table>\n",
       "</div>"
      ],
      "text/plain": [
       "     電影 關鍵字\n",
       "3  神的測驗  官網"
      ]
     },
     "execution_count": 17,
     "metadata": {},
     "output_type": "execute_result"
    }
   ],
   "source": [
    "KoreaDrama[KoreaDrama[\"關鍵字\"].str.contains(\"官網\") & ~KoreaDrama[\"關鍵字\"].str.contains(\"銷售\")]"
   ]
  },
  {
   "cell_type": "markdown",
   "metadata": {},
   "source": [
    "### Exercise 6: \"成為王的男人\"關鍵字有哪些,列出\"關鍵詞\"與\"個數\""
   ]
  },
  {
   "cell_type": "code",
   "execution_count": 18,
   "metadata": {},
   "outputs": [
    {
     "data": {
      "text/plain": [
       "關鍵字\n",
       "預告    2\n",
       "Name: count, dtype: int64"
      ]
     },
     "execution_count": 18,
     "metadata": {},
     "output_type": "execute_result"
    }
   ],
   "source": [
    "KoreaDrama[KoreaDrama[\"電影\"] == \"成為王的男人\"][\"關鍵字\"].value_counts()\n"
   ]
  },
  {
   "cell_type": "markdown",
   "metadata": {},
   "source": [
    "### 成為王的男人的關鍵字，符合下列關鍵字哪一些，請以df顯示"
   ]
  },
  {
   "cell_type": "code",
   "execution_count": 19,
   "metadata": {},
   "outputs": [
    {
     "data": {
      "text/plain": [
       "[2, 0, 0, 0, 0, 0]"
      ]
     },
     "execution_count": 19,
     "metadata": {},
     "output_type": "execute_result"
    }
   ],
   "source": [
    "KoreaDrama[\"電影\"].str.contains(\"成為王的男人\")\n",
    "KoreaDrama_wang = KoreaDrama[KoreaDrama[\"電影\"].str.contains(\"成為王的男人\")]\n",
    "\n",
    "focus_keyword = [\"預告\", \"中字\", \"媽媽\", \"官網\", \"刑警\", \"韓國\"]\n",
    "\n",
    "focus_keyword_voice = []\n",
    "for j in focus_keyword:\n",
    "    keyword_list = list(KoreaDrama_wang[\"關鍵字\"])\n",
    "    focus_keyword_voice.append(keyword_list.count(j))\n",
    "\n",
    "focus_keyword_voice"
   ]
  },
  {
   "cell_type": "code",
   "execution_count": 20,
   "metadata": {},
   "outputs": [
    {
     "data": {
      "text/html": [
       "<div>\n",
       "<style scoped>\n",
       "    .dataframe tbody tr th:only-of-type {\n",
       "        vertical-align: middle;\n",
       "    }\n",
       "\n",
       "    .dataframe tbody tr th {\n",
       "        vertical-align: top;\n",
       "    }\n",
       "\n",
       "    .dataframe thead th {\n",
       "        text-align: right;\n",
       "    }\n",
       "</style>\n",
       "<table border=\"1\" class=\"dataframe\">\n",
       "  <thead>\n",
       "    <tr style=\"text-align: right;\">\n",
       "      <th></th>\n",
       "      <th>關鍵字</th>\n",
       "      <th>次數</th>\n",
       "    </tr>\n",
       "  </thead>\n",
       "  <tbody>\n",
       "    <tr>\n",
       "      <th>0</th>\n",
       "      <td>預告</td>\n",
       "      <td>2</td>\n",
       "    </tr>\n",
       "    <tr>\n",
       "      <th>1</th>\n",
       "      <td>中字</td>\n",
       "      <td>0</td>\n",
       "    </tr>\n",
       "    <tr>\n",
       "      <th>2</th>\n",
       "      <td>媽媽</td>\n",
       "      <td>0</td>\n",
       "    </tr>\n",
       "    <tr>\n",
       "      <th>3</th>\n",
       "      <td>官網</td>\n",
       "      <td>0</td>\n",
       "    </tr>\n",
       "    <tr>\n",
       "      <th>4</th>\n",
       "      <td>刑警</td>\n",
       "      <td>0</td>\n",
       "    </tr>\n",
       "    <tr>\n",
       "      <th>5</th>\n",
       "      <td>韓國</td>\n",
       "      <td>0</td>\n",
       "    </tr>\n",
       "  </tbody>\n",
       "</table>\n",
       "</div>"
      ],
      "text/plain": [
       "  關鍵字  次數\n",
       "0  預告   2\n",
       "1  中字   0\n",
       "2  媽媽   0\n",
       "3  官網   0\n",
       "4  刑警   0\n",
       "5  韓國   0"
      ]
     },
     "execution_count": 20,
     "metadata": {},
     "output_type": "execute_result"
    }
   ],
   "source": [
    "moviekey_df = pd.DataFrame(\n",
    "    list(zip(focus_keyword, focus_keyword_voice)), columns=([\"關鍵字\", \"次數\"])\n",
    ")\n",
    "\n",
    "moviekey_df"
   ]
  },
  {
   "cell_type": "markdown",
   "metadata": {},
   "source": [
    "## Exercise 7: 雙重迴圈應用，下列電影各關鍵詞次數\n",
    "\n",
    "hint: 在某資料集中先找出相關資料，再由相關資料中找字詞，如找某電影某關鍵字出現次數 "
   ]
  },
  {
   "cell_type": "code",
   "execution_count": 21,
   "metadata": {},
   "outputs": [
    {
     "name": "stdout",
     "output_type": "stream",
     "text": [
      "關鍵字\n",
      "預告    4\n",
      "中字    2\n",
      "媽媽    2\n",
      "官網    1\n",
      "刑警    1\n",
      "韓國    1\n",
      "Name: count, dtype: int64\n"
     ]
    }
   ],
   "source": [
    "movie = [\n",
    "    \"成為王的男人\",\n",
    "    \"皇后的品格\",\n",
    "    \"赤月青日\",\n",
    "    \"神的測驗\",\n",
    "    \"死之詠讚\",\n",
    "    \"加油吧威基基\",\n",
    "    \"皮諾丘\",\n",
    "    \"魔女寶鑑\",\n",
    "    \"男朋友\",\n",
    "    \"來自星星的你\",\n",
    "]\n",
    "\n",
    "focus_keyword = [\"預告\", \"中字\", \"媽媽\", \"官網\", \"刑警\", \"韓國\"]\n",
    "\n",
    "# 取出所有電影的關鍵詞\n",
    "keywords = KoreaDrama[KoreaDrama[\"電影\"].isin(movie)][\"關鍵字\"]\n",
    "\n",
    "# 計算關鍵詞出現次數\n",
    "keyword_counts = keywords.value_counts()\n",
    "\n",
    "# 只留下 focus_keyword 中的關鍵詞\n",
    "keyword_counts = keyword_counts[focus_keyword]\n",
    "\n",
    "# 顯示關鍵詞及其出現次數\n",
    "print(keyword_counts)"
   ]
  },
  {
   "cell_type": "code",
   "execution_count": 22,
   "metadata": {},
   "outputs": [
    {
     "data": {
      "text/plain": [
       "關鍵字\n",
       "預告    4\n",
       "中字    2\n",
       "媽媽    2\n",
       "官網    1\n",
       "刑警    1\n",
       "韓國    1\n",
       "Name: count, dtype: int64"
      ]
     },
     "execution_count": 22,
     "metadata": {},
     "output_type": "execute_result"
    }
   ],
   "source": [
    "movie = [\n",
    "    \"成為王的男人\",\n",
    "    \"皇后的品格\",\n",
    "    \"赤月青日\",\n",
    "    \"神的測驗\",\n",
    "    \"死之詠讚\",\n",
    "    \"加油吧威基基\",\n",
    "    \"皮諾丘\",\n",
    "    \"魔女寶鑑\",\n",
    "    \"男朋友\",\n",
    "    \"來自星星的你\",\n",
    "]\n",
    "\n",
    "focus_keyword = [\"預告\", \"中字\", \"媽媽\", \"官網\", \"刑警\", \"韓國\"]\n",
    "\n",
    "KoreaDrama[KoreaDrama[\"電影\"].isin(movie)][\"關鍵字\"].value_counts()[focus_keyword]"
   ]
  },
  {
   "cell_type": "markdown",
   "metadata": {},
   "source": [
    "## 串列練習"
   ]
  },
  {
   "cell_type": "markdown",
   "metadata": {},
   "source": [
    "### 找出下列兩字串共有的元素"
   ]
  },
  {
   "cell_type": "code",
   "execution_count": 23,
   "metadata": {},
   "outputs": [
    {
     "data": {
      "text/plain": [
       "['他', '我']"
      ]
     },
     "execution_count": 23,
     "metadata": {},
     "output_type": "execute_result"
    }
   ],
   "source": [
    "list1 = [\"你好\", \"我愛你\", \"他\", \"我\"]\n",
    "list2 = [\"他\", \"我\"]\n",
    "\n",
    "[item for item in list1 if item in list2]"
   ]
  },
  {
   "cell_type": "markdown",
   "metadata": {},
   "source": [
    "#### Exercise 8: 找出兩字串不同的元素"
   ]
  },
  {
   "cell_type": "code",
   "execution_count": 24,
   "metadata": {},
   "outputs": [
    {
     "data": {
      "text/plain": [
       "['你好', '我愛你']"
      ]
     },
     "execution_count": 24,
     "metadata": {},
     "output_type": "execute_result"
    }
   ],
   "source": [
    "words = [\"你好\", \"我愛你\", \"他\", \"我\"]\n",
    "stopwords = [\"他\", \"我\"]\n",
    "\n",
    "[item for item in words if item not in stopwords]"
   ]
  },
  {
   "cell_type": "markdown",
   "metadata": {},
   "source": [
    "### 串列表達式 list comprehension\n",
    "\n",
    "`[你要的值 for i in 迭代物]`，出來的結果還是串列"
   ]
  },
  {
   "cell_type": "code",
   "execution_count": 25,
   "metadata": {},
   "outputs": [
    {
     "data": {
      "text/plain": [
       "[2, 4, 6, 8]"
      ]
     },
     "execution_count": 25,
     "metadata": {},
     "output_type": "execute_result"
    }
   ],
   "source": [
    "list1 = [1, 2, 3, 4]\n",
    "[i * 2 for i in list1]"
   ]
  },
  {
   "cell_type": "markdown",
   "metadata": {},
   "source": [
    "#### Exercise 9: 將上述串列 `[1,2,3,4]` 變成 `['1$','2$','3$','4$']`"
   ]
  },
  {
   "cell_type": "code",
   "execution_count": 26,
   "metadata": {},
   "outputs": [
    {
     "data": {
      "text/plain": [
       "['1$', '2$', '3$', '4$']"
      ]
     },
     "execution_count": 26,
     "metadata": {},
     "output_type": "execute_result"
    }
   ],
   "source": [
    "list1 = [1, 2, 3, 4]\n",
    "[f'{i}$' for i in list1]"
   ]
  },
  {
   "cell_type": "markdown",
   "metadata": {},
   "source": [
    "#### Exercise 10: 將上述串列 `['1$','2$','3$','4$']` 列印出來如下結果 `1$ 2$ 3$ 4$`"
   ]
  },
  {
   "cell_type": "code",
   "execution_count": 27,
   "metadata": {},
   "outputs": [
    {
     "data": {
      "text/plain": [
       "'1$ 2$ 3$ 4$'"
      ]
     },
     "execution_count": 27,
     "metadata": {},
     "output_type": "execute_result"
    }
   ],
   "source": [
    "list1 = [1, 2, 3, 4]\n",
    "\n",
    "\" \".join([f'{i}$' for i in list1])"
   ]
  },
  {
   "cell_type": "markdown",
   "metadata": {},
   "source": [
    "#### 將以下串列字元改為大寫\n",
    "\n",
    "hint: `i.upper()`"
   ]
  },
  {
   "cell_type": "code",
   "execution_count": 28,
   "metadata": {},
   "outputs": [
    {
     "data": {
      "text/plain": [
       "['A', 'B', 'C', 'D']"
      ]
     },
     "execution_count": 28,
     "metadata": {},
     "output_type": "execute_result"
    }
   ],
   "source": [
    "string1 = \"abcd\"\n",
    "\n",
    "[i.upper() for i in string1]"
   ]
  },
  {
   "cell_type": "markdown",
   "metadata": {},
   "source": [
    "#### Exercise 11: 空格改底線\n",
    "\n",
    "將以下串列字元['Company 1','Company 2','Company 3']改為['Company_1','Company_2','Company_3']"
   ]
  },
  {
   "cell_type": "code",
   "execution_count": 29,
   "metadata": {},
   "outputs": [
    {
     "data": {
      "text/plain": [
       "['Company_1', 'Company_2', 'Company_3']"
      ]
     },
     "execution_count": 29,
     "metadata": {},
     "output_type": "execute_result"
    }
   ],
   "source": [
    "listcompany=['Company 1','Company 2','Company 3']\n",
    "\n",
    "[i.replace(\" \", \"_\") for i in listcompany]"
   ]
  },
  {
   "cell_type": "markdown",
   "metadata": {},
   "source": [
    "#### 兩個串列逐一相乘，再產生新串列"
   ]
  },
  {
   "cell_type": "code",
   "execution_count": 30,
   "metadata": {},
   "outputs": [
    {
     "data": {
      "text/plain": [
       "[5, 12, 21, 32]"
      ]
     },
     "execution_count": 30,
     "metadata": {},
     "output_type": "execute_result"
    }
   ],
   "source": [
    "list1 = [1, 2, 3, 4]\n",
    "list2 = [5, 6, 7, 8]\n",
    "res = [a * b for a, b in zip(list1, list2)]\n",
    "res"
   ]
  },
  {
   "cell_type": "markdown",
   "metadata": {},
   "source": [
    "#### Exercise 12: 合併成 tuple\n",
    "\n",
    "請將兩個串列[1,2,3,4]和[5,6,7,8]變成一個串列[(1,5),(2,6),(3,7),(4,8)] "
   ]
  },
  {
   "cell_type": "code",
   "execution_count": 31,
   "metadata": {},
   "outputs": [
    {
     "data": {
      "text/plain": [
       "[(1, 5), (2, 6), (3, 7), (4, 8)]"
      ]
     },
     "execution_count": 31,
     "metadata": {},
     "output_type": "execute_result"
    }
   ],
   "source": [
    "list1 = [1, 2, 3, 4]\n",
    "list2 = [5, 6, 7, 8]\n",
    "res = [(a, b) for a, b in zip(list1, list2)]\n",
    "res"
   ]
  },
  {
   "cell_type": "markdown",
   "metadata": {},
   "source": [
    "### 用串列表達式計算字元"
   ]
  },
  {
   "cell_type": "code",
   "execution_count": 32,
   "metadata": {},
   "outputs": [
    {
     "name": "stdout",
     "output_type": "stream",
     "text": [
      "  關鍵字  次數\n",
      "0   你   2\n",
      "2   他   1\n",
      "3   我   1\n"
     ]
    }
   ],
   "source": [
    "words1 = [\"你\", \"你\", \"他\", \"我\"]\n",
    "words1voice = [words1.count(i) for i in words1]\n",
    "allwordds1voice = pd.DataFrame(zip(words1, words1voice), columns=([\"關鍵字\", \"次數\"]))\n",
    "allwordds1voice.drop_duplicates(inplace=True)\n",
    "print(allwordds1voice)"
   ]
  },
  {
   "cell_type": "markdown",
   "metadata": {},
   "source": [
    "## 基本 jieba 練習"
   ]
  },
  {
   "cell_type": "code",
   "execution_count": 33,
   "metadata": {},
   "outputs": [],
   "source": [
    "### Jieba 加入繁體中文辭庫\n",
    "import jieba\n",
    "\n",
    "# 設定分詞資料庫\n",
    "jieba.set_dictionary('assets/dict.txt.big')"
   ]
  },
  {
   "cell_type": "markdown",
   "metadata": {},
   "source": [
    "### 範例1 - `cut_all=False` 精確模式"
   ]
  },
  {
   "cell_type": "code",
   "execution_count": 34,
   "metadata": {},
   "outputs": [
    {
     "name": "stderr",
     "output_type": "stream",
     "text": [
      "Building prefix dict from /Volumes/Dev/nkust/nkust-homework/semester-6/marketing/02-share-of-voice/assets/dict.txt.big ...\n",
      "Loading model from cache /var/folders/qj/62r8d09n5hn3nm_bdzf0dcpr0000gn/T/jieba.u6e9054f30d8bff41ff092210c9dc3fac.cache\n"
     ]
    },
    {
     "name": "stdout",
     "output_type": "stream",
     "text": [
      "<class 'generator'>\n"
     ]
    },
    {
     "name": "stderr",
     "output_type": "stream",
     "text": [
      "Loading model cost 0.190 seconds.\n",
      "Prefix dict has been built successfully.\n"
     ]
    },
    {
     "name": "stdout",
     "output_type": "stream",
     "text": [
      "<class 'list'>\n"
     ]
    },
    {
     "data": {
      "text/plain": [
       "['我',\n",
       " '今天',\n",
       " '要',\n",
       " '到',\n",
       " '高雄',\n",
       " '小港',\n",
       " '機場',\n",
       " '搭',\n",
       " '飛機',\n",
       " '出差',\n",
       " '黛安芬華',\n",
       " '歌爾曼',\n",
       " '黛瑪蓮',\n",
       " 'addidasNikepumaiphone',\n",
       " '瑪登瑪朵',\n",
       " '高雄',\n",
       " '發大財',\n",
       " '寶藍',\n",
       " '藍桃紅',\n",
       " '咖啡色',\n",
       " '粉色',\n",
       " '螢光',\n",
       " '綠粉']"
      ]
     },
     "execution_count": 34,
     "metadata": {},
     "output_type": "execute_result"
    }
   ],
   "source": [
    "sentence='我今天要到高雄小港機場搭飛機出差黛安芬華歌爾曼黛瑪蓮addidasNikepumaiphone瑪登瑪朵高雄發大財寶藍藍桃紅咖啡色粉色螢光綠粉'\n",
    "\n",
    "# 切割完會變迭代物件\n",
    "# 預設是 cut_all=False 所以這句可以省略\n",
    "breakword = jieba.cut(sentence, cut_all=False)\n",
    "print(type(breakword))\n",
    "\n",
    "# 切割完會變列表\n",
    "# 預設是 cut_all=False 所以這句可以省略\n",
    "breakword = jieba.lcut(sentence, cut_all=False)\n",
    "print(type(breakword))\n",
    "\n",
    "breakword"
   ]
  },
  {
   "cell_type": "markdown",
   "metadata": {},
   "source": [
    "### 範例1 - `cut_all=True` 全模式"
   ]
  },
  {
   "cell_type": "code",
   "execution_count": 35,
   "metadata": {},
   "outputs": [
    {
     "name": "stdout",
     "output_type": "stream",
     "text": [
      "我|今天|要|到|高|雄|小港|機|場|搭|飛|機|出差|黛|安|芬|華|歌|爾|曼|黛|瑪|蓮|addidasNikepumaiphone|瑪|登|瑪|朵|高|雄|發|大|財|寶藍|藍|桃|紅|咖啡|咖啡色|粉|色|螢|光|綠|粉\n"
     ]
    }
   ],
   "source": [
    "sentence = \"我今天要到高雄小港機場搭飛機出差黛安芬華歌爾曼黛瑪蓮addidasNikepumaiphone瑪登瑪朵高雄發大財寶藍藍桃紅咖啡色粉色螢光綠粉\"\n",
    "\n",
    "breakword = jieba.cut(sentence, cut_all=True)  # 切割完會變迭代物件\n",
    "\n",
    "print(\"|\".join(breakword))"
   ]
  },
  {
   "cell_type": "markdown",
   "metadata": {},
   "source": [
    "### 範例2"
   ]
  },
  {
   "cell_type": "code",
   "execution_count": 36,
   "metadata": {},
   "outputs": [
    {
     "name": "stdout",
     "output_type": "stream",
     "text": [
      "寶藍|棗紅|紫粉|粉橘|墨綠|深藍酒|紅軍綠色|熒光|綠|深灰藏|青黃紅桃|焦糖|咖啡色|紫色|藍|橘膚|粉色|綠灰白|黑\n"
     ]
    }
   ],
   "source": [
    "sentence1 = \"寶藍棗紅紫粉粉橘墨綠深藍酒紅軍綠色熒光綠深灰藏青黃紅桃焦糖咖啡色紫色藍橘膚粉色綠灰白黑\"\n",
    "breakword1 = jieba.cut(sentence1, cut_all=False)\n",
    "print(\"|\".join(breakword1))"
   ]
  },
  {
   "cell_type": "markdown",
   "metadata": {},
   "source": [
    "### Jieba 加入繁體中文辭庫及自訂詞"
   ]
  },
  {
   "cell_type": "code",
   "execution_count": 37,
   "metadata": {},
   "outputs": [
    {
     "name": "stderr",
     "output_type": "stream",
     "text": [
      "Building prefix dict from /Volumes/Dev/nkust/nkust-homework/semester-6/marketing/02-share-of-voice/assets/dict.txt.big ...\n",
      "Loading model from cache /var/folders/qj/62r8d09n5hn3nm_bdzf0dcpr0000gn/T/jieba.u6e9054f30d8bff41ff092210c9dc3fac.cache\n",
      "Loading model cost 0.192 seconds.\n",
      "Prefix dict has been built successfully.\n"
     ]
    }
   ],
   "source": [
    "# 設定分詞資料庫\n",
    "jieba.set_dictionary('assets/dict.txt.big')\n",
    "\n",
    "# 將自己常用的詞加入字典\n",
    "jieba.load_userdict('assets/user_dict.txt')"
   ]
  },
  {
   "cell_type": "code",
   "execution_count": 38,
   "metadata": {},
   "outputs": [
    {
     "name": "stdout",
     "output_type": "stream",
     "text": [
      "我|今天|要|到|高雄|小港機場|搭飛機|出差|黛安芬|華歌爾|曼黛瑪蓮|addidas|Nike|puma|iphone|瑪登瑪朵|高雄發大財|成為王的男人|皇后的女人|陳時中\n"
     ]
    }
   ],
   "source": [
    "sentence = \"我今天要到高雄小港機場搭飛機出差黛安芬華歌爾曼黛瑪蓮addidasNikepumaiphone瑪登瑪朵高雄發大財成為王的男人皇后的女人陳時中\"\n",
    "\n",
    "breakword = jieba.cut(sentence, cut_all=False)\n",
    "print(\"|\".join(breakword))"
   ]
  },
  {
   "cell_type": "markdown",
   "metadata": {},
   "source": [
    "### Jieba 加入繁體中文辭庫、自訂詞、及停用詞"
   ]
  },
  {
   "cell_type": "code",
   "execution_count": 39,
   "metadata": {},
   "outputs": [
    {
     "name": "stderr",
     "output_type": "stream",
     "text": [
      "Building prefix dict from /Volumes/Dev/nkust/nkust-homework/semester-6/marketing/02-share-of-voice/assets/dict.txt.big ...\n",
      "Loading model from cache /var/folders/qj/62r8d09n5hn3nm_bdzf0dcpr0000gn/T/jieba.u6e9054f30d8bff41ff092210c9dc3fac.cache\n",
      "Loading model cost 0.198 seconds.\n",
      "Prefix dict has been built successfully.\n"
     ]
    }
   ],
   "source": [
    "jieba.set_dictionary(\"assets/dict.txt.big\")\n",
    "jieba.load_userdict(\"assets/user_dict.txt\")\n",
    "\n",
    "with open(\"assets/stopwords.txt\", \"r\", encoding=\"utf-8-sig\") as f:\n",
    "    stops = f.readlines()"
   ]
  },
  {
   "cell_type": "code",
   "execution_count": 40,
   "metadata": {},
   "outputs": [
    {
     "name": "stdout",
     "output_type": "stream",
     "text": [
      "我|今天|要|到|高雄|小港機場|搭飛機|出差|黛安芬|華歌爾|曼黛瑪蓮|addidas|Nike|puma|iphone|瑪登瑪朵|高雄發大財|成為王的男人|皇后的女人|!|!\n"
     ]
    }
   ],
   "source": [
    "sentence = \"我今天要到高雄小港機場搭飛機出差黛安芬華歌爾曼黛瑪蓮addidasNikepumaiphone瑪登瑪朵高雄發大財成為王的男人皇后的女人!!\"\n",
    "breakword = jieba.cut(sentence, cut_all=False)\n",
    "\n",
    "breakword_clean = [word for word in breakword if word not in stops]\n",
    "print(\"|\".join(breakword_clean))"
   ]
  },
  {
   "cell_type": "markdown",
   "metadata": {},
   "source": [
    "#### Exercise 13: 請進行以下文字切詞，並移除無意義文字\n",
    "\n",
    "hint: 句子切詞，比對不是stopwords則取出"
   ]
  },
  {
   "cell_type": "code",
   "execution_count": 41,
   "metadata": {},
   "outputs": [
    {
     "name": "stdout",
     "output_type": "stream",
     "text": [
      "高雄科技大學\n"
     ]
    }
   ],
   "source": [
    "strdemo = \"#高雄科技大學@@\"\n",
    "stopwords = [\"@\", \"#\"]\n",
    "\n",
    "breakword = jieba.cut(strdemo, cut_all=False)\n",
    "breakword_clean = [word for word in breakword if word not in stopwords]\n",
    "print(\"|\".join(breakword_clean))"
   ]
  },
  {
   "cell_type": "markdown",
   "metadata": {},
   "source": [
    "## 文字雲"
   ]
  },
  {
   "cell_type": "code",
   "execution_count": 42,
   "metadata": {},
   "outputs": [],
   "source": [
    "from wordcloud import WordCloud  # 文字雲\n",
    "import matplotlib.pyplot as plt\n",
    "import matplotlib_inline\n",
    "from collections import Counter\n",
    "\n",
    "matplotlib_inline.backend_inline.set_matplotlib_formats('svg')"
   ]
  },
  {
   "cell_type": "code",
   "execution_count": 43,
   "metadata": {},
   "outputs": [],
   "source": [
    "font_path = r\"/System/Library/Fonts/Supplemental/Arial Unicode.ttf\""
   ]
  },
  {
   "cell_type": "markdown",
   "metadata": {},
   "source": [
    "### 中文範例 - 無斷詞直接跑文字雲"
   ]
  },
  {
   "cell_type": "code",
   "execution_count": 44,
   "metadata": {},
   "outputs": [
    {
     "data": {
      "text/plain": [
       "(np.float64(-0.5), np.float64(2399.5), np.float64(2399.5), np.float64(-0.5))"
      ]
     },
     "execution_count": 44,
     "metadata": {},
     "output_type": "execute_result"
    },
    {
     "data": {
      "image/svg+xml": [
       "<?xml version=\"1.0\" encoding=\"utf-8\" standalone=\"no\"?>\n",
       "<!DOCTYPE svg PUBLIC \"-//W3C//DTD SVG 1.1//EN\"\n",
       "  \"http://www.w3.org/Graphics/SVG/1.1/DTD/svg11.dtd\">\n",
       "<svg xmlns:xlink=\"http://www.w3.org/1999/xlink\" width=\"280.512pt\" height=\"280.512pt\" viewBox=\"0 0 280.512 280.512\" xmlns=\"http://www.w3.org/2000/svg\" version=\"1.1\">\n",
       " <metadata>\n",
       "  <rdf:RDF xmlns:dc=\"http://purl.org/dc/elements/1.1/\" xmlns:cc=\"http://creativecommons.org/ns#\" xmlns:rdf=\"http://www.w3.org/1999/02/22-rdf-syntax-ns#\">\n",
       "   <cc:Work>\n",
       "    <dc:type rdf:resource=\"http://purl.org/dc/dcmitype/StillImage\"/>\n",
       "    <dc:date>2025-04-21T13:41:05.277987</dc:date>\n",
       "    <dc:format>image/svg+xml</dc:format>\n",
       "    <dc:creator>\n",
       "     <cc:Agent>\n",
       "      <dc:title>Matplotlib v3.10.1, https://matplotlib.org/</dc:title>\n",
       "     </cc:Agent>\n",
       "    </dc:creator>\n",
       "   </cc:Work>\n",
       "  </rdf:RDF>\n",
       " </metadata>\n",
       " <defs>\n",
       "  <style type=\"text/css\">*{stroke-linejoin: round; stroke-linecap: butt}</style>\n",
       " </defs>\n",
       " <g id=\"figure_1\">\n",
       "  <g id=\"patch_1\">\n",
       "   <path d=\"M 0 280.512 \n",
       "L 280.512 280.512 \n",
       "L 280.512 0 \n",
       "L 0 0 \n",
       "z\n",
       "\" style=\"fill: #ffffff\"/>\n",
       "  </g>\n",
       "  <g id=\"axes_1\">\n",
       "   <g clip-path=\"url(#p8b59917036)\">\n",
       "    <image xlink:href=\"data:image/png;base64,\n",
       "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\" id=\"image9c24a84848\" transform=\"scale(1 -1) translate(0 -266.4)\" x=\"7.2\" y=\"-6.912\" width=\"266.4\" height=\"266.4\"/>\n",
       "   </g>\n",
       "  </g>\n",
       " </g>\n",
       " <defs>\n",
       "  <clipPath id=\"p8b59917036\">\n",
       "   <rect x=\"7.2\" y=\"7.2\" width=\"266.112\" height=\"266.112\"/>\n",
       "  </clipPath>\n",
       " </defs>\n",
       "</svg>\n"
      ],
      "text/plain": [
       "<Figure size 640x480 with 1 Axes>"
      ]
     },
     "metadata": {},
     "output_type": "display_data"
    }
   ],
   "source": [
    "sentence = \"\"\"高雄城中城大樓火災是一場2021年10月14日凌晨2時54分發生在臺灣高雄市鹽埕區府北路31號「城中城」大樓的建築物火災\n",
    "。大火造成至少46人死亡、43人受傷[2]，是臺灣戰後史上死亡人數第二多的建築物火災，僅次1995年衛爾康餐廳大火\n",
    "（若算入非建築火災的1984年煤山煤礦礦災即為戰後臺灣第三大單一火災\"\"\".replace(\"\\n\", \"\")\n",
    "\n",
    "my_wordcloud = WordCloud(\n",
    "    font_path=font_path,\n",
    "    collocations=False,\n",
    "    width=2400,\n",
    "    height=2400,\n",
    "    margin=2,\n",
    ")  # collocations=False, 只顯示「單一詞語」，不會強制顯示詞組\n",
    "\n",
    "# 生成文字雲\n",
    "my_wordcloud.generate_from_frequencies(frequencies=Counter(sentence))\n",
    "\n",
    "# 顯示文字雲\n",
    "plt.imshow(my_wordcloud)\n",
    "plt.axis(\"off\")  # 取消座標"
   ]
  },
  {
   "cell_type": "code",
   "execution_count": 45,
   "metadata": {},
   "outputs": [
    {
     "data": {
      "text/plain": [
       "(np.float64(-0.5), np.float64(2399.5), np.float64(2399.5), np.float64(-0.5))"
      ]
     },
     "execution_count": 45,
     "metadata": {},
     "output_type": "execute_result"
    },
    {
     "data": {
      "image/svg+xml": [
       "<?xml version=\"1.0\" encoding=\"utf-8\" standalone=\"no\"?>\n",
       "<!DOCTYPE svg PUBLIC \"-//W3C//DTD SVG 1.1//EN\"\n",
       "  \"http://www.w3.org/Graphics/SVG/1.1/DTD/svg11.dtd\">\n",
       "<svg xmlns:xlink=\"http://www.w3.org/1999/xlink\" width=\"280.512pt\" height=\"280.512pt\" viewBox=\"0 0 280.512 280.512\" xmlns=\"http://www.w3.org/2000/svg\" version=\"1.1\">\n",
       " <metadata>\n",
       "  <rdf:RDF xmlns:dc=\"http://purl.org/dc/elements/1.1/\" xmlns:cc=\"http://creativecommons.org/ns#\" xmlns:rdf=\"http://www.w3.org/1999/02/22-rdf-syntax-ns#\">\n",
       "   <cc:Work>\n",
       "    <dc:type rdf:resource=\"http://purl.org/dc/dcmitype/StillImage\"/>\n",
       "    <dc:date>2025-04-21T13:41:09.099521</dc:date>\n",
       "    <dc:format>image/svg+xml</dc:format>\n",
       "    <dc:creator>\n",
       "     <cc:Agent>\n",
       "      <dc:title>Matplotlib v3.10.1, https://matplotlib.org/</dc:title>\n",
       "     </cc:Agent>\n",
       "    </dc:creator>\n",
       "   </cc:Work>\n",
       "  </rdf:RDF>\n",
       " </metadata>\n",
       " <defs>\n",
       "  <style type=\"text/css\">*{stroke-linejoin: round; stroke-linecap: butt}</style>\n",
       " </defs>\n",
       " <g id=\"figure_1\">\n",
       "  <g id=\"patch_1\">\n",
       "   <path d=\"M 0 280.512 \n",
       "L 280.512 280.512 \n",
       "L 280.512 0 \n",
       "L 0 0 \n",
       "z\n",
       "\" style=\"fill: #ffffff\"/>\n",
       "  </g>\n",
       "  <g id=\"axes_1\">\n",
       "   <g clip-path=\"url(#p3b4580220a)\">\n",
       "    <image xlink:href=\"data:image/png;base64,\n",
       "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\" id=\"image50de8f1d7d\" transform=\"scale(1 -1) translate(0 -266.4)\" x=\"7.2\" y=\"-6.912\" width=\"266.4\" height=\"266.4\"/>\n",
       "   </g>\n",
       "  </g>\n",
       " </g>\n",
       " <defs>\n",
       "  <clipPath id=\"p3b4580220a\">\n",
       "   <rect x=\"7.2\" y=\"7.2\" width=\"266.112\" height=\"266.112\"/>\n",
       "  </clipPath>\n",
       " </defs>\n",
       "</svg>\n"
      ],
      "text/plain": [
       "<Figure size 640x480 with 1 Axes>"
      ]
     },
     "metadata": {},
     "output_type": "display_data"
    }
   ],
   "source": [
    "from wordcloud import WordCloud\n",
    "import matplotlib.pyplot as plt\n",
    "from collections import Counter\n",
    "import jieba\n",
    "\n",
    "\n",
    "# 中文斷詞\n",
    "sentence = \"\"\"高雄城中城大樓火災是一場2021年10月14日凌晨2時54分發生在臺灣高雄市鹽埕區府北路31號「城中城」大樓的建築物火災\n",
    "。大火造成至少46人死亡、43人受傷[2]，是臺灣戰後史上死亡人數第二多的建築物火災，僅次1995年衛爾康餐廳大火\n",
    "（若算入非建築火災的1984年煤山煤礦礦災即為戰後臺灣第三大單一火災\"\"\".replace(\"\\n\", \"\")\n",
    "sentence_list = jieba.cut(sentence, cut_all=False)\n",
    "\n",
    "# 中文繪圖需要中文字體，設定字型，微軟正黑體\n",
    "my_wordcloud = WordCloud(\n",
    "    font_path=font_path,\n",
    "    collocations=False,\n",
    "    width=2400,\n",
    "    height=2400,\n",
    "    margin=2,\n",
    "    background_color=\"white\",\n",
    ")\n",
    "\n",
    "# 生成文字雲\n",
    "my_wordcloud.generate_from_frequencies(frequencies=Counter(sentence_list))\n",
    "\n",
    "# 顯示文字雲\n",
    "plt.imshow(my_wordcloud)\n",
    "plt.axis(\"off\")  # 取消座標"
   ]
  },
  {
   "cell_type": "markdown",
   "metadata": {},
   "source": [
    "#### Exercise 14: 請將上述中文句子(sentence)斷詞後，再去掉停用詞，再來繪出文字雲"
   ]
  },
  {
   "cell_type": "code",
   "execution_count": 46,
   "metadata": {},
   "outputs": [
    {
     "data": {
      "text/plain": [
       "(np.float64(-0.5), np.float64(2399.5), np.float64(2399.5), np.float64(-0.5))"
      ]
     },
     "execution_count": 46,
     "metadata": {},
     "output_type": "execute_result"
    },
    {
     "data": {
      "image/svg+xml": [
       "<?xml version=\"1.0\" encoding=\"utf-8\" standalone=\"no\"?>\n",
       "<!DOCTYPE svg PUBLIC \"-//W3C//DTD SVG 1.1//EN\"\n",
       "  \"http://www.w3.org/Graphics/SVG/1.1/DTD/svg11.dtd\">\n",
       "<svg xmlns:xlink=\"http://www.w3.org/1999/xlink\" width=\"280.512pt\" height=\"280.512pt\" viewBox=\"0 0 280.512 280.512\" xmlns=\"http://www.w3.org/2000/svg\" version=\"1.1\">\n",
       " <metadata>\n",
       "  <rdf:RDF xmlns:dc=\"http://purl.org/dc/elements/1.1/\" xmlns:cc=\"http://creativecommons.org/ns#\" xmlns:rdf=\"http://www.w3.org/1999/02/22-rdf-syntax-ns#\">\n",
       "   <cc:Work>\n",
       "    <dc:type rdf:resource=\"http://purl.org/dc/dcmitype/StillImage\"/>\n",
       "    <dc:date>2025-04-21T13:41:12.935453</dc:date>\n",
       "    <dc:format>image/svg+xml</dc:format>\n",
       "    <dc:creator>\n",
       "     <cc:Agent>\n",
       "      <dc:title>Matplotlib v3.10.1, https://matplotlib.org/</dc:title>\n",
       "     </cc:Agent>\n",
       "    </dc:creator>\n",
       "   </cc:Work>\n",
       "  </rdf:RDF>\n",
       " </metadata>\n",
       " <defs>\n",
       "  <style type=\"text/css\">*{stroke-linejoin: round; stroke-linecap: butt}</style>\n",
       " </defs>\n",
       " <g id=\"figure_1\">\n",
       "  <g id=\"patch_1\">\n",
       "   <path d=\"M 0 280.512 \n",
       "L 280.512 280.512 \n",
       "L 280.512 0 \n",
       "L 0 0 \n",
       "z\n",
       "\" style=\"fill: #ffffff\"/>\n",
       "  </g>\n",
       "  <g id=\"axes_1\">\n",
       "   <g clip-path=\"url(#p3af6dd49e1)\">\n",
       "    <image xlink:href=\"data:image/png;base64,\n",
       "iVBORw0KGgoAAAANSUhEUgAAAXIAAAFyCAYAAADoJFEJAAEAAElEQVR4nOx9BXib9/X1EZNlycyUOLHDzIxN06Qpc1faiiutvLVdt+K6titzV2ZOw8zMHDMzW4zfc68sxyDbkiw56b7/eebVsejVC/e9v3PPPVfgdDqd+D/8H3xEpUGHfRUlmJ3cHwqxhP9Gp1KZvhnri3JRazJgYFgkpiekIkQihUAg4MfrzEZsLslHQVM9wuVKfjwtNIwfbwt67p7KEogEQoyJju/0uC9wn+L8HwH/z+PnudHxsbp6PQ4cLcKE0WlQh8gRbFitdqzfehIymQQpiRGIiVJDIad92Hnb/g//B4L4/+fd0PEeFsiLhN67JW60e1/6u83p4P9KhKLf7YV5ur4aT+1ejzExCa2BvKi5Ebet/xkaqRz9tRFYVZCFX3NP4N/TzkeoVIYSXSPu3bQMJrsNo6LicbCqDB8e24unJ83DzMS09vsJwBcnD0EuFnMg9xe0n+sNRnyx4xByqmoxIikWN08b2+l5dQ16fPz1DiQnhmPM8GQkJ0RALBbyNhWV1uHld9bizeevhlIhRWOTEc06E9RqOcI0yoAfw6LSWvy66jDKKhpgszsQrlUiIz0W40amYsSQRERFqCEUCn63504gYXXYobda+Jxruz8cTieaLCaESGQQC4Wt54LeZuHrTioU8d/cr6HHjHYbHE4HVGJX4uEpVpyr+zxggdwVoEzQ22phd1pgd1rhcFohESqhkSRCJJCcczuhSNeAV45sQXpoJO4cOgkiDruB2Rf03l9mH8ANGWMRrwxt/e4UxP+2exWK9Q34z+QLEatUt74mu7EGvxWe4MyRnj4sPA6z4vtDInKddIECnaxmuxWuWw0gFUo48/X5+LS5D9L2byrJQ6hUjvfmXsQXVnFzI25e+yN+zjmOGwaPxsfHD8DisOPj+ZchWqGC2W7Hs3s24pUD2zA2JgFCytrbvJ/N4eAfg83KNwt63Kfv6XDiYFEZ/r1qC44WV7TeWN3/bYumZhPsdgdWrj+GL3/cjUED4nDFkrEYMTix3ZfdsjMLb3+yGWaLDRq1HE89dCH6p0a12w/+wr3/01Ki8J+nr0BDowHFZfU4cboMh4+X4O2PN3EAHzMiBYvmDceQzHiIRZ2PGwesRiOsZgu0URrXKiTI1x4nLg4nbFYb7DYHf55UceaaN+pMkCmkEHrY3rbvYTVbIZFKIBB6t70n6irxwoFNeH3ahVCIpa1/pyB+77aleGbCecjQuo5PtUmPe7cuhdXhwMjIOFyYNhhDwmP43Cd8nXUIFYZm/HXMrE6fQ8nH1vJ8jI9O6nTT8HTt15gMGB3Zu5VkrwO50+lAs60KOmsl4hTDIGj5oj3hQN3XOFr/ExxOO5ygrNPBAXxA6GxMjb4HYsGZHX0uoNFiwqqi0xga3oi5iekQevk9uwIFZTrIlA28f3I3vs4+iCaLGc+MPw9igaj1QOc21SKnsQYWu63d65cWnMBbx3e0/lsmFOHxMXNx7YBRATsh6POPN+bj1azvYXc6OKAlKWNwa//FSFBE9epzLuo/GAvTMqCWyDgAJ6o1WJSWidWF2bgyYzhO1VdjXEwiB3H6HJlIhOkJaVhRcBqHqsvxzJ6NsNjt7i1FlUHP20c0zAdzL0akQuX1d9RbrPh61yH8d+t+WO12jEiOw6Gi8i5fk5oUgYf/fB6MRiuy8irxy8pDeOrFpbh00WgMGhjX+ryI8BDc88fZiAwPwQtvrMK6LSfRLyWylTrauisbew8V+LzvKDjPmDSQ34duWHKZBLHRGsREhWLsiBTOzKtqmrFzXy4++WYHfw49/4YrJyM+VtPuuFmMFrz9l09xdOspTLt0PBbeMhsJ/WM7BUcKvBazFYZmIwyNBtisdoSEqRAWreHnensu0Pfet+YwfntvHeorGmDUmSEUCzF69lBc/egSWM02PP+Ht6CJVGPeddMwctYQyFWyTivVioJqvPfQF1h8+zyMnjPUq8+3OBw4XFuOa9Z+0+5GT+c2BWU6D92g8/KJsXNQYdBhf3UJ/rprFa5IH45rB46CEALobBY0WU0eP6febMTHJ/fhgxN78NjoWRjlIUjTdb+tPB9P71uPKbGpGBER23rdn5VAbrI3YXXZU2i2VmJx4ouIlKW3PELh2Q4hxB6+hBUyYQjGRFwHmVANsVDGmfnems+Q1bQOmZqFiFUMxrmIQzVluGT1Z716DwEEeHbCAlycNpRPqJsyxmJ9STaWFZ7ElekjMDKi+7uzA06EyxX8OloOnmqowrqSbGwpz8PVA0YGbLVA2FN3EhWmWggghN1pR4mxmo/tE0NuhETg3yKNvptaKsP2skJ8fvIgc+TjY5KQHKpBia4JRpsNqaFhOF5bhWarBWqJlC+2fZUliFKoEKtSw2yzYUp8CibGJfP2fHL8AK9Gbh4yhnl2b8Arm8pavLx6K3bkFKJfVDgeOG8a9GYLDncTyGn7zWYrfli2n+mVW66dwgHyyx/3YPyoVM7ua+t0/Fh0pGsVlTkgFlm5lfyYSOQ6PrX1euQW0P70DalJkZ2+B9E3+w4XYvjgRESEqRAdoYbT4drWiy8YhV378vDwP3/AfbfOxdiRKa3nV11FA3T1euga9PjhleXY+M0OXHrfQlzwxzmtAZTe/7f31mLN51tQW1bPGbPD7oBKo8T866fj2r9dDKnc+8Rrz6rD2L3iIGfdSrWCbxA/v7ESdpsdA8f0Q3leJY5tP4Vdy/Yjc3w6rnhwMcbOGw6RRMSLnawDeXjtro+Qc7AAFflV+Nfqv3Hg7wja7gaLCXsqizE1LpX/Fq0IwdMT5kMhclF8hGarGY/tWtnutXKRGGWGJhyqKefrNUUdhlcObeVEQSmRYm9lMb/u5cNb+fm0Ny9IyURmWDTilGq8O/MSfHRiD+7f/hsH8/lJA1tvHhTEVxdncRC/ZsBI3DJoXGum3xfweNXKRRpkhp6HbVVv4lDdt5gd9yj/fW/Nx6gx52Jq9F0crDsiI3R+p78V6/chp3kjqk2nESMfdM7RKwSNTI7hEXF8cP0FvTJK7soY6Tv2D43gTPo/R7bih9yjGEGBvJvXU0ZwU8a41n/vrS7GxtJcDnaBBC38Z0SNxLSoEZAKxTjakIc3s39Evr4cJjvxh/4Fci5OVpQwBz4sMgbnpQzEqboqrC7MgsFm4dXHLUPG4MGtK3H3xqWYEJuE7IZaHKupxCPjpiNdE44Hx0zDB8f24q4REzmwrynMYY58XnJ6j+cNfb7FZseyw6fw5vqdaDAYcfHoIbhr9kREh4Zg7fGcHr+DUCjEnoP5+OKH3cyF08XpcDiwc18erDY7nn5lOUSiMxcn0SsJsRpYrHYoWiiDCxeMwOL5w33ef56+HwXxdz/ZzJ+5YM5QxEVr8POKA7jusom8UrjsgjF4//MteP71lXj0ngXModP7xKZF44lv70PhiRIse28dNn67Ax8+9jVO7c7Bnf+5AWExGs7a136+lQMnBXd1eAifHFVFNfj+P8sxeNJAjD9/pNfX69ApGRg2NRNJGXHQRIai+HQZnrz4JexeeQjX/PVizsL3rTmC1Z9swsndOXj2mtcx7/rpuPLhC7F35SF88exPfAOKTAzHdU9cAnV416uvWpOeM+Nvcw7zSloqEiFDG8ncthsNZhNz4R1BKz6d1cyZOtVtREIh8pvrEK/SMEdOdB9l3yKBAGKBkKlQ9/EJlchwz/CpSAjR4Nn9GyAXSTAjPo0fP1Bdimf2rcctmeNwQ+ZoiD18diDgou5c5GDbY+PxqqUnDAydh9NNa1Cg34kaUw6i5QPRZC1HkX4Pfi7KgtDLJYPZruP/NlrLcK5iSFgM3p9+GfQ2M3RWS6fH6a5LQbrJaobRZu3i8RBIWooq7n24JHUIPss6gG0V+WgwG1ml0RXcWZL7d29uKvT8HF0JCg2V6K9KQFqIiwLI1ZUhX1+GVGUc+oecWQnw8tVUi19Lt+HqlLmIk0egyWpgSsl1enTP79LriSukzKbTYwC+yzqCdG0E3px1IWfQVIh6eOsqbCl1UQ1EtYyPTcKyvFP8HgVNDUhSazAiKo638bzUAThYXYaX9m/Ds1Pm9fj9225XWUMzXl+3A6uOZiEmNATPXDIf84YMgKQbTrYjqLjZPzUaBqMV9982l/9NoKz7rY834d5b5yAhTtvuNVKJGFLKKltAgQG9TMTc58HMyRkYkhGPjdtPY9maI3xjuWDecCw5bwREQgEiwlW4//a5eOPDjfjPe+vwr8cvRVKCSwEkkYrRf0QK7n7jJky9eBzeeeBzbPlpN/RNRjz88R18c5hy0Thc89hFSGwJvjaLDc9d9waObDmJnb/tx/gFIzsXE7rA9EsntNvPihA5YlIiUZZXieriWs7KF9w0EzMun4htP+/BZ//4Acs/WIddyw+gvrKRz6Cx84fjlueuRr9hyV0eM3eS9P7MS/DWsZ3496EtfE3esP67dhkwBWBaFXZ87cKUTIyNSsT925dxQDfbbVykp8BfY9RzDedYbQUu6z8M1w1sT2nS72KBAJf1G4ZGs4mDeX/NZVwXev7ARsxJTMf1GZ6DOB1Ts70eTtghF4VD0CZ+dqeY6ogKww7kNv2AfqEXIV41o/XvXaZfUqEKQ7VLsLHi38hqWotoeQai5YM4u9ZKE9vQLd6BXn8ug4Ix3eW/yjnY6THi1r6cczXePLYDa0qyOj1OvPjXc69FvCq03d/pLj86MgGbynKZF+8ukLtPvg2lOVxQ8RYbqg7gh+JNuCltYWsg31Z9GF8UrsHVyXM5kLthddrwZeEarKnYiwarDk8OudHrz+HXOxx4fMdaDI+MRYwypN1jjhbpIWXjbrkhZUTjYhNxoKqMi5UHq8rx3ekjeHvOEs7Iqww63LD6B3xz+gj+PGIiZ0CUjd+1YSl+yD7m1Y3F7nBiy+l8vLxmK4rrGjE7sz/umz8FKRFav1Z/A/vHYOP2UzhyogQyqevyKC1vYNohJ7+KC5BuEI88fcKAdll6IECUysff7IAmVIHhgxJw/uyhmDMtEz8uO4Bvf9mL/KIaZKbHtj4/TKtkSufrn/fgoT+f1xp76fuLxCKMmTccT353H174w1vYv+4IPnzsK9z75i248qHFrc9z70/Kkolbzz6YD7PJArlS1uP22q126BoN/HptlKuwL1VIEZMShcITpSjPr8KA0WnMyROFQ8XM0Ag1qoprUVNaB4lMgluevQrn3zyrE3fuCfR4mEyBR0fPRL/QcA7mM+P7Y2y0uzB95ppOUbe/8RIoWOc11XKwpoJnR1DdrNzQ3OXn0836uoxR2F1VzDGDiqlUC7tr6KR2yVxbOGDF7qq/wWirwsz49yAXt6XSqEC6ClKhBhHy4ZCKOrMdbuhtZSg3bEG0or3yStzdzkpWTYBaEoNi/R6YHc2Ikg9gftxsb4bR3gBvoZEmIl0985ykVdrCaLdyAZQCKXFiDiewo6KAK+D2FukSHTDi5sJlCv4bFTfocQpkHUHLszFRiRz8SZFCmUBXoIuACjAP7lzGJ+U16aO82+iWj83VlWJ95X7+nWiSjrA57JyJb6g8wDz4zOhRPhdiSMY1K7EfXju0A3YHsfrOdhdNrDIEOQ21fKHIRGJ+NL+xHhnhkVBJpJwh0XsQV07Pj1AoEa1UobLlomm9QMfNwCPbVvH+HRkV162s8IPNe/HdnqO8VL56wgimUwiFte3Pz+pmHW8PFUELa+pbz0WpWIRYjZq3h/5GAZKkh1t3Z7e+1mCwcLFx94F8yGSuS8ZisaOopBb9kiMR5YHL7Q2MJisUcgn2HyrErysPMc1DxdBZUzJYTfPWxxuxdvMJJCdGQKV00QlUcKXneZLk8LWcmYD73/0T/n7Jy9j47U6MmjUUc66d2injTB+ZwmqTmpI65tm9CeQ7ftvPRcp+w5Nx1SNLWt+TFCp0nIiuIexfdxSv//m/qC6p5eckZcTDYrJwQDcbLZApew7i7nOZCud0nlEQnZuYjrUl2ZgQk9QqhXUjq6GGz6lUdfteBXrt+pIcSD2sLkkmO66HZIr4+HuGTcFdW37BptI8zt6Jq+9y+51E6zTBYm/gSmP7h5woaF6KauMBjIl6HGmhF7bIISvhcNqgFMdC2EPtqttHFSIN4pUjkd20Dg2WYoRJkxGtyORAXmvOQ0+gjSA6hrLxseHXeb1MO5sgrvqWzPGYlziAM9Dr1n+N0w1VrY+LhQLcO2wqZ9p0Mlyx5gsU6eo9vhcdVMoY6D3p5OgOROm8fnQ7LxMnxiS3al+9xZbqw/zjCU1WPWftP5VsZunhRYnTMT1qhM83Vgp2F6RlMBVCgZaWl27QO106YChz5K8f3IHzUzNwrLYSawqz8czkeXxTGxoRzXzmu0d247IBQzlTP1FbhesHnblp0TYNi4zlv/195/quAzmAf6/ciqUHT7hilwD4af8x/Lz/uMfnu9ULu/OKceU7X7f+fUBMJP5786WQScR88VDzzT9aMlU3jp0uw/OvrcSfb5mF1MQI/ltZZSMefeYnBANUTP3TddOYl6+uacbhEyVYu/kkHnn6J5Yczp0+CCvWHcPIIYn4882zOGC2UnJdHFJ6jLJi4qTfffBzfPfyMoxbMLJTQTEsRssFT12DAQ1VjYhMCO9xe0PDQ5jfpux6/9ojrX8nOSeBiqluHp14dwrakxeP4X/nHi7EU5e/gqVvr8GMyyYivn9Mj5+nt1nx4sHNLCckOJ1OThJu3fQTEkM0nWSqM+L74ZFRZ2gIN5xdykV7lpDS/hwaHoMxUQlcy5qd2HMdp2s4WeFHtItbIeiEDXur/gGdtRizEj6CUtz9fumhsiVAvGI4TjWu4sBtc1qQGbrAqy9KMNmbsb/2c/ze4O6g4+Pi4dgwg+0+aD0cO61UzidWib4R2yoK+AbgKch8eHI3dlcV8WrgwpQhrFrxBSO1AzBM249/P1yfgyONua2PnWgqwIrynfz7pUkzcX3qGTmkr6DvnRgSiuenzGcu211Qor9PjkvG05Pn4uPj+7GqMBsxShWemDgbUxJciopktRb/mroAbx/Zjfs2LUOIVMYFzllJ/dpdBLS/KNBTdt8lHeUEjBYr1PKeM0bevpYDRf/f9kJ3K/JYsmiwsKTwdE5lu9darTaYzFY888pyiMWi1iBFxc5grDLpPW02Oxx2J+JjtVAqZKwjL1bLoVbJuFmIPjYpIRxiicjFy3v5vnOumYJVH29EwbFi7Fl5EHOvm9aJ26bA3FDVhLqK7pMPN2JTo6AMVcDQZGQah1QrbZE4MI737+pPN6OxuokpqU3f7eQf2o9UZK4tr8eWH3fhyocu7HGfUtHxvZmX8HseratAflM9B/BHdq7Aa1MvZFnrqqIsXDVgOGRCcev+cdd46L/Ep1OS1bZA6gYV570BnUeDw2OQ01iLhA60qi9wOu2s+qOzUyQ40zlscxhgc+hbWpLhfyCnHRouTUWYNAVigRyH675DsWGfD1vo+k9Py4JzCbTMKdc3s86bAqypQ3GT9ikFZap4UzGPJHPdgU4i2o9Er5Cc8K6hk9spUYiS+S73MD44uZsLqn8dNdtrqV1bjAxLx7UpLtXQp86VHMjpu9BnjQ4biEcHXQezw8q/UxC3Oe18fOhxPkzc0GWH1WFrDXxdNQm5g/J/ZixsV2Ci77owNQNzktL5glGIxdxB534P+i/JC8fHJsJgs/EFR0VPT59Br3t8/KwuUwZ6yd8Wz4LJ2rn47AlbswrxzG8bMKF/Ep5YPLs1cyV5I9Er1Hjz77dWc+fk4nnD+QOOny5DcWkdxo1KxYp1RzkTjovRciDYsTeX2+eJ0uiIwpJaVpx4le8IgFFDk9Av5UxTEdE4JHskzfj8mYNRUFyLE1nleOze87lBac/BAi6+rt5wHGOGp7Tq2L1BiFaFWVdNwUd//Rqbf9iFWVdNhlhy5vqkIinx11QToCybvmtP762JCkVEnBbGZiMu/8siDJuW2e7xhuomfPzkdzi27TRO7/WsHqIb0sH1x3DpvQuZM+8OtBKm84twtLYCW8sL8MLEBUyH1JkNfC5/l3OYpYOQCiB0OCCRilBt1OGRnSuxIDkDF6cNYd14ub6J6z3H6yoxQOOiAElhFt/SqNctuIHNySoWOpf9a6I0IrvhSzRYTvPfRALvEpOO6DHCRsj74+Lk17mZJ1LeHxFN/aCzVWOw5gKuvNIF37EoRXcYOkOL9Luhs1VhRNjlvGTw5qQ426Bv8uyB9a67uJNUN7Z2gZUKkg/vWu7K6loep6DuTbOQwWrBG0e3sUqkbVGEJFERchWeHDsPQ8NjA7aPiEt85fS3KDacye6/KVzf7jkGO/H/dtRZmvD4kQ8gasnUB4Wm4Pb0JV2qZ1wVfJHHv5NkkH66eh3xkp64yY7PIzqmu8ej1N41CBEiQ6r5myglEiSGd15+x0aFMj++ZtMJVotQIw4VDzVqBUYOScIvKw5h1758PP6XC1Be2Yjte3ORnhoNlUrGN+O2Vgx5hTX4+qc93iRSjBClrF0gp3cZOTQJtfU67jJVKWW4fPEYJMaFoa7BgPS0KNx/2xy88u46PPvqCjz314u4ecgb0DaOmz8cXz33M7IP5LNiJKqFLiJQIw8FcgJRK96AtOPx6bEoOF6CvasPQSo/E4hJY7/07dXY9P0uLoQ+9N87OIN3g/aRxWSF0+HgAil3iPYQJzaU5OKlQ1v4aqWald5mwbXrvuHjcKS2nK+nSmMz/rD+Wz6HYpRqvDPjYr7GKLiT2uVfk87njuGXD23BbUMmMJdOYgXq2fgx9yjfHGYk9INWquD+iLagz+EbCSlRbDZedfsqXeY+AWsBjta+jnLDdhetAiFEfjZN9hjIqTPT4jRgbcWzSA2ZBIOtnjXhivBrcaThJ0TJBiBP5xLQE6gYaocVqarJ/Nwq42kooyKwreptZGrOQ5TM1b12LoLu6J5026QXpWA9I64fIjws9ZViaY9Z9GBtNC7pN4yLmVRQlQhdJwcFlOsGjsa8pAGIa9PKHwjQDbbKXI9SbvjxDAri7htUOTcJuT4/St652v97RkZcJB69YCaSwjUeLzmJRIQbr5rM2e9T//6NA/TpnAr0T4nCK++t4+7OzTuzuAGHlCv0s27rSS6KTps4oJ12fMr4/hg9jJqavIO8TeAjkApm+OAEDBuUwDYBP/52AB98vpU143S+uDlxk8kKi9XGhl4L5wzz+vNIZx6dHImSrHLWe7cN5KyXjnApkhpru1ZutAVRJamDE7Hj1334/pXl+PG1FWcedAKj5w5jRcqKjzZg8/e78Njnf+bgT1n/8g/XY+VHGzmY04GJ7xfDCpbkQQldXguT41LwruZi/n154SnsrizCP8bPaz13SVhAcsD/TFnM1yUlTSFiKSdnF/cbimN1lcynK8USXlU/unMlzk/JwFfZh/Bz3nFOzui5f1j3LW7IHIsbM8e0+3zK7O/eupSbh+pNBsxJGgBfYHOakd/8M07Uf8gqlkj5SBht1TDYKoKTkbP20aGD3WnmO8apxpUIEUfzY5Wmk8hp2gixRo5Sw0EM0lyARkspyk3HEK8chpONK6CRuvjgenMBsprWIFk1DvBvO/sE5ydlYEFSBp8IHfXixbpGDNRG8Y8bdFGlh0Z0qpR7Ap2UpEa5b9hUPHtgAysyKKAfr6vgoiqh2ugq3hCId6OEjjKOwzXl/FlUAB2oiewxm3WDmnv+Ovh6zsy7wqnmIjx34jOESdV4dtitCBErWv1XetMgda4hOVyL6yaN5N+7ootI9XHTVZPxwFM/ICUxHOMvn9j6OFEalDl/t3Qf+5yEhJw5kWM6FAxd2vLe0YnuGk1CrJaLrETvvPbBer4m77p5FiLDzsg/42I7Z+NtexKo9b6hupHlf/yYw8lUCDUMnd6Xx+qRtiDJIkHfRmrZlWmU++/UQJQ5rn+7VQjdCKhLk3j3G/9xOU7szOJW/txDBfx8Wg18+dzPzMcnZ8Zz9r575UH+jCe+vbcd5dNR7ks/hPiaUK6jpGsiW1dZFgetkuXorwnn/7b7bgIBLuk3hLu5X56yiIM5gQJ+XlMdZiekt3aMuqXHHaGVKfC3MbNbkz5PyV1XID+qfVX/QK3pKPfipGuuRIb2BuyoeABGexWEAteqpCN68vAR92SCtaP6HQ7QaSFTcLDuG2JOWfmQ17wVkfJ0aCRxHHAsRMw7zUwb9FfPxK7qDyCxUVBwolC/GypxZK87O10eLk5agAStyGS2WfHIruU4Ud9zsZF43K/mXsNdod6ATrQr00diT1UxVhafxrsndmFfdQl3knnUSDsdLEm8at0XvODWSGX4ZcGNSFB1vnBpuefmt91SSArEYRJ1t/uqwlTXwoeLECnTIFTiPV1xroCLWFYb6vVGl5TQg+ES7QOSTO7IKWJKhlr3OzYLcSNc/xhMHtcPA/rF4MolY9s1apHPyuETxbho4Ujmx/sCTDGJBJg0th/rxV94fRUqq5swfeKALo8rGU+t+ngTkjLjMXzaIFQWVuORBc/BpD+jMjI2u37/6vmf8eOry9u93mxwFftI801f3Ww0Y+tPuxERG4ZRbTxQ2LdnRxY/Pnz6ILy84cl277P+q2145bYP+HfqHKXn5B8rRuHJUg7kpF6hz4qID8Nzyx7lG8yTl7zExlvZBwqQOb5/j9f5eUkDOfC2fVb/0Ei8Nf0i5rs97U9quX9j2pJ2Chf6Lk+OnctSxZ4SM5LWjoj07prvCLvThBrTQaglqRgafic39ZC6z+m0MbXSbM3nxylxNtlr2OYkr/kXSFs66WtMh30xzXIyD7675iNkN61n46xYxVBMjr4DBc3bYbDVYmjYEvZiUYkjkKaaDLvDDKUoDNqQRKZb5sQ9huMNv8Foq0dG6HnQSpO87gbtaptONW1CVtNWDNMuQJJqBCSCrl3I/P6clsYXyn6vTh/psapNNxNqGiCXM1/d7qi4d+/wqdhTXczFT/JrSFN3lniRJ8TPece4qLgoZRAHW3qtpwyBsLJ8F/bWneLfq81n5JA6mxFmR9dVeCpWzosdB6VIjmarARaHq3qukaj8btfvDXy1CyVDrPUncvHZjgMwmK349I+XQ6P07BlusFjx3LKNqNHpMW1AGjcOMdXS5rOI1njgjvlMtbR+htOEXTVfwShqxgW3S1AqW4W6ulAoxGooRVqW6cpFasiESoiFUk52fPkO3sCtcX/ln5d364lOwZDMq6iYSbps8kyZcP4o5qVNBrNPn0mUS0lWGT5+4lvsWnGQpYEvrHislYohWubFm99BXXk9B2nycmkrVyR9eOv2QwB1yyqCPGCIVnEfa1oBUIGzLLeC+fnjO7Pw4k1v4+lfHkLCgO5rRmSvoZG13x9UnyHdeHeBmK6rtqDP6NjQ1xbubXXABovDCKOtCTpbLSJkSRz3vD3WdG6khS7BIO0tUIhj+HWkWHG0BPJa0zHkNn3X7jUn6103w+7g8UrV22qwqvQJ1JpzkaIaj2kx9+Jk43KcblrLGnLSPB5vWIoywxHEK0fwXcMNh92Gw/Xfo1i/n5uI6Ll7aj5CqfEQlOJwzux9Be3EJmsVdlR/gQZrGfL0exErH4AR2gvQXz2RzboCHdApgN86aAIXSjqCMl5ahlEg9xWs59VE4fJ+wzkjp8B83/CpnZwX91YV49f84yyRum/4tB4NeBqtehjtrgvVFYxdN5yP85djcxf68o5YW7mX/ysRiPDU0FuQGeo9z9tbuFYgFhQZjsBoa8BgzZweXTfJB+WLnYfw+todXHSiTJuahLoK5KTLjghRoqKxGauOZaG4vgGvX3MhYjVnzh83xdJ2u3Kad2Jf7Y9sGMdo0/lNq0OqI0mEcg7mIeIIaKRxiJAmIVyWCK0kHipxOD9OF2pvzlN6bUQbSsXzk8Ct7ke2nMCu5Qc5oFcWVOPJb+9jisMnC+D1x/DkRS9xmz15oMy6cjJz226QzHDutVOx7stt2Lf2CA6sP9bK3xOogNlx2wi0Wji86QTfWEx6Mwfxj/72Nbfuk36dtpNuCLSSoEDe13DyLAGyUTZBb69Hg6UcNeZC1NGPpRTNtmqWVtscZgzVzsec2D9D5KUjuESoxqCwP0Ihij6zsoGDbxACgRiR8hGQCEM4Iy9sXgGLowlp6iX8N0K9+SQqjS4pcVt4/HTKskeFX8W68X7qaZAIFIiRD0GF8SRKrPsRLk1BlYnkMk6ESmLRYClpfS2drNHyTM7Wiw2u51abc/hORFm5P6ALaE/ttxzE+d9OG8qMJ1FuPI2oujQMD1uIDPV0vpACFdCp4LGuNKeVi2sHJ0kUm/x+b9rCq9JH4se8o1hfmoM79JOQFNK74uKShKn8Q/ixeDN+LqWqPqCRhCBW3j7jJ2qsUF/JLftJymgoRO2zfFKjkKFW3wVwK0oMR7G/7icUGQ5DIlQgXJaMWHn3hfHTFTV4f9Me9uS+cep4LByegYSwrrOqMJUC791wMY6WVLAvC7khfrJ9Px5ZOKPLaoDJ0Yx9tT+cCeIdQH8nys9qN8Fgb0CdpRgwHGq9FiiAU3APlyYhVjGQv1OELBlKcVhQKEJ3x+Qjn9yFH19dgW9f+g1L313LboS3vXidVy3wFMR3/LgLb9zzMfPk1Khzwz8u72SFS5TI9U9cyja5yz/cwN4pxHcTKLMmGaJILMSgiQP4pKfAT68h29zcI4WtnD2pYyi4h2iV/F5UGE0blgxJSxdt35yDNtfxMxeh0pSNSlMOas2FnHVTBt6xG9ONk02bkBk6E0lK7xrsXK0prucRi0HKP1L50Q8xFpGK0UgKOY8bgqqN++GwmpGpvYGzdwL5rHgdyAUtPLfrdxdHmKwaj1BpPH4puhdSUQg7JLo3i7o3W99QIONu0ATlKPxSfB8XPK0OE++IULHvd1c2atcfxInG9Z0fgwNV5lysr3gLh+qXYVTYhRgYOg3yXmbo9EqqSD+xZ1XX29XCkXv9PTos0YifI1qFGhqoct6RoiEaJTU0HDEKNb/YLfHs6nupxHLEtARs+t31PQSsLb86pb0BldFmwj0HXkWVuQH3DbwcmaGpnb6/W4YYLND3pSBIN2TKdgv1+zlxINjtVmyv/hQXJj4BqUDR5evXnchBs8mMBxZMwx8mj2rXGENOiEShyMRizsL5ewkEUMmkmNAvCf+6/Hzc8t8fsOlUHm6fNQFhSoXHz6DzrtqLLmaP2wgH147qLPRTjBzdDg7eClEoImQpSFAORZJyOKJkaZCLKOMKzNQfeg/KaskLnALnew9/wYGSqI0bnrqsyyIibzM12Ww7iTfv/QSGZhM36Fz18BLIlJ2n5rj/7Qrol2DIpAF4+qrXmFunbDt1SCKufPBCfi1h0a1zuQGJP8fhYHvdT/7+PVvdRsSF4dHP7uJuz+6GTwTu3LNBZ6tDtSmPk4hy4ynUW0o50+7qpu0JVocRO2u+QmziQEhF3hc9HU4Ljta9gXDZMMQoJ7TID8Xcc+OKue2f39P+6NZrxfWBdhTodnJAJuWJxaFHtSkLsYohmBB5C2fmVMR0gzaEXlNpOg6LXc+vTVKNxejw6yEU9Kzu8OSNvr36M+YpuwIdlhpzPtZVvIHD9cswJuISDAiZzJmdrycEBef7R0xHo4cCZEdQocTbTPpIbRlLD9uiyqhjzxYy4+oIypr7qcPZe/mhXa5i1JLUwZge174LsicQJUOObW1hpWy75W99mX2fWbY6UGXKw766H5HbvNPjsS3UH8LxhrUYGbbY4/el85x8x0MVMswfkt6pu3FbdgGe+Gkt7p47CVdNGNG5OzUslAP6yqNZqNUZPAZyna0GB+t+7dG8yxdQkKDlut5QjyLDIewWiKEWRyFBORj9QiYgQTGYqZje0jBu7vm8G2Zw0CT3Q/IHTxuaxE1AXb03dV6+/9CXaK7T4dL7LsC1f70YYqnnpq22KMutxI+vreQATk6HRadK8c2/fmW/FpITEl9PqwH6IUps/Zfb8Nk/f+SsgRqKqGlo2y972atc1qKaCRScLVGRbqo15gJe9RXrD6PanM+Bu6ts21uUGI5xZj5ce77Xx8xgq0RR8yqU6bdCIY7mmEmxk+Tb/kDc05KXZIS7aj7gTJuCqkYSzxN/DtdTin8SR+p/gNXZvohSYTyOZmsFB9JkxXiUG4+ym6KvIH79YP1SVJiyvXt+S4a+uuwVHFWsxLiIK5CiGg1Ry12uK9Akka9zDvo1IYjUJwSaejMnYUCnRhMKpKRBb7aYedBEV94RpFAhKRQ5AHYFmkriDzoXZJ09+k0EvIjc8hmU9Ryo/wUnGzeytLXL58OO3bXfIlk1CuHSxM7b09KVyjeqDl119FlkmkV8OdEuXTWYKKQSrneQmqXz9jpwuH45GtqsNoMBogkbreVobCznfaIUa5GoGIoBoVORpBzGxdTeZOqU3c6/YSbKC6rx3Uu/4dOnvsfgSQPYmdCTlHDFRxuRc6iA/cPJ4ranIE6vIcvbdx78nM2xJi0ajXvf+iMObjyGt+//jAuv9B43PX0lpDIJP//ghuN496EvWO1y+8t/YNniv258G8veX4fopAgegkFt+4E430yOZlQYTyNXtxvF+iN8PNvW9AIBOlf31n6PtJBxUIu967INkSQgNXQxTjd8joM1/+JWfHJE9HYam9eqlXpLIfbWfIIC/Q6oJXHMmZNxFhU5idcZor2QDbRGCq6C1dHe95fuLCQ5rDSeQLjMZbzuy3LFvQ3EUx2oX+q1t4sb9FklxmMoL81C/5AJmBBxJaLk/bsM1DlNtXhy7xr0tpmI5mt2VOaQO9sv593Y5XcgPfkDO37DgZpSPDV2PibFdF1g1Eg90wz8Pg6aw+k6Qbn9vgWUTZJhVkEbR0Rq/qm3NHMg/LJwLbRtJIfkpUx0jJumCQToWBrs9ThSvxKHG5Yz7+gNKCPeWfM5FsQ92GlMIF0rKeFabD1dgIOFZThv6Bk5Hk0DWn/C1QqeW1Xn8b1JrniirIqpFo1C3ml76ywlONLQNbUWDFAiorfV4XTzFmQ1b4NaEoU01Thkhs5gfp2SKX8COvHUVzywGMe2n8bx7afxy1urceu/ru30XmRutfK/G7kz85pHL2L/FG8+r9/wFAyakI6pF43D1Y8s4XFxxKsThfPqHR/g17fXIK5fDBbfNhfVJXV494HPOOOn99720x6Mmz8C9751C/555av45sWlGDo1k4O7P9/VSQNGHEZUmrJ4HxbqD6DRUuFz/PEVVL87UPczpkf/0cv+CyHrx0mlUmM6wH+hrk634ilgGTkFJLr4BqjnYEzE9QhlvThpGxu5MeiipNdYG57dtAG5zRtbX0cbc0Hi8xiiXYy15c9y1yeNi1P4INEh0HKbKBVaBfgLuvNmNW/lJSwte0aHXeRatrZsB3VSPjpqVkCm8FALvqcbBUmdiA/vCuTnQs+hgx8pVyLRz6LnsrId2Fbjcp6jIN02kB9qyMaB+vY+6u7vvL/udDvHPGoEujB+akACOQ/TdZqQ1bQFe2t/QC0VAn28KWc370D/kO1cUOp4/swa1B/f7jmCV9Zs48x7SHw0mk0WliIeLi6HXCLGyiOnccHwDAxJcEm93EOdv997FEdKKjC5f0orh9663XBgf93PfP6fLdA2NFkrcbhhGY41rkGMPB2DNbPRP2QSF08JXkveBAIuJBJN8tRlr2DTtztx0V0LOrTKO7Fr2QHOqgdPHIDMCd65+RG//evbq6Gr03Nh9N9/fPfMezqcHMxtFgNn27OvnsKrAtKRk7kWtezT9KKX/vguHv/qHubjT+3JRojGe67Zve1OUHJSiuzm7SxRrrUUMaPQlzjasBoZodMRK8/ocd+xVYVQgzFRj2FHxcOsH7fYG6GzlkAjdc16oC5PNtHy4jh0OSGIJt9TQBa33CV4w5wijAy/klUpUpErixugnsXTg1pfCxEHeDLZGqa9iCWLvvJ9dGBONm7gu2kgQDzYntrvkNO8CxMjr8ZA9RS+4dCsyJsyz4xXOxsgKua2wRO5fZ8aFXyFUixHuDS0VYLoek8h/43UKEII8ad+F7Ke3A2Tw4JXTn2Demsz7kq/BKmquHbbk6A8c4H7A9eFZWfucFfN11xM8jcjootxZ80XXBhsu2yl/45MjsNl44bhy52H8Jevl7MTIskQSS+eHh2B+UMH4J2Nu3Hf18tw5fjhGBwfA4PFgg0nc7HqaDZb6l43eWQ7y2DXSjAbp5s241wBJSRlxhNcGN4t/o6DxRDNXFa/eHtt0XOoOWjiBaOgiVAzV90WFHQrCqvZ1pYy4rZ+Kd2BXpe1Lw+n93ddECYPFbp/5xzI5yYhuqnc9M8rWFpIwX/3igPc1n/DU1dA8OfzvOLk2yYKpYZjONawBoX6g0ylnC0QVUjn++KEv/LqqSfQd1RL0jAh5mnsqXwSTdY87Kp8BOOin+Ii6NjoJ/jY00ShntBtsVMqUHb6m1aSBK0mqU1WOwxx8OzzkKAcjQTlSJ+WCzxc1VqG3bXfBHw5VGcpwqryl5HTvB2To65HhPTMwNqzBQqc0+Nd9rP+4LLEmVgUP9njY3KRi45wTw5yQ28zQSqSQGAV8AShwRoX/RUI0PEjzndP7fc42bSRq/q9BdEcJD+dHXM7V/bdoAB8z9zJTI38uO8Y6vQGLnqOSYnHwwtnIDFMg30FJdiTV4L/rNnO49GIOiVenLL122dOwMT+7ceKkQyNtt1M9qHnHJxotlVhX90PONawGv3VEzAibBFieOBLz1JGkvPd/86fOIi31XsTSFZ441OXM/3R8bHuQBn3X96/lbs0u3+eiGkbsrol7TmNoaPPIVkjvXbkrKHsvNhW3tgVXHa0zcjV7cSRhpVMwfZ19t0VCmhGsW4nMtQz2h8PAWnIQ2Dj6T/tR0JqpZmYFPtvHKx5gf3H3fEyROK9XFvg9LU1McigA7Km/DUcb1wb1M8himV8xJUYpj0vKB2i5zIokN+1/xU21HppxF0YrGkvP/QHnB05jDjeuI4LP0023/zUewIdI5IjpqrGtDtWdPZS/k/Kk6omHVvSJoRpoGiR2NU06/HpjgPc/UnFT7Kt7R8VjmsmjcTszH7tCqX0HehC/LXkn61SyHMdUqGCefTR4RchVpERNPuK3oL2LQ2e2LF0Pxdb01sGRZNm3WqycNbe03a7puY04lTTZi5Ek6Szt4qTYIDkpJcnv8CF6/Y3n5qWmZ1RnWppruunmdUsRK10tS/K9JuR3fg1+odejsSQOb0P5OSal91czFlfitI1PDcQ0Flr8Vvpc7yUDPZB4nbZkDGYFnUzImWuE+v/B5CJFvmVm+1WDNWkQS3xjZP01AVXbjzJNY1iw5GgHTdqprk06RnIRb65RFIGTnrzJqOZA71WKWdapeN7UJHs5+K/o9jgXSfsuQRSiPUPmYgx4Rcznx4I+eK5YMHgfg3RFiTxO1i3FPUcwM+p/LMDBJgSeT3TuP6qULqCa5KQo+X4CnsfyPU2I+49+DJSVfH466Ab/ZLudV111nNbNClWqkw5QQ/oVDyaFHkd847Ubn0uXgDnItwZEhUGqSGrOzlhYCDApMhr+FgF6nxrC9K2b6n6iDv8qAeCAjs1s9EqkZqofS3Ung3IhCouDI8JvwRh0q6tYH8PcBn3WZCr24W9td/x8TkXM3ACrYTEQhmkQiV3mEfJUrl139XoFXz0KpDffeDfHMgfH3xzwC8s111Yz1Voasog8X4wDyJJJjPVMzA1+kZu0Pg9XwDBhlslUKQ/hK3VHzNH2VdBji6Sy5KeY144GFp3WvpSc4bNaeUgTueg0dbIskDy2Gi0VrGapNlaw6oWs13PBalzLUOk5GRU2BJWawXSuqIv4F7lkYRwZ82XKNAfYL392YaALRdkvCKkwjt56oRJ4qGRxnLMUInDeF+TLQP3rgSJ5vK0qjlnZ7DRRtLdbKhmPtLVk3CqcRMO1v/KpjXBCBp0opxoWs8NRbNibkcyeycEPutzfZYDjVZDt86JpDhReHBePFeycOLBSRNOWWtfUQfRsn7c/diWewwk2AO8pU1aDLpgQ6BGZKuHvvt4sbmA08pBnLo0SadMfC0ZK9VbStjgjR6jNvCzBdLqb6v+mLXUkyOvQ2rImHOWP+9qlUc8+NlSoQgghEykQqg4mn1/iPeOlKVw8FaJwiAVKdp1YQZiv7puYOSC2L1qp9GSg3rzCSSrz2+dKHTOZuRdNZWQVpMOMGVHwQK5KRK/Re3hLL8M8MnfYNHj7n0foq6N3rsjrkubgatTXL4U5wZcI7io0Wpz5YeoMJEuPbhZKGU14dJkDFBPRn/1JHYU5KaJNh7SHdHVsWr73OBlSUQFWLn3gRzzKCmoMGaxVwsFd9dNr+8zd5LCDdLMwsTIazgwnYvB3L3KIwkh3YAqTbl9uq9EAgkLIKhWFqfI5HoMdRRT0uBqRguMD073lHIDDte8in6aSxEhG+bZmoK8p3Qrsa/6aYyNegIp6oXndkbeEWwvKgrDhIirmAM8UPcLTjSugykIvCxxvVur/st0zozoW3zyG/YG5G0yO2Yo9C22sx2D/OrygzB6Ocm7L+DS6xq50OSS5gWXC6e29NSQsRgcOpsvKqtdgmqDHtGy9jdVusy/Pn4Ep2uruVX/4szBGBYVw8XNKoMeWjlZy7qym9z6OuwoKcJ1w0ZyFyx9J5Iv+ts9WKHT8fzPUJmr29L1PgJIBDJIhFFQiCJgtSRiRNyFcDjNaLJVc72HisFk0ESBngax9AXoc442rGJd/9SoG3mFey5l56zocOh4lXeofmmfrPIEEEIp0iBa3p+dC+OVg9mhklZhfV0odilaanGg+jmUGbbA5jRgYsxzdDZ5fH6jJZfdEqXCM06fv5tATnDvXI0kFjNjbsUgzWzWF+fp9gRcR0oadrpRNFhKMTf2bkTJfDOr6g5KsQw39T8jHWqL3OYKrK88inMFbl3/psoPkKfbHbQ6BV08dCFR9+LA0OnQSGJaL6jSpjo8sXk9Xp23EAcryxEfooZGLueArJHJMC4+EYcrKvDhwX14df4FqNTr8bdNa/nx6cmpWJIxCFV6PbYXF2FCQhJe37OTB+/+dcoMpIeFc+DfXFSAWmN7q4mOIC+cuWn9Wav+zoE9yK6rwd+mzsSQyDbe0jSUxWrBm3t34VRtDV6Zdz4iFEpEilIQIU3GoNDZHKioC7HEcAQF+v3cgGS0Nwc9AyXaZ2XZv1lyOynyWh6IcbaDOe0vSpg2Vr6DYsPRoO4DIUQIlUQjUTkc/ULGsVyTsvCzeVNzzVrIw8HqF1BtOohQaT8MDvtTu36Jds+HHY3mLPY1p+f+LgN5ey5TxMufC+IfRb5+L3dUuRQugT0RqJvul5J/YG7sn5GmotFfwaWQziVQ0S9ftxcbK99r9YIPNIiPjpNnYkTYQjYdkgs7F+ZStWEYFBmFtfk5OFZdhVO11RzM24La7pNCNWw9EBsSwgH0RHUVthUX4d7VyzE7tR+fGRSMbxo5GpsL87Es+xTuGz+Z/17c1IjS5u7tICj7pqAvFQjw0MSp+OTIQTywdhVenDMfw6Ndk2yMNhue2boJZrsd/55zHsLlZ/xx3N9LJlIiVjGAZYKjwmnSVjUH9ezmnSy7JY44mNm5y4guC7Nj7vCqnTyY5xe102+u+jBoVKkAQvasSVWNRrp6CuLkGQG1DPYXLlNCM0p0a3G8/l3Wj0fKR2FM1N+glnTdqEha8yZrPtSSZMhFEb/vQO4GfVnir9JDJiNRMQyHG1Yw5RJojwxSKSwv/RemR9+ModrzmLv9X4ZL9mXmfUkOhGT/GQxOMkExBKPDl7DDYXdNWfTXhekD8dGh/ZielIqsuhqYbO0LiTqLBeenk7GUK4uv1uvx7LbNSNFqOUi/uW8X5GIJXti5hX1tagx6RKlUHMSJYrlh+Ciftl8tk+GOMeN5rNgz2zbj/YVLmMr59sRR1JmMeGnOglbapSvQYzRZRiuN41UmTUVqtFbyzfN00xZWAwWLfiF6hxKU6dE0CWpmn57T7vOLfOjJOqM7i+reNErFK4bwCo/OL1UvXSQDLayguZynG75AlWEXmxD2D70Mg8NvhUzopnHdCWn77W2y5MNkq0GiajYPanbjfyIisZG+OBQTIq7gpgjy5iDtaSDpFuKFN1a+y2b04yOuCEoR9FyAu6hMVAr5jQTaJoGWscRHjg2/FCmqUV45+tHj/bThCJPLOSgT701zVduCgqfBam19r0ilkr2G5vdLxxWDhuJkTTXWFeTi0swhrZdGlFLV7jLpqe7fcTvpBnDdsBHYV16K37JP4fz+A/Fr1kk8N3Nej0Hc03vTcpq039qweAzTns8rTBpsQS3fJH8MNOg915a/jnpzCcZHXtknHc4uPryZC+bUBUxUQaBllwPUU7knhJQm7kEN5xLM9jrsrfoHjLZKaGWZPPotTjm5nVrFYKviCUIhksRWFoD2XZVxL9ObUYox7d6z14GclrI0K9KTdSMN76XBBX21I+kLk0RoYfzDrD/fUfMF84KBAjUn7K75GgZbA2fnJP4/106S3oBOlFpLIV/cpcbjAX53AV9Y4yIuQ7p6ss9Bg7jwKwcPx9aiAgwIj8CgyGg0malZxwmFWIzDVRWIUYUwz02ctFoqQ1xIKD4/eoi7OJvMZi5Qvn9gLyc5NrsDf53a3g9jbX4uB2RP7NzM1DS+CXQE3VSuHzYS7+zfDZVUijRtGDIivPOk7nJPCVxF03jFYMQrBmG89QpuSyfbCjqfA0kfUmZMqy5S1cyMuY2nFwXrnKbzi24eaype47pWIPlwjSSWpcq0qiEe/FymQIkSSVUvhlwUiaSQecx3d9znDebT2F/9LIaG34FU9RJ+3O40ocKwHTIaci/LDKyO/EhDNu45+LLHx65Ono850ePOCt1Cy0VyzKPAS3f+QC1RKUM90rCcG0XmxNz5u2u26O4iI0XFmopX0WAJLB9OBaXRYUs4y/QnUNC2keqEgviRqkqYbFamUnIb6pizjgtRo95oxOq8bA7yEQpXW/5NI0ah2eJS/5CyZWNhvotCEQCfHTnE79EWgyOjoJJ4VgrEq9vPAm2bvQ+PjoHRasOvp0/iooxBbIQWCLmjWwlDDSe0CqQiJdkyUxctzZMMVECnDO9E0wYY7I2YH3ef18MRfC/qVbJpHZ1ngQJt63DtQqY8KRv/fVyLQi5odkf1EN1CShbKzFtnRJhPsYY8RjmpHT/e44SgM2/a+cMo054cORwNlq6laGEt9qqe3svfE91TV1PHJbFbDkYHeXbsnVxE21r1MWebgQBdQKeaNrFJFJ34JJf7fZxAXTco0QqGZp8Gsr5Amm+yDCb9MilS/JX65TXU4+ltm7hgKREKUWYycmGTCp70nqkaLdY15LGBFgVRi93GKhSSJlrtds7SlRIpZ+VfHjvMQZ44dprc1BaJoRr+8QZ7y0rxxTHyZHGCZgiXNDfxFCh6702F+fycoVEx+OOosV6NGfBKfivWYoR2EQ8aJ2fJA3W/BrAI7TIMW176PM6PfxAaSeD8k9xBfHnZv7iYGwjQapjoE/KW0QRwW4MBz5Rd170Q7pmeBBlz+66bbUHzUjicViSq5nRylO06kAP4dvcR9IsO59mGHUEDCG5JW8IDbr/ZfQQ3TR3D01YIvx48gYgQFUZrU1BU24DPdhxEUrgGV00YDnlLxlPe2IxfDpzg19HILQL5SJNbXWK4hl3RVh/LQq3egFHJ8Ria4Joifaq8Gkarlf/mRkl9Ew8TIF3v9ZNHIVJ9ZuKN1Qb0U01ATHI6Uy3EOQaGO3cyD7+q7CWcF/eXdgMrfk8g5QANLthc+UFArVtJajcl6g9cs+gtT0kZ97MtvDNx5HkNdUyTkAEWLaDDFUq+uZLqhIZ0kHLk+5PHmB+fmJCEJzevxy0jx+Dtfbvx2JQZKGlqZE35wIgIDrwU/CmwFzc1cFD2BNr6BHUo0yeEVK0WVwwe2vo43Twoayd5ohukWBEEpR6k4fZ74oIP1f/GVq6BUroQpbas9AVckPAotAEIkBSoSJGyouzFgARxUqEkKofxuUW007lqDtYWFkcjTjV8ArvD+6Juvfkk/5doFEKjJQul+k1QS1IRS3x6x3pNdwdga1Y+y7o8BXL3G5Gj3Iojp3HpmKH8N7oOduQUISVCi9Ep8WgwmhClVuHT7QcwLi2RJ7XwhuqNWH7kFDJiIzlIqxVy7M0vwbsbd+PFKxYgRCbDgcIyHse15XQ+3v3DxewnvTuvGMsOn8LfFs3CztwijE9L5KuMvKe/2X0YA2MjsXB4Bsoamvl527ML8Oc5k/izSUJI4n/qHCNOMBDI1+/DyvKXcH7cg7+7YE7V80P1y7n5KVDKAaK1hmjmcWdsSACW6K7ARcHZild2b0d+Qz0UEgmGREcju66WA3FhYwNn3qNj4xCucAXPRyZNw59XL8Mnhw+g0WzGewf2cvD986rfXFOZxGLcvmIpnpw2C+nhEajQNeO57Vv4fTyBgv2Dk6ayzJAQrQrhH/e1sr24kLn5qUkpvfq+vuwXtSQSU6NuwMDQadhZ/QXydHsDYgtQYTqNlWUvsrQ3lPT8fh5DV+G8EWvKXw1IzYVouXERl2OE9oLfVX3K5tAjv+kXlg76ghBJMrTSDJYpnqj/CDaHDunhd/FkoY4ImGrlw617sTu3mEduVTa6sqW1x3M4iP/z4nlYefQ0LB0uEsq6153IwVe7DiMhLBTVzXr+eeyH1Wz4PyAmkjP0ap2eL1gRBLhw1CD8tP84duUVw2ix8pgvKlyNTI7nAQM6swXf7jmKL3cdRFpkOG6YMhqZcVGtkrdBobMQI+/PqgxqxghEgwtNMlpd/goWxD/Ya5qFuj5TVVEIk/o+rNrXTPxg/W9MOQWqfkAFp2nRN2OAekrAmizYPM1OGfZRzElNg8mWhPzGekxJTEZ+fR1/xqiYWFTqmjEzJQ2uVEKA/mFhWJQ+kPXcxFvTlqgkUjywbhVuGz0O8Wo1F+jpv/QZyRoN3l94YbfbQo1AXQ1yplmnZ8M2i4p60bL+uCDhMZxq2oid1V8GxAue+idWl/8HFyQ84ldns9uffmPl23yd9RakdycPpHhF5jldyPQEqUiLERH3My3iLURCBaLkI6EUxyG36QeU67eyzjxZvcDz+YcAYXZmf+zILsRVE0ZwcI4ODcG8wens/eymTjp9uFCIG6eMwUPfrUROVS3umDUBlU06PLhgOh7/aQ0H5cUjMzmQE+gLhCkVmJyejNL6Rvx9yRz2md6ZU8TZOd0ovthxkN+DMv+75kzkm0Hbyfb0HuTfsSjhMeyt+4HNeQIxxYYycxqIsSDufp/9stsiQRmBd8bdxjWIYAbxw/UrAhbEaXlLdYiZ0X9CmKeJ972E2fgpbszYA5FAwNn0kFALVGIJbhnkOm5ErcRLmhEj+g1VdWf22/mJFn5+iKNluLIZeGyMAVr5GogdrmDQ6AMjIZOOgibk1k7aXsJFGZlQiL0bjxZouFUuQzXnsXaarHgD0YVLs27XV7yN8+Lu9zkDppXBjpovcbppa6+2gRKCwZq5mBZ9Y8CtMvoKEqEKaaFLfH6dS264B8fr3oNUqMawiLshFnhO8DiQ51bVMh3S8U2Ie6ZRWR0xLi0BGbFRKK5rREGNqzhGS1KTzY4vdh5End6I7MoaHCupwMWjh2BQvOdZlHSRfbBlL89XLG1oQoPBxG3VW7Ly+fNVUgliQjv7+RIVQ7z7C8s3I6uyBnqTBbMH90dFYzMf6H9cPBcbT+bhke9WcTCfO7j9xA36XSpSsitcjCwdG6ve42JMb0Gc+frKtzEv9h6/l35003GPaAsGyJieCmVbqj8KSBAnGSF5X5OsMFjLXYvtFEym31r/TXvHagFCWhIzi5k4eYBEKG11KLQlFFr1be7TCgFgNnNM9xnkTKcBBfL2oO/cP6y9iuBswJWkJHIWTc1c1GzT22au7OZt3BlJcltRF94fns6x4w3r2K20NzcTauqZGHktRodd2M4s7fcOJzk82iohF1OSKe5aCmw+wuZY5L0yMuIBhMuGdLkP+F1oBNbRkgocL63kJw6Oj3ZVmk1mlNU34ai4ot2L0qLCkAHwEFsKqPTWGXFReP+Gi6E3W/D17sOIVqswd0g6j93qavfzBRAdjjEpCZxFE61CgSxEJsWzl87H9uxCvll0fA0VM+nGMWtQPx7xRaO76N/03P7REfw6GulFN5CUiDDPn83SHxFrmrXSeKyveJOd/XoHJzfRkHsiecFQlnQuwTXKbD83NgViFaISR2Bm9K3ICJ3WaXRVICEWeT+78P93cJIiUPAYQ9LtU2LRmySFishUUCXV0XDtgh5pDTrHSo0n2Ke+N6ICoihnx96BgergnltnA3pbKXZVPooM7Q1IVM3tFJzpRlhp3MU6cqOtBplhN3JG392+50BOgZR+/rViMwfSh86fzpz03V8sxaT0FFw3aaTHFxONQpTI1qwCDpw/HziOVUez+HfCb4dP4blL52NEUvvhv21BrnVP/rKOl83DEmM5S6csnwqcMZoQHCuphEbZsjRuAb0/qXbiNGrEadUcxHUmC3PlJqsNjUYTB/jTFTWI1XQ/oYNvDLJUngdJng8nGzf0qpuRTvyjDSuhFGtYdneutPO7psPnYG3F6zy4treIlKVhfuy97E4Y7ExJJiF1CJ1Tge0C/F8G2UqTd7taEs1cNw1p8BcUkLdVf8LNdtSk1J1VMDX8UKLQGxWNWhyN8+LvR4py1P9MFt4WOmsJt9ofrv0Pc+DuTNvlv2JCXtNPOFH/If8+KOxmZGppAlv3cYRDPBVpuFovEEBvsaKiUcc/ZpudOWj3vylrpkDr1mnLxCLcNXsS89YUfKn42C8qHFeMH4ZLxw7hgEs0C7/O7uDgqjO1X9QKhQKmU8w2G8akJkAiFGH2oP6sOtl0Kh/zhw7otNF0bA0WCz7auo+zeKJkGgw0lssBg9nC/6btpkLpP5duQGl9U8/KCJGGVS0UfKltvDegGwFZch5rWMN317MNtwRsbcVrAVHrkPJnSeKTfRLEOcOUDoVI5FI7/R9823eUlV+Y8Dgfs96AAjOZp9EYvO7Oe5L4kpujvyBN+KKER/9ngzghWjEWAzXXsmfKnqonUWc+ztcoaccP1LyAI7Wvcd1pVORDHMhFQopH3e8LMb3BjpxC/HrgBEIVcmw+nY89ecX8IE0lP1VRjd8OuTSNcokY/7l6EVIjw/iDj5dW4VhpBQfbXw4c5yBeWNvA1AYhOULDGfpb63dy4fLFFZtxy/RxuHL8cH6cgjvJEO+dOwXbcwo5uyc977rjOVgwbABK65uRV13XpYIgMzaK35dN6Vu2h1QyaZFhqGySIKuihvl0ZRfF1s4FIzkmRl7FnCDpqnsznYTa+UnWF8rOa2PP6knpUg+826sLzAUBN/jQLMK+bIISCSOhlM1Es+GrPvm8/yXQMaKWdbKtIAtbKmD6C3JM3F3zDWbG/KlThkjXX07zDrZ+7o3q6YL4R/okQTiboGaezLCbYHY0IL/pZ+yqfAQjIx5EnGoqtNKBaJYVYnjEvYiUez+ljI/GgOhIzoCJwvjy1iuZXiFq5cmf13KWTAVL3gABEBFyZuI6/Zs48svHDkV6TCTWn8iB1e4aUkscNL0HSQzfvG5Ja7OQWi7lg06ZelWzjumYdfIc/kzKyut0Rn7cvQ30fqEKGTceEZXSagUqFrPk8Klf18FMXT8Aqpt1bJxEwZ9WGOEhSlw6dijUcu8zbDpBh2rmsek80RA0Mstf0I1gXcWbuDjxH4iQdW1NGUyQQmVP3fc8zLo3oAyB1AOzYm7jAb99+12EUKuugs74K5xOz01LSvkCSCWdvVACCamEVoeCszpR3h/Q+1P7+oL4B/Bb6bPsfOgfiDZcxWPj0lTj2nuw22qwvfozTmD8AfUckHz3fz2In3G9lGNExH1cxM1t/IEz8/6ay5GuuQKp6gshEYb4tB/E9OToUBUeXDANj/2wCrMy+zPvTAGYKA+Lzc6dlG7Ym3SI04ZyoKWi6G0zx+PLnYfw0pUL0S8yDPsLy5jfvmHqaLy+dgfumTsZKZHaVt6cQO9JWT7pvilY03+pcEmF0Y+27MUDC6ahpK6Ri5fHSiu54ErSRgrKrdvhdECtkOGJxbNdNwynE+9v2oPRqfEYn+YqjtFnUtZP34MyeG8haOEXSaK4quxlNFjL4S8arRUczC9MfLzPjfzdWdL+2p96pR6gID5Mu4DlhTQ7s68vNKbxpCOhkp8HnfEnj89xOBqgUd8CoeDctktwj4Sj84KkeWkhYwM6tKQruCwrorgL+Zfif6DBSrNvfQc1jlHAJl9v6jAl0LlFk6Nobqk/IL+i+XH3IlHhaio81+Ek3xOLDjWWJqSHxPk15tLlCaXEsIh7ECJJwvG693G64TNuHhoV+bDP+6F1ZicFu8d/WosNJ3O4vZ7ehjJk2kiJ6MyGklTwxSvP54yYQLz4n79YivOHDeTiInVekpSQaBbSej97yXz+OwVaes8FwwYiXKVkrTnRIsRt51fXo6C2nrsvSTZI8kbqFtUqFdz5Se34lH1P6J/EN5BDRWW46/OlvIJwf136Ek1GE2vWye3ODVoJvHrNIsRr25seeV8gzOb2Yn9P0pbdzNPMZ8fcCbGwb7TGvOqxlOCn4sc5aPQ6iLMKJ/g2p902mNhOo7z6Stgdnnh+AUJVNyNC+wQE55haqO1MyhpzAWe1NFCBBjfTUI0lSU9CJeqbrmDaDmpg+630uV6M7BNwRymNXSRQ1+ZPxU/4JXWkehTVpsg35ffS6ONwOvB29nKsKt+HP/VfgEUJE1i04S+ojlZnPoHTDZ9yYTNM1nVBucdA7uLKi/DK6q1447oLuQ3aEyizJXqk7bJq6aGT2JZdiGsmjuBM+rW123Hn7EmICVVxMCZPFQ7kAuDyccP4vV9YsRlW2xkVwpmuOFdnnvu/7q9DUsJ7503mz6ebR1lDEytX3GgymfDwdytx99zJGBIf066YSu371Gnq/yiqPCwvfQG1lvZae19AXaUUyCmg98UFa7EbsKzs+Ra7UH8hYJqJJsmcjUzc0wnfpP8EtQ1/pyqEh2dIEB76EDTq2yEQnJ3mnI5wKRGsKDedxpH65Xw8OnraDA6dg3lx90AilPfRNjmwr+4nbKn6r99+4GRHcWXyv9km4NeSp9lwy58kgawcJkVe06Mq41yC0+nE4YY8vHDyOzRZDXhhxM0Ypknt1fXhutHb2nmS+xXICSTho+Ll2LRE7rr0FqQQITVKrEbNqpaDhWUYmhjLRcau3b18a2imNu1dVUUYERGPcFnnoGKz27m4mRyhRYgPnHhH0Mqk3mxEhPxMc4s7mC8rfb5XmTl1pl2S9E/EyAcENSjShUpdq9S52RtKhTS85O7Y95x413A4jaipfwQ6ww8e/awFAjnCQh+FJuTmsxrMXQOrTSjSH8Lh+uVs3dpVAxZ1L9JQ5LERl/m1TPcHNDeUpl7l6vyvnYwMW8wGVrRiJd8eX5EROqOla/TMOLzewhkA+2BvP2d1xX68cOI7LIwfj4cyLz2r10i7QN4W3BBkMaFA14AhYdG8dAjGhtLn5DfXI7exBrMS0j3eQOg53+cewZN7VyMpRIs/DByDJWlDoJb4NoWlO9CNJa+pFh+f2oc9VUV4c+pFGKiNahfMiWZZVvpcrzhz4gGXJD0Fhaj9zMlAgbaTilk/lTwJk7172WV3SFaOZAe8c82il2VajhpU1t0Ok3mHx+dQMNeq74dWfRv3gfZ1XYKK3LnNu3CkYQUqjNleGVlJhSosTniszxROrs7BQnxf/Jjf04eok5f4bX8ajqgucHHSPwPmfe5soa7oO5UbT2OQZpZX06d6gwpjPf6091UkKCLx+pg72CfpbEHYXQb8wsGNuG7dV3h8z2qU6Bt7HIXl8wlvs+LrnEO4bt3XuG/7Uvycf8xjpl5l1OGd4zvZACmnsRZP7VuLmzZ8h+0VBZxB93Y7ak16vHF0G65Z+xW+yj7In/HK4S0w2c9cgHRCUCZNlX9SAPiLEuNxnlVIapJgwOLQY2v1f3sVxEl7fK76rNP2CIWRiAp7GVLJMI/PcTpNqG96CXWNz8Hp1AX0vO0ORKFQF+Q3hQ9yEw4ZT3nrRkjHbUPlu2i0lvfJ9tJ+JCUVjdzzNN3LGxAn7k8QlwtD2AArEEHcRV3ZOMkir6NvCx/Guoo3sLvm24CPKWz7mccaCnCgPocJIoPdBJvj7DareQzkFEw/zzqAH3KPQme14Nucw7h+3TdYXnQKVoe91ycavb7C0IxHd63E3/euQbmhCQabFf89uYeDdkdopHLcO3wahoXHtsoSD9SU4vbNP3HApZWDr9vEA2AdDmwuy8MN67/Fa0e2odrk4i6pKanCqEOJrrM9QIJiKBdnqA3fz2/PU8xLDEcDfsESpUK2tCUG/60G6CZFQZw0vedaEG9X8RelIDr8DUjFg7p4lhWNug9RXf8X2B0VfRMcIWT+u95c6helRWPcNlV9EJRhxF3tR5o6RAlKX4H20biIK5CkHNZrTplunGXG46yP/67oERxrXM2rIW7Iq/uBi8rBaMijM+m74q3MkTdayZkVZx0eAznt3hERcZgal8oTWQiFuno8tGMZXj60BXqbqwnHH3DjTn0lbtv8I34tOM7BVCoU4aK0IXh7+iWIUXQOkDT9fEnqYHw25yr8bfRsxCldtARtx7vHd+G+bUt9WjG4dK8WvHpkK/689RfeHmfL/MV5iQPw3oxL8cWcq5GuifDsDxMy0WUi1GaKte9Z8ye9ajjqCBePn4/9df5LDUmVQnMbyTL0XA3i7Rq4xAMRHfE2pJLBXTzLAb1xGSprbobFGvgbZ0eQJwhluKPDl3DA8gdEyVBW31cdwZSQkMe3sI/msNPAbeLW/VWouBIwCzc2kfLmh6K/8bSujooZu9OCbVUfI5+sqoNw3AM5NzV4gVwgwLjoJA6sL066AClql/EUUQ0fnNyNx3atRJ3Z4FcWvKeqGHdu+RlH61ySuCiFCk+PPw8vTFyIVHXXNpX0d61MgZsyx+GLuVdjUcog5tMdcGJjWS7u2vIzcppqe9wmDngmPR7esZzpGroZ0NJydGQC3p1xKd6cdhFmxvfj4b1db4uQZwT25oKtMJ7i2YuBumCpEWNH9RfdtlB3B/oeYyMuxUD11HM+iLcP5hmIDn8PMunoLp9nth5CRe1N0BtXwBkkSqutOmly1PXse+9P8xBrsmu+YwquryiWfiHjkaDs6mYYOBBVR371/hQ3Xf7mJuTr9+LXkn/i5+InuUeiu9WLyaFjMzxSmwV6X9JsKqob0o/4HJBNdlnsbDeUV9eA5w5swNqS7FY9+OyEdPxr0gUeFSRdvc/+6lLcu+1XlBlc/G2mNhrPTVyAkRHxPgUP97CBb3MP49XD29BgcTn5DQqLxhtTL0K/UM+aXBcfbsBfdvyGreWuuYqUhd+QMRa3D5nIFI4v22G267Gi7N9+V/7pxL4s+XnmpHu7zKSsZFX5S8wX+oP0kEncxn0uyAz9ytLsJaipfwhG85Yup7MLBCEIC70foaRoQfAKYWxTam9klZO/LfGx8oG4JOlpntMZbND20sxWKuQHi1emRGFa1I2c/fuSjbvVPwW6/UxJ0rg4X10Vk5Qj2G8mUIPSaZuKDNVMqxBkQgnS1fG90pL3Fj1+Mn1xUoq8NHkRbskcz1QLXSYbSnPwj71rvKJZeIBuUx0e2bW8NYiPjkrAO9Mv9jmIu7eJ6JbrB47B61MvRKLK1WF2sr4Kj+5awRm3p20y2q14Zv86bGsJ4qESGZ4aNx8PjpzO2b6v20FVe2pZJ4tPf0DZ866ar/0Ovm3fZ3ftN36/j1YSjxkxZ6drM3CceSKiw99EiPLiFqfEzqDCZ13jC6hreAoOZ1PQMl63CRtpw2l2qT+oMGVjd+23QSuKd9zeFNVoRMvPzBsNNKj1fnjYBX5RKmQ+t7zsBRQbDvtljVtsOMJmXoG6Sbn2VzSGa9P4JyM08awGcYLQ2w1XSWR4YOR03Dlkcmswp+Lne8d3wd7DBdFsNeOpfWs4mBOGR8ThP5MXM2XTm8BBhc+pcWl4feoSJIe4Mpd91SV48SBxZh3Gyjmd+CLrIJYVnuJtV4mlHMQv7z+Mx3T5A9p2KgpSMKeg7u8wisJe8Hj0OpK51ZhdRmW+giRa06Nv4WD+ewzi7dUsEYjUvgiN+g7OuD3Diib9Z6iuuxd2e/AUIkwFSuIxN/ZuDuq+w4kj9Stc4wj7gGIhuoNmrQbSS6btOTYp8lruR/AH1PVJ4wP93zYnD6imWQF9pWDqa3h9G6FdSBPK7xg6iTNhYYspFumuKcPtrvHns9P7saPcFWgoe35h4vmc5QcicNB7jIyMZ449XOYKpksLTmB54cnWbaL/nqirbLnpOJjTumf4FFyYOrjXDRjubGZ0GPHlvn8fKsq4JrkY/fR8KGGuvSs6oSdQ+31/9cTfdRBvH8xVCA99GBHapyEUeh4qQvvKYFqNyrrbYLXlBDWYJyqHcjs7cee+giiFbVWftNQ9ghuAaFvT1ZN6Ja3tClR3SVaN9K9jkWyMhUruik5VdV0H8eY6owa5YPDl5wJ8jmKkMLlv+FTMSOjH/yZq5eXDW1p56ragHZbVUI1PTu3joiTx0Y+OnsXceCADB73XhJhk3D9iGgdpkki+fWxnq5yQsvM3j23nAi1hftJAvhn5YqTV/ee7CoVkuu8PyoynkNO83ffiMRw8c9Tfhg7i5idEXsWdhf9LoI5OtepaRIe/C4nYdZ56gtmyD5W1f+RiaPCCuRBDNPMxVDPfr9dXmfNa+g6Cr2KhIE4mXoEErUZcqhhRL6mqUMyLvZdrB/6i2VbN80z7St7ZlxD6ZYkpkeGvLAN0GVFRtvtj7rFOF4MrY9+L2pYAujh1MAfRYGR/RLNc2m8YSyYJ1KX5a76r8r+rsgibyvL47yRvpIBPN5VAgTJxknFNi77Jr+Uj+V3sr//FJxMjHsxqysWpps3wd7lLbeGq3+lAW28CqEI2DTERn0Ium9zlstxqy0JV7e0wWXYFLZjTlChSspCs03e4qDNqLgp+Jkl+89MCKkWkGxhNFurtOeb2VaeWfq2k64ljPSFftxdH61f+z2XlfqWkrKUOjWClB41oo2z7q+wDqDEZ2luoNtVidXFWq8zwtsETgyrVoeBMn6EQSXgh+kv+MfZNIWqHVC50Kv0hYwz6hUYEPHjR+1FGPly70K/XV5vykN28w+sTjAo3ZHzkr4MdtTCnhpzdgRd9I0/sj5jw9xCioCKo53PPZi9CVd1dMJq3BuUCp+0ghRI5SJJywldQk9GO6s8DMme1p+2MU2RAK/U/ULYF2eaODFsUMFdD11jGNMyNvYczdH/gZMvd71Bj7poO/j1C2JudSk08Q8Nj+d8FzQ1YW5LVbuf8VnACjRbXMubitKFI60IWGCjQe4+KSsC46ET+N7Xa/5h3FLsqXfw8BfAr+o/g7D0YoIaQMeEXI9wPpQKdYIfrl3nFlXNnrPE0F0r9AWU2ZEH6v0apdFsEDfsXNCF/YodET6DCJxVATUEM5gmKwRgXfplfvQfFhqM42bQp6MGHVpbEZwcC1GsRKgnsiD5XTWokpkXfArGfDXl6e32vhmCci+jVrZJMqyjDpaycOp2IyqDM161UWdOSjZM+m2iPvsj9iMMnCkfQwo0TV07t//TvaweOYlfDYILsPSdEXOFXkCSqhLyie7pYKRs/UPeLXxkaN/6EX3ZOt+AHGq4ZsyqEaR5DWOi9XSpaqJW/qv5+mC17gxTMha2Ogf7Qb9R2ThOrgh3M08i4q3ehgbPxoVr/6gLe1R3mYpSfAgNCnn4vspu3+bUvbQ4z6s0F/EO/nwsQ9vYCIcfCNHU4//tYXQWyG2taVSKFzfX8dypEdtWk4ytcQ0pdPimeDoK78Em6cIK7CEsqmQtSBvHj7vdotph9ttPtCfT+A0Kn+nWxUoAmmVR3Wll2YTRm8Ynor57XZeLv27HgxgyzFflHi7Dlh11Y89kW7Fl1CNXFtXDYPR8LT+9RW16P8rxK6Jt8H0LQ68xcIINWfQ/CNI+wQ6In2O1lqK6/H1bbqaAETFJgUGMMGUf5igZLKbfvB1PB4jaHU4q7Uvx4BxoLGCoOrKihLShRIi9z6kr1B2S7Sz0cJBTw5TizgKNpBZYW3YoN5U/C6scwjd6CtoGSU4v9jO9Vr8krrVSO+cmuSjK9+ZYyV7MNORNSRkx3zAVJGQERzFPwpqaff+5bi38f6qwVdyNaEcIcflucn5yJKLmKAzd5qzy7fz2uXPsF9leXBPyCJc+S8RFXcEHRV5QajrFSoattIgrmYP1vfmXjtBSlk99XzTtPlTlZimeueR33zXwKz173Bl7+03t48uKXcM/UJ/HR375BY01zzysJuwNv3vMx7pzwN2z5YTfOlqKFKBbyLO8qmFtteaiuf4gnEQX63KDAFqvIxIiwRX7poskIiiY/BTMrp27SaFma/68XhWGodl7QaVRXQ97tfjfk0X481OC9dJf2ud5WiWP138LqNCI1ZAbkouB33nYE9e3858A2vHFoB2wtaqaAVCHmJAxoVYFQAKeATo05hDCZHGOjEwNyUCnDv3PLT/j09H7Wr/+Y69kIieiVDG1U679p285LdqllSEf+Xc5hVtPQTeH5AxvQ0MLjBwrcDascjrSQMT6/lqRRpxo3enyMviuNCsvT+RcEyewrRTnKZzuEkqxyPHPVa9i1bD+SMxNwx0vX49HP7sIVDyyCQCjAD/9ZjhdueAsNVT13S5r0ZugbDbBaetfN2hsIBGIePBGmfoD9yj3BbNmPusbniaAL+OdT78Ko8CWI8CMAkab8YP2vvRoY0hOIVklQnpmP6ysGqCdD0wtliW8NeXG9aMhzNV3VWoq9ujE6nFYcqP0ETdZShEoSkaFZjL4GbefWsgJ8efowDlSXcXIbkEDOVIImkqkLQlZjNdMr7i7OAdooxCgCM0SBiqV3Dp3MjUmkFX/j2HYUNNd7PAipoS66h0AdpLSNBFLN3Dd8GpuCEQ7VlOHr7IMBz3BodNWY8Es4O/cVVMT0bH5FUrRVnUaFeQO5UI3xkVf4PFLLbnPgi2d/QtGpUgydkol//vQgltx1HmZeMQk3PX0l/vHTA4hNi8aB9UfxzYu/wnkueHp6m5mrb4VWfSedFR6fozP8DJ3h16BkvyT7HB95pV+1FJKc0gCFYGblRMH5s23UIUrWuP5y1/4VP8f4XUSm6+xA3c893hiJijna8B1ymlZDJJBhTMQtUInPDJ7pC/AQnqZ6/HP3BshEIjw4+oyMOiAZuUoiZdtbQoPZhE1luWgwu5b+5KXitsLtLUhtQuqXS/u5sgXyNP/0tKvZqC1o5xK94t7F1ICkFEtbHwuTKbgxiYqw9Movsw6iTO//IIaupVyZ3PXpK5qsVewP0fFCpSHK2U1b/eYso2T9fT7xqktqsX/tUYgkIlz+wCJoo0Nbioeun/SRqfx3unC3/rgb9ZXtPdzP9WBOnLladWUXNIcF9U3/Yd48GBQLtZ1T56evMNmbcbhhRdCsVGnbwqWJkPsh8UtUDkeUvF+fBjihQIjR4RexRa4/ON20hYUGno4x/c1i1+FA7cc4WPsxDwoJlcTDYK/FiYafcLz+R69/6Pk6q6fB4d7OcNDhkW2rUNLciPtGTsGIqLjW/dxtekZTLxotVJXt+YRJa+GkibpYUXiqhR+nIqOmtaOyO9AwB29Gt5F17R1DJmFzWT5K9Y1YXngKN2aOYwvctlBLpBxc6GSnbWj7rvQZ5PdySb+hTNHQYAvyRqf3DeQJSI0VI8MXI1+/j1uEvQVlBzRlnS1lW7Iil8PhZpZO+QqaxOKy3PX9uzlsDoyZO4wpkUETOs8apX8PmTQQMqUUjbXNqCquRUR87wplfQe6GckRHvpXWK253BTUETZ7ARr1H/NzAu1DQqs16nosNZ706fwg0PkxOuwihMtcUttAgzoyNdIYGIzen2+UEZNfS195m7eFVKjEjOg/orq4AHpbrU+vpRUu0VXnxf2l9XpzwwErtlS+gELd1tasvd6Sj93Vb/q8jbR/NInJCJFE+/Q6lwNtIx7etgr7q8pw0+DRuCpjeDsZdbd7nHTYf9r0Q5dFxbZoOxaNqBXeAAAvHdqM149u7/H10+PS2BZX4I0eV6XBlekjeDpQjUmPtcVZ+OOg8e2CDBlh8T+dLo68I8gr5ur0Ufg57zgrW5YVnOS2ffIhD6x2eAjiFYPYuc0XlBqPQ2erQ6gkqjULO9G4wZ+tYNc5f+WG8ekxeOTTOzmgU1buCWc8bVxTin5/OvMwhGufREXNdXA4Otsd6PQ/IFR1PSTilIB/Nlmski46T7fHZ0rgZNMGTI68PijZL3nDREpTef6rL6+hTP5syFoFLc1CEyOuwsbKd312Osxp3onRYXmIlqe3237XIAsTQiSxvd9GiHwSQLjVdXsqS/DUrvXIaajFtZkj8MDoqUwvt0UPGbkD1UYdzL2YR+dtIdHdOOQtFqcMYg8XyvZJr0569rZfrkPe6DGTJM59cmwKVhSdQm5TLY7XVWBCbEpA8y5SipAxFY9286FAZbDVs/eyWjyd/12g38cGWb4iTBqPYZrz4C/cFIpQKuzyZDu65STMBgvCY7WITnLVIn5PoO8nk4xAqOpaNDS/0elxu6MSeuNyaELuCHiQouBHeuhC/SGfs3LyoKfXKsX+uCv2jEh5KuADU0ayWZLzRcF/xUtvIKDVoXY+D5/w9cZIWTnRVeRW2XblSlPA5sT/M2AJilgo93KMnRNFzQ346vRhfJt1hAP6faMm449Dx3lMTLsN5FqZnKfVW70YcExe3xtKcjh7J4vYWQn9mS7xFu4OUa9d5UK0GBOVwMMuyJiL5mv29zCarTtQI9OC5AysKj7N2721ooA16K5UPjDgG4ZqDMKkCaizFHv9OqKE8nX7kKGexj7jxxvX+axUoBNyZNiF3KQUqADE2Tcl4AIqhNpxZMtJfPvSb7y90y+bwMH89whqMlGrrkOz/jsO3B2hN65EaMhNEEARhKx8GBKVQ1CoP+jTaxss5dxAlhk6MyiWEyTrIzrA2/OOntfoxzDmQEIikGFy5B94JWH0cQA5TRyiUX10rbr3J9s8CALfREhijSqDnpNlorBpsDwZENYaDShoqse+qlLsrypFo9mEYZGx+MuoqZgan9Kl0V+3gZwoDLKH9QaUGS+qKeMCZKiUBjbMa7WVDQZELV7kFMipi/RoXbnPTUf0XBpwQcVPmhy0v6qEb1pSUWBb16loNDB0GnbVfOXT6ygjNzsMqLeUotRw3OfPjZAl88ixQF7kJB38+IlvYbPamQ8/uSubpYTTLh6Pqx9ZwnLE3ytoOIVSPhvNhq87PWa1ZsFmK4VUkh7wz6Wsjzx6ivVHfKIEKHBSVk7nligIvDRZOYiFMp96FpqsrkHXZ6trWMANTf25g3YnX29OH+mqjZgceR2CjcKmBlyz6luWalO2Te6WFNRJ9MWUCpzMgV+TMYKDeLi8+6Ev3R59Xw4G0RpKscvHgtr0udgZ5IaA4RGxkAlFHHzdckdfESUPQXpoJGpNRSjS1aPJakKkSBXwbSVXOWqr7zgktjs0W6u4aYEM8X213qRMirJxf82FuoJYIkLWgXzkHSmE1Wxj3vySu8/HtX+9GAq1b6Pyzj0IoOBA/i2XudrC4dSxU2IwArnb055uvDRA29daCgXPMGliUAqe1IHqWyCv9up5FKwamo0wWWxQyKhJy7dzh4JfbYMeNrsDaqUMIUpZJyuErOZtLNP0na66MGh0lRtUi7uw3yAO1iTy0Mjk0EhlUIjJ8M+Jg9XlWJF/Gr/knkCTxYy7hk9ERlhkl/soYLdx6tyUi1yBnLqNrPbgF70SVFrOyml+KFEk/oCkkXRDoABOsztppwYDEbIkLnrSxBdvQaY+ec27uRDj++clI0M9PeCBVaaU4W9f3oO6inrsWXkIv723DkvfXcuUysV3L4BAdObzKGu3mCxQ+HiResIZaZgNTqcFDqcBDkcjHI4GSCWDeKBEQLoFJRkQCJQ8Fq49HLDaCoKWbZL9cWboLFRX+xbIqQhO/LpWcoYOCBSkQjl3eZKPt7cgLxhaVfS0QqDD+eoXm7DjUB7mTMjAIzfP9WnbzGYbHnt1KQrL6/DHSybjygXtZb7kNjk+/HKsLv+PT6ucBktZ0OiqtohWqPC3cTNb/92uwEozE5IH4ObBY/Bd9lF8cuIAdpUX4S+jp+LS9KEcszpuW8A8ZenO4qYk2AulD9QLZID11vSLcfWAkQiXK/3e8TdljsNXc6/BFf2Hd6oGBwokySI5oa8StsMNy9HkI+/o4sYX+WWZ6lWLeWoUBk8ciD/8/TLc+cofmCv/9t9LUZ7fXiNbU1aHJy76N5a+sxbN9f7Z7bYdAlFdfzfKa65BadUilFbOR2nV+aiouQZWm39j7jxBKNRA2AUnSjeNYMGtK/dHu00e28Ho9BQKJD5PDDLYGrycq+mE0WRBs94Mo9n3OZyUteqNrtdbrLYu92ecYpCP7+tgNVB3wZ9u5lT8JDWL0VYPnbUCTZYSNFnKoLdWwWxvgt3hmmXcVf9B216MTkIMdy+MMgR3Dp+IT+dfhjRNOCtXXju0nfn0jghY1CI5n9trnLa9Lyaa0M2jt4GXG3dUgaUfuvqcZNUopjpowrq38OW5btAym6icQGQUFKSLT5ehNKcSQ6cMhCbyzL4SCoUYf/5IRCVGoKKgCoUnSpCQ3qZo7QSKTpbinb98ig1fb8ctz17ld2ONzV4JneGnTpynE2I4nIELsK7uwK7ym+B2rWqlsUhUDEWObodPr6s05cBgb0SI+Ew3cyBACQEVyn0B+eNbHWbu8DzbkAgVGBtxCcpLT3FnpregehQpxCJlriE17b1WqlCi34My4340WopgsjewAyK5U/LZIyCJoRJKcQQiZOlIUI1HnGIkpMIQv65HinGDw6Px9qwL8fdd6/H+0b0ca+8ZRbOTz9TyAjkmp51A/ffRqN23IE040Sv++oh7BwHLHf0b+NsZJoMZ/7rxbRQcL8Ejn9yJGZe3n+8pEAohFLkEWx0LndQYdNerN3Lr/qk92Xj6qlf9LoZKxKSgkMGJjrUCG2fkcmlgmrkcTj2cTs+csFAQ3Bs+6YwHhk5Frm6nT12bJFUlLjjQgZzga0ZudZhgceihwtlXLwkEAqSqxvDAlxLDEZ+kiLnNuxEhdU02cskBzTjZ+CuO1X8HPVNNHY+P+9yjvzdCZytHlekYTjX+hnBZf4yOuBlJqkl+zQimbSD24bnJ81nh8v6xvUgJDcOl6UO86+z0+QO7+P3/cOZCJdvNYAZyUhoEkt9ThCgwbFomcg8XYvmH6zFm3jCEaFWtJzjJD8nKNjQyFKmD2xfcJFIxB/4RMwbhi2d/xsr/boTNT7MssSgBIlEEbPbSTo+ZzfugVnbVZu+jVa8tn4N5ZwggFge32cVttkYWsr7MYSUaoMKYhWSlfwOOuwNx5L6A6jpme+9oNEJ9kwEb9mTB3kWtzWqzo0nnuuEeySrDd6sPQCoRY96kTKgUZ4zQqAGHaMYyw3GfuHJaFVE3NHXfUlv+/tqPcKz+e6ZelOJIRMoGIkyWBpU4mrNt13BtZ8v3b0KztRy15mzUmbNRa87CpoqnMTX6QfRTz/HrGPGoO6kMf58wB/lNP+ClA1sxMioO/TUupV5AA7n7HkXb2VemOV2BipYjI+NZWB+j9N37ORhg/btyGBe2/DG+8gaDQmcGdBI6Hcsld56HvasOc9B+4Q9vYeEfZ0MdFoITu7Lwy5ur2VjrorvmIyYlysPrBQiL0eK2f1+HiDgtB3R/grlQqIVUMsRjIDeat8HuqIFY5Fvrc2c4YTCt4yy/IwQCBSRi/wf/eguiMuLkmT7TK9VmmknbIvAP6Ig6Wtm1tEh7AYfTDlMAAnlVnQ6vf7kZZi/Ola0HcvmHlC8Th6e2C+TuPg6iSarMuV5/fo2pAHXmYu70LDPsZ58UkmIOD7saA0MXQiGOaDXp6hiY3fQhtfc3mAtxqO5zFOg2Y1/tB4hVjmCzLf9pYDWbZf1502946/BOvDjtfEiIzvHrHT19CASYGJPCwTM9NOKsB89hEXH4au61rZrzcwXUKh8hS2GNeKBBhTIyxwpkVkbvFd8/hm1r33v4CxzceBz71x3lvzscDmijQnHDU5fh4rvP75Y2kcokuOwvi1BVVIsV//XHakAEpXweDKa1nYKKzV4CveEXhIb8ye/v7srG86A3kD91Z0jE/QLeou8JFBxSQ8b4HMipIE6NY+7xZ1XlDSjKa6826TcwFuFRvhXAZaKQlqYg77JZylhJSdNbSMRCiEVCkNPTwNRohIe2L0DbHQ4cyy7nQmlSbBgSojVQKqSQSTuHNKlQhUGa2aiq8j6Qk9yXFGbR8v7IbVrHBdzREbdgWNiVzIN3B/c5KIIU4bJ0TIt5hOmmUsNelBsOIT10ntfb4em9ZySmYXpCKo/XNFit0MgCGMgpWN43fGq7DzybaKuiOZdASzDKyoMRyPuFjOOutGBg4Jh+eObXh3FqTw7yjhSxrDAqKZINs2LTorjw2ROIarnuiUsQnRKJjDH9fM8O5bMgEsWxG2F7ONDQ/A7kskmQSob6Nf3I6dSjvulfHrs6CSrF+TwuLthw+/NQoc4b/TbZEicqhmFC5BUQtbEo3r3lNN55flmbVbIAjzx/OWYsGOazGRXxunan97SE0dH7QE7Bef7kTPyy4QhS4sLw1z+eB5n0zPVsMFnxp6e+Qn5pHRbPGILrFo3jv3s69i4Fy2Tsrf2+C3tozyCzO9KjN1gKeZZpWsjMHoO4p8+WCJXor56DUsMeNFgK0FvQvIWHxkxjzTnRLYTAZeTnUNbbzvDGaeYmBQpw/hQaggEK5Htrf/A6y/G2O3CoZn6vZy2eAQU3Us00sa6W6JrEkGEYPcf147exUXw4rnn0Ir9eT0FcrbwcDc2vd8rKad5mdf19iAp7HVLJYK/PR1cQ16Gu8Tluw/f8ubEIUV7SZ+e4RhoLrSS22+YgOs6xigxuKacbOHHBbbdv6KgU3PbwQqa9fvlyB6orGv1SDEmEMvYlt8N7iaDFru+13p6y8VsunoTjORXYuDcbYwYnY8msYa3vKeTV35k2emEPiQQNgab6w+nmLT7RK9SUR9epQCBqd6P0FSIhBVwBU08BaTDUujyNWvcH/gdBJxHxdNSl9WPx4/im8AFkNQdnOrqvoB0fJUsNeMdlrHwA+58HovGGTrZaczF21HyOrwv/ghVlL2JV+SuosxSd1X1IHXuhITdAIh7g8XGL9QQqa2+EzvADHA5Dj9tKWmCL7RSq6v6MJv1ndDvw8CwhNKpbIBYlo69ABTaam9kVhRklS8P8uPtwWdKz3JsgEXZuuEobGIsl10zCoisnQBsR0qsEwdcsNBD1H1ZqaFW4+5rpkEvF+Oinncgtds0D9uv9IORZut4mOvQ8qlfYnFYoxVEw25tRaTrm1+fTjaCUZ+w6ofYwOYl8V3RWanLrYrxjix69oy6dHGfd/+574+BgDyW1N/B07CP1K1FtLmjNejdUvM2FG7INPdurB1ICkI+0weC7t7hnCJgD9GdGaDuO2GliDe3xxrXMD7blOhut5Vhf8TYWJz4OOfOmZ2cfioSxCNc8juq6u+Bwdl7CE19eXf8AmvVfcRYtl02ASBTDvuPsT++0weFsgsV6GnrjCnY1dDi69q9WyGciNOQPfBPpS9BN+VjjmjZ/EUAricOo8AsxOHQ210P64jymLNTXQG6xB2YgMXshDU7CVQvG4L8/78KbX2/Bs/csglIu9ZuyUrIiqOvjTasPGowxQrsQ6eopnHCRbLBYvxN7a95jhUqcchQ3+HW3/90B1urQ42TjUuQ2r+P5nnHKkZ2eu6kkH28e3okP51yCKGVn+o7e6aNj+yATi3F95sjWIP7g1pW4IC0D56cM/N8I5JRZEX1CHVkUhKjNtqMOlwL82orXcVHiUy5Xt7MYzOkkiJUPZGvbQID0wyRr9IcbptOE2qrJBuBE43qu7HfVmVdkOIzdNV9jWvTNvVpm9gYurnw2wjSPoa7x6S4031YeEmGy7GZeWySM5I5NWh47HQbYHbWwO+gm2r0iglQykdpnIRAEvkPWG29tqqfQsVCLozBcez73BwTSydIbEAfvK11ndVKJsj0sVjtEQqJAOncydgdy+7vy/DE4nFWKPccK8cOaQ7h+8Xj4A5U4jFeuubrOgZz2NfV40FDsNNVYrg24t7O/ejbymzeg3HgQ68oeR6xiBBJUVI+ilXUYW9PSzY4bIUHT7fXcOFRjPo0S/W7UmXM5iRiivRwayZk5reQvvqU0H0dqKpBVX4MvTx9izntgWCSbapFnFWF4ZBy2lRcgRCLDdZkjUW8ysBpvX2UJhkS4lFq/20DOyww4uAPrWMManGzaBJ3NNdCiK5CL4PqKN7E4gbJK9VkN5hTIfZF1dQcyXAoRR/pIn9hYskbBO7t5B5p53/W0LU4cql/G2WKgOkf9AQVkGvQgEEhR1/gsHByUPcHFf9tIDucjNSmVDEd0+OsQi1xNIX0NjSSGO3RJOkfBxd/BIL2FkPoIfczIqdOxoxRy875s7DiUj0vmjMCg/rHwpS8sRCHF3dfMwP0v/oQvl+/DiIwEVrL4CgGEzJO37eMgGitJNYKLmmQn3LHWQJAK1Zge+xh2Vr2OEv0ulBhcP/R+ZGNw5mbnat2neoKrk9R1PcmEagwNu4oVL21XdhTAn96zEQqRGEablT1VmiwmXDZgKFYXZrMbIv2d2vTd1+3G4lysKMjCdYNGotlqQWZYVM+B3LXctsBkp246JxQiJcQCCXS2ZlSay9BPNZCr2Tm6U+inGgCpsOdRbb2Fy+LRzjP2jjSsYA9hX3yHiwxHsKPmC8yM+RNEcJl89TWY/5Mls3eyr66GnrL7jNDpXlMdtP/Iq3lnzZcoMR7zydmOQMXjLVX/ZVmWVhJ/FoO5GGrl1SwLrGt8BmbLoU6Ohf5BCpViISI0j0MkOnvfj+i3S5OebukJ8C2LDSwoRPn22cQrd1S06wxmrNx2Apv35WDBlEH4w4XeZ9WsOkmOwh8vmYSXP92AN77ajKf/vMinbWrVYSsyOfsmmSatYukmGSfPcAXjLvYx/T1EHIvZcX9HqWEfcpvXo9p0EkZbHQ8DcQ0EOfONiZ4hCiZEEoN45Rikq+dzu76n96cMnLLsL04dwvtzLmK6hD8TwD0jJ/NgCTf2VpZgW1khopUqDCiPgEos4UDeY0MQBfH/5r+NQkMe32li5fG4IO4SrKz4FSXGQtza7z7k6bKwvPxnjAufhMsTr4dM5JqAQV4r5aZSNFsbIRZKkKBIglzYvaeut8ht3ok15a/B5JfMiSbRr0ScIgODQmf7tD11tTrodWYkJvd+eRsiieSLlQYq9wZaaRwvCX3ZHrLopJufr0G8LV++reoTnB//YK94+d6Cshu5dCJiI7+ATv89mvRfsBbc5/SbIYFMOgyakFuhVNAU+OAnJd2BlurqljF/ZxOuBME3aqVtNuoGZdGTRqRh7/FC/LT+MI7mlLEFrdfbIRBg4bQhOHiqBGt3nsJnv+3psuuzO9AqZ1z45RgQOoWLxnyb8uI4c7AUyJGsmoJk1WRYHDoYbLUw2ut4OLMrmAu4aUgm0kApioBCHM6vcb++4wg3mm9M+5fsv+m/ZGVLVBJ7krcMtSdZd5VRh0qDDvVmI9Mu+Y31+PL0YYyPTWJjLUK3gbzWXIMaSxUHcIvDjCzdKSir1yBTPRRZzSexvPwnnB97EWLkcdhVuxVx8kTMjl7AG11kyMdbOf+G0W5g2d+Q0JG4MfX21kDfG6SFjOPi3qF6mkzj+8GknU6BiJQBvvDlRw4W4vixEtx573z0FsTB0XK5t4GcvCRI4+ot6LtqJHG4IP5h/Fb6PKrMOX59LtExqU0bMVRz3lkNePTZIkEYNwOFKC+D0bwdBtMamC0HYbPTkAOTh8BO2ytil0OxKB4y2TjWicul45hTP9vF8N87PLXCpyVE4Pn7FmPjnmy8//12ZBd6b43rhlQiwu1XTMWp/Eos23zMr21TiEIxJeoP/Lu/rfJ0/shEofwT5sdYOxoa8ezeTdhYkodmixlfnz7C/6VsvEzXxL/rLBYucJbrm7DMoIPBauFGoIdGT8OVK79BlUGHqwYOb2127DaQh0sjcd+AvzKlQpn1S1n/5Az8wvjLcVp3HNnNNP3bhpvT7sQ7ua9gc/VajAufjFCJBtXmSujtOowNm8TZ+KqKpcjVZ2GQ+owW1B+4lhEyTIu+iZf5xxpW+2Qw5EaTrQpbqz/GBfGPME/WEbU1zdi1Pbud3CfrZDnKSuux/NcD7Z47MDMeAzM7y4q6Ay2/KDsoMhAl4D+t0l/t4s983YdaaQJn1EtLn+baga8g/wmawEKa+LNJsbQL6KJwqBSLoFJcwIoWu72SW/rt9moeDAHKFElOJ1RDLIxu8W+JZv/xs0tfeEbbc+/sbZsfcjsPMjrafrlUwrTKwJRoPPfBahzPrfCdGokMxV1XTcff314Bkx/2t4Jz5BiTUywHYbfZoMA106HlV4brniHAjIRU5DTUcbETLY2OSWotRkWfue66XTPJRDKEiNUQUXFJomUenPjxBksdZkTO4+XB8abDiJHFY0bUPNRZalCgd7XBuoMrvWZK5EyoxCoca/Q/aHXqlhLIMSP6TywR8hc0tOFk40aPJ57FYkNVZROyT1fg5PFS/iktqUN9na7136dOlKG8rAF6vX88N0kQewNqciCu2t/Mgvwnzou7HypRmF+fT23hu2q+5qB+rsDl7yyESKiBVDKQu0HVqiugCbkZGvWt0ITcCLXyUijk0yCR9IOQ7UW9W173NWigw4H6X5gCO1v6fbqOfZ8V281jAgH6JUbgH3ddgP5+DOqm108Z1Q8Xzx4eyNG6fQqqOTwybjpuHzYBoRIZrhw4nL2hXpy6gC21Zyb2Q4hUiluGjEWCSs2ziOND1DhZV4W7N/7G6phCmutZWdJ6XnQZyOkJ9ZZaHG88jGZrE3M4ycpUOOBAhakMyco0hIhDUGIo4qUU0S+EMlNxp5OOJo2EiENRaSrnDD4QoANK5lNzYu5kfag/oO3eVfs10xsdtzkuPgzX3jAVFeUNKMyvRklxHXPkOp2Zfy8uquVAvuii0Rg1Js2/rJgy2V70ZNHAXhrF5S9c2tqhmBlzm8dViTc43bQFBbr950Sz1f8SaH+eatqMzZUfYFnZC7xqOhv72J9A7nqNs/vzLlqD+66byU0/1PDjC4hHpmLpiIxEHvEmlfTOioM4/War/81G/tGBpHgRMM1CyhTaX40WE/sXubNyvZUKqWe2Kb+pnnXmH829BGmaMHxwbC/ryQnd7sEdtZuxquJX3Jh6B8aETUS0LI4DOtEmCpECKnEIGq31sDqsnLUT9LbOzmdigQiL4y5DvCIxoPpj2iGkq50Xdy9+KX4KDdaOHhzeZZV7ar/D3Ni7qFTR7jHauWaTFdNmDoI2TIVTJ1xZ+Zz5Q2GzObD0p31wUGWiBY0NBlRVdj8IQiIRISklEiKREGpJJFfQiSLyHa45j711u6N9SKqXOksxZ9e+XrS07USxJNBNJQgTif5/hcmhw4nGdZxs5OlIi1zMSqt+IRN8btDpDUjkQD9dg4KSmBMBqUjBAbHClIV9tT+wIoSSra78T6jZ57//vNbnQExvp1Ur8K/7L+QpQaEq/+tuLhXXae5cJruDIZo53M3aVyu0JrMZH5/Yz0H7tvU/o8FswgQk8W3w9UM7YbBREdWFSXHJeGfWEla6UDa/u+JM0txtVKWsm55I3DdRJo1Wl+FMg9Wl26UDaLQ3cyB3o9OdmDkgEYZoRgR0B7ST8kmTMSf2Tiwrfd6v9mCanE32r4nK4Z0OIFXGT58qh1IpRUVZA+rr9Th6uJgDuNHYnqPLPl2On77b0+1nhYeH4K6/nAeFQsrDH2iSis3ueyCXC1WIVQwMyAlHq4Jx4ZehypTHQw18RaUpG8ca1mJM+MXnJEXxewNdc7nNu1BrLmr9GyUpy8texJiwizAu4vJ2DSvBL1w6WZ1E5yqdsyGSCNa5U9GcfGFCxVGcUJE3zG+lz/KA8W3Vn7Lp1LSom3jcGiWAHbeXMuuYCP9u/ly0D1HwT2+/34H6X7kfZX3FWyg2HMbUqBv4uwV7/9LknwfGTMWJ2ipsKMnF5QOGMQ+eEBKK7WWFiFSoMCUuBRNik3C0tgJhMkWrSRb9nXToVUY9UsSSrgM5FxbkCZCLFMjRZaFQn9eSXYthshuZYuEd4bTzziDqZKR2LBIVLqvPMEkERmrHIUoaE9Sd4d7WFNUYTIi8ClurPvHZjIo4yF213+AiRUY7ioFOPrFYhIY6HQx6CXQ6E6wWG2qqmzmQ8xKozcEePa4fRo3tmWZxGf64lCvU7u6LI5sbVKz0pQmoZ4c2BWd8teYCNFjLfXo9ZfHE5Q4MncK8/f+hd6BA6EmRRefp7tpvUGHKxqyY2/qkQ5lWWQvjH4FCTJI6LWQiFWuw21KCbGnstLM3j7srmLadOpd/Kn6SbQXoBtRXtgK+3DDJkoJqZQSq9ZA/Ew3pmBp9I8/8JFFCsLY5IyySf3ZVFPNnLO43CMdqKjlDJ7nh7KT+uH/0FKZhtpcXstshgR77x+712FlejBkJaUhRa7vPyNXiUGgl4ZAIpbg59S5WrxCkQil/Qd4ZLS558fJEXJfyJ+yu24afS7/hDYuWxaDYWIAIWRRiiJYJ4kEkieOosAu52SW7ebvPry/WH0Gebk9rxyId5EMHCqAOVcBC1XGnE4OGJCAiUo1jh4u4My0hMRx7d+Vg8cVjOTi3dWTzBqSvd41kK/F5e2MVA1q9pwMBN2c/NfomrCp7iSed+EpRUdcnZWB97UvyvwQ676jJjeZwenwcThTo9+Gn4hLMiP4j0tWTvdZC+wPKwskfvadtpmw8p3mXxxmeRNlRHYWUZtRZGczt9ZUWJFq1Y1MerX7oGijWHMakyGsDbotA++tAdRm34deZDChqbkSNUY8b1nzPskMSkVBMPVhVhn/u3oCJsUm4LoMGzCuwuTQfL+7bghqTAc9PmY8p8a7OY3HX9q+uO6tWGobq5krmwKPlZwbr2trQKW7srN2CH0u+dNlKshm9q8trf/1u3J3+CMsSgwla/k2PvoW7Pn3VZ9PdeF/tjy5dtshlXHPiWAnkcgnGTuiHmqpmnD5Vxp7aYREhHNSrKhqxZ2cuFl1EJ7ofg1Uh4kzHH8TKMxBouH2bC0Nn42jjKp9fT1YJQzTzgp4p0vlptJthcvh2s2kr/VKLz029OBmV7av7qcdVJZ3fK8te4mx3fMSVXXLRfQGmJ+p+5qDtGU5UmE7j15J/YLh2IcZFXAalKOys7n+n08kJX5Hes5KOEpnDDct5bsD06D8iRTUqoLWJ9UW53M0pEQmhkcpRomvC1PgU3DmcaiBC5DfV4WRdNQ5Vl+Pn3BPcNJQUosGJuioMj4zFC1MXYFgEmcF1oyOvt9bi4/y3YXKYWFJIHZ4fF7zNNIsblIFT96brS1u5YehE0xHOxq5P+RM/bnPa8EPJl6izVKPWUh30QO7OKqdE3YDV5a90af7UFWjJSj4M1PFJkEjEyMutRE1NMyxmG8LCVZBKxcjJqkBlRSMXQqNjevOdaJSW70NqqRhDU4aCcSGQNn1i5NUoNhzxuXhMFBFl5bNibg+6O+J3xeuwusK/2aepqjj8Y8itkIrOjkVDd8GFHA9ruvEhbwvKJGlYQoUxG7Nj7+BaUV8HRxc9cQxZTdt6fK7FYcS+uh9RqD/IPHRqyNigUhfdbTMZxXkjnXXx/s9gZNiFXEcKlEfTbcPGs+xQLiafFuCKFV9zYCaDLIvDzhPW4lWh3N1ZaWhGqa4JFrudf4hDj1a0d0nsUUJCTUE9gZp9SowFqDZX8UbVmKshE7o06PNiLmCuPUrW23mKPpiuq6dypZ/4Ll9AWdDBuqXoHzKJl5SLLxmDWfPOSBspiJPqZOGFo1r/JpOJWzlvf+CPLznx6sFq36b9Rzw31RvWlr/m08BaAu1zGnYbLqOp98G7QGPk4RgUmtrp77QsPdmUD53NgGHadCg9dBLHyiPOuWycggvVJg7U/eJTgxs9t8hwkBvjqK/ibPD55F3ki2cQmbX9VvocRoQtxLSomwNKEXp7ne+p/ZaVWt6AbkBEwdANa0bMn3imam+bGqkdn34IpFihv/2Ue5y9VEiGWGcysvshZeuUgdOczpFR8VhRcBofHtuL0/U1+NeUBex+2CW1QoXKewY86uJqPJxU9BXILOvV7Of43xqJFgZ7JLf0Uxa+ovxn/jvpJOfHLObH6631CJP0jQUnSfomRV7HxRa68/qqwCAOkrjy0FAF/3SERtt+fmBv4I9kjzg7WkoHC3SMMkNn4HTTZvYl9wVGeyN72cykoBKAIRfkR0HnUUfVw4LYSTgvdlKn19B5+bej7yCruQi3978UycozdKAb51YId4FumLtrvuEmIH8oReLK+xokSyT6gQqG/vDTZruhz+spTqcT+bp9TAP6+EqUGo8ju2k7m2wF4yyiYiZ5qVA2nqTWoF9oOJLVWmhlZJPrOv8pkx8Xk4hHtq3C3ZuW4r05F2OANsJzIHdFeAn2NezEtprOg3LJW+XihKtb/z0tcjarVt7KfRF5uhxcm3ILF0YNNj3TM69nv4DpUXOwJP7KgH/5rrY/XJqIMeGXYEvVhz5lOHRBHa5fjv4hE4JuCOVuavIV5E9NN6tggr77hMirmSOkjMQX0A2ACs8kTetNVk7KqM8LV6DB0ozJkcM5Ayduu7WD09NrnGf+znZP51jm3VVwKdDt83kF6QZp+MkWue2NLudkGQ7uymX5bH1N76fae9Rfm04zteOP3xGdwxMir2wVTfQFnE4nmm1V2FL1kV+uoxRTRoUvCXgQp5rN7MR+GBOdgPNTyd7aBU9JL53PY6Lj8drMRXh420qU6pu6DuRu1Flqka07BZUohPlxkhiRhtzsMLfy45QBFRhyoRSFsEGW25uBGoboR2fTcaE0V5fF2bokyAGo7U4Yqj2PLw7Ksn0BBa8y4ylXhd2HQEAnCnV/qkLkXCT1BkTh+AqyNg02B+3q+hyEAeqpPKzDF9AqiLT5EyOu7tU5X21uwN66Eyg2VGJ91V6mREaHZWJyxHAMUCcxbdJk08NoO6PDp/PR4nB1ytWYGyETnlm2k4wrQqY5Z2a3us8Zva0O26o/8asxjHo56KbZ8cZ+6kgxPn59LautCEJR4JQirmJzEzZVvu+ThXS7voWIy/vco8fmtGBr1ceotZzR5/u6yleLIwO+zeSd8tdxM1vft6f3p8eHhEfj0/mXI0LucpT1qs1yYdzFmBA+DQ3WOvwn65l2jxnsenyY9wb/7taWf1bwXrvn0N/JRZGeqxH6XtzzF9S+Pj7iCiwv+1eLtab3B/xY42okKodS31r7x2x25OVWISIihCkW6tCkHVlV1QRdsxHvvrUel181AePG9/fqs8j2kkeQ+bBqUIn7Zh/Sd6dVDRWA24598wYnG9djhPYCtsz1F9GyMDw//C4U6Muxv/4k1lTsxm9lW7GyfAcSFFEYGz4YZcZqHGk4c6OmvWiyW/ice/bkf9t5aUfJwvDiiHuglgSOGustaAVInbHdDVruDtTERh2+HS/+iTMHISmtTR1FAKT0C0ydiq6lHTWfocx40q/X07jFoZp5fRrEHU4Ha/PJUsIfZKinsa7c18SOqEGCyxCr69durcrG4foSXJEyFrGKnvX29HhUm4KnV4GcdONKsRImh6FdJjAzaj6abK6W9CpTBXbXbUWKsh+GazvrTqmRiH76EmzQEzIeiYphXBDyBcSjkcQrTJrQ7u9kkvXv539Dc7MJKamRyByUgMFDErBnVw4aG40w6M08udxb5zpXoce3SUEykf/+Kv4YaxFfTmoUX1BvKeNag6+e721BmbNGEoIR2gEYqumPnOYSHG3MwfjwIcjXl+HX0s2coU+KHN5eo1t/Co02PUZqB0IlPrPiCRWrIBb23VLeKwlc0zYcbzeb03tQ8xolKp6KhZExofwTDF78aONqHG1Y7ZczItWEpkbfwA1ofUpd6fdhV81XPhfvCWQ3PTnqep/pTJPdiqcO/8a1xqdGLoZK3DVVu6emAJ/m7kS4VIXr+k3weRv9jqx0h5kcOaP138cbj3AzUKw8AVMi6O9nLl6iVogz9+eCpoNQa6lBo7URqaq0ltFTAlgcFqZ+GiwNTNnEymMRIe287CGud2zEJSg1HvNJjkhFO9KZkgl92/dMSAzDdTdMw6f/3YzpMwchO6sC77+znjPyvz6xBF9/sYO3eflvB1GQX41p0zMxfGTXsjA6OVwZuffgzro+ymZo20ZoF7GBky9ZOfGmxxvXcdE4UKoE+srk2/OH1IXQSNQ40ZSHBEU0kpVnukkpA3r86Ds41VyIG1Iv8FjsPBfA57W5EFuq/+tz85UbGaEz2Ea4r84FV0A8wDSQr9Je97k0OuwiLhb25TbXmAu4/d4f+w66Pqf42bJPhldH6kv5nLQ7uq4j0ONZTZXMlQ8MPaMND3ggz9NncwZOhlgUNLvDgYZdONl8pN3faCTczWl3QeRjYYMOQpmpFB/kvceSximR07AwbhFCxaHYWr0Zv5T9BHOLT4lGosGNqbdgcOiQdjuCfk9WjuATvlDf3kfcm6LdSO0iSFs6WglCoZAlh0qVDPPmD8PsuUPw4nO/cVY+YlRKSyB3SRWplf+zj7fghZevYdmiJ/jTZNCXpknsZSNLxoCQKT43CZUZTjBl0LEQ1+ttoony0hBMihgGm9OOGksDjYlwGbcJzvj9UCbU9nucK6DzmqZbbah8hzti/YFbItpXxUJX92Ye1lW84TPN5ka8YghGhy/pM6WKk/XiNVhT/qrfA1xoRUm0SjDPH53NjCJ9HbRSJVJDaLQfAhvIBW06NunHG5B6hZqB2iJa5r16gXZ+sbEIZrsFKaoUtgkYGzYOG6s3YH3VWuTosnFl0tXI0p1mC4A4eRxn6yebT2BN5SpkqDM7UTjUQDMqbDG34fvinV1jLkS5KYtvBF0dSArW6lA5brx5BvuyEEhXPu+8YSxd/PKzbd3aY7o8K86dINPVNg4POx+nmjf7NB6OlAF0M3QNmg4O1lbuxmcFK5gLFwlFnLHXW5pgcdjwRs63SFLEIEkZg34hCZydh0nVrau6swXKZrdXf4oiw5l5jL6A5ktOjrwW2j4wdiLQ+UuBkBwC/Q2I5LMyI/oWn6ZZ9fpmaW/G2orXUW465dd7EK04Jep63t/BRLmxEbVmPYZo4xEm869+0+0WEtcd4aGRRyVSebSjpVNqSOgIXJl0Q4e/ex/ETzQfxyf5H0Fn0yM9JB1zYuZhfuwCjA4bg19Kf8KhhoN4N/ctLIpfgptTp/DA5xpLDZ4/+QwKDWT4VI9IWftmGc7KVaMQoxiAch8KNHTBZTVtRbKSOFhBpwD+6cdbuNhJAXvt6qNYuGhku8/0Cud2DGewb468P9/Q2k4g9wb0/AkRV/ptRdAdzA4LTjUVIlERzVQf7UxSrajFShjsJpQba5GrK4XVYWPZllaixk1pizE7eizOFlxFt2U40kCrG//8rzPU05EZOqvPgjipaqhTuqoL/xdvEoEJEVfw4OO+2maLw8ArnjzdXr/egwztqMGKjOmCbTeR11wDs92KIdo4SPxcbXfrfkjDItwDI3pCnCKBAzj915NlpbegLJuC967anTjdfArZuiyM0I7CxQmX4Ja0P2Ft5RqsqFiGX0t/glaixSjtaIRLw5GkTMbJpuOoMJV3CuTuwtAwzXmoMJ7ySSFCRRKSWNGg5LZwOlxe5STramo0YNOGE0yz+AXfap1nBdS6P0x7HvJ1e30qGDVYKlBiPI70kEkBvyBIWnhH+qUw2Eyt90PajaRYsTns7MdC2XmJsYoDfrPNwMXRs+vvsY1dAn1RUbVFhDQF06JvDHofgXt7DfZGrC7/D1s2+AvyUCdv8r6gVJxOJ68EN1d9gFNNG/26sNy2zuSv4s05S5/p6VPc7ZS0IOfz0uPK3ImTjeQ2KsAwbULL8518PvtyvQRszRAujcC0qDk+vcZNObTVT0ZKIzEneh4mhk/C8aZjWF2xCvvr96HIUIBrkq/HgtiFPDbu+5Jv8WXR5wiThiFVmYYkZSKONx1FuakcQ0I7F4Do3/3VE7C7Nsan5WGTtZp15dS23/Y9o2JCcesdcyCRirioeeoJ34da/J5A351kY+TxQlypL+3QpMzoHzLRZ+07nR8bq/ajxFjpqpcYqXPYjhUVO6CVhLAiJUSswEd5S73YDif6qcj616W77WswZWg4gg0Vb3O26K+cljxV1GJXW3Yw4daKry1/Ffl6/7JaAmnFyR7Z3wlUfgXxyg9ZVePPLF8CNQOSt763tailxYexoeJ0p79TMlFjauateOzAz5B4UEzRNh6rd8WObwv2YXXZCUiFIjwwZD7LEL1F3+oBO2YnuizUmGswVDOUuXBCg7UBP5f+gFpLLQft+wb+BasqVmBL9WZ8lP8Bbky9GdOjZqDZ1oxlZUvxXfE3uDv9vtaVQ5WpqsvPJMc1cvcjdzmvtxN2tuekQNSWByHnw7deX8N8eFOTETar77Km3xtouUlKiepq7wM5gQKYwVbPAwl8AZ3kW2sOYldt+4npJDskUIPQxQkzUWtpZF15vMKz/wwtW0nhorP51qEayHOdmtKIntDbXUNZ/OLFo67vtl4T2CDeiDXlryHHRyqtY7PbzJhb+6Txx8l0ipEz8aMNq/zqNiWQ8RiPPvRBHpmnq8Hmyqxun7Oj2jXLuCuIhULWkRMUIgnuyJjp9efz63G2XN6ajuLj/A85IEfJojA2bDwmREzkTtBKUyXy9Xn8Mz1yJi6Iu5Apl59Kf8CXhZ/h7gH3YX7MecjV5eBE0wnsqduFWHkcqxboBkABoKvsLyN0Jg7Xr/CpRZemhtAkpLbNLSKxiN0QiSNn06xzSBURLLhtbmmMF6kufOn0JJ+KgWLfqv90DC9NnI2ZUWP4mJLjYYmhCjemLUKEVAO5SIpGq6v9fFb0WFydPN/j+1Sb63H3gZdxNuCWv60o+7ffhULaD2T/Sj/BpieYE7fXY035f9if31+4ujev4D6OvgjiZocOGyvfxYnGDX4HcTKwmxN7F+vGfdnmq9PGYW7cIAQKVM+JV/pWUzprGXmCPIGLmLtrd7HEkHjvTdUbWD5IHDkZcK2vWsdKFXp8SOhQxPCgimJ8Wfg5xoWPZ8khHbR1VWsxUutyJGyyNnLBy1MbNndDyVK56EmGWt6i2VrNGRV5lbsPcHhECC6/aiKkLdTK/n2uzjxaRhkMZjQ2GmAw+KcPPpehlcazt4cvRU86Rq6hHVN9qu6yzYKmf6vWlhQq5cYajA0bhGSVSx++oXKf67ktDUQe3yfohgbd9UAUcmdxnR9t4W70C5nItq/B5sVdXiTVWF32Cgp9bKDrCGoiGxt+SdClsu4bz7qKN5DTTGMK/aNTSNlGToy+2nIQYhUa/jmbOCuBnE2tZBE4L+Z8zrgpO/+88BMY7Absq9+Lgw0HWbHyx7Rb8XPpjzjRdJx/3MjV5/CPG1TgXFXhGk9G70H+6BJIujxg5B/iSyCn4h4VPSmQu74AUFpch0f+8hUEQgEXPal1n44/DZL96L1N+PyTbexhHhN7dg9woEG65YGh09gm2BcOkvZ3x1XN/zLcmTgFcW/9xT0hXjEYc2P/HPTBEbS9NLdyZfnLPim7utrmGTG3Bt10zmX9W8Y68d4UY2n1QDedIVqyDTh3fHh+Fxk5gU5Mav0fpB4MuVDOmfS4sAk8I5SCc4w8Brf1vxMf5b/PChYqak6KmNztCU3v050VAL02TTUGO4Vqn+gB0qATHSMVKJA5KB6PP3Vxu0BGDUChGiUeemwxLBZbJw/z/xW4G6zIStcXi2Carl5tzkWKeHRQtsvssKLJ6rlzj7hxfwtfveHEV5b92y+DJjciZWlYEPcXl0lakIM4Tb5fXf4y9070BmRpMT/uXqiCPAHI5b54ioN4jbmgF+8kwGDN7F41V9WZ9Wi09r7+QtLDSHkIZEKxz/tO3KXrYTMZEQXu5O8fMgCRsu6HVIgFEiyOX8JDKQ43HkK5qQxyoQJTI6ehyFCIGks1wqThLDvsDsWGYkTIIpl68QSyVyV6xZdOz3pLKRosZayn1mpVGDu+n8fnxcb1nSnY2QIF8QTlUG728RbUiFWoP4RkpXeSLl+xrGxbK83SETQevK8KnRRgaPXhap7xbYh1x4C4MP4hhEkTgxwQHew5v7b8dTTZuhYKeHtezI+7nyWSwdxmcmHNbt6BjZXv+DxvoCP6hYzDzOjbWFXj7zZ/kbcbX+T5XxR2g5rZRoYn4h8jL0SUXN37QJ6vz8eH+e8FNIv5U9ptPQZyAu1KtcT1JV7PfrV1GyhbJ1AzkDc7/OqkazEz2jWyzZMmmoowvgRyysZLDScQJet3TrV7nw3QUpRUPFlNW3ykV45wk5X/3iud93uELBRjvNGGq8h1LyaobDk1++TqdmJdxZvcROMvyNdjYfzDQT/XSMt+vHE9Kz38bbtva4Y1L/YeJCqGBm2bXbOEzTxFaVftNz51GXsC8eHzY+/t9fi2GHkoBms899vQ9ZHTXIUmiwmDtHFQiqRdPi9fV4MtldnYVJGFy1O7H3jtVSCnzs00Vb+ABnKV2LfWXNKTUzenv+hutJyLHhjJ8ihfhiaQemVE2AVnqXR27oD2X6JyCBQiDc/p9BZ15mIupnV0lPQG1IJ/RdJcNMbq2FPcjeGaARimSfd+24N07OxOG442rGS/a3/MmdoG8QviH+Hh2sEOiHtqv+fBEP74oLcF8fdzY/7M+utgbjNl3zQUglaC/rgYtkWCYggWxD8IVQBoq8tSR+PSlDPjH9ui2WbGjds+ZrrktXFXIkruOQ46W3Tkzx9diWqT7zdVj4F8oDoDD2c8hkDCVzN/8kyh7SDnQ2qx9tZul7o8vblYtdI4nvZO3KC3qDTlwGzXQdGief//GXQBxMgHIl/vvUSNAhxxx/7oiun5ZGfbGojsdoiELs+UjsfbaLXylSGX+M41+tWE4jBiV+3X2F/3C+x+OhmeoVMeDnoQp5svZeEnGzdxn0RvQN4pJNnLCJ0etEIh0T/kfb6h8m2+BnuLROUwnB/3EEID1FjF9hACz/v6SF0JCnV1mBc/CNEKdYuVhGdoJS7tuj/ps7iroBvsKSo2h407N80OE0x2E9vSUlZzqOEQ1JIQHtzcT9WfnQ9LjS6hfE+gVcR9Ax6AWNhzDZcq6nRAfQnklBEQV/5/gdylXkkNGe1TIKcVXonhODLUZ+yP/UFBXQPe374XD86ZinClAiUNjZCJxYgKcSk7Ptt9kKeN/3n6RFdzi9UKm8MBtcylotieRwU9Aab069peuEZnwOqTWbh05BDIJZJu5Ho12FT5LnO2/uqXCcQrL0x4CNGy9KAGcSpmklSPbJ17C1qRkaKGZKXBCOKulYOFG3x21nzJTUq9gwBpqrGYH3df0AvIbj9y4s8JFyQObzfk5H9GtWJxmPFt8VeoMrcvsHxd/AX/t78qHfcMuJ+fR0GegrTcw0R0gt6mZ8Msq8PqM0e2v+5nry9AyraoUt5X5j8BuxgcDs5eO86vdAU5G+r0Bj7FokNDuMPMm+/moleGcZHIl+aqCuNp3o+9kaZFqpTQmc14fdNOPDp/Oj7bcwh7Cktw38zJmJGehiazGRabK9M8Xl6Flzdsw8DoSDw8dxrvg625hWg0mRCv6bqglF9bj8/2HMTCIRkeAzmrJownsa7yLb/NpNygDHxB/APcVRis84r4+3zdHjaS8rcxqS0om50Xdw9SVWODss20f8nid2v1x2xc11sqRQAhBmlmY2b0rdz40xcrtd9KjmBPTT5GhCdifGRqt59Jz3f0gso+a4FcIpRgVvQcDsIUqLdUb+KCJrXf0xAKokjcqwLq2FwUdyESFO3tcd0gTfmHee3Hy/UEbg6S9+OD6gvPS0u80WGBH8AaLOjNFjyzfCOmpqfiguEZKKxtQHljMyakJfGJ8+mOA1h66ATsDicuGjUYt8+c4PU3C5PEswLIF/lXg7Ucels9v85fhMikeGjuNNzx7VKcKK/CrVPGwWZ34Pm1m6G3WHhtStn/7sIS/GPFBszLTMcNE0a1u5FtOJ2LQyUuVQlZ/tQbDFDJpJzZE+hG4KlG5BrfZcOJxnU8YMGXc8cTSMVzXtx97C8erIDoKhD+it213/jt89IW0fJ0LhLGyAcEfJtdAc3OfQpbqv7L2vbeQiKQY2zEZRgfcTknEH0RxA/Vl+DNUxvZX+VPA6Zx272n59mcDljsNlSbddhQ7rLbVYmlv6dALsW8mPP492ZrM/bW7WZb0vkxC1g6SHAPjaBhFh/kv9clv0Q3APe8UF9AWtdwWRIMBu8vxhpTPiwOE2Rthk2cq6ATRSYRY1ZmP7y6dgcyYiORVVmDH/cfx4CYCPxn7XZcNX445gzqj7zqOryzaTeunzQKarl32TL5UcQpBvkUyKnGQNrq3gRyNvDSajB7YD98e+Coy2XOCTwweype37QDSWFaiIQCvLBmMwfwy0YNhYi4dIGg1aht8bBM3DV9Ev9usdlw53dLcfPEMZjcL4X/llVVg78vX+eRXyYvcZp+5M+UnLag6UnELytF2qAFcaIDN1d9yAqj3me1IrZoIP8UtTgqKEGcujRpJNuxhjW9LsISqN1+evQfebv7ciALRSq5SIJLkkdhUpRn9dH+2iK8dXojakw61Jh1aLaaEC1XY2JUP78+75wHT4SRaFnJ4ulH42e3IBkR+Tr0gFQXNHXk9wDiiV9ctQW1OiPGpMTju31Hcay0EunREciurMXJ8irEadR4f8se1BuMMFmtqNf7JumiAdW+rE4o36KCVXfDNrwBXRijE+OxISsXVrsDESolsqtq2Cp0W24BtuQUoMFoQmWzDh9s38tUSVvIxRKEKeTMsYcpFUwpUaZP/6afUL6Zdf5e1EtQpD/c6yBOIBkmDbkIJqimQ+6dvQ3ihCTlMKZTghHE3agzFzEFFIggLoCQVWbp6kl9PlVreFgi3pt0HW4dOL3LBDRNHYl6s4GDOLX4X5U2Hm9NuBoZoWdGF/4uOju9BXVq/iHlRvYc9wRyUXwj+1W/3pv4bl8MwSkbp1mLNP7sXAedQBmxUXhzw06MSIzDiKQ4DtyJ4RocKirHjZPHcEAva2jGnTOT8NXuwxzQkyO0Xp+wtLx2yTi9X7ITp9ydsZm30CjkSArTMLXyw8FjqGjWYXRSPCQiEc9LHJkQi2qdnoO02eaf/3fH70vt55cmP4PNlR8gl20K/C9wnmjawBko0RTBoFZc1sPDcUnS02woVaQ/2CtJcYnhGMv/yJMkGDyz2yr5kqRnsaXqQ/bn6c3+dcKBHdVfwGw38GALWkH22axb6iAP6b5vJlyqxH/GX8FjCqmj002/BG1m59kGUSvkPU4dn55gtBv9olZc8yhTIBXKfdCTU/t1Dvu1nOsFT7FIiEtGD0FUiBJPLV2PMJUCtToDZ+Xuy/l0RTUyYiKx4uhp6ExmNBq9L1wSQiXR/OMLvVJnLoHNYWo3C9UXUPG2Vm9g+oQy8OQwDf46fyaeXbMJpyuruZBJCX9ebT3GJCXgL7OnBKyiQcec5JMLEx7BgbqfWYvtP+/s5Ka0X0uf5lb8YDQA8TkuTcbihL8xR36wbqnf2S5155LPd6OlgjPzYNjTsg+TNBEXJDyKg3W/Yk/td73S5dtYL/8te7LMjrkjaDRWIIJ9b1ap5wS1QkVNmuoTLYtutwSiLyoXKaAQKdg2gFr2Pf3QeDelSNmlqqU7kAyJWot9AQ1W6E2m0JegAt+0gWm4e85k/HLwBA4UlXGxs6LlR2e2cBb+yY4DmNAvCREhvgVXiUCGaJnLodBbEG/bmyJhdbMe93y/DEV1jTDb7Gg2W1wddNW1HLifOn8O/rFwDjKjI5FX4+qwDOjwZ4GAVyHjI67EBfGPckDrDWiFsrTkGbb67S3l5Amu6ygEU6Nu5MIqnfP+w4kiwyH8WvJPVJqygra9tH/JBndx4uMszewNnHBwE9Hy0udZCROMbQ4EGiwG/FR0kP3zfd3GcyIjpyB874C/8O9ts26JQILb+93JU2G8pWB4kroPoBOGGjGIS/QGtKSkDKcvTZgCEcwXDc/AtuwCKKUS3EnKlDaBrapZj6OlFbhl6ljmz32DALGKDJxoWu/1K0h+qLPR1HD/AmC0WoXUCC12FhShqlmH+35cjgdnT3WpBUrLUaVzeZQTLx6pUiFYoKSDrB7oe6yveIsDnL/+RJQxUqAhGWKw/Ghozi7N+iT/lrUVb3Ag9he0Alta+iwWxD3gl/WrtwleinIULkn6Jzcw9VarX2Q4jN9Kn+OmK7rmA7XNVoedNeNdfQelSAKD3YKj9aVM+XWF4w2lePf0Fn6va9LG//4CuStjkHtexkrDgvvZEPIdPw/dNbYImD4YFDoLgzVzXCfBubGY8RrEG/9h0ijc9vkv2JlXxP9uVTaYLUxREF0xQNCzH46nwcwUJEiW11MTEXHqo8OXIEbufVt9p/cRCDAqMR4rT2RxE9D0/qn4Yu8hllAmh2uYKiIYLTamYToiJdylaukOKqkUIxNjIREJvaICFif8lTXPpLYgCsIfUHMRDaCg4NjW+z6QcNc1Lkr8O/Pm2c3b/Q6OlN2uKPsXzov7S1C3l+oH1E4fWfsjWwr40rfQERWm01he9jyvpAJlSEaywddObvB4Eyfq5JVxV6DU0IB79nzTZcAnOJykBBMitQdu/ZwN5GcbkbKULgNPpCwVQ7XzWSrmpmDOFY7NF9A2D4qPRmZcFAbFRuO6SSP578SJ3/fNMjy2cCYXRP2BVhIHuSi0S6OotgGchiTQKqg3+5Beu2DwAG7o+dfaLbhgSAZ/j2PllYjXqmFtaQaiIF5QV4//7tyPS0YORrjSRRtdNWZ4j59BvPtzi+d3aqLqanvIeIk4WLJ+2Fnzld+GTrQPV5W/zC3k3g7/9RX0nkSvEC+vkcTgQP2vfqtwiCZbVfYyrySCGczJPnpi5NUsMthY+V6vlGOVphz2iV+U8Fc+d3u7zTqbGYX6WkTIVFC0mGLRir3K1AyZSMy/U/v9JcmjOXv3hBJDPbZV5WCQJg6jwpMCY2P7/xNcWX98u4ySZGHxiiEYHnY+n5zBNvUPJkit8fnOg5xtE3QmC7bmFLgm0wnAjTQGi5W5ZvIm8QcUxCggdAzk7QP4BJ75Gaj9qFWQTPAMn09LVvoOtXojSiSuVu4Go5Hb88sam1iiSHB5s3SG27fFDfqdtOfegp5P583Y8EtZnkfZrr91AHcwX5TwKBKC5CZI70kqjqnRN0ItiebmJn+Ltnp7Hc8jXRj/SNBoFjeVRQkVacPXVrzWK9+VSvaLfwmLEh6DWhzZ622mVz80ZD6mx7jkzBaHDbfu/IKbfcjVkEyzunM0/Dx3F6u4Lkwa4bF5qCf8fx/ICSHiSEiESoidDqSFjOXZiPGKTJ4mFCi4ixd9fUOgTyP5HQXsbTmFGBAdgV15RZytKiQS7jy7dPRQVrb4CxpBRuof6nptH8AvagngwZF9kSqHNOCkIX903nQU1NZztj03w1V8/f7gMfZVefy8Wd2OVCWa6ckFsxCnCQ1IsMkMncmTkFaXv8r0gz+gjJMyXSr2UTE5WMFcBAlGhi2GShyG9RVvw+DncGjOzMv/H3vXAd9WfXWP9rBkee8RxytO4uy9FyGbvUeBQqFA6aJQaKGl0MJHmWUV2rI3hBmy997LSew43ntv2dr6fvfKcixZkmVbdhzw4Wdiazw9vXffffd/77nnPs/sGOrN6C87t6eGLov5C8sF2+aKWnu1rbK20zyYgnLmvqBTKsRSaKQ24Su92cSBQKG2Drfsertbqq3eYkKkwh8LInonmDbkyPkE+GNq8HWI95vAaRZ7/ps6TXfXHEKafxKi5L3j+dq6Aduwp+YwQmVBGBcwakCduVQsxtUTR+PNnYcgF4tx87RxyCipwA1TxmJ4aM/YOp4QKkuwOXBFMksY+DoCd4WkkCC8es1Kbq2nT/nL0gXs2O2fSa35M1gYy/MNlNInlG7yFWwyyePZqa0ve67XU4JIzoDmZ66KecyrgcBka6VVjQhQK+CnkDq8vrK2Gc2tOiTGdI0+qSBHkS6trDaUv9jrmw+9j5z5ZdGP+7SY6AzaLq16aPAGtfGfatjQ64YnGqpBqyeiU0rQ++ESBKozmdtrMjRjlm4vSrEE44JiufGrUteE7KZKpGkiECI7r/OT21yFsrZGLIpKQ0gPB0p4dOQkG1nfugYGU991Di4WxNKRMGyDRXoNxEJ/Fhn6vmwzVpesRYBEg2tjV2B26BSe4uHtyaZtnG7MxqdF3yGnpQBBskA8MuJexPn1XI+7LyBWCgljPX3lpQjXqLjhp9Vg6Fgl0P/t38jVd6PX2WMegYvX2BtPKLJJUE3ptwjcvh/2fRCLRAhQ2iIgQlyQYyMTOXX68XbbRhNdfFZIxd6fY3eg91NkSs58bdmzqNLn9mo79L5NFf/CiqhHuh2AUNfYiifeXA+D0YQrFozBkhlpkEltUr7bDp3D0axiPPPAKperE7tGPxVtKeVQZyju1f5Ss9zGipd4O8p+HPdG2yUJ3fnh9/Bqgvj8vZMQtiKraTtU4iBOM9EKpTcgu3zz7E58UXCE/yZLKtbWIUoZgJcmX8e58u+KT+CxY9/i58mzsDhqJL+Oip937/sQjUYdVsaM7XW/g5uInBouPkWzbjd+ShAJNdAoL2FHTkuheWHTUWdowI7qA/hP3ifIbSnE9XGroBJ7jjTJKRgsRvxQvgXflm6CzqJHmn8yVkUvQoTCd5Gf3RFTFOCc4+2MhJBAPHnZIpvWCICbxo7F99tPY7XxJHQGE4wmE4I1frhidjpSY7u2X+uNJrz4+U4Wkvr9dXOhUshczpekH/t7OTqsacLhszaHEKhSYGxSFDR+PYt6WH9DZ4BCKsGGQ2ex5cg53Lx4IsYn+/ZmSMfw7x9sRkl1A/5+1zJEBPUuMnLVcEZ5WCquUV62NyjUHsOu6rexIPxej9OVAv0V+MevVmDP8Tx8+MNhZOZX4rc3zYNcJrGJUREtopv9JSVGKgISG6W3szBp1N22yrd4dmdfo9xu8/wCKaaF3Mg3ud1V7/aK0UKsHSr4EjtmXOCKHkvyioliKJaiSFvHP3ZQVE5zOGnFR13WlMak1Y/WpGf/Qkclq7ECZxrKMSMsEcn+vddHH0qtuAEd0BBpIH6ecB2nVj4s+BqbKnehWl+HuxNvRJDUdYeYPZXyQcFX2F69D2qxCjfEXYa5YVMhF/pWea1Rq8MHGw6juVWP3183j6Mvd9/F/rl6gxHf7z6N3NIavsApP0wsjx3H85CRW45///5q+Ps5UkEpv34gswg6gxEG4yzARZDr6nt9t+c0/veDTY9ZKBRg8ohYPHvPii43AjpmVfUtvA0/uRRSiQgikU29mT77yfc2QSmXQimTYMfxXMwYPQxxYZ5lBCRiEdRK74833ROLqxqQW1bbwXrxBejzieZGdDeivfWuQGfFqYZNzKAaH7jKpaOhY5hfVsffefnsUZxCefSVNZiYFotLpqXya+hGXNeohaCdekm1E3+Vo6NlVVBZAq8Afih7BtX6/F59b2rACZRGYXrITSy21X8gJynm40IrQWK09KZoS6yd3dXvsZhbgt/kHl2n8yNHID0wuguT5a3sXXxe7DrkE4PiEaHwx7s5+zA/YgS36BNTxU8iY3EtuiH0FkOOvFsmghizQ6YgQh6K13M+wLGGU3jl3Lv4VfJtXZw5nTSKvt/J/xw7qw8i3i8adw+/CYmq/hlGS1H4idxynMovx5SR8Vg4IYnzdHlldWhoacOE5Gh2iM4FwkdvXgi5VMIpBJFIgDa9Cb96+SucK6lBdnE1Jo2I9cn+jRoWjj/dshB6oxnvrT+E4+fKUFLdiBFxjquSVr0RD7+5BqXVjVD7yRGsViI0QIXwIDX8lTIcyirmCHliagyvKP61ehf+/d0+j59NEfs/7loGscjx/ND3yyqqwpjEKCREeq4R0E2Ebl7240ZKkr05jzZnTtN/HuaGlJpeOEfippNuCDlz0iNx3o9WnQH/+mQniivqERsRiPGp0fzvloPZmDnOpqZ3MrsM9/zj847CW3xkIP5+/4ouAYB9JUFt8mtKn+5VZE5R7uHa1dw8l+o/t9/rQkKBCKM0i5mgQM1ZeoutKawnoPfQe6+IeYK/v7f77C+R8w+veqxWnG4sYwnbfdV5GKWJ4mYgisZPNZSisq0Js8KSoJbIbKvjhKm4Jn4iQmQq/ruDFNFDYsSQI/cCdECTVQn4bcqdePnc2zjdlM2pFnLmfuLOFDgzvixei13VBzFcFYdfJ9/BN4D+MmKVQoq7VkzD71/7Dh9tOoLpo+J5GffU+5s4urxuwTh22N3Dlh8mx1VQUccO09M+0xJ90+FsVNR5ni3I0eH0kRz1U4plT0aBy2i3obmNVwHVDVoUVtSjsq4ZouJqjiBppBvZ9oIJSexICbFhgQgLtM0+LGmPopNjQhAVcl4Fk5y0q6+w62Q+3vh2Lx65aYFHR04X1MZDZ/Fm+w2DvsvtS6fwfvTWmdNoQSrQUTs+dXL2FDpLM0ecJILlPOGGVixP3buMb4ZZ+VXIyClDRW0TTudq8cn6I/z8qMRI/PH2hR3vo1WLRCLyoNESz3UPuvn0Rhec0hzUkUlS0QMxtFwoECLNfx7fqIjR0htnTkM36L2rYv7ME5C82WdbKtWEzMYKrC48ik3lmWgzGTA3PAUPjboUGomCc+Ef5x/kfSPH/scjX3vcJkXos8KT+urIBfCXz4VE1LsGkZ7Dyvl4o9lxcolYGAx/xbwBk4QRCZQQCly3dNuKQVG4P+lneO7smzhafwpflazHjfGXsSwAncwDdcexvmI7wuWhuC/p1n514vZ9mpASjRnpwzjlcORsCWaNSUBceCBO5VfgvfWHOZL0FpTWaGjReVXEXb3jJI5kl9gaZgSunX10iD8WTkyGRGnLE7oCHbeoEH+8cN8qHM0uxW9e+ZZTMA9cNRstbXq89f1+HMws4nRKZmEVf9TNl0zA4sm2dMFHm4/ipS924so56bh67thOx8bd3ntHVaPIKiOvnG8elD8/W1SNd9cfwsz0YV7eHLvClrYYjksjf4s1ZU+7baDqTudnb82HWBRxn0Nhjpt8lDIkx4UiOTYUK2aPxFdbT2LjviysmDMKWw+eg0QiZEYLpbnoP7lc4rHhyb6/SyMfxPelf2cJ5950q9JUostiHrcVa/t5IItAIMQI/7nMYqHoujdplpK2U5xmoQYvTzUJsl3Kie+qPIctFVncgt9mNvI3vD5hMn6TthB+YlsacXN5Fo7WFmFScDykIjE2lJ22pVwEjjZHoMfpdT2BG0cuRJj6Fxg4mJFbfXsXRy4TD0Nc0P9B0MtKcr+olfnF4o6E6/Cvc+9gQ8UOjNKkYHzAKNQa6vFZ0fecivn58OsQo+h7x5jXCodz0rHzRB7WH8xiRzMqIRxr92di1cxRmJLmfZqEorYRsd4XY+VSMR65eSEiAh0Lg1Sc/MeHW7wb59Wqx7e7T2HZtDSMTYxC+vBIZORVcEooJjSAUzH07/jkGHbkBDqu5Iz49/ZtkYOwP+YLkIOjmwmhqVWHO575DI0tOl5R9NaRdx6RtzD8Xqwvf6FXjuZM4xbu+kxV08Dj89+ZUlj/fG8Lymua+O+a+haEBKgQEuDHx+nE2TLc9eRn/DvlxqkwSkXu7vaXpJ5pziWxb3ozN5Pkbw/UfIrZYXdwPru/IeDIfAFMFgNTC3uu9mjFqcaNCJMPx9iA5R6LnzT5/v3cfbwaoOJmqFyNRkMr1pRk8GCJ25NmoM1kxBtndzBzhfTJPy04BJVYhifGrUSA9PyK/s3snTjdUI4nxq7E+OCepTddHlXvlhNmNOm2w2TueVTRZVugcUdduasmSy3qtF/5plgiEMJfPgcSUWjfNkM6H4GjsSRiLr4p3cCplBT1cGyo2IkKXTWuiFmCdM3AzfSkz0lPiEB8eCBO5JRxbpxy0LRs/npXBhccvcX00fFcjOzJvlOe3lUe3tttkBN/9avdKKtpxIPXz8OSqan4xwclfGMKD1ShpkGL25dNRoBK7sCi0bbZqGb22ZzUwWp/TCwW9plCSO9VyGwOm1JO9J3sEVNfQdtOUs/AdJpJWfVOj7VZiGa3p/p9RCnSHIY80D4unjYC2jab4zp4qhBFFee7S1Pjw/DrG23On86Zc1Hb0/4O85vA8y5pcHPPmSE0+mwNopWjkKSaMSDXhlAgRHrApdCZm7Gn5n1YutEBcga9fk/1B7wiIQ16d/u8NHo0M1boxv961nbclTwL4Qp//PvsDryXsw+Hago4Kicq4q2J0zExOA6fFRzinPn4oDh+rT2o+bLwKCQCITtxGjTRE4j74nwrml6HVn8I/QW9qQBFdQ/5ZFsU1SeHfdJnR04gKtGyyAU4VHeSKYnryrdhR/V+RCsisDTClqMbSFAkTSmWr3dmoKiygXO/f7h+XoeT6w61jVp8uOloj9kaRF38y9vrXUzSocYIW2qlO1wyKYX3e82+TMwfn4RpI+MRqFZg+7EcPHfvSrz62yswLOJ8LptcKTn+t9faRM6IsUN4d90hfLn9JP9+6ZRU3LPKNsZtsIKKc8S0INXNkw3retydSDlrEpAiHrU90GExsRHn2RO1ja0OjlypkCAhOvj8aqZ99J03jpWjXM18bvqhifY9bcChqJiad6hLtb/mk7o6xhODruBuVZpZ2lNxMFp9UFqIip+ks+Sqf2J0QBT/UGqFQFH4wogRGBcYi1eytmJ1oW2Yx0hNJO5MnuV2WlBf0WtHTt2PQoF3zRaDA76VndVI1LgkfBbeLfgCX5dsYJ2Wq4Yv48cvhC7LqIQIdmRUrCTHSAVAb0ENJBR1egtyGJfPHo2pIz1PSVIr5R71W5i3HKTGbUsn4+8fbOGc/j9/uRKjEyJw+GwJahpbMS7J5pg66zMTfZFyvQTKX9MqhPL7Qf62ZSr9fjGApA1mhf6Mm2hIi7ynoLmhKf5zENOux0IFzn99vINV9Aj1Ta2ICj0f2RFr5Zf/+KLj76Uz03DNJTbxNG8d46Tgq/jm0xPZ4s43nz01H2BxxG8gFkgG7BjPCLkVzcZqZDf3vC+GuP+UL18Ucb/LfLmna510Vux+h7o6C7S1GCd1PUC+rxD3jb85+AcQ9xfoBE4KGoPVpevRZGxGuCwEU4PGXRAnzpFBQgT+cMM8TE2LYz4xpQUoFaAmzranXbLactpjEuUYNSzC42qCcrD7zxTyNvknpvvVDRUqKSKpadS63fdFk1I4BXTsXClO5JZh6sh47DyZh6PZJUiKdmRn0G93rpiKxZNt4kQfbz6Gl7/chRsWjcfVc22qhheLwBmnb0QaLqp9VfJ4j4uflF8/UPMJImIe50nx8ZFBuOeaWR3P7z2Rj7MFtroCYVhUEO66ioYQ245PRHDPm55oCv2csJ9z52dFL/TMiV9OQnQkCT0Q50nQPqRifvgv0Wis6pUGe2bTVkQpRyJdc2m3+0waKzsrz+G1s9txpqEMqZoIHr78Ye4BPJ2xDq9PvZFfR/n0srYG1lhhWIFWkwFmWFHW2sjpGLVEPjCOXCEdCYO5HFarEVaYYLW2/3DOj2hjtFtmgP+1tDeuWmzdF/y77V8bBmbijrdLSW9APPJ4ZTQyGrMwSpPK0fiFAuXIo4L9mUlCTu2Nb/Zyw9ATt1+KuuZW5gpT040dtLxu1uoxLCKQmSEU1VLHZF55LW+LcuydQUesSavD45xK6TnolDtv0w5q9Ll2/jg89r917NBvXDSBNWKIsnj1vDFdOEuUl6f2fP4e7eeSlqz2xy4mkC2GyZMwM+QWbK54rcf5choETbNDqfBJq5TJo86vksqqG3G2vUBM4OdHxvWpKMxNW+IgLIi4F98U/7XHCo/UeLO3+gNEK0axxv9AOXOVOJiZPt+UPNHjGybt857q9xAhT+6WRvl2zh7U6bUsVzszLAl/GrMM4XI1qtqasbY0gwujFGA1G3W4Z99HDtsiyiI5+F/u/wgPjlrsUS3RJ47cpnlhQrj/LxGuvrvdIVs7OWr6lxx5u0Nv//28syfHb+z43WLVobzxRbQZTzl8jlQchzD1nT7qDLNCazgGi1UPtXxmj9twXYFoh8P8YtiRkyDWhQZFvU+9v5kZIMQGIUdOzULPfLyNI/Uf9mdyg43OaGJut0wiwrzxSczKoNeW1jQy/e8vP7uEo2I7iIJ396rpTAfsC4RCoQPX2w4yZuLAUy78cFYx31CCNUrkltZyAZM48dTtiXYrq6xvRk6pTY+6tskW6Vc3tnQ8RjIAIRrP0sOk/kgpJTtI5taWviFOvdnxOZONy95foP0cqVnEE2xI96MnIMdPjTcJfpMgEzkyUKi7c8HkZL7ZpQ4Lg5KFtHyzv5HyEdy1SayQnubLiUO/v/YTTleIBqiVRdAuP0Dj7qhg21P9dXL+2yvfYgEzGpvnDhVtjVyopAk/5IiJnUK4O3UODtTkY3XRUaQHRHOk7gn293mLHh9FbkE3HENpw9MQCIiHqoCQ+ddKiIS2f4mLLRQqIeJ/7c/Tv9QOLIdIqIZQQO3TEhu1kKKplkDA6dhKhKEIUd0AAXqWm3LeXysMqGn5COWNL/FnRgc8gmC/qwGBuE+FSdoHSqnYm4EuFOg7bjlKrd9W5lvvPpkHjUrBj1MDDDUOkQ4HRb5/vvUSbD6SzWkMKjRuO5aDYH8/dpB7MvJhMpkR69T+TpH0kqkj+HdycKt3ZKC+xTvaHLWBXz47vaOBxx2o4YaKnf9bewBni6pw25LJiA7VoKiqAQ+98T0ig/2R3J7Kef2bPR2NOvbcPuXXP9p0lH+/fNZoZsB4wgcbjuCHvZnnjyGsKKioZ0bMI2+tZdaLHZSHr2poQWiAX7/mcmeG3oKytjNoMp6Por0Btf3ntuxnyp39uijUVuCI6BisicD7hWUArdLjgfcKeieGZUe6ZjgmBtlYWaMDLkVx60lkN+/q8XYyG7ciWT2jx+3wfb5h+i/gY5zR0POVZXHrCRyv/x5Tg6/vss/xfkG4LWkGIhUazI9I5X87v4YmBZHWOEXs0coAvDj5Wo/fm8T5eoJe3A5pJNjnaNHbNDS6BzebtjN9iRJGO0j/khMl2o4EAoEURhf0Q50pB/k197PjFwlUtn/5JkC/q9r/td88lBCSlgnkEAqk7TcJMad+KppeQb2WqtZGDumK6x+H3lSMCP/7+H19MSSN1NbkoDP3LVrtLSwWC/aeKsSzH29lfjMVDimFQlG2rcXcxBE6OfU2gxF/e28js1lC/P0wfdQwtLQZkFdWy8+T87ps1mhujXcH6gD9cscJdno2mqGbF1ptUS9F/tSk1J0jJ9DrPth4hKPyv9+1lM8LpXOIhXMwsxhltTZ+9OQRcZz+IVC7Pd2UxiVFdTh6EudyhwC1EsOjbHNJaWXSsbvt7dW033SzcqYa0s0tLIBsrn9YB/RdAyTRmBJ8PTeycErSS0iEchgtjpTA0rYqfFmylb8Hzbyl09R5nq19Dq64m8dscqxWTl2RndPv5Mhtr5Nysba8LavHzULEJ28xel+Q9xWEAjFmhNANM5OLzD1BgDSatdBdIUkdht+PvIR/d+VP6JHL48Zx5+e+6nwYLOYO7XJfoMeO3GguR2MbzafzFva0C5PSzi9RvViqmi2NaGzb4OZZ+8ESMYOGbwztEb4t2ieHLofRXA2TxTHCsVr1qGn5gFMsatkM9AVKkYINXGvu3XSVvoCc3Mebj+LTrcf5aPzmmjlMRSStFGoIokhy0cRkbDycbeuWvNLW4EKQy8Ssz0E5cupgpNdS483JvEwUlNchMdrz3MAgtQJ/+/kS+CtdF2TIgbz4xU5kFlR6z1WOCEJksBqZRVV8gyGeM/387tq5uO+lr2zCWgBWTB/JFEPChxuPsCNfNDEF18w/39npDpfNHIXl09K6PE5SAL96+RsUVtThhfsvc6l+SNenXSag/1IsC5DdtLN9kHP3IP38eWF3I85pLFy6JgnPjX0ADcZm/F/WhwiW+uM3KdezMJPOYsA/sz7mVeRDI26GUiSD0WrGS9mfot7QgodH3AyNxLZKeyd/DU415uG3KdcjVhmGIKl/F0GwqSF083nd65sPOcO5YXdxY9RAF6YF7flySrH8UPqMV81C5F+S1NN5n93pwnf3Pej5eL9gLIhMxQhNJPzEvmVW9cgqKWppbNvsMnoeeNjvBJR7p30zeM0wJOmBmMC/Qi2b1mdDkgllnIPUmto4WhlIDjlF26RKSA7wl5fPwMSUaKbxUYenwWjmouAf3/qB9y+/vJajaDtUcilS48JwKKuI2Sg0jPjR/6zl4/HzZVO7/Wxy1JRXdyeNyiL7XlAaeaWgN/IqgbZF8gLEdKF8tz1yJlohSez+Z81+Psd0nDvTEXk7ThRFgiveL+uLuCi6Gk1Ep+UJFOys7c1AAw1in9BsyvLiLI+NN0KIkeo/B7PDbndoCrJDLVEiVRKHGn0DR9NykQwp6lhIhGJoTTpIhWKYrAIkqWL4tSS7TOqcYkErhquiESLTsBQDSTbTcYn3i0CyOtbNzWchspt2o6j1WLeMF2rSIdlZpci1euhAQCAQYLhqCh+/042bPL6WNM+nhlzHU5To3PRln2li0B9GXQqVROZzPnkPHbkODa3rOd9NaQuKgtH+L6UzLNZWGM1VbrW+KbVisRpsrJb2guh5tko/VpM6IICfbBJiA5+AQuKbST10YdAdm6Rrz49fGBhQzpY0SojhoZTbHA/phQ+PCsJrX+3B0mlpyC+vYwW/pVPTUFZ7vr2a0jBE19t4KJtFpK6ak86RsE5vREwn7rE7kCbLn/9LjSyeddk755rd4X9rD2LtPlu+urlNzzeoP7yxxuG9y6enISpYwwXZz7YcZ20ZAolsEb7bcwrHzp0XdqKofWZ6Qsd+dNeVSTcR+/nrPOnFHVitpJvJQ70BbS9aOZo7P4n25grkBKnQSE6R1P682YdafQM+KtzAqSGjxYQmo5a/52fFmyEVSjg6rzU0Qm8xYn35PijFtpVWWVv3KRNycNNDbkR5SZbbodMBkii+6dD3Gog2/e5A06wo112oPcpj6lyB5Hznhd+DOJ5D2nfHS+fJl+mUzujZERWIERP0hC2VAcptt/+wMxfBZGlCVdObqNF+xk6/M+Ti4YjQPACZOIFTGxZrG8zWNlgsZFBamDv+bYHF2tLpb/q3lV9v+9Fx9E3sExsrhvKZtDzyfOFRLjxEdSMi/Cnn7rvJJXRnpYhFb6Z9olwiBgy8tFUrHSJbKmimxoaxqh05O8p3L5kygtkrFL3boVHKce38sazNQprm24/ncqPNkimpHqNRYo/cuWIap3W8Aa0KIoI8d3iSZG1SeyqHiooUjRO7hlI9diTFhDCzhFIpdMMprLQ5cLvMLN2wyto1RgiTUs9Hj8RHf2fdIY/ME7ueN9UR/vrOhm5TKKQQefvSyegvJ0MdiXktB6C3dObfC3iWLDmXSLn3sx0p591o1OKL4q43hq9LdnR57JMixyiVHL2nlabt5jMSKepZXSJc+i7J6pnsxDU+mFjvKwjapYUp0qaGn86BJK12SHiL9pnm+Q6WffaZI6fCpEJia8RwBZHQHzGBj8NPNpFZLZRPt4Oof0V1DyPC/wEE+13DOWxnLe+ucKQ12njpRlgstsi/zZiJZt1ONLXtgNnqTlJVwNF3VMCDrLViW0X4DhTh0I/FTr28AKBjR+JST3+4heVcNx05hwA/BXc4EmNlSlocqhtaMG9s4vn9Fgqw+2Q+vt972pbWsFqRFh+Oq+c5al3TtnecyGMmSW/xxfYTDn+TIqLdcRPohnLtPFszD91QHvr3Gswdl4hfXTXLYQQdFRs/23ocY4ZH4q+3L+abxKYj2ax+SIyX+68gWqmggwVjB+XbydG7trH270k8XoORI3GiO1KqyRPiwj0Ptug7tzwRierpONO4uaOwmB6wlCPfnsiraiQq/G30XVy0dPkaF2kqV/sTpQjx2INBq+2JQVcye4b0TQh+okBMC70JozWLef8Hm0MUkE5RwKXcIWuX6aVjOyPk5h6tdgYDfL7GoQg9UHkZ5JIkFNc9Bq2BKGE2QyHnW1L/V7ToDyI64I+QiM4PaHV9wDoXNG1/8ugv41GUNvwDemOejYniBhJRBEJVt3AkLhJ21UrwBUJlwXgw9ReQCaWsfDiQ4DmTZguOnC3m7kYqUlJjj9FohlAqxvULx+PN7/fhwJlCbq4xmR0vWGoeoig22F/JbBVykjQ5iFgfnY8V0Rm/33vG475QPpy23p1sLucno4I7HDn9bTu3go58ODloamKilU7n/UiMCmYhLRrHRhEzKfcRhfKjjUdtkrNSCeu0OGP66GH46LGbPO4XccWJQ0+pm389cLlH5g7Bm5RRX0CrXlLeO9e0m4eDzw69Ayn+sznC9daOjVYTvizehnqDe934AKkK55pLOEfuCXRDuD/5KviJXacGaJ+o8EpDnInaRzNc54bdyc1Og9kZKkWBfJxJN52KsAtotaMgeuXASGf7CuJ+az2WjMLw0Lc4Mq/TfsMpEALlx+tbv0ObMRtxgU/BT9YzHim9liJrYaACZQ1PQ2ug6n5nByWARBSFIL/LEeJ3PaTi2H49KVREGhPQlQXhLdTiEEwNvo4HXjsPQnaHUNn5yJrEpajASQ70/qtmYeWMUSivbcKDr3+H4zmlePXXVyAmLIB55UXt6QgCdXqSE6Q0xvOf7uAbwDN3L0fasK6CRkRpJEfvDkRzfOajraxg+NfbL+2WaujMU3c4Hko5FyOpEcg5AiS9baIi7j9dyKkVcuTU+JOeGMlppKyiShbdct5/crpSlefcJFEOKQqn99I+BHTz+oFpYElmRgjllWnSTk8doslixtaqIyhtrUKgVA2z1cosFip0+ottnPgYZTiymgo4fSITSdhhEwpbKyATSqAWK9FgbIFKrOigJ7rdZwhZCIyYHWMDl0Mm9NyUZUfHVJwLJG+RppnHcge0zxeyCHvBHLnZ0twtgyVMfQef4jrtaoc8ts6YhbyaXyIq4CEoJDYqWU9A1MIIza9R1fzfjiHRElE4AhTLoFEu4miconW9KY+fE4tCIRb2TBpyIEA5OOK1EgwWLU43bsRw1VRoJO650J0xZ+xwLg6SdC1FuZQyofzydQvGc7MP5dAlIiEyCys5V2yHn0KGK2enY/GkVJzKq2ANlV+snNYlN8z62aEBDvlqZ1Bqhj6zVipGalyox9d2B0oHEfWPG5qcnqMInbjilCaheoD9MRppRxE5qf31GtR6rpDx9+hJC7vO3IJzTTvddAoKEOs3lseG9ZbzTAU52+713rkEyTR4dsx9qDc249GTbyA9IAl/SL2Jj11ZWw0ePvEaIhTBaDG2IlVNo9ni8V7+D/CXqKAWK9iJkzPvDraofBj/eOvAyYGSzSeopnBB9EI4UaUokIvHhIvRiRMEVg8JMspJ12q/dMh1E6hgGahciYa2dSisfbBbxoktv+2uOEZpk74sUynLZ7uI7AVYV4gJfAIhquug1Z9Ek86x6CMQyBDidwPEov7Le3oCnYJafQF2VL2JYu1xxPqNw/LoP7W3AvcuoiFHR+kCe66Y6IidmRj0WorK6R3UaGPXMae0Rk9B+fX8slq+oVBR0ixoQXlbJur0NsEs0tQIV5AWTWS3DTW0j1RIJVYNDa5wztfTfvKqTCnvcLjNrTqmUAaq2qff9OJipG3XNbXy51Onq7PGujvU60vwccF9MLhha1wS+TuMDliCC4FWkw4PHHuRm9VeGPdr1Bua8IcTr2JsQDIeSbuVG4QqdLV44NgLmBCYihhFGDZUHGDOeYwyDMfqs7EwfBL2157iHPtrEx/siNh9YvOGQuysfBNF2mN8w1sW/ScoRJTSuricqZWIBuYmVFCTkaGQ/1ZLQhGhGOGVzfd7RE70wNqWT9rz3OfhL1+AQOUKdvTEKOkbdbBdWMsHsOm3uM712R9vNZxAeeMLDs+JBGoEKpYOuCNnWhxM3ACyp+rtju44Muz9NR9idthdXlG1XDkuYp50Zp8Q28RkNaFKl8O5QGoJt78vOkTDP72FsD3vbbIakNm4AUfrvkKDobRT8ZdU/vwxPugKTAq6BiKhe1YM3UjsTBz7MTKbLDz5nZx05+fsoFSIurMkQy+W6vTa7qblXKyoMzThkZNvMMWQcuEZjbn49bEXEe8XietjF/FrqnUNHJ2P0STiZGMu8rRlmB48GtnNpHJYh1BZgA9t3syrmN1s87YiepH2OPZXf4g54b/wGT3Ryl2tBlTpzrXbvG+Ll/btZzVuwdG61Szv68rmJwZdDbGwf6WVLzyh8ycK2128kR32qYb1PPWl07PIqP+BRX5SfSD3af+sXVX/RXbTDgxXT8fM0Nt8RgezRyQ7q97E2cZtLkSUbJ9/oOZDXsZShOrt55bkV+OVv3yNcdOTcMMvFzh8JnG/O0fg9NjpIwXYtS4Dl1w1EYlpXZfqVJTd8s1RtLboseTayagqbeDHImKDIFecv7m5+o70eS2NrSgvqkNAiArh0TaZgMEOoh/GKcO55yFFHcdc8aP1WVygt3PnaWJNhCwY5W013AhE0XlOSylujLsErWYdN7z5zuY/wqmGdV1tvmEtIhSpGNFJM6Yvn6UzN7HNn23ajuGqaZgZRjbvm/SNffs7q95CVuNWtzZP1zfl3UcH2CQn+gtDjvwCgC6eOkMRNpa/gIq2LJcrGrrT76l+B+HyFNZ46K0RcDrCUIotFf9i0R/6rOym7ahqy8assJ8zxY16AHrbkWp34pvKn2fes6fVGQ3fOFT7KYapJvHS0xvoWg3IOlGMsChHp9nc2IYPX9mEpJHRWHj5BHboOadL8cxvP0FtVROKcivxxJu3QerEibeYLVj/+UHUVDZi/MwkPPvgpygvrEV0Qigmz0nFzEtHIz45nFMrdMy5m7lei2N7crBv82mczShGfXUL0qck4E//uvmiuIIoHfKb1Os6CpwUod939DmH14TIAqAQybi4OTp8OL+HGoOo6Ek58r46crvNbyp/gbVZXNkJOfa91e+yzVPrf59s3liKLeWvoJilDqzIbt7BWuRk81Q87qvNkxPfVP4iclv2ebR5S4fNT/ba5nuDPpmhVByFQOXyAe5n7B1kkt4VnPoLRCMzmKmA5P7o0VgtMuxLo/7A7c29MbjS1gxsqXiZBwE4S4muL3sWYwNXYkrIDdyK3JsLh9rId1S+0a0Tt6PRWM4RzKRgz+pv3aGuqgmHd5zFpq+O8Pect2IcPn5tCzvdYSkROHeqFJUl9YhNdD9M2mQwY/aSMTh7ogg5p8vw2Zvb8O2HezFpdgou/9lMRMeHYMu3x7D20/0oK6qFTC5FTEIIJsxMQUJqBEwG00XhyImGmNtS2kEdpK5O587VEw05CGtPn1CenJwcRfCH6zJRZ2iGX3unZ19AxVu9WeuVzS+Jeqj3Nt92ClvKyebPN8DZbW9D2T9R0UebN1l12F75726d+PnPrUBm42ZMdqGa6Cv0ygxNljo06/ZwHijYz1ZVH/SwAk26XdCZcr1/CwnAt+px8lwZz7WMiwjEyOERfR/sCwFH2Qsjf401JU+hzYM4f07LXgxv3t3j5abFasbZpm3YWfmWW/F/Egw6Urca1fo8zA+/F4HS2B5/xtHa1bx07UmdhIw6PXAZ5FzYsqGqvAGl+V3bwUsLamC1WFFX3YRje3M61BYpDX7pNZPx6b+34X/PruUo/Ni+HIyZMhyLr5qEf/7hM+SfLUfM8K46JHaERGpw3d3zOGXSUNuCkwfysPnrI9i/5QwO78xGcJgapYW1CI8KwA2/XIgZl4xCVHwwZO1yCLTdev15SudgBfHIH8t4q0O9kEBUwjAEIrOpgNMoFIkTynW1aDPrORVjL2wGSv1ZLKun0qpdbF4ShUVs8096HEhBDpLqRmmaRb2w+e3tNl/v2eZ1uZgXcS+CekjrZJuv+4qvrZ7Z/BakBy7nvPmgceSthuPIqb4VFyesXjtx0vF46n8bWcHPrquxaHIKfnfTfIfOwd6A25oV6ZgVdge2ehC6p6XZgZqPEascC5XEsyKhsxD+sbpvvZjgYkWR9ii+LX4c8yPuR7zfBK9493R8KFVzpO7LHne01hlKUNJ6EomdJqrv23wGb/3jexd7R7I8Vk5tnNjX9SY8a0k6TuzPxUevbuF9WrBqPMJjAiFTSFBf6x1lTiQSIDjMH/NWjMXMxaPw7Qd78e7z61Gcp4Nao8ADT16JsdMSL1p6GqVUbh22lLVUPivajDT/BCyNnIazzUV4r2Adhikj8OCIG9lhkx4L/ZCjJ00W+3deGTULSlHfonJbh+hoTm9sYZvvnCN3tPmDtZ+womNPbf4423x3N1crC3yRzS9gm5/otc2T3R6u7bnNUyG0RHsCSepZ/WJDfVgYXph29IECUff+9ekOlFY34OFbFzKtbvvRHHyy8ShH5retmNLnE2JrRliIyrZsnGxY4/Z19YZiHK//jguU3jY3ET99VcxfcLD2U5xu2NCtXCelWtaWPs03llEBl3bbQUht2MS0IR5wT0EsJYq4hqumd+QpR02Mx88fWtbltTUVjfjug70YnhbFjrYz6J3jZiRh8twRePnPq6FUyTFq0jCIJSI8+vJNGD3JJprlCfU1LZBIRfBT25xUXXUzF0MlMjEXWOkm8fqT3+H3z1yDlPT+GZzb35CLpJgbNp7z3Z8Xb0WUIhiLwidjduhYds5flmxjfZV7k67syBqHy4IQqWjvvgVJvyp84oBoGyM0CzhffaK+643bDmqZP17/LWaG3t4jm18Z8xfOSZ9im/esB0SplvM2v6R7m7fYbd71/Nlubb55JxIpP++TiWeOuAgyfBcGlXXNOHGuDDctmYiVs21KiUmxIcgqqMKuY7m4cclEn2hTk0DPtNCbUaHLYmqgOxCzhZy+t0tBeo2fOJgFliji2F31vy45Q2foLc3YXvkGWkw1nM+TuMlRUmRCDAOaMO4OYoEcCarJKGg55FKOtbT1FKeUaP4jgYqWxDKhwiY5bzvMJjN7bLlSgtBIokjavjsVNylKVvnTJCRAJBbCoDexI04bF8cRdnfHifLsr/6Vuo6Bux5ejqRR0fjk9a0oyavGzQ9cgitvn43dGzLwxpPfcVH0z6/czPn3iy0qJ9nar0q2c1MPdRDna8vxKQtjCTAmIJEd/NbKIxy5ZzXbhi1QJyjpq9hxuD6L0zCLIiZzF2hfbX5qyM1c9CRqoCebH+G/kBuqvLf5IMwNJ332CV7afAvnu202f4NHmz9Vv87j8GbK6VNjU4H2sEsVyLLW02g1NUAlsckz+xJDjtxD2zkVhKjD0A5qg6eUSl2Tlpf7vgAZH1HyZobegTWlT7qVASWnd6zuG14KentHt+mYiJl6FSofjj1V7zL90NOAX1ruHqr5lKvys0J/DonQMRJjFoexAifqv3ObpmKJ0JAbMSHoSmYpZLmQY6VlMOUp/VSOs06/fnc3dq07eT4X3v6/jIP5OHUov+MxmUyC5z65h28AlFs36Gj+qxVrPz2A1DGxXjX0KJQyjrq/emcXnrz/A6y4cTo77vQpw3HZLTM4UqdVgK7NgH8/9R3+/dT3ePz1Wzui98EOm23JQKOGvyu1dT8rRHKUt9Xii+JtfE+8LnYhroqZh6P1ZzkqV4ikHKXvrz3NP51BxdDZoeP67Mht+xXAKZbvS57wYPONOF5PNv+rXtp8IvZWvct58+5t/jO0mZowK+xOSF3YfFO7zbuTqhZ02PxV2Fz+IjKbtnR5jdZUj2p97oVw5CSyn8ga4j9miFgTwpGwHxqoQmx4IL7dmYGxKdE8uebo2RIcyizCwknJkPpwUgwZDeUDR2ouaXeQrkFNFMQyCZEl9LjZRS0OwyWRv0GkIg37az7gi8QdiBN7sv4HHh82L/yXkDpoZlA0/gNHMO5APPXxQZdz0xFdUFkuCkO01KSoPN5vkuN3sVrZgd5w70KEhGtQWVqPT/+9lZ3zkmtssrEbvjyMc6dKzuct82lfrMztPrQjC+VFtYhJOE/1otfo24xcUO3M/VaoZLjxvoWIjAvmqPuDVzbxDVrbrMPrT37b8TqjwQyJVMwc9TPHCpmmeDGAeOKPj7qDNVfcgVIm1OFJBU9qGPrDiJvc5sKpWcsX7BUCnXOq+4zSLOYUijtkd9i85+n1rm0+FIvI5pVp2Ff9frc2T6tMWj3OC7/XSSfGtgL1NM6OZDU6bF5NNr+1i9O32XwGhvXDnFKP3ojubHFBT7svEPJwiIsjV853dA8Hz3nAM2l+3H3lDC52/vKZz1lEiUaNUX78pqXkfHy9f0LuesxvOch3f3c5OmqkIOfa0zZmMhxa+o0NXMHR+daKV1Gjt+nQuAKdV2KXUJWeVgF2Z06DgYk+6A508VBekz6LXk+fRRGOq1w6cejpAnKepE6pEkqpmEhWgFIr7YMf6G/b7442V15cy3lxiqg/+/dW7N+aiavuOK8jTSmX/z77A3ZvOIXLbpnJf9tBkfuClePQptXjP0+vgdFiRu6ZUuRllnU9hkIB3xCogai3UgADCeq4JX54d6Ab3X3JVyFEqkGYPMg2KWlA9k+EicFXs81Tvtpd6oOc6Lzw+3rM+xawzUsxJmA5Bz/bKl7jiNizzVPR3Iz5Eb/qcObkwOlxT7n5mWF3cDrRpjczHBKh0mUuvaLtrEub719HzssU962lTfo9qGh8acAn4/QmJxcT9DePWuquvvuMMQl48beXY/3+LNQ0aLFs5kj+IXU/X1/EHEFIwjAh6ArsqPy322N6rnkXpyw00shefo4QUYpRuCz2CWyvIP73frc3Y9oHolkR/5foiZRmoWYid9E43YwmB1/n0MxBOUulOBAGQ6vLgpbe3AKl2NHZkMMmTnjHfliBrONFzPe2/y2ViTsafCinTo0/U+amYscPJ7B/6xmsunl6RzMQOd1RE4fh5MF8fPjqZnYHQWE26qNdYfHSqydxlE/0w+U3TMPspWO6ug0BEBTqj3eeW4eVN89AWNSF0ebxNej7j9YMvyCfTSvF8R0279oOScqXUhYBUu+E5NzZ/KrYJ7jnIbd5n4cA1Iqspu3tNn8f2/zZph0ebZ56IoI6UXfJ5v3Y5rUubZ6IAvS8L9Gn24LJXMva4gMzpq33oJuRxdI9Fc0ZFJmMGBbOPx3b6sdohSv6/gu54u4uWqbcMi03+9JQY0+1UKMRpVkonUNdl+6cOUXmFFVTE4W78WMEStuM0Cx02C+a8E6fRd2lzmg1N3IDiLMjpzTGzx9ayt2clCZ557n1GDkxHpffOpOfJ3pg5rHCDqffWKeFwk+G0MgAdth7Np5CbWUTp0zs26OGoVETE/DW02uwd/Npjsq1TW18I3jn+fW8zxSVC4RCHNmdzdtTquhHDqWfDAo/KT+26evD+Po96qGAS5bNEHrHYjndsJ77GVyB6ITkTKf0oaFG0J5qWRz5IPZLPmy3eXca7GTzW9iJU96btFTcgYSxKCXaxeYlYR3DKjqDuqDJ5geVI/8pYKCXz9QkQzlB4pa7ixoo5zwmcAVkIr8+fS+pUMkFTVoaUg7R3bBf2o+T9WvQYChDvd6xQ9QOimBomUzbdPgciKCRhKPYTZGJOk6pJdv5OFOumpxsx3Bnqy29wr+2i2Id3X0OO344yRG5OkDJRUliskTGBiEozLHxgtM8kRr85u9XQa6UYut3x/D2c+ux+MqJvB2jwQRti44/s7q8Aes+P8hiXWazbSg0LQPMZivvV1CommUBhuAbyIVk85dxB7I7m6eVIY1lk7EiaO9w3ubv6GTzrguttB+kd9RoKGcVT3crfRLE6mrzQvhLzgd/XWxeX8Q6Sr70LUOOfJCBTm6yehaO1X3tljpFhlDedqZrobAddkdHEQc5ZypaUt5PLJTzjcLOl+VmGIGEl7ZykT8vbykn6QqU1yvQHnK731GKke2NFV33h6ITdyD5XmeQU6XImb9L+/9OHsxDxqE8h9QKRc5UgCSH29LUhgdv+DeCw/25LX/nupNYuGo8hJ3YK0xPU8tx9yMruJOTOjiHj4jES1/cx86atvfeixvYWRP9cNz0RN425cXpOeoilSrF+MUjKy5KGuJgBVN71TO4Y7LOYFtpOYMCiLK2M24LhVa3Ni9rt3mxk81fzl2WRLftrc3TJCHSDXK1P+4cOaFW7/o7DjJHLkKQchXEIvcXb39CbypEY9t6XMwgp0qccRLNcgWiUp1r3s2O0170JH6w3tLKKYzKtrOo0GVzIxGlYkgrm4yalnzBsgSkByzDcPVUNmh70WmkZhEkQhl33BH1sCegCCQ9YLlbbQyVB7EgukApfUPVGHKmi66ciNGTzzfy0LcTS8RcYOxc5KQiJfG+K0rq8NKj1AwkQ3RCCKpK67F34ylmnlCXp8MQAx3N5LRCpVHgnj+txGN3vo3vP9qHmYttQllLrp6MiJggPP/w53j3hQ245YFFnC8/uucc1nyy33YTeHQFZl06esiJ94PNj9QsxO7qt10+b5O+3YVhfpM62TwNptBy1yTxu6mxjoIf1za/lBlUdgllsnm6xsjRk6Bcr2w+0IPNi913pNJ1SRG/LxuDfD+zEyKEqm+Hn2wcLgQaWjehsW3DgOTt7XriZouxC9+6L6DtpPjP4QjFHWWKBlBQ0UQh1vB+UNcYLRWbjVWsnOgKNJG9xVSLktYTGBd4GWaE/owN2faZQiSrZ/P521xBwwjcz3l0RpAszm1kYmvSCGTDd7VsbjRW8nKTJj5RF+X7L250GAZMbBRqkSdxrIyDjjlUoiSSuJVQJEDKmFg8+tKNLJpFaob+gX4Ok36a6luZUthUr8UvH7sMscNDcdvvliA3swyBoWrbLNhmHfKyymAwmNDaosPbz61DQ50W81eM4x+SAxgxJpbZKz9V9KfNJ7fbvDtZCbJbyjFTTYX2gwr/e6vfQ7Ox0iubHxu4CjNCb+OA5bzNz+IV6ia2ee+dORU3SdGwNzbf1GHzisEckVuhN+V34WUPFAxm1zlcX8MmKq9n50lSmVSkpOG4tjtx36lp/pII5pbbBKm6otlYzcWhWJHthlnYcsRlccUVaPlJqRuqrhMDxt4CTf/SEtdiNWJzxb+8bkVO9Z/HSnLuQJPJKQJyNcmdGp3ocyhy0ja3sSMNCFEjIFjFuW+dVg99mwGVJXXIz65A9DAbrbC0oJrz4jz02WLjnpPTLzpXiTf/sYYLkXFJjqtCep4ai/7+wId4+PkbMHtpOv8QT5zSLJ+9tR3nMkqYjXL1nXNwaMdZrP7vTk713PLrS1gs66cciZ+3+Q9Q3HqMbT7ZfzbPnfWNzYdzR6arBjJCs7EG1bo8vi4IhVqyee+ud7L543XfsM1PDLrKweZJytkMIzaXv+y1zaf4z+Xcfm9snro79eZWvhEOWkdOU3oKa//gkbPdr+AD17/RuH3WIInWE6+b7rpVulwcq/uKDZuq2EGy+B5NPHcG3c3JWIih4uquTlERNRfEKsexyJCzTG13oKXq4dovkKCaiiBZ7PnPpSjFfy5HMpQzdxfp2EEOPEk90+P3JD4upXE6swSoQEQV/xH+87vcBFbcMA1X/XwO3njqO2z95vx0KrlCikdfvJF1UH53/Ru272G28qg5qVTMhcqd6zNQWtiVKuYfqMSvnriCm4yok/PFR77AY6/fitAIDdZ9doCZK+SwieFy+4NLMXtJOhasHI9/PvQZvn1/DyQSMW66fyE//1OEzebbsLvqv8hgmzezzR/tZPPBPrB5isqJoeJqahjZPIlWkSOn3+vcFN492fyR2i+5eYdWkXbYIvM5LLFrs3l99zbv71n8Sioim5e6tXnbGEffoV+s0grDYGck9ho2UXnSJHmdK+nn+d5Wbhwgwyb6IKkI0iScaOXojkaBnivFjWQxelqKuUJZ22k2TnK6lFLpKYjWdaZxU7sw0fn9oxmDJCJEucYDNZ94HMUXpRzFkryeQJEHNWaYBAbWiiHHTz+0PCW2i/OxIUdMeenOmisEctSnjxZwZG1vDiIZBcrEkHM/c7QQu9dnICU9FqMnOQ4Apt8poiZnTA6bnPO7L6zHb566GnOXj+WJQZQ7//Bfm7jgSZ2hpDn+239cjad+9SG+ensnVBo5rrhtttfzPH8s4M5YSzO2VbyBsw4di1a0mKo5gCFhNnKwNAmHbF7SB5v3l4SyDIQrUJGfbd5MNu958Ls7m6dhz8TWcrb50QGXttv8xx5tnmi21CvhCdIOm9eznZ+3+TiXNt9X/DTDiz4YNOXvSLTek6g8Lc8of0fNNkStIzVBKrTQcovg7Umk10cr09HU6NpgKSKhm4rWVNujnHZn5DXv4yYeZyojzU0krjpRDt0tdQnECOiu446MenTAMr7A6SKgyMTTMdj67TFs++44H29Kmdih1xnx+t9s7dz2NLqlPbXS0tiGN59ew072Z79dzJxvl/QzmYTb8vPPVmD3+lOYdWk6pi8ciRvuXcDbpKifPuOlP6/GY6/czC39D/ztSvzf7z9BRXEd3wREiguTNrwQsE2AauCCYE7zXo82n9O8G/ktBxAmT2anaLP5gB7avD/bfGOja0dOK0/KZZNuCeXLe4O85v3MSXemMpKDnRR8TbvNb/FYmO3u29CNzHZTG9Vu851b/n0PHzjyiyFn6JsZfRR9bCx/EUXaI169h5ZVFDVTFKGRRvGSigZEUFcmLSO7P7ECphja2oO7XkBUCKV2fmqbd06BUDWdImVqkae0BlX8XdGsGozlfHEQlcoZtA1qPSZNFPuQXGfkNNmGXrijHtojciqs8jfy8J2JhULpj87flAqW1NhD7feT5znuIykckvOlc6MJVvHkHk2QH9Ine9blIPYJOfvH7nwH37y7GxNnJkOmoMG8wILLxqM4rwqr396Ft/+5Dr975hokj47GM+/dhcAQNass/lRgs/kaFj6jfLS3Nk/2ThPlaT7mCM18njtLXZk9s/nNLrubyYkTt5sKmK5tPorFsigazmab7xrgULRPFN5I5cguz9E2ZoXdjtK2DLer3NzmPSjULmAGTV9t/oI58s6MApVsEhJCXsPghxAycYLDvvf84NKsy12o0RFzgt7rfe6IDJJogTSIlTSYKVKhKJ2i9c7T7J1Bj9MwWsoxu3LCdNEQJ9WWeiEKn5CdNxUsE9UzESyLg0Sg4Bx7m6mhfRXhvA0D07ZcNSjYJBpsr3EH4uzuq/mA97PzxB/n7XiDyNhgRF7nWhlu4mzX2y4rrGGa4bhpiUwj9ObzmCExOgbLb5wGOU376fR6sViEa+6cyzrlRDMkHrqtmejH0Y7fM9iYITX6/N7ZvLGzzU/ldJ33Nq9ibSF3Nm9rmbfbfBSnLUjrO1gaz06Ubd7ciJzmPS62YWAJ5ghFmkubp+9KrBxPNr+/+gNEss27nvgz0EXxHjtys7UJFY2vwGLtubj6hUSzbif/KxT4IULzAMSCno5cEnATARkMLR+JTUJayt0VA51BxnW6cQO/n1INlEeP85vopLZ2HsQIoHwc6ZW7At1YaIlJ1f5Rmks5MrY71I7tWYXw96DN4k5IiG58tfoitHWTtiHe+pmGjRjPDJiBNWCK1n/11Crudj1a51orOkyehBjlGMecqFCAm3+1qGPIcmcQG4Y6QF09N9gYJNT44grk4Kig5u1QBtcQME2VJjmRsNV5m/dcDHRt8xu5iEk1FUo5xHuweWJ+BchiOKp3BbqxkEZPrJJy8nab9+9q85IIt/vkSfufovXuqIiVurNcC6POzsFgIz125BZLK+q0X/LczosRYmEwwtR3AsKeOXJbdCqCRhrBfFSKqMmosxq3cS6clno9iVjoYqDlapH2OFf7qSGHKvbOVC6qfIcpkt06cmqGmBP+C2gkkR4jHY0Ho67XlzALQASJS7U2T4UfAkU/x+q/4Uo+6aoMpGHTZ5ktBhys+QSNxq6KhQQ6X+TInd9H0be7bbp7bjCBZBNo/qQrEI/5ythnoBD3fkako82v7GTzW3nYtj0q7onN01jBYu0JXi0S08VGXwx1snkJwuXJbh050Wznht/DNk3Xh6A3Nm9wbfN0g6zQ2RQKu1txkPxuinoOdy5faGc+VOzsBeikUTGD5g+SqtoU0w3szCmXTXd6T6kIZ5CTJIGsnVX/sVG51LMxMoCoXMOYykWIkKfgpJv3E1OGDEkslHrcX+Lodh6+2xl0QVJkJxI5GTUsHieidAaldzLq17bnBS98hNIZ7sWRLm4QHZAK3a5gS4RYfGzzMrZ3YpbYbZ4EpSp7ZfP5nWx+VrvNJ3TYPKVg3IH45OT87c1snm3edVMOBV5ubb7NO5unHPrJhh94BOOFtvkhR94H2PNpRBEcE7CCIwwaX5XZuAn5LYe42u89bIWlY/Vf8zLURuUi+mI6c9Kdedh2tJkaYTBrmRniCbRcpW24SgUR40VnbumS46bJLd2NyuoM2m/Kg1IkdKEjlJ+CIx8sNk+68mcaN6Og5aAXw75d2fw3nWyemB7pvEq18bANLlM1RLmVihzFqpxBg5ttNt81FaRnm292YfO6Htn8mcaNnN6hwu6FtPkhR+7jKJ2mnsQQZdBYwWmXw7Wfu1UVdIfOVC7Kfc8Nu5uLP66mg1NjEuXIu5s2Tm3NVAQymbteGGTodNMJQGSXqIV4td6CokMy7Okht2IwwSbRSyuRwXNz+THZfIxyrI0ma6zk3goam9Zzm2/lwiSlbOKUE3jWLOX4XdkfBRhk83Qz8QSFyG7zXR250arnDktnjfOe23wdTjds5Nb/gYQzcaPHjlwkVCHc/15Y3Mg/9g4W1Gm/ht7kqIQnFUUjWHUts058BdI3oO/QX7DnFYk9MjZoFRc2jcaeGbVjhb6Al5CU83TlyOk1raaujzuDCkvE0XWl3UKdoa62QXlEk5timjtQeokitf6YS9hbkOTAEDAANh/F9QgqAhrdNPR0B7LFWoPN5pWiIJdO1XubV7bbfNdVAk2+cnU9NRhK3BaQ3YHmc44JXAl1N8GUL9HUpsfGE9lYNWkkD4H36MgtFh0s1q6TXYL9rvbpTlHOrEV3sKsjF8cgRHWzT1XC+POsBpjMjgYiEMjZyftyeeSrLREnlhQEXQnvU06PjN2uIOgOIqEUfuJgl6389F5qsLBPy+HHrFbU6PJd5tRJEpRy8q7Gt1FURqsJuqAHS3qFLnz+Hp2iGF+h++lYVofoydef/mMFpUTIMVbrc3pt82KhFCq2eVepEjc2ry9wmVP3ZPOke5TTvAvjAi8fEJsnldDP9p7Am5sPsDzFtdPHeHbkda1fo7zxRQwEnB0rQas/hqyK5QPy+aGqWxDufz8GDqSQFsT87u4q5PbpJu6gpciim8wBFZE86YJ3jXCsqHWjDe0nCeZq/ZG6L1w8a5soNDJgMaQ+VHfrCyrbzmFd6TP9ov9jNLfCZHFf6DtZvxaF2mPoD7jSch/soGDCK5uH0KO9cqTejc0LemPzbo4pXaupmnmsT9T1BmqbKET03+7y9n0F3WyO5JfgvR1HOBJPjrStAjw6crNFC6O5d0skX2m2DNTnm100H/RnvESO9ZLI3/ISj4yA1OTct9kLPKYq6MLwBp7oWM4pF5PVyK3KrkBRTnrgMuYVU7erM2jlUN56hvP7gyEqpyV0dvOOC/LZxDemnyHYotpFEb/puNkXtR53z9cW2OzMHbwlEmg89E84b8PsyeYlwaxpfrZxGzPFXNk8Db7w1OHsCydeUtuIf3y9DS06A+65ZCrGxkf2Lkc+BN+B9BeIypWgmsKdnzQsIrtpBzckOEcsynbNCldwp1nelY7lyZE7XlDUcOGO2ka0LropEAeYBJOcQRcENejY5EYvvCMfwuCBTKRk2i5peZPTpM5RUvis0xd2sXm7TosrtJm611kRtFMQ3cEWOJ0P623a5a6HLKsl4Xz92DTTV7vM7dtsfkK32kO9deLVTVr89cvNyKmoxZy0BNwyZwJEQlv98KcjHDFIQcZGusUkqzkl+AZcG/88VsQ8zrKatm41m1HImCbl2kCIOuhNvpSiCnf1BnLcnXODtHSlx1whoF0rhia6OM8rtIOanWxNUkMYgjubj223+eewMuYvnK6zCVLZ7FzuweZJsqL7+gQ4qrdz011dN523YbN51x3rARKbzad5sHlqdnJ3I+gLuEmpoRl//nQDDuYUY0RUKB65fD78ZOd7RzxG5BJRKJTSgZj0Y4XemAez1TG1QO30cknSgER1ErEjDelCgKVWRSrWYrFF6WUsWEWFH1YMdNPQQ3RF2+goz/dliupJ1dBk7ZqfpCKOzZGL2HCoaEnpFVegLlLaV2paIpkBat92RqupjqcYpWkWDYr0yhAGJ+w2T7r49iidbF7MNq9wa/PkcG326tnmKaqn64dSmC5tnuYXCEQOk3tcgYXu2ObjmWpJ1GBn0I2gWHsMIzWLfWbzdC1mlVXjyS+3IKO4AglhQXjq+ksRHeTv8BkeHXmgcgUClEt9skOe99aM3Jq7OvRQ7FBIUpEU9hEE7bMl+xO+Zsb4gs5FEYtd95joWDaj7gqiS1msFnQ3gYzE7mk7rni11CVI2xC1b8PW7u6KsSLqWK5SzpOUDwtaDnep9NPFR7xgUr8byuANofc277ozk3jqNJMTAs+2RfLMtB2jWeeSj07pHGrTJ4dJqoqubhoCJ5tPY5s/5GK/bDZPUXtfbZ7nHhhNWHssC69v3I+qxhakRYfhyesWIyXSNiWrMzx+mkAgGhAHR/RD19Ek6S9IILxAY+P6Cl/ckzvrTzDrwoUnN1r03eqhEKh5g3506JpfNFn0nOcDbG3PDYZyl9uwcdqDO/Yt1m+82+EX5W2ZaDHWwl/qPk85UOiPvCXBdjqsF+CTvaE+XpzobPP8u4uvyfbqhQSBRCjjMYKu6kjGDpu3wV2hk2iHjjY/Dv6SMJfDL6izmyQESJ+mp7DTVJt1ehzJK8Une47jUE4Jf/1L0pPw4Kq5iAxQu4z2h0KliwRC0nJ24xJoOUjRdHegCeJk1K5Arfu2DkgbT9fdVCIq0HZua1aKNKwfndHwg0tWAOk6X2hRIZL0JcZBf6DFWIPtlW+4VQQcH3g54lUT++WzSbzK09CPix2eUoVkr67SJc6gmwEFL+6uG29s3tZMp3YY+EI2f7JhTZfX0g2DRjCyzouTzRvNZjRqafVs5clWJrMFepMJWr0RDdo2lNU3Iau0CscLylFU28DPUwrltnmTcNmkkZBL3E8WGiSOXACVbGpHxyXdgap11agxh0OiJS6zbVUgEogQrYiGWDhIdntA4d4RUlTRObJwB0qLuHPkxDSxd0CSgbsr2ijFGqehsQKW9qVRX6Qm5xwx0hKU0i8Xkr2ikYRjmJ/ried9BSlH0pgwd8FxiDyB6x39UgBrO/uT0HXpi80LIILYg83bHTn97s7myXG7svlTjetd7IMVBdpDGMHpFcd9zyqtxu/e/x4GkwUWi8XmzNmh2xw7OXg7xCIhrp85FrfPnYTIQNdReGcMEo8o4Lb/87Bic95/cLD+EATlz3Y8qhKr8NjIxxAkDbogezlYQXm+7hosCGQMnKJxtQ2rqUNcivLl7vi9tMSkgmnnbUYoUngpSS39zihry2Q9c7oBDGHwwr6sd3YY9DilMHhFOIiK1hSNexORCwRCLpx6Y/PuRsdRM1Dn64aOQzjZvCQS9S46pSmlSNcP6Rs57gulaUQQS0WQikXMOvGTS6GSS6GUSiAWiVDdrMXp4go0aHXYn12E2CANt+FrlJ5noA4KR97VeGBzTU4nymQ1ddvu7M4gLwQGKoNJnYUkn2ufCep2f6wWtykAuhHYjZr4tWTYrkAdps5LXplQzcJJrhw5pR5q9flQigeC/TQEV6gzNCGzKR/jAlLgJ1a4vGYKWytQb2ji13RuWa/U1+HjwvW4LvYSRCvdd0kONMhWyea7o/tZYWGBLFegG5SdpWKz+a7t9wSqAXW1eRXi/Ma5dORUFyKZ3jgx9VGcB9EGP/71DRBRA49IyBxw+tc+iYu/l8XKKZYfjmbiq4On8fyaXfjhWBYeWDoT05LjOnjjg9KR+wpkeHu2ZUEkEmDq7BQI3XzpHxuIU/td8V+77UCnG4u7KIacvN2RU+syDWtwBXctzwmqyTjVsK5LJZ/SLSWtJ9nRu7q5Nuv1yKmuRXpkBBs1nUPaT6FAwMvPGm0rgpRKfm4IvUN+SxleOPsxXhj3WwdHTsfabLXgUN0Z/Cfva4gFYvzf2PsRKLUNo6AzsbZsD7ZXH8Wc0PGDypGTzX9f8kQfbd7cJ5undN3J+h/c2nyscpwjRVAkQqCfZ9kKsUiAuJAA3HPJNKycOBLvbD+M7w6fwe/f/wE/XzAZt8wZD5m4a678R3V1NDe14ZP/7cRzf/0Gm74/zuIyPxWQ8VC+z9OPLZ/n+pgQ68Vu1NTI4y5V40rhjZea8lRWaHQF4gU758/tyK+tx2Nrt6DVaGDHsjuvEP/dd5iLQN+fPotr3vkUm7Nz+1F46qcAcsnWLg68uLUSr+d8iWez3ofRYsKtw5ZDI1Gd5y83F2J9xT6MD0hFuiYZPzabt3BEbuzggLu1eRc6R/b0CqVdemrz3oC2T4XORy6fx7xxtUKG1zfswwtrdqHNYOxyPfxoInKz2YLvPjuI3GwbJaiooKZd7e7Cp1guBtgubpuBuOvIpMIR5chdRdaUDwyTJ6Olpet7aVguaT/TEpUq8WVNTbyEJJQ3NkNvNKGovhF+UimadHp8cOg46rSt2JFTgNGR4dianYvFI5KGzmQfQEe70diMAi0V48pwsO40jtRnQWc2YGLgCMhFUnZk3KtgtXKa5T+5X3Mh96b4JZD+GAkGVioy2m3edYqGUiokEufK5imVSSPpWlq6vpdkNuw231uwhopIhMVjktmpP/bpRny+7ySfk98un8WiWXb8KM4OnYh927Ow+qN9HHnMmDsCN9w+G4LuOmSG0AE6bvZOTq3RtVFTkdOd5gsZPA3VoPFfzqDCDzlzGn5R39aGB79Zj8Y2W4MGRd7VWi1++9VaTqeQw5mZEIfvTmUhwl+NmyaNxZpTWVzVF4oGT9PWxQaD2Yi/n3kHBopULWbu7g2XB+Gh1FuRoo7F05nv4T+538Jf7IdEVSz+nfsV8rSl+MXwK5Ckih0UNaf+sHlzR0TuOnihIqcnm4/xG4fcln1dnqPCKSkpks33tZOAjv2omHA8e/MyPPjBD/hs3wlEBfnj5lnjeYj4j8KRU/pkz7ZMvPLMD2hrM2DW/DT86o8r4Kf2XOUdQlfY6IdWtxNSiLpI7dSuQMc6UjnK5XguivRIAZCU4YKUCrx2zUqcKC2HzmRGcX0DPjlyEr+YORkKiYSfHxsVgT+v3YyyhiaMigjD+JhIiH8i9Y7+AhXYpgSPQrIqFtGKMLyd/x38JX4YF5jCHQp3J16BZ7LeZ4ceowxDTksxropZgMUR0/gG+2OFuVM60Z3N06QidzZPondigawLiYBSlUQPJb65L5aS9FlJEcH4y9WL8Jv3vsdbmw6wc5+QYBsxJ/wxROMFuVW8TLr21pn43eOXQROoHHLivYpOTJw3dDd3kRojPM0GDZRG82xQVyCjpqIQVd0lIhH+b/MuvLH7AL4/lYX6Nh0+OnwCL2zbjQ8PH+fXVDa1IL+uHifLKiB3UdwZQs9AvRdXxyzAyqjZGBuQDJnT0GEqcM4MGQOtuQ0F2nLcEr8M18cthuTHmFJxsnlyupQGcQXSOJK4Ecki0FQkd2MWK3RZPh+APS4hCnctnIIWvR7/WreH5WwJF/1ZEhFx/vbZmHfpaETFBPFS46d20VOjT7gi1S1H3BvQ8o8oVVQccsenJQVGirjdgbo+Q+XD23VauuYMid5l6wq1Fd+SQoNt8pwtrRgdEYbC+gZeYbUaDJyCWTwiGWvPZGNmQnx/zIT4CaL92mivk7WadNhXcxKnmvJwpC6TqYYj1MM4J07OnhudfuQ2Lxep2Jm765sge6UJXR5tXpbIMtTOqNMXd7J534BWR1dMGYUtp3JwLL8M64+fxdXT0i9+R06QSESIjR+4eXmDDSSGtTTqj30qrBBogUYGbXAj5UnFHZIfdf9+ASIVI3jUmzMoXUMjsTobNUXa1M1GaT65RAKpSMQ+pra1jduZLx2RhDd2H4TWaIBaZtOAGYLvcK6lGM9mfQC1RIlUdTyzVqjwqRDJBn0wRJHy0qiHPU4A8t7mm93K19LMT29s/lyzo+AfgUbJNRurfOrICdRIRG37ORUbOnjlPwpHPgS6U4s8Gpy3IEU4dxPQqTvTUzaOLn5irlC05EzloqYMmp1IETuBCEWlDU0cmRvMZhTW1aNaS7KiVvzxuw2o07Zhb34R5iUnwGgywyo9P1txCH2P6lZEzsKlEdMRKQ9BtCIUAVLVoOve9AiBrWvTJzZvdW/zCnGAlzYv7kI3pLx5rZ5sPrHP++j8mdOSYvH8LcsxKTFmaELQELpCb3E/g1LphifunCenFEzXUVw0zDkPKeq5MJotWDYqBa0GIxfh5iUNR0VzM+KCAhCoULA40DsHjqK+tQ1HS8qQHBqMeUkJPvqGP02QqNqJhmyUtdnGlClEclC1Q2tqQ3ZzkVtnqRDKkKyOhVL04yUPGHjuquvuT0+TuewIkEZz1E0jBR1Bw5zzYLXO8/mxI+rhlKTzbKIhR94LUNRIdCVSYPMEWq6514OwcVfdSWcSyDgobz2QFxB1zLkTI+pOAsD+GpL4dHTkNHIrjMdlEQ4WluDTIxkIVMqhN5lx76ypeGvvQQQqFezcfztvJkJVfnh40Rx8k5HJXPIfqxMZKFDDz1t5X7voq7ByeovlqVzkxOnx+WGT8EDyddCZGtxKPDjavLtGGFuPgmebV7Hkw8DbvNnlc856Ke7SL6R26OjIHW3e16Djw13QdO6GIvLegdIGm8pfQlnbqW5f606zhLdR9rzLi8eOScHX8iisgQSNv3Kn80xOursLjIqhQbJ4VOqyeblJqRSamJKkntGh6Wy2WjE8JBAPzJmOx9dt4S7DSI0/Hl44G4+t3Qyjxcx0w9MVVfj8WAaWpg2+rsKLDcQ+uSfxKoTJHTsRS1ur8J+8bzAjZAwWR0x1cPSU9lpfvhenG3PRZm7DloqXWKK1bzb/gkebnxh8DaYG34iBt3lzH2xewpODiKVis/mEdpuf2WHzdpDjJcVDSm+5002xg3onqFlOIW3XZXfaztnyGmgUMkQEqIcceW9hsurciux4C87LWbvnuA4UeCoJV+9dTUkRcOThDaj4YzC3YHTAUsQox7AEaGdDlAiFKKxrwONrt9j+FolQ1dzCf1N0SPlzyptTeuXGiWMRpnbN4x2C9yAGSpp/AuL9zg88oBvogdoM7uq8MIb6qQAArLhJREFUJnYhhvtFO5wnsoe8lhLktJR0TKLqd5t3k9a7UDYv97JQGaEYwWyv0QFLuDHO2ebtKK1rwt9Wb8a8kYm4cdY4t/tEDvyDXcdwqrgCT1xzCQKcNFraDCY8++12ph++9vPLhxz5EBzhjoZFBR93zUBdutA0i9mJU9HTlTHPSRyGz2+/nn+nyESjkGNqfEzH3yXtjUD3zprC3Z0/5oaUCwVyFsfrz2JL5SFu+hnmZ2ss6YyfSjpLZ3acFdwbmx+pWYRRAYs5Ivd03EgnhWiDieGOkXrn80LO/pX1e7DhxDn4ySQ4V1GLyYkxDq/ZnHGOtzM1OQ7+CtmQIx+Cd0YtFIg9NgM5j4PzBNZh7jQBnNCZXhjpr8aEmChI2iU+h+Bb2GRry/FG7lcIlwdzByd1dzq/hqC3DOyq8EKgzU3wYrN5981APbF5T7Af68ZWHTacyMZ7O46guLYRERoVHrpsHndvOjv6NzcfgFQiwh3zJ7G2+ZAjH4JXjpx0VhynpPQfKHc4pFrbf2gwtrCsrc6sx+9SbkCQ9PxEdnIUpIqYqy3BueZi7Kg+inhl5I+6w1NvbnH5OFEb+8vm6TgbaMybzoDCmgbsOVuATSfPIb+qniWb540cjjCNigcwd16REhng+TU7UVzbgBtnjsOEBFs67Md7dobQC1jdGjUVdEhTYggXH2KV4bhz+GUIktryvSqxAvPCJrKDpry586onX1uGl7I/hVwoxSjNcNw6bNmP2JFbmbXift5n/9j81lO5yCiuRE1TC2qbW5m9Radh4vAY3Dx7PBJCg/CLt1Zj+5k8HvU2MSGam+Te3HSA35seG4E7F06B6McimnUhQEWQFPUcbgTwBKInZjVucVkgom0k+89xq01CIEEeb0C874yGtayF0hcQS6FGX+C28EqDI9zN/OwJiAmQqpnvMDKuP1GpO4ejdav7Zds0bNc+99EVCluOuL059hXlbWe8eh0xVZZFzuz4WywQ4Yroefy7q7z41ODReHL03QiTBSFEpuFZuWQbKf5k80keP4sE0zL7YvPKUV7b/Kn6dV7lsD2Bvle1Ls/lc3ReTzWs94nNy0X+GKGh2bU2VDW1QKs3IEil5Dx3dnk1p1YevXw+i2NRtoUGSTz//U489OFa/GrJTJTVN+LDXUdtkrZXLUSw6rymlNjbZoIGY4NXk9p9ATq4enNXvip9fr2x3kEk39cgYwuQBrDxugMtucYGrfIq91bQctCNUYswLvByRHtpuN0xaA7UfIT+hN6ixb6a932yrWDZMCT7zx4wR06UOW9oc/2B7OYd/DMY0HkYgafaA7FYxgQkd7kuxgau9Co1l99yyIPNr0K0Mh19BfHZD9R+jP6EwYc2HySNR4r/7I6/l4xLxf2XzoDGT85SFfe9/Q2OF5RzWpFHvwnAGipEQXx1/T488eVm9ozRgRr8/YZLkRoV6jh9yJud0Jl1ePncy6jRe56P50voXXRatZpb8UL2C33W9/UEpUiJR9IeGRrwPIQfHQwWI74t24lYRRimBacPFZIvIGjkW0ywrcGOnHWXgdc0L7WhhVkulDO3GCycD3/0igVIjug66MIrR04RMDUEkCO90KD96E/YJ6QMYQg/Rke+pmw3pgSNZEc+hMEFct5nSipxMLcYB84VMb2QJmUFq/zwy0um48ZZY+GvcC2VMJQjH8IQfmJoNetQoXM9SKEzSAWRhk8MZjnbHxP0RhMe+2wjR+gSsQixwQG4alo6Vk1MQ2xIgMd+iiFHPoQh/MSwu/oEDtWd8cqRr4qagytj5g85834Euef4kECYzVZEBKqREhmC9LgIJEWEQC2XepUCE3ubbvAT+aFN7Dmt0Wpq7aLTIRaIIRf1vOpLeXmTCzYA7Ud/5vYoR+6r7Q9lIIcwWOmI4wNTul3mH2vIxpry3dz5SZH5EHwLOsY2CPDgyjnsd4hO6CCT4FSktsP+ih6xVsgR/yblNx5ZKwaLAS+dewkVOtsUezvGaMbgpvibelSgpJz8B4Uf4HjD8S5O/Hcpv0OgtHs51d6C9lMt8a0QvC+gkgRhWsjNHtQUfUOlO9nwg0v1OmKaEOXSFyBFOeqa6ymcDdpuxCTUNSHoCrfNTP0JYiZlNPzgVhdnhP8CBErPt1cPFKQiGlHmOoBK8x+Gnydc5jFgoWO9tnwPPipcD3M/2pwn+InJ5m+6cDYvJabJXJ98jsLJ5necyUN5Q+/tVSYWYUbqMCwbn8paRV5dTbSs0kg8S5gSXdAVZU8qlCJQEtijKJeMiN7nDNoG7Ud/OvLBClJRmxLSv0qINboCnG7Y0EUgnxAqS8DUkJu8Po90DnOb90AlCUW4PMWr9zW06bD2zFlMjI1GaliIw7bajEbszC3A8dIK1jAfHxOFmQlxrF0uFkoxLugyW+t5XQM2Z+eioqkZ4Wo1D6ZIDAnqyC/a1eeOlZRjX0ExmnV6DAsK4NdFa853OHqLen0JzjRucOPIBcy9TlTPwMUGjg59MLShr47c2eZpFCBFss6Ra29Rqy90a/MhcrL5Gz2qNXax+Za9UImDES5P9bh/1GZf4caR0/czW9rladsbfpxBz2/JyEWo2g8zUuOHcuRDOA8aFOuOo9+TCJoMmppVtlS8wi3OS6MfRoR8RLcXXq1Wi2e37MJDC2c7OHKdyYS/rNuK7efyMTY6gvfwyxOnMSshDn9duhBquYw/k5zz779Zx9FKcmgIDhWV4r2DR/GnxfOwJC2ZP5866GjI8+oTp5EYEowwtR+25+Th3YNH8dTyS1i8y5epu/7sefipgRzcNzszIJeKsXR6mk+2abV2Z/PeBy7lbZnYUv4vXgktiXoYkYo0t7Z06dgU3DJngsvnvth/El8fPI2rp47GFVNGu3wNRfRvbT6AvKraIUfe37jYLmHbxO++OXIyaBpEu7niZZvQvrke60qf6dawPW1vf0ExNmSdw58Xz8OVY2wNVBSdP/z9Bnxy9CTumj6Jo+y39h6Cn1SKt66/jFUTKdr++8bt+L/NO3k4RUyAP3bk5OPjIyfxsynjcd/saRzRlzc243ffrMXf1m/D+zdfhRCV7/LB5CguFOjYFWjLUWdo5L/bzHqmIF6M4Gi3pAbf7z6FZ+5d6bObrcXDlHtS7/R23xqMZdjSYfPA+jK7zY90ua/BaiUXNB23A9Q0tzDtkLo2b54zAQmhrrMZLTo9P04rFNu+DmEI7bB4ik68MGoy6GZTFTaWP4faTq3+jcZyNmyK0nvD0aehzDdOGINLRyRzcwT9zE0ahkUpifg2IxMtegMvNUdFhuHumZNZPZFSKf5yGe6ZNQVtJhM2nc3hbeXU1PLoONI5V0ol/LoojRp3TpvEc0Mp3eJLODsKcuzNrauhN5xAS+t3aNMfgMXS0nFc6F+zpRFt+n1o1n4Oi8U2x9RsroHJVOr1j9lim9D0ZckW/OX0W/zzTNZ7aDT2j1zAQETjn2w6islpcQgL9J0+vbXbiLy799PUo2psLHseNfr8jscbjRVYV/Z/KGs77bXNE+3w3e1HUFTTgCunjsawEO9T0kMR+RB8klohY20yVmJD+T9R5kIDxG7YFKWQhoy3Bkqvm5EQh+kJcahp0eJAYTE79qSQYMwaHo/1mdkobWziVMz9s6exsFB2VQ1qW9sQ6a9ip54UEoQjxaUchd85fRL/q5RKHT4jPiiAbxAFdc5zF/sCGpLhHPFZ0dL6NRSymTAYM9mhC4V+UCmvgVI+H9q2NezgKayTiFMhl06CWByH2sYnoTccdtyS1QSLVQuhgEajOcZkfoqVCPR/mOmD09ubf9rMBvw37xtcjCirbsThzGI8c++KAVyFiryyeQpcXE0LazJWYH2HzY/yaPN0oyIJW0qrJEeG8NCJnqw6hhz5EDrATsdN8ODJqMmgq/V52Fz+AgtUuQMZfUHLIa/FwDob+fensvCvnftQ09LK+suJwUFYPioVJosVlc0t7MjrWtvw9KYd2Jqdx7ckpUSClaNHIEChQFljEw99pvcKXO1/i5afp/f43lF0hUgYitDAX8BiaUCbfi8aml9FfdPzkIhiEKR5FDLpeHbQ9hxtsOYxjtSbtR/BYrVNtDGb66HT74ZcPhEC2G5MIlE41H7XQyi0kRNS/eORinj+vdmoxQeFa3Gxgc7P0bMlUMoliI/oGXHCq+DFTcTsSQuI3kMR+Ca2+Wy3r2syVrHeEjlyT/a9KzMf//ftdkhFYqYi2gSxun4mgeyUpG8p6BK16z0POfIhdMDKcwu9N2rWhIAZuc17sbPqLTQbqzxun8a+EU2wR/vUXsR8auN2jsL/umQB57C3ncvjnLjJbEYzpVasVry4fQ82ns3BbVPGY/GIZDTp9PyajLIKHuZssphxorAcL2zfg2vGjWYnT9QtivRprBwVSSfFRfdo/7rff3c5WBP0hmOQStIgl02BoEUMmSQdJnM5nwOhwJFBIxQGw2ypg9lcCStoHBqdDwNfzFarGUIhNY7IYLbUwGwhTeu4H5WWSmZBJaJCNZDLfHujtTC10V060bXN03WS27yPbZ6CE0+IUaZjfNBVHl9TXNOAp77aCp3RiIdWzcOUxNgu5450ydcfP4vcylpkllThZFEFD2cZFWMb7jzkyPsRgosyRw6vUiu23GANDtV+xvSt7qarEw99UcSvWc7TeS4kwZPT+e5UJqvCPbl8EadJ6LUpYSE8Eu6rE6f5OBPdcPPZXCxLS8Gv5kxnB03bDlercNP7n7efDQEXN89UVOEfG3fgm5OZCFTKkVVVg8qmFtw1YxJGRYb3W0TeOfKjvDhF4eR8RcIgiIQRCAt6Edq2TahteAxhQW9CKnFMQZnNVRCLY6BtW8/vk0snw08RAlgN0BkOwmSugFgUDZXicvyYQIettrEVASqFz8f+WT0Uo51XoXabP1z7Ocvbdm/z8VgY8WuedWs/jzQs4o+Xz8PwTqPeSJb2trkTebV4+eRRELqgHBINcV92EdYey4JMLMbw8CDcPm9iR8F0yJEPwauI3B6dMKfb3Ijsph04Vvc1V+u7Q5A0DkuiHkKA1HG4L6FG24rMiipMbp/Z6QyKtIvqGxEboEF84PmJ5sQlnxIfg28yMrmoSduhoic9Jm6fTk6vJaZKXGAA36RodFykvz80cjnzxinlQvn08dGRWLIoBbMT43m7/eHI6bgZTVkwmgoBqwlCYQBCA19ATcNDaNJ+AKk4BZV1vwSsZpjMVWhp+wZBkvMpKLOlEgKBElLJCFisbWhp/QoQCCETj+LPMFkqIbS0wN/vVggEUk6/iASeez8uJlAJoD/E7CychPMcvNgHNJ8lm6//mllZ3SFIGsu5cWoG62zzGqUcV011FCwTi0S4oX0Qs7sbFQUy91wyFVOSYpASGYqEsCCe59mjzs4h/DTgqXOXDIaYKDnNe5DVtA0NhhKvONLUDLQ48vcckbuKuutaW/GHbzcgPSocV44d2eU+Qi5ZIRGjqrkFBrMZUvF5k6UmIT+pBNEB/swPpyaRxjad03eyjdRKCg3mKF2jkCFK488js/62dBF/B9Z/7qdhw50jPnLidY3/B5O5BCrlVRAI5AhQPwC94TSk0jTIpVMAgRgq5WUQCcPQqtsIpXwhBAIx2nS7OIIXCv1hsdRBJNSgTbcVnUUzBAIJtLr1/LqwoFcgkk3BjwF0WsIC1SiurGe6nUjkwxy51UPwIhB22PzZpm2o95HNu/4sz6+j7QwLDeQfn6gfeitObwfppWjN2h636JssJpefTVK6clPfJ3ZIhDTG6fwdbQj2iNwdBDhe/x1PCXJXwHN8tQjJ6lmYE/4Lngjj7jgnBAXhL0vn49WdB/D42i3c/OOwnfbIe3deIXbkFGDpyBS2JK3BgI1ZOUiPDOeOTHLkFHmvOXMWq9LTEKS0zVo8UlyG4oYm/GLmFH6fjfEShIzySrQY9FBQcdOe3mmPfHxpE/Z4j7aplF8KiTgZNfW/R5tuO8yWKjRrP4PZUo023W4YjXmAgHLdElgszRAKVVDIZrMjF4nCIBaFw2QuhdVKOXLXMJvKIBEnssPvKyIVwSx3S9fKhcbo4RE4cLoQrXoD1Mq+X//e8MgJJ+q/5+lb3tp8knoG5obfDZXYcfCDO7phq96mN04pv+5e7+l5cc+nbxfiUN0hLI1c6pWA1cnGk/jr6b/25GPYkbeYWtwOlvBF6/C80HlYHrkc/QnrRRmRu95rqVCB2WF3skFTTtyTYVNr9aTg65AesJTnfHqyEcoLLk1LwdjoSHbku3IdR83Re1eNTsOmrFw8tWEb88BjAjScD6d2/OcvX8rOmX7umTkFj6/djF9/9QNWjR7B0fmnRzMwPzkB85JssynJhlPDQ/DtqSzc/tFXfBHZEaZS4ZlVi7mpqL9ysBLxcIQGvYzK2rsgkQxHePDbaNK+x45do74PYlEkGppfg9lajmDNsxAIbDckhWwO5NIJKKu+BgKBEQJBVy612VzNbJeQwGfpluRibwQQC4ReKxmO0STzz4UGnbcJqTH473f7kVdaizFJUT672Vo96LhQV/KssJ+zrVNO3JPNK0WBmBxCNr+sW5u342xZNR7+aB3mpCUwU6Uv8NqRk3DOkfoj+LToUx77VqWvwm3DbutWLZDEtGoN3Wsfe+vg6bN9gYEYkiERyFmfxODis4j3q5E4dnZdaJBRu88XiiAVKjE3/B7+Xifqv2PGSmfQ40nqmZgUch0LDvWEKx7lr8ZTyxbh/i+/Z6fcGRRdv3DFUmaWUJs+dXGOjAjDa9esRFr4+ciH2vCpkv/JkRN498Axzp3fPHksM1QoPWP/rHHRkRzlO+dc5S6oib7jKQtgsTajqeVdqBQrEBzwN5jN5ZCI4zh9om37AfVNzyJY8zikkmQEaR6GRHxeo8Z2EyIHTEN65RAKunafWgT17Z8ncnnsSZb24RE/g1qi9Grfe+MsyYmRPol7m49EbxAaoMLCSSnYcCAL6YmRPu7stLqtC9ls/m6IhXKcqPvWpc2Tls7k4Ot6lEohGExmlNQ2oral776oW0dOxk5j1zZUbMC6inUdI9jIqZMq4s1xN0MmGpqu7gok5jQ6YAkuFnhsVxbYln5SAUUpd0AilOFw3ZesGicTqjBMNQljA1chQjGCu0B7eqHR6yP8VfjP9ZdzVd75OWKf/HHRHOhNJs6E0GvoIzp/DqVF5iYO40YhyotT0ZPy4s77MiYqAv+93jWzw+esCOYp2/K8lF6k1AgVNcOCXoNUnIqa+kfYiav9boRIFIq6pqe5CNrZiduho4YgqwlmSzPMcB0cmUz5/EPRvjPEQhHzyi9Gm6djcdX8sXjsrbXIK6tDYnTXcWe+Dl6IckufISGbD72dnfaRui9YII1sPl41CeMCVyJCkdYrm7fDaDKjoVXndRBBxVHqSu5s/906coqoSVJ2f+1+hwudouO9NXt5tuWqqO4HEQ9h8MNT4aezUKZYKMO0kFtYmpMiryT/WVylF6Bv+WV6b5Cf62jRvl15Nw07rBhHPx7SIzZlv4GpjXROrVA6JFjzV9Q1PonahscRFvQvyGQTOVInBx+g/hXnv6vrH0J48P8gEZ9n8hhNRTAYs5h+aC+4WS0t0BtJRGoyF0n5MyCCznCUc+Qikftp9RcjQgP8cOfKadzlSY683yNygcjJ5m+CUqyB3qxFknoWgmQxfLz7ekPZlZWP6170cni6wHYNzB4xDL9cPA0qucw7R0756BgFUbrE7NSdD8L6ivWIVkRjrGYsFw/pxxegVI6rCNFX27/QEp0XX0Qu6hKhjw8839wzVDR2jc55VT5GAjkC/R9ERe1taNVtgVp5A/zkl6Ky7h40tLyOQPWv2QkLnI633pDBDUQCgV9H5GYR0I2Xbp6U3jx/46LtSiVJPzpHTsdvUlqsT7dp9ZAjd+6dEAklGBd4fiXns/SOFZwu9Aa0uqtracKHu44hJSoUl00a6Z0jJwe+OGIx//tlyZddnDn9/Xnx54iSR+HuxLth9JG62hfFXyCjKcPhMcrH/zLxl91qo3sDtXjwDY+40HAv4C/oYtRDjvt8pBatHANTe8rRGcRe6AxKrwiFgdxyj3ZnLRQGISTgSeaPk1P297uty3b8FMvgp1jq8JjFUstO209BQyKc05s/zvPja7uzuA1eyOa7Bnv9YfdU7PzTFQu6tOS7c+TbTufiydVbuCO0R8VOil4XhC1gp/1N6TddRrBRMXN16WrcM/wen+TLKS+vENuq9Z1B1fZIeSSCZb5ZVv0YQMfKYGmF0aJjZglV2ntrbCGyYZgcfH2Xx2lrwbI4XCjkVdRiW0YuBiNso7jcs592CwTYg0NunqXrqPNzRKtzFMbqHpQLdwx4+oJRceGYmvLjau/3BCrKu7V56TAMBIi5FaTy/rodER3K9aDzo+J6wFohZ744fDGajE3YVLmpCzH+ZMNJ7K7ZzQ7/p2IEgwWH6r7Eyfq1mBR0JSYHX9vr7YQrUvhnsCG7rAavrNlz0dE5L0bcNHc8O/KfCsIVyfxzsaNHPHIapHx59OVMPXSep0lLlLUVazFKMwrhsvCfnDOnolZJ6yme4ehL0HGMVozmIos7GC1taDU3wGBpQ3bzbq9aiF2BBj/EKsf85M7dEIbwk3LkdIHLhXLcEHsDD1l2HrRcZ6jDD+U/4GfxP2On/1MC3ch2V7+HUhe6xH0BUaCuiXsGSrGjPoMr0CrpdOMm5LUc6NVnTQ66hh35EIYwGGCbr9oMs9UAiZCGhdgKut4EGtZ2lUKTpYXfJxK4T11QwZNotD3ZfufP4X9hZn14oZtmIHqdVm9kqqEdzW16n60ye+xtaSdDZaG4NuZavJn3Zgev3A7q+pwePB1p6p6P9bqYQUWsNM18RCs9a203GMo5alaLQzHCf063g12J0kev9XYfUtSzECKL72JE55r3sMBVomqa23w3SW4OYQgXCp2VMFlkzNKEY1WPotGQBYU4AhrpCAQrJiFIPg5yUVg7Y8dRSdMKE1qMBahu3Yca3UG0GHIRrJiM9OBHIRLIbdLLVj039ogFNqprVdtenKt/C0Hy8QhVTIe/LBVSYYDtinLjlMl16821aNBnoE53HE2GbJitekwIe5r31RVeWLOTdcftIO0gatP3BXoVNtOXGxMwBrNCZmFL1RaH58ixry1fi0S/xJ9UoxBVuMcFdj+9JL/lEDvVAGkkZofd3qOhxt1CIMAozSVdjI9a7+sMxWgwlmOE/3ykaeb57jOHMIQ+gkfZWdtQpt0ItSQRATLbwOHqtr3Qm2vYaTbpz7LTLGxeDZkoCCGKaYhTX4ZA+TgIQWqPelS37Udh8xeo0x3jSNwmSaBEg46c7TF+T5upDKdrSfpAhLGhf4NYoEBN2360GAtRr89AXuOHkIvDESQbg1DlDN6+QhwJIey0ZyuajbkobPoCla07oDORPrwVIoEMYqEaNW0HEKNa5fIGQPK0VKTs+Lt93qYv0GsvIoQQyyKX4XTT6S4plqzmLGQ0ZmBi4MSfVFQ+hCEMoTewIqfhf8hpeAcaWRqmRrwGiVCDKL/FCFfO4/RKq6kM9boM1LTtY4db2rIG5dpNHEFHq5agpHkNO1ELTJCJQhDuNxuhypkIkI2EXBQOsVDZwetvNuZBayyGRjoSSQF3YETQrzHM/3pUaLcis+5l6EwVKDdXo1S7HhKhP0fq40OfYvGy/MaPkdf4AQyWek73hCvnI1w5m/dbJgpmZ+4Ov1s+G79aMrPj71NFFbj/7W8vrCMnBx0oCWThqXcL3uUGHjvo942VGzFaM5rb+IcwhCEMwT0EiFItRXHzd2jQn0JR82okau7gqJkiZrFQAbk4DIGysUjQ3IBWYzFKWtaiuPkbVLZuR2XrTq5SKcRRGOZ/HaL8LoVCTANCunYaK8UxSAv6DY5W/RH5TZ8gSnUp/CSx/ENpG0p1KsWxGB3yMKpad6OqdRe0xkIYLS04W/86Slt+6FAJDVFMR3rII5AKbcNOPH5DUr+UOXYb+8l9J84m7nOnVeAkph2ebT7r8FyeNo9pitT12VPQUqXe0HUILknbnmo65fNmHqJWjlCPuChSQfbxarQi6i6/PoQhXAwgP0IpFYqOT9f+HwqavkC0agU7Y3tO215EFEAMP8kwpATezfnwnIa32YkTwhQzkKC5kdMcnj4rTDkbIYqpqGrdyVF9ouZ2x7F6AjGCZOMQIp+K5IC70GLMR27juyhpWcNpHXp/pXYHv9dk0WJs6BOQi7qXre1P9DlBKxPKsCRiCXJbch0ahSgq/6r0qx7pkHeGKwF3nUXH0X9vt+kOCpECj498HOEi34z5shVdLN1ob5CB0u+uuyld6ZbYm392Vb+DMFkiRgcs5tcNYQgXO3iak2o5R9lU3KzQbsEw/xtQrz+JzLqX2PHGq6/m9IU9f17Q+BnnrkOU01DbdhjFzd9CJU1Egv8NHoMcek+saiVH3JWtu5CguRmi9uHVzvtEqRWjpZn3Syz0w9jQvyJMMRMN6kxk1DzF+5FV9xI7c0FHHv0idOT0ZUf6j0SKOgVnms50ed6biRo9ha+36W57TcZWZDQUODwfpQhGgp9nnjxNEtla+QarpDlDZ25mJ1+ly8WXxX9yeUsi5zw77A5EKlK7PJfZtI2bf0QCCcxWE8YGLuvybdpMTV0Ezmz7QjcCLbQmx9UO3RjlIqJ3Xdz6MxEBasja5Wr7C42tbWjQOk4hcgad08ggf1Ze7G9UN7XwcAJPIBVI2h9vlB2DVN5J3PYHKL8c538lMmr+gdKW9RyVl7asRaP+DOp0R1HespHTImppEs7UvsAFUoqYkwLu4CLnmdoXkV3/bwTIRnEaxt01So9TQZWcdIshD/W6Y5AIAziFQj3wxD5pMpxjOiIPWm54B2arDhHKWRx5NxlyIBRIkBTwc5ytfw2B8rFoNuRCJFTAT0yDkwc+uPKJ1ZOQFXV0Unqlc678YkehtgqPZ3zQvtKwGcU1sbNwX/JKN9OLGrhN3mjVo1KXw/xXd+PUqHmnSnfO5eeSohpF3q6Q5j8fNfoCduY7q/7LsqGddbX1llasLn4MzabqTjtHq5lm/nVn1f+wt+bDLhrSV8b+7YK24fcVNCDiLzcswpj43ulde4t3th7Gfzce9Pgaupk8e9tyJIQF9uu+0Fn/84cbsP2UZ/mCsAAV/nPfVVAruk8dSsQX7mbOcsXKOcgWvYlmQzYXHUcFP4hIv4XsoGt1Rzm3rZImcLojym8JkgJuh0goR7z6WtTrTqFMu45z2ZPDX+qgF7qCVBQIuSiYGSgHKu6zXd+ctjSyQ99bfkfHay3t13GldjvnzJ056Kdrn+PfqbA6LeItj6mdQe3I7VF5rCIWBa2OE14udlA0qxYrcUvCQihEUgz368oRpcj4ZP0POFL3DRLV0zAj5GbcOOwll/KYJa0Z2Fj+MiLkKVgS9Xu3UbBK3FVPhvXASeg+7K52beSvsKPyLfhLHfeJzNFZAKtD+pRTOk7PsYre4AMPejYYkVtR2+0ajG6zCqkEKi+cVV/2R+aNoxMASln/7guBtDY6TzhyB4rEqbDW3/vjCxA/nKLpitYtqNMfh1qajGD5ZEwOH4FzDf/hAiXREClXLhMFcj7dDilNq4eI0yw1bQcR4eeeZkvRtlQUBBhz4S9N6UjZ9AV+EtKouTCpTp+tQ6njkxqBXDnyAEkANxENVlCeXyp0X0FWiGVYGjkJ/m4mq1BqgqJwioKP13+PQGk0xgYsc3lSGwxlHap5gdKoHvPIbUL3UswIvQVGqw4n6tegSpfT6bsocWXskw462OTY15e/gELtUcwJuwNJqhnOG4VC1PcZj74CDzMxmnAguwjvbzuK43m2YzaEnwKECFFMZkderzvBeXHmgwvVGBH0ACSiAGTXvc6Rc37Tx263ojNXefwUSl8SfZB+S9T8DJF+l3Dh0mBp7PkeCySQs2Qwj/BGf4PSX9dMS0d6XITvHTk5mPGB47lFv8nkqDcSq4zF/Un3M9PCW1Dk2GTQQSPtqoLYW5S3NUEhkiDAaZu07z3ZN2dQVD0x6Aq0mRpxuG419lZ/wBF3uDy5nyrZ1OggxazQ29BkrHJqyRfATxzYJZ1Dr6fnZEI1VJLBqR5pa2M2YH9WET7bfQLH8sscWpqHcPHBflOmdJM31wK9RiMbyQVJyjtTWoMoiVSUjFVfhuH+N0NvqmEnTqPYhgfcyrRDZwTLJ3T3SZyS4eZ6q46DLmpIyqx7ocff0V+aiqkRb0AkHJgVT2SAGn+83HG14dPKULA0GGn+aThQ56j1UdRaxMOUaZqQt8hqqMSjR77HytjRuG74BNTqtdhZkcuPNxl1LguU9NpFUakoa23Evqp8jAqMQoI6CDKhmF/9fMY2TAqJw02Jk/hv2uaZhgqUaBuwInZUn24aZFTTQm5ApS4XRa3HsKf6fayKeQySfsqXkcHLhH6YH3436vTUtVmGVhPNbLT6nNXTn2CGjxWobGhmqdrvD51BdmmN10L7Q+gfdK67OLfBd5ZPtadu3Dlpeu2L3+zClJRYzBuT6NDZ6A7USSkWqaEzV3Mu/FTts2gyZDH9LyXwF1zcJDYLpVjMFh3i1VdBZ65BuXYjDGZbIZ+KpOSsVZJhiPRb1O60HUHpmc45cKlIA5UkET2FUhJjm+XXQ0QF+uM3y2f1uJbi6lj71JGTA5kcNJn1VjqzJpqNzSjUFnIDkbcRaqJ/CH47aj6eP7UVOytyOJqOUmowNigaqZownG6oQKOhDbPCbbMJdWYTDBbb/L2c5hpsKM3Cf7P3IUSmwhXDxmBx9Ah+3mQxo6KtCR/kHMKWsmzIRGL+rEkhsfCXyHsdQdvy136YFfozrC7ORlHrcRRpjyPezzEysOenKd1hshohdLoonPXXPY1P4+q7JAqzwm7DurJ/sobLmIDlCJcnDeqOWruTaNEZcKqwAhuOZWNPZj6qG7VDUrWDBEazBat3n8SMkcMQFxrQYU8k9PSPz7aiqdXG3KEc/YNXzkWcG2fUpjfi4Nli7MssxOSUWPgru28QpJRHsHwis0+UkliMC32SuynLtOtxuuafMAY2MWPkZM2T3G1psRpwpvY5ft4ZlDNvM1Wy83e+JuzU3TZTBTNR/MRx3ODTcwi4SYmajXoSlYdpVPjZ3InwBXzryAUCJKmSECgN5GETdpBTz2nJwbiAcV5vSyIUsZMubW3EE8fW4pakKfhZ0pSO58mxNxt1mBuRZP90aKQ0XVyA2eGJmBAcg2qdFnsqc/FO9gFsLM1Cg74NJ+rL8FXhSYTKVXhozCKMDoyEWiLjlEtfnR8PEFakIFk9C6caN2BTxb/gJ3ZchRD9z0Y/zMFnhX/wmFNLD7gUYwOWd/uZSarpLIaV3bwLh2q/wLLoP0DUidNqE/RagAhFKkLlAyOW78l5Z5dWY+eZfOw+k4/Cqnp2GkMYXLBYrPhm32lsPn4Oz9y+HEFqBUfTRpMFh88Vo665DTKJCBKx2CP9sbaplSmSI+PCuQDsDUipcHzo3zuagKgYOTb0L5wuOV33HM41/Bfjw57GzMi32dFbrEY0EyUQEiQH3g2VxCYaR/opVCCtbtuD4ZqbWDTLFUgagG4UfQEVT6dH/hca2QhcCPicdEtdl8mqZNTW1XZJr5BDF8F7ehNF3F8VHMfK2HQcqy1GblMNirW2pVODoQ1Gixm37zo/tPTetNm4PH4Mv+/X+1ejTm+j8LWY9NhTmQez1YpTDeUQC4QwWc145cwOfn5UQCSemLCMh/b2FXSXp0adrKZtaDHVMI2QpGg7M1wIJosBTcZKj9vSm0n4pytMFmMXeiI5fRLkym3Zj0LtMUTIHTnoccpx/ENoNTW6jP5pMrivInm74zaZLahu0iKzuBL7zhbhSE4JSmobYRjKfQ9y2FIodON9/qsdWDIxFXPTbatfwoSkaPzxmvlo1Oo4LRaoUiA8UN3FBmi6U6vOyJOHvEmrnB+Ofd7p2jo6JYhVX87FSNJDyW/8iDVZiCxg4dSIlXnc0apl8KNUB11rPDVLgzDlLL4pOMNfloww82z4ArQf1DB0oeBzR06HPF2Tznlyex5bJVYh3s9RWtUbNBp1mBAci5uTJuPO3R/j3hGzOT1igRWbS89yioSeIwRJlRgdZCt6qCQydurUCEGRPeFAVQE+zz+GK4aNbY/irShsqeccOUXl3jRLePX9qQVYnoggWRxH3URFTPWf2/F8cesJrCt7jqPj5VF/9NiEQ5x0VyjUHsHmilcc6gQs4Gk1cLT/Q+kzkLjICXoCpWiujHsSUoGiT45bbzKjtkmLvIo6nCgow/H8MuSW13ITjXNudQiDF3Su6EenM+JQdjHfgOkaSYsL69AJGR4RzKuq3/93DR66eh6umdV1KMmJ/HL+d2xC14KkN3K2rcYyFLd82zEkmaRtiSVCOfIzdS9yGsZqNUFvruOiJUXWNjbKeTQaMl0WRBP8b+IfnbmS0yu9Ad0g/KXJnMK5kHNSfe/IBQIkqhJ5UDINbJ4aNBVzQ+ciQh7R4yJcrF8g7kqdwamPMLmao+nt5edgtFi4UGkwm/BG5m5+7bzIJEwJtd0sKOXyRtYudvqJ6hCkaMKQ3VTFzq66rZm3l9NUjc/zj6KqrQVby7K5CErpFl+AON5RijR25BR1EyfcbuB2mh91Zqolwb2SsbXn150LvlT81Fu0/MOrH4H3LcOuulB7gnPlNfh4x3Fkl1WjtLaRc6lmH8p0DmHgUyu0mooK1mD2qAS88v0ePPreOiyZNAJ6o9lRgtZiwec7T3BUPi89kfPmZO+06jqWV4YAlQKpMd5rkVA3ZXXrHpaQbTOV41z9f1hXxRkFTZ949ViMaiUilAsdHrPti033vLRlHbLqXkVvQM1JM6Peh+QCRuOEfulnJnbKdbHXcds+8cdp2d4bEPvk9we/Zidbo2+BRCDC7cnToDUZuABarWvBVcNs6QKKqu1QS+R4Yvwy5LfU4olj6zglQy7l4TGX4OkTG7G7Mg/jgmNQq9Pi/pFzsLrgOOfPfeXICaSFQqgzlLLjtd2xfYN4v4m4NeG1Lo9TIXV9+fMobj2JcQHLMSHocq+3SSuDvjBsaNm85WRORxFsCBc3yDkT9ZMi72vnjIVCJsFra/Zi9+l8dvDOoFXXn95bjytnpuO+FTOgkktRUtOI3PIajBkWiRCNd46OHCsNaThW/WdopKkYHfIID2twpV1EuXFqkdeZqpAaeK+NPeICSrFn4T7quaAbBTFciProDYzmZtZZodWAq8a/H4UjpzFvNHSC0Jeca7hCjSCZkqPwaaEJiFMFYVdlLqp1zShqqUebyYhNpVk421SFmxMnY1S7M6ccuFwsQahcDblIwvTFEZpwDFMF4TN1CNICwnFdwgTcv/9LTsO8MPVKjtJ9BZb4lUYhSjESCapJPl9ySYQySIShLi8CGhxR3JqBsrYszBRpuIV/IBAfGoipybHYdMK17EBfQG3jQ3zygQUVoA0mE7f1S0RCXDFjNEbFh6O4ugHPfLGty+uXT0lDTlkNR+Z0M3/02gXs9LU6A+aMHs5pTm9A6RGKwI2WRs55ExNELXVNCaQceF7j+9CjlodAEMulLyAd8wCZd1OydKZqVLftw2BBvzhyXxXMyCHfOHwSnsvYgrtHzERmQwWmhRLrwoqt5edQ1daMFXGjoc07yvzy/OZaJKiD+f74euYuHKgqhN5iwguntiFRHYxXpl8Df6kc3xVl8A2g3tDGn+HcIOQLRClH4dq4ZyCiRpwBSp3RcY/zGwu5UIVqfR7qDaUIlScMyGeLhAKsmJKGbadyXUZsvQFFdZeMS0FUkD9eX7t3EMQ9Px3oDEZOjRAz5XRhJUbGhyM1OhSh/iqX5jx2eBRH4n/7eDPWHz4LmViM00UVCPBTMIXRG59AETY5ZtIYl4lCOcomNgg57MLmL2F0GmxOQyR0ZpJvMKOw6UtUimzkhQ4IBNyx6S+1M9s8o1Z3mH8uRgzqCcmsdx4Sh0CZEt8WnkSxtoHTLQRir7SajPi+6BQ/TjnzvOYaduTk0M/UV+APYxZiXFA0nj65CTPCEnCyrpSd9hszrmNjfD/nEHPT+wPMVHGR/5YIFQiSEWedika+9/A035Nmb9ounIFzffR5ExNjMDw8CNllNJ6r9wj0UzBD4tqZY5AaHYbN/RDlD8EztDojDEYzKuqb8bv/fI97V0zHsslpHm0qIlCNv9x0CX771nf4Zt8pfuWySSMQHdy9/IPJ0saa36QvTvRDEsvyl45guzJb9MxSaTWVun1/UfNqF4+Szvlwrx05abqQQJc3oGal3Ib3MFgwaB15i1GPT/OOoM1s5JO5tuQM3p59I74rOsX0QqIe1htakR4UhSpdM5bHjsKCyBR+b5wqEJfGpOHFU9swOSQOO8pzmCd+0GLGkZpiTslIRSJsLc/mCD1GGcDpF2oO8ukEcMq9OTE1wuWpuGnYy7bBEBB2eb6vKxoqcBKPnBQN+6pV3pk94G0EvWRCaq8cORXIhoUFcgS+ZHwKYkMDPHYMDqF/0aBt4+7auNBA5JbXcRMQSSdQCsUd+YjVCwNU+OXy6ez8CfR6bxhhxEap153koccjg3/LY97s554mBI0Kfggma5vDe6wdOfJqpAT+skuOnN4dIBvj9XemARbeaq2QRvlgwqB15ER9Iq44FTYpt00NPiKBkBkp9LjOTFxqMzt1itqp2Gk/8UQ5vDVpCqdi9lTlYUXsaO6g9RNL8auRc/Dk8Q2YH5nMzp9uCLQ9X1PjjFYz/nZ8La8SOmN6WALuHzGvY1+pqPR2zl4UNNciQumPGGUgYvwCEKHQMKWScv3k8r11aNxh6kG+01sHTsd3b1UeEtQhSFCdZ91099mLxibjg21HUa91vOhcgS7wUI0fpiTHYvH4FIxLiOKc7JDzvrCg81/TqOXf54xOwKppI/HP1Tuw8Vg257w9XSl0HZ3ML4e5Pb12pqgSM9LivVI9nBT+HPTmei5OOk7skSLCb76bHPkH0KMOYTyfs285cqI00s/FCHFPTu5AXmBUfPz96AVdHr8/bQ7/u6U8G5VtzbhxuOsWV6lQhJ+nTMfhmiLmmpMztLfyH6guxD0jZiHaT9PxuK9B94WzjZU41eCo3Bep9Hc4phkNpfjP2d1oNuk7Hqe8vVIsZRZNgoqKsxFID4xGkjoUIXIVP98f54IFjiwm7K/Ox7s5+3G0pghjg2Lw8tRrEChVevWZMSEaTBsRh3VHHEf/dZ4kHurvh/HDozFv9HBOx4T427Y95MAHD4hCSpK9oRoVhoUH4sW7VmLj0Wxo/OTc3OXOfvaeKcSnO44z5ZBqJd8dOMNMlmC15+CCzr1Y4NezphoaESdN4vdROqa3ILlb0nfpDcRClduO0UHnyPVmEzaXZ2FCUCwiFP4DcsF5+gwymIXtaRR3r2WN9IAI/un8vFwkxl/GL0WRtg5/PbYGy2PSMTXUu2KMr0FO8y0nJ06glAwJg9FPbnMNH3tajVB+n5z5lNBhzOJJ9g+DSmxj2/Rl/+0O/FBNId7P2Y+DNQW82iEcqS3EK5nb8Uj6pZB6kXqiKHvl5JHYfDwHRrNtG1KxCNHBGkxMjMbMtGFIj49AkFo5lDoZxCiqboBaKWeHTOeItMwvnz7axkRx1ZJvtTX//OPzLZySefSqhcgqrsKH24/i4Nki7gx1Ft8i9OX8CyFlHRawUJy49/NCpUn8czGj229vtlrwUd5BvHRmKzvxO5JnYEVMOqcpLtRF2JM0QxeZVJMBXxQcwTvn9qFa34K91Xl4cfI1SA+MGtDvQ/uyo+Icdld5nu7S+TxQQZd+DtQU8A0gzi8QM8OTsCgyFWkBkT3Wi+HBDWYjR+Af5x3EoZoiGCyOjRd0ua0uPIYU/zBclzCp23wnfT6lSCYlxXDD0uSkWExOjuEuQOIkcxvGkPMe1CC2SkFlPRcv6ZzxdaMz4Ku9p/C/DQdZCMsZezML8L+NB7mr9+6l07B4QgoSwgPx5Z6T2HYyl/8WtZ932t6Z/ApU1rVgxpgEZsb0xibsrftD6MaR0wHfVp6NN7J2ci6ZmCJPnViL9SWn8cDI+bzspkjxYgDl7jIbyvH86c3sCO05cWLBPHL0G7w05RqOdgfKyZD8wH+yd/Nx7Q0ogj7XXM0/n+QdQqomHMtiRuOSqBGcX/fkMOm8Ul1gR+U5fJF/BBkNZR73g577b/YezApP4m7b7kDiSP+8fTnkEnFHl98QLq5CZ1ldE+fHqUOXIupPdx7H6YJKLkLrjF27LMlZ0/m+c8lU3LpwIp/3hIggJEYGI6OgnDVZaBVGl12TVofnP96OrMJKTE9PwN2XT0dy7IWdQv+jdeR812yswD9OrmPRKTtIeIoc4S/3fYKbhk/BrUnToOmD/Gt/w542+KrwGF7P2skRrTOoIPnokW/x4pSrEa08L9lph9bUhk8Ld0AmkmCkfxwmBfV9YITRYsIVceMwOzwJNTotavTN/G+dQcsDNajYSCkWb0Df72R9KTLqS/H2ub1YHJ2Gq+Mn8I3Jnr7gVmqrhVNK60vP4IeSUyhoqe22yCsVipn5c3vyDEQq/L1frl4EY8WG4Br5FXXc1EOmcfsLn3G+nMbo3Th/PFZOHYl7Xj1P9RMKhTw0gnLpv1w2HYsnJEPcPnSaHh83PIpz5vmVde2O3IJPNx3Dqbxy3v7OY7k4nVeOn6+ahlWzRkPay+j8pw6Xjpwu+kpdM+eQSS7WFSh/+++zuzif+nD6YowKoLFlg+sE0PcgauILp7dgbckpj46RVhuUI46OC+h4jL4NFRbbzAZ8UrSdH7s6dhY78r6Cuk5vSpzSkSvkJmGLmamRDcY2VLY1oaClDjlNVawTU6itQ51e6zFypi3R9/0w9yC+LzqJS6LS+DMCpEocqSlkB07fsdHYPaOEiq2Uh78hYRImhcTzcI7BfIHRDelwTglqm10PrfYVcivqut8XixX7zxax8+pPkOlUNbpWyOwMmnu641Qet9m7Q3JkCOLDAtkej+SU8rW8YGwiFzapM/NniyYhfVgEGlp0fF3oDCaU1zVxs9Y7v7kWIRpVR9G6M0bHR8BksXK+fEJiNDJyy/H55mMOFMbaxla8QBF6QRXuv2ZWR17e17CyLowVrToDrxCaWnScJrJY6OrrP5AGe2p8GBf6Bzwipwu/vM0zp5JyoEdqizg6//XI+bgsbixHcIMBdNJON5TjieM/dGGOdAY56hlhw3F/2jyMDHCsXCeoIvDC+F84iFMFy3zbQGQ3WBGpsYiEHPUHyJQYpgrGlBCbdjjdgIhmSRH0sbpiHKjO5+9Gj1k9pG6+LDyGjWWZ7IRpJeKNudIgjgWRqbgqfhzn3fuLIeNr0AX62g97+72L1huWKuWY//nV9gHp6PVmf+jm9tjHGzy+5neXzcGtYRP5hlhR18SStGMSIvHy3Zch2N+P2/Q72wGpId747MfsdP/3m2sQ4t+VbUKvp5sDsV9o6hPl2V9fvQdNrY7FfQIxXL7fdQqVdc340+2XICJI7RO7s1qtaG7V41xxNY5kFeNUbgWKq+r5hmQwmJj+29+inEEaJf790DWIj/R+QlpP4dbrLo0ZhREBEfgo9yAvwykCdwdyEk+dWIfsxir8Km0ei1ZdyIufZlRSbv+pk+tY6tYdwhX+uCd1NlbFjnFZKPQTyzE64MIMYiB08OIFIqYd0s/E4DjcljQdZa0N3ND0Sf6hDo12V/B03uygOsdwdQgXsZfGjLSll3rAXR8s4OtxkPTxD6Z9IXTnrOzPUyT++6vmIqOgAhqlHIEqxxoY5b5TY8LQ2N4nQNGmJ53xYH8lF0xJo4Wc6uxxw1Fe24Tymq7XJe3CgdOFeOzNtXjyF8sQEdw7Z26lZjyzBTklNdh44Cx2n8hDaXXjBdPrqWnQ4sttJ/Db6+dyKmrAHLmtGizAcFUI/jR2Ka6IH4c3z+7Czsoct0t7oqt9lHcIxa31+MvY5QNGU3QGUZ8oH/7c6c3cPOQKtilCSfj9qEUDWuDs9UzLdgpovUGLIm09shsrkdVYiZzmKtS3D8/oDYh5RGkTytVTGoVG3REG8/EYQv+Cxwf6KTBrpOsAxl8pw4u/WNnh+AXtombuoJRJkRwdgqWTRsBPLsNNl07EgonJeG/tIfyw9wz0hq6F0xPnyvDkOxvx1N3LEKj2Ps1itVrZWR8/V4ovtpzAwTNFnEYZDFi/PwuXz03H8Cjvmut6CnG3kzogwOiAKDw3+SpsLM3E61k7OF/rCuRyiFL3G/0X+MeEyzjKG0inQDeZD3IPMO+ZioWuQLzrnyfPwC2JUzkPPFidFjnuo7VFyGysQFZjBeun0+qCbk7eFkHdgW7Sq2LTcUvSNKYVXizpkyEMHDzNiZWKvU+fUpH0Hz9bylrl9m1GhvjjwZvmY1JaLF7+bCenU5xx+EwRXv1iFx6+ZSFkUs+fZ20fgpGZX8k3iH2nClzeIC4kGprb8MWW4/jDzQs6aJi+hFdnhE4AycHSyDWa2EOOcl3JaW5DdwViUPz20Jd4dtIVSPUPHxAnQU783Zx9eC1zB7M4XIE0Vf40ZilmRyT1qO39QoBuil8UHMW60tP9su2S1gZuMBpy4kPoT1CBj9gqnUH2RlH8oskpiA0LwN/e3sg57M6ggH/dvkyMTAjHVfPHeqTS1jRo8dGGI/hu1ynOh3sL201JBKVcApVSBrlUwvtrtdhuDPYbBK0+qIB9/u9O/1raV83tK2fb7+dX0h3PWYE9J/NxbUU9R+W+Ro8qk/TFKX/6t/ErMS6IHPo2Fq5yhXNNVXjw0Go8P/lqjvr601lQweLjvEMenfjYwBj8bfwK7oa8GBwXFSh/N2ohH8ecZkcj7y7fTfIGpNlCXa2kDHmwJp9po51BRerHjn6P5yZf6XX7/RCG0DmFUVzTiOERQb22HXofsTme/uVy/OnNtThbWOXwPOW53/7+ACakxiIhyvFz7AyUvSfz8frq3cgtdZwR3B2mpw/jVEdUiAZB/gooZFJIxLaghi8VZ8eMTg66vQDi7LDZuXfcBGxMKrsjtz8WEtA/k4R6TDGhL0oqgdclTESyfyizQtw5Gmovf/jw13hp6jWI9+v9CfcEOkBrSjLwrzPbXDpx+sQ5Ecn467gVCJf7phI+ELDfNB8ZswS/PfiFy6KlTUtdiTCFmoWtqClohCaCf6fCKN0MWs0GpiNS8xF1tXbG/uo8vHxmG/40ZolX7fdDGIK1fSDzv9fuw/aTuXjp7suQHBXSNw39iED89eeX4g+vfoeSKkemXHWDFu/+cBCP3bG4IxfPU4S0Oryz5iBWbzvJ2ulut++m5jx6eCTmT0i6aPxBd+h1CZUKhsSgeHXadZgS4l7d7GxTJf589Dse1eZKsrUvoO0RFe//Mjayw3KVC14SPQpPT7j8onLidtD+0iCNu1Nns9N2BikTvjnjRnw053Y8O+lK3Jk8k4u4MX6BnAqj9/uJZbgzZSaeGLeiywANOhvfFB3n9I2vz80QfnwgG6GRbn98Zy0+2X6cueQNLd33JHg15zcmBA/etIAZLs7YfjSnvYHIFt3mltbgoVe/x8cbj7h14iqFDAsnJeP2lVP7lb89WCDu+0SaIC6E/uXYGmyvyHZ596Nl/DMZG/Hk+JVcYPQF6IRS0fVvJ9a6TO/QqVsaPRKPj1vObIzB6MTpOxDbx3mIsjOujB+H43Ul2FSW6fA4pV2oXkHHVdWN5ARxwym98sSJH9DaKTKnz381czvGBEYj0sshG0SH9EQ5G8KPC8zFbtPj+wNn8N7mI9yERI1Av75sFrfsVzY0exX4Ua7cnd1w0DI6HtcuGscReOe4gpp2KPKmKHpfRgGe+3ibS/oigW4ECyYl83aSYkJx4lwp3vvhIH5soBUJeTTK7bNyZF83SBuhJpK/T7gMfzn+PTaXZbl0SxtKTzPV7xeps3yiz0Jpgv/L2MBNMq4wLyIFj41bNmidOIHSJb89+CV3bHYHd1TKHRXZuHnnOxyBdwe6YRDH3hlU+Lxr70cdSoqeQIeS9NQXRo3AQIEaSqjhpL9XDbT1xlZdx6g6cj7U8PKjv2UJBMwu6Qz7saaIm7pCP9t5AmdLqjskHeqaW13O7nQH4pv/54GrERbgfsA5OfnrFo3HtiM5KCh3ZMaRA6dmom92ZKClrWtBUygUYGJqDO66fDrSE6N49OBgve7d1fnW78vkWanLZ4z0SOmk+sS/v96DuqZW/Om2xVArZb4ZLMHcU6mC89BEmyO+eZcdtVpZB2R0YBRmhSX26SCTMVFx09XnEMYHxeIv45ZDI+mfVl9fyXASjTC3uZrb6nu9H4BbOmhPUNra4PVrvWnx9yWmpw3DJw/e2K+fQUJQpJ39wfajHY6cdD/+dM0CjB3mWqv6XHENF9uIWUGiTxqm2LnePvcCGEyoaWhBcWUD54Kr6poRGx6IlbNHuX3fQMGe0uD8M3VCltVg56k87MjIRXF1IztKir5JGMsT7EVBZ7kOSnWQc+0OQf5KXDE3HS99usMhIKQI9MP1rudp+vvJceuyybh6/hgoSWHzQh9MN7Dn9tV+8i7Hhwq3X2w9wbz3S6eOcOvIaRubDp7Fd7tOIz4iEHqjCWr4yJGfnxyvxBPjV3JxjlIBziDxredObULKjDCE9TJnzcMY6kvxTs5el4JPpM73xPgVvd6+t/uQ2c7tXhYzilcYg9V4fgwg5yHXuI/k+nou86vq8eqaPRx5UkOZHZQD/mTncUxNiesiAkbvW332BL7bfgpfbzmJsEAVZoxNwKo5o5EUG9JxoWrbDDiTV4HdJ/JxPLsEpVWNHU0qYrEI4UFqLJuextxqlhVm7Y8+rDwEYE2V3qa+SEP+759tYTVDivxIyXLmyGFYNnkEapq0rCtO0XXn48COu91Jk+DWlhM5uGXBBJvyJQ0cbH+OqH7d7r5AgPkTk/HBusMdU4o8ITE6mLnZ41NiBn0uvKK2GY//Zx1uWz4ZM9ITuspsd/N+OtYncsrwry92QqWQ4qFbFnLnLMGnVAWe2SdXMz3xvv2fumwdJwGo/2TvwR/TL4W4F86P9LOJ9kgyrK46FWkAQn92a9LBPFxbiD8d/Q7VumaOpn+WNI3zxkO4eMBO02DEdwfP4O3Nh1DZ4Fp86mhuKVbvzcCtCyZ2iaJuXDIRCyYnI7uoGvszCrHlYDY27MvCZXNHY9nMkdhzIp//Lqyo4w7H+MhALJmRhqSYEESFahCgJtqbhLsXCUaTBX95cx23lvcW5Cz/cd8KLh72BhKRiMfu5ZXXYtqIeHbcUcH+zFL5eu8p1DW34VerZvKxoGP42a4TOHquFA9eNZfH9u0+U4D3Nh/G+MQovhGSvoq3czvtCAtSYVxKNDYfynb7GtralFHx+OOtCxEdqrkoAilKF50tqmLe/O9umMfFWLrhdt73Vr0RB88UQupi5dOmM+KNr/dwcPDIrYswJvH8eEufc85ow+RIH01fggcPfwWt0/QbtDMlSDebRKF6OghhfelpHKgu6PIc3fupW3NOeN8lZt2BVgC7K3Pw2LHvO9IhVGwk3JY0DWJhz5w57SUZeI9VI4mj6ub+zaPr+tGmbeINg/+icQc7p/d0USXeWLcPB7KLeFnrDvTa97cdwfQR8UiJOt+pTP/Skp5+KK2ydEYaSiob8PZ3B/Dx+iP4ettJnkI/LjUaN1y6CONToxEaqOpYMruyUUo9zJ2QhFGJXVM5lJL5autJzBw7HKMSI9zur1go5BtEb0H7NW/McB7XRzefwqp6/PWjjdh9ugDDI4OweHyyw9k/V1qD3Wfycd/KGawouO5wFrf4x4QE4PmvdrDq4ZSUWBbh8hbC9sLnlkOuyRN06BZMSsFDNy/oUQt/Z5CzNLjQVe8LIoL9OS1E4neuMHlkHO67ahZe/2o3nnpnIw5nFuP2FVMQGXxeHpq6XB96zTa4ugvauelkb7PGDnf43v1CHqYPoO7J25On4/XMHV2cDhUq3zi7k+dQ9oTFUmdo5ck+rlrUxwfHsphUf0npkgM4VFOAPx75xoElQxN1iPVBxcYbhk/qUSGXxMVemHx1l6k83aHRoMPfT65zmVtfFTeGVSj709WS9MLFCDqHFQ3N+HD7MXx74DQzMbwBqQe++sNePHvbsi5FQbu901mnpX19u4wuRVZ0wf393uXs7L1xNuQAVsx2PUCYmmW+23EK08cMw5XzvZ8M31PwbF4IWI+cCpwUcVc1tGBYWCDuXzmTNcbt8ryBKqXD+9YczERBZR1L3lIx9FB2MdKHRXLBuCczf3lMY0IE5DJJl2lEtAnKIVM6hYp8vQ3aTpwr4x9fIj0xEpfNGQ134Rylmq5eMJbTcK98sQu7T+bhqvlj2JGT35o3PhEpsaEe6w8kQ5BTWoM1u0/jhsUT+i8it4Mc2q2JU3G4ppBHiTnjSE0RtpSfxYqY0V6dDDKE74tPcpORM4htQTK6/c1QIaplojoEh2uLHB6nRiQahUfDkhdHpXm9DxKhiG9APQUdC5IYfvbUxi51AjrWd6XM4qagi2G5OZD0ubVHsniGJHUk9hQ0yuyHw5m4anq6yxGCJVUNePS1H7iQec9VMzkfSrKspLE9ZVQcLhYQa+fZL7fj4NliHtvGqw6ljIdLPPruOofX3rNsWsfvpwsr8e7mw0wxXDV1FF79fg/L+V4zawxH9UEqJedzvbVJqh0Ea/z4uHbGiPhw1mnpixO/kKBUyrwJSdzRStE3BQa0kqHVGGnPRAZrEKxxP6i6oKIev3nxK3yx9TgunTaCjxGhX5lV5GCpzdy5EYVAUTUN+u08fai7aPzz/CMuOdeXxY3BhKC4fj2xtG1SdCSa5QhNeJfnKYX09Mn1ONNga1zoT9C+kF74pOCujVhVbc34LP9wt9z0nwLoPFBkvPF4Nu55/Sv83+rtvXLiBCqCvrvlMKqbuhbgKBf8wkfbUVRRj9/dNA83L5uEqxaM4TTK7uN5uJhA6RQqxnJLOYA7L52C8YnR7IA0fnLojWae5UnfmXL6BPr9n6u3czGUisIHs4u4cDw5JRYTkqLx/Fc78fQXW9mxe70fcimiQrpOpKJVD0XqF6MTt4P2naJwYgr98Y01TKs8ll2Ke579AtuPuWbi2TEsIpApmiQFfDiruMPXiPt7h2ly0I3DJ/PcT2fXktlYjm3lZ7EydozHE0M7u7ksE4UtXWl25Fxp3NxATCeifSRWDBVzf7X/c1TqHJsSaKrSPzLW47Vp10MhkvYph9sdaPv3jZiLM/vL+WZI0f2ogEhcFjsW8yJTQGlfGqvVV3Da4CK7aHi8n9GEfVmF+HDHMRzPL+ugFPYWpN5309wJCOjE2LCDnBwV56aOisfymSP57+iwANbxoCHDxP5wVbwajKABEn++fhH2ZBbgrx9uZGdD55+oh1dMH43/bjiAR69bgN+8+V3He8heycFT2oWKxq+t2QuVXIp7l8/AvsxCHkJBRdOeMGkoQqXj54z6plamcdJnXYywtjOTth3NwZtf7+UhHkQjJBuhGyMxlqh4vuFAlsv3042MePIUJNCgjMVTUvnxfj8aZAQ3JExmCVxnTRbiln+WfwSLotI85spbzUZ8VXi8S66d3MvVwyYgVhk4YHdo+hyS9X0o/RJmrjjL5R6rLcb7OQc4vdEbZNSX4eXMrV45c1vUZHsd6aoQNpSd4R9fgeayLhrA5h9fROD7zhZybvdYXhnT6foCMqsxwyLx4OVzeWyZ802NPrO0qgEJUcF8LvZm2ArxJJ4kFguZbkgNLhRhdgY1xqTEDz4tfG7w0/h1aZWn3eQiHikX0kzOTrtNTuWP18zHJzuOIaukGnKpGA9fPR9BagX+/P56Ln7efslkr3jknREe1JVySk6Qfijl09d89mgXReW+gFYQnoIebZseP+zNZCdNN3jCZbPTcd/Vs3A6z/Y3Ib+8Fh+0c+btW7N2OtZP3BnG0r7EgqEAhR4bkNtasMwPtyVP5zZ+GgDcGTTBnVr43TUJ0YVyvK6YedvOoGnxV8aN66KKRuguwncH+/vsqmauptHT35QLJ7leSg913hr9/mn+Ye4s9QZ6sxF6ixlqsS3n12Bo5Ty3N468Mygqd8Xd7ysWRg5+J07nivKMO8/k44s9J3GmuLLPETiBONTXzhyL2xZOQoCHgiXlwj/ecJRlUDu/hCJH6th7+p3N5x+3UirCiEumpuKJu5fixwCK4kfGh7MTIyf+m8tmY+G4JDz16RbOrT945dxeqSQGtnOkO4PSM75gm0wbPQx3XTZtQG+ktEr8cMNhVNe3sF1Qvp9oiHTMXOGGSybwSo/YT698sZNXdcR6iQsP7EhpDUhqxdnxUe6WIk5nHfFvCo9jRuhwl4LrFIX/UJzhcjLRith0HtfmIKJVVoJT1ZVICQpBnCYAIQollBIxV+JbjUYUNDYgu64GhY0NiPHX4IqUNBytKENJcxOWJ6XyAGRSd9xbUoTchjr8LH08qrQtOF1TzU49PSwcQXIFF3Mp6qZiLs3P7AxitdAItu6cMe3vnqo8/PvsTvw8eabXzn8I51NQZXVN2HD0LNYczuKiWk9vgK5A5zk1OhQPrJyFaalx7KA8Bwa27sJ/PrDKgfr38qc7kVtSg2d/tQpymbjj4nvk1e97PSeyTWfg9IKrnaao/0KnHEiDhZw4pVe2Hs/huZ8Tk2OY4ikWee807fROZ1DqgdrYL0YEqJR44Jo5HEE//8k2vgFy05QL26JHqGOYpinRCuTtNfu5MDpnXCIXoZ3tZ8DOOhU+KVdO6Qjni21fdT6PiKOBw86o1rVgb1XXghG139OsTedDUKXVYnthAV48uA9x/hrW6ViVnMbLuvW553CmpgrTo+MwOSoa/lIZ70thUyP+e/wwWowGfJedBX+ZjB01xeTDNIHYX1qM/WXFCJIrEafRYH78cKgkEkyIiMIDafPx64NfdEmx0NDj7syWblIbS8/wze2hw18xBz49MGpQzXocnI08JmQUlmPNoUzO5RI90FeglAIxU25bMJEZGN5GbGRflBe3603TfvopSONahJjwAP6dQIVETzoankBm8b92nnoXCAT4zQ1zOdK/kKCV0Z/f34Aj50owN304pqfF4+5XvsQfrprHefKeRMDULEWOjo4XFVrDgtQ8lKFzZ+nFApPZwu35E1Kj0aozcnBAjxFdlb5jCw/E8O7Cp7Sdc1ZhwBw5t95GpCJRHcqqfc4RLCkn/izRcalj526TM3fG9LAEdvzOhrEyORWhSiUe2rYRPxszHo06Hb7NzkSjXocrUkeyFkx+Yz0emjYLwwNtU63nxQ3DG0cPIkAmR2pwCDvu5MBgaI1GvH7kAOcEKVqnfGtxUxOeP7Abf5o5r30/huPS6JH4tuiEw350Vhh0h8q2JuytzutQIdxcnsXHwVWzD6VeRN00HJEglivdcpKylXjxXhLmGoz3EPsQgZLaBuw4lY9Nx7NxtrS6RyyI7kAX1tiESNy3bAYmJEZ3G4VfKMwck4CxKdEunyPe+oUG3VRb8spw9ax03LtiBjNZ9AYzNwaRI+8JUuJC8c9frWKGB02ip5mfNPzhYkRxVQN+9/LXfCzInsmBE/3wtic/5vib0kXertJcrToHdB1GPG+Kop8/vbnLc6SaeH3CJAcVP3Jo28q7OjaKlimt4pyK6dx116zXY3N+LkdK4X4q/qEUCqVU/jxzHv9tR6BcgeGaQGTWVKOmtZW744IUSgQrlbhz7ER26B+eOgG1TIrbxoxHhbYFkyKi2uUjhbgjaTp2VpxzOy3JPRPnLGqcblKump3o+z498XIWHPOEvOYa3Lv/E+jM53OIdEQeHXMpZoYlenxveWsjfrHvIzQbvR+VNRCpk+pGLQ7nlGDziXPcLk88Z18jPECFW+ZNwOXTRjPboncaQLZCnF1Hhf42m20sBHrcvklqs+5t+oc2MX5ETL82BLkDtebvyyzg/D41/lDe1h275y83XsL6LBRpNmh1HFGT9K295uQtPTc0QMU/ruAriq91gHT4yVeplXJIJSaOqBu1bRAKhfwYHZRWnZBXM97APnnogjlyukAuiUrDO+f2Mi+8M2jAMEnS0oQbO2hC/LG64i7bIQrgRCfeeOfipKMSm+NrKFc+KTIaSomk42BQ9BWuUnH6hPLo9EMpGErL/H3vDuYQFzc1IsJPhZy6On7viOAQvhmwJIF/KN9YaPCzt6DI+euiY10iYBog4ezM6RsEypQO9QBXaDS0uWyfp4i8u/dSDeJCt97bI2+66IkyuD0jl513TXNrv1xwVMxcMiEVty2YhLjQAJeNPqTHQsOGu5NFJbnXXz+32oFiR7MkqcB19z8+62Az0EVYUdvEha6LCRRZb8+wrR6/2H3S7euIoZIcHYKskioczSnF+iNn0djahuhgTYd1UZ2ANMK9dVx9QXV9i8sb556TeR1duP0J+s6XzUnn1dKbD1/bQT+88+nPEKCS4+XfXsk3vAOnC/Hw625a851wftzceQx4ZYQGIE8NTegyVJja9ikX3nlYMzFVXKVVZoQNh8apyaimrRXPH9jDeWt20qy9Td/W4kB3pEdq21rZUZ+pqcbtYyZAI5PBTyKFRiZHmFKFEKWSX0OROeXImw16xGsCOrYzIjiU0zB2CAVCXDtsIneeuhLzcgYPli09zQJizpgcEs9aMp1XIfQ7FUW7k5qtaGvqwgqirRysKehWBqBO3+qyoNyfsDtnkpAtqWlkp707M591UOpb2nxSuHQFSpWR/sfPF03G2AT32tWUunn6y20IVitx5yVTOH/u6nXT0od15MA7vhuAbYfOobqhBYumpHTJi/dW1GogZZb5/RDghrnjMG9M1xVdWmwYt/F3RklNA372/GdobtNx1E557jmjh+Oa2ed7RSiNsHZfptvhEAOBM/mV/NPfoG9MHZvUyUnHgmDtpLFEj5Ft2PoMnM5Vx4zQ89cB+zXKkTuFgAPuyGnnl0SPxMayM10GAu+uzGXhK1ISpJ0/WF3QxTFRxOqK3SEXizErJg4b83ORUVWJMKUfEgOCoGcesS1Wl4lEKGtpxv0b1iBArsCkyCi0Gg3syGnpo5JIOX/eYtCjVteG1KAQbMzL4W1rjQY06fWIUKl4O1Li0nZCgjqYawBfFx3v9hiQKuTb2V1leENlKqb7HagpcKh70Otez9qB3oK02+nnQsNukMQ6oMr72bJqHD5XgiO5Jcw40TrpavgaFC2Pjg/HrfMnYlbaMGZ4eJrOvuHYWaw7ksWrhJzyWvzhirldInf6feroeP5xfj91etLN4NblU7o4+v4GHen9WYX8b2Sgmgu31LVJTAn7fnsC0S3HDo/im9iUVNcSA86rJGLNkK4KvWdySgzfJKkrdFh4oFcStkM4DzqyX247gT0Z+UxVrKpv4cDynx9uxbIZIy98RE4GNCE4DmFyf9YL6YyzjRXcYh7tF8DRoau0CqUIqIPR2RDJCcf6B3DkPDkyGkcqyrAh7xxMViuzV/Ib6vlAjAuPxI2jxiAtOBRBCseoPlihRINex9G4vZGEnPb4iEhmwxQ1NWB0aLjLgiCpDl4RPxZrS065HAJtR5NBx5ONiKXjcFxopNuw8fzdfyywX+iUXqClOTnDk4XlOJFfjryKWs6f9lfU7ezAKXq8cc44zBudyCmV7voMqJX/3+v2d1Dddp3JR2F1PR68fA5mjUwY9KPu6NtllVbj1R/2sJ67xk+BMI0KsSEaxIcFsghWdJCGm3+orZ5e0/mYTEiMwVsPXN1tEw8dB44oxSI8desSvlHQyoUiTFc9GEPwLtildMvp/Ar+sYOqVzuP57FWywXNkdsRJFNiQnAsfihxdOSUljjdUIYopQY1ei3yXYxxo9mSzmkVOygFQg53d3EhR9jTomNxtKIcUWo1FznnxA3Dw9NmM2f8zzs24+/zLmFn3vmgkNlR7ltnMtnmDCqU/9/eVYDHWWbdE5u4u3vSpG1S19SNlpaWGhSXAost+y+wsIstC4stLCywsLhDBQotLXW31DVpI03SuLvr/5w7+dJkMjOZSG23B/I0MvrN9933vueeey4OZWchu7Jc6JcTebmYG9ZPR8enNyIdPHBMT2MOm300dxkEawO3BY0Qr5arEcoxZAZK57zMojKZMhOfkY/ErAL5mcZVlyJwK2BQGejvicUxURjXPxDW5oYVMvkeaHGbVdxx659eUIqnv16PW8YPxp2Th0oA1Pd45EWZ9Zt0Qz+tz6P7sSUTEB2qv+CtgK9rQv8g8Vrnceduh5p71h7Uf1d7l9tYmMPV3gZPzZ+AwUHebe+HreAqA2yZOUBizsgI8V+53Br2qwU8L2l3S1pF2zCMYRF++OCJhVrvy+5a3qdTbQ2XAeTdYtxDJHtt/4LIBdNZkAVRKjBYvNPECNcAtee25mNK0LVESW0NpgWGYF1yAs4UFcDZ0hLb01KxOGKA8OIPbliD8vo6LOzXXygVzYWgor4erlbWaDRuluDPwmiok7NQLJQmBtg7SDBioLc062hpamFiiulekXoDuTZVCk3Fnho4QzpgrzYwLjNTpUlSck6hWJzmlFRIIau37fE9BQP28FBfLBgzAMNDfKVzztDMUEZpHU/C5hNJWv9OCwAGR+4s/jh3PPp5626zv23mMPm3L5JSR1srLJgc3a37kAYa6O+BfWfPa/3c6I9S11AtksEdp1MkkHfbe8jVQb66A7aXs2ux4iIokK48GCHAq2N/DHcwt84Y2uF3TBoprWSQ5rg7funC2fP5V0ZGzhMg2tEbNmYWnYYKnyzOksIcDbU0M1dKE5mR67pwWJiMcHHF5yeOSEFLdNV19Xhg8DDMDYvAV6eOSVOQuakpJvoHdvJFSC8vk6y7urFBznTKEh0t1PP12CTEhYJB3kal0u3D7h6CDxJ26RyWrAkGfzpEssjJ+wfbqYdy9MS9ML+2El8m7+9UtJzrG9WldFEXhrt0bcHKAP7Omt2XNNvWBD8jZoWTBgZj9rAIhHq56Oya0wXxTSkqw4cb9ouJkS7wfR5MzMAj//kZ980Yibkj+3eiJvj95WYV+P6nRIeKeVhXnwyNrUiB0WbgYoPPQS/t/1UYaTkx+gd5SBbOaUeGnOvhfm7iy64MsbhseyFPK3v4WzvhdGnHlv30qmJRqpwp7eytwjFyVL3oAtUqDw4ZgfqmJuRUVuBUfi5mBYfB08YWySVFyK2sxK39o7E5LRkfHDmI1ydNb9Oi8+CSA/eyuSDTo358Y0qy/K2yvl6KqEnFRcK1R7t7INLFTas0MsLeQ5QiXYFb1wfDx+NGv0Fti4q3lQNuDR6BniCxLA/fnjuABnQMQmPdg8Vh8mKALzvE00UKXdqmm19scDs/NNhbZIRj+gWoPa97yM2SD/9wQ6woaAwBZZFvrNqJ2IR0PHL9GAR7XFke8HwttBigtru4Ur+aKi2/RKgkvodruPSgHUF0qGE7okAvJ7z/+AKhZi76YImuQLc+ZomagZz66rNleaIp1wT12tZm5vof18QET46Kwcozp8UvJbmkGEU1NVLIpPLkYE6myAwpH2yfpSwIjxQVS3tkV1Tg/cOx+NPocZKRKzprBt32Ab892EE51i2oy0DOIP678PFiJqY5Iq64rkptEtbNBJfyRG38e2JZPvaqznX/5FJZiA1xVza2bvbW8HK0ReJlCOQM4u8svUH43t4EUWbjnBq/6ZjuOZHaQEXB9lPncDo9F/dMGS7ZeVfF1EsJDwdbUY/wNeoDZ2ueTMtBkHv3za0uFhobm9RKpiux3RhMIkyEJrrUx4vUjKac9bJWJ0iTqIcgXAAD0YGCVK1jzCIcPLXy4+0hW1oazri44YVxk3BdUGjb7zsUNVtvp3zPdn2lZV8B5YYsfI7z9Rc6xhDwsYa7BMhCpU29wmzdzcJWWvvpPaOtdf5USRYeiV3ebaqCt9ZGyXyWtBefJ+1Dd8GC9Ocxd8C4i8HS3CqH+7ghMbvnQ4N7ClJo3aVQdMHDyRa+Lg44l9s5iegK7EB985edUit4cNZo4aavhDZ/qk4mDgjCjtPn9LaA80+HkjIwd0T/y04JKTiVkoO/frJRFssrEfMmDMS9c0ZeludmLMsrqZTpTeJJY8ideCANneTTHXAoBAMZfUbaY3decifPEIZd0g7avES0wc/BTr66et10OmTQ1XbBMQufGqi/tV0bqCl3s7QVvbi2v706ZJ7QM2wk0nVRqZuX+qgNWUeA7wqGLiQ8clH+Hvj1YHyfVfXZCcguQUVlcbEhQ1B83fH2vXPw8oqtEtS6e8SoN49NTEdcRh5uHDUAt00cLJK/yxnM+dzDQnzhYGWJkir99AobsSpr664YUyo2FOUVl+sdjn05USFGV5djaEqTdKb+Z9VeGUJ9/7zRhgXycxUF+P2BFZ0Cbm/B7FtbN+H5qs6TgBiI3jy9Ge/Gb+/T13BnyCiZLdqX4FBljoPTFsgJLl6XO1PrS/C9RPi4Cb3RUyMrFgupsiCnS512Px83HEhIx4nU7Eu2s+b74Gt4467r8e7aPVhzML5HvuaU+329/YhkwWz/nzEkzGDp48WAu6MNIv3cxSlSH6g2Si8sxQC/CzYZHbxvmpqRnVaIpBPpKMwthYmpMbwCXBE2yB9Obnbden/0oUlPzEVDXQNcvZ3g6GqL/yW0aEmSWrT8wLjHhay2rkHsBk4kZ2PzwQT5l6DNAM9RgwI5g21OTXm3p733NYrqOs9L7C0qDczwuwPSPwMdvbE5W/u4pv9G+Lg4wMXOWrTKhoCXPHXYIV4uGBPuLwE8yMNZ+OXLqfrg87Kr8akFkxDo5oSPNx2QwNwTUHf+95Vb8euheNw9Zbi8x95y+T0Bd39jIwK6DORUrZxKy5WdiaaPUUF2Cb5/ewP2rT+ByjJ636j/Rrmcq7cj5t47EbNuGwuVhWH1gdqqOrz20BfISSvEfS/ciDl3jcf/EqrrGvDxL/tQVlnbZhAnZljNyvf0Xm8W9VRlTT2Ky6tQXF4tpmumpibo5+8mEs7xg4PlnLqm4L9YGaq9h7gWais+9gS0LQi2c5HH1AW6HlJ/r0mj+Fg5wl6lf7vMeai9oc8YlDkFRl8gJ5dNqoH88eh+/hgc5AUvR7u2ws2Vskvh6+AOgdRIsKczXl+1QywEegJmUxw5F5e+FqPC/XHHpCEYFOjVZ7y+4fSKjyySDCD6cCwlCzfFXPBFYZApzC7FKw98joRj52FpY4EpC0cgYlgQ6usacHTHGRzbnYDPXv4FhTmluOvpOTDTMfFGE431TWiob5RMvzvg+aKtkeZigcG1Ly2TFb8ZZtY0VqMLYuszyfnCd8ZgrXR4sqBqa2WOAUGeYrY2aoA/+gd6XBmqlasZXDGrGuv0OvI5qqxgaWLWKTg2NKs9w4108PWq1tmbmnCxsMZHY26Fg5n2rlYiqSIft+/6EjXthlzweZ4YMBWT9EwfIh//yIFlWgd4dKeoxi35nvgLWZ/o760sEOzhJC3fw0N9EOrpIkMCroRCYFfgBTamnz/ev38e/rl6F3bGpYhhUU/AQLArLgWHktIlO14yfrDMAmU94FIcB7bms5BLH3d94N+pFOHCrASxFR9sVgdxa3P84R9LMPb6QW2BdNatY/HLpzvwzZvr8OsXuxAa5YsJc4detPfE8+bxWyYaLNXrC3DK018/3dAn4wM1ERnkgYfmx4CHk9z3q19vESnvn++YIv+ymY0eOYVlVTL6jrNeeWg1j++1QN5Diud3+7+X+Zr6gn11U+fhEnvykjF/+0da73N3yGgZdqwd6pZplYmp3qy98714P1O99+OuoSs1UFfgicXARHrFx9lesm4aJrHzkS3ghpo1XWmQ7kUXe/z99uuwbNdxfLn1MMp7IbPkdKMtJ5Kx50waRoX5YdHYKAwN8enUUNTX4Jgw7gS6CuR5pZXILioTFRJRUliB2I2n5Puxs6LlS2lCIUilzF06AXEHz+Hg1jj8/MkOjJw2UIL+xQIHTYRcZPfI9qirV0/0uRigB86wfr6yMNLLnoHb2sJMsm9lp8qE8fDZDPz5w7X4v5snYvygoE6PY1Agpxf2Qv/BaGzp+5ZrDjCmblwTnFRP35KLjUiH7nc8MvDlVpd18lQ3BMyWa6q1N5ykV5UguaKgtUja0qlOkVCWBxs9Ovr0ys4zK0mzpFYWwq1Uu0E/wftoo1W4EJ0pzWkziDIlvWPr0kn3rmBosA++f3wJHK0trzi6pDfge2Cxkjw3NdnMzuPT83pVhKUnN9vi2T7PRY9DLcZFBohSR3nOvgYnH63Ye0KvDJGDIxKyCxHWaj1QWlABc0uVFDPHzhoE43ZBXIHK3AwTbxyGQ9vicT4hG5nn8mDvZINfv9qNJh2URGN9I8qK1RbV+zacRF5mMaxsLDD//smwsr0yVDNXVDLh7iDFzlPnsnseyD0t7fFs9MWZ+P1p0l6tgXyUa6C0rrdHY0MTMlIK4OHj2OsVXzmZtW1TOt5O7f/LFfNiB6VlqYfxY9pR8WPRvNYK6ypx/77v9ebNDNqayiI+zttxW/Vy64Q29VBCWT7u2P1V288uFjZYNuFe+VcbmE1YqP571Qc8B9iARKrli62H8eO+k11yzoZQLkfOZQmPTs+S6YNCMWNwuLgT9iWPzsfhQGkuSJWtU4y0gecLF6k5wyPk54B+Xnj718eFD7d10D7DlL/zDnKDqcoE9bUNyE0vQlNjM1Z/ukM48K5wcl+SfDm42krB9Fog7xyDFCqSCQBR1Eq1KDsFgwL5xQxgLubag0JZQ02n5y7Or8AL93+B6QuGobbGsAvI1MwEN9w+Bk6utijIoWTKBI4uttiw8iCyUgsw57YxcPd21Dodpr6uEQd3nMW+zadxy8NT4RPoclGPBYOpZnt9e/RUNcSFQZtZV1fgwtC+qYnzTq9MRe+lg5iz2VrhD3Ni1Pz5un2Iy8g1eN6iLsgQ8PwSfLLpIJbtPiE0yAMzRmJggGdfvXQpNJNjrcztLO9tj8TsAuGDuauixJAB3FDwODCYW1ipoDI3RWNDIwaP6wc3n47Ndvw9M/HqilpEDA2Ef7inBHBm/12BNZ2LwVfrAguQl/K8Z7BOSM8XxUppRY3M+9x6OElM6MJ8XWVYyTMf/YZHFsQgKkQZOXmZQUta8rOaOagyCFhzdFtDfRMqymtQnF/egX0oLa5CwskMRI8MhoXlBeMfVtCZyTMov//XX6SA9ac3b4KbpwM2/3QYsdvO4LZHp2LcdVFy0iodoAXZpfjk9XWIO5KGUZMjO0jh+K2qtZFIHxh4NU8AvlfNbk4GcG0Dl6/hygV5YsoJqZ9ftucElu0+LlON+gKUOx5OzsDS6T3z3NEF7pj8XR2R0kUgp+cKs3Z6tBgycYh/y0zOExUKqRc7Jxv4hrjjulvHYNVH26GyNMP9f50vwV0BA3j8oVT5d8LcIbjhngkGL3jvr9yNr3+7dINSqmvr0XgJnTzPZRXhgddXCBOgqFioWpk/IQoTBgfjo1/240RiFtbti8fAYAbyK6DYSc6X2wNNbpcOhJ2ncKoxekp/9B8agKTTmeqtmxFwLi4baYm5mDJ3cFtzgZ2DFQLCPdpOvuuXjMI/nlyOHetOYObiEQiL8sWKj3fgw5fWICutCDc9MFEy+MLcMrz++DIYGRvhhQ/vRGh/b/leeRwnc2t8MuZWvVkug/NfjqwWzltzTN3j/ae2vS1eBK+e2ohDhZ2tRq+h5+gq8DQ3tcDYRD9dpk2VpOlwSAXO/dNHSBs8Nee741L7RKpGlU+kb2dTtt6A1xkpm67AwcAcBMJATmkg5YVpCdnw9HfFqOkD2snl1MeourIWm5bHyvfkxv3CPCSgL3p4GuIPp+LQljhs+H6faM11yQa7s9NNyeq+hcLlRvs5m7reKo8ri5w+bg6wsVRPW3JzsoWfuyOCvZ3h4WyHrYcTsWbPafn94imD2x7rsgdyKxOVmufRuGbqmtTTxrV58vPmNVV1+PDlNSgtUhdMGNCrK+ski1YKMoNGBeOPry6SIEwMGxeGcdcNxK/f7se4GQNha2+Ju/5vBpzd7PDte1vk5+sWj8Bn/1gv2flTby2Bk5ttp5OMGXWInf6LjDQEbXe1GVGF219ouOB75IR7+3ayQvLhxzU8zWl3O9IlUKs3iwIWLGnWpbkosnBMOwRd4K2PF2d0ariiT/pQZ782szC+dnMDhg1cbrCRYsvPR+Hl7ywLPjObirJq2DtYy7lQUliJT15bi/ueni2UGy8ynj/cvbX/rCvLa7H6670YPysKO9ceh7OHPQaNDoEHaQIWiMtrcHh3opyPE2cPwqu3z5Smm882H0J8Rl6PbX3ZwDN/1ADxkelr0Oq3K1AGl1NSLlbAfAe/frkLBzafho29Fe768xxMuGGI6MkpTWSj0Hdvr8ep/Wr/9nGzB8PVUz0Oz87RGkufuxEv3v0Rlr+3CZHDAqUL9L+hAN5dxKfl4ct1B+WzNTMzaWvxzy+pkODs6mgDZ3tr/OHmCaL3NzVh45j6vgpLcCwxC+8s3yWOrY8tHi/B/YrRkVM7rS7EdcxiyM3q02lzm/aXd25p0/WeOZ6Oj19diz+9eTNcPNSevrwwpVDZej0wwJMv37/1U5w4cA5jpw+QDHzOraORl1WClZ+o52KePpyKFz64Q2sQ72vw0e8Pi+mwju3MTcLDscs6NPY4qqzx6tB5OqcjEUnl+Viy87MOOnKCc1Bn+w7UeT/6tv9u/w/Ym9/RIS/IxgX/HL6wg0rl6rgEjVBXUy8L/fP/vkNouH+/uBrT5g+VhZpBO/GUejdHh739zBhXHsJDz82Fd4CLUHHFBRWwsjFH3JFUFBeUIyTSG0mnMrHl5yP43bM3IOFEhnxv72SNuXeMbbPUpR86m282HE3AdzuPydCN7sbzEC9njAz36/NzT3YQVrrPHwVcgHJL1KZ1zKDJXzOQs6Pzw2dXShHT3c8ZDXWN0mZfUqBuAhs4OgQ3Pzq9LXHi8/Ub4o/FD0/D56+swacv/YLnP79PFoT/NZRW1CD29HlJMpQuTsam5MxCPPPROlGGscHH3sZSPMnJhQ8M8UKEvxtcHGxwOiUHL362ERVVtXhoQQwmDw3tcH5c9kDODFObooLUhL7zf+e6E1j+nwu+K3W1DcK3vf2XH6UrSmBshN/9ZTaGT+h3QcYT7IbIIQHYvyUeY6bR6c1Isu/5d8dIUfPrdzZh+sLhCI5QFxEuNpTnaP9M2p6WwbakvlpvpygnKrXoyNRpjasLPKm0qVaU13exNLQXCww+DNhJcVn4+cvduOeJWbKAr/piN3IyijDr5lFyOwZsLt7bVh/D/HvGyc6MyGcn4x++w5Nv3IQp84ZixUfbMfuW0Th3Jhs2dpb45cs9qKqoFQ21X7AbBg4PvPA5tjZBUR8+OSpE2vN/2ndKPM4Nied8lBtG9IeNRd8Pa2Zi1GigX1JxBdvwW+T9BMq1ANg52iBiWKBk3xnn8pSZ5rCxt8S42UNw6+Mz4ajhuUK6YNbtMTgVmyw6c3Lmtz0xq9fv5VKekS198Bgc0ffx04uFayfvTdXJq19tgZO9FaaP6CcFzJzCcuQUlSMuJReH4tOBTUdkMlREgBsSzhegrLIG984ZhcVTBnXQ8l8ZgdyIgbzzx8KAJf5/rf4DbEzgvwq4Zb7r8evafiY/zgts4dIJcHC+oIQJCPfsXKSaHIHlH+9AVXltm6SKWTwfk1vlmYuHt2UVVwo4bOP2XV/oXVx4zGo1snG0yg8/OKvebeiCoa6SVwu405p3ZwzeeGIZjuxJxPoVByVYb1h+EEZGB+Rc2rbmGGK3xeOpt25GcOSFhbuluVl2aM/d9zn8QtQ02NkT6di9/qQs8Ef3JMluzcLKXFRNtzw8RbTU7SHnlJ21mGZxYtFvRxLwc+xpUaboo1xIfUyNDrkoSQQDyP6z6QY3LinwCXaX98fdC6kVHrukkxkoL6mSay00yg/eQa6y49X2url7vveZuUg9k401n+/EgFHB6Dc4oEfvgQ9/z5yRCPdzx6VCRl4JPly1t1dKGQ6kzi0qlwESQ8J9UFpZA5WZCTyd7XHP7JHyvpihU7FSVF6FpIwC7D6Rgs0HErDnRKo8hruTLcL91ZSussheMYHcRIedq7L9IHgh/ufva6UYqVwCZSVVWPv9/jb6pbKsFnV1Ddi6+qjInghTM1MEhHb8wPnmwwb6iEaXj8F7kxsXT/J+XkiOz4ZLK8d3JYHLWk8akJSM/GLYEF/JEG1zgAvMLczw2Ru/od8gP1hYqhA1MkhqJAxKv3y1F9PnD0V+Tilqa+plp6YU42ztraSekhyXBQ9fJ1ExNTW1oCCvTM6z8pJq1FTVy4LR1etgZys9Vm4YEYEdp1KwKvY0zmSq5WWamD44TG7f12CQ2HgsAVtPap9FqgnOj1Tg6uUgSpSi3FLknC/EqGkDRV9uKHgMfELccedTs/HOE9/js5dX4+kP7urR+2C9JirYC2OiAnGpEJeS0+tdKTPwt5fvFNUJA7kmhBkwMYK1pQqWFmYS13YeOyeLLwvqLg7WSM0pxtMf/IrrRkWIda2LvfWVw5HzAGk7SO2zFqpLHJyt8eXbG4X7JHghJZ3OEn6bXGZOejFy0gsxcFigbPUKcsqw9ZejqK7qHMC8Alzw4kd3CRf+63f78fTbS6SAxaycvB+33DzxmYU1Nzaj/7CAKy6wX0PXYJClcmnGouHISi3E2u/2y8LtE+QqOzj2BSSfyRbKhOomBvv6uiZkpxfLRSW7NWMjOZ+qKmvld23nARvJjFl3kcFyXb4W3s/RxgrzRvUXW9ujKdlYcyAOBxLTUVql3g3ZWZpj9vCIPqUNGBCY5XHx+HD9/raGkq7Q3kfdytZSOHEWNlNOZ2Lk1AHdvh5knu3swULLbPwhFt+/vV605P8rsLE0l8C740gybpk2FBatyaamqoXUytq9cVi967QEf87yfHTReAR5O2P9/nh8s/4wVu86haTMAjx71/S2guflD+SyxmqRiLXqxoVzdLASdckLv/tKgmx7moTKBFbH2Ulm3Pqzg4ut/E3XuaZSmcLdx1EWi+8/2CZc+yMv3ghHFxt4B7q0Hdh138ciM60Ar311HyytLp53xDX0LfjZ8XxgYcnM3FRqJvc8OVMCNoM5FU/sEHbzcoC1nSUWLZ0gWTez8fgjaXjv+VUdYjMTjYrSGkybP0xazvdvi4dPgCv8Qtwk48/PKYF/KwXTFXgbmiCN7eeP0eF+wp1zDNuWE0kIdHdCkHvfzP0UJU5jE46n5uCLrYdwIDHD4Ek7VMtwDmv7BdE/zAOnY5ORfDpTJIntJYgd36BuKSEf57bHZyHheDp2rz12xY5wuxigg+H1YyLxj++24ev1h4ROUcDP5dS5HGyIPYNdx1PEspZ+Mo8uGocbxg0QDTmP6U1TBmNU/wC8u3IX9p5IxV/+sxavPzQHAZ5Olz+QE9rp6Ja2D1psYYf4C7e967eT8jtzSzPJlJZ9uF190bW0yHZ4xcc7W38GnN3ttFpq0tS+sqwGnr5OWHTfBHzx5nopgPUfFoiIwf5t1AyLoW89vQLnk/LQL7rrafJ9BRZ/bUxV3W4S4sKkqVgh2LhE2VN3YWF68SeqXyz89PkuodZ47rAQziBdnFeOkwdSMH3hMIT095YmsQ0rDkpPgVI84ufPHRh5cPp/KDhz/DwcnGxEzcIgmX4uH9npRVIg9fRzlkDeHchW2sgI/m6OuHPyUNwUEy2de3SR7Ckkq6NCoqpGJhytORCPw+cyDc7CFXg724l9b3sERqrdBlm0pKWtrhrS5AXDMea6aN1dse72uPfZuXjl/s9Ff94T8P1UXcL5sDV1ve9o5nufNiIc6/efwa974hAZ6N7B0vad5TuRmJ4PX3dH3DRlEGaOiZSBIJp9C/4ejvjbfTNlQfht3xl8vHo/Xrp/1uUP5J01G9rBC40X3P6t8aivb8SQMaF4b9WjyM0oFg590pxBYrpTUlCBvZtPS6cmpWGaniyix9ybhK/e3oin/rlE9OTkTKlomDg7usNrEQ69BSJVC4/yvWT0CrXbKyfd1+2ThwOr/3BgZadZoY9FTsIkz/Buvw5q10278Gi5UsHP66t3NsHaxgK/fLVH6Ddy5AxAZmamcj5J8VzTDtTMBNctUp9nDPoDhgeKz8iMhcOFX3/50W+lK1jxEHnu37fD1q5rSZ8+8Lyi9MwSZj3bfVAMUFmN+Ix8scqNTUgXHXhPR6SRpyfN0/71MSPnsaksrZbWel2gTlwf+FiDYsIx994JWPbepg4CBkOTFQYxujleKtQ3NmqtZ3QXzKz/uGQiPlt7ACE+rmrG3wiwMDfDzVMHiyXC8Eg/4cQ1Yw13l2fS8pBdWI70vBJRuBD81+AJQZcDQre0b4s3MkLoAB/JfOIOp8HJxVYyrfhj50VCxsIWPVSYKTErd3G3l0yJW+vgfp7iscKTnt2g1Bd7+btIMwgDPYta3763WdrxTdsVeQjSNqzOX0pYmargb9MxIzIE9U2NWusNNLkK6MHjXa0QyVy4hwTb8tJqCeo/fbZLZKissZAfZ0AnTUcXvk737ecpNZPHXl6A4AhP0aDHHz2PUwdTUF/TAHtHa9RU1yPlbDb+89Ia3P3ETKFpLjaUwn4jPe2ra3E+vxSnzufgSHKWFE+LKqp6Pd/Sx8Ve5o12+n2wO2YsGY3aat2GW9pUYtrARXT+A5OREp+FtDPZkoB1BxzGcDXCiMxCgDv+/oBafrn0hlFwtLWUa3bmaLVJme5k0UhoFzYVcd9Fieu46CDcMXM4zM2ugAlBugYDq0tIHd8U6ZShMWGScbOhhyZYLE6yo5MXGwtPvDhrq+vw6Ru/iT6c2dNLn94Da1sLHNqZgA9eWg2fABc8+uKNEsR54IaMDZWt+B9eXiAXvSbo6nYNVxesbS1x/9PXY+WnuxA5xB/DxoeLFw/pt7HT+8vCTqUKF29+kU4LCFPbJltZmwtlwgWc9AzBn1l/YZF93Kwo6SgmNTB0fBjMVOokoS93bErQbiANWFOHvNIKpOQV42xmARKy8pGWX4LiihqhY/oKbGh6eOYYeDp2boSzd7bBw68s7rPnYm3izx/eLYst9fj/KzDi9KnW3cT8iVHduB+waHJ0G70yIMhDWvYVh8wrI5BrSSJkZqOW23N7+9vyA3jkr/Pg6euMY/uTpaPzrx/eKaqTc2ez8cbjy6S9ns0aDO7Kiu/qaY+F946XdmoGduVk9fRzEoVCfnYJhsR07Ji6hqsTpAFIi6z5dp+kBKTcju9LRmFeGX76fLd8xizaVZRWi7qJ3zOQc5f3+ZvrZWf3w4fbsG9znGShDPZMJGjaxqYxJgmkBVijYSv/3NvHdOv1te9aZhbN7TtnMxZWVCGnuBznC0qRmlcsnaHssqSyhVzqxaoPsoZCrn76YO3n/8XoMqXToSFuh9cAOV5s4X9g3ui2n9vjCgjk6v/aq1joLMhRaZovlj+zIeOPry4ULTibFNhVd99T18M3xE0yKV5g9/95tjR4UO3SHrxQ+aX5uMwOHn5hHrz9+5Z+sDOzkPfR4blMr6lfLiWYeXMxn3dXjChTWAt5+bN7xe+CksInb/1IkgJKXOX2JsaIGOTfVrwkNTdgWGDbXEnqz9/80woxYOO5R2ieZ+2DNDldcpgcbEzvclIixZXVyC+rkgDNoM3p9flllSipqkFVbb0E9d7a4nYHHN57+6QhWDptRNsQkSsBvE5lPmcv6aKLhd4UpnsCfYupUYs+Q5NLgJK6arx6agPszCzhb+0EH2tHeFrZwdXCFk5agvnVAh5WttRrtr7TSIsB/mK8L5perTp/TDjU9pjiGY4w+0vXCddX2Hw8EU9+sU5vFjqhfxDeXjpHawDiZ8D+AhY62YFYlFeOjNQCRI0IFPkcabjj+5OFTlM8t7VdDvKb1snmDY2N2LTqCMIG+cLFy0GtoKirlwDMEXB0DqSdbbF8Vcv37OIrq66V29TUNwgd0lsuu69Ah8OHZo4WXlyZ6tRJh95cDwtj1SW/Fkkppef2bOi1JjKq85FYoe5qjbQLhKdl75M2JztruDt1VJYox+xoSSJOlZ0TBdp1nqPgat6xhtL+PNPl0NkeXR37y56R02GPZlDKzMirNXBrlVqZW1/S53Q2t8Z9YTH4XwKDIgOlUCXSVNHSwZSo2doEZU0NKM4tkuBp7m2LuPQ84Z5533oXFQ6ez0ZdciNqGxpR19Ag7ekMuMyga+r4b718z3+V39cmxkuWzS9m3PziwIPLnBd1K5ukudejs2PQ389da5Gc7yWhIh0fJq/CGJeBmOExCvZmF7oJtUF5/9xly+fRCzKIbe2RgR5aJJb06O5evEjOSsLawi1yrwinWxHp0d/g19FV0NWGE6VJWJ6xRcYjDneK6BDI+XhlDVXYkLsfA+yD0N8uqM3hsLKxBjm1hbLwZFbno7qpFv5WHnL87c06LxoGB3KK1fNrq8S0qTuqCwdVx6xTZFItzcioLMO58iJUNzTA2cIKoQ4uMiFe8wVWNtSLCZSh4AfLx6Oboi7wNRTWVsvABxtTc9ip1MXOa7h6cTg5Eze9+V1r24G6O04dzNEpqKu751rAM1n5Xm7f2rNwdYTg3oEBm41Ht00cLCPlaJmq6xooqCvFvxKXI6UqWwL6zoJjuCNgpgQmk3aDvnkc65rrJfjwdmlVOSioK5Gg1KBluIoh4A7gD2E3wduKMr0L4LX7Repa1DU3INIuAGG2fvCwcILKWF1A1PVelNfQYmDQ5i4kv7YE6dW5OF+VK897s99UWJn2bgwdHz+5MhP/Slwh/zqr7PBEv1sxyCFU+kbeT/4R+wpPob75Qj8I39G2/CN4rv/dEsx7FMjL6mtx19YVyK1W21oagnmB/fHX4VM7vPic6gr88/hubMlMQnlDnVxc1Ch7WNnijvAhuD18iOiWlQ9ia2YSXji42eCTgMWajyfMx1C3zj4GCjgI4k/71+FoQTZuCxuMJwaNN/g9XcOVCQ5xKCi7OuVolxJmJsYys5NDnqdGh8JBi1ZZE+bGZohxjZaAnF9XgnOVWXg1/mvM9R4vQc3SxFz+xgC/OfcgUqtyJKD3FTbnHcSdAbMumJm1tGB7/hH8mr1HBsGvz9kHSxML+Fm5Y6hTOEY69UeAtRdUxh195Q2BejFqQHJlBvYVnsbx0kTk1BShpqlOFnpjGMPdwgmzPEf3OvlzVNnKF5eVwvoyvJXwA56NvAs+Vm5IqshAQ3MDrEwsJGhXNFbJMT5dloK9BScxU8fzmxoywcfV0hoJpQU6ZYGa0OwuLKqtxh/2/IqD+RlwNrfC/KABcLe0wZmSfOzNPY/Xj+2U2zwxeLy4IRJBdk4ySJiTggiFetEXyBu72ta2KJl+LWqbdHe7NbfweUvkA7Q2dYSxUdcMVFNLI5paGmAMujnqznKu4RouZfbtZm+NkWF+uG5IOKIDvfRm4JqwV9ngFr/pmOw2DMvTN2Nr/mHJVFdmbJXAPt1jBL5J24Cz5WltXcikEhiAXMzt5V8Ge7UpHmtGFRKAmc0zkGnGEQbTmqZaCVzVTXU4W35evrc1U9cvuEgwi/W1ckdhXSmq5Ha1OFtxXr5+ytghGfoMj5EY5dwf1qZqMzx9UGoAsUVxWJe9V3YUHbNhI1iYqGBraoWjJWcxyW1Ir7JyUZ+o7PFE+C34V9IK7C08KbuXdxKX45HQhRjsEIab/aYh3NYPzub2sht4Kf5zOXb7ik5husdIOcaa6DJCmRkbY3FwFGLz0qWIdkNAJG4MGqCjrV4Nd6sLU0iYeX9+9jAO5WfAw9IG742fh6Gu3vIRNjQ3Y3nyCbx0eCu+SjiCUR5+mOil5ovCHFwxxsMfWzKTYW2qwtNDJsLfVnfTBQ94uMMFf4jeoLqpFD+lP45mNGG+7z9gr+q6ySGxfDsOFX0Pf+thGO/24FUzguEa/rvA5hBPRzsZ3hwTGSD/OtuSuuxZ/Yn3IXXxcOhCDLAPxqcpa1DSUIEd+Uewr/CkZLGEm7kjxrkOwkjnSAm0NqaWErCVBKyhpRHPnfpYaBcfSzc8FrpYgrwmxLy6dVg4g37725gbq/BQyHx5ztL6CtkBkIs+XpqErOp8Ccgny5Ilew2y8cJi3ykY7TIAZjoSMdLFcWWp+Ob8ermP4vXPQOlt6YoohxAMtA+Gv7UHHM1sYW6ikl1KX4wftDOzxqOhi1DdWItjpYlIrcrGz5k78US/WzoUliPs/DHUsR+25B2SHVFpQwVcNAqn8poN8gjwDcV1vmFYe/4sduWk4obASIz3CjbI2rGgphK/pMTJ93dHDMcwBvHW+6lMTLA4JAo7s1MkYH+XeAwxngGSlauMTfCHqBicLMpFfk0lNmYk4q0xs+Fmqb/Y0iegr3dzhWTmaka1a9Q2VaCknjuOS2evqXi1K0ZFl3sX0N1K+zX0Drz+2Kru5mAjY9miAzzli/4tdNsz6qPPQGSARqaY4j5MgshrZ7+WDJEBlb+f5TUaC30mtxX0tD5nC1DVqGTbtTpvZ9JqK6ktMKl7S4wkuFtamsPDwhmjnQfI4zGT3pp3GAeK4lDRWC2Z+z/OfocJboNxT+DsTo9V21QngXNl5nbJ7AnSGeT/udPoZxcAaxN15t0Xx5BZ/p6Ck8itLcICn4myKDiY2Ugwf+H0J8ioycf+olMSsGd7qidOyXPDCP3tAuX3ZQ2VSK/Ok4y+RzpyctfPDpuC/JoqoUee3LcOzw+bitkBEXrNmMTXpDAbuTUVMu9xum/nZgMGbD7O1sxkHC3IEi7e10btB97fyR0vDp+Gp2PXY09OGh7bswavjroOAbaOlyRIkCo5U7YZlqZdt19n15zCpcaZ2CR8+/JPCBzoh3v/vgRG2gac6vhczh5IRsLhc5Kp2bvYYeC4fnDy7NlxpYyPd6uvbcDyN1ZL2/viJ2+AnXPX8yGvoWvw2NKR0JZWqHbW8HN1QIiHM0K9XBHo7iiWs3RU7GnW3R1Ymqg6LNgMqrM9YySIX+qFW3k+a1NLoSSiHUKlOLkmazd25B+TAM8AyODZz/aCB0x5YxXeTVqJ7XlH0YxmWYxIxSz0nYwQGx+RDPble2HB96PkX7AxN1Z2HFxEbg+YCTNjU3hZuuD+4Hl45cxXwscvT9+CoY7h8LRwaUvOAmy85DVyV0MOne9VEwYFcj4YOe1/jp2NP+3/Dftyz+PPBzYgraIE9/cfAUsT3bzbicIcoVf8bByksKntsfs7uovShdz1ubIiCeTK32b4hckW6LmDm4XeWbr9J7w8cjpGuvtd9BFkTS31OFj0La5UlOaX4fCmExJAuyN7o4JjxZtrsOfng/IzfUeCo/zxt9V/gquPs/YRYfWN0lzTfh6j8re9vxzEzpWxmHpbDDZ9tVMsEmY/MO1aIDcQRq2NSOamJrCyUMHB2hKudtbwdLKDj7M9fF3s4eVkB1c7GzFeMjdlMa/1vpcweFY11eKTlDUobaiUYEcqgkGRRUkGwQ05+0XdoQ28hovry+R7ZpZqaZ7u8MNre5r7CLhZOHb6W3FduXD0ujDVfYRQIysytslzkTZJrrgwzHxF+lahKHjFkCqZ5z1BKBjOpk2rztH6mMyC1QVKbe9NbTQi+wVthUhjEwx2DJeiMHcLqzJ3wsncHjd4xUj9YKhTPylirsrcIUoh/v3BkPnq3QmpanNH2JhZyi6I9ErrhL2Oz4HuTFyxtsO/YubgxUNb8Ft6At47tRfplaV4duhkOJp3LizwCRnsCS9rO53SQCcLK5ECVlXXy+3bv1AxlPHvJxn9Mwc2inTx4V2r8czQyZgbGNkje1ZDYWKkwlAncnnqYc76kFl9Aucq9+BqQH1NPRzc7DHp5jGyCBzZfBLnTpzH6b0JmHRT51bzouwS/OOeD6CyUMHNzwXu/i5w93OFi48THFztcGjDcez+KRbBUWqrXz7m5m93wc5JfyDn6TL8ukHwDLr6mpW6At8bL1J6YbBz0sLMVLJmBmIHKws42VrBxY5fNhK0mWmzOcfOyhxWKpXcp66xESpTU2l2utwsFRfsbXmHEVeWIkH8Jt+p2F1wXCiB3QUnMMp5AJalb2mjTfSBGmreVh/Irw9yCNMayBkQydV3haZ2kmny5wrI8benPH7O2oGfs/SPQqTscpHvZK0LFCmdoyUJmOw+TGgQTe6fAZ46cBZr301cIa/lm7T1CLDykF0E6wikW0gLZdUUYEf+UczyHINAa0+JqTamVnBROUggz6zJF1ULqZkeNwTxQan5fn30LPjZOuKzM4fwc8ppFNZW4bVRM+Fp1dFshweSahRCAr0e6obqGKACBTVVavOV9gNcjYyEO/9k4gI8c2ADDhdk4bmDG2Wg8F3hw2TbeTFA9UmE/TQ4qNRezPpAhcvlDuTky9PPZqHGAJ/nuQ/PgF8/b7HHfOmmt7Fv9WHUVNRovYBP7z2L49vj2trU2/y0zUzEK6O+tl6Mj4Ki1XMY66rr8PVfV3b5GvgYL/z4+BUTyOWMkwCszqz4LxtnTE1MJCDzPOOcRQZlJTDzi4OSyUnT+pWB2t7KQmgQOtTxb2xssVKZyXABs9bHar+b1NYZSEnlS8u2ICrAE3dMGSqGVvogHukFpSivVvt0c+PExcLdwbZtfF1vwOC7JnuPUAOD7UPbgtr36ZuQV1ssXZNUWVg1aregYHLG7FitWjEWflif+s3E2EQGs2t/LHVPiiEwan2O9o1J/F3742/IY2nro+ExP1R8Bh+d+0Uy7V0Fx6XISpVP+8WC4PNNdBsi2nQWV1kr4O7m5YEPSKbPjH+e93h8kLxKHmtDbix+F3yjvHqFgkmqzEBxfbnct1eBXA6CkRGszVT4v+gYydBfO7oDu7JT8X97f8XbY+d0COYy6KBVPmilZ0gBP1jz1mBc1aBdh6pWsrjggwk34vmDm7AxPRFvHtuF+qZmoXd0fej/S+D0mncf+Qzx+xO7vG3U+Aj8fe3TQpdwlJc+kIN/4tPfYduyvTi88QRChwQifHgwSvLKkH0uD6mn0uET6gnfVgtTcytzLHp8dltGfmJnHPb+cggDY/ph3AJORrkwLo2PrQsWZmZCLxAXgmvrIsJZr8bqQMvv1V/q77lLY7CU4GtqIsFT/S+zY1MJxqQxGBzbvvizigHaTJQfF36vvj3vzyy5/WMz41ZezwWoPaZ7A+Yxy3edwN64NOw/c146SX83a5TeYM529j99tg4puUWtL8NIFpTH5sZg9oiIXlEwDFgHiuOk05Bc7ULfSZJ1klf+KXO7FD0zqvPw1qDf62y5oVXF86c+xrmqLClSvhr1oMj6dIHBlsVHbRjjPFCULwa/frTgYFE81ubslZ+5CJGH7g48LbUr4hqbmxBs4y3FVnLciRUZwmO3n0PMRYDHkOfwjT4T5BhwN3OuMhO/ZO0UrTxvP951sCyWPJaUJfJ1Su2BNsJW6vdLlQupLS6afdKiz8B5c2i0BOjnD27GgbwMyZbfibkB9ir1B6B01hH6+Gz1NlT9d+pEdN/OCK7cEYyaKVNv1qTF491Te+FoboGbQwdddM78SgePXBNbxhsaET0hUugTTRTnlOLU7jMdRuZ1Bc9Ad8nevUM9cXrPWRmjdu8rt8gCsOpfv+GjJ7/B4CkDYe2gtiRgdj7jzonwCFSffMz6GciDov0x79GZBgeVkeF++OGJW9qcMJUsWYp6rX71al5SfQ4pHOWFsZrKbbpGTwIdL9CKRqqbmmFjagMzHdI0tT6ardfZKG0ohZmRGdwtPOBi7iKNJp3N4YDbJw8Rr5Y1sXH4ZtsRyezvmjqsbZKRJpJzisQ+gAsfFxlOCSosr8LKPSdlRqiqi4y+K7BNvL99oLwXyhD5mikzZICjpJAZOflmNvlROqgJYzS2vU9+LuzEpJxQG5iBMrnTBTbm8Eseqwu7gISKdKzO2oXapvpWjbs1wmx9McgxTO/9uHNgps7XoU23rTw3KZPhzhFyDEgxsSuTLfZKls/HIQ00zWOEKGKcVPa4J/B6JFWkI7e2GL9l78cE18EItPaS1zbFbRi+TFuHoroyHC4+g+s8RsnzMCNXCqfFdWWyeLRHrz5dvkny1HVNTfjroc3YmZWKz88cwmNRJPHVF5ViZkTNuL4DR58KRcWiD6LBVFngxRHTUNVYL7LFt07sRrSLFyId3a5J3njRGBvj1mcWYNCkzn4SzKjj9iUYnOHv+jEWsWuP4NH370XI4ED0HxOO4zviJKBHT+yPXT/FCr1Cvr2vjz0zYJVp76bvXEzUNtXi3aS3UdpQgoeCH0WwTUin2zQ2N+JQyUFszF2P3NocNLVwAWW2aYUhjkMx1+tG2Jt1lJPxe06J+dOCibJTWLH7JD7ddBCBHk6YFKUOopqI9HPHN08skV0Kr71NRxPx4vebxSumtwZdfD42qPxtwH1SZFS01MzKQ218JYgxKFHbvb/oNNbn7NeaFVM9QuTVFuHJE+9rbfLjcz0UPB/RjqE6Xw95eDYikTsmj+xt5QonlZ1k8O0XAGau9IlhsxDB1z3GJQoD7UO0+seLhUddKVZn70Z8WaoUd/keabJ1o/d4kV5qc2RVGZkh1NZXjgWz6JOlyaI+SazMkNvElacivjxNmqTGukQJ386mn/eSVkqx+JesXXgs7CZ57eNco7EqczvKG6slK2fBlwsJdfpKgZndoH1umsUtwYLgAYgrzsM3iUfxfeJx6dz0t1U/sY2ZetWtbNA9Y48reG0rBcOiZ1eQE11lIRLIhNJCZFSWygLyxuhZMgdRQV1To2yFZcDz/1CAJ1e+9bvdiNcSsEmFGDpeq7qiVtQtLIT6RfhgyZ/nYdLNY3F06ynsWLEfju4OQq8MmjxAqBbeXnl+/t60dV5qVZm6TlJbVSeFU4LqFxZKSe1crWBwqpIW6srWAN0R/N363HX4LWctTIxMMdqZBaxgVDSWI7ZoH3YX7kRRfSHuD3pQMvrOAwhM8egNMcKXbz2RjHdX75GA7e7Q2TxJoYIUkJfvyzNeKFVTSwRqLKwhtj6iWmFwZaBm8Dxfnav3sRpamoQ+0Po8MJKuTl1gsCUXvTprt0gHeXtzEzM4mNnC08JZmneY3XK3UFJfLq+ZHDQXGVJA7N5kgfPhkAXCM/PxyEmTObA1sxTemsXU9jhTniZFRrbRM2jret38n40+DNakWBjI+Rk4mzvI81ORQjnkjd4TMNF1iBRJ6ZDILH6+z0QEWHsK7RRpH4TYotOyy+HC4mHpLO+PuxjSN8zWNReiLgO5preykmm3B7dT9EpZnRYnhU/KEyk3NGmVLRIFtVWSdZtqCajk0StauXFKFBUnMHn+1tto0iaytbOxx4KgAXjn5B7szU1DUV013Fqfj1iRfFJsAG4NG4x+jh3NdwwBG4Kya+JQ3qD/xCRK6y/Imy4v1Mdu45c7urhV17BxsMKSp2/Ea3e+j5/fW4/Rc4Zi8OQBcHSzF9773leW4O2dL0rgNjM3A1oDeVVZFZ6Z/SqMW2kAjlcjti/bK9k9Yetkgzc2P6dV7vjfAPW2/iw25P4GYyMT3BFwF4Y5Dm8rvg13HIF/n3sPZ8rjsSN/G673nKM122NL/R/mjZPJQJwKtGLXCTxyw9hL3jesNhtrRmFdmRTmKKnj6yNXzVSJmWJWTaFk7td7dlY+MXawxZwFT3Z9MthpoyxE6txKm2gDqQo2+5AzLm+olAWkrqkBuU1FspCwS5JgU6G1qRWcze3gR/dA54GyADBoM5hSL07flDPl5/FF6joJ9g+G3Cj8NmFlYo4Rzv3FfoC7DWbZrBEEaVAayrFp//o11TePhy2R1001imTpnNNpopLgzUWCr4lBnY1LTH5HOvfHgaLTKG+olt0Ej4e1qYXch4GcBc8eZeTbs85JVyfVJc8Pnyr/ah58Hxs78REvry9AavmF6eMsUBKZlWXim6It486trkR5fa3w7vRYUbLp/8QdwNnSAsz0C8cNAZ0LNvx5sIuXLBildbUorKnqEMhL6mrwfdJxrDt/FjeHROPuiGHoDhpbarEl5x8Ghb3e2HX2Fcif3vrMfJQWdP6gNeHobt8WaHWBx3fUnKEYM2cYdq7cjx/fXoc/fHgfIkaFYv+vR5BwKBlj543o/LkYG8PF2wmmDO5c5PLKJBsnp+7qpz4fbOytOmXj4ntR24CSoko4OtmgqKgSTs7WsOTQ5NbFnddMXm4Z7B0s5ffVVXXyO0srldAKurydeZva2nqh+jjWzZAdmpryI1eqvZ7Q0Fzf9rlTElbXVCcXLr/4+90Fu1DXXIcYl/EY6jisQwHM1dwNMz1m4fPUTxFbvA+T3CbDWiMrVz4DztG8bfIQvPHjDqw7dAaLx0fDw/HSafR5HCgzXHZ+s7TDPx5+Cwa3Uh9OKlvhtCmtYyBlcGS3pSbYzMIAzEBOGoSKDG0t+l2Bwf/B4PnyeOzIZFDLrSnCkZIEbMw9IMedwZC7fGrF+UUTraVBczDCORJvnP1O7kf5I98LZYMMjlyMfK3cJOASDNj0QyG98dqZb+Q2tARgtt++h4JZNrlsUk63+s/QagdAbxYucEMcw0Xhw/cvscsxTPh60i5KcZMZPa1tSROR2qEGnhw6gzh/VwK+p8oOVr5yXAw5eFlV5ViVclra438fNVZrYw95OFZwCSXQ88UOcfUW3junqhwp5UWIdlZrIxXwYBzOzxQTKx9rewS2BnLehq377AyldJGBXLtjmXqaCj88TRnieK9AydQP52fh4/gD0pWqyCENARuFQ2zHQWXSta94UV0qcmrUVgSXGpUllTi27bQEZkoCnb06a2+1gZJCxqHi3FKdtzFTmWLxE3NEa75v9SHM//1MDJkaJcXLI5tOYuzcEZ3WOWs7Kzy34o9w91fvgn55fz0+eeo7Uaz87q075Xc8BRTqpX1Wc+p4Or74aDumz4rG9i1xEpzHT4rAjNmD5G+HYs8h7lQGHnhkKiIH+OCfr61Dako+fP2cMXZ8P4yKCYVt6xg/OT/qGnH8SBp2bT+DlOQ8jBgdgrvum2Aw1ba9YCv2FO7S+jcWOcmPM9B/c/4r2aoPdxwp2TUpl5Sqc3KxDXIYLIGiPfj8ITZhsDK1QlFdMQrrCrUGcuW20waH4tttR5BdXI4DCem4YWTkJaULKxvUnC010O8nrZSgR/DnxhZ1ExBpAAYY/qvZGMQAyeCrKFiyawvFU0QTXBRczR11pk58zwzmpjCRhYC8dZitH2zNrLEpVz2YmJkuLW7PV+XhfHWOSP7Ij49wipRi4prs3SiqL5P3Q3Dhpf47wi5AMmOilZCFv7Wn3JfvU+H4FXAX8knKailykvYY5hQhj6MJviZaAbOzM7umEH8MXwJHSliNVZjqPlx2BXzs+PJUcXAkH66WG2aq3RBbGuW4kCYiKhqqWtmRbnqtDHfzga2ZuXh5b85IEqqiPdXBC4ZBMrOqTGgWFh6Vk4xt9uEOrjhVnIuVyScxwMm9bUvF+5XW18oioQReJ3O10xmD/1jPAAnku7NTxcecVEr7k5fuiL+dTxBtK//mYdlxgeGi8fmkRfL4bF7iY3UHpsbmGO16F+zNvLq87fGSny9bICeH/czs13p8f6pKdIHHO3hQAMbcMAybvt6JLd/uxuRbYkRiGLc/ETVVtZ3li2wpV5m2DdVVMm8uNBydpi0AnTx2HqkpBZgxK1rmqVZX1+Gp5+bi2JFUnI3LRtLZHGz67QRUKlPc99AURA/xpyUO7lw6ATnZpRLcf1wWizWrDmPpQ5MRPdhffv+fdzcjN6cUY8aFYeqMgfD2depWACxvKEdWTZZc2O09uBUo2ToDulGDkahY1D+XChfO+2gWMxWYG5tDZaxCdWM1qpr0W/FSEz442BtZReVYf/is6NL1bRRPpuX02R6Rr53FPGaUpEcYhPmlCWaK5KGZwTJwaYLKEYJB64nj72l9LvLEr0c91Ekn3R24mTtitPNA+eIx4ELDz4GBOcY1Cr/l7JOFhYGURdXp7iOku1JJRNuDrofMkFkLIB3UHkweyXVzQeCOZFveESmMan4sDPgsaG7KPSA//3B+Mx4Inif0FJUspHW4s6ADIwM5F45gGx8J5MzgSbE4qmyEkiKoI+d5x8WsWxl5iL2z+KEsSzqOt0/sFgqErfN0JSQFQk785SNbRb0y2t0PI90vTKLnbZZGDseT+36TgBpk7yy8NmWL5M3fObEHp4vz4GJhhdvChrQdBJ48C4MGiuEWFwhaA/x5yERxRSSVwkXlq7NHhDbh4sHFRSmsamre6T0+wNkDT+37DYllnU/ArnClFkqZ8c5aOqVPptLwHfr20974xAA8c+lk7PxxP/atOYzZD0yVrD83LR/55wvhHeqBzKScNrkjX09VeQ0qS6o6cOQNdY2oLK1WSwmNjWBpayEKGyIzoxi/rDyE3OxSeHk74vCBFJibm+H7r/fAxtYSO7fHw9HRWqgXG1sLDBkeCGNTI/j6O8PLxxEDon2x4KaREsz/8fIaPPjYdKxafgDung545a0lcHbRPV1FH0JsQiTYOpg54s6Au2HdbndGSeFHKR+ivKEMt/vfCX+rgLasmkGcihWCxVBtKomapmrx3VCbUul31eM96Se+FmcQezZdvi4lmHzN8Y7B4ZKzUixUK1Z8OtBFPpaubbawpCJ0gRmqrr8z2Bs6/MEQGAlffoEhYDGRFAXVIoMcQ/Fs5N3y3vi3iubOu3VSRy8MuFceQxu1S4dE2gHQzOpYSQIqG6sl+LcHH/92/xlIKD8vhWAGdFoC0DOFhVAG/z2FJ4RGIZ1Csy4unGwKYtCmzS3pGCWQ89gxSzeHqnuBnCvP49HjUFRbJeZWbJX/4PR+Cb5l9XWiGmF2TPkfZYEM3u3f7Ey/fuJn/mn8IbxyZDu+TTgKe3NLoVvobGirMsfTQyZJQbL9waJt7csjZ+DZAxvEZ+WWzcvkd3RNzK5iF2ilLCq3hQ/BwuCBOi9U/n6Qs6do3H+3c5XYCvw3gLrsxz5Y2tYWf2zrKdTXdfSC1wdmyoMnDZCA2mVGNiQIYUOCEB+biLS4TAya2F9tlmVihC+fXy7NQv/3n/vbVCrP3vBaWyZe3apa2bF8H45sUW9nbR2s8dKap4RLv/A8wMHYZAwZFojy8hr5oi8MG3KoXWeWX1fXgMbGjjuIfbsTsWHtcTz1/Fzcfs945OWUSTAPj/TG0gcn47c1xxA12B9Rg/y6Fcx52wH2URjnMgHb87civjxO5IJK8CJ9Qr8Q6W8wd4OP1YUEhny5Mlj8SMlhRNr1p1N9x47Z8tMSzO3M7OBs7ty17NZa/TnRd2XG0DC97yU1txjbT55DX0F9LILE1vVIyVmJCQ+E3CiccdttWsUJd/jPFPlcezCD/CF9cxtHfBv55FYZIxc8doiSbzYUDHK0C1BQXF/e5lRKekSZz0mw1Z/OjQSzcKpc0KieNkTOXuGayZ0rvuoK+Fmr9GjaGVyjHUIkkJMnp384j5MmSBfdHXg9Xj3ztSx05OhJ5fD1cDfAQJ5fW4zsmgKhikhdqbn+RjlmNP1SqBXeX5O6Mtg0i2PU/jl2DtamncHq1DgpaJ4rLxa/co5rm+wdjFtCB8PDqnPmw9vQkrafoxt+SDwufinFdTWSLc/wDcNd/YZhuDtX984r3gSvQHw99WaxuKUDIguj3KpwsRjvFYRFwQPFZtcQ/XmEoyueGjIRzx3YqHck3NWC9se5orgSb933EUoLOmtMdcHSxgLvx74izT5dgTTJ6LnDcGrPWQnGD719J8wszFBXXY/MpFwUZhbju7+valtIWHhVmldY/FT/a9T2O2MacLW+fGUMm3+gq/zdzt5S/iW9wqzc0dlGCpxOzjYdbAKUY8DAv+anw/h11RHcelcMps+KQuy+JCy5fQwcHK3l8T/9YCv+/uYSeezugJTK9Z6zca4yCVvztiDcth8ibLvDTxvhYHEsvC29ZUEgncKgllSZiPU5ayXQD7CLgr1Z1w6byjOy+Pnw7LHS+KML1JHv6MNATjArvcE7RjzAmSluzIkVc6f2WTkxyqVzsZNZ/LrsfchDsQS/SW5D2wY01DXVS0djdwI5fcQ35x3S+rezrYMmFJCmUQK5urlMfSSpRHnoyJttx5VBvKLB8BqaAs7cXJu9V+gaLnJO5naSmSvg++JwDC9LVylwkkLhInSkOAFjXQZKkGYxk7sRyhapR2dHp4WxOaqaaiSQE4qtLpuCeMx6bJpF6uKmkCjRiVNlUtuq02aDjmW7Aqe2+6pMTDHHP0J8zcmL1zc1Cb3C+5Iq0ZdNB9o6ijEXVS98XsoYLeW+5kKrGHpRiZuib5hk51YaNMx/BVpapDlnxl2TYKUny66racCmr3ZIw4+hRKpU2ScNgIW1OeL3JUpwJC3Cnx986w5kJGSJrS4fkB2eL61+Cm7+aoXKmg824fNnfsDExaNx3+u3tfmn874M4MyY9+w4CwtL9WfCx+UnSiolONQd9fXquY/k8j29HeHn79yBqrC2Mce8RcPx9ac7MW/hcPj4OksAJ63CBWH+TSNw+MA5HNyfjCkzBnQ7K7c1tcMi35vx7+R3sTJjOR4L/aPw3vqgZJtu5m5wMHPAj5krEFu0Hx4WHsKjp1alCDXjZeEtC4VmMVQfFLe9Sw3Z2TqESSZJ/fPOguO4wXucaLbLG6rkd7poDwY5JbixzZw6aWXOpqJAIfgvfbn5N2b/VHFoA7N6NgNpLiIKmLFSrUJoTrBv/5qYkfcGIoO2dpfXy/rAyoxt0kmqZMx8Dvqiq/tbjDDbayxOkUJprMFvOXsxwjkC7haOYopFrTp3EpRvstmJCx4DOYvHBMfaKcViZaBHr7xWSG24WHZ/QrwS0NtLBA29H8EMnl+9ARceb5uu3QyJlpYm5NacQUWDesydPpTWZ+FKgIW1hXiBO3vqVq5UlVZh/5pDBskU28Mr2EN4eXLjBZlFksmL7jfAFXf+dTFev+N9NNSrW7GZ7VO9QihFT6pUrOw6umTywndxs0Xc6UzJrJVAUFffiG2b46BSmaCxQZ2Fl5VWw8zMRH4fPTQAwSFqsy0+3sBoPyy5IwbmFmZoaGiCqalxqzSxBTY2Fli4ZBSsrbsvd1MeP9QmDNPdr8Oa7F+wLmcNbvK9Re992LmpSBHJn6/NWYMTpcdxvjpNfUyMVRhoH4WFPouFlunO4iLT6S+T2pWFuDleMaKwYBBkF+fSoLni2kfagNliV2Bn4utntdtDk55gsZS88hvRj4gtgAL1cO0WyVo5UYeOi5TsmbUGbAXMbP+Z8IMsMGyN97JwaSeuqJTFRxdSKrNkkSBHbajlB6cHcXdRV98ggbuxqWPRVJljykfjfFGqZzh7lLuKlMpseS7y7AzkpGaE/zZWSRafV1fcKjdUe8Er/S2aNYarn1+4iGhoqcWmnDcMuu2VoCMnKkur8PLNb8OMqgYdYCZOyWFXOnKCPuRsyacOvKW5GeZWKnFX3Pb9HmnZV8Ag3X9suEga2SBUWlgOVWuGXV2uzrboU15CqWPrBcLnt3O2wbDhQRg6PAinTqSL3DAoxF0yaRYv09MKsX9PIlxcbNBQ34TwCG9cd300PDwdOuqc04twYF8SRrfKD+ctGC7FzseenCW6cWcXW8TuTUL0kABZDLoLZn5T3KchsTIBe4v2INw2AhF2kTpvb2dmD3NjC+HRLUwscXfAUuTUspU9W6hBdwt3eFv6SJGzu0XYqtp6JGQW6KVWsovIGfc9RMXmFCENNfQx2Z5/FLO9YtT+KawX6DmlmEmq9c9MqEw7qDu4ACj21QzMDOTaAinneL4c/6XIB6kBZ8Bb5DtZFCDKuXCq4pwUZWkXwKz8Nv/rpHGI9Ac7QvvZ+cuoOWb77Y89dwp/OvFveQ4qSQw9fiz8WptYisabWTSfj6/tYHF8m+Uvi6x8c/3tg2ShoGkWuW4WPvleLU3VSQZplPiyNFiZKrNO1dQMh0IrdQcyEtcCuQEwNbZAP7upaGjubOvaFdwsaMZz6VUu5J+Z7ZKjTj/T9e6AgZdZs3EXU4UYwN99+DPkpqpbqpVMkHx4++vMPcANtz27QDh0Fjufuf61C52drdaqO5btw4F1F9qfXX2d8fqGZ2DjaI2xE8KRmV6EO5ZOgKeXA3ZujYeZykQKnsyyBw0NQMKZbJSWVMnPlpZmF/wxCiqEA+8/0FcKouTTt2w8JZpxPkZWRrHIEBnkTQycoqQNFsYWWORzE95J+idWZf2IB8w5m1U7bE1txRQrsyZDPFYcbB3ga+UrXwrqm+tFpmhhYg4L464HBStIzCrAPe+s0HsbxazuYkCmAnmNRVKC2laVjTg3+03Fm4N+rzOhYUHzzYQfZIKPu4Uznup3W5vEkEH8jbPfSlZPHvnJfrdK5q8YRSngYsFCIBtvPktZIwqPH9I3iYcJ9dgEAxzpDT4m1SOKZJCcPjs7uQBw1igDPP1NlKYknkfkrekbw4xY3SRk2OfBRYSBl+AOjLNL6R3OQM7XzE5NLh4KaI7FzlQ+F3c0m/IOoqlVAkz722dPfaQ+Zq3SVi4sfzz2rnTWymuVKUM95Mj/l2BubNM6QPnKhVAQ6v8F9i62eG3DM3o14ZowMjKW4RDkuy/8TvlX/Q0LmrOWTkZ5sZpLPHc8DUe3nBLFzNCpUW1rlq2jDYZNj4J3iIcsJOTq2YZPFOeWSBZPisXJ40ImTa8VLkCiVQ/1gImpsdAr8v6o9jiQgqTEXFHHFOaXC1VSXFiJndviERjsBtZQS0uq8cbLa2DvYIVb7oxBfm4Z/v78KtGLM6NPSynAa39bjbBwT/lZkTv2BOqWdF/M8ZyLHzK+xc/Zq9DYol0lROok0i5SqJRDxQcRbhsOIw3VyvHSY1ie8T18Lf3wYPAjMDew05EThKICOzbWaaKgtBJx6dr9TLoDct/aipBsG6eVKv+2Ne8QrvccLV7cinOgJlde33KBs2b7PKkEJYjK7M/Wv5FrphJGl8Utg+ZMz1ES6P+d/KP4snyeulayaweVLXbmH5NiLMGhDdz9KJp2Zu70DufiszP/uDg6zvAcJacw54l+l75JgjgtCBh82RWqgAGaC4O2Y876hsL3E12Ff8ofKT1kIGeBtbm5US3Jbf270mB14bFa2n6n3OZaRn4V68bbg6ZUH//pG9RU6tbr9gS0v73x9zPbfmZAvvmpeW0/0y+FMkefME8sfe2WDoGRF++QKQMlkLNp6PbnF8rv2RH6+p3vwyvEA6+s+7M0ExGinzY3RWVlLXIyi1FTXY9jh1OlUEm5IYM8NeXkvEmlNDY1S6GW9ysurJBippW1SmSFLJbm5ZbCzd0e4RFeSDybg5KSKlG6hIS6Iye7BBUVtZLN9+bzVVuXjkVi5VkJ0OqWcO1UzUinMdhduFtUKwPtB2KQw5C2jtPa5lrsLtiJsoYyRNk76bTA1YZwH1e8uXR2m7OoNmw+loinP/8NvQWn1nC+pWZxVRptWhto6L9yrjIbbhZOYoj15tnvkFGdr3H7FpHWEfQueerkvzneodPfDAEph8nuQ6UQ+Mm51RKY/xb3uWS/soi0vlYWTQ8Wd2zSY7GWmT+/vju/Eb9k7ZbgyPvR84Qg9//cqU86BGSacf1twP1q6aI2G+7W98KArut8aA8uMiyKMpDP8Roro+C6A1Jb7XEtkF+lqKupw9Gtp4UT14fmxiYJikr7flewdbJWX6VG+j1aygsr0NxE5UrHv9Pads0HG3H2QJK6k1NliqHTomQKUNrpDGQm5ohXS/tgmpNVgmXf7oOVtTl++GYvQsI8pEW/oqIGjk7WqCivwYZ1xzFp2gCYszO0XVihPPHm28eirrYBn364DS+8shD3PzIV/357Az77cBuefmEuHnn8Orz31gZ8/p/tePzPs2HaA468Pchr3+i9AOer0pBXp8PFTzykvXCdx0z8nPUTvjr/BTJrMkVPTkplV8FOnK04AztTO0x0naR3Wo42cNuv1+O/j+g92hBQOtjl7ZRtf0uLFO1SqnTTe8x66VvSGzCYcxwai4UbcmPbaAiiTU7Y0txpsg+56hkeI6XYyvfVPutWwMfS/L1jA7vGW3Qea/q4MIund4rSuKMLosSz9hRdOBcPLuI09epNgnEtkF+lcPFywmvr/yJBWh82frUDq9/fgAmLR2PRH+d0+bhCh+g5n0ihmJqZimVtM6vz7YIiT8SA/j6wtLWUkXNlBeXS8MP7RE2IxG+fbBXPFgby9qDE8M33b2/7mQVPU9GZq19Idmax8N5sx7ez63yRsHi56JbR0qbP+/H+dy6diKSEHNkxWFqa4J4HJonXSlc1AUPA1+WicsV8n0X4LPVjnaZaUiB1mybfb8rd2Kp4+VUyxubWgic5dz8r/yt2Fxhq6yeufPoYd75y0hQEZXY0zQqy9u4U6A8VnZGOSuqhGfS0Za6UCuobKtEeLBLe4j9dqJSc2iLYm9ng3sDZbY0z2sBBGIpyhE04XBBJr0gxUg8czWx0ZtoM5At9Jqm/b+fcqg8OKht5rwzktPRlZq4MW+4JrgXyqxS0jQ2KulBA0QaeUEc2O8mVRuvZkMEBvQ4Y7AJlsBcNuBZfcwd3ewnelCFytyCdm0ZA1LgIbF+2D/kZhcLJty86Mtiam+u+eD28HPDXVxaJw6EusNFndMyFbke25Du7XMj8XVxt5auvAqZaUz0Yi32WoLC+AI4q7XJPZluULQ5xGCaKl4K6fLnwvSy9pbmIGXl3X1NDYzOKKqv1BjyOfusLkPfml6FgsKNqQ1sWzoJdeWWVcOuPhi7qkfthe/C40VdljleMmFdRp87CMQuc+o4prwveh7QL9d7u5k64yXdKj8+NntyPFAwXD/L3RXXlUpw16YW/zLVA/l+OsfOGwzvEXfjpvgD9w/+x5XlY21u1yQvbw8rGEn/+9lE4eTjC3tX2gmTtukF4Z9eL8AxkkbKbNIKxsdAu+qDNB0Pfz30BBq2JbupMTB+YmbtZuMlXX+Bkag5uef07vWW1uga1nO9SQ+dx5jx1Q2/bzecb5xotskKlAGvIfUiB0EudrfWF9XRtvDhaM50ujlD7risUmaHDpHU+T0tfOC5dwzVcw0XHthPJ+NfqPd0yjQpwd8Qb91wPCz19BZcCDFSxhaeluaVtsEQfDUxvpjKlMlskfVSzGOo1z8lGjio78Uah50lfLfbKrNBzlVkSpEk1UVGjeRuOgONwjJDWlvzePP//A1TFQju0RkgiAAAAAElFTkSuQmCC\" id=\"imagece542355a7\" transform=\"scale(1 -1) translate(0 -266.4)\" x=\"7.2\" y=\"-6.912\" width=\"266.4\" height=\"266.4\"/>\n",
       "   </g>\n",
       "  </g>\n",
       " </g>\n",
       " <defs>\n",
       "  <clipPath id=\"p3af6dd49e1\">\n",
       "   <rect x=\"7.2\" y=\"7.2\" width=\"266.112\" height=\"266.112\"/>\n",
       "  </clipPath>\n",
       " </defs>\n",
       "</svg>\n"
      ],
      "text/plain": [
       "<Figure size 640x480 with 1 Axes>"
      ]
     },
     "metadata": {},
     "output_type": "display_data"
    }
   ],
   "source": [
    "from wordcloud import WordCloud\n",
    "import matplotlib.pyplot as plt\n",
    "from collections import Counter\n",
    "import jieba\n",
    "\n",
    "\n",
    "# 中文斷詞\n",
    "sentence = \"\"\"高雄城中城大樓火災是一場2021年10月14日凌晨2時54分發生在臺灣高雄市鹽埕區府北路31號「城中城」大樓的建築物火災\n",
    "。大火造成至少46人死亡、43人受傷[2]，是臺灣戰後史上死亡人數第二多的建築物火災，僅次1995年衛爾康餐廳大火\n",
    "（若算入非建築火災的1984年煤山煤礦礦災即為戰後臺灣第三大單一火災\"\"\".replace(\"\\n\", \"\")\n",
    "sentence_list = jieba.cut(sentence, cut_all=False)\n",
    "\n",
    "with open(\"assets/stopwords.txt\", \"r\", encoding=\"utf-8-sig\") as f:\n",
    "    stops = f.readlines()\n",
    "\n",
    "# 中文繪圖需要中文字體，設定字型，微軟正黑體\n",
    "my_wordcloud = WordCloud(\n",
    "    font_path=font_path,\n",
    "    collocations=False,\n",
    "    width=2400,\n",
    "    height=2400,\n",
    "    margin=2,\n",
    "    stopwords=stops,\n",
    "    background_color=\"white\",\n",
    ")\n",
    "\n",
    "sentence_without_stopwords = (word for word in sentence_list if word not in stops)\n",
    "my_wordcloud.generate_from_frequencies(frequencies=Counter(sentence_without_stopwords))\n",
    "\n",
    "# 顯示文字雲\n",
    "plt.imshow(my_wordcloud)\n",
    "plt.axis(\"off\")  # 取消座標"
   ]
  },
  {
   "cell_type": "markdown",
   "metadata": {},
   "source": [
    "### 英文範例"
   ]
  },
  {
   "cell_type": "code",
   "execution_count": 47,
   "metadata": {},
   "outputs": [
    {
     "data": {
      "text/plain": [
       "(np.float64(-0.5), np.float64(2399.5), np.float64(2399.5), np.float64(-0.5))"
      ]
     },
     "execution_count": 47,
     "metadata": {},
     "output_type": "execute_result"
    },
    {
     "data": {
      "image/svg+xml": [
       "<?xml version=\"1.0\" encoding=\"utf-8\" standalone=\"no\"?>\n",
       "<!DOCTYPE svg PUBLIC \"-//W3C//DTD SVG 1.1//EN\"\n",
       "  \"http://www.w3.org/Graphics/SVG/1.1/DTD/svg11.dtd\">\n",
       "<svg xmlns:xlink=\"http://www.w3.org/1999/xlink\" width=\"280.512pt\" height=\"280.512pt\" viewBox=\"0 0 280.512 280.512\" xmlns=\"http://www.w3.org/2000/svg\" version=\"1.1\">\n",
       " <metadata>\n",
       "  <rdf:RDF xmlns:dc=\"http://purl.org/dc/elements/1.1/\" xmlns:cc=\"http://creativecommons.org/ns#\" xmlns:rdf=\"http://www.w3.org/1999/02/22-rdf-syntax-ns#\">\n",
       "   <cc:Work>\n",
       "    <dc:type rdf:resource=\"http://purl.org/dc/dcmitype/StillImage\"/>\n",
       "    <dc:date>2025-04-21T13:41:16.057123</dc:date>\n",
       "    <dc:format>image/svg+xml</dc:format>\n",
       "    <dc:creator>\n",
       "     <cc:Agent>\n",
       "      <dc:title>Matplotlib v3.10.1, https://matplotlib.org/</dc:title>\n",
       "     </cc:Agent>\n",
       "    </dc:creator>\n",
       "   </cc:Work>\n",
       "  </rdf:RDF>\n",
       " </metadata>\n",
       " <defs>\n",
       "  <style type=\"text/css\">*{stroke-linejoin: round; stroke-linecap: butt}</style>\n",
       " </defs>\n",
       " <g id=\"figure_1\">\n",
       "  <g id=\"patch_1\">\n",
       "   <path d=\"M 0 280.512 \n",
       "L 280.512 280.512 \n",
       "L 280.512 0 \n",
       "L 0 0 \n",
       "z\n",
       "\" style=\"fill: #ffffff\"/>\n",
       "  </g>\n",
       "  <g id=\"axes_1\">\n",
       "   <g clip-path=\"url(#p4d1adfa44f)\">\n",
       "    <image xlink:href=\"data:image/png;base64,\n",
       "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\" id=\"image970b082419\" transform=\"scale(1 -1) translate(0 -266.4)\" x=\"7.2\" y=\"-6.912\" width=\"266.4\" height=\"266.4\"/>\n",
       "   </g>\n",
       "  </g>\n",
       " </g>\n",
       " <defs>\n",
       "  <clipPath id=\"p4d1adfa44f\">\n",
       "   <rect x=\"7.2\" y=\"7.2\" width=\"266.112\" height=\"266.112\"/>\n",
       "  </clipPath>\n",
       " </defs>\n",
       "</svg>\n"
      ],
      "text/plain": [
       "<Figure size 640x480 with 1 Axes>"
      ]
     },
     "metadata": {},
     "output_type": "display_data"
    }
   ],
   "source": [
    "from wordcloud import WordCloud, STOPWORDS\n",
    "import matplotlib.pyplot as plt\n",
    "\n",
    "sentence1='''\n",
    "US Ambassador to the United Nations Linda Thomas-Greenfield on Sunday identified three areas\n",
    "where the US could take additional steps to ramp up pressure on Russia as its war in Ukraine rages on:\n",
    "a ban on Russian oil imports, a declaration of war crimes, and help facilitating delivery of Polish fighter jets to Ukraine.\n",
    "'''\n",
    "my_wordcloud = WordCloud(font_path=font_path, width=2400, height=2400, margin=2, stopwords=STOPWORDS, background_color='white')  #注意有stopwords這個參數，將the這些無意義詞去除\n",
    "\n",
    "#生成文字雲\n",
    "my_wordcloud.generate(sentence1)\n",
    "\n",
    "#顯示文字雲\n",
    "plt.imshow(my_wordcloud)\n",
    "plt.axis(\"off\") #取消座標"
   ]
  },
  {
   "cell_type": "markdown",
   "metadata": {},
   "source": [
    "## 資料清理\n",
    "\n",
    "用 replace 某字串去除無用字元。在 jieba 之前要把無用的字元去除掉，以免無用字元被切為字詞"
   ]
  },
  {
   "cell_type": "code",
   "execution_count": 48,
   "metadata": {},
   "outputs": [
    {
     "data": {
      "text/plain": [
       "'2019最新圖文好讀版aq82465net218879349blankq82465net218879349a20197月更新版本abbsBabyMotherM1564022996A415blank1TEHZKGLa托育補助和育兒津貼則是將寶寶送托或自己帶會有不同幅度的補貼分類如下02歲寶寶的補助限所得稅率未達20%且無同時請領育嬰留停津貼1公辦托嬰中心公共托育家園每月領3000元托育補助2準公共化托嬰中心準公共化保母每月領6000元托育補助3其他未簽約托嬰中心未簽約保母爺奶自行照顧每月領2500元育兒津貼'"
      ]
     },
     "execution_count": 48,
     "metadata": {},
     "output_type": "execute_result"
    }
   ],
   "source": [
    "import functools\n",
    "\n",
    "webwords = \"\"\"\n",
    "\"2019最新圖文好讀版: <a href=\"\"http://q82465.pixnet.net/blog/post/218879349\"\" rel=\"\"nofollow\"\" target=\"\"_blank\"\">http://q82465.pixnet.net/blog/post/218879349</a>\n",
    "\n",
    "2019/7月更新版本: <a href=\"\"/bbs/BabyMother/M.1564022996.A.415.html\"\" rel=\"\"nofollow\"\" target=\"\"_blank\"\">#1TEHZKGL</a>\n",
    "\n",
    "托育補助和育兒津貼則是將寶寶送托或自己帶會有不同幅度的補貼，分類如下:\n",
    "\n",
    "*** 0-2歲寶寶的補助 (限所得稅率未達20%且無同時請領育嬰留停津貼)\n",
    "\n",
    "1. 公辦托嬰中心/公共托育家園: 每月領3000元托育補助\n",
    "\n",
    "2. 準公共化托嬰中心/準公共化保母: 每月領6000元托育補助\n",
    "\n",
    "3. 其他(未簽約托嬰中心/未簽約保母/爺奶/自行照顧): 每月領2500元育兒津貼\n",
    "\"\"\"\n",
    "\n",
    "removeword = [\n",
    "    \"span\",\n",
    "    \"class\",\n",
    "    \"f3\",\n",
    "    \"https\",\n",
    "    \"imgur\",\n",
    "    \"h1\",\n",
    "    \"_   blank\",\n",
    "    \"href\",\n",
    "    \"rel\",\n",
    "    \"nofollow\",\n",
    "    \"target\",\n",
    "    \"cdn\",\n",
    "    \"cgi\",\n",
    "    \"b4\",\n",
    "    \"jpg\",\n",
    "    \"hl\",\n",
    "    \"b1\",\n",
    "    \"f5\",\n",
    "    \"f4\",\n",
    "    \"goo.gl\",\n",
    "    \"f2\",\n",
    "    \"email\",\n",
    "    \"map\",\n",
    "    \"f1\",\n",
    "    \"f6\",\n",
    "    \"__cf___\",\n",
    "    \"data\",\n",
    "    \"bbshtml\",\n",
    "    \"cf\",\n",
    "    \"f0\",\n",
    "    \"b2\",\n",
    "    \"b3\",\n",
    "    \"b5\",\n",
    "    \"b6\",\n",
    "    \"原文內容\",\n",
    "    \"原文連結\",\n",
    "    \"作者標題\",\n",
    "    \"時間\",\n",
    "    \"看板\",\n",
    "    \"<\",\n",
    "    \">\",\n",
    "    \"，\",\n",
    "    \"。\",\n",
    "    \"？\",\n",
    "    \"—\",\n",
    "    \"閒聊\",\n",
    "    \"・\",\n",
    "    \"/\",\n",
    "    \" \",\n",
    "    \"=\",\n",
    "    '\"',\n",
    "    \"\\n\",\n",
    "    \"」\",\n",
    "    \"「\",\n",
    "    \"！\",\n",
    "    \"[\",\n",
    "    \"]\",\n",
    "    \"：\",\n",
    "    \"‧\",\n",
    "    \"╦\",\n",
    "    \"╔\",\n",
    "    \"╗\",\n",
    "    \"║\",\n",
    "    \"╠\",\n",
    "    \"╬\",\n",
    "    \"╬\",\n",
    "    \":\",\n",
    "    \"╰\",\n",
    "    \"╩\",\n",
    "    \"╯\",\n",
    "    \"╭\",\n",
    "    \"╮\",\n",
    "    \"│\",\n",
    "    \"╪\",\n",
    "    \"─\",\n",
    "    \"《\",\n",
    "    \"》\",\n",
    "    \"_\",\n",
    "    \".\",\n",
    "    \"、\",\n",
    "    \"（\",\n",
    "    \"）\",\n",
    "    \"　\",\n",
    "    \"*\",\n",
    "    \"※\",\n",
    "    \"~\",\n",
    "    \"○\",\n",
    "    \"”\",\n",
    "    \"“\",\n",
    "    \"～\",\n",
    "    \"@\",\n",
    "    \"＋\",\n",
    "    \"\\r\",\n",
    "    \"▁\",\n",
    "    \")\",\n",
    "    \"(\",\n",
    "    \"-\",\n",
    "    \"═\",\n",
    "    \"?\",\n",
    "    \",\",\n",
    "    \"!\",\n",
    "    \"…\",\n",
    "    \"&\",\n",
    "    \";\",\n",
    "    \"『\",\n",
    "    \"』\",\n",
    "    \"#\",\n",
    "    \"＝\",\n",
    "    \"\\\\l\",\n",
    "    \"blog\",\n",
    "    \"html\",\n",
    "    \"post\",\n",
    "    \"http\",\n",
    "    \"pixnet\",\n",
    "]\n",
    "\n",
    "# 移除無意義的字元\n",
    "webwords_cleaned = functools.reduce(\n",
    "    lambda x, y: x.replace(y, \"\"), removeword, webwords\n",
    ")\n",
    "\n",
    "webwords_cleaned"
   ]
  },
  {
   "cell_type": "markdown",
   "metadata": {},
   "source": [
    "### df單欄位去除無用字元，示範一列"
   ]
  },
  {
   "cell_type": "code",
   "execution_count": 49,
   "metadata": {},
   "outputs": [
    {
     "data": {
      "text/plain": [
       "'先祝各位新年快樂內衣上緣微微的外翻穿衣服都會有內衣痕覺得不太雅觀板上有人問一樣的問題雖然照著那篇的推文做了但還是沒有改善QQ不曉得還有沒有什麼好辦法呢謝謝各位'"
      ]
     },
     "execution_count": 49,
     "metadata": {},
     "output_type": "execute_result"
    }
   ],
   "source": [
    "underwear = pd.read_csv(\"assets/underwear_test_clear.csv\")\n",
    "\n",
    "underwear[\"內容\"].iloc[0]  # 清除前\n",
    "\n",
    "for i in removeword:\n",
    "    underwear.loc[0,\"內容\"] = underwear[\"內容\"].iloc[0].replace(i, \"\")\n",
    "\n",
    "cleaned_v1 = underwear[\"內容\"].iloc[0]  # 清除後\n",
    "cleaned_v1"
   ]
  },
  {
   "cell_type": "markdown",
   "metadata": {},
   "source": [
    "### df 單欄位去除無用字元。示範一列。並做 jieba 切詞"
   ]
  },
  {
   "cell_type": "code",
   "execution_count": 50,
   "metadata": {},
   "outputs": [],
   "source": [
    "underwear = pd.read_csv(\"assets/underwear_test_clear.csv\")\n",
    "\n",
    "before = underwear[\"內容\"].iloc[0]  # 清除前\n",
    "\n",
    "for i in removeword:\n",
    "    underwear.loc[0,\"內容\"] = underwear[\"內容\"].iloc[0].replace(i, \"\")\n",
    "\n",
    "after = underwear[\"內容\"].iloc[0]  # 清除後"
   ]
  },
  {
   "cell_type": "code",
   "execution_count": 51,
   "metadata": {},
   "outputs": [],
   "source": [
    "import jieba\n",
    "jieba.set_dictionary('assets/dict.txt.big')"
   ]
  },
  {
   "cell_type": "markdown",
   "metadata": {},
   "source": [
    "清 removeword 前"
   ]
  },
  {
   "cell_type": "code",
   "execution_count": 52,
   "metadata": {},
   "outputs": [
    {
     "name": "stderr",
     "output_type": "stream",
     "text": [
      "Building prefix dict from /Volumes/Dev/nkust/nkust-homework/semester-6/marketing/02-share-of-voice/assets/dict.txt.big ...\n",
      "Loading model from cache /var/folders/qj/62r8d09n5hn3nm_bdzf0dcpr0000gn/T/jieba.u6e9054f30d8bff41ff092210c9dc3fac.cache\n",
      "Loading model cost 0.195 seconds.\n",
      "Prefix dict has been built successfully.\n"
     ]
    },
    {
     "data": {
      "text/plain": [
       "'先祝|各位|新年|快樂|~|~|~|\\n|\\n|內衣|上緣|微微|的|外翻| |穿衣服|都|會|有|內衣|痕|\\n|覺得|不太雅觀|@|@|\\n|板|上有|人問|一樣|的|問題|\\n|雖然|照著|那篇|的|推文|做|了| |但|還是|沒有|改善|QQ|\\n|不曉|得|還有|沒有|什麼|好辦|法|呢|？|\\n|謝謝|各位'"
      ]
     },
     "execution_count": 52,
     "metadata": {},
     "output_type": "execute_result"
    }
   ],
   "source": [
    "underwear_jieba = jieba.cut(before, cut_all=False)\n",
    "\n",
    "\"|\".join(underwear_jieba)"
   ]
  },
  {
   "cell_type": "markdown",
   "metadata": {},
   "source": [
    "清 removeword 後"
   ]
  },
  {
   "cell_type": "code",
   "execution_count": 53,
   "metadata": {},
   "outputs": [
    {
     "data": {
      "text/plain": [
       "'先祝|各位|新年|快樂|內衣|上緣|微微|的|外翻|穿衣服|都|會|有|內衣|痕覺|得|不太雅|觀板|上有|人問|一樣|的|問題|雖然|照著|那篇|的|推文|做|了|但|還是|沒有|改善|QQ|不曉|得|還有|沒有|什麼|好辦|法|呢|謝謝|各位'"
      ]
     },
     "execution_count": 53,
     "metadata": {},
     "output_type": "execute_result"
    }
   ],
   "source": [
    "underwear_jieba = jieba.cut(after, cut_all=False)\n",
    "\n",
    "\"|\".join(underwear_jieba)"
   ]
  },
  {
   "cell_type": "markdown",
   "metadata": {},
   "source": [
    "### Exercise 15: 單欄位全部列去除無用字元\n",
    "\n",
    "單欄位(underwear[\"內容\"])全部列去除無用字元,hint:用def自定副程式方式來做"
   ]
  },
  {
   "cell_type": "code",
   "execution_count": 54,
   "metadata": {},
   "outputs": [
    {
     "data": {
      "text/html": [
       "<div>\n",
       "<style scoped>\n",
       "    .dataframe tbody tr th:only-of-type {\n",
       "        vertical-align: middle;\n",
       "    }\n",
       "\n",
       "    .dataframe tbody tr th {\n",
       "        vertical-align: top;\n",
       "    }\n",
       "\n",
       "    .dataframe thead th {\n",
       "        text-align: right;\n",
       "    }\n",
       "</style>\n",
       "<table border=\"1\" class=\"dataframe\">\n",
       "  <thead>\n",
       "    <tr style=\"text-align: right;\">\n",
       "      <th></th>\n",
       "      <th>Unnamed: 0.1</th>\n",
       "      <th>Unnamed: 0</th>\n",
       "      <th>標題</th>\n",
       "      <th>時間</th>\n",
       "      <th>內容</th>\n",
       "      <th>類別</th>\n",
       "      <th>版名</th>\n",
       "      <th>文章ID</th>\n",
       "      <th>作者</th>\n",
       "      <th>IP</th>\n",
       "      <th>總留言數</th>\n",
       "      <th>留言內容</th>\n",
       "      <th>推推總數</th>\n",
       "      <th>噓聲總數</th>\n",
       "      <th>中立總數</th>\n",
       "      <th>所有文</th>\n",
       "      <th>留言總數</th>\n",
       "    </tr>\n",
       "  </thead>\n",
       "  <tbody>\n",
       "    <tr>\n",
       "      <th>0</th>\n",
       "      <td>5</td>\n",
       "      <td>5</td>\n",
       "      <td>[問題] 上緣翹翹的</td>\n",
       "      <td>2022/2/5 16:45</td>\n",
       "      <td>先祝各位新年快樂內衣上緣微微的外翻穿衣服都會有內衣痕覺得不太雅觀板上有人問一樣的問題雖然照著...</td>\n",
       "      <td>問題</td>\n",
       "      <td>underwear</td>\n",
       "      <td>M.1644050759.A.91C</td>\n",
       "      <td>shots (LMFAO)</td>\n",
       "      <td>(臺灣)</td>\n",
       "      <td>5</td>\n",
       "      <td>[{'type': '推', 'user': 'thefirstskyt', 'conten...</td>\n",
       "      <td>2</td>\n",
       "      <td>0</td>\n",
       "      <td>3</td>\n",
       "      <td>問題上緣翹翹先祝各位新年快樂內衣上緣微微外翻穿衣服都會有內衣痕覺得不太雅觀板上有人問一樣問題...</td>\n",
       "      <td>5</td>\n",
       "    </tr>\n",
       "    <tr>\n",
       "      <th>1</th>\n",
       "      <td>6</td>\n",
       "      <td>6</td>\n",
       "      <td>[贈送] Easy Shop 無鋼圈內衣70D</td>\n",
       "      <td>2022/2/3 10:29</td>\n",
       "      <td>aicomSOFv3emnoreferrernoopenerblankicomSOFv3em...</td>\n",
       "      <td>贈送</td>\n",
       "      <td>underwear</td>\n",
       "      <td>M.1643855370.A.C33</td>\n",
       "      <td>claireiro69 (Clara)</td>\n",
       "      <td>(臺灣)</td>\n",
       "      <td>0</td>\n",
       "      <td>[]</td>\n",
       "      <td>0</td>\n",
       "      <td>0</td>\n",
       "      <td>0</td>\n",
       "      <td>贈送EasyShop無鋼圈內衣70DaicomSOFv3emnoreferrernoopen...</td>\n",
       "      <td>0</td>\n",
       "    </tr>\n",
       "    <tr>\n",
       "      <th>2</th>\n",
       "      <td>7</td>\n",
       "      <td>7</td>\n",
       "      <td>Fw: [情報] 台北松江路曼黛瑪璉內衣特賣~2件900元</td>\n",
       "      <td>2022/2/3 00:48</td>\n",
       "      <td>作者sisy1017西西Actuary標題情報台北松江路曼黛瑪璉內衣特賣2件900元ThuF...</td>\n",
       "      <td>情報</td>\n",
       "      <td>underwear</td>\n",
       "      <td>M.1643820494.A.7A0</td>\n",
       "      <td>sisy1017 (西西)</td>\n",
       "      <td>(臺灣)</td>\n",
       "      <td>0</td>\n",
       "      <td>[]</td>\n",
       "      <td>0</td>\n",
       "      <td>0</td>\n",
       "      <td>0</td>\n",
       "      <td>Fw情報台北松江路曼黛瑪璉內衣特賣2件900元作者sisy1017西西Actuary標題情報...</td>\n",
       "      <td>0</td>\n",
       "    </tr>\n",
       "    <tr>\n",
       "      <th>3</th>\n",
       "      <td>8</td>\n",
       "      <td>8</td>\n",
       "      <td>[贈送] 束褲</td>\n",
       "      <td>2022/1/30 00:50</td>\n",
       "      <td>已剪標下水的未穿束褲記得是百貨公司華歌爾貨為了節食買的卻一直想等下次再節食到後來已穿不下就放...</td>\n",
       "      <td>贈送</td>\n",
       "      <td>underwear</td>\n",
       "      <td>M.1643475036.A.AEC</td>\n",
       "      <td>SophiaH (Sophia)</td>\n",
       "      <td>(臺灣)</td>\n",
       "      <td>3</td>\n",
       "      <td>[{'type': '推', 'user': 'ie975249', 'content': ...</td>\n",
       "      <td>1</td>\n",
       "      <td>0</td>\n",
       "      <td>2</td>\n",
       "      <td>贈送束褲已剪標下水未穿束褲記得是百貨公司華歌爾貨為了節食買卻一直想等下次再節食到後來已穿不下...</td>\n",
       "      <td>3</td>\n",
       "    </tr>\n",
       "    <tr>\n",
       "      <th>4</th>\n",
       "      <td>9</td>\n",
       "      <td>9</td>\n",
       "      <td>[心得] aubade數套分享及馬甲修改資訊</td>\n",
       "      <td>2022/1/29 23:53</td>\n",
       "      <td>內衣品牌aubade品名或型號1aubade激情夜曲2aubade傾心3aubade激情女人...</td>\n",
       "      <td>心得</td>\n",
       "      <td>underwear</td>\n",
       "      <td>M.1643471616.A.FC1</td>\n",
       "      <td>yzzi1159 (yzzi1159)</td>\n",
       "      <td>(臺灣)</td>\n",
       "      <td>5</td>\n",
       "      <td>[{'type': '推', 'user': 'Fantasyweed', 'content...</td>\n",
       "      <td>4</td>\n",
       "      <td>0</td>\n",
       "      <td>1</td>\n",
       "      <td>心得aubade數套分享及馬甲修改資訊內衣品牌aubade品名或型號1aubade激情夜曲2...</td>\n",
       "      <td>5</td>\n",
       "    </tr>\n",
       "    <tr>\n",
       "      <th>5</th>\n",
       "      <td>10</td>\n",
       "      <td>10</td>\n",
       "      <td>[贈送] 薄蕾絲75D內衣一件</td>\n",
       "      <td>2022/1/27 21:19</td>\n",
       "      <td>同款買了兩色覺得還是喜歡薄杯內衣故釋出全新灰紫色一件久放不影響狀況如圖aicomgPuEn2...</td>\n",
       "      <td>贈送</td>\n",
       "      <td>underwear</td>\n",
       "      <td>M.1643289589.A.1B0</td>\n",
       "      <td>DollyPig (˙3 ˙)</td>\n",
       "      <td>(臺灣)</td>\n",
       "      <td>0</td>\n",
       "      <td>[]</td>\n",
       "      <td>0</td>\n",
       "      <td>0</td>\n",
       "      <td>0</td>\n",
       "      <td>贈送薄蕾絲75D內衣一件同款買了兩色覺得還是喜歡薄杯內衣故釋出全新灰紫色一件久放不影響狀況如...</td>\n",
       "      <td>0</td>\n",
       "    </tr>\n",
       "    <tr>\n",
       "      <th>6</th>\n",
       "      <td>11</td>\n",
       "      <td>11</td>\n",
       "      <td>[心得]  紅紅褲pro心得</td>\n",
       "      <td>2022/1/25 14:47</td>\n",
       "      <td>內褲品牌Khòo品名或型號紅紅褲Pro超吸收中腰黑色心得目前穿了一次經期分別是第二天跟第四天...</td>\n",
       "      <td>心得</td>\n",
       "      <td>underwear</td>\n",
       "      <td>M.1643093269.A.924</td>\n",
       "      <td>nita1228 (qpaz86512)</td>\n",
       "      <td>(臺灣)</td>\n",
       "      <td>14</td>\n",
       "      <td>[{'type': '→', 'user': 'queen0908', 'content':...</td>\n",
       "      <td>7</td>\n",
       "      <td>0</td>\n",
       "      <td>7</td>\n",
       "      <td>心得紅紅褲pro心得內褲品牌Khòo品名或型號紅紅褲Pro超吸收中腰黑色心得目前穿了一次經期...</td>\n",
       "      <td>14</td>\n",
       "    </tr>\n",
       "    <tr>\n",
       "      <th>7</th>\n",
       "      <td>12</td>\n",
       "      <td>12</td>\n",
       "      <td>[心得] Salute貝殼杯vs.Aubade版型</td>\n",
       "      <td>2022/1/22 00:45</td>\n",
       "      <td>平常慣穿AubadeChantelle等法國牌內衣可能是胸距寬底盤大偏尖杯這幾個條件組合之下...</td>\n",
       "      <td>心得</td>\n",
       "      <td>underwear</td>\n",
       "      <td>M.1642783559.A.347</td>\n",
       "      <td>metaphorist (諾黑)</td>\n",
       "      <td>(臺灣)</td>\n",
       "      <td>11</td>\n",
       "      <td>[{'type': '推', 'user': 'tooru', 'content': '我去...</td>\n",
       "      <td>8</td>\n",
       "      <td>0</td>\n",
       "      <td>3</td>\n",
       "      <td>心得Salute貝殼杯vsAubade版型平常慣穿AubadeChantelle等法國牌內衣...</td>\n",
       "      <td>11</td>\n",
       "    </tr>\n",
       "    <tr>\n",
       "      <th>8</th>\n",
       "      <td>13</td>\n",
       "      <td>13</td>\n",
       "      <td>Fw: [情報] 台北曼黛瑪璉內衣特賣~內衣2件900元</td>\n",
       "      <td>2022/1/14 00:17</td>\n",
       "      <td>作者sisy1017西西Actuary標題情報台北曼黛瑪璉內衣特賣內衣2件900元FriJa...</td>\n",
       "      <td>情報</td>\n",
       "      <td>underwear</td>\n",
       "      <td>M.1642090674.A.6AB</td>\n",
       "      <td>sisy1017 (西西)</td>\n",
       "      <td>(臺灣)</td>\n",
       "      <td>0</td>\n",
       "      <td>[]</td>\n",
       "      <td>0</td>\n",
       "      <td>0</td>\n",
       "      <td>0</td>\n",
       "      <td>Fw情報台北曼黛瑪璉內衣特賣內衣2件900元作者sisy1017西西Actuary標題情報台...</td>\n",
       "      <td>0</td>\n",
       "    </tr>\n",
       "  </tbody>\n",
       "</table>\n",
       "</div>"
      ],
      "text/plain": [
       "   Unnamed: 0.1  Unnamed: 0                             標題               時間  \\\n",
       "0             5           5                     [問題] 上緣翹翹的   2022/2/5 16:45   \n",
       "1             6           6        [贈送] Easy Shop 無鋼圈內衣70D   2022/2/3 10:29   \n",
       "2             7           7  Fw: [情報] 台北松江路曼黛瑪璉內衣特賣~2件900元   2022/2/3 00:48   \n",
       "3             8           8                        [贈送] 束褲  2022/1/30 00:50   \n",
       "4             9           9         [心得] aubade數套分享及馬甲修改資訊  2022/1/29 23:53   \n",
       "5            10          10                [贈送] 薄蕾絲75D內衣一件  2022/1/27 21:19   \n",
       "6            11          11                 [心得]  紅紅褲pro心得  2022/1/25 14:47   \n",
       "7            12          12      [心得] Salute貝殼杯vs.Aubade版型  2022/1/22 00:45   \n",
       "8            13          13   Fw: [情報] 台北曼黛瑪璉內衣特賣~內衣2件900元  2022/1/14 00:17   \n",
       "\n",
       "                                                  內容  類別         版名  \\\n",
       "0  先祝各位新年快樂內衣上緣微微的外翻穿衣服都會有內衣痕覺得不太雅觀板上有人問一樣的問題雖然照著...  問題  underwear   \n",
       "1  aicomSOFv3emnoreferrernoopenerblankicomSOFv3em...  贈送  underwear   \n",
       "2  作者sisy1017西西Actuary標題情報台北松江路曼黛瑪璉內衣特賣2件900元ThuF...  情報  underwear   \n",
       "3  已剪標下水的未穿束褲記得是百貨公司華歌爾貨為了節食買的卻一直想等下次再節食到後來已穿不下就放...  贈送  underwear   \n",
       "4  內衣品牌aubade品名或型號1aubade激情夜曲2aubade傾心3aubade激情女人...  心得  underwear   \n",
       "5  同款買了兩色覺得還是喜歡薄杯內衣故釋出全新灰紫色一件久放不影響狀況如圖aicomgPuEn2...  贈送  underwear   \n",
       "6  內褲品牌Khòo品名或型號紅紅褲Pro超吸收中腰黑色心得目前穿了一次經期分別是第二天跟第四天...  心得  underwear   \n",
       "7  平常慣穿AubadeChantelle等法國牌內衣可能是胸距寬底盤大偏尖杯這幾個條件組合之下...  心得  underwear   \n",
       "8  作者sisy1017西西Actuary標題情報台北曼黛瑪璉內衣特賣內衣2件900元FriJa...  情報  underwear   \n",
       "\n",
       "                 文章ID                    作者    IP  總留言數  \\\n",
       "0  M.1644050759.A.91C         shots (LMFAO)  (臺灣)     5   \n",
       "1  M.1643855370.A.C33   claireiro69 (Clara)  (臺灣)     0   \n",
       "2  M.1643820494.A.7A0         sisy1017 (西西)  (臺灣)     0   \n",
       "3  M.1643475036.A.AEC      SophiaH (Sophia)  (臺灣)     3   \n",
       "4  M.1643471616.A.FC1   yzzi1159 (yzzi1159)  (臺灣)     5   \n",
       "5  M.1643289589.A.1B0       DollyPig (˙3 ˙)  (臺灣)     0   \n",
       "6  M.1643093269.A.924  nita1228 (qpaz86512)  (臺灣)    14   \n",
       "7  M.1642783559.A.347      metaphorist (諾黑)  (臺灣)    11   \n",
       "8  M.1642090674.A.6AB         sisy1017 (西西)  (臺灣)     0   \n",
       "\n",
       "                                                留言內容  推推總數  噓聲總數  中立總數  \\\n",
       "0  [{'type': '推', 'user': 'thefirstskyt', 'conten...     2     0     3   \n",
       "1                                                 []     0     0     0   \n",
       "2                                                 []     0     0     0   \n",
       "3  [{'type': '推', 'user': 'ie975249', 'content': ...     1     0     2   \n",
       "4  [{'type': '推', 'user': 'Fantasyweed', 'content...     4     0     1   \n",
       "5                                                 []     0     0     0   \n",
       "6  [{'type': '→', 'user': 'queen0908', 'content':...     7     0     7   \n",
       "7  [{'type': '推', 'user': 'tooru', 'content': '我去...     8     0     3   \n",
       "8                                                 []     0     0     0   \n",
       "\n",
       "                                                 所有文  留言總數  \n",
       "0  問題上緣翹翹先祝各位新年快樂內衣上緣微微外翻穿衣服都會有內衣痕覺得不太雅觀板上有人問一樣問題...     5  \n",
       "1  贈送EasyShop無鋼圈內衣70DaicomSOFv3emnoreferrernoopen...     0  \n",
       "2  Fw情報台北松江路曼黛瑪璉內衣特賣2件900元作者sisy1017西西Actuary標題情報...     0  \n",
       "3  贈送束褲已剪標下水未穿束褲記得是百貨公司華歌爾貨為了節食買卻一直想等下次再節食到後來已穿不下...     3  \n",
       "4  心得aubade數套分享及馬甲修改資訊內衣品牌aubade品名或型號1aubade激情夜曲2...     5  \n",
       "5  贈送薄蕾絲75D內衣一件同款買了兩色覺得還是喜歡薄杯內衣故釋出全新灰紫色一件久放不影響狀況如...     0  \n",
       "6  心得紅紅褲pro心得內褲品牌Khòo品名或型號紅紅褲Pro超吸收中腰黑色心得目前穿了一次經期...    14  \n",
       "7  心得Salute貝殼杯vsAubade版型平常慣穿AubadeChantelle等法國牌內衣...    11  \n",
       "8  Fw情報台北曼黛瑪璉內衣特賣內衣2件900元作者sisy1017西西Actuary標題情報台...     0  "
      ]
     },
     "execution_count": 54,
     "metadata": {},
     "output_type": "execute_result"
    }
   ],
   "source": [
    "import pandas as pd\n",
    "import functools\n",
    "\n",
    "underwear = pd.read_csv(\"assets/underwear_test_clear.csv\")\n",
    "\n",
    "underwear[\"內容\"] = underwear[\"內容\"].apply(\n",
    "    lambda x: functools.reduce(lambda y, z: y.replace(z, \"\"), removeword, x)\n",
    ")\n",
    "\n",
    "underwear"
   ]
  },
  {
   "cell_type": "markdown",
   "metadata": {},
   "source": [
    "## 用正規表達式去除無用字元\n",
    "\n",
    "- https://regex101.com/\n",
    "- 正規表達式常用規則 https://yanwei-liu.medium.com/python%E6%AD%A3%E8%A6%8F%E8%A1%A8%E9%81%94%E5%BC%8F-fbffb92972dc\n",
    "- 符號說明\n",
    "  - `*`：前面的字元可出現零次以上\n",
    "  - `+`：前面的字元至少要出現一次以上\n",
    "  - `{m,n}`：前面的字元可出現m次~n次(包含)\n",
    "  - `[0-9]`：0~9之間的任意數字\n",
    "  - `[a-z]`：a~z之間的任意文字(小寫)\n",
    "  - `[A-Z]`：A~Z之間的任意文字(大寫)\n",
    "  - `.`：代表任何字元(符號、數字、空格)\n",
    "  - `\\` :跳脫字元  例如：`\\+`(尋找+號)\n",
    "  - `|`：代表\"或\"(符合其中一個即可)\n",
    "  - `\\w`：代表任何字母或數字，等同於[a-z A-Z 0-9]\n",
    "  - `\\d`：代表匹配十進位數字，即[0-9]\n"
   ]
  },
  {
   "cell_type": "code",
   "execution_count": 55,
   "metadata": {},
   "outputs": [],
   "source": [
    "import re\n",
    "\n",
    "name = \"徐2先生[]\""
   ]
  },
  {
   "cell_type": "markdown",
   "metadata": {},
   "source": [
    "### 用正規表達式去除數字"
   ]
  },
  {
   "cell_type": "code",
   "execution_count": 56,
   "metadata": {},
   "outputs": [
    {
     "data": {
      "text/plain": [
       "'徐先生[]'"
      ]
     },
     "execution_count": 56,
     "metadata": {},
     "output_type": "execute_result"
    }
   ],
   "source": [
    "re.sub(r\"\\d+\", \"\", name)"
   ]
  },
  {
   "cell_type": "markdown",
   "metadata": {},
   "source": [
    "### 用正規表達式去除所有無意義字元"
   ]
  },
  {
   "cell_type": "code",
   "execution_count": 57,
   "metadata": {},
   "outputs": [
    {
     "data": {
      "text/plain": [
       "'徐先生'"
      ]
     },
     "execution_count": 57,
     "metadata": {},
     "output_type": "execute_result"
    }
   ],
   "source": [
    "re.sub(r\"(\\d)|(\\[])\", \"\", name)"
   ]
  },
  {
   "cell_type": "markdown",
   "metadata": {},
   "source": [
    "### Exercise 16: 請用str的replace做到上述功能\n"
   ]
  },
  {
   "cell_type": "code",
   "execution_count": 58,
   "metadata": {},
   "outputs": [
    {
     "data": {
      "text/plain": [
       "'徐先生'"
      ]
     },
     "execution_count": 58,
     "metadata": {},
     "output_type": "execute_result"
    }
   ],
   "source": [
    "removeword = [\"2\", \"[]\"]\n",
    "cleaned_name = name\n",
    "\n",
    "for i in removeword:\n",
    "    cleaned_name = cleaned_name.replace(i, \"\")\n",
    "\n",
    "cleaned_name\n",
    "\n",
    "\n"
   ]
  },
  {
   "cell_type": "markdown",
   "metadata": {},
   "source": [
    "### 尋找字串中有網址的並取代"
   ]
  },
  {
   "cell_type": "code",
   "execution_count": 59,
   "metadata": {},
   "outputs": [
    {
     "data": {
      "text/plain": [
       "'高雄科技大學'"
      ]
     },
     "execution_count": 59,
     "metadata": {},
     "output_type": "execute_result"
    }
   ],
   "source": [
    "import re\n",
    "\n",
    "website = \"高雄科技大學http://nkust.edu.tw\"\n",
    "pattern = r\"[a-zA-z]+://[^\\s]*\"\n",
    "re.sub(pattern, \"\", website)\n"
   ]
  },
  {
   "cell_type": "markdown",
   "metadata": {},
   "source": [
    "### 尋找字串中有英文和數字並取代"
   ]
  },
  {
   "cell_type": "code",
   "execution_count": 60,
   "metadata": {},
   "outputs": [
    {
     "data": {
      "text/plain": [
       "'高雄科技大學'"
      ]
     },
     "execution_count": 60,
     "metadata": {},
     "output_type": "execute_result"
    }
   ],
   "source": [
    "import re\n",
    "\n",
    "website1 = \"高雄科技大學333388888AAAA\"\n",
    "pattern1 = r\"[A-Za-z0-9]+$\"\n",
    "re.sub(pattern1, \"\", website1)"
   ]
  },
  {
   "cell_type": "markdown",
   "metadata": {},
   "source": [
    "### Exercise 17: 使用正規表達式，取代下列網址變空白\n",
    "\n",
    "hint:網址URL正規表述式 `[a-zA-z]+://[^\\s]*`"
   ]
  },
  {
   "cell_type": "code",
   "execution_count": 61,
   "metadata": {},
   "outputs": [
    {
     "data": {
      "text/plain": [
       "'哪裡買'"
      ]
     },
     "execution_count": 61,
     "metadata": {},
     "output_type": "execute_result"
    }
   ],
   "source": [
    "import re\n",
    "\n",
    "content = \"\"\"\n",
    "https://www.nkust.edu.tw/\n",
    "http://yahoo1.com.tw/\n",
    "http://www.idealcard.com.tw/download_01.php 哪裡買\n",
    "\"\"\"\n",
    "\n",
    "cleaned_content = re.sub(r\"[a-zA-z]+://[^\\s]*\", \"\", content)\n",
    "cleaned_content = cleaned_content.replace(\"\\n\", \"\").strip()\n",
    "cleaned_content"
   ]
  },
  {
   "cell_type": "markdown",
   "metadata": {},
   "source": [
    "### Exercise 18: 請將下列文字去除無意義的字元，以及用正規表達式去除數字與英文字"
   ]
  },
  {
   "cell_type": "code",
   "execution_count": 62,
   "metadata": {},
   "outputs": [],
   "source": [
    "webwords = \"\"\"\n",
    "\"2019最新圖文好讀版: <a href=\"\"http://q82465.pixnet.net/blog/post/218879349\"\" rel=\"\"nofollow\"\" target=\"\"_blank\"\">http://q82465.pixnet.net/blog/post/218879349</a>\n",
    "\n",
    "2019/7月更新版本: <a href=\"\"/bbs/BabyMother/M.1564022996.A.415.html\"\" rel=\"\"nofollow\"\" target=\"\"_blank\"\">#1TEHZKGL</a>\n",
    "\n",
    "托育補助和育兒津貼則是將寶寶送托或自己帶會有不同幅度的補貼，分類如下:\n",
    "\n",
    "*** 0-2歲寶寶的補助 (限所得稅率未達20%且無同時請領育嬰留停津貼)\n",
    "\n",
    "1. 公辦托嬰中心/公共托育家園: 每月領3000元托育補助\n",
    "\n",
    "2. 準公共化托嬰中心/準公共化保母: 每月領6000元托育補助\n",
    "\n",
    "3. 其他(未簽約托嬰中心/未簽約保母/爺奶/自行照顧): 每月領2500元育兒津貼\n",
    "\"\"\"\n",
    "\n",
    "# 無意義字元清單\n",
    "removeword = [\n",
    "    \"span\",\n",
    "    \"class\",\n",
    "    \"f3\",\n",
    "    \"https\",\n",
    "    \"imgur\",\n",
    "    \"h1\",\n",
    "    \"_   blank\",\n",
    "    \"href\",\n",
    "    \"rel\",\n",
    "    \"nofollow\",\n",
    "    \"target\",\n",
    "    \"cdn\",\n",
    "    \"cgi\",\n",
    "    \"b4\",\n",
    "    \"jpg\",\n",
    "    \"hl\",\n",
    "    \"b1\",\n",
    "    \"f5\",\n",
    "    \"f4\",\n",
    "    \"goo.gl\",\n",
    "    \"f2\",\n",
    "    \"email\",\n",
    "    \"map\",\n",
    "    \"f1\",\n",
    "    \"f6\",\n",
    "    \"__cf___\",\n",
    "    \"data\",\n",
    "    \"bbs\",\n",
    "    \"html\",\n",
    "    \"cf\",\n",
    "    \"f0\",\n",
    "    \"b2\",\n",
    "    \"b3\",\n",
    "    \"b5\",\n",
    "    \"b6\",\n",
    "    \"原文內容\",\n",
    "    \"原文連結\",\n",
    "    \"作者\",\n",
    "    \"標題\",\n",
    "    \"時間\",\n",
    "    \"看板\",\n",
    "    \"<\",\n",
    "    \">\",\n",
    "    \"，\",\n",
    "    \"。\",\n",
    "    \"？\",\n",
    "    \"—\",\n",
    "    \"閒聊\",\n",
    "    \"・\",\n",
    "    \"/\",\n",
    "    \" \",\n",
    "    \"=\",\n",
    "    '\"',\n",
    "    \"\\n\",\n",
    "    \"」\",\n",
    "    \"「\",\n",
    "    \"！\",\n",
    "    \"[\",\n",
    "    \"]\",\n",
    "    \"：\",\n",
    "    \"‧\",\n",
    "    \"╦\",\n",
    "    \"╔\",\n",
    "    \"╗\",\n",
    "    \"║\",\n",
    "    \"╠\",\n",
    "    \"╬\",\n",
    "    \"╬\",\n",
    "    \":\",\n",
    "    \"╰\",\n",
    "    \"╩\",\n",
    "    \"╯\",\n",
    "    \"╭\",\n",
    "    \"╮\",\n",
    "    \"│\",\n",
    "    \"╪\",\n",
    "    \"─\",\n",
    "    \"《\",\n",
    "    \"》\",\n",
    "    \"_\",\n",
    "    \".\",\n",
    "    \"、\",\n",
    "    \"（\",\n",
    "    \"）\",\n",
    "    \"　\",\n",
    "    \"*\",\n",
    "    \"※\",\n",
    "    \"~\",\n",
    "    \"○\",\n",
    "    \"”\",\n",
    "    \"“\",\n",
    "    \"～\",\n",
    "    \"@\",\n",
    "    \"＋\",\n",
    "    \"\\r\",\n",
    "    \"▁\",\n",
    "    \")\",\n",
    "    \"(\",\n",
    "    \"-\",\n",
    "    \"═\",\n",
    "    \"?\",\n",
    "    \",\",\n",
    "    \"!\",\n",
    "    \"…\",\n",
    "    \"&\",\n",
    "    \";\",\n",
    "    \"『\",\n",
    "    \"』\",\n",
    "    \"#\",\n",
    "    \"＝\",\n",
    "    r\"\\l\",\n",
    "    \"blog\",\n",
    "    \"post\",\n",
    "    \"pixnet\",\n",
    "]"
   ]
  },
  {
   "cell_type": "code",
   "execution_count": 63,
   "metadata": {},
   "outputs": [
    {
     "data": {
      "text/plain": [
       "'最新圖文好讀版月更新版本托育補助和育兒津貼則是將寶寶送托或自己帶會有不同幅度的補貼分類如下歲寶寶的補助限所得稅率未達%且無同時請領育嬰留停津貼公辦托嬰中心公共托育家園每月領元托育補助準公共化托嬰中心準公共化保母每月領元托育補助其他未簽約托嬰中心未簽約保母爺奶自行照顧每月領元育兒津貼'"
      ]
     },
     "execution_count": 63,
     "metadata": {},
     "output_type": "execute_result"
    }
   ],
   "source": [
    "import re\n",
    "import functools\n",
    "\n",
    "# 移除無意義字元\n",
    "cleaned_content = functools.reduce(lambda x, y: x.replace(y, \"\"), removeword, webwords)\n",
    "\n",
    "# 移除數字和英文字\n",
    "cleaned_content = re.sub(r\"[\\dA-Za-z]+\", \"\", cleaned_content)\n",
    "\n",
    "cleaned_content"
   ]
  },
  {
   "cell_type": "markdown",
   "metadata": {},
   "source": [
    "####"
   ]
  }
 ],
 "metadata": {
  "kernelspec": {
   "display_name": ".venv",
   "language": "python",
   "name": "python3"
  },
  "language_info": {
   "codemirror_mode": {
    "name": "ipython",
    "version": 3
   },
   "file_extension": ".py",
   "mimetype": "text/x-python",
   "name": "python",
   "nbconvert_exporter": "python",
   "pygments_lexer": "ipython3",
   "version": "3.12.5"
  }
 },
 "nbformat": 4,
 "nbformat_minor": 2
}
