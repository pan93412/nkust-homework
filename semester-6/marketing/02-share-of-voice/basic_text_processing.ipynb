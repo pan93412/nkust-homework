{
 "cells": [
  {
   "cell_type": "markdown",
   "metadata": {},
   "source": [
    "# 基本文字處理"
   ]
  },
  {
   "cell_type": "code",
   "execution_count": 1,
   "metadata": {},
   "outputs": [],
   "source": [
    "import pandas as pd"
   ]
  },
  {
   "cell_type": "markdown",
   "metadata": {},
   "source": [
    "## 計算文字次數"
   ]
  },
  {
   "cell_type": "markdown",
   "metadata": {},
   "source": [
    "### 計算某個詞在字串中出現的次數"
   ]
  },
  {
   "cell_type": "code",
   "execution_count": 2,
   "metadata": {},
   "outputs": [
    {
     "data": {
      "text/html": [
       "<div>\n",
       "<style scoped>\n",
       "    .dataframe tbody tr th:only-of-type {\n",
       "        vertical-align: middle;\n",
       "    }\n",
       "\n",
       "    .dataframe tbody tr th {\n",
       "        vertical-align: top;\n",
       "    }\n",
       "\n",
       "    .dataframe thead th {\n",
       "        text-align: right;\n",
       "    }\n",
       "</style>\n",
       "<table border=\"1\" class=\"dataframe\">\n",
       "  <thead>\n",
       "    <tr style=\"text-align: right;\">\n",
       "      <th></th>\n",
       "      <th>words</th>\n",
       "      <th>voice</th>\n",
       "    </tr>\n",
       "  </thead>\n",
       "  <tbody>\n",
       "    <tr>\n",
       "      <th>0</th>\n",
       "      <td>我</td>\n",
       "      <td>1</td>\n",
       "    </tr>\n",
       "    <tr>\n",
       "      <th>1</th>\n",
       "      <td>你</td>\n",
       "      <td>4</td>\n",
       "    </tr>\n",
       "  </tbody>\n",
       "</table>\n",
       "</div>"
      ],
      "text/plain": [
       "  words  voice\n",
       "0     我      1\n",
       "1     你      4"
      ]
     },
     "execution_count": 2,
     "metadata": {},
     "output_type": "execute_result"
    }
   ],
   "source": [
    "list1 = [\"我\", \"你\", \"他\", \"你\", \"你\", \"你\"]\n",
    "target = [\"我\", \"你\"]\n",
    "\n",
    "list_voice = []\n",
    "for i in target:\n",
    "    voice = list1.count(i)\n",
    "    list_voice.append(voice)\n",
    "\n",
    "dic = {\"words\": target, \"voice\": list_voice}\n",
    "voice_df = pd.DataFrame(dic)\n",
    "voice_df"
   ]
  },
  {
   "cell_type": "code",
   "execution_count": 3,
   "metadata": {},
   "outputs": [
    {
     "data": {
      "text/plain": [
       "[('我', 1), ('你', 4)]"
      ]
     },
     "execution_count": 3,
     "metadata": {},
     "output_type": "execute_result"
    }
   ],
   "source": [
    "list(zip(target, list_voice))"
   ]
  },
  {
   "cell_type": "code",
   "execution_count": 4,
   "metadata": {},
   "outputs": [
    {
     "data": {
      "text/html": [
       "<div>\n",
       "<style scoped>\n",
       "    .dataframe tbody tr th:only-of-type {\n",
       "        vertical-align: middle;\n",
       "    }\n",
       "\n",
       "    .dataframe tbody tr th {\n",
       "        vertical-align: top;\n",
       "    }\n",
       "\n",
       "    .dataframe thead th {\n",
       "        text-align: right;\n",
       "    }\n",
       "</style>\n",
       "<table border=\"1\" class=\"dataframe\">\n",
       "  <thead>\n",
       "    <tr style=\"text-align: right;\">\n",
       "      <th></th>\n",
       "      <th>關鍵字</th>\n",
       "      <th>次數</th>\n",
       "    </tr>\n",
       "  </thead>\n",
       "  <tbody>\n",
       "    <tr>\n",
       "      <th>0</th>\n",
       "      <td>我</td>\n",
       "      <td>1</td>\n",
       "    </tr>\n",
       "    <tr>\n",
       "      <th>1</th>\n",
       "      <td>你</td>\n",
       "      <td>4</td>\n",
       "    </tr>\n",
       "  </tbody>\n",
       "</table>\n",
       "</div>"
      ],
      "text/plain": [
       "  關鍵字  次數\n",
       "0   我   1\n",
       "1   你   4"
      ]
     },
     "execution_count": 4,
     "metadata": {},
     "output_type": "execute_result"
    }
   ],
   "source": [
    "listvoice_df = pd.DataFrame(list(zip(target, list_voice)), columns=([\"關鍵字\", \"次數\"]))\n",
    "listvoice_df"
   ]
  },
  {
   "cell_type": "markdown",
   "metadata": {},
   "source": [
    "### Exercise 1: 請計算下列各字出現的次數"
   ]
  },
  {
   "cell_type": "code",
   "execution_count": 5,
   "metadata": {},
   "outputs": [
    {
     "data": {
      "text/plain": [
       "{'我': 1, '你': 4, '他': 1}"
      ]
     },
     "execution_count": 5,
     "metadata": {},
     "output_type": "execute_result"
    }
   ],
   "source": [
    "from collections import Counter\n",
    "\n",
    "list2 = [\"我\", \"你\", \"他\", \"你\", \"你\", \"你\"]\n",
    "\n",
    "dict(Counter(list2))"
   ]
  },
  {
   "cell_type": "markdown",
   "metadata": {},
   "source": [
    "## 欄位讀取"
   ]
  },
  {
   "cell_type": "markdown",
   "metadata": {},
   "source": [
    "### DataFrame 逐列讀取"
   ]
  },
  {
   "cell_type": "code",
   "execution_count": 6,
   "metadata": {},
   "outputs": [
    {
     "name": "stdout",
     "output_type": "stream",
     "text": [
      "關鍵字:  我   聲量: 1\n",
      "關鍵字:  你   聲量: 4\n"
     ]
    }
   ],
   "source": [
    "for  i in range(len(voice_df)):\n",
    "    print(f\"關鍵字:  {voice_df.words.iloc[i]}   聲量: {voice_df.voice.iloc[i]}\")  "
   ]
  },
  {
   "cell_type": "markdown",
   "metadata": {},
   "source": [
    "### 請將下列資料 `df` 以列存取進 `alllist` 串列中"
   ]
  },
  {
   "cell_type": "code",
   "execution_count": 7,
   "metadata": {},
   "outputs": [
    {
     "data": {
      "text/html": [
       "<div>\n",
       "<style scoped>\n",
       "    .dataframe tbody tr th:only-of-type {\n",
       "        vertical-align: middle;\n",
       "    }\n",
       "\n",
       "    .dataframe tbody tr th {\n",
       "        vertical-align: top;\n",
       "    }\n",
       "\n",
       "    .dataframe thead th {\n",
       "        text-align: right;\n",
       "    }\n",
       "</style>\n",
       "<table border=\"1\" class=\"dataframe\">\n",
       "  <thead>\n",
       "    <tr style=\"text-align: right;\">\n",
       "      <th></th>\n",
       "      <th>電影</th>\n",
       "      <th>關鍵字</th>\n",
       "    </tr>\n",
       "  </thead>\n",
       "  <tbody>\n",
       "    <tr>\n",
       "      <th>0</th>\n",
       "      <td>成為王的男人</td>\n",
       "      <td>預告</td>\n",
       "    </tr>\n",
       "    <tr>\n",
       "      <th>1</th>\n",
       "      <td>皇后的品格</td>\n",
       "      <td>中字</td>\n",
       "    </tr>\n",
       "    <tr>\n",
       "      <th>2</th>\n",
       "      <td>赤月青日</td>\n",
       "      <td>媽媽</td>\n",
       "    </tr>\n",
       "    <tr>\n",
       "      <th>3</th>\n",
       "      <td>神的測驗</td>\n",
       "      <td>官網</td>\n",
       "    </tr>\n",
       "    <tr>\n",
       "      <th>4</th>\n",
       "      <td>死之詠讚</td>\n",
       "      <td>刑警</td>\n",
       "    </tr>\n",
       "    <tr>\n",
       "      <th>5</th>\n",
       "      <td>加油吧威基基</td>\n",
       "      <td>韓國</td>\n",
       "    </tr>\n",
       "    <tr>\n",
       "      <th>6</th>\n",
       "      <td>皮諾丘</td>\n",
       "      <td>預告</td>\n",
       "    </tr>\n",
       "    <tr>\n",
       "      <th>7</th>\n",
       "      <td>魔女寶鑑</td>\n",
       "      <td>中字</td>\n",
       "    </tr>\n",
       "    <tr>\n",
       "      <th>8</th>\n",
       "      <td>男朋友</td>\n",
       "      <td>媽媽</td>\n",
       "    </tr>\n",
       "    <tr>\n",
       "      <th>9</th>\n",
       "      <td>來自星星的你</td>\n",
       "      <td>官網銷售</td>\n",
       "    </tr>\n",
       "    <tr>\n",
       "      <th>10</th>\n",
       "      <td>成為王的男人</td>\n",
       "      <td>預告</td>\n",
       "    </tr>\n",
       "    <tr>\n",
       "      <th>11</th>\n",
       "      <td>皇后的品格</td>\n",
       "      <td>預告</td>\n",
       "    </tr>\n",
       "  </tbody>\n",
       "</table>\n",
       "</div>"
      ],
      "text/plain": [
       "        電影   關鍵字\n",
       "0   成為王的男人    預告\n",
       "1    皇后的品格    中字\n",
       "2     赤月青日    媽媽\n",
       "3     神的測驗    官網\n",
       "4     死之詠讚    刑警\n",
       "5   加油吧威基基    韓國\n",
       "6      皮諾丘    預告\n",
       "7     魔女寶鑑    中字\n",
       "8      男朋友    媽媽\n",
       "9   來自星星的你  官網銷售\n",
       "10  成為王的男人    預告\n",
       "11   皇后的品格    預告"
      ]
     },
     "execution_count": 7,
     "metadata": {},
     "output_type": "execute_result"
    }
   ],
   "source": [
    "movielist = [\n",
    "    [\"成為王的男人\", \"預告\"],\n",
    "    [\"皇后的品格\", \"中字\"],\n",
    "    [\"赤月青日\", \"媽媽\"],\n",
    "    [\"神的測驗\", \"官網\"],\n",
    "    [\"死之詠讚\", \"刑警\"],\n",
    "    [\"加油吧威基基\", \"韓國\"],\n",
    "    [\"皮諾丘\", \"預告\"],\n",
    "    [\"魔女寶鑑\", \"中字\"],\n",
    "    [\"男朋友\", \"媽媽\"],\n",
    "    [\"來自星星的你\", \"官網銷售\"],\n",
    "    [\"成為王的男人\", \"預告\"],\n",
    "    [\"皇后的品格\", \"預告\"],\n",
    "]\n",
    "KoreaDrama = pd.DataFrame(movielist, columns=([\"電影\", \"關鍵字\"]))\n",
    "KoreaDrama"
   ]
  },
  {
   "cell_type": "markdown",
   "metadata": {},
   "source": [
    "將上述 `korea_drama_df` 轉為原本的 list"
   ]
  },
  {
   "cell_type": "code",
   "execution_count": 8,
   "metadata": {},
   "outputs": [
    {
     "data": {
      "text/plain": [
       "[['成為王的男人', '預告'],\n",
       " ['皇后的品格', '中字'],\n",
       " ['赤月青日', '媽媽'],\n",
       " ['神的測驗', '官網'],\n",
       " ['死之詠讚', '刑警'],\n",
       " ['加油吧威基基', '韓國'],\n",
       " ['皮諾丘', '預告'],\n",
       " ['魔女寶鑑', '中字'],\n",
       " ['男朋友', '媽媽'],\n",
       " ['來自星星的你', '官網銷售'],\n",
       " ['成為王的男人', '預告'],\n",
       " ['皇后的品格', '預告']]"
      ]
     },
     "execution_count": 8,
     "metadata": {},
     "output_type": "execute_result"
    }
   ],
   "source": [
    "alllist = KoreaDrama.values.tolist()\n",
    "alllist"
   ]
  },
  {
   "cell_type": "markdown",
   "metadata": {},
   "source": [
    "### 請找出關鍵字有哪些字詞？"
   ]
  },
  {
   "cell_type": "code",
   "execution_count": 9,
   "metadata": {},
   "outputs": [
    {
     "data": {
      "text/plain": [
       "array(['預告', '中字', '媽媽', '官網', '刑警', '韓國', '官網銷售'], dtype=object)"
      ]
     },
     "execution_count": 9,
     "metadata": {},
     "output_type": "execute_result"
    }
   ],
   "source": [
    "KoreaDrama[\"關鍵字\"].unique()"
   ]
  },
  {
   "cell_type": "markdown",
   "metadata": {},
   "source": [
    "## 資料篩選"
   ]
  },
  {
   "cell_type": "markdown",
   "metadata": {},
   "source": [
    "### 挑選符合完整字詞的資料"
   ]
  },
  {
   "cell_type": "code",
   "execution_count": 10,
   "metadata": {},
   "outputs": [
    {
     "data": {
      "text/plain": [
       "0      True\n",
       "1     False\n",
       "2     False\n",
       "3     False\n",
       "4     False\n",
       "5     False\n",
       "6     False\n",
       "7     False\n",
       "8     False\n",
       "9     False\n",
       "10     True\n",
       "11    False\n",
       "Name: 電影, dtype: bool"
      ]
     },
     "execution_count": 10,
     "metadata": {},
     "output_type": "execute_result"
    }
   ],
   "source": [
    "KoreaDrama[\"電影\"]==\"成為王的男人\""
   ]
  },
  {
   "cell_type": "code",
   "execution_count": 11,
   "metadata": {},
   "outputs": [
    {
     "data": {
      "text/html": [
       "<div>\n",
       "<style scoped>\n",
       "    .dataframe tbody tr th:only-of-type {\n",
       "        vertical-align: middle;\n",
       "    }\n",
       "\n",
       "    .dataframe tbody tr th {\n",
       "        vertical-align: top;\n",
       "    }\n",
       "\n",
       "    .dataframe thead th {\n",
       "        text-align: right;\n",
       "    }\n",
       "</style>\n",
       "<table border=\"1\" class=\"dataframe\">\n",
       "  <thead>\n",
       "    <tr style=\"text-align: right;\">\n",
       "      <th></th>\n",
       "      <th>電影</th>\n",
       "      <th>關鍵字</th>\n",
       "    </tr>\n",
       "  </thead>\n",
       "  <tbody>\n",
       "    <tr>\n",
       "      <th>0</th>\n",
       "      <td>成為王的男人</td>\n",
       "      <td>預告</td>\n",
       "    </tr>\n",
       "    <tr>\n",
       "      <th>10</th>\n",
       "      <td>成為王的男人</td>\n",
       "      <td>預告</td>\n",
       "    </tr>\n",
       "  </tbody>\n",
       "</table>\n",
       "</div>"
      ],
      "text/plain": [
       "        電影 關鍵字\n",
       "0   成為王的男人  預告\n",
       "10  成為王的男人  預告"
      ]
     },
     "execution_count": 11,
     "metadata": {},
     "output_type": "execute_result"
    }
   ],
   "source": [
    "KoreaDrama[KoreaDrama[\"電影\"]==\"成為王的男人\"]"
   ]
  },
  {
   "cell_type": "markdown",
   "metadata": {},
   "source": [
    "#### Exercise 2: 請找出 KoreaDrama 中「男朋友」這部片的資料?"
   ]
  },
  {
   "cell_type": "code",
   "execution_count": 12,
   "metadata": {},
   "outputs": [
    {
     "data": {
      "text/html": [
       "<div>\n",
       "<style scoped>\n",
       "    .dataframe tbody tr th:only-of-type {\n",
       "        vertical-align: middle;\n",
       "    }\n",
       "\n",
       "    .dataframe tbody tr th {\n",
       "        vertical-align: top;\n",
       "    }\n",
       "\n",
       "    .dataframe thead th {\n",
       "        text-align: right;\n",
       "    }\n",
       "</style>\n",
       "<table border=\"1\" class=\"dataframe\">\n",
       "  <thead>\n",
       "    <tr style=\"text-align: right;\">\n",
       "      <th></th>\n",
       "      <th>電影</th>\n",
       "      <th>關鍵字</th>\n",
       "    </tr>\n",
       "  </thead>\n",
       "  <tbody>\n",
       "    <tr>\n",
       "      <th>8</th>\n",
       "      <td>男朋友</td>\n",
       "      <td>媽媽</td>\n",
       "    </tr>\n",
       "  </tbody>\n",
       "</table>\n",
       "</div>"
      ],
      "text/plain": [
       "    電影 關鍵字\n",
       "8  男朋友  媽媽"
      ]
     },
     "execution_count": 12,
     "metadata": {},
     "output_type": "execute_result"
    }
   ],
   "source": [
    "KoreaDrama[KoreaDrama[\"電影\"]==\"男朋友\"]"
   ]
  },
  {
   "cell_type": "markdown",
   "metadata": {},
   "source": [
    "### 挑選符合部分字詞的資料"
   ]
  },
  {
   "cell_type": "code",
   "execution_count": 13,
   "metadata": {},
   "outputs": [
    {
     "data": {
      "text/plain": [
       "0      True\n",
       "1      True\n",
       "2     False\n",
       "3     False\n",
       "4     False\n",
       "5     False\n",
       "6     False\n",
       "7     False\n",
       "8     False\n",
       "9     False\n",
       "10     True\n",
       "11     True\n",
       "Name: 電影, dtype: bool"
      ]
     },
     "execution_count": 13,
     "metadata": {},
     "output_type": "execute_result"
    }
   ],
   "source": [
    "KoreaDrama[\"電影\"].str.contains(\"王的|皇后\")"
   ]
  },
  {
   "cell_type": "code",
   "execution_count": 14,
   "metadata": {},
   "outputs": [
    {
     "data": {
      "text/html": [
       "<div>\n",
       "<style scoped>\n",
       "    .dataframe tbody tr th:only-of-type {\n",
       "        vertical-align: middle;\n",
       "    }\n",
       "\n",
       "    .dataframe tbody tr th {\n",
       "        vertical-align: top;\n",
       "    }\n",
       "\n",
       "    .dataframe thead th {\n",
       "        text-align: right;\n",
       "    }\n",
       "</style>\n",
       "<table border=\"1\" class=\"dataframe\">\n",
       "  <thead>\n",
       "    <tr style=\"text-align: right;\">\n",
       "      <th></th>\n",
       "      <th>電影</th>\n",
       "      <th>關鍵字</th>\n",
       "    </tr>\n",
       "  </thead>\n",
       "  <tbody>\n",
       "    <tr>\n",
       "      <th>0</th>\n",
       "      <td>成為王的男人</td>\n",
       "      <td>預告</td>\n",
       "    </tr>\n",
       "    <tr>\n",
       "      <th>1</th>\n",
       "      <td>皇后的品格</td>\n",
       "      <td>中字</td>\n",
       "    </tr>\n",
       "    <tr>\n",
       "      <th>10</th>\n",
       "      <td>成為王的男人</td>\n",
       "      <td>預告</td>\n",
       "    </tr>\n",
       "    <tr>\n",
       "      <th>11</th>\n",
       "      <td>皇后的品格</td>\n",
       "      <td>預告</td>\n",
       "    </tr>\n",
       "  </tbody>\n",
       "</table>\n",
       "</div>"
      ],
      "text/plain": [
       "        電影 關鍵字\n",
       "0   成為王的男人  預告\n",
       "1    皇后的品格  中字\n",
       "10  成為王的男人  預告\n",
       "11   皇后的品格  預告"
      ]
     },
     "execution_count": 14,
     "metadata": {},
     "output_type": "execute_result"
    }
   ],
   "source": [
    "KoreaDrama[KoreaDrama[\"電影\"].str.contains(\"王的|皇后\")]"
   ]
  },
  {
   "cell_type": "markdown",
   "metadata": {},
   "source": [
    "#### Exercise 3: 請找出關鍵字有\"網\"或\"國\"的資料?"
   ]
  },
  {
   "cell_type": "code",
   "execution_count": 15,
   "metadata": {},
   "outputs": [
    {
     "data": {
      "text/html": [
       "<div>\n",
       "<style scoped>\n",
       "    .dataframe tbody tr th:only-of-type {\n",
       "        vertical-align: middle;\n",
       "    }\n",
       "\n",
       "    .dataframe tbody tr th {\n",
       "        vertical-align: top;\n",
       "    }\n",
       "\n",
       "    .dataframe thead th {\n",
       "        text-align: right;\n",
       "    }\n",
       "</style>\n",
       "<table border=\"1\" class=\"dataframe\">\n",
       "  <thead>\n",
       "    <tr style=\"text-align: right;\">\n",
       "      <th></th>\n",
       "      <th>電影</th>\n",
       "      <th>關鍵字</th>\n",
       "    </tr>\n",
       "  </thead>\n",
       "  <tbody>\n",
       "    <tr>\n",
       "      <th>3</th>\n",
       "      <td>神的測驗</td>\n",
       "      <td>官網</td>\n",
       "    </tr>\n",
       "    <tr>\n",
       "      <th>5</th>\n",
       "      <td>加油吧威基基</td>\n",
       "      <td>韓國</td>\n",
       "    </tr>\n",
       "    <tr>\n",
       "      <th>9</th>\n",
       "      <td>來自星星的你</td>\n",
       "      <td>官網銷售</td>\n",
       "    </tr>\n",
       "  </tbody>\n",
       "</table>\n",
       "</div>"
      ],
      "text/plain": [
       "       電影   關鍵字\n",
       "3    神的測驗    官網\n",
       "5  加油吧威基基    韓國\n",
       "9  來自星星的你  官網銷售"
      ]
     },
     "execution_count": 15,
     "metadata": {},
     "output_type": "execute_result"
    }
   ],
   "source": [
    "KoreaDrama[KoreaDrama[\"關鍵字\"].str.contains(\"網|國\")]"
   ]
  },
  {
   "cell_type": "markdown",
   "metadata": {},
   "source": [
    "### Exercise 4: 請找出KoreaDrama中符合以下電影的資料\n",
    "\n",
    "`['成為王的男人','皇后的品格']`"
   ]
  },
  {
   "cell_type": "code",
   "execution_count": 16,
   "metadata": {},
   "outputs": [
    {
     "data": {
      "text/html": [
       "<div>\n",
       "<style scoped>\n",
       "    .dataframe tbody tr th:only-of-type {\n",
       "        vertical-align: middle;\n",
       "    }\n",
       "\n",
       "    .dataframe tbody tr th {\n",
       "        vertical-align: top;\n",
       "    }\n",
       "\n",
       "    .dataframe thead th {\n",
       "        text-align: right;\n",
       "    }\n",
       "</style>\n",
       "<table border=\"1\" class=\"dataframe\">\n",
       "  <thead>\n",
       "    <tr style=\"text-align: right;\">\n",
       "      <th></th>\n",
       "      <th>電影</th>\n",
       "      <th>關鍵字</th>\n",
       "    </tr>\n",
       "  </thead>\n",
       "  <tbody>\n",
       "    <tr>\n",
       "      <th>0</th>\n",
       "      <td>成為王的男人</td>\n",
       "      <td>預告</td>\n",
       "    </tr>\n",
       "    <tr>\n",
       "      <th>1</th>\n",
       "      <td>皇后的品格</td>\n",
       "      <td>中字</td>\n",
       "    </tr>\n",
       "    <tr>\n",
       "      <th>10</th>\n",
       "      <td>成為王的男人</td>\n",
       "      <td>預告</td>\n",
       "    </tr>\n",
       "    <tr>\n",
       "      <th>11</th>\n",
       "      <td>皇后的品格</td>\n",
       "      <td>預告</td>\n",
       "    </tr>\n",
       "  </tbody>\n",
       "</table>\n",
       "</div>"
      ],
      "text/plain": [
       "        電影 關鍵字\n",
       "0   成為王的男人  預告\n",
       "1    皇后的品格  中字\n",
       "10  成為王的男人  預告\n",
       "11   皇后的品格  預告"
      ]
     },
     "execution_count": 16,
     "metadata": {},
     "output_type": "execute_result"
    }
   ],
   "source": [
    "KoreaDrama[KoreaDrama[\"電影\"].isin([\"成為王的男人\", \"皇后的品格\"])]"
   ]
  },
  {
   "cell_type": "markdown",
   "metadata": {},
   "source": [
    "### Exercise 5 Advanced: 找出\"關鍵字\"欄位中包含\"官網\"但不包含\"銷售\"的資料 "
   ]
  },
  {
   "cell_type": "code",
   "execution_count": 17,
   "metadata": {},
   "outputs": [
    {
     "data": {
      "text/html": [
       "<div>\n",
       "<style scoped>\n",
       "    .dataframe tbody tr th:only-of-type {\n",
       "        vertical-align: middle;\n",
       "    }\n",
       "\n",
       "    .dataframe tbody tr th {\n",
       "        vertical-align: top;\n",
       "    }\n",
       "\n",
       "    .dataframe thead th {\n",
       "        text-align: right;\n",
       "    }\n",
       "</style>\n",
       "<table border=\"1\" class=\"dataframe\">\n",
       "  <thead>\n",
       "    <tr style=\"text-align: right;\">\n",
       "      <th></th>\n",
       "      <th>電影</th>\n",
       "      <th>關鍵字</th>\n",
       "    </tr>\n",
       "  </thead>\n",
       "  <tbody>\n",
       "    <tr>\n",
       "      <th>3</th>\n",
       "      <td>神的測驗</td>\n",
       "      <td>官網</td>\n",
       "    </tr>\n",
       "  </tbody>\n",
       "</table>\n",
       "</div>"
      ],
      "text/plain": [
       "     電影 關鍵字\n",
       "3  神的測驗  官網"
      ]
     },
     "execution_count": 17,
     "metadata": {},
     "output_type": "execute_result"
    }
   ],
   "source": [
    "KoreaDrama[KoreaDrama[\"關鍵字\"].str.contains(\"官網\") & ~KoreaDrama[\"關鍵字\"].str.contains(\"銷售\")]"
   ]
  },
  {
   "cell_type": "markdown",
   "metadata": {},
   "source": [
    "### Exercise 6: \"成為王的男人\"關鍵字有哪些,列出\"關鍵詞\"與\"個數\""
   ]
  },
  {
   "cell_type": "code",
   "execution_count": 18,
   "metadata": {},
   "outputs": [
    {
     "data": {
      "text/plain": [
       "關鍵字\n",
       "預告    2\n",
       "Name: count, dtype: int64"
      ]
     },
     "execution_count": 18,
     "metadata": {},
     "output_type": "execute_result"
    }
   ],
   "source": [
    "KoreaDrama[KoreaDrama[\"電影\"] == \"成為王的男人\"][\"關鍵字\"].value_counts()\n"
   ]
  },
  {
   "cell_type": "markdown",
   "metadata": {},
   "source": [
    "### 成為王的男人的關鍵字，符合下列關鍵字哪一些，請以df顯示"
   ]
  },
  {
   "cell_type": "code",
   "execution_count": 19,
   "metadata": {},
   "outputs": [
    {
     "data": {
      "text/plain": [
       "[2, 0, 0, 0, 0, 0]"
      ]
     },
     "execution_count": 19,
     "metadata": {},
     "output_type": "execute_result"
    }
   ],
   "source": [
    "KoreaDrama[\"電影\"].str.contains(\"成為王的男人\")\n",
    "KoreaDrama_wang = KoreaDrama[KoreaDrama[\"電影\"].str.contains(\"成為王的男人\")]\n",
    "\n",
    "focus_keyword = [\"預告\", \"中字\", \"媽媽\", \"官網\", \"刑警\", \"韓國\"]\n",
    "\n",
    "focus_keyword_voice = []\n",
    "for j in focus_keyword:\n",
    "    keyword_list = list(KoreaDrama_wang[\"關鍵字\"])\n",
    "    focus_keyword_voice.append(keyword_list.count(j))\n",
    "\n",
    "focus_keyword_voice"
   ]
  },
  {
   "cell_type": "code",
   "execution_count": 20,
   "metadata": {},
   "outputs": [
    {
     "data": {
      "text/html": [
       "<div>\n",
       "<style scoped>\n",
       "    .dataframe tbody tr th:only-of-type {\n",
       "        vertical-align: middle;\n",
       "    }\n",
       "\n",
       "    .dataframe tbody tr th {\n",
       "        vertical-align: top;\n",
       "    }\n",
       "\n",
       "    .dataframe thead th {\n",
       "        text-align: right;\n",
       "    }\n",
       "</style>\n",
       "<table border=\"1\" class=\"dataframe\">\n",
       "  <thead>\n",
       "    <tr style=\"text-align: right;\">\n",
       "      <th></th>\n",
       "      <th>關鍵字</th>\n",
       "      <th>次數</th>\n",
       "    </tr>\n",
       "  </thead>\n",
       "  <tbody>\n",
       "    <tr>\n",
       "      <th>0</th>\n",
       "      <td>預告</td>\n",
       "      <td>2</td>\n",
       "    </tr>\n",
       "    <tr>\n",
       "      <th>1</th>\n",
       "      <td>中字</td>\n",
       "      <td>0</td>\n",
       "    </tr>\n",
       "    <tr>\n",
       "      <th>2</th>\n",
       "      <td>媽媽</td>\n",
       "      <td>0</td>\n",
       "    </tr>\n",
       "    <tr>\n",
       "      <th>3</th>\n",
       "      <td>官網</td>\n",
       "      <td>0</td>\n",
       "    </tr>\n",
       "    <tr>\n",
       "      <th>4</th>\n",
       "      <td>刑警</td>\n",
       "      <td>0</td>\n",
       "    </tr>\n",
       "    <tr>\n",
       "      <th>5</th>\n",
       "      <td>韓國</td>\n",
       "      <td>0</td>\n",
       "    </tr>\n",
       "  </tbody>\n",
       "</table>\n",
       "</div>"
      ],
      "text/plain": [
       "  關鍵字  次數\n",
       "0  預告   2\n",
       "1  中字   0\n",
       "2  媽媽   0\n",
       "3  官網   0\n",
       "4  刑警   0\n",
       "5  韓國   0"
      ]
     },
     "execution_count": 20,
     "metadata": {},
     "output_type": "execute_result"
    }
   ],
   "source": [
    "moviekey_df = pd.DataFrame(\n",
    "    list(zip(focus_keyword, focus_keyword_voice)), columns=([\"關鍵字\", \"次數\"])\n",
    ")\n",
    "\n",
    "moviekey_df"
   ]
  },
  {
   "cell_type": "markdown",
   "metadata": {},
   "source": [
    "## Exercise 7: 雙重迴圈應用，下列電影各關鍵詞次數\n",
    "\n",
    "hint: 在某資料集中先找出相關資料，再由相關資料中找字詞，如找某電影某關鍵字出現次數 "
   ]
  },
  {
   "cell_type": "code",
   "execution_count": 21,
   "metadata": {},
   "outputs": [
    {
     "name": "stdout",
     "output_type": "stream",
     "text": [
      "關鍵字\n",
      "預告    4\n",
      "中字    2\n",
      "媽媽    2\n",
      "官網    1\n",
      "刑警    1\n",
      "韓國    1\n",
      "Name: count, dtype: int64\n"
     ]
    }
   ],
   "source": [
    "movie = [\n",
    "    \"成為王的男人\",\n",
    "    \"皇后的品格\",\n",
    "    \"赤月青日\",\n",
    "    \"神的測驗\",\n",
    "    \"死之詠讚\",\n",
    "    \"加油吧威基基\",\n",
    "    \"皮諾丘\",\n",
    "    \"魔女寶鑑\",\n",
    "    \"男朋友\",\n",
    "    \"來自星星的你\",\n",
    "]\n",
    "\n",
    "focus_keyword = [\"預告\", \"中字\", \"媽媽\", \"官網\", \"刑警\", \"韓國\"]\n",
    "\n",
    "# 取出所有電影的關鍵詞\n",
    "keywords = KoreaDrama[KoreaDrama[\"電影\"].isin(movie)][\"關鍵字\"]\n",
    "\n",
    "# 計算關鍵詞出現次數\n",
    "keyword_counts = keywords.value_counts()\n",
    "\n",
    "# 只留下 focus_keyword 中的關鍵詞\n",
    "keyword_counts = keyword_counts[focus_keyword]\n",
    "\n",
    "# 顯示關鍵詞及其出現次數\n",
    "print(keyword_counts)"
   ]
  },
  {
   "cell_type": "code",
   "execution_count": 22,
   "metadata": {},
   "outputs": [
    {
     "data": {
      "text/plain": [
       "關鍵字\n",
       "預告    4\n",
       "中字    2\n",
       "媽媽    2\n",
       "官網    1\n",
       "刑警    1\n",
       "韓國    1\n",
       "Name: count, dtype: int64"
      ]
     },
     "execution_count": 22,
     "metadata": {},
     "output_type": "execute_result"
    }
   ],
   "source": [
    "movie = [\n",
    "    \"成為王的男人\",\n",
    "    \"皇后的品格\",\n",
    "    \"赤月青日\",\n",
    "    \"神的測驗\",\n",
    "    \"死之詠讚\",\n",
    "    \"加油吧威基基\",\n",
    "    \"皮諾丘\",\n",
    "    \"魔女寶鑑\",\n",
    "    \"男朋友\",\n",
    "    \"來自星星的你\",\n",
    "]\n",
    "\n",
    "focus_keyword = [\"預告\", \"中字\", \"媽媽\", \"官網\", \"刑警\", \"韓國\"]\n",
    "\n",
    "KoreaDrama[KoreaDrama[\"電影\"].isin(movie)][\"關鍵字\"].value_counts()[focus_keyword]"
   ]
  },
  {
   "cell_type": "markdown",
   "metadata": {},
   "source": [
    "## 串列練習"
   ]
  },
  {
   "cell_type": "markdown",
   "metadata": {},
   "source": [
    "### 找出下列兩字串共有的元素"
   ]
  },
  {
   "cell_type": "code",
   "execution_count": 23,
   "metadata": {},
   "outputs": [
    {
     "data": {
      "text/plain": [
       "['他', '我']"
      ]
     },
     "execution_count": 23,
     "metadata": {},
     "output_type": "execute_result"
    }
   ],
   "source": [
    "list1 = [\"你好\", \"我愛你\", \"他\", \"我\"]\n",
    "list2 = [\"他\", \"我\"]\n",
    "\n",
    "[item for item in list1 if item in list2]"
   ]
  },
  {
   "cell_type": "markdown",
   "metadata": {},
   "source": [
    "#### Exercise 8: 找出兩字串不同的元素"
   ]
  },
  {
   "cell_type": "code",
   "execution_count": 24,
   "metadata": {},
   "outputs": [
    {
     "data": {
      "text/plain": [
       "['你好', '我愛你']"
      ]
     },
     "execution_count": 24,
     "metadata": {},
     "output_type": "execute_result"
    }
   ],
   "source": [
    "words = [\"你好\", \"我愛你\", \"他\", \"我\"]\n",
    "stopwords = [\"他\", \"我\"]\n",
    "\n",
    "[item for item in words if item not in stopwords]"
   ]
  },
  {
   "cell_type": "markdown",
   "metadata": {},
   "source": [
    "### 串列表達式 list comprehension\n",
    "\n",
    "`[你要的值 for i in 迭代物]`，出來的結果還是串列"
   ]
  },
  {
   "cell_type": "code",
   "execution_count": 25,
   "metadata": {},
   "outputs": [
    {
     "data": {
      "text/plain": [
       "[2, 4, 6, 8]"
      ]
     },
     "execution_count": 25,
     "metadata": {},
     "output_type": "execute_result"
    }
   ],
   "source": [
    "list1 = [1, 2, 3, 4]\n",
    "[i * 2 for i in list1]"
   ]
  },
  {
   "cell_type": "markdown",
   "metadata": {},
   "source": [
    "#### Exercise 9: 將上述串列 `[1,2,3,4]` 變成 `['1$','2$','3$','4$']`"
   ]
  },
  {
   "cell_type": "code",
   "execution_count": 26,
   "metadata": {},
   "outputs": [
    {
     "data": {
      "text/plain": [
       "['1$', '2$', '3$', '4$']"
      ]
     },
     "execution_count": 26,
     "metadata": {},
     "output_type": "execute_result"
    }
   ],
   "source": [
    "list1 = [1, 2, 3, 4]\n",
    "[f'{i}$' for i in list1]"
   ]
  },
  {
   "cell_type": "markdown",
   "metadata": {},
   "source": [
    "#### Exercise 10: 將上述串列 `['1$','2$','3$','4$']` 列印出來如下結果 `1$ 2$ 3$ 4$`"
   ]
  },
  {
   "cell_type": "code",
   "execution_count": 27,
   "metadata": {},
   "outputs": [
    {
     "data": {
      "text/plain": [
       "'1$ 2$ 3$ 4$'"
      ]
     },
     "execution_count": 27,
     "metadata": {},
     "output_type": "execute_result"
    }
   ],
   "source": [
    "list1 = [1, 2, 3, 4]\n",
    "\n",
    "\" \".join([f'{i}$' for i in list1])"
   ]
  },
  {
   "cell_type": "markdown",
   "metadata": {},
   "source": [
    "#### 將以下串列字元改為大寫\n",
    "\n",
    "hint: `i.upper()`"
   ]
  },
  {
   "cell_type": "code",
   "execution_count": 28,
   "metadata": {},
   "outputs": [
    {
     "data": {
      "text/plain": [
       "['A', 'B', 'C', 'D']"
      ]
     },
     "execution_count": 28,
     "metadata": {},
     "output_type": "execute_result"
    }
   ],
   "source": [
    "string1 = \"abcd\"\n",
    "\n",
    "[i.upper() for i in string1]"
   ]
  },
  {
   "cell_type": "markdown",
   "metadata": {},
   "source": [
    "#### Exercise 11: 空格改底線\n",
    "\n",
    "將以下串列字元['Company 1','Company 2','Company 3']改為['Company_1','Company_2','Company_3']"
   ]
  },
  {
   "cell_type": "code",
   "execution_count": 29,
   "metadata": {},
   "outputs": [
    {
     "data": {
      "text/plain": [
       "['Company_1', 'Company_2', 'Company_3']"
      ]
     },
     "execution_count": 29,
     "metadata": {},
     "output_type": "execute_result"
    }
   ],
   "source": [
    "listcompany=['Company 1','Company 2','Company 3']\n",
    "\n",
    "[i.replace(\" \", \"_\") for i in listcompany]"
   ]
  },
  {
   "cell_type": "markdown",
   "metadata": {},
   "source": [
    "#### 兩個串列逐一相乘，再產生新串列"
   ]
  },
  {
   "cell_type": "code",
   "execution_count": 30,
   "metadata": {},
   "outputs": [
    {
     "data": {
      "text/plain": [
       "[5, 12, 21, 32]"
      ]
     },
     "execution_count": 30,
     "metadata": {},
     "output_type": "execute_result"
    }
   ],
   "source": [
    "list1 = [1, 2, 3, 4]\n",
    "list2 = [5, 6, 7, 8]\n",
    "res = [a * b for a, b in zip(list1, list2)]\n",
    "res"
   ]
  },
  {
   "cell_type": "markdown",
   "metadata": {},
   "source": [
    "#### Exercise 12: 合併成 tuple\n",
    "\n",
    "請將兩個串列[1,2,3,4]和[5,6,7,8]變成一個串列[(1,5),(2,6),(3,7),(4,8)] "
   ]
  },
  {
   "cell_type": "code",
   "execution_count": 31,
   "metadata": {},
   "outputs": [
    {
     "data": {
      "text/plain": [
       "[(1, 5), (2, 6), (3, 7), (4, 8)]"
      ]
     },
     "execution_count": 31,
     "metadata": {},
     "output_type": "execute_result"
    }
   ],
   "source": [
    "list1 = [1, 2, 3, 4]\n",
    "list2 = [5, 6, 7, 8]\n",
    "res = [(a, b) for a, b in zip(list1, list2)]\n",
    "res"
   ]
  },
  {
   "cell_type": "markdown",
   "metadata": {},
   "source": [
    "### 用串列表達式計算字元"
   ]
  },
  {
   "cell_type": "code",
   "execution_count": 32,
   "metadata": {},
   "outputs": [
    {
     "name": "stdout",
     "output_type": "stream",
     "text": [
      "  關鍵字  次數\n",
      "0   你   2\n",
      "2   他   1\n",
      "3   我   1\n"
     ]
    }
   ],
   "source": [
    "words1 = [\"你\", \"你\", \"他\", \"我\"]\n",
    "words1voice = [words1.count(i) for i in words1]\n",
    "allwordds1voice = pd.DataFrame(zip(words1, words1voice), columns=([\"關鍵字\", \"次數\"]))\n",
    "allwordds1voice.drop_duplicates(inplace=True)\n",
    "print(allwordds1voice)"
   ]
  },
  {
   "cell_type": "markdown",
   "metadata": {},
   "source": [
    "## 基本 jieba 練習"
   ]
  },
  {
   "cell_type": "code",
   "execution_count": 33,
   "metadata": {},
   "outputs": [],
   "source": [
    "### Jieba 加入繁體中文辭庫\n",
    "import jieba\n",
    "\n",
    "# 設定分詞資料庫\n",
    "jieba.set_dictionary('assets/dict.txt.big')"
   ]
  },
  {
   "cell_type": "markdown",
   "metadata": {},
   "source": [
    "### 範例1 - `cut_all=False` 精確模式"
   ]
  },
  {
   "cell_type": "code",
   "execution_count": 34,
   "metadata": {},
   "outputs": [
    {
     "name": "stderr",
     "output_type": "stream",
     "text": [
      "Building prefix dict from /Volumes/Dev/nkust/nkust-homework/semester-6/marketing/02-share-of-voice/assets/dict.txt.big ...\n",
      "Loading model from cache /var/folders/qj/62r8d09n5hn3nm_bdzf0dcpr0000gn/T/jieba.u6e9054f30d8bff41ff092210c9dc3fac.cache\n"
     ]
    },
    {
     "name": "stdout",
     "output_type": "stream",
     "text": [
      "<class 'generator'>\n"
     ]
    },
    {
     "name": "stderr",
     "output_type": "stream",
     "text": [
      "Loading model cost 0.193 seconds.\n",
      "Prefix dict has been built successfully.\n"
     ]
    },
    {
     "name": "stdout",
     "output_type": "stream",
     "text": [
      "<class 'list'>\n"
     ]
    },
    {
     "data": {
      "text/plain": [
       "['我',\n",
       " '今天',\n",
       " '要',\n",
       " '到',\n",
       " '高雄',\n",
       " '小港',\n",
       " '機場',\n",
       " '搭',\n",
       " '飛機',\n",
       " '出差',\n",
       " '黛安芬華',\n",
       " '歌爾曼',\n",
       " '黛瑪蓮',\n",
       " 'addidasNikepumaiphone',\n",
       " '瑪登瑪朵',\n",
       " '高雄',\n",
       " '發大財',\n",
       " '寶藍',\n",
       " '藍桃紅',\n",
       " '咖啡色',\n",
       " '粉色',\n",
       " '螢光',\n",
       " '綠粉']"
      ]
     },
     "execution_count": 34,
     "metadata": {},
     "output_type": "execute_result"
    }
   ],
   "source": [
    "sentence='我今天要到高雄小港機場搭飛機出差黛安芬華歌爾曼黛瑪蓮addidasNikepumaiphone瑪登瑪朵高雄發大財寶藍藍桃紅咖啡色粉色螢光綠粉'\n",
    "\n",
    "# 切割完會變迭代物件\n",
    "# 預設是 cut_all=False 所以這句可以省略\n",
    "breakword = jieba.cut(sentence, cut_all=False)\n",
    "print(type(breakword))\n",
    "\n",
    "# 切割完會變列表\n",
    "# 預設是 cut_all=False 所以這句可以省略\n",
    "breakword = jieba.lcut(sentence, cut_all=False)\n",
    "print(type(breakword))\n",
    "\n",
    "breakword"
   ]
  },
  {
   "cell_type": "markdown",
   "metadata": {},
   "source": [
    "### 範例1 - `cut_all=True` 全模式"
   ]
  },
  {
   "cell_type": "code",
   "execution_count": 35,
   "metadata": {},
   "outputs": [
    {
     "name": "stdout",
     "output_type": "stream",
     "text": [
      "我|今天|要|到|高|雄|小港|機|場|搭|飛|機|出差|黛|安|芬|華|歌|爾|曼|黛|瑪|蓮|addidasNikepumaiphone|瑪|登|瑪|朵|高|雄|發|大|財|寶藍|藍|桃|紅|咖啡|咖啡色|粉|色|螢|光|綠|粉\n"
     ]
    }
   ],
   "source": [
    "sentence = \"我今天要到高雄小港機場搭飛機出差黛安芬華歌爾曼黛瑪蓮addidasNikepumaiphone瑪登瑪朵高雄發大財寶藍藍桃紅咖啡色粉色螢光綠粉\"\n",
    "\n",
    "breakword = jieba.cut(sentence, cut_all=True)  # 切割完會變迭代物件\n",
    "\n",
    "print(\"|\".join(breakword))"
   ]
  },
  {
   "cell_type": "markdown",
   "metadata": {},
   "source": [
    "### 範例2"
   ]
  },
  {
   "cell_type": "code",
   "execution_count": 36,
   "metadata": {},
   "outputs": [
    {
     "name": "stdout",
     "output_type": "stream",
     "text": [
      "寶藍|棗紅|紫粉|粉橘|墨綠|深藍酒|紅軍綠色|熒光|綠|深灰藏|青黃紅桃|焦糖|咖啡色|紫色|藍|橘膚|粉色|綠灰白|黑\n"
     ]
    }
   ],
   "source": [
    "sentence1 = \"寶藍棗紅紫粉粉橘墨綠深藍酒紅軍綠色熒光綠深灰藏青黃紅桃焦糖咖啡色紫色藍橘膚粉色綠灰白黑\"\n",
    "breakword1 = jieba.cut(sentence1, cut_all=False)\n",
    "print(\"|\".join(breakword1))"
   ]
  },
  {
   "cell_type": "markdown",
   "metadata": {},
   "source": [
    "### Jieba 加入繁體中文辭庫及自訂詞"
   ]
  },
  {
   "cell_type": "code",
   "execution_count": 37,
   "metadata": {},
   "outputs": [
    {
     "name": "stderr",
     "output_type": "stream",
     "text": [
      "Building prefix dict from /Volumes/Dev/nkust/nkust-homework/semester-6/marketing/02-share-of-voice/assets/dict.txt.big ...\n",
      "Loading model from cache /var/folders/qj/62r8d09n5hn3nm_bdzf0dcpr0000gn/T/jieba.u6e9054f30d8bff41ff092210c9dc3fac.cache\n",
      "Loading model cost 0.194 seconds.\n",
      "Prefix dict has been built successfully.\n"
     ]
    }
   ],
   "source": [
    "# 設定分詞資料庫\n",
    "jieba.set_dictionary('assets/dict.txt.big')\n",
    "\n",
    "# 將自己常用的詞加入字典\n",
    "jieba.load_userdict('assets/user_dict.txt')"
   ]
  },
  {
   "cell_type": "code",
   "execution_count": 38,
   "metadata": {},
   "outputs": [
    {
     "name": "stdout",
     "output_type": "stream",
     "text": [
      "我|今天|要|到|高雄|小港機場|搭飛機|出差|黛安芬|華歌爾|曼黛瑪蓮|addidas|Nike|puma|iphone|瑪登瑪朵|高雄發大財|成為王的男人|皇后的女人|陳時中\n"
     ]
    }
   ],
   "source": [
    "sentence = \"我今天要到高雄小港機場搭飛機出差黛安芬華歌爾曼黛瑪蓮addidasNikepumaiphone瑪登瑪朵高雄發大財成為王的男人皇后的女人陳時中\"\n",
    "\n",
    "breakword = jieba.cut(sentence, cut_all=False)\n",
    "print(\"|\".join(breakword))"
   ]
  },
  {
   "cell_type": "markdown",
   "metadata": {},
   "source": [
    "### Jieba 加入繁體中文辭庫、自訂詞、及停用詞"
   ]
  },
  {
   "cell_type": "code",
   "execution_count": 39,
   "metadata": {},
   "outputs": [
    {
     "name": "stderr",
     "output_type": "stream",
     "text": [
      "Building prefix dict from /Volumes/Dev/nkust/nkust-homework/semester-6/marketing/02-share-of-voice/assets/dict.txt.big ...\n",
      "Loading model from cache /var/folders/qj/62r8d09n5hn3nm_bdzf0dcpr0000gn/T/jieba.u6e9054f30d8bff41ff092210c9dc3fac.cache\n",
      "Loading model cost 0.185 seconds.\n",
      "Prefix dict has been built successfully.\n"
     ]
    }
   ],
   "source": [
    "jieba.set_dictionary(\"assets/dict.txt.big\")\n",
    "jieba.load_userdict(\"assets/user_dict.txt\")\n",
    "\n",
    "with open(\"assets/stopwords.txt\", \"r\", encoding=\"utf-8-sig\") as f:\n",
    "    stops = f.readlines()"
   ]
  },
  {
   "cell_type": "code",
   "execution_count": 40,
   "metadata": {},
   "outputs": [
    {
     "name": "stdout",
     "output_type": "stream",
     "text": [
      "我|今天|要|到|高雄|小港機場|搭飛機|出差|黛安芬|華歌爾|曼黛瑪蓮|addidas|Nike|puma|iphone|瑪登瑪朵|高雄發大財|成為王的男人|皇后的女人|!|!\n"
     ]
    }
   ],
   "source": [
    "sentence = \"我今天要到高雄小港機場搭飛機出差黛安芬華歌爾曼黛瑪蓮addidasNikepumaiphone瑪登瑪朵高雄發大財成為王的男人皇后的女人!!\"\n",
    "breakword = jieba.cut(sentence, cut_all=False)\n",
    "\n",
    "breakword_clean = [word for word in breakword if word not in stops]\n",
    "print(\"|\".join(breakword_clean))"
   ]
  },
  {
   "cell_type": "markdown",
   "metadata": {},
   "source": [
    "#### Exercise 13: 請進行以下文字切詞，並移除無意義文字\n",
    "\n",
    "hint: 句子切詞，比對不是stopwords則取出"
   ]
  },
  {
   "cell_type": "code",
   "execution_count": 41,
   "metadata": {},
   "outputs": [
    {
     "name": "stdout",
     "output_type": "stream",
     "text": [
      "高雄科技大學\n"
     ]
    }
   ],
   "source": [
    "strdemo = \"#高雄科技大學@@\"\n",
    "stopwords = [\"@\", \"#\"]\n",
    "\n",
    "breakword = jieba.cut(strdemo, cut_all=False)\n",
    "breakword_clean = [word for word in breakword if word not in stopwords]\n",
    "print(\"|\".join(breakword_clean))"
   ]
  }
 ],
 "metadata": {
  "kernelspec": {
   "display_name": ".venv",
   "language": "python",
   "name": "python3"
  },
  "language_info": {
   "codemirror_mode": {
    "name": "ipython",
    "version": 3
   },
   "file_extension": ".py",
   "mimetype": "text/x-python",
   "name": "python",
   "nbconvert_exporter": "python",
   "pygments_lexer": "ipython3",
   "version": "3.12.5"
  }
 },
 "nbformat": 4,
 "nbformat_minor": 2
}
