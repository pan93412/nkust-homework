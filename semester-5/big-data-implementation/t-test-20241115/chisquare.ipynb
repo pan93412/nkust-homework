{
 "cells": [
  {
   "cell_type": "markdown",
   "metadata": {},
   "source": [
    "# $\\chi^2$ test"
   ]
  },
  {
   "cell_type": "code",
   "execution_count": 12,
   "metadata": {},
   "outputs": [],
   "source": [
    "import numpy as np\n",
    "from scipy.stats import chisquare, chi2_contingency"
   ]
  },
  {
   "cell_type": "markdown",
   "metadata": {},
   "source": [
    "## 適合度檢定"
   ]
  },
  {
   "cell_type": "code",
   "execution_count": 13,
   "metadata": {},
   "outputs": [
    {
     "data": {
      "text/plain": [
       "Power_divergenceResult(statistic=np.float64(4.6), pvalue=np.float64(0.3308541842852522))"
      ]
     },
     "execution_count": 13,
     "metadata": {},
     "output_type": "execute_result"
    }
   ],
   "source": [
    "# 分別代表一張考卷中 A, B, C, D, E 的數量\n",
    "# 目的是判別選項是否有特殊偏好。\n",
    "answer_count = [12, 14, 9, 5, 10]\n",
    "\n",
    "result = chisquare(answer_count)\n",
    "result"
   ]
  },
  {
   "cell_type": "code",
   "execution_count": 14,
   "metadata": {},
   "outputs": [
    {
     "name": "stdout",
     "output_type": "stream",
     "text": [
      "考試的選項是否有特殊偏好？ False\n"
     ]
    }
   ],
   "source": [
    "print(\"考試的選項是否有特殊偏好？\", result.pvalue <= 0.05)"
   ]
  },
  {
   "cell_type": "markdown",
   "metadata": {},
   "source": [
    "## 獨立性檢定"
   ]
  },
  {
   "cell_type": "markdown",
   "metadata": {},
   "source": [
    "資料：\n",
    "\n",
    "| 血型 | 病情改善 | 病情惡化 |\n",
    "| --- | ------- | ------ |\n",
    "| A | 25 | 25 |\n",
    "| B | 35 | 40 |\n",
    "| O | 30 | 35 |\n",
    "| AB | 60 | 45 |"
   ]
  },
  {
   "cell_type": "code",
   "execution_count": 15,
   "metadata": {},
   "outputs": [
    {
     "data": {
      "text/plain": [
       "Chi2ContingencyResult(statistic=np.float64(2.7768578165129902), pvalue=np.float64(0.42732371483039855), dof=3, expected_freq=array([[25.42372881, 38.13559322, 33.05084746, 53.38983051],\n",
       "       [24.57627119, 36.86440678, 31.94915254, 51.61016949]]))"
      ]
     },
     "execution_count": 15,
     "metadata": {},
     "output_type": "execute_result"
    }
   ],
   "source": [
    "# 血型資料\n",
    "observed = np.array([\n",
    "    # A   B   O  AB\n",
    "    [25, 35, 30, 60],  # 病情改善\n",
    "    [25, 40, 35, 45],  # 病情惡化\n",
    "])\n",
    "\n",
    "chi2_contingency(observed)"
   ]
  },
  {
   "cell_type": "code",
   "execution_count": 16,
   "metadata": {},
   "outputs": [
    {
     "name": "stdout",
     "output_type": "stream",
     "text": [
      "考試的選項是否有特殊偏好？ False\n"
     ]
    }
   ],
   "source": [
    "print(\"考試的選項是否有特殊偏好？\", result.pvalue <= 0.05)"
   ]
  }
 ],
 "metadata": {
  "kernelspec": {
   "display_name": ".venv",
   "language": "python",
   "name": "python3"
  },
  "language_info": {
   "codemirror_mode": {
    "name": "ipython",
    "version": 3
   },
   "file_extension": ".py",
   "mimetype": "text/x-python",
   "name": "python",
   "nbconvert_exporter": "python",
   "pygments_lexer": "ipython3",
   "version": "3.12.5"
  }
 },
 "nbformat": 4,
 "nbformat_minor": 2
}
