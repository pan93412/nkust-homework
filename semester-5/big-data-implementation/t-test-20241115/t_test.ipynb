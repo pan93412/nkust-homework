{
 "cells": [
  {
   "cell_type": "markdown",
   "metadata": {},
   "source": [
    "# $t$-test"
   ]
  },
  {
   "cell_type": "code",
   "execution_count": 46,
   "metadata": {},
   "outputs": [],
   "source": [
    "import polars as pl\n",
    "import numpy as np\n",
    "from scipy import stats as sps"
   ]
  },
  {
   "cell_type": "markdown",
   "metadata": {},
   "source": [
    "## 獨立樣本"
   ]
  },
  {
   "cell_type": "code",
   "execution_count": 47,
   "metadata": {},
   "outputs": [],
   "source": [
    "rvs1 = sps.norm.rvs(loc=5, scale=10, size=500, random_state=1)\n",
    "rvs2 = sps.norm.rvs(loc=5, scale=20, size=500, random_state=1)\n",
    "\n",
    "assert isinstance(rvs1, np.ndarray)\n",
    "assert isinstance(rvs2, np.ndarray)"
   ]
  },
  {
   "cell_type": "markdown",
   "metadata": {},
   "source": [
    "首先進行 levene 分析。"
   ]
  },
  {
   "cell_type": "code",
   "execution_count": 48,
   "metadata": {},
   "outputs": [
    {
     "data": {
      "text/plain": [
       "LeveneResult(statistic=np.float64(176.01040622090554), pvalue=np.float64(4.090185632954182e-37))"
      ]
     },
     "execution_count": 48,
     "metadata": {},
     "output_type": "execute_result"
    }
   ],
   "source": [
    "levene = sps.levene(rvs1, rvs2)\n",
    "\n",
    "levene"
   ]
  },
  {
   "cell_type": "markdown",
   "metadata": {},
   "source": [
    "如果 $p_{\\text{levene}}$ 落在拒絕域（也就是 $\\leq 0.05$），則使用 Welch's $t$-test；否則使用 Student's $t$-test。"
   ]
  },
  {
   "cell_type": "code",
   "execution_count": 49,
   "metadata": {},
   "outputs": [
    {
     "name": "stdout",
     "output_type": "stream",
     "text": [
      "Should we reject H0? True\n"
     ]
    }
   ],
   "source": [
    "print(\"Should we reject H0?\", levene.pvalue <= 0.05)"
   ]
  },
  {
   "cell_type": "code",
   "execution_count": 50,
   "metadata": {},
   "outputs": [
    {
     "data": {
      "text/plain": [
       "TtestResult(statistic=np.float64(-0.540094946754036), pvalue=np.float64(0.5892954193870468), df=np.float64(733.8235294117648))"
      ]
     },
     "execution_count": 50,
     "metadata": {},
     "output_type": "execute_result"
    }
   ],
   "source": [
    "ttest = sps.ttest_ind(rvs1, rvs2, equal_var=levene.pvalue > 0.05)\n",
    "\n",
    "ttest"
   ]
  },
  {
   "cell_type": "markdown",
   "metadata": {},
   "source": [
    "### 從 Excel 讀取資料"
   ]
  },
  {
   "cell_type": "code",
   "execution_count": 51,
   "metadata": {},
   "outputs": [
    {
     "data": {
      "text/html": [
       "<div><style>\n",
       ".dataframe > thead > tr,\n",
       ".dataframe > tbody > tr {\n",
       "  text-align: right;\n",
       "  white-space: pre-wrap;\n",
       "}\n",
       "</style>\n",
       "<small>shape: (10, 2)</small><table border=\"1\" class=\"dataframe\"><thead><tr><th>f1</th><th>f2</th></tr><tr><td>i64</td><td>i64</td></tr></thead><tbody><tr><td>85</td><td>82</td></tr><tr><td>82</td><td>75</td></tr><tr><td>90</td><td>80</td></tr><tr><td>90</td><td>80</td></tr><tr><td>75</td><td>85</td></tr><tr><td>88</td><td>85</td></tr><tr><td>87</td><td>75</td></tr><tr><td>85</td><td>80</td></tr><tr><td>78</td><td>70</td></tr><tr><td>82</td><td>70</td></tr></tbody></table></div>"
      ],
      "text/plain": [
       "shape: (10, 2)\n",
       "┌─────┬─────┐\n",
       "│ f1  ┆ f2  │\n",
       "│ --- ┆ --- │\n",
       "│ i64 ┆ i64 │\n",
       "╞═════╪═════╡\n",
       "│ 85  ┆ 82  │\n",
       "│ 82  ┆ 75  │\n",
       "│ 90  ┆ 80  │\n",
       "│ 90  ┆ 80  │\n",
       "│ 75  ┆ 85  │\n",
       "│ 88  ┆ 85  │\n",
       "│ 87  ┆ 75  │\n",
       "│ 85  ┆ 80  │\n",
       "│ 78  ┆ 70  │\n",
       "│ 82  ┆ 70  │\n",
       "└─────┴─────┘"
      ]
     },
     "execution_count": 51,
     "metadata": {},
     "output_type": "execute_result"
    }
   ],
   "source": [
    "df = pl.read_excel('grades.xlsx', sheet_name='Sheet1')\n",
    "df"
   ]
  },
  {
   "cell_type": "code",
   "execution_count": 52,
   "metadata": {},
   "outputs": [
    {
     "name": "stdout",
     "output_type": "stream",
     "text": [
      "Should we reject H0? False\n"
     ]
    }
   ],
   "source": [
    "levene = sps.levene(df[\"f1\"], df[\"f2\"])\n",
    "print(\"Should we reject H0?\", levene.pvalue <= 0.05)"
   ]
  },
  {
   "cell_type": "code",
   "execution_count": 53,
   "metadata": {},
   "outputs": [
    {
     "data": {
      "text/plain": [
       "TtestResult(statistic=np.float64(-0.540094946754036), pvalue=np.float64(0.5892520506239134), df=np.float64(998.0))"
      ]
     },
     "execution_count": 53,
     "metadata": {},
     "output_type": "execute_result"
    }
   ],
   "source": [
    "ttest = sps.ttest_ind(rvs1, rvs2, equal_var=levene.pvalue > 0.05)\n",
    "\n",
    "ttest"
   ]
  },
  {
   "cell_type": "code",
   "execution_count": 54,
   "metadata": {},
   "outputs": [
    {
     "name": "stdout",
     "output_type": "stream",
     "text": [
      "甲乙兩班的成績，有顯著差異嗎？ False\n"
     ]
    }
   ],
   "source": [
    "print(\"甲乙兩班的成績，有顯著差異嗎？\", ttest.pvalue <= 0.05)  # type: ignore"
   ]
  },
  {
   "cell_type": "markdown",
   "metadata": {},
   "source": [
    "## 相依樣本"
   ]
  },
  {
   "cell_type": "code",
   "execution_count": 55,
   "metadata": {},
   "outputs": [],
   "source": [
    "mid = [78, 80, 90, 90, 70, 88, 82, 74, 65, 85]\n",
    "final = [84, 83, 89, 90, 78, 89, 87, 84, 78, 80]"
   ]
  },
  {
   "cell_type": "code",
   "execution_count": 56,
   "metadata": {},
   "outputs": [
    {
     "data": {
      "text/plain": [
       "TtestResult(statistic=np.float64(-2.3094010767585034), pvalue=np.float64(0.04628184731527353), df=np.int64(9))"
      ]
     },
     "execution_count": 56,
     "metadata": {},
     "output_type": "execute_result"
    }
   ],
   "source": [
    "ttest = sps.ttest_rel(mid, final)\n",
    "ttest"
   ]
  },
  {
   "cell_type": "markdown",
   "metadata": {},
   "source": [
    "### 從 Excel 讀取資料"
   ]
  },
  {
   "cell_type": "code",
   "execution_count": 57,
   "metadata": {},
   "outputs": [
    {
     "data": {
      "text/html": [
       "<div><style>\n",
       ".dataframe > thead > tr,\n",
       ".dataframe > tbody > tr {\n",
       "  text-align: right;\n",
       "  white-space: pre-wrap;\n",
       "}\n",
       "</style>\n",
       "<small>shape: (12, 2)</small><table border=\"1\" class=\"dataframe\"><thead><tr><th>husband</th><th>wife</th></tr><tr><td>i64</td><td>i64</td></tr></thead><tbody><tr><td>34</td><td>38</td></tr><tr><td>22</td><td>39</td></tr><tr><td>38</td><td>35</td></tr><tr><td>20</td><td>25</td></tr><tr><td>29</td><td>19</td></tr><tr><td>&hellip;</td><td>&hellip;</td></tr><tr><td>14</td><td>44</td></tr><tr><td>23</td><td>40</td></tr><tr><td>40</td><td>45</td></tr><tr><td>36</td><td>33</td></tr><tr><td>29</td><td>41</td></tr></tbody></table></div>"
      ],
      "text/plain": [
       "shape: (12, 2)\n",
       "┌─────────┬──────┐\n",
       "│ husband ┆ wife │\n",
       "│ ---     ┆ ---  │\n",
       "│ i64     ┆ i64  │\n",
       "╞═════════╪══════╡\n",
       "│ 34      ┆ 38   │\n",
       "│ 22      ┆ 39   │\n",
       "│ 38      ┆ 35   │\n",
       "│ 20      ┆ 25   │\n",
       "│ 29      ┆ 19   │\n",
       "│ …       ┆ …    │\n",
       "│ 14      ┆ 44   │\n",
       "│ 23      ┆ 40   │\n",
       "│ 40      ┆ 45   │\n",
       "│ 36      ┆ 33   │\n",
       "│ 29      ┆ 41   │\n",
       "└─────────┴──────┘"
      ]
     },
     "execution_count": 57,
     "metadata": {},
     "output_type": "execute_result"
    }
   ],
   "source": [
    "df = pl.read_excel('eqgrade.xlsx')\n",
    "df"
   ]
  },
  {
   "cell_type": "code",
   "execution_count": 58,
   "metadata": {},
   "outputs": [
    {
     "data": {
      "text/plain": [
       "TtestResult(statistic=np.float64(-1.9977374136430808), pvalue=np.float64(0.07107892367821363), df=np.int64(11))"
      ]
     },
     "execution_count": 58,
     "metadata": {},
     "output_type": "execute_result"
    }
   ],
   "source": [
    "ttest = sps.ttest_rel(df[\"husband\"], df[\"wife\"])\n",
    "ttest\n"
   ]
  },
  {
   "cell_type": "code",
   "execution_count": 59,
   "metadata": {},
   "outputs": [
    {
     "name": "stdout",
     "output_type": "stream",
     "text": [
      "丈夫與妻子之間的 EQ 是否有顯著差異？ False\n"
     ]
    }
   ],
   "source": [
    "print(\"丈夫與妻子之間的 EQ 是否有顯著差異？\", ttest.pvalue <= 0.05)  # type: ignore"
   ]
  }
 ],
 "metadata": {
  "kernelspec": {
   "display_name": ".venv",
   "language": "python",
   "name": "python3"
  },
  "language_info": {
   "codemirror_mode": {
    "name": "ipython",
    "version": 3
   },
   "file_extension": ".py",
   "mimetype": "text/x-python",
   "name": "python",
   "nbconvert_exporter": "python",
   "pygments_lexer": "ipython3",
   "version": "3.12.5"
  }
 },
 "nbformat": 4,
 "nbformat_minor": 2
}
