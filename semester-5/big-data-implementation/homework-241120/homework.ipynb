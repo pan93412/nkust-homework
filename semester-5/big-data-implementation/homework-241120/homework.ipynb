{
 "cells": [
  {
   "cell_type": "markdown",
   "metadata": {},
   "source": [
    "# Homework 2024-11-20\n"
   ]
  },
  {
   "cell_type": "code",
   "execution_count": 1,
   "metadata": {},
   "outputs": [],
   "source": [
    "import polars as pl\n",
    "from scipy import stats as sps\n"
   ]
  },
  {
   "cell_type": "markdown",
   "metadata": {},
   "source": [
    "## Datasets\n"
   ]
  },
  {
   "cell_type": "markdown",
   "metadata": {},
   "source": [
    "### Student Performance (Math)\n",
    "\n",
    "- Usage: t-distribution test\n",
    "- Source: https://archive.ics.uci.edu/dataset/320/student+performance\n"
   ]
  },
  {
   "cell_type": "code",
   "execution_count": 2,
   "metadata": {},
   "outputs": [],
   "source": [
    "student_performance_df = pl.read_csv(\"student-mat.csv\", separator=\";\")"
   ]
  },
  {
   "cell_type": "code",
   "execution_count": 3,
   "metadata": {},
   "outputs": [
    {
     "data": {
      "text/html": [
       "<div><style>\n",
       ".dataframe > thead > tr,\n",
       ".dataframe > tbody > tr {\n",
       "  text-align: right;\n",
       "  white-space: pre-wrap;\n",
       "}\n",
       "</style>\n",
       "<small>shape: (395, 33)</small><table border=\"1\" class=\"dataframe\"><thead><tr><th>school</th><th>sex</th><th>age</th><th>address</th><th>famsize</th><th>Pstatus</th><th>Medu</th><th>Fedu</th><th>Mjob</th><th>Fjob</th><th>reason</th><th>guardian</th><th>traveltime</th><th>studytime</th><th>failures</th><th>schoolsup</th><th>famsup</th><th>paid</th><th>activities</th><th>nursery</th><th>higher</th><th>internet</th><th>romantic</th><th>famrel</th><th>freetime</th><th>goout</th><th>Dalc</th><th>Walc</th><th>health</th><th>absences</th><th>G1</th><th>G2</th><th>G3</th></tr><tr><td>str</td><td>str</td><td>i64</td><td>str</td><td>str</td><td>str</td><td>i64</td><td>i64</td><td>str</td><td>str</td><td>str</td><td>str</td><td>i64</td><td>i64</td><td>i64</td><td>str</td><td>str</td><td>str</td><td>str</td><td>str</td><td>str</td><td>str</td><td>str</td><td>i64</td><td>i64</td><td>i64</td><td>i64</td><td>i64</td><td>i64</td><td>i64</td><td>i64</td><td>i64</td><td>i64</td></tr></thead><tbody><tr><td>&quot;GP&quot;</td><td>&quot;F&quot;</td><td>18</td><td>&quot;U&quot;</td><td>&quot;GT3&quot;</td><td>&quot;A&quot;</td><td>4</td><td>4</td><td>&quot;at_home&quot;</td><td>&quot;teacher&quot;</td><td>&quot;course&quot;</td><td>&quot;mother&quot;</td><td>2</td><td>2</td><td>0</td><td>&quot;yes&quot;</td><td>&quot;no&quot;</td><td>&quot;no&quot;</td><td>&quot;no&quot;</td><td>&quot;yes&quot;</td><td>&quot;yes&quot;</td><td>&quot;no&quot;</td><td>&quot;no&quot;</td><td>4</td><td>3</td><td>4</td><td>1</td><td>1</td><td>3</td><td>6</td><td>5</td><td>6</td><td>6</td></tr><tr><td>&quot;GP&quot;</td><td>&quot;F&quot;</td><td>17</td><td>&quot;U&quot;</td><td>&quot;GT3&quot;</td><td>&quot;T&quot;</td><td>1</td><td>1</td><td>&quot;at_home&quot;</td><td>&quot;other&quot;</td><td>&quot;course&quot;</td><td>&quot;father&quot;</td><td>1</td><td>2</td><td>0</td><td>&quot;no&quot;</td><td>&quot;yes&quot;</td><td>&quot;no&quot;</td><td>&quot;no&quot;</td><td>&quot;no&quot;</td><td>&quot;yes&quot;</td><td>&quot;yes&quot;</td><td>&quot;no&quot;</td><td>5</td><td>3</td><td>3</td><td>1</td><td>1</td><td>3</td><td>4</td><td>5</td><td>5</td><td>6</td></tr><tr><td>&quot;GP&quot;</td><td>&quot;F&quot;</td><td>15</td><td>&quot;U&quot;</td><td>&quot;LE3&quot;</td><td>&quot;T&quot;</td><td>1</td><td>1</td><td>&quot;at_home&quot;</td><td>&quot;other&quot;</td><td>&quot;other&quot;</td><td>&quot;mother&quot;</td><td>1</td><td>2</td><td>3</td><td>&quot;yes&quot;</td><td>&quot;no&quot;</td><td>&quot;yes&quot;</td><td>&quot;no&quot;</td><td>&quot;yes&quot;</td><td>&quot;yes&quot;</td><td>&quot;yes&quot;</td><td>&quot;no&quot;</td><td>4</td><td>3</td><td>2</td><td>2</td><td>3</td><td>3</td><td>10</td><td>7</td><td>8</td><td>10</td></tr><tr><td>&quot;GP&quot;</td><td>&quot;F&quot;</td><td>15</td><td>&quot;U&quot;</td><td>&quot;GT3&quot;</td><td>&quot;T&quot;</td><td>4</td><td>2</td><td>&quot;health&quot;</td><td>&quot;services&quot;</td><td>&quot;home&quot;</td><td>&quot;mother&quot;</td><td>1</td><td>3</td><td>0</td><td>&quot;no&quot;</td><td>&quot;yes&quot;</td><td>&quot;yes&quot;</td><td>&quot;yes&quot;</td><td>&quot;yes&quot;</td><td>&quot;yes&quot;</td><td>&quot;yes&quot;</td><td>&quot;yes&quot;</td><td>3</td><td>2</td><td>2</td><td>1</td><td>1</td><td>5</td><td>2</td><td>15</td><td>14</td><td>15</td></tr><tr><td>&quot;GP&quot;</td><td>&quot;F&quot;</td><td>16</td><td>&quot;U&quot;</td><td>&quot;GT3&quot;</td><td>&quot;T&quot;</td><td>3</td><td>3</td><td>&quot;other&quot;</td><td>&quot;other&quot;</td><td>&quot;home&quot;</td><td>&quot;father&quot;</td><td>1</td><td>2</td><td>0</td><td>&quot;no&quot;</td><td>&quot;yes&quot;</td><td>&quot;yes&quot;</td><td>&quot;no&quot;</td><td>&quot;yes&quot;</td><td>&quot;yes&quot;</td><td>&quot;no&quot;</td><td>&quot;no&quot;</td><td>4</td><td>3</td><td>2</td><td>1</td><td>2</td><td>5</td><td>4</td><td>6</td><td>10</td><td>10</td></tr><tr><td>&hellip;</td><td>&hellip;</td><td>&hellip;</td><td>&hellip;</td><td>&hellip;</td><td>&hellip;</td><td>&hellip;</td><td>&hellip;</td><td>&hellip;</td><td>&hellip;</td><td>&hellip;</td><td>&hellip;</td><td>&hellip;</td><td>&hellip;</td><td>&hellip;</td><td>&hellip;</td><td>&hellip;</td><td>&hellip;</td><td>&hellip;</td><td>&hellip;</td><td>&hellip;</td><td>&hellip;</td><td>&hellip;</td><td>&hellip;</td><td>&hellip;</td><td>&hellip;</td><td>&hellip;</td><td>&hellip;</td><td>&hellip;</td><td>&hellip;</td><td>&hellip;</td><td>&hellip;</td><td>&hellip;</td></tr><tr><td>&quot;MS&quot;</td><td>&quot;M&quot;</td><td>20</td><td>&quot;U&quot;</td><td>&quot;LE3&quot;</td><td>&quot;A&quot;</td><td>2</td><td>2</td><td>&quot;services&quot;</td><td>&quot;services&quot;</td><td>&quot;course&quot;</td><td>&quot;other&quot;</td><td>1</td><td>2</td><td>2</td><td>&quot;no&quot;</td><td>&quot;yes&quot;</td><td>&quot;yes&quot;</td><td>&quot;no&quot;</td><td>&quot;yes&quot;</td><td>&quot;yes&quot;</td><td>&quot;no&quot;</td><td>&quot;no&quot;</td><td>5</td><td>5</td><td>4</td><td>4</td><td>5</td><td>4</td><td>11</td><td>9</td><td>9</td><td>9</td></tr><tr><td>&quot;MS&quot;</td><td>&quot;M&quot;</td><td>17</td><td>&quot;U&quot;</td><td>&quot;LE3&quot;</td><td>&quot;T&quot;</td><td>3</td><td>1</td><td>&quot;services&quot;</td><td>&quot;services&quot;</td><td>&quot;course&quot;</td><td>&quot;mother&quot;</td><td>2</td><td>1</td><td>0</td><td>&quot;no&quot;</td><td>&quot;no&quot;</td><td>&quot;no&quot;</td><td>&quot;no&quot;</td><td>&quot;no&quot;</td><td>&quot;yes&quot;</td><td>&quot;yes&quot;</td><td>&quot;no&quot;</td><td>2</td><td>4</td><td>5</td><td>3</td><td>4</td><td>2</td><td>3</td><td>14</td><td>16</td><td>16</td></tr><tr><td>&quot;MS&quot;</td><td>&quot;M&quot;</td><td>21</td><td>&quot;R&quot;</td><td>&quot;GT3&quot;</td><td>&quot;T&quot;</td><td>1</td><td>1</td><td>&quot;other&quot;</td><td>&quot;other&quot;</td><td>&quot;course&quot;</td><td>&quot;other&quot;</td><td>1</td><td>1</td><td>3</td><td>&quot;no&quot;</td><td>&quot;no&quot;</td><td>&quot;no&quot;</td><td>&quot;no&quot;</td><td>&quot;no&quot;</td><td>&quot;yes&quot;</td><td>&quot;no&quot;</td><td>&quot;no&quot;</td><td>5</td><td>5</td><td>3</td><td>3</td><td>3</td><td>3</td><td>3</td><td>10</td><td>8</td><td>7</td></tr><tr><td>&quot;MS&quot;</td><td>&quot;M&quot;</td><td>18</td><td>&quot;R&quot;</td><td>&quot;LE3&quot;</td><td>&quot;T&quot;</td><td>3</td><td>2</td><td>&quot;services&quot;</td><td>&quot;other&quot;</td><td>&quot;course&quot;</td><td>&quot;mother&quot;</td><td>3</td><td>1</td><td>0</td><td>&quot;no&quot;</td><td>&quot;no&quot;</td><td>&quot;no&quot;</td><td>&quot;no&quot;</td><td>&quot;no&quot;</td><td>&quot;yes&quot;</td><td>&quot;yes&quot;</td><td>&quot;no&quot;</td><td>4</td><td>4</td><td>1</td><td>3</td><td>4</td><td>5</td><td>0</td><td>11</td><td>12</td><td>10</td></tr><tr><td>&quot;MS&quot;</td><td>&quot;M&quot;</td><td>19</td><td>&quot;U&quot;</td><td>&quot;LE3&quot;</td><td>&quot;T&quot;</td><td>1</td><td>1</td><td>&quot;other&quot;</td><td>&quot;at_home&quot;</td><td>&quot;course&quot;</td><td>&quot;father&quot;</td><td>1</td><td>1</td><td>0</td><td>&quot;no&quot;</td><td>&quot;no&quot;</td><td>&quot;no&quot;</td><td>&quot;no&quot;</td><td>&quot;yes&quot;</td><td>&quot;yes&quot;</td><td>&quot;yes&quot;</td><td>&quot;no&quot;</td><td>3</td><td>2</td><td>3</td><td>3</td><td>3</td><td>5</td><td>5</td><td>8</td><td>9</td><td>9</td></tr></tbody></table></div>"
      ],
      "text/plain": [
       "shape: (395, 33)\n",
       "┌────────┬─────┬─────┬─────────┬───┬──────────┬─────┬─────┬─────┐\n",
       "│ school ┆ sex ┆ age ┆ address ┆ … ┆ absences ┆ G1  ┆ G2  ┆ G3  │\n",
       "│ ---    ┆ --- ┆ --- ┆ ---     ┆   ┆ ---      ┆ --- ┆ --- ┆ --- │\n",
       "│ str    ┆ str ┆ i64 ┆ str     ┆   ┆ i64      ┆ i64 ┆ i64 ┆ i64 │\n",
       "╞════════╪═════╪═════╪═════════╪═══╪══════════╪═════╪═════╪═════╡\n",
       "│ GP     ┆ F   ┆ 18  ┆ U       ┆ … ┆ 6        ┆ 5   ┆ 6   ┆ 6   │\n",
       "│ GP     ┆ F   ┆ 17  ┆ U       ┆ … ┆ 4        ┆ 5   ┆ 5   ┆ 6   │\n",
       "│ GP     ┆ F   ┆ 15  ┆ U       ┆ … ┆ 10       ┆ 7   ┆ 8   ┆ 10  │\n",
       "│ GP     ┆ F   ┆ 15  ┆ U       ┆ … ┆ 2        ┆ 15  ┆ 14  ┆ 15  │\n",
       "│ GP     ┆ F   ┆ 16  ┆ U       ┆ … ┆ 4        ┆ 6   ┆ 10  ┆ 10  │\n",
       "│ …      ┆ …   ┆ …   ┆ …       ┆ … ┆ …        ┆ …   ┆ …   ┆ …   │\n",
       "│ MS     ┆ M   ┆ 20  ┆ U       ┆ … ┆ 11       ┆ 9   ┆ 9   ┆ 9   │\n",
       "│ MS     ┆ M   ┆ 17  ┆ U       ┆ … ┆ 3        ┆ 14  ┆ 16  ┆ 16  │\n",
       "│ MS     ┆ M   ┆ 21  ┆ R       ┆ … ┆ 3        ┆ 10  ┆ 8   ┆ 7   │\n",
       "│ MS     ┆ M   ┆ 18  ┆ R       ┆ … ┆ 0        ┆ 11  ┆ 12  ┆ 10  │\n",
       "│ MS     ┆ M   ┆ 19  ┆ U       ┆ … ┆ 5        ┆ 8   ┆ 9   ┆ 9   │\n",
       "└────────┴─────┴─────┴─────────┴───┴──────────┴─────┴─────┴─────┘"
      ]
     },
     "execution_count": 3,
     "metadata": {},
     "output_type": "execute_result"
    }
   ],
   "source": [
    "student_performance_df"
   ]
  },
  {
   "cell_type": "markdown",
   "metadata": {},
   "source": [
    "Reserve only the columns we need for this homework.\n",
    "\n",
    "> Dataset 只有兩所學校 (「GP」和「MS」）。分數為連續尺度，故適合 t 分配。資料欄位只剩 school、sex（F、M）和分數（G1、G2、G3）。每一列代表一位學生。\n"
   ]
  },
  {
   "cell_type": "code",
   "execution_count": 4,
   "metadata": {},
   "outputs": [],
   "source": [
    "student_performance_df = student_performance_df.select(\"school\", \"sex\", \"G1\", \"G2\", \"G3\")"
   ]
  },
  {
   "cell_type": "code",
   "execution_count": 5,
   "metadata": {},
   "outputs": [],
   "source": [
    "SexEnum = pl.Enum([\"M\", \"F\"])\n",
    "SchoolEnum = pl.Enum([\"GP\", \"MS\"])\n",
    "\n",
    "student_performance_df = student_performance_df.with_columns(\n",
    "    pl.col(\"school\").cast(SchoolEnum),\n",
    "    pl.col(\"sex\").cast(SexEnum),\n",
    ")"
   ]
  },
  {
   "cell_type": "code",
   "execution_count": 6,
   "metadata": {},
   "outputs": [
    {
     "data": {
      "text/html": [
       "<div><style>\n",
       ".dataframe > thead > tr,\n",
       ".dataframe > tbody > tr {\n",
       "  text-align: right;\n",
       "  white-space: pre-wrap;\n",
       "}\n",
       "</style>\n",
       "<small>shape: (395, 5)</small><table border=\"1\" class=\"dataframe\"><thead><tr><th>school</th><th>sex</th><th>G1</th><th>G2</th><th>G3</th></tr><tr><td>enum</td><td>enum</td><td>i64</td><td>i64</td><td>i64</td></tr></thead><tbody><tr><td>&quot;GP&quot;</td><td>&quot;F&quot;</td><td>5</td><td>6</td><td>6</td></tr><tr><td>&quot;GP&quot;</td><td>&quot;F&quot;</td><td>5</td><td>5</td><td>6</td></tr><tr><td>&quot;GP&quot;</td><td>&quot;F&quot;</td><td>7</td><td>8</td><td>10</td></tr><tr><td>&quot;GP&quot;</td><td>&quot;F&quot;</td><td>15</td><td>14</td><td>15</td></tr><tr><td>&quot;GP&quot;</td><td>&quot;F&quot;</td><td>6</td><td>10</td><td>10</td></tr><tr><td>&hellip;</td><td>&hellip;</td><td>&hellip;</td><td>&hellip;</td><td>&hellip;</td></tr><tr><td>&quot;MS&quot;</td><td>&quot;M&quot;</td><td>9</td><td>9</td><td>9</td></tr><tr><td>&quot;MS&quot;</td><td>&quot;M&quot;</td><td>14</td><td>16</td><td>16</td></tr><tr><td>&quot;MS&quot;</td><td>&quot;M&quot;</td><td>10</td><td>8</td><td>7</td></tr><tr><td>&quot;MS&quot;</td><td>&quot;M&quot;</td><td>11</td><td>12</td><td>10</td></tr><tr><td>&quot;MS&quot;</td><td>&quot;M&quot;</td><td>8</td><td>9</td><td>9</td></tr></tbody></table></div>"
      ],
      "text/plain": [
       "shape: (395, 5)\n",
       "┌────────┬──────┬─────┬─────┬─────┐\n",
       "│ school ┆ sex  ┆ G1  ┆ G2  ┆ G3  │\n",
       "│ ---    ┆ ---  ┆ --- ┆ --- ┆ --- │\n",
       "│ enum   ┆ enum ┆ i64 ┆ i64 ┆ i64 │\n",
       "╞════════╪══════╪═════╪═════╪═════╡\n",
       "│ GP     ┆ F    ┆ 5   ┆ 6   ┆ 6   │\n",
       "│ GP     ┆ F    ┆ 5   ┆ 5   ┆ 6   │\n",
       "│ GP     ┆ F    ┆ 7   ┆ 8   ┆ 10  │\n",
       "│ GP     ┆ F    ┆ 15  ┆ 14  ┆ 15  │\n",
       "│ GP     ┆ F    ┆ 6   ┆ 10  ┆ 10  │\n",
       "│ …      ┆ …    ┆ …   ┆ …   ┆ …   │\n",
       "│ MS     ┆ M    ┆ 9   ┆ 9   ┆ 9   │\n",
       "│ MS     ┆ M    ┆ 14  ┆ 16  ┆ 16  │\n",
       "│ MS     ┆ M    ┆ 10  ┆ 8   ┆ 7   │\n",
       "│ MS     ┆ M    ┆ 11  ┆ 12  ┆ 10  │\n",
       "│ MS     ┆ M    ┆ 8   ┆ 9   ┆ 9   │\n",
       "└────────┴──────┴─────┴─────┴─────┘"
      ]
     },
     "execution_count": 6,
     "metadata": {},
     "output_type": "execute_result"
    }
   ],
   "source": [
    "student_performance_df"
   ]
  },
  {
   "cell_type": "markdown",
   "metadata": {},
   "source": [
    "## dyb15-5\n",
    "\n",
    "- Usage: $\\chi^2$ test, independence test\n"
   ]
  },
  {
   "cell_type": "code",
   "execution_count": 7,
   "metadata": {},
   "outputs": [],
   "source": [
    "chi_independence_df = pl.read_csv(\"dyb15-5.csv\")"
   ]
  },
  {
   "cell_type": "code",
   "execution_count": 8,
   "metadata": {},
   "outputs": [],
   "source": [
    "ProgramEnum = pl.Enum([\"運動\", \"電影\", \"新聞\"])\n",
    "IncomeEnum = pl.Enum([\"低\", \"中\", \"高\"])\n",
    "\n",
    "chi_independence_df = chi_independence_df.with_columns(\n",
    "    pl.col(\"program\").replace_strict({1: \"運動\", 2: \"電影\", 3: \"新聞\"}).cast(ProgramEnum),\n",
    "    pl.col(\"income\").replace_strict({1: \"低\", 2: \"中\", 3: \"高\"}).cast(IncomeEnum),\n",
    ")"
   ]
  },
  {
   "cell_type": "code",
   "execution_count": 9,
   "metadata": {},
   "outputs": [
    {
     "data": {
      "text/html": [
       "<div><style>\n",
       ".dataframe > thead > tr,\n",
       ".dataframe > tbody > tr {\n",
       "  text-align: right;\n",
       "  white-space: pre-wrap;\n",
       "}\n",
       "</style>\n",
       "<small>shape: (9, 3)</small><table border=\"1\" class=\"dataframe\"><thead><tr><th>income</th><th>program</th><th>count</th></tr><tr><td>enum</td><td>enum</td><td>i64</td></tr></thead><tbody><tr><td>&quot;低&quot;</td><td>&quot;運動&quot;</td><td>143</td></tr><tr><td>&quot;低&quot;</td><td>&quot;電影&quot;</td><td>70</td></tr><tr><td>&quot;低&quot;</td><td>&quot;新聞&quot;</td><td>37</td></tr><tr><td>&quot;中&quot;</td><td>&quot;運動&quot;</td><td>90</td></tr><tr><td>&quot;中&quot;</td><td>&quot;電影&quot;</td><td>67</td></tr><tr><td>&quot;中&quot;</td><td>&quot;新聞&quot;</td><td>43</td></tr><tr><td>&quot;高&quot;</td><td>&quot;運動&quot;</td><td>17</td></tr><tr><td>&quot;高&quot;</td><td>&quot;電影&quot;</td><td>13</td></tr><tr><td>&quot;高&quot;</td><td>&quot;新聞&quot;</td><td>20</td></tr></tbody></table></div>"
      ],
      "text/plain": [
       "shape: (9, 3)\n",
       "┌────────┬─────────┬───────┐\n",
       "│ income ┆ program ┆ count │\n",
       "│ ---    ┆ ---     ┆ ---   │\n",
       "│ enum   ┆ enum    ┆ i64   │\n",
       "╞════════╪═════════╪═══════╡\n",
       "│ 低     ┆ 運動    ┆ 143   │\n",
       "│ 低     ┆ 電影    ┆ 70    │\n",
       "│ 低     ┆ 新聞    ┆ 37    │\n",
       "│ 中     ┆ 運動    ┆ 90    │\n",
       "│ 中     ┆ 電影    ┆ 67    │\n",
       "│ 中     ┆ 新聞    ┆ 43    │\n",
       "│ 高     ┆ 運動    ┆ 17    │\n",
       "│ 高     ┆ 電影    ┆ 13    │\n",
       "│ 高     ┆ 新聞    ┆ 20    │\n",
       "└────────┴─────────┴───────┘"
      ]
     },
     "execution_count": 9,
     "metadata": {},
     "output_type": "execute_result"
    }
   ],
   "source": [
    "chi_independence_df"
   ]
  },
  {
   "cell_type": "markdown",
   "metadata": {},
   "source": [
    "## Area, Age, and Gender Statistical table (19CoV)\n",
    "\n",
    "- Usage: $\\chi^2$ test, goodness-of-fit test\n",
    "- Source: https://data.cdc.gov.tw/zh_TW/dataset/aagstable-19cov\n"
   ]
  },
  {
   "cell_type": "code",
   "execution_count": 10,
   "metadata": {},
   "outputs": [],
   "source": [
    "covid19_df = pl.read_excel(\"Age_County_Gender_19CVS_big5.xlsx\")"
   ]
  },
  {
   "cell_type": "code",
   "execution_count": 11,
   "metadata": {},
   "outputs": [
    {
     "data": {
      "text/html": [
       "<div><style>\n",
       ".dataframe > thead > tr,\n",
       ".dataframe > tbody > tr {\n",
       "  text-align: right;\n",
       "  white-space: pre-wrap;\n",
       "}\n",
       "</style>\n",
       "<small>shape: (17_566, 9)</small><table border=\"1\" class=\"dataframe\"><thead><tr><th>確定病名</th><th>發病年份</th><th>發病月份</th><th>縣市</th><th>鄉鎮</th><th>性別</th><th>是否為境外移入</th><th>年齡層</th><th>確定病例數</th></tr><tr><td>str</td><td>i64</td><td>i64</td><td>str</td><td>str</td><td>str</td><td>str</td><td>str</td><td>i64</td></tr></thead><tbody><tr><td>&quot;嚴重特殊傳染性肺炎&quot;</td><td>2023</td><td>1</td><td>&quot;新北市&quot;</td><td>&quot;永和區&quot;</td><td>&quot;F&quot;</td><td>&quot;否&quot;</td><td>&quot;70+&quot;</td><td>1</td></tr><tr><td>&quot;嚴重特殊傳染性肺炎&quot;</td><td>2023</td><td>1</td><td>&quot;新北市&quot;</td><td>&quot;瑞芳區&quot;</td><td>&quot;M&quot;</td><td>&quot;否&quot;</td><td>&quot;70+&quot;</td><td>1</td></tr><tr><td>&quot;嚴重特殊傳染性肺炎&quot;</td><td>2023</td><td>1</td><td>&quot;桃園市&quot;</td><td>&quot;八德區&quot;</td><td>&quot;M&quot;</td><td>&quot;否&quot;</td><td>&quot;70+&quot;</td><td>1</td></tr><tr><td>&quot;嚴重特殊傳染性肺炎&quot;</td><td>2023</td><td>1</td><td>&quot;南投縣&quot;</td><td>&quot;埔里鎮&quot;</td><td>&quot;F&quot;</td><td>&quot;否&quot;</td><td>&quot;65-69&quot;</td><td>1</td></tr><tr><td>&quot;嚴重特殊傳染性肺炎&quot;</td><td>2023</td><td>1</td><td>&quot;南投縣&quot;</td><td>&quot;埔里鎮&quot;</td><td>&quot;F&quot;</td><td>&quot;否&quot;</td><td>&quot;70+&quot;</td><td>1</td></tr><tr><td>&hellip;</td><td>&hellip;</td><td>&hellip;</td><td>&hellip;</td><td>&hellip;</td><td>&hellip;</td><td>&hellip;</td><td>&hellip;</td><td>&hellip;</td></tr><tr><td>&quot;嚴重特殊傳染性肺炎&quot;</td><td>2024</td><td>8</td><td>&quot;台東縣&quot;</td><td>&quot;長濱鄉&quot;</td><td>&quot;M&quot;</td><td>&quot;否&quot;</td><td>&quot;70+&quot;</td><td>1</td></tr><tr><td>&quot;嚴重特殊傳染性肺炎&quot;</td><td>2024</td><td>8</td><td>&quot;台東縣&quot;</td><td>&quot;關山鎮&quot;</td><td>&quot;F&quot;</td><td>&quot;否&quot;</td><td>&quot;70+&quot;</td><td>1</td></tr><tr><td>&quot;嚴重特殊傳染性肺炎&quot;</td><td>2024</td><td>8</td><td>&quot;台東縣&quot;</td><td>&quot;關山鎮&quot;</td><td>&quot;M&quot;</td><td>&quot;否&quot;</td><td>&quot;70+&quot;</td><td>1</td></tr><tr><td>&quot;嚴重特殊傳染性肺炎&quot;</td><td>2024</td><td>8</td><td>&quot;金門縣&quot;</td><td>&quot;金城鎮&quot;</td><td>&quot;M&quot;</td><td>&quot;否&quot;</td><td>&quot;70+&quot;</td><td>1</td></tr><tr><td>&quot;嚴重特殊傳染性肺炎&quot;</td><td>2024</td><td>8</td><td>&quot;連江縣&quot;</td><td>&quot;南竿鄉&quot;</td><td>&quot;M&quot;</td><td>&quot;否&quot;</td><td>&quot;70+&quot;</td><td>1</td></tr></tbody></table></div>"
      ],
      "text/plain": [
       "shape: (17_566, 9)\n",
       "┌─────────────────┬──────────┬──────────┬────────┬───┬──────┬────────────────┬────────┬────────────┐\n",
       "│ 確定病名        ┆ 發病年份 ┆ 發病月份 ┆ 縣市   ┆ … ┆ 性別 ┆ 是否為境外移入 ┆ 年齡層 ┆ 確定病例數 │\n",
       "│ ---             ┆ ---      ┆ ---      ┆ ---    ┆   ┆ ---  ┆ ---            ┆ ---    ┆ ---        │\n",
       "│ str             ┆ i64      ┆ i64      ┆ str    ┆   ┆ str  ┆ str            ┆ str    ┆ i64        │\n",
       "╞═════════════════╪══════════╪══════════╪════════╪═══╪══════╪════════════════╪════════╪════════════╡\n",
       "│ 嚴重特殊傳染性  ┆ 2023     ┆ 1        ┆ 新北市 ┆ … ┆ F    ┆ 否             ┆ 70+    ┆ 1          │\n",
       "│ 肺炎            ┆          ┆          ┆        ┆   ┆      ┆                ┆        ┆            │\n",
       "│ 嚴重特殊傳染性  ┆ 2023     ┆ 1        ┆ 新北市 ┆ … ┆ M    ┆ 否             ┆ 70+    ┆ 1          │\n",
       "│ 肺炎            ┆          ┆          ┆        ┆   ┆      ┆                ┆        ┆            │\n",
       "│ 嚴重特殊傳染性  ┆ 2023     ┆ 1        ┆ 桃園市 ┆ … ┆ M    ┆ 否             ┆ 70+    ┆ 1          │\n",
       "│ 肺炎            ┆          ┆          ┆        ┆   ┆      ┆                ┆        ┆            │\n",
       "│ 嚴重特殊傳染性  ┆ 2023     ┆ 1        ┆ 南投縣 ┆ … ┆ F    ┆ 否             ┆ 65-69  ┆ 1          │\n",
       "│ 肺炎            ┆          ┆          ┆        ┆   ┆      ┆                ┆        ┆            │\n",
       "│ 嚴重特殊傳染性  ┆ 2023     ┆ 1        ┆ 南投縣 ┆ … ┆ F    ┆ 否             ┆ 70+    ┆ 1          │\n",
       "│ 肺炎            ┆          ┆          ┆        ┆   ┆      ┆                ┆        ┆            │\n",
       "│ …               ┆ …        ┆ …        ┆ …      ┆ … ┆ …    ┆ …              ┆ …      ┆ …          │\n",
       "│ 嚴重特殊傳染性  ┆ 2024     ┆ 8        ┆ 台東縣 ┆ … ┆ M    ┆ 否             ┆ 70+    ┆ 1          │\n",
       "│ 肺炎            ┆          ┆          ┆        ┆   ┆      ┆                ┆        ┆            │\n",
       "│ 嚴重特殊傳染性  ┆ 2024     ┆ 8        ┆ 台東縣 ┆ … ┆ F    ┆ 否             ┆ 70+    ┆ 1          │\n",
       "│ 肺炎            ┆          ┆          ┆        ┆   ┆      ┆                ┆        ┆            │\n",
       "│ 嚴重特殊傳染性  ┆ 2024     ┆ 8        ┆ 台東縣 ┆ … ┆ M    ┆ 否             ┆ 70+    ┆ 1          │\n",
       "│ 肺炎            ┆          ┆          ┆        ┆   ┆      ┆                ┆        ┆            │\n",
       "│ 嚴重特殊傳染性  ┆ 2024     ┆ 8        ┆ 金門縣 ┆ … ┆ M    ┆ 否             ┆ 70+    ┆ 1          │\n",
       "│ 肺炎            ┆          ┆          ┆        ┆   ┆      ┆                ┆        ┆            │\n",
       "│ 嚴重特殊傳染性  ┆ 2024     ┆ 8        ┆ 連江縣 ┆ … ┆ M    ┆ 否             ┆ 70+    ┆ 1          │\n",
       "│ 肺炎            ┆          ┆          ┆        ┆   ┆      ┆                ┆        ┆            │\n",
       "└─────────────────┴──────────┴──────────┴────────┴───┴──────┴────────────────┴────────┴────────────┘"
      ]
     },
     "execution_count": 11,
     "metadata": {},
     "output_type": "execute_result"
    }
   ],
   "source": [
    "covid19_df"
   ]
  },
  {
   "cell_type": "markdown",
   "metadata": {},
   "source": [
    "考慮到「適合度檢定」只需要「性別」、「確定病例數」這兩個欄位的匯總值，故將資料匯總成「性別」、「這個性別的確定總病例數」兩欄。\n"
   ]
  },
  {
   "cell_type": "code",
   "execution_count": 12,
   "metadata": {},
   "outputs": [],
   "source": [
    "covid19_df = covid19_df.group_by(\"性別\").agg(pl.sum(\"確定病例數\"))"
   ]
  },
  {
   "cell_type": "code",
   "execution_count": 13,
   "metadata": {},
   "outputs": [
    {
     "data": {
      "text/html": [
       "<div><style>\n",
       ".dataframe > thead > tr,\n",
       ".dataframe > tbody > tr {\n",
       "  text-align: right;\n",
       "  white-space: pre-wrap;\n",
       "}\n",
       "</style>\n",
       "<small>shape: (3, 2)</small><table border=\"1\" class=\"dataframe\"><thead><tr><th>性別</th><th>確定病例數</th></tr><tr><td>str</td><td>i64</td></tr></thead><tbody><tr><td>&quot;U&quot;</td><td>3</td></tr><tr><td>&quot;F&quot;</td><td>17370</td></tr><tr><td>&quot;M&quot;</td><td>26009</td></tr></tbody></table></div>"
      ],
      "text/plain": [
       "shape: (3, 2)\n",
       "┌──────┬────────────┐\n",
       "│ 性別 ┆ 確定病例數 │\n",
       "│ ---  ┆ ---        │\n",
       "│ str  ┆ i64        │\n",
       "╞══════╪════════════╡\n",
       "│ U    ┆ 3          │\n",
       "│ F    ┆ 17370      │\n",
       "│ M    ┆ 26009      │\n",
       "└──────┴────────────┘"
      ]
     },
     "execution_count": 13,
     "metadata": {},
     "output_type": "execute_result"
    }
   ],
   "source": [
    "covid19_df"
   ]
  },
  {
   "cell_type": "markdown",
   "metadata": {},
   "source": [
    "考慮到不需要未知值 (`U`)，故只留 `M` 和 `F` 兩個性別。\n"
   ]
  },
  {
   "cell_type": "code",
   "execution_count": null,
   "metadata": {},
   "outputs": [],
   "source": [
    "covid19_df = covid19_df.filter(pl.col(\"性別\") != \"U\")"
   ]
  },
  {
   "cell_type": "code",
   "execution_count": 15,
   "metadata": {},
   "outputs": [
    {
     "data": {
      "text/html": [
       "<div><style>\n",
       ".dataframe > thead > tr,\n",
       ".dataframe > tbody > tr {\n",
       "  text-align: right;\n",
       "  white-space: pre-wrap;\n",
       "}\n",
       "</style>\n",
       "<small>shape: (2, 2)</small><table border=\"1\" class=\"dataframe\"><thead><tr><th>性別</th><th>確定病例數</th></tr><tr><td>str</td><td>i64</td></tr></thead><tbody><tr><td>&quot;F&quot;</td><td>17370</td></tr><tr><td>&quot;M&quot;</td><td>26009</td></tr></tbody></table></div>"
      ],
      "text/plain": [
       "shape: (2, 2)\n",
       "┌──────┬────────────┐\n",
       "│ 性別 ┆ 確定病例數 │\n",
       "│ ---  ┆ ---        │\n",
       "│ str  ┆ i64        │\n",
       "╞══════╪════════════╡\n",
       "│ F    ┆ 17370      │\n",
       "│ M    ┆ 26009      │\n",
       "└──────┴────────────┘"
      ]
     },
     "execution_count": 15,
     "metadata": {},
     "output_type": "execute_result"
    }
   ],
   "source": [
    "covid19_df"
   ]
  },
  {
   "cell_type": "markdown",
   "metadata": {},
   "source": [
    "## $t$-distribution\n"
   ]
  },
  {
   "cell_type": "markdown",
   "metadata": {},
   "source": [
    "### 獨立樣本\n"
   ]
  },
  {
   "cell_type": "markdown",
   "metadata": {},
   "source": [
    "我想知道 GP 學校中，不同性別間的期初成績 (G1) 是否有顯著差異。\n",
    "\n",
    "$$\n",
    "\\begin{cases}\n",
    "H_0 : \\mu_{\\text{F}} = \\mu_{\\text{M}} \\\\\n",
    "H_1 : \\mu_{\\text{F}} \\neq \\mu_{\\text{M}}\n",
    "\\end{cases}\n",
    "$$\n"
   ]
  },
  {
   "cell_type": "code",
   "execution_count": 16,
   "metadata": {},
   "outputs": [],
   "source": [
    "male_score = student_performance_df.filter(pl.col(\"sex\") == \"M\")[\"G1\"]\n",
    "female_score = student_performance_df.filter(pl.col(\"sex\") == \"F\")[\"G1\"]"
   ]
  },
  {
   "cell_type": "markdown",
   "metadata": {},
   "source": [
    "判斷樣本同質性顯著與否，假設如下：\n",
    "\n",
    "$$\n",
    "\\begin{cases}\n",
    "H_0 : \\sigma_{\\text{F}} = \\sigma_{\\text{M}} \\\\\n",
    "H_1 : \\sigma_{\\text{F}} \\neq \\sigma_{\\text{M}}\n",
    "\\end{cases}\n",
    "$$\n"
   ]
  },
  {
   "cell_type": "code",
   "execution_count": 17,
   "metadata": {},
   "outputs": [
    {
     "name": "stdout",
     "output_type": "stream",
     "text": [
      "LeveneResult(statistic=np.float64(0.49025086867044526), pvalue=np.float64(0.4842296949092353))\n",
      "樣本同值性顯著嗎？ False\n"
     ]
    }
   ],
   "source": [
    "levene = sps.levene(male_score, female_score)\n",
    "\n",
    "print(levene)\n",
    "print(\"樣本同值性顯著嗎？\", levene.pvalue <= 0.05)"
   ]
  },
  {
   "cell_type": "markdown",
   "metadata": {},
   "source": [
    "考慮到「Levene 檢定」之 $p=0.484>(\\alpha=0.05)$，故 not reject $H_0$，變異數相等。\n"
   ]
  },
  {
   "cell_type": "code",
   "execution_count": 18,
   "metadata": {},
   "outputs": [
    {
     "name": "stdout",
     "output_type": "stream",
     "text": [
      "TtestResult(statistic=np.float64(1.8283673434285317), pvalue=np.float64(0.06825227168840962), df=np.float64(393.0))\n",
      "reject H0? False\n"
     ]
    }
   ],
   "source": [
    "ttest = sps.ttest_ind(male_score, female_score, equal_var=levene.pvalue > 0.05)\n",
    "\n",
    "print(ttest)\n",
    "print(\"reject H0?\", ttest.pvalue <= 0.05)  # type: ignore"
   ]
  },
  {
   "cell_type": "markdown",
   "metadata": {},
   "source": [
    "發現 $t=1.83$, $p=0.068>(\\alpha=0.05)$，故 not reject $H_0$。\n"
   ]
  },
  {
   "cell_type": "markdown",
   "metadata": {},
   "source": [
    "結論：在 95% 的信賴水準下，GP 學校中兩性別間的期初成績無顯著差異。\n"
   ]
  },
  {
   "cell_type": "markdown",
   "metadata": {},
   "source": [
    "### 相依樣本\n"
   ]
  },
  {
   "cell_type": "markdown",
   "metadata": {},
   "source": [
    "我想知道 GP 學校中，同個人的期初成績 (G1) 和期末成績 (G3) 是否有顯著差異，方便評估學習成效。\n",
    "\n",
    "$$\n",
    "\\begin{cases}\n",
    "H_0 : \\mu_{\\text{G1}} = \\mu_{\\text{G3}} \\\\\n",
    "H_1 : \\mu_{\\text{G1}} \\neq \\mu_{\\text{G3}}\n",
    "\\end{cases}\n",
    "$$\n"
   ]
  },
  {
   "cell_type": "code",
   "execution_count": 19,
   "metadata": {},
   "outputs": [],
   "source": [
    "g1_score = student_performance_df[\"G1\"]\n",
    "g3_score = student_performance_df[\"G3\"]"
   ]
  },
  {
   "cell_type": "code",
   "execution_count": 20,
   "metadata": {},
   "outputs": [
    {
     "data": {
      "text/plain": [
       "TtestResult(statistic=np.float64(3.5517031247185855), pvalue=np.float64(0.0004290673865804163), df=np.int64(394))"
      ]
     },
     "execution_count": 20,
     "metadata": {},
     "output_type": "execute_result"
    }
   ],
   "source": [
    "sps.ttest_rel(g1_score, g3_score)"
   ]
  },
  {
   "cell_type": "markdown",
   "metadata": {},
   "source": [
    "可以發現 $t=3.55$, $p=0.0004<(\\alpha=0.05)$，故 reject $H_0$。\n"
   ]
  },
  {
   "cell_type": "markdown",
   "metadata": {},
   "source": [
    "結論：在 95% 的信賴水準下，GP 學校中同個人的期初成績和期末成績有顯著差異。\n"
   ]
  },
  {
   "cell_type": "markdown",
   "metadata": {},
   "source": [
    "## $\\chi^2$-distribution\n"
   ]
  },
  {
   "cell_type": "markdown",
   "metadata": {},
   "source": [
    "### 獨立性檢定\n"
   ]
  },
  {
   "cell_type": "code",
   "execution_count": 21,
   "metadata": {},
   "outputs": [
    {
     "data": {
      "text/html": [
       "<div><style>\n",
       ".dataframe > thead > tr,\n",
       ".dataframe > tbody > tr {\n",
       "  text-align: right;\n",
       "  white-space: pre-wrap;\n",
       "}\n",
       "</style>\n",
       "<small>shape: (9, 3)</small><table border=\"1\" class=\"dataframe\"><thead><tr><th>income</th><th>program</th><th>count</th></tr><tr><td>enum</td><td>enum</td><td>i64</td></tr></thead><tbody><tr><td>&quot;低&quot;</td><td>&quot;運動&quot;</td><td>143</td></tr><tr><td>&quot;低&quot;</td><td>&quot;電影&quot;</td><td>70</td></tr><tr><td>&quot;低&quot;</td><td>&quot;新聞&quot;</td><td>37</td></tr><tr><td>&quot;中&quot;</td><td>&quot;運動&quot;</td><td>90</td></tr><tr><td>&quot;中&quot;</td><td>&quot;電影&quot;</td><td>67</td></tr><tr><td>&quot;中&quot;</td><td>&quot;新聞&quot;</td><td>43</td></tr><tr><td>&quot;高&quot;</td><td>&quot;運動&quot;</td><td>17</td></tr><tr><td>&quot;高&quot;</td><td>&quot;電影&quot;</td><td>13</td></tr><tr><td>&quot;高&quot;</td><td>&quot;新聞&quot;</td><td>20</td></tr></tbody></table></div>"
      ],
      "text/plain": [
       "shape: (9, 3)\n",
       "┌────────┬─────────┬───────┐\n",
       "│ income ┆ program ┆ count │\n",
       "│ ---    ┆ ---     ┆ ---   │\n",
       "│ enum   ┆ enum    ┆ i64   │\n",
       "╞════════╪═════════╪═══════╡\n",
       "│ 低     ┆ 運動    ┆ 143   │\n",
       "│ 低     ┆ 電影    ┆ 70    │\n",
       "│ 低     ┆ 新聞    ┆ 37    │\n",
       "│ 中     ┆ 運動    ┆ 90    │\n",
       "│ 中     ┆ 電影    ┆ 67    │\n",
       "│ 中     ┆ 新聞    ┆ 43    │\n",
       "│ 高     ┆ 運動    ┆ 17    │\n",
       "│ 高     ┆ 電影    ┆ 13    │\n",
       "│ 高     ┆ 新聞    ┆ 20    │\n",
       "└────────┴─────────┴───────┘"
      ]
     },
     "execution_count": 21,
     "metadata": {},
     "output_type": "execute_result"
    }
   ],
   "source": [
    "chi_independence_df"
   ]
  },
  {
   "cell_type": "markdown",
   "metadata": {},
   "source": [
    "考慮到 `program` 有兩個以上的類別，且 `count` 為⼀非連續屬性，故適合卡⽅檢定。\n"
   ]
  },
  {
   "cell_type": "markdown",
   "metadata": {},
   "source": [
    "假設如下：\n",
    "\n",
    "- $H_0$：節目型態與收入沒有關係\n",
    "- $H_1$：節目型態與收入有關係\n"
   ]
  },
  {
   "cell_type": "code",
   "execution_count": 22,
   "metadata": {},
   "outputs": [],
   "source": [
    "# 轉換成樞紐表\n",
    "\n",
    "observed = chi_independence_df.pivot(\"program\", index=\"income\")"
   ]
  },
  {
   "cell_type": "code",
   "execution_count": 23,
   "metadata": {},
   "outputs": [
    {
     "data": {
      "text/html": [
       "<div><style>\n",
       ".dataframe > thead > tr,\n",
       ".dataframe > tbody > tr {\n",
       "  text-align: right;\n",
       "  white-space: pre-wrap;\n",
       "}\n",
       "</style>\n",
       "<small>shape: (3, 4)</small><table border=\"1\" class=\"dataframe\"><thead><tr><th>income</th><th>運動</th><th>電影</th><th>新聞</th></tr><tr><td>enum</td><td>i64</td><td>i64</td><td>i64</td></tr></thead><tbody><tr><td>&quot;低&quot;</td><td>143</td><td>70</td><td>37</td></tr><tr><td>&quot;中&quot;</td><td>90</td><td>67</td><td>43</td></tr><tr><td>&quot;高&quot;</td><td>17</td><td>13</td><td>20</td></tr></tbody></table></div>"
      ],
      "text/plain": [
       "shape: (3, 4)\n",
       "┌────────┬──────┬──────┬──────┐\n",
       "│ income ┆ 運動 ┆ 電影 ┆ 新聞 │\n",
       "│ ---    ┆ ---  ┆ ---  ┆ ---  │\n",
       "│ enum   ┆ i64  ┆ i64  ┆ i64  │\n",
       "╞════════╪══════╪══════╪══════╡\n",
       "│ 低     ┆ 143  ┆ 70   ┆ 37   │\n",
       "│ 中     ┆ 90   ┆ 67   ┆ 43   │\n",
       "│ 高     ┆ 17   ┆ 13   ┆ 20   │\n",
       "└────────┴──────┴──────┴──────┘"
      ]
     },
     "execution_count": 23,
     "metadata": {},
     "output_type": "execute_result"
    }
   ],
   "source": [
    "observed"
   ]
  },
  {
   "cell_type": "code",
   "execution_count": 24,
   "metadata": {},
   "outputs": [
    {
     "data": {
      "text/plain": [
       "Chi2ContingencyResult(statistic=np.float64(21.173666666666666), pvalue=np.float64(0.0002925239725081441), dof=4, expected_freq=array([[125.,  75.,  50.],\n",
       "       [100.,  60.,  40.],\n",
       "       [ 25.,  15.,  10.]]))"
      ]
     },
     "execution_count": 24,
     "metadata": {},
     "output_type": "execute_result"
    }
   ],
   "source": [
    "sps.chi2_contingency(observed.drop(\"income\"))  # 移除 index"
   ]
  },
  {
   "cell_type": "markdown",
   "metadata": {},
   "source": [
    "發現 $\\chi^2=21.1736$, $p=0.0002<(\\alpha=0.05)$，故 reject $H_0$。\n"
   ]
  },
  {
   "cell_type": "markdown",
   "metadata": {},
   "source": [
    "結論：在 95% 的信賴水準下，節目型態與收入有關係。\n"
   ]
  },
  {
   "cell_type": "markdown",
   "metadata": {},
   "source": [
    "### 適合度檢定\n"
   ]
  },
  {
   "cell_type": "code",
   "execution_count": 25,
   "metadata": {},
   "outputs": [
    {
     "data": {
      "text/html": [
       "<div><style>\n",
       ".dataframe > thead > tr,\n",
       ".dataframe > tbody > tr {\n",
       "  text-align: right;\n",
       "  white-space: pre-wrap;\n",
       "}\n",
       "</style>\n",
       "<small>shape: (2, 2)</small><table border=\"1\" class=\"dataframe\"><thead><tr><th>性別</th><th>確定病例數</th></tr><tr><td>str</td><td>i64</td></tr></thead><tbody><tr><td>&quot;F&quot;</td><td>17370</td></tr><tr><td>&quot;M&quot;</td><td>26009</td></tr></tbody></table></div>"
      ],
      "text/plain": [
       "shape: (2, 2)\n",
       "┌──────┬────────────┐\n",
       "│ 性別 ┆ 確定病例數 │\n",
       "│ ---  ┆ ---        │\n",
       "│ str  ┆ i64        │\n",
       "╞══════╪════════════╡\n",
       "│ F    ┆ 17370      │\n",
       "│ M    ┆ 26009      │\n",
       "└──────┴────────────┘"
      ]
     },
     "execution_count": 25,
     "metadata": {},
     "output_type": "execute_result"
    }
   ],
   "source": [
    "covid19_df"
   ]
  },
  {
   "cell_type": "markdown",
   "metadata": {},
   "source": [
    "因為「病例數」屬於離散資料，故適合卡方適合度檢定。\n",
    "性別「M」為男性、「F」為女性。\n"
   ]
  },
  {
   "cell_type": "markdown",
   "metadata": {},
   "source": [
    "假設如下：\n",
    "\n",
    "- $H_0$：確定病例數間沒有顯著差異\n",
    "- $H_1$：確定病例數間有顯著差異\n"
   ]
  },
  {
   "cell_type": "code",
   "execution_count": 26,
   "metadata": {},
   "outputs": [
    {
     "data": {
      "text/plain": [
       "Power_divergenceResult(statistic=np.float64(1720.4712187925034), pvalue=np.float64(0.0))"
      ]
     },
     "execution_count": 26,
     "metadata": {},
     "output_type": "execute_result"
    }
   ],
   "source": [
    "sps.chisquare(covid19_df[\"確定病例數\"])"
   ]
  },
  {
   "cell_type": "markdown",
   "metadata": {},
   "source": [
    "發現 $\\chi^2=1720.47$, $p=0.0\\leq(\\alpha=0.05)$，故 reject $H_0$.\n"
   ]
  },
  {
   "cell_type": "markdown",
   "metadata": {},
   "source": [
    "結論：在 95% 的信賴水準下，確定病例數間有顯著差異。根據表格，這代表「**男性感染率比女性高**」。\n"
   ]
  }
 ],
 "metadata": {
  "kernelspec": {
   "display_name": ".venv",
   "language": "python",
   "name": "python3"
  },
  "language_info": {
   "codemirror_mode": {
    "name": "ipython",
    "version": 3
   },
   "file_extension": ".py",
   "mimetype": "text/x-python",
   "name": "python",
   "nbconvert_exporter": "python",
   "pygments_lexer": "ipython3",
   "version": "3.12.5"
  }
 },
 "nbformat": 4,
 "nbformat_minor": 2
}
