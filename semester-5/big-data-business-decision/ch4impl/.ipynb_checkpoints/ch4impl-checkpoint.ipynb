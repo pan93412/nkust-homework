{
 "cells": [
  {
   "cell_type": "code",
   "metadata": {
    "ExecuteTime": {
     "end_time": "2024-10-14T07:41:57.755126Z",
     "start_time": "2024-10-14T07:41:57.753129Z"
    }
   },
   "source": [
    "import pandas as pd\n",
    "import numpy as np\n",
    "from scipy.stats.contingency import association"
   ],
   "outputs": [],
   "execution_count": 8
  },
  {
   "cell_type": "code",
   "metadata": {
    "ExecuteTime": {
     "end_time": "2024-10-14T07:41:57.765403Z",
     "start_time": "2024-10-14T07:41:57.762831Z"
    }
   },
   "source": [
    "transactions = [\n",
    "    ['牛奶', '麵包'],\n",
    "    ['麵包', '尿布', '葡萄酒', '甜菜'],\n",
    "    ['牛奶', '尿布', '葡萄酒', '橙汁'],\n",
    "    ['麵包', '牛奶', '尿布', '葡萄酒'],\n",
    "    ['麵包', '牛奶', '尿布', '橙汁']\n",
    "]"
   ],
   "outputs": [],
   "execution_count": 9
  },
  {
   "cell_type": "markdown",
   "metadata": {},
   "source": [
    "## Example 4-1 ~ 4-4：資料集編碼\n",
    "\n",
    "使用 `TransactionEncoder`，我們可以將資料集轉換為適合典型機器學習 API 的陣列（array）格式。透過該函數的 `fit` 方法，`TransactionEncoder` 學習者將取得資料集中的唯一標籤。並透過該 `transform` 方法，將輸入資料集（列表的 Python 列表）轉換為單編碼（a one-hot encoded）的 NumPy 布林陣列（boolean array）。"
   ]
  },
  {
   "cell_type": "code",
   "metadata": {
    "ExecuteTime": {
     "end_time": "2024-10-14T07:41:57.777199Z",
     "start_time": "2024-10-14T07:41:57.774942Z"
    }
   },
   "source": [
    "from mlxtend.preprocessing import TransactionEncoder\n",
    "te = TransactionEncoder()\n",
    "\n",
    "te_ary = te.fit(transactions).transform(transactions)\n",
    "te_ary"
   ],
   "outputs": [
    {
     "data": {
      "text/plain": [
       "array([[False, False,  True, False, False,  True],\n",
       "       [ True, False, False,  True,  True,  True],\n",
       "       [ True,  True,  True, False,  True, False],\n",
       "       [ True, False,  True, False,  True,  True],\n",
       "       [ True,  True,  True, False, False,  True]])"
      ]
     },
     "execution_count": 10,
     "metadata": {},
     "output_type": "execute_result"
    }
   ],
   "execution_count": 10
  },
  {
   "cell_type": "code",
   "metadata": {
    "ExecuteTime": {
     "end_time": "2024-10-14T07:41:57.813675Z",
     "start_time": "2024-10-14T07:41:57.810803Z"
    }
   },
   "source": [
    "te.columns_"
   ],
   "outputs": [
    {
     "data": {
      "text/plain": [
       "['尿布', '橙汁', '牛奶', '甜菜', '葡萄酒', '麵包']"
      ]
     },
     "execution_count": 11,
     "metadata": {},
     "output_type": "execute_result"
    }
   ],
   "execution_count": 11
  },
  {
   "cell_type": "code",
   "metadata": {
    "ExecuteTime": {
     "end_time": "2024-10-14T07:41:57.845256Z",
     "start_time": "2024-10-14T07:41:57.841577Z"
    }
   },
   "source": [
    "assert isinstance(te_ary, np.ndarray)  # type check\n",
    "df_trans = pd.DataFrame(te_ary, columns=te.columns_)\n",
    "df_trans"
   ],
   "outputs": [
    {
     "data": {
      "text/plain": [
       "      尿布     橙汁     牛奶     甜菜    葡萄酒     麵包\n",
       "0  False  False   True  False  False   True\n",
       "1   True  False  False   True   True   True\n",
       "2   True   True   True  False   True  False\n",
       "3   True  False   True  False   True   True\n",
       "4   True   True   True  False  False   True"
      ],
      "text/html": [
       "<div>\n",
       "<style scoped>\n",
       "    .dataframe tbody tr th:only-of-type {\n",
       "        vertical-align: middle;\n",
       "    }\n",
       "\n",
       "    .dataframe tbody tr th {\n",
       "        vertical-align: top;\n",
       "    }\n",
       "\n",
       "    .dataframe thead th {\n",
       "        text-align: right;\n",
       "    }\n",
       "</style>\n",
       "<table border=\"1\" class=\"dataframe\">\n",
       "  <thead>\n",
       "    <tr style=\"text-align: right;\">\n",
       "      <th></th>\n",
       "      <th>尿布</th>\n",
       "      <th>橙汁</th>\n",
       "      <th>牛奶</th>\n",
       "      <th>甜菜</th>\n",
       "      <th>葡萄酒</th>\n",
       "      <th>麵包</th>\n",
       "    </tr>\n",
       "  </thead>\n",
       "  <tbody>\n",
       "    <tr>\n",
       "      <th>0</th>\n",
       "      <td>False</td>\n",
       "      <td>False</td>\n",
       "      <td>True</td>\n",
       "      <td>False</td>\n",
       "      <td>False</td>\n",
       "      <td>True</td>\n",
       "    </tr>\n",
       "    <tr>\n",
       "      <th>1</th>\n",
       "      <td>True</td>\n",
       "      <td>False</td>\n",
       "      <td>False</td>\n",
       "      <td>True</td>\n",
       "      <td>True</td>\n",
       "      <td>True</td>\n",
       "    </tr>\n",
       "    <tr>\n",
       "      <th>2</th>\n",
       "      <td>True</td>\n",
       "      <td>True</td>\n",
       "      <td>True</td>\n",
       "      <td>False</td>\n",
       "      <td>True</td>\n",
       "      <td>False</td>\n",
       "    </tr>\n",
       "    <tr>\n",
       "      <th>3</th>\n",
       "      <td>True</td>\n",
       "      <td>False</td>\n",
       "      <td>True</td>\n",
       "      <td>False</td>\n",
       "      <td>True</td>\n",
       "      <td>True</td>\n",
       "    </tr>\n",
       "    <tr>\n",
       "      <th>4</th>\n",
       "      <td>True</td>\n",
       "      <td>True</td>\n",
       "      <td>True</td>\n",
       "      <td>False</td>\n",
       "      <td>False</td>\n",
       "      <td>True</td>\n",
       "    </tr>\n",
       "  </tbody>\n",
       "</table>\n",
       "</div>"
      ]
     },
     "execution_count": 12,
     "metadata": {},
     "output_type": "execute_result"
    }
   ],
   "execution_count": 12
  },
  {
   "metadata": {},
   "cell_type": "markdown",
   "source": "對資料進行還原和重排。"
  },
  {
   "metadata": {
    "ExecuteTime": {
     "end_time": "2024-10-14T07:41:57.884284Z",
     "start_time": "2024-10-14T07:41:57.881836Z"
    }
   },
   "cell_type": "code",
   "source": [
    "org_trans = te_ary[:5]\n",
    "te.inverse_transform(org_trans)"
   ],
   "outputs": [
    {
     "data": {
      "text/plain": [
       "[['牛奶', '麵包'],\n",
       " ['尿布', '甜菜', '葡萄酒', '麵包'],\n",
       " ['尿布', '橙汁', '牛奶', '葡萄酒'],\n",
       " ['尿布', '牛奶', '葡萄酒', '麵包'],\n",
       " ['尿布', '橙汁', '牛奶', '麵包']]"
      ]
     },
     "execution_count": 13,
     "metadata": {},
     "output_type": "execute_result"
    }
   ],
   "execution_count": 13
  },
  {
   "metadata": {},
   "cell_type": "markdown",
   "source": [
    "## Example 4-5 ~ 4-7：Apriori 演算法\n",
    "\n",
    "反覆產生候選項目集，找出所有高頻項目集，進而推導規則。"
   ]
  },
  {
   "metadata": {
    "ExecuteTime": {
     "end_time": "2024-10-14T07:43:51.364782Z",
     "start_time": "2024-10-14T07:43:51.363026Z"
    }
   },
   "cell_type": "code",
   "source": "from mlxtend.frequent_patterns import apriori, association_rules",
   "outputs": [],
   "execution_count": 18
  },
  {
   "metadata": {
    "ExecuteTime": {
     "end_time": "2024-10-14T07:41:58.002335Z",
     "start_time": "2024-10-14T07:41:57.997599Z"
    }
   },
   "cell_type": "code",
   "source": [
    "frequent_itemsets = apriori(df_trans, min_support=0.6, use_colnames=True)\n",
    "frequent_itemsets"
   ],
   "outputs": [
    {
     "data": {
      "text/plain": [
       "   support   itemsets\n",
       "0      0.8       (尿布)\n",
       "1      0.8       (牛奶)\n",
       "2      0.6      (葡萄酒)\n",
       "3      0.8       (麵包)\n",
       "4      0.6   (牛奶, 尿布)\n",
       "5      0.6  (葡萄酒, 尿布)\n",
       "6      0.6   (麵包, 尿布)\n",
       "7      0.6   (牛奶, 麵包)"
      ],
      "text/html": [
       "<div>\n",
       "<style scoped>\n",
       "    .dataframe tbody tr th:only-of-type {\n",
       "        vertical-align: middle;\n",
       "    }\n",
       "\n",
       "    .dataframe tbody tr th {\n",
       "        vertical-align: top;\n",
       "    }\n",
       "\n",
       "    .dataframe thead th {\n",
       "        text-align: right;\n",
       "    }\n",
       "</style>\n",
       "<table border=\"1\" class=\"dataframe\">\n",
       "  <thead>\n",
       "    <tr style=\"text-align: right;\">\n",
       "      <th></th>\n",
       "      <th>support</th>\n",
       "      <th>itemsets</th>\n",
       "    </tr>\n",
       "  </thead>\n",
       "  <tbody>\n",
       "    <tr>\n",
       "      <th>0</th>\n",
       "      <td>0.8</td>\n",
       "      <td>(尿布)</td>\n",
       "    </tr>\n",
       "    <tr>\n",
       "      <th>1</th>\n",
       "      <td>0.8</td>\n",
       "      <td>(牛奶)</td>\n",
       "    </tr>\n",
       "    <tr>\n",
       "      <th>2</th>\n",
       "      <td>0.6</td>\n",
       "      <td>(葡萄酒)</td>\n",
       "    </tr>\n",
       "    <tr>\n",
       "      <th>3</th>\n",
       "      <td>0.8</td>\n",
       "      <td>(麵包)</td>\n",
       "    </tr>\n",
       "    <tr>\n",
       "      <th>4</th>\n",
       "      <td>0.6</td>\n",
       "      <td>(牛奶, 尿布)</td>\n",
       "    </tr>\n",
       "    <tr>\n",
       "      <th>5</th>\n",
       "      <td>0.6</td>\n",
       "      <td>(葡萄酒, 尿布)</td>\n",
       "    </tr>\n",
       "    <tr>\n",
       "      <th>6</th>\n",
       "      <td>0.6</td>\n",
       "      <td>(麵包, 尿布)</td>\n",
       "    </tr>\n",
       "    <tr>\n",
       "      <th>7</th>\n",
       "      <td>0.6</td>\n",
       "      <td>(牛奶, 麵包)</td>\n",
       "    </tr>\n",
       "  </tbody>\n",
       "</table>\n",
       "</div>"
      ]
     },
     "execution_count": 15,
     "metadata": {},
     "output_type": "execute_result"
    }
   ],
   "execution_count": 15
  },
  {
   "metadata": {},
   "cell_type": "markdown",
   "source": "顯示每個 itemset 的長度。"
  },
  {
   "metadata": {
    "ExecuteTime": {
     "end_time": "2024-10-14T07:43:01.284940Z",
     "start_time": "2024-10-14T07:43:01.279896Z"
    }
   },
   "cell_type": "code",
   "source": [
    "frequent_itemsets['item_length'] = frequent_itemsets['itemsets'].apply(lambda x: len(x))\n",
    "frequent_itemsets"
   ],
   "outputs": [
    {
     "data": {
      "text/plain": [
       "   support   itemsets  item_length\n",
       "0      0.8       (尿布)            1\n",
       "1      0.8       (牛奶)            1\n",
       "2      0.6      (葡萄酒)            1\n",
       "3      0.8       (麵包)            1\n",
       "4      0.6   (牛奶, 尿布)            2\n",
       "5      0.6  (葡萄酒, 尿布)            2\n",
       "6      0.6   (麵包, 尿布)            2\n",
       "7      0.6   (牛奶, 麵包)            2"
      ],
      "text/html": [
       "<div>\n",
       "<style scoped>\n",
       "    .dataframe tbody tr th:only-of-type {\n",
       "        vertical-align: middle;\n",
       "    }\n",
       "\n",
       "    .dataframe tbody tr th {\n",
       "        vertical-align: top;\n",
       "    }\n",
       "\n",
       "    .dataframe thead th {\n",
       "        text-align: right;\n",
       "    }\n",
       "</style>\n",
       "<table border=\"1\" class=\"dataframe\">\n",
       "  <thead>\n",
       "    <tr style=\"text-align: right;\">\n",
       "      <th></th>\n",
       "      <th>support</th>\n",
       "      <th>itemsets</th>\n",
       "      <th>item_length</th>\n",
       "    </tr>\n",
       "  </thead>\n",
       "  <tbody>\n",
       "    <tr>\n",
       "      <th>0</th>\n",
       "      <td>0.8</td>\n",
       "      <td>(尿布)</td>\n",
       "      <td>1</td>\n",
       "    </tr>\n",
       "    <tr>\n",
       "      <th>1</th>\n",
       "      <td>0.8</td>\n",
       "      <td>(牛奶)</td>\n",
       "      <td>1</td>\n",
       "    </tr>\n",
       "    <tr>\n",
       "      <th>2</th>\n",
       "      <td>0.6</td>\n",
       "      <td>(葡萄酒)</td>\n",
       "      <td>1</td>\n",
       "    </tr>\n",
       "    <tr>\n",
       "      <th>3</th>\n",
       "      <td>0.8</td>\n",
       "      <td>(麵包)</td>\n",
       "      <td>1</td>\n",
       "    </tr>\n",
       "    <tr>\n",
       "      <th>4</th>\n",
       "      <td>0.6</td>\n",
       "      <td>(牛奶, 尿布)</td>\n",
       "      <td>2</td>\n",
       "    </tr>\n",
       "    <tr>\n",
       "      <th>5</th>\n",
       "      <td>0.6</td>\n",
       "      <td>(葡萄酒, 尿布)</td>\n",
       "      <td>2</td>\n",
       "    </tr>\n",
       "    <tr>\n",
       "      <th>6</th>\n",
       "      <td>0.6</td>\n",
       "      <td>(麵包, 尿布)</td>\n",
       "      <td>2</td>\n",
       "    </tr>\n",
       "    <tr>\n",
       "      <th>7</th>\n",
       "      <td>0.6</td>\n",
       "      <td>(牛奶, 麵包)</td>\n",
       "      <td>2</td>\n",
       "    </tr>\n",
       "  </tbody>\n",
       "</table>\n",
       "</div>"
      ]
     },
     "execution_count": 17,
     "metadata": {},
     "output_type": "execute_result"
    }
   ],
   "execution_count": 17
  },
  {
   "metadata": {},
   "cell_type": "markdown",
   "source": [
    "執行關聯規則。\n",
    "\n",
    "$$\n",
    "F(\\text{antecedents}) \\rightarrow \\text{consequents}\n",
    "$$\n",
    "\n",
    "欄位說明詳見 [Craft 筆記](https://docs.craft.do/editor/d/380f3fc7-8f72-4fab-5806-087d291a9850/4AB86DEC-43D3-4A31-9C08-24E4CB0C350C/b/622BF40B-4E94-4784-978B-5A04D62B7264?s=YkG1fgtbGMULTBG7imw1sThKv3ip2aEP7VwFN4yQqTqZ#EA5E20C6-ECBF-4880-B6DF-5E1351EC2CD4)。"
   ]
  },
  {
   "metadata": {
    "ExecuteTime": {
     "end_time": "2024-10-14T07:46:26.120595Z",
     "start_time": "2024-10-14T07:46:26.111139Z"
    }
   },
   "cell_type": "code",
   "source": [
    "rules = association_rules(frequent_itemsets, metric=\"confidence\", min_threshold=0.7)\n",
    "rules"
   ],
   "outputs": [
    {
     "data": {
      "text/plain": [
       "  antecedents consequents  antecedent support  consequent support  support  \\\n",
       "0        (牛奶)        (尿布)                 0.8                 0.8      0.6   \n",
       "1        (尿布)        (牛奶)                 0.8                 0.8      0.6   \n",
       "2       (葡萄酒)        (尿布)                 0.6                 0.8      0.6   \n",
       "3        (尿布)       (葡萄酒)                 0.8                 0.6      0.6   \n",
       "4        (麵包)        (尿布)                 0.8                 0.8      0.6   \n",
       "5        (尿布)        (麵包)                 0.8                 0.8      0.6   \n",
       "6        (牛奶)        (麵包)                 0.8                 0.8      0.6   \n",
       "7        (麵包)        (牛奶)                 0.8                 0.8      0.6   \n",
       "\n",
       "   confidence    lift  leverage  conviction  zhangs_metric  \n",
       "0        0.75  0.9375     -0.04         0.8          -0.25  \n",
       "1        0.75  0.9375     -0.04         0.8          -0.25  \n",
       "2        1.00  1.2500      0.12         inf           0.50  \n",
       "3        0.75  1.2500      0.12         1.6           1.00  \n",
       "4        0.75  0.9375     -0.04         0.8          -0.25  \n",
       "5        0.75  0.9375     -0.04         0.8          -0.25  \n",
       "6        0.75  0.9375     -0.04         0.8          -0.25  \n",
       "7        0.75  0.9375     -0.04         0.8          -0.25  "
      ],
      "text/html": [
       "<div>\n",
       "<style scoped>\n",
       "    .dataframe tbody tr th:only-of-type {\n",
       "        vertical-align: middle;\n",
       "    }\n",
       "\n",
       "    .dataframe tbody tr th {\n",
       "        vertical-align: top;\n",
       "    }\n",
       "\n",
       "    .dataframe thead th {\n",
       "        text-align: right;\n",
       "    }\n",
       "</style>\n",
       "<table border=\"1\" class=\"dataframe\">\n",
       "  <thead>\n",
       "    <tr style=\"text-align: right;\">\n",
       "      <th></th>\n",
       "      <th>antecedents</th>\n",
       "      <th>consequents</th>\n",
       "      <th>antecedent support</th>\n",
       "      <th>consequent support</th>\n",
       "      <th>support</th>\n",
       "      <th>confidence</th>\n",
       "      <th>lift</th>\n",
       "      <th>leverage</th>\n",
       "      <th>conviction</th>\n",
       "      <th>zhangs_metric</th>\n",
       "    </tr>\n",
       "  </thead>\n",
       "  <tbody>\n",
       "    <tr>\n",
       "      <th>0</th>\n",
       "      <td>(牛奶)</td>\n",
       "      <td>(尿布)</td>\n",
       "      <td>0.8</td>\n",
       "      <td>0.8</td>\n",
       "      <td>0.6</td>\n",
       "      <td>0.75</td>\n",
       "      <td>0.9375</td>\n",
       "      <td>-0.04</td>\n",
       "      <td>0.8</td>\n",
       "      <td>-0.25</td>\n",
       "    </tr>\n",
       "    <tr>\n",
       "      <th>1</th>\n",
       "      <td>(尿布)</td>\n",
       "      <td>(牛奶)</td>\n",
       "      <td>0.8</td>\n",
       "      <td>0.8</td>\n",
       "      <td>0.6</td>\n",
       "      <td>0.75</td>\n",
       "      <td>0.9375</td>\n",
       "      <td>-0.04</td>\n",
       "      <td>0.8</td>\n",
       "      <td>-0.25</td>\n",
       "    </tr>\n",
       "    <tr>\n",
       "      <th>2</th>\n",
       "      <td>(葡萄酒)</td>\n",
       "      <td>(尿布)</td>\n",
       "      <td>0.6</td>\n",
       "      <td>0.8</td>\n",
       "      <td>0.6</td>\n",
       "      <td>1.00</td>\n",
       "      <td>1.2500</td>\n",
       "      <td>0.12</td>\n",
       "      <td>inf</td>\n",
       "      <td>0.50</td>\n",
       "    </tr>\n",
       "    <tr>\n",
       "      <th>3</th>\n",
       "      <td>(尿布)</td>\n",
       "      <td>(葡萄酒)</td>\n",
       "      <td>0.8</td>\n",
       "      <td>0.6</td>\n",
       "      <td>0.6</td>\n",
       "      <td>0.75</td>\n",
       "      <td>1.2500</td>\n",
       "      <td>0.12</td>\n",
       "      <td>1.6</td>\n",
       "      <td>1.00</td>\n",
       "    </tr>\n",
       "    <tr>\n",
       "      <th>4</th>\n",
       "      <td>(麵包)</td>\n",
       "      <td>(尿布)</td>\n",
       "      <td>0.8</td>\n",
       "      <td>0.8</td>\n",
       "      <td>0.6</td>\n",
       "      <td>0.75</td>\n",
       "      <td>0.9375</td>\n",
       "      <td>-0.04</td>\n",
       "      <td>0.8</td>\n",
       "      <td>-0.25</td>\n",
       "    </tr>\n",
       "    <tr>\n",
       "      <th>5</th>\n",
       "      <td>(尿布)</td>\n",
       "      <td>(麵包)</td>\n",
       "      <td>0.8</td>\n",
       "      <td>0.8</td>\n",
       "      <td>0.6</td>\n",
       "      <td>0.75</td>\n",
       "      <td>0.9375</td>\n",
       "      <td>-0.04</td>\n",
       "      <td>0.8</td>\n",
       "      <td>-0.25</td>\n",
       "    </tr>\n",
       "    <tr>\n",
       "      <th>6</th>\n",
       "      <td>(牛奶)</td>\n",
       "      <td>(麵包)</td>\n",
       "      <td>0.8</td>\n",
       "      <td>0.8</td>\n",
       "      <td>0.6</td>\n",
       "      <td>0.75</td>\n",
       "      <td>0.9375</td>\n",
       "      <td>-0.04</td>\n",
       "      <td>0.8</td>\n",
       "      <td>-0.25</td>\n",
       "    </tr>\n",
       "    <tr>\n",
       "      <th>7</th>\n",
       "      <td>(麵包)</td>\n",
       "      <td>(牛奶)</td>\n",
       "      <td>0.8</td>\n",
       "      <td>0.8</td>\n",
       "      <td>0.6</td>\n",
       "      <td>0.75</td>\n",
       "      <td>0.9375</td>\n",
       "      <td>-0.04</td>\n",
       "      <td>0.8</td>\n",
       "      <td>-0.25</td>\n",
       "    </tr>\n",
       "  </tbody>\n",
       "</table>\n",
       "</div>"
      ]
     },
     "execution_count": 23,
     "metadata": {},
     "output_type": "execute_result"
    }
   ],
   "execution_count": 23
  },
  {
   "metadata": {},
   "cell_type": "markdown",
   "source": "## Example 4-8：找出增益 (lift) 大於 1 的規則"
  },
  {
   "metadata": {
    "ExecuteTime": {
     "end_time": "2024-10-14T07:46:27.480902Z",
     "start_time": "2024-10-14T07:46:27.475156Z"
    }
   },
   "cell_type": "code",
   "source": "rules[rules[\"lift\"] > 1]",
   "outputs": [
    {
     "data": {
      "text/plain": [
       "  antecedents consequents  antecedent support  consequent support  support  \\\n",
       "2       (葡萄酒)        (尿布)                 0.6                 0.8      0.6   \n",
       "3        (尿布)       (葡萄酒)                 0.8                 0.6      0.6   \n",
       "\n",
       "   confidence  lift  leverage  conviction  zhangs_metric  \n",
       "2        1.00  1.25      0.12         inf            0.5  \n",
       "3        0.75  1.25      0.12         1.6            1.0  "
      ],
      "text/html": [
       "<div>\n",
       "<style scoped>\n",
       "    .dataframe tbody tr th:only-of-type {\n",
       "        vertical-align: middle;\n",
       "    }\n",
       "\n",
       "    .dataframe tbody tr th {\n",
       "        vertical-align: top;\n",
       "    }\n",
       "\n",
       "    .dataframe thead th {\n",
       "        text-align: right;\n",
       "    }\n",
       "</style>\n",
       "<table border=\"1\" class=\"dataframe\">\n",
       "  <thead>\n",
       "    <tr style=\"text-align: right;\">\n",
       "      <th></th>\n",
       "      <th>antecedents</th>\n",
       "      <th>consequents</th>\n",
       "      <th>antecedent support</th>\n",
       "      <th>consequent support</th>\n",
       "      <th>support</th>\n",
       "      <th>confidence</th>\n",
       "      <th>lift</th>\n",
       "      <th>leverage</th>\n",
       "      <th>conviction</th>\n",
       "      <th>zhangs_metric</th>\n",
       "    </tr>\n",
       "  </thead>\n",
       "  <tbody>\n",
       "    <tr>\n",
       "      <th>2</th>\n",
       "      <td>(葡萄酒)</td>\n",
       "      <td>(尿布)</td>\n",
       "      <td>0.6</td>\n",
       "      <td>0.8</td>\n",
       "      <td>0.6</td>\n",
       "      <td>1.00</td>\n",
       "      <td>1.25</td>\n",
       "      <td>0.12</td>\n",
       "      <td>inf</td>\n",
       "      <td>0.5</td>\n",
       "    </tr>\n",
       "    <tr>\n",
       "      <th>3</th>\n",
       "      <td>(尿布)</td>\n",
       "      <td>(葡萄酒)</td>\n",
       "      <td>0.8</td>\n",
       "      <td>0.6</td>\n",
       "      <td>0.6</td>\n",
       "      <td>0.75</td>\n",
       "      <td>1.25</td>\n",
       "      <td>0.12</td>\n",
       "      <td>1.6</td>\n",
       "      <td>1.0</td>\n",
       "    </tr>\n",
       "  </tbody>\n",
       "</table>\n",
       "</div>"
      ]
     },
     "execution_count": 24,
     "metadata": {},
     "output_type": "execute_result"
    }
   ],
   "execution_count": 24
  }
 ],
 "metadata": {
  "kernelspec": {
   "display_name": "Python 3",
   "language": "python",
   "name": "python3"
  },
  "language_info": {
   "codemirror_mode": {
    "name": "ipython",
    "version": 3
   },
   "file_extension": ".py",
   "mimetype": "text/x-python",
   "name": "python",
   "nbconvert_exporter": "python",
   "pygments_lexer": "ipython3",
   "version": "3.12.5"
  }
 },
 "nbformat": 4,
 "nbformat_minor": 2
}
