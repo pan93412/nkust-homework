{
 "cells": [
  {
   "cell_type": "markdown",
   "metadata": {},
   "source": [
    "# Homework 14"
   ]
  },
  {
   "cell_type": "code",
   "execution_count": 1,
   "metadata": {},
   "outputs": [],
   "source": [
    "import polars as pl"
   ]
  },
  {
   "cell_type": "markdown",
   "metadata": {},
   "source": [
    "## 載入資料集"
   ]
  },
  {
   "cell_type": "code",
   "execution_count": 2,
   "metadata": {},
   "outputs": [
    {
     "data": {
      "text/html": [
       "<div><style>\n",
       ".dataframe > thead > tr,\n",
       ".dataframe > tbody > tr {\n",
       "  text-align: right;\n",
       "  white-space: pre-wrap;\n",
       "}\n",
       "</style>\n",
       "<small>shape: (5_000, 10)</small><table border=\"1\" class=\"dataframe\"><thead><tr><th></th><th>TRANSACTION_DT</th><th>CUSTOMER_ID</th><th>AGE_GROUP</th><th>PIN_CODE</th><th>PRODUCT_SUBCLASS</th><th>PRODUCT_ID</th><th>AMOUNT</th><th>ASSET</th><th>SALES_PRICE</th></tr><tr><td>i64</td><td>str</td><td>i64</td><td>str</td><td>str</td><td>i64</td><td>i64</td><td>i64</td><td>i64</td><td>i64</td></tr></thead><tbody><tr><td>0</td><td>&quot;1/7/2001&quot;</td><td>235419</td><td>&quot;30-34&quot;</td><td>&quot;115&quot;</td><td>110105</td><td>4710198221113</td><td>1</td><td>25</td><td>29</td></tr><tr><td>1</td><td>&quot;2/13/2001&quot;</td><td>1550900</td><td>&quot;35-39&quot;</td><td>&quot;115&quot;</td><td>590312</td><td>4710735405006</td><td>1</td><td>103</td><td>119</td></tr><tr><td>2</td><td>&quot;2/26/2001&quot;</td><td>909228</td><td>&quot;&gt;65&quot;</td><td>&quot;115&quot;</td><td>110411</td><td>4710088414120</td><td>2</td><td>48</td><td>66</td></tr><tr><td>3</td><td>&quot;11/18/2000&quot;</td><td>1380231</td><td>&quot;30-34&quot;</td><td>&quot;221&quot;</td><td>130401</td><td>4710057870391</td><td>1</td><td>71</td><td>81</td></tr><tr><td>4</td><td>&quot;12/1/2000&quot;</td><td>1695595</td><td>&quot;45-49&quot;</td><td>&quot;221&quot;</td><td>530110</td><td>4710186161209</td><td>2</td><td>152</td><td>198</td></tr><tr><td>&hellip;</td><td>&hellip;</td><td>&hellip;</td><td>&hellip;</td><td>&hellip;</td><td>&hellip;</td><td>&hellip;</td><td>&hellip;</td><td>&hellip;</td><td>&hellip;</td></tr><tr><td>4995</td><td>&quot;12/26/2000&quot;</td><td>1573879</td><td>&quot;55-59&quot;</td><td>&quot;221&quot;</td><td>500806</td><td>26333005345</td><td>1</td><td>97</td><td>132</td></tr><tr><td>4996</td><td>&quot;2/3/2001&quot;</td><td>2090818</td><td>&quot;35-39&quot;</td><td>&quot;221&quot;</td><td>130205</td><td>4717332008883</td><td>1</td><td>75</td><td>95</td></tr><tr><td>4997</td><td>&quot;11/15/2000&quot;</td><td>198127</td><td>&quot;30-34&quot;</td><td>&quot;115&quot;</td><td>760229</td><td>733879271232</td><td>1</td><td>209</td><td>299</td></tr><tr><td>4998</td><td>&quot;2/16/2001&quot;</td><td>1637649</td><td>&quot;45-49&quot;</td><td>&quot;221&quot;</td><td>760637</td><td>4712552007333</td><td>1</td><td>24</td><td>35</td></tr><tr><td>4999</td><td>&quot;1/17/2001&quot;</td><td>1538311</td><td>&quot;40-44&quot;</td><td>&quot;106&quot;</td><td>590301</td><td>4710020941325</td><td>5</td><td>900</td><td>1115</td></tr></tbody></table></div>"
      ],
      "text/plain": [
       "shape: (5_000, 10)\n",
       "┌──────┬───────────────┬─────────────┬───────────┬───┬──────────────┬────────┬───────┬─────────────┐\n",
       "│      ┆ TRANSACTION_D ┆ CUSTOMER_ID ┆ AGE_GROUP ┆ … ┆ PRODUCT_ID   ┆ AMOUNT ┆ ASSET ┆ SALES_PRICE │\n",
       "│ ---  ┆ T             ┆ ---         ┆ ---       ┆   ┆ ---          ┆ ---    ┆ ---   ┆ ---         │\n",
       "│ i64  ┆ ---           ┆ i64         ┆ str       ┆   ┆ i64          ┆ i64    ┆ i64   ┆ i64         │\n",
       "│      ┆ str           ┆             ┆           ┆   ┆              ┆        ┆       ┆             │\n",
       "╞══════╪═══════════════╪═════════════╪═══════════╪═══╪══════════════╪════════╪═══════╪═════════════╡\n",
       "│ 0    ┆ 1/7/2001      ┆ 235419      ┆ 30-34     ┆ … ┆ 471019822111 ┆ 1      ┆ 25    ┆ 29          │\n",
       "│      ┆               ┆             ┆           ┆   ┆ 3            ┆        ┆       ┆             │\n",
       "│ 1    ┆ 2/13/2001     ┆ 1550900     ┆ 35-39     ┆ … ┆ 471073540500 ┆ 1      ┆ 103   ┆ 119         │\n",
       "│      ┆               ┆             ┆           ┆   ┆ 6            ┆        ┆       ┆             │\n",
       "│ 2    ┆ 2/26/2001     ┆ 909228      ┆ >65       ┆ … ┆ 471008841412 ┆ 2      ┆ 48    ┆ 66          │\n",
       "│      ┆               ┆             ┆           ┆   ┆ 0            ┆        ┆       ┆             │\n",
       "│ 3    ┆ 11/18/2000    ┆ 1380231     ┆ 30-34     ┆ … ┆ 471005787039 ┆ 1      ┆ 71    ┆ 81          │\n",
       "│      ┆               ┆             ┆           ┆   ┆ 1            ┆        ┆       ┆             │\n",
       "│ 4    ┆ 12/1/2000     ┆ 1695595     ┆ 45-49     ┆ … ┆ 471018616120 ┆ 2      ┆ 152   ┆ 198         │\n",
       "│      ┆               ┆             ┆           ┆   ┆ 9            ┆        ┆       ┆             │\n",
       "│ …    ┆ …             ┆ …           ┆ …         ┆ … ┆ …            ┆ …      ┆ …     ┆ …           │\n",
       "│ 4995 ┆ 12/26/2000    ┆ 1573879     ┆ 55-59     ┆ … ┆ 26333005345  ┆ 1      ┆ 97    ┆ 132         │\n",
       "│ 4996 ┆ 2/3/2001      ┆ 2090818     ┆ 35-39     ┆ … ┆ 471733200888 ┆ 1      ┆ 75    ┆ 95          │\n",
       "│      ┆               ┆             ┆           ┆   ┆ 3            ┆        ┆       ┆             │\n",
       "│ 4997 ┆ 11/15/2000    ┆ 198127      ┆ 30-34     ┆ … ┆ 733879271232 ┆ 1      ┆ 209   ┆ 299         │\n",
       "│ 4998 ┆ 2/16/2001     ┆ 1637649     ┆ 45-49     ┆ … ┆ 471255200733 ┆ 1      ┆ 24    ┆ 35          │\n",
       "│      ┆               ┆             ┆           ┆   ┆ 3            ┆        ┆       ┆             │\n",
       "│ 4999 ┆ 1/17/2001     ┆ 1538311     ┆ 40-44     ┆ … ┆ 471002094132 ┆ 5      ┆ 900   ┆ 1115        │\n",
       "│      ┆               ┆             ┆           ┆   ┆ 5            ┆        ┆       ┆             │\n",
       "└──────┴───────────────┴─────────────┴───────────┴───┴──────────────┴────────┴───────┴─────────────┘"
      ]
     },
     "execution_count": 2,
     "metadata": {},
     "output_type": "execute_result"
    }
   ],
   "source": [
    "df = pl.read_csv(\"tafeng5000.csv\")\n",
    "df"
   ]
  },
  {
   "cell_type": "markdown",
   "metadata": {},
   "source": [
    "## 資料清理"
   ]
  },
  {
   "cell_type": "code",
   "execution_count": 3,
   "metadata": {},
   "outputs": [
    {
     "data": {
      "text/html": [
       "<div><style>\n",
       ".dataframe > thead > tr,\n",
       ".dataframe > tbody > tr {\n",
       "  text-align: right;\n",
       "  white-space: pre-wrap;\n",
       "}\n",
       "</style>\n",
       "<small>shape: (5_000, 10)</small><table border=\"1\" class=\"dataframe\"><thead><tr><th></th><th>TRANSACTION_DT</th><th>CUSTOMER_ID</th><th>AGE_GROUP</th><th>PIN_CODE</th><th>PRODUCT_SUBCLASS</th><th>PRODUCT_ID</th><th>AMOUNT</th><th>ASSET</th><th>SALES_PRICE</th></tr><tr><td>i64</td><td>date</td><td>i64</td><td>str</td><td>str</td><td>i64</td><td>i64</td><td>i64</td><td>i64</td><td>i64</td></tr></thead><tbody><tr><td>0</td><td>2001-01-07</td><td>235419</td><td>&quot;30-34&quot;</td><td>&quot;115&quot;</td><td>110105</td><td>4710198221113</td><td>1</td><td>25</td><td>29</td></tr><tr><td>1</td><td>2001-02-13</td><td>1550900</td><td>&quot;35-39&quot;</td><td>&quot;115&quot;</td><td>590312</td><td>4710735405006</td><td>1</td><td>103</td><td>119</td></tr><tr><td>2</td><td>2001-02-26</td><td>909228</td><td>&quot;&gt;65&quot;</td><td>&quot;115&quot;</td><td>110411</td><td>4710088414120</td><td>2</td><td>48</td><td>66</td></tr><tr><td>3</td><td>2000-11-18</td><td>1380231</td><td>&quot;30-34&quot;</td><td>&quot;221&quot;</td><td>130401</td><td>4710057870391</td><td>1</td><td>71</td><td>81</td></tr><tr><td>4</td><td>2000-12-01</td><td>1695595</td><td>&quot;45-49&quot;</td><td>&quot;221&quot;</td><td>530110</td><td>4710186161209</td><td>2</td><td>152</td><td>198</td></tr><tr><td>&hellip;</td><td>&hellip;</td><td>&hellip;</td><td>&hellip;</td><td>&hellip;</td><td>&hellip;</td><td>&hellip;</td><td>&hellip;</td><td>&hellip;</td><td>&hellip;</td></tr><tr><td>4995</td><td>2000-12-26</td><td>1573879</td><td>&quot;55-59&quot;</td><td>&quot;221&quot;</td><td>500806</td><td>26333005345</td><td>1</td><td>97</td><td>132</td></tr><tr><td>4996</td><td>2001-02-03</td><td>2090818</td><td>&quot;35-39&quot;</td><td>&quot;221&quot;</td><td>130205</td><td>4717332008883</td><td>1</td><td>75</td><td>95</td></tr><tr><td>4997</td><td>2000-11-15</td><td>198127</td><td>&quot;30-34&quot;</td><td>&quot;115&quot;</td><td>760229</td><td>733879271232</td><td>1</td><td>209</td><td>299</td></tr><tr><td>4998</td><td>2001-02-16</td><td>1637649</td><td>&quot;45-49&quot;</td><td>&quot;221&quot;</td><td>760637</td><td>4712552007333</td><td>1</td><td>24</td><td>35</td></tr><tr><td>4999</td><td>2001-01-17</td><td>1538311</td><td>&quot;40-44&quot;</td><td>&quot;106&quot;</td><td>590301</td><td>4710020941325</td><td>5</td><td>900</td><td>1115</td></tr></tbody></table></div>"
      ],
      "text/plain": [
       "shape: (5_000, 10)\n",
       "┌──────┬───────────────┬─────────────┬───────────┬───┬──────────────┬────────┬───────┬─────────────┐\n",
       "│      ┆ TRANSACTION_D ┆ CUSTOMER_ID ┆ AGE_GROUP ┆ … ┆ PRODUCT_ID   ┆ AMOUNT ┆ ASSET ┆ SALES_PRICE │\n",
       "│ ---  ┆ T             ┆ ---         ┆ ---       ┆   ┆ ---          ┆ ---    ┆ ---   ┆ ---         │\n",
       "│ i64  ┆ ---           ┆ i64         ┆ str       ┆   ┆ i64          ┆ i64    ┆ i64   ┆ i64         │\n",
       "│      ┆ date          ┆             ┆           ┆   ┆              ┆        ┆       ┆             │\n",
       "╞══════╪═══════════════╪═════════════╪═══════════╪═══╪══════════════╪════════╪═══════╪═════════════╡\n",
       "│ 0    ┆ 2001-01-07    ┆ 235419      ┆ 30-34     ┆ … ┆ 471019822111 ┆ 1      ┆ 25    ┆ 29          │\n",
       "│      ┆               ┆             ┆           ┆   ┆ 3            ┆        ┆       ┆             │\n",
       "│ 1    ┆ 2001-02-13    ┆ 1550900     ┆ 35-39     ┆ … ┆ 471073540500 ┆ 1      ┆ 103   ┆ 119         │\n",
       "│      ┆               ┆             ┆           ┆   ┆ 6            ┆        ┆       ┆             │\n",
       "│ 2    ┆ 2001-02-26    ┆ 909228      ┆ >65       ┆ … ┆ 471008841412 ┆ 2      ┆ 48    ┆ 66          │\n",
       "│      ┆               ┆             ┆           ┆   ┆ 0            ┆        ┆       ┆             │\n",
       "│ 3    ┆ 2000-11-18    ┆ 1380231     ┆ 30-34     ┆ … ┆ 471005787039 ┆ 1      ┆ 71    ┆ 81          │\n",
       "│      ┆               ┆             ┆           ┆   ┆ 1            ┆        ┆       ┆             │\n",
       "│ 4    ┆ 2000-12-01    ┆ 1695595     ┆ 45-49     ┆ … ┆ 471018616120 ┆ 2      ┆ 152   ┆ 198         │\n",
       "│      ┆               ┆             ┆           ┆   ┆ 9            ┆        ┆       ┆             │\n",
       "│ …    ┆ …             ┆ …           ┆ …         ┆ … ┆ …            ┆ …      ┆ …     ┆ …           │\n",
       "│ 4995 ┆ 2000-12-26    ┆ 1573879     ┆ 55-59     ┆ … ┆ 26333005345  ┆ 1      ┆ 97    ┆ 132         │\n",
       "│ 4996 ┆ 2001-02-03    ┆ 2090818     ┆ 35-39     ┆ … ┆ 471733200888 ┆ 1      ┆ 75    ┆ 95          │\n",
       "│      ┆               ┆             ┆           ┆   ┆ 3            ┆        ┆       ┆             │\n",
       "│ 4997 ┆ 2000-11-15    ┆ 198127      ┆ 30-34     ┆ … ┆ 733879271232 ┆ 1      ┆ 209   ┆ 299         │\n",
       "│ 4998 ┆ 2001-02-16    ┆ 1637649     ┆ 45-49     ┆ … ┆ 471255200733 ┆ 1      ┆ 24    ┆ 35          │\n",
       "│      ┆               ┆             ┆           ┆   ┆ 3            ┆        ┆       ┆             │\n",
       "│ 4999 ┆ 2001-01-17    ┆ 1538311     ┆ 40-44     ┆ … ┆ 471002094132 ┆ 5      ┆ 900   ┆ 1115        │\n",
       "│      ┆               ┆             ┆           ┆   ┆ 5            ┆        ┆       ┆             │\n",
       "└──────┴───────────────┴─────────────┴───────────┴───┴──────────────┴────────┴───────┴─────────────┘"
      ]
     },
     "execution_count": 3,
     "metadata": {},
     "output_type": "execute_result"
    }
   ],
   "source": [
    "df = df.with_columns(\n",
    "    pl.col(\"TRANSACTION_DT\").str.to_date(\"%m/%d/%Y\"),\n",
    ")\n",
    "\n",
    "df"
   ]
  },
  {
   "cell_type": "code",
   "execution_count": 4,
   "metadata": {},
   "outputs": [
    {
     "data": {
      "text/html": [
       "<div><style>\n",
       ".dataframe > thead > tr,\n",
       ".dataframe > tbody > tr {\n",
       "  text-align: right;\n",
       "  white-space: pre-wrap;\n",
       "}\n",
       "</style>\n",
       "<small>shape: (9, 11)</small><table border=\"1\" class=\"dataframe\"><thead><tr><th>statistic</th><th></th><th>TRANSACTION_DT</th><th>CUSTOMER_ID</th><th>AGE_GROUP</th><th>PIN_CODE</th><th>PRODUCT_SUBCLASS</th><th>PRODUCT_ID</th><th>AMOUNT</th><th>ASSET</th><th>SALES_PRICE</th></tr><tr><td>str</td><td>f64</td><td>str</td><td>f64</td><td>str</td><td>str</td><td>f64</td><td>f64</td><td>f64</td><td>f64</td><td>f64</td></tr></thead><tbody><tr><td>&quot;count&quot;</td><td>5000.0</td><td>&quot;5000&quot;</td><td>5000.0</td><td>&quot;4851&quot;</td><td>&quot;5000&quot;</td><td>5000.0</td><td>5000.0</td><td>5000.0</td><td>5000.0</td><td>5000.0</td></tr><tr><td>&quot;null_count&quot;</td><td>0.0</td><td>&quot;0&quot;</td><td>0.0</td><td>&quot;149&quot;</td><td>&quot;0&quot;</td><td>0.0</td><td>0.0</td><td>0.0</td><td>0.0</td><td>0.0</td></tr><tr><td>&quot;mean&quot;</td><td>2499.5</td><td>&quot;2000-12-30 12:12:05.760000&quot;</td><td>1.4048e6</td><td>null</td><td>null</td><td>285985.2382</td><td>4.4571e12</td><td>1.3528</td><td>102.4436</td><td>120.803</td></tr><tr><td>&quot;std&quot;</td><td>1443.520003</td><td>null</td><td>806133.233696</td><td>null</td><td>null</td><td>227810.005443</td><td>1.6876e12</td><td>1.043528</td><td>202.563897</td><td>227.340672</td></tr><tr><td>&quot;min&quot;</td><td>0.0</td><td>&quot;2000-11-01&quot;</td><td>4947.0</td><td>&quot;25-29&quot;</td><td>&quot;105&quot;</td><td>100101.0</td><td>2.0009199e7</td><td>1.0</td><td>3.0</td><td>4.0</td></tr><tr><td>&quot;25%&quot;</td><td>1250.0</td><td>&quot;2000-11-27&quot;</td><td>960229.0</td><td>null</td><td>null</td><td>110106.0</td><td>4.7101e12</td><td>1.0</td><td>35.0</td><td>42.0</td></tr><tr><td>&quot;50%&quot;</td><td>2500.0</td><td>&quot;2001-01-01&quot;</td><td>1.590937e6</td><td>null</td><td>null</td><td>130102.0</td><td>4.7104e12</td><td>1.0</td><td>62.0</td><td>75.0</td></tr><tr><td>&quot;75%&quot;</td><td>3749.0</td><td>&quot;2001-01-30&quot;</td><td>1.848335e6</td><td>null</td><td>null</td><td>520437.0</td><td>4.7127e12</td><td>1.0</td><td>110.0</td><td>129.0</td></tr><tr><td>&quot;max&quot;</td><td>4999.0</td><td>&quot;2001-02-28&quot;</td><td>2.0002e7</td><td>&quot;&gt;65&quot;</td><td>&quot;Unknown&quot;</td><td>780510.0</td><td>9.5576e12</td><td>30.0</td><td>9428.0</td><td>9980.0</td></tr></tbody></table></div>"
      ],
      "text/plain": [
       "shape: (9, 11)\n",
       "┌───────────┬───────────┬───────────┬───────────┬───┬───────────┬──────────┬───────────┬───────────┐\n",
       "│ statistic ┆           ┆ TRANSACTI ┆ CUSTOMER_ ┆ … ┆ PRODUCT_I ┆ AMOUNT   ┆ ASSET     ┆ SALES_PRI │\n",
       "│ ---       ┆ ---       ┆ ON_DT     ┆ ID        ┆   ┆ D         ┆ ---      ┆ ---       ┆ CE        │\n",
       "│ str       ┆ f64       ┆ ---       ┆ ---       ┆   ┆ ---       ┆ f64      ┆ f64       ┆ ---       │\n",
       "│           ┆           ┆ str       ┆ f64       ┆   ┆ f64       ┆          ┆           ┆ f64       │\n",
       "╞═══════════╪═══════════╪═══════════╪═══════════╪═══╪═══════════╪══════════╪═══════════╪═══════════╡\n",
       "│ count     ┆ 5000.0    ┆ 5000      ┆ 5000.0    ┆ … ┆ 5000.0    ┆ 5000.0   ┆ 5000.0    ┆ 5000.0    │\n",
       "│ null_coun ┆ 0.0       ┆ 0         ┆ 0.0       ┆ … ┆ 0.0       ┆ 0.0      ┆ 0.0       ┆ 0.0       │\n",
       "│ t         ┆           ┆           ┆           ┆   ┆           ┆          ┆           ┆           │\n",
       "│ mean      ┆ 2499.5    ┆ 2000-12-3 ┆ 1.4048e6  ┆ … ┆ 4.4571e12 ┆ 1.3528   ┆ 102.4436  ┆ 120.803   │\n",
       "│           ┆           ┆ 0 12:12:0 ┆           ┆   ┆           ┆          ┆           ┆           │\n",
       "│           ┆           ┆ 5.760000  ┆           ┆   ┆           ┆          ┆           ┆           │\n",
       "│ std       ┆ 1443.5200 ┆ null      ┆ 806133.23 ┆ … ┆ 1.6876e12 ┆ 1.043528 ┆ 202.56389 ┆ 227.34067 │\n",
       "│           ┆ 03        ┆           ┆ 3696      ┆   ┆           ┆          ┆ 7         ┆ 2         │\n",
       "│ min       ┆ 0.0       ┆ 2000-11-0 ┆ 4947.0    ┆ … ┆ 2.0009199 ┆ 1.0      ┆ 3.0       ┆ 4.0       │\n",
       "│           ┆           ┆ 1         ┆           ┆   ┆ e7        ┆          ┆           ┆           │\n",
       "│ 25%       ┆ 1250.0    ┆ 2000-11-2 ┆ 960229.0  ┆ … ┆ 4.7101e12 ┆ 1.0      ┆ 35.0      ┆ 42.0      │\n",
       "│           ┆           ┆ 7         ┆           ┆   ┆           ┆          ┆           ┆           │\n",
       "│ 50%       ┆ 2500.0    ┆ 2001-01-0 ┆ 1.590937e ┆ … ┆ 4.7104e12 ┆ 1.0      ┆ 62.0      ┆ 75.0      │\n",
       "│           ┆           ┆ 1         ┆ 6         ┆   ┆           ┆          ┆           ┆           │\n",
       "│ 75%       ┆ 3749.0    ┆ 2001-01-3 ┆ 1.848335e ┆ … ┆ 4.7127e12 ┆ 1.0      ┆ 110.0     ┆ 129.0     │\n",
       "│           ┆           ┆ 0         ┆ 6         ┆   ┆           ┆          ┆           ┆           │\n",
       "│ max       ┆ 4999.0    ┆ 2001-02-2 ┆ 2.0002e7  ┆ … ┆ 9.5576e12 ┆ 30.0     ┆ 9428.0    ┆ 9980.0    │\n",
       "│           ┆           ┆ 8         ┆           ┆   ┆           ┆          ┆           ┆           │\n",
       "└───────────┴───────────┴───────────┴───────────┴───┴───────────┴──────────┴───────────┴───────────┘"
      ]
     },
     "execution_count": 4,
     "metadata": {},
     "output_type": "execute_result"
    }
   ],
   "source": [
    "df.describe()"
   ]
  },
  {
   "cell_type": "markdown",
   "metadata": {},
   "source": [
    "發現 `AGE_GROUP` 有空值，但因為這次不需要，所以移除這一行即可。"
   ]
  },
  {
   "cell_type": "code",
   "execution_count": 5,
   "metadata": {},
   "outputs": [
    {
     "data": {
      "text/html": [
       "<div><style>\n",
       ".dataframe > thead > tr,\n",
       ".dataframe > tbody > tr {\n",
       "  text-align: right;\n",
       "  white-space: pre-wrap;\n",
       "}\n",
       "</style>\n",
       "<small>shape: (9, 10)</small><table border=\"1\" class=\"dataframe\"><thead><tr><th>statistic</th><th></th><th>TRANSACTION_DT</th><th>CUSTOMER_ID</th><th>PIN_CODE</th><th>PRODUCT_SUBCLASS</th><th>PRODUCT_ID</th><th>AMOUNT</th><th>ASSET</th><th>SALES_PRICE</th></tr><tr><td>str</td><td>f64</td><td>str</td><td>f64</td><td>str</td><td>f64</td><td>f64</td><td>f64</td><td>f64</td><td>f64</td></tr></thead><tbody><tr><td>&quot;count&quot;</td><td>5000.0</td><td>&quot;5000&quot;</td><td>5000.0</td><td>&quot;5000&quot;</td><td>5000.0</td><td>5000.0</td><td>5000.0</td><td>5000.0</td><td>5000.0</td></tr><tr><td>&quot;null_count&quot;</td><td>0.0</td><td>&quot;0&quot;</td><td>0.0</td><td>&quot;0&quot;</td><td>0.0</td><td>0.0</td><td>0.0</td><td>0.0</td><td>0.0</td></tr><tr><td>&quot;mean&quot;</td><td>2499.5</td><td>&quot;2000-12-30 12:12:05.760000&quot;</td><td>1.4048e6</td><td>null</td><td>285985.2382</td><td>4.4571e12</td><td>1.3528</td><td>102.4436</td><td>120.803</td></tr><tr><td>&quot;std&quot;</td><td>1443.520003</td><td>null</td><td>806133.233696</td><td>null</td><td>227810.005443</td><td>1.6876e12</td><td>1.043528</td><td>202.563897</td><td>227.340672</td></tr><tr><td>&quot;min&quot;</td><td>0.0</td><td>&quot;2000-11-01&quot;</td><td>4947.0</td><td>&quot;105&quot;</td><td>100101.0</td><td>2.0009199e7</td><td>1.0</td><td>3.0</td><td>4.0</td></tr><tr><td>&quot;25%&quot;</td><td>1250.0</td><td>&quot;2000-11-27&quot;</td><td>960229.0</td><td>null</td><td>110106.0</td><td>4.7101e12</td><td>1.0</td><td>35.0</td><td>42.0</td></tr><tr><td>&quot;50%&quot;</td><td>2500.0</td><td>&quot;2001-01-01&quot;</td><td>1.590937e6</td><td>null</td><td>130102.0</td><td>4.7104e12</td><td>1.0</td><td>62.0</td><td>75.0</td></tr><tr><td>&quot;75%&quot;</td><td>3749.0</td><td>&quot;2001-01-30&quot;</td><td>1.848335e6</td><td>null</td><td>520437.0</td><td>4.7127e12</td><td>1.0</td><td>110.0</td><td>129.0</td></tr><tr><td>&quot;max&quot;</td><td>4999.0</td><td>&quot;2001-02-28&quot;</td><td>2.0002e7</td><td>&quot;Unknown&quot;</td><td>780510.0</td><td>9.5576e12</td><td>30.0</td><td>9428.0</td><td>9980.0</td></tr></tbody></table></div>"
      ],
      "text/plain": [
       "shape: (9, 10)\n",
       "┌───────────┬───────────┬───────────┬───────────┬───┬───────────┬──────────┬───────────┬───────────┐\n",
       "│ statistic ┆           ┆ TRANSACTI ┆ CUSTOMER_ ┆ … ┆ PRODUCT_I ┆ AMOUNT   ┆ ASSET     ┆ SALES_PRI │\n",
       "│ ---       ┆ ---       ┆ ON_DT     ┆ ID        ┆   ┆ D         ┆ ---      ┆ ---       ┆ CE        │\n",
       "│ str       ┆ f64       ┆ ---       ┆ ---       ┆   ┆ ---       ┆ f64      ┆ f64       ┆ ---       │\n",
       "│           ┆           ┆ str       ┆ f64       ┆   ┆ f64       ┆          ┆           ┆ f64       │\n",
       "╞═══════════╪═══════════╪═══════════╪═══════════╪═══╪═══════════╪══════════╪═══════════╪═══════════╡\n",
       "│ count     ┆ 5000.0    ┆ 5000      ┆ 5000.0    ┆ … ┆ 5000.0    ┆ 5000.0   ┆ 5000.0    ┆ 5000.0    │\n",
       "│ null_coun ┆ 0.0       ┆ 0         ┆ 0.0       ┆ … ┆ 0.0       ┆ 0.0      ┆ 0.0       ┆ 0.0       │\n",
       "│ t         ┆           ┆           ┆           ┆   ┆           ┆          ┆           ┆           │\n",
       "│ mean      ┆ 2499.5    ┆ 2000-12-3 ┆ 1.4048e6  ┆ … ┆ 4.4571e12 ┆ 1.3528   ┆ 102.4436  ┆ 120.803   │\n",
       "│           ┆           ┆ 0 12:12:0 ┆           ┆   ┆           ┆          ┆           ┆           │\n",
       "│           ┆           ┆ 5.760000  ┆           ┆   ┆           ┆          ┆           ┆           │\n",
       "│ std       ┆ 1443.5200 ┆ null      ┆ 806133.23 ┆ … ┆ 1.6876e12 ┆ 1.043528 ┆ 202.56389 ┆ 227.34067 │\n",
       "│           ┆ 03        ┆           ┆ 3696      ┆   ┆           ┆          ┆ 7         ┆ 2         │\n",
       "│ min       ┆ 0.0       ┆ 2000-11-0 ┆ 4947.0    ┆ … ┆ 2.0009199 ┆ 1.0      ┆ 3.0       ┆ 4.0       │\n",
       "│           ┆           ┆ 1         ┆           ┆   ┆ e7        ┆          ┆           ┆           │\n",
       "│ 25%       ┆ 1250.0    ┆ 2000-11-2 ┆ 960229.0  ┆ … ┆ 4.7101e12 ┆ 1.0      ┆ 35.0      ┆ 42.0      │\n",
       "│           ┆           ┆ 7         ┆           ┆   ┆           ┆          ┆           ┆           │\n",
       "│ 50%       ┆ 2500.0    ┆ 2001-01-0 ┆ 1.590937e ┆ … ┆ 4.7104e12 ┆ 1.0      ┆ 62.0      ┆ 75.0      │\n",
       "│           ┆           ┆ 1         ┆ 6         ┆   ┆           ┆          ┆           ┆           │\n",
       "│ 75%       ┆ 3749.0    ┆ 2001-01-3 ┆ 1.848335e ┆ … ┆ 4.7127e12 ┆ 1.0      ┆ 110.0     ┆ 129.0     │\n",
       "│           ┆           ┆ 0         ┆ 6         ┆   ┆           ┆          ┆           ┆           │\n",
       "│ max       ┆ 4999.0    ┆ 2001-02-2 ┆ 2.0002e7  ┆ … ┆ 9.5576e12 ┆ 30.0     ┆ 9428.0    ┆ 9980.0    │\n",
       "│           ┆           ┆ 8         ┆           ┆   ┆           ┆          ┆           ┆           │\n",
       "└───────────┴───────────┴───────────┴───────────┴───┴───────────┴──────────┴───────────┴───────────┘"
      ]
     },
     "execution_count": 5,
     "metadata": {},
     "output_type": "execute_result"
    }
   ],
   "source": [
    "df = df.drop(\"AGE_GROUP\")\n",
    "df.describe()"
   ]
  },
  {
   "cell_type": "markdown",
   "metadata": {},
   "source": [
    "計算總銷售額。"
   ]
  },
  {
   "cell_type": "code",
   "execution_count": 6,
   "metadata": {},
   "outputs": [
    {
     "data": {
      "text/html": [
       "<div><style>\n",
       ".dataframe > thead > tr,\n",
       ".dataframe > tbody > tr {\n",
       "  text-align: right;\n",
       "  white-space: pre-wrap;\n",
       "}\n",
       "</style>\n",
       "<small>shape: (5_000, 10)</small><table border=\"1\" class=\"dataframe\"><thead><tr><th></th><th>TRANSACTION_DT</th><th>CUSTOMER_ID</th><th>PIN_CODE</th><th>PRODUCT_SUBCLASS</th><th>PRODUCT_ID</th><th>AMOUNT</th><th>ASSET</th><th>SALES_PRICE</th><th>SALES_FIGURE</th></tr><tr><td>i64</td><td>date</td><td>i64</td><td>str</td><td>i64</td><td>i64</td><td>i64</td><td>i64</td><td>i64</td><td>i64</td></tr></thead><tbody><tr><td>0</td><td>2001-01-07</td><td>235419</td><td>&quot;115&quot;</td><td>110105</td><td>4710198221113</td><td>1</td><td>25</td><td>29</td><td>29</td></tr><tr><td>1</td><td>2001-02-13</td><td>1550900</td><td>&quot;115&quot;</td><td>590312</td><td>4710735405006</td><td>1</td><td>103</td><td>119</td><td>119</td></tr><tr><td>2</td><td>2001-02-26</td><td>909228</td><td>&quot;115&quot;</td><td>110411</td><td>4710088414120</td><td>2</td><td>48</td><td>66</td><td>132</td></tr><tr><td>3</td><td>2000-11-18</td><td>1380231</td><td>&quot;221&quot;</td><td>130401</td><td>4710057870391</td><td>1</td><td>71</td><td>81</td><td>81</td></tr><tr><td>4</td><td>2000-12-01</td><td>1695595</td><td>&quot;221&quot;</td><td>530110</td><td>4710186161209</td><td>2</td><td>152</td><td>198</td><td>396</td></tr><tr><td>&hellip;</td><td>&hellip;</td><td>&hellip;</td><td>&hellip;</td><td>&hellip;</td><td>&hellip;</td><td>&hellip;</td><td>&hellip;</td><td>&hellip;</td><td>&hellip;</td></tr><tr><td>4995</td><td>2000-12-26</td><td>1573879</td><td>&quot;221&quot;</td><td>500806</td><td>26333005345</td><td>1</td><td>97</td><td>132</td><td>132</td></tr><tr><td>4996</td><td>2001-02-03</td><td>2090818</td><td>&quot;221&quot;</td><td>130205</td><td>4717332008883</td><td>1</td><td>75</td><td>95</td><td>95</td></tr><tr><td>4997</td><td>2000-11-15</td><td>198127</td><td>&quot;115&quot;</td><td>760229</td><td>733879271232</td><td>1</td><td>209</td><td>299</td><td>299</td></tr><tr><td>4998</td><td>2001-02-16</td><td>1637649</td><td>&quot;221&quot;</td><td>760637</td><td>4712552007333</td><td>1</td><td>24</td><td>35</td><td>35</td></tr><tr><td>4999</td><td>2001-01-17</td><td>1538311</td><td>&quot;106&quot;</td><td>590301</td><td>4710020941325</td><td>5</td><td>900</td><td>1115</td><td>5575</td></tr></tbody></table></div>"
      ],
      "text/plain": [
       "shape: (5_000, 10)\n",
       "┌──────┬────────────────┬─────────────┬──────────┬───┬────────┬───────┬─────────────┬──────────────┐\n",
       "│      ┆ TRANSACTION_DT ┆ CUSTOMER_ID ┆ PIN_CODE ┆ … ┆ AMOUNT ┆ ASSET ┆ SALES_PRICE ┆ SALES_FIGURE │\n",
       "│ ---  ┆ ---            ┆ ---         ┆ ---      ┆   ┆ ---    ┆ ---   ┆ ---         ┆ ---          │\n",
       "│ i64  ┆ date           ┆ i64         ┆ str      ┆   ┆ i64    ┆ i64   ┆ i64         ┆ i64          │\n",
       "╞══════╪════════════════╪═════════════╪══════════╪═══╪════════╪═══════╪═════════════╪══════════════╡\n",
       "│ 0    ┆ 2001-01-07     ┆ 235419      ┆ 115      ┆ … ┆ 1      ┆ 25    ┆ 29          ┆ 29           │\n",
       "│ 1    ┆ 2001-02-13     ┆ 1550900     ┆ 115      ┆ … ┆ 1      ┆ 103   ┆ 119         ┆ 119          │\n",
       "│ 2    ┆ 2001-02-26     ┆ 909228      ┆ 115      ┆ … ┆ 2      ┆ 48    ┆ 66          ┆ 132          │\n",
       "│ 3    ┆ 2000-11-18     ┆ 1380231     ┆ 221      ┆ … ┆ 1      ┆ 71    ┆ 81          ┆ 81           │\n",
       "│ 4    ┆ 2000-12-01     ┆ 1695595     ┆ 221      ┆ … ┆ 2      ┆ 152   ┆ 198         ┆ 396          │\n",
       "│ …    ┆ …              ┆ …           ┆ …        ┆ … ┆ …      ┆ …     ┆ …           ┆ …            │\n",
       "│ 4995 ┆ 2000-12-26     ┆ 1573879     ┆ 221      ┆ … ┆ 1      ┆ 97    ┆ 132         ┆ 132          │\n",
       "│ 4996 ┆ 2001-02-03     ┆ 2090818     ┆ 221      ┆ … ┆ 1      ┆ 75    ┆ 95          ┆ 95           │\n",
       "│ 4997 ┆ 2000-11-15     ┆ 198127      ┆ 115      ┆ … ┆ 1      ┆ 209   ┆ 299         ┆ 299          │\n",
       "│ 4998 ┆ 2001-02-16     ┆ 1637649     ┆ 221      ┆ … ┆ 1      ┆ 24    ┆ 35          ┆ 35           │\n",
       "│ 4999 ┆ 2001-01-17     ┆ 1538311     ┆ 106      ┆ … ┆ 5      ┆ 900   ┆ 1115        ┆ 5575         │\n",
       "└──────┴────────────────┴─────────────┴──────────┴───┴────────┴───────┴─────────────┴──────────────┘"
      ]
     },
     "execution_count": 6,
     "metadata": {},
     "output_type": "execute_result"
    }
   ],
   "source": [
    "df = df.with_columns(\n",
    "    SALES_FIGURE=pl.col(\"AMOUNT\") * pl.col(\"SALES_PRICE\")\n",
    ")\n",
    "\n",
    "df"
   ]
  },
  {
   "cell_type": "markdown",
   "metadata": {},
   "source": [
    "## Question 1\n",
    "\n",
    "請建立一個迴歸模式：\n",
    "\n",
    "- 目標變數 2001-02 每位顧客的銷售總額\n",
    "- 特徵變數 2000-11、2000-12、2001-01 分別這三個月\n",
    "- 使用每位顧客的銷售 sum、count 值來預測（即特徵變數共 6 個值）。"
   ]
  },
  {
   "cell_type": "markdown",
   "metadata": {},
   "source": [
    "### 每位顧客每份訂單的匯總"
   ]
  },
  {
   "cell_type": "markdown",
   "metadata": {},
   "source": [
    "首先計算 `CUSTOMER_ID` 對 `TRANSACTION_DT` 的 Group。"
   ]
  },
  {
   "cell_type": "code",
   "execution_count": 7,
   "metadata": {},
   "outputs": [
    {
     "data": {
      "text/html": [
       "<div><style>\n",
       ".dataframe > thead > tr,\n",
       ".dataframe > tbody > tr {\n",
       "  text-align: right;\n",
       "  white-space: pre-wrap;\n",
       "}\n",
       "</style>\n",
       "<small>shape: (4_825, 4)</small><table border=\"1\" class=\"dataframe\"><thead><tr><th>CUSTOMER_ID</th><th>TRANSACTION_DT</th><th>Sales</th><th>Date</th></tr><tr><td>i64</td><td>date</td><td>i64</td><td>date</td></tr></thead><tbody><tr><td>1753820</td><td>2001-02-11</td><td>95</td><td>2001-02-11</td></tr><tr><td>1363432</td><td>2001-01-10</td><td>360</td><td>2001-01-10</td></tr><tr><td>2134222</td><td>2001-01-20</td><td>70</td><td>2001-01-20</td></tr><tr><td>1961140</td><td>2001-02-28</td><td>69</td><td>2001-02-28</td></tr><tr><td>462891</td><td>2001-02-03</td><td>14</td><td>2001-02-03</td></tr><tr><td>&hellip;</td><td>&hellip;</td><td>&hellip;</td><td>&hellip;</td></tr><tr><td>1181456</td><td>2001-02-18</td><td>38</td><td>2001-02-18</td></tr><tr><td>1735383</td><td>2001-02-03</td><td>2336</td><td>2001-02-03</td></tr><tr><td>1058369</td><td>2001-02-28</td><td>32</td><td>2001-02-28</td></tr><tr><td>2155166</td><td>2000-11-01</td><td>18</td><td>2000-11-01</td></tr><tr><td>504256</td><td>2000-11-03</td><td>58</td><td>2000-11-03</td></tr></tbody></table></div>"
      ],
      "text/plain": [
       "shape: (4_825, 4)\n",
       "┌─────────────┬────────────────┬───────┬────────────┐\n",
       "│ CUSTOMER_ID ┆ TRANSACTION_DT ┆ Sales ┆ Date       │\n",
       "│ ---         ┆ ---            ┆ ---   ┆ ---        │\n",
       "│ i64         ┆ date           ┆ i64   ┆ date       │\n",
       "╞═════════════╪════════════════╪═══════╪════════════╡\n",
       "│ 1753820     ┆ 2001-02-11     ┆ 95    ┆ 2001-02-11 │\n",
       "│ 1363432     ┆ 2001-01-10     ┆ 360   ┆ 2001-01-10 │\n",
       "│ 2134222     ┆ 2001-01-20     ┆ 70    ┆ 2001-01-20 │\n",
       "│ 1961140     ┆ 2001-02-28     ┆ 69    ┆ 2001-02-28 │\n",
       "│ 462891      ┆ 2001-02-03     ┆ 14    ┆ 2001-02-03 │\n",
       "│ …           ┆ …              ┆ …     ┆ …          │\n",
       "│ 1181456     ┆ 2001-02-18     ┆ 38    ┆ 2001-02-18 │\n",
       "│ 1735383     ┆ 2001-02-03     ┆ 2336  ┆ 2001-02-03 │\n",
       "│ 1058369     ┆ 2001-02-28     ┆ 32    ┆ 2001-02-28 │\n",
       "│ 2155166     ┆ 2000-11-01     ┆ 18    ┆ 2000-11-01 │\n",
       "│ 504256      ┆ 2000-11-03     ┆ 58    ┆ 2000-11-03 │\n",
       "└─────────────┴────────────────┴───────┴────────────┘"
      ]
     },
     "execution_count": 7,
     "metadata": {},
     "output_type": "execute_result"
    }
   ],
   "source": [
    "orders_df = df.group_by(\"CUSTOMER_ID\", \"TRANSACTION_DT\").agg(\n",
    "    Sales=pl.col(\"SALES_FIGURE\").sum(),\n",
    "    Date=pl.col(\"TRANSACTION_DT\").max(),\n",
    ")\n",
    "\n",
    "orders_df"
   ]
  },
  {
   "cell_type": "markdown",
   "metadata": {},
   "source": [
    "### 預測 1 個月 CLV\n",
    "\n",
    "以 1 個月為一個單位，計算每位顧客的購買量。"
   ]
  },
  {
   "cell_type": "code",
   "execution_count": 8,
   "metadata": {},
   "outputs": [
    {
     "data": {
      "text/html": [
       "<div><style>\n",
       ".dataframe > thead > tr,\n",
       ".dataframe > tbody > tr {\n",
       "  text-align: right;\n",
       "  white-space: pre-wrap;\n",
       "}\n",
       "</style>\n",
       "<small>shape: (4_651, 4)</small><table border=\"1\" class=\"dataframe\"><thead><tr><th>CUSTOMER_ID</th><th>Date</th><th>sales_sum</th><th>sales_count</th></tr><tr><td>i64</td><td>date</td><td>i64</td><td>u32</td></tr></thead><tbody><tr><td>1908015</td><td>2000-11-01</td><td>156</td><td>1</td></tr><tr><td>1448818</td><td>2000-11-01</td><td>32</td><td>1</td></tr><tr><td>841528</td><td>2000-11-01</td><td>37</td><td>1</td></tr><tr><td>1849332</td><td>2000-11-01</td><td>192</td><td>1</td></tr><tr><td>2153445</td><td>2000-11-01</td><td>105</td><td>1</td></tr><tr><td>&hellip;</td><td>&hellip;</td><td>&hellip;</td><td>&hellip;</td></tr><tr><td>1529432</td><td>2001-02-01</td><td>239</td><td>1</td></tr><tr><td>1510836</td><td>2001-02-01</td><td>63</td><td>1</td></tr><tr><td>2179513</td><td>2001-02-01</td><td>289</td><td>1</td></tr><tr><td>969352</td><td>2001-02-01</td><td>125</td><td>1</td></tr><tr><td>2048581</td><td>2001-02-01</td><td>28</td><td>1</td></tr></tbody></table></div>"
      ],
      "text/plain": [
       "shape: (4_651, 4)\n",
       "┌─────────────┬────────────┬───────────┬─────────────┐\n",
       "│ CUSTOMER_ID ┆ Date       ┆ sales_sum ┆ sales_count │\n",
       "│ ---         ┆ ---        ┆ ---       ┆ ---         │\n",
       "│ i64         ┆ date       ┆ i64       ┆ u32         │\n",
       "╞═════════════╪════════════╪═══════════╪═════════════╡\n",
       "│ 1908015     ┆ 2000-11-01 ┆ 156       ┆ 1           │\n",
       "│ 1448818     ┆ 2000-11-01 ┆ 32        ┆ 1           │\n",
       "│ 841528      ┆ 2000-11-01 ┆ 37        ┆ 1           │\n",
       "│ 1849332     ┆ 2000-11-01 ┆ 192       ┆ 1           │\n",
       "│ 2153445     ┆ 2000-11-01 ┆ 105       ┆ 1           │\n",
       "│ …           ┆ …          ┆ …         ┆ …           │\n",
       "│ 1529432     ┆ 2001-02-01 ┆ 239       ┆ 1           │\n",
       "│ 1510836     ┆ 2001-02-01 ┆ 63        ┆ 1           │\n",
       "│ 2179513     ┆ 2001-02-01 ┆ 289       ┆ 1           │\n",
       "│ 969352      ┆ 2001-02-01 ┆ 125       ┆ 1           │\n",
       "│ 2048581     ┆ 2001-02-01 ┆ 28        ┆ 1           │\n",
       "└─────────────┴────────────┴───────────┴─────────────┘"
      ]
     },
     "execution_count": 8,
     "metadata": {},
     "output_type": "execute_result"
    }
   ],
   "source": [
    "clv_df = orders_df.sort(\"Date\").group_by_dynamic(\n",
    "    \"Date\",\n",
    "    every=\"1mo\",\n",
    "    group_by=[pl.col(\"CUSTOMER_ID\")]\n",
    ").agg(\n",
    "    sales_sum=pl.col(\"Sales\").sum(),\n",
    "    sales_count=pl.col(\"Sales\").count(),\n",
    ").sort(\"Date\")\n",
    "\n",
    "clv_df"
   ]
  },
  {
   "cell_type": "markdown",
   "metadata": {},
   "source": [
    "### 製作各日期標籤"
   ]
  },
  {
   "cell_type": "code",
   "execution_count": 9,
   "metadata": {},
   "outputs": [
    {
     "data": {
      "text/html": [
       "<div><style>\n",
       ".dataframe > thead > tr,\n",
       ".dataframe > tbody > tr {\n",
       "  text-align: right;\n",
       "  white-space: pre-wrap;\n",
       "}\n",
       "</style>\n",
       "<small>shape: (4_651, 5)</small><table border=\"1\" class=\"dataframe\"><thead><tr><th>CUSTOMER_ID</th><th>Date</th><th>sales_sum</th><th>sales_count</th><th>Label</th></tr><tr><td>i64</td><td>date</td><td>i64</td><td>u32</td><td>str</td></tr></thead><tbody><tr><td>1908015</td><td>2000-11-01</td><td>156</td><td>1</td><td>&quot;M_4&quot;</td></tr><tr><td>1448818</td><td>2000-11-01</td><td>32</td><td>1</td><td>&quot;M_4&quot;</td></tr><tr><td>841528</td><td>2000-11-01</td><td>37</td><td>1</td><td>&quot;M_4&quot;</td></tr><tr><td>1849332</td><td>2000-11-01</td><td>192</td><td>1</td><td>&quot;M_4&quot;</td></tr><tr><td>2153445</td><td>2000-11-01</td><td>105</td><td>1</td><td>&quot;M_4&quot;</td></tr><tr><td>&hellip;</td><td>&hellip;</td><td>&hellip;</td><td>&hellip;</td><td>&hellip;</td></tr><tr><td>1529432</td><td>2001-02-01</td><td>239</td><td>1</td><td>&quot;M_1&quot;</td></tr><tr><td>1510836</td><td>2001-02-01</td><td>63</td><td>1</td><td>&quot;M_1&quot;</td></tr><tr><td>2179513</td><td>2001-02-01</td><td>289</td><td>1</td><td>&quot;M_1&quot;</td></tr><tr><td>969352</td><td>2001-02-01</td><td>125</td><td>1</td><td>&quot;M_1&quot;</td></tr><tr><td>2048581</td><td>2001-02-01</td><td>28</td><td>1</td><td>&quot;M_1&quot;</td></tr></tbody></table></div>"
      ],
      "text/plain": [
       "shape: (4_651, 5)\n",
       "┌─────────────┬────────────┬───────────┬─────────────┬───────┐\n",
       "│ CUSTOMER_ID ┆ Date       ┆ sales_sum ┆ sales_count ┆ Label │\n",
       "│ ---         ┆ ---        ┆ ---       ┆ ---         ┆ ---   │\n",
       "│ i64         ┆ date       ┆ i64       ┆ u32         ┆ str   │\n",
       "╞═════════════╪════════════╪═══════════╪═════════════╪═══════╡\n",
       "│ 1908015     ┆ 2000-11-01 ┆ 156       ┆ 1           ┆ M_4   │\n",
       "│ 1448818     ┆ 2000-11-01 ┆ 32        ┆ 1           ┆ M_4   │\n",
       "│ 841528      ┆ 2000-11-01 ┆ 37        ┆ 1           ┆ M_4   │\n",
       "│ 1849332     ┆ 2000-11-01 ┆ 192       ┆ 1           ┆ M_4   │\n",
       "│ 2153445     ┆ 2000-11-01 ┆ 105       ┆ 1           ┆ M_4   │\n",
       "│ …           ┆ …          ┆ …         ┆ …           ┆ …     │\n",
       "│ 1529432     ┆ 2001-02-01 ┆ 239       ┆ 1           ┆ M_1   │\n",
       "│ 1510836     ┆ 2001-02-01 ┆ 63        ┆ 1           ┆ M_1   │\n",
       "│ 2179513     ┆ 2001-02-01 ┆ 289       ┆ 1           ┆ M_1   │\n",
       "│ 969352      ┆ 2001-02-01 ┆ 125       ┆ 1           ┆ M_1   │\n",
       "│ 2048581     ┆ 2001-02-01 ┆ 28        ┆ 1           ┆ M_1   │\n",
       "└─────────────┴────────────┴───────────┴─────────────┴───────┘"
      ]
     },
     "execution_count": 9,
     "metadata": {},
     "output_type": "execute_result"
    }
   ],
   "source": [
    "data_list = clv_df['Date'].unique().sort(descending=True)\n",
    "date_label = {date: f'M_{i+1}' for i, date in enumerate(data_list)}\n",
    "\n",
    "clv_df = clv_df.with_columns(\n",
    "    Label=pl.col(\"Date\").replace_strict(date_label)\n",
    ")\n",
    "\n",
    "clv_df"
   ]
  },
  {
   "cell_type": "markdown",
   "metadata": {},
   "source": [
    "### 建立範例資料集"
   ]
  },
  {
   "cell_type": "code",
   "execution_count": 10,
   "metadata": {},
   "outputs": [
    {
     "data": {
      "text/html": [
       "<div><style>\n",
       ".dataframe > thead > tr,\n",
       ".dataframe > tbody > tr {\n",
       "  text-align: right;\n",
       "  white-space: pre-wrap;\n",
       "}\n",
       "</style>\n",
       "<small>shape: (3_516, 8)</small><table border=\"1\" class=\"dataframe\"><thead><tr><th>CUSTOMER_ID</th><th>Date</th><th>sales_sum_M_4</th><th>sales_sum_M_3</th><th>sales_sum_M_2</th><th>sales_count_M_4</th><th>sales_count_M_3</th><th>sales_count_M_2</th></tr><tr><td>i64</td><td>date</td><td>i64</td><td>i64</td><td>i64</td><td>u32</td><td>u32</td><td>u32</td></tr></thead><tbody><tr><td>1908015</td><td>2000-11-01</td><td>156</td><td>null</td><td>null</td><td>1</td><td>null</td><td>null</td></tr><tr><td>1448818</td><td>2000-11-01</td><td>32</td><td>null</td><td>null</td><td>1</td><td>null</td><td>null</td></tr><tr><td>841528</td><td>2000-11-01</td><td>37</td><td>null</td><td>null</td><td>1</td><td>null</td><td>null</td></tr><tr><td>1849332</td><td>2000-11-01</td><td>192</td><td>null</td><td>null</td><td>1</td><td>null</td><td>null</td></tr><tr><td>2153445</td><td>2000-11-01</td><td>105</td><td>null</td><td>null</td><td>1</td><td>null</td><td>null</td></tr><tr><td>&hellip;</td><td>&hellip;</td><td>&hellip;</td><td>&hellip;</td><td>&hellip;</td><td>&hellip;</td><td>&hellip;</td><td>&hellip;</td></tr><tr><td>2100166</td><td>2001-01-01</td><td>null</td><td>null</td><td>73</td><td>null</td><td>null</td><td>1</td></tr><tr><td>1900835</td><td>2001-01-01</td><td>null</td><td>null</td><td>59</td><td>null</td><td>null</td><td>1</td></tr><tr><td>1715880</td><td>2001-01-01</td><td>null</td><td>null</td><td>119</td><td>null</td><td>null</td><td>1</td></tr><tr><td>1534535</td><td>2001-01-01</td><td>null</td><td>null</td><td>36</td><td>null</td><td>null</td><td>1</td></tr><tr><td>1024395</td><td>2001-01-01</td><td>null</td><td>null</td><td>139</td><td>null</td><td>null</td><td>1</td></tr></tbody></table></div>"
      ],
      "text/plain": [
       "shape: (3_516, 8)\n",
       "┌────────────┬────────────┬────────────┬───────────┬───────────┬───────────┬───────────┬───────────┐\n",
       "│ CUSTOMER_I ┆ Date       ┆ sales_sum_ ┆ sales_sum ┆ sales_sum ┆ sales_cou ┆ sales_cou ┆ sales_cou │\n",
       "│ D          ┆ ---        ┆ M_4        ┆ _M_3      ┆ _M_2      ┆ nt_M_4    ┆ nt_M_3    ┆ nt_M_2    │\n",
       "│ ---        ┆ date       ┆ ---        ┆ ---       ┆ ---       ┆ ---       ┆ ---       ┆ ---       │\n",
       "│ i64        ┆            ┆ i64        ┆ i64       ┆ i64       ┆ u32       ┆ u32       ┆ u32       │\n",
       "╞════════════╪════════════╪════════════╪═══════════╪═══════════╪═══════════╪═══════════╪═══════════╡\n",
       "│ 1908015    ┆ 2000-11-01 ┆ 156        ┆ null      ┆ null      ┆ 1         ┆ null      ┆ null      │\n",
       "│ 1448818    ┆ 2000-11-01 ┆ 32         ┆ null      ┆ null      ┆ 1         ┆ null      ┆ null      │\n",
       "│ 841528     ┆ 2000-11-01 ┆ 37         ┆ null      ┆ null      ┆ 1         ┆ null      ┆ null      │\n",
       "│ 1849332    ┆ 2000-11-01 ┆ 192        ┆ null      ┆ null      ┆ 1         ┆ null      ┆ null      │\n",
       "│ 2153445    ┆ 2000-11-01 ┆ 105        ┆ null      ┆ null      ┆ 1         ┆ null      ┆ null      │\n",
       "│ …          ┆ …          ┆ …          ┆ …         ┆ …         ┆ …         ┆ …         ┆ …         │\n",
       "│ 2100166    ┆ 2001-01-01 ┆ null       ┆ null      ┆ 73        ┆ null      ┆ null      ┆ 1         │\n",
       "│ 1900835    ┆ 2001-01-01 ┆ null       ┆ null      ┆ 59        ┆ null      ┆ null      ┆ 1         │\n",
       "│ 1715880    ┆ 2001-01-01 ┆ null       ┆ null      ┆ 119       ┆ null      ┆ null      ┆ 1         │\n",
       "│ 1534535    ┆ 2001-01-01 ┆ null       ┆ null      ┆ 36        ┆ null      ┆ null      ┆ 1         │\n",
       "│ 1024395    ┆ 2001-01-01 ┆ null       ┆ null      ┆ 139       ┆ null      ┆ null      ┆ 1         │\n",
       "└────────────┴────────────┴────────────┴───────────┴───────────┴───────────┴───────────┴───────────┘"
      ]
     },
     "execution_count": 10,
     "metadata": {},
     "output_type": "execute_result"
    }
   ],
   "source": [
    "features_df = clv_df.filter(pl.col(\"Label\") != \"M_1\").pivot(\n",
    "    on=\"Label\",\n",
    "    values=[\"sales_sum\", \"sales_count\"],\n",
    ")\n",
    "\n",
    "features_df"
   ]
  },
  {
   "cell_type": "markdown",
   "metadata": {},
   "source": [
    "考慮到有可能某些月沒有購買資料，所以這裡補 `0`。"
   ]
  },
  {
   "cell_type": "code",
   "execution_count": 11,
   "metadata": {},
   "outputs": [
    {
     "data": {
      "text/html": [
       "<div><style>\n",
       ".dataframe > thead > tr,\n",
       ".dataframe > tbody > tr {\n",
       "  text-align: right;\n",
       "  white-space: pre-wrap;\n",
       "}\n",
       "</style>\n",
       "<small>shape: (3_516, 8)</small><table border=\"1\" class=\"dataframe\"><thead><tr><th>CUSTOMER_ID</th><th>Date</th><th>sales_sum_M_4</th><th>sales_sum_M_3</th><th>sales_sum_M_2</th><th>sales_count_M_4</th><th>sales_count_M_3</th><th>sales_count_M_2</th></tr><tr><td>i64</td><td>date</td><td>i64</td><td>i64</td><td>i64</td><td>u32</td><td>u32</td><td>u32</td></tr></thead><tbody><tr><td>1908015</td><td>2000-11-01</td><td>156</td><td>0</td><td>0</td><td>1</td><td>0</td><td>0</td></tr><tr><td>1448818</td><td>2000-11-01</td><td>32</td><td>0</td><td>0</td><td>1</td><td>0</td><td>0</td></tr><tr><td>841528</td><td>2000-11-01</td><td>37</td><td>0</td><td>0</td><td>1</td><td>0</td><td>0</td></tr><tr><td>1849332</td><td>2000-11-01</td><td>192</td><td>0</td><td>0</td><td>1</td><td>0</td><td>0</td></tr><tr><td>2153445</td><td>2000-11-01</td><td>105</td><td>0</td><td>0</td><td>1</td><td>0</td><td>0</td></tr><tr><td>&hellip;</td><td>&hellip;</td><td>&hellip;</td><td>&hellip;</td><td>&hellip;</td><td>&hellip;</td><td>&hellip;</td><td>&hellip;</td></tr><tr><td>2100166</td><td>2001-01-01</td><td>0</td><td>0</td><td>73</td><td>0</td><td>0</td><td>1</td></tr><tr><td>1900835</td><td>2001-01-01</td><td>0</td><td>0</td><td>59</td><td>0</td><td>0</td><td>1</td></tr><tr><td>1715880</td><td>2001-01-01</td><td>0</td><td>0</td><td>119</td><td>0</td><td>0</td><td>1</td></tr><tr><td>1534535</td><td>2001-01-01</td><td>0</td><td>0</td><td>36</td><td>0</td><td>0</td><td>1</td></tr><tr><td>1024395</td><td>2001-01-01</td><td>0</td><td>0</td><td>139</td><td>0</td><td>0</td><td>1</td></tr></tbody></table></div>"
      ],
      "text/plain": [
       "shape: (3_516, 8)\n",
       "┌────────────┬────────────┬────────────┬───────────┬───────────┬───────────┬───────────┬───────────┐\n",
       "│ CUSTOMER_I ┆ Date       ┆ sales_sum_ ┆ sales_sum ┆ sales_sum ┆ sales_cou ┆ sales_cou ┆ sales_cou │\n",
       "│ D          ┆ ---        ┆ M_4        ┆ _M_3      ┆ _M_2      ┆ nt_M_4    ┆ nt_M_3    ┆ nt_M_2    │\n",
       "│ ---        ┆ date       ┆ ---        ┆ ---       ┆ ---       ┆ ---       ┆ ---       ┆ ---       │\n",
       "│ i64        ┆            ┆ i64        ┆ i64       ┆ i64       ┆ u32       ┆ u32       ┆ u32       │\n",
       "╞════════════╪════════════╪════════════╪═══════════╪═══════════╪═══════════╪═══════════╪═══════════╡\n",
       "│ 1908015    ┆ 2000-11-01 ┆ 156        ┆ 0         ┆ 0         ┆ 1         ┆ 0         ┆ 0         │\n",
       "│ 1448818    ┆ 2000-11-01 ┆ 32         ┆ 0         ┆ 0         ┆ 1         ┆ 0         ┆ 0         │\n",
       "│ 841528     ┆ 2000-11-01 ┆ 37         ┆ 0         ┆ 0         ┆ 1         ┆ 0         ┆ 0         │\n",
       "│ 1849332    ┆ 2000-11-01 ┆ 192        ┆ 0         ┆ 0         ┆ 1         ┆ 0         ┆ 0         │\n",
       "│ 2153445    ┆ 2000-11-01 ┆ 105        ┆ 0         ┆ 0         ┆ 1         ┆ 0         ┆ 0         │\n",
       "│ …          ┆ …          ┆ …          ┆ …         ┆ …         ┆ …         ┆ …         ┆ …         │\n",
       "│ 2100166    ┆ 2001-01-01 ┆ 0          ┆ 0         ┆ 73        ┆ 0         ┆ 0         ┆ 1         │\n",
       "│ 1900835    ┆ 2001-01-01 ┆ 0          ┆ 0         ┆ 59        ┆ 0         ┆ 0         ┆ 1         │\n",
       "│ 1715880    ┆ 2001-01-01 ┆ 0          ┆ 0         ┆ 119       ┆ 0         ┆ 0         ┆ 1         │\n",
       "│ 1534535    ┆ 2001-01-01 ┆ 0          ┆ 0         ┆ 36        ┆ 0         ┆ 0         ┆ 1         │\n",
       "│ 1024395    ┆ 2001-01-01 ┆ 0          ┆ 0         ┆ 139       ┆ 0         ┆ 0         ┆ 1         │\n",
       "└────────────┴────────────┴────────────┴───────────┴───────────┴───────────┴───────────┴───────────┘"
      ]
     },
     "execution_count": 11,
     "metadata": {},
     "output_type": "execute_result"
    }
   ],
   "source": [
    "features_df = features_df.fill_null(0)\n",
    "\n",
    "features_df"
   ]
  },
  {
   "cell_type": "markdown",
   "metadata": {},
   "source": [
    "挑選目標值。"
   ]
  },
  {
   "cell_type": "code",
   "execution_count": 12,
   "metadata": {},
   "outputs": [
    {
     "data": {
      "text/html": [
       "<div><style>\n",
       ".dataframe > thead > tr,\n",
       ".dataframe > tbody > tr {\n",
       "  text-align: right;\n",
       "  white-space: pre-wrap;\n",
       "}\n",
       "</style>\n",
       "<small>shape: (1_135, 2)</small><table border=\"1\" class=\"dataframe\"><thead><tr><th>CUSTOMER_ID</th><th>clv_1m</th></tr><tr><td>i64</td><td>i64</td></tr></thead><tbody><tr><td>23795</td><td>66</td></tr><tr><td>1657982</td><td>187</td></tr><tr><td>1618525</td><td>100</td></tr><tr><td>2112589</td><td>752</td></tr><tr><td>20459</td><td>47</td></tr><tr><td>&hellip;</td><td>&hellip;</td></tr><tr><td>1529432</td><td>239</td></tr><tr><td>1510836</td><td>63</td></tr><tr><td>2179513</td><td>289</td></tr><tr><td>969352</td><td>125</td></tr><tr><td>2048581</td><td>28</td></tr></tbody></table></div>"
      ],
      "text/plain": [
       "shape: (1_135, 2)\n",
       "┌─────────────┬────────┐\n",
       "│ CUSTOMER_ID ┆ clv_1m │\n",
       "│ ---         ┆ ---    │\n",
       "│ i64         ┆ i64    │\n",
       "╞═════════════╪════════╡\n",
       "│ 23795       ┆ 66     │\n",
       "│ 1657982     ┆ 187    │\n",
       "│ 1618525     ┆ 100    │\n",
       "│ 2112589     ┆ 752    │\n",
       "│ 20459       ┆ 47     │\n",
       "│ …           ┆ …      │\n",
       "│ 1529432     ┆ 239    │\n",
       "│ 1510836     ┆ 63     │\n",
       "│ 2179513     ┆ 289    │\n",
       "│ 969352      ┆ 125    │\n",
       "│ 2048581     ┆ 28     │\n",
       "└─────────────┴────────┘"
      ]
     },
     "execution_count": 12,
     "metadata": {},
     "output_type": "execute_result"
    }
   ],
   "source": [
    "target_df = clv_df.filter(pl.col(\"Label\") == \"M_1\").select([\"CUSTOMER_ID\"], clv_1m=pl.col(\"sales_sum\"))\n",
    "\n",
    "target_df"
   ]
  },
  {
   "cell_type": "markdown",
   "metadata": {},
   "source": [
    "合併特徵與目標值。"
   ]
  },
  {
   "cell_type": "code",
   "execution_count": 13,
   "metadata": {},
   "outputs": [
    {
     "data": {
      "text/html": [
       "<div><style>\n",
       ".dataframe > thead > tr,\n",
       ".dataframe > tbody > tr {\n",
       "  text-align: right;\n",
       "  white-space: pre-wrap;\n",
       "}\n",
       "</style>\n",
       "<small>shape: (3_516, 9)</small><table border=\"1\" class=\"dataframe\"><thead><tr><th>CUSTOMER_ID</th><th>Date</th><th>sales_sum_M_4</th><th>sales_sum_M_3</th><th>sales_sum_M_2</th><th>sales_count_M_4</th><th>sales_count_M_3</th><th>sales_count_M_2</th><th>clv_1m</th></tr><tr><td>i64</td><td>date</td><td>i64</td><td>i64</td><td>i64</td><td>u32</td><td>u32</td><td>u32</td><td>i64</td></tr></thead><tbody><tr><td>1908015</td><td>2000-11-01</td><td>156</td><td>0</td><td>0</td><td>1</td><td>0</td><td>0</td><td>0</td></tr><tr><td>1448818</td><td>2000-11-01</td><td>32</td><td>0</td><td>0</td><td>1</td><td>0</td><td>0</td><td>0</td></tr><tr><td>841528</td><td>2000-11-01</td><td>37</td><td>0</td><td>0</td><td>1</td><td>0</td><td>0</td><td>0</td></tr><tr><td>1849332</td><td>2000-11-01</td><td>192</td><td>0</td><td>0</td><td>1</td><td>0</td><td>0</td><td>0</td></tr><tr><td>2153445</td><td>2000-11-01</td><td>105</td><td>0</td><td>0</td><td>1</td><td>0</td><td>0</td><td>0</td></tr><tr><td>&hellip;</td><td>&hellip;</td><td>&hellip;</td><td>&hellip;</td><td>&hellip;</td><td>&hellip;</td><td>&hellip;</td><td>&hellip;</td><td>&hellip;</td></tr><tr><td>2100166</td><td>2001-01-01</td><td>0</td><td>0</td><td>73</td><td>0</td><td>0</td><td>1</td><td>0</td></tr><tr><td>1900835</td><td>2001-01-01</td><td>0</td><td>0</td><td>59</td><td>0</td><td>0</td><td>1</td><td>0</td></tr><tr><td>1715880</td><td>2001-01-01</td><td>0</td><td>0</td><td>119</td><td>0</td><td>0</td><td>1</td><td>0</td></tr><tr><td>1534535</td><td>2001-01-01</td><td>0</td><td>0</td><td>36</td><td>0</td><td>0</td><td>1</td><td>0</td></tr><tr><td>1024395</td><td>2001-01-01</td><td>0</td><td>0</td><td>139</td><td>0</td><td>0</td><td>1</td><td>0</td></tr></tbody></table></div>"
      ],
      "text/plain": [
       "shape: (3_516, 9)\n",
       "┌────────────┬────────────┬───────────┬───────────┬───┬───────────┬───────────┬───────────┬────────┐\n",
       "│ CUSTOMER_I ┆ Date       ┆ sales_sum ┆ sales_sum ┆ … ┆ sales_cou ┆ sales_cou ┆ sales_cou ┆ clv_1m │\n",
       "│ D          ┆ ---        ┆ _M_4      ┆ _M_3      ┆   ┆ nt_M_4    ┆ nt_M_3    ┆ nt_M_2    ┆ ---    │\n",
       "│ ---        ┆ date       ┆ ---       ┆ ---       ┆   ┆ ---       ┆ ---       ┆ ---       ┆ i64    │\n",
       "│ i64        ┆            ┆ i64       ┆ i64       ┆   ┆ u32       ┆ u32       ┆ u32       ┆        │\n",
       "╞════════════╪════════════╪═══════════╪═══════════╪═══╪═══════════╪═══════════╪═══════════╪════════╡\n",
       "│ 1908015    ┆ 2000-11-01 ┆ 156       ┆ 0         ┆ … ┆ 1         ┆ 0         ┆ 0         ┆ 0      │\n",
       "│ 1448818    ┆ 2000-11-01 ┆ 32        ┆ 0         ┆ … ┆ 1         ┆ 0         ┆ 0         ┆ 0      │\n",
       "│ 841528     ┆ 2000-11-01 ┆ 37        ┆ 0         ┆ … ┆ 1         ┆ 0         ┆ 0         ┆ 0      │\n",
       "│ 1849332    ┆ 2000-11-01 ┆ 192       ┆ 0         ┆ … ┆ 1         ┆ 0         ┆ 0         ┆ 0      │\n",
       "│ 2153445    ┆ 2000-11-01 ┆ 105       ┆ 0         ┆ … ┆ 1         ┆ 0         ┆ 0         ┆ 0      │\n",
       "│ …          ┆ …          ┆ …         ┆ …         ┆ … ┆ …         ┆ …         ┆ …         ┆ …      │\n",
       "│ 2100166    ┆ 2001-01-01 ┆ 0         ┆ 0         ┆ … ┆ 0         ┆ 0         ┆ 1         ┆ 0      │\n",
       "│ 1900835    ┆ 2001-01-01 ┆ 0         ┆ 0         ┆ … ┆ 0         ┆ 0         ┆ 1         ┆ 0      │\n",
       "│ 1715880    ┆ 2001-01-01 ┆ 0         ┆ 0         ┆ … ┆ 0         ┆ 0         ┆ 1         ┆ 0      │\n",
       "│ 1534535    ┆ 2001-01-01 ┆ 0         ┆ 0         ┆ … ┆ 0         ┆ 0         ┆ 1         ┆ 0      │\n",
       "│ 1024395    ┆ 2001-01-01 ┆ 0         ┆ 0         ┆ … ┆ 0         ┆ 0         ┆ 1         ┆ 0      │\n",
       "└────────────┴────────────┴───────────┴───────────┴───┴───────────┴───────────┴───────────┴────────┘"
      ]
     },
     "execution_count": 13,
     "metadata": {},
     "output_type": "execute_result"
    }
   ],
   "source": [
    "sample_set_df = features_df.join(\n",
    "    target_df,\n",
    "    on=\"CUSTOMER_ID\",\n",
    "    how=\"left\"\n",
    ").fill_null(0)\n",
    "\n",
    "sample_set_df"
   ]
  },
  {
   "cell_type": "markdown",
   "metadata": {},
   "source": [
    "### 建立回歸模型"
   ]
  },
  {
   "cell_type": "markdown",
   "metadata": {},
   "source": [
    "切割資料、訓練資料集 (8:2)"
   ]
  },
  {
   "cell_type": "code",
   "execution_count": 14,
   "metadata": {},
   "outputs": [],
   "source": [
    "train_df = sample_set_df.sample(fraction=0.7, shuffle=True, seed=1)\n",
    "test_df = sample_set_df.filter(~pl.col(\"CUSTOMER_ID\").is_in(train_df[\"CUSTOMER_ID\"]))\n",
    "\n",
    "X_train, y_train = train_df.drop(\"CUSTOMER_ID\", \"Date\", \"clv_1m\"), train_df[\"clv_1m\"]\n",
    "X_test, y_test = test_df.drop(\"CUSTOMER_ID\", \"Date\", \"clv_1m\"), test_df[\"clv_1m\"]"
   ]
  },
  {
   "cell_type": "markdown",
   "metadata": {},
   "source": [
    "對資料進行標準化。"
   ]
  },
  {
   "cell_type": "code",
   "execution_count": 15,
   "metadata": {},
   "outputs": [],
   "source": [
    "from sklearn.preprocessing import StandardScaler\n",
    "\n",
    "scaler = StandardScaler()\n",
    "\n",
    "X_train_std = scaler.fit_transform(X_train.to_numpy())\n",
    "X_test_std = scaler.transform(X_test.to_numpy())"
   ]
  },
  {
   "cell_type": "code",
   "execution_count": 16,
   "metadata": {},
   "outputs": [
    {
     "data": {
      "text/html": [
       "<style>#sk-container-id-1 {\n",
       "  /* Definition of color scheme common for light and dark mode */\n",
       "  --sklearn-color-text: black;\n",
       "  --sklearn-color-line: gray;\n",
       "  /* Definition of color scheme for unfitted estimators */\n",
       "  --sklearn-color-unfitted-level-0: #fff5e6;\n",
       "  --sklearn-color-unfitted-level-1: #f6e4d2;\n",
       "  --sklearn-color-unfitted-level-2: #ffe0b3;\n",
       "  --sklearn-color-unfitted-level-3: chocolate;\n",
       "  /* Definition of color scheme for fitted estimators */\n",
       "  --sklearn-color-fitted-level-0: #f0f8ff;\n",
       "  --sklearn-color-fitted-level-1: #d4ebff;\n",
       "  --sklearn-color-fitted-level-2: #b3dbfd;\n",
       "  --sklearn-color-fitted-level-3: cornflowerblue;\n",
       "\n",
       "  /* Specific color for light theme */\n",
       "  --sklearn-color-text-on-default-background: var(--sg-text-color, var(--theme-code-foreground, var(--jp-content-font-color1, black)));\n",
       "  --sklearn-color-background: var(--sg-background-color, var(--theme-background, var(--jp-layout-color0, white)));\n",
       "  --sklearn-color-border-box: var(--sg-text-color, var(--theme-code-foreground, var(--jp-content-font-color1, black)));\n",
       "  --sklearn-color-icon: #696969;\n",
       "\n",
       "  @media (prefers-color-scheme: dark) {\n",
       "    /* Redefinition of color scheme for dark theme */\n",
       "    --sklearn-color-text-on-default-background: var(--sg-text-color, var(--theme-code-foreground, var(--jp-content-font-color1, white)));\n",
       "    --sklearn-color-background: var(--sg-background-color, var(--theme-background, var(--jp-layout-color0, #111)));\n",
       "    --sklearn-color-border-box: var(--sg-text-color, var(--theme-code-foreground, var(--jp-content-font-color1, white)));\n",
       "    --sklearn-color-icon: #878787;\n",
       "  }\n",
       "}\n",
       "\n",
       "#sk-container-id-1 {\n",
       "  color: var(--sklearn-color-text);\n",
       "}\n",
       "\n",
       "#sk-container-id-1 pre {\n",
       "  padding: 0;\n",
       "}\n",
       "\n",
       "#sk-container-id-1 input.sk-hidden--visually {\n",
       "  border: 0;\n",
       "  clip: rect(1px 1px 1px 1px);\n",
       "  clip: rect(1px, 1px, 1px, 1px);\n",
       "  height: 1px;\n",
       "  margin: -1px;\n",
       "  overflow: hidden;\n",
       "  padding: 0;\n",
       "  position: absolute;\n",
       "  width: 1px;\n",
       "}\n",
       "\n",
       "#sk-container-id-1 div.sk-dashed-wrapped {\n",
       "  border: 1px dashed var(--sklearn-color-line);\n",
       "  margin: 0 0.4em 0.5em 0.4em;\n",
       "  box-sizing: border-box;\n",
       "  padding-bottom: 0.4em;\n",
       "  background-color: var(--sklearn-color-background);\n",
       "}\n",
       "\n",
       "#sk-container-id-1 div.sk-container {\n",
       "  /* jupyter's `normalize.less` sets `[hidden] { display: none; }`\n",
       "     but bootstrap.min.css set `[hidden] { display: none !important; }`\n",
       "     so we also need the `!important` here to be able to override the\n",
       "     default hidden behavior on the sphinx rendered scikit-learn.org.\n",
       "     See: https://github.com/scikit-learn/scikit-learn/issues/21755 */\n",
       "  display: inline-block !important;\n",
       "  position: relative;\n",
       "}\n",
       "\n",
       "#sk-container-id-1 div.sk-text-repr-fallback {\n",
       "  display: none;\n",
       "}\n",
       "\n",
       "div.sk-parallel-item,\n",
       "div.sk-serial,\n",
       "div.sk-item {\n",
       "  /* draw centered vertical line to link estimators */\n",
       "  background-image: linear-gradient(var(--sklearn-color-text-on-default-background), var(--sklearn-color-text-on-default-background));\n",
       "  background-size: 2px 100%;\n",
       "  background-repeat: no-repeat;\n",
       "  background-position: center center;\n",
       "}\n",
       "\n",
       "/* Parallel-specific style estimator block */\n",
       "\n",
       "#sk-container-id-1 div.sk-parallel-item::after {\n",
       "  content: \"\";\n",
       "  width: 100%;\n",
       "  border-bottom: 2px solid var(--sklearn-color-text-on-default-background);\n",
       "  flex-grow: 1;\n",
       "}\n",
       "\n",
       "#sk-container-id-1 div.sk-parallel {\n",
       "  display: flex;\n",
       "  align-items: stretch;\n",
       "  justify-content: center;\n",
       "  background-color: var(--sklearn-color-background);\n",
       "  position: relative;\n",
       "}\n",
       "\n",
       "#sk-container-id-1 div.sk-parallel-item {\n",
       "  display: flex;\n",
       "  flex-direction: column;\n",
       "}\n",
       "\n",
       "#sk-container-id-1 div.sk-parallel-item:first-child::after {\n",
       "  align-self: flex-end;\n",
       "  width: 50%;\n",
       "}\n",
       "\n",
       "#sk-container-id-1 div.sk-parallel-item:last-child::after {\n",
       "  align-self: flex-start;\n",
       "  width: 50%;\n",
       "}\n",
       "\n",
       "#sk-container-id-1 div.sk-parallel-item:only-child::after {\n",
       "  width: 0;\n",
       "}\n",
       "\n",
       "/* Serial-specific style estimator block */\n",
       "\n",
       "#sk-container-id-1 div.sk-serial {\n",
       "  display: flex;\n",
       "  flex-direction: column;\n",
       "  align-items: center;\n",
       "  background-color: var(--sklearn-color-background);\n",
       "  padding-right: 1em;\n",
       "  padding-left: 1em;\n",
       "}\n",
       "\n",
       "\n",
       "/* Toggleable style: style used for estimator/Pipeline/ColumnTransformer box that is\n",
       "clickable and can be expanded/collapsed.\n",
       "- Pipeline and ColumnTransformer use this feature and define the default style\n",
       "- Estimators will overwrite some part of the style using the `sk-estimator` class\n",
       "*/\n",
       "\n",
       "/* Pipeline and ColumnTransformer style (default) */\n",
       "\n",
       "#sk-container-id-1 div.sk-toggleable {\n",
       "  /* Default theme specific background. It is overwritten whether we have a\n",
       "  specific estimator or a Pipeline/ColumnTransformer */\n",
       "  background-color: var(--sklearn-color-background);\n",
       "}\n",
       "\n",
       "/* Toggleable label */\n",
       "#sk-container-id-1 label.sk-toggleable__label {\n",
       "  cursor: pointer;\n",
       "  display: block;\n",
       "  width: 100%;\n",
       "  margin-bottom: 0;\n",
       "  padding: 0.5em;\n",
       "  box-sizing: border-box;\n",
       "  text-align: center;\n",
       "}\n",
       "\n",
       "#sk-container-id-1 label.sk-toggleable__label-arrow:before {\n",
       "  /* Arrow on the left of the label */\n",
       "  content: \"▸\";\n",
       "  float: left;\n",
       "  margin-right: 0.25em;\n",
       "  color: var(--sklearn-color-icon);\n",
       "}\n",
       "\n",
       "#sk-container-id-1 label.sk-toggleable__label-arrow:hover:before {\n",
       "  color: var(--sklearn-color-text);\n",
       "}\n",
       "\n",
       "/* Toggleable content - dropdown */\n",
       "\n",
       "#sk-container-id-1 div.sk-toggleable__content {\n",
       "  max-height: 0;\n",
       "  max-width: 0;\n",
       "  overflow: hidden;\n",
       "  text-align: left;\n",
       "  /* unfitted */\n",
       "  background-color: var(--sklearn-color-unfitted-level-0);\n",
       "}\n",
       "\n",
       "#sk-container-id-1 div.sk-toggleable__content.fitted {\n",
       "  /* fitted */\n",
       "  background-color: var(--sklearn-color-fitted-level-0);\n",
       "}\n",
       "\n",
       "#sk-container-id-1 div.sk-toggleable__content pre {\n",
       "  margin: 0.2em;\n",
       "  border-radius: 0.25em;\n",
       "  color: var(--sklearn-color-text);\n",
       "  /* unfitted */\n",
       "  background-color: var(--sklearn-color-unfitted-level-0);\n",
       "}\n",
       "\n",
       "#sk-container-id-1 div.sk-toggleable__content.fitted pre {\n",
       "  /* unfitted */\n",
       "  background-color: var(--sklearn-color-fitted-level-0);\n",
       "}\n",
       "\n",
       "#sk-container-id-1 input.sk-toggleable__control:checked~div.sk-toggleable__content {\n",
       "  /* Expand drop-down */\n",
       "  max-height: 200px;\n",
       "  max-width: 100%;\n",
       "  overflow: auto;\n",
       "}\n",
       "\n",
       "#sk-container-id-1 input.sk-toggleable__control:checked~label.sk-toggleable__label-arrow:before {\n",
       "  content: \"▾\";\n",
       "}\n",
       "\n",
       "/* Pipeline/ColumnTransformer-specific style */\n",
       "\n",
       "#sk-container-id-1 div.sk-label input.sk-toggleable__control:checked~label.sk-toggleable__label {\n",
       "  color: var(--sklearn-color-text);\n",
       "  background-color: var(--sklearn-color-unfitted-level-2);\n",
       "}\n",
       "\n",
       "#sk-container-id-1 div.sk-label.fitted input.sk-toggleable__control:checked~label.sk-toggleable__label {\n",
       "  background-color: var(--sklearn-color-fitted-level-2);\n",
       "}\n",
       "\n",
       "/* Estimator-specific style */\n",
       "\n",
       "/* Colorize estimator box */\n",
       "#sk-container-id-1 div.sk-estimator input.sk-toggleable__control:checked~label.sk-toggleable__label {\n",
       "  /* unfitted */\n",
       "  background-color: var(--sklearn-color-unfitted-level-2);\n",
       "}\n",
       "\n",
       "#sk-container-id-1 div.sk-estimator.fitted input.sk-toggleable__control:checked~label.sk-toggleable__label {\n",
       "  /* fitted */\n",
       "  background-color: var(--sklearn-color-fitted-level-2);\n",
       "}\n",
       "\n",
       "#sk-container-id-1 div.sk-label label.sk-toggleable__label,\n",
       "#sk-container-id-1 div.sk-label label {\n",
       "  /* The background is the default theme color */\n",
       "  color: var(--sklearn-color-text-on-default-background);\n",
       "}\n",
       "\n",
       "/* On hover, darken the color of the background */\n",
       "#sk-container-id-1 div.sk-label:hover label.sk-toggleable__label {\n",
       "  color: var(--sklearn-color-text);\n",
       "  background-color: var(--sklearn-color-unfitted-level-2);\n",
       "}\n",
       "\n",
       "/* Label box, darken color on hover, fitted */\n",
       "#sk-container-id-1 div.sk-label.fitted:hover label.sk-toggleable__label.fitted {\n",
       "  color: var(--sklearn-color-text);\n",
       "  background-color: var(--sklearn-color-fitted-level-2);\n",
       "}\n",
       "\n",
       "/* Estimator label */\n",
       "\n",
       "#sk-container-id-1 div.sk-label label {\n",
       "  font-family: monospace;\n",
       "  font-weight: bold;\n",
       "  display: inline-block;\n",
       "  line-height: 1.2em;\n",
       "}\n",
       "\n",
       "#sk-container-id-1 div.sk-label-container {\n",
       "  text-align: center;\n",
       "}\n",
       "\n",
       "/* Estimator-specific */\n",
       "#sk-container-id-1 div.sk-estimator {\n",
       "  font-family: monospace;\n",
       "  border: 1px dotted var(--sklearn-color-border-box);\n",
       "  border-radius: 0.25em;\n",
       "  box-sizing: border-box;\n",
       "  margin-bottom: 0.5em;\n",
       "  /* unfitted */\n",
       "  background-color: var(--sklearn-color-unfitted-level-0);\n",
       "}\n",
       "\n",
       "#sk-container-id-1 div.sk-estimator.fitted {\n",
       "  /* fitted */\n",
       "  background-color: var(--sklearn-color-fitted-level-0);\n",
       "}\n",
       "\n",
       "/* on hover */\n",
       "#sk-container-id-1 div.sk-estimator:hover {\n",
       "  /* unfitted */\n",
       "  background-color: var(--sklearn-color-unfitted-level-2);\n",
       "}\n",
       "\n",
       "#sk-container-id-1 div.sk-estimator.fitted:hover {\n",
       "  /* fitted */\n",
       "  background-color: var(--sklearn-color-fitted-level-2);\n",
       "}\n",
       "\n",
       "/* Specification for estimator info (e.g. \"i\" and \"?\") */\n",
       "\n",
       "/* Common style for \"i\" and \"?\" */\n",
       "\n",
       ".sk-estimator-doc-link,\n",
       "a:link.sk-estimator-doc-link,\n",
       "a:visited.sk-estimator-doc-link {\n",
       "  float: right;\n",
       "  font-size: smaller;\n",
       "  line-height: 1em;\n",
       "  font-family: monospace;\n",
       "  background-color: var(--sklearn-color-background);\n",
       "  border-radius: 1em;\n",
       "  height: 1em;\n",
       "  width: 1em;\n",
       "  text-decoration: none !important;\n",
       "  margin-left: 1ex;\n",
       "  /* unfitted */\n",
       "  border: var(--sklearn-color-unfitted-level-1) 1pt solid;\n",
       "  color: var(--sklearn-color-unfitted-level-1);\n",
       "}\n",
       "\n",
       ".sk-estimator-doc-link.fitted,\n",
       "a:link.sk-estimator-doc-link.fitted,\n",
       "a:visited.sk-estimator-doc-link.fitted {\n",
       "  /* fitted */\n",
       "  border: var(--sklearn-color-fitted-level-1) 1pt solid;\n",
       "  color: var(--sklearn-color-fitted-level-1);\n",
       "}\n",
       "\n",
       "/* On hover */\n",
       "div.sk-estimator:hover .sk-estimator-doc-link:hover,\n",
       ".sk-estimator-doc-link:hover,\n",
       "div.sk-label-container:hover .sk-estimator-doc-link:hover,\n",
       ".sk-estimator-doc-link:hover {\n",
       "  /* unfitted */\n",
       "  background-color: var(--sklearn-color-unfitted-level-3);\n",
       "  color: var(--sklearn-color-background);\n",
       "  text-decoration: none;\n",
       "}\n",
       "\n",
       "div.sk-estimator.fitted:hover .sk-estimator-doc-link.fitted:hover,\n",
       ".sk-estimator-doc-link.fitted:hover,\n",
       "div.sk-label-container:hover .sk-estimator-doc-link.fitted:hover,\n",
       ".sk-estimator-doc-link.fitted:hover {\n",
       "  /* fitted */\n",
       "  background-color: var(--sklearn-color-fitted-level-3);\n",
       "  color: var(--sklearn-color-background);\n",
       "  text-decoration: none;\n",
       "}\n",
       "\n",
       "/* Span, style for the box shown on hovering the info icon */\n",
       ".sk-estimator-doc-link span {\n",
       "  display: none;\n",
       "  z-index: 9999;\n",
       "  position: relative;\n",
       "  font-weight: normal;\n",
       "  right: .2ex;\n",
       "  padding: .5ex;\n",
       "  margin: .5ex;\n",
       "  width: min-content;\n",
       "  min-width: 20ex;\n",
       "  max-width: 50ex;\n",
       "  color: var(--sklearn-color-text);\n",
       "  box-shadow: 2pt 2pt 4pt #999;\n",
       "  /* unfitted */\n",
       "  background: var(--sklearn-color-unfitted-level-0);\n",
       "  border: .5pt solid var(--sklearn-color-unfitted-level-3);\n",
       "}\n",
       "\n",
       ".sk-estimator-doc-link.fitted span {\n",
       "  /* fitted */\n",
       "  background: var(--sklearn-color-fitted-level-0);\n",
       "  border: var(--sklearn-color-fitted-level-3);\n",
       "}\n",
       "\n",
       ".sk-estimator-doc-link:hover span {\n",
       "  display: block;\n",
       "}\n",
       "\n",
       "/* \"?\"-specific style due to the `<a>` HTML tag */\n",
       "\n",
       "#sk-container-id-1 a.estimator_doc_link {\n",
       "  float: right;\n",
       "  font-size: 1rem;\n",
       "  line-height: 1em;\n",
       "  font-family: monospace;\n",
       "  background-color: var(--sklearn-color-background);\n",
       "  border-radius: 1rem;\n",
       "  height: 1rem;\n",
       "  width: 1rem;\n",
       "  text-decoration: none;\n",
       "  /* unfitted */\n",
       "  color: var(--sklearn-color-unfitted-level-1);\n",
       "  border: var(--sklearn-color-unfitted-level-1) 1pt solid;\n",
       "}\n",
       "\n",
       "#sk-container-id-1 a.estimator_doc_link.fitted {\n",
       "  /* fitted */\n",
       "  border: var(--sklearn-color-fitted-level-1) 1pt solid;\n",
       "  color: var(--sklearn-color-fitted-level-1);\n",
       "}\n",
       "\n",
       "/* On hover */\n",
       "#sk-container-id-1 a.estimator_doc_link:hover {\n",
       "  /* unfitted */\n",
       "  background-color: var(--sklearn-color-unfitted-level-3);\n",
       "  color: var(--sklearn-color-background);\n",
       "  text-decoration: none;\n",
       "}\n",
       "\n",
       "#sk-container-id-1 a.estimator_doc_link.fitted:hover {\n",
       "  /* fitted */\n",
       "  background-color: var(--sklearn-color-fitted-level-3);\n",
       "}\n",
       "</style><div id=\"sk-container-id-1\" class=\"sk-top-container\"><div class=\"sk-text-repr-fallback\"><pre>LinearRegression()</pre><b>In a Jupyter environment, please rerun this cell to show the HTML representation or trust the notebook. <br />On GitHub, the HTML representation is unable to render, please try loading this page with nbviewer.org.</b></div><div class=\"sk-container\" hidden><div class=\"sk-item\"><div class=\"sk-estimator fitted sk-toggleable\"><input class=\"sk-toggleable__control sk-hidden--visually\" id=\"sk-estimator-id-1\" type=\"checkbox\" checked><label for=\"sk-estimator-id-1\" class=\"sk-toggleable__label fitted sk-toggleable__label-arrow fitted\">&nbsp;&nbsp;LinearRegression<a class=\"sk-estimator-doc-link fitted\" rel=\"noreferrer\" target=\"_blank\" href=\"https://scikit-learn.org/1.5/modules/generated/sklearn.linear_model.LinearRegression.html\">?<span>Documentation for LinearRegression</span></a><span class=\"sk-estimator-doc-link fitted\">i<span>Fitted</span></span></label><div class=\"sk-toggleable__content fitted\"><pre>LinearRegression()</pre></div> </div></div></div></div>"
      ],
      "text/plain": [
       "LinearRegression()"
      ]
     },
     "execution_count": 16,
     "metadata": {},
     "output_type": "execute_result"
    }
   ],
   "source": [
    "from sklearn.linear_model import LinearRegression\n",
    "\n",
    "reg_fit = LinearRegression()\n",
    "\n",
    "reg_fit.fit(X_train_std, y_train.to_numpy())"
   ]
  },
  {
   "cell_type": "markdown",
   "metadata": {},
   "source": [
    "# Question 2\n",
    "\n",
    "請列出迴歸模式的 $R^2$ 和 $\\mathrm{MAE}$ 分數。"
   ]
  },
  {
   "cell_type": "code",
   "execution_count": 17,
   "metadata": {},
   "outputs": [],
   "source": [
    "X_train_preds = reg_fit.predict(X_train_std)\n",
    "X_test_preds = reg_fit.predict(X_test_std)"
   ]
  },
  {
   "cell_type": "code",
   "execution_count": 18,
   "metadata": {},
   "outputs": [
    {
     "name": "stdout",
     "output_type": "stream",
     "text": [
      "In-Sample R-Squared: 0.0049\n",
      "Out-of-Sample R-Squared: -0.0224\n"
     ]
    }
   ],
   "source": [
    "from sklearn.metrics import r2_score\n",
    "\n",
    "print('In-Sample R-Squared: %0.4f' % r2_score(y_train, X_train_preds))\n",
    "print('Out-of-Sample R-Squared: %0.4f' % r2_score(y_test, X_test_preds))"
   ]
  },
  {
   "cell_type": "code",
   "execution_count": 19,
   "metadata": {},
   "outputs": [
    {
     "name": "stdout",
     "output_type": "stream",
     "text": [
      "In-Sample MAE: 10.8818\n",
      "Out-of-Sample MAE: 10.4987\n"
     ]
    }
   ],
   "source": [
    "from sklearn.metrics import median_absolute_error\n",
    "\n",
    "print('In-Sample MAE: %0.4f' % median_absolute_error(y_train, X_train_preds))\n",
    "print('Out-of-Sample MAE: %0.4f' % median_absolute_error(y_test, X_test_preds))"
   ]
  },
  {
   "cell_type": "markdown",
   "metadata": {},
   "source": [
    "# Question 3\n",
    "\n",
    "列出回歸模式特徵值及係數（遞減排序）。"
   ]
  },
  {
   "cell_type": "code",
   "execution_count": 20,
   "metadata": {},
   "outputs": [
    {
     "name": "stdout",
     "output_type": "stream",
     "text": [
      "Intercept: 12.702966273872407\n"
     ]
    }
   ],
   "source": [
    "print(\"Intercept:\", reg_fit.intercept_)"
   ]
  },
  {
   "cell_type": "code",
   "execution_count": 21,
   "metadata": {},
   "outputs": [
    {
     "data": {
      "text/html": [
       "<div><style>\n",
       ".dataframe > thead > tr,\n",
       ".dataframe > tbody > tr {\n",
       "  text-align: right;\n",
       "  white-space: pre-wrap;\n",
       "}\n",
       "</style>\n",
       "<small>shape: (6, 2)</small><table border=\"1\" class=\"dataframe\"><thead><tr><th>Feature</th><th>Coefficient</th></tr><tr><td>str</td><td>f64</td></tr></thead><tbody><tr><td>&quot;sales_count_M_2&quot;</td><td>20.170019</td></tr><tr><td>&quot;sales_count_M_4&quot;</td><td>18.955439</td></tr><tr><td>&quot;sales_count_M_3&quot;</td><td>17.422117</td></tr><tr><td>&quot;sales_sum_M_4&quot;</td><td>5.291523</td></tr><tr><td>&quot;sales_sum_M_2&quot;</td><td>2.809319</td></tr><tr><td>&quot;sales_sum_M_3&quot;</td><td>-0.706305</td></tr></tbody></table></div>"
      ],
      "text/plain": [
       "shape: (6, 2)\n",
       "┌─────────────────┬─────────────┐\n",
       "│ Feature         ┆ Coefficient │\n",
       "│ ---             ┆ ---         │\n",
       "│ str             ┆ f64         │\n",
       "╞═════════════════╪═════════════╡\n",
       "│ sales_count_M_2 ┆ 20.170019   │\n",
       "│ sales_count_M_4 ┆ 18.955439   │\n",
       "│ sales_count_M_3 ┆ 17.422117   │\n",
       "│ sales_sum_M_4   ┆ 5.291523    │\n",
       "│ sales_sum_M_2   ┆ 2.809319    │\n",
       "│ sales_sum_M_3   ┆ -0.706305   │\n",
       "└─────────────────┴─────────────┘"
      ]
     },
     "execution_count": 21,
     "metadata": {},
     "output_type": "execute_result"
    }
   ],
   "source": [
    "pl.DataFrame({\n",
    "    \"Feature\": X_train.columns,\n",
    "    \"Coefficient\": reg_fit.coef_\n",
    "}).sort(\"Coefficient\", descending=True)"
   ]
  },
  {
   "cell_type": "markdown",
   "metadata": {},
   "source": [
    "# 補充：繪製線性回歸散布圖"
   ]
  },
  {
   "cell_type": "code",
   "execution_count": 22,
   "metadata": {},
   "outputs": [
    {
     "data": {
      "text/html": [
       "\n",
       "<style>\n",
       "  #altair-viz-4bd59f964a7a432a9f06b230257226ed.vega-embed {\n",
       "    width: 100%;\n",
       "    display: flex;\n",
       "  }\n",
       "\n",
       "  #altair-viz-4bd59f964a7a432a9f06b230257226ed.vega-embed details,\n",
       "  #altair-viz-4bd59f964a7a432a9f06b230257226ed.vega-embed details summary {\n",
       "    position: relative;\n",
       "  }\n",
       "</style>\n",
       "<div id=\"altair-viz-4bd59f964a7a432a9f06b230257226ed\"></div>\n",
       "<script type=\"text/javascript\">\n",
       "  var VEGA_DEBUG = (typeof VEGA_DEBUG == \"undefined\") ? {} : VEGA_DEBUG;\n",
       "  (function(spec, embedOpt){\n",
       "    let outputDiv = document.currentScript.previousElementSibling;\n",
       "    if (outputDiv.id !== \"altair-viz-4bd59f964a7a432a9f06b230257226ed\") {\n",
       "      outputDiv = document.getElementById(\"altair-viz-4bd59f964a7a432a9f06b230257226ed\");\n",
       "    }\n",
       "    const paths = {\n",
       "      \"vega\": \"https://cdn.jsdelivr.net/npm/vega@5?noext\",\n",
       "      \"vega-lib\": \"https://cdn.jsdelivr.net/npm/vega-lib?noext\",\n",
       "      \"vega-lite\": \"https://cdn.jsdelivr.net/npm/vega-lite@5.20.1?noext\",\n",
       "      \"vega-embed\": \"https://cdn.jsdelivr.net/npm/vega-embed@6?noext\",\n",
       "    };\n",
       "\n",
       "    function maybeLoadScript(lib, version) {\n",
       "      var key = `${lib.replace(\"-\", \"\")}_version`;\n",
       "      return (VEGA_DEBUG[key] == version) ?\n",
       "        Promise.resolve(paths[lib]) :\n",
       "        new Promise(function(resolve, reject) {\n",
       "          var s = document.createElement('script');\n",
       "          document.getElementsByTagName(\"head\")[0].appendChild(s);\n",
       "          s.async = true;\n",
       "          s.onload = () => {\n",
       "            VEGA_DEBUG[key] = version;\n",
       "            return resolve(paths[lib]);\n",
       "          };\n",
       "          s.onerror = () => reject(`Error loading script: ${paths[lib]}`);\n",
       "          s.src = paths[lib];\n",
       "        });\n",
       "    }\n",
       "\n",
       "    function showError(err) {\n",
       "      outputDiv.innerHTML = `<div class=\"error\" style=\"color:red;\">${err}</div>`;\n",
       "      throw err;\n",
       "    }\n",
       "\n",
       "    function displayChart(vegaEmbed) {\n",
       "      vegaEmbed(outputDiv, spec, embedOpt)\n",
       "        .catch(err => showError(`Javascript Error: ${err.message}<br>This usually means there's a typo in your chart specification. See the javascript console for the full traceback.`));\n",
       "    }\n",
       "\n",
       "    if(typeof define === \"function\" && define.amd) {\n",
       "      requirejs.config({paths});\n",
       "      require([\"vega-embed\"], displayChart, err => showError(`Error loading script: ${err.message}`));\n",
       "    } else {\n",
       "      maybeLoadScript(\"vega\", \"5\")\n",
       "        .then(() => maybeLoadScript(\"vega-lite\", \"5.20.1\"))\n",
       "        .then(() => maybeLoadScript(\"vega-embed\", \"6\"))\n",
       "        .catch(showError)\n",
       "        .then(() => displayChart(vegaEmbed));\n",
       "    }\n",
       "  })({\"config\": {\"view\": {\"continuousWidth\": 300, \"continuousHeight\": 300}}, \"layer\": [{\"data\": {\"name\": \"data-56ec55626a89d67f2a657985c5266c52\"}, \"mark\": {\"type\": \"point\", \"tooltip\": true}, \"encoding\": {\"x\": {\"field\": \"actual\", \"type\": \"quantitative\"}, \"y\": {\"field\": \"predicted\", \"type\": \"quantitative\"}}, \"name\": \"view_1\"}, {\"data\": {\"name\": \"data-6c2f40b33a3409e2ac33de581245236a\"}, \"mark\": {\"type\": \"line\", \"color\": \"gray\", \"strokeDash\": [5, 5]}, \"encoding\": {\"x\": {\"field\": \"actual\", \"type\": \"quantitative\"}, \"y\": {\"field\": \"predicted\", \"type\": \"quantitative\"}}}], \"params\": [{\"name\": \"param_1\", \"select\": {\"type\": \"interval\", \"encodings\": [\"x\", \"y\"]}, \"bind\": \"scales\", \"views\": [\"view_1\"]}], \"title\": \"Out-of-Sample Actual vs. Predicted\", \"$schema\": \"https://vega.github.io/schema/vega-lite/v5.20.1.json\", \"datasets\": {\"data-56ec55626a89d67f2a657985c5266c52\": [{\"actual\": 0, \"predicted\": 9.259946385240632}, {\"actual\": 0, \"predicted\": 9.32379776889707}, {\"actual\": 0, \"predicted\": 10.498663228175527}, {\"actual\": 0, \"predicted\": 9.081162511002603}, {\"actual\": 0, \"predicted\": 10.1155549262369}, {\"actual\": 0, \"predicted\": 9.591973580254109}, {\"actual\": 0, \"predicted\": 9.425959982747369}, {\"actual\": 0, \"predicted\": 12.988867190776606}, {\"actual\": 0, \"predicted\": 9.259946385240632}, {\"actual\": 0, \"predicted\": 13.818935178310298}, {\"actual\": 0, \"predicted\": 10.920082360308019}, {\"actual\": 0, \"predicted\": 9.617514133716682}, {\"actual\": 0, \"predicted\": 9.183324724852906}, {\"actual\": 0, \"predicted\": 9.643054687179259}, {\"actual\": 0, \"predicted\": 13.678462134266137}, {\"actual\": 0, \"predicted\": 9.68136551737312}, {\"actual\": 0, \"predicted\": 9.221635555046767}, {\"actual\": 68, \"predicted\": 9.57920330352282}, {\"actual\": 0, \"predicted\": 13.142110511552058}, {\"actual\": 0, \"predicted\": 10.562514611831965}, {\"actual\": 0, \"predicted\": 15.747246964734725}, {\"actual\": 0, \"predicted\": 47.43674401643613}, {\"actual\": 0, \"predicted\": 9.936771051998875}, {\"actual\": 0, \"predicted\": 9.719676347566985}, {\"actual\": 20, \"predicted\": 10.243257693549776}, {\"actual\": 0, \"predicted\": 12.350353354212228}, {\"actual\": 0, \"predicted\": 9.093932787733891}, {\"actual\": 27, \"predicted\": 9.119473341196468}, {\"actual\": 0, \"predicted\": 46.759919349677894}, {\"actual\": 0, \"predicted\": 43.6503016225981}, {\"actual\": 0, \"predicted\": 9.259946385240632}, {\"actual\": 0, \"predicted\": 47.730460381255746}, {\"actual\": 49, \"predicted\": 47.42397373970484}, {\"actual\": 0, \"predicted\": 9.119473341196468}, {\"actual\": 0, \"predicted\": 9.27271666197192}, {\"actual\": 0, \"predicted\": 10.319879353937502}, {\"actual\": 0, \"predicted\": 9.208865278315482}, {\"actual\": 0, \"predicted\": 9.591973580254109}, {\"actual\": 0, \"predicted\": 23.67758881486432}, {\"actual\": 0, \"predicted\": 9.872919668342433}, {\"actual\": 0, \"predicted\": 9.604743856985397}, {\"actual\": 0, \"predicted\": 9.528122196597671}, {\"actual\": 0, \"predicted\": 9.00454085061488}, {\"actual\": 0, \"predicted\": 9.349338322359642}, {\"actual\": 0, \"predicted\": 10.498663228175527}, {\"actual\": 0, \"predicted\": 12.107718096317765}, {\"actual\": 0, \"predicted\": 9.936771051998875}, {\"actual\": 0, \"predicted\": 9.311027492165781}, {\"actual\": 0, \"predicted\": 10.511433504906815}, {\"actual\": 0, \"predicted\": 9.515351919866383}, {\"actual\": 52, \"predicted\": 9.489811366403806}, {\"actual\": 0, \"predicted\": 9.387649152553507}, {\"actual\": 0, \"predicted\": 9.770757454492134}, {\"actual\": 0, \"predicted\": 9.987852158924024}, {\"actual\": 0, \"predicted\": 11.916163945348448}, {\"actual\": 0, \"predicted\": 47.18133848181038}, {\"actual\": 0, \"predicted\": 10.498663228175527}, {\"actual\": 0, \"predicted\": 10.536974058369388}, {\"actual\": 0, \"predicted\": 10.102784649505612}, {\"actual\": 0, \"predicted\": 9.477041089672518}, {\"actual\": 0, \"predicted\": 9.221635555046767}, {\"actual\": 0, \"predicted\": 9.604743856985397}, {\"actual\": 0, \"predicted\": 10.06447381931175}, {\"actual\": 0, \"predicted\": 9.221635555046767}, {\"actual\": 0, \"predicted\": 9.285486938703205}, {\"actual\": 0, \"predicted\": 9.528122196597671}, {\"actual\": 0, \"predicted\": 9.259946385240632}, {\"actual\": 0, \"predicted\": 10.281568523743637}, {\"actual\": 0, \"predicted\": 9.68136551737312}, {\"actual\": 0, \"predicted\": 10.1155549262369}, {\"actual\": 0, \"predicted\": 13.244272725402357}, {\"actual\": 0, \"predicted\": 10.1155549262369}, {\"actual\": 0, \"predicted\": 9.987852158924024}, {\"actual\": 0, \"predicted\": 9.732446624298273}, {\"actual\": 0, \"predicted\": 10.1155549262369}, {\"actual\": 0, \"predicted\": 9.809068284685996}, {\"actual\": 0, \"predicted\": 9.221635555046767}, {\"actual\": 0, \"predicted\": 10.319879353937502}, {\"actual\": 0, \"predicted\": 9.208865278315482}, {\"actual\": 0, \"predicted\": 10.575284888563253}, {\"actual\": 0, \"predicted\": 9.489811366403806}, {\"actual\": 0, \"predicted\": 9.872919668342433}, {\"actual\": 0, \"predicted\": 9.553662750060244}, {\"actual\": 0, \"predicted\": 46.86208156352819}, {\"actual\": 0, \"predicted\": 22.694277506555178}, {\"actual\": 0, \"predicted\": 9.336568045628358}, {\"actual\": 0, \"predicted\": 10.498663228175527}, {\"actual\": 0, \"predicted\": 10.498663228175527}, {\"actual\": 0, \"predicted\": 9.975081882192736}, {\"actual\": 0, \"predicted\": 9.719676347566985}, {\"actual\": 0, \"predicted\": 10.498663228175527}, {\"actual\": 0, \"predicted\": 10.192176586624626}, {\"actual\": 0, \"predicted\": 9.936771051998875}, {\"actual\": 0, \"predicted\": 10.639136272219691}, {\"actual\": 0, \"predicted\": 16.922112424013186}, {\"actual\": 0, \"predicted\": 9.477041089672518}, {\"actual\": 0, \"predicted\": 9.10670306446518}, {\"actual\": 0, \"predicted\": 9.604743856985397}, {\"actual\": 0, \"predicted\": 9.349338322359642}, {\"actual\": 0, \"predicted\": 9.617514133716682}, {\"actual\": 0, \"predicted\": 11.137177064739905}, {\"actual\": 0, \"predicted\": 9.987852158924024}, {\"actual\": 0, \"predicted\": 9.809068284685996}, {\"actual\": 0, \"predicted\": 85.93279856591384}, {\"actual\": 99, \"predicted\": 9.962311605461448}, {\"actual\": 0, \"predicted\": 9.438730259478657}, {\"actual\": 0, \"predicted\": 57.37834910873225}, {\"actual\": 0, \"predicted\": 9.528122196597671}, {\"actual\": 0, \"predicted\": 9.349338322359642}, {\"actual\": 0, \"predicted\": 13.269813278864934}, {\"actual\": 0, \"predicted\": 9.196095001584194}, {\"actual\": 0, \"predicted\": 10.06447381931175}, {\"actual\": 0, \"predicted\": 8.991770573883592}, {\"actual\": 0, \"predicted\": 9.566433026791533}, {\"actual\": 0, \"predicted\": 13.091029404626909}, {\"actual\": 0, \"predicted\": 9.834608838148572}, {\"actual\": 0, \"predicted\": 11.647988133991408}, {\"actual\": 0, \"predicted\": 9.809068284685996}, {\"actual\": 0, \"predicted\": 9.617514133716682}, {\"actual\": 0, \"predicted\": 9.36210859909093}, {\"actual\": 0, \"predicted\": 9.987852158924024}, {\"actual\": 0, \"predicted\": 9.617514133716682}, {\"actual\": 0, \"predicted\": 10.243257693549776}, {\"actual\": 0, \"predicted\": 11.520285366678532}, {\"actual\": 0, \"predicted\": 12.797313039807293}, {\"actual\": 0, \"predicted\": 10.243257693549776}, {\"actual\": 0, \"predicted\": 15.747246964734725}, {\"actual\": 0, \"predicted\": 9.451500536209945}, {\"actual\": 0, \"predicted\": 9.05562195754003}, {\"actual\": 20, \"predicted\": 9.68136551737312}, {\"actual\": 99, \"predicted\": 10.881771530114154}, {\"actual\": 0, \"predicted\": 15.747246964734725}, {\"actual\": 0, \"predicted\": 9.515351919866383}, {\"actual\": 0, \"predicted\": 11.392582599365657}, {\"actual\": 0, \"predicted\": 9.617514133716682}, {\"actual\": 0, \"predicted\": 9.515351919866383}, {\"actual\": 82, \"predicted\": 9.719676347566985}, {\"actual\": 0, \"predicted\": 12.031096435930039}, {\"actual\": 0, \"predicted\": 11.596907027066258}, {\"actual\": 76, \"predicted\": 10.192176586624626}, {\"actual\": 0, \"predicted\": 12.886704976926307}, {\"actual\": 0, \"predicted\": 11.00947429742703}, {\"actual\": 0, \"predicted\": 9.604743856985397}, {\"actual\": 0, \"predicted\": 9.464270812941233}, {\"actual\": 0, \"predicted\": 10.447582121250377}, {\"actual\": 0, \"predicted\": 9.89846022180501}, {\"actual\": 0, \"predicted\": 12.01832615919875}, {\"actual\": 0, \"predicted\": 9.515351919866383}, {\"actual\": 0, \"predicted\": 9.975081882192736}, {\"actual\": 0, \"predicted\": 9.885689945073722}, {\"actual\": 0, \"predicted\": 9.936771051998875}, {\"actual\": 0, \"predicted\": 46.747149072946605}, {\"actual\": 0, \"predicted\": 9.68136551737312}, {\"actual\": 0, \"predicted\": 10.102784649505612}, {\"actual\": 0, \"predicted\": 9.68136551737312}, {\"actual\": 0, \"predicted\": 50.16958323693168}, {\"actual\": 0, \"predicted\": 10.817920146457716}, {\"actual\": 450, \"predicted\": 9.298257215434493}, {\"actual\": 0, \"predicted\": 52.58316553914503}, {\"actual\": 0, \"predicted\": 9.732446624298273}, {\"actual\": 0, \"predicted\": 9.259946385240632}, {\"actual\": 0, \"predicted\": 12.452515568062527}, {\"actual\": 0, \"predicted\": 11.903393668617163}, {\"actual\": 0, \"predicted\": 10.243257693549776}, {\"actual\": 0, \"predicted\": 12.363123630943516}, {\"actual\": 0, \"predicted\": 46.90039239372205}, {\"actual\": 0, \"predicted\": 11.558596196872397}, {\"actual\": 0, \"predicted\": 10.524203781638104}, {\"actual\": 0, \"predicted\": 9.987852158924024}, {\"actual\": 0, \"predicted\": 14.597922058918844}, {\"actual\": 0, \"predicted\": 9.400419429284796}, {\"actual\": 0, \"predicted\": 15.721706411272152}, {\"actual\": 0, \"predicted\": 11.660758410722696}, {\"actual\": 0, \"predicted\": 10.881771530114154}, {\"actual\": 0, \"predicted\": 9.987852158924024}, {\"actual\": 0, \"predicted\": 13.742313517922575}, {\"actual\": 0, \"predicted\": 9.259946385240632}, {\"actual\": 0, \"predicted\": 9.196095001584194}, {\"actual\": 0, \"predicted\": 56.784586583738644}, {\"actual\": 0, \"predicted\": 9.617514133716682}, {\"actual\": 0, \"predicted\": 47.71769010452446}, {\"actual\": 0, \"predicted\": 10.370960460862651}, {\"actual\": 0, \"predicted\": 9.477041089672518}, {\"actual\": 0, \"predicted\": 64.84263120118113}, {\"actual\": 0, \"predicted\": 10.562514611831965}, {\"actual\": 0, \"predicted\": 10.881771530114154}, {\"actual\": 0, \"predicted\": 9.604743856985397}, {\"actual\": 0, \"predicted\": 9.425959982747369}, {\"actual\": 0, \"predicted\": 14.329746247561804}, {\"actual\": 0, \"predicted\": 10.319879353937502}, {\"actual\": 0, \"predicted\": 9.809068284685996}, {\"actual\": 0, \"predicted\": 9.425959982747369}, {\"actual\": 0, \"predicted\": 9.081162511002603}, {\"actual\": 0, \"predicted\": 10.766839039532567}, {\"actual\": 0, \"predicted\": 10.192176586624626}, {\"actual\": 0, \"predicted\": 12.490826398256392}, {\"actual\": 0, \"predicted\": 9.208865278315482}, {\"actual\": 0, \"predicted\": 11.201028448396343}, {\"actual\": 68, \"predicted\": 9.834608838148572}, {\"actual\": 0, \"predicted\": 9.936771051998875}, {\"actual\": 0, \"predicted\": 9.591973580254109}, {\"actual\": 0, \"predicted\": 15.044881744513908}, {\"actual\": 0, \"predicted\": 10.728528209338705}, {\"actual\": 0, \"predicted\": 10.881771530114154}, {\"actual\": 0, \"predicted\": 9.042851680808742}, {\"actual\": 0, \"predicted\": 10.766839039532567}, {\"actual\": 0, \"predicted\": 9.553662750060244}, {\"actual\": 0, \"predicted\": 9.298257215434493}, {\"actual\": 0, \"predicted\": 9.451500536209945}, {\"actual\": 0, \"predicted\": 9.617514133716682}, {\"actual\": 0, \"predicted\": 9.553662750060244}, {\"actual\": 0, \"predicted\": 8.902378636764578}, {\"actual\": 0, \"predicted\": 9.987852158924024}, {\"actual\": 0, \"predicted\": 9.196095001584194}, {\"actual\": 120, \"predicted\": 12.414204737868666}, {\"actual\": 0, \"predicted\": 9.770757454492134}, {\"actual\": 0, \"predicted\": 10.179406309893338}, {\"actual\": 0, \"predicted\": 12.28650197055579}, {\"actual\": 0, \"predicted\": 11.047785127620894}, {\"actual\": 0, \"predicted\": 9.32379776889707}, {\"actual\": 0, \"predicted\": 9.528122196597671}, {\"actual\": 0, \"predicted\": 10.447582121250377}, {\"actual\": 0, \"predicted\": 11.252109555321496}, {\"actual\": 0, \"predicted\": 9.89846022180501}, {\"actual\": 0, \"predicted\": 9.809068284685996}, {\"actual\": 0, \"predicted\": 10.256027970281064}, {\"actual\": 0, \"predicted\": 9.591973580254109}, {\"actual\": 0, \"predicted\": 9.643054687179259}, {\"actual\": 0, \"predicted\": 9.221635555046767}, {\"actual\": 0, \"predicted\": 9.298257215434493}, {\"actual\": 0, \"predicted\": 9.809068284685996}, {\"actual\": 0, \"predicted\": 10.179406309893338}, {\"actual\": 0, \"predicted\": 9.221635555046767}, {\"actual\": 0, \"predicted\": 12.682380549225705}, {\"actual\": 0, \"predicted\": 9.732446624298273}, {\"actual\": 59, \"predicted\": 47.283500695660685}, {\"actual\": 0, \"predicted\": 12.299272247287078}, {\"actual\": 0, \"predicted\": 45.897870327304716}, {\"actual\": 0, \"predicted\": 12.23542086363064}, {\"actual\": 370, \"predicted\": 14.72562482623172}, {\"actual\": 0, \"predicted\": 9.438730259478657}, {\"actual\": 0, \"predicted\": 9.860149391611149}, {\"actual\": 0, \"predicted\": 13.933867668891889}, {\"actual\": 0, \"predicted\": 9.68136551737312}, {\"actual\": 0, \"predicted\": 9.540892473328956}, {\"actual\": 0, \"predicted\": 11.035014850889606}, {\"actual\": 0, \"predicted\": 10.626365995488403}, {\"actual\": 0, \"predicted\": 11.047785127620894}, {\"actual\": 0, \"predicted\": 12.618529165569267}, {\"actual\": 0, \"predicted\": 9.694135794104408}, {\"actual\": 0, \"predicted\": 9.311027492165781}, {\"actual\": 0, \"predicted\": 9.528122196597671}, {\"actual\": 119, \"predicted\": 9.94954132873016}, {\"actual\": 0, \"predicted\": 10.447582121250377}, {\"actual\": 70, \"predicted\": 10.2177171400872}, {\"actual\": 64, \"predicted\": 9.132243617927756}, {\"actual\": 0, \"predicted\": 18.42900507830512}, {\"actual\": 0, \"predicted\": 10.498663228175527}, {\"actual\": 0, \"predicted\": 9.349338322359642}, {\"actual\": 0, \"predicted\": 9.745216901029558}, {\"actual\": 0, \"predicted\": 10.575284888563253}, {\"actual\": 0, \"predicted\": 9.208865278315482}, {\"actual\": 0, \"predicted\": 14.419138184680818}, {\"actual\": 0, \"predicted\": 11.047785127620894}, {\"actual\": 0, \"predicted\": 13.908327115429312}, {\"actual\": 0, \"predicted\": 11.22656900185892}, {\"actual\": 0, \"predicted\": 10.1155549262369}, {\"actual\": 0, \"predicted\": 9.438730259478657}, {\"actual\": 0, \"predicted\": 9.63028441044797}, {\"actual\": 0, \"predicted\": 9.68136551737312}, {\"actual\": 0, \"predicted\": 11.213798725127631}, {\"actual\": 0, \"predicted\": 9.247176108509343}, {\"actual\": 58, \"predicted\": 9.119473341196468}, {\"actual\": 0, \"predicted\": 9.311027492165781}, {\"actual\": 0, \"predicted\": 10.754068762801278}, {\"actual\": 0, \"predicted\": 12.324812800749651}, {\"actual\": 0, \"predicted\": 10.1155549262369}, {\"actual\": 0, \"predicted\": 9.042851680808742}, {\"actual\": 0, \"predicted\": 9.604743856985397}, {\"actual\": 0, \"predicted\": 9.553662750060244}, {\"actual\": 0, \"predicted\": 9.170554448121617}, {\"actual\": 0, \"predicted\": 9.732446624298273}, {\"actual\": 0, \"predicted\": 9.860149391611149}, {\"actual\": 0, \"predicted\": 20.90643876417491}, {\"actual\": 75, \"predicted\": 9.336568045628358}, {\"actual\": 0, \"predicted\": 9.770757454492134}, {\"actual\": 0, \"predicted\": 10.4220415677878}, {\"actual\": 0, \"predicted\": 9.604743856985397}, {\"actual\": 0, \"predicted\": 9.57920330352282}, {\"actual\": 0, \"predicted\": 9.604743856985397}, {\"actual\": 0, \"predicted\": 62.75463561260434}, {\"actual\": 271, \"predicted\": 10.843460699920293}, {\"actual\": 0, \"predicted\": 9.41318970601608}, {\"actual\": 0, \"predicted\": 10.843460699920293}, {\"actual\": 0, \"predicted\": 9.27271666197192}, {\"actual\": 0, \"predicted\": 9.706906070835696}, {\"actual\": 0, \"predicted\": 9.10670306446518}, {\"actual\": 0, \"predicted\": 11.954474775542312}, {\"actual\": 44, \"predicted\": 12.886704976926307}, {\"actual\": 0, \"predicted\": 9.975081882192736}, {\"actual\": 0, \"predicted\": 10.613595718757114}, {\"actual\": 0, \"predicted\": 9.298257215434493}, {\"actual\": 0, \"predicted\": 14.597922058918844}, {\"actual\": 0, \"predicted\": 10.639136272219691}, {\"actual\": 0, \"predicted\": 11.264879832052781}, {\"actual\": 0, \"predicted\": 9.132243617927756}, {\"actual\": 0, \"predicted\": 9.528122196597671}, {\"actual\": 0, \"predicted\": 11.903393668617163}, {\"actual\": 0, \"predicted\": 10.1155549262369}, {\"actual\": 0, \"predicted\": 9.36210859909093}, {\"actual\": 0, \"predicted\": 15.747246964734725}, {\"actual\": 0, \"predicted\": 9.885689945073722}, {\"actual\": 0, \"predicted\": 10.702987655876129}, {\"actual\": 0, \"predicted\": 9.208865278315482}, {\"actual\": 0, \"predicted\": 9.987852158924024}, {\"actual\": 0, \"predicted\": 18.454545631767694}, {\"actual\": 0, \"predicted\": 9.400419429284796}, {\"actual\": 0, \"predicted\": 12.529137228450253}, {\"actual\": 0, \"predicted\": 9.336568045628358}, {\"actual\": 0, \"predicted\": 9.336568045628358}, {\"actual\": 0, \"predicted\": 9.36210859909093}, {\"actual\": 0, \"predicted\": 10.370960460862651}, {\"actual\": 0, \"predicted\": 13.640151304072273}, {\"actual\": 0, \"predicted\": 9.617514133716682}, {\"actual\": 0, \"predicted\": 9.093932787733891}, {\"actual\": 0, \"predicted\": 14.700084272769143}, {\"actual\": 0, \"predicted\": 10.843460699920293}, {\"actual\": 0, \"predicted\": 12.426975014599954}, {\"actual\": 0, \"predicted\": 9.081162511002603}, {\"actual\": 0, \"predicted\": 9.732446624298273}, {\"actual\": 0, \"predicted\": 74.36281716134476}, {\"actual\": 0, \"predicted\": 10.179406309893338}, {\"actual\": 0, \"predicted\": 10.000622435655313}, {\"actual\": 0, \"predicted\": 9.093932787733891}, {\"actual\": 0, \"predicted\": 9.298257215434493}, {\"actual\": 0, \"predicted\": 9.604743856985397}, {\"actual\": 0, \"predicted\": 10.639136272219691}, {\"actual\": 0, \"predicted\": 9.936771051998875}, {\"actual\": 0, \"predicted\": 10.1155549262369}, {\"actual\": 0, \"predicted\": 10.626365995488403}, {\"actual\": 0, \"predicted\": 10.626365995488403}, {\"actual\": 0, \"predicted\": 9.643054687179259}, {\"actual\": 0, \"predicted\": 12.873934700195019}, {\"actual\": 780, \"predicted\": 11.609677303797547}, {\"actual\": 0, \"predicted\": 9.183324724852906}, {\"actual\": 0, \"predicted\": 9.732446624298273}, {\"actual\": 0, \"predicted\": 20.90643876417491}, {\"actual\": 128, \"predicted\": 10.230487416818487}, {\"actual\": 0, \"predicted\": 9.32379776889707}, {\"actual\": 0, \"predicted\": 9.987852158924024}, {\"actual\": 0, \"predicted\": 9.311027492165781}, {\"actual\": 0, \"predicted\": 15.172584511826784}, {\"actual\": 0, \"predicted\": 16.500693291880694}, {\"actual\": 0, \"predicted\": 9.809068284685996}, {\"actual\": 0, \"predicted\": 8.551181568058443}, {\"actual\": 0, \"predicted\": 7.883477000670358}, {\"actual\": 0, \"predicted\": 8.545582368331917}, {\"actual\": 0, \"predicted\": 8.570778767101277}, {\"actual\": 0, \"predicted\": 7.852681402174469}, {\"actual\": 0, \"predicted\": 8.608573365255321}, {\"actual\": 0, \"predicted\": 8.579177566691065}, {\"actual\": 0, \"predicted\": 8.387404976057589}, {\"actual\": 0, \"predicted\": 8.591775766075745}, {\"actual\": 59, \"predicted\": 8.622571364571634}, {\"actual\": 0, \"predicted\": 8.637969163819577}, {\"actual\": 0, \"predicted\": 8.630970164161418}, {\"actual\": 30, \"predicted\": 8.58477676641759}, {\"actual\": 0, \"predicted\": 8.437797773596312}, {\"actual\": 83, \"predicted\": 7.695903809831774}, {\"actual\": 0, \"predicted\": 8.593175566007378}, {\"actual\": 115, \"predicted\": 7.653909811882838}, {\"actual\": 0, \"predicted\": 8.107444989731349}, {\"actual\": 0, \"predicted\": 8.49378977086156}, {\"actual\": 0, \"predicted\": 8.532984168947234}, {\"actual\": 0, \"predicted\": 8.616972164845109}, {\"actual\": 0, \"predicted\": 8.393004175784114}, {\"actual\": 0, \"predicted\": 8.243225583099576}, {\"actual\": 0, \"predicted\": 8.58477676641759}, {\"actual\": 0, \"predicted\": 7.788290605319436}, {\"actual\": 0, \"predicted\": 8.486790771203406}, {\"actual\": 145, \"predicted\": 8.045853792739575}, {\"actual\": 0, \"predicted\": 8.472792771887093}, {\"actual\": 134, \"predicted\": 8.48119157147688}, {\"actual\": 0, \"predicted\": 8.527384969220712}, {\"actual\": 0, \"predicted\": 8.387404976057589}, {\"actual\": 0, \"predicted\": 8.56098016757986}, {\"actual\": 0, \"predicted\": 8.430798773938157}, {\"actual\": 0, \"predicted\": 8.625370964434897}, {\"actual\": 0, \"predicted\": 7.866679401490782}, {\"actual\": 0, \"predicted\": 8.629570364229789}, {\"actual\": 0, \"predicted\": 8.600174565665533}, {\"actual\": 0, \"predicted\": 8.601574365597166}, {\"actual\": 0, \"predicted\": 8.50078877051972}, {\"actual\": 0, \"predicted\": 8.48119157147688}, {\"actual\": 0, \"predicted\": 8.556780767784964}, {\"actual\": 0, \"predicted\": 8.443396973322837}, {\"actual\": 0, \"predicted\": 8.636569363887943}, {\"actual\": 0, \"predicted\": 8.297817780433192}, {\"actual\": 0, \"predicted\": 8.623971164503264}, {\"actual\": 87, \"predicted\": 8.556780767784964}, {\"actual\": 0, \"predicted\": 8.285219581048512}, {\"actual\": 0, \"predicted\": 8.650567363204257}, {\"actual\": 0, \"predicted\": 8.39720357557901}, {\"actual\": 0, \"predicted\": 8.579177566691065}, {\"actual\": 0, \"predicted\": 8.107444989731349}, {\"actual\": 45, \"predicted\": 8.569378967169648}, {\"actual\": 75, \"predicted\": 8.523185569425817}, {\"actual\": 0, \"predicted\": 8.538583368673759}, {\"actual\": 88, \"predicted\": 8.616972164845109}, {\"actual\": 0, \"predicted\": 8.530184569083975}, {\"actual\": 0, \"predicted\": 8.31741497947603}, {\"actual\": 0, \"predicted\": 8.4685933720922}, {\"actual\": 0, \"predicted\": 8.383205576262696}, {\"actual\": 0, \"predicted\": 8.574978166896173}, {\"actual\": 0, \"predicted\": 8.58477676641759}, {\"actual\": 0, \"predicted\": 8.48119157147688}, {\"actual\": 0, \"predicted\": 8.588976166212483}, {\"actual\": 0, \"predicted\": 8.62817056429816}, {\"actual\": 0, \"predicted\": 7.849881802311207}, {\"actual\": 891, \"predicted\": 8.579177566691065}, {\"actual\": 0, \"predicted\": 44.91846877569342}, {\"actual\": 0, \"predicted\": 8.453195572844258}, {\"actual\": 0, \"predicted\": 8.593175566007378}, {\"actual\": 0, \"predicted\": 8.626770764366526}, {\"actual\": 0, \"predicted\": 8.344011178177023}, {\"actual\": 83, \"predicted\": 8.629570364229789}, {\"actual\": 125, \"predicted\": 8.64076876368284}, {\"actual\": 0, \"predicted\": 8.608573365255321}, {\"actual\": 0, \"predicted\": 8.145239587885392}, {\"actual\": 0, \"predicted\": 8.593175566007378}, {\"actual\": 0, \"predicted\": 8.436397973664683}, {\"actual\": 0, \"predicted\": 44.938065974736254}, {\"actual\": 0, \"predicted\": 8.577777766759436}, {\"actual\": 0, \"predicted\": 8.388804775989222}, {\"actual\": 0, \"predicted\": 8.565179567374752}, {\"actual\": 36, \"predicted\": 8.629570364229789}, {\"actual\": 0, \"predicted\": 8.313215579681135}, {\"actual\": 0, \"predicted\": 8.430798773938157}, {\"actual\": 0, \"predicted\": 5.6885907078726285}, {\"actual\": 0, \"predicted\": 45.303413756892}, {\"actual\": 222, \"predicted\": 8.131241588569079}, {\"actual\": 0, \"predicted\": 8.616972164845109}, {\"actual\": 0, \"predicted\": 8.643568363546102}, {\"actual\": 18, \"predicted\": 8.415400974690215}, {\"actual\": 0, \"predicted\": 8.443396973322837}, {\"actual\": 0, \"predicted\": 8.53718356874213}, {\"actual\": 0, \"predicted\": 8.535783768810496}, {\"actual\": 0, \"predicted\": 8.53718356874213}, {\"actual\": 0, \"predicted\": 8.439197573527945}, {\"actual\": 0, \"predicted\": 8.523185569425817}, {\"actual\": 0, \"predicted\": 8.54838196819518}, {\"actual\": 0, \"predicted\": 8.59737496580227}, {\"actual\": 0, \"predicted\": 8.570778767101277}, {\"actual\": 0, \"predicted\": 8.523185569425817}, {\"actual\": 59, \"predicted\": 8.635169563956314}, {\"actual\": 0, \"predicted\": 8.579177566691065}, {\"actual\": 0, \"predicted\": 8.635169563956314}, {\"actual\": 0, \"predicted\": 8.57357836696454}, {\"actual\": 0, \"predicted\": 8.551181568058443}, {\"actual\": 0, \"predicted\": 8.365008177151491}, {\"actual\": 0, \"predicted\": 8.611372965118584}, {\"actual\": 0, \"predicted\": 8.591775766075745}, {\"actual\": 0, \"predicted\": 8.163436986996597}, {\"actual\": 0, \"predicted\": 8.387404976057589}, {\"actual\": 0, \"predicted\": 7.788290605319436}, {\"actual\": 0, \"predicted\": 44.92826737521484}, {\"actual\": 0, \"predicted\": 8.45879477257078}, {\"actual\": 0, \"predicted\": 8.565179567374752}, {\"actual\": 0, \"predicted\": 8.579177566691065}, {\"actual\": 0, \"predicted\": 8.327213578997448}, {\"actual\": 0, \"predicted\": 8.570778767101277}, {\"actual\": 0, \"predicted\": 8.369207576946383}, {\"actual\": 0, \"predicted\": 8.425199574211632}, {\"actual\": 0, \"predicted\": 8.35380977769844}, {\"actual\": 0, \"predicted\": 8.621171564640001}, {\"actual\": 0, \"predicted\": 8.608573365255321}, {\"actual\": 0, \"predicted\": 45.11864016591668}, {\"actual\": 39, \"predicted\": 8.621171564640001}, {\"actual\": 0, \"predicted\": 7.88907620039688}, {\"actual\": 0, \"predicted\": 8.588976166212483}, {\"actual\": 0, \"predicted\": 8.629570364229789}, {\"actual\": 0, \"predicted\": 8.551181568058443}, {\"actual\": 0, \"predicted\": 8.370607376878016}, {\"actual\": 0, \"predicted\": 8.425199574211632}, {\"actual\": 0, \"predicted\": 8.611372965118584}, {\"actual\": 0, \"predicted\": 8.107444989731349}, {\"actual\": 0, \"predicted\": 8.64076876368284}, {\"actual\": 0, \"predicted\": 8.593175566007378}, {\"actual\": 0, \"predicted\": 7.849881802311207}, {\"actual\": 0, \"predicted\": 8.496589370724823}, {\"actual\": 0, \"predicted\": 8.272621381663832}, {\"actual\": 691, \"predicted\": 45.152235364275825}, {\"actual\": 0, \"predicted\": 8.583376966485957}, {\"actual\": 196, \"predicted\": 8.521785769494187}, {\"actual\": 0, \"predicted\": 8.605773765392058}, {\"actual\": 0, \"predicted\": 8.611372965118584}, {\"actual\": 0, \"predicted\": 8.57217856703291}, {\"actual\": 0, \"predicted\": 8.555380967853335}, {\"actual\": 0, \"predicted\": 8.611372965118584}, {\"actual\": 0, \"predicted\": 8.621171564640001}, {\"actual\": 0, \"predicted\": 8.465793772228938}, {\"actual\": 0, \"predicted\": 8.510587370041137}, {\"actual\": 0, \"predicted\": 8.608573365255321}, {\"actual\": 0, \"predicted\": 8.528784769152342}, {\"actual\": 0, \"predicted\": 8.327213578997448}, {\"actual\": 0, \"predicted\": 8.509187570109503}, {\"actual\": 0, \"predicted\": 8.604373965460429}, {\"actual\": 0, \"predicted\": 8.607173565323688}, {\"actual\": 0, \"predicted\": 8.635169563956314}, {\"actual\": 0, \"predicted\": 8.313215579681135}, {\"actual\": 0, \"predicted\": 8.162037187064964}, {\"actual\": 0, \"predicted\": 8.482591371408514}, {\"actual\": 0, \"predicted\": 8.523185569425817}, {\"actual\": 0, \"predicted\": 8.476992171681989}, {\"actual\": 0, \"predicted\": 1.8587380949296506}, {\"actual\": 0, \"predicted\": 8.275420981527095}, {\"actual\": 0, \"predicted\": 8.629570364229789}, {\"actual\": 0, \"predicted\": 8.621171564640001}, {\"actual\": 0, \"predicted\": 8.528784769152342}, {\"actual\": 0, \"predicted\": 8.34261137824539}, {\"actual\": 0, \"predicted\": 8.593175566007378}, {\"actual\": 0, \"predicted\": 8.523185569425817}, {\"actual\": 0, \"predicted\": 8.44479677325447}, {\"actual\": 0, \"predicted\": 8.639368963751206}, {\"actual\": 0, \"predicted\": 8.605773765392058}, {\"actual\": 0, \"predicted\": 8.629570364229789}, {\"actual\": 0, \"predicted\": 8.50078877051972}, {\"actual\": 0, \"predicted\": 8.275420981527095}, {\"actual\": 0, \"predicted\": 8.639368963751206}, {\"actual\": 0, \"predicted\": 8.595975165870641}, {\"actual\": 0, \"predicted\": 8.523185569425817}, {\"actual\": 0, \"predicted\": 8.58477676641759}, {\"actual\": 0, \"predicted\": 8.591775766075745}, {\"actual\": 0, \"predicted\": 45.31041275655016}, {\"actual\": 0, \"predicted\": 8.370607376878016}, {\"actual\": 0, \"predicted\": 8.619771764708371}, {\"actual\": 0, \"predicted\": 8.532984168947234}, {\"actual\": 0, \"predicted\": 8.598774765733904}, {\"actual\": 0, \"predicted\": 8.523185569425817}, {\"actual\": 0, \"predicted\": 7.891875800260142}, {\"actual\": 0, \"predicted\": 7.707102209284824}, {\"actual\": 0, \"predicted\": 8.636569363887943}, {\"actual\": 0, \"predicted\": 6.763637055365394}, {\"actual\": 0, \"predicted\": 8.570778767101277}, {\"actual\": 0, \"predicted\": 8.626770764366526}, {\"actual\": 0, \"predicted\": 8.467193572160568}, {\"actual\": 0, \"predicted\": 8.33141297879234}, {\"actual\": 0, \"predicted\": 8.53718356874213}, {\"actual\": 0, \"predicted\": 8.588976166212483}, {\"actual\": 109, \"predicted\": 8.48119157147688}, {\"actual\": 0, \"predicted\": 8.565179567374752}, {\"actual\": 0, \"predicted\": 8.118643389184399}, {\"actual\": 0, \"predicted\": 8.629570364229789}, {\"actual\": 0, \"predicted\": 8.426599374143265}, {\"actual\": 0, \"predicted\": 8.570778767101277}, {\"actual\": 0, \"predicted\": 8.593175566007378}, {\"actual\": 0, \"predicted\": 8.454595372775888}, {\"actual\": 0, \"predicted\": 8.636569363887943}, {\"actual\": 0, \"predicted\": 8.236226583441418}, {\"actual\": 0, \"predicted\": 8.451795772912625}, {\"actual\": 0, \"predicted\": 8.437797773596312}, {\"actual\": 0, \"predicted\": 8.56098016757986}, {\"actual\": 0, \"predicted\": 8.551181568058443}, {\"actual\": 0, \"predicted\": 8.523185569425817}, {\"actual\": 0, \"predicted\": 8.489590371066669}, {\"actual\": 0, \"predicted\": 8.486790771203406}, {\"actual\": 0, \"predicted\": 8.587576366280853}, {\"actual\": 0, \"predicted\": 8.556780767784964}, {\"actual\": 0, \"predicted\": 8.593175566007378}, {\"actual\": 0, \"predicted\": 8.39720357557901}, {\"actual\": 0, \"predicted\": 8.616972164845109}, {\"actual\": 0, \"predicted\": 8.402802775305535}, {\"actual\": 0, \"predicted\": 8.577777766759436}, {\"actual\": 0, \"predicted\": 8.53718356874213}, {\"actual\": 0, \"predicted\": 8.630970164161418}, {\"actual\": 0, \"predicted\": 8.523185569425817}, {\"actual\": 0, \"predicted\": 8.591775766075745}, {\"actual\": 0, \"predicted\": 8.426599374143265}, {\"actual\": 0, \"predicted\": 8.538583368673759}, {\"actual\": 0, \"predicted\": 8.616972164845109}, {\"actual\": 0, \"predicted\": 8.619771764708371}, {\"actual\": 0, \"predicted\": 8.334212578655602}, {\"actual\": 0, \"predicted\": 8.482591371408514}, {\"actual\": 0, \"predicted\": 8.601574365597166}, {\"actual\": 0, \"predicted\": 8.616972164845109}, {\"actual\": 0, \"predicted\": 8.569378967169648}, {\"actual\": 0, \"predicted\": 8.514786769836029}, {\"actual\": 0, \"predicted\": 8.593175566007378}, {\"actual\": 0, \"predicted\": 8.430798773938157}, {\"actual\": 0, \"predicted\": 8.616972164845109}, {\"actual\": 0, \"predicted\": 8.574978166896173}, {\"actual\": 0, \"predicted\": 8.63376976402468}, {\"actual\": 49, \"predicted\": 8.591775766075745}, {\"actual\": 0, \"predicted\": 8.630970164161418}, {\"actual\": 0, \"predicted\": 8.626770764366526}, {\"actual\": 360, \"predicted\": 8.150838787611917}, {\"actual\": 0, \"predicted\": 8.608573365255321}, {\"actual\": 0, \"predicted\": 8.621171564640001}, {\"actual\": 0, \"predicted\": 8.588976166212483}, {\"actual\": 0, \"predicted\": 8.426599374143265}, {\"actual\": 0, \"predicted\": 8.615572364913476}, {\"actual\": 0, \"predicted\": 8.636569363887943}, {\"actual\": 0, \"predicted\": 2.211487677700715}, {\"actual\": 0, \"predicted\": 6.280706078952627}, {\"actual\": 0, \"predicted\": 8.608573365255321}, {\"actual\": 0, \"predicted\": 8.605773765392058}, {\"actual\": 0, \"predicted\": 8.542782768468655}, {\"actual\": 0, \"predicted\": 8.593175566007378}, {\"actual\": 0, \"predicted\": 8.630970164161418}, {\"actual\": 0, \"predicted\": 8.369207576946383}, {\"actual\": 0, \"predicted\": 8.579177566691065}, {\"actual\": 0, \"predicted\": 8.623971164503264}, {\"actual\": 0, \"predicted\": 8.240425983236314}, {\"actual\": 0, \"predicted\": 8.299217580364825}, {\"actual\": 0, \"predicted\": 8.426599374143265}, {\"actual\": 0, \"predicted\": 8.388804775989222}, {\"actual\": 0, \"predicted\": 8.40980177496369}, {\"actual\": 0, \"predicted\": 8.552581367990072}, {\"actual\": 0, \"predicted\": 8.509187570109503}, {\"actual\": 0, \"predicted\": 8.527384969220712}, {\"actual\": 0, \"predicted\": 8.486790771203406}, {\"actual\": 0, \"predicted\": 8.135440988363971}, {\"actual\": 0, \"predicted\": 8.411201574895319}, {\"actual\": 0, \"predicted\": 8.644968163477731}, {\"actual\": 0, \"predicted\": 8.258623382347519}, {\"actual\": 0, \"predicted\": 8.598774765733904}, {\"actual\": 0, \"predicted\": 8.570778767101277}, {\"actual\": 62, \"predicted\": 8.551181568058443}, {\"actual\": 0, \"predicted\": 8.369207576946383}, {\"actual\": 69, \"predicted\": 8.57217856703291}, {\"actual\": 0, \"predicted\": 8.579177566691065}, {\"actual\": 0, \"predicted\": 8.565179567374752}, {\"actual\": 0, \"predicted\": 8.157837787270072}, {\"actual\": 0, \"predicted\": 8.62817056429816}, {\"actual\": 0, \"predicted\": 8.321614379270923}, {\"actual\": 0, \"predicted\": 8.636569363887943}, {\"actual\": 0, \"predicted\": 8.54838196819518}, {\"actual\": 0, \"predicted\": 12.7527455076694}, {\"actual\": 20, \"predicted\": 13.211954390398903}, {\"actual\": 0, \"predicted\": 17.12652191530612}, {\"actual\": 76, \"predicted\": 56.617865333253114}, {\"actual\": 0, \"predicted\": 13.211954390398903}, {\"actual\": 58, \"predicted\": 12.466680957772335}, {\"actual\": 0, \"predicted\": 13.023754028624515}, {\"actual\": 0, \"predicted\": 12.067696190810638}, {\"actual\": 59, \"predicted\": 12.270952581526975}, {\"actual\": 0, \"predicted\": 92.42800967489313}, {\"actual\": 0, \"predicted\": 12.828025652379155}, {\"actual\": 0, \"predicted\": 12.34623272623673}, {\"actual\": 0, \"predicted\": 12.429040885417459}, {\"actual\": 0, \"predicted\": 12.730161464256474}, {\"actual\": 0, \"predicted\": 12.421512870946481}, {\"actual\": 0, \"predicted\": 12.34623272623673}, {\"actual\": 0, \"predicted\": 12.24084052364307}, {\"actual\": 0, \"predicted\": 52.31936907032615}, {\"actual\": 0, \"predicted\": 12.828025652379155}, {\"actual\": 0, \"predicted\": 12.30859265388185}, {\"actual\": 0, \"predicted\": 12.263424567055997}, {\"actual\": 0, \"predicted\": 12.09780824869454}, {\"actual\": 0, \"predicted\": 12.519377059069162}, {\"actual\": 42, \"predicted\": 12.519377059069162}, {\"actual\": 0, \"predicted\": 12.632297276133793}, {\"actual\": 0, \"predicted\": 13.550715041592797}, {\"actual\": 0, \"predicted\": 13.821723562547911}, {\"actual\": 0, \"predicted\": 12.045112147397711}, {\"actual\": 0, \"predicted\": 14.092732083503025}, {\"actual\": 0, \"predicted\": 12.496793015656236}, {\"actual\": 0, \"predicted\": 12.09780824869454}, {\"actual\": 0, \"predicted\": 12.94847388391476}, {\"actual\": 0, \"predicted\": 12.142976335520393}, {\"actual\": 0, \"predicted\": 17.939547478171466}, {\"actual\": 0, \"predicted\": 12.7527455076694}, {\"actual\": 0, \"predicted\": 20.860417092909927}, {\"actual\": 0, \"predicted\": 15.620919021111039}, {\"actual\": 270, \"predicted\": 14.928341689781298}, {\"actual\": 0, \"predicted\": 12.519377059069162}, {\"actual\": 0, \"predicted\": 12.68499337743062}, {\"actual\": 0, \"predicted\": 14.107788112444977}, {\"actual\": 0, \"predicted\": 12.21072846575917}, {\"actual\": 0, \"predicted\": 12.225784494701122}, {\"actual\": 0, \"predicted\": 12.248368538114049}, {\"actual\": 0, \"predicted\": 12.301064639410876}, {\"actual\": 0, \"predicted\": 12.082752219752587}, {\"actual\": 0, \"predicted\": 11.98488803162991}, {\"actual\": 0, \"predicted\": 12.09780824869454}, {\"actual\": 0, \"predicted\": 12.316120668352825}, {\"actual\": 0, \"predicted\": 14.536884937290575}, {\"actual\": 0, \"predicted\": 12.022528103984785}, {\"actual\": 0, \"predicted\": 12.248368538114049}, {\"actual\": 0, \"predicted\": 12.323648682823803}, {\"actual\": 0, \"predicted\": 16.05754386042761}, {\"actual\": 0, \"predicted\": 12.398928827533558}, {\"actual\": 0, \"predicted\": 12.526905073540137}, {\"actual\": 0, \"predicted\": 11.894551857978202}, {\"actual\": 0, \"predicted\": 12.037584132926737}, {\"actual\": 0, \"predicted\": 60.833553436999345}, {\"actual\": 0, \"predicted\": 28.719664200608264}, {\"actual\": 0, \"predicted\": 12.173088393404294}, {\"actual\": 0, \"predicted\": 15.50047078957543}, {\"actual\": 0, \"predicted\": 12.812969623437203}, {\"actual\": 0, \"predicted\": 12.451624928830386}, {\"actual\": 0, \"predicted\": 15.169238152852511}, {\"actual\": 0, \"predicted\": 13.174314318044024}, {\"actual\": 0, \"predicted\": 12.466680957772335}, {\"actual\": 27, \"predicted\": 12.828025652379155}, {\"actual\": 0, \"predicted\": 12.647353305075745}, {\"actual\": 0, \"predicted\": 12.481736986714287}, {\"actual\": 0, \"predicted\": 12.767801536611353}, {\"actual\": 99, \"predicted\": 12.496793015656236}, {\"actual\": 0, \"predicted\": 54.36698900643146}, {\"actual\": 0, \"predicted\": 13.001169985211588}, {\"actual\": 0, \"predicted\": 12.986113956269639}, {\"actual\": 74, \"predicted\": 12.466680957772335}, {\"actual\": 0, \"predicted\": 12.760273522140375}, {\"actual\": 0, \"predicted\": 19.648406763082885}, {\"actual\": 0, \"predicted\": 13.656107244186453}, {\"actual\": 0, \"predicted\": 11.924663915862103}, {\"actual\": 0, \"predicted\": 12.421512870946481}, {\"actual\": 0, \"predicted\": 12.30859265388185}, {\"actual\": 179, \"predicted\": 12.496793015656236}, {\"actual\": 0, \"predicted\": 14.506772879406673}, {\"actual\": 0, \"predicted\": 12.700049406372573}, {\"actual\": 0, \"predicted\": 13.407682766644262}, {\"actual\": 0, \"predicted\": 12.526905073540137}, {\"actual\": 0, \"predicted\": 93.76170922983589}, {\"actual\": 0, \"predicted\": 11.894551857978202}, {\"actual\": 0, \"predicted\": 13.174314318044024}, {\"actual\": 0, \"predicted\": 12.150504349991367}, {\"actual\": 0, \"predicted\": 54.095980485476346}, {\"actual\": 0, \"predicted\": 13.934643779612541}, {\"actual\": 0, \"predicted\": 14.311044503161314}, {\"actual\": 0, \"predicted\": 12.526905073540137}, {\"actual\": 0, \"predicted\": 12.225784494701122}, {\"actual\": 0, \"predicted\": 12.451624928830386}, {\"actual\": 0, \"predicted\": 12.263424567055997}, {\"actual\": 0, \"predicted\": 12.022528103984785}, {\"actual\": 99, \"predicted\": 12.045112147397711}, {\"actual\": 0, \"predicted\": 12.669937348488672}, {\"actual\": 0, \"predicted\": 53.34317903837881}, {\"actual\": 0, \"predicted\": 15.447774688278603}, {\"actual\": 0, \"predicted\": 13.061394100979394}, {\"actual\": 0, \"predicted\": 12.112864277636492}, {\"actual\": 0, \"predicted\": 15.425190644865676}, {\"actual\": 0, \"predicted\": 12.579601174836965}, {\"actual\": 0, \"predicted\": 12.301064639410876}, {\"actual\": 0, \"predicted\": 12.978585941798665}, {\"actual\": 0, \"predicted\": 15.605862992169087}, {\"actual\": 0, \"predicted\": 15.176766167323489}, {\"actual\": 0, \"predicted\": 12.353760740707704}, {\"actual\": 0, \"predicted\": 12.218256480230147}, {\"actual\": 0, \"predicted\": 16.40383252609248}, {\"actual\": 0, \"predicted\": 12.451624928830386}, {\"actual\": 0, \"predicted\": 12.45915294330136}, {\"actual\": 0, \"predicted\": 12.112864277636492}, {\"actual\": 37, \"predicted\": 135.337071662663}, {\"actual\": 0, \"predicted\": 52.59037759128126}, {\"actual\": 0, \"predicted\": 12.105336263165514}, {\"actual\": 0, \"predicted\": 12.451624928830386}, {\"actual\": 0, \"predicted\": 17.886851376874638}, {\"actual\": 0, \"predicted\": 12.12792030657844}, {\"actual\": 0, \"predicted\": 12.270952581526975}, {\"actual\": 0, \"predicted\": 14.205652300567655}, {\"actual\": 0, \"predicted\": 13.12914623121817}, {\"actual\": 0, \"predicted\": 12.7527455076694}, {\"actual\": 0, \"predicted\": 15.613391006640061}, {\"actual\": 0, \"predicted\": 13.452850853470116}, {\"actual\": 0, \"predicted\": 23.239269665738156}, {\"actual\": 0, \"predicted\": 12.647353305075745}, {\"actual\": 0, \"predicted\": 12.594657203778917}, {\"actual\": 0, \"predicted\": 12.730161464256474}, {\"actual\": 0, \"predicted\": 12.444096914359408}, {\"actual\": 0, \"predicted\": 12.27848059599795}, {\"actual\": 0, \"predicted\": 12.526905073540137}, {\"actual\": 0, \"predicted\": 12.323648682823803}, {\"actual\": 0, \"predicted\": 12.602185218249891}, {\"actual\": 0, \"predicted\": 12.549489116953064}, {\"actual\": 0, \"predicted\": 14.41643670575497}, {\"actual\": 0, \"predicted\": 12.7527455076694}, {\"actual\": 0, \"predicted\": 12.429040885417459}, {\"actual\": 260, \"predicted\": 15.568222919814207}, {\"actual\": 0, \"predicted\": 12.669937348488672}, {\"actual\": 125, \"predicted\": 12.451624928830386}, {\"actual\": 0, \"predicted\": 12.421512870946481}, {\"actual\": 0, \"predicted\": 12.451624928830386}, {\"actual\": 0, \"predicted\": 12.850609695792082}, {\"actual\": 0, \"predicted\": 12.09780824869454}, {\"actual\": 0, \"predicted\": 12.865665724734031}, {\"actual\": 72, \"predicted\": 12.323648682823803}, {\"actual\": 0, \"predicted\": 12.7527455076694}, {\"actual\": 0, \"predicted\": 12.376344784120631}, {\"actual\": 0, \"predicted\": 14.476660821522772}, {\"actual\": 0, \"predicted\": 13.919587750670592}, {\"actual\": 0, \"predicted\": 12.519377059069162}, {\"actual\": 0, \"predicted\": 15.711255194762742}, {\"actual\": 0, \"predicted\": 12.142976335520393}, {\"actual\": 0, \"predicted\": 13.354986665347434}, {\"actual\": 0, \"predicted\": 12.007472075042836}, {\"actual\": 0, \"predicted\": 12.052640161868686}, {\"actual\": 0, \"predicted\": 15.922039599950054}, {\"actual\": 0, \"predicted\": 12.270952581526975}, {\"actual\": 0, \"predicted\": 20.739968861374322}, {\"actual\": 0, \"predicted\": 44.37793430023713}, {\"actual\": 0, \"predicted\": 14.107788112444977}, {\"actual\": 0, \"predicted\": 34.621627545852995}, {\"actual\": 0, \"predicted\": 15.161710138381537}, {\"actual\": 0, \"predicted\": 12.233312509172096}, {\"actual\": 0, \"predicted\": 12.451624928830386}, {\"actual\": 0, \"predicted\": 15.086429993671782}, {\"actual\": 0, \"predicted\": 12.19567243681722}, {\"actual\": 0, \"predicted\": 12.12792030657844}, {\"actual\": 0, \"predicted\": 12.225784494701122}, {\"actual\": 0, \"predicted\": 12.09780824869454}, {\"actual\": 0, \"predicted\": 12.421512870946481}, {\"actual\": 0, \"predicted\": 12.451624928830386}, {\"actual\": 0, \"predicted\": 16.644728989163692}, {\"actual\": 0, \"predicted\": 12.301064639410876}, {\"actual\": 0, \"predicted\": 14.627221110942282}, {\"actual\": 0, \"predicted\": 12.19567243681722}, {\"actual\": 0, \"predicted\": 12.444096914359408}, {\"actual\": 0, \"predicted\": 14.250820387393508}, {\"actual\": 0, \"predicted\": 12.082752219752587}, {\"actual\": 0, \"predicted\": 12.105336263165514}, {\"actual\": 0, \"predicted\": 12.7527455076694}, {\"actual\": 0, \"predicted\": 12.263424567055997}, {\"actual\": 0, \"predicted\": 16.825401336467102}, {\"actual\": 0, \"predicted\": 12.075224205281613}, {\"actual\": 0, \"predicted\": 13.505546954766944}, {\"actual\": 0, \"predicted\": 14.838005516129595}, {\"actual\": 0, \"predicted\": 18.62459679503023}, {\"actual\": 0, \"predicted\": 12.737689478727448}, {\"actual\": 0, \"predicted\": 12.602185218249891}, {\"actual\": 0, \"predicted\": 12.444096914359408}, {\"actual\": 0, \"predicted\": 13.686219302070354}, {\"actual\": 0, \"predicted\": 14.905757646368372}, {\"actual\": 0, \"predicted\": 12.429040885417459}, {\"actual\": 0, \"predicted\": 12.63982529060477}, {\"actual\": 0, \"predicted\": 13.249594462753779}, {\"actual\": 0, \"predicted\": 12.594657203778917}, {\"actual\": 0, \"predicted\": 12.19567243681722}, {\"actual\": 0, \"predicted\": 31.008180599784794}, {\"actual\": 0, \"predicted\": 15.018677863433002}, {\"actual\": 0, \"predicted\": 12.45915294330136}, {\"actual\": 0, \"predicted\": 12.376344784120631}, {\"actual\": 0, \"predicted\": 12.007472075042836}, {\"actual\": 0, \"predicted\": 14.499244864935699}, {\"actual\": 0, \"predicted\": 12.873193739205009}, {\"actual\": 0, \"predicted\": 12.022528103984785}, {\"actual\": 0, \"predicted\": 11.992416046100884}, {\"actual\": 0, \"predicted\": 12.669937348488672}, {\"actual\": 0, \"predicted\": 13.031282043095493}, {\"actual\": 0, \"predicted\": 13.136674245689148}, {\"actual\": 0, \"predicted\": 12.986113956269639}, {\"actual\": 0, \"predicted\": 13.881947678315713}, {\"actual\": 0, \"predicted\": 13.332402621934508}, {\"actual\": 0, \"predicted\": 12.828025652379155}, {\"actual\": 0, \"predicted\": 12.65488131954672}, {\"actual\": 0, \"predicted\": 12.022528103984785}, {\"actual\": 0, \"predicted\": 12.910833811559884}, {\"actual\": 103, \"predicted\": 12.828025652379155}, {\"actual\": 0, \"predicted\": 12.12792030657844}, {\"actual\": 0, \"predicted\": 12.067696190810638}, {\"actual\": 0, \"predicted\": 12.022528103984785}, {\"actual\": 0, \"predicted\": 12.429040885417459}, {\"actual\": 32, \"predicted\": 12.022528103984785}, {\"actual\": 0, \"predicted\": 13.272178506166705}, {\"actual\": 0, \"predicted\": 12.519377059069162}, {\"actual\": 0, \"predicted\": 12.293536624939899}, {\"actual\": 0, \"predicted\": 12.602185218249891}, {\"actual\": 0, \"predicted\": 12.489265001185261}, {\"actual\": 0, \"predicted\": 12.158032364462342}, {\"actual\": 0, \"predicted\": 16.91573751011881}, {\"actual\": 0, \"predicted\": 13.881947678315713}, {\"actual\": 0, \"predicted\": 13.12914623121817}, {\"actual\": 0, \"predicted\": 12.519377059069162}, {\"actual\": 0, \"predicted\": 13.90453172172864}, {\"actual\": 0, \"predicted\": 19.80649506697337}, {\"actual\": 0, \"predicted\": 14.446548763638871}, {\"actual\": 0, \"predicted\": 12.301064639410876}, {\"actual\": 0, \"predicted\": 13.27970652063768}, {\"actual\": 0, \"predicted\": 13.324874607463533}, {\"actual\": 0, \"predicted\": 12.01500008951381}, {\"actual\": 0, \"predicted\": 12.90330579708891}, {\"actual\": 0, \"predicted\": 12.376344784120631}, {\"actual\": 0, \"predicted\": 12.27848059599795}, {\"actual\": 0, \"predicted\": 13.001169985211588}, {\"actual\": 0, \"predicted\": 16.825401336467102}, {\"actual\": 0, \"predicted\": 12.451624928830386}, {\"actual\": 0, \"predicted\": 12.647353305075745}, {\"actual\": 0, \"predicted\": 12.075224205281613}, {\"actual\": 0, \"predicted\": 12.647353305075745}, {\"actual\": 0, \"predicted\": 16.162936063021267}, {\"actual\": 0, \"predicted\": 13.957227823025468}, {\"actual\": 0, \"predicted\": 12.368816769649653}, {\"actual\": 0, \"predicted\": 12.677465362959646}, {\"actual\": 0, \"predicted\": 12.158032364462342}, {\"actual\": 0, \"predicted\": 12.421512870946481}, {\"actual\": 0, \"predicted\": 12.722633449785498}, {\"actual\": 0, \"predicted\": 12.278480595997948}, {\"actual\": 0, \"predicted\": 12.007472075042832}, {\"actual\": 0, \"predicted\": 12.760273522140375}, {\"actual\": 0, \"predicted\": 12.398928827533554}, {\"actual\": 0, \"predicted\": 12.828025652379154}, {\"actual\": 0, \"predicted\": 12.602185218249891}, {\"actual\": 0, \"predicted\": 12.700049406372571}, {\"actual\": 0, \"predicted\": 11.992416046100882}, {\"actual\": 0, \"predicted\": 13.317346592992555}, {\"actual\": 168, \"predicted\": 24.082407286487406}, {\"actual\": 0, \"predicted\": 12.700049406372571}, {\"actual\": 0, \"predicted\": 12.368816769649653}, {\"actual\": 0, \"predicted\": 12.828025652379154}, {\"actual\": 0, \"predicted\": 18.361116288546086}, {\"actual\": 0, \"predicted\": 18.443924447726815}, {\"actual\": 0, \"predicted\": 13.136674245689145}, {\"actual\": 29, \"predicted\": 12.421512870946481}, {\"actual\": 0, \"predicted\": 12.067696190810636}, {\"actual\": 0, \"predicted\": 12.248368538114047}, {\"actual\": 0, \"predicted\": 13.482962911354015}, {\"actual\": 0, \"predicted\": 13.287234535108654}, {\"actual\": 0, \"predicted\": 13.136674245689145}, {\"actual\": 0, \"predicted\": 13.422738795586211}, {\"actual\": 0, \"predicted\": 14.860589559542516}, {\"actual\": 0, \"predicted\": 12.828025652379154}, {\"actual\": 0, \"predicted\": 12.22578449470112}, {\"actual\": 0, \"predicted\": 12.195672436817219}, {\"actual\": 0, \"predicted\": 16.3661924537376}, {\"actual\": 0, \"predicted\": 12.368816769649653}, {\"actual\": 0, \"predicted\": 13.957227823025466}, {\"actual\": 0, \"predicted\": 12.910833811559883}, {\"actual\": 0, \"predicted\": 14.265876416335459}, {\"actual\": 0, \"predicted\": 13.430266810057187}, {\"actual\": 0, \"predicted\": 13.430266810057187}, {\"actual\": 69, \"predicted\": 12.398928827533554}, {\"actual\": 0, \"predicted\": 13.347458650876458}, {\"actual\": 0, \"predicted\": 12.127920306578439}, {\"actual\": 0, \"predicted\": 12.903305797088908}], \"data-6c2f40b33a3409e2ac33de581245236a\": [{\"actual\": 0.0, \"predicted\": 0.0}, {\"actual\": 891.0, \"predicted\": 135.337071662663}]}}, {\"mode\": \"vega-lite\"});\n",
       "</script>"
      ],
      "text/plain": [
       "alt.LayerChart(...)"
      ]
     },
     "execution_count": 22,
     "metadata": {},
     "output_type": "execute_result"
    }
   ],
   "source": [
    "import altair as alt\n",
    "\n",
    "scatter_df = pl.DataFrame({\n",
    "    \"actual\": y_test,\n",
    "    \"predicted\": X_test_preds\n",
    "})\n",
    "\n",
    "std_df = pl.DataFrame({\n",
    "    \"actual\": [0.0, y_test.max()],\n",
    "    \"predicted\": [0.0, X_test_preds.max()]\n",
    "})\n",
    "\n",
    "(scatter_df.plot.scatter(\"actual\", \"predicted\") + alt.Chart(std_df).mark_line(color=\"gray\", strokeDash=[5,5]).encode(x=\"actual\", y=\"predicted\")).properties(title=\"Out-of-Sample Actual vs. Predicted\")"
   ]
  }
 ],
 "metadata": {
  "kernelspec": {
   "display_name": ".venv",
   "language": "python",
   "name": "python3"
  },
  "language_info": {
   "codemirror_mode": {
    "name": "ipython",
    "version": 3
   },
   "file_extension": ".py",
   "mimetype": "text/x-python",
   "name": "python",
   "nbconvert_exporter": "python",
   "pygments_lexer": "ipython3",
   "version": "3.12.5"
  }
 },
 "nbformat": 4,
 "nbformat_minor": 2
}
