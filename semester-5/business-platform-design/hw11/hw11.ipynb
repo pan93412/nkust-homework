{
 "cells": [
  {
   "cell_type": "code",
   "execution_count": 1,
   "metadata": {},
   "outputs": [],
   "source": [
    "import polars as pl"
   ]
  },
  {
   "cell_type": "code",
   "execution_count": 2,
   "metadata": {},
   "outputs": [
    {
     "data": {
      "text/html": [
       "<div><style>\n",
       ".dataframe > thead > tr,\n",
       ".dataframe > tbody > tr {\n",
       "  text-align: right;\n",
       "  white-space: pre-wrap;\n",
       "}\n",
       "</style>\n",
       "<small>shape: (7_043, 21)</small><table border=\"1\" class=\"dataframe\"><thead><tr><th>customerID</th><th>gender</th><th>SeniorCitizen</th><th>Partner</th><th>Dependents</th><th>tenure</th><th>PhoneService</th><th>MultipleLines</th><th>InternetService</th><th>OnlineSecurity</th><th>OnlineBackup</th><th>DeviceProtection</th><th>TechSupport</th><th>StreamingTV</th><th>StreamingMovies</th><th>Contract</th><th>PaperlessBilling</th><th>PaymentMethod</th><th>MonthlyCharges</th><th>TotalCharges</th><th>Churn</th></tr><tr><td>str</td><td>str</td><td>i64</td><td>str</td><td>str</td><td>i64</td><td>str</td><td>str</td><td>str</td><td>str</td><td>str</td><td>str</td><td>str</td><td>str</td><td>str</td><td>str</td><td>str</td><td>str</td><td>f64</td><td>f64</td><td>str</td></tr></thead><tbody><tr><td>&quot;7590-VHVEG&quot;</td><td>&quot;Female&quot;</td><td>0</td><td>&quot;Yes&quot;</td><td>&quot;No&quot;</td><td>1</td><td>&quot;No&quot;</td><td>&quot;No phone service&quot;</td><td>&quot;DSL&quot;</td><td>&quot;No&quot;</td><td>&quot;Yes&quot;</td><td>&quot;No&quot;</td><td>&quot;No&quot;</td><td>&quot;No&quot;</td><td>&quot;No&quot;</td><td>&quot;Month-to-month&quot;</td><td>&quot;Yes&quot;</td><td>&quot;Electronic check&quot;</td><td>29.85</td><td>29.85</td><td>&quot;No&quot;</td></tr><tr><td>&quot;5575-GNVDE&quot;</td><td>&quot;Male&quot;</td><td>0</td><td>&quot;No&quot;</td><td>&quot;No&quot;</td><td>34</td><td>&quot;Yes&quot;</td><td>&quot;No&quot;</td><td>&quot;DSL&quot;</td><td>&quot;Yes&quot;</td><td>&quot;No&quot;</td><td>&quot;Yes&quot;</td><td>&quot;No&quot;</td><td>&quot;No&quot;</td><td>&quot;No&quot;</td><td>&quot;One year&quot;</td><td>&quot;No&quot;</td><td>&quot;Mailed check&quot;</td><td>56.95</td><td>1889.5</td><td>&quot;No&quot;</td></tr><tr><td>&quot;3668-QPYBK&quot;</td><td>&quot;Male&quot;</td><td>0</td><td>&quot;No&quot;</td><td>&quot;No&quot;</td><td>2</td><td>&quot;Yes&quot;</td><td>&quot;No&quot;</td><td>&quot;DSL&quot;</td><td>&quot;Yes&quot;</td><td>&quot;Yes&quot;</td><td>&quot;No&quot;</td><td>&quot;No&quot;</td><td>&quot;No&quot;</td><td>&quot;No&quot;</td><td>&quot;Month-to-month&quot;</td><td>&quot;Yes&quot;</td><td>&quot;Mailed check&quot;</td><td>53.85</td><td>108.15</td><td>&quot;Yes&quot;</td></tr><tr><td>&quot;7795-CFOCW&quot;</td><td>&quot;Male&quot;</td><td>0</td><td>&quot;No&quot;</td><td>&quot;No&quot;</td><td>45</td><td>&quot;No&quot;</td><td>&quot;No phone service&quot;</td><td>&quot;DSL&quot;</td><td>&quot;Yes&quot;</td><td>&quot;No&quot;</td><td>&quot;Yes&quot;</td><td>&quot;Yes&quot;</td><td>&quot;No&quot;</td><td>&quot;No&quot;</td><td>&quot;One year&quot;</td><td>&quot;No&quot;</td><td>&quot;Bank transfer (automatic)&quot;</td><td>42.3</td><td>1840.75</td><td>&quot;No&quot;</td></tr><tr><td>&quot;9237-HQITU&quot;</td><td>&quot;Female&quot;</td><td>0</td><td>&quot;No&quot;</td><td>&quot;No&quot;</td><td>2</td><td>&quot;Yes&quot;</td><td>&quot;No&quot;</td><td>&quot;Fiber optic&quot;</td><td>&quot;No&quot;</td><td>&quot;No&quot;</td><td>&quot;No&quot;</td><td>&quot;No&quot;</td><td>&quot;No&quot;</td><td>&quot;No&quot;</td><td>&quot;Month-to-month&quot;</td><td>&quot;Yes&quot;</td><td>&quot;Electronic check&quot;</td><td>70.7</td><td>151.65</td><td>&quot;Yes&quot;</td></tr><tr><td>&hellip;</td><td>&hellip;</td><td>&hellip;</td><td>&hellip;</td><td>&hellip;</td><td>&hellip;</td><td>&hellip;</td><td>&hellip;</td><td>&hellip;</td><td>&hellip;</td><td>&hellip;</td><td>&hellip;</td><td>&hellip;</td><td>&hellip;</td><td>&hellip;</td><td>&hellip;</td><td>&hellip;</td><td>&hellip;</td><td>&hellip;</td><td>&hellip;</td><td>&hellip;</td></tr><tr><td>&quot;6840-RESVB&quot;</td><td>&quot;Male&quot;</td><td>0</td><td>&quot;Yes&quot;</td><td>&quot;Yes&quot;</td><td>24</td><td>&quot;Yes&quot;</td><td>&quot;Yes&quot;</td><td>&quot;DSL&quot;</td><td>&quot;Yes&quot;</td><td>&quot;No&quot;</td><td>&quot;Yes&quot;</td><td>&quot;Yes&quot;</td><td>&quot;Yes&quot;</td><td>&quot;Yes&quot;</td><td>&quot;One year&quot;</td><td>&quot;Yes&quot;</td><td>&quot;Mailed check&quot;</td><td>84.8</td><td>1990.5</td><td>&quot;No&quot;</td></tr><tr><td>&quot;2234-XADUH&quot;</td><td>&quot;Female&quot;</td><td>0</td><td>&quot;Yes&quot;</td><td>&quot;Yes&quot;</td><td>72</td><td>&quot;Yes&quot;</td><td>&quot;Yes&quot;</td><td>&quot;Fiber optic&quot;</td><td>&quot;No&quot;</td><td>&quot;Yes&quot;</td><td>&quot;Yes&quot;</td><td>&quot;No&quot;</td><td>&quot;Yes&quot;</td><td>&quot;Yes&quot;</td><td>&quot;One year&quot;</td><td>&quot;Yes&quot;</td><td>&quot;Credit card (automatic)&quot;</td><td>103.2</td><td>7362.9</td><td>&quot;No&quot;</td></tr><tr><td>&quot;4801-JZAZL&quot;</td><td>&quot;Female&quot;</td><td>0</td><td>&quot;Yes&quot;</td><td>&quot;Yes&quot;</td><td>11</td><td>&quot;No&quot;</td><td>&quot;No phone service&quot;</td><td>&quot;DSL&quot;</td><td>&quot;Yes&quot;</td><td>&quot;No&quot;</td><td>&quot;No&quot;</td><td>&quot;No&quot;</td><td>&quot;No&quot;</td><td>&quot;No&quot;</td><td>&quot;Month-to-month&quot;</td><td>&quot;Yes&quot;</td><td>&quot;Electronic check&quot;</td><td>29.6</td><td>346.45</td><td>&quot;No&quot;</td></tr><tr><td>&quot;8361-LTMKD&quot;</td><td>&quot;Male&quot;</td><td>1</td><td>&quot;Yes&quot;</td><td>&quot;No&quot;</td><td>4</td><td>&quot;Yes&quot;</td><td>&quot;Yes&quot;</td><td>&quot;Fiber optic&quot;</td><td>&quot;No&quot;</td><td>&quot;No&quot;</td><td>&quot;No&quot;</td><td>&quot;No&quot;</td><td>&quot;No&quot;</td><td>&quot;No&quot;</td><td>&quot;Month-to-month&quot;</td><td>&quot;Yes&quot;</td><td>&quot;Mailed check&quot;</td><td>74.4</td><td>306.6</td><td>&quot;Yes&quot;</td></tr><tr><td>&quot;3186-AJIEK&quot;</td><td>&quot;Male&quot;</td><td>0</td><td>&quot;No&quot;</td><td>&quot;No&quot;</td><td>66</td><td>&quot;Yes&quot;</td><td>&quot;No&quot;</td><td>&quot;Fiber optic&quot;</td><td>&quot;Yes&quot;</td><td>&quot;No&quot;</td><td>&quot;Yes&quot;</td><td>&quot;Yes&quot;</td><td>&quot;Yes&quot;</td><td>&quot;Yes&quot;</td><td>&quot;Two year&quot;</td><td>&quot;Yes&quot;</td><td>&quot;Bank transfer (automatic)&quot;</td><td>105.65</td><td>6844.5</td><td>&quot;No&quot;</td></tr></tbody></table></div>"
      ],
      "text/plain": [
       "shape: (7_043, 21)\n",
       "┌────────────┬────────┬─────────────┬─────────┬───┬─────────────┬─────────────┬────────────┬───────┐\n",
       "│ customerID ┆ gender ┆ SeniorCitiz ┆ Partner ┆ … ┆ PaymentMeth ┆ MonthlyChar ┆ TotalCharg ┆ Churn │\n",
       "│ ---        ┆ ---    ┆ en          ┆ ---     ┆   ┆ od          ┆ ges         ┆ es         ┆ ---   │\n",
       "│ str        ┆ str    ┆ ---         ┆ str     ┆   ┆ ---         ┆ ---         ┆ ---        ┆ str   │\n",
       "│            ┆        ┆ i64         ┆         ┆   ┆ str         ┆ f64         ┆ f64        ┆       │\n",
       "╞════════════╪════════╪═════════════╪═════════╪═══╪═════════════╪═════════════╪════════════╪═══════╡\n",
       "│ 7590-VHVEG ┆ Female ┆ 0           ┆ Yes     ┆ … ┆ Electronic  ┆ 29.85       ┆ 29.85      ┆ No    │\n",
       "│            ┆        ┆             ┆         ┆   ┆ check       ┆             ┆            ┆       │\n",
       "│ 5575-GNVDE ┆ Male   ┆ 0           ┆ No      ┆ … ┆ Mailed      ┆ 56.95       ┆ 1889.5     ┆ No    │\n",
       "│            ┆        ┆             ┆         ┆   ┆ check       ┆             ┆            ┆       │\n",
       "│ 3668-QPYBK ┆ Male   ┆ 0           ┆ No      ┆ … ┆ Mailed      ┆ 53.85       ┆ 108.15     ┆ Yes   │\n",
       "│            ┆        ┆             ┆         ┆   ┆ check       ┆             ┆            ┆       │\n",
       "│ 7795-CFOCW ┆ Male   ┆ 0           ┆ No      ┆ … ┆ Bank        ┆ 42.3        ┆ 1840.75    ┆ No    │\n",
       "│            ┆        ┆             ┆         ┆   ┆ transfer    ┆             ┆            ┆       │\n",
       "│            ┆        ┆             ┆         ┆   ┆ (automatic) ┆             ┆            ┆       │\n",
       "│ 9237-HQITU ┆ Female ┆ 0           ┆ No      ┆ … ┆ Electronic  ┆ 70.7        ┆ 151.65     ┆ Yes   │\n",
       "│            ┆        ┆             ┆         ┆   ┆ check       ┆             ┆            ┆       │\n",
       "│ …          ┆ …      ┆ …           ┆ …       ┆ … ┆ …           ┆ …           ┆ …          ┆ …     │\n",
       "│ 6840-RESVB ┆ Male   ┆ 0           ┆ Yes     ┆ … ┆ Mailed      ┆ 84.8        ┆ 1990.5     ┆ No    │\n",
       "│            ┆        ┆             ┆         ┆   ┆ check       ┆             ┆            ┆       │\n",
       "│ 2234-XADUH ┆ Female ┆ 0           ┆ Yes     ┆ … ┆ Credit card ┆ 103.2       ┆ 7362.9     ┆ No    │\n",
       "│            ┆        ┆             ┆         ┆   ┆ (automatic) ┆             ┆            ┆       │\n",
       "│ 4801-JZAZL ┆ Female ┆ 0           ┆ Yes     ┆ … ┆ Electronic  ┆ 29.6        ┆ 346.45     ┆ No    │\n",
       "│            ┆        ┆             ┆         ┆   ┆ check       ┆             ┆            ┆       │\n",
       "│ 8361-LTMKD ┆ Male   ┆ 1           ┆ Yes     ┆ … ┆ Mailed      ┆ 74.4        ┆ 306.6      ┆ Yes   │\n",
       "│            ┆        ┆             ┆         ┆   ┆ check       ┆             ┆            ┆       │\n",
       "│ 3186-AJIEK ┆ Male   ┆ 0           ┆ No      ┆ … ┆ Bank        ┆ 105.65      ┆ 6844.5     ┆ No    │\n",
       "│            ┆        ┆             ┆         ┆   ┆ transfer    ┆             ┆            ┆       │\n",
       "│            ┆        ┆             ┆         ┆   ┆ (automatic) ┆             ┆            ┆       │\n",
       "└────────────┴────────┴─────────────┴─────────┴───┴─────────────┴─────────────┴────────────┴───────┘"
      ]
     },
     "execution_count": 2,
     "metadata": {},
     "output_type": "execute_result"
    }
   ],
   "source": [
    "df = pl.read_excel(\"telco-customer.xlsx\")\n",
    "df"
   ]
  },
  {
   "cell_type": "markdown",
   "metadata": {},
   "source": [
    "## Question 1\n",
    "\n",
    "將目標變數顧客流失率 (Churn) 編碼為0與1。"
   ]
  },
  {
   "cell_type": "code",
   "execution_count": 3,
   "metadata": {},
   "outputs": [
    {
     "data": {
      "text/html": [
       "<div><style>\n",
       ".dataframe > thead > tr,\n",
       ".dataframe > tbody > tr {\n",
       "  text-align: right;\n",
       "  white-space: pre-wrap;\n",
       "}\n",
       "</style>\n",
       "<small>shape: (7_043, 21)</small><table border=\"1\" class=\"dataframe\"><thead><tr><th>customerID</th><th>gender</th><th>SeniorCitizen</th><th>Partner</th><th>Dependents</th><th>tenure</th><th>PhoneService</th><th>MultipleLines</th><th>InternetService</th><th>OnlineSecurity</th><th>OnlineBackup</th><th>DeviceProtection</th><th>TechSupport</th><th>StreamingTV</th><th>StreamingMovies</th><th>Contract</th><th>PaperlessBilling</th><th>PaymentMethod</th><th>MonthlyCharges</th><th>TotalCharges</th><th>Churn</th></tr><tr><td>str</td><td>str</td><td>i64</td><td>str</td><td>str</td><td>i64</td><td>str</td><td>str</td><td>str</td><td>str</td><td>str</td><td>str</td><td>str</td><td>str</td><td>str</td><td>str</td><td>str</td><td>str</td><td>f64</td><td>f64</td><td>i32</td></tr></thead><tbody><tr><td>&quot;7590-VHVEG&quot;</td><td>&quot;Female&quot;</td><td>0</td><td>&quot;Yes&quot;</td><td>&quot;No&quot;</td><td>1</td><td>&quot;No&quot;</td><td>&quot;No phone service&quot;</td><td>&quot;DSL&quot;</td><td>&quot;No&quot;</td><td>&quot;Yes&quot;</td><td>&quot;No&quot;</td><td>&quot;No&quot;</td><td>&quot;No&quot;</td><td>&quot;No&quot;</td><td>&quot;Month-to-month&quot;</td><td>&quot;Yes&quot;</td><td>&quot;Electronic check&quot;</td><td>29.85</td><td>29.85</td><td>0</td></tr><tr><td>&quot;5575-GNVDE&quot;</td><td>&quot;Male&quot;</td><td>0</td><td>&quot;No&quot;</td><td>&quot;No&quot;</td><td>34</td><td>&quot;Yes&quot;</td><td>&quot;No&quot;</td><td>&quot;DSL&quot;</td><td>&quot;Yes&quot;</td><td>&quot;No&quot;</td><td>&quot;Yes&quot;</td><td>&quot;No&quot;</td><td>&quot;No&quot;</td><td>&quot;No&quot;</td><td>&quot;One year&quot;</td><td>&quot;No&quot;</td><td>&quot;Mailed check&quot;</td><td>56.95</td><td>1889.5</td><td>0</td></tr><tr><td>&quot;3668-QPYBK&quot;</td><td>&quot;Male&quot;</td><td>0</td><td>&quot;No&quot;</td><td>&quot;No&quot;</td><td>2</td><td>&quot;Yes&quot;</td><td>&quot;No&quot;</td><td>&quot;DSL&quot;</td><td>&quot;Yes&quot;</td><td>&quot;Yes&quot;</td><td>&quot;No&quot;</td><td>&quot;No&quot;</td><td>&quot;No&quot;</td><td>&quot;No&quot;</td><td>&quot;Month-to-month&quot;</td><td>&quot;Yes&quot;</td><td>&quot;Mailed check&quot;</td><td>53.85</td><td>108.15</td><td>1</td></tr><tr><td>&quot;7795-CFOCW&quot;</td><td>&quot;Male&quot;</td><td>0</td><td>&quot;No&quot;</td><td>&quot;No&quot;</td><td>45</td><td>&quot;No&quot;</td><td>&quot;No phone service&quot;</td><td>&quot;DSL&quot;</td><td>&quot;Yes&quot;</td><td>&quot;No&quot;</td><td>&quot;Yes&quot;</td><td>&quot;Yes&quot;</td><td>&quot;No&quot;</td><td>&quot;No&quot;</td><td>&quot;One year&quot;</td><td>&quot;No&quot;</td><td>&quot;Bank transfer (automatic)&quot;</td><td>42.3</td><td>1840.75</td><td>0</td></tr><tr><td>&quot;9237-HQITU&quot;</td><td>&quot;Female&quot;</td><td>0</td><td>&quot;No&quot;</td><td>&quot;No&quot;</td><td>2</td><td>&quot;Yes&quot;</td><td>&quot;No&quot;</td><td>&quot;Fiber optic&quot;</td><td>&quot;No&quot;</td><td>&quot;No&quot;</td><td>&quot;No&quot;</td><td>&quot;No&quot;</td><td>&quot;No&quot;</td><td>&quot;No&quot;</td><td>&quot;Month-to-month&quot;</td><td>&quot;Yes&quot;</td><td>&quot;Electronic check&quot;</td><td>70.7</td><td>151.65</td><td>1</td></tr><tr><td>&hellip;</td><td>&hellip;</td><td>&hellip;</td><td>&hellip;</td><td>&hellip;</td><td>&hellip;</td><td>&hellip;</td><td>&hellip;</td><td>&hellip;</td><td>&hellip;</td><td>&hellip;</td><td>&hellip;</td><td>&hellip;</td><td>&hellip;</td><td>&hellip;</td><td>&hellip;</td><td>&hellip;</td><td>&hellip;</td><td>&hellip;</td><td>&hellip;</td><td>&hellip;</td></tr><tr><td>&quot;6840-RESVB&quot;</td><td>&quot;Male&quot;</td><td>0</td><td>&quot;Yes&quot;</td><td>&quot;Yes&quot;</td><td>24</td><td>&quot;Yes&quot;</td><td>&quot;Yes&quot;</td><td>&quot;DSL&quot;</td><td>&quot;Yes&quot;</td><td>&quot;No&quot;</td><td>&quot;Yes&quot;</td><td>&quot;Yes&quot;</td><td>&quot;Yes&quot;</td><td>&quot;Yes&quot;</td><td>&quot;One year&quot;</td><td>&quot;Yes&quot;</td><td>&quot;Mailed check&quot;</td><td>84.8</td><td>1990.5</td><td>0</td></tr><tr><td>&quot;2234-XADUH&quot;</td><td>&quot;Female&quot;</td><td>0</td><td>&quot;Yes&quot;</td><td>&quot;Yes&quot;</td><td>72</td><td>&quot;Yes&quot;</td><td>&quot;Yes&quot;</td><td>&quot;Fiber optic&quot;</td><td>&quot;No&quot;</td><td>&quot;Yes&quot;</td><td>&quot;Yes&quot;</td><td>&quot;No&quot;</td><td>&quot;Yes&quot;</td><td>&quot;Yes&quot;</td><td>&quot;One year&quot;</td><td>&quot;Yes&quot;</td><td>&quot;Credit card (automatic)&quot;</td><td>103.2</td><td>7362.9</td><td>0</td></tr><tr><td>&quot;4801-JZAZL&quot;</td><td>&quot;Female&quot;</td><td>0</td><td>&quot;Yes&quot;</td><td>&quot;Yes&quot;</td><td>11</td><td>&quot;No&quot;</td><td>&quot;No phone service&quot;</td><td>&quot;DSL&quot;</td><td>&quot;Yes&quot;</td><td>&quot;No&quot;</td><td>&quot;No&quot;</td><td>&quot;No&quot;</td><td>&quot;No&quot;</td><td>&quot;No&quot;</td><td>&quot;Month-to-month&quot;</td><td>&quot;Yes&quot;</td><td>&quot;Electronic check&quot;</td><td>29.6</td><td>346.45</td><td>0</td></tr><tr><td>&quot;8361-LTMKD&quot;</td><td>&quot;Male&quot;</td><td>1</td><td>&quot;Yes&quot;</td><td>&quot;No&quot;</td><td>4</td><td>&quot;Yes&quot;</td><td>&quot;Yes&quot;</td><td>&quot;Fiber optic&quot;</td><td>&quot;No&quot;</td><td>&quot;No&quot;</td><td>&quot;No&quot;</td><td>&quot;No&quot;</td><td>&quot;No&quot;</td><td>&quot;No&quot;</td><td>&quot;Month-to-month&quot;</td><td>&quot;Yes&quot;</td><td>&quot;Mailed check&quot;</td><td>74.4</td><td>306.6</td><td>1</td></tr><tr><td>&quot;3186-AJIEK&quot;</td><td>&quot;Male&quot;</td><td>0</td><td>&quot;No&quot;</td><td>&quot;No&quot;</td><td>66</td><td>&quot;Yes&quot;</td><td>&quot;No&quot;</td><td>&quot;Fiber optic&quot;</td><td>&quot;Yes&quot;</td><td>&quot;No&quot;</td><td>&quot;Yes&quot;</td><td>&quot;Yes&quot;</td><td>&quot;Yes&quot;</td><td>&quot;Yes&quot;</td><td>&quot;Two year&quot;</td><td>&quot;Yes&quot;</td><td>&quot;Bank transfer (automatic)&quot;</td><td>105.65</td><td>6844.5</td><td>0</td></tr></tbody></table></div>"
      ],
      "text/plain": [
       "shape: (7_043, 21)\n",
       "┌────────────┬────────┬─────────────┬─────────┬───┬─────────────┬─────────────┬────────────┬───────┐\n",
       "│ customerID ┆ gender ┆ SeniorCitiz ┆ Partner ┆ … ┆ PaymentMeth ┆ MonthlyChar ┆ TotalCharg ┆ Churn │\n",
       "│ ---        ┆ ---    ┆ en          ┆ ---     ┆   ┆ od          ┆ ges         ┆ es         ┆ ---   │\n",
       "│ str        ┆ str    ┆ ---         ┆ str     ┆   ┆ ---         ┆ ---         ┆ ---        ┆ i32   │\n",
       "│            ┆        ┆ i64         ┆         ┆   ┆ str         ┆ f64         ┆ f64        ┆       │\n",
       "╞════════════╪════════╪═════════════╪═════════╪═══╪═════════════╪═════════════╪════════════╪═══════╡\n",
       "│ 7590-VHVEG ┆ Female ┆ 0           ┆ Yes     ┆ … ┆ Electronic  ┆ 29.85       ┆ 29.85      ┆ 0     │\n",
       "│            ┆        ┆             ┆         ┆   ┆ check       ┆             ┆            ┆       │\n",
       "│ 5575-GNVDE ┆ Male   ┆ 0           ┆ No      ┆ … ┆ Mailed      ┆ 56.95       ┆ 1889.5     ┆ 0     │\n",
       "│            ┆        ┆             ┆         ┆   ┆ check       ┆             ┆            ┆       │\n",
       "│ 3668-QPYBK ┆ Male   ┆ 0           ┆ No      ┆ … ┆ Mailed      ┆ 53.85       ┆ 108.15     ┆ 1     │\n",
       "│            ┆        ┆             ┆         ┆   ┆ check       ┆             ┆            ┆       │\n",
       "│ 7795-CFOCW ┆ Male   ┆ 0           ┆ No      ┆ … ┆ Bank        ┆ 42.3        ┆ 1840.75    ┆ 0     │\n",
       "│            ┆        ┆             ┆         ┆   ┆ transfer    ┆             ┆            ┆       │\n",
       "│            ┆        ┆             ┆         ┆   ┆ (automatic) ┆             ┆            ┆       │\n",
       "│ 9237-HQITU ┆ Female ┆ 0           ┆ No      ┆ … ┆ Electronic  ┆ 70.7        ┆ 151.65     ┆ 1     │\n",
       "│            ┆        ┆             ┆         ┆   ┆ check       ┆             ┆            ┆       │\n",
       "│ …          ┆ …      ┆ …           ┆ …       ┆ … ┆ …           ┆ …           ┆ …          ┆ …     │\n",
       "│ 6840-RESVB ┆ Male   ┆ 0           ┆ Yes     ┆ … ┆ Mailed      ┆ 84.8        ┆ 1990.5     ┆ 0     │\n",
       "│            ┆        ┆             ┆         ┆   ┆ check       ┆             ┆            ┆       │\n",
       "│ 2234-XADUH ┆ Female ┆ 0           ┆ Yes     ┆ … ┆ Credit card ┆ 103.2       ┆ 7362.9     ┆ 0     │\n",
       "│            ┆        ┆             ┆         ┆   ┆ (automatic) ┆             ┆            ┆       │\n",
       "│ 4801-JZAZL ┆ Female ┆ 0           ┆ Yes     ┆ … ┆ Electronic  ┆ 29.6        ┆ 346.45     ┆ 0     │\n",
       "│            ┆        ┆             ┆         ┆   ┆ check       ┆             ┆            ┆       │\n",
       "│ 8361-LTMKD ┆ Male   ┆ 1           ┆ Yes     ┆ … ┆ Mailed      ┆ 74.4        ┆ 306.6      ┆ 1     │\n",
       "│            ┆        ┆             ┆         ┆   ┆ check       ┆             ┆            ┆       │\n",
       "│ 3186-AJIEK ┆ Male   ┆ 0           ┆ No      ┆ … ┆ Bank        ┆ 105.65      ┆ 6844.5     ┆ 0     │\n",
       "│            ┆        ┆             ┆         ┆   ┆ transfer    ┆             ┆            ┆       │\n",
       "│            ┆        ┆             ┆         ┆   ┆ (automatic) ┆             ┆            ┆       │\n",
       "└────────────┴────────┴─────────────┴─────────┴───┴─────────────┴─────────────┴────────────┴───────┘"
      ]
     },
     "execution_count": 3,
     "metadata": {},
     "output_type": "execute_result"
    }
   ],
   "source": [
    "df = df.with_columns(\n",
    "    Churn=pl.when(df[\"Churn\"] == \"Yes\").then(1).otherwise(0)\n",
    ")\n",
    "\n",
    "df"
   ]
  },
  {
   "cell_type": "markdown",
   "metadata": {},
   "source": [
    "## Question 2\n",
    "\n",
    "列出顧客流失率。"
   ]
  },
  {
   "cell_type": "code",
   "execution_count": 4,
   "metadata": {},
   "outputs": [
    {
     "name": "stdout",
     "output_type": "stream",
     "text": [
      "流失率為：26.54%\n"
     ]
    }
   ],
   "source": [
    "print(\"流失率為：{:.2%}\".format(df['Churn'].sum() / df['Churn'].len()))"
   ]
  },
  {
   "cell_type": "markdown",
   "metadata": {},
   "source": [
    "## Question 3\n",
    "\n",
    "請將 TotalCharges 裡的 11 筆空白值刪除。"
   ]
  },
  {
   "cell_type": "code",
   "execution_count": 5,
   "metadata": {},
   "outputs": [
    {
     "data": {
      "text/html": [
       "<div><style>\n",
       ".dataframe > thead > tr,\n",
       ".dataframe > tbody > tr {\n",
       "  text-align: right;\n",
       "  white-space: pre-wrap;\n",
       "}\n",
       "</style>\n",
       "<small>shape: (7_043,)</small><table border=\"1\" class=\"dataframe\"><thead><tr><th>TotalCharges</th></tr><tr><td>f64</td></tr></thead><tbody><tr><td>null</td></tr><tr><td>null</td></tr><tr><td>null</td></tr><tr><td>null</td></tr><tr><td>null</td></tr><tr><td>&hellip;</td></tr><tr><td>8564.75</td></tr><tr><td>8594.4</td></tr><tr><td>8670.1</td></tr><tr><td>8672.45</td></tr><tr><td>8684.8</td></tr></tbody></table></div>"
      ],
      "text/plain": [
       "shape: (7_043,)\n",
       "Series: 'TotalCharges' [f64]\n",
       "[\n",
       "\tnull\n",
       "\tnull\n",
       "\tnull\n",
       "\tnull\n",
       "\tnull\n",
       "\t…\n",
       "\t8564.75\n",
       "\t8594.4\n",
       "\t8670.1\n",
       "\t8672.45\n",
       "\t8684.8\n",
       "]"
      ]
     },
     "execution_count": 5,
     "metadata": {},
     "output_type": "execute_result"
    }
   ],
   "source": [
    "# Check the empty values in TotalCharges.\n",
    "df['TotalCharges'].sort()"
   ]
  },
  {
   "cell_type": "code",
   "execution_count": 6,
   "metadata": {},
   "outputs": [
    {
     "data": {
      "text/html": [
       "<div><style>\n",
       ".dataframe > thead > tr,\n",
       ".dataframe > tbody > tr {\n",
       "  text-align: right;\n",
       "  white-space: pre-wrap;\n",
       "}\n",
       "</style>\n",
       "<small>shape: (7_032, 21)</small><table border=\"1\" class=\"dataframe\"><thead><tr><th>customerID</th><th>gender</th><th>SeniorCitizen</th><th>Partner</th><th>Dependents</th><th>tenure</th><th>PhoneService</th><th>MultipleLines</th><th>InternetService</th><th>OnlineSecurity</th><th>OnlineBackup</th><th>DeviceProtection</th><th>TechSupport</th><th>StreamingTV</th><th>StreamingMovies</th><th>Contract</th><th>PaperlessBilling</th><th>PaymentMethod</th><th>MonthlyCharges</th><th>TotalCharges</th><th>Churn</th></tr><tr><td>str</td><td>str</td><td>i64</td><td>str</td><td>str</td><td>i64</td><td>str</td><td>str</td><td>str</td><td>str</td><td>str</td><td>str</td><td>str</td><td>str</td><td>str</td><td>str</td><td>str</td><td>str</td><td>f64</td><td>f64</td><td>i32</td></tr></thead><tbody><tr><td>&quot;7590-VHVEG&quot;</td><td>&quot;Female&quot;</td><td>0</td><td>&quot;Yes&quot;</td><td>&quot;No&quot;</td><td>1</td><td>&quot;No&quot;</td><td>&quot;No phone service&quot;</td><td>&quot;DSL&quot;</td><td>&quot;No&quot;</td><td>&quot;Yes&quot;</td><td>&quot;No&quot;</td><td>&quot;No&quot;</td><td>&quot;No&quot;</td><td>&quot;No&quot;</td><td>&quot;Month-to-month&quot;</td><td>&quot;Yes&quot;</td><td>&quot;Electronic check&quot;</td><td>29.85</td><td>29.85</td><td>0</td></tr><tr><td>&quot;5575-GNVDE&quot;</td><td>&quot;Male&quot;</td><td>0</td><td>&quot;No&quot;</td><td>&quot;No&quot;</td><td>34</td><td>&quot;Yes&quot;</td><td>&quot;No&quot;</td><td>&quot;DSL&quot;</td><td>&quot;Yes&quot;</td><td>&quot;No&quot;</td><td>&quot;Yes&quot;</td><td>&quot;No&quot;</td><td>&quot;No&quot;</td><td>&quot;No&quot;</td><td>&quot;One year&quot;</td><td>&quot;No&quot;</td><td>&quot;Mailed check&quot;</td><td>56.95</td><td>1889.5</td><td>0</td></tr><tr><td>&quot;3668-QPYBK&quot;</td><td>&quot;Male&quot;</td><td>0</td><td>&quot;No&quot;</td><td>&quot;No&quot;</td><td>2</td><td>&quot;Yes&quot;</td><td>&quot;No&quot;</td><td>&quot;DSL&quot;</td><td>&quot;Yes&quot;</td><td>&quot;Yes&quot;</td><td>&quot;No&quot;</td><td>&quot;No&quot;</td><td>&quot;No&quot;</td><td>&quot;No&quot;</td><td>&quot;Month-to-month&quot;</td><td>&quot;Yes&quot;</td><td>&quot;Mailed check&quot;</td><td>53.85</td><td>108.15</td><td>1</td></tr><tr><td>&quot;7795-CFOCW&quot;</td><td>&quot;Male&quot;</td><td>0</td><td>&quot;No&quot;</td><td>&quot;No&quot;</td><td>45</td><td>&quot;No&quot;</td><td>&quot;No phone service&quot;</td><td>&quot;DSL&quot;</td><td>&quot;Yes&quot;</td><td>&quot;No&quot;</td><td>&quot;Yes&quot;</td><td>&quot;Yes&quot;</td><td>&quot;No&quot;</td><td>&quot;No&quot;</td><td>&quot;One year&quot;</td><td>&quot;No&quot;</td><td>&quot;Bank transfer (automatic)&quot;</td><td>42.3</td><td>1840.75</td><td>0</td></tr><tr><td>&quot;9237-HQITU&quot;</td><td>&quot;Female&quot;</td><td>0</td><td>&quot;No&quot;</td><td>&quot;No&quot;</td><td>2</td><td>&quot;Yes&quot;</td><td>&quot;No&quot;</td><td>&quot;Fiber optic&quot;</td><td>&quot;No&quot;</td><td>&quot;No&quot;</td><td>&quot;No&quot;</td><td>&quot;No&quot;</td><td>&quot;No&quot;</td><td>&quot;No&quot;</td><td>&quot;Month-to-month&quot;</td><td>&quot;Yes&quot;</td><td>&quot;Electronic check&quot;</td><td>70.7</td><td>151.65</td><td>1</td></tr><tr><td>&hellip;</td><td>&hellip;</td><td>&hellip;</td><td>&hellip;</td><td>&hellip;</td><td>&hellip;</td><td>&hellip;</td><td>&hellip;</td><td>&hellip;</td><td>&hellip;</td><td>&hellip;</td><td>&hellip;</td><td>&hellip;</td><td>&hellip;</td><td>&hellip;</td><td>&hellip;</td><td>&hellip;</td><td>&hellip;</td><td>&hellip;</td><td>&hellip;</td><td>&hellip;</td></tr><tr><td>&quot;6840-RESVB&quot;</td><td>&quot;Male&quot;</td><td>0</td><td>&quot;Yes&quot;</td><td>&quot;Yes&quot;</td><td>24</td><td>&quot;Yes&quot;</td><td>&quot;Yes&quot;</td><td>&quot;DSL&quot;</td><td>&quot;Yes&quot;</td><td>&quot;No&quot;</td><td>&quot;Yes&quot;</td><td>&quot;Yes&quot;</td><td>&quot;Yes&quot;</td><td>&quot;Yes&quot;</td><td>&quot;One year&quot;</td><td>&quot;Yes&quot;</td><td>&quot;Mailed check&quot;</td><td>84.8</td><td>1990.5</td><td>0</td></tr><tr><td>&quot;2234-XADUH&quot;</td><td>&quot;Female&quot;</td><td>0</td><td>&quot;Yes&quot;</td><td>&quot;Yes&quot;</td><td>72</td><td>&quot;Yes&quot;</td><td>&quot;Yes&quot;</td><td>&quot;Fiber optic&quot;</td><td>&quot;No&quot;</td><td>&quot;Yes&quot;</td><td>&quot;Yes&quot;</td><td>&quot;No&quot;</td><td>&quot;Yes&quot;</td><td>&quot;Yes&quot;</td><td>&quot;One year&quot;</td><td>&quot;Yes&quot;</td><td>&quot;Credit card (automatic)&quot;</td><td>103.2</td><td>7362.9</td><td>0</td></tr><tr><td>&quot;4801-JZAZL&quot;</td><td>&quot;Female&quot;</td><td>0</td><td>&quot;Yes&quot;</td><td>&quot;Yes&quot;</td><td>11</td><td>&quot;No&quot;</td><td>&quot;No phone service&quot;</td><td>&quot;DSL&quot;</td><td>&quot;Yes&quot;</td><td>&quot;No&quot;</td><td>&quot;No&quot;</td><td>&quot;No&quot;</td><td>&quot;No&quot;</td><td>&quot;No&quot;</td><td>&quot;Month-to-month&quot;</td><td>&quot;Yes&quot;</td><td>&quot;Electronic check&quot;</td><td>29.6</td><td>346.45</td><td>0</td></tr><tr><td>&quot;8361-LTMKD&quot;</td><td>&quot;Male&quot;</td><td>1</td><td>&quot;Yes&quot;</td><td>&quot;No&quot;</td><td>4</td><td>&quot;Yes&quot;</td><td>&quot;Yes&quot;</td><td>&quot;Fiber optic&quot;</td><td>&quot;No&quot;</td><td>&quot;No&quot;</td><td>&quot;No&quot;</td><td>&quot;No&quot;</td><td>&quot;No&quot;</td><td>&quot;No&quot;</td><td>&quot;Month-to-month&quot;</td><td>&quot;Yes&quot;</td><td>&quot;Mailed check&quot;</td><td>74.4</td><td>306.6</td><td>1</td></tr><tr><td>&quot;3186-AJIEK&quot;</td><td>&quot;Male&quot;</td><td>0</td><td>&quot;No&quot;</td><td>&quot;No&quot;</td><td>66</td><td>&quot;Yes&quot;</td><td>&quot;No&quot;</td><td>&quot;Fiber optic&quot;</td><td>&quot;Yes&quot;</td><td>&quot;No&quot;</td><td>&quot;Yes&quot;</td><td>&quot;Yes&quot;</td><td>&quot;Yes&quot;</td><td>&quot;Yes&quot;</td><td>&quot;Two year&quot;</td><td>&quot;Yes&quot;</td><td>&quot;Bank transfer (automatic)&quot;</td><td>105.65</td><td>6844.5</td><td>0</td></tr></tbody></table></div>"
      ],
      "text/plain": [
       "shape: (7_032, 21)\n",
       "┌────────────┬────────┬─────────────┬─────────┬───┬─────────────┬─────────────┬────────────┬───────┐\n",
       "│ customerID ┆ gender ┆ SeniorCitiz ┆ Partner ┆ … ┆ PaymentMeth ┆ MonthlyChar ┆ TotalCharg ┆ Churn │\n",
       "│ ---        ┆ ---    ┆ en          ┆ ---     ┆   ┆ od          ┆ ges         ┆ es         ┆ ---   │\n",
       "│ str        ┆ str    ┆ ---         ┆ str     ┆   ┆ ---         ┆ ---         ┆ ---        ┆ i32   │\n",
       "│            ┆        ┆ i64         ┆         ┆   ┆ str         ┆ f64         ┆ f64        ┆       │\n",
       "╞════════════╪════════╪═════════════╪═════════╪═══╪═════════════╪═════════════╪════════════╪═══════╡\n",
       "│ 7590-VHVEG ┆ Female ┆ 0           ┆ Yes     ┆ … ┆ Electronic  ┆ 29.85       ┆ 29.85      ┆ 0     │\n",
       "│            ┆        ┆             ┆         ┆   ┆ check       ┆             ┆            ┆       │\n",
       "│ 5575-GNVDE ┆ Male   ┆ 0           ┆ No      ┆ … ┆ Mailed      ┆ 56.95       ┆ 1889.5     ┆ 0     │\n",
       "│            ┆        ┆             ┆         ┆   ┆ check       ┆             ┆            ┆       │\n",
       "│ 3668-QPYBK ┆ Male   ┆ 0           ┆ No      ┆ … ┆ Mailed      ┆ 53.85       ┆ 108.15     ┆ 1     │\n",
       "│            ┆        ┆             ┆         ┆   ┆ check       ┆             ┆            ┆       │\n",
       "│ 7795-CFOCW ┆ Male   ┆ 0           ┆ No      ┆ … ┆ Bank        ┆ 42.3        ┆ 1840.75    ┆ 0     │\n",
       "│            ┆        ┆             ┆         ┆   ┆ transfer    ┆             ┆            ┆       │\n",
       "│            ┆        ┆             ┆         ┆   ┆ (automatic) ┆             ┆            ┆       │\n",
       "│ 9237-HQITU ┆ Female ┆ 0           ┆ No      ┆ … ┆ Electronic  ┆ 70.7        ┆ 151.65     ┆ 1     │\n",
       "│            ┆        ┆             ┆         ┆   ┆ check       ┆             ┆            ┆       │\n",
       "│ …          ┆ …      ┆ …           ┆ …       ┆ … ┆ …           ┆ …           ┆ …          ┆ …     │\n",
       "│ 6840-RESVB ┆ Male   ┆ 0           ┆ Yes     ┆ … ┆ Mailed      ┆ 84.8        ┆ 1990.5     ┆ 0     │\n",
       "│            ┆        ┆             ┆         ┆   ┆ check       ┆             ┆            ┆       │\n",
       "│ 2234-XADUH ┆ Female ┆ 0           ┆ Yes     ┆ … ┆ Credit card ┆ 103.2       ┆ 7362.9     ┆ 0     │\n",
       "│            ┆        ┆             ┆         ┆   ┆ (automatic) ┆             ┆            ┆       │\n",
       "│ 4801-JZAZL ┆ Female ┆ 0           ┆ Yes     ┆ … ┆ Electronic  ┆ 29.6        ┆ 346.45     ┆ 0     │\n",
       "│            ┆        ┆             ┆         ┆   ┆ check       ┆             ┆            ┆       │\n",
       "│ 8361-LTMKD ┆ Male   ┆ 1           ┆ Yes     ┆ … ┆ Mailed      ┆ 74.4        ┆ 306.6      ┆ 1     │\n",
       "│            ┆        ┆             ┆         ┆   ┆ check       ┆             ┆            ┆       │\n",
       "│ 3186-AJIEK ┆ Male   ┆ 0           ┆ No      ┆ … ┆ Bank        ┆ 105.65      ┆ 6844.5     ┆ 0     │\n",
       "│            ┆        ┆             ┆         ┆   ┆ transfer    ┆             ┆            ┆       │\n",
       "│            ┆        ┆             ┆         ┆   ┆ (automatic) ┆             ┆            ┆       │\n",
       "└────────────┴────────┴─────────────┴─────────┴───┴─────────────┴─────────────┴────────────┴───────┘"
      ]
     },
     "execution_count": 6,
     "metadata": {},
     "output_type": "execute_result"
    }
   ],
   "source": [
    "# Remove the empty values.\n",
    "df = df.drop_nulls(['TotalCharges'])\n",
    "df"
   ]
  },
  {
   "cell_type": "markdown",
   "metadata": {},
   "source": [
    "## Question 4\n",
    "\n",
    "將三個連續變數（`tenure`, `MonthlyCharges`, `TotalCharges`）使用 `StandardScaler` 套件標準化。"
   ]
  },
  {
   "cell_type": "code",
   "execution_count": 7,
   "metadata": {},
   "outputs": [],
   "source": [
    "from sklearn.preprocessing import StandardScaler"
   ]
  },
  {
   "cell_type": "code",
   "execution_count": 8,
   "metadata": {},
   "outputs": [
    {
     "data": {
      "text/html": [
       "<div><style>\n",
       ".dataframe > thead > tr,\n",
       ".dataframe > tbody > tr {\n",
       "  text-align: right;\n",
       "  white-space: pre-wrap;\n",
       "}\n",
       "</style>\n",
       "<small>shape: (7_032, 3)</small><table border=\"1\" class=\"dataframe\"><thead><tr><th>tenure</th><th>MonthlyCharges</th><th>TotalCharges</th></tr><tr><td>f64</td><td>f64</td><td>f64</td></tr></thead><tbody><tr><td>-1.280248</td><td>-1.161694</td><td>-0.994194</td></tr><tr><td>0.064303</td><td>-0.260878</td><td>-0.17374</td></tr><tr><td>-1.239504</td><td>-0.363923</td><td>-0.959649</td></tr><tr><td>0.512486</td><td>-0.74785</td><td>-0.195248</td></tr><tr><td>-1.239504</td><td>0.196178</td><td>-0.940457</td></tr><tr><td>&hellip;</td><td>&hellip;</td><td>&hellip;</td></tr><tr><td>-0.343137</td><td>0.664868</td><td>-0.12918</td></tr><tr><td>1.612573</td><td>1.276493</td><td>2.241056</td></tr><tr><td>-0.872808</td><td>-1.170004</td><td>-0.854514</td></tr><tr><td>-1.158016</td><td>0.319168</td><td>-0.872095</td></tr><tr><td>1.368109</td><td>1.357932</td><td>2.012344</td></tr></tbody></table></div>"
      ],
      "text/plain": [
       "shape: (7_032, 3)\n",
       "┌───────────┬────────────────┬──────────────┐\n",
       "│ tenure    ┆ MonthlyCharges ┆ TotalCharges │\n",
       "│ ---       ┆ ---            ┆ ---          │\n",
       "│ f64       ┆ f64            ┆ f64          │\n",
       "╞═══════════╪════════════════╪══════════════╡\n",
       "│ -1.280248 ┆ -1.161694      ┆ -0.994194    │\n",
       "│ 0.064303  ┆ -0.260878      ┆ -0.17374     │\n",
       "│ -1.239504 ┆ -0.363923      ┆ -0.959649    │\n",
       "│ 0.512486  ┆ -0.74785       ┆ -0.195248    │\n",
       "│ -1.239504 ┆ 0.196178       ┆ -0.940457    │\n",
       "│ …         ┆ …              ┆ …            │\n",
       "│ -0.343137 ┆ 0.664868       ┆ -0.12918     │\n",
       "│ 1.612573  ┆ 1.276493       ┆ 2.241056     │\n",
       "│ -0.872808 ┆ -1.170004      ┆ -0.854514    │\n",
       "│ -1.158016 ┆ 0.319168       ┆ -0.872095    │\n",
       "│ 1.368109  ┆ 1.357932       ┆ 2.012344     │\n",
       "└───────────┴────────────────┴──────────────┘"
      ]
     },
     "execution_count": 8,
     "metadata": {},
     "output_type": "execute_result"
    }
   ],
   "source": [
    "ss = StandardScaler()\n",
    "\n",
    "fields = df.select('tenure', 'MonthlyCharges', 'TotalCharges')\n",
    "\n",
    "standardized_np = ss.fit_transform(fields.to_numpy())\n",
    "\n",
    "standardized_df = pl.DataFrame(standardized_np, fields.columns)\n",
    "\n",
    "standardized_df"
   ]
  },
  {
   "cell_type": "markdown",
   "metadata": {},
   "source": [
    "## Question 5\n",
    "\n",
    "對三個類別變數 (gender, InternetService, PaymentMethod) 做 one-hot encoding."
   ]
  },
  {
   "cell_type": "code",
   "execution_count": 9,
   "metadata": {},
   "outputs": [
    {
     "data": {
      "text/html": [
       "<div><style>\n",
       ".dataframe > thead > tr,\n",
       ".dataframe > tbody > tr {\n",
       "  text-align: right;\n",
       "  white-space: pre-wrap;\n",
       "}\n",
       "</style>\n",
       "<small>shape: (7_032, 9)</small><table border=\"1\" class=\"dataframe\"><thead><tr><th>gender_Female</th><th>gender_Male</th><th>InternetService_DSL</th><th>InternetService_Fiber optic</th><th>InternetService_No</th><th>PaymentMethod_Bank transfer (automatic)</th><th>PaymentMethod_Credit card (automatic)</th><th>PaymentMethod_Electronic check</th><th>PaymentMethod_Mailed check</th></tr><tr><td>u8</td><td>u8</td><td>u8</td><td>u8</td><td>u8</td><td>u8</td><td>u8</td><td>u8</td><td>u8</td></tr></thead><tbody><tr><td>1</td><td>0</td><td>1</td><td>0</td><td>0</td><td>0</td><td>0</td><td>1</td><td>0</td></tr><tr><td>0</td><td>1</td><td>1</td><td>0</td><td>0</td><td>0</td><td>0</td><td>0</td><td>1</td></tr><tr><td>0</td><td>1</td><td>1</td><td>0</td><td>0</td><td>0</td><td>0</td><td>0</td><td>1</td></tr><tr><td>0</td><td>1</td><td>1</td><td>0</td><td>0</td><td>1</td><td>0</td><td>0</td><td>0</td></tr><tr><td>1</td><td>0</td><td>0</td><td>1</td><td>0</td><td>0</td><td>0</td><td>1</td><td>0</td></tr><tr><td>&hellip;</td><td>&hellip;</td><td>&hellip;</td><td>&hellip;</td><td>&hellip;</td><td>&hellip;</td><td>&hellip;</td><td>&hellip;</td><td>&hellip;</td></tr><tr><td>0</td><td>1</td><td>1</td><td>0</td><td>0</td><td>0</td><td>0</td><td>0</td><td>1</td></tr><tr><td>1</td><td>0</td><td>0</td><td>1</td><td>0</td><td>0</td><td>1</td><td>0</td><td>0</td></tr><tr><td>1</td><td>0</td><td>1</td><td>0</td><td>0</td><td>0</td><td>0</td><td>1</td><td>0</td></tr><tr><td>0</td><td>1</td><td>0</td><td>1</td><td>0</td><td>0</td><td>0</td><td>0</td><td>1</td></tr><tr><td>0</td><td>1</td><td>0</td><td>1</td><td>0</td><td>1</td><td>0</td><td>0</td><td>0</td></tr></tbody></table></div>"
      ],
      "text/plain": [
       "shape: (7_032, 9)\n",
       "┌───────────┬───────────┬───────────┬───────────┬───┬───────────┬───────────┬───────────┬──────────┐\n",
       "│ gender_Fe ┆ gender_Ma ┆ InternetS ┆ InternetS ┆ … ┆ PaymentMe ┆ PaymentMe ┆ PaymentMe ┆ PaymentM │\n",
       "│ male      ┆ le        ┆ ervice_DS ┆ ervice_Fi ┆   ┆ thod_Bank ┆ thod_Cred ┆ thod_Elec ┆ ethod_Ma │\n",
       "│ ---       ┆ ---       ┆ L         ┆ ber optic ┆   ┆ transfer  ┆ it card   ┆ tronic    ┆ iled     │\n",
       "│ u8        ┆ u8        ┆ ---       ┆ ---       ┆   ┆ (a…       ┆ (aut…     ┆ check     ┆ check    │\n",
       "│           ┆           ┆ u8        ┆ u8        ┆   ┆ ---       ┆ ---       ┆ ---       ┆ ---      │\n",
       "│           ┆           ┆           ┆           ┆   ┆ u8        ┆ u8        ┆ u8        ┆ u8       │\n",
       "╞═══════════╪═══════════╪═══════════╪═══════════╪═══╪═══════════╪═══════════╪═══════════╪══════════╡\n",
       "│ 1         ┆ 0         ┆ 1         ┆ 0         ┆ … ┆ 0         ┆ 0         ┆ 1         ┆ 0        │\n",
       "│ 0         ┆ 1         ┆ 1         ┆ 0         ┆ … ┆ 0         ┆ 0         ┆ 0         ┆ 1        │\n",
       "│ 0         ┆ 1         ┆ 1         ┆ 0         ┆ … ┆ 0         ┆ 0         ┆ 0         ┆ 1        │\n",
       "│ 0         ┆ 1         ┆ 1         ┆ 0         ┆ … ┆ 1         ┆ 0         ┆ 0         ┆ 0        │\n",
       "│ 1         ┆ 0         ┆ 0         ┆ 1         ┆ … ┆ 0         ┆ 0         ┆ 1         ┆ 0        │\n",
       "│ …         ┆ …         ┆ …         ┆ …         ┆ … ┆ …         ┆ …         ┆ …         ┆ …        │\n",
       "│ 0         ┆ 1         ┆ 1         ┆ 0         ┆ … ┆ 0         ┆ 0         ┆ 0         ┆ 1        │\n",
       "│ 1         ┆ 0         ┆ 0         ┆ 1         ┆ … ┆ 0         ┆ 1         ┆ 0         ┆ 0        │\n",
       "│ 1         ┆ 0         ┆ 1         ┆ 0         ┆ … ┆ 0         ┆ 0         ┆ 1         ┆ 0        │\n",
       "│ 0         ┆ 1         ┆ 0         ┆ 1         ┆ … ┆ 0         ┆ 0         ┆ 0         ┆ 1        │\n",
       "│ 0         ┆ 1         ┆ 0         ┆ 1         ┆ … ┆ 1         ┆ 0         ┆ 0         ┆ 0        │\n",
       "└───────────┴───────────┴───────────┴───────────┴───┴───────────┴───────────┴───────────┴──────────┘"
      ]
     },
     "execution_count": 9,
     "metadata": {},
     "output_type": "execute_result"
    }
   ],
   "source": [
    "one_hot_encoded_df = df.select(\"gender\", \"InternetService\", \"PaymentMethod\").to_dummies()\n",
    "\n",
    "one_hot_encoded_df"
   ]
  },
  {
   "cell_type": "markdown",
   "metadata": {},
   "source": [
    "## Question 6\n",
    "\n",
    "用 Random Forest 開始進行預測，目標變數為 Churn，特徵變數為 tenure, MonthlyCharges, TotalCHarges, gender, InternetService, PaymentMethod"
   ]
  },
  {
   "cell_type": "markdown",
   "metadata": {},
   "source": [
    "Merge the encoded and standardized result."
   ]
  },
  {
   "cell_type": "code",
   "execution_count": 10,
   "metadata": {},
   "outputs": [
    {
     "data": {
      "text/html": [
       "<div><style>\n",
       ".dataframe > thead > tr,\n",
       ".dataframe > tbody > tr {\n",
       "  text-align: right;\n",
       "  white-space: pre-wrap;\n",
       "}\n",
       "</style>\n",
       "<small>shape: (7_032, 13)</small><table border=\"1\" class=\"dataframe\"><thead><tr><th>tenure</th><th>MonthlyCharges</th><th>TotalCharges</th><th>gender_Female</th><th>gender_Male</th><th>InternetService_DSL</th><th>InternetService_Fiber optic</th><th>InternetService_No</th><th>PaymentMethod_Bank transfer (automatic)</th><th>PaymentMethod_Credit card (automatic)</th><th>PaymentMethod_Electronic check</th><th>PaymentMethod_Mailed check</th><th>Churn</th></tr><tr><td>f64</td><td>f64</td><td>f64</td><td>u8</td><td>u8</td><td>u8</td><td>u8</td><td>u8</td><td>u8</td><td>u8</td><td>u8</td><td>u8</td><td>i32</td></tr></thead><tbody><tr><td>-1.280248</td><td>-1.161694</td><td>-0.994194</td><td>1</td><td>0</td><td>1</td><td>0</td><td>0</td><td>0</td><td>0</td><td>1</td><td>0</td><td>0</td></tr><tr><td>0.064303</td><td>-0.260878</td><td>-0.17374</td><td>0</td><td>1</td><td>1</td><td>0</td><td>0</td><td>0</td><td>0</td><td>0</td><td>1</td><td>0</td></tr><tr><td>-1.239504</td><td>-0.363923</td><td>-0.959649</td><td>0</td><td>1</td><td>1</td><td>0</td><td>0</td><td>0</td><td>0</td><td>0</td><td>1</td><td>1</td></tr><tr><td>0.512486</td><td>-0.74785</td><td>-0.195248</td><td>0</td><td>1</td><td>1</td><td>0</td><td>0</td><td>1</td><td>0</td><td>0</td><td>0</td><td>0</td></tr><tr><td>-1.239504</td><td>0.196178</td><td>-0.940457</td><td>1</td><td>0</td><td>0</td><td>1</td><td>0</td><td>0</td><td>0</td><td>1</td><td>0</td><td>1</td></tr><tr><td>&hellip;</td><td>&hellip;</td><td>&hellip;</td><td>&hellip;</td><td>&hellip;</td><td>&hellip;</td><td>&hellip;</td><td>&hellip;</td><td>&hellip;</td><td>&hellip;</td><td>&hellip;</td><td>&hellip;</td><td>&hellip;</td></tr><tr><td>-0.343137</td><td>0.664868</td><td>-0.12918</td><td>0</td><td>1</td><td>1</td><td>0</td><td>0</td><td>0</td><td>0</td><td>0</td><td>1</td><td>0</td></tr><tr><td>1.612573</td><td>1.276493</td><td>2.241056</td><td>1</td><td>0</td><td>0</td><td>1</td><td>0</td><td>0</td><td>1</td><td>0</td><td>0</td><td>0</td></tr><tr><td>-0.872808</td><td>-1.170004</td><td>-0.854514</td><td>1</td><td>0</td><td>1</td><td>0</td><td>0</td><td>0</td><td>0</td><td>1</td><td>0</td><td>0</td></tr><tr><td>-1.158016</td><td>0.319168</td><td>-0.872095</td><td>0</td><td>1</td><td>0</td><td>1</td><td>0</td><td>0</td><td>0</td><td>0</td><td>1</td><td>1</td></tr><tr><td>1.368109</td><td>1.357932</td><td>2.012344</td><td>0</td><td>1</td><td>0</td><td>1</td><td>0</td><td>1</td><td>0</td><td>0</td><td>0</td><td>0</td></tr></tbody></table></div>"
      ],
      "text/plain": [
       "shape: (7_032, 13)\n",
       "┌───────────┬────────────┬────────────┬────────────┬───┬───────────┬───────────┬───────────┬───────┐\n",
       "│ tenure    ┆ MonthlyCha ┆ TotalCharg ┆ gender_Fem ┆ … ┆ PaymentMe ┆ PaymentMe ┆ PaymentMe ┆ Churn │\n",
       "│ ---       ┆ rges       ┆ es         ┆ ale        ┆   ┆ thod_Cred ┆ thod_Elec ┆ thod_Mail ┆ ---   │\n",
       "│ f64       ┆ ---        ┆ ---        ┆ ---        ┆   ┆ it card   ┆ tronic    ┆ ed check  ┆ i32   │\n",
       "│           ┆ f64        ┆ f64        ┆ u8         ┆   ┆ (aut…     ┆ check     ┆ ---       ┆       │\n",
       "│           ┆            ┆            ┆            ┆   ┆ ---       ┆ ---       ┆ u8        ┆       │\n",
       "│           ┆            ┆            ┆            ┆   ┆ u8        ┆ u8        ┆           ┆       │\n",
       "╞═══════════╪════════════╪════════════╪════════════╪═══╪═══════════╪═══════════╪═══════════╪═══════╡\n",
       "│ -1.280248 ┆ -1.161694  ┆ -0.994194  ┆ 1          ┆ … ┆ 0         ┆ 1         ┆ 0         ┆ 0     │\n",
       "│ 0.064303  ┆ -0.260878  ┆ -0.17374   ┆ 0          ┆ … ┆ 0         ┆ 0         ┆ 1         ┆ 0     │\n",
       "│ -1.239504 ┆ -0.363923  ┆ -0.959649  ┆ 0          ┆ … ┆ 0         ┆ 0         ┆ 1         ┆ 1     │\n",
       "│ 0.512486  ┆ -0.74785   ┆ -0.195248  ┆ 0          ┆ … ┆ 0         ┆ 0         ┆ 0         ┆ 0     │\n",
       "│ -1.239504 ┆ 0.196178   ┆ -0.940457  ┆ 1          ┆ … ┆ 0         ┆ 1         ┆ 0         ┆ 1     │\n",
       "│ …         ┆ …          ┆ …          ┆ …          ┆ … ┆ …         ┆ …         ┆ …         ┆ …     │\n",
       "│ -0.343137 ┆ 0.664868   ┆ -0.12918   ┆ 0          ┆ … ┆ 0         ┆ 0         ┆ 1         ┆ 0     │\n",
       "│ 1.612573  ┆ 1.276493   ┆ 2.241056   ┆ 1          ┆ … ┆ 1         ┆ 0         ┆ 0         ┆ 0     │\n",
       "│ -0.872808 ┆ -1.170004  ┆ -0.854514  ┆ 1          ┆ … ┆ 0         ┆ 1         ┆ 0         ┆ 0     │\n",
       "│ -1.158016 ┆ 0.319168   ┆ -0.872095  ┆ 0          ┆ … ┆ 0         ┆ 0         ┆ 1         ┆ 1     │\n",
       "│ 1.368109  ┆ 1.357932   ┆ 2.012344   ┆ 0          ┆ … ┆ 0         ┆ 0         ┆ 0         ┆ 0     │\n",
       "└───────────┴────────────┴────────────┴────────────┴───┴───────────┴───────────┴───────────┴───────┘"
      ]
     },
     "execution_count": 10,
     "metadata": {},
     "output_type": "execute_result"
    }
   ],
   "source": [
    "to_predict_total_df = pl.concat([\n",
    "    standardized_df,\n",
    "    one_hot_encoded_df,\n",
    "    df.select(\"Churn\")\n",
    "], how=\"horizontal\")\n",
    "\n",
    "to_predict_total_df"
   ]
  },
  {
   "cell_type": "markdown",
   "metadata": {},
   "source": [
    "Split the train and test set."
   ]
  },
  {
   "cell_type": "code",
   "execution_count": 11,
   "metadata": {},
   "outputs": [],
   "source": [
    "from sklearn.model_selection import train_test_split\n",
    "\n",
    "X = to_predict_total_df.drop(\"Churn\").to_numpy()\n",
    "y = to_predict_total_df[\"Churn\"].to_numpy()\n",
    "\n",
    "X_train, X_test, y_train, y_test = train_test_split(X, y, test_size=0.2, random_state=42)"
   ]
  },
  {
   "cell_type": "markdown",
   "metadata": {},
   "source": [
    "Predict with Random Forest."
   ]
  },
  {
   "cell_type": "code",
   "execution_count": 12,
   "metadata": {},
   "outputs": [],
   "source": [
    "from sklearn.ensemble import RandomForestClassifier\n",
    "\n",
    "rf_model = RandomForestClassifier()"
   ]
  },
  {
   "cell_type": "code",
   "execution_count": 13,
   "metadata": {},
   "outputs": [
    {
     "data": {
      "text/html": [
       "<style>#sk-container-id-1 {\n",
       "  /* Definition of color scheme common for light and dark mode */\n",
       "  --sklearn-color-text: black;\n",
       "  --sklearn-color-line: gray;\n",
       "  /* Definition of color scheme for unfitted estimators */\n",
       "  --sklearn-color-unfitted-level-0: #fff5e6;\n",
       "  --sklearn-color-unfitted-level-1: #f6e4d2;\n",
       "  --sklearn-color-unfitted-level-2: #ffe0b3;\n",
       "  --sklearn-color-unfitted-level-3: chocolate;\n",
       "  /* Definition of color scheme for fitted estimators */\n",
       "  --sklearn-color-fitted-level-0: #f0f8ff;\n",
       "  --sklearn-color-fitted-level-1: #d4ebff;\n",
       "  --sklearn-color-fitted-level-2: #b3dbfd;\n",
       "  --sklearn-color-fitted-level-3: cornflowerblue;\n",
       "\n",
       "  /* Specific color for light theme */\n",
       "  --sklearn-color-text-on-default-background: var(--sg-text-color, var(--theme-code-foreground, var(--jp-content-font-color1, black)));\n",
       "  --sklearn-color-background: var(--sg-background-color, var(--theme-background, var(--jp-layout-color0, white)));\n",
       "  --sklearn-color-border-box: var(--sg-text-color, var(--theme-code-foreground, var(--jp-content-font-color1, black)));\n",
       "  --sklearn-color-icon: #696969;\n",
       "\n",
       "  @media (prefers-color-scheme: dark) {\n",
       "    /* Redefinition of color scheme for dark theme */\n",
       "    --sklearn-color-text-on-default-background: var(--sg-text-color, var(--theme-code-foreground, var(--jp-content-font-color1, white)));\n",
       "    --sklearn-color-background: var(--sg-background-color, var(--theme-background, var(--jp-layout-color0, #111)));\n",
       "    --sklearn-color-border-box: var(--sg-text-color, var(--theme-code-foreground, var(--jp-content-font-color1, white)));\n",
       "    --sklearn-color-icon: #878787;\n",
       "  }\n",
       "}\n",
       "\n",
       "#sk-container-id-1 {\n",
       "  color: var(--sklearn-color-text);\n",
       "}\n",
       "\n",
       "#sk-container-id-1 pre {\n",
       "  padding: 0;\n",
       "}\n",
       "\n",
       "#sk-container-id-1 input.sk-hidden--visually {\n",
       "  border: 0;\n",
       "  clip: rect(1px 1px 1px 1px);\n",
       "  clip: rect(1px, 1px, 1px, 1px);\n",
       "  height: 1px;\n",
       "  margin: -1px;\n",
       "  overflow: hidden;\n",
       "  padding: 0;\n",
       "  position: absolute;\n",
       "  width: 1px;\n",
       "}\n",
       "\n",
       "#sk-container-id-1 div.sk-dashed-wrapped {\n",
       "  border: 1px dashed var(--sklearn-color-line);\n",
       "  margin: 0 0.4em 0.5em 0.4em;\n",
       "  box-sizing: border-box;\n",
       "  padding-bottom: 0.4em;\n",
       "  background-color: var(--sklearn-color-background);\n",
       "}\n",
       "\n",
       "#sk-container-id-1 div.sk-container {\n",
       "  /* jupyter's `normalize.less` sets `[hidden] { display: none; }`\n",
       "     but bootstrap.min.css set `[hidden] { display: none !important; }`\n",
       "     so we also need the `!important` here to be able to override the\n",
       "     default hidden behavior on the sphinx rendered scikit-learn.org.\n",
       "     See: https://github.com/scikit-learn/scikit-learn/issues/21755 */\n",
       "  display: inline-block !important;\n",
       "  position: relative;\n",
       "}\n",
       "\n",
       "#sk-container-id-1 div.sk-text-repr-fallback {\n",
       "  display: none;\n",
       "}\n",
       "\n",
       "div.sk-parallel-item,\n",
       "div.sk-serial,\n",
       "div.sk-item {\n",
       "  /* draw centered vertical line to link estimators */\n",
       "  background-image: linear-gradient(var(--sklearn-color-text-on-default-background), var(--sklearn-color-text-on-default-background));\n",
       "  background-size: 2px 100%;\n",
       "  background-repeat: no-repeat;\n",
       "  background-position: center center;\n",
       "}\n",
       "\n",
       "/* Parallel-specific style estimator block */\n",
       "\n",
       "#sk-container-id-1 div.sk-parallel-item::after {\n",
       "  content: \"\";\n",
       "  width: 100%;\n",
       "  border-bottom: 2px solid var(--sklearn-color-text-on-default-background);\n",
       "  flex-grow: 1;\n",
       "}\n",
       "\n",
       "#sk-container-id-1 div.sk-parallel {\n",
       "  display: flex;\n",
       "  align-items: stretch;\n",
       "  justify-content: center;\n",
       "  background-color: var(--sklearn-color-background);\n",
       "  position: relative;\n",
       "}\n",
       "\n",
       "#sk-container-id-1 div.sk-parallel-item {\n",
       "  display: flex;\n",
       "  flex-direction: column;\n",
       "}\n",
       "\n",
       "#sk-container-id-1 div.sk-parallel-item:first-child::after {\n",
       "  align-self: flex-end;\n",
       "  width: 50%;\n",
       "}\n",
       "\n",
       "#sk-container-id-1 div.sk-parallel-item:last-child::after {\n",
       "  align-self: flex-start;\n",
       "  width: 50%;\n",
       "}\n",
       "\n",
       "#sk-container-id-1 div.sk-parallel-item:only-child::after {\n",
       "  width: 0;\n",
       "}\n",
       "\n",
       "/* Serial-specific style estimator block */\n",
       "\n",
       "#sk-container-id-1 div.sk-serial {\n",
       "  display: flex;\n",
       "  flex-direction: column;\n",
       "  align-items: center;\n",
       "  background-color: var(--sklearn-color-background);\n",
       "  padding-right: 1em;\n",
       "  padding-left: 1em;\n",
       "}\n",
       "\n",
       "\n",
       "/* Toggleable style: style used for estimator/Pipeline/ColumnTransformer box that is\n",
       "clickable and can be expanded/collapsed.\n",
       "- Pipeline and ColumnTransformer use this feature and define the default style\n",
       "- Estimators will overwrite some part of the style using the `sk-estimator` class\n",
       "*/\n",
       "\n",
       "/* Pipeline and ColumnTransformer style (default) */\n",
       "\n",
       "#sk-container-id-1 div.sk-toggleable {\n",
       "  /* Default theme specific background. It is overwritten whether we have a\n",
       "  specific estimator or a Pipeline/ColumnTransformer */\n",
       "  background-color: var(--sklearn-color-background);\n",
       "}\n",
       "\n",
       "/* Toggleable label */\n",
       "#sk-container-id-1 label.sk-toggleable__label {\n",
       "  cursor: pointer;\n",
       "  display: block;\n",
       "  width: 100%;\n",
       "  margin-bottom: 0;\n",
       "  padding: 0.5em;\n",
       "  box-sizing: border-box;\n",
       "  text-align: center;\n",
       "}\n",
       "\n",
       "#sk-container-id-1 label.sk-toggleable__label-arrow:before {\n",
       "  /* Arrow on the left of the label */\n",
       "  content: \"▸\";\n",
       "  float: left;\n",
       "  margin-right: 0.25em;\n",
       "  color: var(--sklearn-color-icon);\n",
       "}\n",
       "\n",
       "#sk-container-id-1 label.sk-toggleable__label-arrow:hover:before {\n",
       "  color: var(--sklearn-color-text);\n",
       "}\n",
       "\n",
       "/* Toggleable content - dropdown */\n",
       "\n",
       "#sk-container-id-1 div.sk-toggleable__content {\n",
       "  max-height: 0;\n",
       "  max-width: 0;\n",
       "  overflow: hidden;\n",
       "  text-align: left;\n",
       "  /* unfitted */\n",
       "  background-color: var(--sklearn-color-unfitted-level-0);\n",
       "}\n",
       "\n",
       "#sk-container-id-1 div.sk-toggleable__content.fitted {\n",
       "  /* fitted */\n",
       "  background-color: var(--sklearn-color-fitted-level-0);\n",
       "}\n",
       "\n",
       "#sk-container-id-1 div.sk-toggleable__content pre {\n",
       "  margin: 0.2em;\n",
       "  border-radius: 0.25em;\n",
       "  color: var(--sklearn-color-text);\n",
       "  /* unfitted */\n",
       "  background-color: var(--sklearn-color-unfitted-level-0);\n",
       "}\n",
       "\n",
       "#sk-container-id-1 div.sk-toggleable__content.fitted pre {\n",
       "  /* unfitted */\n",
       "  background-color: var(--sklearn-color-fitted-level-0);\n",
       "}\n",
       "\n",
       "#sk-container-id-1 input.sk-toggleable__control:checked~div.sk-toggleable__content {\n",
       "  /* Expand drop-down */\n",
       "  max-height: 200px;\n",
       "  max-width: 100%;\n",
       "  overflow: auto;\n",
       "}\n",
       "\n",
       "#sk-container-id-1 input.sk-toggleable__control:checked~label.sk-toggleable__label-arrow:before {\n",
       "  content: \"▾\";\n",
       "}\n",
       "\n",
       "/* Pipeline/ColumnTransformer-specific style */\n",
       "\n",
       "#sk-container-id-1 div.sk-label input.sk-toggleable__control:checked~label.sk-toggleable__label {\n",
       "  color: var(--sklearn-color-text);\n",
       "  background-color: var(--sklearn-color-unfitted-level-2);\n",
       "}\n",
       "\n",
       "#sk-container-id-1 div.sk-label.fitted input.sk-toggleable__control:checked~label.sk-toggleable__label {\n",
       "  background-color: var(--sklearn-color-fitted-level-2);\n",
       "}\n",
       "\n",
       "/* Estimator-specific style */\n",
       "\n",
       "/* Colorize estimator box */\n",
       "#sk-container-id-1 div.sk-estimator input.sk-toggleable__control:checked~label.sk-toggleable__label {\n",
       "  /* unfitted */\n",
       "  background-color: var(--sklearn-color-unfitted-level-2);\n",
       "}\n",
       "\n",
       "#sk-container-id-1 div.sk-estimator.fitted input.sk-toggleable__control:checked~label.sk-toggleable__label {\n",
       "  /* fitted */\n",
       "  background-color: var(--sklearn-color-fitted-level-2);\n",
       "}\n",
       "\n",
       "#sk-container-id-1 div.sk-label label.sk-toggleable__label,\n",
       "#sk-container-id-1 div.sk-label label {\n",
       "  /* The background is the default theme color */\n",
       "  color: var(--sklearn-color-text-on-default-background);\n",
       "}\n",
       "\n",
       "/* On hover, darken the color of the background */\n",
       "#sk-container-id-1 div.sk-label:hover label.sk-toggleable__label {\n",
       "  color: var(--sklearn-color-text);\n",
       "  background-color: var(--sklearn-color-unfitted-level-2);\n",
       "}\n",
       "\n",
       "/* Label box, darken color on hover, fitted */\n",
       "#sk-container-id-1 div.sk-label.fitted:hover label.sk-toggleable__label.fitted {\n",
       "  color: var(--sklearn-color-text);\n",
       "  background-color: var(--sklearn-color-fitted-level-2);\n",
       "}\n",
       "\n",
       "/* Estimator label */\n",
       "\n",
       "#sk-container-id-1 div.sk-label label {\n",
       "  font-family: monospace;\n",
       "  font-weight: bold;\n",
       "  display: inline-block;\n",
       "  line-height: 1.2em;\n",
       "}\n",
       "\n",
       "#sk-container-id-1 div.sk-label-container {\n",
       "  text-align: center;\n",
       "}\n",
       "\n",
       "/* Estimator-specific */\n",
       "#sk-container-id-1 div.sk-estimator {\n",
       "  font-family: monospace;\n",
       "  border: 1px dotted var(--sklearn-color-border-box);\n",
       "  border-radius: 0.25em;\n",
       "  box-sizing: border-box;\n",
       "  margin-bottom: 0.5em;\n",
       "  /* unfitted */\n",
       "  background-color: var(--sklearn-color-unfitted-level-0);\n",
       "}\n",
       "\n",
       "#sk-container-id-1 div.sk-estimator.fitted {\n",
       "  /* fitted */\n",
       "  background-color: var(--sklearn-color-fitted-level-0);\n",
       "}\n",
       "\n",
       "/* on hover */\n",
       "#sk-container-id-1 div.sk-estimator:hover {\n",
       "  /* unfitted */\n",
       "  background-color: var(--sklearn-color-unfitted-level-2);\n",
       "}\n",
       "\n",
       "#sk-container-id-1 div.sk-estimator.fitted:hover {\n",
       "  /* fitted */\n",
       "  background-color: var(--sklearn-color-fitted-level-2);\n",
       "}\n",
       "\n",
       "/* Specification for estimator info (e.g. \"i\" and \"?\") */\n",
       "\n",
       "/* Common style for \"i\" and \"?\" */\n",
       "\n",
       ".sk-estimator-doc-link,\n",
       "a:link.sk-estimator-doc-link,\n",
       "a:visited.sk-estimator-doc-link {\n",
       "  float: right;\n",
       "  font-size: smaller;\n",
       "  line-height: 1em;\n",
       "  font-family: monospace;\n",
       "  background-color: var(--sklearn-color-background);\n",
       "  border-radius: 1em;\n",
       "  height: 1em;\n",
       "  width: 1em;\n",
       "  text-decoration: none !important;\n",
       "  margin-left: 1ex;\n",
       "  /* unfitted */\n",
       "  border: var(--sklearn-color-unfitted-level-1) 1pt solid;\n",
       "  color: var(--sklearn-color-unfitted-level-1);\n",
       "}\n",
       "\n",
       ".sk-estimator-doc-link.fitted,\n",
       "a:link.sk-estimator-doc-link.fitted,\n",
       "a:visited.sk-estimator-doc-link.fitted {\n",
       "  /* fitted */\n",
       "  border: var(--sklearn-color-fitted-level-1) 1pt solid;\n",
       "  color: var(--sklearn-color-fitted-level-1);\n",
       "}\n",
       "\n",
       "/* On hover */\n",
       "div.sk-estimator:hover .sk-estimator-doc-link:hover,\n",
       ".sk-estimator-doc-link:hover,\n",
       "div.sk-label-container:hover .sk-estimator-doc-link:hover,\n",
       ".sk-estimator-doc-link:hover {\n",
       "  /* unfitted */\n",
       "  background-color: var(--sklearn-color-unfitted-level-3);\n",
       "  color: var(--sklearn-color-background);\n",
       "  text-decoration: none;\n",
       "}\n",
       "\n",
       "div.sk-estimator.fitted:hover .sk-estimator-doc-link.fitted:hover,\n",
       ".sk-estimator-doc-link.fitted:hover,\n",
       "div.sk-label-container:hover .sk-estimator-doc-link.fitted:hover,\n",
       ".sk-estimator-doc-link.fitted:hover {\n",
       "  /* fitted */\n",
       "  background-color: var(--sklearn-color-fitted-level-3);\n",
       "  color: var(--sklearn-color-background);\n",
       "  text-decoration: none;\n",
       "}\n",
       "\n",
       "/* Span, style for the box shown on hovering the info icon */\n",
       ".sk-estimator-doc-link span {\n",
       "  display: none;\n",
       "  z-index: 9999;\n",
       "  position: relative;\n",
       "  font-weight: normal;\n",
       "  right: .2ex;\n",
       "  padding: .5ex;\n",
       "  margin: .5ex;\n",
       "  width: min-content;\n",
       "  min-width: 20ex;\n",
       "  max-width: 50ex;\n",
       "  color: var(--sklearn-color-text);\n",
       "  box-shadow: 2pt 2pt 4pt #999;\n",
       "  /* unfitted */\n",
       "  background: var(--sklearn-color-unfitted-level-0);\n",
       "  border: .5pt solid var(--sklearn-color-unfitted-level-3);\n",
       "}\n",
       "\n",
       ".sk-estimator-doc-link.fitted span {\n",
       "  /* fitted */\n",
       "  background: var(--sklearn-color-fitted-level-0);\n",
       "  border: var(--sklearn-color-fitted-level-3);\n",
       "}\n",
       "\n",
       ".sk-estimator-doc-link:hover span {\n",
       "  display: block;\n",
       "}\n",
       "\n",
       "/* \"?\"-specific style due to the `<a>` HTML tag */\n",
       "\n",
       "#sk-container-id-1 a.estimator_doc_link {\n",
       "  float: right;\n",
       "  font-size: 1rem;\n",
       "  line-height: 1em;\n",
       "  font-family: monospace;\n",
       "  background-color: var(--sklearn-color-background);\n",
       "  border-radius: 1rem;\n",
       "  height: 1rem;\n",
       "  width: 1rem;\n",
       "  text-decoration: none;\n",
       "  /* unfitted */\n",
       "  color: var(--sklearn-color-unfitted-level-1);\n",
       "  border: var(--sklearn-color-unfitted-level-1) 1pt solid;\n",
       "}\n",
       "\n",
       "#sk-container-id-1 a.estimator_doc_link.fitted {\n",
       "  /* fitted */\n",
       "  border: var(--sklearn-color-fitted-level-1) 1pt solid;\n",
       "  color: var(--sklearn-color-fitted-level-1);\n",
       "}\n",
       "\n",
       "/* On hover */\n",
       "#sk-container-id-1 a.estimator_doc_link:hover {\n",
       "  /* unfitted */\n",
       "  background-color: var(--sklearn-color-unfitted-level-3);\n",
       "  color: var(--sklearn-color-background);\n",
       "  text-decoration: none;\n",
       "}\n",
       "\n",
       "#sk-container-id-1 a.estimator_doc_link.fitted:hover {\n",
       "  /* fitted */\n",
       "  background-color: var(--sklearn-color-fitted-level-3);\n",
       "}\n",
       "</style><div id=\"sk-container-id-1\" class=\"sk-top-container\"><div class=\"sk-text-repr-fallback\"><pre>RandomForestClassifier()</pre><b>In a Jupyter environment, please rerun this cell to show the HTML representation or trust the notebook. <br />On GitHub, the HTML representation is unable to render, please try loading this page with nbviewer.org.</b></div><div class=\"sk-container\" hidden><div class=\"sk-item\"><div class=\"sk-estimator fitted sk-toggleable\"><input class=\"sk-toggleable__control sk-hidden--visually\" id=\"sk-estimator-id-1\" type=\"checkbox\" checked><label for=\"sk-estimator-id-1\" class=\"sk-toggleable__label fitted sk-toggleable__label-arrow fitted\">&nbsp;&nbsp;RandomForestClassifier<a class=\"sk-estimator-doc-link fitted\" rel=\"noreferrer\" target=\"_blank\" href=\"https://scikit-learn.org/1.5/modules/generated/sklearn.ensemble.RandomForestClassifier.html\">?<span>Documentation for RandomForestClassifier</span></a><span class=\"sk-estimator-doc-link fitted\">i<span>Fitted</span></span></label><div class=\"sk-toggleable__content fitted\"><pre>RandomForestClassifier()</pre></div> </div></div></div></div>"
      ],
      "text/plain": [
       "RandomForestClassifier()"
      ]
     },
     "execution_count": 13,
     "metadata": {},
     "output_type": "execute_result"
    }
   ],
   "source": [
    "rf_model.fit(X_train, y_train)"
   ]
  },
  {
   "cell_type": "code",
   "execution_count": 14,
   "metadata": {},
   "outputs": [
    {
     "data": {
      "text/plain": [
       "array([0, 0, 0, ..., 0, 0, 0], dtype=int32)"
      ]
     },
     "execution_count": 14,
     "metadata": {},
     "output_type": "execute_result"
    }
   ],
   "source": [
    "y_test_pred = rf_model.predict(X_test)\n",
    "y_test_pred"
   ]
  },
  {
   "cell_type": "markdown",
   "metadata": {},
   "source": [
    "## Question 7\n",
    "\n",
    "列出 Random Forest 的 accuracy, precision, recall 值。"
   ]
  },
  {
   "cell_type": "code",
   "execution_count": 15,
   "metadata": {},
   "outputs": [
    {
     "name": "stdout",
     "output_type": "stream",
     "text": [
      "測試集準確率 (Accuracy): 0.75\n",
      "測試集精確度 (Precision): 0.54\n",
      "測試集召回率 (Recall): 0.44\n"
     ]
    }
   ],
   "source": [
    "from sklearn.metrics import accuracy_score, precision_score, recall_score\n",
    "\n",
    "print(\"測試集準確率 (Accuracy): {:.2}\".format(accuracy_score(y_test, y_test_pred)))\n",
    "print(\"測試集精確度 (Precision): {:.2}\".format(precision_score(y_test, y_test_pred)))\n",
    "print(\"測試集召回率 (Recall): {:.2}\".format(recall_score(y_test, y_test_pred)))"
   ]
  },
  {
   "cell_type": "markdown",
   "metadata": {},
   "source": [
    "## Question 8\n",
    "\n",
    "畫出 ROU、AUC 曲線。"
   ]
  },
  {
   "cell_type": "code",
   "execution_count": 16,
   "metadata": {},
   "outputs": [
    {
     "name": "stdout",
     "output_type": "stream",
     "text": [
      "AUC 值：0.79\n"
     ]
    }
   ],
   "source": [
    "from sklearn.metrics import roc_curve, auc\n",
    "\n",
    "# 對測試集 X_test 使用模型進行預測，並取得預測為 1 的機率\n",
    "X_test_predsba = rf_model.predict_proba(X_test)[:, 1]\n",
    "\n",
    "# 計算測資料的 ROC 曲線資料，並回傳 3 個值\n",
    "fpr, tpr, thresholds = roc_curve(y_test, X_test_predsba)\n",
    "\n",
    "# 計算 AUC 值\n",
    "auc_value = auc(fpr, tpr)\n",
    "\n",
    "print(\"AUC 值：{:.2}\".format(auc_value))"
   ]
  },
  {
   "cell_type": "code",
   "execution_count": 17,
   "metadata": {},
   "outputs": [
    {
     "data": {
      "text/html": [
       "\n",
       "<style>\n",
       "  #altair-viz-d44ab0101aae4ada8482a25915202346.vega-embed {\n",
       "    width: 100%;\n",
       "    display: flex;\n",
       "  }\n",
       "\n",
       "  #altair-viz-d44ab0101aae4ada8482a25915202346.vega-embed details,\n",
       "  #altair-viz-d44ab0101aae4ada8482a25915202346.vega-embed details summary {\n",
       "    position: relative;\n",
       "  }\n",
       "</style>\n",
       "<div id=\"altair-viz-d44ab0101aae4ada8482a25915202346\"></div>\n",
       "<script type=\"text/javascript\">\n",
       "  var VEGA_DEBUG = (typeof VEGA_DEBUG == \"undefined\") ? {} : VEGA_DEBUG;\n",
       "  (function(spec, embedOpt){\n",
       "    let outputDiv = document.currentScript.previousElementSibling;\n",
       "    if (outputDiv.id !== \"altair-viz-d44ab0101aae4ada8482a25915202346\") {\n",
       "      outputDiv = document.getElementById(\"altair-viz-d44ab0101aae4ada8482a25915202346\");\n",
       "    }\n",
       "    const paths = {\n",
       "      \"vega\": \"https://cdn.jsdelivr.net/npm/vega@5?noext\",\n",
       "      \"vega-lib\": \"https://cdn.jsdelivr.net/npm/vega-lib?noext\",\n",
       "      \"vega-lite\": \"https://cdn.jsdelivr.net/npm/vega-lite@5.20.1?noext\",\n",
       "      \"vega-embed\": \"https://cdn.jsdelivr.net/npm/vega-embed@6?noext\",\n",
       "    };\n",
       "\n",
       "    function maybeLoadScript(lib, version) {\n",
       "      var key = `${lib.replace(\"-\", \"\")}_version`;\n",
       "      return (VEGA_DEBUG[key] == version) ?\n",
       "        Promise.resolve(paths[lib]) :\n",
       "        new Promise(function(resolve, reject) {\n",
       "          var s = document.createElement('script');\n",
       "          document.getElementsByTagName(\"head\")[0].appendChild(s);\n",
       "          s.async = true;\n",
       "          s.onload = () => {\n",
       "            VEGA_DEBUG[key] = version;\n",
       "            return resolve(paths[lib]);\n",
       "          };\n",
       "          s.onerror = () => reject(`Error loading script: ${paths[lib]}`);\n",
       "          s.src = paths[lib];\n",
       "        });\n",
       "    }\n",
       "\n",
       "    function showError(err) {\n",
       "      outputDiv.innerHTML = `<div class=\"error\" style=\"color:red;\">${err}</div>`;\n",
       "      throw err;\n",
       "    }\n",
       "\n",
       "    function displayChart(vegaEmbed) {\n",
       "      vegaEmbed(outputDiv, spec, embedOpt)\n",
       "        .catch(err => showError(`Javascript Error: ${err.message}<br>This usually means there's a typo in your chart specification. See the javascript console for the full traceback.`));\n",
       "    }\n",
       "\n",
       "    if(typeof define === \"function\" && define.amd) {\n",
       "      requirejs.config({paths});\n",
       "      require([\"vega-embed\"], displayChart, err => showError(`Error loading script: ${err.message}`));\n",
       "    } else {\n",
       "      maybeLoadScript(\"vega\", \"5\")\n",
       "        .then(() => maybeLoadScript(\"vega-lite\", \"5.20.1\"))\n",
       "        .then(() => maybeLoadScript(\"vega-embed\", \"6\"))\n",
       "        .catch(showError)\n",
       "        .then(() => displayChart(vegaEmbed));\n",
       "    }\n",
       "  })({\"config\": {\"view\": {\"continuousWidth\": 300, \"continuousHeight\": 300}, \"axis\": {\"grid\": false}, \"legend\": {\"orient\": \"bottom-right\"}}, \"data\": {\"name\": \"data-6c2b00b641dbcfca83524b348766d687\"}, \"mark\": {\"type\": \"line\", \"tooltip\": true}, \"encoding\": {\"color\": {\"field\": \"Label\", \"type\": \"nominal\"}, \"strokeDash\": {\"field\": \"Label\", \"type\": \"nominal\"}, \"x\": {\"field\": \"False Positive Rate (FPR)\", \"type\": \"quantitative\"}, \"y\": {\"field\": \"True Positive Rate (TPR)\", \"type\": \"quantitative\"}}, \"params\": [{\"name\": \"param_1\", \"select\": {\"type\": \"interval\", \"encodings\": [\"x\", \"y\"]}, \"bind\": \"scales\"}, {\"name\": \"param_2\", \"select\": {\"type\": \"interval\", \"encodings\": [\"x\", \"y\"]}, \"bind\": \"scales\"}], \"title\": \"ROC Curve\", \"$schema\": \"https://vega.github.io/schema/vega-lite/v5.20.1.json\", \"datasets\": {\"data-6c2b00b641dbcfca83524b348766d687\": [{\"False Positive Rate (FPR)\": 0.0, \"True Positive Rate (TPR)\": 0.0, \"Label\": \"ROC Curve (AUC = 0.79)\"}, {\"False Positive Rate (FPR)\": 0.001936108422071636, \"True Positive Rate (TPR)\": 0.029411764705882353, \"Label\": \"ROC Curve (AUC = 0.79)\"}, {\"False Positive Rate (FPR)\": 0.001936108422071636, \"True Positive Rate (TPR)\": 0.05080213903743316, \"Label\": \"ROC Curve (AUC = 0.79)\"}, {\"False Positive Rate (FPR)\": 0.003872216844143272, \"True Positive Rate (TPR)\": 0.05614973262032086, \"Label\": \"ROC Curve (AUC = 0.79)\"}, {\"False Positive Rate (FPR)\": 0.00484027105517909, \"True Positive Rate (TPR)\": 0.06417112299465241, \"Label\": \"ROC Curve (AUC = 0.79)\"}, {\"False Positive Rate (FPR)\": 0.00484027105517909, \"True Positive Rate (TPR)\": 0.06684491978609626, \"Label\": \"ROC Curve (AUC = 0.79)\"}, {\"False Positive Rate (FPR)\": 0.00484027105517909, \"True Positive Rate (TPR)\": 0.08288770053475936, \"Label\": \"ROC Curve (AUC = 0.79)\"}, {\"False Positive Rate (FPR)\": 0.008712487899322363, \"True Positive Rate (TPR)\": 0.09358288770053476, \"Label\": \"ROC Curve (AUC = 0.79)\"}, {\"False Positive Rate (FPR)\": 0.010648596321393998, \"True Positive Rate (TPR)\": 0.10427807486631016, \"Label\": \"ROC Curve (AUC = 0.79)\"}, {\"False Positive Rate (FPR)\": 0.010648596321393998, \"True Positive Rate (TPR)\": 0.10962566844919786, \"Label\": \"ROC Curve (AUC = 0.79)\"}, {\"False Positive Rate (FPR)\": 0.012584704743465635, \"True Positive Rate (TPR)\": 0.11497326203208556, \"Label\": \"ROC Curve (AUC = 0.79)\"}, {\"False Positive Rate (FPR)\": 0.012584704743465635, \"True Positive Rate (TPR)\": 0.12299465240641712, \"Label\": \"ROC Curve (AUC = 0.79)\"}, {\"False Positive Rate (FPR)\": 0.013552758954501452, \"True Positive Rate (TPR)\": 0.12299465240641712, \"Label\": \"ROC Curve (AUC = 0.79)\"}, {\"False Positive Rate (FPR)\": 0.01452081316553727, \"True Positive Rate (TPR)\": 0.13368983957219252, \"Label\": \"ROC Curve (AUC = 0.79)\"}, {\"False Positive Rate (FPR)\": 0.015488867376573089, \"True Positive Rate (TPR)\": 0.14171122994652408, \"Label\": \"ROC Curve (AUC = 0.79)\"}, {\"False Positive Rate (FPR)\": 0.015488867376573089, \"True Positive Rate (TPR)\": 0.1443850267379679, \"Label\": \"ROC Curve (AUC = 0.79)\"}, {\"False Positive Rate (FPR)\": 0.017424975798644726, \"True Positive Rate (TPR)\": 0.1497326203208556, \"Label\": \"ROC Curve (AUC = 0.79)\"}, {\"False Positive Rate (FPR)\": 0.017424975798644726, \"True Positive Rate (TPR)\": 0.16310160427807488, \"Label\": \"ROC Curve (AUC = 0.79)\"}, {\"False Positive Rate (FPR)\": 0.017424975798644726, \"True Positive Rate (TPR)\": 0.1657754010695187, \"Label\": \"ROC Curve (AUC = 0.79)\"}, {\"False Positive Rate (FPR)\": 0.018393030009680542, \"True Positive Rate (TPR)\": 0.17647058823529413, \"Label\": \"ROC Curve (AUC = 0.79)\"}, {\"False Positive Rate (FPR)\": 0.01936108422071636, \"True Positive Rate (TPR)\": 0.18449197860962566, \"Label\": \"ROC Curve (AUC = 0.79)\"}, {\"False Positive Rate (FPR)\": 0.022265246853823813, \"True Positive Rate (TPR)\": 0.18983957219251338, \"Label\": \"ROC Curve (AUC = 0.79)\"}, {\"False Positive Rate (FPR)\": 0.02516940948693127, \"True Positive Rate (TPR)\": 0.18983957219251338, \"Label\": \"ROC Curve (AUC = 0.79)\"}, {\"False Positive Rate (FPR)\": 0.030977734753146177, \"True Positive Rate (TPR)\": 0.19518716577540107, \"Label\": \"ROC Curve (AUC = 0.79)\"}, {\"False Positive Rate (FPR)\": 0.03484995159728945, \"True Positive Rate (TPR)\": 0.19786096256684493, \"Label\": \"ROC Curve (AUC = 0.79)\"}, {\"False Positive Rate (FPR)\": 0.036786060019361085, \"True Positive Rate (TPR)\": 0.20320855614973263, \"Label\": \"ROC Curve (AUC = 0.79)\"}, {\"False Positive Rate (FPR)\": 0.04259438528557599, \"True Positive Rate (TPR)\": 0.21390374331550802, \"Label\": \"ROC Curve (AUC = 0.79)\"}, {\"False Positive Rate (FPR)\": 0.044530493707647625, \"True Positive Rate (TPR)\": 0.22459893048128343, \"Label\": \"ROC Curve (AUC = 0.79)\"}, {\"False Positive Rate (FPR)\": 0.05033881897386254, \"True Positive Rate (TPR)\": 0.23529411764705882, \"Label\": \"ROC Curve (AUC = 0.79)\"}, {\"False Positive Rate (FPR)\": 0.051306873184898356, \"True Positive Rate (TPR)\": 0.24866310160427807, \"Label\": \"ROC Curve (AUC = 0.79)\"}, {\"False Positive Rate (FPR)\": 0.05324298160696999, \"True Positive Rate (TPR)\": 0.24866310160427807, \"Label\": \"ROC Curve (AUC = 0.79)\"}, {\"False Positive Rate (FPR)\": 0.05324298160696999, \"True Positive Rate (TPR)\": 0.25133689839572193, \"Label\": \"ROC Curve (AUC = 0.79)\"}, {\"False Positive Rate (FPR)\": 0.05421103581800581, \"True Positive Rate (TPR)\": 0.2647058823529412, \"Label\": \"ROC Curve (AUC = 0.79)\"}, {\"False Positive Rate (FPR)\": 0.057115198451113264, \"True Positive Rate (TPR)\": 0.27807486631016043, \"Label\": \"ROC Curve (AUC = 0.79)\"}, {\"False Positive Rate (FPR)\": 0.06292352371732816, \"True Positive Rate (TPR)\": 0.29411764705882354, \"Label\": \"ROC Curve (AUC = 0.79)\"}, {\"False Positive Rate (FPR)\": 0.06485963213939981, \"True Positive Rate (TPR)\": 0.30213903743315507, \"Label\": \"ROC Curve (AUC = 0.79)\"}, {\"False Positive Rate (FPR)\": 0.0696999031945789, \"True Positive Rate (TPR)\": 0.3074866310160428, \"Label\": \"ROC Curve (AUC = 0.79)\"}, {\"False Positive Rate (FPR)\": 0.07357212003872217, \"True Positive Rate (TPR)\": 0.31016042780748665, \"Label\": \"ROC Curve (AUC = 0.79)\"}, {\"False Positive Rate (FPR)\": 0.07744433688286544, \"True Positive Rate (TPR)\": 0.32085561497326204, \"Label\": \"ROC Curve (AUC = 0.79)\"}, {\"False Positive Rate (FPR)\": 0.0803484995159729, \"True Positive Rate (TPR)\": 0.3235294117647059, \"Label\": \"ROC Curve (AUC = 0.79)\"}, {\"False Positive Rate (FPR)\": 0.0803484995159729, \"True Positive Rate (TPR)\": 0.32620320855614976, \"Label\": \"ROC Curve (AUC = 0.79)\"}, {\"False Positive Rate (FPR)\": 0.08615682478218781, \"True Positive Rate (TPR)\": 0.3315508021390374, \"Label\": \"ROC Curve (AUC = 0.79)\"}, {\"False Positive Rate (FPR)\": 0.09002904162633107, \"True Positive Rate (TPR)\": 0.34759358288770054, \"Label\": \"ROC Curve (AUC = 0.79)\"}, {\"False Positive Rate (FPR)\": 0.09390125847047434, \"True Positive Rate (TPR)\": 0.35294117647058826, \"Label\": \"ROC Curve (AUC = 0.79)\"}, {\"False Positive Rate (FPR)\": 0.0968054211035818, \"True Positive Rate (TPR)\": 0.36363636363636365, \"Label\": \"ROC Curve (AUC = 0.79)\"}, {\"False Positive Rate (FPR)\": 0.09777347531461762, \"True Positive Rate (TPR)\": 0.3663101604278075, \"Label\": \"ROC Curve (AUC = 0.79)\"}, {\"False Positive Rate (FPR)\": 0.10261374636979671, \"True Positive Rate (TPR)\": 0.3770053475935829, \"Label\": \"ROC Curve (AUC = 0.79)\"}, {\"False Positive Rate (FPR)\": 0.10648596321393998, \"True Positive Rate (TPR)\": 0.38235294117647056, \"Label\": \"ROC Curve (AUC = 0.79)\"}, {\"False Positive Rate (FPR)\": 0.1074540174249758, \"True Positive Rate (TPR)\": 0.3850267379679144, \"Label\": \"ROC Curve (AUC = 0.79)\"}, {\"False Positive Rate (FPR)\": 0.1074540174249758, \"True Positive Rate (TPR)\": 0.3877005347593583, \"Label\": \"ROC Curve (AUC = 0.79)\"}, {\"False Positive Rate (FPR)\": 0.11035818005808325, \"True Positive Rate (TPR)\": 0.39037433155080214, \"Label\": \"ROC Curve (AUC = 0.79)\"}, {\"False Positive Rate (FPR)\": 0.11616650532429816, \"True Positive Rate (TPR)\": 0.4037433155080214, \"Label\": \"ROC Curve (AUC = 0.79)\"}, {\"False Positive Rate (FPR)\": 0.11616650532429816, \"True Positive Rate (TPR)\": 0.40641711229946526, \"Label\": \"ROC Curve (AUC = 0.79)\"}, {\"False Positive Rate (FPR)\": 0.1181026137463698, \"True Positive Rate (TPR)\": 0.4117647058823529, \"Label\": \"ROC Curve (AUC = 0.79)\"}, {\"False Positive Rate (FPR)\": 0.12003872216844143, \"True Positive Rate (TPR)\": 0.4144385026737968, \"Label\": \"ROC Curve (AUC = 0.79)\"}, {\"False Positive Rate (FPR)\": 0.12584704743465633, \"True Positive Rate (TPR)\": 0.42780748663101603, \"Label\": \"ROC Curve (AUC = 0.79)\"}, {\"False Positive Rate (FPR)\": 0.12584704743465633, \"True Positive Rate (TPR)\": 0.43315508021390375, \"Label\": \"ROC Curve (AUC = 0.79)\"}, {\"False Positive Rate (FPR)\": 0.13262342691190707, \"True Positive Rate (TPR)\": 0.4411764705882353, \"Label\": \"ROC Curve (AUC = 0.79)\"}, {\"False Positive Rate (FPR)\": 0.13843175217812198, \"True Positive Rate (TPR)\": 0.44385026737967914, \"Label\": \"ROC Curve (AUC = 0.79)\"}, {\"False Positive Rate (FPR)\": 0.14230396902226525, \"True Positive Rate (TPR)\": 0.446524064171123, \"Label\": \"ROC Curve (AUC = 0.79)\"}, {\"False Positive Rate (FPR)\": 0.14327202323330107, \"True Positive Rate (TPR)\": 0.446524064171123, \"Label\": \"ROC Curve (AUC = 0.79)\"}, {\"False Positive Rate (FPR)\": 0.14714424007744434, \"True Positive Rate (TPR)\": 0.45989304812834225, \"Label\": \"ROC Curve (AUC = 0.79)\"}, {\"False Positive Rate (FPR)\": 0.14908034849951599, \"True Positive Rate (TPR)\": 0.47058823529411764, \"Label\": \"ROC Curve (AUC = 0.79)\"}, {\"False Positive Rate (FPR)\": 0.15295256534365925, \"True Positive Rate (TPR)\": 0.4786096256684492, \"Label\": \"ROC Curve (AUC = 0.79)\"}, {\"False Positive Rate (FPR)\": 0.15392061955469508, \"True Positive Rate (TPR)\": 0.48128342245989303, \"Label\": \"ROC Curve (AUC = 0.79)\"}, {\"False Positive Rate (FPR)\": 0.15779283639883834, \"True Positive Rate (TPR)\": 0.4893048128342246, \"Label\": \"ROC Curve (AUC = 0.79)\"}, {\"False Positive Rate (FPR)\": 0.1606969990319458, \"True Positive Rate (TPR)\": 0.5053475935828877, \"Label\": \"ROC Curve (AUC = 0.79)\"}, {\"False Positive Rate (FPR)\": 0.16263310745401743, \"True Positive Rate (TPR)\": 0.5053475935828877, \"Label\": \"ROC Curve (AUC = 0.79)\"}, {\"False Positive Rate (FPR)\": 0.17618586640851888, \"True Positive Rate (TPR)\": 0.5267379679144385, \"Label\": \"ROC Curve (AUC = 0.79)\"}, {\"False Positive Rate (FPR)\": 0.17618586640851888, \"True Positive Rate (TPR)\": 0.5347593582887701, \"Label\": \"ROC Curve (AUC = 0.79)\"}, {\"False Positive Rate (FPR)\": 0.18005808325266215, \"True Positive Rate (TPR)\": 0.5481283422459893, \"Label\": \"ROC Curve (AUC = 0.79)\"}, {\"False Positive Rate (FPR)\": 0.18489835430784124, \"True Positive Rate (TPR)\": 0.5588235294117647, \"Label\": \"ROC Curve (AUC = 0.79)\"}, {\"False Positive Rate (FPR)\": 0.19167473378509198, \"True Positive Rate (TPR)\": 0.5641711229946524, \"Label\": \"ROC Curve (AUC = 0.79)\"}, {\"False Positive Rate (FPR)\": 0.20232333010648595, \"True Positive Rate (TPR)\": 0.56951871657754, \"Label\": \"ROC Curve (AUC = 0.79)\"}, {\"False Positive Rate (FPR)\": 0.21006776379477252, \"True Positive Rate (TPR)\": 0.5721925133689839, \"Label\": \"ROC Curve (AUC = 0.79)\"}, {\"False Positive Rate (FPR)\": 0.21297192642787996, \"True Positive Rate (TPR)\": 0.5855614973262032, \"Label\": \"ROC Curve (AUC = 0.79)\"}, {\"False Positive Rate (FPR)\": 0.22168441432720232, \"True Positive Rate (TPR)\": 0.5962566844919787, \"Label\": \"ROC Curve (AUC = 0.79)\"}, {\"False Positive Rate (FPR)\": 0.22942884801548888, \"True Positive Rate (TPR)\": 0.6122994652406417, \"Label\": \"ROC Curve (AUC = 0.79)\"}, {\"False Positive Rate (FPR)\": 0.23233301064859632, \"True Positive Rate (TPR)\": 0.6203208556149733, \"Label\": \"ROC Curve (AUC = 0.79)\"}, {\"False Positive Rate (FPR)\": 0.2362052274927396, \"True Positive Rate (TPR)\": 0.6417112299465241, \"Label\": \"ROC Curve (AUC = 0.79)\"}, {\"False Positive Rate (FPR)\": 0.2468538238141336, \"True Positive Rate (TPR)\": 0.660427807486631, \"Label\": \"ROC Curve (AUC = 0.79)\"}, {\"False Positive Rate (FPR)\": 0.25556631171345595, \"True Positive Rate (TPR)\": 0.6684491978609626, \"Label\": \"ROC Curve (AUC = 0.79)\"}, {\"False Positive Rate (FPR)\": 0.26137463697967084, \"True Positive Rate (TPR)\": 0.6737967914438503, \"Label\": \"ROC Curve (AUC = 0.79)\"}, {\"False Positive Rate (FPR)\": 0.26137463697967084, \"True Positive Rate (TPR)\": 0.679144385026738, \"Label\": \"ROC Curve (AUC = 0.79)\"}, {\"False Positive Rate (FPR)\": 0.26427879961277834, \"True Positive Rate (TPR)\": 0.6871657754010695, \"Label\": \"ROC Curve (AUC = 0.79)\"}, {\"False Positive Rate (FPR)\": 0.26524685382381413, \"True Positive Rate (TPR)\": 0.6871657754010695, \"Label\": \"ROC Curve (AUC = 0.79)\"}, {\"False Positive Rate (FPR)\": 0.27202323330106487, \"True Positive Rate (TPR)\": 0.6978609625668449, \"Label\": \"ROC Curve (AUC = 0.79)\"}, {\"False Positive Rate (FPR)\": 0.2807357212003872, \"True Positive Rate (TPR)\": 0.713903743315508, \"Label\": \"ROC Curve (AUC = 0.79)\"}, {\"False Positive Rate (FPR)\": 0.2894482090997096, \"True Positive Rate (TPR)\": 0.7165775401069518, \"Label\": \"ROC Curve (AUC = 0.79)\"}, {\"False Positive Rate (FPR)\": 0.2962245885769603, \"True Positive Rate (TPR)\": 0.7219251336898396, \"Label\": \"ROC Curve (AUC = 0.79)\"}, {\"False Positive Rate (FPR)\": 0.2962245885769603, \"True Positive Rate (TPR)\": 0.7272727272727273, \"Label\": \"ROC Curve (AUC = 0.79)\"}, {\"False Positive Rate (FPR)\": 0.30009680542110356, \"True Positive Rate (TPR)\": 0.7379679144385026, \"Label\": \"ROC Curve (AUC = 0.79)\"}, {\"False Positive Rate (FPR)\": 0.31461761858664083, \"True Positive Rate (TPR)\": 0.7379679144385026, \"Label\": \"ROC Curve (AUC = 0.79)\"}, {\"False Positive Rate (FPR)\": 0.3155856727976767, \"True Positive Rate (TPR)\": 0.7379679144385026, \"Label\": \"ROC Curve (AUC = 0.79)\"}, {\"False Positive Rate (FPR)\": 0.32236205227492737, \"True Positive Rate (TPR)\": 0.7540106951871658, \"Label\": \"ROC Curve (AUC = 0.79)\"}, {\"False Positive Rate (FPR)\": 0.324298160696999, \"True Positive Rate (TPR)\": 0.7540106951871658, \"Label\": \"ROC Curve (AUC = 0.79)\"}, {\"False Positive Rate (FPR)\": 0.33494675701839305, \"True Positive Rate (TPR)\": 0.7620320855614974, \"Label\": \"ROC Curve (AUC = 0.79)\"}, {\"False Positive Rate (FPR)\": 0.34075508228460794, \"True Positive Rate (TPR)\": 0.7620320855614974, \"Label\": \"ROC Curve (AUC = 0.79)\"}, {\"False Positive Rate (FPR)\": 0.3514036786060019, \"True Positive Rate (TPR)\": 0.7754010695187166, \"Label\": \"ROC Curve (AUC = 0.79)\"}, {\"False Positive Rate (FPR)\": 0.3649564375605034, \"True Positive Rate (TPR)\": 0.8048128342245989, \"Label\": \"ROC Curve (AUC = 0.79)\"}, {\"False Positive Rate (FPR)\": 0.38044530493707646, \"True Positive Rate (TPR)\": 0.8155080213903744, \"Label\": \"ROC Curve (AUC = 0.79)\"}, {\"False Positive Rate (FPR)\": 0.3814133591481123, \"True Positive Rate (TPR)\": 0.8155080213903744, \"Label\": \"ROC Curve (AUC = 0.79)\"}, {\"False Positive Rate (FPR)\": 0.38915779283639884, \"True Positive Rate (TPR)\": 0.8262032085561497, \"Label\": \"ROC Curve (AUC = 0.79)\"}, {\"False Positive Rate (FPR)\": 0.39012584704743464, \"True Positive Rate (TPR)\": 0.8262032085561497, \"Label\": \"ROC Curve (AUC = 0.79)\"}, {\"False Positive Rate (FPR)\": 0.4046466602129719, \"True Positive Rate (TPR)\": 0.8368983957219251, \"Label\": \"ROC Curve (AUC = 0.79)\"}, {\"False Positive Rate (FPR)\": 0.41626331074540174, \"True Positive Rate (TPR)\": 0.8422459893048129, \"Label\": \"ROC Curve (AUC = 0.79)\"}, {\"False Positive Rate (FPR)\": 0.41626331074540174, \"True Positive Rate (TPR)\": 0.8475935828877005, \"Label\": \"ROC Curve (AUC = 0.79)\"}, {\"False Positive Rate (FPR)\": 0.4298160696999032, \"True Positive Rate (TPR)\": 0.8663101604278075, \"Label\": \"ROC Curve (AUC = 0.79)\"}, {\"False Positive Rate (FPR)\": 0.44724104549854793, \"True Positive Rate (TPR)\": 0.8770053475935828, \"Label\": \"ROC Curve (AUC = 0.79)\"}, {\"False Positive Rate (FPR)\": 0.44724104549854793, \"True Positive Rate (TPR)\": 0.8796791443850267, \"Label\": \"ROC Curve (AUC = 0.79)\"}, {\"False Positive Rate (FPR)\": 0.4491771539206196, \"True Positive Rate (TPR)\": 0.8796791443850267, \"Label\": \"ROC Curve (AUC = 0.79)\"}, {\"False Positive Rate (FPR)\": 0.46950629235237173, \"True Positive Rate (TPR)\": 0.893048128342246, \"Label\": \"ROC Curve (AUC = 0.79)\"}, {\"False Positive Rate (FPR)\": 0.49080348499515974, \"True Positive Rate (TPR)\": 0.9064171122994652, \"Label\": \"ROC Curve (AUC = 0.79)\"}, {\"False Positive Rate (FPR)\": 0.49177153920619554, \"True Positive Rate (TPR)\": 0.9064171122994652, \"Label\": \"ROC Curve (AUC = 0.79)\"}, {\"False Positive Rate (FPR)\": 0.5082284607938045, \"True Positive Rate (TPR)\": 0.9197860962566845, \"Label\": \"ROC Curve (AUC = 0.79)\"}, {\"False Positive Rate (FPR)\": 0.5304937076476283, \"True Positive Rate (TPR)\": 0.93048128342246, \"Label\": \"ROC Curve (AUC = 0.79)\"}, {\"False Positive Rate (FPR)\": 0.5566311713455954, \"True Positive Rate (TPR)\": 0.93048128342246, \"Label\": \"ROC Curve (AUC = 0.79)\"}, {\"False Positive Rate (FPR)\": 0.5575992255566312, \"True Positive Rate (TPR)\": 0.93048128342246, \"Label\": \"ROC Curve (AUC = 0.79)\"}, {\"False Positive Rate (FPR)\": 0.5856727976766699, \"True Positive Rate (TPR)\": 0.9358288770053476, \"Label\": \"ROC Curve (AUC = 0.79)\"}, {\"False Positive Rate (FPR)\": 0.6224588576960309, \"True Positive Rate (TPR)\": 0.9438502673796791, \"Label\": \"ROC Curve (AUC = 0.79)\"}, {\"False Positive Rate (FPR)\": 0.6224588576960309, \"True Positive Rate (TPR)\": 0.946524064171123, \"Label\": \"ROC Curve (AUC = 0.79)\"}, {\"False Positive Rate (FPR)\": 0.6563407550822846, \"True Positive Rate (TPR)\": 0.9518716577540107, \"Label\": \"ROC Curve (AUC = 0.79)\"}, {\"False Positive Rate (FPR)\": 0.7008712487899322, \"True Positive Rate (TPR)\": 0.9679144385026738, \"Label\": \"ROC Curve (AUC = 0.79)\"}, {\"False Positive Rate (FPR)\": 0.7008712487899322, \"True Positive Rate (TPR)\": 0.9705882352941176, \"Label\": \"ROC Curve (AUC = 0.79)\"}, {\"False Positive Rate (FPR)\": 0.7705711519845111, \"True Positive Rate (TPR)\": 0.983957219251337, \"Label\": \"ROC Curve (AUC = 0.79)\"}, {\"False Positive Rate (FPR)\": 1.0, \"True Positive Rate (TPR)\": 1.0, \"Label\": \"ROC Curve (AUC = 0.79)\"}, {\"False Positive Rate (FPR)\": 0.0, \"True Positive Rate (TPR)\": 0.0, \"Label\": \"Random Guess\"}, {\"False Positive Rate (FPR)\": 1.0, \"True Positive Rate (TPR)\": 1.0, \"Label\": \"Random Guess\"}]}}, {\"mode\": \"vega-lite\"});\n",
       "</script>"
      ],
      "text/plain": [
       "alt.Chart(...)"
      ]
     },
     "execution_count": 17,
     "metadata": {},
     "output_type": "execute_result"
    }
   ],
   "source": [
    "roc_df = pl.DataFrame({\n",
    "    \"False Positive Rate (FPR)\": fpr,\n",
    "    \"True Positive Rate (TPR)\": tpr,\n",
    "    \"Label\": f\"ROC Curve (AUC = {auc_value:.2f})\",\n",
    "})\n",
    "\n",
    "basis_df = pl.DataFrame({\n",
    "    \"False Positive Rate (FPR)\": [0.0, 1.0],\n",
    "    \"True Positive Rate (TPR)\": [0.0, 1.0],\n",
    "    \"Label\": \"Random Guess\",\n",
    "})\n",
    "\n",
    "combined_df = pl.concat([roc_df, basis_df])\n",
    "\n",
    "combined_df.plot.line(\n",
    "    x=\"False Positive Rate (FPR)\", y=\"True Positive Rate (TPR)\", color=\"Label\", strokeDash=\"Label\"\n",
    ").properties(title='ROC Curve',).configure_legend(orient=\"bottom-right\").configure_axis(\n",
    "    grid=False\n",
    ").interactive()"
   ]
  },
  {
   "cell_type": "markdown",
   "metadata": {},
   "source": [
    "## Question 9\n",
    "\n",
    "模型訓練出來後，計算每位顧客流失率 (Churn)，請將流失率由大排至小，並將之存成 Excel 檔，命名`Customer_Churn.xlsx`."
   ]
  },
  {
   "cell_type": "code",
   "execution_count": 18,
   "metadata": {},
   "outputs": [
    {
     "data": {
      "text/html": [
       "<div><style>\n",
       ".dataframe > thead > tr,\n",
       ".dataframe > tbody > tr {\n",
       "  text-align: right;\n",
       "  white-space: pre-wrap;\n",
       "}\n",
       "</style>\n",
       "<small>shape: (1_407, 2)</small><table border=\"1\" class=\"dataframe\"><thead><tr><th>index</th><th>Return_Probability</th></tr><tr><td>i64</td><td>i32</td></tr></thead><tbody><tr><td>3</td><td>1</td></tr><tr><td>5</td><td>1</td></tr><tr><td>7</td><td>1</td></tr><tr><td>10</td><td>1</td></tr><tr><td>16</td><td>1</td></tr><tr><td>&hellip;</td><td>&hellip;</td></tr><tr><td>1400</td><td>0</td></tr><tr><td>1402</td><td>0</td></tr><tr><td>1404</td><td>0</td></tr><tr><td>1405</td><td>0</td></tr><tr><td>1406</td><td>0</td></tr></tbody></table></div>"
      ],
      "text/plain": [
       "shape: (1_407, 2)\n",
       "┌───────┬────────────────────┐\n",
       "│ index ┆ Return_Probability │\n",
       "│ ---   ┆ ---                │\n",
       "│ i64   ┆ i32                │\n",
       "╞═══════╪════════════════════╡\n",
       "│ 3     ┆ 1                  │\n",
       "│ 5     ┆ 1                  │\n",
       "│ 7     ┆ 1                  │\n",
       "│ 10    ┆ 1                  │\n",
       "│ 16    ┆ 1                  │\n",
       "│ …     ┆ …                  │\n",
       "│ 1400  ┆ 0                  │\n",
       "│ 1402  ┆ 0                  │\n",
       "│ 1404  ┆ 0                  │\n",
       "│ 1405  ┆ 0                  │\n",
       "│ 1406  ┆ 0                  │\n",
       "└───────┴────────────────────┘"
      ]
     },
     "execution_count": 18,
     "metadata": {},
     "output_type": "execute_result"
    }
   ],
   "source": [
    "pred_df = pl.DataFrame({\n",
    "    \"index\": (i for i in range(len(y_test))),\n",
    "    \"Return_Probability\": pl.Series(values=y_test_pred)\n",
    "}).sort(by=\"Return_Probability\", descending=True)\n",
    "\n",
    "pred_df"
   ]
  }
 ],
 "metadata": {
  "kernelspec": {
   "display_name": ".venv",
   "language": "python",
   "name": "python3"
  },
  "language_info": {
   "codemirror_mode": {
    "name": "ipython",
    "version": 3
   },
   "file_extension": ".py",
   "mimetype": "text/x-python",
   "name": "python",
   "nbconvert_exporter": "python",
   "pygments_lexer": "ipython3",
   "version": "3.12.5"
  }
 },
 "nbformat": 4,
 "nbformat_minor": 2
}
