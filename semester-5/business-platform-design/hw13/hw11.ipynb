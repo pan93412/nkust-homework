{
 "cells": [
  {
   "cell_type": "code",
   "execution_count": 1,
   "metadata": {},
   "outputs": [],
   "source": [
    "import polars as pl"
   ]
  },
  {
   "cell_type": "code",
   "execution_count": 2,
   "metadata": {},
   "outputs": [
    {
     "data": {
      "text/html": [
       "<div><style>\n",
       ".dataframe > thead > tr,\n",
       ".dataframe > tbody > tr {\n",
       "  text-align: right;\n",
       "  white-space: pre-wrap;\n",
       "}\n",
       "</style>\n",
       "<small>shape: (7_043, 21)</small><table border=\"1\" class=\"dataframe\"><thead><tr><th>customerID</th><th>gender</th><th>SeniorCitizen</th><th>Partner</th><th>Dependents</th><th>tenure</th><th>PhoneService</th><th>MultipleLines</th><th>InternetService</th><th>OnlineSecurity</th><th>OnlineBackup</th><th>DeviceProtection</th><th>TechSupport</th><th>StreamingTV</th><th>StreamingMovies</th><th>Contract</th><th>PaperlessBilling</th><th>PaymentMethod</th><th>MonthlyCharges</th><th>TotalCharges</th><th>Churn</th></tr><tr><td>str</td><td>str</td><td>i64</td><td>str</td><td>str</td><td>i64</td><td>str</td><td>str</td><td>str</td><td>str</td><td>str</td><td>str</td><td>str</td><td>str</td><td>str</td><td>str</td><td>str</td><td>str</td><td>f64</td><td>f64</td><td>str</td></tr></thead><tbody><tr><td>&quot;7590-VHVEG&quot;</td><td>&quot;Female&quot;</td><td>0</td><td>&quot;Yes&quot;</td><td>&quot;No&quot;</td><td>1</td><td>&quot;No&quot;</td><td>&quot;No phone service&quot;</td><td>&quot;DSL&quot;</td><td>&quot;No&quot;</td><td>&quot;Yes&quot;</td><td>&quot;No&quot;</td><td>&quot;No&quot;</td><td>&quot;No&quot;</td><td>&quot;No&quot;</td><td>&quot;Month-to-month&quot;</td><td>&quot;Yes&quot;</td><td>&quot;Electronic check&quot;</td><td>29.85</td><td>29.85</td><td>&quot;No&quot;</td></tr><tr><td>&quot;5575-GNVDE&quot;</td><td>&quot;Male&quot;</td><td>0</td><td>&quot;No&quot;</td><td>&quot;No&quot;</td><td>34</td><td>&quot;Yes&quot;</td><td>&quot;No&quot;</td><td>&quot;DSL&quot;</td><td>&quot;Yes&quot;</td><td>&quot;No&quot;</td><td>&quot;Yes&quot;</td><td>&quot;No&quot;</td><td>&quot;No&quot;</td><td>&quot;No&quot;</td><td>&quot;One year&quot;</td><td>&quot;No&quot;</td><td>&quot;Mailed check&quot;</td><td>56.95</td><td>1889.5</td><td>&quot;No&quot;</td></tr><tr><td>&quot;3668-QPYBK&quot;</td><td>&quot;Male&quot;</td><td>0</td><td>&quot;No&quot;</td><td>&quot;No&quot;</td><td>2</td><td>&quot;Yes&quot;</td><td>&quot;No&quot;</td><td>&quot;DSL&quot;</td><td>&quot;Yes&quot;</td><td>&quot;Yes&quot;</td><td>&quot;No&quot;</td><td>&quot;No&quot;</td><td>&quot;No&quot;</td><td>&quot;No&quot;</td><td>&quot;Month-to-month&quot;</td><td>&quot;Yes&quot;</td><td>&quot;Mailed check&quot;</td><td>53.85</td><td>108.15</td><td>&quot;Yes&quot;</td></tr><tr><td>&quot;7795-CFOCW&quot;</td><td>&quot;Male&quot;</td><td>0</td><td>&quot;No&quot;</td><td>&quot;No&quot;</td><td>45</td><td>&quot;No&quot;</td><td>&quot;No phone service&quot;</td><td>&quot;DSL&quot;</td><td>&quot;Yes&quot;</td><td>&quot;No&quot;</td><td>&quot;Yes&quot;</td><td>&quot;Yes&quot;</td><td>&quot;No&quot;</td><td>&quot;No&quot;</td><td>&quot;One year&quot;</td><td>&quot;No&quot;</td><td>&quot;Bank transfer (automatic)&quot;</td><td>42.3</td><td>1840.75</td><td>&quot;No&quot;</td></tr><tr><td>&quot;9237-HQITU&quot;</td><td>&quot;Female&quot;</td><td>0</td><td>&quot;No&quot;</td><td>&quot;No&quot;</td><td>2</td><td>&quot;Yes&quot;</td><td>&quot;No&quot;</td><td>&quot;Fiber optic&quot;</td><td>&quot;No&quot;</td><td>&quot;No&quot;</td><td>&quot;No&quot;</td><td>&quot;No&quot;</td><td>&quot;No&quot;</td><td>&quot;No&quot;</td><td>&quot;Month-to-month&quot;</td><td>&quot;Yes&quot;</td><td>&quot;Electronic check&quot;</td><td>70.7</td><td>151.65</td><td>&quot;Yes&quot;</td></tr><tr><td>&hellip;</td><td>&hellip;</td><td>&hellip;</td><td>&hellip;</td><td>&hellip;</td><td>&hellip;</td><td>&hellip;</td><td>&hellip;</td><td>&hellip;</td><td>&hellip;</td><td>&hellip;</td><td>&hellip;</td><td>&hellip;</td><td>&hellip;</td><td>&hellip;</td><td>&hellip;</td><td>&hellip;</td><td>&hellip;</td><td>&hellip;</td><td>&hellip;</td><td>&hellip;</td></tr><tr><td>&quot;6840-RESVB&quot;</td><td>&quot;Male&quot;</td><td>0</td><td>&quot;Yes&quot;</td><td>&quot;Yes&quot;</td><td>24</td><td>&quot;Yes&quot;</td><td>&quot;Yes&quot;</td><td>&quot;DSL&quot;</td><td>&quot;Yes&quot;</td><td>&quot;No&quot;</td><td>&quot;Yes&quot;</td><td>&quot;Yes&quot;</td><td>&quot;Yes&quot;</td><td>&quot;Yes&quot;</td><td>&quot;One year&quot;</td><td>&quot;Yes&quot;</td><td>&quot;Mailed check&quot;</td><td>84.8</td><td>1990.5</td><td>&quot;No&quot;</td></tr><tr><td>&quot;2234-XADUH&quot;</td><td>&quot;Female&quot;</td><td>0</td><td>&quot;Yes&quot;</td><td>&quot;Yes&quot;</td><td>72</td><td>&quot;Yes&quot;</td><td>&quot;Yes&quot;</td><td>&quot;Fiber optic&quot;</td><td>&quot;No&quot;</td><td>&quot;Yes&quot;</td><td>&quot;Yes&quot;</td><td>&quot;No&quot;</td><td>&quot;Yes&quot;</td><td>&quot;Yes&quot;</td><td>&quot;One year&quot;</td><td>&quot;Yes&quot;</td><td>&quot;Credit card (automatic)&quot;</td><td>103.2</td><td>7362.9</td><td>&quot;No&quot;</td></tr><tr><td>&quot;4801-JZAZL&quot;</td><td>&quot;Female&quot;</td><td>0</td><td>&quot;Yes&quot;</td><td>&quot;Yes&quot;</td><td>11</td><td>&quot;No&quot;</td><td>&quot;No phone service&quot;</td><td>&quot;DSL&quot;</td><td>&quot;Yes&quot;</td><td>&quot;No&quot;</td><td>&quot;No&quot;</td><td>&quot;No&quot;</td><td>&quot;No&quot;</td><td>&quot;No&quot;</td><td>&quot;Month-to-month&quot;</td><td>&quot;Yes&quot;</td><td>&quot;Electronic check&quot;</td><td>29.6</td><td>346.45</td><td>&quot;No&quot;</td></tr><tr><td>&quot;8361-LTMKD&quot;</td><td>&quot;Male&quot;</td><td>1</td><td>&quot;Yes&quot;</td><td>&quot;No&quot;</td><td>4</td><td>&quot;Yes&quot;</td><td>&quot;Yes&quot;</td><td>&quot;Fiber optic&quot;</td><td>&quot;No&quot;</td><td>&quot;No&quot;</td><td>&quot;No&quot;</td><td>&quot;No&quot;</td><td>&quot;No&quot;</td><td>&quot;No&quot;</td><td>&quot;Month-to-month&quot;</td><td>&quot;Yes&quot;</td><td>&quot;Mailed check&quot;</td><td>74.4</td><td>306.6</td><td>&quot;Yes&quot;</td></tr><tr><td>&quot;3186-AJIEK&quot;</td><td>&quot;Male&quot;</td><td>0</td><td>&quot;No&quot;</td><td>&quot;No&quot;</td><td>66</td><td>&quot;Yes&quot;</td><td>&quot;No&quot;</td><td>&quot;Fiber optic&quot;</td><td>&quot;Yes&quot;</td><td>&quot;No&quot;</td><td>&quot;Yes&quot;</td><td>&quot;Yes&quot;</td><td>&quot;Yes&quot;</td><td>&quot;Yes&quot;</td><td>&quot;Two year&quot;</td><td>&quot;Yes&quot;</td><td>&quot;Bank transfer (automatic)&quot;</td><td>105.65</td><td>6844.5</td><td>&quot;No&quot;</td></tr></tbody></table></div>"
      ],
      "text/plain": [
       "shape: (7_043, 21)\n",
       "┌────────────┬────────┬─────────────┬─────────┬───┬─────────────┬─────────────┬────────────┬───────┐\n",
       "│ customerID ┆ gender ┆ SeniorCitiz ┆ Partner ┆ … ┆ PaymentMeth ┆ MonthlyChar ┆ TotalCharg ┆ Churn │\n",
       "│ ---        ┆ ---    ┆ en          ┆ ---     ┆   ┆ od          ┆ ges         ┆ es         ┆ ---   │\n",
       "│ str        ┆ str    ┆ ---         ┆ str     ┆   ┆ ---         ┆ ---         ┆ ---        ┆ str   │\n",
       "│            ┆        ┆ i64         ┆         ┆   ┆ str         ┆ f64         ┆ f64        ┆       │\n",
       "╞════════════╪════════╪═════════════╪═════════╪═══╪═════════════╪═════════════╪════════════╪═══════╡\n",
       "│ 7590-VHVEG ┆ Female ┆ 0           ┆ Yes     ┆ … ┆ Electronic  ┆ 29.85       ┆ 29.85      ┆ No    │\n",
       "│            ┆        ┆             ┆         ┆   ┆ check       ┆             ┆            ┆       │\n",
       "│ 5575-GNVDE ┆ Male   ┆ 0           ┆ No      ┆ … ┆ Mailed      ┆ 56.95       ┆ 1889.5     ┆ No    │\n",
       "│            ┆        ┆             ┆         ┆   ┆ check       ┆             ┆            ┆       │\n",
       "│ 3668-QPYBK ┆ Male   ┆ 0           ┆ No      ┆ … ┆ Mailed      ┆ 53.85       ┆ 108.15     ┆ Yes   │\n",
       "│            ┆        ┆             ┆         ┆   ┆ check       ┆             ┆            ┆       │\n",
       "│ 7795-CFOCW ┆ Male   ┆ 0           ┆ No      ┆ … ┆ Bank        ┆ 42.3        ┆ 1840.75    ┆ No    │\n",
       "│            ┆        ┆             ┆         ┆   ┆ transfer    ┆             ┆            ┆       │\n",
       "│            ┆        ┆             ┆         ┆   ┆ (automatic) ┆             ┆            ┆       │\n",
       "│ 9237-HQITU ┆ Female ┆ 0           ┆ No      ┆ … ┆ Electronic  ┆ 70.7        ┆ 151.65     ┆ Yes   │\n",
       "│            ┆        ┆             ┆         ┆   ┆ check       ┆             ┆            ┆       │\n",
       "│ …          ┆ …      ┆ …           ┆ …       ┆ … ┆ …           ┆ …           ┆ …          ┆ …     │\n",
       "│ 6840-RESVB ┆ Male   ┆ 0           ┆ Yes     ┆ … ┆ Mailed      ┆ 84.8        ┆ 1990.5     ┆ No    │\n",
       "│            ┆        ┆             ┆         ┆   ┆ check       ┆             ┆            ┆       │\n",
       "│ 2234-XADUH ┆ Female ┆ 0           ┆ Yes     ┆ … ┆ Credit card ┆ 103.2       ┆ 7362.9     ┆ No    │\n",
       "│            ┆        ┆             ┆         ┆   ┆ (automatic) ┆             ┆            ┆       │\n",
       "│ 4801-JZAZL ┆ Female ┆ 0           ┆ Yes     ┆ … ┆ Electronic  ┆ 29.6        ┆ 346.45     ┆ No    │\n",
       "│            ┆        ┆             ┆         ┆   ┆ check       ┆             ┆            ┆       │\n",
       "│ 8361-LTMKD ┆ Male   ┆ 1           ┆ Yes     ┆ … ┆ Mailed      ┆ 74.4        ┆ 306.6      ┆ Yes   │\n",
       "│            ┆        ┆             ┆         ┆   ┆ check       ┆             ┆            ┆       │\n",
       "│ 3186-AJIEK ┆ Male   ┆ 0           ┆ No      ┆ … ┆ Bank        ┆ 105.65      ┆ 6844.5     ┆ No    │\n",
       "│            ┆        ┆             ┆         ┆   ┆ transfer    ┆             ┆            ┆       │\n",
       "│            ┆        ┆             ┆         ┆   ┆ (automatic) ┆             ┆            ┆       │\n",
       "└────────────┴────────┴─────────────┴─────────┴───┴─────────────┴─────────────┴────────────┴───────┘"
      ]
     },
     "execution_count": 2,
     "metadata": {},
     "output_type": "execute_result"
    }
   ],
   "source": [
    "df = pl.read_excel(\"telco-customer.xlsx\")\n",
    "df"
   ]
  },
  {
   "cell_type": "markdown",
   "metadata": {},
   "source": [
    "## Question 1\n",
    "\n",
    "將目標變數顧客流失率 (Churn) 編碼為0與1。"
   ]
  },
  {
   "cell_type": "code",
   "execution_count": 3,
   "metadata": {},
   "outputs": [
    {
     "data": {
      "text/html": [
       "<div><style>\n",
       ".dataframe > thead > tr,\n",
       ".dataframe > tbody > tr {\n",
       "  text-align: right;\n",
       "  white-space: pre-wrap;\n",
       "}\n",
       "</style>\n",
       "<small>shape: (7_043, 21)</small><table border=\"1\" class=\"dataframe\"><thead><tr><th>customerID</th><th>gender</th><th>SeniorCitizen</th><th>Partner</th><th>Dependents</th><th>tenure</th><th>PhoneService</th><th>MultipleLines</th><th>InternetService</th><th>OnlineSecurity</th><th>OnlineBackup</th><th>DeviceProtection</th><th>TechSupport</th><th>StreamingTV</th><th>StreamingMovies</th><th>Contract</th><th>PaperlessBilling</th><th>PaymentMethod</th><th>MonthlyCharges</th><th>TotalCharges</th><th>Churn</th></tr><tr><td>str</td><td>str</td><td>i64</td><td>str</td><td>str</td><td>i64</td><td>str</td><td>str</td><td>str</td><td>str</td><td>str</td><td>str</td><td>str</td><td>str</td><td>str</td><td>str</td><td>str</td><td>str</td><td>f64</td><td>f64</td><td>i32</td></tr></thead><tbody><tr><td>&quot;7590-VHVEG&quot;</td><td>&quot;Female&quot;</td><td>0</td><td>&quot;Yes&quot;</td><td>&quot;No&quot;</td><td>1</td><td>&quot;No&quot;</td><td>&quot;No phone service&quot;</td><td>&quot;DSL&quot;</td><td>&quot;No&quot;</td><td>&quot;Yes&quot;</td><td>&quot;No&quot;</td><td>&quot;No&quot;</td><td>&quot;No&quot;</td><td>&quot;No&quot;</td><td>&quot;Month-to-month&quot;</td><td>&quot;Yes&quot;</td><td>&quot;Electronic check&quot;</td><td>29.85</td><td>29.85</td><td>0</td></tr><tr><td>&quot;5575-GNVDE&quot;</td><td>&quot;Male&quot;</td><td>0</td><td>&quot;No&quot;</td><td>&quot;No&quot;</td><td>34</td><td>&quot;Yes&quot;</td><td>&quot;No&quot;</td><td>&quot;DSL&quot;</td><td>&quot;Yes&quot;</td><td>&quot;No&quot;</td><td>&quot;Yes&quot;</td><td>&quot;No&quot;</td><td>&quot;No&quot;</td><td>&quot;No&quot;</td><td>&quot;One year&quot;</td><td>&quot;No&quot;</td><td>&quot;Mailed check&quot;</td><td>56.95</td><td>1889.5</td><td>0</td></tr><tr><td>&quot;3668-QPYBK&quot;</td><td>&quot;Male&quot;</td><td>0</td><td>&quot;No&quot;</td><td>&quot;No&quot;</td><td>2</td><td>&quot;Yes&quot;</td><td>&quot;No&quot;</td><td>&quot;DSL&quot;</td><td>&quot;Yes&quot;</td><td>&quot;Yes&quot;</td><td>&quot;No&quot;</td><td>&quot;No&quot;</td><td>&quot;No&quot;</td><td>&quot;No&quot;</td><td>&quot;Month-to-month&quot;</td><td>&quot;Yes&quot;</td><td>&quot;Mailed check&quot;</td><td>53.85</td><td>108.15</td><td>1</td></tr><tr><td>&quot;7795-CFOCW&quot;</td><td>&quot;Male&quot;</td><td>0</td><td>&quot;No&quot;</td><td>&quot;No&quot;</td><td>45</td><td>&quot;No&quot;</td><td>&quot;No phone service&quot;</td><td>&quot;DSL&quot;</td><td>&quot;Yes&quot;</td><td>&quot;No&quot;</td><td>&quot;Yes&quot;</td><td>&quot;Yes&quot;</td><td>&quot;No&quot;</td><td>&quot;No&quot;</td><td>&quot;One year&quot;</td><td>&quot;No&quot;</td><td>&quot;Bank transfer (automatic)&quot;</td><td>42.3</td><td>1840.75</td><td>0</td></tr><tr><td>&quot;9237-HQITU&quot;</td><td>&quot;Female&quot;</td><td>0</td><td>&quot;No&quot;</td><td>&quot;No&quot;</td><td>2</td><td>&quot;Yes&quot;</td><td>&quot;No&quot;</td><td>&quot;Fiber optic&quot;</td><td>&quot;No&quot;</td><td>&quot;No&quot;</td><td>&quot;No&quot;</td><td>&quot;No&quot;</td><td>&quot;No&quot;</td><td>&quot;No&quot;</td><td>&quot;Month-to-month&quot;</td><td>&quot;Yes&quot;</td><td>&quot;Electronic check&quot;</td><td>70.7</td><td>151.65</td><td>1</td></tr><tr><td>&hellip;</td><td>&hellip;</td><td>&hellip;</td><td>&hellip;</td><td>&hellip;</td><td>&hellip;</td><td>&hellip;</td><td>&hellip;</td><td>&hellip;</td><td>&hellip;</td><td>&hellip;</td><td>&hellip;</td><td>&hellip;</td><td>&hellip;</td><td>&hellip;</td><td>&hellip;</td><td>&hellip;</td><td>&hellip;</td><td>&hellip;</td><td>&hellip;</td><td>&hellip;</td></tr><tr><td>&quot;6840-RESVB&quot;</td><td>&quot;Male&quot;</td><td>0</td><td>&quot;Yes&quot;</td><td>&quot;Yes&quot;</td><td>24</td><td>&quot;Yes&quot;</td><td>&quot;Yes&quot;</td><td>&quot;DSL&quot;</td><td>&quot;Yes&quot;</td><td>&quot;No&quot;</td><td>&quot;Yes&quot;</td><td>&quot;Yes&quot;</td><td>&quot;Yes&quot;</td><td>&quot;Yes&quot;</td><td>&quot;One year&quot;</td><td>&quot;Yes&quot;</td><td>&quot;Mailed check&quot;</td><td>84.8</td><td>1990.5</td><td>0</td></tr><tr><td>&quot;2234-XADUH&quot;</td><td>&quot;Female&quot;</td><td>0</td><td>&quot;Yes&quot;</td><td>&quot;Yes&quot;</td><td>72</td><td>&quot;Yes&quot;</td><td>&quot;Yes&quot;</td><td>&quot;Fiber optic&quot;</td><td>&quot;No&quot;</td><td>&quot;Yes&quot;</td><td>&quot;Yes&quot;</td><td>&quot;No&quot;</td><td>&quot;Yes&quot;</td><td>&quot;Yes&quot;</td><td>&quot;One year&quot;</td><td>&quot;Yes&quot;</td><td>&quot;Credit card (automatic)&quot;</td><td>103.2</td><td>7362.9</td><td>0</td></tr><tr><td>&quot;4801-JZAZL&quot;</td><td>&quot;Female&quot;</td><td>0</td><td>&quot;Yes&quot;</td><td>&quot;Yes&quot;</td><td>11</td><td>&quot;No&quot;</td><td>&quot;No phone service&quot;</td><td>&quot;DSL&quot;</td><td>&quot;Yes&quot;</td><td>&quot;No&quot;</td><td>&quot;No&quot;</td><td>&quot;No&quot;</td><td>&quot;No&quot;</td><td>&quot;No&quot;</td><td>&quot;Month-to-month&quot;</td><td>&quot;Yes&quot;</td><td>&quot;Electronic check&quot;</td><td>29.6</td><td>346.45</td><td>0</td></tr><tr><td>&quot;8361-LTMKD&quot;</td><td>&quot;Male&quot;</td><td>1</td><td>&quot;Yes&quot;</td><td>&quot;No&quot;</td><td>4</td><td>&quot;Yes&quot;</td><td>&quot;Yes&quot;</td><td>&quot;Fiber optic&quot;</td><td>&quot;No&quot;</td><td>&quot;No&quot;</td><td>&quot;No&quot;</td><td>&quot;No&quot;</td><td>&quot;No&quot;</td><td>&quot;No&quot;</td><td>&quot;Month-to-month&quot;</td><td>&quot;Yes&quot;</td><td>&quot;Mailed check&quot;</td><td>74.4</td><td>306.6</td><td>1</td></tr><tr><td>&quot;3186-AJIEK&quot;</td><td>&quot;Male&quot;</td><td>0</td><td>&quot;No&quot;</td><td>&quot;No&quot;</td><td>66</td><td>&quot;Yes&quot;</td><td>&quot;No&quot;</td><td>&quot;Fiber optic&quot;</td><td>&quot;Yes&quot;</td><td>&quot;No&quot;</td><td>&quot;Yes&quot;</td><td>&quot;Yes&quot;</td><td>&quot;Yes&quot;</td><td>&quot;Yes&quot;</td><td>&quot;Two year&quot;</td><td>&quot;Yes&quot;</td><td>&quot;Bank transfer (automatic)&quot;</td><td>105.65</td><td>6844.5</td><td>0</td></tr></tbody></table></div>"
      ],
      "text/plain": [
       "shape: (7_043, 21)\n",
       "┌────────────┬────────┬─────────────┬─────────┬───┬─────────────┬─────────────┬────────────┬───────┐\n",
       "│ customerID ┆ gender ┆ SeniorCitiz ┆ Partner ┆ … ┆ PaymentMeth ┆ MonthlyChar ┆ TotalCharg ┆ Churn │\n",
       "│ ---        ┆ ---    ┆ en          ┆ ---     ┆   ┆ od          ┆ ges         ┆ es         ┆ ---   │\n",
       "│ str        ┆ str    ┆ ---         ┆ str     ┆   ┆ ---         ┆ ---         ┆ ---        ┆ i32   │\n",
       "│            ┆        ┆ i64         ┆         ┆   ┆ str         ┆ f64         ┆ f64        ┆       │\n",
       "╞════════════╪════════╪═════════════╪═════════╪═══╪═════════════╪═════════════╪════════════╪═══════╡\n",
       "│ 7590-VHVEG ┆ Female ┆ 0           ┆ Yes     ┆ … ┆ Electronic  ┆ 29.85       ┆ 29.85      ┆ 0     │\n",
       "│            ┆        ┆             ┆         ┆   ┆ check       ┆             ┆            ┆       │\n",
       "│ 5575-GNVDE ┆ Male   ┆ 0           ┆ No      ┆ … ┆ Mailed      ┆ 56.95       ┆ 1889.5     ┆ 0     │\n",
       "│            ┆        ┆             ┆         ┆   ┆ check       ┆             ┆            ┆       │\n",
       "│ 3668-QPYBK ┆ Male   ┆ 0           ┆ No      ┆ … ┆ Mailed      ┆ 53.85       ┆ 108.15     ┆ 1     │\n",
       "│            ┆        ┆             ┆         ┆   ┆ check       ┆             ┆            ┆       │\n",
       "│ 7795-CFOCW ┆ Male   ┆ 0           ┆ No      ┆ … ┆ Bank        ┆ 42.3        ┆ 1840.75    ┆ 0     │\n",
       "│            ┆        ┆             ┆         ┆   ┆ transfer    ┆             ┆            ┆       │\n",
       "│            ┆        ┆             ┆         ┆   ┆ (automatic) ┆             ┆            ┆       │\n",
       "│ 9237-HQITU ┆ Female ┆ 0           ┆ No      ┆ … ┆ Electronic  ┆ 70.7        ┆ 151.65     ┆ 1     │\n",
       "│            ┆        ┆             ┆         ┆   ┆ check       ┆             ┆            ┆       │\n",
       "│ …          ┆ …      ┆ …           ┆ …       ┆ … ┆ …           ┆ …           ┆ …          ┆ …     │\n",
       "│ 6840-RESVB ┆ Male   ┆ 0           ┆ Yes     ┆ … ┆ Mailed      ┆ 84.8        ┆ 1990.5     ┆ 0     │\n",
       "│            ┆        ┆             ┆         ┆   ┆ check       ┆             ┆            ┆       │\n",
       "│ 2234-XADUH ┆ Female ┆ 0           ┆ Yes     ┆ … ┆ Credit card ┆ 103.2       ┆ 7362.9     ┆ 0     │\n",
       "│            ┆        ┆             ┆         ┆   ┆ (automatic) ┆             ┆            ┆       │\n",
       "│ 4801-JZAZL ┆ Female ┆ 0           ┆ Yes     ┆ … ┆ Electronic  ┆ 29.6        ┆ 346.45     ┆ 0     │\n",
       "│            ┆        ┆             ┆         ┆   ┆ check       ┆             ┆            ┆       │\n",
       "│ 8361-LTMKD ┆ Male   ┆ 1           ┆ Yes     ┆ … ┆ Mailed      ┆ 74.4        ┆ 306.6      ┆ 1     │\n",
       "│            ┆        ┆             ┆         ┆   ┆ check       ┆             ┆            ┆       │\n",
       "│ 3186-AJIEK ┆ Male   ┆ 0           ┆ No      ┆ … ┆ Bank        ┆ 105.65      ┆ 6844.5     ┆ 0     │\n",
       "│            ┆        ┆             ┆         ┆   ┆ transfer    ┆             ┆            ┆       │\n",
       "│            ┆        ┆             ┆         ┆   ┆ (automatic) ┆             ┆            ┆       │\n",
       "└────────────┴────────┴─────────────┴─────────┴───┴─────────────┴─────────────┴────────────┴───────┘"
      ]
     },
     "execution_count": 3,
     "metadata": {},
     "output_type": "execute_result"
    }
   ],
   "source": [
    "df = df.with_columns(\n",
    "    Churn=pl.when(df[\"Churn\"] == \"Yes\").then(1).otherwise(0)\n",
    ")\n",
    "\n",
    "df"
   ]
  },
  {
   "cell_type": "markdown",
   "metadata": {},
   "source": [
    "## Question 2\n",
    "\n",
    "列出顧客流失率。"
   ]
  },
  {
   "cell_type": "code",
   "execution_count": 4,
   "metadata": {},
   "outputs": [
    {
     "name": "stdout",
     "output_type": "stream",
     "text": [
      "流失率為：26.54%\n"
     ]
    }
   ],
   "source": [
    "print(\"流失率為：{:.2%}\".format(df['Churn'].sum() / df['Churn'].len()))"
   ]
  },
  {
   "cell_type": "markdown",
   "metadata": {},
   "source": [
    "## Question 3\n",
    "\n",
    "請將 TotalCharges 裡的 11 筆空白值刪除。"
   ]
  },
  {
   "cell_type": "code",
   "execution_count": 5,
   "metadata": {},
   "outputs": [
    {
     "data": {
      "text/html": [
       "<div><style>\n",
       ".dataframe > thead > tr,\n",
       ".dataframe > tbody > tr {\n",
       "  text-align: right;\n",
       "  white-space: pre-wrap;\n",
       "}\n",
       "</style>\n",
       "<small>shape: (7_043,)</small><table border=\"1\" class=\"dataframe\"><thead><tr><th>TotalCharges</th></tr><tr><td>f64</td></tr></thead><tbody><tr><td>null</td></tr><tr><td>null</td></tr><tr><td>null</td></tr><tr><td>null</td></tr><tr><td>null</td></tr><tr><td>&hellip;</td></tr><tr><td>8564.75</td></tr><tr><td>8594.4</td></tr><tr><td>8670.1</td></tr><tr><td>8672.45</td></tr><tr><td>8684.8</td></tr></tbody></table></div>"
      ],
      "text/plain": [
       "shape: (7_043,)\n",
       "Series: 'TotalCharges' [f64]\n",
       "[\n",
       "\tnull\n",
       "\tnull\n",
       "\tnull\n",
       "\tnull\n",
       "\tnull\n",
       "\t…\n",
       "\t8564.75\n",
       "\t8594.4\n",
       "\t8670.1\n",
       "\t8672.45\n",
       "\t8684.8\n",
       "]"
      ]
     },
     "execution_count": 5,
     "metadata": {},
     "output_type": "execute_result"
    }
   ],
   "source": [
    "# Check the empty values in TotalCharges.\n",
    "df['TotalCharges'].sort()"
   ]
  },
  {
   "cell_type": "code",
   "execution_count": 6,
   "metadata": {},
   "outputs": [
    {
     "data": {
      "text/html": [
       "<div><style>\n",
       ".dataframe > thead > tr,\n",
       ".dataframe > tbody > tr {\n",
       "  text-align: right;\n",
       "  white-space: pre-wrap;\n",
       "}\n",
       "</style>\n",
       "<small>shape: (7_032, 21)</small><table border=\"1\" class=\"dataframe\"><thead><tr><th>customerID</th><th>gender</th><th>SeniorCitizen</th><th>Partner</th><th>Dependents</th><th>tenure</th><th>PhoneService</th><th>MultipleLines</th><th>InternetService</th><th>OnlineSecurity</th><th>OnlineBackup</th><th>DeviceProtection</th><th>TechSupport</th><th>StreamingTV</th><th>StreamingMovies</th><th>Contract</th><th>PaperlessBilling</th><th>PaymentMethod</th><th>MonthlyCharges</th><th>TotalCharges</th><th>Churn</th></tr><tr><td>str</td><td>str</td><td>i64</td><td>str</td><td>str</td><td>i64</td><td>str</td><td>str</td><td>str</td><td>str</td><td>str</td><td>str</td><td>str</td><td>str</td><td>str</td><td>str</td><td>str</td><td>str</td><td>f64</td><td>f64</td><td>i32</td></tr></thead><tbody><tr><td>&quot;7590-VHVEG&quot;</td><td>&quot;Female&quot;</td><td>0</td><td>&quot;Yes&quot;</td><td>&quot;No&quot;</td><td>1</td><td>&quot;No&quot;</td><td>&quot;No phone service&quot;</td><td>&quot;DSL&quot;</td><td>&quot;No&quot;</td><td>&quot;Yes&quot;</td><td>&quot;No&quot;</td><td>&quot;No&quot;</td><td>&quot;No&quot;</td><td>&quot;No&quot;</td><td>&quot;Month-to-month&quot;</td><td>&quot;Yes&quot;</td><td>&quot;Electronic check&quot;</td><td>29.85</td><td>29.85</td><td>0</td></tr><tr><td>&quot;5575-GNVDE&quot;</td><td>&quot;Male&quot;</td><td>0</td><td>&quot;No&quot;</td><td>&quot;No&quot;</td><td>34</td><td>&quot;Yes&quot;</td><td>&quot;No&quot;</td><td>&quot;DSL&quot;</td><td>&quot;Yes&quot;</td><td>&quot;No&quot;</td><td>&quot;Yes&quot;</td><td>&quot;No&quot;</td><td>&quot;No&quot;</td><td>&quot;No&quot;</td><td>&quot;One year&quot;</td><td>&quot;No&quot;</td><td>&quot;Mailed check&quot;</td><td>56.95</td><td>1889.5</td><td>0</td></tr><tr><td>&quot;3668-QPYBK&quot;</td><td>&quot;Male&quot;</td><td>0</td><td>&quot;No&quot;</td><td>&quot;No&quot;</td><td>2</td><td>&quot;Yes&quot;</td><td>&quot;No&quot;</td><td>&quot;DSL&quot;</td><td>&quot;Yes&quot;</td><td>&quot;Yes&quot;</td><td>&quot;No&quot;</td><td>&quot;No&quot;</td><td>&quot;No&quot;</td><td>&quot;No&quot;</td><td>&quot;Month-to-month&quot;</td><td>&quot;Yes&quot;</td><td>&quot;Mailed check&quot;</td><td>53.85</td><td>108.15</td><td>1</td></tr><tr><td>&quot;7795-CFOCW&quot;</td><td>&quot;Male&quot;</td><td>0</td><td>&quot;No&quot;</td><td>&quot;No&quot;</td><td>45</td><td>&quot;No&quot;</td><td>&quot;No phone service&quot;</td><td>&quot;DSL&quot;</td><td>&quot;Yes&quot;</td><td>&quot;No&quot;</td><td>&quot;Yes&quot;</td><td>&quot;Yes&quot;</td><td>&quot;No&quot;</td><td>&quot;No&quot;</td><td>&quot;One year&quot;</td><td>&quot;No&quot;</td><td>&quot;Bank transfer (automatic)&quot;</td><td>42.3</td><td>1840.75</td><td>0</td></tr><tr><td>&quot;9237-HQITU&quot;</td><td>&quot;Female&quot;</td><td>0</td><td>&quot;No&quot;</td><td>&quot;No&quot;</td><td>2</td><td>&quot;Yes&quot;</td><td>&quot;No&quot;</td><td>&quot;Fiber optic&quot;</td><td>&quot;No&quot;</td><td>&quot;No&quot;</td><td>&quot;No&quot;</td><td>&quot;No&quot;</td><td>&quot;No&quot;</td><td>&quot;No&quot;</td><td>&quot;Month-to-month&quot;</td><td>&quot;Yes&quot;</td><td>&quot;Electronic check&quot;</td><td>70.7</td><td>151.65</td><td>1</td></tr><tr><td>&hellip;</td><td>&hellip;</td><td>&hellip;</td><td>&hellip;</td><td>&hellip;</td><td>&hellip;</td><td>&hellip;</td><td>&hellip;</td><td>&hellip;</td><td>&hellip;</td><td>&hellip;</td><td>&hellip;</td><td>&hellip;</td><td>&hellip;</td><td>&hellip;</td><td>&hellip;</td><td>&hellip;</td><td>&hellip;</td><td>&hellip;</td><td>&hellip;</td><td>&hellip;</td></tr><tr><td>&quot;6840-RESVB&quot;</td><td>&quot;Male&quot;</td><td>0</td><td>&quot;Yes&quot;</td><td>&quot;Yes&quot;</td><td>24</td><td>&quot;Yes&quot;</td><td>&quot;Yes&quot;</td><td>&quot;DSL&quot;</td><td>&quot;Yes&quot;</td><td>&quot;No&quot;</td><td>&quot;Yes&quot;</td><td>&quot;Yes&quot;</td><td>&quot;Yes&quot;</td><td>&quot;Yes&quot;</td><td>&quot;One year&quot;</td><td>&quot;Yes&quot;</td><td>&quot;Mailed check&quot;</td><td>84.8</td><td>1990.5</td><td>0</td></tr><tr><td>&quot;2234-XADUH&quot;</td><td>&quot;Female&quot;</td><td>0</td><td>&quot;Yes&quot;</td><td>&quot;Yes&quot;</td><td>72</td><td>&quot;Yes&quot;</td><td>&quot;Yes&quot;</td><td>&quot;Fiber optic&quot;</td><td>&quot;No&quot;</td><td>&quot;Yes&quot;</td><td>&quot;Yes&quot;</td><td>&quot;No&quot;</td><td>&quot;Yes&quot;</td><td>&quot;Yes&quot;</td><td>&quot;One year&quot;</td><td>&quot;Yes&quot;</td><td>&quot;Credit card (automatic)&quot;</td><td>103.2</td><td>7362.9</td><td>0</td></tr><tr><td>&quot;4801-JZAZL&quot;</td><td>&quot;Female&quot;</td><td>0</td><td>&quot;Yes&quot;</td><td>&quot;Yes&quot;</td><td>11</td><td>&quot;No&quot;</td><td>&quot;No phone service&quot;</td><td>&quot;DSL&quot;</td><td>&quot;Yes&quot;</td><td>&quot;No&quot;</td><td>&quot;No&quot;</td><td>&quot;No&quot;</td><td>&quot;No&quot;</td><td>&quot;No&quot;</td><td>&quot;Month-to-month&quot;</td><td>&quot;Yes&quot;</td><td>&quot;Electronic check&quot;</td><td>29.6</td><td>346.45</td><td>0</td></tr><tr><td>&quot;8361-LTMKD&quot;</td><td>&quot;Male&quot;</td><td>1</td><td>&quot;Yes&quot;</td><td>&quot;No&quot;</td><td>4</td><td>&quot;Yes&quot;</td><td>&quot;Yes&quot;</td><td>&quot;Fiber optic&quot;</td><td>&quot;No&quot;</td><td>&quot;No&quot;</td><td>&quot;No&quot;</td><td>&quot;No&quot;</td><td>&quot;No&quot;</td><td>&quot;No&quot;</td><td>&quot;Month-to-month&quot;</td><td>&quot;Yes&quot;</td><td>&quot;Mailed check&quot;</td><td>74.4</td><td>306.6</td><td>1</td></tr><tr><td>&quot;3186-AJIEK&quot;</td><td>&quot;Male&quot;</td><td>0</td><td>&quot;No&quot;</td><td>&quot;No&quot;</td><td>66</td><td>&quot;Yes&quot;</td><td>&quot;No&quot;</td><td>&quot;Fiber optic&quot;</td><td>&quot;Yes&quot;</td><td>&quot;No&quot;</td><td>&quot;Yes&quot;</td><td>&quot;Yes&quot;</td><td>&quot;Yes&quot;</td><td>&quot;Yes&quot;</td><td>&quot;Two year&quot;</td><td>&quot;Yes&quot;</td><td>&quot;Bank transfer (automatic)&quot;</td><td>105.65</td><td>6844.5</td><td>0</td></tr></tbody></table></div>"
      ],
      "text/plain": [
       "shape: (7_032, 21)\n",
       "┌────────────┬────────┬─────────────┬─────────┬───┬─────────────┬─────────────┬────────────┬───────┐\n",
       "│ customerID ┆ gender ┆ SeniorCitiz ┆ Partner ┆ … ┆ PaymentMeth ┆ MonthlyChar ┆ TotalCharg ┆ Churn │\n",
       "│ ---        ┆ ---    ┆ en          ┆ ---     ┆   ┆ od          ┆ ges         ┆ es         ┆ ---   │\n",
       "│ str        ┆ str    ┆ ---         ┆ str     ┆   ┆ ---         ┆ ---         ┆ ---        ┆ i32   │\n",
       "│            ┆        ┆ i64         ┆         ┆   ┆ str         ┆ f64         ┆ f64        ┆       │\n",
       "╞════════════╪════════╪═════════════╪═════════╪═══╪═════════════╪═════════════╪════════════╪═══════╡\n",
       "│ 7590-VHVEG ┆ Female ┆ 0           ┆ Yes     ┆ … ┆ Electronic  ┆ 29.85       ┆ 29.85      ┆ 0     │\n",
       "│            ┆        ┆             ┆         ┆   ┆ check       ┆             ┆            ┆       │\n",
       "│ 5575-GNVDE ┆ Male   ┆ 0           ┆ No      ┆ … ┆ Mailed      ┆ 56.95       ┆ 1889.5     ┆ 0     │\n",
       "│            ┆        ┆             ┆         ┆   ┆ check       ┆             ┆            ┆       │\n",
       "│ 3668-QPYBK ┆ Male   ┆ 0           ┆ No      ┆ … ┆ Mailed      ┆ 53.85       ┆ 108.15     ┆ 1     │\n",
       "│            ┆        ┆             ┆         ┆   ┆ check       ┆             ┆            ┆       │\n",
       "│ 7795-CFOCW ┆ Male   ┆ 0           ┆ No      ┆ … ┆ Bank        ┆ 42.3        ┆ 1840.75    ┆ 0     │\n",
       "│            ┆        ┆             ┆         ┆   ┆ transfer    ┆             ┆            ┆       │\n",
       "│            ┆        ┆             ┆         ┆   ┆ (automatic) ┆             ┆            ┆       │\n",
       "│ 9237-HQITU ┆ Female ┆ 0           ┆ No      ┆ … ┆ Electronic  ┆ 70.7        ┆ 151.65     ┆ 1     │\n",
       "│            ┆        ┆             ┆         ┆   ┆ check       ┆             ┆            ┆       │\n",
       "│ …          ┆ …      ┆ …           ┆ …       ┆ … ┆ …           ┆ …           ┆ …          ┆ …     │\n",
       "│ 6840-RESVB ┆ Male   ┆ 0           ┆ Yes     ┆ … ┆ Mailed      ┆ 84.8        ┆ 1990.5     ┆ 0     │\n",
       "│            ┆        ┆             ┆         ┆   ┆ check       ┆             ┆            ┆       │\n",
       "│ 2234-XADUH ┆ Female ┆ 0           ┆ Yes     ┆ … ┆ Credit card ┆ 103.2       ┆ 7362.9     ┆ 0     │\n",
       "│            ┆        ┆             ┆         ┆   ┆ (automatic) ┆             ┆            ┆       │\n",
       "│ 4801-JZAZL ┆ Female ┆ 0           ┆ Yes     ┆ … ┆ Electronic  ┆ 29.6        ┆ 346.45     ┆ 0     │\n",
       "│            ┆        ┆             ┆         ┆   ┆ check       ┆             ┆            ┆       │\n",
       "│ 8361-LTMKD ┆ Male   ┆ 1           ┆ Yes     ┆ … ┆ Mailed      ┆ 74.4        ┆ 306.6      ┆ 1     │\n",
       "│            ┆        ┆             ┆         ┆   ┆ check       ┆             ┆            ┆       │\n",
       "│ 3186-AJIEK ┆ Male   ┆ 0           ┆ No      ┆ … ┆ Bank        ┆ 105.65      ┆ 6844.5     ┆ 0     │\n",
       "│            ┆        ┆             ┆         ┆   ┆ transfer    ┆             ┆            ┆       │\n",
       "│            ┆        ┆             ┆         ┆   ┆ (automatic) ┆             ┆            ┆       │\n",
       "└────────────┴────────┴─────────────┴─────────┴───┴─────────────┴─────────────┴────────────┴───────┘"
      ]
     },
     "execution_count": 6,
     "metadata": {},
     "output_type": "execute_result"
    }
   ],
   "source": [
    "# Remove the empty values.\n",
    "df = df.drop_nulls(['TotalCharges'])\n",
    "df"
   ]
  },
  {
   "cell_type": "markdown",
   "metadata": {},
   "source": [
    "## Question 4\n",
    "\n",
    "將三個連續變數（`tenure`, `MonthlyCharges`, `TotalCharges`）使用 `StandardScaler` 套件標準化。"
   ]
  },
  {
   "cell_type": "code",
   "execution_count": 7,
   "metadata": {},
   "outputs": [],
   "source": [
    "from sklearn.preprocessing import StandardScaler"
   ]
  },
  {
   "cell_type": "code",
   "execution_count": 8,
   "metadata": {},
   "outputs": [
    {
     "data": {
      "text/html": [
       "<div><style>\n",
       ".dataframe > thead > tr,\n",
       ".dataframe > tbody > tr {\n",
       "  text-align: right;\n",
       "  white-space: pre-wrap;\n",
       "}\n",
       "</style>\n",
       "<small>shape: (7_032, 3)</small><table border=\"1\" class=\"dataframe\"><thead><tr><th>tenure</th><th>MonthlyCharges</th><th>TotalCharges</th></tr><tr><td>f64</td><td>f64</td><td>f64</td></tr></thead><tbody><tr><td>-1.280248</td><td>-1.161694</td><td>-0.994194</td></tr><tr><td>0.064303</td><td>-0.260878</td><td>-0.17374</td></tr><tr><td>-1.239504</td><td>-0.363923</td><td>-0.959649</td></tr><tr><td>0.512486</td><td>-0.74785</td><td>-0.195248</td></tr><tr><td>-1.239504</td><td>0.196178</td><td>-0.940457</td></tr><tr><td>&hellip;</td><td>&hellip;</td><td>&hellip;</td></tr><tr><td>-0.343137</td><td>0.664868</td><td>-0.12918</td></tr><tr><td>1.612573</td><td>1.276493</td><td>2.241056</td></tr><tr><td>-0.872808</td><td>-1.170004</td><td>-0.854514</td></tr><tr><td>-1.158016</td><td>0.319168</td><td>-0.872095</td></tr><tr><td>1.368109</td><td>1.357932</td><td>2.012344</td></tr></tbody></table></div>"
      ],
      "text/plain": [
       "shape: (7_032, 3)\n",
       "┌───────────┬────────────────┬──────────────┐\n",
       "│ tenure    ┆ MonthlyCharges ┆ TotalCharges │\n",
       "│ ---       ┆ ---            ┆ ---          │\n",
       "│ f64       ┆ f64            ┆ f64          │\n",
       "╞═══════════╪════════════════╪══════════════╡\n",
       "│ -1.280248 ┆ -1.161694      ┆ -0.994194    │\n",
       "│ 0.064303  ┆ -0.260878      ┆ -0.17374     │\n",
       "│ -1.239504 ┆ -0.363923      ┆ -0.959649    │\n",
       "│ 0.512486  ┆ -0.74785       ┆ -0.195248    │\n",
       "│ -1.239504 ┆ 0.196178       ┆ -0.940457    │\n",
       "│ …         ┆ …              ┆ …            │\n",
       "│ -0.343137 ┆ 0.664868       ┆ -0.12918     │\n",
       "│ 1.612573  ┆ 1.276493       ┆ 2.241056     │\n",
       "│ -0.872808 ┆ -1.170004      ┆ -0.854514    │\n",
       "│ -1.158016 ┆ 0.319168       ┆ -0.872095    │\n",
       "│ 1.368109  ┆ 1.357932       ┆ 2.012344     │\n",
       "└───────────┴────────────────┴──────────────┘"
      ]
     },
     "execution_count": 8,
     "metadata": {},
     "output_type": "execute_result"
    }
   ],
   "source": [
    "ss = StandardScaler()\n",
    "\n",
    "fields = df.select('tenure', 'MonthlyCharges', 'TotalCharges')\n",
    "\n",
    "standardized_np = ss.fit_transform(fields.to_numpy())\n",
    "\n",
    "standardized_df = pl.DataFrame(standardized_np, fields.columns)\n",
    "\n",
    "standardized_df"
   ]
  },
  {
   "cell_type": "markdown",
   "metadata": {},
   "source": [
    "## Question 5\n",
    "\n",
    "對三個類別變數 (gender, InternetService, PaymentMethod) 做 one-hot encoding."
   ]
  },
  {
   "cell_type": "code",
   "execution_count": 9,
   "metadata": {},
   "outputs": [
    {
     "data": {
      "text/html": [
       "<div><style>\n",
       ".dataframe > thead > tr,\n",
       ".dataframe > tbody > tr {\n",
       "  text-align: right;\n",
       "  white-space: pre-wrap;\n",
       "}\n",
       "</style>\n",
       "<small>shape: (7_032, 9)</small><table border=\"1\" class=\"dataframe\"><thead><tr><th>gender_Female</th><th>gender_Male</th><th>InternetService_DSL</th><th>InternetService_Fiber optic</th><th>InternetService_No</th><th>PaymentMethod_Bank transfer (automatic)</th><th>PaymentMethod_Credit card (automatic)</th><th>PaymentMethod_Electronic check</th><th>PaymentMethod_Mailed check</th></tr><tr><td>u8</td><td>u8</td><td>u8</td><td>u8</td><td>u8</td><td>u8</td><td>u8</td><td>u8</td><td>u8</td></tr></thead><tbody><tr><td>1</td><td>0</td><td>1</td><td>0</td><td>0</td><td>0</td><td>0</td><td>1</td><td>0</td></tr><tr><td>0</td><td>1</td><td>1</td><td>0</td><td>0</td><td>0</td><td>0</td><td>0</td><td>1</td></tr><tr><td>0</td><td>1</td><td>1</td><td>0</td><td>0</td><td>0</td><td>0</td><td>0</td><td>1</td></tr><tr><td>0</td><td>1</td><td>1</td><td>0</td><td>0</td><td>1</td><td>0</td><td>0</td><td>0</td></tr><tr><td>1</td><td>0</td><td>0</td><td>1</td><td>0</td><td>0</td><td>0</td><td>1</td><td>0</td></tr><tr><td>&hellip;</td><td>&hellip;</td><td>&hellip;</td><td>&hellip;</td><td>&hellip;</td><td>&hellip;</td><td>&hellip;</td><td>&hellip;</td><td>&hellip;</td></tr><tr><td>0</td><td>1</td><td>1</td><td>0</td><td>0</td><td>0</td><td>0</td><td>0</td><td>1</td></tr><tr><td>1</td><td>0</td><td>0</td><td>1</td><td>0</td><td>0</td><td>1</td><td>0</td><td>0</td></tr><tr><td>1</td><td>0</td><td>1</td><td>0</td><td>0</td><td>0</td><td>0</td><td>1</td><td>0</td></tr><tr><td>0</td><td>1</td><td>0</td><td>1</td><td>0</td><td>0</td><td>0</td><td>0</td><td>1</td></tr><tr><td>0</td><td>1</td><td>0</td><td>1</td><td>0</td><td>1</td><td>0</td><td>0</td><td>0</td></tr></tbody></table></div>"
      ],
      "text/plain": [
       "shape: (7_032, 9)\n",
       "┌───────────┬───────────┬───────────┬───────────┬───┬───────────┬───────────┬───────────┬──────────┐\n",
       "│ gender_Fe ┆ gender_Ma ┆ InternetS ┆ InternetS ┆ … ┆ PaymentMe ┆ PaymentMe ┆ PaymentMe ┆ PaymentM │\n",
       "│ male      ┆ le        ┆ ervice_DS ┆ ervice_Fi ┆   ┆ thod_Bank ┆ thod_Cred ┆ thod_Elec ┆ ethod_Ma │\n",
       "│ ---       ┆ ---       ┆ L         ┆ ber optic ┆   ┆ transfer  ┆ it card   ┆ tronic    ┆ iled     │\n",
       "│ u8        ┆ u8        ┆ ---       ┆ ---       ┆   ┆ (a…       ┆ (aut…     ┆ check     ┆ check    │\n",
       "│           ┆           ┆ u8        ┆ u8        ┆   ┆ ---       ┆ ---       ┆ ---       ┆ ---      │\n",
       "│           ┆           ┆           ┆           ┆   ┆ u8        ┆ u8        ┆ u8        ┆ u8       │\n",
       "╞═══════════╪═══════════╪═══════════╪═══════════╪═══╪═══════════╪═══════════╪═══════════╪══════════╡\n",
       "│ 1         ┆ 0         ┆ 1         ┆ 0         ┆ … ┆ 0         ┆ 0         ┆ 1         ┆ 0        │\n",
       "│ 0         ┆ 1         ┆ 1         ┆ 0         ┆ … ┆ 0         ┆ 0         ┆ 0         ┆ 1        │\n",
       "│ 0         ┆ 1         ┆ 1         ┆ 0         ┆ … ┆ 0         ┆ 0         ┆ 0         ┆ 1        │\n",
       "│ 0         ┆ 1         ┆ 1         ┆ 0         ┆ … ┆ 1         ┆ 0         ┆ 0         ┆ 0        │\n",
       "│ 1         ┆ 0         ┆ 0         ┆ 1         ┆ … ┆ 0         ┆ 0         ┆ 1         ┆ 0        │\n",
       "│ …         ┆ …         ┆ …         ┆ …         ┆ … ┆ …         ┆ …         ┆ …         ┆ …        │\n",
       "│ 0         ┆ 1         ┆ 1         ┆ 0         ┆ … ┆ 0         ┆ 0         ┆ 0         ┆ 1        │\n",
       "│ 1         ┆ 0         ┆ 0         ┆ 1         ┆ … ┆ 0         ┆ 1         ┆ 0         ┆ 0        │\n",
       "│ 1         ┆ 0         ┆ 1         ┆ 0         ┆ … ┆ 0         ┆ 0         ┆ 1         ┆ 0        │\n",
       "│ 0         ┆ 1         ┆ 0         ┆ 1         ┆ … ┆ 0         ┆ 0         ┆ 0         ┆ 1        │\n",
       "│ 0         ┆ 1         ┆ 0         ┆ 1         ┆ … ┆ 1         ┆ 0         ┆ 0         ┆ 0        │\n",
       "└───────────┴───────────┴───────────┴───────────┴───┴───────────┴───────────┴───────────┴──────────┘"
      ]
     },
     "execution_count": 9,
     "metadata": {},
     "output_type": "execute_result"
    }
   ],
   "source": [
    "one_hot_encoded_df = df.select(\"gender\", \"InternetService\", \"PaymentMethod\").to_dummies()\n",
    "\n",
    "one_hot_encoded_df"
   ]
  },
  {
   "cell_type": "markdown",
   "metadata": {},
   "source": [
    "## Question 6\n",
    "\n",
    "用 Random Forest 開始進行預測，目標變數為 Churn，特徵變數為 tenure, MonthlyCharges, TotalCHarges, gender, InternetService, PaymentMethod"
   ]
  },
  {
   "cell_type": "markdown",
   "metadata": {},
   "source": [
    "Merge the encoded and standardized result."
   ]
  },
  {
   "cell_type": "code",
   "execution_count": 10,
   "metadata": {},
   "outputs": [
    {
     "data": {
      "text/html": [
       "<div><style>\n",
       ".dataframe > thead > tr,\n",
       ".dataframe > tbody > tr {\n",
       "  text-align: right;\n",
       "  white-space: pre-wrap;\n",
       "}\n",
       "</style>\n",
       "<small>shape: (7_032, 13)</small><table border=\"1\" class=\"dataframe\"><thead><tr><th>tenure</th><th>MonthlyCharges</th><th>TotalCharges</th><th>gender_Female</th><th>gender_Male</th><th>InternetService_DSL</th><th>InternetService_Fiber optic</th><th>InternetService_No</th><th>PaymentMethod_Bank transfer (automatic)</th><th>PaymentMethod_Credit card (automatic)</th><th>PaymentMethod_Electronic check</th><th>PaymentMethod_Mailed check</th><th>Churn</th></tr><tr><td>f64</td><td>f64</td><td>f64</td><td>u8</td><td>u8</td><td>u8</td><td>u8</td><td>u8</td><td>u8</td><td>u8</td><td>u8</td><td>u8</td><td>i32</td></tr></thead><tbody><tr><td>-1.280248</td><td>-1.161694</td><td>-0.994194</td><td>1</td><td>0</td><td>1</td><td>0</td><td>0</td><td>0</td><td>0</td><td>1</td><td>0</td><td>0</td></tr><tr><td>0.064303</td><td>-0.260878</td><td>-0.17374</td><td>0</td><td>1</td><td>1</td><td>0</td><td>0</td><td>0</td><td>0</td><td>0</td><td>1</td><td>0</td></tr><tr><td>-1.239504</td><td>-0.363923</td><td>-0.959649</td><td>0</td><td>1</td><td>1</td><td>0</td><td>0</td><td>0</td><td>0</td><td>0</td><td>1</td><td>1</td></tr><tr><td>0.512486</td><td>-0.74785</td><td>-0.195248</td><td>0</td><td>1</td><td>1</td><td>0</td><td>0</td><td>1</td><td>0</td><td>0</td><td>0</td><td>0</td></tr><tr><td>-1.239504</td><td>0.196178</td><td>-0.940457</td><td>1</td><td>0</td><td>0</td><td>1</td><td>0</td><td>0</td><td>0</td><td>1</td><td>0</td><td>1</td></tr><tr><td>&hellip;</td><td>&hellip;</td><td>&hellip;</td><td>&hellip;</td><td>&hellip;</td><td>&hellip;</td><td>&hellip;</td><td>&hellip;</td><td>&hellip;</td><td>&hellip;</td><td>&hellip;</td><td>&hellip;</td><td>&hellip;</td></tr><tr><td>-0.343137</td><td>0.664868</td><td>-0.12918</td><td>0</td><td>1</td><td>1</td><td>0</td><td>0</td><td>0</td><td>0</td><td>0</td><td>1</td><td>0</td></tr><tr><td>1.612573</td><td>1.276493</td><td>2.241056</td><td>1</td><td>0</td><td>0</td><td>1</td><td>0</td><td>0</td><td>1</td><td>0</td><td>0</td><td>0</td></tr><tr><td>-0.872808</td><td>-1.170004</td><td>-0.854514</td><td>1</td><td>0</td><td>1</td><td>0</td><td>0</td><td>0</td><td>0</td><td>1</td><td>0</td><td>0</td></tr><tr><td>-1.158016</td><td>0.319168</td><td>-0.872095</td><td>0</td><td>1</td><td>0</td><td>1</td><td>0</td><td>0</td><td>0</td><td>0</td><td>1</td><td>1</td></tr><tr><td>1.368109</td><td>1.357932</td><td>2.012344</td><td>0</td><td>1</td><td>0</td><td>1</td><td>0</td><td>1</td><td>0</td><td>0</td><td>0</td><td>0</td></tr></tbody></table></div>"
      ],
      "text/plain": [
       "shape: (7_032, 13)\n",
       "┌───────────┬────────────┬────────────┬────────────┬───┬───────────┬───────────┬───────────┬───────┐\n",
       "│ tenure    ┆ MonthlyCha ┆ TotalCharg ┆ gender_Fem ┆ … ┆ PaymentMe ┆ PaymentMe ┆ PaymentMe ┆ Churn │\n",
       "│ ---       ┆ rges       ┆ es         ┆ ale        ┆   ┆ thod_Cred ┆ thod_Elec ┆ thod_Mail ┆ ---   │\n",
       "│ f64       ┆ ---        ┆ ---        ┆ ---        ┆   ┆ it card   ┆ tronic    ┆ ed check  ┆ i32   │\n",
       "│           ┆ f64        ┆ f64        ┆ u8         ┆   ┆ (aut…     ┆ check     ┆ ---       ┆       │\n",
       "│           ┆            ┆            ┆            ┆   ┆ ---       ┆ ---       ┆ u8        ┆       │\n",
       "│           ┆            ┆            ┆            ┆   ┆ u8        ┆ u8        ┆           ┆       │\n",
       "╞═══════════╪════════════╪════════════╪════════════╪═══╪═══════════╪═══════════╪═══════════╪═══════╡\n",
       "│ -1.280248 ┆ -1.161694  ┆ -0.994194  ┆ 1          ┆ … ┆ 0         ┆ 1         ┆ 0         ┆ 0     │\n",
       "│ 0.064303  ┆ -0.260878  ┆ -0.17374   ┆ 0          ┆ … ┆ 0         ┆ 0         ┆ 1         ┆ 0     │\n",
       "│ -1.239504 ┆ -0.363923  ┆ -0.959649  ┆ 0          ┆ … ┆ 0         ┆ 0         ┆ 1         ┆ 1     │\n",
       "│ 0.512486  ┆ -0.74785   ┆ -0.195248  ┆ 0          ┆ … ┆ 0         ┆ 0         ┆ 0         ┆ 0     │\n",
       "│ -1.239504 ┆ 0.196178   ┆ -0.940457  ┆ 1          ┆ … ┆ 0         ┆ 1         ┆ 0         ┆ 1     │\n",
       "│ …         ┆ …          ┆ …          ┆ …          ┆ … ┆ …         ┆ …         ┆ …         ┆ …     │\n",
       "│ -0.343137 ┆ 0.664868   ┆ -0.12918   ┆ 0          ┆ … ┆ 0         ┆ 0         ┆ 1         ┆ 0     │\n",
       "│ 1.612573  ┆ 1.276493   ┆ 2.241056   ┆ 1          ┆ … ┆ 1         ┆ 0         ┆ 0         ┆ 0     │\n",
       "│ -0.872808 ┆ -1.170004  ┆ -0.854514  ┆ 1          ┆ … ┆ 0         ┆ 1         ┆ 0         ┆ 0     │\n",
       "│ -1.158016 ┆ 0.319168   ┆ -0.872095  ┆ 0          ┆ … ┆ 0         ┆ 0         ┆ 1         ┆ 1     │\n",
       "│ 1.368109  ┆ 1.357932   ┆ 2.012344   ┆ 0          ┆ … ┆ 0         ┆ 0         ┆ 0         ┆ 0     │\n",
       "└───────────┴────────────┴────────────┴────────────┴───┴───────────┴───────────┴───────────┴───────┘"
      ]
     },
     "execution_count": 10,
     "metadata": {},
     "output_type": "execute_result"
    }
   ],
   "source": [
    "to_predict_total_df = pl.concat([\n",
    "    standardized_df,\n",
    "    one_hot_encoded_df,\n",
    "    df.select(\"Churn\")\n",
    "], how=\"horizontal\")\n",
    "\n",
    "to_predict_total_df"
   ]
  },
  {
   "cell_type": "markdown",
   "metadata": {},
   "source": [
    "Split the train and test set."
   ]
  },
  {
   "cell_type": "code",
   "execution_count": 11,
   "metadata": {},
   "outputs": [
    {
     "data": {
      "text/html": [
       "<div><style>\n",
       ".dataframe > thead > tr,\n",
       ".dataframe > tbody > tr {\n",
       "  text-align: right;\n",
       "  white-space: pre-wrap;\n",
       "}\n",
       "</style>\n",
       "<small>shape: (1_406,)</small><table border=\"1\" class=\"dataframe\"><thead><tr><th>index</th></tr><tr><td>u32</td></tr></thead><tbody><tr><td>6784</td></tr><tr><td>4276</td></tr><tr><td>1676</td></tr><tr><td>4521</td></tr><tr><td>955</td></tr><tr><td>&hellip;</td></tr><tr><td>2384</td></tr><tr><td>4144</td></tr><tr><td>299</td></tr><tr><td>2298</td></tr><tr><td>695</td></tr></tbody></table></div>"
      ],
      "text/plain": [
       "shape: (1_406,)\n",
       "Series: 'index' [u32]\n",
       "[\n",
       "\t6784\n",
       "\t4276\n",
       "\t1676\n",
       "\t4521\n",
       "\t955\n",
       "\t…\n",
       "\t2384\n",
       "\t4144\n",
       "\t299\n",
       "\t2298\n",
       "\t695\n",
       "]"
      ]
     },
     "execution_count": 11,
     "metadata": {},
     "output_type": "execute_result"
    }
   ],
   "source": [
    "shuffled_df = to_predict_total_df.with_row_index().sample(fraction=1, shuffle=True, seed=42)\n",
    "\n",
    "test_size = int(shuffled_df.height * 0.2)\n",
    "test, train = shuffled_df.head(test_size), shuffled_df.tail(-test_size)\n",
    "\n",
    "X_test, y_test = test.drop(\"Churn\", \"index\"), test[\"Churn\"]\n",
    "X_train, y_train = train.drop(\"Churn\", \"index\"), train[\"Churn\"]\n",
    "\n",
    "test[\"index\"]"
   ]
  },
  {
   "cell_type": "markdown",
   "metadata": {},
   "source": [
    "Predict with Random Forest."
   ]
  },
  {
   "cell_type": "code",
   "execution_count": 12,
   "metadata": {},
   "outputs": [],
   "source": [
    "from sklearn.ensemble import RandomForestClassifier\n",
    "\n",
    "rf_model = RandomForestClassifier()"
   ]
  },
  {
   "cell_type": "code",
   "execution_count": 13,
   "metadata": {},
   "outputs": [
    {
     "data": {
      "text/html": [
       "<style>#sk-container-id-1 {\n",
       "  /* Definition of color scheme common for light and dark mode */\n",
       "  --sklearn-color-text: black;\n",
       "  --sklearn-color-line: gray;\n",
       "  /* Definition of color scheme for unfitted estimators */\n",
       "  --sklearn-color-unfitted-level-0: #fff5e6;\n",
       "  --sklearn-color-unfitted-level-1: #f6e4d2;\n",
       "  --sklearn-color-unfitted-level-2: #ffe0b3;\n",
       "  --sklearn-color-unfitted-level-3: chocolate;\n",
       "  /* Definition of color scheme for fitted estimators */\n",
       "  --sklearn-color-fitted-level-0: #f0f8ff;\n",
       "  --sklearn-color-fitted-level-1: #d4ebff;\n",
       "  --sklearn-color-fitted-level-2: #b3dbfd;\n",
       "  --sklearn-color-fitted-level-3: cornflowerblue;\n",
       "\n",
       "  /* Specific color for light theme */\n",
       "  --sklearn-color-text-on-default-background: var(--sg-text-color, var(--theme-code-foreground, var(--jp-content-font-color1, black)));\n",
       "  --sklearn-color-background: var(--sg-background-color, var(--theme-background, var(--jp-layout-color0, white)));\n",
       "  --sklearn-color-border-box: var(--sg-text-color, var(--theme-code-foreground, var(--jp-content-font-color1, black)));\n",
       "  --sklearn-color-icon: #696969;\n",
       "\n",
       "  @media (prefers-color-scheme: dark) {\n",
       "    /* Redefinition of color scheme for dark theme */\n",
       "    --sklearn-color-text-on-default-background: var(--sg-text-color, var(--theme-code-foreground, var(--jp-content-font-color1, white)));\n",
       "    --sklearn-color-background: var(--sg-background-color, var(--theme-background, var(--jp-layout-color0, #111)));\n",
       "    --sklearn-color-border-box: var(--sg-text-color, var(--theme-code-foreground, var(--jp-content-font-color1, white)));\n",
       "    --sklearn-color-icon: #878787;\n",
       "  }\n",
       "}\n",
       "\n",
       "#sk-container-id-1 {\n",
       "  color: var(--sklearn-color-text);\n",
       "}\n",
       "\n",
       "#sk-container-id-1 pre {\n",
       "  padding: 0;\n",
       "}\n",
       "\n",
       "#sk-container-id-1 input.sk-hidden--visually {\n",
       "  border: 0;\n",
       "  clip: rect(1px 1px 1px 1px);\n",
       "  clip: rect(1px, 1px, 1px, 1px);\n",
       "  height: 1px;\n",
       "  margin: -1px;\n",
       "  overflow: hidden;\n",
       "  padding: 0;\n",
       "  position: absolute;\n",
       "  width: 1px;\n",
       "}\n",
       "\n",
       "#sk-container-id-1 div.sk-dashed-wrapped {\n",
       "  border: 1px dashed var(--sklearn-color-line);\n",
       "  margin: 0 0.4em 0.5em 0.4em;\n",
       "  box-sizing: border-box;\n",
       "  padding-bottom: 0.4em;\n",
       "  background-color: var(--sklearn-color-background);\n",
       "}\n",
       "\n",
       "#sk-container-id-1 div.sk-container {\n",
       "  /* jupyter's `normalize.less` sets `[hidden] { display: none; }`\n",
       "     but bootstrap.min.css set `[hidden] { display: none !important; }`\n",
       "     so we also need the `!important` here to be able to override the\n",
       "     default hidden behavior on the sphinx rendered scikit-learn.org.\n",
       "     See: https://github.com/scikit-learn/scikit-learn/issues/21755 */\n",
       "  display: inline-block !important;\n",
       "  position: relative;\n",
       "}\n",
       "\n",
       "#sk-container-id-1 div.sk-text-repr-fallback {\n",
       "  display: none;\n",
       "}\n",
       "\n",
       "div.sk-parallel-item,\n",
       "div.sk-serial,\n",
       "div.sk-item {\n",
       "  /* draw centered vertical line to link estimators */\n",
       "  background-image: linear-gradient(var(--sklearn-color-text-on-default-background), var(--sklearn-color-text-on-default-background));\n",
       "  background-size: 2px 100%;\n",
       "  background-repeat: no-repeat;\n",
       "  background-position: center center;\n",
       "}\n",
       "\n",
       "/* Parallel-specific style estimator block */\n",
       "\n",
       "#sk-container-id-1 div.sk-parallel-item::after {\n",
       "  content: \"\";\n",
       "  width: 100%;\n",
       "  border-bottom: 2px solid var(--sklearn-color-text-on-default-background);\n",
       "  flex-grow: 1;\n",
       "}\n",
       "\n",
       "#sk-container-id-1 div.sk-parallel {\n",
       "  display: flex;\n",
       "  align-items: stretch;\n",
       "  justify-content: center;\n",
       "  background-color: var(--sklearn-color-background);\n",
       "  position: relative;\n",
       "}\n",
       "\n",
       "#sk-container-id-1 div.sk-parallel-item {\n",
       "  display: flex;\n",
       "  flex-direction: column;\n",
       "}\n",
       "\n",
       "#sk-container-id-1 div.sk-parallel-item:first-child::after {\n",
       "  align-self: flex-end;\n",
       "  width: 50%;\n",
       "}\n",
       "\n",
       "#sk-container-id-1 div.sk-parallel-item:last-child::after {\n",
       "  align-self: flex-start;\n",
       "  width: 50%;\n",
       "}\n",
       "\n",
       "#sk-container-id-1 div.sk-parallel-item:only-child::after {\n",
       "  width: 0;\n",
       "}\n",
       "\n",
       "/* Serial-specific style estimator block */\n",
       "\n",
       "#sk-container-id-1 div.sk-serial {\n",
       "  display: flex;\n",
       "  flex-direction: column;\n",
       "  align-items: center;\n",
       "  background-color: var(--sklearn-color-background);\n",
       "  padding-right: 1em;\n",
       "  padding-left: 1em;\n",
       "}\n",
       "\n",
       "\n",
       "/* Toggleable style: style used for estimator/Pipeline/ColumnTransformer box that is\n",
       "clickable and can be expanded/collapsed.\n",
       "- Pipeline and ColumnTransformer use this feature and define the default style\n",
       "- Estimators will overwrite some part of the style using the `sk-estimator` class\n",
       "*/\n",
       "\n",
       "/* Pipeline and ColumnTransformer style (default) */\n",
       "\n",
       "#sk-container-id-1 div.sk-toggleable {\n",
       "  /* Default theme specific background. It is overwritten whether we have a\n",
       "  specific estimator or a Pipeline/ColumnTransformer */\n",
       "  background-color: var(--sklearn-color-background);\n",
       "}\n",
       "\n",
       "/* Toggleable label */\n",
       "#sk-container-id-1 label.sk-toggleable__label {\n",
       "  cursor: pointer;\n",
       "  display: block;\n",
       "  width: 100%;\n",
       "  margin-bottom: 0;\n",
       "  padding: 0.5em;\n",
       "  box-sizing: border-box;\n",
       "  text-align: center;\n",
       "}\n",
       "\n",
       "#sk-container-id-1 label.sk-toggleable__label-arrow:before {\n",
       "  /* Arrow on the left of the label */\n",
       "  content: \"▸\";\n",
       "  float: left;\n",
       "  margin-right: 0.25em;\n",
       "  color: var(--sklearn-color-icon);\n",
       "}\n",
       "\n",
       "#sk-container-id-1 label.sk-toggleable__label-arrow:hover:before {\n",
       "  color: var(--sklearn-color-text);\n",
       "}\n",
       "\n",
       "/* Toggleable content - dropdown */\n",
       "\n",
       "#sk-container-id-1 div.sk-toggleable__content {\n",
       "  max-height: 0;\n",
       "  max-width: 0;\n",
       "  overflow: hidden;\n",
       "  text-align: left;\n",
       "  /* unfitted */\n",
       "  background-color: var(--sklearn-color-unfitted-level-0);\n",
       "}\n",
       "\n",
       "#sk-container-id-1 div.sk-toggleable__content.fitted {\n",
       "  /* fitted */\n",
       "  background-color: var(--sklearn-color-fitted-level-0);\n",
       "}\n",
       "\n",
       "#sk-container-id-1 div.sk-toggleable__content pre {\n",
       "  margin: 0.2em;\n",
       "  border-radius: 0.25em;\n",
       "  color: var(--sklearn-color-text);\n",
       "  /* unfitted */\n",
       "  background-color: var(--sklearn-color-unfitted-level-0);\n",
       "}\n",
       "\n",
       "#sk-container-id-1 div.sk-toggleable__content.fitted pre {\n",
       "  /* unfitted */\n",
       "  background-color: var(--sklearn-color-fitted-level-0);\n",
       "}\n",
       "\n",
       "#sk-container-id-1 input.sk-toggleable__control:checked~div.sk-toggleable__content {\n",
       "  /* Expand drop-down */\n",
       "  max-height: 200px;\n",
       "  max-width: 100%;\n",
       "  overflow: auto;\n",
       "}\n",
       "\n",
       "#sk-container-id-1 input.sk-toggleable__control:checked~label.sk-toggleable__label-arrow:before {\n",
       "  content: \"▾\";\n",
       "}\n",
       "\n",
       "/* Pipeline/ColumnTransformer-specific style */\n",
       "\n",
       "#sk-container-id-1 div.sk-label input.sk-toggleable__control:checked~label.sk-toggleable__label {\n",
       "  color: var(--sklearn-color-text);\n",
       "  background-color: var(--sklearn-color-unfitted-level-2);\n",
       "}\n",
       "\n",
       "#sk-container-id-1 div.sk-label.fitted input.sk-toggleable__control:checked~label.sk-toggleable__label {\n",
       "  background-color: var(--sklearn-color-fitted-level-2);\n",
       "}\n",
       "\n",
       "/* Estimator-specific style */\n",
       "\n",
       "/* Colorize estimator box */\n",
       "#sk-container-id-1 div.sk-estimator input.sk-toggleable__control:checked~label.sk-toggleable__label {\n",
       "  /* unfitted */\n",
       "  background-color: var(--sklearn-color-unfitted-level-2);\n",
       "}\n",
       "\n",
       "#sk-container-id-1 div.sk-estimator.fitted input.sk-toggleable__control:checked~label.sk-toggleable__label {\n",
       "  /* fitted */\n",
       "  background-color: var(--sklearn-color-fitted-level-2);\n",
       "}\n",
       "\n",
       "#sk-container-id-1 div.sk-label label.sk-toggleable__label,\n",
       "#sk-container-id-1 div.sk-label label {\n",
       "  /* The background is the default theme color */\n",
       "  color: var(--sklearn-color-text-on-default-background);\n",
       "}\n",
       "\n",
       "/* On hover, darken the color of the background */\n",
       "#sk-container-id-1 div.sk-label:hover label.sk-toggleable__label {\n",
       "  color: var(--sklearn-color-text);\n",
       "  background-color: var(--sklearn-color-unfitted-level-2);\n",
       "}\n",
       "\n",
       "/* Label box, darken color on hover, fitted */\n",
       "#sk-container-id-1 div.sk-label.fitted:hover label.sk-toggleable__label.fitted {\n",
       "  color: var(--sklearn-color-text);\n",
       "  background-color: var(--sklearn-color-fitted-level-2);\n",
       "}\n",
       "\n",
       "/* Estimator label */\n",
       "\n",
       "#sk-container-id-1 div.sk-label label {\n",
       "  font-family: monospace;\n",
       "  font-weight: bold;\n",
       "  display: inline-block;\n",
       "  line-height: 1.2em;\n",
       "}\n",
       "\n",
       "#sk-container-id-1 div.sk-label-container {\n",
       "  text-align: center;\n",
       "}\n",
       "\n",
       "/* Estimator-specific */\n",
       "#sk-container-id-1 div.sk-estimator {\n",
       "  font-family: monospace;\n",
       "  border: 1px dotted var(--sklearn-color-border-box);\n",
       "  border-radius: 0.25em;\n",
       "  box-sizing: border-box;\n",
       "  margin-bottom: 0.5em;\n",
       "  /* unfitted */\n",
       "  background-color: var(--sklearn-color-unfitted-level-0);\n",
       "}\n",
       "\n",
       "#sk-container-id-1 div.sk-estimator.fitted {\n",
       "  /* fitted */\n",
       "  background-color: var(--sklearn-color-fitted-level-0);\n",
       "}\n",
       "\n",
       "/* on hover */\n",
       "#sk-container-id-1 div.sk-estimator:hover {\n",
       "  /* unfitted */\n",
       "  background-color: var(--sklearn-color-unfitted-level-2);\n",
       "}\n",
       "\n",
       "#sk-container-id-1 div.sk-estimator.fitted:hover {\n",
       "  /* fitted */\n",
       "  background-color: var(--sklearn-color-fitted-level-2);\n",
       "}\n",
       "\n",
       "/* Specification for estimator info (e.g. \"i\" and \"?\") */\n",
       "\n",
       "/* Common style for \"i\" and \"?\" */\n",
       "\n",
       ".sk-estimator-doc-link,\n",
       "a:link.sk-estimator-doc-link,\n",
       "a:visited.sk-estimator-doc-link {\n",
       "  float: right;\n",
       "  font-size: smaller;\n",
       "  line-height: 1em;\n",
       "  font-family: monospace;\n",
       "  background-color: var(--sklearn-color-background);\n",
       "  border-radius: 1em;\n",
       "  height: 1em;\n",
       "  width: 1em;\n",
       "  text-decoration: none !important;\n",
       "  margin-left: 1ex;\n",
       "  /* unfitted */\n",
       "  border: var(--sklearn-color-unfitted-level-1) 1pt solid;\n",
       "  color: var(--sklearn-color-unfitted-level-1);\n",
       "}\n",
       "\n",
       ".sk-estimator-doc-link.fitted,\n",
       "a:link.sk-estimator-doc-link.fitted,\n",
       "a:visited.sk-estimator-doc-link.fitted {\n",
       "  /* fitted */\n",
       "  border: var(--sklearn-color-fitted-level-1) 1pt solid;\n",
       "  color: var(--sklearn-color-fitted-level-1);\n",
       "}\n",
       "\n",
       "/* On hover */\n",
       "div.sk-estimator:hover .sk-estimator-doc-link:hover,\n",
       ".sk-estimator-doc-link:hover,\n",
       "div.sk-label-container:hover .sk-estimator-doc-link:hover,\n",
       ".sk-estimator-doc-link:hover {\n",
       "  /* unfitted */\n",
       "  background-color: var(--sklearn-color-unfitted-level-3);\n",
       "  color: var(--sklearn-color-background);\n",
       "  text-decoration: none;\n",
       "}\n",
       "\n",
       "div.sk-estimator.fitted:hover .sk-estimator-doc-link.fitted:hover,\n",
       ".sk-estimator-doc-link.fitted:hover,\n",
       "div.sk-label-container:hover .sk-estimator-doc-link.fitted:hover,\n",
       ".sk-estimator-doc-link.fitted:hover {\n",
       "  /* fitted */\n",
       "  background-color: var(--sklearn-color-fitted-level-3);\n",
       "  color: var(--sklearn-color-background);\n",
       "  text-decoration: none;\n",
       "}\n",
       "\n",
       "/* Span, style for the box shown on hovering the info icon */\n",
       ".sk-estimator-doc-link span {\n",
       "  display: none;\n",
       "  z-index: 9999;\n",
       "  position: relative;\n",
       "  font-weight: normal;\n",
       "  right: .2ex;\n",
       "  padding: .5ex;\n",
       "  margin: .5ex;\n",
       "  width: min-content;\n",
       "  min-width: 20ex;\n",
       "  max-width: 50ex;\n",
       "  color: var(--sklearn-color-text);\n",
       "  box-shadow: 2pt 2pt 4pt #999;\n",
       "  /* unfitted */\n",
       "  background: var(--sklearn-color-unfitted-level-0);\n",
       "  border: .5pt solid var(--sklearn-color-unfitted-level-3);\n",
       "}\n",
       "\n",
       ".sk-estimator-doc-link.fitted span {\n",
       "  /* fitted */\n",
       "  background: var(--sklearn-color-fitted-level-0);\n",
       "  border: var(--sklearn-color-fitted-level-3);\n",
       "}\n",
       "\n",
       ".sk-estimator-doc-link:hover span {\n",
       "  display: block;\n",
       "}\n",
       "\n",
       "/* \"?\"-specific style due to the `<a>` HTML tag */\n",
       "\n",
       "#sk-container-id-1 a.estimator_doc_link {\n",
       "  float: right;\n",
       "  font-size: 1rem;\n",
       "  line-height: 1em;\n",
       "  font-family: monospace;\n",
       "  background-color: var(--sklearn-color-background);\n",
       "  border-radius: 1rem;\n",
       "  height: 1rem;\n",
       "  width: 1rem;\n",
       "  text-decoration: none;\n",
       "  /* unfitted */\n",
       "  color: var(--sklearn-color-unfitted-level-1);\n",
       "  border: var(--sklearn-color-unfitted-level-1) 1pt solid;\n",
       "}\n",
       "\n",
       "#sk-container-id-1 a.estimator_doc_link.fitted {\n",
       "  /* fitted */\n",
       "  border: var(--sklearn-color-fitted-level-1) 1pt solid;\n",
       "  color: var(--sklearn-color-fitted-level-1);\n",
       "}\n",
       "\n",
       "/* On hover */\n",
       "#sk-container-id-1 a.estimator_doc_link:hover {\n",
       "  /* unfitted */\n",
       "  background-color: var(--sklearn-color-unfitted-level-3);\n",
       "  color: var(--sklearn-color-background);\n",
       "  text-decoration: none;\n",
       "}\n",
       "\n",
       "#sk-container-id-1 a.estimator_doc_link.fitted:hover {\n",
       "  /* fitted */\n",
       "  background-color: var(--sklearn-color-fitted-level-3);\n",
       "}\n",
       "</style><div id=\"sk-container-id-1\" class=\"sk-top-container\"><div class=\"sk-text-repr-fallback\"><pre>RandomForestClassifier()</pre><b>In a Jupyter environment, please rerun this cell to show the HTML representation or trust the notebook. <br />On GitHub, the HTML representation is unable to render, please try loading this page with nbviewer.org.</b></div><div class=\"sk-container\" hidden><div class=\"sk-item\"><div class=\"sk-estimator fitted sk-toggleable\"><input class=\"sk-toggleable__control sk-hidden--visually\" id=\"sk-estimator-id-1\" type=\"checkbox\" checked><label for=\"sk-estimator-id-1\" class=\"sk-toggleable__label fitted sk-toggleable__label-arrow fitted\">&nbsp;&nbsp;RandomForestClassifier<a class=\"sk-estimator-doc-link fitted\" rel=\"noreferrer\" target=\"_blank\" href=\"https://scikit-learn.org/1.5/modules/generated/sklearn.ensemble.RandomForestClassifier.html\">?<span>Documentation for RandomForestClassifier</span></a><span class=\"sk-estimator-doc-link fitted\">i<span>Fitted</span></span></label><div class=\"sk-toggleable__content fitted\"><pre>RandomForestClassifier()</pre></div> </div></div></div></div>"
      ],
      "text/plain": [
       "RandomForestClassifier()"
      ]
     },
     "execution_count": 13,
     "metadata": {},
     "output_type": "execute_result"
    }
   ],
   "source": [
    "rf_model.fit(X_train, y_train)"
   ]
  },
  {
   "cell_type": "code",
   "execution_count": 14,
   "metadata": {},
   "outputs": [
    {
     "data": {
      "text/plain": [
       "array([1, 1, 0, ..., 1, 1, 0], dtype=int32)"
      ]
     },
     "execution_count": 14,
     "metadata": {},
     "output_type": "execute_result"
    }
   ],
   "source": [
    "y_test_pred = rf_model.predict(X_test)\n",
    "y_test_pred"
   ]
  },
  {
   "cell_type": "markdown",
   "metadata": {},
   "source": [
    "## Question 7\n",
    "\n",
    "列出 Random Forest 的 accuracy, precision, recall 值。"
   ]
  },
  {
   "cell_type": "code",
   "execution_count": 15,
   "metadata": {},
   "outputs": [
    {
     "name": "stdout",
     "output_type": "stream",
     "text": [
      "測試集準確率 (Accuracy): 0.75\n",
      "測試集精確度 (Precision): 0.51\n",
      "測試集召回率 (Recall): 0.46\n"
     ]
    }
   ],
   "source": [
    "from sklearn.metrics import accuracy_score, precision_score, recall_score\n",
    "\n",
    "print(\"測試集準確率 (Accuracy): {:.2}\".format(accuracy_score(y_test, y_test_pred)))\n",
    "print(\"測試集精確度 (Precision): {:.2}\".format(precision_score(y_test, y_test_pred)))\n",
    "print(\"測試集召回率 (Recall): {:.2}\".format(recall_score(y_test, y_test_pred)))"
   ]
  },
  {
   "cell_type": "markdown",
   "metadata": {},
   "source": [
    "## Question 8\n",
    "\n",
    "畫出 ROU、AUC 曲線。"
   ]
  },
  {
   "cell_type": "code",
   "execution_count": 16,
   "metadata": {},
   "outputs": [
    {
     "name": "stdout",
     "output_type": "stream",
     "text": [
      "AUC 值：0.78\n"
     ]
    }
   ],
   "source": [
    "from sklearn.metrics import roc_curve, auc\n",
    "\n",
    "# 對測試集 X_test 使用模型進行預測，並取得預測為 1 的機率\n",
    "X_test_predsba = rf_model.predict_proba(X_test)[:, 1]\n",
    "\n",
    "# 計算測資料的 ROC 曲線資料，並回傳 3 個值\n",
    "fpr, tpr, thresholds = roc_curve(y_test, X_test_predsba)\n",
    "\n",
    "# 計算 AUC 值\n",
    "auc_value = auc(fpr, tpr)\n",
    "\n",
    "print(\"AUC 值：{:.2}\".format(auc_value))"
   ]
  },
  {
   "cell_type": "code",
   "execution_count": 17,
   "metadata": {},
   "outputs": [
    {
     "data": {
      "text/html": [
       "\n",
       "<style>\n",
       "  #altair-viz-876e039e7ed9408bbc9ce0f171556313.vega-embed {\n",
       "    width: 100%;\n",
       "    display: flex;\n",
       "  }\n",
       "\n",
       "  #altair-viz-876e039e7ed9408bbc9ce0f171556313.vega-embed details,\n",
       "  #altair-viz-876e039e7ed9408bbc9ce0f171556313.vega-embed details summary {\n",
       "    position: relative;\n",
       "  }\n",
       "</style>\n",
       "<div id=\"altair-viz-876e039e7ed9408bbc9ce0f171556313\"></div>\n",
       "<script type=\"text/javascript\">\n",
       "  var VEGA_DEBUG = (typeof VEGA_DEBUG == \"undefined\") ? {} : VEGA_DEBUG;\n",
       "  (function(spec, embedOpt){\n",
       "    let outputDiv = document.currentScript.previousElementSibling;\n",
       "    if (outputDiv.id !== \"altair-viz-876e039e7ed9408bbc9ce0f171556313\") {\n",
       "      outputDiv = document.getElementById(\"altair-viz-876e039e7ed9408bbc9ce0f171556313\");\n",
       "    }\n",
       "    const paths = {\n",
       "      \"vega\": \"https://cdn.jsdelivr.net/npm/vega@5?noext\",\n",
       "      \"vega-lib\": \"https://cdn.jsdelivr.net/npm/vega-lib?noext\",\n",
       "      \"vega-lite\": \"https://cdn.jsdelivr.net/npm/vega-lite@5.20.1?noext\",\n",
       "      \"vega-embed\": \"https://cdn.jsdelivr.net/npm/vega-embed@6?noext\",\n",
       "    };\n",
       "\n",
       "    function maybeLoadScript(lib, version) {\n",
       "      var key = `${lib.replace(\"-\", \"\")}_version`;\n",
       "      return (VEGA_DEBUG[key] == version) ?\n",
       "        Promise.resolve(paths[lib]) :\n",
       "        new Promise(function(resolve, reject) {\n",
       "          var s = document.createElement('script');\n",
       "          document.getElementsByTagName(\"head\")[0].appendChild(s);\n",
       "          s.async = true;\n",
       "          s.onload = () => {\n",
       "            VEGA_DEBUG[key] = version;\n",
       "            return resolve(paths[lib]);\n",
       "          };\n",
       "          s.onerror = () => reject(`Error loading script: ${paths[lib]}`);\n",
       "          s.src = paths[lib];\n",
       "        });\n",
       "    }\n",
       "\n",
       "    function showError(err) {\n",
       "      outputDiv.innerHTML = `<div class=\"error\" style=\"color:red;\">${err}</div>`;\n",
       "      throw err;\n",
       "    }\n",
       "\n",
       "    function displayChart(vegaEmbed) {\n",
       "      vegaEmbed(outputDiv, spec, embedOpt)\n",
       "        .catch(err => showError(`Javascript Error: ${err.message}<br>This usually means there's a typo in your chart specification. See the javascript console for the full traceback.`));\n",
       "    }\n",
       "\n",
       "    if(typeof define === \"function\" && define.amd) {\n",
       "      requirejs.config({paths});\n",
       "      require([\"vega-embed\"], displayChart, err => showError(`Error loading script: ${err.message}`));\n",
       "    } else {\n",
       "      maybeLoadScript(\"vega\", \"5\")\n",
       "        .then(() => maybeLoadScript(\"vega-lite\", \"5.20.1\"))\n",
       "        .then(() => maybeLoadScript(\"vega-embed\", \"6\"))\n",
       "        .catch(showError)\n",
       "        .then(() => displayChart(vegaEmbed));\n",
       "    }\n",
       "  })({\"config\": {\"view\": {\"continuousWidth\": 300, \"continuousHeight\": 300}, \"axis\": {\"grid\": false}, \"legend\": {\"orient\": \"bottom-right\"}}, \"data\": {\"name\": \"data-cad0ebe63e5560e0142a481f77d51cdd\"}, \"mark\": {\"type\": \"line\", \"tooltip\": true}, \"encoding\": {\"color\": {\"field\": \"Label\", \"type\": \"nominal\"}, \"strokeDash\": {\"field\": \"Label\", \"type\": \"nominal\"}, \"x\": {\"field\": \"False Positive Rate (FPR)\", \"type\": \"quantitative\"}, \"y\": {\"field\": \"True Positive Rate (TPR)\", \"type\": \"quantitative\"}}, \"params\": [{\"name\": \"param_1\", \"select\": {\"type\": \"interval\", \"encodings\": [\"x\", \"y\"]}, \"bind\": \"scales\"}, {\"name\": \"param_2\", \"select\": {\"type\": \"interval\", \"encodings\": [\"x\", \"y\"]}, \"bind\": \"scales\"}], \"title\": \"ROC Curve\", \"$schema\": \"https://vega.github.io/schema/vega-lite/v5.20.1.json\", \"datasets\": {\"data-cad0ebe63e5560e0142a481f77d51cdd\": [{\"False Positive Rate (FPR)\": 0.0, \"True Positive Rate (TPR)\": 0.0, \"Label\": \"ROC Curve (AUC = 0.78)\"}, {\"False Positive Rate (FPR)\": 0.000949667616334283, \"True Positive Rate (TPR)\": 0.028328611898016998, \"Label\": \"ROC Curve (AUC = 0.78)\"}, {\"False Positive Rate (FPR)\": 0.002849002849002849, \"True Positive Rate (TPR)\": 0.039660056657223795, \"Label\": \"ROC Curve (AUC = 0.78)\"}, {\"False Positive Rate (FPR)\": 0.003798670465337132, \"True Positive Rate (TPR)\": 0.039660056657223795, \"Label\": \"ROC Curve (AUC = 0.78)\"}, {\"False Positive Rate (FPR)\": 0.003798670465337132, \"True Positive Rate (TPR)\": 0.042492917847025496, \"Label\": \"ROC Curve (AUC = 0.78)\"}, {\"False Positive Rate (FPR)\": 0.003798670465337132, \"True Positive Rate (TPR)\": 0.056657223796033995, \"Label\": \"ROC Curve (AUC = 0.78)\"}, {\"False Positive Rate (FPR)\": 0.007597340930674264, \"True Positive Rate (TPR)\": 0.06515580736543909, \"Label\": \"ROC Curve (AUC = 0.78)\"}, {\"False Positive Rate (FPR)\": 0.007597340930674264, \"True Positive Rate (TPR)\": 0.0679886685552408, \"Label\": \"ROC Curve (AUC = 0.78)\"}, {\"False Positive Rate (FPR)\": 0.007597340930674264, \"True Positive Rate (TPR)\": 0.0821529745042493, \"Label\": \"ROC Curve (AUC = 0.78)\"}, {\"False Positive Rate (FPR)\": 0.010446343779677113, \"True Positive Rate (TPR)\": 0.08781869688385269, \"Label\": \"ROC Curve (AUC = 0.78)\"}, {\"False Positive Rate (FPR)\": 0.013295346628679962, \"True Positive Rate (TPR)\": 0.0906515580736544, \"Label\": \"ROC Curve (AUC = 0.78)\"}, {\"False Positive Rate (FPR)\": 0.016144349477682812, \"True Positive Rate (TPR)\": 0.09915014164305949, \"Label\": \"ROC Curve (AUC = 0.78)\"}, {\"False Positive Rate (FPR)\": 0.020892687559354226, \"True Positive Rate (TPR)\": 0.12181303116147309, \"Label\": \"ROC Curve (AUC = 0.78)\"}, {\"False Positive Rate (FPR)\": 0.022792022792022793, \"True Positive Rate (TPR)\": 0.1388101983002833, \"Label\": \"ROC Curve (AUC = 0.78)\"}, {\"False Positive Rate (FPR)\": 0.023741690408357077, \"True Positive Rate (TPR)\": 0.1388101983002833, \"Label\": \"ROC Curve (AUC = 0.78)\"}, {\"False Positive Rate (FPR)\": 0.023741690408357077, \"True Positive Rate (TPR)\": 0.1529745042492918, \"Label\": \"ROC Curve (AUC = 0.78)\"}, {\"False Positive Rate (FPR)\": 0.024691358024691357, \"True Positive Rate (TPR)\": 0.15864022662889518, \"Label\": \"ROC Curve (AUC = 0.78)\"}, {\"False Positive Rate (FPR)\": 0.02564102564102564, \"True Positive Rate (TPR)\": 0.16147308781869688, \"Label\": \"ROC Curve (AUC = 0.78)\"}, {\"False Positive Rate (FPR)\": 0.029439696106362774, \"True Positive Rate (TPR)\": 0.1643059490084986, \"Label\": \"ROC Curve (AUC = 0.78)\"}, {\"False Positive Rate (FPR)\": 0.029439696106362774, \"True Positive Rate (TPR)\": 0.1671388101983003, \"Label\": \"ROC Curve (AUC = 0.78)\"}, {\"False Positive Rate (FPR)\": 0.030389363722697058, \"True Positive Rate (TPR)\": 0.17847025495750707, \"Label\": \"ROC Curve (AUC = 0.78)\"}, {\"False Positive Rate (FPR)\": 0.032288698955365625, \"True Positive Rate (TPR)\": 0.18980169971671387, \"Label\": \"ROC Curve (AUC = 0.78)\"}, {\"False Positive Rate (FPR)\": 0.032288698955365625, \"True Positive Rate (TPR)\": 0.19263456090651557, \"Label\": \"ROC Curve (AUC = 0.78)\"}, {\"False Positive Rate (FPR)\": 0.03323836657169991, \"True Positive Rate (TPR)\": 0.20113314447592068, \"Label\": \"ROC Curve (AUC = 0.78)\"}, {\"False Positive Rate (FPR)\": 0.03323836657169991, \"True Positive Rate (TPR)\": 0.20396600566572237, \"Label\": \"ROC Curve (AUC = 0.78)\"}, {\"False Positive Rate (FPR)\": 0.03418803418803419, \"True Positive Rate (TPR)\": 0.20679886685552407, \"Label\": \"ROC Curve (AUC = 0.78)\"}, {\"False Positive Rate (FPR)\": 0.037037037037037035, \"True Positive Rate (TPR)\": 0.22096317280453256, \"Label\": \"ROC Curve (AUC = 0.78)\"}, {\"False Positive Rate (FPR)\": 0.037037037037037035, \"True Positive Rate (TPR)\": 0.2237960339943343, \"Label\": \"ROC Curve (AUC = 0.78)\"}, {\"False Positive Rate (FPR)\": 0.0389363722697056, \"True Positive Rate (TPR)\": 0.23796033994334279, \"Label\": \"ROC Curve (AUC = 0.78)\"}, {\"False Positive Rate (FPR)\": 0.039886039886039885, \"True Positive Rate (TPR)\": 0.23796033994334279, \"Label\": \"ROC Curve (AUC = 0.78)\"}, {\"False Positive Rate (FPR)\": 0.04083570750237417, \"True Positive Rate (TPR)\": 0.24929178470254956, \"Label\": \"ROC Curve (AUC = 0.78)\"}, {\"False Positive Rate (FPR)\": 0.042735042735042736, \"True Positive Rate (TPR)\": 0.254957507082153, \"Label\": \"ROC Curve (AUC = 0.78)\"}, {\"False Positive Rate (FPR)\": 0.04368471035137702, \"True Positive Rate (TPR)\": 0.254957507082153, \"Label\": \"ROC Curve (AUC = 0.78)\"}, {\"False Positive Rate (FPR)\": 0.045584045584045586, \"True Positive Rate (TPR)\": 0.26345609065155806, \"Label\": \"ROC Curve (AUC = 0.78)\"}, {\"False Positive Rate (FPR)\": 0.045584045584045586, \"True Positive Rate (TPR)\": 0.26628895184135976, \"Label\": \"ROC Curve (AUC = 0.78)\"}, {\"False Positive Rate (FPR)\": 0.045584045584045586, \"True Positive Rate (TPR)\": 0.2747875354107649, \"Label\": \"ROC Curve (AUC = 0.78)\"}, {\"False Positive Rate (FPR)\": 0.04748338081671415, \"True Positive Rate (TPR)\": 0.2747875354107649, \"Label\": \"ROC Curve (AUC = 0.78)\"}, {\"False Positive Rate (FPR)\": 0.05128205128205128, \"True Positive Rate (TPR)\": 0.29745042492917845, \"Label\": \"ROC Curve (AUC = 0.78)\"}, {\"False Positive Rate (FPR)\": 0.052231718898385564, \"True Positive Rate (TPR)\": 0.3031161473087819, \"Label\": \"ROC Curve (AUC = 0.78)\"}, {\"False Positive Rate (FPR)\": 0.05698005698005698, \"True Positive Rate (TPR)\": 0.3031161473087819, \"Label\": \"ROC Curve (AUC = 0.78)\"}, {\"False Positive Rate (FPR)\": 0.05887939221272555, \"True Positive Rate (TPR)\": 0.3087818696883853, \"Label\": \"ROC Curve (AUC = 0.78)\"}, {\"False Positive Rate (FPR)\": 0.05982905982905983, \"True Positive Rate (TPR)\": 0.3087818696883853, \"Label\": \"ROC Curve (AUC = 0.78)\"}, {\"False Positive Rate (FPR)\": 0.06457739791073125, \"True Positive Rate (TPR)\": 0.31444759206798867, \"Label\": \"ROC Curve (AUC = 0.78)\"}, {\"False Positive Rate (FPR)\": 0.06742640075973409, \"True Positive Rate (TPR)\": 0.32294617563739375, \"Label\": \"ROC Curve (AUC = 0.78)\"}, {\"False Positive Rate (FPR)\": 0.06837606837606838, \"True Positive Rate (TPR)\": 0.32294617563739375, \"Label\": \"ROC Curve (AUC = 0.78)\"}, {\"False Positive Rate (FPR)\": 0.06837606837606838, \"True Positive Rate (TPR)\": 0.32577903682719545, \"Label\": \"ROC Curve (AUC = 0.78)\"}, {\"False Positive Rate (FPR)\": 0.06932573599240266, \"True Positive Rate (TPR)\": 0.3286118980169972, \"Label\": \"ROC Curve (AUC = 0.78)\"}, {\"False Positive Rate (FPR)\": 0.0731244064577398, \"True Positive Rate (TPR)\": 0.3371104815864023, \"Label\": \"ROC Curve (AUC = 0.78)\"}, {\"False Positive Rate (FPR)\": 0.07502374169040836, \"True Positive Rate (TPR)\": 0.34277620396600567, \"Label\": \"ROC Curve (AUC = 0.78)\"}, {\"False Positive Rate (FPR)\": 0.0778727445394112, \"True Positive Rate (TPR)\": 0.34844192634560905, \"Label\": \"ROC Curve (AUC = 0.78)\"}, {\"False Positive Rate (FPR)\": 0.0788224121557455, \"True Positive Rate (TPR)\": 0.34844192634560905, \"Label\": \"ROC Curve (AUC = 0.78)\"}, {\"False Positive Rate (FPR)\": 0.08641975308641975, \"True Positive Rate (TPR)\": 0.37677053824362605, \"Label\": \"ROC Curve (AUC = 0.78)\"}, {\"False Positive Rate (FPR)\": 0.08831908831908832, \"True Positive Rate (TPR)\": 0.38243626062322944, \"Label\": \"ROC Curve (AUC = 0.78)\"}, {\"False Positive Rate (FPR)\": 0.09401709401709402, \"True Positive Rate (TPR)\": 0.3881019830028329, \"Label\": \"ROC Curve (AUC = 0.78)\"}, {\"False Positive Rate (FPR)\": 0.0949667616334283, \"True Positive Rate (TPR)\": 0.3881019830028329, \"Label\": \"ROC Curve (AUC = 0.78)\"}, {\"False Positive Rate (FPR)\": 0.09876543209876543, \"True Positive Rate (TPR)\": 0.39943342776203966, \"Label\": \"ROC Curve (AUC = 0.78)\"}, {\"False Positive Rate (FPR)\": 0.10351377018043685, \"True Positive Rate (TPR)\": 0.40509915014164305, \"Label\": \"ROC Curve (AUC = 0.78)\"}, {\"False Positive Rate (FPR)\": 0.1168091168091168, \"True Positive Rate (TPR)\": 0.4164305949008499, \"Label\": \"ROC Curve (AUC = 0.78)\"}, {\"False Positive Rate (FPR)\": 0.11965811965811966, \"True Positive Rate (TPR)\": 0.42776203966005666, \"Label\": \"ROC Curve (AUC = 0.78)\"}, {\"False Positive Rate (FPR)\": 0.12060778727445394, \"True Positive Rate (TPR)\": 0.42776203966005666, \"Label\": \"ROC Curve (AUC = 0.78)\"}, {\"False Positive Rate (FPR)\": 0.1225071225071225, \"True Positive Rate (TPR)\": 0.43059490084985835, \"Label\": \"ROC Curve (AUC = 0.78)\"}, {\"False Positive Rate (FPR)\": 0.1225071225071225, \"True Positive Rate (TPR)\": 0.43342776203966005, \"Label\": \"ROC Curve (AUC = 0.78)\"}, {\"False Positive Rate (FPR)\": 0.1282051282051282, \"True Positive Rate (TPR)\": 0.43626062322946174, \"Label\": \"ROC Curve (AUC = 0.78)\"}, {\"False Positive Rate (FPR)\": 0.13580246913580246, \"True Positive Rate (TPR)\": 0.43909348441926344, \"Label\": \"ROC Curve (AUC = 0.78)\"}, {\"False Positive Rate (FPR)\": 0.13580246913580246, \"True Positive Rate (TPR)\": 0.44192634560906513, \"Label\": \"ROC Curve (AUC = 0.78)\"}, {\"False Positive Rate (FPR)\": 0.1396011396011396, \"True Positive Rate (TPR)\": 0.4447592067988669, \"Label\": \"ROC Curve (AUC = 0.78)\"}, {\"False Positive Rate (FPR)\": 0.14055080721747387, \"True Positive Rate (TPR)\": 0.4447592067988669, \"Label\": \"ROC Curve (AUC = 0.78)\"}, {\"False Positive Rate (FPR)\": 0.14150047483380818, \"True Positive Rate (TPR)\": 0.4475920679886686, \"Label\": \"ROC Curve (AUC = 0.78)\"}, {\"False Positive Rate (FPR)\": 0.144349477682811, \"True Positive Rate (TPR)\": 0.45609065155807366, \"Label\": \"ROC Curve (AUC = 0.78)\"}, {\"False Positive Rate (FPR)\": 0.1452991452991453, \"True Positive Rate (TPR)\": 0.45609065155807366, \"Label\": \"ROC Curve (AUC = 0.78)\"}, {\"False Positive Rate (FPR)\": 0.14814814814814814, \"True Positive Rate (TPR)\": 0.46175637393767704, \"Label\": \"ROC Curve (AUC = 0.78)\"}, {\"False Positive Rate (FPR)\": 0.14909781576448244, \"True Positive Rate (TPR)\": 0.4730878186968839, \"Label\": \"ROC Curve (AUC = 0.78)\"}, {\"False Positive Rate (FPR)\": 0.15384615384615385, \"True Positive Rate (TPR)\": 0.48158640226628896, \"Label\": \"ROC Curve (AUC = 0.78)\"}, {\"False Positive Rate (FPR)\": 0.15479582146248813, \"True Positive Rate (TPR)\": 0.48158640226628896, \"Label\": \"ROC Curve (AUC = 0.78)\"}, {\"False Positive Rate (FPR)\": 0.15859449192782527, \"True Positive Rate (TPR)\": 0.48725212464589235, \"Label\": \"ROC Curve (AUC = 0.78)\"}, {\"False Positive Rate (FPR)\": 0.15954415954415954, \"True Positive Rate (TPR)\": 0.48725212464589235, \"Label\": \"ROC Curve (AUC = 0.78)\"}, {\"False Positive Rate (FPR)\": 0.16619183285849953, \"True Positive Rate (TPR)\": 0.4985835694050991, \"Label\": \"ROC Curve (AUC = 0.78)\"}, {\"False Positive Rate (FPR)\": 0.17094017094017094, \"True Positive Rate (TPR)\": 0.5042492917847026, \"Label\": \"ROC Curve (AUC = 0.78)\"}, {\"False Positive Rate (FPR)\": 0.1728395061728395, \"True Positive Rate (TPR)\": 0.5184135977337111, \"Label\": \"ROC Curve (AUC = 0.78)\"}, {\"False Positive Rate (FPR)\": 0.1737891737891738, \"True Positive Rate (TPR)\": 0.5212464589235127, \"Label\": \"ROC Curve (AUC = 0.78)\"}, {\"False Positive Rate (FPR)\": 0.17663817663817663, \"True Positive Rate (TPR)\": 0.5325779036827195, \"Label\": \"ROC Curve (AUC = 0.78)\"}, {\"False Positive Rate (FPR)\": 0.18233618233618235, \"True Positive Rate (TPR)\": 0.5410764872521246, \"Label\": \"ROC Curve (AUC = 0.78)\"}, {\"False Positive Rate (FPR)\": 0.1842355175688509, \"True Positive Rate (TPR)\": 0.5410764872521246, \"Label\": \"ROC Curve (AUC = 0.78)\"}, {\"False Positive Rate (FPR)\": 0.18708452041785376, \"True Positive Rate (TPR)\": 0.5524079320113314, \"Label\": \"ROC Curve (AUC = 0.78)\"}, {\"False Positive Rate (FPR)\": 0.18803418803418803, \"True Positive Rate (TPR)\": 0.5524079320113314, \"Label\": \"ROC Curve (AUC = 0.78)\"}, {\"False Positive Rate (FPR)\": 0.1889838556505223, \"True Positive Rate (TPR)\": 0.5694050991501416, \"Label\": \"ROC Curve (AUC = 0.78)\"}, {\"False Positive Rate (FPR)\": 0.19183285849952517, \"True Positive Rate (TPR)\": 0.5694050991501416, \"Label\": \"ROC Curve (AUC = 0.78)\"}, {\"False Positive Rate (FPR)\": 0.19468186134852802, \"True Positive Rate (TPR)\": 0.5779036827195467, \"Label\": \"ROC Curve (AUC = 0.78)\"}, {\"False Positive Rate (FPR)\": 0.201329534662868, \"True Positive Rate (TPR)\": 0.5835694050991501, \"Label\": \"ROC Curve (AUC = 0.78)\"}, {\"False Positive Rate (FPR)\": 0.20987654320987653, \"True Positive Rate (TPR)\": 0.5835694050991501, \"Label\": \"ROC Curve (AUC = 0.78)\"}, {\"False Positive Rate (FPR)\": 0.21557454890788225, \"True Positive Rate (TPR)\": 0.5892351274787535, \"Label\": \"ROC Curve (AUC = 0.78)\"}, {\"False Positive Rate (FPR)\": 0.22697056030389365, \"True Positive Rate (TPR)\": 0.5977337110481586, \"Label\": \"ROC Curve (AUC = 0.78)\"}, {\"False Positive Rate (FPR)\": 0.2336182336182336, \"True Positive Rate (TPR)\": 0.6090651558073654, \"Label\": \"ROC Curve (AUC = 0.78)\"}, {\"False Positive Rate (FPR)\": 0.23741690408357075, \"True Positive Rate (TPR)\": 0.6175637393767706, \"Label\": \"ROC Curve (AUC = 0.78)\"}, {\"False Positive Rate (FPR)\": 0.24216524216524216, \"True Positive Rate (TPR)\": 0.6430594900849859, \"Label\": \"ROC Curve (AUC = 0.78)\"}, {\"False Positive Rate (FPR)\": 0.24216524216524216, \"True Positive Rate (TPR)\": 0.6458923512747875, \"Label\": \"ROC Curve (AUC = 0.78)\"}, {\"False Positive Rate (FPR)\": 0.2535612535612536, \"True Positive Rate (TPR)\": 0.6515580736543909, \"Label\": \"ROC Curve (AUC = 0.78)\"}, {\"False Positive Rate (FPR)\": 0.2668566001899335, \"True Positive Rate (TPR)\": 0.660056657223796, \"Label\": \"ROC Curve (AUC = 0.78)\"}, {\"False Positive Rate (FPR)\": 0.2716049382716049, \"True Positive Rate (TPR)\": 0.6685552407932012, \"Label\": \"ROC Curve (AUC = 0.78)\"}, {\"False Positive Rate (FPR)\": 0.27825261158594494, \"True Positive Rate (TPR)\": 0.6742209631728046, \"Label\": \"ROC Curve (AUC = 0.78)\"}, {\"False Positive Rate (FPR)\": 0.2849002849002849, \"True Positive Rate (TPR)\": 0.6855524079320113, \"Label\": \"ROC Curve (AUC = 0.78)\"}, {\"False Positive Rate (FPR)\": 0.28679962013295346, \"True Positive Rate (TPR)\": 0.6855524079320113, \"Label\": \"ROC Curve (AUC = 0.78)\"}, {\"False Positive Rate (FPR)\": 0.29154795821462487, \"True Positive Rate (TPR)\": 0.6997167138810199, \"Label\": \"ROC Curve (AUC = 0.78)\"}, {\"False Positive Rate (FPR)\": 0.2962962962962963, \"True Positive Rate (TPR)\": 0.7082152974504249, \"Label\": \"ROC Curve (AUC = 0.78)\"}, {\"False Positive Rate (FPR)\": 0.30009496676163344, \"True Positive Rate (TPR)\": 0.7223796033994334, \"Label\": \"ROC Curve (AUC = 0.78)\"}, {\"False Positive Rate (FPR)\": 0.3076923076923077, \"True Positive Rate (TPR)\": 0.7308781869688386, \"Label\": \"ROC Curve (AUC = 0.78)\"}, {\"False Positive Rate (FPR)\": 0.3076923076923077, \"True Positive Rate (TPR)\": 0.7337110481586402, \"Label\": \"ROC Curve (AUC = 0.78)\"}, {\"False Positive Rate (FPR)\": 0.3114909781576448, \"True Positive Rate (TPR)\": 0.7393767705382436, \"Label\": \"ROC Curve (AUC = 0.78)\"}, {\"False Positive Rate (FPR)\": 0.3114909781576448, \"True Positive Rate (TPR)\": 0.7422096317280453, \"Label\": \"ROC Curve (AUC = 0.78)\"}, {\"False Positive Rate (FPR)\": 0.32193732193732194, \"True Positive Rate (TPR)\": 0.7535410764872521, \"Label\": \"ROC Curve (AUC = 0.78)\"}, {\"False Positive Rate (FPR)\": 0.32763532763532766, \"True Positive Rate (TPR)\": 0.7620396600566572, \"Label\": \"ROC Curve (AUC = 0.78)\"}, {\"False Positive Rate (FPR)\": 0.33618233618233617, \"True Positive Rate (TPR)\": 0.7705382436260623, \"Label\": \"ROC Curve (AUC = 0.78)\"}, {\"False Positive Rate (FPR)\": 0.3418803418803419, \"True Positive Rate (TPR)\": 0.7790368271954674, \"Label\": \"ROC Curve (AUC = 0.78)\"}, {\"False Positive Rate (FPR)\": 0.3466286799620133, \"True Positive Rate (TPR)\": 0.7847025495750708, \"Label\": \"ROC Curve (AUC = 0.78)\"}, {\"False Positive Rate (FPR)\": 0.35327635327635326, \"True Positive Rate (TPR)\": 0.7847025495750708, \"Label\": \"ROC Curve (AUC = 0.78)\"}, {\"False Positive Rate (FPR)\": 0.3627730294396961, \"True Positive Rate (TPR)\": 0.7960339943342776, \"Label\": \"ROC Curve (AUC = 0.78)\"}, {\"False Positive Rate (FPR)\": 0.37606837606837606, \"True Positive Rate (TPR)\": 0.7988668555240793, \"Label\": \"ROC Curve (AUC = 0.78)\"}, {\"False Positive Rate (FPR)\": 0.38841405508072174, \"True Positive Rate (TPR)\": 0.8101983002832861, \"Label\": \"ROC Curve (AUC = 0.78)\"}, {\"False Positive Rate (FPR)\": 0.402659069325736, \"True Positive Rate (TPR)\": 0.8243626062322946, \"Label\": \"ROC Curve (AUC = 0.78)\"}, {\"False Positive Rate (FPR)\": 0.41025641025641024, \"True Positive Rate (TPR)\": 0.8441926345609065, \"Label\": \"ROC Curve (AUC = 0.78)\"}, {\"False Positive Rate (FPR)\": 0.42070275403608737, \"True Positive Rate (TPR)\": 0.8555240793201133, \"Label\": \"ROC Curve (AUC = 0.78)\"}, {\"False Positive Rate (FPR)\": 0.4226020892687559, \"True Positive Rate (TPR)\": 0.8555240793201133, \"Label\": \"ROC Curve (AUC = 0.78)\"}, {\"False Positive Rate (FPR)\": 0.439696106362773, \"True Positive Rate (TPR)\": 0.8640226628895185, \"Label\": \"ROC Curve (AUC = 0.78)\"}, {\"False Positive Rate (FPR)\": 0.4406457739791073, \"True Positive Rate (TPR)\": 0.8640226628895185, \"Label\": \"ROC Curve (AUC = 0.78)\"}, {\"False Positive Rate (FPR)\": 0.466286799620133, \"True Positive Rate (TPR)\": 0.8753541076487252, \"Label\": \"ROC Curve (AUC = 0.78)\"}, {\"False Positive Rate (FPR)\": 0.4672364672364672, \"True Positive Rate (TPR)\": 0.8753541076487252, \"Label\": \"ROC Curve (AUC = 0.78)\"}, {\"False Positive Rate (FPR)\": 0.4862298195631529, \"True Positive Rate (TPR)\": 0.8980169971671388, \"Label\": \"ROC Curve (AUC = 0.78)\"}, {\"False Positive Rate (FPR)\": 0.5052231718898386, \"True Positive Rate (TPR)\": 0.9093484419263456, \"Label\": \"ROC Curve (AUC = 0.78)\"}, {\"False Positive Rate (FPR)\": 0.5061728395061729, \"True Positive Rate (TPR)\": 0.9093484419263456, \"Label\": \"ROC Curve (AUC = 0.78)\"}, {\"False Positive Rate (FPR)\": 0.533713200379867, \"True Positive Rate (TPR)\": 0.9178470254957507, \"Label\": \"ROC Curve (AUC = 0.78)\"}, {\"False Positive Rate (FPR)\": 0.5565052231718899, \"True Positive Rate (TPR)\": 0.9263456090651558, \"Label\": \"ROC Curve (AUC = 0.78)\"}, {\"False Positive Rate (FPR)\": 0.5868945868945868, \"True Positive Rate (TPR)\": 0.9320113314447592, \"Label\": \"ROC Curve (AUC = 0.78)\"}, {\"False Positive Rate (FPR)\": 0.6343779677113011, \"True Positive Rate (TPR)\": 0.9405099150141643, \"Label\": \"ROC Curve (AUC = 0.78)\"}, {\"False Positive Rate (FPR)\": 0.704653371320038, \"True Positive Rate (TPR)\": 0.9546742209631728, \"Label\": \"ROC Curve (AUC = 0.78)\"}, {\"False Positive Rate (FPR)\": 0.7882241215574549, \"True Positive Rate (TPR)\": 0.9745042492917847, \"Label\": \"ROC Curve (AUC = 0.78)\"}, {\"False Positive Rate (FPR)\": 1.0, \"True Positive Rate (TPR)\": 1.0, \"Label\": \"ROC Curve (AUC = 0.78)\"}, {\"False Positive Rate (FPR)\": 0.0, \"True Positive Rate (TPR)\": 0.0, \"Label\": \"Random Guess\"}, {\"False Positive Rate (FPR)\": 1.0, \"True Positive Rate (TPR)\": 1.0, \"Label\": \"Random Guess\"}]}}, {\"mode\": \"vega-lite\"});\n",
       "</script>"
      ],
      "text/plain": [
       "alt.Chart(...)"
      ]
     },
     "execution_count": 17,
     "metadata": {},
     "output_type": "execute_result"
    }
   ],
   "source": [
    "roc_df = pl.DataFrame({\n",
    "    \"False Positive Rate (FPR)\": fpr,\n",
    "    \"True Positive Rate (TPR)\": tpr,\n",
    "    \"Label\": f\"ROC Curve (AUC = {auc_value:.2f})\",\n",
    "})\n",
    "\n",
    "basis_df = pl.DataFrame({\n",
    "    \"False Positive Rate (FPR)\": [0.0, 1.0],\n",
    "    \"True Positive Rate (TPR)\": [0.0, 1.0],\n",
    "    \"Label\": \"Random Guess\",\n",
    "})\n",
    "\n",
    "combined_df = pl.concat([roc_df, basis_df])\n",
    "\n",
    "combined_df.plot.line(\n",
    "    x=\"False Positive Rate (FPR)\", y=\"True Positive Rate (TPR)\", color=\"Label\", strokeDash=\"Label\"\n",
    ").properties(title='ROC Curve',).configure_legend(orient=\"bottom-right\").configure_axis(\n",
    "    grid=False\n",
    ").interactive()"
   ]
  },
  {
   "cell_type": "markdown",
   "metadata": {},
   "source": [
    "## Question 9\n",
    "\n",
    "模型訓練出來後，計算每位顧客流失率 (Churn)，請將流失率由大排至小，並將之存成 Excel 檔，命名`Customer_Churn.xlsx`."
   ]
  },
  {
   "cell_type": "code",
   "execution_count": 18,
   "metadata": {},
   "outputs": [
    {
     "data": {
      "text/html": [
       "<div><style>\n",
       ".dataframe > thead > tr,\n",
       ".dataframe > tbody > tr {\n",
       "  text-align: right;\n",
       "  white-space: pre-wrap;\n",
       "}\n",
       "</style>\n",
       "<small>shape: (1_406, 3)</small><table border=\"1\" class=\"dataframe\"><thead><tr><th>index</th><th>Return_Probability</th><th>Return_Actual</th></tr><tr><td>u32</td><td>i32</td><td>i32</td></tr></thead><tbody><tr><td>6784</td><td>1</td><td>0</td></tr><tr><td>4276</td><td>1</td><td>0</td></tr><tr><td>5836</td><td>1</td><td>1</td></tr><tr><td>6975</td><td>1</td><td>1</td></tr><tr><td>2672</td><td>1</td><td>1</td></tr><tr><td>&hellip;</td><td>&hellip;</td><td>&hellip;</td></tr><tr><td>979</td><td>0</td><td>0</td></tr><tr><td>70</td><td>0</td><td>0</td></tr><tr><td>2384</td><td>0</td><td>0</td></tr><tr><td>4144</td><td>0</td><td>0</td></tr><tr><td>695</td><td>0</td><td>0</td></tr></tbody></table></div>"
      ],
      "text/plain": [
       "shape: (1_406, 3)\n",
       "┌───────┬────────────────────┬───────────────┐\n",
       "│ index ┆ Return_Probability ┆ Return_Actual │\n",
       "│ ---   ┆ ---                ┆ ---           │\n",
       "│ u32   ┆ i32                ┆ i32           │\n",
       "╞═══════╪════════════════════╪═══════════════╡\n",
       "│ 6784  ┆ 1                  ┆ 0             │\n",
       "│ 4276  ┆ 1                  ┆ 0             │\n",
       "│ 5836  ┆ 1                  ┆ 1             │\n",
       "│ 6975  ┆ 1                  ┆ 1             │\n",
       "│ 2672  ┆ 1                  ┆ 1             │\n",
       "│ …     ┆ …                  ┆ …             │\n",
       "│ 979   ┆ 0                  ┆ 0             │\n",
       "│ 70    ┆ 0                  ┆ 0             │\n",
       "│ 2384  ┆ 0                  ┆ 0             │\n",
       "│ 4144  ┆ 0                  ┆ 0             │\n",
       "│ 695   ┆ 0                  ┆ 0             │\n",
       "└───────┴────────────────────┴───────────────┘"
      ]
     },
     "execution_count": 18,
     "metadata": {},
     "output_type": "execute_result"
    }
   ],
   "source": [
    "pred_df = pl.DataFrame({\n",
    "    \"index\": test[\"index\"],\n",
    "    \"Return_Probability\": pl.Series(values=y_test_pred),\n",
    "    \"Return_Actual\": y_test,\n",
    "}).sort(by=\"Return_Probability\", descending=True)\n",
    "\n",
    "pred_df"
   ]
  },
  {
   "cell_type": "markdown",
   "metadata": {},
   "source": [
    "輸出到 Excel."
   ]
  },
  {
   "cell_type": "code",
   "execution_count": 19,
   "metadata": {},
   "outputs": [
    {
     "data": {
      "text/plain": [
       "<xlsxwriter.workbook.Workbook at 0x12a84ca40>"
      ]
     },
     "execution_count": 19,
     "metadata": {},
     "output_type": "execute_result"
    }
   ],
   "source": [
    "pred_df.write_excel(\"Customer_Churn.xlsx\")"
   ]
  }
 ],
 "metadata": {
  "kernelspec": {
   "display_name": ".venv",
   "language": "python",
   "name": "python3"
  },
  "language_info": {
   "codemirror_mode": {
    "name": "ipython",
    "version": 3
   },
   "file_extension": ".py",
   "mimetype": "text/x-python",
   "name": "python",
   "nbconvert_exporter": "python",
   "pygments_lexer": "ipython3",
   "version": "3.12.5"
  }
 },
 "nbformat": 4,
 "nbformat_minor": 2
}
