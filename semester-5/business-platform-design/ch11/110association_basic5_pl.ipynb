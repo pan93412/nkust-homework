{
 "cells": [
  {
   "cell_type": "code",
   "execution_count": 33,
   "metadata": {},
   "outputs": [],
   "source": [
    "import polars as pl\n",
    "from mlxtend.frequent_patterns import apriori\n",
    "from mlxtend.frequent_patterns import association_rules\n",
    "from mlxtend.preprocessing import TransactionEncoder"
   ]
  },
  {
   "cell_type": "code",
   "execution_count": 34,
   "metadata": {},
   "outputs": [
    {
     "data": {
      "text/html": [
       "<div><style>\n",
       ".dataframe > thead > tr,\n",
       ".dataframe > tbody > tr {\n",
       "  text-align: right;\n",
       "  white-space: pre-wrap;\n",
       "}\n",
       "</style>\n",
       "<small>shape: (8, 2)</small><table border=\"1\" class=\"dataframe\"><thead><tr><th>Transaction ID</th><th>Items</th></tr><tr><td>i64</td><td>list[str]</td></tr></thead><tbody><tr><td>1</td><td>[&quot;T-Shirt&quot;, &quot;Pants&quot;, … &quot;Shorts&quot;]</td></tr><tr><td>2</td><td>[&quot;T-Shirt&quot;, &quot;Jeans&quot;]</td></tr><tr><td>3</td><td>[&quot;Jersy&quot;, &quot;Basketball&quot;, … &quot;Bottle&quot;]</td></tr><tr><td>4</td><td>[&quot;Jeans&quot;, &quot;Pants&quot;, &quot;Bottle&quot;]</td></tr><tr><td>5</td><td>[&quot;Shorts&quot;, &quot;Basketball&quot;]</td></tr><tr><td>6</td><td>[&quot;Shorts&quot;, &quot;Jersy&quot;]</td></tr><tr><td>7</td><td>[&quot;T-Shirt&quot;]</td></tr><tr><td>8</td><td>[&quot;Basketball&quot;, &quot;Jersy&quot;]</td></tr></tbody></table></div>"
      ],
      "text/plain": [
       "shape: (8, 2)\n",
       "┌────────────────┬─────────────────────────────────┐\n",
       "│ Transaction ID ┆ Items                           │\n",
       "│ ---            ┆ ---                             │\n",
       "│ i64            ┆ list[str]                       │\n",
       "╞════════════════╪═════════════════════════════════╡\n",
       "│ 1              ┆ [\"T-Shirt\", \"Pants\", … \"Shorts… │\n",
       "│ 2              ┆ [\"T-Shirt\", \"Jeans\"]            │\n",
       "│ 3              ┆ [\"Jersy\", \"Basketball\", … \"Bot… │\n",
       "│ 4              ┆ [\"Jeans\", \"Pants\", \"Bottle\"]    │\n",
       "│ 5              ┆ [\"Shorts\", \"Basketball\"]        │\n",
       "│ 6              ┆ [\"Shorts\", \"Jersy\"]             │\n",
       "│ 7              ┆ [\"T-Shirt\"]                     │\n",
       "│ 8              ┆ [\"Basketball\", \"Jersy\"]         │\n",
       "└────────────────┴─────────────────────────────────┘"
      ]
     },
     "execution_count": 34,
     "metadata": {},
     "output_type": "execute_result"
    }
   ],
   "source": [
    "market_data = {\n",
    "    'Transaction ID': [1, 2, 3, 4, 5, 6, 7, 8],\n",
    "    'Items': [\n",
    "        ['T-Shirt', 'Pants', 'Jeans', 'Jersy', 'Socks', 'Basketball', 'Bottle', 'Shorts'],\n",
    "        ['T-Shirt', 'Jeans'],\n",
    "        ['Jersy', 'Basketball', 'Socks', 'Bottle'],\n",
    "        ['Jeans', 'Pants', 'Bottle'],\n",
    "        ['Shorts', 'Basketball'],\n",
    "        ['Shorts', 'Jersy'],\n",
    "        ['T-Shirt'],\n",
    "        ['Basketball', 'Jersy'],\n",
    "]}\n",
    "\n",
    "df = pl.DataFrame(market_data)\n",
    "df"
   ]
  },
  {
   "cell_type": "markdown",
   "metadata": {},
   "source": [
    "# 使用 TransactionEncoder 將商品轉換為 One-Hot Encoding\n",
    "\n",
    "- 透過該函數的 `fit` 方法，`TransactionEncoder` 將學習列表（list）或序列（series）中的唯一項目（unique items）。\n",
    "- 並透過該 `transform` 方法，將輸入的列表轉換為 NumPy 布林陣列（boolean array）。"
   ]
  },
  {
   "cell_type": "code",
   "execution_count": 35,
   "metadata": {},
   "outputs": [
    {
     "data": {
      "text/plain": [
       "array([[ True,  True,  True,  True,  True,  True,  True,  True],\n",
       "       [False, False,  True, False, False, False, False,  True],\n",
       "       [ True,  True, False,  True, False, False,  True, False],\n",
       "       [False,  True,  True, False,  True, False, False, False],\n",
       "       [ True, False, False, False, False,  True, False, False],\n",
       "       [False, False, False,  True, False,  True, False, False],\n",
       "       [False, False, False, False, False, False, False,  True],\n",
       "       [ True, False, False,  True, False, False, False, False]])"
      ]
     },
     "execution_count": 35,
     "metadata": {},
     "output_type": "execute_result"
    }
   ],
   "source": [
    "te = TransactionEncoder()\n",
    "te_ary=te.fit_transform(X=df['Items'])\n",
    "\n",
    "te_ary"
   ]
  },
  {
   "cell_type": "markdown",
   "metadata": {},
   "source": [
    "## 轉換成 Apriori 函數要求資料格式\n",
    "\n",
    "- **Apriori 函數**要求資料使用 Pandas DataFrame 格式，因此在這裡需要進行轉換：將 array 轉換為 DataFrame。"
   ]
  },
  {
   "cell_type": "code",
   "execution_count": 36,
   "metadata": {},
   "outputs": [
    {
     "data": {
      "text/html": [
       "<div><style>\n",
       ".dataframe > thead > tr,\n",
       ".dataframe > tbody > tr {\n",
       "  text-align: right;\n",
       "  white-space: pre-wrap;\n",
       "}\n",
       "</style>\n",
       "<small>shape: (8, 8)</small><table border=\"1\" class=\"dataframe\"><thead><tr><th>Basketball</th><th>Bottle</th><th>Jeans</th><th>Jersy</th><th>Pants</th><th>Shorts</th><th>Socks</th><th>T-Shirt</th></tr><tr><td>bool</td><td>bool</td><td>bool</td><td>bool</td><td>bool</td><td>bool</td><td>bool</td><td>bool</td></tr></thead><tbody><tr><td>true</td><td>true</td><td>true</td><td>true</td><td>true</td><td>true</td><td>true</td><td>true</td></tr><tr><td>false</td><td>false</td><td>true</td><td>false</td><td>false</td><td>false</td><td>false</td><td>true</td></tr><tr><td>true</td><td>true</td><td>false</td><td>true</td><td>false</td><td>false</td><td>true</td><td>false</td></tr><tr><td>false</td><td>true</td><td>true</td><td>false</td><td>true</td><td>false</td><td>false</td><td>false</td></tr><tr><td>true</td><td>false</td><td>false</td><td>false</td><td>false</td><td>true</td><td>false</td><td>false</td></tr><tr><td>false</td><td>false</td><td>false</td><td>true</td><td>false</td><td>true</td><td>false</td><td>false</td></tr><tr><td>false</td><td>false</td><td>false</td><td>false</td><td>false</td><td>false</td><td>false</td><td>true</td></tr><tr><td>true</td><td>false</td><td>false</td><td>true</td><td>false</td><td>false</td><td>false</td><td>false</td></tr></tbody></table></div>"
      ],
      "text/plain": [
       "shape: (8, 8)\n",
       "┌────────────┬────────┬───────┬───────┬───────┬────────┬───────┬─────────┐\n",
       "│ Basketball ┆ Bottle ┆ Jeans ┆ Jersy ┆ Pants ┆ Shorts ┆ Socks ┆ T-Shirt │\n",
       "│ ---        ┆ ---    ┆ ---   ┆ ---   ┆ ---   ┆ ---    ┆ ---   ┆ ---     │\n",
       "│ bool       ┆ bool   ┆ bool  ┆ bool  ┆ bool  ┆ bool   ┆ bool  ┆ bool    │\n",
       "╞════════════╪════════╪═══════╪═══════╪═══════╪════════╪═══════╪═════════╡\n",
       "│ true       ┆ true   ┆ true  ┆ true  ┆ true  ┆ true   ┆ true  ┆ true    │\n",
       "│ false      ┆ false  ┆ true  ┆ false ┆ false ┆ false  ┆ false ┆ true    │\n",
       "│ true       ┆ true   ┆ false ┆ true  ┆ false ┆ false  ┆ true  ┆ false   │\n",
       "│ false      ┆ true   ┆ true  ┆ false ┆ true  ┆ false  ┆ false ┆ false   │\n",
       "│ true       ┆ false  ┆ false ┆ false ┆ false ┆ true   ┆ false ┆ false   │\n",
       "│ false      ┆ false  ┆ false ┆ true  ┆ false ┆ true   ┆ false ┆ false   │\n",
       "│ false      ┆ false  ┆ false ┆ false ┆ false ┆ false  ┆ false ┆ true    │\n",
       "│ true       ┆ false  ┆ false ┆ true  ┆ false ┆ false  ┆ false ┆ false   │\n",
       "└────────────┴────────┴───────┴───────┴───────┴────────┴───────┴─────────┘"
      ]
     },
     "execution_count": 36,
     "metadata": {},
     "output_type": "execute_result"
    }
   ],
   "source": [
    "data_items_dumm = pl.DataFrame(te_ary, schema=te.columns_)\n",
    "data_items_dumm"
   ]
  },
  {
   "cell_type": "markdown",
   "metadata": {},
   "source": [
    "# 計算支持度達 0.2 的項目集"
   ]
  },
  {
   "cell_type": "code",
   "execution_count": 37,
   "metadata": {},
   "outputs": [],
   "source": [
    "def apriori_pl(data: pl.DataFrame, min_support=0.5, use_colnames=False, *args, **kwargs):\n",
    "    frequent_itemsets = apriori(data.to_pandas(), min_support=min_support, use_colnames=use_colnames, *args, **kwargs)\n",
    "\n",
    "    frequent_itemsets['itemsets'] = frequent_itemsets['itemsets'].apply(lambda x: list(x))\n",
    "    return pl.DataFrame(frequent_itemsets)"
   ]
  },
  {
   "cell_type": "code",
   "execution_count": 38,
   "metadata": {},
   "outputs": [
    {
     "data": {
      "text/html": [
       "<div><style>\n",
       ".dataframe > thead > tr,\n",
       ".dataframe > tbody > tr {\n",
       "  text-align: right;\n",
       "  white-space: pre-wrap;\n",
       "}\n",
       "</style>\n",
       "<small>shape: (2, 2)</small><table border=\"1\" class=\"dataframe\"><thead><tr><th>support</th><th>itemsets</th></tr><tr><td>f64</td><td>list[str]</td></tr></thead><tbody><tr><td>0.5</td><td>[&quot;Basketball&quot;]</td></tr><tr><td>0.5</td><td>[&quot;Jersy&quot;]</td></tr></tbody></table></div>"
      ],
      "text/plain": [
       "shape: (2, 2)\n",
       "┌─────────┬────────────────┐\n",
       "│ support ┆ itemsets       │\n",
       "│ ---     ┆ ---            │\n",
       "│ f64     ┆ list[str]      │\n",
       "╞═════════╪════════════════╡\n",
       "│ 0.5     ┆ [\"Basketball\"] │\n",
       "│ 0.5     ┆ [\"Jersy\"]      │\n",
       "└─────────┴────────────────┘"
      ]
     },
     "execution_count": 38,
     "metadata": {},
     "output_type": "execute_result"
    }
   ],
   "source": [
    "frequent_itemsets = apriori_pl(data_items_dumm, use_colnames=True)  # 不訂最低支持度的話，預設為 min_support=0.5\n",
    "frequent_itemsets"
   ]
  },
  {
   "cell_type": "code",
   "execution_count": 39,
   "metadata": {},
   "outputs": [
    {
     "data": {
      "text/html": [
       "<div><style>\n",
       ".dataframe > thead > tr,\n",
       ".dataframe > tbody > tr {\n",
       "  text-align: right;\n",
       "  white-space: pre-wrap;\n",
       "}\n",
       "</style>\n",
       "<small>shape: (26, 2)</small><table border=\"1\" class=\"dataframe\"><thead><tr><th>support</th><th>itemsets</th></tr><tr><td>f64</td><td>list[str]</td></tr></thead><tbody><tr><td>0.5</td><td>[&quot;Basketball&quot;]</td></tr><tr><td>0.375</td><td>[&quot;Bottle&quot;]</td></tr><tr><td>0.375</td><td>[&quot;Jeans&quot;]</td></tr><tr><td>0.5</td><td>[&quot;Jersy&quot;]</td></tr><tr><td>0.25</td><td>[&quot;Pants&quot;]</td></tr><tr><td>&hellip;</td><td>&hellip;</td></tr><tr><td>0.25</td><td>[&quot;Basketball&quot;, &quot;Socks&quot;, &quot;Bottle&quot;]</td></tr><tr><td>0.25</td><td>[&quot;Jersy&quot;, &quot;Basketball&quot;, &quot;Socks&quot;]</td></tr><tr><td>0.25</td><td>[&quot;Pants&quot;, &quot;Jeans&quot;, &quot;Bottle&quot;]</td></tr><tr><td>0.25</td><td>[&quot;Jersy&quot;, &quot;Socks&quot;, &quot;Bottle&quot;]</td></tr><tr><td>0.25</td><td>[&quot;Jersy&quot;, &quot;Basketball&quot;, … &quot;Bottle&quot;]</td></tr></tbody></table></div>"
      ],
      "text/plain": [
       "shape: (26, 2)\n",
       "┌─────────┬─────────────────────────────────┐\n",
       "│ support ┆ itemsets                        │\n",
       "│ ---     ┆ ---                             │\n",
       "│ f64     ┆ list[str]                       │\n",
       "╞═════════╪═════════════════════════════════╡\n",
       "│ 0.5     ┆ [\"Basketball\"]                  │\n",
       "│ 0.375   ┆ [\"Bottle\"]                      │\n",
       "│ 0.375   ┆ [\"Jeans\"]                       │\n",
       "│ 0.5     ┆ [\"Jersy\"]                       │\n",
       "│ 0.25    ┆ [\"Pants\"]                       │\n",
       "│ …       ┆ …                               │\n",
       "│ 0.25    ┆ [\"Basketball\", \"Socks\", \"Bottl… │\n",
       "│ 0.25    ┆ [\"Jersy\", \"Basketball\", \"Socks… │\n",
       "│ 0.25    ┆ [\"Pants\", \"Jeans\", \"Bottle\"]    │\n",
       "│ 0.25    ┆ [\"Jersy\", \"Socks\", \"Bottle\"]    │\n",
       "│ 0.25    ┆ [\"Jersy\", \"Basketball\", … \"Bot… │\n",
       "└─────────┴─────────────────────────────────┘"
      ]
     },
     "execution_count": 39,
     "metadata": {},
     "output_type": "execute_result"
    }
   ],
   "source": [
    "frequent_itemsets = apriori_pl(data_items_dumm, min_support=0.2, use_colnames=True)\n",
    "frequent_itemsets"
   ]
  },
  {
   "cell_type": "markdown",
   "metadata": {},
   "source": [
    "# 計算關聯規則\n",
    "\n",
    "沒有指定的門檻值，使用了 `association_rules` 函數來從頻繁項目集（`frequent_itemsets`）中產生關聯規則（association rules）\n",
    "預設情況下，`association_rules` 會只根據 `confidence=0.8` 的條件來生成規則，而 `lift` 並沒有被設定特定的篩選標準。"
   ]
  },
  {
   "cell_type": "code",
   "execution_count": 40,
   "metadata": {},
   "outputs": [],
   "source": [
    "def association_rules_pl(data: pl.DataFrame, metric=\"confidence\", min_threshold=0.8, *args, **kwargs):\n",
    "    rules = association_rules(data.to_pandas(), metric=metric, min_threshold=min_threshold, *args, **kwargs)\n",
    "    rules[\"antecedents\"] = rules[\"antecedents\"].apply(lambda x: list(x))\n",
    "    rules[\"consequents\"] = rules[\"consequents\"].apply(lambda x: list(x))\n",
    "\n",
    "    return pl.DataFrame(rules)"
   ]
  },
  {
   "cell_type": "code",
   "execution_count": 41,
   "metadata": {},
   "outputs": [
    {
     "data": {
      "text/html": [
       "<div><style>\n",
       ".dataframe > thead > tr,\n",
       ".dataframe > tbody > tr {\n",
       "  text-align: right;\n",
       "  white-space: pre-wrap;\n",
       "}\n",
       "</style>\n",
       "<small>shape: (32, 10)</small><table border=\"1\" class=\"dataframe\"><thead><tr><th>antecedents</th><th>consequents</th><th>antecedent support</th><th>consequent support</th><th>support</th><th>confidence</th><th>lift</th><th>leverage</th><th>conviction</th><th>zhangs_metric</th></tr><tr><td>list[str]</td><td>list[str]</td><td>f64</td><td>f64</td><td>f64</td><td>f64</td><td>f64</td><td>f64</td><td>f64</td><td>f64</td></tr></thead><tbody><tr><td>[&quot;Socks&quot;]</td><td>[&quot;Basketball&quot;]</td><td>0.25</td><td>0.5</td><td>0.25</td><td>1.0</td><td>2.0</td><td>0.125</td><td>inf</td><td>0.666667</td></tr><tr><td>[&quot;Pants&quot;]</td><td>[&quot;Bottle&quot;]</td><td>0.25</td><td>0.375</td><td>0.25</td><td>1.0</td><td>2.666667</td><td>0.15625</td><td>inf</td><td>0.833333</td></tr><tr><td>[&quot;Socks&quot;]</td><td>[&quot;Bottle&quot;]</td><td>0.25</td><td>0.375</td><td>0.25</td><td>1.0</td><td>2.666667</td><td>0.15625</td><td>inf</td><td>0.833333</td></tr><tr><td>[&quot;Pants&quot;]</td><td>[&quot;Jeans&quot;]</td><td>0.25</td><td>0.375</td><td>0.25</td><td>1.0</td><td>2.666667</td><td>0.15625</td><td>inf</td><td>0.833333</td></tr><tr><td>[&quot;Socks&quot;]</td><td>[&quot;Jersy&quot;]</td><td>0.25</td><td>0.5</td><td>0.25</td><td>1.0</td><td>2.0</td><td>0.125</td><td>inf</td><td>0.666667</td></tr><tr><td>&hellip;</td><td>&hellip;</td><td>&hellip;</td><td>&hellip;</td><td>&hellip;</td><td>&hellip;</td><td>&hellip;</td><td>&hellip;</td><td>&hellip;</td><td>&hellip;</td></tr><tr><td>[&quot;Jersy&quot;, &quot;Bottle&quot;]</td><td>[&quot;Basketball&quot;, &quot;Socks&quot;]</td><td>0.25</td><td>0.25</td><td>0.25</td><td>1.0</td><td>4.0</td><td>0.1875</td><td>inf</td><td>1.0</td></tr><tr><td>[&quot;Basketball&quot;, &quot;Socks&quot;]</td><td>[&quot;Jersy&quot;, &quot;Bottle&quot;]</td><td>0.25</td><td>0.25</td><td>0.25</td><td>1.0</td><td>4.0</td><td>0.1875</td><td>inf</td><td>1.0</td></tr><tr><td>[&quot;Basketball&quot;, &quot;Bottle&quot;]</td><td>[&quot;Jersy&quot;, &quot;Socks&quot;]</td><td>0.25</td><td>0.25</td><td>0.25</td><td>1.0</td><td>4.0</td><td>0.1875</td><td>inf</td><td>1.0</td></tr><tr><td>[&quot;Socks&quot;, &quot;Bottle&quot;]</td><td>[&quot;Jersy&quot;, &quot;Basketball&quot;]</td><td>0.25</td><td>0.375</td><td>0.25</td><td>1.0</td><td>2.666667</td><td>0.15625</td><td>inf</td><td>0.833333</td></tr><tr><td>[&quot;Socks&quot;]</td><td>[&quot;Jersy&quot;, &quot;Basketball&quot;, &quot;Bottle&quot;]</td><td>0.25</td><td>0.25</td><td>0.25</td><td>1.0</td><td>4.0</td><td>0.1875</td><td>inf</td><td>1.0</td></tr></tbody></table></div>"
      ],
      "text/plain": [
       "shape: (32, 10)\n",
       "┌────────────┬───────────┬───────────┬───────────┬───┬──────────┬──────────┬───────────┬───────────┐\n",
       "│ antecedent ┆ consequen ┆ anteceden ┆ consequen ┆ … ┆ lift     ┆ leverage ┆ convictio ┆ zhangs_me │\n",
       "│ s          ┆ ts        ┆ t support ┆ t support ┆   ┆ ---      ┆ ---      ┆ n         ┆ tric      │\n",
       "│ ---        ┆ ---       ┆ ---       ┆ ---       ┆   ┆ f64      ┆ f64      ┆ ---       ┆ ---       │\n",
       "│ list[str]  ┆ list[str] ┆ f64       ┆ f64       ┆   ┆          ┆          ┆ f64       ┆ f64       │\n",
       "╞════════════╪═══════════╪═══════════╪═══════════╪═══╪══════════╪══════════╪═══════════╪═══════════╡\n",
       "│ [\"Socks\"]  ┆ [\"Basketb ┆ 0.25      ┆ 0.5       ┆ … ┆ 2.0      ┆ 0.125    ┆ inf       ┆ 0.666667  │\n",
       "│            ┆ all\"]     ┆           ┆           ┆   ┆          ┆          ┆           ┆           │\n",
       "│ [\"Pants\"]  ┆ [\"Bottle\" ┆ 0.25      ┆ 0.375     ┆ … ┆ 2.666667 ┆ 0.15625  ┆ inf       ┆ 0.833333  │\n",
       "│            ┆ ]         ┆           ┆           ┆   ┆          ┆          ┆           ┆           │\n",
       "│ [\"Socks\"]  ┆ [\"Bottle\" ┆ 0.25      ┆ 0.375     ┆ … ┆ 2.666667 ┆ 0.15625  ┆ inf       ┆ 0.833333  │\n",
       "│            ┆ ]         ┆           ┆           ┆   ┆          ┆          ┆           ┆           │\n",
       "│ [\"Pants\"]  ┆ [\"Jeans\"] ┆ 0.25      ┆ 0.375     ┆ … ┆ 2.666667 ┆ 0.15625  ┆ inf       ┆ 0.833333  │\n",
       "│ [\"Socks\"]  ┆ [\"Jersy\"] ┆ 0.25      ┆ 0.5       ┆ … ┆ 2.0      ┆ 0.125    ┆ inf       ┆ 0.666667  │\n",
       "│ …          ┆ …         ┆ …         ┆ …         ┆ … ┆ …        ┆ …        ┆ …         ┆ …         │\n",
       "│ [\"Jersy\",  ┆ [\"Basketb ┆ 0.25      ┆ 0.25      ┆ … ┆ 4.0      ┆ 0.1875   ┆ inf       ┆ 1.0       │\n",
       "│ \"Bottle\"]  ┆ all\",     ┆           ┆           ┆   ┆          ┆          ┆           ┆           │\n",
       "│            ┆ \"Socks\"]  ┆           ┆           ┆   ┆          ┆          ┆           ┆           │\n",
       "│ [\"Basketba ┆ [\"Jersy\", ┆ 0.25      ┆ 0.25      ┆ … ┆ 4.0      ┆ 0.1875   ┆ inf       ┆ 1.0       │\n",
       "│ ll\",       ┆ \"Bottle\"] ┆           ┆           ┆   ┆          ┆          ┆           ┆           │\n",
       "│ \"Socks\"]   ┆           ┆           ┆           ┆   ┆          ┆          ┆           ┆           │\n",
       "│ [\"Basketba ┆ [\"Jersy\", ┆ 0.25      ┆ 0.25      ┆ … ┆ 4.0      ┆ 0.1875   ┆ inf       ┆ 1.0       │\n",
       "│ ll\",       ┆ \"Socks\"]  ┆           ┆           ┆   ┆          ┆          ┆           ┆           │\n",
       "│ \"Bottle\"]  ┆           ┆           ┆           ┆   ┆          ┆          ┆           ┆           │\n",
       "│ [\"Socks\",  ┆ [\"Jersy\", ┆ 0.25      ┆ 0.375     ┆ … ┆ 2.666667 ┆ 0.15625  ┆ inf       ┆ 0.833333  │\n",
       "│ \"Bottle\"]  ┆ \"Basketba ┆           ┆           ┆   ┆          ┆          ┆           ┆           │\n",
       "│            ┆ ll\"]      ┆           ┆           ┆   ┆          ┆          ┆           ┆           │\n",
       "│ [\"Socks\"]  ┆ [\"Jersy\", ┆ 0.25      ┆ 0.25      ┆ … ┆ 4.0      ┆ 0.1875   ┆ inf       ┆ 1.0       │\n",
       "│            ┆ \"Basketba ┆           ┆           ┆   ┆          ┆          ┆           ┆           │\n",
       "│            ┆ ll\",      ┆           ┆           ┆   ┆          ┆          ┆           ┆           │\n",
       "│            ┆ \"Bottl…   ┆           ┆           ┆   ┆          ┆          ┆           ┆           │\n",
       "└────────────┴───────────┴───────────┴───────────┴───┴──────────┴──────────┴───────────┴───────────┘"
      ]
     },
     "execution_count": 41,
     "metadata": {},
     "output_type": "execute_result"
    }
   ],
   "source": [
    "association_rules_df = association_rules_pl(frequent_itemsets)\n",
    "association_rules_df\n"
   ]
  },
  {
   "cell_type": "markdown",
   "metadata": {},
   "source": [
    "指定 `confidence` 最小為 `0.6`"
   ]
  },
  {
   "cell_type": "code",
   "execution_count": 42,
   "metadata": {},
   "outputs": [
    {
     "data": {
      "text/html": [
       "<div><style>\n",
       ".dataframe > thead > tr,\n",
       ".dataframe > tbody > tr {\n",
       "  text-align: right;\n",
       "  white-space: pre-wrap;\n",
       "}\n",
       "</style>\n",
       "<small>shape: (54, 10)</small><table border=\"1\" class=\"dataframe\"><thead><tr><th>antecedents</th><th>consequents</th><th>antecedent support</th><th>consequent support</th><th>support</th><th>confidence</th><th>lift</th><th>leverage</th><th>conviction</th><th>zhangs_metric</th></tr><tr><td>list[str]</td><td>list[str]</td><td>f64</td><td>f64</td><td>f64</td><td>f64</td><td>f64</td><td>f64</td><td>f64</td><td>f64</td></tr></thead><tbody><tr><td>[&quot;Bottle&quot;]</td><td>[&quot;Basketball&quot;]</td><td>0.375</td><td>0.5</td><td>0.25</td><td>0.666667</td><td>1.333333</td><td>0.0625</td><td>1.5</td><td>0.4</td></tr><tr><td>[&quot;Jersy&quot;]</td><td>[&quot;Basketball&quot;]</td><td>0.5</td><td>0.5</td><td>0.375</td><td>0.75</td><td>1.5</td><td>0.125</td><td>2.0</td><td>0.666667</td></tr><tr><td>[&quot;Basketball&quot;]</td><td>[&quot;Jersy&quot;]</td><td>0.5</td><td>0.5</td><td>0.375</td><td>0.75</td><td>1.5</td><td>0.125</td><td>2.0</td><td>0.666667</td></tr><tr><td>[&quot;Shorts&quot;]</td><td>[&quot;Basketball&quot;]</td><td>0.375</td><td>0.5</td><td>0.25</td><td>0.666667</td><td>1.333333</td><td>0.0625</td><td>1.5</td><td>0.4</td></tr><tr><td>[&quot;Socks&quot;]</td><td>[&quot;Basketball&quot;]</td><td>0.25</td><td>0.5</td><td>0.25</td><td>1.0</td><td>2.0</td><td>0.125</td><td>inf</td><td>0.666667</td></tr><tr><td>&hellip;</td><td>&hellip;</td><td>&hellip;</td><td>&hellip;</td><td>&hellip;</td><td>&hellip;</td><td>&hellip;</td><td>&hellip;</td><td>&hellip;</td><td>&hellip;</td></tr><tr><td>[&quot;Basketball&quot;, &quot;Socks&quot;]</td><td>[&quot;Jersy&quot;, &quot;Bottle&quot;]</td><td>0.25</td><td>0.25</td><td>0.25</td><td>1.0</td><td>4.0</td><td>0.1875</td><td>inf</td><td>1.0</td></tr><tr><td>[&quot;Basketball&quot;, &quot;Bottle&quot;]</td><td>[&quot;Jersy&quot;, &quot;Socks&quot;]</td><td>0.25</td><td>0.25</td><td>0.25</td><td>1.0</td><td>4.0</td><td>0.1875</td><td>inf</td><td>1.0</td></tr><tr><td>[&quot;Socks&quot;, &quot;Bottle&quot;]</td><td>[&quot;Jersy&quot;, &quot;Basketball&quot;]</td><td>0.25</td><td>0.375</td><td>0.25</td><td>1.0</td><td>2.666667</td><td>0.15625</td><td>inf</td><td>0.833333</td></tr><tr><td>[&quot;Socks&quot;]</td><td>[&quot;Jersy&quot;, &quot;Basketball&quot;, &quot;Bottle&quot;]</td><td>0.25</td><td>0.25</td><td>0.25</td><td>1.0</td><td>4.0</td><td>0.1875</td><td>inf</td><td>1.0</td></tr><tr><td>[&quot;Bottle&quot;]</td><td>[&quot;Jersy&quot;, &quot;Basketball&quot;, &quot;Socks&quot;]</td><td>0.375</td><td>0.25</td><td>0.25</td><td>0.666667</td><td>2.666667</td><td>0.15625</td><td>2.25</td><td>1.0</td></tr></tbody></table></div>"
      ],
      "text/plain": [
       "shape: (54, 10)\n",
       "┌────────────┬───────────┬───────────┬───────────┬───┬──────────┬──────────┬───────────┬───────────┐\n",
       "│ antecedent ┆ consequen ┆ anteceden ┆ consequen ┆ … ┆ lift     ┆ leverage ┆ convictio ┆ zhangs_me │\n",
       "│ s          ┆ ts        ┆ t support ┆ t support ┆   ┆ ---      ┆ ---      ┆ n         ┆ tric      │\n",
       "│ ---        ┆ ---       ┆ ---       ┆ ---       ┆   ┆ f64      ┆ f64      ┆ ---       ┆ ---       │\n",
       "│ list[str]  ┆ list[str] ┆ f64       ┆ f64       ┆   ┆          ┆          ┆ f64       ┆ f64       │\n",
       "╞════════════╪═══════════╪═══════════╪═══════════╪═══╪══════════╪══════════╪═══════════╪═══════════╡\n",
       "│ [\"Bottle\"] ┆ [\"Basketb ┆ 0.375     ┆ 0.5       ┆ … ┆ 1.333333 ┆ 0.0625   ┆ 1.5       ┆ 0.4       │\n",
       "│            ┆ all\"]     ┆           ┆           ┆   ┆          ┆          ┆           ┆           │\n",
       "│ [\"Jersy\"]  ┆ [\"Basketb ┆ 0.5       ┆ 0.5       ┆ … ┆ 1.5      ┆ 0.125    ┆ 2.0       ┆ 0.666667  │\n",
       "│            ┆ all\"]     ┆           ┆           ┆   ┆          ┆          ┆           ┆           │\n",
       "│ [\"Basketba ┆ [\"Jersy\"] ┆ 0.5       ┆ 0.5       ┆ … ┆ 1.5      ┆ 0.125    ┆ 2.0       ┆ 0.666667  │\n",
       "│ ll\"]       ┆           ┆           ┆           ┆   ┆          ┆          ┆           ┆           │\n",
       "│ [\"Shorts\"] ┆ [\"Basketb ┆ 0.375     ┆ 0.5       ┆ … ┆ 1.333333 ┆ 0.0625   ┆ 1.5       ┆ 0.4       │\n",
       "│            ┆ all\"]     ┆           ┆           ┆   ┆          ┆          ┆           ┆           │\n",
       "│ [\"Socks\"]  ┆ [\"Basketb ┆ 0.25      ┆ 0.5       ┆ … ┆ 2.0      ┆ 0.125    ┆ inf       ┆ 0.666667  │\n",
       "│            ┆ all\"]     ┆           ┆           ┆   ┆          ┆          ┆           ┆           │\n",
       "│ …          ┆ …         ┆ …         ┆ …         ┆ … ┆ …        ┆ …        ┆ …         ┆ …         │\n",
       "│ [\"Basketba ┆ [\"Jersy\", ┆ 0.25      ┆ 0.25      ┆ … ┆ 4.0      ┆ 0.1875   ┆ inf       ┆ 1.0       │\n",
       "│ ll\",       ┆ \"Bottle\"] ┆           ┆           ┆   ┆          ┆          ┆           ┆           │\n",
       "│ \"Socks\"]   ┆           ┆           ┆           ┆   ┆          ┆          ┆           ┆           │\n",
       "│ [\"Basketba ┆ [\"Jersy\", ┆ 0.25      ┆ 0.25      ┆ … ┆ 4.0      ┆ 0.1875   ┆ inf       ┆ 1.0       │\n",
       "│ ll\",       ┆ \"Socks\"]  ┆           ┆           ┆   ┆          ┆          ┆           ┆           │\n",
       "│ \"Bottle\"]  ┆           ┆           ┆           ┆   ┆          ┆          ┆           ┆           │\n",
       "│ [\"Socks\",  ┆ [\"Jersy\", ┆ 0.25      ┆ 0.375     ┆ … ┆ 2.666667 ┆ 0.15625  ┆ inf       ┆ 0.833333  │\n",
       "│ \"Bottle\"]  ┆ \"Basketba ┆           ┆           ┆   ┆          ┆          ┆           ┆           │\n",
       "│            ┆ ll\"]      ┆           ┆           ┆   ┆          ┆          ┆           ┆           │\n",
       "│ [\"Socks\"]  ┆ [\"Jersy\", ┆ 0.25      ┆ 0.25      ┆ … ┆ 4.0      ┆ 0.1875   ┆ inf       ┆ 1.0       │\n",
       "│            ┆ \"Basketba ┆           ┆           ┆   ┆          ┆          ┆           ┆           │\n",
       "│            ┆ ll\",      ┆           ┆           ┆   ┆          ┆          ┆           ┆           │\n",
       "│            ┆ \"Bottl…   ┆           ┆           ┆   ┆          ┆          ┆           ┆           │\n",
       "│ [\"Bottle\"] ┆ [\"Jersy\", ┆ 0.375     ┆ 0.25      ┆ … ┆ 2.666667 ┆ 0.15625  ┆ 2.25      ┆ 1.0       │\n",
       "│            ┆ \"Basketba ┆           ┆           ┆   ┆          ┆          ┆           ┆           │\n",
       "│            ┆ ll\",      ┆           ┆           ┆   ┆          ┆          ┆           ┆           │\n",
       "│            ┆ \"Socks…   ┆           ┆           ┆   ┆          ┆          ┆           ┆           │\n",
       "└────────────┴───────────┴───────────┴───────────┴───┴──────────┴──────────┴───────────┴───────────┘"
      ]
     },
     "execution_count": 42,
     "metadata": {},
     "output_type": "execute_result"
    }
   ],
   "source": [
    "association_rules_df = association_rules_pl(frequent_itemsets, metric='confidence', min_threshold=0.6)\n",
    "association_rules_df"
   ]
  },
  {
   "cell_type": "markdown",
   "metadata": {},
   "source": [
    "指定 `lift` 最小為 `1`"
   ]
  },
  {
   "cell_type": "code",
   "execution_count": 43,
   "metadata": {},
   "outputs": [
    {
     "data": {
      "text/html": [
       "<div><style>\n",
       ".dataframe > thead > tr,\n",
       ".dataframe > tbody > tr {\n",
       "  text-align: right;\n",
       "  white-space: pre-wrap;\n",
       "}\n",
       "</style>\n",
       "<small>shape: (52, 10)</small><table border=\"1\" class=\"dataframe\"><thead><tr><th>antecedents</th><th>consequents</th><th>antecedent support</th><th>consequent support</th><th>support</th><th>confidence</th><th>lift</th><th>leverage</th><th>conviction</th><th>zhangs_metric</th></tr><tr><td>list[str]</td><td>list[str]</td><td>f64</td><td>f64</td><td>f64</td><td>f64</td><td>f64</td><td>f64</td><td>f64</td><td>f64</td></tr></thead><tbody><tr><td>[&quot;Basketball&quot;]</td><td>[&quot;Socks&quot;]</td><td>0.5</td><td>0.25</td><td>0.25</td><td>0.5</td><td>2.0</td><td>0.125</td><td>1.5</td><td>1.0</td></tr><tr><td>[&quot;Socks&quot;]</td><td>[&quot;Basketball&quot;]</td><td>0.25</td><td>0.5</td><td>0.25</td><td>1.0</td><td>2.0</td><td>0.125</td><td>inf</td><td>0.666667</td></tr><tr><td>[&quot;Pants&quot;]</td><td>[&quot;Bottle&quot;]</td><td>0.25</td><td>0.375</td><td>0.25</td><td>1.0</td><td>2.666667</td><td>0.15625</td><td>inf</td><td>0.833333</td></tr><tr><td>[&quot;Bottle&quot;]</td><td>[&quot;Pants&quot;]</td><td>0.375</td><td>0.25</td><td>0.25</td><td>0.666667</td><td>2.666667</td><td>0.15625</td><td>2.25</td><td>1.0</td></tr><tr><td>[&quot;Socks&quot;]</td><td>[&quot;Bottle&quot;]</td><td>0.25</td><td>0.375</td><td>0.25</td><td>1.0</td><td>2.666667</td><td>0.15625</td><td>inf</td><td>0.833333</td></tr><tr><td>&hellip;</td><td>&hellip;</td><td>&hellip;</td><td>&hellip;</td><td>&hellip;</td><td>&hellip;</td><td>&hellip;</td><td>&hellip;</td><td>&hellip;</td><td>&hellip;</td></tr><tr><td>[&quot;Socks&quot;, &quot;Bottle&quot;]</td><td>[&quot;Jersy&quot;, &quot;Basketball&quot;]</td><td>0.25</td><td>0.375</td><td>0.25</td><td>1.0</td><td>2.666667</td><td>0.15625</td><td>inf</td><td>0.833333</td></tr><tr><td>[&quot;Jersy&quot;]</td><td>[&quot;Basketball&quot;, &quot;Socks&quot;, &quot;Bottle&quot;]</td><td>0.5</td><td>0.25</td><td>0.25</td><td>0.5</td><td>2.0</td><td>0.125</td><td>1.5</td><td>1.0</td></tr><tr><td>[&quot;Basketball&quot;]</td><td>[&quot;Jersy&quot;, &quot;Socks&quot;, &quot;Bottle&quot;]</td><td>0.5</td><td>0.25</td><td>0.25</td><td>0.5</td><td>2.0</td><td>0.125</td><td>1.5</td><td>1.0</td></tr><tr><td>[&quot;Socks&quot;]</td><td>[&quot;Jersy&quot;, &quot;Basketball&quot;, &quot;Bottle&quot;]</td><td>0.25</td><td>0.25</td><td>0.25</td><td>1.0</td><td>4.0</td><td>0.1875</td><td>inf</td><td>1.0</td></tr><tr><td>[&quot;Bottle&quot;]</td><td>[&quot;Jersy&quot;, &quot;Basketball&quot;, &quot;Socks&quot;]</td><td>0.375</td><td>0.25</td><td>0.25</td><td>0.666667</td><td>2.666667</td><td>0.15625</td><td>2.25</td><td>1.0</td></tr></tbody></table></div>"
      ],
      "text/plain": [
       "shape: (52, 10)\n",
       "┌────────────┬───────────┬───────────┬───────────┬───┬──────────┬──────────┬───────────┬───────────┐\n",
       "│ antecedent ┆ consequen ┆ anteceden ┆ consequen ┆ … ┆ lift     ┆ leverage ┆ convictio ┆ zhangs_me │\n",
       "│ s          ┆ ts        ┆ t support ┆ t support ┆   ┆ ---      ┆ ---      ┆ n         ┆ tric      │\n",
       "│ ---        ┆ ---       ┆ ---       ┆ ---       ┆   ┆ f64      ┆ f64      ┆ ---       ┆ ---       │\n",
       "│ list[str]  ┆ list[str] ┆ f64       ┆ f64       ┆   ┆          ┆          ┆ f64       ┆ f64       │\n",
       "╞════════════╪═══════════╪═══════════╪═══════════╪═══╪══════════╪══════════╪═══════════╪═══════════╡\n",
       "│ [\"Basketba ┆ [\"Socks\"] ┆ 0.5       ┆ 0.25      ┆ … ┆ 2.0      ┆ 0.125    ┆ 1.5       ┆ 1.0       │\n",
       "│ ll\"]       ┆           ┆           ┆           ┆   ┆          ┆          ┆           ┆           │\n",
       "│ [\"Socks\"]  ┆ [\"Basketb ┆ 0.25      ┆ 0.5       ┆ … ┆ 2.0      ┆ 0.125    ┆ inf       ┆ 0.666667  │\n",
       "│            ┆ all\"]     ┆           ┆           ┆   ┆          ┆          ┆           ┆           │\n",
       "│ [\"Pants\"]  ┆ [\"Bottle\" ┆ 0.25      ┆ 0.375     ┆ … ┆ 2.666667 ┆ 0.15625  ┆ inf       ┆ 0.833333  │\n",
       "│            ┆ ]         ┆           ┆           ┆   ┆          ┆          ┆           ┆           │\n",
       "│ [\"Bottle\"] ┆ [\"Pants\"] ┆ 0.375     ┆ 0.25      ┆ … ┆ 2.666667 ┆ 0.15625  ┆ 2.25      ┆ 1.0       │\n",
       "│ [\"Socks\"]  ┆ [\"Bottle\" ┆ 0.25      ┆ 0.375     ┆ … ┆ 2.666667 ┆ 0.15625  ┆ inf       ┆ 0.833333  │\n",
       "│            ┆ ]         ┆           ┆           ┆   ┆          ┆          ┆           ┆           │\n",
       "│ …          ┆ …         ┆ …         ┆ …         ┆ … ┆ …        ┆ …        ┆ …         ┆ …         │\n",
       "│ [\"Socks\",  ┆ [\"Jersy\", ┆ 0.25      ┆ 0.375     ┆ … ┆ 2.666667 ┆ 0.15625  ┆ inf       ┆ 0.833333  │\n",
       "│ \"Bottle\"]  ┆ \"Basketba ┆           ┆           ┆   ┆          ┆          ┆           ┆           │\n",
       "│            ┆ ll\"]      ┆           ┆           ┆   ┆          ┆          ┆           ┆           │\n",
       "│ [\"Jersy\"]  ┆ [\"Basketb ┆ 0.5       ┆ 0.25      ┆ … ┆ 2.0      ┆ 0.125    ┆ 1.5       ┆ 1.0       │\n",
       "│            ┆ all\",     ┆           ┆           ┆   ┆          ┆          ┆           ┆           │\n",
       "│            ┆ \"Socks\",  ┆           ┆           ┆   ┆          ┆          ┆           ┆           │\n",
       "│            ┆ \"Bottl…   ┆           ┆           ┆   ┆          ┆          ┆           ┆           │\n",
       "│ [\"Basketba ┆ [\"Jersy\", ┆ 0.5       ┆ 0.25      ┆ … ┆ 2.0      ┆ 0.125    ┆ 1.5       ┆ 1.0       │\n",
       "│ ll\"]       ┆ \"Socks\",  ┆           ┆           ┆   ┆          ┆          ┆           ┆           │\n",
       "│            ┆ \"Bottle\"] ┆           ┆           ┆   ┆          ┆          ┆           ┆           │\n",
       "│ [\"Socks\"]  ┆ [\"Jersy\", ┆ 0.25      ┆ 0.25      ┆ … ┆ 4.0      ┆ 0.1875   ┆ inf       ┆ 1.0       │\n",
       "│            ┆ \"Basketba ┆           ┆           ┆   ┆          ┆          ┆           ┆           │\n",
       "│            ┆ ll\",      ┆           ┆           ┆   ┆          ┆          ┆           ┆           │\n",
       "│            ┆ \"Bottl…   ┆           ┆           ┆   ┆          ┆          ┆           ┆           │\n",
       "│ [\"Bottle\"] ┆ [\"Jersy\", ┆ 0.375     ┆ 0.25      ┆ … ┆ 2.666667 ┆ 0.15625  ┆ 2.25      ┆ 1.0       │\n",
       "│            ┆ \"Basketba ┆           ┆           ┆   ┆          ┆          ┆           ┆           │\n",
       "│            ┆ ll\",      ┆           ┆           ┆   ┆          ┆          ┆           ┆           │\n",
       "│            ┆ \"Socks…   ┆           ┆           ┆   ┆          ┆          ┆           ┆           │\n",
       "└────────────┴───────────┴───────────┴───────────┴───┴──────────┴──────────┴───────────┴───────────┘"
      ]
     },
     "execution_count": 43,
     "metadata": {},
     "output_type": "execute_result"
    }
   ],
   "source": [
    "association_rules_df = association_rules_pl(frequent_itemsets, metric='lift', min_threshold=2)\n",
    "association_rules_df"
   ]
  },
  {
   "cell_type": "markdown",
   "metadata": {},
   "source": [
    "# "
   ]
  }
 ],
 "metadata": {
  "kernelspec": {
   "display_name": "venv",
   "language": "python",
   "name": "python3"
  },
  "language_info": {
   "codemirror_mode": {
    "name": "ipython",
    "version": 3
   },
   "file_extension": ".py",
   "mimetype": "text/x-python",
   "name": "python",
   "nbconvert_exporter": "python",
   "pygments_lexer": "ipython3",
   "version": "3.12.5"
  }
 },
 "nbformat": 4,
 "nbformat_minor": 2
}
