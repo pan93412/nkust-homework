{
 "cells": [
  {
   "cell_type": "markdown",
   "metadata": {},
   "source": [
    "# Homework of CH11"
   ]
  },
  {
   "cell_type": "code",
   "execution_count": 116,
   "metadata": {},
   "outputs": [],
   "source": [
    "import polars as pl\n",
    "from mlxtend.frequent_patterns import fpgrowth\n",
    "from mlxtend.frequent_patterns import association_rules\n",
    "from mlxtend.preprocessing import TransactionEncoder\n",
    "from sklearn.metrics.pairwise import cosine_similarity"
   ]
  },
  {
   "cell_type": "markdown",
   "metadata": {},
   "source": [
    "將 mlxtend 函式進行封裝，使其可以直接支援 Polars 的 DataFrame。"
   ]
  },
  {
   "cell_type": "code",
   "execution_count": 117,
   "metadata": {},
   "outputs": [],
   "source": [
    "def fpgrowth_pl(data: pl.DataFrame, min_support=0.5, use_colnames=False, *args, **kwargs):\n",
    "    frequent_itemsets = fpgrowth(data.to_pandas(), min_support=min_support, use_colnames=use_colnames, *args, **kwargs)\n",
    "\n",
    "    frequent_itemsets['itemsets'] = frequent_itemsets['itemsets'].apply(lambda x: list(x))\n",
    "    return pl.DataFrame(frequent_itemsets)\n",
    "\n",
    "def association_rules_pl(data: pl.DataFrame, metric=\"confidence\", min_threshold=0.8, *args, **kwargs):\n",
    "    rules = association_rules(data.to_pandas(), metric=metric, min_threshold=min_threshold, *args, **kwargs)\n",
    "    rules[\"antecedents\"] = rules[\"antecedents\"].apply(lambda x: list(x))\n",
    "    rules[\"consequents\"] = rules[\"consequents\"].apply(lambda x: list(x))\n",
    "\n",
    "    return pl.DataFrame(rules)"
   ]
  },
  {
   "cell_type": "markdown",
   "metadata": {},
   "source": [
    "讀取資料。"
   ]
  },
  {
   "cell_type": "code",
   "execution_count": 118,
   "metadata": {},
   "outputs": [
    {
     "data": {
      "text/html": [
       "<div><style>\n",
       ".dataframe > thead > tr,\n",
       ".dataframe > tbody > tr {\n",
       "  text-align: right;\n",
       "  white-space: pre-wrap;\n",
       "}\n",
       "</style>\n",
       "<small>shape: (38_765, 4)</small><table border=\"1\" class=\"dataframe\"><thead><tr><th>Member_number</th><th>Date</th><th>itemDescription</th><th>Quality</th></tr><tr><td>i64</td><td>str</td><td>str</td><td>i64</td></tr></thead><tbody><tr><td>1808</td><td>&quot;21-07-2015&quot;</td><td>&quot;tropical fruit&quot;</td><td>1</td></tr><tr><td>2552</td><td>&quot;05-01-2015&quot;</td><td>&quot;whole milk&quot;</td><td>1</td></tr><tr><td>2300</td><td>&quot;19-09-2015&quot;</td><td>&quot;pip fruit&quot;</td><td>1</td></tr><tr><td>1187</td><td>&quot;12-12-2015&quot;</td><td>&quot;other vegetables&quot;</td><td>1</td></tr><tr><td>3037</td><td>&quot;01-02-2015&quot;</td><td>&quot;whole milk&quot;</td><td>1</td></tr><tr><td>&hellip;</td><td>&hellip;</td><td>&hellip;</td><td>&hellip;</td></tr><tr><td>4471</td><td>&quot;08-10-2014&quot;</td><td>&quot;sliced cheese&quot;</td><td>1</td></tr><tr><td>2022</td><td>&quot;23-02-2014&quot;</td><td>&quot;candy&quot;</td><td>1</td></tr><tr><td>1097</td><td>&quot;16-04-2014&quot;</td><td>&quot;cake bar&quot;</td><td>1</td></tr><tr><td>1510</td><td>&quot;03-12-2014&quot;</td><td>&quot;fruit/vegetable juice&quot;</td><td>1</td></tr><tr><td>1521</td><td>&quot;26-12-2014&quot;</td><td>&quot;cat food&quot;</td><td>1</td></tr></tbody></table></div>"
      ],
      "text/plain": [
       "shape: (38_765, 4)\n",
       "┌───────────────┬────────────┬───────────────────────┬─────────┐\n",
       "│ Member_number ┆ Date       ┆ itemDescription       ┆ Quality │\n",
       "│ ---           ┆ ---        ┆ ---                   ┆ ---     │\n",
       "│ i64           ┆ str        ┆ str                   ┆ i64     │\n",
       "╞═══════════════╪════════════╪═══════════════════════╪═════════╡\n",
       "│ 1808          ┆ 21-07-2015 ┆ tropical fruit        ┆ 1       │\n",
       "│ 2552          ┆ 05-01-2015 ┆ whole milk            ┆ 1       │\n",
       "│ 2300          ┆ 19-09-2015 ┆ pip fruit             ┆ 1       │\n",
       "│ 1187          ┆ 12-12-2015 ┆ other vegetables      ┆ 1       │\n",
       "│ 3037          ┆ 01-02-2015 ┆ whole milk            ┆ 1       │\n",
       "│ …             ┆ …          ┆ …                     ┆ …       │\n",
       "│ 4471          ┆ 08-10-2014 ┆ sliced cheese         ┆ 1       │\n",
       "│ 2022          ┆ 23-02-2014 ┆ candy                 ┆ 1       │\n",
       "│ 1097          ┆ 16-04-2014 ┆ cake bar              ┆ 1       │\n",
       "│ 1510          ┆ 03-12-2014 ┆ fruit/vegetable juice ┆ 1       │\n",
       "│ 1521          ┆ 26-12-2014 ┆ cat food              ┆ 1       │\n",
       "└───────────────┴────────────┴───────────────────────┴─────────┘"
      ]
     },
     "execution_count": 118,
     "metadata": {},
     "output_type": "execute_result"
    }
   ],
   "source": [
    "df = pl.read_csv(\"Groceries_dataset.csv\")\n",
    "df"
   ]
  },
  {
   "cell_type": "code",
   "execution_count": 119,
   "metadata": {},
   "outputs": [
    {
     "data": {
      "text/html": [
       "<div><style>\n",
       ".dataframe > thead > tr,\n",
       ".dataframe > tbody > tr {\n",
       "  text-align: right;\n",
       "  white-space: pre-wrap;\n",
       "}\n",
       "</style>\n",
       "<small>shape: (9, 5)</small><table border=\"1\" class=\"dataframe\"><thead><tr><th>statistic</th><th>Member_number</th><th>Date</th><th>itemDescription</th><th>Quality</th></tr><tr><td>str</td><td>f64</td><td>str</td><td>str</td><td>f64</td></tr></thead><tbody><tr><td>&quot;count&quot;</td><td>38765.0</td><td>&quot;38765&quot;</td><td>&quot;38765&quot;</td><td>38765.0</td></tr><tr><td>&quot;null_count&quot;</td><td>0.0</td><td>&quot;0&quot;</td><td>&quot;0&quot;</td><td>0.0</td></tr><tr><td>&quot;mean&quot;</td><td>3003.641868</td><td>null</td><td>null</td><td>1.0</td></tr><tr><td>&quot;std&quot;</td><td>1153.611031</td><td>null</td><td>null</td><td>0.0</td></tr><tr><td>&quot;min&quot;</td><td>1000.0</td><td>&quot;01-01-2014&quot;</td><td>&quot;Instant food products&quot;</td><td>1.0</td></tr><tr><td>&quot;25%&quot;</td><td>2002.0</td><td>null</td><td>null</td><td>1.0</td></tr><tr><td>&quot;50%&quot;</td><td>3005.0</td><td>null</td><td>null</td><td>1.0</td></tr><tr><td>&quot;75%&quot;</td><td>4007.0</td><td>null</td><td>null</td><td>1.0</td></tr><tr><td>&quot;max&quot;</td><td>5000.0</td><td>&quot;31-10-2015&quot;</td><td>&quot;zwieback&quot;</td><td>1.0</td></tr></tbody></table></div>"
      ],
      "text/plain": [
       "shape: (9, 5)\n",
       "┌────────────┬───────────────┬────────────┬───────────────────────┬─────────┐\n",
       "│ statistic  ┆ Member_number ┆ Date       ┆ itemDescription       ┆ Quality │\n",
       "│ ---        ┆ ---           ┆ ---        ┆ ---                   ┆ ---     │\n",
       "│ str        ┆ f64           ┆ str        ┆ str                   ┆ f64     │\n",
       "╞════════════╪═══════════════╪════════════╪═══════════════════════╪═════════╡\n",
       "│ count      ┆ 38765.0       ┆ 38765      ┆ 38765                 ┆ 38765.0 │\n",
       "│ null_count ┆ 0.0           ┆ 0          ┆ 0                     ┆ 0.0     │\n",
       "│ mean       ┆ 3003.641868   ┆ null       ┆ null                  ┆ 1.0     │\n",
       "│ std        ┆ 1153.611031   ┆ null       ┆ null                  ┆ 0.0     │\n",
       "│ min        ┆ 1000.0        ┆ 01-01-2014 ┆ Instant food products ┆ 1.0     │\n",
       "│ 25%        ┆ 2002.0        ┆ null       ┆ null                  ┆ 1.0     │\n",
       "│ 50%        ┆ 3005.0        ┆ null       ┆ null                  ┆ 1.0     │\n",
       "│ 75%        ┆ 4007.0        ┆ null       ┆ null                  ┆ 1.0     │\n",
       "│ max        ┆ 5000.0        ┆ 31-10-2015 ┆ zwieback              ┆ 1.0     │\n",
       "└────────────┴───────────────┴────────────┴───────────────────────┴─────────┘"
      ]
     },
     "execution_count": 119,
     "metadata": {},
     "output_type": "execute_result"
    }
   ],
   "source": [
    "df.describe()"
   ]
  },
  {
   "cell_type": "markdown",
   "metadata": {},
   "source": [
    "看起來不需要處理空值問題。不過 `itemDescription` 欄位的資料型態是 `str`，需要轉換成 `list`。"
   ]
  },
  {
   "cell_type": "code",
   "execution_count": 120,
   "metadata": {},
   "outputs": [
    {
     "data": {
      "text/html": [
       "<div><style>\n",
       ".dataframe > thead > tr,\n",
       ".dataframe > tbody > tr {\n",
       "  text-align: right;\n",
       "  white-space: pre-wrap;\n",
       "}\n",
       "</style>\n",
       "<small>shape: (3_898, 2)</small><table border=\"1\" class=\"dataframe\"><thead><tr><th>Member_number</th><th>itemDescription</th></tr><tr><td>i64</td><td>list[str]</td></tr></thead><tbody><tr><td>4603</td><td>[&quot;pork&quot;, &quot;whole milk&quot;, … &quot;hygiene articles&quot;]</td></tr><tr><td>1453</td><td>[&quot;citrus fruit&quot;, &quot;hygiene articles&quot;, … &quot;margarine&quot;]</td></tr><tr><td>4856</td><td>[&quot;root vegetables&quot;, &quot;beverages&quot;, … &quot;sugar&quot;]</td></tr><tr><td>1727</td><td>[&quot;citrus fruit&quot;, &quot;brown bread&quot;, … &quot;brown bread&quot;]</td></tr><tr><td>3430</td><td>[&quot;root vegetables&quot;, &quot;fruit/vegetable juice&quot;, … &quot;vinegar&quot;]</td></tr><tr><td>&hellip;</td><td>&hellip;</td></tr><tr><td>1816</td><td>[&quot;soda&quot;, &quot;red/blush wine&quot;, … &quot;coffee&quot;]</td></tr><tr><td>3534</td><td>[&quot;beef&quot;, &quot;sausage&quot;, … &quot;processed cheese&quot;]</td></tr><tr><td>4716</td><td>[&quot;sausage&quot;, &quot;grapes&quot;, … &quot;napkins&quot;]</td></tr><tr><td>4317</td><td>[&quot;canned beer&quot;, &quot;ice cream&quot;, … &quot;cream cheese &quot;]</td></tr><tr><td>4698</td><td>[&quot;newspapers&quot;, &quot;cleaner&quot;, … &quot;white bread&quot;]</td></tr></tbody></table></div>"
      ],
      "text/plain": [
       "shape: (3_898, 2)\n",
       "┌───────────────┬─────────────────────────────────┐\n",
       "│ Member_number ┆ itemDescription                 │\n",
       "│ ---           ┆ ---                             │\n",
       "│ i64           ┆ list[str]                       │\n",
       "╞═══════════════╪═════════════════════════════════╡\n",
       "│ 4603          ┆ [\"pork\", \"whole milk\", … \"hygi… │\n",
       "│ 1453          ┆ [\"citrus fruit\", \"hygiene arti… │\n",
       "│ 4856          ┆ [\"root vegetables\", \"beverages… │\n",
       "│ 1727          ┆ [\"citrus fruit\", \"brown bread\"… │\n",
       "│ 3430          ┆ [\"root vegetables\", \"fruit/veg… │\n",
       "│ …             ┆ …                               │\n",
       "│ 1816          ┆ [\"soda\", \"red/blush wine\", … \"… │\n",
       "│ 3534          ┆ [\"beef\", \"sausage\", … \"process… │\n",
       "│ 4716          ┆ [\"sausage\", \"grapes\", … \"napki… │\n",
       "│ 4317          ┆ [\"canned beer\", \"ice cream\", …… │\n",
       "│ 4698          ┆ [\"newspapers\", \"cleaner\", … \"w… │\n",
       "└───────────────┴─────────────────────────────────┘"
      ]
     },
     "execution_count": 120,
     "metadata": {},
     "output_type": "execute_result"
    }
   ],
   "source": [
    "data_df = df.group_by(\"Member_number\").agg(pl.col(\"itemDescription\"))\n",
    "data_df"
   ]
  },
  {
   "cell_type": "markdown",
   "metadata": {},
   "source": [
    "## Question 1\n",
    "\n",
    "請使用 `Groceries_dataset` 資料集，並計算銷售資料 `support>=0.1`, `lift>=1` 以上的產品組合\n",
    "\n",
    "- 提示: 先算出 `support>=0.1` 的 `frequent_itemsets`；再篩選 `lift>=1` 的產品組合"
   ]
  },
  {
   "cell_type": "code",
   "execution_count": 121,
   "metadata": {},
   "outputs": [
    {
     "data": {
      "text/html": [
       "<div><style>\n",
       ".dataframe > thead > tr,\n",
       ".dataframe > tbody > tr {\n",
       "  text-align: right;\n",
       "  white-space: pre-wrap;\n",
       "}\n",
       "</style>\n",
       "<small>shape: (3_898, 167)</small><table border=\"1\" class=\"dataframe\"><thead><tr><th>Instant food products</th><th>UHT-milk</th><th>abrasive cleaner</th><th>artif. sweetener</th><th>baby cosmetics</th><th>bags</th><th>baking powder</th><th>bathroom cleaner</th><th>beef</th><th>berries</th><th>beverages</th><th>bottled beer</th><th>bottled water</th><th>brandy</th><th>brown bread</th><th>butter</th><th>butter milk</th><th>cake bar</th><th>candles</th><th>candy</th><th>canned beer</th><th>canned fish</th><th>canned fruit</th><th>canned vegetables</th><th>cat food</th><th>cereals</th><th>chewing gum</th><th>chicken</th><th>chocolate</th><th>chocolate marshmallow</th><th>citrus fruit</th><th>cleaner</th><th>cling film/bags</th><th>cocoa drinks</th><th>coffee</th><th>condensed milk</th><th>cooking chocolate</th><th>&hellip;</th><th>sausage</th><th>seasonal products</th><th>semi-finished bread</th><th>shopping bags</th><th>skin care</th><th>sliced cheese</th><th>snack products</th><th>soap</th><th>soda</th><th>soft cheese</th><th>softener</th><th>soups</th><th>sparkling wine</th><th>specialty bar</th><th>specialty cheese</th><th>specialty chocolate</th><th>specialty fat</th><th>specialty vegetables</th><th>spices</th><th>spread cheese</th><th>sugar</th><th>sweet spreads</th><th>syrup</th><th>tea</th><th>tidbits</th><th>toilet cleaner</th><th>tropical fruit</th><th>turkey</th><th>vinegar</th><th>waffles</th><th>whipped/sour cream</th><th>whisky</th><th>white bread</th><th>white wine</th><th>whole milk</th><th>yogurt</th><th>zwieback</th></tr><tr><td>bool</td><td>bool</td><td>bool</td><td>bool</td><td>bool</td><td>bool</td><td>bool</td><td>bool</td><td>bool</td><td>bool</td><td>bool</td><td>bool</td><td>bool</td><td>bool</td><td>bool</td><td>bool</td><td>bool</td><td>bool</td><td>bool</td><td>bool</td><td>bool</td><td>bool</td><td>bool</td><td>bool</td><td>bool</td><td>bool</td><td>bool</td><td>bool</td><td>bool</td><td>bool</td><td>bool</td><td>bool</td><td>bool</td><td>bool</td><td>bool</td><td>bool</td><td>bool</td><td>&hellip;</td><td>bool</td><td>bool</td><td>bool</td><td>bool</td><td>bool</td><td>bool</td><td>bool</td><td>bool</td><td>bool</td><td>bool</td><td>bool</td><td>bool</td><td>bool</td><td>bool</td><td>bool</td><td>bool</td><td>bool</td><td>bool</td><td>bool</td><td>bool</td><td>bool</td><td>bool</td><td>bool</td><td>bool</td><td>bool</td><td>bool</td><td>bool</td><td>bool</td><td>bool</td><td>bool</td><td>bool</td><td>bool</td><td>bool</td><td>bool</td><td>bool</td><td>bool</td><td>bool</td></tr></thead><tbody><tr><td>false</td><td>false</td><td>false</td><td>false</td><td>false</td><td>false</td><td>false</td><td>true</td><td>false</td><td>false</td><td>false</td><td>false</td><td>false</td><td>false</td><td>true</td><td>false</td><td>false</td><td>false</td><td>false</td><td>false</td><td>false</td><td>false</td><td>false</td><td>false</td><td>true</td><td>false</td><td>false</td><td>false</td><td>false</td><td>false</td><td>false</td><td>false</td><td>false</td><td>false</td><td>false</td><td>false</td><td>false</td><td>&hellip;</td><td>false</td><td>false</td><td>false</td><td>true</td><td>false</td><td>false</td><td>false</td><td>false</td><td>false</td><td>false</td><td>false</td><td>false</td><td>false</td><td>false</td><td>false</td><td>false</td><td>false</td><td>false</td><td>false</td><td>false</td><td>false</td><td>false</td><td>false</td><td>false</td><td>false</td><td>false</td><td>false</td><td>false</td><td>false</td><td>false</td><td>false</td><td>false</td><td>false</td><td>false</td><td>true</td><td>false</td><td>false</td></tr><tr><td>false</td><td>false</td><td>false</td><td>false</td><td>false</td><td>false</td><td>false</td><td>false</td><td>false</td><td>false</td><td>false</td><td>false</td><td>false</td><td>false</td><td>false</td><td>false</td><td>false</td><td>false</td><td>false</td><td>false</td><td>false</td><td>false</td><td>false</td><td>false</td><td>false</td><td>false</td><td>false</td><td>false</td><td>false</td><td>false</td><td>true</td><td>false</td><td>false</td><td>false</td><td>false</td><td>false</td><td>false</td><td>&hellip;</td><td>false</td><td>false</td><td>false</td><td>false</td><td>false</td><td>false</td><td>false</td><td>false</td><td>false</td><td>false</td><td>false</td><td>false</td><td>false</td><td>false</td><td>false</td><td>false</td><td>false</td><td>false</td><td>false</td><td>false</td><td>false</td><td>false</td><td>false</td><td>false</td><td>false</td><td>false</td><td>false</td><td>false</td><td>false</td><td>false</td><td>false</td><td>false</td><td>false</td><td>false</td><td>false</td><td>false</td><td>false</td></tr><tr><td>false</td><td>false</td><td>false</td><td>false</td><td>false</td><td>false</td><td>false</td><td>false</td><td>false</td><td>false</td><td>true</td><td>false</td><td>false</td><td>false</td><td>false</td><td>false</td><td>false</td><td>false</td><td>false</td><td>false</td><td>false</td><td>false</td><td>false</td><td>false</td><td>false</td><td>false</td><td>false</td><td>false</td><td>false</td><td>false</td><td>false</td><td>false</td><td>false</td><td>false</td><td>false</td><td>false</td><td>false</td><td>&hellip;</td><td>false</td><td>false</td><td>false</td><td>false</td><td>false</td><td>false</td><td>false</td><td>false</td><td>false</td><td>false</td><td>false</td><td>false</td><td>false</td><td>true</td><td>false</td><td>false</td><td>false</td><td>false</td><td>false</td><td>false</td><td>true</td><td>false</td><td>false</td><td>false</td><td>false</td><td>false</td><td>true</td><td>false</td><td>false</td><td>false</td><td>false</td><td>false</td><td>false</td><td>false</td><td>false</td><td>false</td><td>false</td></tr><tr><td>false</td><td>false</td><td>false</td><td>false</td><td>false</td><td>false</td><td>false</td><td>false</td><td>true</td><td>false</td><td>false</td><td>false</td><td>false</td><td>false</td><td>true</td><td>false</td><td>false</td><td>false</td><td>false</td><td>false</td><td>false</td><td>true</td><td>false</td><td>false</td><td>false</td><td>false</td><td>false</td><td>false</td><td>false</td><td>false</td><td>true</td><td>false</td><td>false</td><td>false</td><td>false</td><td>false</td><td>false</td><td>&hellip;</td><td>false</td><td>false</td><td>false</td><td>false</td><td>false</td><td>false</td><td>false</td><td>false</td><td>false</td><td>false</td><td>false</td><td>false</td><td>false</td><td>false</td><td>false</td><td>false</td><td>false</td><td>false</td><td>false</td><td>false</td><td>false</td><td>false</td><td>false</td><td>false</td><td>false</td><td>false</td><td>false</td><td>false</td><td>false</td><td>false</td><td>false</td><td>false</td><td>false</td><td>false</td><td>true</td><td>false</td><td>false</td></tr><tr><td>false</td><td>false</td><td>false</td><td>false</td><td>false</td><td>false</td><td>false</td><td>false</td><td>false</td><td>false</td><td>false</td><td>false</td><td>false</td><td>false</td><td>true</td><td>false</td><td>false</td><td>false</td><td>false</td><td>true</td><td>false</td><td>false</td><td>false</td><td>false</td><td>false</td><td>false</td><td>false</td><td>false</td><td>false</td><td>false</td><td>false</td><td>false</td><td>false</td><td>false</td><td>false</td><td>false</td><td>false</td><td>&hellip;</td><td>false</td><td>false</td><td>false</td><td>false</td><td>false</td><td>false</td><td>false</td><td>false</td><td>false</td><td>false</td><td>false</td><td>false</td><td>false</td><td>false</td><td>false</td><td>false</td><td>false</td><td>false</td><td>false</td><td>false</td><td>false</td><td>false</td><td>false</td><td>false</td><td>false</td><td>false</td><td>true</td><td>false</td><td>true</td><td>false</td><td>false</td><td>false</td><td>false</td><td>false</td><td>false</td><td>false</td><td>false</td></tr><tr><td>&hellip;</td><td>&hellip;</td><td>&hellip;</td><td>&hellip;</td><td>&hellip;</td><td>&hellip;</td><td>&hellip;</td><td>&hellip;</td><td>&hellip;</td><td>&hellip;</td><td>&hellip;</td><td>&hellip;</td><td>&hellip;</td><td>&hellip;</td><td>&hellip;</td><td>&hellip;</td><td>&hellip;</td><td>&hellip;</td><td>&hellip;</td><td>&hellip;</td><td>&hellip;</td><td>&hellip;</td><td>&hellip;</td><td>&hellip;</td><td>&hellip;</td><td>&hellip;</td><td>&hellip;</td><td>&hellip;</td><td>&hellip;</td><td>&hellip;</td><td>&hellip;</td><td>&hellip;</td><td>&hellip;</td><td>&hellip;</td><td>&hellip;</td><td>&hellip;</td><td>&hellip;</td><td>&hellip;</td><td>&hellip;</td><td>&hellip;</td><td>&hellip;</td><td>&hellip;</td><td>&hellip;</td><td>&hellip;</td><td>&hellip;</td><td>&hellip;</td><td>&hellip;</td><td>&hellip;</td><td>&hellip;</td><td>&hellip;</td><td>&hellip;</td><td>&hellip;</td><td>&hellip;</td><td>&hellip;</td><td>&hellip;</td><td>&hellip;</td><td>&hellip;</td><td>&hellip;</td><td>&hellip;</td><td>&hellip;</td><td>&hellip;</td><td>&hellip;</td><td>&hellip;</td><td>&hellip;</td><td>&hellip;</td><td>&hellip;</td><td>&hellip;</td><td>&hellip;</td><td>&hellip;</td><td>&hellip;</td><td>&hellip;</td><td>&hellip;</td><td>&hellip;</td><td>&hellip;</td><td>&hellip;</td></tr><tr><td>false</td><td>false</td><td>false</td><td>false</td><td>false</td><td>false</td><td>false</td><td>false</td><td>false</td><td>false</td><td>false</td><td>false</td><td>false</td><td>false</td><td>false</td><td>false</td><td>false</td><td>true</td><td>false</td><td>false</td><td>true</td><td>false</td><td>false</td><td>false</td><td>false</td><td>false</td><td>false</td><td>false</td><td>false</td><td>false</td><td>false</td><td>false</td><td>false</td><td>false</td><td>true</td><td>false</td><td>false</td><td>&hellip;</td><td>false</td><td>false</td><td>false</td><td>false</td><td>false</td><td>false</td><td>false</td><td>false</td><td>true</td><td>false</td><td>false</td><td>false</td><td>false</td><td>false</td><td>false</td><td>false</td><td>false</td><td>false</td><td>false</td><td>false</td><td>false</td><td>false</td><td>false</td><td>false</td><td>false</td><td>false</td><td>false</td><td>false</td><td>false</td><td>false</td><td>false</td><td>false</td><td>false</td><td>false</td><td>true</td><td>false</td><td>false</td></tr><tr><td>false</td><td>false</td><td>false</td><td>false</td><td>false</td><td>false</td><td>false</td><td>false</td><td>true</td><td>false</td><td>false</td><td>false</td><td>false</td><td>false</td><td>false</td><td>false</td><td>false</td><td>false</td><td>false</td><td>false</td><td>false</td><td>false</td><td>false</td><td>false</td><td>false</td><td>false</td><td>false</td><td>false</td><td>false</td><td>false</td><td>true</td><td>false</td><td>false</td><td>false</td><td>false</td><td>false</td><td>false</td><td>&hellip;</td><td>true</td><td>false</td><td>false</td><td>false</td><td>false</td><td>false</td><td>false</td><td>false</td><td>false</td><td>false</td><td>false</td><td>false</td><td>false</td><td>false</td><td>false</td><td>false</td><td>false</td><td>false</td><td>false</td><td>false</td><td>false</td><td>false</td><td>false</td><td>false</td><td>false</td><td>false</td><td>false</td><td>false</td><td>false</td><td>false</td><td>false</td><td>false</td><td>false</td><td>false</td><td>false</td><td>true</td><td>false</td></tr><tr><td>false</td><td>false</td><td>false</td><td>false</td><td>false</td><td>false</td><td>false</td><td>false</td><td>false</td><td>false</td><td>false</td><td>true</td><td>false</td><td>false</td><td>false</td><td>false</td><td>false</td><td>false</td><td>false</td><td>false</td><td>false</td><td>false</td><td>false</td><td>false</td><td>false</td><td>false</td><td>false</td><td>false</td><td>false</td><td>false</td><td>false</td><td>false</td><td>false</td><td>false</td><td>false</td><td>false</td><td>false</td><td>&hellip;</td><td>true</td><td>false</td><td>false</td><td>false</td><td>false</td><td>false</td><td>false</td><td>false</td><td>false</td><td>false</td><td>false</td><td>false</td><td>false</td><td>false</td><td>false</td><td>false</td><td>false</td><td>false</td><td>false</td><td>false</td><td>false</td><td>false</td><td>false</td><td>false</td><td>false</td><td>false</td><td>false</td><td>false</td><td>false</td><td>false</td><td>false</td><td>false</td><td>false</td><td>false</td><td>false</td><td>false</td><td>false</td></tr><tr><td>false</td><td>false</td><td>false</td><td>false</td><td>false</td><td>false</td><td>false</td><td>false</td><td>false</td><td>false</td><td>false</td><td>false</td><td>false</td><td>false</td><td>false</td><td>false</td><td>false</td><td>false</td><td>false</td><td>false</td><td>true</td><td>false</td><td>false</td><td>false</td><td>false</td><td>false</td><td>false</td><td>false</td><td>false</td><td>false</td><td>false</td><td>false</td><td>false</td><td>false</td><td>false</td><td>false</td><td>false</td><td>&hellip;</td><td>false</td><td>false</td><td>false</td><td>false</td><td>false</td><td>false</td><td>false</td><td>false</td><td>false</td><td>false</td><td>false</td><td>false</td><td>true</td><td>false</td><td>false</td><td>false</td><td>false</td><td>false</td><td>false</td><td>false</td><td>false</td><td>false</td><td>false</td><td>false</td><td>false</td><td>false</td><td>false</td><td>false</td><td>false</td><td>false</td><td>false</td><td>false</td><td>false</td><td>false</td><td>false</td><td>false</td><td>false</td></tr><tr><td>false</td><td>false</td><td>false</td><td>false</td><td>false</td><td>false</td><td>false</td><td>false</td><td>false</td><td>false</td><td>false</td><td>false</td><td>false</td><td>false</td><td>false</td><td>false</td><td>false</td><td>false</td><td>false</td><td>false</td><td>false</td><td>false</td><td>false</td><td>false</td><td>false</td><td>false</td><td>false</td><td>false</td><td>false</td><td>false</td><td>false</td><td>true</td><td>false</td><td>false</td><td>false</td><td>false</td><td>false</td><td>&hellip;</td><td>false</td><td>false</td><td>false</td><td>false</td><td>false</td><td>false</td><td>false</td><td>false</td><td>false</td><td>false</td><td>false</td><td>false</td><td>false</td><td>false</td><td>false</td><td>true</td><td>false</td><td>false</td><td>false</td><td>false</td><td>false</td><td>false</td><td>false</td><td>false</td><td>false</td><td>false</td><td>false</td><td>false</td><td>false</td><td>false</td><td>false</td><td>false</td><td>true</td><td>false</td><td>false</td><td>false</td><td>false</td></tr></tbody></table></div>"
      ],
      "text/plain": [
       "shape: (3_898, 167)\n",
       "┌──────────┬──────────┬──────────┬───────────┬───┬───────┬────────────┬────────┬──────────┐\n",
       "│ Instant  ┆ UHT-milk ┆ abrasive ┆ artif.    ┆ … ┆ white ┆ whole milk ┆ yogurt ┆ zwieback │\n",
       "│ food     ┆ ---      ┆ cleaner  ┆ sweetener ┆   ┆ wine  ┆ ---        ┆ ---    ┆ ---      │\n",
       "│ products ┆ bool     ┆ ---      ┆ ---       ┆   ┆ ---   ┆ bool       ┆ bool   ┆ bool     │\n",
       "│ ---      ┆          ┆ bool     ┆ bool      ┆   ┆ bool  ┆            ┆        ┆          │\n",
       "│ bool     ┆          ┆          ┆           ┆   ┆       ┆            ┆        ┆          │\n",
       "╞══════════╪══════════╪══════════╪═══════════╪═══╪═══════╪════════════╪════════╪══════════╡\n",
       "│ false    ┆ false    ┆ false    ┆ false     ┆ … ┆ false ┆ true       ┆ false  ┆ false    │\n",
       "│ false    ┆ false    ┆ false    ┆ false     ┆ … ┆ false ┆ false      ┆ false  ┆ false    │\n",
       "│ false    ┆ false    ┆ false    ┆ false     ┆ … ┆ false ┆ false      ┆ false  ┆ false    │\n",
       "│ false    ┆ false    ┆ false    ┆ false     ┆ … ┆ false ┆ true       ┆ false  ┆ false    │\n",
       "│ false    ┆ false    ┆ false    ┆ false     ┆ … ┆ false ┆ false      ┆ false  ┆ false    │\n",
       "│ …        ┆ …        ┆ …        ┆ …         ┆ … ┆ …     ┆ …          ┆ …      ┆ …        │\n",
       "│ false    ┆ false    ┆ false    ┆ false     ┆ … ┆ false ┆ true       ┆ false  ┆ false    │\n",
       "│ false    ┆ false    ┆ false    ┆ false     ┆ … ┆ false ┆ false      ┆ true   ┆ false    │\n",
       "│ false    ┆ false    ┆ false    ┆ false     ┆ … ┆ false ┆ false      ┆ false  ┆ false    │\n",
       "│ false    ┆ false    ┆ false    ┆ false     ┆ … ┆ false ┆ false      ┆ false  ┆ false    │\n",
       "│ false    ┆ false    ┆ false    ┆ false     ┆ … ┆ false ┆ false      ┆ false  ┆ false    │\n",
       "└──────────┴──────────┴──────────┴───────────┴───┴───────┴────────────┴────────┴──────────┘"
      ]
     },
     "execution_count": 121,
     "metadata": {},
     "output_type": "execute_result"
    }
   ],
   "source": [
    "te = TransactionEncoder()\n",
    "te_ary=te.fit_transform(X=data_df['itemDescription'])\n",
    "\n",
    "data_items_dumm = pl.DataFrame(te_ary, schema=te.columns_)\n",
    "data_items_dumm"
   ]
  },
  {
   "cell_type": "code",
   "execution_count": 122,
   "metadata": {},
   "outputs": [
    {
     "data": {
      "text/html": [
       "<div><style>\n",
       ".dataframe > thead > tr,\n",
       ".dataframe > tbody > tr {\n",
       "  text-align: right;\n",
       "  white-space: pre-wrap;\n",
       "}\n",
       "</style>\n",
       "<small>shape: (42, 2)</small><table border=\"1\" class=\"dataframe\"><thead><tr><th>support</th><th>itemsets</th></tr><tr><td>f64</td><td>list[str]</td></tr></thead><tbody><tr><td>0.458184</td><td>[&quot;whole milk&quot;]</td></tr><tr><td>0.230631</td><td>[&quot;root vegetables&quot;]</td></tr><tr><td>0.168291</td><td>[&quot;shopping bags&quot;]</td></tr><tr><td>0.139815</td><td>[&quot;newspapers&quot;]</td></tr><tr><td>0.135967</td><td>[&quot;brown bread&quot;]</td></tr><tr><td>&hellip;</td><td>&hellip;</td></tr><tr><td>0.124166</td><td>[&quot;other vegetables&quot;, &quot;soda&quot;]</td></tr><tr><td>0.15059</td><td>[&quot;whole milk&quot;, &quot;yogurt&quot;]</td></tr><tr><td>0.120318</td><td>[&quot;yogurt&quot;, &quot;other vegetables&quot;]</td></tr><tr><td>0.111339</td><td>[&quot;yogurt&quot;, &quot;rolls/buns&quot;]</td></tr><tr><td>0.106978</td><td>[&quot;whole milk&quot;, &quot;sausage&quot;]</td></tr></tbody></table></div>"
      ],
      "text/plain": [
       "shape: (42, 2)\n",
       "┌──────────┬────────────────────────────────┐\n",
       "│ support  ┆ itemsets                       │\n",
       "│ ---      ┆ ---                            │\n",
       "│ f64      ┆ list[str]                      │\n",
       "╞══════════╪════════════════════════════════╡\n",
       "│ 0.458184 ┆ [\"whole milk\"]                 │\n",
       "│ 0.230631 ┆ [\"root vegetables\"]            │\n",
       "│ 0.168291 ┆ [\"shopping bags\"]              │\n",
       "│ 0.139815 ┆ [\"newspapers\"]                 │\n",
       "│ 0.135967 ┆ [\"brown bread\"]                │\n",
       "│ …        ┆ …                              │\n",
       "│ 0.124166 ┆ [\"other vegetables\", \"soda\"]   │\n",
       "│ 0.15059  ┆ [\"whole milk\", \"yogurt\"]       │\n",
       "│ 0.120318 ┆ [\"yogurt\", \"other vegetables\"] │\n",
       "│ 0.111339 ┆ [\"yogurt\", \"rolls/buns\"]       │\n",
       "│ 0.106978 ┆ [\"whole milk\", \"sausage\"]      │\n",
       "└──────────┴────────────────────────────────┘"
      ]
     },
     "execution_count": 122,
     "metadata": {},
     "output_type": "execute_result"
    }
   ],
   "source": [
    "frequent_itemsets = fpgrowth_pl(data_items_dumm, min_support=0.1, use_colnames=True)\n",
    "frequent_itemsets"
   ]
  },
  {
   "cell_type": "code",
   "execution_count": 123,
   "metadata": {},
   "outputs": [
    {
     "data": {
      "text/html": [
       "<div><style>\n",
       ".dataframe > thead > tr,\n",
       ".dataframe > tbody > tr {\n",
       "  text-align: right;\n",
       "  white-space: pre-wrap;\n",
       "}\n",
       "</style>\n",
       "<small>shape: (26, 10)</small><table border=\"1\" class=\"dataframe\"><thead><tr><th>antecedents</th><th>consequents</th><th>antecedent support</th><th>consequent support</th><th>support</th><th>confidence</th><th>lift</th><th>leverage</th><th>conviction</th><th>zhangs_metric</th></tr><tr><td>list[str]</td><td>list[str]</td><td>f64</td><td>f64</td><td>f64</td><td>f64</td><td>f64</td><td>f64</td><td>f64</td><td>f64</td></tr></thead><tbody><tr><td>[&quot;whole milk&quot;]</td><td>[&quot;root vegetables&quot;]</td><td>0.458184</td><td>0.230631</td><td>0.113135</td><td>0.24692</td><td>1.07063</td><td>0.007464</td><td>1.02163</td><td>0.121758</td></tr><tr><td>[&quot;root vegetables&quot;]</td><td>[&quot;whole milk&quot;]</td><td>0.230631</td><td>0.458184</td><td>0.113135</td><td>0.490545</td><td>1.07063</td><td>0.007464</td><td>1.063522</td><td>0.085746</td></tr><tr><td>[&quot;whole milk&quot;]</td><td>[&quot;tropical fruit&quot;]</td><td>0.458184</td><td>0.23371</td><td>0.11647</td><td>0.254199</td><td>1.087672</td><td>0.009388</td><td>1.027473</td><td>0.148768</td></tr><tr><td>[&quot;tropical fruit&quot;]</td><td>[&quot;whole milk&quot;]</td><td>0.23371</td><td>0.458184</td><td>0.11647</td><td>0.498353</td><td>1.087672</td><td>0.009388</td><td>1.080076</td><td>0.105189</td></tr><tr><td>[&quot;whole milk&quot;]</td><td>[&quot;other vegetables&quot;]</td><td>0.458184</td><td>0.376603</td><td>0.19138</td><td>0.417693</td><td>1.109106</td><td>0.018827</td><td>1.070564</td><td>0.181562</td></tr><tr><td>&hellip;</td><td>&hellip;</td><td>&hellip;</td><td>&hellip;</td><td>&hellip;</td><td>&hellip;</td><td>&hellip;</td><td>&hellip;</td><td>&hellip;</td><td>&hellip;</td></tr><tr><td>[&quot;other vegetables&quot;]</td><td>[&quot;yogurt&quot;]</td><td>0.376603</td><td>0.282966</td><td>0.120318</td><td>0.319482</td><td>1.12905</td><td>0.013752</td><td>1.05366</td><td>0.18335</td></tr><tr><td>[&quot;yogurt&quot;]</td><td>[&quot;rolls/buns&quot;]</td><td>0.282966</td><td>0.349666</td><td>0.111339</td><td>0.393472</td><td>1.125279</td><td>0.012396</td><td>1.072224</td><td>0.155267</td></tr><tr><td>[&quot;rolls/buns&quot;]</td><td>[&quot;yogurt&quot;]</td><td>0.349666</td><td>0.282966</td><td>0.111339</td><td>0.318415</td><td>1.125279</td><td>0.012396</td><td>1.052011</td><td>0.171191</td></tr><tr><td>[&quot;whole milk&quot;]</td><td>[&quot;sausage&quot;]</td><td>0.458184</td><td>0.206003</td><td>0.106978</td><td>0.233483</td><td>1.133394</td><td>0.012591</td><td>1.03585</td><td>0.217222</td></tr><tr><td>[&quot;sausage&quot;]</td><td>[&quot;whole milk&quot;]</td><td>0.206003</td><td>0.458184</td><td>0.106978</td><td>0.519303</td><td>1.133394</td><td>0.012591</td><td>1.127146</td><td>0.14823</td></tr></tbody></table></div>"
      ],
      "text/plain": [
       "shape: (26, 10)\n",
       "┌────────────┬───────────┬───────────┬───────────┬───┬──────────┬──────────┬───────────┬───────────┐\n",
       "│ antecedent ┆ consequen ┆ anteceden ┆ consequen ┆ … ┆ lift     ┆ leverage ┆ convictio ┆ zhangs_me │\n",
       "│ s          ┆ ts        ┆ t support ┆ t support ┆   ┆ ---      ┆ ---      ┆ n         ┆ tric      │\n",
       "│ ---        ┆ ---       ┆ ---       ┆ ---       ┆   ┆ f64      ┆ f64      ┆ ---       ┆ ---       │\n",
       "│ list[str]  ┆ list[str] ┆ f64       ┆ f64       ┆   ┆          ┆          ┆ f64       ┆ f64       │\n",
       "╞════════════╪═══════════╪═══════════╪═══════════╪═══╪══════════╪══════════╪═══════════╪═══════════╡\n",
       "│ [\"whole    ┆ [\"root    ┆ 0.458184  ┆ 0.230631  ┆ … ┆ 1.07063  ┆ 0.007464 ┆ 1.02163   ┆ 0.121758  │\n",
       "│ milk\"]     ┆ vegetable ┆           ┆           ┆   ┆          ┆          ┆           ┆           │\n",
       "│            ┆ s\"]       ┆           ┆           ┆   ┆          ┆          ┆           ┆           │\n",
       "│ [\"root veg ┆ [\"whole   ┆ 0.230631  ┆ 0.458184  ┆ … ┆ 1.07063  ┆ 0.007464 ┆ 1.063522  ┆ 0.085746  │\n",
       "│ etables\"]  ┆ milk\"]    ┆           ┆           ┆   ┆          ┆          ┆           ┆           │\n",
       "│ [\"whole    ┆ [\"tropica ┆ 0.458184  ┆ 0.23371   ┆ … ┆ 1.087672 ┆ 0.009388 ┆ 1.027473  ┆ 0.148768  │\n",
       "│ milk\"]     ┆ l fruit\"] ┆           ┆           ┆   ┆          ┆          ┆           ┆           │\n",
       "│ [\"tropical ┆ [\"whole   ┆ 0.23371   ┆ 0.458184  ┆ … ┆ 1.087672 ┆ 0.009388 ┆ 1.080076  ┆ 0.105189  │\n",
       "│ fruit\"]    ┆ milk\"]    ┆           ┆           ┆   ┆          ┆          ┆           ┆           │\n",
       "│ [\"whole    ┆ [\"other   ┆ 0.458184  ┆ 0.376603  ┆ … ┆ 1.109106 ┆ 0.018827 ┆ 1.070564  ┆ 0.181562  │\n",
       "│ milk\"]     ┆ vegetable ┆           ┆           ┆   ┆          ┆          ┆           ┆           │\n",
       "│            ┆ s\"]       ┆           ┆           ┆   ┆          ┆          ┆           ┆           │\n",
       "│ …          ┆ …         ┆ …         ┆ …         ┆ … ┆ …        ┆ …        ┆ …         ┆ …         │\n",
       "│ [\"other    ┆ [\"yogurt\" ┆ 0.376603  ┆ 0.282966  ┆ … ┆ 1.12905  ┆ 0.013752 ┆ 1.05366   ┆ 0.18335   │\n",
       "│ vegetables ┆ ]         ┆           ┆           ┆   ┆          ┆          ┆           ┆           │\n",
       "│ \"]         ┆           ┆           ┆           ┆   ┆          ┆          ┆           ┆           │\n",
       "│ [\"yogurt\"] ┆ [\"rolls/b ┆ 0.282966  ┆ 0.349666  ┆ … ┆ 1.125279 ┆ 0.012396 ┆ 1.072224  ┆ 0.155267  │\n",
       "│            ┆ uns\"]     ┆           ┆           ┆   ┆          ┆          ┆           ┆           │\n",
       "│ [\"rolls/bu ┆ [\"yogurt\" ┆ 0.349666  ┆ 0.282966  ┆ … ┆ 1.125279 ┆ 0.012396 ┆ 1.052011  ┆ 0.171191  │\n",
       "│ ns\"]       ┆ ]         ┆           ┆           ┆   ┆          ┆          ┆           ┆           │\n",
       "│ [\"whole    ┆ [\"sausage ┆ 0.458184  ┆ 0.206003  ┆ … ┆ 1.133394 ┆ 0.012591 ┆ 1.03585   ┆ 0.217222  │\n",
       "│ milk\"]     ┆ \"]        ┆           ┆           ┆   ┆          ┆          ┆           ┆           │\n",
       "│ [\"sausage\" ┆ [\"whole   ┆ 0.206003  ┆ 0.458184  ┆ … ┆ 1.133394 ┆ 0.012591 ┆ 1.127146  ┆ 0.14823   │\n",
       "│ ]          ┆ milk\"]    ┆           ┆           ┆   ┆          ┆          ┆           ┆           │\n",
       "└────────────┴───────────┴───────────┴───────────┴───┴──────────┴──────────┴───────────┴───────────┘"
      ]
     },
     "execution_count": 123,
     "metadata": {},
     "output_type": "execute_result"
    }
   ],
   "source": [
    "association_rules_df = association_rules_pl(frequent_itemsets, metric='lift', min_threshold=1)\n",
    "association_rules_df"
   ]
  },
  {
   "cell_type": "markdown",
   "metadata": {},
   "source": [
    "# Question 2\n",
    "\n",
    "請使用 `Groceries_dataset` 資料集，並利用「使用者導向協同過濾法」，找出會員編號1000與2626這兩位相似的顧客，並進行以下事宜："
   ]
  },
  {
   "cell_type": "markdown",
   "metadata": {},
   "source": [
    "Creating `customer_item_matrix`."
   ]
  },
  {
   "cell_type": "code",
   "execution_count": 124,
   "metadata": {},
   "outputs": [
    {
     "data": {
      "text/html": [
       "<div><style>\n",
       ".dataframe > thead > tr,\n",
       ".dataframe > tbody > tr {\n",
       "  text-align: right;\n",
       "  white-space: pre-wrap;\n",
       "}\n",
       "</style>\n",
       "<small>shape: (3_898, 168)</small><table border=\"1\" class=\"dataframe\"><thead><tr><th>Member_number</th><th>tropical fruit</th><th>whole milk</th><th>pip fruit</th><th>other vegetables</th><th>rolls/buns</th><th>pot plants</th><th>citrus fruit</th><th>beef</th><th>frankfurter</th><th>chicken</th><th>butter</th><th>fruit/vegetable juice</th><th>packaged fruit/vegetables</th><th>chocolate</th><th>specialty bar</th><th>butter milk</th><th>bottled water</th><th>yogurt</th><th>sausage</th><th>brown bread</th><th>hamburger meat</th><th>root vegetables</th><th>pork</th><th>pastry</th><th>canned beer</th><th>berries</th><th>coffee</th><th>misc. beverages</th><th>ham</th><th>turkey</th><th>curd cheese</th><th>red/blush wine</th><th>frozen potato products</th><th>flour</th><th>sugar</th><th>frozen meals</th><th>&hellip;</th><th>roll products </th><th>kitchen towels</th><th>flower soil/fertilizer</th><th>cereals</th><th>meat spreads</th><th>dishes</th><th>male cosmetics</th><th>candles</th><th>whisky</th><th>tidbits</th><th>cooking chocolate</th><th>seasonal products</th><th>liqueur</th><th>abrasive cleaner</th><th>syrup</th><th>ketchup</th><th>cream</th><th>skin care</th><th>rubbing alcohol</th><th>nut snack</th><th>cocoa drinks</th><th>softener</th><th>organic products</th><th>cake bar</th><th>honey</th><th>jam</th><th>kitchen utensil</th><th>flower (seeds)</th><th>rice</th><th>tea</th><th>salad dressing</th><th>specialty vegetables</th><th>pudding powder</th><th>ready soups</th><th>make up remover</th><th>toilet cleaner</th><th>preservation products</th></tr><tr><td>i64</td><td>i64</td><td>i64</td><td>i64</td><td>i64</td><td>i64</td><td>i64</td><td>i64</td><td>i64</td><td>i64</td><td>i64</td><td>i64</td><td>i64</td><td>i64</td><td>i64</td><td>i64</td><td>i64</td><td>i64</td><td>i64</td><td>i64</td><td>i64</td><td>i64</td><td>i64</td><td>i64</td><td>i64</td><td>i64</td><td>i64</td><td>i64</td><td>i64</td><td>i64</td><td>i64</td><td>i64</td><td>i64</td><td>i64</td><td>i64</td><td>i64</td><td>i64</td><td>&hellip;</td><td>i64</td><td>i64</td><td>i64</td><td>i64</td><td>i64</td><td>i64</td><td>i64</td><td>i64</td><td>i64</td><td>i64</td><td>i64</td><td>i64</td><td>i64</td><td>i64</td><td>i64</td><td>i64</td><td>i64</td><td>i64</td><td>i64</td><td>i64</td><td>i64</td><td>i64</td><td>i64</td><td>i64</td><td>i64</td><td>i64</td><td>i64</td><td>i64</td><td>i64</td><td>i64</td><td>i64</td><td>i64</td><td>i64</td><td>i64</td><td>i64</td><td>i64</td><td>i64</td></tr></thead><tbody><tr><td>1808</td><td>1</td><td>1</td><td>0</td><td>0</td><td>1</td><td>0</td><td>1</td><td>0</td><td>0</td><td>0</td><td>0</td><td>0</td><td>0</td><td>0</td><td>0</td><td>0</td><td>0</td><td>0</td><td>0</td><td>0</td><td>0</td><td>0</td><td>0</td><td>0</td><td>0</td><td>0</td><td>0</td><td>0</td><td>0</td><td>0</td><td>0</td><td>0</td><td>0</td><td>0</td><td>1</td><td>0</td><td>&hellip;</td><td>0</td><td>0</td><td>0</td><td>0</td><td>0</td><td>0</td><td>0</td><td>0</td><td>0</td><td>0</td><td>0</td><td>0</td><td>0</td><td>0</td><td>0</td><td>0</td><td>0</td><td>0</td><td>0</td><td>0</td><td>0</td><td>0</td><td>0</td><td>0</td><td>0</td><td>0</td><td>0</td><td>0</td><td>0</td><td>0</td><td>0</td><td>0</td><td>0</td><td>0</td><td>0</td><td>0</td><td>0</td></tr><tr><td>2552</td><td>1</td><td>2</td><td>0</td><td>1</td><td>0</td><td>1</td><td>0</td><td>0</td><td>0</td><td>0</td><td>1</td><td>0</td><td>0</td><td>2</td><td>0</td><td>0</td><td>0</td><td>0</td><td>0</td><td>0</td><td>0</td><td>1</td><td>0</td><td>0</td><td>0</td><td>0</td><td>1</td><td>0</td><td>0</td><td>0</td><td>0</td><td>0</td><td>0</td><td>0</td><td>0</td><td>0</td><td>&hellip;</td><td>0</td><td>0</td><td>0</td><td>0</td><td>0</td><td>0</td><td>0</td><td>0</td><td>0</td><td>0</td><td>0</td><td>0</td><td>0</td><td>0</td><td>0</td><td>0</td><td>0</td><td>0</td><td>0</td><td>0</td><td>0</td><td>0</td><td>0</td><td>0</td><td>0</td><td>0</td><td>0</td><td>0</td><td>0</td><td>0</td><td>0</td><td>0</td><td>0</td><td>0</td><td>0</td><td>0</td><td>0</td></tr><tr><td>2300</td><td>0</td><td>0</td><td>1</td><td>1</td><td>0</td><td>0</td><td>0</td><td>0</td><td>1</td><td>0</td><td>0</td><td>1</td><td>0</td><td>0</td><td>0</td><td>0</td><td>0</td><td>0</td><td>1</td><td>0</td><td>0</td><td>0</td><td>1</td><td>0</td><td>0</td><td>0</td><td>0</td><td>0</td><td>0</td><td>0</td><td>0</td><td>0</td><td>0</td><td>1</td><td>0</td><td>0</td><td>&hellip;</td><td>0</td><td>0</td><td>0</td><td>0</td><td>0</td><td>0</td><td>0</td><td>0</td><td>0</td><td>0</td><td>0</td><td>0</td><td>0</td><td>0</td><td>0</td><td>0</td><td>0</td><td>0</td><td>0</td><td>0</td><td>0</td><td>0</td><td>0</td><td>0</td><td>0</td><td>0</td><td>0</td><td>0</td><td>0</td><td>0</td><td>0</td><td>0</td><td>0</td><td>0</td><td>0</td><td>0</td><td>0</td></tr><tr><td>1187</td><td>0</td><td>0</td><td>0</td><td>1</td><td>0</td><td>0</td><td>1</td><td>0</td><td>0</td><td>0</td><td>0</td><td>0</td><td>0</td><td>0</td><td>0</td><td>0</td><td>0</td><td>0</td><td>0</td><td>0</td><td>0</td><td>0</td><td>0</td><td>0</td><td>0</td><td>0</td><td>0</td><td>0</td><td>0</td><td>0</td><td>0</td><td>0</td><td>0</td><td>0</td><td>0</td><td>0</td><td>&hellip;</td><td>0</td><td>0</td><td>0</td><td>0</td><td>0</td><td>0</td><td>0</td><td>0</td><td>0</td><td>0</td><td>0</td><td>0</td><td>0</td><td>0</td><td>0</td><td>0</td><td>0</td><td>0</td><td>0</td><td>0</td><td>0</td><td>0</td><td>0</td><td>0</td><td>0</td><td>0</td><td>0</td><td>0</td><td>0</td><td>0</td><td>0</td><td>0</td><td>0</td><td>0</td><td>0</td><td>0</td><td>0</td></tr><tr><td>3037</td><td>0</td><td>1</td><td>0</td><td>1</td><td>0</td><td>0</td><td>0</td><td>0</td><td>0</td><td>0</td><td>0</td><td>0</td><td>0</td><td>0</td><td>0</td><td>0</td><td>0</td><td>0</td><td>0</td><td>0</td><td>0</td><td>0</td><td>0</td><td>0</td><td>0</td><td>0</td><td>0</td><td>0</td><td>1</td><td>0</td><td>0</td><td>0</td><td>0</td><td>0</td><td>0</td><td>0</td><td>&hellip;</td><td>0</td><td>0</td><td>0</td><td>0</td><td>0</td><td>0</td><td>0</td><td>0</td><td>0</td><td>0</td><td>0</td><td>0</td><td>0</td><td>0</td><td>0</td><td>0</td><td>0</td><td>0</td><td>0</td><td>0</td><td>0</td><td>0</td><td>0</td><td>0</td><td>0</td><td>0</td><td>0</td><td>0</td><td>0</td><td>0</td><td>0</td><td>0</td><td>0</td><td>0</td><td>0</td><td>0</td><td>0</td></tr><tr><td>&hellip;</td><td>&hellip;</td><td>&hellip;</td><td>&hellip;</td><td>&hellip;</td><td>&hellip;</td><td>&hellip;</td><td>&hellip;</td><td>&hellip;</td><td>&hellip;</td><td>&hellip;</td><td>&hellip;</td><td>&hellip;</td><td>&hellip;</td><td>&hellip;</td><td>&hellip;</td><td>&hellip;</td><td>&hellip;</td><td>&hellip;</td><td>&hellip;</td><td>&hellip;</td><td>&hellip;</td><td>&hellip;</td><td>&hellip;</td><td>&hellip;</td><td>&hellip;</td><td>&hellip;</td><td>&hellip;</td><td>&hellip;</td><td>&hellip;</td><td>&hellip;</td><td>&hellip;</td><td>&hellip;</td><td>&hellip;</td><td>&hellip;</td><td>&hellip;</td><td>&hellip;</td><td>&hellip;</td><td>&hellip;</td><td>&hellip;</td><td>&hellip;</td><td>&hellip;</td><td>&hellip;</td><td>&hellip;</td><td>&hellip;</td><td>&hellip;</td><td>&hellip;</td><td>&hellip;</td><td>&hellip;</td><td>&hellip;</td><td>&hellip;</td><td>&hellip;</td><td>&hellip;</td><td>&hellip;</td><td>&hellip;</td><td>&hellip;</td><td>&hellip;</td><td>&hellip;</td><td>&hellip;</td><td>&hellip;</td><td>&hellip;</td><td>&hellip;</td><td>&hellip;</td><td>&hellip;</td><td>&hellip;</td><td>&hellip;</td><td>&hellip;</td><td>&hellip;</td><td>&hellip;</td><td>&hellip;</td><td>&hellip;</td><td>&hellip;</td><td>&hellip;</td><td>&hellip;</td><td>&hellip;</td></tr><tr><td>4590</td><td>0</td><td>0</td><td>0</td><td>0</td><td>0</td><td>0</td><td>0</td><td>0</td><td>0</td><td>0</td><td>0</td><td>0</td><td>0</td><td>0</td><td>0</td><td>0</td><td>0</td><td>0</td><td>0</td><td>0</td><td>0</td><td>0</td><td>0</td><td>0</td><td>0</td><td>0</td><td>0</td><td>0</td><td>0</td><td>0</td><td>0</td><td>0</td><td>0</td><td>0</td><td>0</td><td>0</td><td>&hellip;</td><td>0</td><td>0</td><td>0</td><td>0</td><td>0</td><td>0</td><td>0</td><td>0</td><td>0</td><td>0</td><td>0</td><td>0</td><td>0</td><td>0</td><td>0</td><td>0</td><td>0</td><td>0</td><td>0</td><td>0</td><td>0</td><td>0</td><td>0</td><td>0</td><td>0</td><td>0</td><td>0</td><td>0</td><td>0</td><td>0</td><td>0</td><td>0</td><td>0</td><td>0</td><td>0</td><td>0</td><td>0</td></tr><tr><td>4703</td><td>0</td><td>0</td><td>0</td><td>0</td><td>0</td><td>0</td><td>0</td><td>0</td><td>0</td><td>0</td><td>0</td><td>0</td><td>0</td><td>0</td><td>0</td><td>0</td><td>0</td><td>1</td><td>0</td><td>0</td><td>0</td><td>0</td><td>0</td><td>0</td><td>0</td><td>0</td><td>0</td><td>0</td><td>0</td><td>0</td><td>0</td><td>0</td><td>0</td><td>0</td><td>0</td><td>0</td><td>&hellip;</td><td>0</td><td>0</td><td>0</td><td>0</td><td>0</td><td>0</td><td>0</td><td>0</td><td>0</td><td>0</td><td>0</td><td>0</td><td>0</td><td>0</td><td>0</td><td>0</td><td>0</td><td>0</td><td>0</td><td>0</td><td>0</td><td>0</td><td>0</td><td>0</td><td>0</td><td>0</td><td>0</td><td>0</td><td>0</td><td>0</td><td>0</td><td>0</td><td>0</td><td>0</td><td>0</td><td>0</td><td>0</td></tr><tr><td>3607</td><td>0</td><td>0</td><td>0</td><td>0</td><td>0</td><td>0</td><td>0</td><td>0</td><td>0</td><td>0</td><td>0</td><td>0</td><td>0</td><td>0</td><td>0</td><td>0</td><td>0</td><td>0</td><td>0</td><td>0</td><td>0</td><td>0</td><td>0</td><td>0</td><td>0</td><td>0</td><td>0</td><td>0</td><td>0</td><td>0</td><td>0</td><td>0</td><td>0</td><td>0</td><td>0</td><td>0</td><td>&hellip;</td><td>0</td><td>0</td><td>0</td><td>0</td><td>0</td><td>0</td><td>0</td><td>0</td><td>0</td><td>0</td><td>0</td><td>0</td><td>0</td><td>0</td><td>0</td><td>0</td><td>0</td><td>0</td><td>0</td><td>0</td><td>0</td><td>0</td><td>0</td><td>0</td><td>0</td><td>0</td><td>0</td><td>0</td><td>0</td><td>0</td><td>0</td><td>0</td><td>0</td><td>0</td><td>0</td><td>0</td><td>0</td></tr><tr><td>4587</td><td>0</td><td>0</td><td>0</td><td>0</td><td>0</td><td>0</td><td>0</td><td>0</td><td>0</td><td>0</td><td>0</td><td>0</td><td>0</td><td>0</td><td>0</td><td>0</td><td>0</td><td>0</td><td>0</td><td>0</td><td>0</td><td>0</td><td>0</td><td>0</td><td>0</td><td>0</td><td>0</td><td>0</td><td>0</td><td>0</td><td>0</td><td>0</td><td>0</td><td>0</td><td>0</td><td>0</td><td>&hellip;</td><td>0</td><td>0</td><td>0</td><td>0</td><td>0</td><td>0</td><td>0</td><td>0</td><td>0</td><td>0</td><td>0</td><td>1</td><td>0</td><td>0</td><td>0</td><td>0</td><td>0</td><td>0</td><td>0</td><td>0</td><td>0</td><td>0</td><td>0</td><td>0</td><td>0</td><td>0</td><td>0</td><td>0</td><td>0</td><td>0</td><td>0</td><td>0</td><td>0</td><td>0</td><td>0</td><td>0</td><td>0</td></tr><tr><td>2417</td><td>0</td><td>0</td><td>0</td><td>0</td><td>0</td><td>0</td><td>0</td><td>0</td><td>0</td><td>0</td><td>0</td><td>0</td><td>0</td><td>0</td><td>0</td><td>0</td><td>0</td><td>0</td><td>0</td><td>0</td><td>0</td><td>0</td><td>0</td><td>0</td><td>0</td><td>0</td><td>0</td><td>0</td><td>0</td><td>0</td><td>0</td><td>0</td><td>0</td><td>0</td><td>0</td><td>0</td><td>&hellip;</td><td>0</td><td>0</td><td>0</td><td>0</td><td>0</td><td>0</td><td>0</td><td>0</td><td>0</td><td>0</td><td>0</td><td>0</td><td>0</td><td>0</td><td>0</td><td>0</td><td>0</td><td>0</td><td>0</td><td>0</td><td>0</td><td>0</td><td>0</td><td>0</td><td>0</td><td>0</td><td>0</td><td>0</td><td>0</td><td>0</td><td>0</td><td>0</td><td>0</td><td>0</td><td>0</td><td>0</td><td>0</td></tr></tbody></table></div>"
      ],
      "text/plain": [
       "shape: (3_898, 168)\n",
       "┌───────────────┬──────────┬───────┬───────────┬───┬───────┬─────────┬─────────┬──────────────┐\n",
       "│ Member_number ┆ tropical ┆ whole ┆ pip fruit ┆ … ┆ ready ┆ make up ┆ toilet  ┆ preservation │\n",
       "│ ---           ┆ fruit    ┆ milk  ┆ ---       ┆   ┆ soups ┆ remover ┆ cleaner ┆ products     │\n",
       "│ i64           ┆ ---      ┆ ---   ┆ i64       ┆   ┆ ---   ┆ ---     ┆ ---     ┆ ---          │\n",
       "│               ┆ i64      ┆ i64   ┆           ┆   ┆ i64   ┆ i64     ┆ i64     ┆ i64          │\n",
       "╞═══════════════╪══════════╪═══════╪═══════════╪═══╪═══════╪═════════╪═════════╪══════════════╡\n",
       "│ 1808          ┆ 1        ┆ 1     ┆ 0         ┆ … ┆ 0     ┆ 0       ┆ 0       ┆ 0            │\n",
       "│ 2552          ┆ 1        ┆ 2     ┆ 0         ┆ … ┆ 0     ┆ 0       ┆ 0       ┆ 0            │\n",
       "│ 2300          ┆ 0        ┆ 0     ┆ 1         ┆ … ┆ 0     ┆ 0       ┆ 0       ┆ 0            │\n",
       "│ 1187          ┆ 0        ┆ 0     ┆ 0         ┆ … ┆ 0     ┆ 0       ┆ 0       ┆ 0            │\n",
       "│ 3037          ┆ 0        ┆ 1     ┆ 0         ┆ … ┆ 0     ┆ 0       ┆ 0       ┆ 0            │\n",
       "│ …             ┆ …        ┆ …     ┆ …         ┆ … ┆ …     ┆ …       ┆ …       ┆ …            │\n",
       "│ 4590          ┆ 0        ┆ 0     ┆ 0         ┆ … ┆ 0     ┆ 0       ┆ 0       ┆ 0            │\n",
       "│ 4703          ┆ 0        ┆ 0     ┆ 0         ┆ … ┆ 0     ┆ 0       ┆ 0       ┆ 0            │\n",
       "│ 3607          ┆ 0        ┆ 0     ┆ 0         ┆ … ┆ 0     ┆ 0       ┆ 0       ┆ 0            │\n",
       "│ 4587          ┆ 0        ┆ 0     ┆ 0         ┆ … ┆ 0     ┆ 0       ┆ 0       ┆ 0            │\n",
       "│ 2417          ┆ 0        ┆ 0     ┆ 0         ┆ … ┆ 0     ┆ 0       ┆ 0       ┆ 0            │\n",
       "└───────────────┴──────────┴───────┴───────────┴───┴───────┴─────────┴─────────┴──────────────┘"
      ]
     },
     "execution_count": 124,
     "metadata": {},
     "output_type": "execute_result"
    }
   ],
   "source": [
    "customer_item_matrix = df.pivot(\n",
    "    values=\"Quality\",\n",
    "    index=\"Member_number\",\n",
    "    on=\"itemDescription\",\n",
    "    aggregate_function=\"sum\"\n",
    ").fill_null(0)\n",
    "\n",
    "customer_item_matrix"
   ]
  },
  {
   "cell_type": "code",
   "execution_count": 125,
   "metadata": {},
   "outputs": [
    {
     "data": {
      "text/html": [
       "<div><style>\n",
       ".dataframe > thead > tr,\n",
       ".dataframe > tbody > tr {\n",
       "  text-align: right;\n",
       "  white-space: pre-wrap;\n",
       "}\n",
       "</style>\n",
       "<small>shape: (3_898, 168)</small><table border=\"1\" class=\"dataframe\"><thead><tr><th>Member_number</th><th>tropical fruit</th><th>whole milk</th><th>pip fruit</th><th>other vegetables</th><th>rolls/buns</th><th>pot plants</th><th>citrus fruit</th><th>beef</th><th>frankfurter</th><th>chicken</th><th>butter</th><th>fruit/vegetable juice</th><th>packaged fruit/vegetables</th><th>chocolate</th><th>specialty bar</th><th>butter milk</th><th>bottled water</th><th>yogurt</th><th>sausage</th><th>brown bread</th><th>hamburger meat</th><th>root vegetables</th><th>pork</th><th>pastry</th><th>canned beer</th><th>berries</th><th>coffee</th><th>misc. beverages</th><th>ham</th><th>turkey</th><th>curd cheese</th><th>red/blush wine</th><th>frozen potato products</th><th>flour</th><th>sugar</th><th>frozen meals</th><th>&hellip;</th><th>roll products </th><th>kitchen towels</th><th>flower soil/fertilizer</th><th>cereals</th><th>meat spreads</th><th>dishes</th><th>male cosmetics</th><th>candles</th><th>whisky</th><th>tidbits</th><th>cooking chocolate</th><th>seasonal products</th><th>liqueur</th><th>abrasive cleaner</th><th>syrup</th><th>ketchup</th><th>cream</th><th>skin care</th><th>rubbing alcohol</th><th>nut snack</th><th>cocoa drinks</th><th>softener</th><th>organic products</th><th>cake bar</th><th>honey</th><th>jam</th><th>kitchen utensil</th><th>flower (seeds)</th><th>rice</th><th>tea</th><th>salad dressing</th><th>specialty vegetables</th><th>pudding powder</th><th>ready soups</th><th>make up remover</th><th>toilet cleaner</th><th>preservation products</th></tr><tr><td>i64</td><td>i32</td><td>i32</td><td>i32</td><td>i32</td><td>i32</td><td>i32</td><td>i32</td><td>i32</td><td>i32</td><td>i32</td><td>i32</td><td>i32</td><td>i32</td><td>i32</td><td>i32</td><td>i32</td><td>i32</td><td>i32</td><td>i32</td><td>i32</td><td>i32</td><td>i32</td><td>i32</td><td>i32</td><td>i32</td><td>i32</td><td>i32</td><td>i32</td><td>i32</td><td>i32</td><td>i32</td><td>i32</td><td>i32</td><td>i32</td><td>i32</td><td>i32</td><td>&hellip;</td><td>i32</td><td>i32</td><td>i32</td><td>i32</td><td>i32</td><td>i32</td><td>i32</td><td>i32</td><td>i32</td><td>i32</td><td>i32</td><td>i32</td><td>i32</td><td>i32</td><td>i32</td><td>i32</td><td>i32</td><td>i32</td><td>i32</td><td>i32</td><td>i32</td><td>i32</td><td>i32</td><td>i32</td><td>i32</td><td>i32</td><td>i32</td><td>i32</td><td>i32</td><td>i32</td><td>i32</td><td>i32</td><td>i32</td><td>i32</td><td>i32</td><td>i32</td><td>i32</td></tr></thead><tbody><tr><td>1808</td><td>1</td><td>1</td><td>0</td><td>0</td><td>1</td><td>0</td><td>1</td><td>0</td><td>0</td><td>0</td><td>0</td><td>0</td><td>0</td><td>0</td><td>0</td><td>0</td><td>0</td><td>0</td><td>0</td><td>0</td><td>0</td><td>0</td><td>0</td><td>0</td><td>0</td><td>0</td><td>0</td><td>0</td><td>0</td><td>0</td><td>0</td><td>0</td><td>0</td><td>0</td><td>1</td><td>0</td><td>&hellip;</td><td>0</td><td>0</td><td>0</td><td>0</td><td>0</td><td>0</td><td>0</td><td>0</td><td>0</td><td>0</td><td>0</td><td>0</td><td>0</td><td>0</td><td>0</td><td>0</td><td>0</td><td>0</td><td>0</td><td>0</td><td>0</td><td>0</td><td>0</td><td>0</td><td>0</td><td>0</td><td>0</td><td>0</td><td>0</td><td>0</td><td>0</td><td>0</td><td>0</td><td>0</td><td>0</td><td>0</td><td>0</td></tr><tr><td>2552</td><td>1</td><td>1</td><td>0</td><td>1</td><td>0</td><td>1</td><td>0</td><td>0</td><td>0</td><td>0</td><td>1</td><td>0</td><td>0</td><td>1</td><td>0</td><td>0</td><td>0</td><td>0</td><td>0</td><td>0</td><td>0</td><td>1</td><td>0</td><td>0</td><td>0</td><td>0</td><td>1</td><td>0</td><td>0</td><td>0</td><td>0</td><td>0</td><td>0</td><td>0</td><td>0</td><td>0</td><td>&hellip;</td><td>0</td><td>0</td><td>0</td><td>0</td><td>0</td><td>0</td><td>0</td><td>0</td><td>0</td><td>0</td><td>0</td><td>0</td><td>0</td><td>0</td><td>0</td><td>0</td><td>0</td><td>0</td><td>0</td><td>0</td><td>0</td><td>0</td><td>0</td><td>0</td><td>0</td><td>0</td><td>0</td><td>0</td><td>0</td><td>0</td><td>0</td><td>0</td><td>0</td><td>0</td><td>0</td><td>0</td><td>0</td></tr><tr><td>2300</td><td>0</td><td>0</td><td>1</td><td>1</td><td>0</td><td>0</td><td>0</td><td>0</td><td>1</td><td>0</td><td>0</td><td>1</td><td>0</td><td>0</td><td>0</td><td>0</td><td>0</td><td>0</td><td>1</td><td>0</td><td>0</td><td>0</td><td>1</td><td>0</td><td>0</td><td>0</td><td>0</td><td>0</td><td>0</td><td>0</td><td>0</td><td>0</td><td>0</td><td>1</td><td>0</td><td>0</td><td>&hellip;</td><td>0</td><td>0</td><td>0</td><td>0</td><td>0</td><td>0</td><td>0</td><td>0</td><td>0</td><td>0</td><td>0</td><td>0</td><td>0</td><td>0</td><td>0</td><td>0</td><td>0</td><td>0</td><td>0</td><td>0</td><td>0</td><td>0</td><td>0</td><td>0</td><td>0</td><td>0</td><td>0</td><td>0</td><td>0</td><td>0</td><td>0</td><td>0</td><td>0</td><td>0</td><td>0</td><td>0</td><td>0</td></tr><tr><td>1187</td><td>0</td><td>0</td><td>0</td><td>1</td><td>0</td><td>0</td><td>1</td><td>0</td><td>0</td><td>0</td><td>0</td><td>0</td><td>0</td><td>0</td><td>0</td><td>0</td><td>0</td><td>0</td><td>0</td><td>0</td><td>0</td><td>0</td><td>0</td><td>0</td><td>0</td><td>0</td><td>0</td><td>0</td><td>0</td><td>0</td><td>0</td><td>0</td><td>0</td><td>0</td><td>0</td><td>0</td><td>&hellip;</td><td>0</td><td>0</td><td>0</td><td>0</td><td>0</td><td>0</td><td>0</td><td>0</td><td>0</td><td>0</td><td>0</td><td>0</td><td>0</td><td>0</td><td>0</td><td>0</td><td>0</td><td>0</td><td>0</td><td>0</td><td>0</td><td>0</td><td>0</td><td>0</td><td>0</td><td>0</td><td>0</td><td>0</td><td>0</td><td>0</td><td>0</td><td>0</td><td>0</td><td>0</td><td>0</td><td>0</td><td>0</td></tr><tr><td>3037</td><td>0</td><td>1</td><td>0</td><td>1</td><td>0</td><td>0</td><td>0</td><td>0</td><td>0</td><td>0</td><td>0</td><td>0</td><td>0</td><td>0</td><td>0</td><td>0</td><td>0</td><td>0</td><td>0</td><td>0</td><td>0</td><td>0</td><td>0</td><td>0</td><td>0</td><td>0</td><td>0</td><td>0</td><td>1</td><td>0</td><td>0</td><td>0</td><td>0</td><td>0</td><td>0</td><td>0</td><td>&hellip;</td><td>0</td><td>0</td><td>0</td><td>0</td><td>0</td><td>0</td><td>0</td><td>0</td><td>0</td><td>0</td><td>0</td><td>0</td><td>0</td><td>0</td><td>0</td><td>0</td><td>0</td><td>0</td><td>0</td><td>0</td><td>0</td><td>0</td><td>0</td><td>0</td><td>0</td><td>0</td><td>0</td><td>0</td><td>0</td><td>0</td><td>0</td><td>0</td><td>0</td><td>0</td><td>0</td><td>0</td><td>0</td></tr><tr><td>&hellip;</td><td>&hellip;</td><td>&hellip;</td><td>&hellip;</td><td>&hellip;</td><td>&hellip;</td><td>&hellip;</td><td>&hellip;</td><td>&hellip;</td><td>&hellip;</td><td>&hellip;</td><td>&hellip;</td><td>&hellip;</td><td>&hellip;</td><td>&hellip;</td><td>&hellip;</td><td>&hellip;</td><td>&hellip;</td><td>&hellip;</td><td>&hellip;</td><td>&hellip;</td><td>&hellip;</td><td>&hellip;</td><td>&hellip;</td><td>&hellip;</td><td>&hellip;</td><td>&hellip;</td><td>&hellip;</td><td>&hellip;</td><td>&hellip;</td><td>&hellip;</td><td>&hellip;</td><td>&hellip;</td><td>&hellip;</td><td>&hellip;</td><td>&hellip;</td><td>&hellip;</td><td>&hellip;</td><td>&hellip;</td><td>&hellip;</td><td>&hellip;</td><td>&hellip;</td><td>&hellip;</td><td>&hellip;</td><td>&hellip;</td><td>&hellip;</td><td>&hellip;</td><td>&hellip;</td><td>&hellip;</td><td>&hellip;</td><td>&hellip;</td><td>&hellip;</td><td>&hellip;</td><td>&hellip;</td><td>&hellip;</td><td>&hellip;</td><td>&hellip;</td><td>&hellip;</td><td>&hellip;</td><td>&hellip;</td><td>&hellip;</td><td>&hellip;</td><td>&hellip;</td><td>&hellip;</td><td>&hellip;</td><td>&hellip;</td><td>&hellip;</td><td>&hellip;</td><td>&hellip;</td><td>&hellip;</td><td>&hellip;</td><td>&hellip;</td><td>&hellip;</td><td>&hellip;</td><td>&hellip;</td></tr><tr><td>4590</td><td>0</td><td>0</td><td>0</td><td>0</td><td>0</td><td>0</td><td>0</td><td>0</td><td>0</td><td>0</td><td>0</td><td>0</td><td>0</td><td>0</td><td>0</td><td>0</td><td>0</td><td>0</td><td>0</td><td>0</td><td>0</td><td>0</td><td>0</td><td>0</td><td>0</td><td>0</td><td>0</td><td>0</td><td>0</td><td>0</td><td>0</td><td>0</td><td>0</td><td>0</td><td>0</td><td>0</td><td>&hellip;</td><td>0</td><td>0</td><td>0</td><td>0</td><td>0</td><td>0</td><td>0</td><td>0</td><td>0</td><td>0</td><td>0</td><td>0</td><td>0</td><td>0</td><td>0</td><td>0</td><td>0</td><td>0</td><td>0</td><td>0</td><td>0</td><td>0</td><td>0</td><td>0</td><td>0</td><td>0</td><td>0</td><td>0</td><td>0</td><td>0</td><td>0</td><td>0</td><td>0</td><td>0</td><td>0</td><td>0</td><td>0</td></tr><tr><td>4703</td><td>0</td><td>0</td><td>0</td><td>0</td><td>0</td><td>0</td><td>0</td><td>0</td><td>0</td><td>0</td><td>0</td><td>0</td><td>0</td><td>0</td><td>0</td><td>0</td><td>0</td><td>1</td><td>0</td><td>0</td><td>0</td><td>0</td><td>0</td><td>0</td><td>0</td><td>0</td><td>0</td><td>0</td><td>0</td><td>0</td><td>0</td><td>0</td><td>0</td><td>0</td><td>0</td><td>0</td><td>&hellip;</td><td>0</td><td>0</td><td>0</td><td>0</td><td>0</td><td>0</td><td>0</td><td>0</td><td>0</td><td>0</td><td>0</td><td>0</td><td>0</td><td>0</td><td>0</td><td>0</td><td>0</td><td>0</td><td>0</td><td>0</td><td>0</td><td>0</td><td>0</td><td>0</td><td>0</td><td>0</td><td>0</td><td>0</td><td>0</td><td>0</td><td>0</td><td>0</td><td>0</td><td>0</td><td>0</td><td>0</td><td>0</td></tr><tr><td>3607</td><td>0</td><td>0</td><td>0</td><td>0</td><td>0</td><td>0</td><td>0</td><td>0</td><td>0</td><td>0</td><td>0</td><td>0</td><td>0</td><td>0</td><td>0</td><td>0</td><td>0</td><td>0</td><td>0</td><td>0</td><td>0</td><td>0</td><td>0</td><td>0</td><td>0</td><td>0</td><td>0</td><td>0</td><td>0</td><td>0</td><td>0</td><td>0</td><td>0</td><td>0</td><td>0</td><td>0</td><td>&hellip;</td><td>0</td><td>0</td><td>0</td><td>0</td><td>0</td><td>0</td><td>0</td><td>0</td><td>0</td><td>0</td><td>0</td><td>0</td><td>0</td><td>0</td><td>0</td><td>0</td><td>0</td><td>0</td><td>0</td><td>0</td><td>0</td><td>0</td><td>0</td><td>0</td><td>0</td><td>0</td><td>0</td><td>0</td><td>0</td><td>0</td><td>0</td><td>0</td><td>0</td><td>0</td><td>0</td><td>0</td><td>0</td></tr><tr><td>4587</td><td>0</td><td>0</td><td>0</td><td>0</td><td>0</td><td>0</td><td>0</td><td>0</td><td>0</td><td>0</td><td>0</td><td>0</td><td>0</td><td>0</td><td>0</td><td>0</td><td>0</td><td>0</td><td>0</td><td>0</td><td>0</td><td>0</td><td>0</td><td>0</td><td>0</td><td>0</td><td>0</td><td>0</td><td>0</td><td>0</td><td>0</td><td>0</td><td>0</td><td>0</td><td>0</td><td>0</td><td>&hellip;</td><td>0</td><td>0</td><td>0</td><td>0</td><td>0</td><td>0</td><td>0</td><td>0</td><td>0</td><td>0</td><td>0</td><td>1</td><td>0</td><td>0</td><td>0</td><td>0</td><td>0</td><td>0</td><td>0</td><td>0</td><td>0</td><td>0</td><td>0</td><td>0</td><td>0</td><td>0</td><td>0</td><td>0</td><td>0</td><td>0</td><td>0</td><td>0</td><td>0</td><td>0</td><td>0</td><td>0</td><td>0</td></tr><tr><td>2417</td><td>0</td><td>0</td><td>0</td><td>0</td><td>0</td><td>0</td><td>0</td><td>0</td><td>0</td><td>0</td><td>0</td><td>0</td><td>0</td><td>0</td><td>0</td><td>0</td><td>0</td><td>0</td><td>0</td><td>0</td><td>0</td><td>0</td><td>0</td><td>0</td><td>0</td><td>0</td><td>0</td><td>0</td><td>0</td><td>0</td><td>0</td><td>0</td><td>0</td><td>0</td><td>0</td><td>0</td><td>&hellip;</td><td>0</td><td>0</td><td>0</td><td>0</td><td>0</td><td>0</td><td>0</td><td>0</td><td>0</td><td>0</td><td>0</td><td>0</td><td>0</td><td>0</td><td>0</td><td>0</td><td>0</td><td>0</td><td>0</td><td>0</td><td>0</td><td>0</td><td>0</td><td>0</td><td>0</td><td>0</td><td>0</td><td>0</td><td>0</td><td>0</td><td>0</td><td>0</td><td>0</td><td>0</td><td>0</td><td>0</td><td>0</td></tr></tbody></table></div>"
      ],
      "text/plain": [
       "shape: (3_898, 168)\n",
       "┌───────────────┬──────────┬───────┬───────────┬───┬───────┬─────────┬─────────┬──────────────┐\n",
       "│ Member_number ┆ tropical ┆ whole ┆ pip fruit ┆ … ┆ ready ┆ make up ┆ toilet  ┆ preservation │\n",
       "│ ---           ┆ fruit    ┆ milk  ┆ ---       ┆   ┆ soups ┆ remover ┆ cleaner ┆ products     │\n",
       "│ i64           ┆ ---      ┆ ---   ┆ i32       ┆   ┆ ---   ┆ ---     ┆ ---     ┆ ---          │\n",
       "│               ┆ i32      ┆ i32   ┆           ┆   ┆ i32   ┆ i32     ┆ i32     ┆ i32          │\n",
       "╞═══════════════╪══════════╪═══════╪═══════════╪═══╪═══════╪═════════╪═════════╪══════════════╡\n",
       "│ 1808          ┆ 1        ┆ 1     ┆ 0         ┆ … ┆ 0     ┆ 0       ┆ 0       ┆ 0            │\n",
       "│ 2552          ┆ 1        ┆ 1     ┆ 0         ┆ … ┆ 0     ┆ 0       ┆ 0       ┆ 0            │\n",
       "│ 2300          ┆ 0        ┆ 0     ┆ 1         ┆ … ┆ 0     ┆ 0       ┆ 0       ┆ 0            │\n",
       "│ 1187          ┆ 0        ┆ 0     ┆ 0         ┆ … ┆ 0     ┆ 0       ┆ 0       ┆ 0            │\n",
       "│ 3037          ┆ 0        ┆ 1     ┆ 0         ┆ … ┆ 0     ┆ 0       ┆ 0       ┆ 0            │\n",
       "│ …             ┆ …        ┆ …     ┆ …         ┆ … ┆ …     ┆ …       ┆ …       ┆ …            │\n",
       "│ 4590          ┆ 0        ┆ 0     ┆ 0         ┆ … ┆ 0     ┆ 0       ┆ 0       ┆ 0            │\n",
       "│ 4703          ┆ 0        ┆ 0     ┆ 0         ┆ … ┆ 0     ┆ 0       ┆ 0       ┆ 0            │\n",
       "│ 3607          ┆ 0        ┆ 0     ┆ 0         ┆ … ┆ 0     ┆ 0       ┆ 0       ┆ 0            │\n",
       "│ 4587          ┆ 0        ┆ 0     ┆ 0         ┆ … ┆ 0     ┆ 0       ┆ 0       ┆ 0            │\n",
       "│ 2417          ┆ 0        ┆ 0     ┆ 0         ┆ … ┆ 0     ┆ 0       ┆ 0       ┆ 0            │\n",
       "└───────────────┴──────────┴───────┴───────────┴───┴───────┴─────────┴─────────┴──────────────┘"
      ]
     },
     "execution_count": 125,
     "metadata": {},
     "output_type": "execute_result"
    }
   ],
   "source": [
    "# if number > 0, then 1; else 0\n",
    "customer_item_matrix_idx = customer_item_matrix.select(\"Member_number\")\n",
    "customer_item_matrix = customer_item_matrix.with_columns(\n",
    "    (pl.when(pl.col(col) > 0).then(1).otherwise(0).alias(col))\n",
    "    for col in customer_item_matrix.columns\n",
    ")\n",
    "\n",
    "customer_item_matrix = customer_item_matrix.with_columns(customer_item_matrix_idx)\n",
    "customer_item_matrix"
   ]
  },
  {
   "cell_type": "markdown",
   "metadata": {},
   "source": [
    "Creating User-to-User Similarity Matrix."
   ]
  },
  {
   "cell_type": "code",
   "execution_count": 126,
   "metadata": {},
   "outputs": [
    {
     "data": {
      "text/html": [
       "<div><style>\n",
       ".dataframe > thead > tr,\n",
       ".dataframe > tbody > tr {\n",
       "  text-align: right;\n",
       "  white-space: pre-wrap;\n",
       "}\n",
       "</style>\n",
       "<small>shape: (3_898, 3_899)</small><table border=\"1\" class=\"dataframe\"><thead><tr><th>1808</th><th>2552</th><th>2300</th><th>1187</th><th>3037</th><th>4941</th><th>4501</th><th>3803</th><th>2762</th><th>4119</th><th>1340</th><th>2193</th><th>1997</th><th>4546</th><th>4736</th><th>1959</th><th>1974</th><th>2421</th><th>1513</th><th>1905</th><th>2810</th><th>2867</th><th>3962</th><th>1088</th><th>4976</th><th>4056</th><th>3611</th><th>1420</th><th>4286</th><th>4918</th><th>4783</th><th>3709</th><th>4289</th><th>1559</th><th>2900</th><th>3527</th><th>1495</th><th>&hellip;</th><th>2679</th><th>3624</th><th>1310</th><th>4083</th><th>1469</th><th>3933</th><th>2881</th><th>1084</th><th>1267</th><th>3970</th><th>3825</th><th>3000</th><th>2615</th><th>1284</th><th>1255</th><th>3991</th><th>2137</th><th>1552</th><th>2121</th><th>3777</th><th>4732</th><th>1219</th><th>4278</th><th>2296</th><th>2197</th><th>4824</th><th>4639</th><th>2456</th><th>1221</th><th>3431</th><th>3080</th><th>4590</th><th>4703</th><th>3607</th><th>4587</th><th>2417</th><th>Member_number</th></tr><tr><td>f64</td><td>f64</td><td>f64</td><td>f64</td><td>f64</td><td>f64</td><td>f64</td><td>f64</td><td>f64</td><td>f64</td><td>f64</td><td>f64</td><td>f64</td><td>f64</td><td>f64</td><td>f64</td><td>f64</td><td>f64</td><td>f64</td><td>f64</td><td>f64</td><td>f64</td><td>f64</td><td>f64</td><td>f64</td><td>f64</td><td>f64</td><td>f64</td><td>f64</td><td>f64</td><td>f64</td><td>f64</td><td>f64</td><td>f64</td><td>f64</td><td>f64</td><td>f64</td><td>&hellip;</td><td>f64</td><td>f64</td><td>f64</td><td>f64</td><td>f64</td><td>f64</td><td>f64</td><td>f64</td><td>f64</td><td>f64</td><td>f64</td><td>f64</td><td>f64</td><td>f64</td><td>f64</td><td>f64</td><td>f64</td><td>f64</td><td>f64</td><td>f64</td><td>f64</td><td>f64</td><td>f64</td><td>f64</td><td>f64</td><td>f64</td><td>f64</td><td>f64</td><td>f64</td><td>f64</td><td>f64</td><td>f64</td><td>f64</td><td>f64</td><td>f64</td><td>f64</td><td>i64</td></tr></thead><tbody><tr><td>1.0</td><td>0.190693</td><td>0.1</td><td>0.129099</td><td>0.141421</td><td>0.26968</td><td>0.091287</td><td>0.223607</td><td>0.111803</td><td>0.33541</td><td>0.3</td><td>0.20702</td><td>0.074536</td><td>0.095346</td><td>0.0</td><td>0.383482</td><td>0.0</td><td>0.372678</td><td>0.105409</td><td>0.282843</td><td>0.253546</td><td>0.182574</td><td>0.182574</td><td>0.316228</td><td>0.119523</td><td>0.175412</td><td>0.0</td><td>0.095346</td><td>0.365148</td><td>0.141421</td><td>0.149071</td><td>0.158114</td><td>0.0</td><td>0.358569</td><td>0.2</td><td>0.2</td><td>0.105409</td><td>&hellip;</td><td>0.129099</td><td>0.0</td><td>0.0</td><td>0.0</td><td>0.0</td><td>0.0</td><td>0.0</td><td>0.0</td><td>0.223607</td><td>0.0</td><td>0.0</td><td>0.0</td><td>0.158114</td><td>0.158114</td><td>0.0</td><td>0.0</td><td>0.158114</td><td>0.223607</td><td>0.0</td><td>0.223607</td><td>0.223607</td><td>0.0</td><td>0.0</td><td>0.0</td><td>0.223607</td><td>0.0</td><td>0.0</td><td>0.0</td><td>0.223607</td><td>0.0</td><td>0.0</td><td>0.223607</td><td>0.0</td><td>0.0</td><td>0.0</td><td>0.0</td><td>1808</td></tr><tr><td>0.190693</td><td>1.0</td><td>0.190693</td><td>0.246183</td><td>0.26968</td><td>0.128565</td><td>0.261116</td><td>0.355335</td><td>0.1066</td><td>0.213201</td><td>0.286039</td><td>0.197386</td><td>0.071067</td><td>0.181818</td><td>0.190693</td><td>0.365636</td><td>0.0</td><td>0.284268</td><td>0.201008</td><td>0.3371</td><td>0.161165</td><td>0.348155</td><td>0.261116</td><td>0.301511</td><td>0.113961</td><td>0.167248</td><td>0.0</td><td>0.181818</td><td>0.261116</td><td>0.0</td><td>0.284268</td><td>0.150756</td><td>0.1066</td><td>0.113961</td><td>0.190693</td><td>0.095346</td><td>0.301511</td><td>&hellip;</td><td>0.0</td><td>0.213201</td><td>0.0</td><td>0.213201</td><td>0.213201</td><td>0.150756</td><td>0.0</td><td>0.213201</td><td>0.426401</td><td>0.0</td><td>0.213201</td><td>0.0</td><td>0.150756</td><td>0.0</td><td>0.0</td><td>0.0</td><td>0.0</td><td>0.0</td><td>0.150756</td><td>0.213201</td><td>0.0</td><td>0.0</td><td>0.0</td><td>0.213201</td><td>0.0</td><td>0.0</td><td>0.213201</td><td>0.0</td><td>0.0</td><td>0.0</td><td>0.0</td><td>0.0</td><td>0.0</td><td>0.0</td><td>0.0</td><td>0.0</td><td>2552</td></tr><tr><td>0.1</td><td>0.190693</td><td>1.0</td><td>0.129099</td><td>0.141421</td><td>0.13484</td><td>0.182574</td><td>0.298142</td><td>0.0</td><td>0.0</td><td>0.1</td><td>0.069007</td><td>0.149071</td><td>0.190693</td><td>0.1</td><td>0.230089</td><td>0.0</td><td>0.298142</td><td>0.210819</td><td>0.212132</td><td>0.338062</td><td>0.091287</td><td>0.182574</td><td>0.105409</td><td>0.119523</td><td>0.0</td><td>0.119523</td><td>0.190693</td><td>0.182574</td><td>0.141421</td><td>0.149071</td><td>0.395285</td><td>0.223607</td><td>0.239046</td><td>0.1</td><td>0.2</td><td>0.316228</td><td>&hellip;</td><td>0.0</td><td>0.0</td><td>0.0</td><td>0.0</td><td>0.0</td><td>0.0</td><td>0.0</td><td>0.447214</td><td>0.0</td><td>0.0</td><td>0.0</td><td>0.223607</td><td>0.0</td><td>0.0</td><td>0.0</td><td>0.0</td><td>0.0</td><td>0.0</td><td>0.0</td><td>0.0</td><td>0.0</td><td>0.0</td><td>0.158114</td><td>0.223607</td><td>0.223607</td><td>0.0</td><td>0.223607</td><td>0.223607</td><td>0.0</td><td>0.0</td><td>0.0</td><td>0.0</td><td>0.0</td><td>0.0</td><td>0.0</td><td>0.0</td><td>2300</td></tr><tr><td>0.129099</td><td>0.246183</td><td>0.129099</td><td>1.0</td><td>0.182574</td><td>0.261116</td><td>0.353553</td><td>0.19245</td><td>0.0</td><td>0.433013</td><td>0.129099</td><td>0.267261</td><td>0.288675</td><td>0.123091</td><td>0.387298</td><td>0.19803</td><td>0.0</td><td>0.288675</td><td>0.136083</td><td>0.456435</td><td>0.218218</td><td>0.353553</td><td>0.0</td><td>0.272166</td><td>0.0</td><td>0.226455</td><td>0.154303</td><td>0.246183</td><td>0.235702</td><td>0.0</td><td>0.096225</td><td>0.204124</td><td>0.288675</td><td>0.308607</td><td>0.129099</td><td>0.129099</td><td>0.136083</td><td>&hellip;</td><td>0.166667</td><td>0.0</td><td>0.0</td><td>0.0</td><td>0.0</td><td>0.204124</td><td>0.204124</td><td>0.288675</td><td>0.0</td><td>0.0</td><td>0.288675</td><td>0.0</td><td>0.0</td><td>0.0</td><td>0.288675</td><td>0.0</td><td>0.0</td><td>0.0</td><td>0.204124</td><td>0.0</td><td>0.288675</td><td>0.0</td><td>0.204124</td><td>0.57735</td><td>0.288675</td><td>0.0</td><td>0.0</td><td>0.0</td><td>0.0</td><td>0.0</td><td>0.288675</td><td>0.288675</td><td>0.288675</td><td>0.0</td><td>0.0</td><td>0.0</td><td>1187</td></tr><tr><td>0.141421</td><td>0.26968</td><td>0.141421</td><td>0.182574</td><td>1.0</td><td>0.286039</td><td>0.129099</td><td>0.105409</td><td>0.158114</td><td>0.158114</td><td>0.141421</td><td>0.19518</td><td>0.210819</td><td>0.13484</td><td>0.141421</td><td>0.21693</td><td>0.0</td><td>0.210819</td><td>0.149071</td><td>0.3</td><td>0.0</td><td>0.258199</td><td>0.129099</td><td>0.298142</td><td>0.0</td><td>0.0</td><td>0.0</td><td>0.13484</td><td>0.258199</td><td>0.0</td><td>0.316228</td><td>0.111803</td><td>0.158114</td><td>0.169031</td><td>0.141421</td><td>0.0</td><td>0.149071</td><td>&hellip;</td><td>0.0</td><td>0.0</td><td>0.0</td><td>0.0</td><td>0.0</td><td>0.0</td><td>0.0</td><td>0.316228</td><td>0.316228</td><td>0.0</td><td>0.0</td><td>0.0</td><td>0.0</td><td>0.0</td><td>0.0</td><td>0.0</td><td>0.0</td><td>0.0</td><td>0.0</td><td>0.316228</td><td>0.0</td><td>0.0</td><td>0.0</td><td>0.316228</td><td>0.0</td><td>0.0</td><td>0.0</td><td>0.0</td><td>0.0</td><td>0.0</td><td>0.0</td><td>0.0</td><td>0.0</td><td>0.0</td><td>0.0</td><td>0.0</td><td>3037</td></tr><tr><td>&hellip;</td><td>&hellip;</td><td>&hellip;</td><td>&hellip;</td><td>&hellip;</td><td>&hellip;</td><td>&hellip;</td><td>&hellip;</td><td>&hellip;</td><td>&hellip;</td><td>&hellip;</td><td>&hellip;</td><td>&hellip;</td><td>&hellip;</td><td>&hellip;</td><td>&hellip;</td><td>&hellip;</td><td>&hellip;</td><td>&hellip;</td><td>&hellip;</td><td>&hellip;</td><td>&hellip;</td><td>&hellip;</td><td>&hellip;</td><td>&hellip;</td><td>&hellip;</td><td>&hellip;</td><td>&hellip;</td><td>&hellip;</td><td>&hellip;</td><td>&hellip;</td><td>&hellip;</td><td>&hellip;</td><td>&hellip;</td><td>&hellip;</td><td>&hellip;</td><td>&hellip;</td><td>&hellip;</td><td>&hellip;</td><td>&hellip;</td><td>&hellip;</td><td>&hellip;</td><td>&hellip;</td><td>&hellip;</td><td>&hellip;</td><td>&hellip;</td><td>&hellip;</td><td>&hellip;</td><td>&hellip;</td><td>&hellip;</td><td>&hellip;</td><td>&hellip;</td><td>&hellip;</td><td>&hellip;</td><td>&hellip;</td><td>&hellip;</td><td>&hellip;</td><td>&hellip;</td><td>&hellip;</td><td>&hellip;</td><td>&hellip;</td><td>&hellip;</td><td>&hellip;</td><td>&hellip;</td><td>&hellip;</td><td>&hellip;</td><td>&hellip;</td><td>&hellip;</td><td>&hellip;</td><td>&hellip;</td><td>&hellip;</td><td>&hellip;</td><td>&hellip;</td><td>&hellip;</td><td>&hellip;</td></tr><tr><td>0.223607</td><td>0.0</td><td>0.0</td><td>0.288675</td><td>0.0</td><td>0.150756</td><td>0.204124</td><td>0.0</td><td>0.0</td><td>0.25</td><td>0.0</td><td>0.308607</td><td>0.166667</td><td>0.0</td><td>0.223607</td><td>0.0</td><td>0.0</td><td>0.166667</td><td>0.0</td><td>0.316228</td><td>0.188982</td><td>0.0</td><td>0.0</td><td>0.0</td><td>0.0</td><td>0.196116</td><td>0.0</td><td>0.0</td><td>0.0</td><td>0.0</td><td>0.0</td><td>0.0</td><td>0.0</td><td>0.0</td><td>0.0</td><td>0.223607</td><td>0.0</td><td>&hellip;</td><td>0.288675</td><td>0.0</td><td>0.0</td><td>0.0</td><td>0.0</td><td>0.0</td><td>0.0</td><td>0.0</td><td>0.0</td><td>0.0</td><td>0.0</td><td>0.0</td><td>0.0</td><td>0.0</td><td>0.5</td><td>0.0</td><td>0.0</td><td>0.0</td><td>0.353553</td><td>0.0</td><td>0.5</td><td>0.0</td><td>0.353553</td><td>0.0</td><td>0.0</td><td>0.0</td><td>0.0</td><td>0.0</td><td>0.0</td><td>0.0</td><td>0.0</td><td>1.0</td><td>0.5</td><td>0.0</td><td>0.0</td><td>0.0</td><td>4590</td></tr><tr><td>0.0</td><td>0.0</td><td>0.0</td><td>0.288675</td><td>0.0</td><td>0.301511</td><td>0.204124</td><td>0.0</td><td>0.0</td><td>0.25</td><td>0.0</td><td>0.308607</td><td>0.166667</td><td>0.0</td><td>0.447214</td><td>0.171499</td><td>0.0</td><td>0.166667</td><td>0.235702</td><td>0.316228</td><td>0.188982</td><td>0.0</td><td>0.204124</td><td>0.235702</td><td>0.0</td><td>0.392232</td><td>0.0</td><td>0.0</td><td>0.204124</td><td>0.316228</td><td>0.166667</td><td>0.176777</td><td>0.0</td><td>0.0</td><td>0.0</td><td>0.0</td><td>0.0</td><td>&hellip;</td><td>0.57735</td><td>0.0</td><td>0.0</td><td>0.0</td><td>0.0</td><td>0.0</td><td>0.0</td><td>0.0</td><td>0.0</td><td>0.0</td><td>0.0</td><td>0.0</td><td>0.0</td><td>0.0</td><td>0.5</td><td>0.0</td><td>0.0</td><td>0.0</td><td>0.353553</td><td>0.0</td><td>0.5</td><td>0.0</td><td>0.353553</td><td>0.0</td><td>0.0</td><td>0.0</td><td>0.0</td><td>0.0</td><td>0.0</td><td>0.0</td><td>0.5</td><td>0.5</td><td>1.0</td><td>0.0</td><td>0.0</td><td>0.0</td><td>4703</td></tr><tr><td>0.0</td><td>0.0</td><td>0.0</td><td>0.0</td><td>0.0</td><td>0.0</td><td>0.0</td><td>0.0</td><td>0.0</td><td>0.0</td><td>0.0</td><td>0.154303</td><td>0.0</td><td>0.213201</td><td>0.0</td><td>0.0</td><td>0.0</td><td>0.166667</td><td>0.0</td><td>0.0</td><td>0.0</td><td>0.0</td><td>0.204124</td><td>0.0</td><td>0.0</td><td>0.0</td><td>0.0</td><td>0.0</td><td>0.0</td><td>0.0</td><td>0.0</td><td>0.0</td><td>0.0</td><td>0.0</td><td>0.0</td><td>0.0</td><td>0.0</td><td>&hellip;</td><td>0.0</td><td>0.0</td><td>0.0</td><td>0.0</td><td>0.0</td><td>0.0</td><td>0.353553</td><td>0.0</td><td>0.0</td><td>0.0</td><td>0.0</td><td>0.0</td><td>0.0</td><td>0.353553</td><td>0.0</td><td>0.5</td><td>0.0</td><td>0.0</td><td>0.0</td><td>0.0</td><td>0.0</td><td>0.0</td><td>0.0</td><td>0.0</td><td>0.0</td><td>0.0</td><td>0.0</td><td>0.0</td><td>0.0</td><td>0.0</td><td>0.0</td><td>0.0</td><td>0.0</td><td>1.0</td><td>0.0</td><td>0.0</td><td>3607</td></tr><tr><td>0.0</td><td>0.0</td><td>0.0</td><td>0.0</td><td>0.0</td><td>0.0</td><td>0.0</td><td>0.0</td><td>0.0</td><td>0.0</td><td>0.0</td><td>0.0</td><td>0.0</td><td>0.0</td><td>0.223607</td><td>0.0</td><td>0.0</td><td>0.0</td><td>0.0</td><td>0.158114</td><td>0.0</td><td>0.0</td><td>0.0</td><td>0.0</td><td>0.0</td><td>0.0</td><td>0.0</td><td>0.0</td><td>0.0</td><td>0.0</td><td>0.0</td><td>0.0</td><td>0.0</td><td>0.0</td><td>0.0</td><td>0.0</td><td>0.0</td><td>&hellip;</td><td>0.0</td><td>0.0</td><td>0.0</td><td>0.0</td><td>0.0</td><td>0.0</td><td>0.0</td><td>0.0</td><td>0.0</td><td>0.0</td><td>0.0</td><td>0.0</td><td>0.0</td><td>0.0</td><td>0.0</td><td>0.0</td><td>0.0</td><td>0.0</td><td>0.0</td><td>0.0</td><td>0.0</td><td>0.0</td><td>0.0</td><td>0.0</td><td>0.0</td><td>0.0</td><td>0.0</td><td>0.0</td><td>0.0</td><td>0.0</td><td>0.0</td><td>0.0</td><td>0.0</td><td>0.0</td><td>1.0</td><td>0.0</td><td>4587</td></tr><tr><td>0.0</td><td>0.0</td><td>0.0</td><td>0.0</td><td>0.0</td><td>0.150756</td><td>0.0</td><td>0.166667</td><td>0.25</td><td>0.0</td><td>0.0</td><td>0.0</td><td>0.166667</td><td>0.0</td><td>0.0</td><td>0.0</td><td>0.0</td><td>0.0</td><td>0.0</td><td>0.0</td><td>0.0</td><td>0.0</td><td>0.0</td><td>0.0</td><td>0.0</td><td>0.0</td><td>0.0</td><td>0.213201</td><td>0.204124</td><td>0.0</td><td>0.0</td><td>0.0</td><td>0.0</td><td>0.0</td><td>0.0</td><td>0.0</td><td>0.0</td><td>&hellip;</td><td>0.0</td><td>0.0</td><td>0.408248</td><td>0.5</td><td>0.0</td><td>0.0</td><td>0.0</td><td>0.0</td><td>0.0</td><td>0.0</td><td>0.0</td><td>0.0</td><td>0.0</td><td>0.0</td><td>0.0</td><td>0.0</td><td>0.0</td><td>0.0</td><td>0.0</td><td>0.0</td><td>0.0</td><td>0.0</td><td>0.353553</td><td>0.0</td><td>0.0</td><td>0.5</td><td>0.0</td><td>0.0</td><td>0.0</td><td>0.0</td><td>0.0</td><td>0.0</td><td>0.0</td><td>0.0</td><td>0.0</td><td>1.0</td><td>2417</td></tr></tbody></table></div>"
      ],
      "text/plain": [
       "shape: (3_898, 3_899)\n",
       "┌──────────┬──────────┬──────────┬──────────┬───┬──────┬──────┬──────┬───────────────┐\n",
       "│ 1808     ┆ 2552     ┆ 2300     ┆ 1187     ┆ … ┆ 3607 ┆ 4587 ┆ 2417 ┆ Member_number │\n",
       "│ ---      ┆ ---      ┆ ---      ┆ ---      ┆   ┆ ---  ┆ ---  ┆ ---  ┆ ---           │\n",
       "│ f64      ┆ f64      ┆ f64      ┆ f64      ┆   ┆ f64  ┆ f64  ┆ f64  ┆ i64           │\n",
       "╞══════════╪══════════╪══════════╪══════════╪═══╪══════╪══════╪══════╪═══════════════╡\n",
       "│ 1.0      ┆ 0.190693 ┆ 0.1      ┆ 0.129099 ┆ … ┆ 0.0  ┆ 0.0  ┆ 0.0  ┆ 1808          │\n",
       "│ 0.190693 ┆ 1.0      ┆ 0.190693 ┆ 0.246183 ┆ … ┆ 0.0  ┆ 0.0  ┆ 0.0  ┆ 2552          │\n",
       "│ 0.1      ┆ 0.190693 ┆ 1.0      ┆ 0.129099 ┆ … ┆ 0.0  ┆ 0.0  ┆ 0.0  ┆ 2300          │\n",
       "│ 0.129099 ┆ 0.246183 ┆ 0.129099 ┆ 1.0      ┆ … ┆ 0.0  ┆ 0.0  ┆ 0.0  ┆ 1187          │\n",
       "│ 0.141421 ┆ 0.26968  ┆ 0.141421 ┆ 0.182574 ┆ … ┆ 0.0  ┆ 0.0  ┆ 0.0  ┆ 3037          │\n",
       "│ …        ┆ …        ┆ …        ┆ …        ┆ … ┆ …    ┆ …    ┆ …    ┆ …             │\n",
       "│ 0.223607 ┆ 0.0      ┆ 0.0      ┆ 0.288675 ┆ … ┆ 0.0  ┆ 0.0  ┆ 0.0  ┆ 4590          │\n",
       "│ 0.0      ┆ 0.0      ┆ 0.0      ┆ 0.288675 ┆ … ┆ 0.0  ┆ 0.0  ┆ 0.0  ┆ 4703          │\n",
       "│ 0.0      ┆ 0.0      ┆ 0.0      ┆ 0.0      ┆ … ┆ 1.0  ┆ 0.0  ┆ 0.0  ┆ 3607          │\n",
       "│ 0.0      ┆ 0.0      ┆ 0.0      ┆ 0.0      ┆ … ┆ 0.0  ┆ 1.0  ┆ 0.0  ┆ 4587          │\n",
       "│ 0.0      ┆ 0.0      ┆ 0.0      ┆ 0.0      ┆ … ┆ 0.0  ┆ 0.0  ┆ 1.0  ┆ 2417          │\n",
       "└──────────┴──────────┴──────────┴──────────┴───┴──────┴──────┴──────┴───────────────┘"
      ]
     },
     "execution_count": 126,
     "metadata": {},
     "output_type": "execute_result"
    }
   ],
   "source": [
    "customer_item_matrix_without_member_number = customer_item_matrix.drop(\"Member_number\")\n",
    "\n",
    "user_user_sim_matrix = pl.DataFrame(\n",
    "    cosine_similarity(customer_item_matrix_without_member_number.to_pandas()),\n",
    "    schema=customer_item_matrix[\"Member_number\"].cast(pl.String).to_list(),\n",
    ")\n",
    "\n",
    "user_user_sim_matrix = user_user_sim_matrix.with_columns(customer_item_matrix_idx)\n",
    "user_user_sim_matrix"
   ]
  },
  {
   "cell_type": "markdown",
   "metadata": {},
   "source": [
    "## Question 2.1\n",
    "\n",
    "列出會員編號1000顧客購買過的商品名稱。"
   ]
  },
  {
   "cell_type": "code",
   "execution_count": 140,
   "metadata": {},
   "outputs": [
    {
     "data": {
      "text/html": [
       "<div><style>\n",
       ".dataframe > thead > tr,\n",
       ".dataframe > tbody > tr {\n",
       "  text-align: right;\n",
       "  white-space: pre-wrap;\n",
       "}\n",
       "</style>\n",
       "<small>shape: (11,)</small><table border=\"1\" class=\"dataframe\"><thead><tr><th>Product</th></tr><tr><td>str</td></tr></thead><tbody><tr><td>&quot;whole milk&quot;</td></tr><tr><td>&quot;yogurt&quot;</td></tr><tr><td>&quot;sausage&quot;</td></tr><tr><td>&quot;pastry&quot;</td></tr><tr><td>&quot;canned beer&quot;</td></tr><tr><td>&hellip;</td></tr><tr><td>&quot;soda&quot;</td></tr><tr><td>&quot;pickled vegetables&quot;</td></tr><tr><td>&quot;salty snack&quot;</td></tr><tr><td>&quot;hygiene articles&quot;</td></tr><tr><td>&quot;semi-finished bread&quot;</td></tr></tbody></table></div>"
      ],
      "text/plain": [
       "shape: (11,)\n",
       "Series: 'Product' [str]\n",
       "[\n",
       "\t\"whole milk\"\n",
       "\t\"yogurt\"\n",
       "\t\"sausage\"\n",
       "\t\"pastry\"\n",
       "\t\"canned beer\"\n",
       "\t…\n",
       "\t\"soda\"\n",
       "\t\"pickled vegetables\"\n",
       "\t\"salty snack\"\n",
       "\t\"hygiene articles\"\n",
       "\t\"semi-finished bread\"\n",
       "]"
      ]
     },
     "execution_count": 140,
     "metadata": {},
     "output_type": "execute_result"
    }
   ],
   "source": [
    "product_purchased_by_1000 = (\n",
    "    customer_item_matrix.filter(pl.col(\"Member_number\") == 1000)\n",
    "    .transpose(include_header=True, header_name=\"Product\", column_names=[\"Purchased\"])\n",
    "    .filter(pl.col(\"Purchased\") == 1)\n",
    "    .to_series()\n",
    ")\n",
    "\n",
    "product_purchased_by_1000"
   ]
  },
  {
   "cell_type": "markdown",
   "metadata": {},
   "source": [
    "## Question 2.2\n",
    "\n",
    "列出會員編號2626顧客購買過的商品名稱。"
   ]
  },
  {
   "cell_type": "code",
   "execution_count": 141,
   "metadata": {},
   "outputs": [
    {
     "data": {
      "text/html": [
       "<div><style>\n",
       ".dataframe > thead > tr,\n",
       ".dataframe > tbody > tr {\n",
       "  text-align: right;\n",
       "  white-space: pre-wrap;\n",
       "}\n",
       "</style>\n",
       "<small>shape: (7,)</small><table border=\"1\" class=\"dataframe\"><thead><tr><th>Product</th></tr><tr><td>str</td></tr></thead><tbody><tr><td>&quot;whole milk&quot;</td></tr><tr><td>&quot;other vegetables&quot;</td></tr><tr><td>&quot;chocolate&quot;</td></tr><tr><td>&quot;yogurt&quot;</td></tr><tr><td>&quot;canned beer&quot;</td></tr><tr><td>&quot;soda&quot;</td></tr><tr><td>&quot;hygiene articles&quot;</td></tr></tbody></table></div>"
      ],
      "text/plain": [
       "shape: (7,)\n",
       "Series: 'Product' [str]\n",
       "[\n",
       "\t\"whole milk\"\n",
       "\t\"other vegetables\"\n",
       "\t\"chocolate\"\n",
       "\t\"yogurt\"\n",
       "\t\"canned beer\"\n",
       "\t\"soda\"\n",
       "\t\"hygiene articles\"\n",
       "]"
      ]
     },
     "execution_count": 141,
     "metadata": {},
     "output_type": "execute_result"
    }
   ],
   "source": [
    "product_purchased_by_2626 = (\n",
    "    customer_item_matrix.filter(pl.col(\"Member_number\") == 2626)\n",
    "    .transpose(include_header=True, header_name=\"Product\", column_names=[\"Purchased\"])\n",
    "    .filter(pl.col(\"Purchased\") == 1)\n",
    "    .to_series()\n",
    ")\n",
    "\n",
    "product_purchased_by_2626"
   ]
  },
  {
   "cell_type": "markdown",
   "metadata": {},
   "source": [
    "## Question 2.3\n",
    "\n",
    "列出會員編號1000有買過，但2626沒有買過的商品。"
   ]
  },
  {
   "cell_type": "code",
   "execution_count": 145,
   "metadata": {},
   "outputs": [
    {
     "data": {
      "text/plain": [
       "{'misc. beverages',\n",
       " 'pastry',\n",
       " 'pickled vegetables',\n",
       " 'salty snack',\n",
       " 'sausage',\n",
       " 'semi-finished bread'}"
      ]
     },
     "execution_count": 145,
     "metadata": {},
     "output_type": "execute_result"
    }
   ],
   "source": [
    "products_id_not_purchased_by_2626 = set(product_purchased_by_1000) - set(product_purchased_by_2626)\n",
    "\n",
    "products_id_not_purchased_by_2626"
   ]
  },
  {
   "cell_type": "markdown",
   "metadata": {},
   "source": [
    "# Question 3\n",
    "\n",
    "請利用「產品導向協同過濾法」，找出通常會跟牛肉(beef)一起購買的另外五個商品名稱。\n",
    "\n",
    "> 貼心小提醒：因為結果會包含牛肉，所以記得總共要輸出6個品項哦！"
   ]
  }
 ],
 "metadata": {
  "kernelspec": {
   "display_name": "venv",
   "language": "python",
   "name": "python3"
  },
  "language_info": {
   "codemirror_mode": {
    "name": "ipython",
    "version": 3
   },
   "file_extension": ".py",
   "mimetype": "text/x-python",
   "name": "python",
   "nbconvert_exporter": "python",
   "pygments_lexer": "ipython3",
   "version": "3.12.5"
  }
 },
 "nbformat": 4,
 "nbformat_minor": 2
}
