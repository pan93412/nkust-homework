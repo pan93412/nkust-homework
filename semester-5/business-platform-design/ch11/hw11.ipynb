{
 "cells": [
  {
   "cell_type": "markdown",
   "metadata": {},
   "source": [
    "# Homework of CH11"
   ]
  },
  {
   "cell_type": "code",
   "execution_count": 1,
   "metadata": {},
   "outputs": [],
   "source": [
    "import polars as pl\n",
    "from mlxtend.frequent_patterns import fpgrowth\n",
    "from mlxtend.frequent_patterns import association_rules\n",
    "from mlxtend.preprocessing import TransactionEncoder\n",
    "from sklearn.metrics.pairwise import cosine_similarity"
   ]
  },
  {
   "cell_type": "markdown",
   "metadata": {},
   "source": [
    "將 mlxtend 函式進行封裝，使其可以直接支援 Polars 的 DataFrame。"
   ]
  },
  {
   "cell_type": "code",
   "execution_count": 2,
   "metadata": {},
   "outputs": [],
   "source": [
    "def fpgrowth_pl(data: pl.DataFrame, min_support=0.5, use_colnames=False, *args, **kwargs):\n",
    "    frequent_itemsets = fpgrowth(data.to_pandas(), min_support=min_support, use_colnames=use_colnames, *args, **kwargs)\n",
    "\n",
    "    frequent_itemsets['itemsets'] = frequent_itemsets['itemsets'].apply(lambda x: list(x))\n",
    "    return pl.DataFrame(frequent_itemsets)\n",
    "\n",
    "def association_rules_pl(data: pl.DataFrame, metric=\"confidence\", min_threshold=0.8, *args, **kwargs):\n",
    "    rules = association_rules(data.to_pandas(), metric=metric, min_threshold=min_threshold, *args, **kwargs)\n",
    "    rules[\"antecedents\"] = rules[\"antecedents\"].apply(lambda x: list(x))\n",
    "    rules[\"consequents\"] = rules[\"consequents\"].apply(lambda x: list(x))\n",
    "\n",
    "    return pl.DataFrame(rules)"
   ]
  },
  {
   "cell_type": "markdown",
   "metadata": {},
   "source": [
    "讀取資料。"
   ]
  },
  {
   "cell_type": "code",
   "execution_count": 3,
   "metadata": {},
   "outputs": [
    {
     "data": {
      "text/html": [
       "<div><style>\n",
       ".dataframe > thead > tr,\n",
       ".dataframe > tbody > tr {\n",
       "  text-align: right;\n",
       "  white-space: pre-wrap;\n",
       "}\n",
       "</style>\n",
       "<small>shape: (38_765, 4)</small><table border=\"1\" class=\"dataframe\"><thead><tr><th>Member_number</th><th>Date</th><th>itemDescription</th><th>Quality</th></tr><tr><td>i64</td><td>str</td><td>str</td><td>i64</td></tr></thead><tbody><tr><td>1808</td><td>&quot;21-07-2015&quot;</td><td>&quot;tropical fruit&quot;</td><td>1</td></tr><tr><td>2552</td><td>&quot;05-01-2015&quot;</td><td>&quot;whole milk&quot;</td><td>1</td></tr><tr><td>2300</td><td>&quot;19-09-2015&quot;</td><td>&quot;pip fruit&quot;</td><td>1</td></tr><tr><td>1187</td><td>&quot;12-12-2015&quot;</td><td>&quot;other vegetables&quot;</td><td>1</td></tr><tr><td>3037</td><td>&quot;01-02-2015&quot;</td><td>&quot;whole milk&quot;</td><td>1</td></tr><tr><td>&hellip;</td><td>&hellip;</td><td>&hellip;</td><td>&hellip;</td></tr><tr><td>4471</td><td>&quot;08-10-2014&quot;</td><td>&quot;sliced cheese&quot;</td><td>1</td></tr><tr><td>2022</td><td>&quot;23-02-2014&quot;</td><td>&quot;candy&quot;</td><td>1</td></tr><tr><td>1097</td><td>&quot;16-04-2014&quot;</td><td>&quot;cake bar&quot;</td><td>1</td></tr><tr><td>1510</td><td>&quot;03-12-2014&quot;</td><td>&quot;fruit/vegetable juice&quot;</td><td>1</td></tr><tr><td>1521</td><td>&quot;26-12-2014&quot;</td><td>&quot;cat food&quot;</td><td>1</td></tr></tbody></table></div>"
      ],
      "text/plain": [
       "shape: (38_765, 4)\n",
       "┌───────────────┬────────────┬───────────────────────┬─────────┐\n",
       "│ Member_number ┆ Date       ┆ itemDescription       ┆ Quality │\n",
       "│ ---           ┆ ---        ┆ ---                   ┆ ---     │\n",
       "│ i64           ┆ str        ┆ str                   ┆ i64     │\n",
       "╞═══════════════╪════════════╪═══════════════════════╪═════════╡\n",
       "│ 1808          ┆ 21-07-2015 ┆ tropical fruit        ┆ 1       │\n",
       "│ 2552          ┆ 05-01-2015 ┆ whole milk            ┆ 1       │\n",
       "│ 2300          ┆ 19-09-2015 ┆ pip fruit             ┆ 1       │\n",
       "│ 1187          ┆ 12-12-2015 ┆ other vegetables      ┆ 1       │\n",
       "│ 3037          ┆ 01-02-2015 ┆ whole milk            ┆ 1       │\n",
       "│ …             ┆ …          ┆ …                     ┆ …       │\n",
       "│ 4471          ┆ 08-10-2014 ┆ sliced cheese         ┆ 1       │\n",
       "│ 2022          ┆ 23-02-2014 ┆ candy                 ┆ 1       │\n",
       "│ 1097          ┆ 16-04-2014 ┆ cake bar              ┆ 1       │\n",
       "│ 1510          ┆ 03-12-2014 ┆ fruit/vegetable juice ┆ 1       │\n",
       "│ 1521          ┆ 26-12-2014 ┆ cat food              ┆ 1       │\n",
       "└───────────────┴────────────┴───────────────────────┴─────────┘"
      ]
     },
     "execution_count": 3,
     "metadata": {},
     "output_type": "execute_result"
    }
   ],
   "source": [
    "df = pl.read_csv(\"Groceries_dataset.csv\")\n",
    "df"
   ]
  },
  {
   "cell_type": "code",
   "execution_count": 4,
   "metadata": {},
   "outputs": [
    {
     "data": {
      "text/html": [
       "<div><style>\n",
       ".dataframe > thead > tr,\n",
       ".dataframe > tbody > tr {\n",
       "  text-align: right;\n",
       "  white-space: pre-wrap;\n",
       "}\n",
       "</style>\n",
       "<small>shape: (9, 5)</small><table border=\"1\" class=\"dataframe\"><thead><tr><th>statistic</th><th>Member_number</th><th>Date</th><th>itemDescription</th><th>Quality</th></tr><tr><td>str</td><td>f64</td><td>str</td><td>str</td><td>f64</td></tr></thead><tbody><tr><td>&quot;count&quot;</td><td>38765.0</td><td>&quot;38765&quot;</td><td>&quot;38765&quot;</td><td>38765.0</td></tr><tr><td>&quot;null_count&quot;</td><td>0.0</td><td>&quot;0&quot;</td><td>&quot;0&quot;</td><td>0.0</td></tr><tr><td>&quot;mean&quot;</td><td>3003.641868</td><td>null</td><td>null</td><td>1.0</td></tr><tr><td>&quot;std&quot;</td><td>1153.611031</td><td>null</td><td>null</td><td>0.0</td></tr><tr><td>&quot;min&quot;</td><td>1000.0</td><td>&quot;01-01-2014&quot;</td><td>&quot;Instant food products&quot;</td><td>1.0</td></tr><tr><td>&quot;25%&quot;</td><td>2002.0</td><td>null</td><td>null</td><td>1.0</td></tr><tr><td>&quot;50%&quot;</td><td>3005.0</td><td>null</td><td>null</td><td>1.0</td></tr><tr><td>&quot;75%&quot;</td><td>4007.0</td><td>null</td><td>null</td><td>1.0</td></tr><tr><td>&quot;max&quot;</td><td>5000.0</td><td>&quot;31-10-2015&quot;</td><td>&quot;zwieback&quot;</td><td>1.0</td></tr></tbody></table></div>"
      ],
      "text/plain": [
       "shape: (9, 5)\n",
       "┌────────────┬───────────────┬────────────┬───────────────────────┬─────────┐\n",
       "│ statistic  ┆ Member_number ┆ Date       ┆ itemDescription       ┆ Quality │\n",
       "│ ---        ┆ ---           ┆ ---        ┆ ---                   ┆ ---     │\n",
       "│ str        ┆ f64           ┆ str        ┆ str                   ┆ f64     │\n",
       "╞════════════╪═══════════════╪════════════╪═══════════════════════╪═════════╡\n",
       "│ count      ┆ 38765.0       ┆ 38765      ┆ 38765                 ┆ 38765.0 │\n",
       "│ null_count ┆ 0.0           ┆ 0          ┆ 0                     ┆ 0.0     │\n",
       "│ mean       ┆ 3003.641868   ┆ null       ┆ null                  ┆ 1.0     │\n",
       "│ std        ┆ 1153.611031   ┆ null       ┆ null                  ┆ 0.0     │\n",
       "│ min        ┆ 1000.0        ┆ 01-01-2014 ┆ Instant food products ┆ 1.0     │\n",
       "│ 25%        ┆ 2002.0        ┆ null       ┆ null                  ┆ 1.0     │\n",
       "│ 50%        ┆ 3005.0        ┆ null       ┆ null                  ┆ 1.0     │\n",
       "│ 75%        ┆ 4007.0        ┆ null       ┆ null                  ┆ 1.0     │\n",
       "│ max        ┆ 5000.0        ┆ 31-10-2015 ┆ zwieback              ┆ 1.0     │\n",
       "└────────────┴───────────────┴────────────┴───────────────────────┴─────────┘"
      ]
     },
     "execution_count": 4,
     "metadata": {},
     "output_type": "execute_result"
    }
   ],
   "source": [
    "df.describe()"
   ]
  },
  {
   "cell_type": "markdown",
   "metadata": {},
   "source": [
    "看起來不需要處理空值問題。不過 `itemDescription` 欄位的資料型態是 `str`，需要轉換成 `list`。"
   ]
  },
  {
   "cell_type": "code",
   "execution_count": 5,
   "metadata": {},
   "outputs": [
    {
     "data": {
      "text/html": [
       "<div><style>\n",
       ".dataframe > thead > tr,\n",
       ".dataframe > tbody > tr {\n",
       "  text-align: right;\n",
       "  white-space: pre-wrap;\n",
       "}\n",
       "</style>\n",
       "<small>shape: (3_898, 2)</small><table border=\"1\" class=\"dataframe\"><thead><tr><th>Member_number</th><th>itemDescription</th></tr><tr><td>i64</td><td>list[str]</td></tr></thead><tbody><tr><td>4067</td><td>[&quot;domestic eggs&quot;, &quot;tropical fruit&quot;, … &quot;specialty chocolate&quot;]</td></tr><tr><td>3168</td><td>[&quot;other vegetables&quot;, &quot;root vegetables&quot;, … &quot;pudding powder&quot;]</td></tr><tr><td>2900</td><td>[&quot;pastry&quot;, &quot;bottled water&quot;, … &quot;canned beer&quot;]</td></tr><tr><td>3162</td><td>[&quot;soda&quot;, &quot;bottled water&quot;]</td></tr><tr><td>1197</td><td>[&quot;citrus fruit&quot;, &quot;root vegetables&quot;, … &quot;whipped/sour cream&quot;]</td></tr><tr><td>&hellip;</td><td>&hellip;</td></tr><tr><td>4701</td><td>[&quot;soda&quot;, &quot;soda&quot;, … &quot;dental care&quot;]</td></tr><tr><td>3668</td><td>[&quot;root vegetables&quot;, &quot;whole milk&quot;, … &quot;rolls/buns&quot;]</td></tr><tr><td>3790</td><td>[&quot;pastry&quot;, &quot;sausage&quot;, … &quot;sweet spreads&quot;]</td></tr><tr><td>1950</td><td>[&quot;other vegetables&quot;, &quot;sausage&quot;, … &quot;sugar&quot;]</td></tr><tr><td>2352</td><td>[&quot;sausage&quot;, &quot;dessert&quot;, … &quot;misc. beverages&quot;]</td></tr></tbody></table></div>"
      ],
      "text/plain": [
       "shape: (3_898, 2)\n",
       "┌───────────────┬─────────────────────────────────┐\n",
       "│ Member_number ┆ itemDescription                 │\n",
       "│ ---           ┆ ---                             │\n",
       "│ i64           ┆ list[str]                       │\n",
       "╞═══════════════╪═════════════════════════════════╡\n",
       "│ 4067          ┆ [\"domestic eggs\", \"tropical fr… │\n",
       "│ 3168          ┆ [\"other vegetables\", \"root veg… │\n",
       "│ 2900          ┆ [\"pastry\", \"bottled water\", … … │\n",
       "│ 3162          ┆ [\"soda\", \"bottled water\"]       │\n",
       "│ 1197          ┆ [\"citrus fruit\", \"root vegetab… │\n",
       "│ …             ┆ …                               │\n",
       "│ 4701          ┆ [\"soda\", \"soda\", … \"dental car… │\n",
       "│ 3668          ┆ [\"root vegetables\", \"whole mil… │\n",
       "│ 3790          ┆ [\"pastry\", \"sausage\", … \"sweet… │\n",
       "│ 1950          ┆ [\"other vegetables\", \"sausage\"… │\n",
       "│ 2352          ┆ [\"sausage\", \"dessert\", … \"misc… │\n",
       "└───────────────┴─────────────────────────────────┘"
      ]
     },
     "execution_count": 5,
     "metadata": {},
     "output_type": "execute_result"
    }
   ],
   "source": [
    "data_df = df.group_by(\"Member_number\").agg(pl.col(\"itemDescription\"))\n",
    "data_df"
   ]
  },
  {
   "cell_type": "markdown",
   "metadata": {},
   "source": [
    "## Question 1\n",
    "\n",
    "請使用 `Groceries_dataset` 資料集，並計算銷售資料 `support>=0.1`, `lift>=1` 以上的產品組合\n",
    "\n",
    "- 提示: 先算出 `support>=0.1` 的 `frequent_itemsets`；再篩選 `lift>=1` 的產品組合"
   ]
  },
  {
   "cell_type": "code",
   "execution_count": 6,
   "metadata": {},
   "outputs": [
    {
     "data": {
      "text/html": [
       "<div><style>\n",
       ".dataframe > thead > tr,\n",
       ".dataframe > tbody > tr {\n",
       "  text-align: right;\n",
       "  white-space: pre-wrap;\n",
       "}\n",
       "</style>\n",
       "<small>shape: (3_898, 167)</small><table border=\"1\" class=\"dataframe\"><thead><tr><th>Instant food products</th><th>UHT-milk</th><th>abrasive cleaner</th><th>artif. sweetener</th><th>baby cosmetics</th><th>bags</th><th>baking powder</th><th>bathroom cleaner</th><th>beef</th><th>berries</th><th>beverages</th><th>bottled beer</th><th>bottled water</th><th>brandy</th><th>brown bread</th><th>butter</th><th>butter milk</th><th>cake bar</th><th>candles</th><th>candy</th><th>canned beer</th><th>canned fish</th><th>canned fruit</th><th>canned vegetables</th><th>cat food</th><th>cereals</th><th>chewing gum</th><th>chicken</th><th>chocolate</th><th>chocolate marshmallow</th><th>citrus fruit</th><th>cleaner</th><th>cling film/bags</th><th>cocoa drinks</th><th>coffee</th><th>condensed milk</th><th>cooking chocolate</th><th>&hellip;</th><th>sausage</th><th>seasonal products</th><th>semi-finished bread</th><th>shopping bags</th><th>skin care</th><th>sliced cheese</th><th>snack products</th><th>soap</th><th>soda</th><th>soft cheese</th><th>softener</th><th>soups</th><th>sparkling wine</th><th>specialty bar</th><th>specialty cheese</th><th>specialty chocolate</th><th>specialty fat</th><th>specialty vegetables</th><th>spices</th><th>spread cheese</th><th>sugar</th><th>sweet spreads</th><th>syrup</th><th>tea</th><th>tidbits</th><th>toilet cleaner</th><th>tropical fruit</th><th>turkey</th><th>vinegar</th><th>waffles</th><th>whipped/sour cream</th><th>whisky</th><th>white bread</th><th>white wine</th><th>whole milk</th><th>yogurt</th><th>zwieback</th></tr><tr><td>bool</td><td>bool</td><td>bool</td><td>bool</td><td>bool</td><td>bool</td><td>bool</td><td>bool</td><td>bool</td><td>bool</td><td>bool</td><td>bool</td><td>bool</td><td>bool</td><td>bool</td><td>bool</td><td>bool</td><td>bool</td><td>bool</td><td>bool</td><td>bool</td><td>bool</td><td>bool</td><td>bool</td><td>bool</td><td>bool</td><td>bool</td><td>bool</td><td>bool</td><td>bool</td><td>bool</td><td>bool</td><td>bool</td><td>bool</td><td>bool</td><td>bool</td><td>bool</td><td>&hellip;</td><td>bool</td><td>bool</td><td>bool</td><td>bool</td><td>bool</td><td>bool</td><td>bool</td><td>bool</td><td>bool</td><td>bool</td><td>bool</td><td>bool</td><td>bool</td><td>bool</td><td>bool</td><td>bool</td><td>bool</td><td>bool</td><td>bool</td><td>bool</td><td>bool</td><td>bool</td><td>bool</td><td>bool</td><td>bool</td><td>bool</td><td>bool</td><td>bool</td><td>bool</td><td>bool</td><td>bool</td><td>bool</td><td>bool</td><td>bool</td><td>bool</td><td>bool</td><td>bool</td></tr></thead><tbody><tr><td>false</td><td>false</td><td>false</td><td>false</td><td>false</td><td>false</td><td>false</td><td>false</td><td>false</td><td>false</td><td>false</td><td>false</td><td>false</td><td>false</td><td>false</td><td>false</td><td>false</td><td>false</td><td>false</td><td>false</td><td>false</td><td>false</td><td>false</td><td>false</td><td>false</td><td>false</td><td>false</td><td>false</td><td>false</td><td>false</td><td>false</td><td>false</td><td>false</td><td>false</td><td>false</td><td>true</td><td>false</td><td>&hellip;</td><td>false</td><td>false</td><td>false</td><td>false</td><td>false</td><td>false</td><td>false</td><td>false</td><td>false</td><td>false</td><td>false</td><td>false</td><td>false</td><td>false</td><td>false</td><td>true</td><td>false</td><td>false</td><td>false</td><td>false</td><td>false</td><td>false</td><td>false</td><td>false</td><td>false</td><td>false</td><td>true</td><td>false</td><td>false</td><td>false</td><td>false</td><td>false</td><td>false</td><td>false</td><td>true</td><td>false</td><td>false</td></tr><tr><td>false</td><td>false</td><td>false</td><td>false</td><td>false</td><td>false</td><td>false</td><td>false</td><td>false</td><td>false</td><td>false</td><td>false</td><td>false</td><td>false</td><td>true</td><td>false</td><td>true</td><td>false</td><td>false</td><td>false</td><td>false</td><td>false</td><td>false</td><td>false</td><td>false</td><td>false</td><td>false</td><td>false</td><td>false</td><td>false</td><td>false</td><td>false</td><td>false</td><td>false</td><td>true</td><td>false</td><td>false</td><td>&hellip;</td><td>false</td><td>false</td><td>false</td><td>false</td><td>false</td><td>false</td><td>false</td><td>false</td><td>true</td><td>false</td><td>false</td><td>false</td><td>false</td><td>false</td><td>false</td><td>false</td><td>false</td><td>false</td><td>false</td><td>false</td><td>true</td><td>false</td><td>false</td><td>false</td><td>false</td><td>false</td><td>true</td><td>false</td><td>false</td><td>false</td><td>false</td><td>false</td><td>false</td><td>false</td><td>false</td><td>false</td><td>false</td></tr><tr><td>false</td><td>false</td><td>false</td><td>false</td><td>false</td><td>false</td><td>false</td><td>false</td><td>false</td><td>false</td><td>false</td><td>true</td><td>true</td><td>false</td><td>false</td><td>false</td><td>false</td><td>false</td><td>false</td><td>false</td><td>true</td><td>false</td><td>false</td><td>false</td><td>false</td><td>false</td><td>false</td><td>true</td><td>false</td><td>false</td><td>false</td><td>false</td><td>false</td><td>false</td><td>false</td><td>false</td><td>false</td><td>&hellip;</td><td>true</td><td>false</td><td>false</td><td>true</td><td>false</td><td>false</td><td>false</td><td>false</td><td>false</td><td>false</td><td>false</td><td>false</td><td>false</td><td>false</td><td>false</td><td>false</td><td>false</td><td>false</td><td>false</td><td>false</td><td>true</td><td>false</td><td>false</td><td>false</td><td>false</td><td>false</td><td>false</td><td>false</td><td>false</td><td>false</td><td>false</td><td>false</td><td>false</td><td>false</td><td>true</td><td>false</td><td>false</td></tr><tr><td>false</td><td>false</td><td>false</td><td>false</td><td>false</td><td>false</td><td>false</td><td>false</td><td>false</td><td>false</td><td>false</td><td>false</td><td>true</td><td>false</td><td>false</td><td>false</td><td>false</td><td>false</td><td>false</td><td>false</td><td>false</td><td>false</td><td>false</td><td>false</td><td>false</td><td>false</td><td>false</td><td>false</td><td>false</td><td>false</td><td>false</td><td>false</td><td>false</td><td>false</td><td>false</td><td>false</td><td>false</td><td>&hellip;</td><td>false</td><td>false</td><td>false</td><td>false</td><td>false</td><td>false</td><td>false</td><td>false</td><td>true</td><td>false</td><td>false</td><td>false</td><td>false</td><td>false</td><td>false</td><td>false</td><td>false</td><td>false</td><td>false</td><td>false</td><td>false</td><td>false</td><td>false</td><td>false</td><td>false</td><td>false</td><td>false</td><td>false</td><td>false</td><td>false</td><td>false</td><td>false</td><td>false</td><td>false</td><td>false</td><td>false</td><td>false</td></tr><tr><td>false</td><td>false</td><td>false</td><td>false</td><td>false</td><td>false</td><td>false</td><td>false</td><td>true</td><td>false</td><td>false</td><td>false</td><td>false</td><td>false</td><td>true</td><td>false</td><td>false</td><td>false</td><td>false</td><td>false</td><td>false</td><td>false</td><td>false</td><td>false</td><td>false</td><td>false</td><td>false</td><td>false</td><td>true</td><td>false</td><td>true</td><td>false</td><td>false</td><td>false</td><td>false</td><td>false</td><td>false</td><td>&hellip;</td><td>true</td><td>false</td><td>false</td><td>false</td><td>false</td><td>true</td><td>false</td><td>false</td><td>false</td><td>false</td><td>false</td><td>false</td><td>false</td><td>false</td><td>false</td><td>false</td><td>false</td><td>false</td><td>false</td><td>false</td><td>false</td><td>false</td><td>false</td><td>false</td><td>false</td><td>false</td><td>false</td><td>false</td><td>false</td><td>true</td><td>true</td><td>false</td><td>false</td><td>false</td><td>true</td><td>true</td><td>false</td></tr><tr><td>&hellip;</td><td>&hellip;</td><td>&hellip;</td><td>&hellip;</td><td>&hellip;</td><td>&hellip;</td><td>&hellip;</td><td>&hellip;</td><td>&hellip;</td><td>&hellip;</td><td>&hellip;</td><td>&hellip;</td><td>&hellip;</td><td>&hellip;</td><td>&hellip;</td><td>&hellip;</td><td>&hellip;</td><td>&hellip;</td><td>&hellip;</td><td>&hellip;</td><td>&hellip;</td><td>&hellip;</td><td>&hellip;</td><td>&hellip;</td><td>&hellip;</td><td>&hellip;</td><td>&hellip;</td><td>&hellip;</td><td>&hellip;</td><td>&hellip;</td><td>&hellip;</td><td>&hellip;</td><td>&hellip;</td><td>&hellip;</td><td>&hellip;</td><td>&hellip;</td><td>&hellip;</td><td>&hellip;</td><td>&hellip;</td><td>&hellip;</td><td>&hellip;</td><td>&hellip;</td><td>&hellip;</td><td>&hellip;</td><td>&hellip;</td><td>&hellip;</td><td>&hellip;</td><td>&hellip;</td><td>&hellip;</td><td>&hellip;</td><td>&hellip;</td><td>&hellip;</td><td>&hellip;</td><td>&hellip;</td><td>&hellip;</td><td>&hellip;</td><td>&hellip;</td><td>&hellip;</td><td>&hellip;</td><td>&hellip;</td><td>&hellip;</td><td>&hellip;</td><td>&hellip;</td><td>&hellip;</td><td>&hellip;</td><td>&hellip;</td><td>&hellip;</td><td>&hellip;</td><td>&hellip;</td><td>&hellip;</td><td>&hellip;</td><td>&hellip;</td><td>&hellip;</td><td>&hellip;</td><td>&hellip;</td></tr><tr><td>false</td><td>false</td><td>false</td><td>false</td><td>false</td><td>false</td><td>false</td><td>false</td><td>false</td><td>false</td><td>false</td><td>false</td><td>false</td><td>false</td><td>false</td><td>false</td><td>false</td><td>false</td><td>false</td><td>false</td><td>false</td><td>false</td><td>false</td><td>false</td><td>false</td><td>false</td><td>false</td><td>false</td><td>false</td><td>false</td><td>false</td><td>false</td><td>false</td><td>false</td><td>false</td><td>false</td><td>false</td><td>&hellip;</td><td>false</td><td>false</td><td>false</td><td>false</td><td>false</td><td>false</td><td>false</td><td>false</td><td>true</td><td>false</td><td>false</td><td>false</td><td>false</td><td>false</td><td>false</td><td>false</td><td>false</td><td>false</td><td>false</td><td>false</td><td>false</td><td>false</td><td>false</td><td>false</td><td>false</td><td>false</td><td>false</td><td>false</td><td>false</td><td>false</td><td>false</td><td>false</td><td>false</td><td>false</td><td>true</td><td>false</td><td>false</td></tr><tr><td>false</td><td>false</td><td>false</td><td>false</td><td>false</td><td>false</td><td>false</td><td>false</td><td>false</td><td>false</td><td>false</td><td>true</td><td>false</td><td>true</td><td>false</td><td>false</td><td>false</td><td>false</td><td>false</td><td>false</td><td>false</td><td>false</td><td>false</td><td>false</td><td>false</td><td>false</td><td>false</td><td>false</td><td>false</td><td>false</td><td>true</td><td>false</td><td>false</td><td>false</td><td>false</td><td>false</td><td>false</td><td>&hellip;</td><td>false</td><td>false</td><td>false</td><td>false</td><td>false</td><td>false</td><td>false</td><td>false</td><td>false</td><td>false</td><td>false</td><td>false</td><td>false</td><td>false</td><td>false</td><td>false</td><td>false</td><td>false</td><td>false</td><td>false</td><td>false</td><td>false</td><td>false</td><td>false</td><td>false</td><td>false</td><td>false</td><td>false</td><td>false</td><td>false</td><td>false</td><td>false</td><td>false</td><td>false</td><td>true</td><td>false</td><td>false</td></tr><tr><td>true</td><td>false</td><td>false</td><td>false</td><td>false</td><td>false</td><td>false</td><td>false</td><td>false</td><td>false</td><td>false</td><td>false</td><td>false</td><td>false</td><td>true</td><td>false</td><td>false</td><td>false</td><td>false</td><td>false</td><td>false</td><td>false</td><td>false</td><td>false</td><td>false</td><td>false</td><td>false</td><td>true</td><td>false</td><td>false</td><td>false</td><td>false</td><td>false</td><td>false</td><td>true</td><td>false</td><td>false</td><td>&hellip;</td><td>true</td><td>false</td><td>false</td><td>false</td><td>false</td><td>false</td><td>false</td><td>false</td><td>false</td><td>false</td><td>false</td><td>false</td><td>false</td><td>false</td><td>false</td><td>false</td><td>false</td><td>false</td><td>false</td><td>false</td><td>false</td><td>true</td><td>false</td><td>false</td><td>false</td><td>false</td><td>false</td><td>false</td><td>false</td><td>false</td><td>false</td><td>false</td><td>false</td><td>false</td><td>true</td><td>true</td><td>false</td></tr><tr><td>false</td><td>false</td><td>false</td><td>false</td><td>false</td><td>false</td><td>false</td><td>false</td><td>false</td><td>false</td><td>false</td><td>false</td><td>false</td><td>false</td><td>false</td><td>false</td><td>false</td><td>false</td><td>false</td><td>false</td><td>false</td><td>false</td><td>false</td><td>false</td><td>false</td><td>false</td><td>false</td><td>false</td><td>false</td><td>false</td><td>false</td><td>false</td><td>false</td><td>false</td><td>false</td><td>false</td><td>false</td><td>&hellip;</td><td>true</td><td>false</td><td>false</td><td>false</td><td>false</td><td>true</td><td>false</td><td>false</td><td>false</td><td>false</td><td>false</td><td>false</td><td>false</td><td>false</td><td>false</td><td>false</td><td>false</td><td>false</td><td>false</td><td>false</td><td>true</td><td>false</td><td>false</td><td>false</td><td>false</td><td>false</td><td>false</td><td>false</td><td>false</td><td>false</td><td>false</td><td>false</td><td>false</td><td>false</td><td>true</td><td>false</td><td>false</td></tr><tr><td>false</td><td>false</td><td>false</td><td>false</td><td>false</td><td>false</td><td>false</td><td>false</td><td>false</td><td>false</td><td>false</td><td>false</td><td>false</td><td>false</td><td>false</td><td>false</td><td>false</td><td>false</td><td>false</td><td>false</td><td>false</td><td>false</td><td>false</td><td>false</td><td>false</td><td>false</td><td>false</td><td>false</td><td>false</td><td>false</td><td>false</td><td>false</td><td>false</td><td>false</td><td>false</td><td>false</td><td>false</td><td>&hellip;</td><td>true</td><td>false</td><td>false</td><td>true</td><td>false</td><td>false</td><td>false</td><td>false</td><td>false</td><td>false</td><td>false</td><td>false</td><td>false</td><td>false</td><td>false</td><td>false</td><td>false</td><td>false</td><td>false</td><td>false</td><td>false</td><td>false</td><td>false</td><td>false</td><td>false</td><td>false</td><td>true</td><td>false</td><td>false</td><td>false</td><td>false</td><td>false</td><td>false</td><td>false</td><td>false</td><td>false</td><td>false</td></tr></tbody></table></div>"
      ],
      "text/plain": [
       "shape: (3_898, 167)\n",
       "┌──────────┬──────────┬──────────┬───────────┬───┬───────┬────────────┬────────┬──────────┐\n",
       "│ Instant  ┆ UHT-milk ┆ abrasive ┆ artif.    ┆ … ┆ white ┆ whole milk ┆ yogurt ┆ zwieback │\n",
       "│ food     ┆ ---      ┆ cleaner  ┆ sweetener ┆   ┆ wine  ┆ ---        ┆ ---    ┆ ---      │\n",
       "│ products ┆ bool     ┆ ---      ┆ ---       ┆   ┆ ---   ┆ bool       ┆ bool   ┆ bool     │\n",
       "│ ---      ┆          ┆ bool     ┆ bool      ┆   ┆ bool  ┆            ┆        ┆          │\n",
       "│ bool     ┆          ┆          ┆           ┆   ┆       ┆            ┆        ┆          │\n",
       "╞══════════╪══════════╪══════════╪═══════════╪═══╪═══════╪════════════╪════════╪══════════╡\n",
       "│ false    ┆ false    ┆ false    ┆ false     ┆ … ┆ false ┆ true       ┆ false  ┆ false    │\n",
       "│ false    ┆ false    ┆ false    ┆ false     ┆ … ┆ false ┆ false      ┆ false  ┆ false    │\n",
       "│ false    ┆ false    ┆ false    ┆ false     ┆ … ┆ false ┆ true       ┆ false  ┆ false    │\n",
       "│ false    ┆ false    ┆ false    ┆ false     ┆ … ┆ false ┆ false      ┆ false  ┆ false    │\n",
       "│ false    ┆ false    ┆ false    ┆ false     ┆ … ┆ false ┆ true       ┆ true   ┆ false    │\n",
       "│ …        ┆ …        ┆ …        ┆ …         ┆ … ┆ …     ┆ …          ┆ …      ┆ …        │\n",
       "│ false    ┆ false    ┆ false    ┆ false     ┆ … ┆ false ┆ true       ┆ false  ┆ false    │\n",
       "│ false    ┆ false    ┆ false    ┆ false     ┆ … ┆ false ┆ true       ┆ false  ┆ false    │\n",
       "│ true     ┆ false    ┆ false    ┆ false     ┆ … ┆ false ┆ true       ┆ true   ┆ false    │\n",
       "│ false    ┆ false    ┆ false    ┆ false     ┆ … ┆ false ┆ true       ┆ false  ┆ false    │\n",
       "│ false    ┆ false    ┆ false    ┆ false     ┆ … ┆ false ┆ false      ┆ false  ┆ false    │\n",
       "└──────────┴──────────┴──────────┴───────────┴───┴───────┴────────────┴────────┴──────────┘"
      ]
     },
     "execution_count": 6,
     "metadata": {},
     "output_type": "execute_result"
    }
   ],
   "source": [
    "te = TransactionEncoder()\n",
    "te_ary=te.fit_transform(X=data_df['itemDescription'])\n",
    "\n",
    "data_items_dumm = pl.DataFrame(te_ary, schema=te.columns_)\n",
    "data_items_dumm"
   ]
  },
  {
   "cell_type": "code",
   "execution_count": 7,
   "metadata": {},
   "outputs": [
    {
     "data": {
      "text/html": [
       "<div><style>\n",
       ".dataframe > thead > tr,\n",
       ".dataframe > tbody > tr {\n",
       "  text-align: right;\n",
       "  white-space: pre-wrap;\n",
       "}\n",
       "</style>\n",
       "<small>shape: (42, 2)</small><table border=\"1\" class=\"dataframe\"><thead><tr><th>support</th><th>itemsets</th></tr><tr><td>f64</td><td>list[str]</td></tr></thead><tbody><tr><td>0.458184</td><td>[&quot;whole milk&quot;]</td></tr><tr><td>0.23371</td><td>[&quot;tropical fruit&quot;]</td></tr><tr><td>0.177527</td><td>[&quot;pastry&quot;]</td></tr><tr><td>0.133145</td><td>[&quot;domestic eggs&quot;]</td></tr><tr><td>0.376603</td><td>[&quot;other vegetables&quot;]</td></tr><tr><td>&hellip;</td><td>&hellip;</td></tr><tr><td>0.15059</td><td>[&quot;whole milk&quot;, &quot;yogurt&quot;]</td></tr><tr><td>0.120318</td><td>[&quot;yogurt&quot;, &quot;other vegetables&quot;]</td></tr><tr><td>0.111339</td><td>[&quot;yogurt&quot;, &quot;rolls/buns&quot;]</td></tr><tr><td>0.146742</td><td>[&quot;other vegetables&quot;, &quot;rolls/buns&quot;]</td></tr><tr><td>0.178553</td><td>[&quot;whole milk&quot;, &quot;rolls/buns&quot;]</td></tr></tbody></table></div>"
      ],
      "text/plain": [
       "shape: (42, 2)\n",
       "┌──────────┬─────────────────────────────────┐\n",
       "│ support  ┆ itemsets                        │\n",
       "│ ---      ┆ ---                             │\n",
       "│ f64      ┆ list[str]                       │\n",
       "╞══════════╪═════════════════════════════════╡\n",
       "│ 0.458184 ┆ [\"whole milk\"]                  │\n",
       "│ 0.23371  ┆ [\"tropical fruit\"]              │\n",
       "│ 0.177527 ┆ [\"pastry\"]                      │\n",
       "│ 0.133145 ┆ [\"domestic eggs\"]               │\n",
       "│ 0.376603 ┆ [\"other vegetables\"]            │\n",
       "│ …        ┆ …                               │\n",
       "│ 0.15059  ┆ [\"whole milk\", \"yogurt\"]        │\n",
       "│ 0.120318 ┆ [\"yogurt\", \"other vegetables\"]  │\n",
       "│ 0.111339 ┆ [\"yogurt\", \"rolls/buns\"]        │\n",
       "│ 0.146742 ┆ [\"other vegetables\", \"rolls/bu… │\n",
       "│ 0.178553 ┆ [\"whole milk\", \"rolls/buns\"]    │\n",
       "└──────────┴─────────────────────────────────┘"
      ]
     },
     "execution_count": 7,
     "metadata": {},
     "output_type": "execute_result"
    }
   ],
   "source": [
    "frequent_itemsets = fpgrowth_pl(data_items_dumm, min_support=0.1, use_colnames=True)\n",
    "frequent_itemsets"
   ]
  },
  {
   "cell_type": "code",
   "execution_count": 8,
   "metadata": {},
   "outputs": [
    {
     "data": {
      "text/html": [
       "<div><style>\n",
       ".dataframe > thead > tr,\n",
       ".dataframe > tbody > tr {\n",
       "  text-align: right;\n",
       "  white-space: pre-wrap;\n",
       "}\n",
       "</style>\n",
       "<small>shape: (26, 10)</small><table border=\"1\" class=\"dataframe\"><thead><tr><th>antecedents</th><th>consequents</th><th>antecedent support</th><th>consequent support</th><th>support</th><th>confidence</th><th>lift</th><th>leverage</th><th>conviction</th><th>zhangs_metric</th></tr><tr><td>list[str]</td><td>list[str]</td><td>f64</td><td>f64</td><td>f64</td><td>f64</td><td>f64</td><td>f64</td><td>f64</td><td>f64</td></tr></thead><tbody><tr><td>[&quot;whole milk&quot;]</td><td>[&quot;tropical fruit&quot;]</td><td>0.458184</td><td>0.23371</td><td>0.11647</td><td>0.254199</td><td>1.087672</td><td>0.009388</td><td>1.027473</td><td>0.148768</td></tr><tr><td>[&quot;tropical fruit&quot;]</td><td>[&quot;whole milk&quot;]</td><td>0.23371</td><td>0.458184</td><td>0.11647</td><td>0.498353</td><td>1.087672</td><td>0.009388</td><td>1.080076</td><td>0.105189</td></tr><tr><td>[&quot;whole milk&quot;]</td><td>[&quot;other vegetables&quot;]</td><td>0.458184</td><td>0.376603</td><td>0.19138</td><td>0.417693</td><td>1.109106</td><td>0.018827</td><td>1.070564</td><td>0.181562</td></tr><tr><td>[&quot;other vegetables&quot;]</td><td>[&quot;whole milk&quot;]</td><td>0.376603</td><td>0.458184</td><td>0.19138</td><td>0.508174</td><td>1.109106</td><td>0.018827</td><td>1.101643</td><td>0.157802</td></tr><tr><td>[&quot;other vegetables&quot;]</td><td>[&quot;soda&quot;]</td><td>0.376603</td><td>0.313494</td><td>0.124166</td><td>0.3297</td><td>1.051695</td><td>0.006103</td><td>1.024178</td><td>0.078849</td></tr><tr><td>&hellip;</td><td>&hellip;</td><td>&hellip;</td><td>&hellip;</td><td>&hellip;</td><td>&hellip;</td><td>&hellip;</td><td>&hellip;</td><td>&hellip;</td><td>&hellip;</td></tr><tr><td>[&quot;rolls/buns&quot;]</td><td>[&quot;yogurt&quot;]</td><td>0.349666</td><td>0.282966</td><td>0.111339</td><td>0.318415</td><td>1.125279</td><td>0.012396</td><td>1.052011</td><td>0.171191</td></tr><tr><td>[&quot;other vegetables&quot;]</td><td>[&quot;rolls/buns&quot;]</td><td>0.376603</td><td>0.349666</td><td>0.146742</td><td>0.389646</td><td>1.114335</td><td>0.015056</td><td>1.065502</td><td>0.164589</td></tr><tr><td>[&quot;rolls/buns&quot;]</td><td>[&quot;other vegetables&quot;]</td><td>0.349666</td><td>0.376603</td><td>0.146742</td><td>0.419663</td><td>1.114335</td><td>0.015056</td><td>1.074197</td><td>0.157772</td></tr><tr><td>[&quot;whole milk&quot;]</td><td>[&quot;rolls/buns&quot;]</td><td>0.458184</td><td>0.349666</td><td>0.178553</td><td>0.389698</td><td>1.114484</td><td>0.018342</td><td>1.065592</td><td>0.189591</td></tr><tr><td>[&quot;rolls/buns&quot;]</td><td>[&quot;whole milk&quot;]</td><td>0.349666</td><td>0.458184</td><td>0.178553</td><td>0.510638</td><td>1.114484</td><td>0.018342</td><td>1.10719</td><td>0.157955</td></tr></tbody></table></div>"
      ],
      "text/plain": [
       "shape: (26, 10)\n",
       "┌────────────┬───────────┬───────────┬───────────┬───┬──────────┬──────────┬───────────┬───────────┐\n",
       "│ antecedent ┆ consequen ┆ anteceden ┆ consequen ┆ … ┆ lift     ┆ leverage ┆ convictio ┆ zhangs_me │\n",
       "│ s          ┆ ts        ┆ t support ┆ t support ┆   ┆ ---      ┆ ---      ┆ n         ┆ tric      │\n",
       "│ ---        ┆ ---       ┆ ---       ┆ ---       ┆   ┆ f64      ┆ f64      ┆ ---       ┆ ---       │\n",
       "│ list[str]  ┆ list[str] ┆ f64       ┆ f64       ┆   ┆          ┆          ┆ f64       ┆ f64       │\n",
       "╞════════════╪═══════════╪═══════════╪═══════════╪═══╪══════════╪══════════╪═══════════╪═══════════╡\n",
       "│ [\"whole    ┆ [\"tropica ┆ 0.458184  ┆ 0.23371   ┆ … ┆ 1.087672 ┆ 0.009388 ┆ 1.027473  ┆ 0.148768  │\n",
       "│ milk\"]     ┆ l fruit\"] ┆           ┆           ┆   ┆          ┆          ┆           ┆           │\n",
       "│ [\"tropical ┆ [\"whole   ┆ 0.23371   ┆ 0.458184  ┆ … ┆ 1.087672 ┆ 0.009388 ┆ 1.080076  ┆ 0.105189  │\n",
       "│ fruit\"]    ┆ milk\"]    ┆           ┆           ┆   ┆          ┆          ┆           ┆           │\n",
       "│ [\"whole    ┆ [\"other   ┆ 0.458184  ┆ 0.376603  ┆ … ┆ 1.109106 ┆ 0.018827 ┆ 1.070564  ┆ 0.181562  │\n",
       "│ milk\"]     ┆ vegetable ┆           ┆           ┆   ┆          ┆          ┆           ┆           │\n",
       "│            ┆ s\"]       ┆           ┆           ┆   ┆          ┆          ┆           ┆           │\n",
       "│ [\"other    ┆ [\"whole   ┆ 0.376603  ┆ 0.458184  ┆ … ┆ 1.109106 ┆ 0.018827 ┆ 1.101643  ┆ 0.157802  │\n",
       "│ vegetables ┆ milk\"]    ┆           ┆           ┆   ┆          ┆          ┆           ┆           │\n",
       "│ \"]         ┆           ┆           ┆           ┆   ┆          ┆          ┆           ┆           │\n",
       "│ [\"other    ┆ [\"soda\"]  ┆ 0.376603  ┆ 0.313494  ┆ … ┆ 1.051695 ┆ 0.006103 ┆ 1.024178  ┆ 0.078849  │\n",
       "│ vegetables ┆           ┆           ┆           ┆   ┆          ┆          ┆           ┆           │\n",
       "│ \"]         ┆           ┆           ┆           ┆   ┆          ┆          ┆           ┆           │\n",
       "│ …          ┆ …         ┆ …         ┆ …         ┆ … ┆ …        ┆ …        ┆ …         ┆ …         │\n",
       "│ [\"rolls/bu ┆ [\"yogurt\" ┆ 0.349666  ┆ 0.282966  ┆ … ┆ 1.125279 ┆ 0.012396 ┆ 1.052011  ┆ 0.171191  │\n",
       "│ ns\"]       ┆ ]         ┆           ┆           ┆   ┆          ┆          ┆           ┆           │\n",
       "│ [\"other    ┆ [\"rolls/b ┆ 0.376603  ┆ 0.349666  ┆ … ┆ 1.114335 ┆ 0.015056 ┆ 1.065502  ┆ 0.164589  │\n",
       "│ vegetables ┆ uns\"]     ┆           ┆           ┆   ┆          ┆          ┆           ┆           │\n",
       "│ \"]         ┆           ┆           ┆           ┆   ┆          ┆          ┆           ┆           │\n",
       "│ [\"rolls/bu ┆ [\"other   ┆ 0.349666  ┆ 0.376603  ┆ … ┆ 1.114335 ┆ 0.015056 ┆ 1.074197  ┆ 0.157772  │\n",
       "│ ns\"]       ┆ vegetable ┆           ┆           ┆   ┆          ┆          ┆           ┆           │\n",
       "│            ┆ s\"]       ┆           ┆           ┆   ┆          ┆          ┆           ┆           │\n",
       "│ [\"whole    ┆ [\"rolls/b ┆ 0.458184  ┆ 0.349666  ┆ … ┆ 1.114484 ┆ 0.018342 ┆ 1.065592  ┆ 0.189591  │\n",
       "│ milk\"]     ┆ uns\"]     ┆           ┆           ┆   ┆          ┆          ┆           ┆           │\n",
       "│ [\"rolls/bu ┆ [\"whole   ┆ 0.349666  ┆ 0.458184  ┆ … ┆ 1.114484 ┆ 0.018342 ┆ 1.10719   ┆ 0.157955  │\n",
       "│ ns\"]       ┆ milk\"]    ┆           ┆           ┆   ┆          ┆          ┆           ┆           │\n",
       "└────────────┴───────────┴───────────┴───────────┴───┴──────────┴──────────┴───────────┴───────────┘"
      ]
     },
     "execution_count": 8,
     "metadata": {},
     "output_type": "execute_result"
    }
   ],
   "source": [
    "association_rules_df = association_rules_pl(frequent_itemsets, metric='lift', min_threshold=1)\n",
    "association_rules_df"
   ]
  },
  {
   "cell_type": "markdown",
   "metadata": {},
   "source": [
    "# Question 2\n",
    "\n",
    "請使用 `Groceries_dataset` 資料集，並利用「使用者導向協同過濾法」，找出會員編號1000與2626這兩位相似的顧客，並進行以下事宜："
   ]
  },
  {
   "cell_type": "markdown",
   "metadata": {},
   "source": [
    "Creating `customer_item_matrix`."
   ]
  },
  {
   "cell_type": "code",
   "execution_count": 9,
   "metadata": {},
   "outputs": [
    {
     "data": {
      "text/html": [
       "<div><style>\n",
       ".dataframe > thead > tr,\n",
       ".dataframe > tbody > tr {\n",
       "  text-align: right;\n",
       "  white-space: pre-wrap;\n",
       "}\n",
       "</style>\n",
       "<small>shape: (3_898, 168)</small><table border=\"1\" class=\"dataframe\"><thead><tr><th>Member_number</th><th>tropical fruit</th><th>whole milk</th><th>pip fruit</th><th>other vegetables</th><th>rolls/buns</th><th>pot plants</th><th>citrus fruit</th><th>beef</th><th>frankfurter</th><th>chicken</th><th>butter</th><th>fruit/vegetable juice</th><th>packaged fruit/vegetables</th><th>chocolate</th><th>specialty bar</th><th>butter milk</th><th>bottled water</th><th>yogurt</th><th>sausage</th><th>brown bread</th><th>hamburger meat</th><th>root vegetables</th><th>pork</th><th>pastry</th><th>canned beer</th><th>berries</th><th>coffee</th><th>misc. beverages</th><th>ham</th><th>turkey</th><th>curd cheese</th><th>red/blush wine</th><th>frozen potato products</th><th>flour</th><th>sugar</th><th>frozen meals</th><th>&hellip;</th><th>roll products </th><th>kitchen towels</th><th>flower soil/fertilizer</th><th>cereals</th><th>meat spreads</th><th>dishes</th><th>male cosmetics</th><th>candles</th><th>whisky</th><th>tidbits</th><th>cooking chocolate</th><th>seasonal products</th><th>liqueur</th><th>abrasive cleaner</th><th>syrup</th><th>ketchup</th><th>cream</th><th>skin care</th><th>rubbing alcohol</th><th>nut snack</th><th>cocoa drinks</th><th>softener</th><th>organic products</th><th>cake bar</th><th>honey</th><th>jam</th><th>kitchen utensil</th><th>flower (seeds)</th><th>rice</th><th>tea</th><th>salad dressing</th><th>specialty vegetables</th><th>pudding powder</th><th>ready soups</th><th>make up remover</th><th>toilet cleaner</th><th>preservation products</th></tr><tr><td>i64</td><td>i64</td><td>i64</td><td>i64</td><td>i64</td><td>i64</td><td>i64</td><td>i64</td><td>i64</td><td>i64</td><td>i64</td><td>i64</td><td>i64</td><td>i64</td><td>i64</td><td>i64</td><td>i64</td><td>i64</td><td>i64</td><td>i64</td><td>i64</td><td>i64</td><td>i64</td><td>i64</td><td>i64</td><td>i64</td><td>i64</td><td>i64</td><td>i64</td><td>i64</td><td>i64</td><td>i64</td><td>i64</td><td>i64</td><td>i64</td><td>i64</td><td>i64</td><td>&hellip;</td><td>i64</td><td>i64</td><td>i64</td><td>i64</td><td>i64</td><td>i64</td><td>i64</td><td>i64</td><td>i64</td><td>i64</td><td>i64</td><td>i64</td><td>i64</td><td>i64</td><td>i64</td><td>i64</td><td>i64</td><td>i64</td><td>i64</td><td>i64</td><td>i64</td><td>i64</td><td>i64</td><td>i64</td><td>i64</td><td>i64</td><td>i64</td><td>i64</td><td>i64</td><td>i64</td><td>i64</td><td>i64</td><td>i64</td><td>i64</td><td>i64</td><td>i64</td><td>i64</td></tr></thead><tbody><tr><td>1808</td><td>1</td><td>1</td><td>0</td><td>0</td><td>1</td><td>0</td><td>1</td><td>0</td><td>0</td><td>0</td><td>0</td><td>0</td><td>0</td><td>0</td><td>0</td><td>0</td><td>0</td><td>0</td><td>0</td><td>0</td><td>0</td><td>0</td><td>0</td><td>0</td><td>0</td><td>0</td><td>0</td><td>0</td><td>0</td><td>0</td><td>0</td><td>0</td><td>0</td><td>0</td><td>1</td><td>0</td><td>&hellip;</td><td>0</td><td>0</td><td>0</td><td>0</td><td>0</td><td>0</td><td>0</td><td>0</td><td>0</td><td>0</td><td>0</td><td>0</td><td>0</td><td>0</td><td>0</td><td>0</td><td>0</td><td>0</td><td>0</td><td>0</td><td>0</td><td>0</td><td>0</td><td>0</td><td>0</td><td>0</td><td>0</td><td>0</td><td>0</td><td>0</td><td>0</td><td>0</td><td>0</td><td>0</td><td>0</td><td>0</td><td>0</td></tr><tr><td>2552</td><td>1</td><td>2</td><td>0</td><td>1</td><td>0</td><td>1</td><td>0</td><td>0</td><td>0</td><td>0</td><td>1</td><td>0</td><td>0</td><td>2</td><td>0</td><td>0</td><td>0</td><td>0</td><td>0</td><td>0</td><td>0</td><td>1</td><td>0</td><td>0</td><td>0</td><td>0</td><td>1</td><td>0</td><td>0</td><td>0</td><td>0</td><td>0</td><td>0</td><td>0</td><td>0</td><td>0</td><td>&hellip;</td><td>0</td><td>0</td><td>0</td><td>0</td><td>0</td><td>0</td><td>0</td><td>0</td><td>0</td><td>0</td><td>0</td><td>0</td><td>0</td><td>0</td><td>0</td><td>0</td><td>0</td><td>0</td><td>0</td><td>0</td><td>0</td><td>0</td><td>0</td><td>0</td><td>0</td><td>0</td><td>0</td><td>0</td><td>0</td><td>0</td><td>0</td><td>0</td><td>0</td><td>0</td><td>0</td><td>0</td><td>0</td></tr><tr><td>2300</td><td>0</td><td>0</td><td>1</td><td>1</td><td>0</td><td>0</td><td>0</td><td>0</td><td>1</td><td>0</td><td>0</td><td>1</td><td>0</td><td>0</td><td>0</td><td>0</td><td>0</td><td>0</td><td>1</td><td>0</td><td>0</td><td>0</td><td>1</td><td>0</td><td>0</td><td>0</td><td>0</td><td>0</td><td>0</td><td>0</td><td>0</td><td>0</td><td>0</td><td>1</td><td>0</td><td>0</td><td>&hellip;</td><td>0</td><td>0</td><td>0</td><td>0</td><td>0</td><td>0</td><td>0</td><td>0</td><td>0</td><td>0</td><td>0</td><td>0</td><td>0</td><td>0</td><td>0</td><td>0</td><td>0</td><td>0</td><td>0</td><td>0</td><td>0</td><td>0</td><td>0</td><td>0</td><td>0</td><td>0</td><td>0</td><td>0</td><td>0</td><td>0</td><td>0</td><td>0</td><td>0</td><td>0</td><td>0</td><td>0</td><td>0</td></tr><tr><td>1187</td><td>0</td><td>0</td><td>0</td><td>1</td><td>0</td><td>0</td><td>1</td><td>0</td><td>0</td><td>0</td><td>0</td><td>0</td><td>0</td><td>0</td><td>0</td><td>0</td><td>0</td><td>0</td><td>0</td><td>0</td><td>0</td><td>0</td><td>0</td><td>0</td><td>0</td><td>0</td><td>0</td><td>0</td><td>0</td><td>0</td><td>0</td><td>0</td><td>0</td><td>0</td><td>0</td><td>0</td><td>&hellip;</td><td>0</td><td>0</td><td>0</td><td>0</td><td>0</td><td>0</td><td>0</td><td>0</td><td>0</td><td>0</td><td>0</td><td>0</td><td>0</td><td>0</td><td>0</td><td>0</td><td>0</td><td>0</td><td>0</td><td>0</td><td>0</td><td>0</td><td>0</td><td>0</td><td>0</td><td>0</td><td>0</td><td>0</td><td>0</td><td>0</td><td>0</td><td>0</td><td>0</td><td>0</td><td>0</td><td>0</td><td>0</td></tr><tr><td>3037</td><td>0</td><td>1</td><td>0</td><td>1</td><td>0</td><td>0</td><td>0</td><td>0</td><td>0</td><td>0</td><td>0</td><td>0</td><td>0</td><td>0</td><td>0</td><td>0</td><td>0</td><td>0</td><td>0</td><td>0</td><td>0</td><td>0</td><td>0</td><td>0</td><td>0</td><td>0</td><td>0</td><td>0</td><td>1</td><td>0</td><td>0</td><td>0</td><td>0</td><td>0</td><td>0</td><td>0</td><td>&hellip;</td><td>0</td><td>0</td><td>0</td><td>0</td><td>0</td><td>0</td><td>0</td><td>0</td><td>0</td><td>0</td><td>0</td><td>0</td><td>0</td><td>0</td><td>0</td><td>0</td><td>0</td><td>0</td><td>0</td><td>0</td><td>0</td><td>0</td><td>0</td><td>0</td><td>0</td><td>0</td><td>0</td><td>0</td><td>0</td><td>0</td><td>0</td><td>0</td><td>0</td><td>0</td><td>0</td><td>0</td><td>0</td></tr><tr><td>&hellip;</td><td>&hellip;</td><td>&hellip;</td><td>&hellip;</td><td>&hellip;</td><td>&hellip;</td><td>&hellip;</td><td>&hellip;</td><td>&hellip;</td><td>&hellip;</td><td>&hellip;</td><td>&hellip;</td><td>&hellip;</td><td>&hellip;</td><td>&hellip;</td><td>&hellip;</td><td>&hellip;</td><td>&hellip;</td><td>&hellip;</td><td>&hellip;</td><td>&hellip;</td><td>&hellip;</td><td>&hellip;</td><td>&hellip;</td><td>&hellip;</td><td>&hellip;</td><td>&hellip;</td><td>&hellip;</td><td>&hellip;</td><td>&hellip;</td><td>&hellip;</td><td>&hellip;</td><td>&hellip;</td><td>&hellip;</td><td>&hellip;</td><td>&hellip;</td><td>&hellip;</td><td>&hellip;</td><td>&hellip;</td><td>&hellip;</td><td>&hellip;</td><td>&hellip;</td><td>&hellip;</td><td>&hellip;</td><td>&hellip;</td><td>&hellip;</td><td>&hellip;</td><td>&hellip;</td><td>&hellip;</td><td>&hellip;</td><td>&hellip;</td><td>&hellip;</td><td>&hellip;</td><td>&hellip;</td><td>&hellip;</td><td>&hellip;</td><td>&hellip;</td><td>&hellip;</td><td>&hellip;</td><td>&hellip;</td><td>&hellip;</td><td>&hellip;</td><td>&hellip;</td><td>&hellip;</td><td>&hellip;</td><td>&hellip;</td><td>&hellip;</td><td>&hellip;</td><td>&hellip;</td><td>&hellip;</td><td>&hellip;</td><td>&hellip;</td><td>&hellip;</td><td>&hellip;</td><td>&hellip;</td></tr><tr><td>4590</td><td>0</td><td>0</td><td>0</td><td>0</td><td>0</td><td>0</td><td>0</td><td>0</td><td>0</td><td>0</td><td>0</td><td>0</td><td>0</td><td>0</td><td>0</td><td>0</td><td>0</td><td>0</td><td>0</td><td>0</td><td>0</td><td>0</td><td>0</td><td>0</td><td>0</td><td>0</td><td>0</td><td>0</td><td>0</td><td>0</td><td>0</td><td>0</td><td>0</td><td>0</td><td>0</td><td>0</td><td>&hellip;</td><td>0</td><td>0</td><td>0</td><td>0</td><td>0</td><td>0</td><td>0</td><td>0</td><td>0</td><td>0</td><td>0</td><td>0</td><td>0</td><td>0</td><td>0</td><td>0</td><td>0</td><td>0</td><td>0</td><td>0</td><td>0</td><td>0</td><td>0</td><td>0</td><td>0</td><td>0</td><td>0</td><td>0</td><td>0</td><td>0</td><td>0</td><td>0</td><td>0</td><td>0</td><td>0</td><td>0</td><td>0</td></tr><tr><td>4703</td><td>0</td><td>0</td><td>0</td><td>0</td><td>0</td><td>0</td><td>0</td><td>0</td><td>0</td><td>0</td><td>0</td><td>0</td><td>0</td><td>0</td><td>0</td><td>0</td><td>0</td><td>1</td><td>0</td><td>0</td><td>0</td><td>0</td><td>0</td><td>0</td><td>0</td><td>0</td><td>0</td><td>0</td><td>0</td><td>0</td><td>0</td><td>0</td><td>0</td><td>0</td><td>0</td><td>0</td><td>&hellip;</td><td>0</td><td>0</td><td>0</td><td>0</td><td>0</td><td>0</td><td>0</td><td>0</td><td>0</td><td>0</td><td>0</td><td>0</td><td>0</td><td>0</td><td>0</td><td>0</td><td>0</td><td>0</td><td>0</td><td>0</td><td>0</td><td>0</td><td>0</td><td>0</td><td>0</td><td>0</td><td>0</td><td>0</td><td>0</td><td>0</td><td>0</td><td>0</td><td>0</td><td>0</td><td>0</td><td>0</td><td>0</td></tr><tr><td>3607</td><td>0</td><td>0</td><td>0</td><td>0</td><td>0</td><td>0</td><td>0</td><td>0</td><td>0</td><td>0</td><td>0</td><td>0</td><td>0</td><td>0</td><td>0</td><td>0</td><td>0</td><td>0</td><td>0</td><td>0</td><td>0</td><td>0</td><td>0</td><td>0</td><td>0</td><td>0</td><td>0</td><td>0</td><td>0</td><td>0</td><td>0</td><td>0</td><td>0</td><td>0</td><td>0</td><td>0</td><td>&hellip;</td><td>0</td><td>0</td><td>0</td><td>0</td><td>0</td><td>0</td><td>0</td><td>0</td><td>0</td><td>0</td><td>0</td><td>0</td><td>0</td><td>0</td><td>0</td><td>0</td><td>0</td><td>0</td><td>0</td><td>0</td><td>0</td><td>0</td><td>0</td><td>0</td><td>0</td><td>0</td><td>0</td><td>0</td><td>0</td><td>0</td><td>0</td><td>0</td><td>0</td><td>0</td><td>0</td><td>0</td><td>0</td></tr><tr><td>4587</td><td>0</td><td>0</td><td>0</td><td>0</td><td>0</td><td>0</td><td>0</td><td>0</td><td>0</td><td>0</td><td>0</td><td>0</td><td>0</td><td>0</td><td>0</td><td>0</td><td>0</td><td>0</td><td>0</td><td>0</td><td>0</td><td>0</td><td>0</td><td>0</td><td>0</td><td>0</td><td>0</td><td>0</td><td>0</td><td>0</td><td>0</td><td>0</td><td>0</td><td>0</td><td>0</td><td>0</td><td>&hellip;</td><td>0</td><td>0</td><td>0</td><td>0</td><td>0</td><td>0</td><td>0</td><td>0</td><td>0</td><td>0</td><td>0</td><td>1</td><td>0</td><td>0</td><td>0</td><td>0</td><td>0</td><td>0</td><td>0</td><td>0</td><td>0</td><td>0</td><td>0</td><td>0</td><td>0</td><td>0</td><td>0</td><td>0</td><td>0</td><td>0</td><td>0</td><td>0</td><td>0</td><td>0</td><td>0</td><td>0</td><td>0</td></tr><tr><td>2417</td><td>0</td><td>0</td><td>0</td><td>0</td><td>0</td><td>0</td><td>0</td><td>0</td><td>0</td><td>0</td><td>0</td><td>0</td><td>0</td><td>0</td><td>0</td><td>0</td><td>0</td><td>0</td><td>0</td><td>0</td><td>0</td><td>0</td><td>0</td><td>0</td><td>0</td><td>0</td><td>0</td><td>0</td><td>0</td><td>0</td><td>0</td><td>0</td><td>0</td><td>0</td><td>0</td><td>0</td><td>&hellip;</td><td>0</td><td>0</td><td>0</td><td>0</td><td>0</td><td>0</td><td>0</td><td>0</td><td>0</td><td>0</td><td>0</td><td>0</td><td>0</td><td>0</td><td>0</td><td>0</td><td>0</td><td>0</td><td>0</td><td>0</td><td>0</td><td>0</td><td>0</td><td>0</td><td>0</td><td>0</td><td>0</td><td>0</td><td>0</td><td>0</td><td>0</td><td>0</td><td>0</td><td>0</td><td>0</td><td>0</td><td>0</td></tr></tbody></table></div>"
      ],
      "text/plain": [
       "shape: (3_898, 168)\n",
       "┌───────────────┬──────────┬───────┬───────────┬───┬───────┬─────────┬─────────┬──────────────┐\n",
       "│ Member_number ┆ tropical ┆ whole ┆ pip fruit ┆ … ┆ ready ┆ make up ┆ toilet  ┆ preservation │\n",
       "│ ---           ┆ fruit    ┆ milk  ┆ ---       ┆   ┆ soups ┆ remover ┆ cleaner ┆ products     │\n",
       "│ i64           ┆ ---      ┆ ---   ┆ i64       ┆   ┆ ---   ┆ ---     ┆ ---     ┆ ---          │\n",
       "│               ┆ i64      ┆ i64   ┆           ┆   ┆ i64   ┆ i64     ┆ i64     ┆ i64          │\n",
       "╞═══════════════╪══════════╪═══════╪═══════════╪═══╪═══════╪═════════╪═════════╪══════════════╡\n",
       "│ 1808          ┆ 1        ┆ 1     ┆ 0         ┆ … ┆ 0     ┆ 0       ┆ 0       ┆ 0            │\n",
       "│ 2552          ┆ 1        ┆ 2     ┆ 0         ┆ … ┆ 0     ┆ 0       ┆ 0       ┆ 0            │\n",
       "│ 2300          ┆ 0        ┆ 0     ┆ 1         ┆ … ┆ 0     ┆ 0       ┆ 0       ┆ 0            │\n",
       "│ 1187          ┆ 0        ┆ 0     ┆ 0         ┆ … ┆ 0     ┆ 0       ┆ 0       ┆ 0            │\n",
       "│ 3037          ┆ 0        ┆ 1     ┆ 0         ┆ … ┆ 0     ┆ 0       ┆ 0       ┆ 0            │\n",
       "│ …             ┆ …        ┆ …     ┆ …         ┆ … ┆ …     ┆ …       ┆ …       ┆ …            │\n",
       "│ 4590          ┆ 0        ┆ 0     ┆ 0         ┆ … ┆ 0     ┆ 0       ┆ 0       ┆ 0            │\n",
       "│ 4703          ┆ 0        ┆ 0     ┆ 0         ┆ … ┆ 0     ┆ 0       ┆ 0       ┆ 0            │\n",
       "│ 3607          ┆ 0        ┆ 0     ┆ 0         ┆ … ┆ 0     ┆ 0       ┆ 0       ┆ 0            │\n",
       "│ 4587          ┆ 0        ┆ 0     ┆ 0         ┆ … ┆ 0     ┆ 0       ┆ 0       ┆ 0            │\n",
       "│ 2417          ┆ 0        ┆ 0     ┆ 0         ┆ … ┆ 0     ┆ 0       ┆ 0       ┆ 0            │\n",
       "└───────────────┴──────────┴───────┴───────────┴───┴───────┴─────────┴─────────┴──────────────┘"
      ]
     },
     "execution_count": 9,
     "metadata": {},
     "output_type": "execute_result"
    }
   ],
   "source": [
    "customer_item_matrix = df.pivot(\n",
    "    values=\"Quality\",\n",
    "    index=\"Member_number\",\n",
    "    on=\"itemDescription\",\n",
    "    aggregate_function=\"sum\"\n",
    ").fill_null(0)\n",
    "\n",
    "customer_item_matrix"
   ]
  },
  {
   "cell_type": "code",
   "execution_count": 10,
   "metadata": {},
   "outputs": [
    {
     "data": {
      "text/html": [
       "<div><style>\n",
       ".dataframe > thead > tr,\n",
       ".dataframe > tbody > tr {\n",
       "  text-align: right;\n",
       "  white-space: pre-wrap;\n",
       "}\n",
       "</style>\n",
       "<small>shape: (3_898, 168)</small><table border=\"1\" class=\"dataframe\"><thead><tr><th>Member_number</th><th>tropical fruit</th><th>whole milk</th><th>pip fruit</th><th>other vegetables</th><th>rolls/buns</th><th>pot plants</th><th>citrus fruit</th><th>beef</th><th>frankfurter</th><th>chicken</th><th>butter</th><th>fruit/vegetable juice</th><th>packaged fruit/vegetables</th><th>chocolate</th><th>specialty bar</th><th>butter milk</th><th>bottled water</th><th>yogurt</th><th>sausage</th><th>brown bread</th><th>hamburger meat</th><th>root vegetables</th><th>pork</th><th>pastry</th><th>canned beer</th><th>berries</th><th>coffee</th><th>misc. beverages</th><th>ham</th><th>turkey</th><th>curd cheese</th><th>red/blush wine</th><th>frozen potato products</th><th>flour</th><th>sugar</th><th>frozen meals</th><th>&hellip;</th><th>roll products </th><th>kitchen towels</th><th>flower soil/fertilizer</th><th>cereals</th><th>meat spreads</th><th>dishes</th><th>male cosmetics</th><th>candles</th><th>whisky</th><th>tidbits</th><th>cooking chocolate</th><th>seasonal products</th><th>liqueur</th><th>abrasive cleaner</th><th>syrup</th><th>ketchup</th><th>cream</th><th>skin care</th><th>rubbing alcohol</th><th>nut snack</th><th>cocoa drinks</th><th>softener</th><th>organic products</th><th>cake bar</th><th>honey</th><th>jam</th><th>kitchen utensil</th><th>flower (seeds)</th><th>rice</th><th>tea</th><th>salad dressing</th><th>specialty vegetables</th><th>pudding powder</th><th>ready soups</th><th>make up remover</th><th>toilet cleaner</th><th>preservation products</th></tr><tr><td>i64</td><td>i32</td><td>i32</td><td>i32</td><td>i32</td><td>i32</td><td>i32</td><td>i32</td><td>i32</td><td>i32</td><td>i32</td><td>i32</td><td>i32</td><td>i32</td><td>i32</td><td>i32</td><td>i32</td><td>i32</td><td>i32</td><td>i32</td><td>i32</td><td>i32</td><td>i32</td><td>i32</td><td>i32</td><td>i32</td><td>i32</td><td>i32</td><td>i32</td><td>i32</td><td>i32</td><td>i32</td><td>i32</td><td>i32</td><td>i32</td><td>i32</td><td>i32</td><td>&hellip;</td><td>i32</td><td>i32</td><td>i32</td><td>i32</td><td>i32</td><td>i32</td><td>i32</td><td>i32</td><td>i32</td><td>i32</td><td>i32</td><td>i32</td><td>i32</td><td>i32</td><td>i32</td><td>i32</td><td>i32</td><td>i32</td><td>i32</td><td>i32</td><td>i32</td><td>i32</td><td>i32</td><td>i32</td><td>i32</td><td>i32</td><td>i32</td><td>i32</td><td>i32</td><td>i32</td><td>i32</td><td>i32</td><td>i32</td><td>i32</td><td>i32</td><td>i32</td><td>i32</td></tr></thead><tbody><tr><td>1808</td><td>1</td><td>1</td><td>0</td><td>0</td><td>1</td><td>0</td><td>1</td><td>0</td><td>0</td><td>0</td><td>0</td><td>0</td><td>0</td><td>0</td><td>0</td><td>0</td><td>0</td><td>0</td><td>0</td><td>0</td><td>0</td><td>0</td><td>0</td><td>0</td><td>0</td><td>0</td><td>0</td><td>0</td><td>0</td><td>0</td><td>0</td><td>0</td><td>0</td><td>0</td><td>1</td><td>0</td><td>&hellip;</td><td>0</td><td>0</td><td>0</td><td>0</td><td>0</td><td>0</td><td>0</td><td>0</td><td>0</td><td>0</td><td>0</td><td>0</td><td>0</td><td>0</td><td>0</td><td>0</td><td>0</td><td>0</td><td>0</td><td>0</td><td>0</td><td>0</td><td>0</td><td>0</td><td>0</td><td>0</td><td>0</td><td>0</td><td>0</td><td>0</td><td>0</td><td>0</td><td>0</td><td>0</td><td>0</td><td>0</td><td>0</td></tr><tr><td>2552</td><td>1</td><td>1</td><td>0</td><td>1</td><td>0</td><td>1</td><td>0</td><td>0</td><td>0</td><td>0</td><td>1</td><td>0</td><td>0</td><td>1</td><td>0</td><td>0</td><td>0</td><td>0</td><td>0</td><td>0</td><td>0</td><td>1</td><td>0</td><td>0</td><td>0</td><td>0</td><td>1</td><td>0</td><td>0</td><td>0</td><td>0</td><td>0</td><td>0</td><td>0</td><td>0</td><td>0</td><td>&hellip;</td><td>0</td><td>0</td><td>0</td><td>0</td><td>0</td><td>0</td><td>0</td><td>0</td><td>0</td><td>0</td><td>0</td><td>0</td><td>0</td><td>0</td><td>0</td><td>0</td><td>0</td><td>0</td><td>0</td><td>0</td><td>0</td><td>0</td><td>0</td><td>0</td><td>0</td><td>0</td><td>0</td><td>0</td><td>0</td><td>0</td><td>0</td><td>0</td><td>0</td><td>0</td><td>0</td><td>0</td><td>0</td></tr><tr><td>2300</td><td>0</td><td>0</td><td>1</td><td>1</td><td>0</td><td>0</td><td>0</td><td>0</td><td>1</td><td>0</td><td>0</td><td>1</td><td>0</td><td>0</td><td>0</td><td>0</td><td>0</td><td>0</td><td>1</td><td>0</td><td>0</td><td>0</td><td>1</td><td>0</td><td>0</td><td>0</td><td>0</td><td>0</td><td>0</td><td>0</td><td>0</td><td>0</td><td>0</td><td>1</td><td>0</td><td>0</td><td>&hellip;</td><td>0</td><td>0</td><td>0</td><td>0</td><td>0</td><td>0</td><td>0</td><td>0</td><td>0</td><td>0</td><td>0</td><td>0</td><td>0</td><td>0</td><td>0</td><td>0</td><td>0</td><td>0</td><td>0</td><td>0</td><td>0</td><td>0</td><td>0</td><td>0</td><td>0</td><td>0</td><td>0</td><td>0</td><td>0</td><td>0</td><td>0</td><td>0</td><td>0</td><td>0</td><td>0</td><td>0</td><td>0</td></tr><tr><td>1187</td><td>0</td><td>0</td><td>0</td><td>1</td><td>0</td><td>0</td><td>1</td><td>0</td><td>0</td><td>0</td><td>0</td><td>0</td><td>0</td><td>0</td><td>0</td><td>0</td><td>0</td><td>0</td><td>0</td><td>0</td><td>0</td><td>0</td><td>0</td><td>0</td><td>0</td><td>0</td><td>0</td><td>0</td><td>0</td><td>0</td><td>0</td><td>0</td><td>0</td><td>0</td><td>0</td><td>0</td><td>&hellip;</td><td>0</td><td>0</td><td>0</td><td>0</td><td>0</td><td>0</td><td>0</td><td>0</td><td>0</td><td>0</td><td>0</td><td>0</td><td>0</td><td>0</td><td>0</td><td>0</td><td>0</td><td>0</td><td>0</td><td>0</td><td>0</td><td>0</td><td>0</td><td>0</td><td>0</td><td>0</td><td>0</td><td>0</td><td>0</td><td>0</td><td>0</td><td>0</td><td>0</td><td>0</td><td>0</td><td>0</td><td>0</td></tr><tr><td>3037</td><td>0</td><td>1</td><td>0</td><td>1</td><td>0</td><td>0</td><td>0</td><td>0</td><td>0</td><td>0</td><td>0</td><td>0</td><td>0</td><td>0</td><td>0</td><td>0</td><td>0</td><td>0</td><td>0</td><td>0</td><td>0</td><td>0</td><td>0</td><td>0</td><td>0</td><td>0</td><td>0</td><td>0</td><td>1</td><td>0</td><td>0</td><td>0</td><td>0</td><td>0</td><td>0</td><td>0</td><td>&hellip;</td><td>0</td><td>0</td><td>0</td><td>0</td><td>0</td><td>0</td><td>0</td><td>0</td><td>0</td><td>0</td><td>0</td><td>0</td><td>0</td><td>0</td><td>0</td><td>0</td><td>0</td><td>0</td><td>0</td><td>0</td><td>0</td><td>0</td><td>0</td><td>0</td><td>0</td><td>0</td><td>0</td><td>0</td><td>0</td><td>0</td><td>0</td><td>0</td><td>0</td><td>0</td><td>0</td><td>0</td><td>0</td></tr><tr><td>&hellip;</td><td>&hellip;</td><td>&hellip;</td><td>&hellip;</td><td>&hellip;</td><td>&hellip;</td><td>&hellip;</td><td>&hellip;</td><td>&hellip;</td><td>&hellip;</td><td>&hellip;</td><td>&hellip;</td><td>&hellip;</td><td>&hellip;</td><td>&hellip;</td><td>&hellip;</td><td>&hellip;</td><td>&hellip;</td><td>&hellip;</td><td>&hellip;</td><td>&hellip;</td><td>&hellip;</td><td>&hellip;</td><td>&hellip;</td><td>&hellip;</td><td>&hellip;</td><td>&hellip;</td><td>&hellip;</td><td>&hellip;</td><td>&hellip;</td><td>&hellip;</td><td>&hellip;</td><td>&hellip;</td><td>&hellip;</td><td>&hellip;</td><td>&hellip;</td><td>&hellip;</td><td>&hellip;</td><td>&hellip;</td><td>&hellip;</td><td>&hellip;</td><td>&hellip;</td><td>&hellip;</td><td>&hellip;</td><td>&hellip;</td><td>&hellip;</td><td>&hellip;</td><td>&hellip;</td><td>&hellip;</td><td>&hellip;</td><td>&hellip;</td><td>&hellip;</td><td>&hellip;</td><td>&hellip;</td><td>&hellip;</td><td>&hellip;</td><td>&hellip;</td><td>&hellip;</td><td>&hellip;</td><td>&hellip;</td><td>&hellip;</td><td>&hellip;</td><td>&hellip;</td><td>&hellip;</td><td>&hellip;</td><td>&hellip;</td><td>&hellip;</td><td>&hellip;</td><td>&hellip;</td><td>&hellip;</td><td>&hellip;</td><td>&hellip;</td><td>&hellip;</td><td>&hellip;</td><td>&hellip;</td></tr><tr><td>4590</td><td>0</td><td>0</td><td>0</td><td>0</td><td>0</td><td>0</td><td>0</td><td>0</td><td>0</td><td>0</td><td>0</td><td>0</td><td>0</td><td>0</td><td>0</td><td>0</td><td>0</td><td>0</td><td>0</td><td>0</td><td>0</td><td>0</td><td>0</td><td>0</td><td>0</td><td>0</td><td>0</td><td>0</td><td>0</td><td>0</td><td>0</td><td>0</td><td>0</td><td>0</td><td>0</td><td>0</td><td>&hellip;</td><td>0</td><td>0</td><td>0</td><td>0</td><td>0</td><td>0</td><td>0</td><td>0</td><td>0</td><td>0</td><td>0</td><td>0</td><td>0</td><td>0</td><td>0</td><td>0</td><td>0</td><td>0</td><td>0</td><td>0</td><td>0</td><td>0</td><td>0</td><td>0</td><td>0</td><td>0</td><td>0</td><td>0</td><td>0</td><td>0</td><td>0</td><td>0</td><td>0</td><td>0</td><td>0</td><td>0</td><td>0</td></tr><tr><td>4703</td><td>0</td><td>0</td><td>0</td><td>0</td><td>0</td><td>0</td><td>0</td><td>0</td><td>0</td><td>0</td><td>0</td><td>0</td><td>0</td><td>0</td><td>0</td><td>0</td><td>0</td><td>1</td><td>0</td><td>0</td><td>0</td><td>0</td><td>0</td><td>0</td><td>0</td><td>0</td><td>0</td><td>0</td><td>0</td><td>0</td><td>0</td><td>0</td><td>0</td><td>0</td><td>0</td><td>0</td><td>&hellip;</td><td>0</td><td>0</td><td>0</td><td>0</td><td>0</td><td>0</td><td>0</td><td>0</td><td>0</td><td>0</td><td>0</td><td>0</td><td>0</td><td>0</td><td>0</td><td>0</td><td>0</td><td>0</td><td>0</td><td>0</td><td>0</td><td>0</td><td>0</td><td>0</td><td>0</td><td>0</td><td>0</td><td>0</td><td>0</td><td>0</td><td>0</td><td>0</td><td>0</td><td>0</td><td>0</td><td>0</td><td>0</td></tr><tr><td>3607</td><td>0</td><td>0</td><td>0</td><td>0</td><td>0</td><td>0</td><td>0</td><td>0</td><td>0</td><td>0</td><td>0</td><td>0</td><td>0</td><td>0</td><td>0</td><td>0</td><td>0</td><td>0</td><td>0</td><td>0</td><td>0</td><td>0</td><td>0</td><td>0</td><td>0</td><td>0</td><td>0</td><td>0</td><td>0</td><td>0</td><td>0</td><td>0</td><td>0</td><td>0</td><td>0</td><td>0</td><td>&hellip;</td><td>0</td><td>0</td><td>0</td><td>0</td><td>0</td><td>0</td><td>0</td><td>0</td><td>0</td><td>0</td><td>0</td><td>0</td><td>0</td><td>0</td><td>0</td><td>0</td><td>0</td><td>0</td><td>0</td><td>0</td><td>0</td><td>0</td><td>0</td><td>0</td><td>0</td><td>0</td><td>0</td><td>0</td><td>0</td><td>0</td><td>0</td><td>0</td><td>0</td><td>0</td><td>0</td><td>0</td><td>0</td></tr><tr><td>4587</td><td>0</td><td>0</td><td>0</td><td>0</td><td>0</td><td>0</td><td>0</td><td>0</td><td>0</td><td>0</td><td>0</td><td>0</td><td>0</td><td>0</td><td>0</td><td>0</td><td>0</td><td>0</td><td>0</td><td>0</td><td>0</td><td>0</td><td>0</td><td>0</td><td>0</td><td>0</td><td>0</td><td>0</td><td>0</td><td>0</td><td>0</td><td>0</td><td>0</td><td>0</td><td>0</td><td>0</td><td>&hellip;</td><td>0</td><td>0</td><td>0</td><td>0</td><td>0</td><td>0</td><td>0</td><td>0</td><td>0</td><td>0</td><td>0</td><td>1</td><td>0</td><td>0</td><td>0</td><td>0</td><td>0</td><td>0</td><td>0</td><td>0</td><td>0</td><td>0</td><td>0</td><td>0</td><td>0</td><td>0</td><td>0</td><td>0</td><td>0</td><td>0</td><td>0</td><td>0</td><td>0</td><td>0</td><td>0</td><td>0</td><td>0</td></tr><tr><td>2417</td><td>0</td><td>0</td><td>0</td><td>0</td><td>0</td><td>0</td><td>0</td><td>0</td><td>0</td><td>0</td><td>0</td><td>0</td><td>0</td><td>0</td><td>0</td><td>0</td><td>0</td><td>0</td><td>0</td><td>0</td><td>0</td><td>0</td><td>0</td><td>0</td><td>0</td><td>0</td><td>0</td><td>0</td><td>0</td><td>0</td><td>0</td><td>0</td><td>0</td><td>0</td><td>0</td><td>0</td><td>&hellip;</td><td>0</td><td>0</td><td>0</td><td>0</td><td>0</td><td>0</td><td>0</td><td>0</td><td>0</td><td>0</td><td>0</td><td>0</td><td>0</td><td>0</td><td>0</td><td>0</td><td>0</td><td>0</td><td>0</td><td>0</td><td>0</td><td>0</td><td>0</td><td>0</td><td>0</td><td>0</td><td>0</td><td>0</td><td>0</td><td>0</td><td>0</td><td>0</td><td>0</td><td>0</td><td>0</td><td>0</td><td>0</td></tr></tbody></table></div>"
      ],
      "text/plain": [
       "shape: (3_898, 168)\n",
       "┌───────────────┬──────────┬───────┬───────────┬───┬───────┬─────────┬─────────┬──────────────┐\n",
       "│ Member_number ┆ tropical ┆ whole ┆ pip fruit ┆ … ┆ ready ┆ make up ┆ toilet  ┆ preservation │\n",
       "│ ---           ┆ fruit    ┆ milk  ┆ ---       ┆   ┆ soups ┆ remover ┆ cleaner ┆ products     │\n",
       "│ i64           ┆ ---      ┆ ---   ┆ i32       ┆   ┆ ---   ┆ ---     ┆ ---     ┆ ---          │\n",
       "│               ┆ i32      ┆ i32   ┆           ┆   ┆ i32   ┆ i32     ┆ i32     ┆ i32          │\n",
       "╞═══════════════╪══════════╪═══════╪═══════════╪═══╪═══════╪═════════╪═════════╪══════════════╡\n",
       "│ 1808          ┆ 1        ┆ 1     ┆ 0         ┆ … ┆ 0     ┆ 0       ┆ 0       ┆ 0            │\n",
       "│ 2552          ┆ 1        ┆ 1     ┆ 0         ┆ … ┆ 0     ┆ 0       ┆ 0       ┆ 0            │\n",
       "│ 2300          ┆ 0        ┆ 0     ┆ 1         ┆ … ┆ 0     ┆ 0       ┆ 0       ┆ 0            │\n",
       "│ 1187          ┆ 0        ┆ 0     ┆ 0         ┆ … ┆ 0     ┆ 0       ┆ 0       ┆ 0            │\n",
       "│ 3037          ┆ 0        ┆ 1     ┆ 0         ┆ … ┆ 0     ┆ 0       ┆ 0       ┆ 0            │\n",
       "│ …             ┆ …        ┆ …     ┆ …         ┆ … ┆ …     ┆ …       ┆ …       ┆ …            │\n",
       "│ 4590          ┆ 0        ┆ 0     ┆ 0         ┆ … ┆ 0     ┆ 0       ┆ 0       ┆ 0            │\n",
       "│ 4703          ┆ 0        ┆ 0     ┆ 0         ┆ … ┆ 0     ┆ 0       ┆ 0       ┆ 0            │\n",
       "│ 3607          ┆ 0        ┆ 0     ┆ 0         ┆ … ┆ 0     ┆ 0       ┆ 0       ┆ 0            │\n",
       "│ 4587          ┆ 0        ┆ 0     ┆ 0         ┆ … ┆ 0     ┆ 0       ┆ 0       ┆ 0            │\n",
       "│ 2417          ┆ 0        ┆ 0     ┆ 0         ┆ … ┆ 0     ┆ 0       ┆ 0       ┆ 0            │\n",
       "└───────────────┴──────────┴───────┴───────────┴───┴───────┴─────────┴─────────┴──────────────┘"
      ]
     },
     "execution_count": 10,
     "metadata": {},
     "output_type": "execute_result"
    }
   ],
   "source": [
    "# if number > 0, then 1; else 0\n",
    "customer_item_matrix_idx = customer_item_matrix.select(\"Member_number\")\n",
    "customer_item_matrix = customer_item_matrix.with_columns(\n",
    "    (pl.when(pl.col(col) > 0).then(1).otherwise(0).alias(col))\n",
    "    for col in customer_item_matrix.columns\n",
    ")\n",
    "\n",
    "customer_item_matrix = customer_item_matrix.with_columns(customer_item_matrix_idx)\n",
    "customer_item_matrix"
   ]
  },
  {
   "cell_type": "markdown",
   "metadata": {},
   "source": [
    "Creating User-to-User Similarity Matrix."
   ]
  },
  {
   "cell_type": "code",
   "execution_count": 11,
   "metadata": {},
   "outputs": [
    {
     "data": {
      "text/html": [
       "<div><style>\n",
       ".dataframe > thead > tr,\n",
       ".dataframe > tbody > tr {\n",
       "  text-align: right;\n",
       "  white-space: pre-wrap;\n",
       "}\n",
       "</style>\n",
       "<small>shape: (3_898, 3_899)</small><table border=\"1\" class=\"dataframe\"><thead><tr><th>1808</th><th>2552</th><th>2300</th><th>1187</th><th>3037</th><th>4941</th><th>4501</th><th>3803</th><th>2762</th><th>4119</th><th>1340</th><th>2193</th><th>1997</th><th>4546</th><th>4736</th><th>1959</th><th>1974</th><th>2421</th><th>1513</th><th>1905</th><th>2810</th><th>2867</th><th>3962</th><th>1088</th><th>4976</th><th>4056</th><th>3611</th><th>1420</th><th>4286</th><th>4918</th><th>4783</th><th>3709</th><th>4289</th><th>1559</th><th>2900</th><th>3527</th><th>1495</th><th>&hellip;</th><th>2679</th><th>3624</th><th>1310</th><th>4083</th><th>1469</th><th>3933</th><th>2881</th><th>1084</th><th>1267</th><th>3970</th><th>3825</th><th>3000</th><th>2615</th><th>1284</th><th>1255</th><th>3991</th><th>2137</th><th>1552</th><th>2121</th><th>3777</th><th>4732</th><th>1219</th><th>4278</th><th>2296</th><th>2197</th><th>4824</th><th>4639</th><th>2456</th><th>1221</th><th>3431</th><th>3080</th><th>4590</th><th>4703</th><th>3607</th><th>4587</th><th>2417</th><th>Member_number</th></tr><tr><td>f64</td><td>f64</td><td>f64</td><td>f64</td><td>f64</td><td>f64</td><td>f64</td><td>f64</td><td>f64</td><td>f64</td><td>f64</td><td>f64</td><td>f64</td><td>f64</td><td>f64</td><td>f64</td><td>f64</td><td>f64</td><td>f64</td><td>f64</td><td>f64</td><td>f64</td><td>f64</td><td>f64</td><td>f64</td><td>f64</td><td>f64</td><td>f64</td><td>f64</td><td>f64</td><td>f64</td><td>f64</td><td>f64</td><td>f64</td><td>f64</td><td>f64</td><td>f64</td><td>&hellip;</td><td>f64</td><td>f64</td><td>f64</td><td>f64</td><td>f64</td><td>f64</td><td>f64</td><td>f64</td><td>f64</td><td>f64</td><td>f64</td><td>f64</td><td>f64</td><td>f64</td><td>f64</td><td>f64</td><td>f64</td><td>f64</td><td>f64</td><td>f64</td><td>f64</td><td>f64</td><td>f64</td><td>f64</td><td>f64</td><td>f64</td><td>f64</td><td>f64</td><td>f64</td><td>f64</td><td>f64</td><td>f64</td><td>f64</td><td>f64</td><td>f64</td><td>f64</td><td>i64</td></tr></thead><tbody><tr><td>1.0</td><td>0.190693</td><td>0.1</td><td>0.129099</td><td>0.141421</td><td>0.26968</td><td>0.091287</td><td>0.223607</td><td>0.111803</td><td>0.33541</td><td>0.3</td><td>0.20702</td><td>0.074536</td><td>0.095346</td><td>0.0</td><td>0.383482</td><td>0.0</td><td>0.372678</td><td>0.105409</td><td>0.282843</td><td>0.253546</td><td>0.182574</td><td>0.182574</td><td>0.316228</td><td>0.119523</td><td>0.175412</td><td>0.0</td><td>0.095346</td><td>0.365148</td><td>0.141421</td><td>0.149071</td><td>0.158114</td><td>0.0</td><td>0.358569</td><td>0.2</td><td>0.2</td><td>0.105409</td><td>&hellip;</td><td>0.129099</td><td>0.0</td><td>0.0</td><td>0.0</td><td>0.0</td><td>0.0</td><td>0.0</td><td>0.0</td><td>0.223607</td><td>0.0</td><td>0.0</td><td>0.0</td><td>0.158114</td><td>0.158114</td><td>0.0</td><td>0.0</td><td>0.158114</td><td>0.223607</td><td>0.0</td><td>0.223607</td><td>0.223607</td><td>0.0</td><td>0.0</td><td>0.0</td><td>0.223607</td><td>0.0</td><td>0.0</td><td>0.0</td><td>0.223607</td><td>0.0</td><td>0.0</td><td>0.223607</td><td>0.0</td><td>0.0</td><td>0.0</td><td>0.0</td><td>1808</td></tr><tr><td>0.190693</td><td>1.0</td><td>0.190693</td><td>0.246183</td><td>0.26968</td><td>0.128565</td><td>0.261116</td><td>0.355335</td><td>0.1066</td><td>0.213201</td><td>0.286039</td><td>0.197386</td><td>0.071067</td><td>0.181818</td><td>0.190693</td><td>0.365636</td><td>0.0</td><td>0.284268</td><td>0.201008</td><td>0.3371</td><td>0.161165</td><td>0.348155</td><td>0.261116</td><td>0.301511</td><td>0.113961</td><td>0.167248</td><td>0.0</td><td>0.181818</td><td>0.261116</td><td>0.0</td><td>0.284268</td><td>0.150756</td><td>0.1066</td><td>0.113961</td><td>0.190693</td><td>0.095346</td><td>0.301511</td><td>&hellip;</td><td>0.0</td><td>0.213201</td><td>0.0</td><td>0.213201</td><td>0.213201</td><td>0.150756</td><td>0.0</td><td>0.213201</td><td>0.426401</td><td>0.0</td><td>0.213201</td><td>0.0</td><td>0.150756</td><td>0.0</td><td>0.0</td><td>0.0</td><td>0.0</td><td>0.0</td><td>0.150756</td><td>0.213201</td><td>0.0</td><td>0.0</td><td>0.0</td><td>0.213201</td><td>0.0</td><td>0.0</td><td>0.213201</td><td>0.0</td><td>0.0</td><td>0.0</td><td>0.0</td><td>0.0</td><td>0.0</td><td>0.0</td><td>0.0</td><td>0.0</td><td>2552</td></tr><tr><td>0.1</td><td>0.190693</td><td>1.0</td><td>0.129099</td><td>0.141421</td><td>0.13484</td><td>0.182574</td><td>0.298142</td><td>0.0</td><td>0.0</td><td>0.1</td><td>0.069007</td><td>0.149071</td><td>0.190693</td><td>0.1</td><td>0.230089</td><td>0.0</td><td>0.298142</td><td>0.210819</td><td>0.212132</td><td>0.338062</td><td>0.091287</td><td>0.182574</td><td>0.105409</td><td>0.119523</td><td>0.0</td><td>0.119523</td><td>0.190693</td><td>0.182574</td><td>0.141421</td><td>0.149071</td><td>0.395285</td><td>0.223607</td><td>0.239046</td><td>0.1</td><td>0.2</td><td>0.316228</td><td>&hellip;</td><td>0.0</td><td>0.0</td><td>0.0</td><td>0.0</td><td>0.0</td><td>0.0</td><td>0.0</td><td>0.447214</td><td>0.0</td><td>0.0</td><td>0.0</td><td>0.223607</td><td>0.0</td><td>0.0</td><td>0.0</td><td>0.0</td><td>0.0</td><td>0.0</td><td>0.0</td><td>0.0</td><td>0.0</td><td>0.0</td><td>0.158114</td><td>0.223607</td><td>0.223607</td><td>0.0</td><td>0.223607</td><td>0.223607</td><td>0.0</td><td>0.0</td><td>0.0</td><td>0.0</td><td>0.0</td><td>0.0</td><td>0.0</td><td>0.0</td><td>2300</td></tr><tr><td>0.129099</td><td>0.246183</td><td>0.129099</td><td>1.0</td><td>0.182574</td><td>0.261116</td><td>0.353553</td><td>0.19245</td><td>0.0</td><td>0.433013</td><td>0.129099</td><td>0.267261</td><td>0.288675</td><td>0.123091</td><td>0.387298</td><td>0.19803</td><td>0.0</td><td>0.288675</td><td>0.136083</td><td>0.456435</td><td>0.218218</td><td>0.353553</td><td>0.0</td><td>0.272166</td><td>0.0</td><td>0.226455</td><td>0.154303</td><td>0.246183</td><td>0.235702</td><td>0.0</td><td>0.096225</td><td>0.204124</td><td>0.288675</td><td>0.308607</td><td>0.129099</td><td>0.129099</td><td>0.136083</td><td>&hellip;</td><td>0.166667</td><td>0.0</td><td>0.0</td><td>0.0</td><td>0.0</td><td>0.204124</td><td>0.204124</td><td>0.288675</td><td>0.0</td><td>0.0</td><td>0.288675</td><td>0.0</td><td>0.0</td><td>0.0</td><td>0.288675</td><td>0.0</td><td>0.0</td><td>0.0</td><td>0.204124</td><td>0.0</td><td>0.288675</td><td>0.0</td><td>0.204124</td><td>0.57735</td><td>0.288675</td><td>0.0</td><td>0.0</td><td>0.0</td><td>0.0</td><td>0.0</td><td>0.288675</td><td>0.288675</td><td>0.288675</td><td>0.0</td><td>0.0</td><td>0.0</td><td>1187</td></tr><tr><td>0.141421</td><td>0.26968</td><td>0.141421</td><td>0.182574</td><td>1.0</td><td>0.286039</td><td>0.129099</td><td>0.105409</td><td>0.158114</td><td>0.158114</td><td>0.141421</td><td>0.19518</td><td>0.210819</td><td>0.13484</td><td>0.141421</td><td>0.21693</td><td>0.0</td><td>0.210819</td><td>0.149071</td><td>0.3</td><td>0.0</td><td>0.258199</td><td>0.129099</td><td>0.298142</td><td>0.0</td><td>0.0</td><td>0.0</td><td>0.13484</td><td>0.258199</td><td>0.0</td><td>0.316228</td><td>0.111803</td><td>0.158114</td><td>0.169031</td><td>0.141421</td><td>0.0</td><td>0.149071</td><td>&hellip;</td><td>0.0</td><td>0.0</td><td>0.0</td><td>0.0</td><td>0.0</td><td>0.0</td><td>0.0</td><td>0.316228</td><td>0.316228</td><td>0.0</td><td>0.0</td><td>0.0</td><td>0.0</td><td>0.0</td><td>0.0</td><td>0.0</td><td>0.0</td><td>0.0</td><td>0.0</td><td>0.316228</td><td>0.0</td><td>0.0</td><td>0.0</td><td>0.316228</td><td>0.0</td><td>0.0</td><td>0.0</td><td>0.0</td><td>0.0</td><td>0.0</td><td>0.0</td><td>0.0</td><td>0.0</td><td>0.0</td><td>0.0</td><td>0.0</td><td>3037</td></tr><tr><td>&hellip;</td><td>&hellip;</td><td>&hellip;</td><td>&hellip;</td><td>&hellip;</td><td>&hellip;</td><td>&hellip;</td><td>&hellip;</td><td>&hellip;</td><td>&hellip;</td><td>&hellip;</td><td>&hellip;</td><td>&hellip;</td><td>&hellip;</td><td>&hellip;</td><td>&hellip;</td><td>&hellip;</td><td>&hellip;</td><td>&hellip;</td><td>&hellip;</td><td>&hellip;</td><td>&hellip;</td><td>&hellip;</td><td>&hellip;</td><td>&hellip;</td><td>&hellip;</td><td>&hellip;</td><td>&hellip;</td><td>&hellip;</td><td>&hellip;</td><td>&hellip;</td><td>&hellip;</td><td>&hellip;</td><td>&hellip;</td><td>&hellip;</td><td>&hellip;</td><td>&hellip;</td><td>&hellip;</td><td>&hellip;</td><td>&hellip;</td><td>&hellip;</td><td>&hellip;</td><td>&hellip;</td><td>&hellip;</td><td>&hellip;</td><td>&hellip;</td><td>&hellip;</td><td>&hellip;</td><td>&hellip;</td><td>&hellip;</td><td>&hellip;</td><td>&hellip;</td><td>&hellip;</td><td>&hellip;</td><td>&hellip;</td><td>&hellip;</td><td>&hellip;</td><td>&hellip;</td><td>&hellip;</td><td>&hellip;</td><td>&hellip;</td><td>&hellip;</td><td>&hellip;</td><td>&hellip;</td><td>&hellip;</td><td>&hellip;</td><td>&hellip;</td><td>&hellip;</td><td>&hellip;</td><td>&hellip;</td><td>&hellip;</td><td>&hellip;</td><td>&hellip;</td><td>&hellip;</td><td>&hellip;</td></tr><tr><td>0.223607</td><td>0.0</td><td>0.0</td><td>0.288675</td><td>0.0</td><td>0.150756</td><td>0.204124</td><td>0.0</td><td>0.0</td><td>0.25</td><td>0.0</td><td>0.308607</td><td>0.166667</td><td>0.0</td><td>0.223607</td><td>0.0</td><td>0.0</td><td>0.166667</td><td>0.0</td><td>0.316228</td><td>0.188982</td><td>0.0</td><td>0.0</td><td>0.0</td><td>0.0</td><td>0.196116</td><td>0.0</td><td>0.0</td><td>0.0</td><td>0.0</td><td>0.0</td><td>0.0</td><td>0.0</td><td>0.0</td><td>0.0</td><td>0.223607</td><td>0.0</td><td>&hellip;</td><td>0.288675</td><td>0.0</td><td>0.0</td><td>0.0</td><td>0.0</td><td>0.0</td><td>0.0</td><td>0.0</td><td>0.0</td><td>0.0</td><td>0.0</td><td>0.0</td><td>0.0</td><td>0.0</td><td>0.5</td><td>0.0</td><td>0.0</td><td>0.0</td><td>0.353553</td><td>0.0</td><td>0.5</td><td>0.0</td><td>0.353553</td><td>0.0</td><td>0.0</td><td>0.0</td><td>0.0</td><td>0.0</td><td>0.0</td><td>0.0</td><td>0.0</td><td>1.0</td><td>0.5</td><td>0.0</td><td>0.0</td><td>0.0</td><td>4590</td></tr><tr><td>0.0</td><td>0.0</td><td>0.0</td><td>0.288675</td><td>0.0</td><td>0.301511</td><td>0.204124</td><td>0.0</td><td>0.0</td><td>0.25</td><td>0.0</td><td>0.308607</td><td>0.166667</td><td>0.0</td><td>0.447214</td><td>0.171499</td><td>0.0</td><td>0.166667</td><td>0.235702</td><td>0.316228</td><td>0.188982</td><td>0.0</td><td>0.204124</td><td>0.235702</td><td>0.0</td><td>0.392232</td><td>0.0</td><td>0.0</td><td>0.204124</td><td>0.316228</td><td>0.166667</td><td>0.176777</td><td>0.0</td><td>0.0</td><td>0.0</td><td>0.0</td><td>0.0</td><td>&hellip;</td><td>0.57735</td><td>0.0</td><td>0.0</td><td>0.0</td><td>0.0</td><td>0.0</td><td>0.0</td><td>0.0</td><td>0.0</td><td>0.0</td><td>0.0</td><td>0.0</td><td>0.0</td><td>0.0</td><td>0.5</td><td>0.0</td><td>0.0</td><td>0.0</td><td>0.353553</td><td>0.0</td><td>0.5</td><td>0.0</td><td>0.353553</td><td>0.0</td><td>0.0</td><td>0.0</td><td>0.0</td><td>0.0</td><td>0.0</td><td>0.0</td><td>0.5</td><td>0.5</td><td>1.0</td><td>0.0</td><td>0.0</td><td>0.0</td><td>4703</td></tr><tr><td>0.0</td><td>0.0</td><td>0.0</td><td>0.0</td><td>0.0</td><td>0.0</td><td>0.0</td><td>0.0</td><td>0.0</td><td>0.0</td><td>0.0</td><td>0.154303</td><td>0.0</td><td>0.213201</td><td>0.0</td><td>0.0</td><td>0.0</td><td>0.166667</td><td>0.0</td><td>0.0</td><td>0.0</td><td>0.0</td><td>0.204124</td><td>0.0</td><td>0.0</td><td>0.0</td><td>0.0</td><td>0.0</td><td>0.0</td><td>0.0</td><td>0.0</td><td>0.0</td><td>0.0</td><td>0.0</td><td>0.0</td><td>0.0</td><td>0.0</td><td>&hellip;</td><td>0.0</td><td>0.0</td><td>0.0</td><td>0.0</td><td>0.0</td><td>0.0</td><td>0.353553</td><td>0.0</td><td>0.0</td><td>0.0</td><td>0.0</td><td>0.0</td><td>0.0</td><td>0.353553</td><td>0.0</td><td>0.5</td><td>0.0</td><td>0.0</td><td>0.0</td><td>0.0</td><td>0.0</td><td>0.0</td><td>0.0</td><td>0.0</td><td>0.0</td><td>0.0</td><td>0.0</td><td>0.0</td><td>0.0</td><td>0.0</td><td>0.0</td><td>0.0</td><td>0.0</td><td>1.0</td><td>0.0</td><td>0.0</td><td>3607</td></tr><tr><td>0.0</td><td>0.0</td><td>0.0</td><td>0.0</td><td>0.0</td><td>0.0</td><td>0.0</td><td>0.0</td><td>0.0</td><td>0.0</td><td>0.0</td><td>0.0</td><td>0.0</td><td>0.0</td><td>0.223607</td><td>0.0</td><td>0.0</td><td>0.0</td><td>0.0</td><td>0.158114</td><td>0.0</td><td>0.0</td><td>0.0</td><td>0.0</td><td>0.0</td><td>0.0</td><td>0.0</td><td>0.0</td><td>0.0</td><td>0.0</td><td>0.0</td><td>0.0</td><td>0.0</td><td>0.0</td><td>0.0</td><td>0.0</td><td>0.0</td><td>&hellip;</td><td>0.0</td><td>0.0</td><td>0.0</td><td>0.0</td><td>0.0</td><td>0.0</td><td>0.0</td><td>0.0</td><td>0.0</td><td>0.0</td><td>0.0</td><td>0.0</td><td>0.0</td><td>0.0</td><td>0.0</td><td>0.0</td><td>0.0</td><td>0.0</td><td>0.0</td><td>0.0</td><td>0.0</td><td>0.0</td><td>0.0</td><td>0.0</td><td>0.0</td><td>0.0</td><td>0.0</td><td>0.0</td><td>0.0</td><td>0.0</td><td>0.0</td><td>0.0</td><td>0.0</td><td>0.0</td><td>1.0</td><td>0.0</td><td>4587</td></tr><tr><td>0.0</td><td>0.0</td><td>0.0</td><td>0.0</td><td>0.0</td><td>0.150756</td><td>0.0</td><td>0.166667</td><td>0.25</td><td>0.0</td><td>0.0</td><td>0.0</td><td>0.166667</td><td>0.0</td><td>0.0</td><td>0.0</td><td>0.0</td><td>0.0</td><td>0.0</td><td>0.0</td><td>0.0</td><td>0.0</td><td>0.0</td><td>0.0</td><td>0.0</td><td>0.0</td><td>0.0</td><td>0.213201</td><td>0.204124</td><td>0.0</td><td>0.0</td><td>0.0</td><td>0.0</td><td>0.0</td><td>0.0</td><td>0.0</td><td>0.0</td><td>&hellip;</td><td>0.0</td><td>0.0</td><td>0.408248</td><td>0.5</td><td>0.0</td><td>0.0</td><td>0.0</td><td>0.0</td><td>0.0</td><td>0.0</td><td>0.0</td><td>0.0</td><td>0.0</td><td>0.0</td><td>0.0</td><td>0.0</td><td>0.0</td><td>0.0</td><td>0.0</td><td>0.0</td><td>0.0</td><td>0.0</td><td>0.353553</td><td>0.0</td><td>0.0</td><td>0.5</td><td>0.0</td><td>0.0</td><td>0.0</td><td>0.0</td><td>0.0</td><td>0.0</td><td>0.0</td><td>0.0</td><td>0.0</td><td>1.0</td><td>2417</td></tr></tbody></table></div>"
      ],
      "text/plain": [
       "shape: (3_898, 3_899)\n",
       "┌──────────┬──────────┬──────────┬──────────┬───┬──────┬──────┬──────┬───────────────┐\n",
       "│ 1808     ┆ 2552     ┆ 2300     ┆ 1187     ┆ … ┆ 3607 ┆ 4587 ┆ 2417 ┆ Member_number │\n",
       "│ ---      ┆ ---      ┆ ---      ┆ ---      ┆   ┆ ---  ┆ ---  ┆ ---  ┆ ---           │\n",
       "│ f64      ┆ f64      ┆ f64      ┆ f64      ┆   ┆ f64  ┆ f64  ┆ f64  ┆ i64           │\n",
       "╞══════════╪══════════╪══════════╪══════════╪═══╪══════╪══════╪══════╪═══════════════╡\n",
       "│ 1.0      ┆ 0.190693 ┆ 0.1      ┆ 0.129099 ┆ … ┆ 0.0  ┆ 0.0  ┆ 0.0  ┆ 1808          │\n",
       "│ 0.190693 ┆ 1.0      ┆ 0.190693 ┆ 0.246183 ┆ … ┆ 0.0  ┆ 0.0  ┆ 0.0  ┆ 2552          │\n",
       "│ 0.1      ┆ 0.190693 ┆ 1.0      ┆ 0.129099 ┆ … ┆ 0.0  ┆ 0.0  ┆ 0.0  ┆ 2300          │\n",
       "│ 0.129099 ┆ 0.246183 ┆ 0.129099 ┆ 1.0      ┆ … ┆ 0.0  ┆ 0.0  ┆ 0.0  ┆ 1187          │\n",
       "│ 0.141421 ┆ 0.26968  ┆ 0.141421 ┆ 0.182574 ┆ … ┆ 0.0  ┆ 0.0  ┆ 0.0  ┆ 3037          │\n",
       "│ …        ┆ …        ┆ …        ┆ …        ┆ … ┆ …    ┆ …    ┆ …    ┆ …             │\n",
       "│ 0.223607 ┆ 0.0      ┆ 0.0      ┆ 0.288675 ┆ … ┆ 0.0  ┆ 0.0  ┆ 0.0  ┆ 4590          │\n",
       "│ 0.0      ┆ 0.0      ┆ 0.0      ┆ 0.288675 ┆ … ┆ 0.0  ┆ 0.0  ┆ 0.0  ┆ 4703          │\n",
       "│ 0.0      ┆ 0.0      ┆ 0.0      ┆ 0.0      ┆ … ┆ 1.0  ┆ 0.0  ┆ 0.0  ┆ 3607          │\n",
       "│ 0.0      ┆ 0.0      ┆ 0.0      ┆ 0.0      ┆ … ┆ 0.0  ┆ 1.0  ┆ 0.0  ┆ 4587          │\n",
       "│ 0.0      ┆ 0.0      ┆ 0.0      ┆ 0.0      ┆ … ┆ 0.0  ┆ 0.0  ┆ 1.0  ┆ 2417          │\n",
       "└──────────┴──────────┴──────────┴──────────┴───┴──────┴──────┴──────┴───────────────┘"
      ]
     },
     "execution_count": 11,
     "metadata": {},
     "output_type": "execute_result"
    }
   ],
   "source": [
    "customer_item_matrix_without_member_number = customer_item_matrix.drop(\"Member_number\")\n",
    "\n",
    "user_user_sim_matrix = pl.DataFrame(\n",
    "    cosine_similarity(customer_item_matrix_without_member_number.to_pandas()),\n",
    "    schema=customer_item_matrix[\"Member_number\"].cast(pl.String).to_list(),\n",
    ")\n",
    "\n",
    "user_user_sim_matrix = user_user_sim_matrix.with_columns(customer_item_matrix_idx)\n",
    "user_user_sim_matrix"
   ]
  },
  {
   "cell_type": "markdown",
   "metadata": {},
   "source": [
    "## Question 2.1\n",
    "\n",
    "列出會員編號1000顧客購買過的商品名稱。"
   ]
  },
  {
   "cell_type": "code",
   "execution_count": 12,
   "metadata": {},
   "outputs": [
    {
     "data": {
      "text/html": [
       "<div><style>\n",
       ".dataframe > thead > tr,\n",
       ".dataframe > tbody > tr {\n",
       "  text-align: right;\n",
       "  white-space: pre-wrap;\n",
       "}\n",
       "</style>\n",
       "<small>shape: (11,)</small><table border=\"1\" class=\"dataframe\"><thead><tr><th>Product</th></tr><tr><td>str</td></tr></thead><tbody><tr><td>&quot;whole milk&quot;</td></tr><tr><td>&quot;yogurt&quot;</td></tr><tr><td>&quot;sausage&quot;</td></tr><tr><td>&quot;pastry&quot;</td></tr><tr><td>&quot;canned beer&quot;</td></tr><tr><td>&hellip;</td></tr><tr><td>&quot;soda&quot;</td></tr><tr><td>&quot;pickled vegetables&quot;</td></tr><tr><td>&quot;salty snack&quot;</td></tr><tr><td>&quot;hygiene articles&quot;</td></tr><tr><td>&quot;semi-finished bread&quot;</td></tr></tbody></table></div>"
      ],
      "text/plain": [
       "shape: (11,)\n",
       "Series: 'Product' [str]\n",
       "[\n",
       "\t\"whole milk\"\n",
       "\t\"yogurt\"\n",
       "\t\"sausage\"\n",
       "\t\"pastry\"\n",
       "\t\"canned beer\"\n",
       "\t…\n",
       "\t\"soda\"\n",
       "\t\"pickled vegetables\"\n",
       "\t\"salty snack\"\n",
       "\t\"hygiene articles\"\n",
       "\t\"semi-finished bread\"\n",
       "]"
      ]
     },
     "execution_count": 12,
     "metadata": {},
     "output_type": "execute_result"
    }
   ],
   "source": [
    "product_purchased_by_1000 = (\n",
    "    customer_item_matrix.filter(pl.col(\"Member_number\") == 1000)\n",
    "    .transpose(include_header=True, header_name=\"Product\", column_names=[\"Purchased\"])\n",
    "    .filter(pl.col(\"Purchased\") == 1)\n",
    "    .to_series()\n",
    ")\n",
    "\n",
    "product_purchased_by_1000"
   ]
  },
  {
   "cell_type": "markdown",
   "metadata": {},
   "source": [
    "## Question 2.2\n",
    "\n",
    "列出會員編號2626顧客購買過的商品名稱。"
   ]
  },
  {
   "cell_type": "code",
   "execution_count": 13,
   "metadata": {},
   "outputs": [
    {
     "data": {
      "text/html": [
       "<div><style>\n",
       ".dataframe > thead > tr,\n",
       ".dataframe > tbody > tr {\n",
       "  text-align: right;\n",
       "  white-space: pre-wrap;\n",
       "}\n",
       "</style>\n",
       "<small>shape: (7,)</small><table border=\"1\" class=\"dataframe\"><thead><tr><th>Product</th></tr><tr><td>str</td></tr></thead><tbody><tr><td>&quot;whole milk&quot;</td></tr><tr><td>&quot;other vegetables&quot;</td></tr><tr><td>&quot;chocolate&quot;</td></tr><tr><td>&quot;yogurt&quot;</td></tr><tr><td>&quot;canned beer&quot;</td></tr><tr><td>&quot;soda&quot;</td></tr><tr><td>&quot;hygiene articles&quot;</td></tr></tbody></table></div>"
      ],
      "text/plain": [
       "shape: (7,)\n",
       "Series: 'Product' [str]\n",
       "[\n",
       "\t\"whole milk\"\n",
       "\t\"other vegetables\"\n",
       "\t\"chocolate\"\n",
       "\t\"yogurt\"\n",
       "\t\"canned beer\"\n",
       "\t\"soda\"\n",
       "\t\"hygiene articles\"\n",
       "]"
      ]
     },
     "execution_count": 13,
     "metadata": {},
     "output_type": "execute_result"
    }
   ],
   "source": [
    "product_purchased_by_2626 = (\n",
    "    customer_item_matrix.filter(pl.col(\"Member_number\") == 2626)\n",
    "    .transpose(include_header=True, header_name=\"Product\", column_names=[\"Purchased\"])\n",
    "    .filter(pl.col(\"Purchased\") == 1)\n",
    "    .to_series()\n",
    ")\n",
    "\n",
    "product_purchased_by_2626"
   ]
  },
  {
   "cell_type": "markdown",
   "metadata": {},
   "source": [
    "## Question 2.3\n",
    "\n",
    "列出會員編號1000有買過，但2626沒有買過的商品。"
   ]
  },
  {
   "cell_type": "code",
   "execution_count": 14,
   "metadata": {},
   "outputs": [
    {
     "data": {
      "text/plain": [
       "{'misc. beverages',\n",
       " 'pastry',\n",
       " 'pickled vegetables',\n",
       " 'salty snack',\n",
       " 'sausage',\n",
       " 'semi-finished bread'}"
      ]
     },
     "execution_count": 14,
     "metadata": {},
     "output_type": "execute_result"
    }
   ],
   "source": [
    "products_id_not_purchased_by_2626 = set(product_purchased_by_1000) - set(product_purchased_by_2626)\n",
    "\n",
    "products_id_not_purchased_by_2626"
   ]
  },
  {
   "cell_type": "markdown",
   "metadata": {},
   "source": [
    "# Question 3\n",
    "\n",
    "請利用「產品導向協同過濾法」，找出通常會跟牛肉(beef)一起購買的另外五個商品名稱。\n",
    "\n",
    "> 貼心小提醒：因為結果會包含牛肉，所以記得總共要輸出6個品項哦！"
   ]
  },
  {
   "cell_type": "code",
   "execution_count": 15,
   "metadata": {},
   "outputs": [
    {
     "data": {
      "text/html": [
       "<div><style>\n",
       ".dataframe > thead > tr,\n",
       ".dataframe > tbody > tr {\n",
       "  text-align: right;\n",
       "  white-space: pre-wrap;\n",
       "}\n",
       "</style>\n",
       "<small>shape: (167, 3_899)</small><table border=\"1\" class=\"dataframe\"><thead><tr><th>itemDescription</th><th>1808</th><th>2552</th><th>2300</th><th>1187</th><th>3037</th><th>4941</th><th>4501</th><th>3803</th><th>2762</th><th>4119</th><th>1340</th><th>2193</th><th>1997</th><th>4546</th><th>4736</th><th>1959</th><th>1974</th><th>2421</th><th>1513</th><th>1905</th><th>2810</th><th>2867</th><th>3962</th><th>1088</th><th>4976</th><th>4056</th><th>3611</th><th>1420</th><th>4286</th><th>4918</th><th>4783</th><th>3709</th><th>4289</th><th>1559</th><th>2900</th><th>3527</th><th>&hellip;</th><th>4143</th><th>2679</th><th>3624</th><th>1310</th><th>4083</th><th>1469</th><th>3933</th><th>2881</th><th>1084</th><th>1267</th><th>3970</th><th>3825</th><th>3000</th><th>2615</th><th>1284</th><th>1255</th><th>3991</th><th>2137</th><th>1552</th><th>2121</th><th>3777</th><th>4732</th><th>1219</th><th>4278</th><th>2296</th><th>2197</th><th>4824</th><th>4639</th><th>2456</th><th>1221</th><th>3431</th><th>3080</th><th>4590</th><th>4703</th><th>3607</th><th>4587</th><th>2417</th></tr><tr><td>str</td><td>i64</td><td>i64</td><td>i64</td><td>i64</td><td>i64</td><td>i64</td><td>i64</td><td>i64</td><td>i64</td><td>i64</td><td>i64</td><td>i64</td><td>i64</td><td>i64</td><td>i64</td><td>i64</td><td>i64</td><td>i64</td><td>i64</td><td>i64</td><td>i64</td><td>i64</td><td>i64</td><td>i64</td><td>i64</td><td>i64</td><td>i64</td><td>i64</td><td>i64</td><td>i64</td><td>i64</td><td>i64</td><td>i64</td><td>i64</td><td>i64</td><td>i64</td><td>&hellip;</td><td>i64</td><td>i64</td><td>i64</td><td>i64</td><td>i64</td><td>i64</td><td>i64</td><td>i64</td><td>i64</td><td>i64</td><td>i64</td><td>i64</td><td>i64</td><td>i64</td><td>i64</td><td>i64</td><td>i64</td><td>i64</td><td>i64</td><td>i64</td><td>i64</td><td>i64</td><td>i64</td><td>i64</td><td>i64</td><td>i64</td><td>i64</td><td>i64</td><td>i64</td><td>i64</td><td>i64</td><td>i64</td><td>i64</td><td>i64</td><td>i64</td><td>i64</td><td>i64</td></tr></thead><tbody><tr><td>&quot;tropical fruit&quot;</td><td>1</td><td>1</td><td>0</td><td>0</td><td>0</td><td>0</td><td>1</td><td>1</td><td>0</td><td>1</td><td>0</td><td>0</td><td>0</td><td>1</td><td>0</td><td>1</td><td>0</td><td>0</td><td>0</td><td>1</td><td>0</td><td>0</td><td>1</td><td>1</td><td>1</td><td>2</td><td>0</td><td>0</td><td>0</td><td>0</td><td>0</td><td>0</td><td>0</td><td>0</td><td>0</td><td>0</td><td>&hellip;</td><td>0</td><td>0</td><td>0</td><td>0</td><td>0</td><td>0</td><td>0</td><td>0</td><td>0</td><td>0</td><td>0</td><td>0</td><td>0</td><td>0</td><td>0</td><td>0</td><td>0</td><td>0</td><td>0</td><td>0</td><td>0</td><td>0</td><td>0</td><td>0</td><td>0</td><td>0</td><td>0</td><td>0</td><td>0</td><td>0</td><td>0</td><td>0</td><td>0</td><td>0</td><td>0</td><td>0</td><td>0</td></tr><tr><td>&quot;whole milk&quot;</td><td>1</td><td>2</td><td>0</td><td>0</td><td>1</td><td>1</td><td>0</td><td>0</td><td>2</td><td>2</td><td>4</td><td>3</td><td>0</td><td>0</td><td>0</td><td>1</td><td>0</td><td>2</td><td>0</td><td>1</td><td>0</td><td>1</td><td>0</td><td>1</td><td>0</td><td>0</td><td>0</td><td>0</td><td>1</td><td>0</td><td>1</td><td>0</td><td>0</td><td>0</td><td>3</td><td>0</td><td>&hellip;</td><td>0</td><td>0</td><td>0</td><td>0</td><td>0</td><td>0</td><td>0</td><td>0</td><td>0</td><td>1</td><td>0</td><td>0</td><td>0</td><td>0</td><td>0</td><td>0</td><td>0</td><td>0</td><td>0</td><td>0</td><td>1</td><td>0</td><td>0</td><td>0</td><td>0</td><td>0</td><td>0</td><td>0</td><td>0</td><td>0</td><td>0</td><td>0</td><td>0</td><td>0</td><td>0</td><td>0</td><td>0</td></tr><tr><td>&quot;pip fruit&quot;</td><td>0</td><td>0</td><td>1</td><td>0</td><td>0</td><td>0</td><td>0</td><td>1</td><td>0</td><td>0</td><td>0</td><td>1</td><td>2</td><td>1</td><td>0</td><td>1</td><td>0</td><td>0</td><td>0</td><td>0</td><td>1</td><td>0</td><td>0</td><td>0</td><td>0</td><td>0</td><td>0</td><td>0</td><td>0</td><td>0</td><td>0</td><td>0</td><td>0</td><td>0</td><td>0</td><td>1</td><td>&hellip;</td><td>0</td><td>0</td><td>0</td><td>0</td><td>0</td><td>0</td><td>0</td><td>0</td><td>1</td><td>0</td><td>0</td><td>0</td><td>0</td><td>0</td><td>0</td><td>0</td><td>0</td><td>0</td><td>0</td><td>0</td><td>0</td><td>0</td><td>0</td><td>0</td><td>0</td><td>0</td><td>0</td><td>0</td><td>0</td><td>0</td><td>0</td><td>0</td><td>0</td><td>0</td><td>0</td><td>0</td><td>0</td></tr><tr><td>&quot;other vegetables&quot;</td><td>0</td><td>1</td><td>1</td><td>1</td><td>1</td><td>0</td><td>2</td><td>1</td><td>0</td><td>0</td><td>0</td><td>0</td><td>0</td><td>1</td><td>2</td><td>1</td><td>0</td><td>2</td><td>1</td><td>2</td><td>0</td><td>2</td><td>0</td><td>1</td><td>0</td><td>0</td><td>0</td><td>1</td><td>2</td><td>0</td><td>3</td><td>1</td><td>1</td><td>1</td><td>0</td><td>0</td><td>&hellip;</td><td>1</td><td>0</td><td>0</td><td>0</td><td>0</td><td>0</td><td>0</td><td>0</td><td>1</td><td>0</td><td>0</td><td>0</td><td>0</td><td>0</td><td>0</td><td>0</td><td>0</td><td>0</td><td>0</td><td>0</td><td>0</td><td>0</td><td>0</td><td>0</td><td>1</td><td>0</td><td>0</td><td>0</td><td>0</td><td>0</td><td>0</td><td>0</td><td>0</td><td>0</td><td>0</td><td>0</td><td>0</td></tr><tr><td>&quot;rolls/buns&quot;</td><td>1</td><td>0</td><td>0</td><td>0</td><td>0</td><td>2</td><td>0</td><td>1</td><td>0</td><td>0</td><td>2</td><td>0</td><td>0</td><td>0</td><td>0</td><td>1</td><td>0</td><td>1</td><td>0</td><td>0</td><td>0</td><td>0</td><td>2</td><td>0</td><td>0</td><td>1</td><td>0</td><td>1</td><td>1</td><td>1</td><td>1</td><td>0</td><td>0</td><td>0</td><td>0</td><td>0</td><td>&hellip;</td><td>0</td><td>1</td><td>0</td><td>0</td><td>0</td><td>0</td><td>0</td><td>0</td><td>0</td><td>0</td><td>0</td><td>0</td><td>0</td><td>1</td><td>1</td><td>0</td><td>0</td><td>0</td><td>1</td><td>0</td><td>0</td><td>0</td><td>0</td><td>0</td><td>0</td><td>0</td><td>0</td><td>0</td><td>0</td><td>0</td><td>0</td><td>0</td><td>0</td><td>0</td><td>0</td><td>0</td><td>0</td></tr><tr><td>&hellip;</td><td>&hellip;</td><td>&hellip;</td><td>&hellip;</td><td>&hellip;</td><td>&hellip;</td><td>&hellip;</td><td>&hellip;</td><td>&hellip;</td><td>&hellip;</td><td>&hellip;</td><td>&hellip;</td><td>&hellip;</td><td>&hellip;</td><td>&hellip;</td><td>&hellip;</td><td>&hellip;</td><td>&hellip;</td><td>&hellip;</td><td>&hellip;</td><td>&hellip;</td><td>&hellip;</td><td>&hellip;</td><td>&hellip;</td><td>&hellip;</td><td>&hellip;</td><td>&hellip;</td><td>&hellip;</td><td>&hellip;</td><td>&hellip;</td><td>&hellip;</td><td>&hellip;</td><td>&hellip;</td><td>&hellip;</td><td>&hellip;</td><td>&hellip;</td><td>&hellip;</td><td>&hellip;</td><td>&hellip;</td><td>&hellip;</td><td>&hellip;</td><td>&hellip;</td><td>&hellip;</td><td>&hellip;</td><td>&hellip;</td><td>&hellip;</td><td>&hellip;</td><td>&hellip;</td><td>&hellip;</td><td>&hellip;</td><td>&hellip;</td><td>&hellip;</td><td>&hellip;</td><td>&hellip;</td><td>&hellip;</td><td>&hellip;</td><td>&hellip;</td><td>&hellip;</td><td>&hellip;</td><td>&hellip;</td><td>&hellip;</td><td>&hellip;</td><td>&hellip;</td><td>&hellip;</td><td>&hellip;</td><td>&hellip;</td><td>&hellip;</td><td>&hellip;</td><td>&hellip;</td><td>&hellip;</td><td>&hellip;</td><td>&hellip;</td><td>&hellip;</td><td>&hellip;</td><td>&hellip;</td></tr><tr><td>&quot;pudding powder&quot;</td><td>0</td><td>0</td><td>0</td><td>0</td><td>0</td><td>0</td><td>0</td><td>0</td><td>0</td><td>0</td><td>0</td><td>0</td><td>0</td><td>0</td><td>0</td><td>0</td><td>0</td><td>0</td><td>0</td><td>0</td><td>0</td><td>0</td><td>0</td><td>0</td><td>0</td><td>0</td><td>0</td><td>0</td><td>0</td><td>0</td><td>0</td><td>0</td><td>0</td><td>0</td><td>0</td><td>0</td><td>&hellip;</td><td>0</td><td>0</td><td>0</td><td>0</td><td>0</td><td>0</td><td>0</td><td>0</td><td>0</td><td>0</td><td>0</td><td>0</td><td>0</td><td>0</td><td>0</td><td>0</td><td>0</td><td>0</td><td>0</td><td>0</td><td>0</td><td>0</td><td>0</td><td>0</td><td>0</td><td>0</td><td>0</td><td>0</td><td>0</td><td>0</td><td>0</td><td>0</td><td>0</td><td>0</td><td>0</td><td>0</td><td>0</td></tr><tr><td>&quot;ready soups&quot;</td><td>0</td><td>0</td><td>0</td><td>0</td><td>0</td><td>0</td><td>0</td><td>0</td><td>0</td><td>0</td><td>0</td><td>0</td><td>0</td><td>0</td><td>0</td><td>0</td><td>0</td><td>0</td><td>0</td><td>0</td><td>0</td><td>0</td><td>0</td><td>0</td><td>0</td><td>0</td><td>0</td><td>0</td><td>0</td><td>0</td><td>0</td><td>0</td><td>0</td><td>0</td><td>0</td><td>0</td><td>&hellip;</td><td>0</td><td>0</td><td>0</td><td>0</td><td>0</td><td>0</td><td>0</td><td>0</td><td>0</td><td>0</td><td>0</td><td>0</td><td>0</td><td>0</td><td>0</td><td>0</td><td>0</td><td>0</td><td>0</td><td>0</td><td>0</td><td>0</td><td>0</td><td>0</td><td>0</td><td>0</td><td>0</td><td>0</td><td>0</td><td>0</td><td>0</td><td>0</td><td>0</td><td>0</td><td>0</td><td>0</td><td>0</td></tr><tr><td>&quot;make up remover&quot;</td><td>0</td><td>0</td><td>0</td><td>0</td><td>0</td><td>0</td><td>0</td><td>0</td><td>0</td><td>0</td><td>0</td><td>0</td><td>0</td><td>0</td><td>0</td><td>0</td><td>0</td><td>0</td><td>0</td><td>0</td><td>0</td><td>0</td><td>0</td><td>0</td><td>0</td><td>0</td><td>0</td><td>0</td><td>0</td><td>0</td><td>0</td><td>0</td><td>0</td><td>0</td><td>0</td><td>0</td><td>&hellip;</td><td>0</td><td>0</td><td>0</td><td>0</td><td>0</td><td>0</td><td>0</td><td>0</td><td>0</td><td>0</td><td>0</td><td>0</td><td>0</td><td>0</td><td>0</td><td>0</td><td>0</td><td>0</td><td>0</td><td>0</td><td>0</td><td>0</td><td>0</td><td>0</td><td>0</td><td>0</td><td>0</td><td>0</td><td>0</td><td>0</td><td>0</td><td>0</td><td>0</td><td>0</td><td>0</td><td>0</td><td>0</td></tr><tr><td>&quot;toilet cleaner&quot;</td><td>0</td><td>0</td><td>0</td><td>0</td><td>0</td><td>0</td><td>0</td><td>0</td><td>0</td><td>0</td><td>0</td><td>0</td><td>0</td><td>0</td><td>0</td><td>0</td><td>0</td><td>0</td><td>0</td><td>0</td><td>0</td><td>0</td><td>0</td><td>0</td><td>0</td><td>0</td><td>0</td><td>0</td><td>0</td><td>0</td><td>0</td><td>0</td><td>0</td><td>0</td><td>0</td><td>0</td><td>&hellip;</td><td>0</td><td>0</td><td>0</td><td>0</td><td>0</td><td>0</td><td>0</td><td>0</td><td>0</td><td>0</td><td>0</td><td>0</td><td>0</td><td>0</td><td>0</td><td>0</td><td>0</td><td>0</td><td>0</td><td>0</td><td>0</td><td>0</td><td>0</td><td>0</td><td>0</td><td>0</td><td>0</td><td>0</td><td>0</td><td>0</td><td>0</td><td>0</td><td>0</td><td>0</td><td>0</td><td>0</td><td>0</td></tr><tr><td>&quot;preservation products&quot;</td><td>0</td><td>0</td><td>0</td><td>0</td><td>0</td><td>0</td><td>0</td><td>0</td><td>0</td><td>0</td><td>0</td><td>0</td><td>0</td><td>0</td><td>0</td><td>0</td><td>0</td><td>0</td><td>0</td><td>0</td><td>0</td><td>0</td><td>0</td><td>0</td><td>0</td><td>0</td><td>0</td><td>0</td><td>0</td><td>0</td><td>0</td><td>0</td><td>0</td><td>0</td><td>0</td><td>0</td><td>&hellip;</td><td>0</td><td>0</td><td>0</td><td>0</td><td>0</td><td>0</td><td>0</td><td>0</td><td>0</td><td>0</td><td>0</td><td>0</td><td>0</td><td>0</td><td>0</td><td>0</td><td>0</td><td>0</td><td>0</td><td>0</td><td>0</td><td>0</td><td>0</td><td>0</td><td>0</td><td>0</td><td>0</td><td>0</td><td>0</td><td>0</td><td>0</td><td>0</td><td>0</td><td>0</td><td>0</td><td>0</td><td>0</td></tr></tbody></table></div>"
      ],
      "text/plain": [
       "shape: (167, 3_899)\n",
       "┌───────────────────────┬──────┬──────┬──────┬───┬──────┬──────┬──────┬──────┐\n",
       "│ itemDescription       ┆ 1808 ┆ 2552 ┆ 2300 ┆ … ┆ 4703 ┆ 3607 ┆ 4587 ┆ 2417 │\n",
       "│ ---                   ┆ ---  ┆ ---  ┆ ---  ┆   ┆ ---  ┆ ---  ┆ ---  ┆ ---  │\n",
       "│ str                   ┆ i64  ┆ i64  ┆ i64  ┆   ┆ i64  ┆ i64  ┆ i64  ┆ i64  │\n",
       "╞═══════════════════════╪══════╪══════╪══════╪═══╪══════╪══════╪══════╪══════╡\n",
       "│ tropical fruit        ┆ 1    ┆ 1    ┆ 0    ┆ … ┆ 0    ┆ 0    ┆ 0    ┆ 0    │\n",
       "│ whole milk            ┆ 1    ┆ 2    ┆ 0    ┆ … ┆ 0    ┆ 0    ┆ 0    ┆ 0    │\n",
       "│ pip fruit             ┆ 0    ┆ 0    ┆ 1    ┆ … ┆ 0    ┆ 0    ┆ 0    ┆ 0    │\n",
       "│ other vegetables      ┆ 0    ┆ 1    ┆ 1    ┆ … ┆ 0    ┆ 0    ┆ 0    ┆ 0    │\n",
       "│ rolls/buns            ┆ 1    ┆ 0    ┆ 0    ┆ … ┆ 0    ┆ 0    ┆ 0    ┆ 0    │\n",
       "│ …                     ┆ …    ┆ …    ┆ …    ┆ … ┆ …    ┆ …    ┆ …    ┆ …    │\n",
       "│ pudding powder        ┆ 0    ┆ 0    ┆ 0    ┆ … ┆ 0    ┆ 0    ┆ 0    ┆ 0    │\n",
       "│ ready soups           ┆ 0    ┆ 0    ┆ 0    ┆ … ┆ 0    ┆ 0    ┆ 0    ┆ 0    │\n",
       "│ make up remover       ┆ 0    ┆ 0    ┆ 0    ┆ … ┆ 0    ┆ 0    ┆ 0    ┆ 0    │\n",
       "│ toilet cleaner        ┆ 0    ┆ 0    ┆ 0    ┆ … ┆ 0    ┆ 0    ┆ 0    ┆ 0    │\n",
       "│ preservation products ┆ 0    ┆ 0    ┆ 0    ┆ … ┆ 0    ┆ 0    ┆ 0    ┆ 0    │\n",
       "└───────────────────────┴──────┴──────┴──────┴───┴──────┴──────┴──────┴──────┘"
      ]
     },
     "execution_count": 15,
     "metadata": {},
     "output_type": "execute_result"
    }
   ],
   "source": [
    "product_item_matrix = df.pivot(\n",
    "    values=\"Quality\",\n",
    "    index=\"itemDescription\",\n",
    "    on=\"Member_number\",\n",
    "    aggregate_function=\"sum\"\n",
    ").fill_null(0)\n",
    "\n",
    "product_item_matrix"
   ]
  },
  {
   "cell_type": "code",
   "execution_count": 16,
   "metadata": {},
   "outputs": [
    {
     "data": {
      "text/html": [
       "<div><style>\n",
       ".dataframe > thead > tr,\n",
       ".dataframe > tbody > tr {\n",
       "  text-align: right;\n",
       "  white-space: pre-wrap;\n",
       "}\n",
       "</style>\n",
       "<small>shape: (167, 168)</small><table border=\"1\" class=\"dataframe\"><thead><tr><th>tropical fruit</th><th>whole milk</th><th>pip fruit</th><th>other vegetables</th><th>rolls/buns</th><th>pot plants</th><th>citrus fruit</th><th>beef</th><th>frankfurter</th><th>chicken</th><th>butter</th><th>fruit/vegetable juice</th><th>packaged fruit/vegetables</th><th>chocolate</th><th>specialty bar</th><th>butter milk</th><th>bottled water</th><th>yogurt</th><th>sausage</th><th>brown bread</th><th>hamburger meat</th><th>root vegetables</th><th>pork</th><th>pastry</th><th>canned beer</th><th>berries</th><th>coffee</th><th>misc. beverages</th><th>ham</th><th>turkey</th><th>curd cheese</th><th>red/blush wine</th><th>frozen potato products</th><th>flour</th><th>sugar</th><th>frozen meals</th><th>herbs</th><th>&hellip;</th><th>kitchen towels</th><th>flower soil/fertilizer</th><th>cereals</th><th>meat spreads</th><th>dishes</th><th>male cosmetics</th><th>candles</th><th>whisky</th><th>tidbits</th><th>cooking chocolate</th><th>seasonal products</th><th>liqueur</th><th>abrasive cleaner</th><th>syrup</th><th>ketchup</th><th>cream</th><th>skin care</th><th>rubbing alcohol</th><th>nut snack</th><th>cocoa drinks</th><th>softener</th><th>organic products</th><th>cake bar</th><th>honey</th><th>jam</th><th>kitchen utensil</th><th>flower (seeds)</th><th>rice</th><th>tea</th><th>salad dressing</th><th>specialty vegetables</th><th>pudding powder</th><th>ready soups</th><th>make up remover</th><th>toilet cleaner</th><th>preservation products</th><th>itemDescription</th></tr><tr><td>f64</td><td>f64</td><td>f64</td><td>f64</td><td>f64</td><td>f64</td><td>f64</td><td>f64</td><td>f64</td><td>f64</td><td>f64</td><td>f64</td><td>f64</td><td>f64</td><td>f64</td><td>f64</td><td>f64</td><td>f64</td><td>f64</td><td>f64</td><td>f64</td><td>f64</td><td>f64</td><td>f64</td><td>f64</td><td>f64</td><td>f64</td><td>f64</td><td>f64</td><td>f64</td><td>f64</td><td>f64</td><td>f64</td><td>f64</td><td>f64</td><td>f64</td><td>f64</td><td>&hellip;</td><td>f64</td><td>f64</td><td>f64</td><td>f64</td><td>f64</td><td>f64</td><td>f64</td><td>f64</td><td>f64</td><td>f64</td><td>f64</td><td>f64</td><td>f64</td><td>f64</td><td>f64</td><td>f64</td><td>f64</td><td>f64</td><td>f64</td><td>f64</td><td>f64</td><td>f64</td><td>f64</td><td>f64</td><td>f64</td><td>f64</td><td>f64</td><td>f64</td><td>f64</td><td>f64</td><td>f64</td><td>f64</td><td>f64</td><td>f64</td><td>f64</td><td>f64</td><td>str</td></tr></thead><tbody><tr><td>1.0</td><td>0.32854</td><td>0.20262</td><td>0.283033</td><td>0.278361</td><td>0.095345</td><td>0.211242</td><td>0.166683</td><td>0.175329</td><td>0.143607</td><td>0.164992</td><td>0.190369</td><td>0.095057</td><td>0.157173</td><td>0.146942</td><td>0.120261</td><td>0.225067</td><td>0.270946</td><td>0.237999</td><td>0.187561</td><td>0.139735</td><td>0.218369</td><td>0.185469</td><td>0.218548</td><td>0.188025</td><td>0.162357</td><td>0.182292</td><td>0.165197</td><td>0.130591</td><td>0.072572</td><td>0.05312</td><td>0.100471</td><td>0.055524</td><td>0.139789</td><td>0.156504</td><td>0.135939</td><td>0.091131</td><td>&hellip;</td><td>0.065777</td><td>0.048499</td><td>0.029934</td><td>0.04216</td><td>0.094026</td><td>0.041005</td><td>0.061404</td><td>0.009798</td><td>0.053177</td><td>0.042934</td><td>0.079089</td><td>0.018476</td><td>0.04136</td><td>0.036286</td><td>0.044092</td><td>0.016001</td><td>0.043379</td><td>0.024788</td><td>0.047269</td><td>0.041571</td><td>0.064922</td><td>0.026292</td><td>0.088244</td><td>0.007686</td><td>0.042776</td><td>0.0</td><td>0.076296</td><td>0.075223</td><td>0.048002</td><td>0.022628</td><td>0.016712</td><td>0.044506</td><td>0.021467</td><td>0.0</td><td>0.012394</td><td>0.0</td><td>&quot;tropical fruit&quot;</td></tr><tr><td>0.32854</td><td>1.0</td><td>0.282133</td><td>0.406113</td><td>0.39125</td><td>0.131088</td><td>0.280281</td><td>0.255809</td><td>0.25309</td><td>0.215953</td><td>0.239041</td><td>0.247774</td><td>0.111224</td><td>0.233145</td><td>0.155889</td><td>0.156897</td><td>0.319975</td><td>0.370205</td><td>0.327543</td><td>0.255188</td><td>0.204125</td><td>0.306941</td><td>0.240159</td><td>0.298541</td><td>0.298284</td><td>0.188657</td><td>0.223869</td><td>0.151417</td><td>0.200456</td><td>0.095446</td><td>0.106742</td><td>0.143828</td><td>0.094206</td><td>0.141285</td><td>0.210691</td><td>0.178479</td><td>0.138406</td><td>&hellip;</td><td>0.060581</td><td>0.026394</td><td>0.072145</td><td>0.094328</td><td>0.144558</td><td>0.05455</td><td>0.090969</td><td>0.058657</td><td>0.051449</td><td>0.042837</td><td>0.112464</td><td>0.035192</td><td>0.048234</td><td>0.042786</td><td>0.069322</td><td>0.030477</td><td>0.050588</td><td>0.020235</td><td>0.061096</td><td>0.06033</td><td>0.077731</td><td>0.028617</td><td>0.117059</td><td>0.029282</td><td>0.064665</td><td>0.015082</td><td>0.100344</td><td>0.062484</td><td>0.05515</td><td>0.024629</td><td>0.040928</td><td>0.044982</td><td>0.062308</td><td>0.0</td><td>0.020235</td><td>0.0</td><td>&quot;whole milk&quot;</td></tr><tr><td>0.20262</td><td>0.282133</td><td>1.0</td><td>0.259705</td><td>0.258508</td><td>0.110321</td><td>0.178416</td><td>0.159781</td><td>0.186753</td><td>0.140715</td><td>0.139101</td><td>0.149907</td><td>0.093192</td><td>0.157023</td><td>0.090624</td><td>0.072434</td><td>0.201561</td><td>0.235963</td><td>0.213795</td><td>0.172929</td><td>0.127598</td><td>0.210518</td><td>0.1748</td><td>0.21173</td><td>0.174281</td><td>0.146005</td><td>0.155343</td><td>0.115719</td><td>0.125343</td><td>0.057493</td><td>0.029134</td><td>0.111607</td><td>0.03105</td><td>0.076466</td><td>0.121376</td><td>0.10904</td><td>0.090665</td><td>&hellip;</td><td>0.024051</td><td>0.041167</td><td>0.045735</td><td>0.038967</td><td>0.072627</td><td>0.070384</td><td>0.077022</td><td>0.046575</td><td>0.042128</td><td>0.017007</td><td>0.078826</td><td>0.0</td><td>0.04915</td><td>0.071866</td><td>0.058218</td><td>0.009507</td><td>0.058913</td><td>0.029456</td><td>0.028086</td><td>0.0494</td><td>0.072006</td><td>0.031243</td><td>0.095032</td><td>0.027402</td><td>0.05648</td><td>0.032933</td><td>0.037777</td><td>0.056457</td><td>0.025352</td><td>0.02689</td><td>0.00993</td><td>0.060443</td><td>0.0</td><td>0.0</td><td>0.0</td><td>0.0</td><td>&quot;pip fruit&quot;</td></tr><tr><td>0.283033</td><td>0.406113</td><td>0.259705</td><td>1.0</td><td>0.364052</td><td>0.138777</td><td>0.265248</td><td>0.22363</td><td>0.246496</td><td>0.197271</td><td>0.24441</td><td>0.232319</td><td>0.083931</td><td>0.189083</td><td>0.163612</td><td>0.173453</td><td>0.307026</td><td>0.326959</td><td>0.30752</td><td>0.250693</td><td>0.186233</td><td>0.283807</td><td>0.242924</td><td>0.245067</td><td>0.25811</td><td>0.196889</td><td>0.206989</td><td>0.140212</td><td>0.16289</td><td>0.088661</td><td>0.081688</td><td>0.147003</td><td>0.100117</td><td>0.146383</td><td>0.181138</td><td>0.170983</td><td>0.112982</td><td>&hellip;</td><td>0.067435</td><td>0.041553</td><td>0.074091</td><td>0.071798</td><td>0.10965</td><td>0.039469</td><td>0.081837</td><td>0.052235</td><td>0.055123</td><td>0.047684</td><td>0.086706</td><td>0.006156</td><td>0.059061</td><td>0.06448</td><td>0.065294</td><td>0.037319</td><td>0.045425</td><td>0.041296</td><td>0.07481</td><td>0.050787</td><td>0.063453</td><td>0.058401</td><td>0.084531</td><td>0.030732</td><td>0.082348</td><td>0.0</td><td>0.078381</td><td>0.071233</td><td>0.060421</td><td>0.045237</td><td>0.011137</td><td>0.055079</td><td>0.047684</td><td>0.033036</td><td>0.008259</td><td>0.018468</td><td>&quot;other vegetables&quot;</td></tr><tr><td>0.278361</td><td>0.39125</td><td>0.258508</td><td>0.364052</td><td>1.0</td><td>0.112774</td><td>0.253463</td><td>0.191854</td><td>0.237969</td><td>0.212998</td><td>0.224287</td><td>0.246269</td><td>0.093249</td><td>0.209381</td><td>0.138009</td><td>0.149266</td><td>0.258892</td><td>0.318515</td><td>0.278007</td><td>0.226867</td><td>0.172099</td><td>0.279601</td><td>0.205324</td><td>0.252978</td><td>0.256885</td><td>0.150267</td><td>0.197647</td><td>0.169963</td><td>0.155281</td><td>0.071191</td><td>0.087456</td><td>0.15115</td><td>0.086215</td><td>0.102897</td><td>0.18335</td><td>0.176995</td><td>0.107352</td><td>&hellip;</td><td>0.036098</td><td>0.044487</td><td>0.073221</td><td>0.060157</td><td>0.098945</td><td>0.061759</td><td>0.085182</td><td>0.041943</td><td>0.059016</td><td>0.030631</td><td>0.092828</td><td>0.019772</td><td>0.059016</td><td>0.038831</td><td>0.031457</td><td>0.022831</td><td>0.044211</td><td>0.035369</td><td>0.063231</td><td>0.024715</td><td>0.077197</td><td>0.043767</td><td>0.080663</td><td>0.016451</td><td>0.054254</td><td>0.039544</td><td>0.09072</td><td>0.076263</td><td>0.038051</td><td>0.024216</td><td>0.029807</td><td>0.040824</td><td>0.025525</td><td>0.035369</td><td>0.035369</td><td>0.0</td><td>&quot;rolls/buns&quot;</td></tr><tr><td>&hellip;</td><td>&hellip;</td><td>&hellip;</td><td>&hellip;</td><td>&hellip;</td><td>&hellip;</td><td>&hellip;</td><td>&hellip;</td><td>&hellip;</td><td>&hellip;</td><td>&hellip;</td><td>&hellip;</td><td>&hellip;</td><td>&hellip;</td><td>&hellip;</td><td>&hellip;</td><td>&hellip;</td><td>&hellip;</td><td>&hellip;</td><td>&hellip;</td><td>&hellip;</td><td>&hellip;</td><td>&hellip;</td><td>&hellip;</td><td>&hellip;</td><td>&hellip;</td><td>&hellip;</td><td>&hellip;</td><td>&hellip;</td><td>&hellip;</td><td>&hellip;</td><td>&hellip;</td><td>&hellip;</td><td>&hellip;</td><td>&hellip;</td><td>&hellip;</td><td>&hellip;</td><td>&hellip;</td><td>&hellip;</td><td>&hellip;</td><td>&hellip;</td><td>&hellip;</td><td>&hellip;</td><td>&hellip;</td><td>&hellip;</td><td>&hellip;</td><td>&hellip;</td><td>&hellip;</td><td>&hellip;</td><td>&hellip;</td><td>&hellip;</td><td>&hellip;</td><td>&hellip;</td><td>&hellip;</td><td>&hellip;</td><td>&hellip;</td><td>&hellip;</td><td>&hellip;</td><td>&hellip;</td><td>&hellip;</td><td>&hellip;</td><td>&hellip;</td><td>&hellip;</td><td>&hellip;</td><td>&hellip;</td><td>&hellip;</td><td>&hellip;</td><td>&hellip;</td><td>&hellip;</td><td>&hellip;</td><td>&hellip;</td><td>&hellip;</td><td>&hellip;</td><td>&hellip;</td><td>&hellip;</td></tr><tr><td>0.044506</td><td>0.044982</td><td>0.060443</td><td>0.055079</td><td>0.040824</td><td>0.02077</td><td>0.014452</td><td>0.018397</td><td>0.04425</td><td>0.010428</td><td>0.009228</td><td>0.009493</td><td>0.059017</td><td>0.023028</td><td>0.015397</td><td>0.040912</td><td>0.040503</td><td>0.042419</td><td>0.040071</td><td>0.053539</td><td>0.036528</td><td>0.023943</td><td>0.035295</td><td>0.014531</td><td>0.038912</td><td>0.024216</td><td>0.029783</td><td>0.0</td><td>0.055438</td><td>0.0</td><td>0.0</td><td>0.0</td><td>0.0</td><td>0.036736</td><td>0.013637</td><td>0.0</td><td>0.035088</td><td>&hellip;</td><td>0.0</td><td>0.0</td><td>0.0</td><td>0.0</td><td>0.0</td><td>0.0</td><td>0.028239</td><td>0.0</td><td>0.0</td><td>0.0</td><td>0.021119</td><td>0.0</td><td>0.0</td><td>0.0</td><td>0.040555</td><td>0.0</td><td>0.0</td><td>0.0</td><td>0.0</td><td>0.0</td><td>0.0</td><td>0.0</td><td>0.0</td><td>0.0</td><td>0.0</td><td>0.0</td><td>0.026316</td><td>0.032774</td><td>0.0</td><td>0.0</td><td>0.0</td><td>1.0</td><td>0.0</td><td>0.0</td><td>0.0</td><td>0.0</td><td>&quot;pudding powder&quot;</td></tr><tr><td>0.021467</td><td>0.062308</td><td>0.0</td><td>0.047684</td><td>0.025525</td><td>0.0</td><td>0.040663</td><td>0.020706</td><td>0.039841</td><td>0.046945</td><td>0.010386</td><td>0.010684</td><td>0.0</td><td>0.012959</td><td>0.017329</td><td>0.0</td><td>0.022792</td><td>0.011935</td><td>0.007516</td><td>0.0</td><td>0.013704</td><td>0.026947</td><td>0.009931</td><td>0.049063</td><td>0.052553</td><td>0.013627</td><td>0.011173</td><td>0.0</td><td>0.031197</td><td>0.028172</td><td>0.0</td><td>0.020349</td><td>0.0</td><td>0.020672</td><td>0.030697</td><td>0.015831</td><td>0.0</td><td>&hellip;</td><td>0.0</td><td>0.0</td><td>0.039841</td><td>0.0</td><td>0.0</td><td>0.0</td><td>0.0</td><td>0.0</td><td>0.0</td><td>0.066667</td><td>0.0</td><td>0.0</td><td>0.0</td><td>0.0</td><td>0.0</td><td>0.0</td><td>0.0</td><td>0.0</td><td>0.0</td><td>0.0</td><td>0.0</td><td>0.0</td><td>0.051383</td><td>0.071611</td><td>0.0</td><td>0.0</td><td>0.0</td><td>0.0</td><td>0.0</td><td>0.0</td><td>0.0</td><td>0.0</td><td>1.0</td><td>0.0</td><td>0.0</td><td>0.0</td><td>&quot;ready soups&quot;</td></tr><tr><td>0.0</td><td>0.0</td><td>0.0</td><td>0.033036</td><td>0.035369</td><td>0.0</td><td>0.042258</td><td>0.017932</td><td>0.017252</td><td>0.0</td><td>0.035979</td><td>0.0</td><td>0.0</td><td>0.0</td><td>0.030015</td><td>0.0</td><td>0.0</td><td>0.010336</td><td>0.0</td><td>0.017395</td><td>0.0</td><td>0.023336</td><td>0.034401</td><td>0.0</td><td>0.030341</td><td>0.0</td><td>0.0</td><td>0.056121</td><td>0.0</td><td>0.0</td><td>0.0</td><td>0.035245</td><td>0.0</td><td>0.0</td><td>0.053168</td><td>0.0</td><td>0.034199</td><td>&hellip;</td><td>0.0</td><td>0.0</td><td>0.0</td><td>0.0</td><td>0.0</td><td>0.0</td><td>0.055048</td><td>0.0</td><td>0.0</td><td>0.0</td><td>0.0</td><td>0.0</td><td>0.0</td><td>0.0</td><td>0.0</td><td>0.0</td><td>0.0</td><td>0.0</td><td>0.0</td><td>0.0</td><td>0.0</td><td>0.0</td><td>0.0</td><td>0.0</td><td>0.0</td><td>0.0</td><td>0.0</td><td>0.0</td><td>0.0</td><td>0.0</td><td>0.0</td><td>0.0</td><td>0.0</td><td>1.0</td><td>0.0</td><td>0.0</td><td>&quot;make up remover&quot;</td></tr><tr><td>0.012394</td><td>0.020235</td><td>0.0</td><td>0.008259</td><td>0.035369</td><td>0.0</td><td>0.014086</td><td>0.017932</td><td>0.017252</td><td>0.0</td><td>0.0</td><td>0.0</td><td>0.0</td><td>0.0</td><td>0.0</td><td>0.0</td><td>0.0</td><td>0.010336</td><td>0.026038</td><td>0.0</td><td>0.023736</td><td>0.023336</td><td>0.051602</td><td>0.0</td><td>0.015171</td><td>0.023603</td><td>0.019353</td><td>0.0</td><td>0.027017</td><td>0.0</td><td>0.0</td><td>0.0</td><td>0.0</td><td>0.0</td><td>0.0</td><td>0.0</td><td>0.0</td><td>&hellip;</td><td>0.0</td><td>0.0</td><td>0.0</td><td>0.0</td><td>0.0</td><td>0.0</td><td>0.0</td><td>0.0</td><td>0.0</td><td>0.0</td><td>0.0</td><td>0.0</td><td>0.0</td><td>0.0</td><td>0.0</td><td>0.0</td><td>0.0</td><td>0.0</td><td>0.0</td><td>0.0</td><td>0.0</td><td>0.0</td><td>0.0</td><td>0.0</td><td>0.0</td><td>0.0</td><td>0.0</td><td>0.0</td><td>0.0</td><td>0.0</td><td>0.0</td><td>0.0</td><td>0.0</td><td>0.0</td><td>1.0</td><td>0.0</td><td>&quot;toilet cleaner&quot;</td></tr><tr><td>0.0</td><td>0.0</td><td>0.0</td><td>0.018468</td><td>0.0</td><td>0.0</td><td>0.0</td><td>0.0</td><td>0.038576</td><td>0.0</td><td>0.0</td><td>0.0</td><td>0.0</td><td>0.0</td><td>0.0</td><td>0.0</td><td>0.029424</td><td>0.0</td><td>0.0</td><td>0.0</td><td>0.0</td><td>0.0</td><td>0.0</td><td>0.0</td><td>0.0</td><td>0.0</td><td>0.0</td><td>0.0</td><td>0.0</td><td>0.0</td><td>0.0</td><td>0.0</td><td>0.0</td><td>0.0</td><td>0.0</td><td>0.0</td><td>0.0</td><td>&hellip;</td><td>0.0</td><td>0.0</td><td>0.0</td><td>0.0</td><td>0.0</td><td>0.0</td><td>0.0</td><td>0.0</td><td>0.0</td><td>0.0</td><td>0.0</td><td>0.0</td><td>0.0</td><td>0.0</td><td>0.0</td><td>0.0</td><td>0.0</td><td>0.0</td><td>0.0</td><td>0.0</td><td>0.0</td><td>0.0</td><td>0.0</td><td>0.0</td><td>0.0</td><td>0.0</td><td>0.0</td><td>0.0</td><td>0.0</td><td>0.0</td><td>0.0</td><td>0.0</td><td>0.0</td><td>0.0</td><td>0.0</td><td>1.0</td><td>&quot;preservation products&quot;</td></tr></tbody></table></div>"
      ],
      "text/plain": [
       "shape: (167, 168)\n",
       "┌───────────┬───────────┬───────────┬───────────┬───┬───────────┬───────────┬───────────┬──────────┐\n",
       "│ tropical  ┆ whole     ┆ pip fruit ┆ other veg ┆ … ┆ make up   ┆ toilet    ┆ preservat ┆ itemDesc │\n",
       "│ fruit     ┆ milk      ┆ ---       ┆ etables   ┆   ┆ remover   ┆ cleaner   ┆ ion       ┆ ription  │\n",
       "│ ---       ┆ ---       ┆ f64       ┆ ---       ┆   ┆ ---       ┆ ---       ┆ products  ┆ ---      │\n",
       "│ f64       ┆ f64       ┆           ┆ f64       ┆   ┆ f64       ┆ f64       ┆ ---       ┆ str      │\n",
       "│           ┆           ┆           ┆           ┆   ┆           ┆           ┆ f64       ┆          │\n",
       "╞═══════════╪═══════════╪═══════════╪═══════════╪═══╪═══════════╪═══════════╪═══════════╪══════════╡\n",
       "│ 1.0       ┆ 0.32854   ┆ 0.20262   ┆ 0.283033  ┆ … ┆ 0.0       ┆ 0.012394  ┆ 0.0       ┆ tropical │\n",
       "│           ┆           ┆           ┆           ┆   ┆           ┆           ┆           ┆ fruit    │\n",
       "│ 0.32854   ┆ 1.0       ┆ 0.282133  ┆ 0.406113  ┆ … ┆ 0.0       ┆ 0.020235  ┆ 0.0       ┆ whole    │\n",
       "│           ┆           ┆           ┆           ┆   ┆           ┆           ┆           ┆ milk     │\n",
       "│ 0.20262   ┆ 0.282133  ┆ 1.0       ┆ 0.259705  ┆ … ┆ 0.0       ┆ 0.0       ┆ 0.0       ┆ pip      │\n",
       "│           ┆           ┆           ┆           ┆   ┆           ┆           ┆           ┆ fruit    │\n",
       "│ 0.283033  ┆ 0.406113  ┆ 0.259705  ┆ 1.0       ┆ … ┆ 0.033036  ┆ 0.008259  ┆ 0.018468  ┆ other    │\n",
       "│           ┆           ┆           ┆           ┆   ┆           ┆           ┆           ┆ vegetabl │\n",
       "│           ┆           ┆           ┆           ┆   ┆           ┆           ┆           ┆ es       │\n",
       "│ 0.278361  ┆ 0.39125   ┆ 0.258508  ┆ 0.364052  ┆ … ┆ 0.035369  ┆ 0.035369  ┆ 0.0       ┆ rolls/bu │\n",
       "│           ┆           ┆           ┆           ┆   ┆           ┆           ┆           ┆ ns       │\n",
       "│ …         ┆ …         ┆ …         ┆ …         ┆ … ┆ …         ┆ …         ┆ …         ┆ …        │\n",
       "│ 0.044506  ┆ 0.044982  ┆ 0.060443  ┆ 0.055079  ┆ … ┆ 0.0       ┆ 0.0       ┆ 0.0       ┆ pudding  │\n",
       "│           ┆           ┆           ┆           ┆   ┆           ┆           ┆           ┆ powder   │\n",
       "│ 0.021467  ┆ 0.062308  ┆ 0.0       ┆ 0.047684  ┆ … ┆ 0.0       ┆ 0.0       ┆ 0.0       ┆ ready    │\n",
       "│           ┆           ┆           ┆           ┆   ┆           ┆           ┆           ┆ soups    │\n",
       "│ 0.0       ┆ 0.0       ┆ 0.0       ┆ 0.033036  ┆ … ┆ 1.0       ┆ 0.0       ┆ 0.0       ┆ make up  │\n",
       "│           ┆           ┆           ┆           ┆   ┆           ┆           ┆           ┆ remover  │\n",
       "│ 0.012394  ┆ 0.020235  ┆ 0.0       ┆ 0.008259  ┆ … ┆ 0.0       ┆ 1.0       ┆ 0.0       ┆ toilet   │\n",
       "│           ┆           ┆           ┆           ┆   ┆           ┆           ┆           ┆ cleaner  │\n",
       "│ 0.0       ┆ 0.0       ┆ 0.0       ┆ 0.018468  ┆ … ┆ 0.0       ┆ 0.0       ┆ 1.0       ┆ preserva │\n",
       "│           ┆           ┆           ┆           ┆   ┆           ┆           ┆           ┆ tion     │\n",
       "│           ┆           ┆           ┆           ┆   ┆           ┆           ┆           ┆ products │\n",
       "└───────────┴───────────┴───────────┴───────────┴───┴───────────┴───────────┴───────────┴──────────┘"
      ]
     },
     "execution_count": 16,
     "metadata": {},
     "output_type": "execute_result"
    }
   ],
   "source": [
    "item_item_matrix_without_idx = product_item_matrix.drop(\"itemDescription\")\n",
    "item_item_matrix_idx = product_item_matrix.select(\"itemDescription\")\n",
    "\n",
    "item_item_sim_matrix = pl.DataFrame(\n",
    "    cosine_similarity(item_item_matrix_without_idx.to_pandas()),\n",
    "    schema=item_item_matrix_idx.to_series().to_list(),\n",
    ")\n",
    "\n",
    "item_item_sim_matrix = item_item_sim_matrix.with_columns(item_item_matrix_idx)\n",
    "item_item_sim_matrix"
   ]
  },
  {
   "cell_type": "code",
   "execution_count": 24,
   "metadata": {},
   "outputs": [
    {
     "data": {
      "text/html": [
       "<div><style>\n",
       ".dataframe > thead > tr,\n",
       ".dataframe > tbody > tr {\n",
       "  text-align: right;\n",
       "  white-space: pre-wrap;\n",
       "}\n",
       "</style>\n",
       "<small>shape: (6, 2)</small><table border=\"1\" class=\"dataframe\"><thead><tr><th>Product</th><th>Similarity</th></tr><tr><td>str</td><td>f64</td></tr></thead><tbody><tr><td>&quot;beef&quot;</td><td>1.0</td></tr><tr><td>&quot;whole milk&quot;</td><td>0.255809</td></tr><tr><td>&quot;other vegetables&quot;</td><td>0.22363</td></tr><tr><td>&quot;yogurt&quot;</td><td>0.204807</td></tr><tr><td>&quot;soda&quot;</td><td>0.199052</td></tr><tr><td>&quot;rolls/buns&quot;</td><td>0.191854</td></tr></tbody></table></div>"
      ],
      "text/plain": [
       "shape: (6, 2)\n",
       "┌──────────────────┬────────────┐\n",
       "│ Product          ┆ Similarity │\n",
       "│ ---              ┆ ---        │\n",
       "│ str              ┆ f64        │\n",
       "╞══════════════════╪════════════╡\n",
       "│ beef             ┆ 1.0        │\n",
       "│ whole milk       ┆ 0.255809   │\n",
       "│ other vegetables ┆ 0.22363    │\n",
       "│ yogurt           ┆ 0.204807   │\n",
       "│ soda             ┆ 0.199052   │\n",
       "│ rolls/buns       ┆ 0.191854   │\n",
       "└──────────────────┴────────────┘"
      ]
     },
     "execution_count": 24,
     "metadata": {},
     "output_type": "execute_result"
    }
   ],
   "source": [
    "(\n",
    "    item_item_sim_matrix\n",
    "        .filter(pl.col(\"itemDescription\") == \"beef\")\n",
    "        .drop(\"itemDescription\")\n",
    "        .transpose(include_header=True, header_name=\"Product\", column_names=[\"Similarity\"])\n",
    "        .sort(\"Similarity\", descending=True)\n",
    "        .filter(pl.col(\"Similarity\") > 0)\n",
    "        .head(6)\n",
    ")"
   ]
  }
 ],
 "metadata": {
  "kernelspec": {
   "display_name": "venv",
   "language": "python",
   "name": "python3"
  },
  "language_info": {
   "codemirror_mode": {
    "name": "ipython",
    "version": 3
   },
   "file_extension": ".py",
   "mimetype": "text/x-python",
   "name": "python",
   "nbconvert_exporter": "python",
   "pygments_lexer": "ipython3",
   "version": "3.12.5"
  }
 },
 "nbformat": 4,
 "nbformat_minor": 2
}
