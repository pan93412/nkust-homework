{
 "cells": [
  {
   "cell_type": "markdown",
   "metadata": {},
   "source": [
    "# Homework of CH11"
   ]
  },
  {
   "cell_type": "code",
   "execution_count": 80,
   "metadata": {},
   "outputs": [],
   "source": [
    "import polars as pl\n",
    "from mlxtend.frequent_patterns import fpgrowth\n",
    "from mlxtend.frequent_patterns import association_rules\n",
    "from mlxtend.preprocessing import TransactionEncoder"
   ]
  },
  {
   "cell_type": "markdown",
   "metadata": {},
   "source": [
    "將 mlxtend 函式進行封裝，使其可以直接支援 Polars 的 DataFrame。"
   ]
  },
  {
   "cell_type": "code",
   "execution_count": 81,
   "metadata": {},
   "outputs": [],
   "source": [
    "def fpgrowth_pl(data: pl.DataFrame, min_support=0.5, use_colnames=False, *args, **kwargs):\n",
    "    frequent_itemsets = fpgrowth(data.to_pandas(), min_support=min_support, use_colnames=use_colnames, *args, **kwargs)\n",
    "\n",
    "    frequent_itemsets['itemsets'] = frequent_itemsets['itemsets'].apply(lambda x: list(x))\n",
    "    return pl.DataFrame(frequent_itemsets)\n",
    "\n",
    "def association_rules_pl(data: pl.DataFrame, metric=\"confidence\", min_threshold=0.8, *args, **kwargs):\n",
    "    rules = association_rules(data.to_pandas(), metric=metric, min_threshold=min_threshold, *args, **kwargs)\n",
    "    rules[\"antecedents\"] = rules[\"antecedents\"].apply(lambda x: list(x))\n",
    "    rules[\"consequents\"] = rules[\"consequents\"].apply(lambda x: list(x))\n",
    "\n",
    "    return pl.DataFrame(rules)"
   ]
  },
  {
   "cell_type": "markdown",
   "metadata": {},
   "source": [
    "讀取資料。"
   ]
  },
  {
   "cell_type": "code",
   "execution_count": 82,
   "metadata": {},
   "outputs": [
    {
     "data": {
      "text/html": [
       "<div><style>\n",
       ".dataframe > thead > tr,\n",
       ".dataframe > tbody > tr {\n",
       "  text-align: right;\n",
       "  white-space: pre-wrap;\n",
       "}\n",
       "</style>\n",
       "<small>shape: (38_765, 4)</small><table border=\"1\" class=\"dataframe\"><thead><tr><th>Member_number</th><th>Date</th><th>itemDescription</th><th>Quality</th></tr><tr><td>i64</td><td>str</td><td>str</td><td>i64</td></tr></thead><tbody><tr><td>1808</td><td>&quot;21-07-2015&quot;</td><td>&quot;tropical fruit&quot;</td><td>1</td></tr><tr><td>2552</td><td>&quot;05-01-2015&quot;</td><td>&quot;whole milk&quot;</td><td>1</td></tr><tr><td>2300</td><td>&quot;19-09-2015&quot;</td><td>&quot;pip fruit&quot;</td><td>1</td></tr><tr><td>1187</td><td>&quot;12-12-2015&quot;</td><td>&quot;other vegetables&quot;</td><td>1</td></tr><tr><td>3037</td><td>&quot;01-02-2015&quot;</td><td>&quot;whole milk&quot;</td><td>1</td></tr><tr><td>&hellip;</td><td>&hellip;</td><td>&hellip;</td><td>&hellip;</td></tr><tr><td>4471</td><td>&quot;08-10-2014&quot;</td><td>&quot;sliced cheese&quot;</td><td>1</td></tr><tr><td>2022</td><td>&quot;23-02-2014&quot;</td><td>&quot;candy&quot;</td><td>1</td></tr><tr><td>1097</td><td>&quot;16-04-2014&quot;</td><td>&quot;cake bar&quot;</td><td>1</td></tr><tr><td>1510</td><td>&quot;03-12-2014&quot;</td><td>&quot;fruit/vegetable juice&quot;</td><td>1</td></tr><tr><td>1521</td><td>&quot;26-12-2014&quot;</td><td>&quot;cat food&quot;</td><td>1</td></tr></tbody></table></div>"
      ],
      "text/plain": [
       "shape: (38_765, 4)\n",
       "┌───────────────┬────────────┬───────────────────────┬─────────┐\n",
       "│ Member_number ┆ Date       ┆ itemDescription       ┆ Quality │\n",
       "│ ---           ┆ ---        ┆ ---                   ┆ ---     │\n",
       "│ i64           ┆ str        ┆ str                   ┆ i64     │\n",
       "╞═══════════════╪════════════╪═══════════════════════╪═════════╡\n",
       "│ 1808          ┆ 21-07-2015 ┆ tropical fruit        ┆ 1       │\n",
       "│ 2552          ┆ 05-01-2015 ┆ whole milk            ┆ 1       │\n",
       "│ 2300          ┆ 19-09-2015 ┆ pip fruit             ┆ 1       │\n",
       "│ 1187          ┆ 12-12-2015 ┆ other vegetables      ┆ 1       │\n",
       "│ 3037          ┆ 01-02-2015 ┆ whole milk            ┆ 1       │\n",
       "│ …             ┆ …          ┆ …                     ┆ …       │\n",
       "│ 4471          ┆ 08-10-2014 ┆ sliced cheese         ┆ 1       │\n",
       "│ 2022          ┆ 23-02-2014 ┆ candy                 ┆ 1       │\n",
       "│ 1097          ┆ 16-04-2014 ┆ cake bar              ┆ 1       │\n",
       "│ 1510          ┆ 03-12-2014 ┆ fruit/vegetable juice ┆ 1       │\n",
       "│ 1521          ┆ 26-12-2014 ┆ cat food              ┆ 1       │\n",
       "└───────────────┴────────────┴───────────────────────┴─────────┘"
      ]
     },
     "execution_count": 82,
     "metadata": {},
     "output_type": "execute_result"
    }
   ],
   "source": [
    "df = pl.read_csv(\"Groceries_dataset.csv\")\n",
    "df"
   ]
  },
  {
   "cell_type": "code",
   "execution_count": 83,
   "metadata": {},
   "outputs": [
    {
     "data": {
      "text/html": [
       "<div><style>\n",
       ".dataframe > thead > tr,\n",
       ".dataframe > tbody > tr {\n",
       "  text-align: right;\n",
       "  white-space: pre-wrap;\n",
       "}\n",
       "</style>\n",
       "<small>shape: (9, 5)</small><table border=\"1\" class=\"dataframe\"><thead><tr><th>statistic</th><th>Member_number</th><th>Date</th><th>itemDescription</th><th>Quality</th></tr><tr><td>str</td><td>f64</td><td>str</td><td>str</td><td>f64</td></tr></thead><tbody><tr><td>&quot;count&quot;</td><td>38765.0</td><td>&quot;38765&quot;</td><td>&quot;38765&quot;</td><td>38765.0</td></tr><tr><td>&quot;null_count&quot;</td><td>0.0</td><td>&quot;0&quot;</td><td>&quot;0&quot;</td><td>0.0</td></tr><tr><td>&quot;mean&quot;</td><td>3003.641868</td><td>null</td><td>null</td><td>1.0</td></tr><tr><td>&quot;std&quot;</td><td>1153.611031</td><td>null</td><td>null</td><td>0.0</td></tr><tr><td>&quot;min&quot;</td><td>1000.0</td><td>&quot;01-01-2014&quot;</td><td>&quot;Instant food products&quot;</td><td>1.0</td></tr><tr><td>&quot;25%&quot;</td><td>2002.0</td><td>null</td><td>null</td><td>1.0</td></tr><tr><td>&quot;50%&quot;</td><td>3005.0</td><td>null</td><td>null</td><td>1.0</td></tr><tr><td>&quot;75%&quot;</td><td>4007.0</td><td>null</td><td>null</td><td>1.0</td></tr><tr><td>&quot;max&quot;</td><td>5000.0</td><td>&quot;31-10-2015&quot;</td><td>&quot;zwieback&quot;</td><td>1.0</td></tr></tbody></table></div>"
      ],
      "text/plain": [
       "shape: (9, 5)\n",
       "┌────────────┬───────────────┬────────────┬───────────────────────┬─────────┐\n",
       "│ statistic  ┆ Member_number ┆ Date       ┆ itemDescription       ┆ Quality │\n",
       "│ ---        ┆ ---           ┆ ---        ┆ ---                   ┆ ---     │\n",
       "│ str        ┆ f64           ┆ str        ┆ str                   ┆ f64     │\n",
       "╞════════════╪═══════════════╪════════════╪═══════════════════════╪═════════╡\n",
       "│ count      ┆ 38765.0       ┆ 38765      ┆ 38765                 ┆ 38765.0 │\n",
       "│ null_count ┆ 0.0           ┆ 0          ┆ 0                     ┆ 0.0     │\n",
       "│ mean       ┆ 3003.641868   ┆ null       ┆ null                  ┆ 1.0     │\n",
       "│ std        ┆ 1153.611031   ┆ null       ┆ null                  ┆ 0.0     │\n",
       "│ min        ┆ 1000.0        ┆ 01-01-2014 ┆ Instant food products ┆ 1.0     │\n",
       "│ 25%        ┆ 2002.0        ┆ null       ┆ null                  ┆ 1.0     │\n",
       "│ 50%        ┆ 3005.0        ┆ null       ┆ null                  ┆ 1.0     │\n",
       "│ 75%        ┆ 4007.0        ┆ null       ┆ null                  ┆ 1.0     │\n",
       "│ max        ┆ 5000.0        ┆ 31-10-2015 ┆ zwieback              ┆ 1.0     │\n",
       "└────────────┴───────────────┴────────────┴───────────────────────┴─────────┘"
      ]
     },
     "execution_count": 83,
     "metadata": {},
     "output_type": "execute_result"
    }
   ],
   "source": [
    "df.describe()"
   ]
  },
  {
   "cell_type": "markdown",
   "metadata": {},
   "source": [
    "看起來不需要處理空值問題。不過 `itemDescription` 欄位的資料型態是 `str`，需要轉換成 `list`。"
   ]
  },
  {
   "cell_type": "code",
   "execution_count": 84,
   "metadata": {},
   "outputs": [
    {
     "data": {
      "text/html": [
       "<div><style>\n",
       ".dataframe > thead > tr,\n",
       ".dataframe > tbody > tr {\n",
       "  text-align: right;\n",
       "  white-space: pre-wrap;\n",
       "}\n",
       "</style>\n",
       "<small>shape: (3_898, 2)</small><table border=\"1\" class=\"dataframe\"><thead><tr><th>Member_number</th><th>itemDescription</th></tr><tr><td>i64</td><td>list[str]</td></tr></thead><tbody><tr><td>2373</td><td>[&quot;newspapers&quot;, &quot;chewing gum&quot;]</td></tr><tr><td>4213</td><td>[&quot;hamburger meat&quot;, &quot;pork&quot;, … &quot;seasonal products&quot;]</td></tr><tr><td>4728</td><td>[&quot;other vegetables&quot;, &quot;beef&quot;, … &quot;margarine&quot;]</td></tr><tr><td>3427</td><td>[&quot;curd&quot;, &quot;rolls/buns&quot;, … &quot;red/blush wine&quot;]</td></tr><tr><td>2114</td><td>[&quot;whole milk&quot;, &quot;frankfurter&quot;, … &quot;bottled water&quot;]</td></tr><tr><td>&hellip;</td><td>&hellip;</td></tr><tr><td>4695</td><td>[&quot;pork&quot;, &quot;root vegetables&quot;, … &quot;shopping bags&quot;]</td></tr><tr><td>3516</td><td>[&quot;photo/film&quot;, &quot;long life bakery product&quot;, … &quot;bottled beer&quot;]</td></tr><tr><td>1694</td><td>[&quot;tropical fruit&quot;, &quot;rolls/buns&quot;, … &quot;long life bakery product&quot;]</td></tr><tr><td>4713</td><td>[&quot;beef&quot;, &quot;bottled water&quot;, … &quot;newspapers&quot;]</td></tr><tr><td>2882</td><td>[&quot;berries&quot;, &quot;citrus fruit&quot;, … &quot;dishes&quot;]</td></tr></tbody></table></div>"
      ],
      "text/plain": [
       "shape: (3_898, 2)\n",
       "┌───────────────┬─────────────────────────────────┐\n",
       "│ Member_number ┆ itemDescription                 │\n",
       "│ ---           ┆ ---                             │\n",
       "│ i64           ┆ list[str]                       │\n",
       "╞═══════════════╪═════════════════════════════════╡\n",
       "│ 2373          ┆ [\"newspapers\", \"chewing gum\"]   │\n",
       "│ 4213          ┆ [\"hamburger meat\", \"pork\", … \"… │\n",
       "│ 4728          ┆ [\"other vegetables\", \"beef\", …… │\n",
       "│ 3427          ┆ [\"curd\", \"rolls/buns\", … \"red/… │\n",
       "│ 2114          ┆ [\"whole milk\", \"frankfurter\", … │\n",
       "│ …             ┆ …                               │\n",
       "│ 4695          ┆ [\"pork\", \"root vegetables\", … … │\n",
       "│ 3516          ┆ [\"photo/film\", \"long life bake… │\n",
       "│ 1694          ┆ [\"tropical fruit\", \"rolls/buns… │\n",
       "│ 4713          ┆ [\"beef\", \"bottled water\", … \"n… │\n",
       "│ 2882          ┆ [\"berries\", \"citrus fruit\", … … │\n",
       "└───────────────┴─────────────────────────────────┘"
      ]
     },
     "execution_count": 84,
     "metadata": {},
     "output_type": "execute_result"
    }
   ],
   "source": [
    "df = df.group_by(\"Member_number\").agg(pl.col(\"itemDescription\"))\n",
    "df"
   ]
  },
  {
   "cell_type": "markdown",
   "metadata": {},
   "source": [
    "## Question 1\n",
    "\n",
    "請使用 `Groceries_dataset` 資料集，並計算銷售資料 `support>=0.1`, `lift>=1` 以上的產品組合\n",
    "\n",
    "- 提示: 先算出 `support>=0.1` 的 `frequent_itemsets`；再篩選 `lift>=1` 的產品組合"
   ]
  },
  {
   "cell_type": "code",
   "execution_count": 85,
   "metadata": {},
   "outputs": [
    {
     "data": {
      "text/html": [
       "<div><style>\n",
       ".dataframe > thead > tr,\n",
       ".dataframe > tbody > tr {\n",
       "  text-align: right;\n",
       "  white-space: pre-wrap;\n",
       "}\n",
       "</style>\n",
       "<small>shape: (3_898, 167)</small><table border=\"1\" class=\"dataframe\"><thead><tr><th>Instant food products</th><th>UHT-milk</th><th>abrasive cleaner</th><th>artif. sweetener</th><th>baby cosmetics</th><th>bags</th><th>baking powder</th><th>bathroom cleaner</th><th>beef</th><th>berries</th><th>beverages</th><th>bottled beer</th><th>bottled water</th><th>brandy</th><th>brown bread</th><th>butter</th><th>butter milk</th><th>cake bar</th><th>candles</th><th>candy</th><th>canned beer</th><th>canned fish</th><th>canned fruit</th><th>canned vegetables</th><th>cat food</th><th>cereals</th><th>chewing gum</th><th>chicken</th><th>chocolate</th><th>chocolate marshmallow</th><th>citrus fruit</th><th>cleaner</th><th>cling film/bags</th><th>cocoa drinks</th><th>coffee</th><th>condensed milk</th><th>cooking chocolate</th><th>&hellip;</th><th>sausage</th><th>seasonal products</th><th>semi-finished bread</th><th>shopping bags</th><th>skin care</th><th>sliced cheese</th><th>snack products</th><th>soap</th><th>soda</th><th>soft cheese</th><th>softener</th><th>soups</th><th>sparkling wine</th><th>specialty bar</th><th>specialty cheese</th><th>specialty chocolate</th><th>specialty fat</th><th>specialty vegetables</th><th>spices</th><th>spread cheese</th><th>sugar</th><th>sweet spreads</th><th>syrup</th><th>tea</th><th>tidbits</th><th>toilet cleaner</th><th>tropical fruit</th><th>turkey</th><th>vinegar</th><th>waffles</th><th>whipped/sour cream</th><th>whisky</th><th>white bread</th><th>white wine</th><th>whole milk</th><th>yogurt</th><th>zwieback</th></tr><tr><td>bool</td><td>bool</td><td>bool</td><td>bool</td><td>bool</td><td>bool</td><td>bool</td><td>bool</td><td>bool</td><td>bool</td><td>bool</td><td>bool</td><td>bool</td><td>bool</td><td>bool</td><td>bool</td><td>bool</td><td>bool</td><td>bool</td><td>bool</td><td>bool</td><td>bool</td><td>bool</td><td>bool</td><td>bool</td><td>bool</td><td>bool</td><td>bool</td><td>bool</td><td>bool</td><td>bool</td><td>bool</td><td>bool</td><td>bool</td><td>bool</td><td>bool</td><td>bool</td><td>&hellip;</td><td>bool</td><td>bool</td><td>bool</td><td>bool</td><td>bool</td><td>bool</td><td>bool</td><td>bool</td><td>bool</td><td>bool</td><td>bool</td><td>bool</td><td>bool</td><td>bool</td><td>bool</td><td>bool</td><td>bool</td><td>bool</td><td>bool</td><td>bool</td><td>bool</td><td>bool</td><td>bool</td><td>bool</td><td>bool</td><td>bool</td><td>bool</td><td>bool</td><td>bool</td><td>bool</td><td>bool</td><td>bool</td><td>bool</td><td>bool</td><td>bool</td><td>bool</td><td>bool</td></tr></thead><tbody><tr><td>false</td><td>false</td><td>false</td><td>false</td><td>false</td><td>false</td><td>false</td><td>false</td><td>false</td><td>false</td><td>false</td><td>false</td><td>false</td><td>false</td><td>false</td><td>false</td><td>false</td><td>false</td><td>false</td><td>false</td><td>false</td><td>false</td><td>false</td><td>false</td><td>false</td><td>false</td><td>true</td><td>false</td><td>false</td><td>false</td><td>false</td><td>false</td><td>false</td><td>false</td><td>false</td><td>false</td><td>false</td><td>&hellip;</td><td>false</td><td>false</td><td>false</td><td>false</td><td>false</td><td>false</td><td>false</td><td>false</td><td>false</td><td>false</td><td>false</td><td>false</td><td>false</td><td>false</td><td>false</td><td>false</td><td>false</td><td>false</td><td>false</td><td>false</td><td>false</td><td>false</td><td>false</td><td>false</td><td>false</td><td>false</td><td>false</td><td>false</td><td>false</td><td>false</td><td>false</td><td>false</td><td>false</td><td>false</td><td>false</td><td>false</td><td>false</td></tr><tr><td>false</td><td>false</td><td>false</td><td>false</td><td>false</td><td>false</td><td>false</td><td>false</td><td>false</td><td>false</td><td>false</td><td>false</td><td>false</td><td>false</td><td>false</td><td>false</td><td>false</td><td>false</td><td>false</td><td>false</td><td>false</td><td>false</td><td>false</td><td>false</td><td>false</td><td>false</td><td>false</td><td>true</td><td>false</td><td>false</td><td>false</td><td>false</td><td>false</td><td>false</td><td>true</td><td>false</td><td>false</td><td>&hellip;</td><td>false</td><td>true</td><td>false</td><td>false</td><td>false</td><td>false</td><td>false</td><td>false</td><td>false</td><td>false</td><td>false</td><td>false</td><td>false</td><td>false</td><td>false</td><td>false</td><td>false</td><td>false</td><td>false</td><td>false</td><td>false</td><td>false</td><td>false</td><td>false</td><td>false</td><td>false</td><td>false</td><td>false</td><td>false</td><td>false</td><td>false</td><td>false</td><td>false</td><td>false</td><td>true</td><td>false</td><td>false</td></tr><tr><td>false</td><td>false</td><td>false</td><td>false</td><td>false</td><td>false</td><td>false</td><td>false</td><td>true</td><td>false</td><td>false</td><td>false</td><td>false</td><td>false</td><td>false</td><td>false</td><td>false</td><td>false</td><td>false</td><td>false</td><td>false</td><td>false</td><td>false</td><td>false</td><td>false</td><td>false</td><td>false</td><td>false</td><td>false</td><td>true</td><td>false</td><td>false</td><td>false</td><td>false</td><td>false</td><td>false</td><td>false</td><td>&hellip;</td><td>false</td><td>false</td><td>false</td><td>false</td><td>false</td><td>false</td><td>false</td><td>false</td><td>true</td><td>false</td><td>false</td><td>false</td><td>false</td><td>false</td><td>false</td><td>false</td><td>false</td><td>false</td><td>false</td><td>false</td><td>false</td><td>false</td><td>false</td><td>false</td><td>false</td><td>false</td><td>false</td><td>false</td><td>false</td><td>false</td><td>false</td><td>false</td><td>true</td><td>false</td><td>false</td><td>false</td><td>false</td></tr><tr><td>false</td><td>false</td><td>false</td><td>false</td><td>false</td><td>false</td><td>false</td><td>false</td><td>false</td><td>false</td><td>true</td><td>false</td><td>false</td><td>false</td><td>false</td><td>false</td><td>false</td><td>false</td><td>false</td><td>false</td><td>false</td><td>false</td><td>false</td><td>false</td><td>false</td><td>false</td><td>false</td><td>false</td><td>false</td><td>false</td><td>false</td><td>false</td><td>false</td><td>false</td><td>false</td><td>false</td><td>false</td><td>&hellip;</td><td>false</td><td>false</td><td>false</td><td>false</td><td>false</td><td>false</td><td>false</td><td>false</td><td>true</td><td>false</td><td>false</td><td>false</td><td>false</td><td>false</td><td>false</td><td>true</td><td>false</td><td>false</td><td>false</td><td>false</td><td>false</td><td>false</td><td>false</td><td>false</td><td>false</td><td>false</td><td>false</td><td>false</td><td>false</td><td>false</td><td>false</td><td>false</td><td>false</td><td>false</td><td>false</td><td>true</td><td>false</td></tr><tr><td>false</td><td>false</td><td>false</td><td>false</td><td>false</td><td>false</td><td>false</td><td>false</td><td>false</td><td>false</td><td>false</td><td>false</td><td>true</td><td>false</td><td>false</td><td>false</td><td>false</td><td>false</td><td>false</td><td>false</td><td>false</td><td>false</td><td>false</td><td>false</td><td>false</td><td>false</td><td>false</td><td>false</td><td>false</td><td>false</td><td>false</td><td>false</td><td>false</td><td>false</td><td>false</td><td>false</td><td>false</td><td>&hellip;</td><td>false</td><td>false</td><td>false</td><td>false</td><td>false</td><td>false</td><td>false</td><td>false</td><td>false</td><td>false</td><td>false</td><td>true</td><td>false</td><td>false</td><td>false</td><td>false</td><td>false</td><td>false</td><td>false</td><td>false</td><td>false</td><td>false</td><td>false</td><td>false</td><td>false</td><td>false</td><td>false</td><td>false</td><td>false</td><td>false</td><td>false</td><td>false</td><td>false</td><td>false</td><td>true</td><td>false</td><td>false</td></tr><tr><td>&hellip;</td><td>&hellip;</td><td>&hellip;</td><td>&hellip;</td><td>&hellip;</td><td>&hellip;</td><td>&hellip;</td><td>&hellip;</td><td>&hellip;</td><td>&hellip;</td><td>&hellip;</td><td>&hellip;</td><td>&hellip;</td><td>&hellip;</td><td>&hellip;</td><td>&hellip;</td><td>&hellip;</td><td>&hellip;</td><td>&hellip;</td><td>&hellip;</td><td>&hellip;</td><td>&hellip;</td><td>&hellip;</td><td>&hellip;</td><td>&hellip;</td><td>&hellip;</td><td>&hellip;</td><td>&hellip;</td><td>&hellip;</td><td>&hellip;</td><td>&hellip;</td><td>&hellip;</td><td>&hellip;</td><td>&hellip;</td><td>&hellip;</td><td>&hellip;</td><td>&hellip;</td><td>&hellip;</td><td>&hellip;</td><td>&hellip;</td><td>&hellip;</td><td>&hellip;</td><td>&hellip;</td><td>&hellip;</td><td>&hellip;</td><td>&hellip;</td><td>&hellip;</td><td>&hellip;</td><td>&hellip;</td><td>&hellip;</td><td>&hellip;</td><td>&hellip;</td><td>&hellip;</td><td>&hellip;</td><td>&hellip;</td><td>&hellip;</td><td>&hellip;</td><td>&hellip;</td><td>&hellip;</td><td>&hellip;</td><td>&hellip;</td><td>&hellip;</td><td>&hellip;</td><td>&hellip;</td><td>&hellip;</td><td>&hellip;</td><td>&hellip;</td><td>&hellip;</td><td>&hellip;</td><td>&hellip;</td><td>&hellip;</td><td>&hellip;</td><td>&hellip;</td><td>&hellip;</td><td>&hellip;</td></tr><tr><td>false</td><td>false</td><td>false</td><td>false</td><td>false</td><td>false</td><td>false</td><td>false</td><td>true</td><td>false</td><td>true</td><td>false</td><td>false</td><td>true</td><td>false</td><td>true</td><td>false</td><td>false</td><td>false</td><td>false</td><td>true</td><td>true</td><td>false</td><td>false</td><td>false</td><td>false</td><td>false</td><td>false</td><td>false</td><td>false</td><td>false</td><td>false</td><td>false</td><td>false</td><td>false</td><td>false</td><td>false</td><td>&hellip;</td><td>false</td><td>false</td><td>false</td><td>true</td><td>false</td><td>false</td><td>false</td><td>false</td><td>true</td><td>false</td><td>false</td><td>false</td><td>false</td><td>false</td><td>false</td><td>false</td><td>false</td><td>false</td><td>false</td><td>false</td><td>false</td><td>false</td><td>false</td><td>false</td><td>false</td><td>false</td><td>true</td><td>false</td><td>false</td><td>false</td><td>false</td><td>false</td><td>false</td><td>false</td><td>true</td><td>true</td><td>false</td></tr><tr><td>false</td><td>false</td><td>false</td><td>false</td><td>false</td><td>false</td><td>false</td><td>false</td><td>false</td><td>false</td><td>false</td><td>true</td><td>false</td><td>false</td><td>false</td><td>false</td><td>false</td><td>false</td><td>false</td><td>false</td><td>false</td><td>false</td><td>false</td><td>false</td><td>false</td><td>false</td><td>false</td><td>false</td><td>false</td><td>false</td><td>false</td><td>false</td><td>false</td><td>false</td><td>false</td><td>false</td><td>false</td><td>&hellip;</td><td>false</td><td>false</td><td>false</td><td>false</td><td>false</td><td>false</td><td>false</td><td>false</td><td>false</td><td>false</td><td>false</td><td>false</td><td>false</td><td>false</td><td>false</td><td>false</td><td>false</td><td>false</td><td>false</td><td>false</td><td>false</td><td>false</td><td>false</td><td>false</td><td>false</td><td>false</td><td>false</td><td>false</td><td>false</td><td>false</td><td>true</td><td>false</td><td>false</td><td>false</td><td>false</td><td>false</td><td>false</td></tr><tr><td>false</td><td>false</td><td>false</td><td>false</td><td>false</td><td>false</td><td>false</td><td>false</td><td>false</td><td>false</td><td>false</td><td>false</td><td>false</td><td>false</td><td>false</td><td>true</td><td>false</td><td>false</td><td>false</td><td>false</td><td>false</td><td>false</td><td>false</td><td>false</td><td>false</td><td>false</td><td>false</td><td>false</td><td>false</td><td>false</td><td>false</td><td>false</td><td>false</td><td>false</td><td>false</td><td>false</td><td>false</td><td>&hellip;</td><td>false</td><td>false</td><td>false</td><td>false</td><td>false</td><td>false</td><td>false</td><td>false</td><td>false</td><td>false</td><td>false</td><td>false</td><td>false</td><td>false</td><td>false</td><td>false</td><td>false</td><td>false</td><td>false</td><td>false</td><td>false</td><td>false</td><td>false</td><td>false</td><td>false</td><td>false</td><td>true</td><td>false</td><td>false</td><td>false</td><td>false</td><td>false</td><td>false</td><td>false</td><td>false</td><td>false</td><td>false</td></tr><tr><td>false</td><td>false</td><td>false</td><td>false</td><td>false</td><td>false</td><td>false</td><td>false</td><td>true</td><td>false</td><td>false</td><td>true</td><td>true</td><td>false</td><td>false</td><td>false</td><td>false</td><td>false</td><td>false</td><td>false</td><td>false</td><td>false</td><td>false</td><td>false</td><td>false</td><td>false</td><td>false</td><td>false</td><td>false</td><td>false</td><td>false</td><td>false</td><td>false</td><td>false</td><td>false</td><td>false</td><td>false</td><td>&hellip;</td><td>false</td><td>false</td><td>false</td><td>false</td><td>false</td><td>false</td><td>false</td><td>false</td><td>false</td><td>false</td><td>false</td><td>false</td><td>false</td><td>false</td><td>false</td><td>false</td><td>false</td><td>false</td><td>false</td><td>false</td><td>false</td><td>false</td><td>false</td><td>false</td><td>false</td><td>false</td><td>false</td><td>false</td><td>false</td><td>false</td><td>false</td><td>false</td><td>false</td><td>false</td><td>false</td><td>false</td><td>false</td></tr><tr><td>false</td><td>false</td><td>false</td><td>false</td><td>false</td><td>false</td><td>false</td><td>false</td><td>false</td><td>true</td><td>false</td><td>false</td><td>false</td><td>false</td><td>false</td><td>false</td><td>false</td><td>false</td><td>false</td><td>false</td><td>false</td><td>false</td><td>false</td><td>false</td><td>false</td><td>false</td><td>true</td><td>false</td><td>false</td><td>false</td><td>true</td><td>false</td><td>false</td><td>false</td><td>false</td><td>false</td><td>false</td><td>&hellip;</td><td>true</td><td>false</td><td>false</td><td>false</td><td>false</td><td>true</td><td>false</td><td>false</td><td>false</td><td>false</td><td>false</td><td>false</td><td>false</td><td>false</td><td>false</td><td>false</td><td>false</td><td>false</td><td>false</td><td>false</td><td>false</td><td>false</td><td>false</td><td>false</td><td>false</td><td>false</td><td>false</td><td>false</td><td>false</td><td>false</td><td>false</td><td>false</td><td>false</td><td>false</td><td>false</td><td>false</td><td>false</td></tr></tbody></table></div>"
      ],
      "text/plain": [
       "shape: (3_898, 167)\n",
       "┌──────────┬──────────┬──────────┬───────────┬───┬───────┬────────────┬────────┬──────────┐\n",
       "│ Instant  ┆ UHT-milk ┆ abrasive ┆ artif.    ┆ … ┆ white ┆ whole milk ┆ yogurt ┆ zwieback │\n",
       "│ food     ┆ ---      ┆ cleaner  ┆ sweetener ┆   ┆ wine  ┆ ---        ┆ ---    ┆ ---      │\n",
       "│ products ┆ bool     ┆ ---      ┆ ---       ┆   ┆ ---   ┆ bool       ┆ bool   ┆ bool     │\n",
       "│ ---      ┆          ┆ bool     ┆ bool      ┆   ┆ bool  ┆            ┆        ┆          │\n",
       "│ bool     ┆          ┆          ┆           ┆   ┆       ┆            ┆        ┆          │\n",
       "╞══════════╪══════════╪══════════╪═══════════╪═══╪═══════╪════════════╪════════╪══════════╡\n",
       "│ false    ┆ false    ┆ false    ┆ false     ┆ … ┆ false ┆ false      ┆ false  ┆ false    │\n",
       "│ false    ┆ false    ┆ false    ┆ false     ┆ … ┆ false ┆ true       ┆ false  ┆ false    │\n",
       "│ false    ┆ false    ┆ false    ┆ false     ┆ … ┆ false ┆ false      ┆ false  ┆ false    │\n",
       "│ false    ┆ false    ┆ false    ┆ false     ┆ … ┆ false ┆ false      ┆ true   ┆ false    │\n",
       "│ false    ┆ false    ┆ false    ┆ false     ┆ … ┆ false ┆ true       ┆ false  ┆ false    │\n",
       "│ …        ┆ …        ┆ …        ┆ …         ┆ … ┆ …     ┆ …          ┆ …      ┆ …        │\n",
       "│ false    ┆ false    ┆ false    ┆ false     ┆ … ┆ false ┆ true       ┆ true   ┆ false    │\n",
       "│ false    ┆ false    ┆ false    ┆ false     ┆ … ┆ false ┆ false      ┆ false  ┆ false    │\n",
       "│ false    ┆ false    ┆ false    ┆ false     ┆ … ┆ false ┆ false      ┆ false  ┆ false    │\n",
       "│ false    ┆ false    ┆ false    ┆ false     ┆ … ┆ false ┆ false      ┆ false  ┆ false    │\n",
       "│ false    ┆ false    ┆ false    ┆ false     ┆ … ┆ false ┆ false      ┆ false  ┆ false    │\n",
       "└──────────┴──────────┴──────────┴───────────┴───┴───────┴────────────┴────────┴──────────┘"
      ]
     },
     "execution_count": 85,
     "metadata": {},
     "output_type": "execute_result"
    }
   ],
   "source": [
    "te = TransactionEncoder()\n",
    "te_ary=te.fit_transform(X=df['itemDescription'])\n",
    "\n",
    "data_items_dumm = pl.DataFrame(te_ary, schema=te.columns_)\n",
    "data_items_dumm"
   ]
  },
  {
   "cell_type": "code",
   "execution_count": 86,
   "metadata": {},
   "outputs": [
    {
     "data": {
      "text/html": [
       "<div><style>\n",
       ".dataframe > thead > tr,\n",
       ".dataframe > tbody > tr {\n",
       "  text-align: right;\n",
       "  white-space: pre-wrap;\n",
       "}\n",
       "</style>\n",
       "<small>shape: (42, 2)</small><table border=\"1\" class=\"dataframe\"><thead><tr><th>support</th><th>itemsets</th></tr><tr><td>f64</td><td>list[str]</td></tr></thead><tbody><tr><td>0.139815</td><td>[&quot;newspapers&quot;]</td></tr><tr><td>0.458184</td><td>[&quot;whole milk&quot;]</td></tr><tr><td>0.376603</td><td>[&quot;other vegetables&quot;]</td></tr><tr><td>0.349666</td><td>[&quot;rolls/buns&quot;]</td></tr><tr><td>0.132376</td><td>[&quot;pork&quot;]</td></tr><tr><td>&hellip;</td><td>&hellip;</td></tr><tr><td>0.15059</td><td>[&quot;whole milk&quot;, &quot;yogurt&quot;]</td></tr><tr><td>0.112365</td><td>[&quot;whole milk&quot;, &quot;bottled water&quot;]</td></tr><tr><td>0.113135</td><td>[&quot;whole milk&quot;, &quot;root vegetables&quot;]</td></tr><tr><td>0.106978</td><td>[&quot;whole milk&quot;, &quot;sausage&quot;]</td></tr><tr><td>0.11647</td><td>[&quot;whole milk&quot;, &quot;tropical fruit&quot;]</td></tr></tbody></table></div>"
      ],
      "text/plain": [
       "shape: (42, 2)\n",
       "┌──────────┬─────────────────────────────────┐\n",
       "│ support  ┆ itemsets                        │\n",
       "│ ---      ┆ ---                             │\n",
       "│ f64      ┆ list[str]                       │\n",
       "╞══════════╪═════════════════════════════════╡\n",
       "│ 0.139815 ┆ [\"newspapers\"]                  │\n",
       "│ 0.458184 ┆ [\"whole milk\"]                  │\n",
       "│ 0.376603 ┆ [\"other vegetables\"]            │\n",
       "│ 0.349666 ┆ [\"rolls/buns\"]                  │\n",
       "│ 0.132376 ┆ [\"pork\"]                        │\n",
       "│ …        ┆ …                               │\n",
       "│ 0.15059  ┆ [\"whole milk\", \"yogurt\"]        │\n",
       "│ 0.112365 ┆ [\"whole milk\", \"bottled water\"… │\n",
       "│ 0.113135 ┆ [\"whole milk\", \"root vegetable… │\n",
       "│ 0.106978 ┆ [\"whole milk\", \"sausage\"]       │\n",
       "│ 0.11647  ┆ [\"whole milk\", \"tropical fruit… │\n",
       "└──────────┴─────────────────────────────────┘"
      ]
     },
     "execution_count": 86,
     "metadata": {},
     "output_type": "execute_result"
    }
   ],
   "source": [
    "frequent_itemsets = fpgrowth_pl(data_items_dumm, min_support=0.1, use_colnames=True)\n",
    "frequent_itemsets"
   ]
  },
  {
   "cell_type": "code",
   "execution_count": 87,
   "metadata": {},
   "outputs": [
    {
     "data": {
      "text/html": [
       "<div><style>\n",
       ".dataframe > thead > tr,\n",
       ".dataframe > tbody > tr {\n",
       "  text-align: right;\n",
       "  white-space: pre-wrap;\n",
       "}\n",
       "</style>\n",
       "<small>shape: (26, 10)</small><table border=\"1\" class=\"dataframe\"><thead><tr><th>antecedents</th><th>consequents</th><th>antecedent support</th><th>consequent support</th><th>support</th><th>confidence</th><th>lift</th><th>leverage</th><th>conviction</th><th>zhangs_metric</th></tr><tr><td>list[str]</td><td>list[str]</td><td>f64</td><td>f64</td><td>f64</td><td>f64</td><td>f64</td><td>f64</td><td>f64</td><td>f64</td></tr></thead><tbody><tr><td>[&quot;whole milk&quot;]</td><td>[&quot;other vegetables&quot;]</td><td>0.458184</td><td>0.376603</td><td>0.19138</td><td>0.417693</td><td>1.109106</td><td>0.018827</td><td>1.070564</td><td>0.181562</td></tr><tr><td>[&quot;other vegetables&quot;]</td><td>[&quot;whole milk&quot;]</td><td>0.376603</td><td>0.458184</td><td>0.19138</td><td>0.508174</td><td>1.109106</td><td>0.018827</td><td>1.101643</td><td>0.157802</td></tr><tr><td>[&quot;whole milk&quot;]</td><td>[&quot;rolls/buns&quot;]</td><td>0.458184</td><td>0.349666</td><td>0.178553</td><td>0.389698</td><td>1.114484</td><td>0.018342</td><td>1.065592</td><td>0.189591</td></tr><tr><td>[&quot;rolls/buns&quot;]</td><td>[&quot;whole milk&quot;]</td><td>0.349666</td><td>0.458184</td><td>0.178553</td><td>0.510638</td><td>1.114484</td><td>0.018342</td><td>1.10719</td><td>0.157955</td></tr><tr><td>[&quot;other vegetables&quot;]</td><td>[&quot;rolls/buns&quot;]</td><td>0.376603</td><td>0.349666</td><td>0.146742</td><td>0.389646</td><td>1.114335</td><td>0.015056</td><td>1.065502</td><td>0.164589</td></tr><tr><td>&hellip;</td><td>&hellip;</td><td>&hellip;</td><td>&hellip;</td><td>&hellip;</td><td>&hellip;</td><td>&hellip;</td><td>&hellip;</td><td>&hellip;</td><td>&hellip;</td></tr><tr><td>[&quot;root vegetables&quot;]</td><td>[&quot;whole milk&quot;]</td><td>0.230631</td><td>0.458184</td><td>0.113135</td><td>0.490545</td><td>1.07063</td><td>0.007464</td><td>1.063522</td><td>0.085746</td></tr><tr><td>[&quot;whole milk&quot;]</td><td>[&quot;sausage&quot;]</td><td>0.458184</td><td>0.206003</td><td>0.106978</td><td>0.233483</td><td>1.133394</td><td>0.012591</td><td>1.03585</td><td>0.217222</td></tr><tr><td>[&quot;sausage&quot;]</td><td>[&quot;whole milk&quot;]</td><td>0.206003</td><td>0.458184</td><td>0.106978</td><td>0.519303</td><td>1.133394</td><td>0.012591</td><td>1.127146</td><td>0.14823</td></tr><tr><td>[&quot;whole milk&quot;]</td><td>[&quot;tropical fruit&quot;]</td><td>0.458184</td><td>0.23371</td><td>0.11647</td><td>0.254199</td><td>1.087672</td><td>0.009388</td><td>1.027473</td><td>0.148768</td></tr><tr><td>[&quot;tropical fruit&quot;]</td><td>[&quot;whole milk&quot;]</td><td>0.23371</td><td>0.458184</td><td>0.11647</td><td>0.498353</td><td>1.087672</td><td>0.009388</td><td>1.080076</td><td>0.105189</td></tr></tbody></table></div>"
      ],
      "text/plain": [
       "shape: (26, 10)\n",
       "┌────────────┬───────────┬───────────┬───────────┬───┬──────────┬──────────┬───────────┬───────────┐\n",
       "│ antecedent ┆ consequen ┆ anteceden ┆ consequen ┆ … ┆ lift     ┆ leverage ┆ convictio ┆ zhangs_me │\n",
       "│ s          ┆ ts        ┆ t support ┆ t support ┆   ┆ ---      ┆ ---      ┆ n         ┆ tric      │\n",
       "│ ---        ┆ ---       ┆ ---       ┆ ---       ┆   ┆ f64      ┆ f64      ┆ ---       ┆ ---       │\n",
       "│ list[str]  ┆ list[str] ┆ f64       ┆ f64       ┆   ┆          ┆          ┆ f64       ┆ f64       │\n",
       "╞════════════╪═══════════╪═══════════╪═══════════╪═══╪══════════╪══════════╪═══════════╪═══════════╡\n",
       "│ [\"whole    ┆ [\"other   ┆ 0.458184  ┆ 0.376603  ┆ … ┆ 1.109106 ┆ 0.018827 ┆ 1.070564  ┆ 0.181562  │\n",
       "│ milk\"]     ┆ vegetable ┆           ┆           ┆   ┆          ┆          ┆           ┆           │\n",
       "│            ┆ s\"]       ┆           ┆           ┆   ┆          ┆          ┆           ┆           │\n",
       "│ [\"other    ┆ [\"whole   ┆ 0.376603  ┆ 0.458184  ┆ … ┆ 1.109106 ┆ 0.018827 ┆ 1.101643  ┆ 0.157802  │\n",
       "│ vegetables ┆ milk\"]    ┆           ┆           ┆   ┆          ┆          ┆           ┆           │\n",
       "│ \"]         ┆           ┆           ┆           ┆   ┆          ┆          ┆           ┆           │\n",
       "│ [\"whole    ┆ [\"rolls/b ┆ 0.458184  ┆ 0.349666  ┆ … ┆ 1.114484 ┆ 0.018342 ┆ 1.065592  ┆ 0.189591  │\n",
       "│ milk\"]     ┆ uns\"]     ┆           ┆           ┆   ┆          ┆          ┆           ┆           │\n",
       "│ [\"rolls/bu ┆ [\"whole   ┆ 0.349666  ┆ 0.458184  ┆ … ┆ 1.114484 ┆ 0.018342 ┆ 1.10719   ┆ 0.157955  │\n",
       "│ ns\"]       ┆ milk\"]    ┆           ┆           ┆   ┆          ┆          ┆           ┆           │\n",
       "│ [\"other    ┆ [\"rolls/b ┆ 0.376603  ┆ 0.349666  ┆ … ┆ 1.114335 ┆ 0.015056 ┆ 1.065502  ┆ 0.164589  │\n",
       "│ vegetables ┆ uns\"]     ┆           ┆           ┆   ┆          ┆          ┆           ┆           │\n",
       "│ \"]         ┆           ┆           ┆           ┆   ┆          ┆          ┆           ┆           │\n",
       "│ …          ┆ …         ┆ …         ┆ …         ┆ … ┆ …        ┆ …        ┆ …         ┆ …         │\n",
       "│ [\"root veg ┆ [\"whole   ┆ 0.230631  ┆ 0.458184  ┆ … ┆ 1.07063  ┆ 0.007464 ┆ 1.063522  ┆ 0.085746  │\n",
       "│ etables\"]  ┆ milk\"]    ┆           ┆           ┆   ┆          ┆          ┆           ┆           │\n",
       "│ [\"whole    ┆ [\"sausage ┆ 0.458184  ┆ 0.206003  ┆ … ┆ 1.133394 ┆ 0.012591 ┆ 1.03585   ┆ 0.217222  │\n",
       "│ milk\"]     ┆ \"]        ┆           ┆           ┆   ┆          ┆          ┆           ┆           │\n",
       "│ [\"sausage\" ┆ [\"whole   ┆ 0.206003  ┆ 0.458184  ┆ … ┆ 1.133394 ┆ 0.012591 ┆ 1.127146  ┆ 0.14823   │\n",
       "│ ]          ┆ milk\"]    ┆           ┆           ┆   ┆          ┆          ┆           ┆           │\n",
       "│ [\"whole    ┆ [\"tropica ┆ 0.458184  ┆ 0.23371   ┆ … ┆ 1.087672 ┆ 0.009388 ┆ 1.027473  ┆ 0.148768  │\n",
       "│ milk\"]     ┆ l fruit\"] ┆           ┆           ┆   ┆          ┆          ┆           ┆           │\n",
       "│ [\"tropical ┆ [\"whole   ┆ 0.23371   ┆ 0.458184  ┆ … ┆ 1.087672 ┆ 0.009388 ┆ 1.080076  ┆ 0.105189  │\n",
       "│ fruit\"]    ┆ milk\"]    ┆           ┆           ┆   ┆          ┆          ┆           ┆           │\n",
       "└────────────┴───────────┴───────────┴───────────┴───┴──────────┴──────────┴───────────┴───────────┘"
      ]
     },
     "execution_count": 87,
     "metadata": {},
     "output_type": "execute_result"
    }
   ],
   "source": [
    "association_rules_df = association_rules_pl(frequent_itemsets, metric='lift', min_threshold=1)\n",
    "association_rules_df"
   ]
  }
 ],
 "metadata": {
  "kernelspec": {
   "display_name": "venv",
   "language": "python",
   "name": "python3"
  },
  "language_info": {
   "codemirror_mode": {
    "name": "ipython",
    "version": 3
   },
   "file_extension": ".py",
   "mimetype": "text/x-python",
   "name": "python",
   "nbconvert_exporter": "python",
   "pygments_lexer": "ipython3",
   "version": "3.12.5"
  }
 },
 "nbformat": 4,
 "nbformat_minor": 2
}
